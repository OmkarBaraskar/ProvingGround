{
 "cells": [
  {
   "cell_type": "code",
   "execution_count": 1,
   "metadata": {},
   "outputs": [],
   "source": [
    "interp.repositories() ++= Seq(\n",
    "\tcoursier.MavenRepository(\"https://dl.bintray.com/cibotech/public\")\n",
    ")\n"
   ]
  },
  {
   "cell_type": "code",
   "execution_count": 2,
   "metadata": {},
   "outputs": [
    {
     "data": {
      "text/plain": [
       "\u001b[32mimport \u001b[39m\u001b[36m$ivy.$                              \u001b[39m"
      ]
     },
     "execution_count": 2,
     "metadata": {},
     "output_type": "execute_result"
    }
   ],
   "source": [
    "import $ivy.`com.cibo::evilplot-repl:0.6.3`"
   ]
  },
  {
   "cell_type": "code",
   "execution_count": 3,
   "metadata": {},
   "outputs": [
    {
     "data": {
      "text/plain": [
       "\u001b[32mimport \u001b[39m\u001b[36mcom.cibo.evilplot._\n",
       "\u001b[39m\n",
       "\u001b[32mimport \u001b[39m\u001b[36mcom.cibo.evilplot.plot._\n",
       "\u001b[39m\n",
       "\u001b[32mimport \u001b[39m\u001b[36mcom.cibo.evilplot.plot.aesthetics.DefaultTheme._\n",
       "\u001b[39m\n",
       "\u001b[32mimport \u001b[39m\u001b[36mcom.cibo.evilplot.numeric.Point\n",
       "\n",
       "\u001b[39m\n",
       "\u001b[36mdata\u001b[39m: \u001b[32mSeq\u001b[39m[\u001b[32mPoint\u001b[39m] = \u001b[33mList\u001b[39m(\n",
       "  \u001b[33mPoint\u001b[39m(\u001b[32m0.0\u001b[39m, \u001b[32m0.948059591436106\u001b[39m),\n",
       "  \u001b[33mPoint\u001b[39m(\u001b[32m1.0\u001b[39m, \u001b[32m0.13506686216641273\u001b[39m),\n",
       "  \u001b[33mPoint\u001b[39m(\u001b[32m2.0\u001b[39m, \u001b[32m0.8602813662216144\u001b[39m),\n",
       "  \u001b[33mPoint\u001b[39m(\u001b[32m3.0\u001b[39m, \u001b[32m0.2226796191105812\u001b[39m),\n",
       "  \u001b[33mPoint\u001b[39m(\u001b[32m4.0\u001b[39m, \u001b[32m0.023300045937770686\u001b[39m),\n",
       "  \u001b[33mPoint\u001b[39m(\u001b[32m5.0\u001b[39m, \u001b[32m0.6393405537319419\u001b[39m),\n",
       "  \u001b[33mPoint\u001b[39m(\u001b[32m6.0\u001b[39m, \u001b[32m0.15934293449967618\u001b[39m),\n",
       "  \u001b[33mPoint\u001b[39m(\u001b[32m7.0\u001b[39m, \u001b[32m0.11741542923997617\u001b[39m),\n",
       "  \u001b[33mPoint\u001b[39m(\u001b[32m8.0\u001b[39m, \u001b[32m0.6500156992965335\u001b[39m),\n",
       "  \u001b[33mPoint\u001b[39m(\u001b[32m9.0\u001b[39m, \u001b[32m0.03907443440410785\u001b[39m),\n",
       "  \u001b[33mPoint\u001b[39m(\u001b[32m10.0\u001b[39m, \u001b[32m0.23775005702826668\u001b[39m),\n",
       "  \u001b[33mPoint\u001b[39m(\u001b[32m11.0\u001b[39m, \u001b[32m0.2066315056237502\u001b[39m),\n",
       "  \u001b[33mPoint\u001b[39m(\u001b[32m12.0\u001b[39m, \u001b[32m0.2520088991070024\u001b[39m),\n",
       "  \u001b[33mPoint\u001b[39m(\u001b[32m13.0\u001b[39m, \u001b[32m0.18510541195600416\u001b[39m),\n",
       "  \u001b[33mPoint\u001b[39m(\u001b[32m14.0\u001b[39m, \u001b[32m0.6493077503092222\u001b[39m),\n",
       "  \u001b[33mPoint\u001b[39m(\u001b[32m15.0\u001b[39m, \u001b[32m0.059033631915200946\u001b[39m),\n",
       "  \u001b[33mPoint\u001b[39m(\u001b[32m16.0\u001b[39m, \u001b[32m0.3815792273412483\u001b[39m),\n",
       "  \u001b[33mPoint\u001b[39m(\u001b[32m17.0\u001b[39m, \u001b[32m0.31694351615893546\u001b[39m),\n",
       "  \u001b[33mPoint\u001b[39m(\u001b[32m18.0\u001b[39m, \u001b[32m0.8143809281473917\u001b[39m),\n",
       "  \u001b[33mPoint\u001b[39m(\u001b[32m19.0\u001b[39m, \u001b[32m0.16267312387591681\u001b[39m),\n",
       "  \u001b[33mPoint\u001b[39m(\u001b[32m20.0\u001b[39m, \u001b[32m0.04340455555854661\u001b[39m),\n",
       "  \u001b[33mPoint\u001b[39m(\u001b[32m21.0\u001b[39m, \u001b[32m0.8929787666234658\u001b[39m),\n",
       "  \u001b[33mPoint\u001b[39m(\u001b[32m22.0\u001b[39m, \u001b[32m0.7087851810182718\u001b[39m),\n",
       "  \u001b[33mPoint\u001b[39m(\u001b[32m23.0\u001b[39m, \u001b[32m0.5062300469852855\u001b[39m),\n",
       "  \u001b[33mPoint\u001b[39m(\u001b[32m24.0\u001b[39m, \u001b[32m0.0015619606702604871\u001b[39m),\n",
       "  \u001b[33mPoint\u001b[39m(\u001b[32m25.0\u001b[39m, \u001b[32m0.4887661354442323\u001b[39m),\n",
       "  \u001b[33mPoint\u001b[39m(\u001b[32m26.0\u001b[39m, \u001b[32m0.9806569924130648\u001b[39m),\n",
       "  \u001b[33mPoint\u001b[39m(\u001b[32m27.0\u001b[39m, \u001b[32m0.7255818691772538\u001b[39m),\n",
       "  \u001b[33mPoint\u001b[39m(\u001b[32m28.0\u001b[39m, \u001b[32m0.5728928994321928\u001b[39m),\n",
       "  \u001b[33mPoint\u001b[39m(\u001b[32m29.0\u001b[39m, \u001b[32m0.802969841804271\u001b[39m),\n",
       "  \u001b[33mPoint\u001b[39m(\u001b[32m30.0\u001b[39m, \u001b[32m0.9794646677188144\u001b[39m),\n",
       "  \u001b[33mPoint\u001b[39m(\u001b[32m31.0\u001b[39m, \u001b[32m0.10572764904844745\u001b[39m),\n",
       "  \u001b[33mPoint\u001b[39m(\u001b[32m32.0\u001b[39m, \u001b[32m0.9421438036915908\u001b[39m),\n",
       "  \u001b[33mPoint\u001b[39m(\u001b[32m33.0\u001b[39m, \u001b[32m0.19433728315679843\u001b[39m),\n",
       "  \u001b[33mPoint\u001b[39m(\u001b[32m34.0\u001b[39m, \u001b[32m0.9791733272720156\u001b[39m),\n",
       "  \u001b[33mPoint\u001b[39m(\u001b[32m35.0\u001b[39m, \u001b[32m0.0025509301303194842\u001b[39m),\n",
       "  \u001b[33mPoint\u001b[39m(\u001b[32m36.0\u001b[39m, \u001b[32m0.3477893540468836\u001b[39m),\n",
       "  \u001b[33mPoint\u001b[39m(\u001b[32m37.0\u001b[39m, \u001b[32m0.5881122195367782\u001b[39m),\n",
       "..."
      ]
     },
     "execution_count": 3,
     "metadata": {},
     "output_type": "execute_result"
    }
   ],
   "source": [
    "import com.cibo.evilplot._\n",
    "import com.cibo.evilplot.plot._\n",
    "import com.cibo.evilplot.plot.aesthetics.DefaultTheme._\n",
    "import com.cibo.evilplot.numeric.Point\n",
    "\n",
    "val data = Seq.tabulate(100) { i =>\n",
    "  Point(i.toDouble, scala.util.Random.nextDouble())\n",
    "}\n",
    "displayPlot(ScatterPlot(data).render())"
   ]
  },
  {
   "cell_type": "code",
   "execution_count": 4,
   "metadata": {},
   "outputs": [
    {
     "data": {
      "text/plain": [
       "\u001b[36mres3\u001b[39m: \u001b[32mPlot\u001b[39m = \u001b[33mPlot\u001b[39m(\n",
       "  \u001b[33mBounds\u001b[39m(\u001b[32m0.0\u001b[39m, \u001b[32m99.0\u001b[39m),\n",
       "  \u001b[33mBounds\u001b[39m(\u001b[32m0.0015619606702604871\u001b[39m, \u001b[32m0.9952759775006323\u001b[39m),\n",
       "  \u001b[33mScatterPlotRenderer\u001b[39m(\n",
       "    \u001b[33mList\u001b[39m(\n",
       "      \u001b[33mPoint\u001b[39m(\u001b[32m0.0\u001b[39m, \u001b[32m0.948059591436106\u001b[39m),\n",
       "      \u001b[33mPoint\u001b[39m(\u001b[32m1.0\u001b[39m, \u001b[32m0.13506686216641273\u001b[39m),\n",
       "      \u001b[33mPoint\u001b[39m(\u001b[32m2.0\u001b[39m, \u001b[32m0.8602813662216144\u001b[39m),\n",
       "      \u001b[33mPoint\u001b[39m(\u001b[32m3.0\u001b[39m, \u001b[32m0.2226796191105812\u001b[39m),\n",
       "      \u001b[33mPoint\u001b[39m(\u001b[32m4.0\u001b[39m, \u001b[32m0.023300045937770686\u001b[39m),\n",
       "      \u001b[33mPoint\u001b[39m(\u001b[32m5.0\u001b[39m, \u001b[32m0.6393405537319419\u001b[39m),\n",
       "      \u001b[33mPoint\u001b[39m(\u001b[32m6.0\u001b[39m, \u001b[32m0.15934293449967618\u001b[39m),\n",
       "      \u001b[33mPoint\u001b[39m(\u001b[32m7.0\u001b[39m, \u001b[32m0.11741542923997617\u001b[39m),\n",
       "      \u001b[33mPoint\u001b[39m(\u001b[32m8.0\u001b[39m, \u001b[32m0.6500156992965335\u001b[39m),\n",
       "      \u001b[33mPoint\u001b[39m(\u001b[32m9.0\u001b[39m, \u001b[32m0.03907443440410785\u001b[39m),\n",
       "      \u001b[33mPoint\u001b[39m(\u001b[32m10.0\u001b[39m, \u001b[32m0.23775005702826668\u001b[39m),\n",
       "      \u001b[33mPoint\u001b[39m(\u001b[32m11.0\u001b[39m, \u001b[32m0.2066315056237502\u001b[39m),\n",
       "      \u001b[33mPoint\u001b[39m(\u001b[32m12.0\u001b[39m, \u001b[32m0.2520088991070024\u001b[39m),\n",
       "      \u001b[33mPoint\u001b[39m(\u001b[32m13.0\u001b[39m, \u001b[32m0.18510541195600416\u001b[39m),\n",
       "      \u001b[33mPoint\u001b[39m(\u001b[32m14.0\u001b[39m, \u001b[32m0.6493077503092222\u001b[39m),\n",
       "      \u001b[33mPoint\u001b[39m(\u001b[32m15.0\u001b[39m, \u001b[32m0.059033631915200946\u001b[39m),\n",
       "      \u001b[33mPoint\u001b[39m(\u001b[32m16.0\u001b[39m, \u001b[32m0.3815792273412483\u001b[39m),\n",
       "      \u001b[33mPoint\u001b[39m(\u001b[32m17.0\u001b[39m, \u001b[32m0.31694351615893546\u001b[39m),\n",
       "      \u001b[33mPoint\u001b[39m(\u001b[32m18.0\u001b[39m, \u001b[32m0.8143809281473917\u001b[39m),\n",
       "      \u001b[33mPoint\u001b[39m(\u001b[32m19.0\u001b[39m, \u001b[32m0.16267312387591681\u001b[39m),\n",
       "      \u001b[33mPoint\u001b[39m(\u001b[32m20.0\u001b[39m, \u001b[32m0.04340455555854661\u001b[39m),\n",
       "      \u001b[33mPoint\u001b[39m(\u001b[32m21.0\u001b[39m, \u001b[32m0.8929787666234658\u001b[39m),\n",
       "      \u001b[33mPoint\u001b[39m(\u001b[32m22.0\u001b[39m, \u001b[32m0.7087851810182718\u001b[39m),\n",
       "      \u001b[33mPoint\u001b[39m(\u001b[32m23.0\u001b[39m, \u001b[32m0.5062300469852855\u001b[39m),\n",
       "      \u001b[33mPoint\u001b[39m(\u001b[32m24.0\u001b[39m, \u001b[32m0.0015619606702604871\u001b[39m),\n",
       "      \u001b[33mPoint\u001b[39m(\u001b[32m25.0\u001b[39m, \u001b[32m0.4887661354442323\u001b[39m),\n",
       "      \u001b[33mPoint\u001b[39m(\u001b[32m26.0\u001b[39m, \u001b[32m0.9806569924130648\u001b[39m),\n",
       "      \u001b[33mPoint\u001b[39m(\u001b[32m27.0\u001b[39m, \u001b[32m0.7255818691772538\u001b[39m),\n",
       "      \u001b[33mPoint\u001b[39m(\u001b[32m28.0\u001b[39m, \u001b[32m0.5728928994321928\u001b[39m),\n",
       "      \u001b[33mPoint\u001b[39m(\u001b[32m29.0\u001b[39m, \u001b[32m0.802969841804271\u001b[39m),\n",
       "      \u001b[33mPoint\u001b[39m(\u001b[32m30.0\u001b[39m, \u001b[32m0.9794646677188144\u001b[39m),\n",
       "      \u001b[33mPoint\u001b[39m(\u001b[32m31.0\u001b[39m, \u001b[32m0.10572764904844745\u001b[39m),\n",
       "      \u001b[33mPoint\u001b[39m(\u001b[32m32.0\u001b[39m, \u001b[32m0.9421438036915908\u001b[39m),\n",
       "      \u001b[33mPoint\u001b[39m(\u001b[32m33.0\u001b[39m, \u001b[32m0.19433728315679843\u001b[39m),\n",
       "..."
      ]
     },
     "execution_count": 4,
     "metadata": {},
     "output_type": "execute_result"
    }
   ],
   "source": [
    "ScatterPlot(data)"
   ]
  },
  {
   "cell_type": "code",
   "execution_count": 5,
   "metadata": {},
   "outputs": [
    {
     "data": {
      "text/plain": [
       "\u001b[36mres4\u001b[39m: \u001b[32mgeometry\u001b[39m.\u001b[32mDrawable\u001b[39m = \u001b[33mResize\u001b[39m(\n",
       "  \u001b[33mGroup\u001b[39m(\n",
       "    \u001b[33mVector\u001b[39m(\n",
       "      \u001b[33mTranslate\u001b[39m(\n",
       "        \u001b[33mStyle\u001b[39m(\u001b[33mTranslate\u001b[39m(\u001b[33mDisc\u001b[39m(\u001b[32m4.0\u001b[39m), \u001b[32m-4.0\u001b[39m, \u001b[32m-4.0\u001b[39m), \u001b[33mHSLA\u001b[39m(\u001b[32m0.0\u001b[39m, \u001b[32m0.0\u001b[39m, \u001b[32m12.0\u001b[39m, \u001b[32m1.0\u001b[39m)),\n",
       "        \u001b[32m0.0\u001b[39m,\n",
       "        \u001b[32m28.509038977913292\u001b[39m\n",
       "      ),\n",
       "      \u001b[33mTranslate\u001b[39m(\n",
       "        \u001b[33mStyle\u001b[39m(\u001b[33mTranslate\u001b[39m(\u001b[33mDisc\u001b[39m(\u001b[32m4.0\u001b[39m), \u001b[32m-4.0\u001b[39m, \u001b[32m-4.0\u001b[39m), \u001b[33mHSLA\u001b[39m(\u001b[32m0.0\u001b[39m, \u001b[32m0.0\u001b[39m, \u001b[32m12.0\u001b[39m, \u001b[32m1.0\u001b[39m)),\n",
       "        \u001b[32m8.080808080808081\u001b[39m,\n",
       "        \u001b[32m519.390348187707\u001b[39m\n",
       "      ),\n",
       "      \u001b[33mTranslate\u001b[39m(\n",
       "        \u001b[33mStyle\u001b[39m(\u001b[33mTranslate\u001b[39m(\u001b[33mDisc\u001b[39m(\u001b[32m4.0\u001b[39m), \u001b[32m-4.0\u001b[39m, \u001b[32m-4.0\u001b[39m), \u001b[33mHSLA\u001b[39m(\u001b[32m0.0\u001b[39m, \u001b[32m0.0\u001b[39m, \u001b[32m12.0\u001b[39m, \u001b[32m1.0\u001b[39m)),\n",
       "        \u001b[32m16.161616161616163\u001b[39m,\n",
       "        \u001b[32m81.50913179806435\u001b[39m\n",
       "      ),\n",
       "      \u001b[33mTranslate\u001b[39m(\n",
       "        \u001b[33mStyle\u001b[39m(\u001b[33mTranslate\u001b[39m(\u001b[33mDisc\u001b[39m(\u001b[32m4.0\u001b[39m), \u001b[32m-4.0\u001b[39m, \u001b[32m-4.0\u001b[39m), \u001b[33mHSLA\u001b[39m(\u001b[32m0.0\u001b[39m, \u001b[32m0.0\u001b[39m, \u001b[32m12.0\u001b[39m, \u001b[32m1.0\u001b[39m)),\n",
       "        \u001b[32m24.242424242424242\u001b[39m,\n",
       "        \u001b[32m466.49016435596934\u001b[39m\n",
       "      ),\n",
       "      \u001b[33mTranslate\u001b[39m(\n",
       "        \u001b[33mStyle\u001b[39m(\u001b[33mTranslate\u001b[39m(\u001b[33mDisc\u001b[39m(\u001b[32m4.0\u001b[39m), \u001b[32m-4.0\u001b[39m, \u001b[32m-4.0\u001b[39m), \u001b[33mHSLA\u001b[39m(\u001b[32m0.0\u001b[39m, \u001b[32m0.0\u001b[39m, \u001b[32m12.0\u001b[39m, \u001b[32m1.0\u001b[39m)),\n",
       "        \u001b[32m32.323232323232325\u001b[39m,\n",
       "        \u001b[32m586.8746430667159\u001b[39m\n",
       "      ),\n",
       "      \u001b[33mTranslate\u001b[39m(\n",
       "        \u001b[33mStyle\u001b[39m(\u001b[33mTranslate\u001b[39m(\u001b[33mDisc\u001b[39m(\u001b[32m4.0\u001b[39m), \u001b[32m-4.0\u001b[39m, \u001b[32m-4.0\u001b[39m), \u001b[33mHSLA\u001b[39m(\u001b[32m0.0\u001b[39m, \u001b[32m0.0\u001b[39m, \u001b[32m12.0\u001b[39m, \u001b[32m1.0\u001b[39m)),\n",
       "        \u001b[32m40.40404040404041\u001b[39m,\n",
       "        \u001b[32m214.91218866209215\u001b[39m\n",
       "      ),\n",
       "      \u001b[33mTranslate\u001b[39m(\n",
       "        \u001b[33mStyle\u001b[39m(\u001b[33mTranslate\u001b[39m(\u001b[33mDisc\u001b[39m(\u001b[32m4.0\u001b[39m), \u001b[32m-4.0\u001b[39m, \u001b[32m-4.0\u001b[39m), \u001b[33mHSLA\u001b[39m(\u001b[32m0.0\u001b[39m, \u001b[32m0.0\u001b[39m, \u001b[32m12.0\u001b[39m, \u001b[32m1.0\u001b[39m)),\n",
       "        \u001b[32m48.484848484848484\u001b[39m,\n",
       "        \u001b[32m504.7325662169768\u001b[39m\n",
       "      ),\n",
       "      \u001b[33mTranslate\u001b[39m(\n",
       "..."
      ]
     },
     "execution_count": 5,
     "metadata": {},
     "output_type": "execute_result"
    }
   ],
   "source": [
    "ScatterPlot(data).render()"
   ]
  },
  {
   "cell_type": "code",
   "execution_count": null,
   "metadata": {},
   "outputs": [],
   "source": []
  }
 ],
 "metadata": {
  "kernelspec": {
   "display_name": "Scala",
   "language": "scala",
   "name": "scala"
  },
  "language_info": {
   "codemirror_mode": "text/x-scala",
   "file_extension": ".scala",
   "mimetype": "text/x-scala",
   "name": "scala",
   "nbconvert_exporter": "script",
   "version": "2.12.8"
  }
 },
 "nbformat": 4,
 "nbformat_minor": 4
}
