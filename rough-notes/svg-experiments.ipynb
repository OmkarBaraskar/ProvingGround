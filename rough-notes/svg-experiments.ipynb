{
 "cells": [
  {
   "cell_type": "code",
   "execution_count": 30,
   "metadata": {
    "collapsed": false
   },
   "outputs": [
    {
     "data": {
      "text/plain": [
       "\u001b[32mimport \u001b[39m\u001b[36malmond.interpreter.api._\n",
       "\u001b[39m\n",
       "\u001b[36mhtml\u001b[39m: \u001b[32mDisplayData\u001b[39m = \u001b[33mDisplayData\u001b[39m(\n",
       "  \u001b[33mMap\u001b[39m(\u001b[32m\"text/html\"\u001b[39m -> \u001b[32m\"<div> Hello World </div>\"\u001b[39m),\n",
       "  \u001b[33mMap\u001b[39m(),\n",
       "  \u001b[32mNone\u001b[39m\n",
       ")"
      ]
     },
     "execution_count": 30,
     "metadata": {},
     "output_type": "execute_result"
    }
   ],
   "source": [
    "import almond.interpreter.api._\n",
    "val html = DisplayData.html(\"<div> Hello World </div>\")"
   ]
  },
  {
   "cell_type": "code",
   "execution_count": 31,
   "metadata": {},
   "outputs": [
    {
     "data": {
      "text/html": [
       "<div> Hello World </div>"
      ]
     },
     "metadata": {},
     "output_type": "display_data"
    }
   ],
   "source": [
    "display(html)"
   ]
  },
  {
   "cell_type": "code",
   "execution_count": 32,
   "metadata": {},
   "outputs": [
    {
     "data": {
      "text/plain": [
       "\u001b[32mimport \u001b[39m\u001b[36mscala.concurrent._\n",
       "\u001b[39m\n",
       "\u001b[36mec\u001b[39m: \u001b[32mExecutionContextExecutor\u001b[39m = scala.concurrent.impl.ExecutionContextImpl@27acfb19"
      ]
     },
     "execution_count": 32,
     "metadata": {},
     "output_type": "execute_result"
    }
   ],
   "source": [
    "import scala.concurrent._\n",
    "implicit val ec = ExecutionContext.global"
   ]
  },
  {
   "cell_type": "code",
   "execution_count": 32,
   "metadata": {},
   "outputs": [
    {
     "name": "stderr",
     "output_type": "stream",
     "text": [
      "cmd32.sc:1: not found: value diplay\n",
      "val res32 = Future(diplay(html))\n",
      "                   ^Compilation Failed"
     ]
    },
    {
     "ename": "",
     "evalue": "",
     "output_type": "error",
     "traceback": [
      "Compilation Failed"
     ]
    }
   ],
   "source": [
    "Future(diplay(html))"
   ]
  },
  {
   "cell_type": "code",
   "execution_count": null,
   "metadata": {},
   "outputs": [],
   "source": []
  },
  {
   "cell_type": "code",
   "execution_count": 3,
   "metadata": {
    "collapsed": false
   },
   "outputs": [
    {
     "data": {
      "text/plain": [
       "\u001b[36msvgText\u001b[39m: \u001b[32mString\u001b[39m = \u001b[32m\"\"\"<svg version=\"1.1\"\n",
       "     baseProfile=\"full\"\n",
       "     width=\"300\" height=\"200\"\n",
       "     xmlns=\"http://www.w3.org/2000/svg\">\n",
       "\n",
       "  <rect width=\"100%\" height=\"100%\" fill=\"red\" />\n",
       "\n",
       "  <circle cx=\"150\" cy=\"100\" r=\"80\" fill=\"green\" />\n",
       "\n",
       "  <text x=\"150\" y=\"125\" font-size=\"60\" text-anchor=\"middle\" fill=\"white\">SVG</text>\n",
       "\n",
       "</svg>\"\"\"\u001b[39m"
      ]
     },
     "execution_count": 3,
     "metadata": {},
     "output_type": "execute_result"
    }
   ],
   "source": [
    "val svgText = \"\"\"<svg version=\"1.1\"\n",
    "     baseProfile=\"full\"\n",
    "     width=\"300\" height=\"200\"\n",
    "     xmlns=\"http://www.w3.org/2000/svg\">\n",
    "\n",
    "  <rect width=\"100%\" height=\"100%\" fill=\"red\" />\n",
    "\n",
    "  <circle cx=\"150\" cy=\"100\" r=\"80\" fill=\"green\" />\n",
    "\n",
    "  <text x=\"150\" y=\"125\" font-size=\"60\" text-anchor=\"middle\" fill=\"white\">SVG</text>\n",
    "\n",
    "</svg>\"\"\""
   ]
  },
  {
   "cell_type": "code",
   "execution_count": 4,
   "metadata": {},
   "outputs": [
    {
     "data": {
      "text/plain": [
       "\u001b[36msvg\u001b[39m: \u001b[32mDisplayData\u001b[39m = \u001b[33mDisplayData\u001b[39m(\n",
       "  \u001b[33mMap\u001b[39m(\n",
       "    \u001b[32m\"image/svg+xml\"\u001b[39m -> \u001b[32m\"\"\"<svg version=\"1.1\"\n",
       "     baseProfile=\"full\"\n",
       "     width=\"300\" height=\"200\"\n",
       "     xmlns=\"http://www.w3.org/2000/svg\">\n",
       "\n",
       "  <rect width=\"100%\" height=\"100%\" fill=\"red\" />\n",
       "\n",
       "  <circle cx=\"150\" cy=\"100\" r=\"80\" fill=\"green\" />\n",
       "\n",
       "  <text x=\"150\" y=\"125\" font-size=\"60\" text-anchor=\"middle\" fill=\"white\">SVG</text>\n",
       "\n",
       "</svg>\"\"\"\u001b[39m\n",
       "  ),\n",
       "  \u001b[33mMap\u001b[39m(),\n",
       "  \u001b[32mNone\u001b[39m\n",
       ")"
      ]
     },
     "execution_count": 4,
     "metadata": {},
     "output_type": "execute_result"
    }
   ],
   "source": [
    "val svg = DisplayData.svg(svgText)"
   ]
  },
  {
   "cell_type": "code",
   "execution_count": 5,
   "metadata": {
    "collapsed": false
   },
   "outputs": [
    {
     "data": {
      "image/svg+xml": [
       "<svg version=\"1.1\"\n",
       "     baseProfile=\"full\"\n",
       "     width=\"300\" height=\"200\"\n",
       "     xmlns=\"http://www.w3.org/2000/svg\">\n",
       "\n",
       "  <rect width=\"100%\" height=\"100%\" fill=\"red\" />\n",
       "\n",
       "  <circle cx=\"150\" cy=\"100\" r=\"80\" fill=\"green\" />\n",
       "\n",
       "  <text x=\"150\" y=\"125\" font-size=\"60\" text-anchor=\"middle\" fill=\"white\">SVG</text>\n",
       "\n",
       "</svg>"
      ]
     },
     "metadata": {},
     "output_type": "display_data"
    }
   ],
   "source": [
    "display(svg)"
   ]
  },
  {
   "cell_type": "code",
   "execution_count": 6,
   "metadata": {
    "collapsed": false
   },
   "outputs": [
    {
     "data": {
      "text/plain": [
       "\u001b[36mlatex\u001b[39m: \u001b[32mDisplayData\u001b[39m = \u001b[33mDisplayData\u001b[39m(\n",
       "  \u001b[33mMap\u001b[39m(\u001b[32m\"text/latex\"\u001b[39m -> \u001b[32m\"x^2 + y^2 = 1\"\u001b[39m),\n",
       "  \u001b[33mMap\u001b[39m(),\n",
       "  \u001b[32mNone\u001b[39m\n",
       ")"
      ]
     },
     "execution_count": 6,
     "metadata": {},
     "output_type": "execute_result"
    }
   ],
   "source": [
    "val latex = DisplayData.latex(\"x^2 + y^2 = 1\")"
   ]
  },
  {
   "cell_type": "code",
   "execution_count": 7,
   "metadata": {},
   "outputs": [
    {
     "data": {
      "text/latex": [
       "x^2 + y^2 = 1"
      ]
     },
     "metadata": {},
     "output_type": "display_data"
    }
   ],
   "source": [
    "display(latex)"
   ]
  },
  {
   "cell_type": "code",
   "execution_count": 8,
   "metadata": {
    "collapsed": false
   },
   "outputs": [
    {
     "name": "stderr",
     "output_type": "stream",
     "text": [
      "Downloading https://repo1.maven.org/maven2/io/github/siddhartha-gadgil/provingground-core-jvm_2.12/0.1.0/provingground-core-jvm_2.12-0.1.0.pom\n",
      "Downloading https://repo1.maven.org/maven2/io/github/siddhartha-gadgil/provingground-core-jvm_2.12/0.1.0/provingground-core-jvm_2.12-0.1.0.pom.sha1\n",
      "Downloaded https://repo1.maven.org/maven2/io/github/siddhartha-gadgil/provingground-core-jvm_2.12/0.1.0/provingground-core-jvm_2.12-0.1.0.pom\n",
      "Downloaded https://repo1.maven.org/maven2/io/github/siddhartha-gadgil/provingground-core-jvm_2.12/0.1.0/provingground-core-jvm_2.12-0.1.0.pom.sha1\n",
      "Downloading https://repo1.maven.org/maven2/io/github/siddhartha-gadgil/provingground-core-jvm_2.12/0.1.0/\n",
      "Downloaded https://repo1.maven.org/maven2/io/github/siddhartha-gadgil/provingground-core-jvm_2.12/0.1.0/\n",
      "Downloading https://repo1.maven.org/maven2/io/github/siddhartha-gadgil/provingground-core-jvm_2.12/0.1.0/provingground-core-jvm_2.12-0.1.0.jar\n",
      "Downloading https://repo1.maven.org/maven2/io/github/siddhartha-gadgil/provingground-core-jvm_2.12/0.1.0/provingground-core-jvm_2.12-0.1.0.jar.sha1\n",
      "Downloaded https://repo1.maven.org/maven2/io/github/siddhartha-gadgil/provingground-core-jvm_2.12/0.1.0/provingground-core-jvm_2.12-0.1.0.jar.sha1\n",
      "https://repo1.maven.org/maven2/io/github/siddhartha-gadgil/provingground-core… \n",
      "\n",
      "https://repo1.maven.org/maven2/io/github/siddhartha-gadgil/pro… (4.69 %, 261582…\n",
      "\n",
      "Downloaded https://repo1.maven.org/maven2/io/github/siddhartha-gadgil/provingground-core-jvm_2.12/0.1.0/provingground-core-jvm_2.12-0.1.0.jar\n",
      "Downloading https://repo1.maven.org/maven2/io/github/siddhartha-gadgil/provingground-core-jvm_2.12/0.1.0/provingground-core-jvm_2.12-0.1.0-sources.jar.sha1\n",
      "Downloading https://repo1.maven.org/maven2/io/github/siddhartha-gadgil/provingground-core-jvm_2.12/0.1.0/provingground-core-jvm_2.12-0.1.0-sources.jar\n",
      "Downloaded https://repo1.maven.org/maven2/io/github/siddhartha-gadgil/provingground-core-jvm_2.12/0.1.0/provingground-core-jvm_2.12-0.1.0-sources.jar.sha1\n",
      "Downloaded https://repo1.maven.org/maven2/io/github/siddhartha-gadgil/provingground-core-jvm_2.12/0.1.0/provingground-core-jvm_2.12-0.1.0-sources.jar\n"
     ]
    },
    {
     "data": {
      "text/plain": [
       "\u001b[32mimport \u001b[39m\u001b[36m$ivy.$                                                          \u001b[39m"
      ]
     },
     "execution_count": 8,
     "metadata": {},
     "output_type": "execute_result"
    }
   ],
   "source": [
    "import $ivy.`io.github.siddhartha-gadgil::provingground-core-jvm:0.1.0`"
   ]
  },
  {
   "cell_type": "code",
   "execution_count": 9,
   "metadata": {
    "collapsed": false
   },
   "outputs": [
    {
     "data": {
      "text/plain": [
       "\u001b[32mimport \u001b[39m\u001b[36mprovingground._, interface._\u001b[39m"
      ]
     },
     "execution_count": 9,
     "metadata": {},
     "output_type": "execute_result"
    }
   ],
   "source": [
    "import provingground._, interface._"
   ]
  },
  {
   "cell_type": "code",
   "execution_count": 10,
   "metadata": {
    "collapsed": false
   },
   "outputs": [
    {
     "data": {
      "text/plain": [
       "\u001b[36mcvs\u001b[39m: \u001b[32mSvgPlot\u001b[39m = provingground.interface.SvgPlot@60d9adde\n",
       "\u001b[36mplot\u001b[39m: \u001b[32mSvgPlot\u001b[39m = provingground.interface.SvgPlot@60d9adde"
      ]
     },
     "execution_count": 10,
     "metadata": {},
     "output_type": "execute_result"
    }
   ],
   "source": [
    "val cvs = new SvgPlot(400, 200)\n",
    "val plot = cvs"
   ]
  },
  {
   "cell_type": "code",
   "execution_count": 11,
   "metadata": {
    "collapsed": false
   },
   "outputs": [
    {
     "data": {
      "text/plain": [
       "\u001b[36max\u001b[39m: \u001b[32mxml\u001b[39m.\u001b[32mElem\u001b[39m = <svg width=\"400\" height=\"200\"><line x1=\"0\" y1=\"100\" x2=\"400\" y2=\"100\" stroke=\"blue\" stroke-width=\"2\"/><line x1=\"200\" y1=\"200\" x2=\"200\" y2=\"0\" stroke=\"blue\" stroke-width=\"2\"/></svg>"
      ]
     },
     "execution_count": 11,
     "metadata": {},
     "output_type": "execute_result"
    }
   ],
   "source": [
    "val ax = cvs.plot(cvs.axes)"
   ]
  },
  {
   "cell_type": "code",
   "execution_count": 12,
   "metadata": {
    "collapsed": false
   },
   "outputs": [
    {
     "data": {
      "text/html": [
       "<svg width=\"400\" height=\"200\"><line x1=\"0\" y1=\"100\" x2=\"400\" y2=\"100\" stroke=\"blue\" stroke-width=\"2\"/><line x1=\"200\" y1=\"200\" x2=\"200\" y2=\"0\" stroke=\"blue\" stroke-width=\"2\"/></svg>"
      ]
     },
     "metadata": {},
     "output_type": "display_data"
    }
   ],
   "source": [
    "display(DisplayData.html(ax.toString))"
   ]
  },
  {
   "cell_type": "code",
   "execution_count": 13,
   "metadata": {
    "collapsed": false
   },
   "outputs": [
    {
     "data": {
      "text/plain": [
       "\u001b[36msvgAx\u001b[39m: \u001b[32mDisplayData\u001b[39m = \u001b[33mDisplayData\u001b[39m(\n",
       "  \u001b[33mMap\u001b[39m(\n",
       "    \u001b[32m\"image/svg+xml\"\u001b[39m -> \u001b[32m\"\"\"<svg version=\"1.1\"\n",
       "     baseProfile=\"full\"\n",
       "     width=\"300\" height=\"200\"\n",
       "     xmlns=\"http://www.w3.org/2000/svg\"><svg width=\"400\" height=\"200\"><line x1=\"0\" y1=\"100\" x2=\"400\" y2=\"100\" stroke=\"blue\" stroke-width=\"2\"/><line x1=\"200\" y1=\"200\" x2=\"200\" y2=\"0\" stroke=\"blue\" stroke-width=\"2\"/></svg></svg>\"\"\"\u001b[39m\n",
       "  ),\n",
       "  \u001b[33mMap\u001b[39m(),\n",
       "  \u001b[32mNone\u001b[39m\n",
       ")"
      ]
     },
     "execution_count": 13,
     "metadata": {},
     "output_type": "execute_result"
    }
   ],
   "source": [
    "val svgAx = DisplayData.svg(s\"\"\"<svg version=\"1.1\"\n",
    "     baseProfile=\"full\"\n",
    "     width=\"300\" height=\"200\"\n",
    "     xmlns=\"http://www.w3.org/2000/svg\">$ax</svg>\"\"\")"
   ]
  },
  {
   "cell_type": "code",
   "execution_count": 14,
   "metadata": {},
   "outputs": [
    {
     "data": {
      "image/svg+xml": [
       "<svg version=\"1.1\"\n",
       "     baseProfile=\"full\"\n",
       "     width=\"300\" height=\"200\"\n",
       "     xmlns=\"http://www.w3.org/2000/svg\"><svg width=\"400\" height=\"200\"><line x1=\"0\" y1=\"100\" x2=\"400\" y2=\"100\" stroke=\"blue\" stroke-width=\"2\"/><line x1=\"200\" y1=\"200\" x2=\"200\" y2=\"0\" stroke=\"blue\" stroke-width=\"2\"/></svg></svg>"
      ]
     },
     "metadata": {},
     "output_type": "display_data"
    }
   ],
   "source": [
    "display(svgAx)"
   ]
  },
  {
   "cell_type": "code",
   "execution_count": 15,
   "metadata": {
    "collapsed": false
   },
   "outputs": [
    {
     "data": {
      "text/plain": [
       "\u001b[36mres14\u001b[39m: \u001b[32mInt\u001b[39m = \u001b[32m100\u001b[39m"
      ]
     },
     "execution_count": 15,
     "metadata": {},
     "output_type": "execute_result"
    }
   ],
   "source": [
    "plot.yval(0)"
   ]
  },
  {
   "cell_type": "code",
   "execution_count": 16,
   "metadata": {
    "collapsed": false
   },
   "outputs": [
    {
     "data": {
      "text/plain": [
       "\u001b[36mres15\u001b[39m: \u001b[32mList\u001b[39m[\u001b[32mxml\u001b[39m.\u001b[32mElem\u001b[39m] = \u001b[33mList\u001b[39m(\n",
       "  <line x1=\"0\" y1=\"100\" x2=\"400\" y2=\"100\" stroke=\"blue\" stroke-width=\"2\"/>,\n",
       "  <line x1=\"200\" y1=\"200\" x2=\"200\" y2=\"0\" stroke=\"blue\" stroke-width=\"2\"/>\n",
       ")"
      ]
     },
     "execution_count": 16,
     "metadata": {},
     "output_type": "execute_result"
    }
   ],
   "source": [
    "plot.axes"
   ]
  },
  {
   "cell_type": "code",
   "execution_count": 17,
   "metadata": {
    "collapsed": false
   },
   "outputs": [
    {
     "data": {
      "text/plain": [
       "\u001b[32mimport \u001b[39m\u001b[36mcvs._\u001b[39m"
      ]
     },
     "execution_count": 17,
     "metadata": {},
     "output_type": "execute_result"
    }
   ],
   "source": [
    "import cvs._"
   ]
  },
  {
   "cell_type": "code",
   "execution_count": 18,
   "metadata": {
    "collapsed": false
   },
   "outputs": [
    {
     "data": {
      "text/plain": [
       "\u001b[36mres17\u001b[39m: \u001b[32mList\u001b[39m[\u001b[32mxml\u001b[39m.\u001b[32mElem\u001b[39m] = \u001b[33mList\u001b[39m(\n",
       "  <line x1=\"0\" y1=\"100\" x2=\"400\" y2=\"100\" stroke=\"blue\" stroke-width=\"2\"/>,\n",
       "  <line x1=\"200\" y1=\"200\" x2=\"200\" y2=\"0\" stroke=\"blue\" stroke-width=\"2\"/>\n",
       ")"
      ]
     },
     "execution_count": 18,
     "metadata": {},
     "output_type": "execute_result"
    }
   ],
   "source": [
    "axes"
   ]
  },
  {
   "cell_type": "code",
   "execution_count": null,
   "metadata": {
    "collapsed": false
   },
   "outputs": [],
   "source": []
  },
  {
   "cell_type": "code",
   "execution_count": 19,
   "metadata": {
    "collapsed": false
   },
   "outputs": [
    {
     "data": {
      "text/plain": [
       "\u001b[36mpl\u001b[39m: \u001b[32mxml\u001b[39m.\u001b[32mElem\u001b[39m = <polyline points=\"200,100 300,0 400,0\"/>"
      ]
     },
     "execution_count": 19,
     "metadata": {},
     "output_type": "execute_result"
    }
   ],
   "source": [
    "val pl = polyline((0, 0), (100, 100), (200, 100))"
   ]
  },
  {
   "cell_type": "code",
   "execution_count": 20,
   "metadata": {
    "collapsed": false
   },
   "outputs": [
    {
     "data": {
      "text/html": [
       "<svg width=\"400\" height=\"200\"><polyline points=\"200,100 300,0 400,0\"/></svg>"
      ]
     },
     "metadata": {},
     "output_type": "display_data"
    }
   ],
   "source": [
    "display(DisplayData.html(plot(pl).toString))"
   ]
  },
  {
   "cell_type": "code",
   "execution_count": 21,
   "metadata": {
    "collapsed": false
   },
   "outputs": [
    {
     "data": {
      "text/plain": [
       "\u001b[36mpoint\u001b[39m: \u001b[32mcollection\u001b[39m.\u001b[32mimmutable\u001b[39m.\u001b[32mIndexedSeq\u001b[39m[(\u001b[32mDouble\u001b[39m, \u001b[32mDouble\u001b[39m)] = \u001b[33mVector\u001b[39m(\n",
       "  (\u001b[32m1.0\u001b[39m, \u001b[32m50.0\u001b[39m),\n",
       "  (\u001b[32m2.0\u001b[39m, \u001b[32m50.0\u001b[39m),\n",
       "  (\u001b[32m3.0\u001b[39m, \u001b[32m50.0\u001b[39m),\n",
       "  (\u001b[32m4.0\u001b[39m, \u001b[32m50.0\u001b[39m),\n",
       "  (\u001b[32m5.0\u001b[39m, \u001b[32m50.0\u001b[39m),\n",
       "  (\u001b[32m6.0\u001b[39m, \u001b[32m50.0\u001b[39m),\n",
       "  (\u001b[32m7.0\u001b[39m, \u001b[32m50.0\u001b[39m),\n",
       "  (\u001b[32m8.0\u001b[39m, \u001b[32m50.0\u001b[39m),\n",
       "  (\u001b[32m9.0\u001b[39m, \u001b[32m50.0\u001b[39m),\n",
       "  (\u001b[32m10.0\u001b[39m, \u001b[32m50.0\u001b[39m),\n",
       "  (\u001b[32m11.0\u001b[39m, \u001b[32m50.0\u001b[39m),\n",
       "  (\u001b[32m12.0\u001b[39m, \u001b[32m50.0\u001b[39m),\n",
       "  (\u001b[32m13.0\u001b[39m, \u001b[32m50.0\u001b[39m),\n",
       "  (\u001b[32m14.0\u001b[39m, \u001b[32m50.0\u001b[39m),\n",
       "  (\u001b[32m15.0\u001b[39m, \u001b[32m50.0\u001b[39m),\n",
       "  (\u001b[32m16.0\u001b[39m, \u001b[32m50.0\u001b[39m),\n",
       "  (\u001b[32m17.0\u001b[39m, \u001b[32m50.0\u001b[39m),\n",
       "  (\u001b[32m18.0\u001b[39m, \u001b[32m50.0\u001b[39m),\n",
       "  (\u001b[32m19.0\u001b[39m, \u001b[32m50.0\u001b[39m),\n",
       "  (\u001b[32m20.0\u001b[39m, \u001b[32m50.0\u001b[39m),\n",
       "  (\u001b[32m21.0\u001b[39m, \u001b[32m50.0\u001b[39m),\n",
       "  (\u001b[32m22.0\u001b[39m, \u001b[32m50.0\u001b[39m),\n",
       "  (\u001b[32m23.0\u001b[39m, \u001b[32m50.0\u001b[39m),\n",
       "  (\u001b[32m24.0\u001b[39m, \u001b[32m50.0\u001b[39m),\n",
       "  (\u001b[32m25.0\u001b[39m, \u001b[32m50.0\u001b[39m),\n",
       "  (\u001b[32m26.0\u001b[39m, \u001b[32m50.0\u001b[39m),\n",
       "  (\u001b[32m27.0\u001b[39m, \u001b[32m50.0\u001b[39m),\n",
       "  (\u001b[32m28.0\u001b[39m, \u001b[32m50.0\u001b[39m),\n",
       "  (\u001b[32m29.0\u001b[39m, \u001b[32m50.0\u001b[39m),\n",
       "  (\u001b[32m30.0\u001b[39m, \u001b[32m50.0\u001b[39m),\n",
       "  (\u001b[32m31.0\u001b[39m, \u001b[32m50.0\u001b[39m),\n",
       "  (\u001b[32m32.0\u001b[39m, \u001b[32m50.0\u001b[39m),\n",
       "  (\u001b[32m33.0\u001b[39m, \u001b[32m50.0\u001b[39m),\n",
       "  (\u001b[32m34.0\u001b[39m, \u001b[32m50.0\u001b[39m),\n",
       "  (\u001b[32m35.0\u001b[39m, \u001b[32m50.0\u001b[39m),\n",
       "  (\u001b[32m36.0\u001b[39m, \u001b[32m50.0\u001b[39m),\n",
       "  (\u001b[32m37.0\u001b[39m, \u001b[32m50.0\u001b[39m),\n",
       "  (\u001b[32m38.0\u001b[39m, \u001b[32m50.0\u001b[39m),\n",
       "..."
      ]
     },
     "execution_count": 21,
     "metadata": {},
     "output_type": "execute_result"
    }
   ],
   "source": [
    "val point = (1 to 100) map ((x) => (x : Double, math.max(x, 50): Double))"
   ]
  },
  {
   "cell_type": "code",
   "execution_count": 22,
   "metadata": {
    "collapsed": false
   },
   "outputs": [
    {
     "data": {
      "text/plain": [
       "\u001b[36mg\u001b[39m: \u001b[32mSeq\u001b[39m[\u001b[32mxml\u001b[39m.\u001b[32mElem\u001b[39m] = \u001b[33mVector\u001b[39m(\n",
       "  <line x1=\"201\" y1=\"50\" x2=\"202\" y2=\"50\" stroke=\"blue\" stroke-width=\"2\"/>,\n",
       "  <line x1=\"202\" y1=\"50\" x2=\"203\" y2=\"50\" stroke=\"blue\" stroke-width=\"2\"/>,\n",
       "  <line x1=\"203\" y1=\"50\" x2=\"204\" y2=\"50\" stroke=\"blue\" stroke-width=\"2\"/>,\n",
       "  <line x1=\"204\" y1=\"50\" x2=\"205\" y2=\"50\" stroke=\"blue\" stroke-width=\"2\"/>,\n",
       "  <line x1=\"205\" y1=\"50\" x2=\"206\" y2=\"50\" stroke=\"blue\" stroke-width=\"2\"/>,\n",
       "  <line x1=\"206\" y1=\"50\" x2=\"207\" y2=\"50\" stroke=\"blue\" stroke-width=\"2\"/>,\n",
       "  <line x1=\"207\" y1=\"50\" x2=\"208\" y2=\"50\" stroke=\"blue\" stroke-width=\"2\"/>,\n",
       "  <line x1=\"208\" y1=\"50\" x2=\"209\" y2=\"50\" stroke=\"blue\" stroke-width=\"2\"/>,\n",
       "  <line x1=\"209\" y1=\"50\" x2=\"210\" y2=\"50\" stroke=\"blue\" stroke-width=\"2\"/>,\n",
       "  <line x1=\"210\" y1=\"50\" x2=\"211\" y2=\"50\" stroke=\"blue\" stroke-width=\"2\"/>,\n",
       "  <line x1=\"211\" y1=\"50\" x2=\"212\" y2=\"50\" stroke=\"blue\" stroke-width=\"2\"/>,\n",
       "  <line x1=\"212\" y1=\"50\" x2=\"213\" y2=\"50\" stroke=\"blue\" stroke-width=\"2\"/>,\n",
       "  <line x1=\"213\" y1=\"50\" x2=\"214\" y2=\"50\" stroke=\"blue\" stroke-width=\"2\"/>,\n",
       "  <line x1=\"214\" y1=\"50\" x2=\"215\" y2=\"50\" stroke=\"blue\" stroke-width=\"2\"/>,\n",
       "  <line x1=\"215\" y1=\"50\" x2=\"216\" y2=\"50\" stroke=\"blue\" stroke-width=\"2\"/>,\n",
       "  <line x1=\"216\" y1=\"50\" x2=\"217\" y2=\"50\" stroke=\"blue\" stroke-width=\"2\"/>,\n",
       "  <line x1=\"217\" y1=\"50\" x2=\"218\" y2=\"50\" stroke=\"blue\" stroke-width=\"2\"/>,\n",
       "  <line x1=\"218\" y1=\"50\" x2=\"219\" y2=\"50\" stroke=\"blue\" stroke-width=\"2\"/>,\n",
       "  <line x1=\"219\" y1=\"50\" x2=\"220\" y2=\"50\" stroke=\"blue\" stroke-width=\"2\"/>,\n",
       "  <line x1=\"220\" y1=\"50\" x2=\"221\" y2=\"50\" stroke=\"blue\" stroke-width=\"2\"/>,\n",
       "  <line x1=\"221\" y1=\"50\" x2=\"222\" y2=\"50\" stroke=\"blue\" stroke-width=\"2\"/>,\n",
       "  <line x1=\"222\" y1=\"50\" x2=\"223\" y2=\"50\" stroke=\"blue\" stroke-width=\"2\"/>,\n",
       "  <line x1=\"223\" y1=\"50\" x2=\"224\" y2=\"50\" stroke=\"blue\" stroke-width=\"2\"/>,\n",
       "  <line x1=\"224\" y1=\"50\" x2=\"225\" y2=\"50\" stroke=\"blue\" stroke-width=\"2\"/>,\n",
       "  <line x1=\"225\" y1=\"50\" x2=\"226\" y2=\"50\" stroke=\"blue\" stroke-width=\"2\"/>,\n",
       "  <line x1=\"226\" y1=\"50\" x2=\"227\" y2=\"50\" stroke=\"blue\" stroke-width=\"2\"/>,\n",
       "  <line x1=\"227\" y1=\"50\" x2=\"228\" y2=\"50\" stroke=\"blue\" stroke-width=\"2\"/>,\n",
       "  <line x1=\"228\" y1=\"50\" x2=\"229\" y2=\"50\" stroke=\"blue\" stroke-width=\"2\"/>,\n",
       "  <line x1=\"229\" y1=\"50\" x2=\"230\" y2=\"50\" stroke=\"blue\" stroke-width=\"2\"/>,\n",
       "  <line x1=\"230\" y1=\"50\" x2=\"231\" y2=\"50\" stroke=\"blue\" stroke-width=\"2\"/>,\n",
       "  <line x1=\"231\" y1=\"50\" x2=\"232\" y2=\"50\" stroke=\"blue\" stroke-width=\"2\"/>,\n",
       "  <line x1=\"232\" y1=\"50\" x2=\"233\" y2=\"50\" stroke=\"blue\" stroke-width=\"2\"/>,\n",
       "  <line x1=\"233\" y1=\"50\" x2=\"234\" y2=\"50\" stroke=\"blue\" stroke-width=\"2\"/>,\n",
       "  <line x1=\"234\" y1=\"50\" x2=\"235\" y2=\"50\" stroke=\"blue\" stroke-width=\"2\"/>,\n",
       "  <line x1=\"235\" y1=\"50\" x2=\"236\" y2=\"50\" stroke=\"blue\" stroke-width=\"2\"/>,\n",
       "  <line x1=\"236\" y1=\"50\" x2=\"237\" y2=\"50\" stroke=\"blue\" stroke-width=\"2\"/>,\n",
       "  <line x1=\"237\" y1=\"50\" x2=\"238\" y2=\"50\" stroke=\"blue\" stroke-width=\"2\"/>,\n",
       "  <line x1=\"238\" y1=\"50\" x2=\"239\" y2=\"50\" stroke=\"blue\" stroke-width=\"2\"/>,\n",
       "..."
      ]
     },
     "execution_count": 22,
     "metadata": {},
     "output_type": "execute_result"
    }
   ],
   "source": [
    "val g = graph(point)"
   ]
  },
  {
   "cell_type": "code",
   "execution_count": 23,
   "metadata": {
    "collapsed": false
   },
   "outputs": [
    {
     "data": {
      "text/plain": [
       "\u001b[36mpg\u001b[39m: \u001b[32mxml\u001b[39m.\u001b[32mElem\u001b[39m = <svg width=\"400\" height=\"200\"><line x1=\"201\" y1=\"50\" x2=\"202\" y2=\"50\" stroke=\"blue\" stroke-width=\"2\"/><line x1=\"202\" y1=\"50\" x2=\"203\" y2=\"50\" stroke=\"blue\" stroke-width=\"2\"/><line x1=\"203\" y1=\"50\" x2=\"204\" y2=\"50\" stroke=\"blue\" stroke-width=\"2\"/><line x1=\"204\" y1=\"50\" x2=\"205\" y2=\"50\" stroke=\"blue\" stroke-width=\"2\"/><line x1=\"205\" y1=\"50\" x2=\"206\" y2=\"50\" stroke=\"blue\" stroke-width=\"2\"/><line x1=\"206\" y1=\"50\" x2=\"207\" y2=\"50\" stroke=\"blue\" stroke-width=\"2\"/><line x1=\"207\" y1=\"50\" x2=\"208\" y2=\"50\" stroke=\"blue\" stroke-width=\"2\"/><line x1=\"208\" y1=\"50\" x2=\"209\" y2=\"50\" stroke=\"blue\" stroke-width=\"2\"/><line x1=\"209\" y1=\"50\" x2=\"210\" y2=\"50\" stroke=\"blue\" stroke-width=\"2\"/><line x1=\"210\" y1=\"50\" x2=\"211\" y2=\"50\" stroke=\"blue\" stroke-width=\"2\"/><line x1=\"211\" y1=\"50\" x2=\"212\" y2=\"50\" stroke=\"blue\" stroke-width=\"2\"/><line x1=\"212\" y1=\"50\" x2=\"213\" y2=\"50\" stroke=\"blue\" stroke-width=\"2\"/><line x1=\"213\" y1=\"50\" x2=\"214\" y2=\"50\" stroke=\"blue\" stroke-width=\"2\"/><line x1=\"214\" y1=\"50\" x2=\"215\" y2=\"50\" stroke=\"blue\" stroke-width=\"2\"/><line x1=\"215\" y1=\"50\" x2=\"216\" y2=\"50\" stroke=\"blue\" stroke-width=\"2\"/><line x1=\"216\" y1=\"50\" x2=\"217\" y2=\"50\" stroke=\"blue\" stroke-width=\"2\"/><line x1=\"217\" y1=\"50\" x2=\"218\" y2=\"50\" stroke=\"blue\" stroke-width=\"2\"/><line x1=\"218\" y1=\"50\" x2=\"219\" y2=\"50\" stroke=\"blue\" stroke-width=\"2\"/><line x1=\"219\" y1=\"50\" x2=\"220\" y2=\"50\" stroke=\"blue\" stroke-width=\"2\"/><line x1=\"220\" y1=\"50\" x2=\"221\" y2=\"50\" stroke=\"blue\" stroke-width=\"2\"/><line x1=\"221\" y1=\"50\" x2=\"222\" y2=\"50\" stroke=\"blue\" stroke-width=\"2\"/><line x1=\"222\" y1=\"50\" x2=\"223\" y2=\"50\" stroke=\"blue\" stroke-width=\"2\"/><line x1=\"223\" y1=\"50\" x2=\"224\" y2=\"50\" stroke=\"blue\" stroke-width=\"2\"/><line x1=\"224\" y1=\"50\" x2=\"225\" y2=\"50\" stroke=\"blue\" stroke-width=\"2\"/><line x1=\"225\" y1=\"50\" x2=\"226\" y2=\"50\" stroke=\"blue\" stroke-width=\"2\"/><line x1=\"226\" y1=\"50\" x2=\"227\" y2=\"50\" stroke=\"blue\" stroke-width=\"2\"/><line x1=\"227\" y1=\"50\" x2=\"228\" y2=\"50\" stroke=\"blue\" stroke-width=\"2\"/><line x1=\"228\" y1=\"50\" x2=\"229\" y2=\"50\" stroke=\"blue\" stroke-width=\"2\"/><line x1=\"229\" y1=\"50\" x2=\"230\" y2=\"50\" stroke=\"blue\" stroke-width=\"2\"/><line x1=\"230\" y1=\"50\" x2=\"231\" y2=\"50\" stroke=\"blue\" stroke-width=\"2\"/><line x1=\"231\" y1=\"50\" x2=\"232\" y2=\"50\" stroke=\"blue\" stroke-width=\"2\"/><line x1=\"232\" y1=\"50\" x2=\"233\" y2=\"50\" stroke=\"blue\" stroke-width=\"2\"/><line x1=\"233\" y1=\"50\" x2=\"234\" y2=\"50\" stroke=\"blue\" stroke-width=\"2\"/><line x1=\"234\" y1=\"50\" x2=\"235\" y2=\"50\" stroke=\"blue\" stroke-width=\"2\"/><line x1=\"235\" y1=\"50\" x2=\"236\" y2=\"50\" stroke=\"blue\" stroke-width=\"2\"/><line x1=\"236\" y1=\"50\" x2=\"237\" y2=\"50\" stroke=\"blue\" stroke-width=\"2\"/><line x1=\"237\" y1=\"50\" x2=\"238\" y2=\"50\" stroke=\"blue\" stroke-width=\"2\"/><line x1=\"238\" y1=\"50\" x2=\"239\" y2=\"50\" stroke=\"blue\" stroke-width=\"2\"/><line x1=\"239\" y1=\"50\" x2=\"240\" y2=\"50\" stroke=\"blue\" stroke-width=\"2\"/><line x1=\"240\" y1=\"50\" x2=\"241\" y2=\"50\" stroke=\"blue\" stroke-width=\"2\"/><line x1=\"241\" y1=\"50\" x2=\"242\" y2=\"50\" stroke=\"blue\" stroke-width=\"2\"/><line x1=\"242\" y1=\"50\" x2=\"243\" y2=\"50\" stroke=\"blue\" stroke-width=\"2\"/><line x1=\"243\" y1=\"50\" x2=\"244\" y2=\"50\" stroke=\"blue\" stroke-width..."
      ]
     },
     "execution_count": 23,
     "metadata": {},
     "output_type": "execute_result"
    }
   ],
   "source": [
    "val pg = plot(g)"
   ]
  },
  {
   "cell_type": "code",
   "execution_count": 24,
   "metadata": {
    "collapsed": false
   },
   "outputs": [
    {
     "data": {
      "text/plain": [
       "\u001b[36msvgPg\u001b[39m: \u001b[32mDisplayData\u001b[39m = \u001b[33mDisplayData\u001b[39m(\n",
       "  \u001b[33mMap\u001b[39m(\n",
       "    \u001b[32m\"image/svg+xml\"\u001b[39m -> \u001b[32m\"\"\"<svg version=\"1.1\"\n",
       "     baseProfile=\"full\"\n",
       "     width=\"300\" height=\"200\"\n",
       "     xmlns=\"http://www.w3.org/2000/svg\"><svg width=\"400\" height=\"200\"><line x1=\"201\" y1=\"50\" x2=\"202\" y2=\"50\" stroke=\"blue\" stroke-width=\"2\"/><line x1=\"202\" y1=\"50\" x2=\"203\" y2=\"50\" stroke=\"blue\" stroke-width=\"2\"/><line x1=\"203\" y1=\"50\" x2=\"204\" y2=\"50\" stroke=\"blue\" stroke-width=\"2\"/><line x1=\"204\" y1=\"50\" x2=\"205\" y2=\"50\" stroke=\"blue\" stroke-width=\"2\"/><line x1=\"205\" y1=\"50\" x2=\"206\" y2=\"50\" stroke=\"blue\" stroke-width=\"2\"/><line x1=\"206\" y1=\"50\" x2=\"207\" y2=\"50\" stroke=\"blue\" stroke-width=\"2\"/><line x1=\"207\" y1=\"50\" x2=\"208\" y2=\"50\" stroke=\"blue\" stroke-width=\"2\"/><line x1=\"208\" y1=\"50\" x2=\"209\" y2=\"50\" stroke=\"blue\" stroke-width=\"2\"/><line x1=\"209\" y1=\"50\" x2=\"210\" y2=\"50\" stroke=\"blue\" stroke-width=\"2\"/><line x1=\"210\" y1=\"50\" x2=\"211\" y2=\"50\" stroke=\"blue\" stroke-width=\"2\"/><line x1=\"211\" y1=\"50\" x2=\"212\" y2=\"50\" stroke=\"blue\" stroke-width=\"2\"/><line x1=\"212\" y1=\"50\" x2=\"213\" y2=\"50\" stroke=\"blue\" stroke-width=\"2\"/><line x1=\"213\" y1=\"50\" x2=\"214\" y2=\"50\" stroke=\"blue\" stroke-width=\"2\"/><line x1=\"214\" y1=\"50\" x2=\"215\" y2=\"50\" stroke=\"blue\" stroke-width=\"2\"/><line x1=\"215\" y1=\"50\" x2=\"216\" y2=\"50\" stroke=\"blue\" stroke-width=\"2\"/><line x1=\"216\" y1=\"50\" x2=\"217\" y2=\"50\" stroke=\"blue\" stroke-width=\"2\"/><line x1=\"217\" y1=\"50\" x2=\"218\" y2=\"50\" stroke=\"blue\" stroke-width=\"2\"/><line x1=\"218\" y1=\"50\" x2=\"219\" y2=\"50\" stroke=\"blue\" stroke-width=\"2\"/><line x1=\"219\" y1=\"50\" x2=\"220\" y2=\"50\" stroke=\"blue\" stroke-width=\"2\"/><line x1=\"220\" y1=\"50\" x2=\"221\" y2=\"50\" stroke=\"blue\" stroke-width=\"2\"/><line x1=\"221\" y1=\"50\" x2=\"222\" y2=\"50\" stroke=\"blue\" stroke-width=\"2\"/><line x1=\"222\" y1=\"50\" x2=\"223\" y2=\"50\" stroke=\"blue\" stroke-width=\"2\"/><line x1=\"223\" y1=\"50\" x2=\"224\" y2=\"50\" stroke=\"blue\" stroke-width=\"2\"/><line x1=\"224\" y1=\"50\" x2=\"225\" y2=\"50\" stroke=\"blue\" stroke-width=\"2\"/><line x1=\"225\" y1=\"50\" x2=\"226\" y2=\"50\" stroke=\"blue\" stroke-width=\"2\"/><line x1=\"226\" y1=\"50\" x2=\"227\" y2=\"50\" stroke=\"blue\" stroke-width=\"2\"/><line x1=\"227\" y1=\"50\" x2=\"228\" y2=\"50\" stroke=\"blue\" stroke-width=\"2\"/><line x1=\"228\" y1=\"50\" x2=\"229\" y2=\"50\" stroke=\"blue\" stroke-width=\"2\"/><line x1=\"229\" y1=\"50\" x2=\"230\" y2=\"50\" stroke=\"blue\" stroke-width=\"2\"/><line x1=\"230\" y1=\"50\" x2=\"231\" y2=\"50\" stroke=\"blue\" stroke-width=\"2\"/><line x1=\"231\" y1=\"50\" x2=\"232\" y2=\"50\" stroke=\"blue\" stroke-width=\"2\"/><line x1=\"232\" y1=\"50\" x2=\"233\" y2=\"50\" stroke=\"blue\" stroke-width=\"2\"/><line x1=\"233\" y1=\"50\" x2=\"234\" y2=\"50\" stroke=\"blue\" stroke-width=\"2\"/><line x1=\"234\" y1=\"50\" x2=\"235\" y2=\"50\" stroke=\"blue\" stroke-width=\"2\"/><line x1=\"235\" y1=\"50\" x2=\"236\" y2=\"50\" stroke=\"blue\" stroke-width=\"2\"/><line x1=\"236\" y1=\"50\" x2=\"237\" y2=\"50\" stroke=\"blue\" stroke-width=\"2\"/><line x1=\"237\" y1=\"50\" x2=\"238\" y2=\"50\" stroke=\"blue\" stro\u001b[39m..."
      ]
     },
     "execution_count": 24,
     "metadata": {},
     "output_type": "execute_result"
    }
   ],
   "source": [
    "val svgPg = DisplayData.svg(s\"\"\"<svg version=\"1.1\"\n",
    "     baseProfile=\"full\"\n",
    "     width=\"300\" height=\"200\"\n",
    "     xmlns=\"http://www.w3.org/2000/svg\">$pg</svg>\"\"\")"
   ]
  },
  {
   "cell_type": "code",
   "execution_count": 25,
   "metadata": {},
   "outputs": [
    {
     "data": {
      "image/svg+xml": [
       "<svg version=\"1.1\"\n",
       "     baseProfile=\"full\"\n",
       "     width=\"300\" height=\"200\"\n",
       "     xmlns=\"http://www.w3.org/2000/svg\"><svg width=\"400\" height=\"200\"><line x1=\"201\" y1=\"50\" x2=\"202\" y2=\"50\" stroke=\"blue\" stroke-width=\"2\"/><line x1=\"202\" y1=\"50\" x2=\"203\" y2=\"50\" stroke=\"blue\" stroke-width=\"2\"/><line x1=\"203\" y1=\"50\" x2=\"204\" y2=\"50\" stroke=\"blue\" stroke-width=\"2\"/><line x1=\"204\" y1=\"50\" x2=\"205\" y2=\"50\" stroke=\"blue\" stroke-width=\"2\"/><line x1=\"205\" y1=\"50\" x2=\"206\" y2=\"50\" stroke=\"blue\" stroke-width=\"2\"/><line x1=\"206\" y1=\"50\" x2=\"207\" y2=\"50\" stroke=\"blue\" stroke-width=\"2\"/><line x1=\"207\" y1=\"50\" x2=\"208\" y2=\"50\" stroke=\"blue\" stroke-width=\"2\"/><line x1=\"208\" y1=\"50\" x2=\"209\" y2=\"50\" stroke=\"blue\" stroke-width=\"2\"/><line x1=\"209\" y1=\"50\" x2=\"210\" y2=\"50\" stroke=\"blue\" stroke-width=\"2\"/><line x1=\"210\" y1=\"50\" x2=\"211\" y2=\"50\" stroke=\"blue\" stroke-width=\"2\"/><line x1=\"211\" y1=\"50\" x2=\"212\" y2=\"50\" stroke=\"blue\" stroke-width=\"2\"/><line x1=\"212\" y1=\"50\" x2=\"213\" y2=\"50\" stroke=\"blue\" stroke-width=\"2\"/><line x1=\"213\" y1=\"50\" x2=\"214\" y2=\"50\" stroke=\"blue\" stroke-width=\"2\"/><line x1=\"214\" y1=\"50\" x2=\"215\" y2=\"50\" stroke=\"blue\" stroke-width=\"2\"/><line x1=\"215\" y1=\"50\" x2=\"216\" y2=\"50\" stroke=\"blue\" stroke-width=\"2\"/><line x1=\"216\" y1=\"50\" x2=\"217\" y2=\"50\" stroke=\"blue\" stroke-width=\"2\"/><line x1=\"217\" y1=\"50\" x2=\"218\" y2=\"50\" stroke=\"blue\" stroke-width=\"2\"/><line x1=\"218\" y1=\"50\" x2=\"219\" y2=\"50\" stroke=\"blue\" stroke-width=\"2\"/><line x1=\"219\" y1=\"50\" x2=\"220\" y2=\"50\" stroke=\"blue\" stroke-width=\"2\"/><line x1=\"220\" y1=\"50\" x2=\"221\" y2=\"50\" stroke=\"blue\" stroke-width=\"2\"/><line x1=\"221\" y1=\"50\" x2=\"222\" y2=\"50\" stroke=\"blue\" stroke-width=\"2\"/><line x1=\"222\" y1=\"50\" x2=\"223\" y2=\"50\" stroke=\"blue\" stroke-width=\"2\"/><line x1=\"223\" y1=\"50\" x2=\"224\" y2=\"50\" stroke=\"blue\" stroke-width=\"2\"/><line x1=\"224\" y1=\"50\" x2=\"225\" y2=\"50\" stroke=\"blue\" stroke-width=\"2\"/><line x1=\"225\" y1=\"50\" x2=\"226\" y2=\"50\" stroke=\"blue\" stroke-width=\"2\"/><line x1=\"226\" y1=\"50\" x2=\"227\" y2=\"50\" stroke=\"blue\" stroke-width=\"2\"/><line x1=\"227\" y1=\"50\" x2=\"228\" y2=\"50\" stroke=\"blue\" stroke-width=\"2\"/><line x1=\"228\" y1=\"50\" x2=\"229\" y2=\"50\" stroke=\"blue\" stroke-width=\"2\"/><line x1=\"229\" y1=\"50\" x2=\"230\" y2=\"50\" stroke=\"blue\" stroke-width=\"2\"/><line x1=\"230\" y1=\"50\" x2=\"231\" y2=\"50\" stroke=\"blue\" stroke-width=\"2\"/><line x1=\"231\" y1=\"50\" x2=\"232\" y2=\"50\" stroke=\"blue\" stroke-width=\"2\"/><line x1=\"232\" y1=\"50\" x2=\"233\" y2=\"50\" stroke=\"blue\" stroke-width=\"2\"/><line x1=\"233\" y1=\"50\" x2=\"234\" y2=\"50\" stroke=\"blue\" stroke-width=\"2\"/><line x1=\"234\" y1=\"50\" x2=\"235\" y2=\"50\" stroke=\"blue\" stroke-width=\"2\"/><line x1=\"235\" y1=\"50\" x2=\"236\" y2=\"50\" stroke=\"blue\" stroke-width=\"2\"/><line x1=\"236\" y1=\"50\" x2=\"237\" y2=\"50\" stroke=\"blue\" stroke-width=\"2\"/><line x1=\"237\" y1=\"50\" x2=\"238\" y2=\"50\" stroke=\"blue\" stroke-width=\"2\"/><line x1=\"238\" y1=\"50\" x2=\"239\" y2=\"50\" stroke=\"blue\" stroke-width=\"2\"/><line x1=\"239\" y1=\"50\" x2=\"240\" y2=\"50\" stroke=\"blue\" stroke-width=\"2\"/><line x1=\"240\" y1=\"50\" x2=\"241\" y2=\"50\" stroke=\"blue\" stroke-width=\"2\"/><line x1=\"241\" y1=\"50\" x2=\"242\" y2=\"50\" stroke=\"blue\" stroke-width=\"2\"/><line x1=\"242\" y1=\"50\" x2=\"243\" y2=\"50\" stroke=\"blue\" stroke-width=\"2\"/><line x1=\"243\" y1=\"50\" x2=\"244\" y2=\"50\" stroke=\"blue\" stroke-width=\"2\"/><line x1=\"244\" y1=\"50\" x2=\"245\" y2=\"50\" stroke=\"blue\" stroke-width=\"2\"/><line x1=\"245\" y1=\"50\" x2=\"246\" y2=\"50\" stroke=\"blue\" stroke-width=\"2\"/><line x1=\"246\" y1=\"50\" x2=\"247\" y2=\"50\" stroke=\"blue\" stroke-width=\"2\"/><line x1=\"247\" y1=\"50\" x2=\"248\" y2=\"50\" stroke=\"blue\" stroke-width=\"2\"/><line x1=\"248\" y1=\"50\" x2=\"249\" y2=\"50\" stroke=\"blue\" stroke-width=\"2\"/><line x1=\"249\" y1=\"50\" x2=\"250\" y2=\"50\" stroke=\"blue\" stroke-width=\"2\"/><line x1=\"250\" y1=\"50\" x2=\"251\" y2=\"49\" stroke=\"blue\" stroke-width=\"2\"/><line x1=\"251\" y1=\"49\" x2=\"252\" y2=\"48\" stroke=\"blue\" stroke-width=\"2\"/><line x1=\"252\" y1=\"48\" x2=\"253\" y2=\"47\" stroke=\"blue\" stroke-width=\"2\"/><line x1=\"253\" y1=\"47\" x2=\"254\" y2=\"46\" stroke=\"blue\" stroke-width=\"2\"/><line x1=\"254\" y1=\"46\" x2=\"255\" y2=\"45\" stroke=\"blue\" stroke-width=\"2\"/><line x1=\"255\" y1=\"45\" x2=\"256\" y2=\"44\" stroke=\"blue\" stroke-width=\"2\"/><line x1=\"256\" y1=\"44\" x2=\"257\" y2=\"43\" stroke=\"blue\" stroke-width=\"2\"/><line x1=\"257\" y1=\"43\" x2=\"258\" y2=\"42\" stroke=\"blue\" stroke-width=\"2\"/><line x1=\"258\" y1=\"42\" x2=\"259\" y2=\"41\" stroke=\"blue\" stroke-width=\"2\"/><line x1=\"259\" y1=\"41\" x2=\"260\" y2=\"40\" stroke=\"blue\" stroke-width=\"2\"/><line x1=\"260\" y1=\"40\" x2=\"261\" y2=\"39\" stroke=\"blue\" stroke-width=\"2\"/><line x1=\"261\" y1=\"39\" x2=\"262\" y2=\"38\" stroke=\"blue\" stroke-width=\"2\"/><line x1=\"262\" y1=\"38\" x2=\"263\" y2=\"37\" stroke=\"blue\" stroke-width=\"2\"/><line x1=\"263\" y1=\"37\" x2=\"264\" y2=\"36\" stroke=\"blue\" stroke-width=\"2\"/><line x1=\"264\" y1=\"36\" x2=\"265\" y2=\"35\" stroke=\"blue\" stroke-width=\"2\"/><line x1=\"265\" y1=\"35\" x2=\"266\" y2=\"34\" stroke=\"blue\" stroke-width=\"2\"/><line x1=\"266\" y1=\"34\" x2=\"267\" y2=\"33\" stroke=\"blue\" stroke-width=\"2\"/><line x1=\"267\" y1=\"33\" x2=\"268\" y2=\"32\" stroke=\"blue\" stroke-width=\"2\"/><line x1=\"268\" y1=\"32\" x2=\"269\" y2=\"31\" stroke=\"blue\" stroke-width=\"2\"/><line x1=\"269\" y1=\"31\" x2=\"270\" y2=\"30\" stroke=\"blue\" stroke-width=\"2\"/><line x1=\"270\" y1=\"30\" x2=\"271\" y2=\"29\" stroke=\"blue\" stroke-width=\"2\"/><line x1=\"271\" y1=\"29\" x2=\"272\" y2=\"28\" stroke=\"blue\" stroke-width=\"2\"/><line x1=\"272\" y1=\"28\" x2=\"273\" y2=\"27\" stroke=\"blue\" stroke-width=\"2\"/><line x1=\"273\" y1=\"27\" x2=\"274\" y2=\"26\" stroke=\"blue\" stroke-width=\"2\"/><line x1=\"274\" y1=\"26\" x2=\"275\" y2=\"25\" stroke=\"blue\" stroke-width=\"2\"/><line x1=\"275\" y1=\"25\" x2=\"276\" y2=\"24\" stroke=\"blue\" stroke-width=\"2\"/><line x1=\"276\" y1=\"24\" x2=\"277\" y2=\"23\" stroke=\"blue\" stroke-width=\"2\"/><line x1=\"277\" y1=\"23\" x2=\"278\" y2=\"22\" stroke=\"blue\" stroke-width=\"2\"/><line x1=\"278\" y1=\"22\" x2=\"279\" y2=\"21\" stroke=\"blue\" stroke-width=\"2\"/><line x1=\"279\" y1=\"21\" x2=\"280\" y2=\"20\" stroke=\"blue\" stroke-width=\"2\"/><line x1=\"280\" y1=\"20\" x2=\"281\" y2=\"19\" stroke=\"blue\" stroke-width=\"2\"/><line x1=\"281\" y1=\"19\" x2=\"282\" y2=\"18\" stroke=\"blue\" stroke-width=\"2\"/><line x1=\"282\" y1=\"18\" x2=\"283\" y2=\"17\" stroke=\"blue\" stroke-width=\"2\"/><line x1=\"283\" y1=\"17\" x2=\"284\" y2=\"16\" stroke=\"blue\" stroke-width=\"2\"/><line x1=\"284\" y1=\"16\" x2=\"285\" y2=\"15\" stroke=\"blue\" stroke-width=\"2\"/><line x1=\"285\" y1=\"15\" x2=\"286\" y2=\"14\" stroke=\"blue\" stroke-width=\"2\"/><line x1=\"286\" y1=\"14\" x2=\"287\" y2=\"13\" stroke=\"blue\" stroke-width=\"2\"/><line x1=\"287\" y1=\"13\" x2=\"288\" y2=\"12\" stroke=\"blue\" stroke-width=\"2\"/><line x1=\"288\" y1=\"12\" x2=\"289\" y2=\"11\" stroke=\"blue\" stroke-width=\"2\"/><line x1=\"289\" y1=\"11\" x2=\"290\" y2=\"10\" stroke=\"blue\" stroke-width=\"2\"/><line x1=\"290\" y1=\"10\" x2=\"291\" y2=\"9\" stroke=\"blue\" stroke-width=\"2\"/><line x1=\"291\" y1=\"9\" x2=\"292\" y2=\"8\" stroke=\"blue\" stroke-width=\"2\"/><line x1=\"292\" y1=\"8\" x2=\"293\" y2=\"7\" stroke=\"blue\" stroke-width=\"2\"/><line x1=\"293\" y1=\"7\" x2=\"294\" y2=\"6\" stroke=\"blue\" stroke-width=\"2\"/><line x1=\"294\" y1=\"6\" x2=\"295\" y2=\"5\" stroke=\"blue\" stroke-width=\"2\"/><line x1=\"295\" y1=\"5\" x2=\"296\" y2=\"4\" stroke=\"blue\" stroke-width=\"2\"/><line x1=\"296\" y1=\"4\" x2=\"297\" y2=\"3\" stroke=\"blue\" stroke-width=\"2\"/><line x1=\"297\" y1=\"3\" x2=\"298\" y2=\"2\" stroke=\"blue\" stroke-width=\"2\"/><line x1=\"298\" y1=\"2\" x2=\"299\" y2=\"1\" stroke=\"blue\" stroke-width=\"2\"/><line x1=\"299\" y1=\"1\" x2=\"300\" y2=\"0\" stroke=\"blue\" stroke-width=\"2\"/></svg></svg>"
      ]
     },
     "metadata": {},
     "output_type": "display_data"
    }
   ],
   "source": [
    "display(svgPg)"
   ]
  },
  {
   "cell_type": "code",
   "execution_count": 26,
   "metadata": {
    "collapsed": false
   },
   "outputs": [
    {
     "data": {
      "text/plain": [
       "\u001b[36mcirc\u001b[39m: \u001b[32mxml\u001b[39m.\u001b[32mElem\u001b[39m = <circle cx=\"200\" cy=\"100\" r=\"20.0\" stroke=\"red\" stroke-width=\"2\"/>"
      ]
     },
     "execution_count": 26,
     "metadata": {},
     "output_type": "execute_result"
    }
   ],
   "source": [
    "val circ = circle(0, 0, 20, \"red\")"
   ]
  },
  {
   "cell_type": "code",
   "execution_count": 27,
   "metadata": {
    "collapsed": false
   },
   "outputs": [
    {
     "data": {
      "text/plain": [
       "\u001b[36mpic\u001b[39m: \u001b[32mxml\u001b[39m.\u001b[32mElem\u001b[39m = <svg width=\"400\" height=\"200\"><circle cx=\"200\" cy=\"100\" r=\"20.0\" stroke=\"red\" stroke-width=\"2\"/><line x1=\"0\" y1=\"100\" x2=\"400\" y2=\"100\" stroke=\"blue\" stroke-width=\"2\"/><line x1=\"200\" y1=\"200\" x2=\"200\" y2=\"0\" stroke=\"blue\" stroke-width=\"2\"/></svg>"
      ]
     },
     "execution_count": 27,
     "metadata": {},
     "output_type": "execute_result"
    }
   ],
   "source": [
    "val pic = plot(circ :: axes)"
   ]
  },
  {
   "cell_type": "code",
   "execution_count": 28,
   "metadata": {
    "collapsed": false
   },
   "outputs": [
    {
     "data": {
      "text/html": [
       "<svg width=\"400\" height=\"200\"><circle cx=\"200\" cy=\"100\" r=\"20.0\" stroke=\"red\" stroke-width=\"2\"/><line x1=\"0\" y1=\"100\" x2=\"400\" y2=\"100\" stroke=\"blue\" stroke-width=\"2\"/><line x1=\"200\" y1=\"200\" x2=\"200\" y2=\"0\" stroke=\"blue\" stroke-width=\"2\"/></svg>"
      ]
     },
     "metadata": {},
     "output_type": "display_data"
    }
   ],
   "source": [
    "display(DisplayData.html(pic.toString))"
   ]
  }
 ],
 "metadata": {
  "kernelspec": {
   "display_name": "Scala",
   "language": "scala",
   "name": "scala"
  },
  "language_info": {
   "codemirror_mode": "text/x-scala",
   "file_extension": ".scala",
   "mimetype": "text/x-scala",
   "name": "scala",
   "nbconvert_exporter": "script",
   "version": "2.12.8"
  }
 },
 "nbformat": 4,
 "nbformat_minor": 2
}
