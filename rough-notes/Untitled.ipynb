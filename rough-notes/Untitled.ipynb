{
 "cells": [
  {
   "cell_type": "code",
   "execution_count": 1,
   "metadata": {},
   "outputs": [
    {
     "data": {
      "text/plain": [
       "\u001b[32mimport \u001b[39m\u001b[36malmond.display\u001b[39m"
      ]
     },
     "execution_count": 1,
     "metadata": {},
     "output_type": "execute_result"
    }
   ],
   "source": [
    "import almond.display"
   ]
  },
  {
   "cell_type": "code",
   "execution_count": 3,
   "metadata": {},
   "outputs": [
    {
     "data": {
      "text/plain": [
       "\u001b[32mimport \u001b[39m\u001b[36mcoursierapi.MavenRepository\u001b[39m"
      ]
     },
     "execution_count": 3,
     "metadata": {},
     "output_type": "execute_result"
    }
   ],
   "source": [
    "import coursierapi.MavenRepository"
   ]
  },
  {
   "cell_type": "code",
   "execution_count": 4,
   "metadata": {},
   "outputs": [
    {
     "data": {
      "text/plain": [
       "\u001b[36mres3\u001b[39m: \u001b[32mList\u001b[39m[\u001b[32mcoursierapi\u001b[39m.\u001b[32mRepository\u001b[39m] = \u001b[33mList\u001b[39m(\n",
       "  ApiRepo(IvyRepository(Pattern(List(Const(file:/home/gadgil/.ivy2/local/), Var(organisation), Const(/), Var(module), Const(/), Opt(ArraySeq(Const(scala_), Var(scalaVersion), Const(/))), Opt(ArraySeq(Const(sbt_), Var(sbtVersion), Const(/))), Var(revision), Const(/), Var(type), Const(s/), Var(artifact), Opt(ArraySeq(Const(-), Var(classifier))), Const(.), Var(ext))), None, None, true, true, true, true, None, true)),\n",
       "  ApiRepo(MavenRepository(https://repo1.maven.org/maven2, None, true, None, true))\n",
       ")"
      ]
     },
     "execution_count": 4,
     "metadata": {},
     "output_type": "execute_result"
    }
   ],
   "source": [
    "interp.repositories()"
   ]
  },
  {
   "cell_type": "code",
   "execution_count": 4,
   "metadata": {},
   "outputs": [
    {
     "name": "stderr",
     "output_type": "stream",
     "text": [
      "cmd4.sc:1: coursierapi.MavenRepository does not have a constructor\n",
      "val res4 = Seq(new MavenRepository(\"http://maven.jzy3d.org/releases/\"))\n",
      "               ^Compilation Failed"
     ]
    },
    {
     "ename": "",
     "evalue": "",
     "output_type": "error",
     "traceback": [
      "Compilation Failed"
     ]
    }
   ],
   "source": [
    "Seq(new MavenRepository(\"http://maven.jzy3d.org/releases/\"))"
   ]
  },
  {
   "cell_type": "code",
   "execution_count": 1,
   "metadata": {},
   "outputs": [
    {
     "name": "stderr",
     "output_type": "stream",
     "text": [
      "Downloading https://repo1.maven.org/maven2/org/jzy3d/jzy3d-api/1.0.0/jzy3d-api-1.0.0.pom\n",
      "Downloaded https://repo1.maven.org/maven2/org/jzy3d/jzy3d-api/1.0.0/jzy3d-api-1.0.0.pom\n",
      "Downloading https://repo1.maven.org/maven2/org/jzy3d/jzy3d-api/1.0.0/jzy3d-api-1.0.0.pom.sha1\n",
      "Downloaded https://repo1.maven.org/maven2/org/jzy3d/jzy3d-api/1.0.0/jzy3d-api-1.0.0.pom.sha1\n",
      "Failed to resolve ivy dependencies:Error downloading org.jzy3d:jzy3d-api:1.0.0\n",
      "  not found: /home/gadgil/.ivy2/local/org.jzy3d/jzy3d-api/1.0.0/ivys/ivy.xml\n",
      "  not found: https://repo1.maven.org/maven2/org/jzy3d/jzy3d-api/1.0.0/jzy3d-api-1.0.0.pom"
     ]
    },
    {
     "ename": "",
     "evalue": "",
     "output_type": "error",
     "traceback": [
      "Failed to resolve ivy dependencies:Error downloading org.jzy3d:jzy3d-api:1.0.0\n  not found: /home/gadgil/.ivy2/local/org.jzy3d/jzy3d-api/1.0.0/ivys/ivy.xml\n  not found: https://repo1.maven.org/maven2/org/jzy3d/jzy3d-api/1.0.0/jzy3d-api-1.0.0.pom"
     ]
    }
   ],
   "source": [
    "import $ivy.`org.jzy3d:jzy3d-api:1.0.0`"
   ]
  },
  {
   "cell_type": "code",
   "execution_count": null,
   "metadata": {},
   "outputs": [],
   "source": []
  }
 ],
 "metadata": {
  "kernelspec": {
   "display_name": "scala-2.13",
   "language": "scala",
   "name": "scala-2.13"
  },
  "language_info": {
   "codemirror_mode": "text/x-scala",
   "file_extension": ".scala",
   "mimetype": "text/x-scala",
   "name": "scala",
   "nbconvert_exporter": "script",
   "version": "2.13.1"
  }
 },
 "nbformat": 4,
 "nbformat_minor": 2
}
