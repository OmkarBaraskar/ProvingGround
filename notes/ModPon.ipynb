{
 "cells": [
  {
   "cell_type": "code",
   "execution_count": 1,
   "metadata": {},
   "outputs": [
    {
     "data": {
      "text/plain": [
       "\u001b[32mimport \u001b[39m\u001b[36m$ivy.$                                       \u001b[39m"
      ]
     },
     "execution_count": 1,
     "metadata": {},
     "output_type": "execute_result"
    }
   ],
   "source": [
    "import $ivy.`io.github.siddhartha-gadgil::provingground-core-jvm:0.1.0`"
   ]
  },
  {
   "cell_type": "code",
   "execution_count": 2,
   "metadata": {},
   "outputs": [
    {
     "data": {
      "text/plain": [
       "\u001b[32mimport \u001b[39m\u001b[36mprovingground._ , interface._, HoTT._\n",
       "\u001b[39m\n",
       "\u001b[32mimport \u001b[39m\u001b[36mprovingground.{FiniteDistribution => FD}\u001b[39m"
      ]
     },
     "execution_count": 2,
     "metadata": {},
     "output_type": "execute_result"
    }
   ],
   "source": [
    "import provingground._ , interface._, HoTT._\n",
    "import provingground.{FiniteDistribution => FD}"
   ]
  },
  {
   "cell_type": "code",
   "execution_count": 3,
   "metadata": {},
   "outputs": [
    {
     "data": {
      "text/plain": [
       "\u001b[36mA\u001b[39m: \u001b[32mTyp\u001b[39m[\u001b[32mTerm\u001b[39m] = \u001b[33mSymbTyp\u001b[39m(\u001b[33mName\u001b[39m(\u001b[32m\"A\"\u001b[39m), \u001b[32m0\u001b[39m)\n",
       "\u001b[36mB\u001b[39m: \u001b[32mTyp\u001b[39m[\u001b[32mTerm\u001b[39m] = \u001b[33mSymbTyp\u001b[39m(\u001b[33mName\u001b[39m(\u001b[32m\"B\"\u001b[39m), \u001b[32m0\u001b[39m)\n",
       "\u001b[36mMP\u001b[39m: \u001b[32mGenFuncTyp\u001b[39m[\u001b[32mTyp\u001b[39m[\u001b[32mTerm\u001b[39m], \u001b[32mFuncLike\u001b[39m[\u001b[32mTyp\u001b[39m[\u001b[32mTerm\u001b[39m], \u001b[32mFunc\u001b[39m[\u001b[32mTerm\u001b[39m, \u001b[32mFunc\u001b[39m[\u001b[32mFunc\u001b[39m[\u001b[32mTerm\u001b[39m, \u001b[32mTerm\u001b[39m], \u001b[32mTerm\u001b[39m]]]] = \u001b[33mPiDefn\u001b[39m(\n",
       "  \u001b[33mSymbTyp\u001b[39m(A, \u001b[32m0\u001b[39m),\n",
       "  \u001b[33mPiDefn\u001b[39m(\n",
       "    \u001b[33mSymbTyp\u001b[39m(B, \u001b[32m0\u001b[39m),\n",
       "    \u001b[33mFuncTyp\u001b[39m(\n",
       "      \u001b[33mSymbTyp\u001b[39m(A, \u001b[32m0\u001b[39m),\n",
       "      \u001b[33mFuncTyp\u001b[39m(\u001b[33mFuncTyp\u001b[39m(\u001b[33mSymbTyp\u001b[39m(A, \u001b[32m0\u001b[39m), \u001b[33mSymbTyp\u001b[39m(B, \u001b[32m0\u001b[39m)), \u001b[33mSymbTyp\u001b[39m(B, \u001b[32m0\u001b[39m))\n",
       "    )\n",
       "  )\n",
       ")"
      ]
     },
     "execution_count": 3,
     "metadata": {},
     "output_type": "execute_result"
    }
   ],
   "source": [
    "val A = \"A\" :: Type\n",
    "val B = \"B\" :: Type\n",
    "val MP = A ~>: (B ~>: (A ->: (A ->: B) ->: B))"
   ]
  },
  {
   "cell_type": "code",
   "execution_count": 4,
   "metadata": {},
   "outputs": [],
   "source": [
    "repl.pprinter.bind(translation.FansiShow.fansiPrint)"
   ]
  },
  {
   "cell_type": "code",
   "execution_count": 5,
   "metadata": {},
   "outputs": [
    {
     "data": {
      "text/plain": [
       "\u001b[32mimport \u001b[39m\u001b[36mlearning._\n",
       "\u001b[39m\n",
       "\u001b[36mtg\u001b[39m: \u001b[32mTermGenParams\u001b[39m = \u001b[33mTermGenParams\u001b[39m(\u001b[32m0.1\u001b[39m, \u001b[32m0.1\u001b[39m, \u001b[32m0.1\u001b[39m, \u001b[32m0.1\u001b[39m, \u001b[32m0.1\u001b[39m, \u001b[32m0.05\u001b[39m, \u001b[32m0.05\u001b[39m, \u001b[32m0.05\u001b[39m, \u001b[32m0.3\u001b[39m, \u001b[32m0.5\u001b[39m, \u001b[32m0.5\u001b[39m)\n",
       "\u001b[36mmfd\u001b[39m: \u001b[32mMonixFiniteDistributionEq\u001b[39m[\u001b[32mTermState\u001b[39m, \u001b[32mTerm\u001b[39m] = \u001b[33mMonixFiniteDistributionEq\u001b[39m(\n",
       "  \u001b[33mCons\u001b[39m(\n",
       "    \u001b[33mBaseCons\u001b[39m(\n",
       "      \u001b[33mBasePi\u001b[39m(\n",
       "        provingground.learning.RandomVarFamily$$Lambda$3765/1938135699@5621c319,\n",
       "        FuncsWithDomain\n",
       "      ),\n",
       "      \u001b[32m0.55\u001b[39m,\n",
       "      \u001b[33mBaseCons\u001b[39m(\n",
       "        \u001b[33mBasePi\u001b[39m(\n",
       "          provingground.learning.GeneratorNode$$Lambda$3768/328900033@1bd62afd,\n",
       "          FuncsWithDomain\n",
       "        ),\n",
       "        \u001b[32m0.1\u001b[39m,\n",
       "        \u001b[33mBaseCons\u001b[39m(\n",
       "          \u001b[33mBasePi\u001b[39m(\n",
       "            provingground.learning.GeneratorNode$$Lambda$3768/328900033@7cb1b783,\n",
       "            FuncsWithDomain\n",
       "          ),\n",
       "          \u001b[32m0.1\u001b[39m,\n",
       "          \u001b[33mBaseCons\u001b[39m(\n",
       "            \u001b[33mBasePi\u001b[39m(\n",
       "              provingground.learning.GeneratorNode$$Lambda$3768/328900033@50c609f4,\n",
       "              FuncsWithDomain\n",
       "            ),\n",
       "            \u001b[32m0.1\u001b[39m,\n",
       "            \u001b[33mBaseCons\u001b[39m(\n",
       "              \u001b[33mBasePi\u001b[39m(\n",
       "                provingground.learning.TermGeneratorNodes$$Lambda$3759/319800441@838a04e,\n",
       "                FuncsWithDomain\n",
       "              ),\n",
       "              \u001b[32m0.1\u001b[39m,\n",
       "              \u001b[33mTarget\u001b[39m(FuncsWithDomain)\n",
       "            )\n",
       "          )\n",
       "        )\n",
       "      )\n",
       "    ),\n",
       "    \u001b[33mCons\u001b[39m(\n",
       "      \u001b[33mBaseCons\u001b[39m(\n",
       "        \u001b[33mMap\u001b[39m(\n",
       "          provingground.learning.TermRandomVars$TargetTyps$$$Lambda$3771/1620514355@16c01a2,\n",
       "          Goals,\n",
       "          TargetTyps\n",
       "        ),\n",
       "        \u001b[32m0.5\u001b[39m,\n",
       "        \u001b[33mBaseCons\u001b[39m(\n",
       "          \u001b[33mMap\u001b[39m(\n",
       "            provingground.learning.TermRandomVars$TargetTyps$$$Lambda$3772/396853136@4062de80,\n",
       "...\n",
       "\u001b[36mts\u001b[39m: \u001b[32mTermState\u001b[39m = \u001b[33mTermState\u001b[39m(\n",
       "  \u001b[33mFiniteDistribution\u001b[39m(\u001b[33mVector\u001b[39m(\u001b[33mWeighted\u001b[39m(\u001b[32m𝒰 \u001b[39m, \u001b[32m1.0\u001b[39m))),\n",
       "  \u001b[33mFiniteDistribution\u001b[39m(\u001b[33mVector\u001b[39m(\u001b[33mWeighted\u001b[39m(\u001b[32m𝒰 \u001b[39m, \u001b[32m1.0\u001b[39m))),\n",
       "  \u001b[33mVector\u001b[39m(),\n",
       "  \u001b[33mFiniteDistribution\u001b[39m(\u001b[33mVector\u001b[39m()),\n",
       "  \u001b[33mFiniteDistribution\u001b[39m(\u001b[33mVector\u001b[39m(\u001b[33mWeighted\u001b[39m(\u001b[32m∏(A : 𝒰 ){ ∏(B : 𝒰 ){ (A → ((A → B) → B)) } }\u001b[39m, \u001b[32m1.0\u001b[39m))),\n",
       "  Empty\n",
       ")"
      ]
     },
     "execution_count": 5,
     "metadata": {},
     "output_type": "execute_result"
    }
   ],
   "source": [
    "import learning._\n",
    "val tg = TermGenParams()\n",
    "val mfd = MonixFiniteDistributionEq(tg.nodeCoeffSeq)\n",
    "val ts = TermState(FD.unif(Type), FD.unif(Type), goals = FD.unif(MP))"
   ]
  },
  {
   "cell_type": "code",
   "execution_count": 6,
   "metadata": {},
   "outputs": [
    {
     "data": {
      "text/plain": [
       "\u001b[32mimport \u001b[39m\u001b[36mTermRandomVars._\n",
       "\u001b[39m\n",
       "\u001b[36mtsk\u001b[39m: \u001b[32mmonix\u001b[39m.\u001b[32meval\u001b[39m.\u001b[32mTask\u001b[39m[(\u001b[32mFiniteDistribution\u001b[39m[\u001b[32mTerm\u001b[39m], \u001b[32mSet\u001b[39m[\u001b[32mGeneratorVariables\u001b[39m.\u001b[32mEquationTerm\u001b[39m])] = \u001b[33mFlatMap\u001b[39m(\n",
       "  \u001b[33mAsync\u001b[39m(<function2>, true, true, true),\n",
       "  monix.eval.Task$$Lambda$3893/194816733@4ed79980\n",
       ")\n",
       "\u001b[32mimport \u001b[39m\u001b[36mmonix.execution.Scheduler.Implicits.global\u001b[39m"
      ]
     },
     "execution_count": 6,
     "metadata": {},
     "output_type": "execute_result"
    }
   ],
   "source": [
    "import TermRandomVars._\n",
    "val tsk = mfd.varDist(ts)(Terms, 0.00001)\n",
    "import monix.execution.Scheduler.Implicits.global"
   ]
  },
  {
   "cell_type": "code",
   "execution_count": 7,
   "metadata": {},
   "outputs": [
    {
     "data": {
      "text/plain": [
       "\u001b[36mfd\u001b[39m: \u001b[32mFiniteDistribution\u001b[39m[\u001b[32mTerm\u001b[39m] = \u001b[33mFiniteDistribution\u001b[39m(\n",
       "  \u001b[33mVector\u001b[39m(\n",
       "    \u001b[33mWeighted\u001b[39m(\u001b[32m(@a : (𝒰  → 𝒰 )) ↦ @a(@a)\u001b[39m, \u001b[32m2.5720562233697236E-4\u001b[39m),\n",
       "    \u001b[33mWeighted\u001b[39m(\u001b[32m(_ : @a) ↦ 𝒰 \u001b[39m, \u001b[32m3.3308015913189606E-4\u001b[39m),\n",
       "    \u001b[33mWeighted\u001b[39m(\u001b[32m(@a : ∏(@a : 𝒰 ){ 𝒰 ×@a }) ↦ @a\u001b[39m, \u001b[32m1.868265711348081E-5\u001b[39m),\n",
       "    \u001b[33mWeighted\u001b[39m(\u001b[32m(@a : 𝒰 ) ↦ (@a , @a)\u001b[39m, \u001b[32m5.088938816774152E-5\u001b[39m),\n",
       "    \u001b[33mWeighted\u001b[39m(\u001b[32m(((__1_1 , __1_2) , __2) : 𝒰 ×𝒰 ×(𝒰  → 𝒰 )) ↦ 𝒰 \u001b[39m, \u001b[32m1.6162528038990986E-5\u001b[39m),\n",
       "    \u001b[33mWeighted\u001b[39m(\u001b[32m(@a : 𝒰 ) ↦ (_ : (𝒰  → @a)) ↦ 𝒰 \u001b[39m, \u001b[32m5.7080968568555135E-5\u001b[39m),\n",
       "    \u001b[33mWeighted\u001b[39m(\u001b[32m(@a : 𝒰 ) ↦ (_ : (@a → @a)) ↦ 𝒰 \u001b[39m, \u001b[32m3.4947531776666405E-5\u001b[39m),\n",
       "    \u001b[33mWeighted\u001b[39m(\u001b[32m(_ : 𝒰 ) ↦ (_ : ∏(@b : 𝒰 ){ @b }) ↦ 𝒰 \u001b[39m, \u001b[32m8.15442408122216E-5\u001b[39m),\n",
       "    \u001b[33mWeighted\u001b[39m(\u001b[32m(_ : ∏(@a : 𝒰 ){ @a }) ↦ (_ : 𝒰 ) ↦ 𝒰 \u001b[39m, \u001b[32m1.0972601302852661E-4\u001b[39m),\n",
       "    \u001b[33mWeighted\u001b[39m(\n",
       "      \u001b[32m(((@a_1_1 , @a_1_2) , @a_2) : (𝒰  → 𝒰 )×𝒰 ×𝒰 ) ↦ ((@a_1_1 , @a_1_2) , @a_2)\u001b[39m,\n",
       "      \u001b[32m1.104989161849384E-5\u001b[39m\n",
       "    ),\n",
       "    \u001b[33mWeighted\u001b[39m(\n",
       "      \u001b[32m((@a_1 , (@a_2_1 , @a_2_2)) : 𝒰 ×∑(@b : { @b }) ↦ (@a_1 , (@a_2_1 , @a_2_2))\u001b[39m,\n",
       "      \u001b[32m1.7806741960864288E-5\u001b[39m\n",
       "    ),\n",
       "    \u001b[33mWeighted\u001b[39m(\u001b[32m((__1 , __2) : 𝒰 ×(𝒰  → 𝒰 )) ↦ 𝒰 \u001b[39m, \u001b[32m1.2838746108731833E-4\u001b[39m),\n",
       "    \u001b[33mWeighted\u001b[39m(\u001b[32m((__1 , __2) : 𝒰 ×((𝒰  → 𝒰 ) → 𝒰 )) ↦ 𝒰 \u001b[39m, \u001b[32m1.49785371268538E-5\u001b[39m),\n",
       "    \u001b[33mWeighted\u001b[39m(\u001b[32m(_ : 𝒰 ) ↦ ((__1 , __2) : 𝒰 ×𝒰 ) ↦ 𝒰 \u001b[39m, \u001b[32m7.434789406767466E-5\u001b[39m),\n",
       "    \u001b[33mWeighted\u001b[39m(\u001b[32m((__1 , __2) : 𝒰 ×𝒰 ) ↦ (_ : 𝒰 ) ↦ 𝒰 \u001b[39m, \u001b[32m1.414581859196728E-4\u001b[39m),\n",
       "    \u001b[33mWeighted\u001b[39m(\u001b[32m((@a_1 , @a_2) : ∑(@a : { @a }) ↦ (@a_1 , @a_2)\u001b[39m, \u001b[32m2.706772538895482E-4\u001b[39m),\n",
       "    \u001b[33mWeighted\u001b[39m(\u001b[32m(@a : 𝒰 ) ↦ ((__1 , __2) : ∑(@b : { @b }) ↦ @a\u001b[39m, \u001b[32m1.9508193778690146E-5\u001b[39m),\n",
       "    \u001b[33mWeighted\u001b[39m(\u001b[32m((__1 , __2) : ∑(@a : { @a }) ↦ (@a : 𝒰 ) ↦ @a\u001b[39m, \u001b[32m4.239700466872449E-5\u001b[39m),\n",
       "    \u001b[33mWeighted\u001b[39m(\u001b[32m((@a_1 , @a_2) : (𝒰  → 𝒰 )×(𝒰  → 𝒰 )) ↦ (@a_1 , @a_2)\u001b[39m, \u001b[32m1.088914968823132E-5\u001b[39m),\n",
       "    \u001b[33mWeighted\u001b[39m(\u001b[32m(@a : ∏(@a : 𝒰 ){ @a×@a }) ↦ @a\u001b[39m, \u001b[32m1.1438361498049473E-5\u001b[39m),\n",
       "    \u001b[33mWeighted\u001b[39m(\u001b[32m(@a : ∏(@a : 𝒰 ){ @a }) ↦ @a\u001b[39m, \u001b[32m5.24912194961889E-5\u001b[39m),\n",
       "    \u001b[33mWeighted\u001b[39m(\u001b[32m((__1 , __2) : 𝒰 ×𝒰 ) ↦ @a\u001b[39m, \u001b[32m7.039458036969333E-5\u001b[39m),\n",
       "    \u001b[33mWeighted\u001b[39m(\n",
       "      \u001b[32m((@a_1 , (@a_2_1 , @a_2_2)) : ∑(@a : { @a×𝒰  }) ↦ (@a_1 , (@a_2_1 , @a_2_2))\u001b[39m,\n",
       "      \u001b[32m1.7806741960864288E-5\u001b[39m\n",
       "    ),\n",
       "    \u001b[33mWeighted\u001b[39m(\u001b[32m(_ : 𝒰 ) ↦ (@a : ∏(@b : 𝒰 ){ @b }) ↦ @a\u001b[39m, \u001b[32m4.992504539523773E-5\u001b[39m),\n",
       "    \u001b[33mWeighted\u001b[39m(\u001b[32m(@a : ∏(@a : 𝒰 ){ @a }) ↦ (_ : 𝒰 ) ↦ @a\u001b[39m, \u001b[32m4.702543415508284E-5\u001b[39m),\n",
       "    \u001b[33mWeighted\u001b[39m(\u001b[32m(_ : (𝒰  → 𝒰 )) ↦ @a\u001b[39m, \u001b[32m1.8499153661335303E-4\u001b[39m),\n",
       "    \u001b[33mWeighted\u001b[39m(\u001b[32m(_ : ∏(@b : 𝒰 ){ @b }) ↦ 𝒰 \u001b[39m, \u001b[32m0.0012864813449930822\u001b[39m),\n",
       "    \u001b[33mWeighted\u001b[39m(\u001b[32m((__1 , (__2_1 , __2_2)) : 𝒰 ×𝒰 ×𝒰 ) ↦ 𝒰 \u001b[39m, \u001b[32m6.786347213973834E-5\u001b[39m),\n",
       "    \u001b[33mWeighted\u001b[39m(\u001b[32m𝒰 \u001b[39m, \u001b[32m0.6842153844698987\u001b[39m),\n",
       "    \u001b[33mWeighted\u001b[39m(\u001b[32m(@a : 𝒰 ) ↦ ((__1 , __2) : 𝒰 ×@a) ↦ @a\u001b[39m, \u001b[32m1.3655735645083106E-5\u001b[39m),\n",
       "    \u001b[33mWeighted\u001b[39m(\u001b[32m((__1 , (__2_1 , __2_2)) : ∑(@a : { 𝒰 ×@a }) ↦ 𝒰 \u001b[39m, \u001b[32m2.9084345202745012E-5\u001b[39m),\n",
       "    \u001b[33mWeighted\u001b[39m(\u001b[32m(_ : @a) ↦ @a\u001b[39m, \u001b[32m1.4274863962795541E-4\u001b[39m),\n",
       "    \u001b[33mWeighted\u001b[39m(\u001b[32m(_ : (𝒰  → 𝒰 )) ↦ (_ : (𝒰  → 𝒰 )) ↦ 𝒰 \u001b[39m, \u001b[32m3.527359991948709E-5\u001b[39m),\n",
       "    \u001b[33mWeighted\u001b[39m(\u001b[32m(@a : ∏(@a : 𝒰 ){ (@a → @a) }) ↦ @a\u001b[39m, \u001b[32m4.1942359484037535E-5\u001b[39m),\n",
       "    \u001b[33mWeighted\u001b[39m(\u001b[32m(@a : (∏(@a : 𝒰 ){ @a } → ∏(@a : 𝒰 ){ @a })) ↦ @a\u001b[39m, \u001b[32m2.7907837998167127E-5\u001b[39m),\n",
       "    \u001b[33mWeighted\u001b[39m(\u001b[32m(@a : (𝒰  → ∏(@b : 𝒰 ){ @b })) ↦ @a\u001b[39m, \u001b[32m4.78123456776949E-5\u001b[39m),\n",
       "    \u001b[33mWeighted\u001b[39m(\u001b[32m(@a : ∏(@a : 𝒰 ){ (𝒰  → @a) }) ↦ @a\u001b[39m, \u001b[32m3.346864197438644E-5\u001b[39m),\n",
       "    \u001b[33mWeighted\u001b[39m(\u001b[32m(@a : 𝒰 ) ↦ (_ : @a) ↦ (@a : @a) ↦ @a\u001b[39m, \u001b[32m3.841128101966749E-5\u001b[39m),\n",
       "...\n",
       "\u001b[36meqts\u001b[39m: \u001b[32mSet\u001b[39m[\u001b[32mGeneratorVariables\u001b[39m.\u001b[32mEquationTerm\u001b[39m] = \u001b[33mSet\u001b[39m(\n",
       "  \u001b[33mEquationTerm\u001b[39m(\n",
       "    \u001b[33mFinalVal\u001b[39m(\n",
       "      \u001b[33mInIsle\u001b[39m(\n",
       "        \u001b[33mElem\u001b[39m(\u001b[32m(@a : 𝒰 ) ↦ @a\u001b[39m, Terms),\n",
       "        \u001b[32m@a\u001b[39m,\n",
       "        \u001b[33mIsland\u001b[39m(\u001b[33mAtCoord\u001b[39m(FuncsWithDomain, \u001b[32m𝒰 \u001b[39m :: HNil), \u001b[33mCRV\u001b[39m(Terms), \u001b[33mAddVar\u001b[39m(\u001b[32m𝒰 \u001b[39m, \u001b[32m0.3\u001b[39m), Lambda, InIsle)\n",
       "      )\n",
       "    ),\n",
       "    \u001b[33mProduct\u001b[39m(\n",
       "      \u001b[33mCoeff\u001b[39m(\u001b[33mZipMapOpt\u001b[39m(UnifApplnOpt, Funcs, Terms, Terms), Terms),\n",
       "      \u001b[33mProduct\u001b[39m(\n",
       "        \u001b[33mCoeff\u001b[39m(\n",
       "          \u001b[33mBaseThenCondition\u001b[39m(\n",
       "            \u001b[33mFiberProductMap\u001b[39m(typeOf(_), FuncsWithDomain, FlipAppn, Terms, Terms),\n",
       "            Funcs,\n",
       "            \u001b[33mRestrict\u001b[39m(FuncOpt)\n",
       "          ),\n",
       "          Funcs\n",
       "        ),\n",
       "        \u001b[33mProduct\u001b[39m(\n",
       "          \u001b[33mCoeff\u001b[39m(\u001b[33mZipMapOpt\u001b[39m(UnifApplnOpt, Funcs, Terms, Terms), Terms),\n",
       "          \u001b[33mProduct\u001b[39m(\n",
       "            \u001b[33mCoeff\u001b[39m(\u001b[33mFlatMap\u001b[39m(Typs, LambdaIsle, Terms), Terms),\n",
       "            \u001b[33mFinalVal\u001b[39m(\n",
       "              \u001b[33mInIsle\u001b[39m(\n",
       "                \u001b[33mInIsle\u001b[39m(\n",
       "                  \u001b[33mElem\u001b[39m(\u001b[32m@a\u001b[39m, Terms),\n",
       "                  \u001b[32m@a\u001b[39m,\n",
       "                  \u001b[33mIsland\u001b[39m(Terms, \u001b[33mCRV\u001b[39m(Terms), \u001b[33mAddVar\u001b[39m(\u001b[32m𝒰 \u001b[39m, \u001b[32m0.3\u001b[39m), Lambda, InIsle)\n",
       "                ),\n",
       "                \u001b[32m@a\u001b[39m,\n",
       "                \u001b[33mIsland\u001b[39m(\n",
       "                  \u001b[33mAtCoord\u001b[39m(FuncsWithDomain, \u001b[32m𝒰 \u001b[39m :: HNil),\n",
       "                  \u001b[33mCRV\u001b[39m(Terms),\n",
       "                  \u001b[33mAddVar\u001b[39m(\u001b[32m𝒰 \u001b[39m, \u001b[32m0.3\u001b[39m),\n",
       "                  Lambda,\n",
       "                  InIsle\n",
       "                )\n",
       "              )\n",
       "            )\n",
       "          )\n",
       "        )\n",
       "      )\n",
       "    )\n",
       "  ),\n",
       "  \u001b[33mEquationTerm\u001b[39m(\n",
       "    \u001b[33mFinalVal\u001b[39m(\n",
       "      \u001b[33mInIsle\u001b[39m(\u001b[33mElem\u001b[39m(\u001b[32m𝒰 \u001b[39m, Typs), \u001b[32m@a\u001b[39m, \u001b[33mIsland\u001b[39m(Terms, \u001b[33mCRV\u001b[39m(Terms), \u001b[33mAddVar\u001b[39m(\u001b[32m𝒰 \u001b[39m, \u001b[32m0.3\u001b[39m), Lambda, InIsle))\n",
       "..."
      ]
     },
     "execution_count": 7,
     "metadata": {},
     "output_type": "execute_result"
    }
   ],
   "source": [
    "val (fd, eqts) = tsk.runSyncUnsafe()"
   ]
  },
  {
   "cell_type": "code",
   "execution_count": 8,
   "metadata": {},
   "outputs": [
    {
     "data": {
      "text/plain": [
       "\u001b[36mres7\u001b[39m: \u001b[32mFiniteDistribution\u001b[39m[\u001b[32mTerm\u001b[39m] = \u001b[33mFiniteDistribution\u001b[39m(\n",
       "  \u001b[33mVector\u001b[39m(\n",
       "    \u001b[33mWeighted\u001b[39m(\u001b[32m(@a : 𝒰 ) ↦ (@b : 𝒰 ) ↦ (@a : @a) ↦ (@a : (@a → @b)) ↦ @a(@a)\u001b[39m, \u001b[32m0.027399963852253788\u001b[39m)\n",
       "  )\n",
       ")"
      ]
     },
     "execution_count": 8,
     "metadata": {},
     "output_type": "execute_result"
    }
   ],
   "source": [
    "fd.filter(_.typ == MP)"
   ]
  },
  {
   "cell_type": "code",
   "execution_count": 9,
   "metadata": {},
   "outputs": [
    {
     "data": {
      "text/plain": [
       "\u001b[36meqs\u001b[39m: \u001b[32mSet\u001b[39m[\u001b[32mGeneratorVariables\u001b[39m.\u001b[32mEquation\u001b[39m] = \u001b[33mSet\u001b[39m(\n",
       "  \u001b[33mEquation\u001b[39m(\n",
       "    \u001b[33mFinalVal\u001b[39m(\n",
       "      \u001b[33mInIsle\u001b[39m(\n",
       "        \u001b[33mInIsle\u001b[39m(\n",
       "          \u001b[33mElem\u001b[39m(\u001b[32m𝒰 \u001b[39m, Terms),\n",
       "          \u001b[32m@b\u001b[39m,\n",
       "          \u001b[33mIsland\u001b[39m(Terms, \u001b[33mCRV\u001b[39m(Terms), \u001b[33mAddVar\u001b[39m(\u001b[32m(𝒰  → 𝒰 )\u001b[39m, \u001b[32m0.3\u001b[39m), Lambda, InIsle)\n",
       "        ),\n",
       "        \u001b[32m@a\u001b[39m,\n",
       "        \u001b[33mIsland\u001b[39m(Terms, \u001b[33mCRV\u001b[39m(Terms), \u001b[33mAddVar\u001b[39m(\u001b[32m(𝒰  → 𝒰 )\u001b[39m, \u001b[32m0.3\u001b[39m), Lambda, InIsle)\n",
       "      )\n",
       "    ),\n",
       "    \u001b[33mProduct\u001b[39m(\n",
       "      \u001b[33mCoeff\u001b[39m(\u001b[33mFlatMap\u001b[39m(Typs, LambdaIsle, Terms), Terms),\n",
       "      \u001b[33mProduct\u001b[39m(\n",
       "        \u001b[33mCoeff\u001b[39m(\u001b[33mFlatMap\u001b[39m(Typs, LambdaIsle, Terms), Terms),\n",
       "        \u001b[33mProduct\u001b[39m(\n",
       "          \u001b[33mCoeff\u001b[39m(\u001b[33mInit\u001b[39m(Terms), Terms),\n",
       "          \u001b[33mInitialVal\u001b[39m(\n",
       "            \u001b[33mInIsle\u001b[39m(\n",
       "              \u001b[33mInIsle\u001b[39m(\n",
       "                \u001b[33mElem\u001b[39m(\u001b[32m𝒰 \u001b[39m, Terms),\n",
       "                \u001b[32m@b\u001b[39m,\n",
       "                \u001b[33mIsland\u001b[39m(Terms, \u001b[33mCRV\u001b[39m(Terms), \u001b[33mAddVar\u001b[39m(\u001b[32m(𝒰  → 𝒰 )\u001b[39m, \u001b[32m0.3\u001b[39m), Lambda, InIsle)\n",
       "              ),\n",
       "              \u001b[32m@a\u001b[39m,\n",
       "              \u001b[33mIsland\u001b[39m(Terms, \u001b[33mCRV\u001b[39m(Terms), \u001b[33mAddVar\u001b[39m(\u001b[32m(𝒰  → 𝒰 )\u001b[39m, \u001b[32m0.3\u001b[39m), Lambda, InIsle)\n",
       "            )\n",
       "          )\n",
       "        )\n",
       "      )\n",
       "    )\n",
       "  ),\n",
       "  \u001b[33mEquation\u001b[39m(\n",
       "    \u001b[33mInitialVal\u001b[39m(\n",
       "      \u001b[33mInIsle\u001b[39m(\n",
       "        \u001b[33mInIsle\u001b[39m(\n",
       "          \u001b[33mElem\u001b[39m(\u001b[32m@a\u001b[39m, Terms),\n",
       "          \u001b[32m(@a_1 , @a_2)\u001b[39m,\n",
       "          \u001b[33mIsland\u001b[39m(Terms, \u001b[33mCRV\u001b[39m(Terms), \u001b[33mAddVar\u001b[39m(\u001b[32m∑(@a : { @a }\u001b[39m, \u001b[32m0.3\u001b[39m), Lambda, InIsle)\n",
       "        ),\n",
       "        \u001b[32m@a\u001b[39m,\n",
       "        \u001b[33mIsland\u001b[39m(\u001b[33mAtCoord\u001b[39m(FuncsWithDomain, \u001b[32m𝒰 \u001b[39m :: HNil), \u001b[33mCRV\u001b[39m(Terms), \u001b[33mAddVar\u001b[39m(\u001b[32m𝒰 \u001b[39m, \u001b[32m0.3\u001b[39m), Lambda, InIsle)\n",
       "      )\n",
       "    ),\n",
       "    \u001b[33mProduct\u001b[39m(\n",
       "      \u001b[33mCoeff\u001b[39m(\u001b[33mFiberProductMap\u001b[39m(typeOf(_), FuncsWithDomain, FlipAppn, Terms, Terms), Terms),\n",
       "      \u001b[33mProduct\u001b[39m(\n",
       "..."
      ]
     },
     "execution_count": 9,
     "metadata": {},
     "output_type": "execute_result"
    }
   ],
   "source": [
    "val eqs = GeneratorVariables.Equation.group(eqts)"
   ]
  },
  {
   "cell_type": "code",
   "execution_count": 10,
   "metadata": {},
   "outputs": [
    {
     "data": {
      "text/plain": [
       "\u001b[32mimport \u001b[39m\u001b[36mTermRandomVars._\u001b[39m"
      ]
     },
     "execution_count": 10,
     "metadata": {},
     "output_type": "execute_result"
    }
   ],
   "source": [
    "import TermRandomVars._"
   ]
  },
  {
   "cell_type": "code",
   "execution_count": 11,
   "metadata": {},
   "outputs": [
    {
     "data": {
      "text/plain": [
       "\u001b[36mmpProof\u001b[39m: \u001b[32mTerm\u001b[39m = \u001b[32m(@a : 𝒰 ) ↦ (@b : 𝒰 ) ↦ (@a : @a) ↦ (@a : (@a → @b)) ↦ @a(@a)\u001b[39m"
      ]
     },
     "execution_count": 11,
     "metadata": {},
     "output_type": "execute_result"
    }
   ],
   "source": [
    "val mpProof = fd.support.find(_.typ == MP).get"
   ]
  },
  {
   "cell_type": "code",
   "execution_count": 12,
   "metadata": {},
   "outputs": [
    {
     "data": {
      "text/plain": [
       "\u001b[32mimport \u001b[39m\u001b[36mGeneratorVariables._\n",
       "\u001b[39m\n",
       "\u001b[36mpfVal\u001b[39m: \u001b[32mFinalVal\u001b[39m[\u001b[32mTerm\u001b[39m] = \u001b[33mFinalVal\u001b[39m(\n",
       "  \u001b[33mElem\u001b[39m(\u001b[32m(@a : 𝒰 ) ↦ (@b : 𝒰 ) ↦ (@a : @a) ↦ (@a : (@a → @b)) ↦ @a(@a)\u001b[39m, Terms)\n",
       ")"
      ]
     },
     "execution_count": 12,
     "metadata": {},
     "output_type": "execute_result"
    }
   ],
   "source": [
    "import GeneratorVariables._, Expression._\n",
    "val pfVal = FinalVal(Elem(mpProof, Terms))"
   ]
  },
  {
   "cell_type": "code",
   "execution_count": 13,
   "metadata": {},
   "outputs": [
    {
     "data": {
      "text/plain": [
       "\u001b[36mmpEqs\u001b[39m: \u001b[32mOption\u001b[39m[\u001b[32mEquation\u001b[39m] = \u001b[33mSome\u001b[39m(\n",
       "  \u001b[33mEquation\u001b[39m(\n",
       "    \u001b[33mFinalVal\u001b[39m(\u001b[33mElem\u001b[39m(\u001b[32m(@a : 𝒰 ) ↦ (@b : 𝒰 ) ↦ (@a : @a) ↦ (@a : (@a → @b)) ↦ @a(@a)\u001b[39m, Terms)),\n",
       "    \u001b[33mSum\u001b[39m(\n",
       "      \u001b[33mSum\u001b[39m(\n",
       "        \u001b[33mProduct\u001b[39m(\n",
       "          \u001b[33mCoeff\u001b[39m(\u001b[33mFlatMap\u001b[39m(Typs, LambdaIsle, Terms), Terms),\n",
       "          \u001b[33mProduct\u001b[39m(\n",
       "            \u001b[33mFinalVal\u001b[39m(\u001b[33mElem\u001b[39m(\u001b[32m𝒰 \u001b[39m, Typs)),\n",
       "            \u001b[33mFinalVal\u001b[39m(\u001b[33mElem\u001b[39m(\u001b[32m(@a : 𝒰 ) ↦ (@b : 𝒰 ) ↦ (@a : @a) ↦ (@a : (@a → @b)) ↦ @a(@a)\u001b[39m, Terms))\n",
       "          )\n",
       "        ),\n",
       "        \u001b[33mProduct\u001b[39m(\n",
       "          \u001b[33mCoeff\u001b[39m(\u001b[33mZipFlatMap\u001b[39m(TargetTyps, TermsWithTyp, Proj2, Terms), Terms),\n",
       "          \u001b[33mProduct\u001b[39m(\n",
       "            \u001b[33mFinalVal\u001b[39m(\u001b[33mElem\u001b[39m(\u001b[32m∏(A : 𝒰 ){ ∏(B : 𝒰 ){ (A → ((A → B) → B)) } }\u001b[39m, TargetTyps)),\n",
       "            \u001b[33mFinalVal\u001b[39m(\n",
       "              \u001b[33mElem\u001b[39m(\n",
       "                \u001b[32m(@a : 𝒰 ) ↦ (@b : 𝒰 ) ↦ (@a : @a) ↦ (@a : (@a → @b)) ↦ @a(@a)\u001b[39m,\n",
       "                \u001b[33mAtCoord\u001b[39m(TermsWithTyp, \u001b[32m∏(A : 𝒰 ){ ∏(B : 𝒰 ){ (A → ((A → B) → B)) } }\u001b[39m :: HNil)\n",
       "              )\n",
       "            )\n",
       "          )\n",
       "        )\n",
       "      ),\n",
       "      \u001b[33mProduct\u001b[39m(\n",
       "        \u001b[33mCoeff\u001b[39m(\u001b[33mFlatMap\u001b[39m(Typs, LambdaIsle, Terms), Terms),\n",
       "        \u001b[33mFinalVal\u001b[39m(\n",
       "          \u001b[33mInIsle\u001b[39m(\n",
       "            \u001b[33mElem\u001b[39m(\u001b[32m(@b : 𝒰 ) ↦ (@a : @a) ↦ (@a : (@a → @b)) ↦ @a(@a)\u001b[39m, Terms),\n",
       "            \u001b[32m@a\u001b[39m,\n",
       "            \u001b[33mIsland\u001b[39m(Terms, \u001b[33mCRV\u001b[39m(Terms), \u001b[33mAddVar\u001b[39m(\u001b[32m𝒰 \u001b[39m, \u001b[32m0.3\u001b[39m), Lambda, InIsle)\n",
       "          )\n",
       "        )\n",
       "      )\n",
       "    )\n",
       "  )\n",
       ")"
      ]
     },
     "execution_count": 13,
     "metadata": {},
     "output_type": "execute_result"
    }
   ],
   "source": [
    "val mpEqs = eqs.find(_.lhs == pfVal)"
   ]
  },
  {
   "cell_type": "code",
   "execution_count": 14,
   "metadata": {},
   "outputs": [
    {
     "data": {
      "text/plain": [
       "\u001b[36mmpEqTerms\u001b[39m: \u001b[32mVector\u001b[39m[\u001b[32mExpression\u001b[39m] = \u001b[33mVector\u001b[39m(\n",
       "  \u001b[33mProduct\u001b[39m(\n",
       "    \u001b[33mCoeff\u001b[39m(\u001b[33mFlatMap\u001b[39m(Typs, LambdaIsle, Terms), Terms),\n",
       "    \u001b[33mProduct\u001b[39m(\n",
       "      \u001b[33mFinalVal\u001b[39m(\u001b[33mElem\u001b[39m(\u001b[32m𝒰 \u001b[39m, Typs)),\n",
       "      \u001b[33mFinalVal\u001b[39m(\u001b[33mElem\u001b[39m(\u001b[32m(@a : 𝒰 ) ↦ (@b : 𝒰 ) ↦ (@a : @a) ↦ (@a : (@a → @b)) ↦ @a(@a)\u001b[39m, Terms))\n",
       "    )\n",
       "  ),\n",
       "  \u001b[33mProduct\u001b[39m(\n",
       "    \u001b[33mCoeff\u001b[39m(\u001b[33mZipFlatMap\u001b[39m(TargetTyps, TermsWithTyp, Proj2, Terms), Terms),\n",
       "    \u001b[33mProduct\u001b[39m(\n",
       "      \u001b[33mFinalVal\u001b[39m(\u001b[33mElem\u001b[39m(\u001b[32m∏(A : 𝒰 ){ ∏(B : 𝒰 ){ (A → ((A → B) → B)) } }\u001b[39m, TargetTyps)),\n",
       "      \u001b[33mFinalVal\u001b[39m(\n",
       "        \u001b[33mElem\u001b[39m(\n",
       "          \u001b[32m(@a : 𝒰 ) ↦ (@b : 𝒰 ) ↦ (@a : @a) ↦ (@a : (@a → @b)) ↦ @a(@a)\u001b[39m,\n",
       "          \u001b[33mAtCoord\u001b[39m(TermsWithTyp, \u001b[32m∏(A : 𝒰 ){ ∏(B : 𝒰 ){ (A → ((A → B) → B)) } }\u001b[39m :: HNil)\n",
       "        )\n",
       "      )\n",
       "    )\n",
       "  ),\n",
       "  \u001b[33mProduct\u001b[39m(\n",
       "    \u001b[33mCoeff\u001b[39m(\u001b[33mFlatMap\u001b[39m(Typs, LambdaIsle, Terms), Terms),\n",
       "    \u001b[33mFinalVal\u001b[39m(\n",
       "      \u001b[33mInIsle\u001b[39m(\n",
       "        \u001b[33mElem\u001b[39m(\u001b[32m(@b : 𝒰 ) ↦ (@a : @a) ↦ (@a : (@a → @b)) ↦ @a(@a)\u001b[39m, Terms),\n",
       "        \u001b[32m@a\u001b[39m,\n",
       "        \u001b[33mIsland\u001b[39m(Terms, \u001b[33mCRV\u001b[39m(Terms), \u001b[33mAddVar\u001b[39m(\u001b[32m𝒰 \u001b[39m, \u001b[32m0.3\u001b[39m), Lambda, InIsle)\n",
       "      )\n",
       "    )\n",
       "  )\n",
       ")"
      ]
     },
     "execution_count": 14,
     "metadata": {},
     "output_type": "execute_result"
    }
   ],
   "source": [
    "val mpEqTerms =  Expression.sumTerms(mpEqs.get.rhs)"
   ]
  },
  {
   "cell_type": "code",
   "execution_count": 15,
   "metadata": {},
   "outputs": [
    {
     "data": {
      "text/plain": [
       "\u001b[36mres14\u001b[39m: \u001b[32mInt\u001b[39m = \u001b[32m3\u001b[39m"
      ]
     },
     "execution_count": 15,
     "metadata": {},
     "output_type": "execute_result"
    }
   ],
   "source": [
    "mpEqTerms.size"
   ]
  },
  {
   "cell_type": "code",
   "execution_count": 16,
   "metadata": {},
   "outputs": [
    {
     "data": {
      "text/plain": [
       "\u001b[36mats\u001b[39m: \u001b[32mSet\u001b[39m[\u001b[32mExpression\u001b[39m] = \u001b[33mSet\u001b[39m(\n",
       "  \u001b[33mInitialVal\u001b[39m(\n",
       "    \u001b[33mInIsle\u001b[39m(\n",
       "      \u001b[33mInIsle\u001b[39m(\n",
       "        \u001b[33mInIsle\u001b[39m(\n",
       "          \u001b[33mInIsle\u001b[39m(\n",
       "            \u001b[33mElem\u001b[39m(\u001b[32m@b\u001b[39m, Terms),\n",
       "            \u001b[32m@a\u001b[39m,\n",
       "            \u001b[33mIsland\u001b[39m(\n",
       "              \u001b[33mAtCoord\u001b[39m(FuncsWithDomain, \u001b[32m𝒰 \u001b[39m :: HNil),\n",
       "              \u001b[33mCRV\u001b[39m(Terms),\n",
       "              \u001b[33mAddVar\u001b[39m(\u001b[32m𝒰 \u001b[39m, \u001b[32m0.3\u001b[39m),\n",
       "              Lambda,\n",
       "              InIsle\n",
       "            )\n",
       "          ),\n",
       "          \u001b[32m@a\u001b[39m,\n",
       "          \u001b[33mIsland\u001b[39m(\n",
       "            \u001b[33mAtCoord\u001b[39m(TermsWithTyp, \u001b[32m(@a → ((@a → @b) → @b))\u001b[39m :: HNil),\n",
       "            \u001b[33mCRV\u001b[39m(\u001b[33mAtCoord\u001b[39m(TermsWithTyp, \u001b[32m((@a → @b) → @b)\u001b[39m :: HNil)),\n",
       "            \u001b[33mAddVar\u001b[39m(\u001b[32m@a\u001b[39m, \u001b[32m0.3\u001b[39m),\n",
       "            Lambda,\n",
       "            InIsle\n",
       "          )\n",
       "        ),\n",
       "        \u001b[32m@b\u001b[39m,\n",
       "        \u001b[33mIsland\u001b[39m(\n",
       "          \u001b[33mAtCoord\u001b[39m(TermsWithTyp, \u001b[32m∏(B : 𝒰 ){ (@a → ((@a → B) → B)) }\u001b[39m :: HNil),\n",
       "          \u001b[33mPiOutput\u001b[39m(\u001b[32m∏(B : 𝒰 ){ (@a → ((@a → B) → B)) }\u001b[39m),\n",
       "          \u001b[33mAddVar\u001b[39m(\u001b[32m𝒰 \u001b[39m, \u001b[32m0.3\u001b[39m),\n",
       "          Lambda,\n",
       "          InIsle\n",
       "        )\n",
       "      ),\n",
       "      \u001b[32m@a\u001b[39m,\n",
       "      \u001b[33mIsland\u001b[39m(\n",
       "        \u001b[33mAtCoord\u001b[39m(TermsWithTyp, \u001b[32m∏(A : 𝒰 ){ ∏(B : 𝒰 ){ (A → ((A → B) → B)) } }\u001b[39m :: HNil),\n",
       "        \u001b[33mPiOutput\u001b[39m(\u001b[32m∏(A : 𝒰 ){ ∏(B : 𝒰 ){ (A → ((A → B) → B)) } }\u001b[39m),\n",
       "        \u001b[33mAddVar\u001b[39m(\u001b[32m𝒰 \u001b[39m, \u001b[32m0.3\u001b[39m),\n",
       "        Lambda,\n",
       "        InIsle\n",
       "      )\n",
       "    )\n",
       "  ),\n",
       "  \u001b[33mFinalVal\u001b[39m(\n",
       "    \u001b[33mInIsle\u001b[39m(\n",
       "      \u001b[33mInIsle\u001b[39m(\n",
       "        \u001b[33mInIsle\u001b[39m(\n",
       "          \u001b[33mInIsle\u001b[39m(\n",
       "..."
      ]
     },
     "execution_count": 16,
     "metadata": {},
     "output_type": "execute_result"
    }
   ],
   "source": [
    "val ats = eqs.map(_.rhs).flatMap(Expression.atoms)"
   ]
  },
  {
   "cell_type": "code",
   "execution_count": 17,
   "metadata": {},
   "outputs": [
    {
     "data": {
      "text/plain": [
       "\u001b[36mcoeffs\u001b[39m: \u001b[32mSet\u001b[39m[\u001b[32mCoeff\u001b[39m[\u001b[32mAny\u001b[39m]] = \u001b[33mSet\u001b[39m(\n",
       "  \u001b[33mCoeff\u001b[39m(\n",
       "    \u001b[33mBaseThenCondition\u001b[39m(\u001b[33mZipMapOpt\u001b[39m(UnifApplnOpt, TypFamilies, Terms, Terms), Typs, \u001b[33mRestrict\u001b[39m(TypOpt)),\n",
       "    Typs\n",
       "  ),\n",
       "  \u001b[33mCoeff\u001b[39m(\u001b[33mBaseThenCondition\u001b[39m(\u001b[33mFlatMap\u001b[39m(Typs, LambdaIsle, Terms), Funcs, \u001b[33mRestrict\u001b[39m(FuncOpt)), Funcs),\n",
       "  \u001b[33mCoeff\u001b[39m(\u001b[33mZipFlatMap\u001b[39m(TargetTyps, TermsWithTyp, Proj2, Terms), Terms),\n",
       "  \u001b[33mCoeff\u001b[39m(\n",
       "    \u001b[33mBaseThenCondition\u001b[39m(\n",
       "      \u001b[33mFiberProductMap\u001b[39m(domOf, TermsWithTyp, Appln, Funcs, Terms),\n",
       "      Funcs,\n",
       "      \u001b[33mRestrict\u001b[39m(FuncOpt)\n",
       "    ),\n",
       "    Funcs\n",
       "  ),\n",
       "  \u001b[33mCoeff\u001b[39m(\n",
       "    \u001b[33mBaseThenCondition\u001b[39m(\n",
       "      \u001b[33mFiberProductMap\u001b[39m(domOf, TermsWithTyp, Appln, TypFamilies, Terms),\n",
       "      TypFamilies,\n",
       "      \u001b[33mRestrict\u001b[39m(TypFamilyOpt)\n",
       "    ),\n",
       "    TypFamilies\n",
       "  ),\n",
       "  \u001b[33mCoeff\u001b[39m(\n",
       "    \u001b[33mFlatMap\u001b[39m(Typs, provingground.learning.TermGeneratorNodes$$Lambda$3760/965851966@772ff1b1, Typs),\n",
       "    Typs\n",
       "  ),\n",
       "  \u001b[33mCoeff\u001b[39m(\u001b[33mInit\u001b[39m(Goals), Goals),\n",
       "  \u001b[33mCoeff\u001b[39m(\u001b[33mFlatMap\u001b[39m(Typs, LambdaTypFamilyIsle, TypFamilies), TypFamilies),\n",
       "  \u001b[33mCoeff\u001b[39m(\n",
       "    \u001b[33mMap\u001b[39m(\n",
       "      provingground.learning.TermRandomVars$TargetTyps$$$Lambda$3771/1620514355@16c01a2,\n",
       "      Goals,\n",
       "      TargetTyps\n",
       "    ),\n",
       "    TargetTyps\n",
       "  ),\n",
       "  \u001b[33mCoeff\u001b[39m(\n",
       "    \u001b[33mBaseThenCondition\u001b[39m(\n",
       "      \u001b[33mFiberProductMap\u001b[39m(typeOf(_), FuncsWithDomain, FlipAppn, Terms, Terms),\n",
       "      Funcs,\n",
       "      \u001b[33mRestrict\u001b[39m(FuncOpt)\n",
       "    ),\n",
       "    Funcs\n",
       "  ),\n",
       "  \u001b[33mCoeff\u001b[39m(\u001b[33mFiberProductMap\u001b[39m(typeOf(_), FuncsWithDomain, FlipAppn, Terms, Terms), Terms),\n",
       "  \u001b[33mCoeff\u001b[39m(\u001b[33mFiberProductMap\u001b[39m(domOf, TermsWithTyp, Appln, Funcs, Terms), Terms),\n",
       "  \u001b[33mCoeff\u001b[39m(\u001b[33mInit\u001b[39m(Terms), Terms),\n",
       "  \u001b[33mCoeff\u001b[39m(\u001b[33mInit\u001b[39m(TypFamilies), TypFamilies),\n",
       "..."
      ]
     },
     "execution_count": 17,
     "metadata": {},
     "output_type": "execute_result"
    }
   ],
   "source": [
    "val coeffs = ats.collect{case coeff @ Coeff(_, _) => coeff}"
   ]
  },
  {
   "cell_type": "code",
   "execution_count": 18,
   "metadata": {},
   "outputs": [
    {
     "data": {
      "text/plain": [
       "\u001b[36mcs\u001b[39m: \u001b[32mVector\u001b[39m[(\u001b[32mOption\u001b[39m[\u001b[32mDouble\u001b[39m], \u001b[32mRandomVar\u001b[39m[\u001b[32mAny\u001b[39m])] = \u001b[33mVector\u001b[39m(\n",
       "  (\u001b[33mSome\u001b[39m(\u001b[32m0.1\u001b[39m), Typs),\n",
       "  (\u001b[33mSome\u001b[39m(\u001b[32m0.1\u001b[39m), Funcs),\n",
       "  (\u001b[33mSome\u001b[39m(\u001b[32m0.05\u001b[39m), Terms),\n",
       "  (\u001b[33mSome\u001b[39m(\u001b[32m0.1\u001b[39m), Funcs),\n",
       "  (\u001b[33mSome\u001b[39m(\u001b[32m0.1\u001b[39m), TypFamilies),\n",
       "  (\u001b[33mSome\u001b[39m(\u001b[32m0.1\u001b[39m), Typs),\n",
       "  (\u001b[33mSome\u001b[39m(\u001b[32m1.0\u001b[39m), Goals),\n",
       "  (\u001b[33mSome\u001b[39m(\u001b[32m0.1\u001b[39m), TypFamilies),\n",
       "  (\u001b[33mSome\u001b[39m(\u001b[32m0.5\u001b[39m), TargetTyps),\n",
       "  (\u001b[33mSome\u001b[39m(\u001b[32m0.1\u001b[39m), Funcs),\n",
       "  (\u001b[33mSome\u001b[39m(\u001b[32m0.1\u001b[39m), Terms),\n",
       "  (\u001b[33mSome\u001b[39m(\u001b[32m0.1\u001b[39m), Terms),\n",
       "  (\u001b[33mSome\u001b[39m(\u001b[32m0.55\u001b[39m), Terms),\n",
       "  (\u001b[33mSome\u001b[39m(\u001b[32m0.55\u001b[39m), TypFamilies),\n",
       "  (\u001b[33mSome\u001b[39m(\u001b[32m0.1\u001b[39m), Terms),\n",
       "  (\u001b[33mSome\u001b[39m(\u001b[32m0.1\u001b[39m), Typs),\n",
       "  (\u001b[33mSome\u001b[39m(\u001b[32m0.1\u001b[39m), Terms),\n",
       "  (\u001b[33mSome\u001b[39m(\u001b[32m0.05\u001b[39m), Typs),\n",
       "  (\u001b[33mSome\u001b[39m(\u001b[32m0.1\u001b[39m), Funcs),\n",
       "  (\u001b[33mSome\u001b[39m(\u001b[32m0.05\u001b[39m), Funcs),\n",
       "  (\u001b[33mSome\u001b[39m(\u001b[32m0.55\u001b[39m), Funcs),\n",
       "  (\u001b[33mSome\u001b[39m(\u001b[32m0.5\u001b[39m), TargetTyps),\n",
       "  (\u001b[33mSome\u001b[39m(\u001b[32m0.1\u001b[39m), TypFamilies),\n",
       "  (\u001b[33mSome\u001b[39m(\u001b[32m0.05\u001b[39m), Typs),\n",
       "  (\u001b[33mSome\u001b[39m(\u001b[32m0.05\u001b[39m), TypFamilies),\n",
       "  (\u001b[33mSome\u001b[39m(\u001b[32m0.1\u001b[39m), TypFamilies),\n",
       "  (\u001b[33mSome\u001b[39m(\u001b[32m0.5\u001b[39m), TypsAndFamilies),\n",
       "  (\u001b[33mSome\u001b[39m(\u001b[32m0.6\u001b[39m), Typs),\n",
       "  (\u001b[33mSome\u001b[39m(\u001b[32m0.5\u001b[39m), TypsAndFamilies)\n",
       ")"
      ]
     },
     "execution_count": 18,
     "metadata": {},
     "output_type": "execute_result"
    }
   ],
   "source": [
    "val cs =  coeffs.toVector.map(c => c.get(tg.nodeCoeffSeq) -> c.rv)"
   ]
  },
  {
   "cell_type": "code",
   "execution_count": 21,
   "metadata": {},
   "outputs": [
    {
     "data": {
      "text/plain": [
       "\u001b[36mtarget\u001b[39m: \u001b[32mVarVal\u001b[39m[\u001b[32mAny\u001b[39m] = \u001b[33mFinalVal\u001b[39m(\n",
       "  \u001b[33mElem\u001b[39m(\n",
       "    \u001b[32m(@a : 𝒰 ) ↦ (@b : 𝒰 ) ↦ (@a : @a) ↦ (@a : (@a → @b)) ↦ @a(@a)\u001b[39m,\n",
       "    \u001b[33mAtCoord\u001b[39m(TermsWithTyp, \u001b[32m∏(A : 𝒰 ){ ∏(B : 𝒰 ){ (A → ((A → B) → B)) } }\u001b[39m :: HNil)\n",
       "  )\n",
       ")"
      ]
     },
     "execution_count": 21,
     "metadata": {},
     "output_type": "execute_result"
    }
   ],
   "source": [
    "val target = Expression.varVals(mpEqTerms(1)).tail.head"
   ]
  },
  {
   "cell_type": "code",
   "execution_count": 27,
   "metadata": {},
   "outputs": [
    {
     "data": {
      "text/plain": [
       "\u001b[36mteqs\u001b[39m: \u001b[32mSet\u001b[39m[\u001b[32mEquation\u001b[39m] = \u001b[33mSet\u001b[39m(\n",
       "  \u001b[33mEquation\u001b[39m(\n",
       "    \u001b[33mFinalVal\u001b[39m(\n",
       "      \u001b[33mElem\u001b[39m(\n",
       "        \u001b[32m(@a : 𝒰 ) ↦ (@b : 𝒰 ) ↦ (@a : @a) ↦ (@a : (@a → @b)) ↦ @a(@a)\u001b[39m,\n",
       "        \u001b[33mAtCoord\u001b[39m(TermsWithTyp, \u001b[32m∏(A : 𝒰 ){ ∏(B : 𝒰 ){ (A → ((A → B) → B)) } }\u001b[39m :: HNil)\n",
       "      )\n",
       "    ),\n",
       "    \u001b[33mProduct\u001b[39m(\n",
       "      \u001b[33mCoeff\u001b[39m(\u001b[33mZipFlatMap\u001b[39m(TargetTyps, TermsWithTyp, Proj2, Terms), Terms),\n",
       "      \u001b[33mFinalVal\u001b[39m(\n",
       "        \u001b[33mInIsle\u001b[39m(\n",
       "          \u001b[33mElem\u001b[39m(\n",
       "            \u001b[32m(@b : 𝒰 ) ↦ (@a : @a) ↦ (@a : (@a → @b)) ↦ @a(@a)\u001b[39m,\n",
       "            \u001b[33mAtCoord\u001b[39m(TermsWithTyp, \u001b[32m∏(B : 𝒰 ){ (@a → ((@a → B) → B)) }\u001b[39m :: HNil)\n",
       "          ),\n",
       "          \u001b[32m@a\u001b[39m,\n",
       "          \u001b[33mIsland\u001b[39m(\n",
       "            \u001b[33mAtCoord\u001b[39m(TermsWithTyp, \u001b[32m∏(A : 𝒰 ){ ∏(B : 𝒰 ){ (A → ((A → B) → B)) } }\u001b[39m :: HNil),\n",
       "            \u001b[33mPiOutput\u001b[39m(\u001b[32m∏(A : 𝒰 ){ ∏(B : 𝒰 ){ (A → ((A → B) → B)) } }\u001b[39m),\n",
       "            \u001b[33mAddVar\u001b[39m(\u001b[32m𝒰 \u001b[39m, \u001b[32m0.3\u001b[39m),\n",
       "            Lambda,\n",
       "            InIsle\n",
       "          )\n",
       "        )\n",
       "      )\n",
       "    )\n",
       "  )\n",
       ")"
      ]
     },
     "execution_count": 27,
     "metadata": {},
     "output_type": "execute_result"
    }
   ],
   "source": [
    "val teqs = eqs.filter(_.lhs == target)"
   ]
  },
  {
   "cell_type": "code",
   "execution_count": 28,
   "metadata": {},
   "outputs": [
    {
     "data": {
      "text/plain": [
       "\u001b[36mres27\u001b[39m: \u001b[32mInt\u001b[39m = \u001b[32m1\u001b[39m"
      ]
     },
     "execution_count": 28,
     "metadata": {},
     "output_type": "execute_result"
    }
   ],
   "source": [
    "teqs.size"
   ]
  },
  {
   "cell_type": "code",
   "execution_count": null,
   "metadata": {},
   "outputs": [],
   "source": []
  },
  {
   "cell_type": "code",
   "execution_count": null,
   "metadata": {},
   "outputs": [],
   "source": []
  }
 ],
 "metadata": {
  "kernelspec": {
   "display_name": "Scala",
   "language": "scala",
   "name": "scala"
  },
  "language_info": {
   "codemirror_mode": "text/x-scala",
   "file_extension": ".scala",
   "mimetype": "text/x-scala",
   "name": "scala",
   "nbconvert_exporter": "script",
   "version": "2.12.8"
  }
 },
 "nbformat": 4,
 "nbformat_minor": 2
}
