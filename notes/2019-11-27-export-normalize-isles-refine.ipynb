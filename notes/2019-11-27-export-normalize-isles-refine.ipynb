{
 "cells": [
  {
   "cell_type": "markdown",
   "metadata": {},
   "source": [
    "## Testing export and normalization of isles\n",
    "\n",
    "When we have variables such as $A: Type$, $a : A$ and $B: Type$, we test whether we correctly:\n",
    "\n",
    "* export equations, so that variables end up in islands\n",
    "* normalize isle names.\n",
    "\n",
    "This time the test is more refined. Namely,\n",
    "\n",
    "* We generate with the equations after exporting and just $Type$ as the initial distribution.\n",
    "* We check that all terms are independent of the variables.\n",
    "* Generate with equations after normalization.\n",
    "* Make the same tests.\n",
    "* Also test if the distribution after normalization is approximately the same as before."
   ]
  },
  {
   "cell_type": "code",
   "execution_count": 1,
   "metadata": {},
   "outputs": [
    {
     "data": {
      "text/plain": [
       "\u001b[32mimport \u001b[39m\u001b[36m$cp.$                                              \n",
       "\u001b[39m\n",
       "\u001b[32mimport \u001b[39m\u001b[36mprovingground._ , interface._, HoTT._, learning._ \n",
       "\u001b[39m"
      ]
     },
     "execution_count": 1,
     "metadata": {},
     "output_type": "execute_result"
    }
   ],
   "source": [
    "import $cp.bin.`provingground-core-jvm-b17f79ea57.fat.jar`\n",
    "import provingground._ , interface._, HoTT._, learning._ \n",
    "repl.pprinter() = {\n",
    "  val p = repl.pprinter()\n",
    "  p.copy(\n",
    "    additionalHandlers = p.additionalHandlers.orElse {\n",
    "      translation.FansiShow.fansiHandler\n",
    "    }\n",
    "  )\n",
    "}\n"
   ]
  },
  {
   "cell_type": "code",
   "execution_count": 2,
   "metadata": {},
   "outputs": [
    {
     "data": {
      "text/plain": [
       "\u001b[36mA\u001b[39m: \u001b[32mTyp\u001b[39m[\u001b[32mTerm\u001b[39m] = \u001b[32mA\u001b[39m\n",
       "\u001b[36mB\u001b[39m: \u001b[32mTyp\u001b[39m[\u001b[32mTerm\u001b[39m] = \u001b[32mB\u001b[39m\n",
       "\u001b[36ma\u001b[39m: \u001b[32mTerm\u001b[39m = \u001b[32ma\u001b[39m\n",
       "\u001b[36mts\u001b[39m: \u001b[32mTermState\u001b[39m = \u001b[33mTermState\u001b[39m(\n",
       "  \u001b[33mFiniteDistribution\u001b[39m(\u001b[33mVector\u001b[39m(\u001b[33mWeighted\u001b[39m(\u001b[32ma\u001b[39m, \u001b[32m1.0\u001b[39m))),\n",
       "  \u001b[33mFiniteDistribution\u001b[39m(\u001b[33mVector\u001b[39m(\u001b[33mWeighted\u001b[39m(\u001b[32mA\u001b[39m, \u001b[32m0.5\u001b[39m), \u001b[33mWeighted\u001b[39m(\u001b[32mB\u001b[39m, \u001b[32m0.5\u001b[39m))),\n",
       "  \u001b[33mVector\u001b[39m(\u001b[32mA\u001b[39m, \u001b[32mB\u001b[39m, \u001b[32ma\u001b[39m),\n",
       "  \u001b[33mFiniteDistribution\u001b[39m(\u001b[33mVector\u001b[39m()),\n",
       "  \u001b[33mFiniteDistribution\u001b[39m(\u001b[33mVector\u001b[39m()),\n",
       "  \u001b[33mAppendVariable\u001b[39m(\u001b[33mAppendVariable\u001b[39m(\u001b[33mAppendVariable\u001b[39m(Empty, \u001b[32mA\u001b[39m), \u001b[32mB\u001b[39m), \u001b[32ma\u001b[39m)\n",
       ")"
      ]
     },
     "execution_count": 2,
     "metadata": {},
     "output_type": "execute_result"
    }
   ],
   "source": [
    "val A = \"A\" :: Type\n",
    "val B = \"B\" :: Type\n",
    "val a = \"a\" :: A\n",
    "val ts = TermState(FiniteDistribution.unif(a), FiniteDistribution.unif(A, B), vars = Vector(A, B, a), context = Context.Empty.addVariable(A).addVariable(B).addVariable(a))"
   ]
  },
  {
   "cell_type": "code",
   "execution_count": 3,
   "metadata": {},
   "outputs": [
    {
     "data": {
      "text/plain": [
       "\u001b[36mlp\u001b[39m: \u001b[32mLocalProver\u001b[39m = \u001b[33mLocalProver\u001b[39m(\n",
       "  \u001b[33mTermState\u001b[39m(\n",
       "    \u001b[33mFiniteDistribution\u001b[39m(\u001b[33mVector\u001b[39m(\u001b[33mWeighted\u001b[39m(\u001b[32ma\u001b[39m, \u001b[32m1.0\u001b[39m))),\n",
       "    \u001b[33mFiniteDistribution\u001b[39m(\u001b[33mVector\u001b[39m(\u001b[33mWeighted\u001b[39m(\u001b[32mA\u001b[39m, \u001b[32m0.5\u001b[39m), \u001b[33mWeighted\u001b[39m(\u001b[32mB\u001b[39m, \u001b[32m0.5\u001b[39m))),\n",
       "    \u001b[33mVector\u001b[39m(\u001b[32mA\u001b[39m, \u001b[32mB\u001b[39m, \u001b[32ma\u001b[39m),\n",
       "    \u001b[33mFiniteDistribution\u001b[39m(\u001b[33mVector\u001b[39m()),\n",
       "    \u001b[33mFiniteDistribution\u001b[39m(\u001b[33mVector\u001b[39m()),\n",
       "    \u001b[33mAppendVariable\u001b[39m(\u001b[33mAppendVariable\u001b[39m(\u001b[33mAppendVariable\u001b[39m(Empty, \u001b[32mA\u001b[39m), \u001b[32mB\u001b[39m), \u001b[32ma\u001b[39m)\n",
       "  ),\n",
       "  \u001b[33mTermGenParams\u001b[39m(\n",
       "    \u001b[32m0.1\u001b[39m,\n",
       "    \u001b[32m0.1\u001b[39m,\n",
       "    \u001b[32m0.1\u001b[39m,\n",
       "    \u001b[32m0.1\u001b[39m,\n",
       "    \u001b[32m0.1\u001b[39m,\n",
       "    \u001b[32m0.05\u001b[39m,\n",
       "    \u001b[32m0.05\u001b[39m,\n",
       "    \u001b[32m0.05\u001b[39m,\n",
       "    \u001b[32m0.0\u001b[39m,\n",
       "    \u001b[32m0.0\u001b[39m,\n",
       "    \u001b[32m0.0\u001b[39m,\n",
       "    \u001b[32m0.0\u001b[39m,\n",
       "    \u001b[32m0.3\u001b[39m,\n",
       "    \u001b[32m0.7\u001b[39m,\n",
       "    \u001b[32m0.5\u001b[39m,\n",
       "    \u001b[32m0.0\u001b[39m,\n",
       "    \u001b[32m0.0\u001b[39m,\n",
       "    \u001b[32m0.0\u001b[39m,\n",
       "    \u001b[33mOrElse\u001b[39m(\n",
       "      \u001b[33mOrElse\u001b[39m(\u001b[33mOrElse\u001b[39m(\u001b[33mOrElse\u001b[39m(<function1>, <function1>), <function1>), <function1>),\n",
       "      <function1>\n",
       "    )\n",
       "  ),\n",
       "  \u001b[32m1.0E-5\u001b[39m,\n",
       "  \u001b[32mNone\u001b[39m,\n",
       "  12 minutes,\n",
       "  \u001b[32m1.01\u001b[39m,\n",
       "  \u001b[32m1.0\u001b[39m,\n",
       "..."
      ]
     },
     "execution_count": 3,
     "metadata": {},
     "output_type": "execute_result"
    }
   ],
   "source": [
    "val lp = LocalProver(ts).sharpen(10)"
   ]
  },
  {
   "cell_type": "code",
   "execution_count": 4,
   "metadata": {},
   "outputs": [
    {
     "data": {
      "text/plain": [
       "\u001b[36mres3_0\u001b[39m: \u001b[32mVector\u001b[39m[\u001b[32mTerm\u001b[39m] = \u001b[33mVector\u001b[39m(\u001b[32mA\u001b[39m, \u001b[32mB\u001b[39m, \u001b[32ma\u001b[39m)\n",
       "\u001b[32mimport \u001b[39m\u001b[36mTermData._\n",
       "\u001b[39m\n",
       "\u001b[36mdatT\u001b[39m: \u001b[32mmonix\u001b[39m.\u001b[32meval\u001b[39m.\u001b[32mTask\u001b[39m[(\u001b[32mTermState\u001b[39m, \u001b[32mSet\u001b[39m[\u001b[32mEquationNode\u001b[39m])] = \u001b[33mFlatMap\u001b[39m(\n",
       "  \u001b[33mAsync\u001b[39m(<function2>, false, true, true),\n",
       "  provingground.learning.TermData$$$Lambda$2561/530697066@56ff73d9\n",
       ")"
      ]
     },
     "execution_count": 4,
     "metadata": {},
     "output_type": "execute_result"
    }
   ],
   "source": [
    "ts.vars\n",
    "import TermData._\n",
    "val datT = termData(lp)"
   ]
  },
  {
   "cell_type": "code",
   "execution_count": 5,
   "metadata": {},
   "outputs": [
    {
     "data": {
      "text/plain": [
       "\u001b[32mimport \u001b[39m\u001b[36mmonix.execution.Scheduler.Implicits.global\n",
       "\u001b[39m\n",
       "\u001b[36mtd\u001b[39m: (\u001b[32mTermState\u001b[39m, \u001b[32mSet\u001b[39m[\u001b[32mEquationNode\u001b[39m]) = (\n",
       "  \u001b[33mTermState\u001b[39m(\n",
       "    \u001b[33mFiniteDistribution\u001b[39m(\n",
       "      \u001b[33mVector\u001b[39m(\n",
       "        \u001b[33mWeighted\u001b[39m(\n",
       "          \u001b[32m(A : 𝒰 ) ↦ (B : 𝒰 ) ↦ (a : A) ↦ ((``@a_1 , @a_2) : A×B) ↦ a\u001b[39m,\n",
       "          \u001b[32m5.425255561327946E-4\u001b[39m\n",
       "        ),\n",
       "        \u001b[33mWeighted\u001b[39m(\n",
       "          \u001b[32m(A : 𝒰 ) ↦ (B : 𝒰 ) ↦ (a : A) ↦ (@a : (A → A×A)) ↦ @a\u001b[39m,\n",
       "          \u001b[32m2.3669326838587427E-5\u001b[39m\n",
       "        ),\n",
       "        \u001b[33mWeighted\u001b[39m(\n",
       "          \u001b[32m(A : 𝒰 ) ↦ (B : 𝒰 ) ↦ (a : A) ↦ (@a : (B → A×A)) ↦ @a\u001b[39m,\n",
       "          \u001b[32m2.3669326838587427E-5\u001b[39m\n",
       "        ),\n",
       "        \u001b[33mWeighted\u001b[39m(\n",
       "          \u001b[32m(A : 𝒰 ) ↦ (B : 𝒰 ) ↦ (a : A) ↦ (@a : A) ↦ (@a : B) ↦ (@a : A) ↦ @a\u001b[39m,\n",
       "          \u001b[32m3.2378133230521586E-5\u001b[39m\n",
       "        ),\n",
       "        \u001b[33mWeighted\u001b[39m(\n",
       "          \u001b[32m(A : 𝒰 ) ↦ (B : 𝒰 ) ↦ (a : A) ↦ (@a : A) ↦ (@a : A) ↦ (@a : B) ↦ @a\u001b[39m,\n",
       "          \u001b[32m4.625447604360225E-5\u001b[39m\n",
       "        ),\n",
       "        \u001b[33mWeighted\u001b[39m(\n",
       "          \u001b[32m(A : 𝒰 ) ↦ (B : 𝒰 ) ↦ (a : A) ↦ (@a : A) ↦ (@a : B) ↦ (@a : B) ↦ @a\u001b[39m,\n",
       "          \u001b[32m2.2664693261365112E-5\u001b[39m\n",
       "        ),\n",
       "        \u001b[33mWeighted\u001b[39m(\n",
       "          \u001b[32m(A : 𝒰 ) ↦ (B : 𝒰 ) ↦ (a : A) ↦ (@a : B) ↦ (@a : A) ↦ (@a : B) ↦ @a\u001b[39m,\n",
       "          \u001b[32m3.0017119505275946E-5\u001b[39m\n",
       "        ),\n",
       "        \u001b[33mWeighted\u001b[39m(\n",
       "          \u001b[32m(A : 𝒰 ) ↦ (B : 𝒰 ) ↦ (a : A) ↦ (@a : B) ↦ (@a : B) ↦ (@a : A) ↦ @a\u001b[39m,\n",
       "          \u001b[32m4.2881599293251334E-5\u001b[39m\n",
       "        ),\n",
       "        \u001b[33mWeighted\u001b[39m(\n",
       "          \u001b[32m(A : 𝒰 ) ↦ (B : 𝒰 ) ↦ (a : A) ↦ (@a : B) ↦ (@a : A) ↦ (@a : A) ↦ @a\u001b[39m,\n",
       "          \u001b[32m2.1011983653693162E-5\u001b[39m\n",
       "..."
      ]
     },
     "execution_count": 5,
     "metadata": {},
     "output_type": "execute_result"
    }
   ],
   "source": [
    "import monix.execution.Scheduler.Implicits.global\n",
    "val td = datT.runSyncUnsafe()"
   ]
  },
  {
   "cell_type": "code",
   "execution_count": 6,
   "metadata": {},
   "outputs": [
    {
     "data": {
      "text/plain": [
       "\u001b[36mns\u001b[39m: \u001b[32mTermState\u001b[39m = \u001b[33mTermState\u001b[39m(\n",
       "  \u001b[33mFiniteDistribution\u001b[39m(\n",
       "    \u001b[33mVector\u001b[39m(\n",
       "      \u001b[33mWeighted\u001b[39m(\n",
       "        \u001b[32m(A : 𝒰 ) ↦ (B : 𝒰 ) ↦ (a : A) ↦ ((``@a_1 , @a_2) : A×B) ↦ a\u001b[39m,\n",
       "        \u001b[32m5.425255561327946E-4\u001b[39m\n",
       "      ),\n",
       "      \u001b[33mWeighted\u001b[39m(\n",
       "        \u001b[32m(A : 𝒰 ) ↦ (B : 𝒰 ) ↦ (a : A) ↦ (@a : (A → A×A)) ↦ @a\u001b[39m,\n",
       "        \u001b[32m2.3669326838587427E-5\u001b[39m\n",
       "      ),\n",
       "      \u001b[33mWeighted\u001b[39m(\n",
       "        \u001b[32m(A : 𝒰 ) ↦ (B : 𝒰 ) ↦ (a : A) ↦ (@a : (B → A×A)) ↦ @a\u001b[39m,\n",
       "        \u001b[32m2.3669326838587427E-5\u001b[39m\n",
       "      ),\n",
       "      \u001b[33mWeighted\u001b[39m(\n",
       "        \u001b[32m(A : 𝒰 ) ↦ (B : 𝒰 ) ↦ (a : A) ↦ (@a : A) ↦ (@a : B) ↦ (@a : A) ↦ @a\u001b[39m,\n",
       "        \u001b[32m3.2378133230521586E-5\u001b[39m\n",
       "      ),\n",
       "      \u001b[33mWeighted\u001b[39m(\n",
       "        \u001b[32m(A : 𝒰 ) ↦ (B : 𝒰 ) ↦ (a : A) ↦ (@a : A) ↦ (@a : A) ↦ (@a : B) ↦ @a\u001b[39m,\n",
       "        \u001b[32m4.625447604360225E-5\u001b[39m\n",
       "      ),\n",
       "      \u001b[33mWeighted\u001b[39m(\n",
       "        \u001b[32m(A : 𝒰 ) ↦ (B : 𝒰 ) ↦ (a : A) ↦ (@a : A) ↦ (@a : B) ↦ (@a : B) ↦ @a\u001b[39m,\n",
       "        \u001b[32m2.2664693261365112E-5\u001b[39m\n",
       "      ),\n",
       "      \u001b[33mWeighted\u001b[39m(\n",
       "        \u001b[32m(A : 𝒰 ) ↦ (B : 𝒰 ) ↦ (a : A) ↦ (@a : B) ↦ (@a : A) ↦ (@a : B) ↦ @a\u001b[39m,\n",
       "        \u001b[32m3.0017119505275946E-5\u001b[39m\n",
       "      ),\n",
       "      \u001b[33mWeighted\u001b[39m(\n",
       "        \u001b[32m(A : 𝒰 ) ↦ (B : 𝒰 ) ↦ (a : A) ↦ (@a : B) ↦ (@a : B) ↦ (@a : A) ↦ @a\u001b[39m,\n",
       "        \u001b[32m4.2881599293251334E-5\u001b[39m\n",
       "      ),\n",
       "      \u001b[33mWeighted\u001b[39m(\n",
       "        \u001b[32m(A : 𝒰 ) ↦ (B : 𝒰 ) ↦ (a : A) ↦ (@a : B) ↦ (@a : A) ↦ (@a : A) ↦ @a\u001b[39m,\n",
       "        \u001b[32m2.1011983653693162E-5\u001b[39m\n",
       "      ),\n",
       "...\n",
       "\u001b[36meqs\u001b[39m: \u001b[32mSet\u001b[39m[\u001b[32mEquationNode\u001b[39m] = \u001b[33mSet\u001b[39m(\n",
       "  \u001b[33mEquationNode\u001b[39m(\n",
       "    \u001b[33mInitialVal\u001b[39m(\n",
       "      \u001b[33mInIsle\u001b[39m(\n",
       "        \u001b[33mInIsle\u001b[39m(\n",
       "          \u001b[33mInIsle\u001b[39m(\n",
       "            \u001b[33mInIsle\u001b[39m(\n",
       "              \u001b[33mElem\u001b[39m(\u001b[32mB\u001b[39m, Typs),\n",
       "              \u001b[32m@a\u001b[39m,\n",
       "              \u001b[33mIsland\u001b[39m(\n",
       "                Terms,\n",
       "                \u001b[33mConstRandVar\u001b[39m(Terms),\n",
       "                \u001b[33mAddVar\u001b[39m(\u001b[32m(B → A)\u001b[39m),\n",
       "                Lambda,\n",
       "                EnterIsle\n",
       "              )\n",
       "            ),\n",
       "            \u001b[32ma\u001b[39m,\n",
       "            \u001b[33mIsland\u001b[39m(\n",
       "              Typs,\n",
       "              \u001b[33mConstRandVar\u001b[39m(Typs),\n",
       "              provingground.learning.ExpressionEval$$Lambda$2810/440174345@22a1b85c,\n",
       "              Pi,\n",
       "              EnterIsle\n",
       "            )\n",
       "          ),\n",
       "          \u001b[32mB\u001b[39m,\n",
       "          \u001b[33mIsland\u001b[39m(\n",
       "            Terms,\n",
       "            \u001b[33mConstRandVar\u001b[39m(Terms),\n",
       "            provingground.learning.ExpressionEval$$Lambda$2816/1279821339@290d6093,\n",
       "            Lambda,\n",
       "            EnterIsle\n",
       "          )\n",
       "        ),\n",
       "        \u001b[32mA\u001b[39m,\n",
       "        \u001b[33mIsland\u001b[39m(\n",
       "..."
      ]
     },
     "execution_count": 6,
     "metadata": {},
     "output_type": "execute_result"
    }
   ],
   "source": [
    "val (ns, eqs) = td"
   ]
  },
  {
   "cell_type": "code",
   "execution_count": 7,
   "metadata": {},
   "outputs": [
    {
     "data": {
      "text/plain": [
       "\u001b[36mres6\u001b[39m: \u001b[32mSet\u001b[39m[\u001b[32mExpression\u001b[39m] = \u001b[33mSet\u001b[39m(\n",
       "  \u001b[33mFinalVal\u001b[39m(\n",
       "    \u001b[33mInIsle\u001b[39m(\n",
       "      \u001b[33mInIsle\u001b[39m(\n",
       "        \u001b[33mElem\u001b[39m(\u001b[32m(a : A) ↦ ((@a_1 , (@a_2_1 , @a_2_2)) : B×A×B) ↦ a\u001b[39m, Terms),\n",
       "        \u001b[32mB\u001b[39m,\n",
       "        \u001b[33mIsland\u001b[39m(\n",
       "          Terms,\n",
       "          \u001b[33mConstRandVar\u001b[39m(Terms),\n",
       "          provingground.learning.ExpressionEval$$Lambda$2816/1279821339@290d6093,\n",
       "          Lambda,\n",
       "          EnterIsle\n",
       "        )\n",
       "      ),\n",
       "      \u001b[32mA\u001b[39m,\n",
       "      \u001b[33mIsland\u001b[39m(\n",
       "        Typs,\n",
       "        \u001b[33mConstRandVar\u001b[39m(Typs),\n",
       "        provingground.learning.ExpressionEval$$Lambda$2810/440174345@5d8c4ef0,\n",
       "        Pi,\n",
       "        EnterIsle\n",
       "      )\n",
       "    )\n",
       "  ),\n",
       "  \u001b[33mInitialVal\u001b[39m(\n",
       "    \u001b[33mInIsle\u001b[39m(\n",
       "      \u001b[33mInIsle\u001b[39m(\n",
       "        \u001b[33mInIsle\u001b[39m(\n",
       "          \u001b[33mInIsle\u001b[39m(\n",
       "            \u001b[33mElem\u001b[39m(\u001b[32m(@a_1 , (@a_2_1 , @a_2_2))\u001b[39m, Terms),\n",
       "            \u001b[32m(@a_1 , (@a_2_1 , @a_2_2))\u001b[39m,\n",
       "            \u001b[33mIsland\u001b[39m(Terms, \u001b[33mConstRandVar\u001b[39m(Terms), \u001b[33mAddVar\u001b[39m(\u001b[32mA×B×B\u001b[39m), Lambda, EnterIsle)\n",
       "          ),\n",
       "          \u001b[32ma\u001b[39m,\n",
       "          \u001b[33mIsland\u001b[39m(\n",
       "            Terms,\n",
       "            \u001b[33mConstRandVar\u001b[39m(Terms),\n",
       "            provingground.learning.ExpressionEval$$Lambda$2816/1279821339@67dc8f..."
      ]
     },
     "execution_count": 7,
     "metadata": {},
     "output_type": "execute_result"
    }
   ],
   "source": [
    "eqs.map(_.lhs)"
   ]
  },
  {
   "cell_type": "code",
   "execution_count": 8,
   "metadata": {},
   "outputs": [
    {
     "data": {
      "text/plain": [
       "\u001b[36mres7\u001b[39m: \u001b[32mSet\u001b[39m[\u001b[32mExpression\u001b[39m] = \u001b[33mSet\u001b[39m(\n",
       "  \u001b[33mProduct\u001b[39m(\n",
       "    \u001b[33mIsleScale\u001b[39m(\u001b[32ma\u001b[39m, \u001b[33mElem\u001b[39m(\u001b[33mWrap\u001b[39m(\u001b[32m@a\u001b[39m), Funcs)),\n",
       "    \u001b[33mInitialVal\u001b[39m(\n",
       "      \u001b[33mInIsle\u001b[39m(\n",
       "        \u001b[33mInIsle\u001b[39m(\n",
       "          \u001b[33mElem\u001b[39m(\u001b[33mWrap\u001b[39m(\u001b[32m@a\u001b[39m), Funcs),\n",
       "          \u001b[32mB\u001b[39m,\n",
       "          \u001b[33mIsland\u001b[39m(\n",
       "            Terms,\n",
       "            \u001b[33mConstRandVar\u001b[39m(Terms),\n",
       "            provingground.learning.ExpressionEval$$Lambda$2816/1279821339@290d6093,\n",
       "            Lambda,\n",
       "            EnterIsle\n",
       "          )\n",
       "        ),\n",
       "        \u001b[32mA\u001b[39m,\n",
       "        \u001b[33mIsland\u001b[39m(\n",
       "          Terms,\n",
       "          \u001b[33mConstRandVar\u001b[39m(Terms),\n",
       "          provingground.learning.ExpressionEval$$Lambda$2816/1279821339@fda9dce,\n",
       "          Lambda,\n",
       "          EnterIsle\n",
       "        )\n",
       "      )\n",
       "    )\n",
       "  ),\n",
       "  \u001b[33mProduct\u001b[39m(\n",
       "    \u001b[33mIsleScale\u001b[39m(\u001b[32ma\u001b[39m, \u001b[33mElem\u001b[39m(\u001b[33mWrap\u001b[39m(\u001b[32m@a\u001b[39m), Funcs)),\n",
       "    \u001b[33mInitialVal\u001b[39m(\n",
       "      \u001b[33mInIsle\u001b[39m(\n",
       "        \u001b[33mInIsle\u001b[39m(\n",
       "          \u001b[33mElem\u001b[39m(\u001b[33mWrap\u001b[39m(\u001b[32m@a\u001b[39m), Funcs),\n",
       "          \u001b[32mB\u001b[39m,\n",
       "          \u001b[33mIsland\u001b[39m(\n",
       "            Terms,\n",
       "            \u001b[33mConstRandVar\u001b[39m(Terms),\n",
       "            provingground.learning.ExpressionEval$$Lambda$2816/1279821339@290d60..."
      ]
     },
     "execution_count": 8,
     "metadata": {},
     "output_type": "execute_result"
    }
   ],
   "source": [
    "eqs.map(_.rhs)"
   ]
  },
  {
   "cell_type": "code",
   "execution_count": 9,
   "metadata": {},
   "outputs": [
    {
     "data": {
      "text/plain": [
       "\u001b[36matoms\u001b[39m: \u001b[32mSet\u001b[39m[\u001b[32mGeneratorVariables\u001b[39m.\u001b[32mVariable\u001b[39m[\u001b[32mAny\u001b[39m]] = \u001b[33mSet\u001b[39m(\n",
       "  \u001b[33mInIsle\u001b[39m(\n",
       "    \u001b[33mInIsle\u001b[39m(\n",
       "      \u001b[33mInIsle\u001b[39m(\n",
       "        \u001b[33mInIsle\u001b[39m(\n",
       "          \u001b[33mInIsle\u001b[39m(\n",
       "            \u001b[33mInIsle\u001b[39m(\n",
       "              \u001b[33mElem\u001b[39m(\u001b[32mB\u001b[39m, Typs),\n",
       "              \u001b[32m@a\u001b[39m,\n",
       "              \u001b[33mIsland\u001b[39m(Typs, \u001b[33mConstRandVar\u001b[39m(Typs), \u001b[33mAddVar\u001b[39m(\u001b[32mB\u001b[39m), Sigma, EnterIsle)\n",
       "            ),\n",
       "            \u001b[32m@a\u001b[39m,\n",
       "            \u001b[33mIsland\u001b[39m(Typs, \u001b[33mConstRandVar\u001b[39m(Typs), \u001b[33mAddVar\u001b[39m(\u001b[32mB\u001b[39m), Pi, EnterIsle)\n",
       "          ),\n",
       "          \u001b[32m@a\u001b[39m,\n",
       "          \u001b[33mIsland\u001b[39m(Typs, \u001b[33mConstRandVar\u001b[39m(Typs), \u001b[33mAddVar\u001b[39m(\u001b[32mA\u001b[39m), Sigma, EnterIsle)\n",
       "        ),\n",
       "        \u001b[32ma\u001b[39m,\n",
       "        \u001b[33mIsland\u001b[39m(\n",
       "          Typs,\n",
       "          \u001b[33mConstRandVar\u001b[39m(Typs),\n",
       "          provingground.learning.ExpressionEval$$Lambda$2810/440174345@22a1b85c,\n",
       "          Pi,\n",
       "          EnterIsle\n",
       "        )\n",
       "      ),\n",
       "      \u001b[32mB\u001b[39m,\n",
       "      \u001b[33mIsland\u001b[39m(\n",
       "        Terms,\n",
       "        \u001b[33mConstRandVar\u001b[39m(Terms),\n",
       "        provingground.learning.ExpressionEval$$Lambda$2816/1279821339@290d6093,\n",
       "        Lambda,\n",
       "        EnterIsle\n",
       "      )\n",
       "    ),\n",
       "    \u001b[32mA\u001b[39m,\n",
       "    \u001b[33mIsland\u001b[39m(\n",
       "      Typs,\n",
       "      \u001b[33mConstRandVar\u001b[39m(Typs),\n",
       "..."
      ]
     },
     "execution_count": 9,
     "metadata": {},
     "output_type": "execute_result"
    }
   ],
   "source": [
    "val atoms = (eqs.map(_.rhs).flatMap(Expression.varVals(_)) union eqs.map(_.lhs).flatMap(Expression.varVals(_))).map(_.variable)"
   ]
  },
  {
   "cell_type": "code",
   "execution_count": 10,
   "metadata": {},
   "outputs": [
    {
     "data": {
      "text/plain": [
       "\u001b[32mimport \u001b[39m\u001b[36mTermRandomVars._, GeneratorVariables._\n",
       "\u001b[39m\n",
       "\u001b[36melemTerms\u001b[39m: \u001b[32mSet\u001b[39m[\u001b[32mTerm\u001b[39m] = \u001b[33mSet\u001b[39m(\n",
       "  \u001b[32m(A : 𝒰 ) ↦ (B : 𝒰 ) ↦ (a : A) ↦ (((```@a_1_1 , @a_1_2) , @a_2) : B×A×A) ↦ ((```@a_1_1 , @a_1_2) , @a_2)\u001b[39m,\n",
       "  \u001b[32m(A : 𝒰 ) ↦ (B : 𝒰 ) ↦ (a : A) ↦ (((```@a_1_1 , @a_1_2) , @a_2) : A×B×B) ↦ ((```@a_1_1 , @a_1_2) , @a_2)\u001b[39m,\n",
       "  \u001b[32m(A : 𝒰 ) ↦ (B : 𝒰 ) ↦ (a : A) ↦ (((```@a_1_1 , @a_1_2) , @a_2) : A×A×B) ↦ ((```@a_1_1 , @a_1_2) , @a_2)\u001b[39m,\n",
       "  \u001b[32m(A : 𝒰 ) ↦ (B : 𝒰 ) ↦ (a : A) ↦ (((``@a_1_1 , @a_1_2) , @a_2) : A×A×A) ↦ ((``@a_1_1 , @a_1_2) , @a_2)\u001b[39m,\n",
       "  \u001b[32m(A : 𝒰 ) ↦ (B : 𝒰 ) ↦ (a : A) ↦ (((``@a_1_1 , @a_1_2) , @a_2) : B×B×B) ↦ ((``@a_1_1 , @a_1_2) , @a_2)\u001b[39m,\n",
       "  \u001b[32m(A : 𝒰 ) ↦ (B : 𝒰 ) ↦ (a : A) ↦ (((```@a_1_1 , @a_1_2) , @a_2) : B×B×A) ↦ ((```@a_1_1 , @a_1_2) , @a_2)\u001b[39m,\n",
       "  \u001b[32m(A : 𝒰 ) ↦ (B : 𝒰 ) ↦ (a : A) ↦ (((```@a_1_1 , @a_1_2) , @a_2) : A×B×A) ↦ ((```@a_1_1 , @a_1_2) , @a_2)\u001b[39m,\n",
       "  \u001b[32m(A : 𝒰 ) ↦ (B : 𝒰 ) ↦ (a : A) ↦ (((```@a_1_1 , @a_1_2) , @a_2) : B×A×B) ↦ ((```@a_1_1 , @a_1_2) , @a_2)\u001b[39m,\n",
       "  \u001b[32m(A : 𝒰 ) ↦ (B : 𝒰 ) ↦ (a : A) ↦ (@a : B) ↦ (@a : A) ↦ @a\u001b[39m,\n",
       "  \u001b[32m(A : 𝒰 ) ↦ (B : 𝒰 ) ↦ (a : A) ↦ (@a : B) ↦ (@a : B) ↦ a\u001b[39m,\n",
       "  \u001b[32m(A : 𝒰 ) ↦ (B : 𝒰 ) ↦ (a : A) ↦ (@a : A) ↦ (@a : B) ↦ @a\u001b[39m,\n",
       "  \u001b[32m(A : 𝒰 ) ↦ (B : 𝒰 ) ↦ (a : A) ↦ (@a : A) ↦ (@a : A) ↦ @a\u001b[39m,\n",
       "  \u001b[32m(A : 𝒰 ) ↦ (B : 𝒰 ) ↦ (a : A) ↦ (@a : A) ↦ (@a : A) ↦ a\u001b[39m,\n",
       "  \u001b[32m(A : 𝒰 ) ↦ (B : 𝒰 ) ↦ (a : A) ↦ (@a : B) ↦ (@a : A) ↦ a\u001b[39m,\n",
       "  \u001b[32m(A : 𝒰 ) ↦ (B : 𝒰 ) ↦ (a : A) ↦ (@a : A) ↦ (@a : B) ↦ a\u001b[39m,\n",
       "  \u001b[32m(A : 𝒰 ) ↦ (B : 𝒰 ) ↦ (a : A) ↦ (@a : A) ↦ (@a : B) ↦ @a\u001b[39m,\n",
       "  \u001b[32m(A : 𝒰 ) ↦ (B : 𝒰 ) ↦ (a : A) ↦ (@a : B) ↦ (@a : A) ↦ @a\u001b[39m,\n",
       "  \u001b[32m(A : 𝒰 ) ↦ (B : 𝒰 ) ↦ (a : A) ↦ (@a : B) ↦ (@a : B) ↦ @a\u001b[39m,\n",
       "  \u001b[32m(A : 𝒰 ) ↦ (B : 𝒰 ) ↦ (a : A) ↦ (@a : (A → B)) ↦ a\u001b[39m,\n",
       "  \u001b[32m(A : 𝒰 ) ↦ (B : 𝒰 ) ↦ (a : A) ↦ (@a : (B → B)) ↦ a\u001b[39m,\n",
       "  \u001b[32m(A : 𝒰 ) ↦ (B : 𝒰 ) ↦ (a : A) ↦ (@a : ((A → A) → B)) ↦ a\u001b[39m,\n",
       "  \u001b[32m(A : 𝒰 ) ↦ (B : 𝒰 ) ↦ (a : A) ↦ (@a : ((A → B) → B)) ↦ a\u001b[39m,\n",
       "  \u001b[32m(A : 𝒰 ) ↦ (B : 𝒰 ) ↦ (a : A) ↦ (@a : ((B → A) → B)) ↦ a\u001b[39m,\n",
       "  \u001b[32m(A : 𝒰 ) ↦ (B : 𝒰 ) ↦ (a : A) ↦ (@a : ((B → B) → B)) ↦ a\u001b[39m,\n",
       "  \u001b[32m(A : 𝒰 ) ↦ (B : 𝒰 ) ↦ (a : A) ↦ (@a : (A×A → B)) ↦ a\u001b[39m,\n",
       "  \u001b[32m(A : 𝒰 ) ↦ (B : 𝒰 ) ↦ (a : A) ↦ (@a : (A×B → B)) ↦ a\u001b[39m,\n",
       "  \u001b[32m(A : 𝒰 ) ↦ (B : 𝒰 ) ↦ (a : A) ↦ (@a : (B×B → B)) ↦ a\u001b[39m,\n",
       "  \u001b[32m(A : 𝒰 ) ↦ (B : 𝒰 ) ↦ (a : A) ↦ (@a : (B×A → B)) ↦ a\u001b[39m,\n",
       "  \u001b[32m(A : 𝒰 ) ↦ (B : 𝒰 ) ↦ (a : A) ↦ (@a : ((A → B) → A)) ↦ a\u001b[39m,\n",
       "  \u001b[32m(A : 𝒰 ) ↦ (B : 𝒰 ) ↦ (a : A) ↦ (@a : ((A → A) → A)) ↦ a\u001b[39m,\n",
       "..."
      ]
     },
     "execution_count": 10,
     "metadata": {},
     "output_type": "execute_result"
    }
   ],
   "source": [
    "import TermRandomVars._, GeneratorVariables._\n",
    "val elemTerms = atoms.collect{case Elem(t: Term, Terms) => t}"
   ]
  },
  {
   "cell_type": "code",
   "execution_count": 11,
   "metadata": {},
   "outputs": [
    {
     "data": {
      "text/plain": [
       "\u001b[36mres10\u001b[39m: \u001b[32mBoolean\u001b[39m = false"
      ]
     },
     "execution_count": 11,
     "metadata": {},
     "output_type": "execute_result"
    }
   ],
   "source": [
    "elemTerms.exists(_.dependsOn(A))"
   ]
  },
  {
   "cell_type": "markdown",
   "metadata": {},
   "source": [
    "## First check\n",
    "\n",
    "None of the terms depends on the variables"
   ]
  },
  {
   "cell_type": "code",
   "execution_count": 12,
   "metadata": {},
   "outputs": [
    {
     "data": {
      "text/plain": [
       "\u001b[36mres11\u001b[39m: \u001b[32mInt\u001b[39m = \u001b[32m31252\u001b[39m"
      ]
     },
     "execution_count": 12,
     "metadata": {},
     "output_type": "execute_result"
    }
   ],
   "source": [
    "atoms.size"
   ]
  },
  {
   "cell_type": "code",
   "execution_count": 13,
   "metadata": {},
   "outputs": [
    {
     "data": {
      "text/plain": [
       "\u001b[36melemTyps\u001b[39m: \u001b[32mSet\u001b[39m[\u001b[32mTyp\u001b[39m[\u001b[32mTerm\u001b[39m]] = \u001b[33mSet\u001b[39m()"
      ]
     },
     "execution_count": 13,
     "metadata": {},
     "output_type": "execute_result"
    }
   ],
   "source": [
    "val elemTyps = atoms.collect{case Elem(t: Typ[Term], Typs) => t}"
   ]
  },
  {
   "cell_type": "code",
   "execution_count": 14,
   "metadata": {},
   "outputs": [
    {
     "data": {
      "text/plain": [
       "\u001b[36mnormEqs\u001b[39m: \u001b[32mSet\u001b[39m[\u001b[32mEquationNode\u001b[39m] = \u001b[33mSet\u001b[39m(\n",
       "  \u001b[33mEquationNode\u001b[39m(\n",
       "    \u001b[33mInitialVal\u001b[39m(\n",
       "      \u001b[33mInIsle\u001b[39m(\n",
       "        \u001b[33mInIsle\u001b[39m(\n",
       "          \u001b[33mInIsle\u001b[39m(\n",
       "            \u001b[33mInIsle\u001b[39m(\n",
       "              \u001b[33mInIsle\u001b[39m(\n",
       "                \u001b[33mElem\u001b[39m(\u001b[32m@a\u001b[39m, Terms),\n",
       "                \u001b[32m@a\u001b[39m,\n",
       "                \u001b[33mIsland\u001b[39m(\n",
       "                  Terms,\n",
       "                  provingground.learning.TermRandomVars$$$Lambda$3125/2103660574@714e5352,\n",
       "                  \u001b[33mAddVar\u001b[39m(\u001b[32m@b\u001b[39m),\n",
       "                  Lambda,\n",
       "                  EnterIsle\n",
       "                )\n",
       "              ),\n",
       "              \u001b[32m@b\u001b[39m,\n",
       "              \u001b[33mIsland\u001b[39m(\n",
       "                \u001b[33mAtCoord\u001b[39m(FuncsWithDomain, \u001b[32m@a\u001b[39m :: HNil),\n",
       "                provingground.learning.TermRandomVars$$$Lambda$3125/2103660574@419a2b43,\n",
       "                \u001b[33mAddVar\u001b[39m(\u001b[32m@a\u001b[39m),\n",
       "                Lambda,\n",
       "                EnterIsle\n",
       "              )\n",
       "            ),\n",
       "            \u001b[32m@a\u001b[39m,\n",
       "            \u001b[33mIsland\u001b[39m(\n",
       "              Typs,\n",
       "              provingground.learning.TermRandomVars$$$Lambda$3125/2103660574@888b3f3,\n",
       "              \u001b[33mAddVar\u001b[39m(\u001b[32m@a\u001b[39m),\n",
       "              Pi,\n",
       "              EnterIsle\n",
       "            )\n",
       "          ),\n",
       "..."
      ]
     },
     "execution_count": 14,
     "metadata": {},
     "output_type": "execute_result"
    }
   ],
   "source": [
    "val normEqs = eqs.map(eq => TermData.isleNormalize(eq))"
   ]
  },
  {
   "cell_type": "code",
   "execution_count": 17,
   "metadata": {},
   "outputs": [
    {
     "data": {
      "text/plain": [
       "\u001b[36mnormAtoms\u001b[39m: \u001b[32mSet\u001b[39m[\u001b[32mVariable\u001b[39m[\u001b[32mAny\u001b[39m]] = \u001b[33mSet\u001b[39m(\n",
       "  \u001b[33mInIsle\u001b[39m(\n",
       "    \u001b[33mInIsle\u001b[39m(\n",
       "      \u001b[33mInIsle\u001b[39m(\n",
       "        \u001b[33mInIsle\u001b[39m(\n",
       "          \u001b[33mElem\u001b[39m(\u001b[32m@b\u001b[39m, Typs),\n",
       "          \u001b[32m(@a_1 , @a_2)\u001b[39m,\n",
       "          \u001b[33mIsland\u001b[39m(\n",
       "            TypFamilies,\n",
       "            provingground.learning.TermRandomVars$$$Lambda$3125/2103660574@62a7fbf6,\n",
       "            \u001b[33mAddVar\u001b[39m(\u001b[32m@b×@b\u001b[39m),\n",
       "            Lambda,\n",
       "            EnterIsle\n",
       "          )\n",
       "        ),\n",
       "        \u001b[32m@a\u001b[39m,\n",
       "        \u001b[33mIsland\u001b[39m(\n",
       "          Terms,\n",
       "          provingground.learning.TermRandomVars$$$Lambda$3125/2103660574@1aa1e3c8,\n",
       "          \u001b[33mAddVar\u001b[39m(\u001b[32m@a\u001b[39m),\n",
       "          Lambda,\n",
       "          EnterIsle\n",
       "        )\n",
       "      ),\n",
       "      \u001b[32m@b\u001b[39m,\n",
       "      \u001b[33mIsland\u001b[39m(\n",
       "        Terms,\n",
       "        provingground.learning.TermRandomVars$$$Lambda$3125/2103660574@451eab90,\n",
       "        \u001b[33mAddVar\u001b[39m(\u001b[32m𝒰 \u001b[39m),\n",
       "        Lambda,\n",
       "        EnterIsle\n",
       "      )\n",
       "    ),\n",
       "    \u001b[32m@a\u001b[39m,\n",
       "    \u001b[33mIsland\u001b[39m(\n",
       "      Terms,\n",
       "      provingground.learning.TermRandomVars$$$Lambda$3125/2103660574@668d73c6,\n",
       "..."
      ]
     },
     "execution_count": 17,
     "metadata": {},
     "output_type": "execute_result"
    }
   ],
   "source": [
    "val normAtoms = (normEqs.map(_.rhs).flatMap(Expression.varVals(_)) union normEqs.map(_.lhs).flatMap(Expression.varVals(_))).map(_.variable)"
   ]
  },
  {
   "cell_type": "code",
   "execution_count": 18,
   "metadata": {},
   "outputs": [
    {
     "data": {
      "text/plain": [
       "\u001b[36mnormElemTerms\u001b[39m: \u001b[32mSet\u001b[39m[\u001b[32mTerm\u001b[39m] = \u001b[33mSet\u001b[39m(\n",
       "  \u001b[32m(A : 𝒰 ) ↦ (B : 𝒰 ) ↦ (a : A) ↦ (((```@a_1_1 , @a_1_2) , @a_2) : A×A×B) ↦ ((```@a_1_1 , @a_1_2) , @a_2)\u001b[39m,\n",
       "  \u001b[32m(A : 𝒰 ) ↦ (B : 𝒰 ) ↦ (a : A) ↦ (((``@a_1_1 , @a_1_2) , @a_2) : A×A×A) ↦ ((``@a_1_1 , @a_1_2) , @a_2)\u001b[39m,\n",
       "  \u001b[32m(A : 𝒰 ) ↦ (B : 𝒰 ) ↦ (a : A) ↦ (((```@a_1_1 , @a_1_2) , @a_2) : B×A×A) ↦ ((```@a_1_1 , @a_1_2) , @a_2)\u001b[39m,\n",
       "  \u001b[32m(A : 𝒰 ) ↦ (B : 𝒰 ) ↦ (a : A) ↦ (((``@a_1_1 , @a_1_2) , @a_2) : B×B×B) ↦ ((``@a_1_1 , @a_1_2) , @a_2)\u001b[39m,\n",
       "  \u001b[32m(A : 𝒰 ) ↦ (B : 𝒰 ) ↦ (a : A) ↦ (((```@a_1_1 , @a_1_2) , @a_2) : A×B×A) ↦ ((```@a_1_1 , @a_1_2) , @a_2)\u001b[39m,\n",
       "  \u001b[32m(A : 𝒰 ) ↦ (B : 𝒰 ) ↦ (a : A) ↦ (((```@a_1_1 , @a_1_2) , @a_2) : A×B×B) ↦ ((```@a_1_1 , @a_1_2) , @a_2)\u001b[39m,\n",
       "  \u001b[32m(A : 𝒰 ) ↦ (B : 𝒰 ) ↦ (a : A) ↦ (((```@a_1_1 , @a_1_2) , @a_2) : B×B×A) ↦ ((```@a_1_1 , @a_1_2) , @a_2)\u001b[39m,\n",
       "  \u001b[32m(A : 𝒰 ) ↦ (B : 𝒰 ) ↦ (a : A) ↦ (((```@a_1_1 , @a_1_2) , @a_2) : B×A×B) ↦ ((```@a_1_1 , @a_1_2) , @a_2)\u001b[39m,\n",
       "  \u001b[32m(A : 𝒰 ) ↦ (B : 𝒰 ) ↦ (a : A) ↦ (@a : A) ↦ (@a : B) ↦ a\u001b[39m,\n",
       "  \u001b[32m(A : 𝒰 ) ↦ (B : 𝒰 ) ↦ (a : A) ↦ (@a : B) ↦ (@a : B) ↦ @a\u001b[39m,\n",
       "  \u001b[32m(A : 𝒰 ) ↦ (B : 𝒰 ) ↦ (a : A) ↦ (@a : B) ↦ (@a : A) ↦ a\u001b[39m,\n",
       "  \u001b[32m(A : 𝒰 ) ↦ (B : 𝒰 ) ↦ (a : A) ↦ (@a : A) ↦ (@a : A) ↦ a\u001b[39m,\n",
       "  \u001b[32m(A : 𝒰 ) ↦ (B : 𝒰 ) ↦ (a : A) ↦ (@a : B) ↦ (@a : A) ↦ @a\u001b[39m,\n",
       "  \u001b[32m(A : 𝒰 ) ↦ (B : 𝒰 ) ↦ (a : A) ↦ (@a : B) ↦ (@a : A) ↦ @a\u001b[39m,\n",
       "  \u001b[32m(A : 𝒰 ) ↦ (B : 𝒰 ) ↦ (a : A) ↦ (@a : A) ↦ (@a : B) ↦ @a\u001b[39m,\n",
       "  \u001b[32m(A : 𝒰 ) ↦ (B : 𝒰 ) ↦ (a : A) ↦ (@a : A) ↦ (@a : B) ↦ @a\u001b[39m,\n",
       "  \u001b[32m(A : 𝒰 ) ↦ (B : 𝒰 ) ↦ (a : A) ↦ (@a : B) ↦ (@a : B) ↦ a\u001b[39m,\n",
       "  \u001b[32m(A : 𝒰 ) ↦ (B : 𝒰 ) ↦ (a : A) ↦ (@a : A) ↦ (@a : A) ↦ @a\u001b[39m,\n",
       "  \u001b[32m(A : 𝒰 ) ↦ (B : 𝒰 ) ↦ (a : A) ↦ (@a : (A → B)) ↦ a\u001b[39m,\n",
       "  \u001b[32m(A : 𝒰 ) ↦ (B : 𝒰 ) ↦ (a : A) ↦ (@a : ((A → A) → A)) ↦ a\u001b[39m,\n",
       "  \u001b[32m(A : 𝒰 ) ↦ (B : 𝒰 ) ↦ (a : A) ↦ (@a : (A×B → A)) ↦ a\u001b[39m,\n",
       "  \u001b[32m(A : 𝒰 ) ↦ (B : 𝒰 ) ↦ (a : A) ↦ (@a : (A×A → A)) ↦ a\u001b[39m,\n",
       "  \u001b[32m(A : 𝒰 ) ↦ (B : 𝒰 ) ↦ (a : A) ↦ (@a : ((A → B) → B)) ↦ a\u001b[39m,\n",
       "  \u001b[32m(A : 𝒰 ) ↦ (B : 𝒰 ) ↦ (a : A) ↦ (@a : (B×B → A)) ↦ a\u001b[39m,\n",
       "  \u001b[32m(A : 𝒰 ) ↦ (B : 𝒰 ) ↦ (a : A) ↦ (@a : ((A → A) → B)) ↦ a\u001b[39m,\n",
       "  \u001b[32m(A : 𝒰 ) ↦ (B : 𝒰 ) ↦ (a : A) ↦ (@a : ((A → B) → A)) ↦ a\u001b[39m,\n",
       "  \u001b[32m(A : 𝒰 ) ↦ (B : 𝒰 ) ↦ (a : A) ↦ (@a : (B → B)) ↦ a\u001b[39m,\n",
       "  \u001b[32m(A : 𝒰 ) ↦ (B : 𝒰 ) ↦ (a : A) ↦ (@a : (B×B → B)) ↦ a\u001b[39m,\n",
       "  \u001b[32m(A : 𝒰 ) ↦ (B : 𝒰 ) ↦ (a : A) ↦ (@a : (B×A → A)) ↦ a\u001b[39m,\n",
       "  \u001b[32m(A : 𝒰 ) ↦ (B : 𝒰 ) ↦ (a : A) ↦ (@a : (A×A → B)) ↦ a\u001b[39m,\n",
       "..."
      ]
     },
     "execution_count": 18,
     "metadata": {},
     "output_type": "execute_result"
    }
   ],
   "source": [
    "val normElemTerms = normAtoms.collect{case Elem(t: Term, Terms) => t}"
   ]
  },
  {
   "cell_type": "code",
   "execution_count": 19,
   "metadata": {},
   "outputs": [
    {
     "name": "stdout",
     "output_type": "stream",
     "text": [
      "\u001b[33mSet\u001b[39m(\n",
      "  \u001b[33mFinalVal\u001b[39m(\n",
      "    \u001b[33mInIsle\u001b[39m(\n",
      "      \u001b[33mInIsle\u001b[39m(\n",
      "        \u001b[33mInIsle\u001b[39m(\n",
      "          \u001b[33mInIsle\u001b[39m(\n",
      "            \u001b[33mElem\u001b[39m(\u001b[32m@a\u001b[39m, Typs),\n",
      "            \u001b[32m@b\u001b[39m,\n",
      "            \u001b[33mIsland\u001b[39m(\n",
      "              Typs,\n",
      "              provingground.learning.TermRandomVars$$$Lambda$3125/2103660574@685aabf4,\n",
      "              \u001b[33mAddVar\u001b[39m(\u001b[32m@a\u001b[39m),\n",
      "              Sigma,\n",
      "              EnterIsle\n",
      "            )\n",
      "          ),\n",
      "          \u001b[32m@a\u001b[39m,\n",
      "          \u001b[33mIsland\u001b[39m(\n",
      "            Terms,\n",
      "            provingground.learning.TermRandomVars$$$Lambda$3125/2103660574@41b62c6,\n",
      "            \u001b[33mAddVar\u001b[39m(\u001b[32m@a\u001b[39m),\n",
      "            Lambda,\n",
      "            EnterIsle\n",
      "          )\n",
      "        ),\n",
      "        \u001b[32m@b\u001b[39m,\n",
      "        \u001b[33mIsland\u001b[39m(\n",
      "          Terms,\n",
      "          provingground.learning.TermRandomVars$$$Lambda$3125/2103660574@75a178fe,\n",
      "          \u001b[33mAddVar\u001b[39m(\u001b[32m𝒰 \u001b[39m),\n",
      "          Lambda,\n",
      "          EnterIsle\n",
      "        )\n",
      "      ),\n",
      "      \u001b[32m@a\u001b[39m,\n",
      "      \u001b[33mIsland\u001b[39m(\n",
      "        Typs,\n",
      "        provingground.learning.TermRandomVars$$$Lambda$3125/2103660574@7bb9b5b0,\n",
      "        \u001b[33mAddVar\u001b[39m(\u001b[32m𝒰 \u001b[39m),\n",
      "        Pi,\n",
      "        EnterIsle\n",
      "      )\n",
      "    )\n",
      "  ),\n",
      "  \u001b[33mFinalVal\u001b[39m(\n",
      "    \u001b[33mInIsle\u001b[39m(\n",
      "      \u001b[33mInIsle\u001b[39m(\n",
      "        \u001b[33mInIsle\u001b[39m(\n",
      "          \u001b[33mElem\u001b[39m(\u001b[32m(@b×@a → @a×@b)\u001b[39m, Typs),\n",
      "          \u001b[32m@a\u001b[39m,\n",
      "          \u001b[33mIsland\u001b[39m(\n",
      "            Typs,\n",
      "            provingground.learning.TermRandomVars$$$Lambda$3125/2103660574@66ee709,\n",
      "            \u001b[33mAddVar\u001b[39m(\u001b[32m@a\u001b[39m),\n",
      "            Pi,\n",
      "            EnterIsle\n",
      "          )\n",
      "        ),\n",
      "        \u001b[32m@b\u001b[39m,\n",
      "        \u001b[33mIsland\u001b[39m(\n",
      "          Terms,\n",
      "          provingground.learning.TermRandomVars$$$Lambda$3125/2103660574@2831bf05,\n",
      "          \u001b[33mAddVar\u001b[39m(\u001b[32m𝒰 \u001b[39m),\n",
      "          Lambda,\n",
      "          EnterIsle\n",
      "        )\n",
      "      ),\n",
      "      \u001b[32m@a\u001b[39m,\n",
      "      \u001b[33mIsland\u001b[39m(\n",
      "        Terms,\n",
      "        provingground.learning.TermRandomVars$$$Lambda$3125/2103660574@67ea8897,\n",
      "        \u001b[33mAddVar\u001b[39m(\u001b[32m𝒰 \u001b[39m),\n",
      "        Lambda,\n",
      "        EnterIsle\n",
      "      )\n",
      "    )\n",
      "  ),\n",
      "  \u001b[33mInitialVal\u001b[39m(\n",
      "    \u001b[33mInIsle\u001b[39m(\n",
      "      \u001b[33mInIsle\u001b[39m(\n",
      "        \u001b[33mInIsle\u001b[39m(\n",
      "          \u001b[33mInIsle\u001b[39m(\n",
      "            \u001b[33mInIsle\u001b[39m(\n",
      "              \u001b[33mElem\u001b[39m(\u001b[32m@a\u001b[39m, Terms),\n",
      "              \u001b[32m@a\u001b[39m,\n",
      "              \u001b[33mIsland\u001b[39m(\n",
      "                Terms,\n",
      "                provingground.learning.TermRandomVars$$$Lambda$3125/2103660574@714e5352,\n",
      "                \u001b[33mAddVar\u001b[39m(\u001b[32m@b\u001b[39m),\n",
      "                Lambda,\n",
      "                EnterIsle\n",
      "              )\n",
      "            ),\n",
      "            \u001b[32m@b\u001b[39m,\n",
      "            \u001b[33mIsland\u001b[39m(\n",
      "              \u001b[33mAtCoord\u001b[39m(FuncsWithDomain, \u001b[32m@a\u001b[39m :: HNil),\n",
      "              provingground.learning.TermRandomVars$$$Lambda$3125/2103660574@419a2b43,\n",
      "              \u001b[33mAddVar\u001b[39m(\u001b[32m@a\u001b[39m),\n",
      "              Lambda,\n",
      "              EnterIsle\n",
      "            )\n",
      "          ),\n",
      "          \u001b[32m@a\u001b[39m,\n",
      "          \u001b[33mIsland\u001b[39m(\n",
      "            Typs,\n",
      "            provingground.learning.TermRandomVars$$$Lambda$3125/2103660574@888b3f3,\n",
      "            \u001b[33mAddVar\u001b[39m(\u001b[32m@a\u001b[39m),\n",
      "            Pi,\n",
      "            EnterIsle\n",
      "          )\n",
      "        ),\n",
      "        \u001b[32m@b\u001b[39m,\n",
      "        \u001b[33mIsland\u001b[39m(\n",
      "          Typs,\n",
      "          provingground.learning.TermRandomVars$$$Lambda$3125/2103660574@678f250f,\n",
      "          \u001b[33mAddVar\u001b[39m(\u001b[32m𝒰 \u001b[39m),\n",
      "          Pi,\n",
      "          EnterIsle\n",
      "        )\n",
      "      ),\n",
      "      \u001b[32m@a\u001b[39m,\n",
      "      \u001b[33mIsland\u001b[39m(\n",
      "        Typs,\n",
      "        provingground.learning.TermRandomVars$$$Lambda$3125/2103660574@64d83e6f,\n",
      "        \u001b[33mAddVar\u001b[39m(\u001b[32m𝒰 \u001b[39m),\n",
      "        Pi,\n",
      "        EnterIsle\n",
      "      )\n",
      "    )\n",
      "  ),\n",
      "  \u001b[33mInitialVal\u001b[39m(\n",
      "    \u001b[33mInIsle\u001b[39m(\n",
      "      \u001b[33mInIsle\u001b[39m(\n",
      "        \u001b[33mInIsle\u001b[39m(\n",
      "          \u001b[33mInIsle\u001b[39m(\n",
      "            \u001b[33mInIsle\u001b[39m(\n",
      "              \u001b[33mInIsle\u001b[39m(\n",
      "                \u001b[33mElem\u001b[39m(\u001b[32m@a\u001b[39m, Typs),\n",
      "                \u001b[32m@b\u001b[39m,\n",
      "                \u001b[33mIsland\u001b[39m(\n",
      "                  Typs,\n",
      "                  provingground.learning.TermRandomVars$$$Lambda$3125/2103660574@296f1e9f,\n",
      "                  \u001b[33mAddVar\u001b[39m(\u001b[32m@b\u001b[39m),\n",
      "                  Pi,\n",
      "                  EnterIsle\n",
      "                )\n",
      "              ),\n",
      "              \u001b[32m@b\u001b[39m,\n",
      "              \u001b[33mIsland\u001b[39m(\n",
      "                Typs,\n",
      "                provingground.learning.TermRandomVars$$$Lambda$3125/2103660574@fb94f3,\n",
      "                \u001b[33mAddVar\u001b[39m(\u001b[32m@a\u001b[39m),\n",
      "                Pi,\n",
      "                EnterIsle\n",
      "              )\n",
      "            ),\n",
      "            \u001b[32m@a\u001b[39m,\n",
      "            \u001b[33mIsland\u001b[39m(\n",
      "              Typs,\n",
      "              provingground.learning.TermRandomVars$$$Lambda$3125/2103660574@69a3c9ea,\n",
      "              \u001b[33mAddVar\u001b[39m(\u001b[32m@b\u001b[39m),\n",
      "              Sigma,\n",
      "              EnterIsle\n",
      "            )\n",
      "          ),\n",
      "          \u001b[32m@a\u001b[39m,\n",
      "          \u001b[33mIsland\u001b[39m(\n",
      "            Terms,\n",
      "            provingground.learning.TermRandomVars$$$Lambda$3125/2103660574@3f62238e,\n",
      "            \u001b[33mAddVar\u001b[39m(\u001b[32m@a\u001b[39m),\n",
      "            Lambda,\n",
      "            EnterIsle\n",
      "          )\n",
      "        ),\n",
      "        \u001b[32m@b\u001b[39m,\n",
      "        \u001b[33mIsland\u001b[39m(\n",
      "          Typs,\n",
      "          provingground.learning.TermRandomVars$$$Lambda$3125/2103660574@6e28491b,\n",
      "          \u001b[33mAddVar\u001b[39m(\u001b[32m𝒰 \u001b[39m),\n",
      "          Pi,\n",
      "          EnterIsle\n",
      "        )\n",
      "      ),\n",
      "      \u001b[32m@a\u001b[39m,\n",
      "      \u001b[33mIsland\u001b[39m(\n",
      "        Typs,\n",
      "        provingground.learning.TermRandomVars$$$Lambda$3125/2103660574@32a81421,\n",
      "        \u001b[33mAddVar\u001b[39m(\u001b[32m𝒰 \u001b[39m),\n",
      "        Pi,\n",
      "        EnterIsle\n",
      "      )\n",
      "    )\n",
      "  ),\n",
      "  \u001b[33mFinalVal\u001b[39m(\n",
      "    \u001b[33mInIsle\u001b[39m(\n",
      "      \u001b[33mInIsle\u001b[39m(\n",
      "        \u001b[33mInIsle\u001b[39m(\n",
      "          \u001b[33mElem\u001b[39m(\u001b[33mWrap\u001b[39m(\u001b[32m(@a : (@b → @b)) ↦ @b\u001b[39m), TypFamilies),\n",
      "          \u001b[32m@a\u001b[39m,\n",
      "          \u001b[33mIsland\u001b[39m(\n",
      "            Typs,\n",
      "            provingground.learning.TermRandomVars$$$Lambda$3125/2103660574@4cb07ad,\n",
      "            \u001b[33mAddVar\u001b[39m(\u001b[32m@a\u001b[39m),\n",
      "            Pi,\n",
      "            EnterIsle\n",
      "          )\n",
      "        ),\n",
      "        \u001b[32m@b\u001b[39m,\n",
      "        \u001b[33mIsland\u001b[39m(\n",
      "          Terms,\n",
      "          provingground.learning.TermRandomVars$$$Lambda$3125/2103660574@541c4fca,\n",
      "          \u001b[33mAddVar\u001b[39m(\u001b[32m𝒰 \u001b[39m),\n",
      "          Lambda,\n",
      "          EnterIsle\n",
      "        )\n",
      "      ),\n",
      "      \u001b[32m@a\u001b[39m,\n",
      "      \u001b[33mIsland\u001b[39m(\n",
      "        Terms,\n",
      "        provingground.learning.TermRandomVars$$$Lambda$3125/2103660574@72978067,\n",
      "        \u001b[33mAddVar\u001b[39m(\u001b[32m𝒰 \u001b[39m),\n",
      "        Lambda,\n",
      "        EnterIsle\n",
      "      )\n",
      "    )\n",
      "  ),\n",
      "  \u001b[33mFinalVal\u001b[39m(\n",
      "    \u001b[33mInIsle\u001b[39m(\n",
      "      \u001b[33mInIsle\u001b[39m(\n",
      "        \u001b[33mInIsle\u001b[39m(\n",
      "          \u001b[33mElem\u001b[39m(\u001b[33mWrap\u001b[39m(\u001b[32m(@a : @a) ↦ @b\u001b[39m), TypFamilies),\n",
      "          \u001b[32m@a\u001b[39m,\n",
      "          \u001b[33mIsland\u001b[39m(\n",
      "            Typs,\n",
      "            provingground.learning.TermRandomVars$$$Lambda$3125/2103660574@56173bbd,\n",
      "            \u001b[33mAddVar\u001b[39m(\u001b[32m@a\u001b[39m),\n",
      "            Pi,\n",
      "            EnterIsle\n",
      "          )\n",
      "        ),\n",
      "        \u001b[32m@b\u001b[39m,\n",
      "        \u001b[33mIsland\u001b[39m(\n",
      "          Terms,\n",
      "          provingground.learning.TermRandomVars$$$Lambda$3125/2103660574@2702ae3d,\n",
      "          \u001b[33mAddVar\u001b[39m(\u001b[32m𝒰 \u001b[39m),\n",
      "          Lambda,\n",
      "          EnterIsle\n",
      "        )\n",
      "      ),\n",
      "      \u001b[32m@a\u001b[39m,\n",
      "      \u001b[33mIsland\u001b[39m(\n",
      "        Terms,\n",
      "        provingground.learning.TermRandomVars$$$Lambda$3125/2103660574@382206bd,\n",
      "        \u001b[33mAddVar\u001b[39m(\u001b[32m𝒰 \u001b[39m),\n",
      "        Lambda,\n",
      "        EnterIsle\n",
      "      )\n",
      "    )\n",
      "  ),\n",
      "  \u001b[33mFinalVal\u001b[39m(\n",
      "    \u001b[33mInIsle\u001b[39m(\n",
      "      \u001b[33mInIsle\u001b[39m(\n",
      "        \u001b[33mInIsle\u001b[39m(\n",
      "          \u001b[33mInIsle\u001b[39m(\n",
      "            \u001b[33mInIsle\u001b[39m(\n",
      "              \u001b[33mInIsle\u001b[39m(\n",
      "                \u001b[33mElem\u001b[39m(\u001b[32m@b\u001b[39m, Typs),\n",
      "                \u001b[32m@a\u001b[39m,\n",
      "                \u001b[33mIsland\u001b[39m(\n",
      "                  Typs,\n",
      "                  provingground.learning.TermRandomVars$$$Lambda$3125/2103660574@7a90a5b6,\n",
      "                  \u001b[33mAddVar\u001b[39m(\u001b[32m@b\u001b[39m),\n",
      "                  Pi,\n",
      "                  EnterIsle\n",
      "                )\n",
      "              ),\n",
      "              \u001b[32m@c\u001b[39m,\n",
      "              \u001b[33mIsland\u001b[39m(\n",
      "                Typs,\n",
      "                provingground.learning.TermRandomVars$$$Lambda$3125/2103660574@3b6bc172,\n",
      "                \u001b[33mAddVar\u001b[39m(\u001b[32m@a\u001b[39m),\n",
      "                Sigma,\n",
      "                EnterIsle\n",
      "              )\n",
      "            ),\n",
      "            \u001b[32m@b\u001b[39m,\n",
      "            \u001b[33mIsland\u001b[39m(\n",
      "              Typs,\n",
      "              provingground.learning.TermRandomVars$$$Lambda$3125/2103660574@799727e7,\n",
      "              \u001b[33mAddVar\u001b[39m(\u001b[32m@a\u001b[39m),\n",
      "              Pi,\n",
      "              EnterIsle\n",
      "            )\n",
      "          ),\n",
      "          \u001b[32m@a\u001b[39m,\n",
      "          \u001b[33mIsland\u001b[39m(\n",
      "            Typs,\n",
      "            provingground.learning.TermRandomVars$$$Lambda$3125/2103660574@7136f5ab,\n",
      "            \u001b[33mAddVar\u001b[39m(\u001b[32m@a\u001b[39m),\n",
      "            Pi,\n",
      "            EnterIsle\n",
      "          )\n",
      "        ),\n",
      "        \u001b[32m@b\u001b[39m,\n",
      "        \u001b[33mIsland\u001b[39m(\n",
      "          Typs,\n",
      "          provingground.learning.TermRandomVars$$$Lambda$3125/2103660574@e74432e,\n",
      "          \u001b[33mAddVar\u001b[39m(\u001b[32m𝒰 \u001b[39m),\n",
      "          Pi,\n",
      "          EnterIsle\n",
      "        )\n",
      "      ),\n",
      "      \u001b[32m@a\u001b[39m,\n",
      "      \u001b[33mIsland\u001b[39m(\n",
      "        Typs,\n",
      "        provingground.learning.TermRandomVars$$$Lambda$3125/2103660574@6b7173c3,\n",
      "        \u001b[33mAddVar\u001b[39m(\u001b[32m𝒰 \u001b[39m),\n",
      "        Pi,\n",
      "        EnterIsle\n",
      "      )\n",
      "    )\n",
      "  ),\n",
      "  \u001b[33mFinalVal\u001b[39m(\n",
      "    \u001b[33mInIsle\u001b[39m(\n",
      "      \u001b[33mInIsle\u001b[39m(\n",
      "        \u001b[33mInIsle\u001b[39m(\n",
      "          \u001b[33mInIsle\u001b[39m(\n",
      "            \u001b[33mInIsle\u001b[39m(\n",
      "              \u001b[33mElem\u001b[39m(\u001b[32m@b\u001b[39m, Typs),\n",
      "              \u001b[32m@a\u001b[39m,\n",
      "              \u001b[33mIsland\u001b[39m(\n",
      "                Typs,\n",
      "                provingground.learning.TermRandomVars$$$Lambda$3125/2103660574@7d068fd2,\n",
      "                \u001b[33mAddVar\u001b[39m(\u001b[32m@b\u001b[39m),\n",
      "                Sigma,\n",
      "                EnterIsle\n",
      "              )\n",
      "            ),\n",
      "            \u001b[32m@a\u001b[39m,\n",
      "            \u001b[33mIsland\u001b[39m(\n",
      "              Typs,\n",
      "              provingground.learning.TermRandomVars$$$Lambda$3125/2103660574@45f6e04f,\n",
      "              \u001b[33mAddVar\u001b[39m(\u001b[32m(@b → @b)\u001b[39m),\n",
      "              Sigma,\n",
      "              EnterIsle\n",
      "            )\n",
      "          ),\n",
      "          \u001b[32m@a\u001b[39m,\n",
      "          \u001b[33mIsland\u001b[39m(\n",
      "            Typs,\n",
      "            provingground.learning.TermRandomVars$$$Lambda$3125/2103660574@4c86be98,\n",
      "            \u001b[33mAddVar\u001b[39m(\u001b[32m@a\u001b[39m),\n",
      "            Pi,\n",
      "            EnterIsle\n",
      "          )\n",
      "        ),\n",
      "        \u001b[32m@b\u001b[39m,\n",
      "        \u001b[33mIsland\u001b[39m(\n",
      "          Terms,\n",
      "          provingground.learning.TermRandomVars$$$Lambda$3125/2103660574@57cf6750,\n",
      "          \u001b[33mAddVar\u001b[39m(\u001b[32m𝒰 \u001b[39m),\n",
      "          Lambda,\n",
      "          EnterIsle\n",
      "        )\n",
      "      ),\n",
      "      \u001b[32m@a\u001b[39m,\n",
      "      \u001b[33mIsland\u001b[39m(\n",
      "        Terms,\n",
      "        provingground.learning.TermRandomVars$$$Lambda$3125/2103660574@1efe1a64,\n",
      "        \u001b[33mAddVar\u001b[39m(\u001b[32m𝒰 \u001b[39m),\n",
      "        Lambda,\n",
      "        EnterIsle\n",
      "      )\n",
      "    )\n",
      "  ),\n",
      "  \u001b[33mFinalVal\u001b[39m(\n",
      "    \u001b[33mInIsle\u001b[39m(\n",
      "      \u001b[33mInIsle\u001b[39m(\n",
      "        \u001b[33mInIsle\u001b[39m(\n",
      "          \u001b[33mElem\u001b[39m(\u001b[32m(@b → @a)×@b×@a\u001b[39m, Typs),\n",
      "          \u001b[32m@a\u001b[39m,\n",
      "          \u001b[33mIsland\u001b[39m(\n",
      "            Typs,\n",
      "            provingground.learning.TermRandomVars$$$Lambda$3125/2103660574@37dfa841,\n",
      "            \u001b[33mAddVar\u001b[39m(\u001b[32m@a\u001b[39m),\n",
      "            Pi,\n",
      "            EnterIsle\n",
      "          )\n",
      "        ),\n",
      "        \u001b[32m@b\u001b[39m,\n",
      "        \u001b[33mIsland\u001b[39m(\n",
      "          Typs,\n",
      "          provingground.learning.TermRandomVars$$$Lambda$3125/2103660574@4cfa9f5a,\n",
      "          \u001b[33mAddVar\u001b[39m(\u001b[32m𝒰 \u001b[39m),\n",
      "          Pi,\n",
      "          EnterIsle\n",
      "        )\n",
      "      ),\n",
      "      \u001b[32m@a\u001b[39m,\n",
      "      \u001b[33mIsland\u001b[39m(\n",
      "        Typs,\n",
      "        provingground.learning.TermRandomVars$$$Lambda$3125/2103660574@1c2e13cc,\n",
      "        \u001b[33mAddVar\u001b[39m(\u001b[32m𝒰 \u001b[39m),\n",
      "        Pi,\n",
      "        EnterIsle\n",
      "      )\n",
      "    )\n",
      "  ),\n",
      "  \u001b[33mFinalVal\u001b[39m(\n",
      "    \u001b[33mInIsle\u001b[39m(\n",
      "      \u001b[33mInIsle\u001b[39m(\n",
      "        \u001b[33mInIsle\u001b[39m(\n",
      "          \u001b[33mInIsle\u001b[39m(\n",
      "            \u001b[33mElem\u001b[39m(\u001b[32m((@a → @b) → @a)\u001b[39m, Typs),\n",
      "            \u001b[32m@a\u001b[39m,\n",
      "            \u001b[33mIsland\u001b[39m(\n",
      "              Typs,\n",
      "              provingground.learning.TermRandomVars$$$Lambda$3125/2103660574@4fea7803,\n",
      "              \u001b[33mAddVar\u001b[39m(\u001b[32m@b\u001b[39m),\n",
      "              Pi,\n",
      "              EnterIsle\n",
      "            )\n",
      "          ),\n",
      "          \u001b[32m@a\u001b[39m,\n",
      "          \u001b[33mIsland\u001b[39m(\n",
      "            Typs,\n",
      "            provingground.learning.TermRandomVars$$$Lambda$3125/2103660574@6534b94b,\n",
      "            \u001b[33mAddVar\u001b[39m(\u001b[32m@a\u001b[39m),\n",
      "            Pi,\n",
      "            EnterIsle\n",
      "          )\n",
      "        ),\n",
      "        \u001b[32m@b\u001b[39m,\n",
      "        \u001b[33mIsland\u001b[39m(\n",
      "          Terms,\n",
      "          provingground.learning.TermRandomVars$$$Lambda$3125/2103660574@17ec87af,\n",
      "          \u001b[33mAddVar\u001b[39m(\u001b[32m𝒰 \u001b[39m),\n",
      "          Lambda,\n",
      "          EnterIsle\n",
      "        )\n",
      "      ),\n",
      "      \u001b[32m@a\u001b[39m,\n",
      "      \u001b[33mIsland\u001b[39m(\n",
      "        Terms,\n",
      "        provingground.learning.TermRandomVars$$$Lambda$3125/2103660574@6af628b2,\n",
      "        \u001b[33mAddVar\u001b[39m(\u001b[32m𝒰 \u001b[39m),\n",
      "        Lambda,\n",
      "        EnterIsle\n",
      "      )\n",
      "    )\n",
      "  )\n",
      ")\n"
     ]
    }
   ],
   "source": [
    "show(normEqs.take(10).map(_.lhs))"
   ]
  },
  {
   "cell_type": "code",
   "execution_count": 20,
   "metadata": {},
   "outputs": [
    {
     "data": {
      "text/plain": [
       "\u001b[36mres19\u001b[39m: \u001b[32mBoolean\u001b[39m = true"
      ]
     },
     "execution_count": 20,
     "metadata": {},
     "output_type": "execute_result"
    }
   ],
   "source": [
    "elemTerms == normElemTerms"
   ]
  },
  {
   "cell_type": "markdown",
   "metadata": {},
   "source": [
    "## Next conclusion\n",
    "\n",
    "* terms are generated correctly\n",
    "* however, this does not test deeper generation, for which we must generate with the equations."
   ]
  },
  {
   "cell_type": "code",
   "execution_count": 21,
   "metadata": {},
   "outputs": [
    {
     "data": {
      "text/plain": [
       "\u001b[36mts0\u001b[39m: \u001b[32mTermState\u001b[39m = \u001b[33mTermState\u001b[39m(\n",
       "  \u001b[33mFiniteDistribution\u001b[39m(\u001b[33mVector\u001b[39m()),\n",
       "  \u001b[33mFiniteDistribution\u001b[39m(\u001b[33mVector\u001b[39m(\u001b[33mWeighted\u001b[39m(\u001b[32m𝒰 \u001b[39m, \u001b[32m1.0\u001b[39m))),\n",
       "  \u001b[33mVector\u001b[39m(),\n",
       "  \u001b[33mFiniteDistribution\u001b[39m(\u001b[33mVector\u001b[39m()),\n",
       "  \u001b[33mFiniteDistribution\u001b[39m(\u001b[33mVector\u001b[39m()),\n",
       "  Empty\n",
       ")"
      ]
     },
     "execution_count": 21,
     "metadata": {},
     "output_type": "execute_result"
    }
   ],
   "source": [
    "val ts0 = TermState(FiniteDistribution.empty, FiniteDistribution.unif(Type))"
   ]
  },
  {
   "cell_type": "code",
   "execution_count": 22,
   "metadata": {},
   "outputs": [
    {
     "data": {
      "text/plain": [
       "\u001b[36mev\u001b[39m: \u001b[32mExpressionEval\u001b[39m = provingground.learning.ExpressionEval$$anon$2@1f8cff5e"
      ]
     },
     "execution_count": 22,
     "metadata": {},
     "output_type": "execute_result"
    }
   ],
   "source": [
    "val ev = ExpressionEval.fromInitEqs(ts0, Equation.group(eqs), TermGenParams(), decayS = 0.95)"
   ]
  },
  {
   "cell_type": "code",
   "execution_count": 23,
   "metadata": {},
   "outputs": [
    {
     "data": {
      "text/plain": [
       "\u001b[36mtermsT\u001b[39m: \u001b[32mFiniteDistribution\u001b[39m[\u001b[32mTerm\u001b[39m] = \u001b[33mFiniteDistribution\u001b[39m(\n",
       "  \u001b[33mVector\u001b[39m(\n",
       "    \u001b[33mWeighted\u001b[39m(\n",
       "      \u001b[32m(A : 𝒰 ) ↦ (B : 𝒰 ) ↦ (a : A) ↦ ((``@a_1 , (@a_2_1 , @a_2_2)) : A×A×B) ↦ a\u001b[39m,\n",
       "      \u001b[32m0.00407379896217516\u001b[39m\n",
       "    ),\n",
       "    \u001b[33mWeighted\u001b[39m(\n",
       "      \u001b[32m(A : 𝒰 ) ↦ (B : 𝒰 ) ↦ (a : A) ↦ ((`@a_1 , (@a_2_1 , @a_2_2)) : B×B×B) ↦ a\u001b[39m,\n",
       "      \u001b[32m0.004073799161465585\u001b[39m\n",
       "    ),\n",
       "    \u001b[33mWeighted\u001b[39m(\n",
       "      \u001b[32m(A : 𝒰 ) ↦ (B : 𝒰 ) ↦ (a : A) ↦ ((`@a_1 , (@a_2_1 , @a_2_2)) : A×A×A) ↦ a\u001b[39m,\n",
       "      \u001b[32m0.004073779791043477\u001b[39m\n",
       "    ),\n",
       "    \u001b[33mWeighted\u001b[39m(\n",
       "      \u001b[32m(A : 𝒰 ) ↦ (B : 𝒰 ) ↦ (a : A) ↦ ((``@a_1 , (@a_2_1 , @a_2_2)) : A×B×A) ↦ a\u001b[39m,\n",
       "      \u001b[32m0.00407377984164196\u001b[39m\n",
       "    ),\n",
       "    \u001b[33mWeighted\u001b[39m(\n",
       "      \u001b[32m(A : 𝒰 ) ↦ (B : 𝒰 ) ↦ (a : A) ↦ ((``@a_1 , (@a_2_1 , @a_2_2)) : B×A×B) ↦ a\u001b[39m,\n",
       "      \u001b[32m0.004073799085112612\u001b[39m\n",
       "    ),\n",
       "    \u001b[33mWeighted\u001b[39m(\n",
       "      \u001b[32m(A : 𝒰 ) ↦ (B : 𝒰 ) ↦ (a : A) ↦ ((``@a_1 , (@a_2_1 , @a_2_2)) : B×B×A) ↦ a\u001b[39m,\n",
       "      \u001b[32m0.004073779925013815\u001b[39m\n",
       "    ),\n",
       "    \u001b[33mWeighted\u001b[39m(\n",
       "      \u001b[32m(A : 𝒰 ) ↦ (B : 𝒰 ) ↦ (a : A) ↦ ((``@a_1 , (@a_2_1 , @a_2_2)) : A×B×B) ↦ a\u001b[39m,\n",
       "      \u001b[32m0.004073799038380095\u001b[39m\n",
       "    ),\n",
       "    \u001b[33mWeighted\u001b[39m(\n",
       "      \u001b[32m(A : 𝒰 ) ↦ (B : 𝒰 ) ↦ (a : A) ↦ ((``@a_1 , (@a_2_1 , @a_2_2)) : B×A×A) ↦\u001b[39m..."
      ]
     },
     "execution_count": 23,
     "metadata": {},
     "output_type": "execute_result"
    }
   ],
   "source": [
    "val termsT = ev.finalTerms"
   ]
  },
  {
   "cell_type": "code",
   "execution_count": 28,
   "metadata": {},
   "outputs": [
    {
     "data": {
      "text/plain": [
       "\u001b[36mevN\u001b[39m: \u001b[32mExpressionEval\u001b[39m = provingground.learning.ExpressionEval$$anon$2@167cf5f"
      ]
     },
     "execution_count": 28,
     "metadata": {},
     "output_type": "execute_result"
    }
   ],
   "source": [
    "val evN = ExpressionEval.fromInitEqs(ts0, Equation.group(normEqs), TermGenParams(), decayS = 0.5)"
   ]
  },
  {
   "cell_type": "code",
   "execution_count": 29,
   "metadata": {},
   "outputs": [
    {
     "ename": "",
     "evalue": "",
     "output_type": "error",
     "traceback": [
      "Interrupted!\n  scala.runtime.Statics.anyHash(\u001b[32mStatics.java\u001b[39m:\u001b[32m122\u001b[39m)\n  scala.util.hashing.MurmurHash3.productHash(\u001b[32mMurmurHash3.scala\u001b[39m:\u001b[32m68\u001b[39m)\n  scala.util.hashing.MurmurHash3$.productHash(\u001b[32mMurmurHash3.scala\u001b[39m:\u001b[32m215\u001b[39m)\n  scala.runtime.ScalaRunTime$._hashCode(\u001b[32mScalaRunTime.scala\u001b[39m:\u001b[32m149\u001b[39m)\n  provingground.learning.TermGeneratorNodes$AddVar.hashCode(\u001b[32mTermGeneratorNodes.scala\u001b[39m:\u001b[32m83\u001b[39m)\n  scala.runtime.Statics.anyHash(\u001b[32mStatics.java\u001b[39m:\u001b[32m122\u001b[39m)\n  scala.util.hashing.MurmurHash3.productHash(\u001b[32mMurmurHash3.scala\u001b[39m:\u001b[32m68\u001b[39m)\n  scala.util.hashing.MurmurHash3$.productHash(\u001b[32mMurmurHash3.scala\u001b[39m:\u001b[32m215\u001b[39m)\n  scala.runtime.ScalaRunTime$._hashCode(\u001b[32mScalaRunTime.scala\u001b[39m:\u001b[32m149\u001b[39m)\n  provingground.learning.GeneratorNode$Island.hashCode(\u001b[32mGeneratorNode.scala\u001b[39m:\u001b[32m470\u001b[39m)\n  scala.runtime.Statics.anyHash(\u001b[32mStatics.java\u001b[39m:\u001b[32m122\u001b[39m)\n  scala.util.hashing.MurmurHash3.productHash(\u001b[32mMurmurHash3.scala\u001b[39m:\u001b[32m68\u001b[39m)\n  scala.util.hashing.MurmurHash3$.productHash(\u001b[32mMurmurHash3.scala\u001b[39m:\u001b[32m215\u001b[39m)\n  scala.runtime.ScalaRunTime$._hashCode(\u001b[32mScalaRunTime.scala\u001b[39m:\u001b[32m149\u001b[39m)\n  provingground.learning.GeneratorVariables$InIsle.hashCode(\u001b[32mGeneratorVariables.scala\u001b[39m:\u001b[32m175\u001b[39m)\n  scala.runtime.Statics.anyHash(\u001b[32mStatics.java\u001b[39m:\u001b[32m122\u001b[39m)\n  scala.util.hashing.MurmurHash3.productHash(\u001b[32mMurmurHash3.scala\u001b[39m:\u001b[32m68\u001b[39m)\n  scala.util.hashing.MurmurHash3$.productHash(\u001b[32mMurmurHash3.scala\u001b[39m:\u001b[32m215\u001b[39m)\n  scala.runtime.ScalaRunTime$._hashCode(\u001b[32mScalaRunTime.scala\u001b[39m:\u001b[32m149\u001b[39m)\n  provingground.learning.GeneratorVariables$InIsle.hashCode(\u001b[32mGeneratorVariables.scala\u001b[39m:\u001b[32m175\u001b[39m)\n  scala.runtime.Statics.anyHash(\u001b[32mStatics.java\u001b[39m:\u001b[32m122\u001b[39m)\n  scala.util.hashing.MurmurHash3.productHash(\u001b[32mMurmurHash3.scala\u001b[39m:\u001b[32m68\u001b[39m)\n  scala.util.hashing.MurmurHash3$.productHash(\u001b[32mMurmurHash3.scala\u001b[39m:\u001b[32m215\u001b[39m)\n  scala.runtime.ScalaRunTime$._hashCode(\u001b[32mScalaRunTime.scala\u001b[39m:\u001b[32m149\u001b[39m)\n  provingground.learning.Expression$FinalVal.hashCode(\u001b[32mGeneratorVariables.scala\u001b[39m:\u001b[32m310\u001b[39m)\n  scala.runtime.Statics.anyHash(\u001b[32mStatics.java\u001b[39m:\u001b[32m122\u001b[39m)\n  scala.util.hashing.MurmurHash3.productHash(\u001b[32mMurmurHash3.scala\u001b[39m:\u001b[32m68\u001b[39m)\n  scala.util.hashing.MurmurHash3$.productHash(\u001b[32mMurmurHash3.scala\u001b[39m:\u001b[32m215\u001b[39m)\n  scala.runtime.ScalaRunTime$._hashCode(\u001b[32mScalaRunTime.scala\u001b[39m:\u001b[32m149\u001b[39m)\n  provingground.learning.Expression$Product.hashCode(\u001b[32mGeneratorVariables.scala\u001b[39m:\u001b[32m347\u001b[39m)\n  scala.runtime.Statics.anyHash(\u001b[32mStatics.java\u001b[39m:\u001b[32m122\u001b[39m)\n  scala.collection.immutable.HashMap.elemHashCode(\u001b[32mHashMap.scala\u001b[39m:\u001b[32m87\u001b[39m)\n  scala.collection.immutable.HashMap.computeHash(\u001b[32mHashMap.scala\u001b[39m:\u001b[32m96\u001b[39m)\n  scala.collection.immutable.HashMap.get(\u001b[32mHashMap.scala\u001b[39m:\u001b[32m56\u001b[39m)\n  scala.collection.MapLike.getOrElse(\u001b[32mMapLike.scala\u001b[39m:\u001b[32m129\u001b[39m)\n  scala.collection.MapLike.getOrElse$(\u001b[32mMapLike.scala\u001b[39m:\u001b[32m129\u001b[39m)\n  scala.collection.AbstractMap.getOrElse(\u001b[32mMap.scala\u001b[39m:\u001b[32m63\u001b[39m)\n  provingground.learning.ExpressionEval$.recExp(\u001b[32mExpressionEval.scala\u001b[39m:\u001b[32m103\u001b[39m)\n  provingground.learning.ExpressionEval$.stabRecExp(\u001b[32mExpressionEval.scala\u001b[39m:\u001b[32m126\u001b[39m)\n  provingground.learning.ExpressionEval$.$anonfun$nextMap$1(\u001b[32mExpressionEval.scala\u001b[39m:\u001b[32m141\u001b[39m)\n  provingground.learning.ExpressionEval$$$Lambda$2819/1865196807.apply(\u001b[32mUnknown Source\u001b[39m)\n  scala.collection.TraversableLike.$anonfun$map$1(\u001b[32mTraversableLike.scala\u001b[39m:\u001b[32m237\u001b[39m)\n  scala.collection.TraversableLike$$Lambda$125/973576304.apply(\u001b[32mUnknown Source\u001b[39m)\n  scala.collection.immutable.HashSet$HashSet1.foreach(\u001b[32mHashSet.scala\u001b[39m:\u001b[32m321\u001b[39m)\n  scala.collection.immutable.HashSet$HashTrieSet.foreach(\u001b[32mHashSet.scala\u001b[39m:\u001b[32m977\u001b[39m)\n  scala.collection.immutable.HashSet$HashTrieSet.foreach(\u001b[32mHashSet.scala\u001b[39m:\u001b[32m977\u001b[39m)\n  scala.collection.immutable.HashSet$HashTrieSet.foreach(\u001b[32mHashSet.scala\u001b[39m:\u001b[32m977\u001b[39m)\n  scala.collection.immutable.HashSet$HashTrieSet.foreach(\u001b[32mHashSet.scala\u001b[39m:\u001b[32m977\u001b[39m)\n  scala.collection.TraversableLike.map(\u001b[32mTraversableLike.scala\u001b[39m:\u001b[32m237\u001b[39m)\n  scala.collection.TraversableLike.map$(\u001b[32mTraversableLike.scala\u001b[39m:\u001b[32m230\u001b[39m)\n  scala.collection.AbstractSet.scala$collection$SetLike$$super$map(\u001b[32mSet.scala\u001b[39m:\u001b[32m51\u001b[39m)\n  scala.collection.SetLike.map(\u001b[32mSetLike.scala\u001b[39m:\u001b[32m104\u001b[39m)\n  scala.collection.SetLike.map$(\u001b[32mSetLike.scala\u001b[39m:\u001b[32m104\u001b[39m)\n  scala.collection.AbstractSet.map(\u001b[32mSet.scala\u001b[39m:\u001b[32m51\u001b[39m)\n  provingground.learning.ExpressionEval$.nextMap(\u001b[32mExpressionEval.scala\u001b[39m:\u001b[32m141\u001b[39m)\n  provingground.learning.ExpressionEval$.stableMap(\u001b[32mExpressionEval.scala\u001b[39m:\u001b[32m186\u001b[39m)\n  provingground.learning.ExpressionEval.finalDist(\u001b[32mExpressionEval.scala\u001b[39m:\u001b[32m424\u001b[39m)\n  provingground.learning.ExpressionEval.finalDist$(\u001b[32mExpressionEval.scala\u001b[39m:\u001b[32m423\u001b[39m)\n  provingground.learning.ExpressionEval$$anon$2.finalDist$lzycompute(\u001b[32mExpressionEval.scala\u001b[39m:\u001b[32m231\u001b[39m)\n  provingground.learning.ExpressionEval$$anon$2.finalDist(\u001b[32mExpressionEval.scala\u001b[39m:\u001b[32m231\u001b[39m)\n  provingground.learning.ExpressionEval.finalTerms(\u001b[32mExpressionEval.scala\u001b[39m:\u001b[32m448\u001b[39m)\n  provingground.learning.ExpressionEval.finalTerms$(\u001b[32mExpressionEval.scala\u001b[39m:\u001b[32m446\u001b[39m)\n  provingground.learning.ExpressionEval$$anon$2.finalTerms$lzycompute(\u001b[32mExpressionEval.scala\u001b[39m:\u001b[32m231\u001b[39m)\n  provingground.learning.ExpressionEval$$anon$2.finalTerms(\u001b[32mExpressionEval.scala\u001b[39m:\u001b[32m231\u001b[39m)\n  ammonite.$sess.cmd28$Helper.<init>(\u001b[32mcmd28.sc\u001b[39m:\u001b[32m1\u001b[39m)\n  ammonite.$sess.cmd28$.<init>(\u001b[32mcmd28.sc\u001b[39m:\u001b[32m7\u001b[39m)\n  ammonite.$sess.cmd28$.<clinit>(\u001b[32mcmd28.sc\u001b[39m:\u001b[32m-1\u001b[39m)"
     ]
    }
   ],
   "source": [
    "val termsN = evN.finalTerms"
   ]
  },
  {
   "cell_type": "code",
   "execution_count": 26,
   "metadata": {},
   "outputs": [
    {
     "data": {
      "text/plain": [
       "\u001b[36mres25\u001b[39m: \u001b[32mInt\u001b[39m = \u001b[32m61844\u001b[39m"
      ]
     },
     "execution_count": 26,
     "metadata": {},
     "output_type": "execute_result"
    }
   ],
   "source": [
    "normEqs.size"
   ]
  },
  {
   "cell_type": "code",
   "execution_count": 27,
   "metadata": {},
   "outputs": [
    {
     "data": {
      "text/plain": [
       "\u001b[36mres26\u001b[39m: \u001b[32mInt\u001b[39m = \u001b[32m61844\u001b[39m"
      ]
     },
     "execution_count": 27,
     "metadata": {},
     "output_type": "execute_result"
    }
   ],
   "source": [
    "eqs.size"
   ]
  },
  {
   "cell_type": "markdown",
   "metadata": {},
   "source": [
    "## Preliminary conclusion\n",
    "\n",
    "* The computation of the evolved state with equations hung, even with a large decay.\n",
    "* This may be because of a bug.\n",
    "* Most of the time was spent with equality, but may be because of looping.\n",
    "* We will run again a simpler version and try to further diagnose."
   ]
  }
 ],
 "metadata": {
  "kernelspec": {
   "display_name": "Scala",
   "language": "scala",
   "name": "scala"
  },
  "language_info": {
   "codemirror_mode": "text/x-scala",
   "file_extension": ".scala",
   "mimetype": "text/x-scala",
   "name": "scala",
   "nbconvert_exporter": "script",
   "version": "2.12.8"
  }
 },
 "nbformat": 4,
 "nbformat_minor": 4
}
