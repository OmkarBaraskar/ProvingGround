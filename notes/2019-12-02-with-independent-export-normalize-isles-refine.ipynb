{
 "cells": [
  {
   "cell_type": "markdown",
   "metadata": {},
   "source": [
    "## Testing export and normalization of isles\n",
    "\n",
    "This is after correcting the issue with context variables. There are still a couple of things to test and correct.\n",
    "\n",
    "* No final types in equations\n",
    "* Check if difference in weights after normalizing is due to an error.\n",
    "\n",
    "When we have variables such as $A: Type$, $a : A$ and $B: Type$, we test whether we correctly:\n",
    "\n",
    "* export equations, so that variables end up in islands\n",
    "* normalize isle names.\n",
    "\n",
    "This time the test is more refined. Namely,\n",
    "\n",
    "* We generate with the equations after exporting and just $Type$ as the initial distribution.\n",
    "* We check that all terms are independent of the variables.\n",
    "* Generate with equations after normalization.\n",
    "* Make the same tests.\n",
    "* Also test if the distribution after normalization is approximately the same as before."
   ]
  },
  {
   "cell_type": "code",
   "execution_count": 1,
   "metadata": {},
   "outputs": [
    {
     "data": {
      "text/plain": [
       "\u001b[32mimport \u001b[39m\u001b[36m$cp.$                                              \n",
       "\u001b[39m\n",
       "\u001b[32mimport \u001b[39m\u001b[36mprovingground._ , interface._, HoTT._, learning._ \n",
       "\u001b[39m"
      ]
     },
     "execution_count": 1,
     "metadata": {},
     "output_type": "execute_result"
    }
   ],
   "source": [
    "import $cp.bin.`provingground-core-jvm-38c4a5770c.fat.jar`\n",
    "import provingground._ , interface._, HoTT._, learning._ \n",
    "repl.pprinter() = {\n",
    "  val p = repl.pprinter()\n",
    "  p.copy(\n",
    "    additionalHandlers = p.additionalHandlers.orElse {\n",
    "      translation.FansiShow.fansiHandler\n",
    "    }\n",
    "  )\n",
    "}\n"
   ]
  },
  {
   "cell_type": "code",
   "execution_count": 2,
   "metadata": {},
   "outputs": [
    {
     "data": {
      "text/plain": [
       "\u001b[36mA\u001b[39m: \u001b[32mTyp\u001b[39m[\u001b[32mTerm\u001b[39m] = \u001b[32mA\u001b[39m\n",
       "\u001b[36mB\u001b[39m: \u001b[32mTyp\u001b[39m[\u001b[32mTerm\u001b[39m] = \u001b[32mB\u001b[39m\n",
       "\u001b[36ma\u001b[39m: \u001b[32mTerm\u001b[39m = \u001b[32ma\u001b[39m\n",
       "\u001b[36mts\u001b[39m: \u001b[32mTermState\u001b[39m = \u001b[33mTermState\u001b[39m(\n",
       "  \u001b[33mFiniteDistribution\u001b[39m(\u001b[33mVector\u001b[39m(\u001b[33mWeighted\u001b[39m(\u001b[32ma\u001b[39m, \u001b[32m1.0\u001b[39m))),\n",
       "  \u001b[33mFiniteDistribution\u001b[39m(\u001b[33mVector\u001b[39m(\u001b[33mWeighted\u001b[39m(\u001b[32mA\u001b[39m, \u001b[32m0.5\u001b[39m), \u001b[33mWeighted\u001b[39m(\u001b[32mB\u001b[39m, \u001b[32m0.5\u001b[39m))),\n",
       "  \u001b[33mVector\u001b[39m(\u001b[32mA\u001b[39m, \u001b[32mB\u001b[39m, \u001b[32ma\u001b[39m),\n",
       "  \u001b[33mFiniteDistribution\u001b[39m(\u001b[33mVector\u001b[39m()),\n",
       "  \u001b[33mFiniteDistribution\u001b[39m(\u001b[33mVector\u001b[39m()),\n",
       "  Empty\n",
       ")"
      ]
     },
     "execution_count": 2,
     "metadata": {},
     "output_type": "execute_result"
    }
   ],
   "source": [
    "val A = \"A\" :: Type\n",
    "val B = \"B\" :: Type\n",
    "val a = \"a\" :: A\n",
    "val ts = TermState(FiniteDistribution.unif(a), FiniteDistribution.unif(A, B), vars = Vector(A, B, a))"
   ]
  },
  {
   "cell_type": "code",
   "execution_count": 3,
   "metadata": {},
   "outputs": [
    {
     "data": {
      "text/plain": [
       "\u001b[36mlp\u001b[39m: \u001b[32mLocalProver\u001b[39m = \u001b[33mLocalProver\u001b[39m(\n",
       "  \u001b[33mTermState\u001b[39m(\n",
       "    \u001b[33mFiniteDistribution\u001b[39m(\u001b[33mVector\u001b[39m(\u001b[33mWeighted\u001b[39m(\u001b[32ma\u001b[39m, \u001b[32m1.0\u001b[39m))),\n",
       "    \u001b[33mFiniteDistribution\u001b[39m(\u001b[33mVector\u001b[39m(\u001b[33mWeighted\u001b[39m(\u001b[32mA\u001b[39m, \u001b[32m0.5\u001b[39m), \u001b[33mWeighted\u001b[39m(\u001b[32mB\u001b[39m, \u001b[32m0.5\u001b[39m))),\n",
       "    \u001b[33mVector\u001b[39m(\u001b[32mA\u001b[39m, \u001b[32mB\u001b[39m, \u001b[32ma\u001b[39m),\n",
       "    \u001b[33mFiniteDistribution\u001b[39m(\u001b[33mVector\u001b[39m()),\n",
       "    \u001b[33mFiniteDistribution\u001b[39m(\u001b[33mVector\u001b[39m()),\n",
       "    Empty\n",
       "  ),\n",
       "  \u001b[33mTermGenParams\u001b[39m(\n",
       "    \u001b[32m0.1\u001b[39m,\n",
       "    \u001b[32m0.1\u001b[39m,\n",
       "    \u001b[32m0.1\u001b[39m,\n",
       "    \u001b[32m0.1\u001b[39m,\n",
       "    \u001b[32m0.1\u001b[39m,\n",
       "    \u001b[32m0.05\u001b[39m,\n",
       "    \u001b[32m0.05\u001b[39m,\n",
       "    \u001b[32m0.05\u001b[39m,\n",
       "    \u001b[32m0.0\u001b[39m,\n",
       "    \u001b[32m0.0\u001b[39m,\n",
       "    \u001b[32m0.0\u001b[39m,\n",
       "    \u001b[32m0.0\u001b[39m,\n",
       "    \u001b[32m0.3\u001b[39m,\n",
       "    \u001b[32m0.7\u001b[39m,\n",
       "    \u001b[32m0.5\u001b[39m,\n",
       "    \u001b[32m0.0\u001b[39m,\n",
       "    \u001b[32m0.0\u001b[39m,\n",
       "    \u001b[32m0.0\u001b[39m,\n",
       "    \u001b[33mOrElse\u001b[39m(\n",
       "      \u001b[33mOrElse\u001b[39m(\u001b[33mOrElse\u001b[39m(\u001b[33mOrElse\u001b[39m(<function1>, <function1>), <function1>), <function1>),\n",
       "      <function1>\n",
       "    )\n",
       "  ),\n",
       "  \u001b[32m1.0E-4\u001b[39m,\n",
       "  \u001b[32mNone\u001b[39m,\n",
       "  12 minutes,\n",
       "  \u001b[32m1.01\u001b[39m,\n",
       "  \u001b[32m1.0\u001b[39m,\n",
       "..."
      ]
     },
     "execution_count": 3,
     "metadata": {},
     "output_type": "execute_result"
    }
   ],
   "source": [
    "val lp = LocalProver(ts)"
   ]
  },
  {
   "cell_type": "code",
   "execution_count": 4,
   "metadata": {},
   "outputs": [
    {
     "data": {
      "text/plain": [
       "\u001b[36mres3_0\u001b[39m: \u001b[32mVector\u001b[39m[\u001b[32mTerm\u001b[39m] = \u001b[33mVector\u001b[39m(\u001b[32mA\u001b[39m, \u001b[32mB\u001b[39m, \u001b[32ma\u001b[39m)\n",
       "\u001b[32mimport \u001b[39m\u001b[36mTermData._\n",
       "\u001b[39m\n",
       "\u001b[36mdatT\u001b[39m: \u001b[32mmonix\u001b[39m.\u001b[32meval\u001b[39m.\u001b[32mTask\u001b[39m[(\u001b[32mTermState\u001b[39m, \u001b[32mSet\u001b[39m[\u001b[32mEquationNode\u001b[39m])] = \u001b[33mFlatMap\u001b[39m(\n",
       "  \u001b[33mAsync\u001b[39m(<function2>, false, true, true),\n",
       "  provingground.learning.TermData$$$Lambda$2550/1867903622@11402db7\n",
       ")"
      ]
     },
     "execution_count": 4,
     "metadata": {},
     "output_type": "execute_result"
    }
   ],
   "source": [
    "ts.vars\n",
    "import TermData._\n",
    "val datT = termData(lp)"
   ]
  },
  {
   "cell_type": "code",
   "execution_count": 5,
   "metadata": {},
   "outputs": [
    {
     "data": {
      "text/plain": [
       "\u001b[32mimport \u001b[39m\u001b[36mmonix.execution.Scheduler.Implicits.global\n",
       "\u001b[39m\n",
       "\u001b[36mtd\u001b[39m: (\u001b[32mTermState\u001b[39m, \u001b[32mSet\u001b[39m[\u001b[32mEquationNode\u001b[39m]) = (\n",
       "  \u001b[33mTermState\u001b[39m(\n",
       "    \u001b[33mFiniteDistribution\u001b[39m(\n",
       "      \u001b[33mVector\u001b[39m(\n",
       "        \u001b[33mWeighted\u001b[39m(\n",
       "          \u001b[32m(A : 𝒰 ) ↦ (B : 𝒰 ) ↦ (a : A) ↦ ((``@a_1 , @a_2) : A×B) ↦ a\u001b[39m,\n",
       "          \u001b[32m8.671859432529369E-4\u001b[39m\n",
       "        ),\n",
       "        \u001b[33mWeighted\u001b[39m(\u001b[32m(B : 𝒰 ) ↦ (@a : B) ↦ (@b : B) ↦ @b\u001b[39m, \u001b[32m6.25946582994212E-4\u001b[39m),\n",
       "        \u001b[33mWeighted\u001b[39m(\u001b[32m(B : 𝒰 ) ↦ (@a : B) ↦ (@b : B) ↦ @a\u001b[39m, \u001b[32m4.3816260809594835E-4\u001b[39m),\n",
       "        \u001b[33mWeighted\u001b[39m(\n",
       "          \u001b[32m(A : 𝒰 ) ↦ (B : 𝒰 ) ↦ ((```@a_1 , @a_2) : B×A) ↦ (```@a_1 , @a_2)\u001b[39m,\n",
       "          \u001b[32m3.71651118536973E-4\u001b[39m\n",
       "        ),\n",
       "        \u001b[33mWeighted\u001b[39m(\n",
       "          \u001b[32m(A : 𝒰 ) ↦ ((``@a_1 , @a_2) : A×A) ↦ (``@a_1 , @a_2)\u001b[39m,\n",
       "          \u001b[32m3.71651118536973E-4\u001b[39m\n",
       "        ),\n",
       "        \u001b[33mWeighted\u001b[39m(\n",
       "          \u001b[32m(A : 𝒰 ) ↦ (B : 𝒰 ) ↦ (a : A) ↦ (@a : B) ↦ a\u001b[39m,\n",
       "          \u001b[32m0.0384282501336959\u001b[39m\n",
       "        ),\n",
       "        \u001b[33mWeighted\u001b[39m(\n",
       "          \u001b[32m(A : 𝒰 ) ↦ (a : A) ↦ ((`@a_1 , @a_2) : A×A) ↦ a\u001b[39m,\n",
       "          \u001b[32m8.671859432529369E-4\u001b[39m\n",
       "        ),\n",
       "        \u001b[33mWeighted\u001b[39m(\u001b[32m(A : 𝒰 ) ↦ (@a : (A → A)) ↦ @a\u001b[39m, \u001b[32m5.870181769712191E-4\u001b[39m),\n",
       "        \u001b[33mWeighted\u001b[39m(\n",
       "          \u001b[32m(A : 𝒰 ) ↦ (B : 𝒰 ) ↦ (@a : (B → A)) ↦ @a\u001b[39m,\n",
       "          \u001b[32m6.937487546023499E-4\u001b[39m\n",
       "        ),\n",
       "        \u001b[33mWeighted\u001b[39m(\n",
       "          \u001b[32m(A : 𝒰 ) ↦ (B : 𝒰 ) ↦ (a : A) ↦ (@a : (B → B)) ↦ a\u001b[39m,\n",
       "          \u001b[32m0.0016187470940721494\u001b[39m\n",
       "        ),\n",
       "        \u001b[33mWeighted\u001b[39m(\n",
       "          \u001b[32m(A : 𝒰 ) ↦ (B : 𝒰 ) ↦ (a : A) ↦ (@a : (A → B)) ↦ a\u001b[39m,\n",
       "          \u001b[32m0.0013697090795995112\u001b[39m\n",
       "        ),\n",
       "..."
      ]
     },
     "execution_count": 5,
     "metadata": {},
     "output_type": "execute_result"
    }
   ],
   "source": [
    "import monix.execution.Scheduler.Implicits.global\n",
    "val td = datT.runSyncUnsafe()"
   ]
  },
  {
   "cell_type": "code",
   "execution_count": 6,
   "metadata": {},
   "outputs": [
    {
     "data": {
      "text/plain": [
       "\u001b[36mns\u001b[39m: \u001b[32mTermState\u001b[39m = \u001b[33mTermState\u001b[39m(\n",
       "  \u001b[33mFiniteDistribution\u001b[39m(\n",
       "    \u001b[33mVector\u001b[39m(\n",
       "      \u001b[33mWeighted\u001b[39m(\n",
       "        \u001b[32m(A : 𝒰 ) ↦ (B : 𝒰 ) ↦ (a : A) ↦ ((``@a_1 , @a_2) : A×B) ↦ a\u001b[39m,\n",
       "        \u001b[32m8.671859432529369E-4\u001b[39m\n",
       "      ),\n",
       "      \u001b[33mWeighted\u001b[39m(\u001b[32m(B : 𝒰 ) ↦ (@a : B) ↦ (@b : B) ↦ @b\u001b[39m, \u001b[32m6.25946582994212E-4\u001b[39m),\n",
       "      \u001b[33mWeighted\u001b[39m(\u001b[32m(B : 𝒰 ) ↦ (@a : B) ↦ (@b : B) ↦ @a\u001b[39m, \u001b[32m4.3816260809594835E-4\u001b[39m),\n",
       "      \u001b[33mWeighted\u001b[39m(\n",
       "        \u001b[32m(A : 𝒰 ) ↦ (B : 𝒰 ) ↦ ((```@a_1 , @a_2) : B×A) ↦ (```@a_1 , @a_2)\u001b[39m,\n",
       "        \u001b[32m3.71651118536973E-4\u001b[39m\n",
       "      ),\n",
       "      \u001b[33mWeighted\u001b[39m(\n",
       "        \u001b[32m(A : 𝒰 ) ↦ ((``@a_1 , @a_2) : A×A) ↦ (``@a_1 , @a_2)\u001b[39m,\n",
       "        \u001b[32m3.71651118536973E-4\u001b[39m\n",
       "      ),\n",
       "      \u001b[33mWeighted\u001b[39m(\n",
       "        \u001b[32m(A : 𝒰 ) ↦ (B : 𝒰 ) ↦ (a : A) ↦ (@a : B) ↦ a\u001b[39m,\n",
       "        \u001b[32m0.0384282501336959\u001b[39m\n",
       "      ),\n",
       "      \u001b[33mWeighted\u001b[39m(\n",
       "        \u001b[32m(A : 𝒰 ) ↦ (a : A) ↦ ((`@a_1 , @a_2) : A×A) ↦ a\u001b[39m,\n",
       "        \u001b[32m8.671859432529369E-4\u001b[39m\n",
       "      ),\n",
       "      \u001b[33mWeighted\u001b[39m(\u001b[32m(A : 𝒰 ) ↦ (@a : (A → A)) ↦ @a\u001b[39m, \u001b[32m5.870181769712191E-4\u001b[39m),\n",
       "      \u001b[33mWeighted\u001b[39m(\n",
       "        \u001b[32m(A : 𝒰 ) ↦ (B : 𝒰 ) ↦ (@a : (B → A)) ↦ @a\u001b[39m,\n",
       "        \u001b[32m6.937487546023499E-4\u001b[39m\n",
       "      ),\n",
       "      \u001b[33mWeighted\u001b[39m(\n",
       "        \u001b[32m(A : 𝒰 ) ↦ (B : 𝒰 ) ↦ (a : A) ↦ (@a : (B → B)) ↦ a\u001b[39m,\n",
       "        \u001b[32m0.0016187470940721494\u001b[39m\n",
       "      ),\n",
       "      \u001b[33mWeighted\u001b[39m(\n",
       "        \u001b[32m(A : 𝒰 ) ↦ (B : 𝒰 ) ↦ (a : A) ↦ (@a : (A → B)) ↦ a\u001b[39m,\n",
       "        \u001b[32m0.0013697090795995112\u001b[39m\n",
       "      ),\n",
       "      \u001b[33mWeighted\u001b[39m(\u001b[32m(A : 𝒰 ) ↦ (@b : A) ↦ @b\u001b[39m, \u001b[32m0.012675323748495152\u001b[39m),\n",
       "...\n",
       "\u001b[36meqs\u001b[39m: \u001b[32mSet\u001b[39m[\u001b[32mEquationNode\u001b[39m] = \u001b[33mSet\u001b[39m(\n",
       "  \u001b[33mEquationNode\u001b[39m(\n",
       "    \u001b[33mFinalVal\u001b[39m(\n",
       "      \u001b[33mInIsle\u001b[39m(\n",
       "        \u001b[33mInIsle\u001b[39m(\n",
       "          \u001b[33mInIsle\u001b[39m(\n",
       "            \u001b[33mInIsle\u001b[39m(\n",
       "              \u001b[33mElem\u001b[39m(\u001b[32m@a\u001b[39m, Terms),\n",
       "              \u001b[32m@b\u001b[39m,\n",
       "              \u001b[33mIsland\u001b[39m(Terms, \u001b[33mConstRandVar\u001b[39m(Terms), \u001b[33mAddVar\u001b[39m(\u001b[32mA\u001b[39m), Lambda, EnterIsle)\n",
       "            ),\n",
       "            \u001b[32m@a\u001b[39m,\n",
       "            \u001b[33mIsland\u001b[39m(Typs, \u001b[33mConstRandVar\u001b[39m(Typs), \u001b[33mAddVar\u001b[39m(\u001b[32mA\u001b[39m), Pi, EnterIsle)\n",
       "          ),\n",
       "          \u001b[32mB\u001b[39m,\n",
       "          \u001b[33mIsland\u001b[39m(Typs, \u001b[33mConstRandVar\u001b[39m(Typs), \u001b[33mAddVar\u001b[39m(\u001b[32m𝒰 \u001b[39m), Pi, EnterIsle)\n",
       "        ),\n",
       "        \u001b[32mA\u001b[39m,\n",
       "        \u001b[33mIsland\u001b[39m(Terms, \u001b[33mConstRandVar\u001b[39m(Terms), \u001b[33mAddVar\u001b[39m(\u001b[32m𝒰 \u001b[39m), Lambda, EnterIsle)\n",
       "      )\n",
       "    ),\n",
       "    \u001b[33mProduct\u001b[39m(\n",
       "      \u001b[33mCoeff\u001b[39m(\u001b[33mInit\u001b[39m(Terms)),\n",
       "      \u001b[33mInitialVal\u001b[39m(\n",
       "        \u001b[33mInIsle\u001b[39m(\n",
       "          \u001b[33mInIsle\u001b[39m(\n",
       "            \u001b[33mInIsle\u001b[39m(\n",
       "              \u001b[33mInIsle\u001b[39m(\n",
       "                \u001b[33mElem\u001b[39m(\u001b[32m@a\u001b[39m, Terms),\n",
       "                \u001b[32m@b\u001b[39m,\n",
       "                \u001b[33mIsland\u001b[39m(Terms, \u001b[33mConstRandVar\u001b[39m(Terms), \u001b[33mAddVar\u001b[39m(\u001b[32mA\u001b[39m), Lambda, EnterIsle)\n",
       "              ),\n",
       "              \u001b[32m@a\u001b[39m,\n",
       "              \u001b[33mIsland\u001b[39m(Typs, \u001b[33mConstRandVar\u001b[39m(Typs), \u001b[33mAddVar\u001b[39m(\u001b[32mA\u001b[39m), Pi, EnterIsle)\n",
       "            ),\n",
       "            \u001b[32mB\u001b[39m,\n",
       "            \u001b[33mIsland\u001b[39m(Typs, \u001b[33mConstRandVar\u001b[39m(Typs), \u001b[33mAddVar\u001b[39m(\u001b[32m𝒰 \u001b[39m), Pi, EnterIsle)\n",
       "          ),\n",
       "          \u001b[32mA\u001b[39m,\n",
       "..."
      ]
     },
     "execution_count": 6,
     "metadata": {},
     "output_type": "execute_result"
    }
   ],
   "source": [
    "val (ns, eqs) = td"
   ]
  },
  {
   "cell_type": "code",
   "execution_count": 7,
   "metadata": {},
   "outputs": [
    {
     "data": {
      "text/plain": [
       "\u001b[36mnonDetOpt\u001b[39m: \u001b[32mOption\u001b[39m[\u001b[32mEquationNode\u001b[39m] = \u001b[32mNone\u001b[39m"
      ]
     },
     "execution_count": 7,
     "metadata": {},
     "output_type": "execute_result"
    }
   ],
   "source": [
    "val nonDetOpt = eqs.find(eq =>  TermData.isleNormalize(eq) != TermData.isleNormalize(eq))"
   ]
  },
  {
   "cell_type": "code",
   "execution_count": 8,
   "metadata": {},
   "outputs": [
    {
     "data": {
      "text/plain": [
       "\u001b[36matoms\u001b[39m: \u001b[32mSet\u001b[39m[\u001b[32mGeneratorVariables\u001b[39m.\u001b[32mVariable\u001b[39m[\u001b[32mAny\u001b[39m]] = \u001b[33mSet\u001b[39m(\n",
       "  \u001b[33mInIsle\u001b[39m(\n",
       "    \u001b[33mInIsle\u001b[39m(\n",
       "      \u001b[33mInIsle\u001b[39m(\n",
       "        \u001b[33mElem\u001b[39m(\u001b[32m(@b : B) ↦ @a\u001b[39m, Terms),\n",
       "        \u001b[32m@a\u001b[39m,\n",
       "        \u001b[33mIsland\u001b[39m(Terms, \u001b[33mConstRandVar\u001b[39m(Terms), \u001b[33mAddVar\u001b[39m(\u001b[32mB\u001b[39m), Lambda, EnterIsle)\n",
       "      ),\n",
       "      \u001b[32ma\u001b[39m,\n",
       "      \u001b[33mIsland\u001b[39m(Terms, \u001b[33mConstRandVar\u001b[39m(Terms), \u001b[33mAddVar\u001b[39m(\u001b[32mA\u001b[39m), Lambda, EnterIsle)\n",
       "    ),\n",
       "    \u001b[32mB\u001b[39m,\n",
       "    \u001b[33mIsland\u001b[39m(Terms, \u001b[33mConstRandVar\u001b[39m(Terms), \u001b[33mAddVar\u001b[39m(\u001b[32m𝒰 \u001b[39m), Lambda, EnterIsle)\n",
       "  ),\n",
       "  \u001b[33mInIsle\u001b[39m(\n",
       "    \u001b[33mInIsle\u001b[39m(\n",
       "      \u001b[33mElem\u001b[39m(\u001b[32m(@a : A) ↦ @a\u001b[39m, Terms),\n",
       "      \u001b[32mB\u001b[39m,\n",
       "      \u001b[33mIsland\u001b[39m(Typs, \u001b[33mConstRandVar\u001b[39m(Typs), \u001b[33mAddVar\u001b[39m(\u001b[32m𝒰 \u001b[39m), Pi, EnterIsle)\n",
       "    ),\n",
       "    \u001b[32mA\u001b[39m,\n",
       "    \u001b[33mIsland\u001b[39m(Typs, \u001b[33mConstRandVar\u001b[39m(Typs), \u001b[33mAddVar\u001b[39m(\u001b[32m𝒰 \u001b[39m), Pi, EnterIsle)\n",
       "  ),\n",
       "  \u001b[33mInIsle\u001b[39m(\n",
       "    \u001b[33mInIsle\u001b[39m(\n",
       "      \u001b[33mInIsle\u001b[39m(\n",
       "        \u001b[33mInIsle\u001b[39m(\n",
       "          \u001b[33mElem\u001b[39m(\u001b[32mA\u001b[39m, Typs),\n",
       "          \u001b[32m@a\u001b[39m,\n",
       "          \u001b[33mIsland\u001b[39m(Typs, \u001b[33mConstRandVar\u001b[39m(Typs), \u001b[33mAddVar\u001b[39m(\u001b[32mA\u001b[39m), Pi, EnterIsle)\n",
       "        ),\n",
       "        \u001b[32ma\u001b[39m,\n",
       "        \u001b[33mIsland\u001b[39m(Typs, \u001b[33mConstRandVar\u001b[39m(Typs), \u001b[33mAddVar\u001b[39m(\u001b[32mA\u001b[39m), Pi, EnterIsle)\n",
       "      ),\n",
       "      \u001b[32mB\u001b[39m,\n",
       "      \u001b[33mIsland\u001b[39m(Terms, \u001b[33mConstRandVar\u001b[39m(Terms), \u001b[33mAddVar\u001b[39m(\u001b[32m𝒰 \u001b[39m), Lambda, EnterIsle)\n",
       "    ),\n",
       "    \u001b[32mA\u001b[39m,\n",
       "    \u001b[33mIsland\u001b[39m(Typs, \u001b[33mConstRandVar\u001b[39m(Typs), \u001b[33mAddVar\u001b[39m(\u001b[32m𝒰 \u001b[39m), Pi, EnterIsle)\n",
       "..."
      ]
     },
     "execution_count": 8,
     "metadata": {},
     "output_type": "execute_result"
    }
   ],
   "source": [
    "val atoms = (eqs.map(_.rhs).flatMap(Expression.varVals(_)) union eqs.map(_.lhs).flatMap(Expression.varVals(_))).map(_.variable)"
   ]
  },
  {
   "cell_type": "code",
   "execution_count": 9,
   "metadata": {},
   "outputs": [
    {
     "data": {
      "text/plain": [
       "\u001b[32mimport \u001b[39m\u001b[36mTermRandomVars._, GeneratorVariables._\n",
       "\u001b[39m\n",
       "\u001b[36melemTerms\u001b[39m: \u001b[32mSet\u001b[39m[\u001b[32mTerm\u001b[39m] = \u001b[33mSet\u001b[39m(\n",
       "  \u001b[32m(A : 𝒰 ) ↦ (B : 𝒰 ) ↦ (a : A) ↦ (@a : B) ↦ (@b : B) ↦ @a\u001b[39m,\n",
       "  \u001b[32m(A : 𝒰 ) ↦ (B : 𝒰 ) ↦ (a : A) ↦ (@a : B) ↦ (@b : B) ↦ @b\u001b[39m,\n",
       "  \u001b[32m(A : 𝒰 ) ↦ (B : 𝒰 ) ↦ (a : A) ↦ (@a : B) ↦ (@a : A) ↦ a\u001b[39m,\n",
       "  \u001b[32m(A : 𝒰 ) ↦ (B : 𝒰 ) ↦ (a : A) ↦ (@a : A) ↦ (@a : B) ↦ a\u001b[39m,\n",
       "  \u001b[32m(A : 𝒰 ) ↦ (B : 𝒰 ) ↦ (a : A) ↦ (@a : A) ↦ (@a : B) ↦ @a\u001b[39m,\n",
       "  \u001b[32m(A : 𝒰 ) ↦ (B : 𝒰 ) ↦ (a : A) ↦ (@a : B) ↦ (@a : A) ↦ @a\u001b[39m,\n",
       "  \u001b[32m(A : 𝒰 ) ↦ (B : 𝒰 ) ↦ (a : A) ↦ (@a : B) ↦ (@b : B) ↦ a\u001b[39m,\n",
       "  \u001b[32m(A : 𝒰 ) ↦ (B : 𝒰 ) ↦ (a : A) ↦ (@a : A) ↦ (@a : B) ↦ @a\u001b[39m,\n",
       "  \u001b[32m(A : 𝒰 ) ↦ (B : 𝒰 ) ↦ (a : A) ↦ (@a : B) ↦ (@a : A) ↦ @a\u001b[39m,\n",
       "  \u001b[32m(A : 𝒰 ) ↦ (B : 𝒰 ) ↦ (a : A) ↦ (@a : A) ↦ (@b : A) ↦ @a\u001b[39m,\n",
       "  \u001b[32m(A : 𝒰 ) ↦ (B : 𝒰 ) ↦ (a : A) ↦ (@a : A) ↦ (@b : A) ↦ @b\u001b[39m,\n",
       "  \u001b[32m(A : 𝒰 ) ↦ (B : 𝒰 ) ↦ (a : A) ↦ (@a : A) ↦ (@b : A) ↦ a\u001b[39m,\n",
       "  \u001b[32m(A : 𝒰 ) ↦ (a : A) ↦ (@a : (A → A)) ↦ a\u001b[39m,\n",
       "  \u001b[32m(A : 𝒰 ) ↦ (B : 𝒰 ) ↦ (a : A) ↦ (@a : (A → B)) ↦ a\u001b[39m,\n",
       "  \u001b[32m(A : 𝒰 ) ↦ (B : 𝒰 ) ↦ (a : A) ↦ (@a : (B → B)) ↦ a\u001b[39m,\n",
       "  \u001b[32m(A : 𝒰 ) ↦ (B : 𝒰 ) ↦ (a : A) ↦ (@a : (B → A)) ↦ a\u001b[39m,\n",
       "  \u001b[32m(A : 𝒰 ) ↦ (B : 𝒰 ) ↦ (a : A) ↦ (@a : (A → A)) ↦ a\u001b[39m,\n",
       "  \u001b[32m(A : 𝒰 ) ↦ (B : 𝒰 ) ↦ (@a : (B → A)) ↦ @a\u001b[39m,\n",
       "  \u001b[32m(A : 𝒰 ) ↦ (B : 𝒰 ) ↦ (@a : (A → A)) ↦ @a\u001b[39m,\n",
       "  \u001b[32m(A : 𝒰 ) ↦ (B : 𝒰 ) ↦ (@a : (B → B)) ↦ @a\u001b[39m,\n",
       "  \u001b[32m(A : 𝒰 ) ↦ (B : 𝒰 ) ↦ (@a : (A → B)) ↦ @a\u001b[39m,\n",
       "  \u001b[32m(B : 𝒰 ) ↦ (@a : B) ↦ (@b : B) ↦ @b\u001b[39m,\n",
       "  \u001b[32m(B : 𝒰 ) ↦ (@a : B) ↦ (@b : B) ↦ @a\u001b[39m,\n",
       "  \u001b[32m(A : 𝒰 ) ↦ (B : 𝒰 ) ↦ (a : A) ↦ (@a : (A → B)) ↦ @a(a)\u001b[39m,\n",
       "  \u001b[32m(A : 𝒰 ) ↦ (B : 𝒰 ) ↦ (a : A) ↦ (@a : (A → A)) ↦ @a(a)\u001b[39m,\n",
       "  \u001b[32m(B : 𝒰 ) ↦ ((``@a_1 , @a_2) : B×B) ↦ (``@a_1 , @a_2)\u001b[39m,\n",
       "  \u001b[32m(@a : B) ↦ a\u001b[39m,\n",
       "  \u001b[32m(A : 𝒰 ) ↦ (B : 𝒰 ) ↦ ((``@a_1 , @a_2) : A×A) ↦ (``@a_1 , @a_2)\u001b[39m,\n",
       "  \u001b[32m(A : 𝒰 ) ↦ (B : 𝒰 ) ↦ ((```@a_1 , @a_2) : A×B) ↦ (```@a_1 , @a_2)\u001b[39m,\n",
       "  \u001b[32m(A : 𝒰 ) ↦ (B : 𝒰 ) ↦ ((``@a_1 , @a_2) : B×B) ↦ (``@a_1 , @a_2)\u001b[39m,\n",
       "  \u001b[32m(A : 𝒰 ) ↦ (B : 𝒰 ) ↦ ((```@a_1 , @a_2) : B×A) ↦ (```@a_1 , @a_2)\u001b[39m,\n",
       "  \u001b[32m(A : 𝒰 ) ↦ (a : A) ↦ A\u001b[39m,\n",
       "  \u001b[32m(@a : (A → B)) ↦ a\u001b[39m,\n",
       "  \u001b[32m(@a : (B → B)) ↦ a\u001b[39m,\n",
       "  \u001b[32m(A : 𝒰 ) ↦ (a : A) ↦ (@a : (A → A)) ↦ @a\u001b[39m,\n",
       "  \u001b[32m(@a : A) ↦ @a\u001b[39m,\n",
       "  \u001b[32m(B : 𝒰 ) ↦ B\u001b[39m,\n",
       "  \u001b[32m(A : 𝒰 ) ↦ (B : 𝒰 ) ↦ (a : A) ↦ A\u001b[39m,\n",
       "..."
      ]
     },
     "execution_count": 9,
     "metadata": {},
     "output_type": "execute_result"
    }
   ],
   "source": [
    "import TermRandomVars._, GeneratorVariables._\n",
    "val elemTerms = atoms.collect{case Elem(t: Term, Terms) => t}"
   ]
  },
  {
   "cell_type": "code",
   "execution_count": 10,
   "metadata": {},
   "outputs": [
    {
     "data": {
      "text/plain": [
       "\u001b[36mres9\u001b[39m: \u001b[32mBoolean\u001b[39m = true"
      ]
     },
     "execution_count": 10,
     "metadata": {},
     "output_type": "execute_result"
    }
   ],
   "source": [
    "elemTerms.exists(_.dependsOn(A))"
   ]
  },
  {
   "cell_type": "markdown",
   "metadata": {},
   "source": [
    "## First checks\n",
    "\n",
    "* None of the terms depends on the variables\n",
    "* The duplication in generated variables has stopped."
   ]
  },
  {
   "cell_type": "code",
   "execution_count": 11,
   "metadata": {},
   "outputs": [
    {
     "data": {
      "text/plain": [
       "\u001b[36mres10\u001b[39m: \u001b[32mInt\u001b[39m = \u001b[32m10020\u001b[39m"
      ]
     },
     "execution_count": 11,
     "metadata": {},
     "output_type": "execute_result"
    }
   ],
   "source": [
    "atoms.size"
   ]
  },
  {
   "cell_type": "code",
   "execution_count": 12,
   "metadata": {},
   "outputs": [
    {
     "data": {
      "text/plain": [
       "\u001b[36melemTyps\u001b[39m: \u001b[32mSet\u001b[39m[\u001b[32mTyp\u001b[39m[\u001b[32mTerm\u001b[39m]] = \u001b[33mSet\u001b[39m(\n",
       "  \u001b[32mA\u001b[39m,\n",
       "  \u001b[32m∏(A : 𝒰 ){ A×A×A }\u001b[39m,\n",
       "  \u001b[32m∏(B : 𝒰 ){ B×B×B }\u001b[39m,\n",
       "  \u001b[32m∏(A : 𝒰 ){ ∏(B : 𝒰 ){ (A → B×B×B) } }\u001b[39m,\n",
       "  \u001b[32m∏(A : 𝒰 ){ ∏(B : 𝒰 ){ (A → B×A×A) } }\u001b[39m,\n",
       "  \u001b[32m∏(A : 𝒰 ){ (𝒰  → (A → A×A×A)) }\u001b[39m,\n",
       "  \u001b[32m∏(A : 𝒰 ){ ∏(B : 𝒰 ){ (A → A×A×B) } }\u001b[39m,\n",
       "  \u001b[32m∏(A : 𝒰 ){ ∏(B : 𝒰 ){ (A → A×B×B) } }\u001b[39m,\n",
       "  \u001b[32m∏(A : 𝒰 ){ ∏(B : 𝒰 ){ (A → B×B×A) } }\u001b[39m,\n",
       "  \u001b[32m∏(A : 𝒰 ){ ∏(B : 𝒰 ){ (A → A×B×A) } }\u001b[39m,\n",
       "  \u001b[32m∏(A : 𝒰 ){ ∏(B : 𝒰 ){ (A → B×A×B) } }\u001b[39m,\n",
       "  \u001b[32m∏(A : 𝒰 ){ ∏(B : 𝒰 ){ (A → A×B×B) } }\u001b[39m,\n",
       "  \u001b[32m∏(A : 𝒰 ){ ∏(B : 𝒰 ){ (A → B×B×B) } }\u001b[39m,\n",
       "  \u001b[32m∏(A : 𝒰 ){ ∏(B : 𝒰 ){ (A → A×B×A) } }\u001b[39m,\n",
       "  \u001b[32m∏(A : 𝒰 ){ ∏(B : 𝒰 ){ (A → B×A×A) } }\u001b[39m,\n",
       "  \u001b[32m∏(A : 𝒰 ){ ∏(B : 𝒰 ){ (A → B×B×A) } }\u001b[39m,\n",
       "  \u001b[32m∏(A : 𝒰 ){ ∏(B : 𝒰 ){ (A → A×A×B) } }\u001b[39m,\n",
       "  \u001b[32m∏(A : 𝒰 ){ (𝒰  → (A → A×A×A)) }\u001b[39m,\n",
       "  \u001b[32m∏(A : 𝒰 ){ ∏(B : 𝒰 ){ (A → B×A×B) } }\u001b[39m,\n",
       "  \u001b[32m∏(A : 𝒰 ){ ∏(B : 𝒰 ){ (A → (B → B×B)) } }\u001b[39m,\n",
       "  \u001b[32m∏(A : 𝒰 ){ ∏(B : 𝒰 ){ (A → (A → B×B)) } }\u001b[39m,\n",
       "  \u001b[32m∏(A : 𝒰 ){ ∏(B : 𝒰 ){ (A → (B → A×A)) } }\u001b[39m,\n",
       "  \u001b[32m∏(A : 𝒰 ){ (𝒰  → (A → (A → A×A))) }\u001b[39m,\n",
       "  \u001b[32m∏(A : 𝒰 ){ ∏(B : 𝒰 ){ (A → (B → A×B)) } }\u001b[39m,\n",
       "  \u001b[32m∏(A : 𝒰 ){ ∏(B : 𝒰 ){ (A → (A → A×B)) } }\u001b[39m,\n",
       "  \u001b[32m∏(A : 𝒰 ){ ∏(B : 𝒰 ){ (A → (B → B×A)) } }\u001b[39m,\n",
       "  \u001b[32m∏(A : 𝒰 ){ ∏(B : 𝒰 ){ (A → (A → B×A)) } }\u001b[39m,\n",
       "  \u001b[32m(𝒰  → ∏(B : 𝒰 ){ (B → B×B) })\u001b[39m,\n",
       "  \u001b[32m∏(A : 𝒰 ){ ∏(B : 𝒰 ){ (A → B×B) } }\u001b[39m,\n",
       "  \u001b[32m∏(A : 𝒰 ){ ∏(B : 𝒰 ){ (B → B×A) } }\u001b[39m,\n",
       "  \u001b[32m∏(A : 𝒰 ){ ∏(B : 𝒰 ){ (A → B×A) } }\u001b[39m,\n",
       "  \u001b[32m∏(A : 𝒰 ){ ∏(B : 𝒰 ){ (B → A×A) } }\u001b[39m,\n",
       "  \u001b[32m∏(A : 𝒰 ){ (𝒰  → (A → A×A)) }\u001b[39m,\n",
       "  \u001b[32m∏(A : 𝒰 ){ (A → (A → A×A)) }\u001b[39m,\n",
       "  \u001b[32m∏(A : 𝒰 ){ ∏(B : 𝒰 ){ (A → A×B) } }\u001b[39m,\n",
       "  \u001b[32m∏(A : 𝒰 ){ ∏(B : 𝒰 ){ (B → A×B) } }\u001b[39m,\n",
       "  \u001b[32m∏(B : 𝒰 ){ (B → (B → B)) }\u001b[39m,\n",
       "  \u001b[32m(𝒰  → ∏(B : 𝒰 ){ ((B → B) → B) })\u001b[39m,\n",
       "..."
      ]
     },
     "execution_count": 12,
     "metadata": {},
     "output_type": "execute_result"
    }
   ],
   "source": [
    "val elemTyps = atoms.collect{case Elem(t: Typ[Term], Typs) => t}"
   ]
  },
  {
   "cell_type": "code",
   "execution_count": 13,
   "metadata": {},
   "outputs": [
    {
     "data": {
      "text/plain": [
       "\u001b[36mnormEqs\u001b[39m: \u001b[32mSet\u001b[39m[\u001b[32mEquationNode\u001b[39m] = \u001b[33mSet\u001b[39m(\n",
       "  \u001b[33mEquationNode\u001b[39m(\n",
       "    \u001b[33mInitialVal\u001b[39m(\n",
       "      \u001b[33mInIsle\u001b[39m(\n",
       "        \u001b[33mInIsle\u001b[39m(\n",
       "          \u001b[33mInIsle\u001b[39m(\n",
       "            \u001b[33mInIsle\u001b[39m(\n",
       "              \u001b[33mInIsle\u001b[39m(\n",
       "                \u001b[33mElem\u001b[39m(\u001b[32m@b\u001b[39m, Terms),\n",
       "                \u001b[32m@b\u001b[39m,\n",
       "                \u001b[33mIsland\u001b[39m(Typs, \u001b[33mConstRandVar\u001b[39m(Typs), \u001b[33mAddVar\u001b[39m(\u001b[32m@b\u001b[39m), Pi, EnterIsle)\n",
       "              ),\n",
       "              \u001b[32m@a\u001b[39m,\n",
       "              \u001b[33mIsland\u001b[39m(Typs, \u001b[33mConstRandVar\u001b[39m(Typs), \u001b[33mAddVar\u001b[39m(\u001b[32m@b\u001b[39m), Pi, EnterIsle)\n",
       "            ),\n",
       "            \u001b[32m@a\u001b[39m,\n",
       "            \u001b[33mIsland\u001b[39m(Typs, \u001b[33mConstRandVar\u001b[39m(Typs), \u001b[33mAddVar\u001b[39m(\u001b[32m@a\u001b[39m), Pi, EnterIsle)\n",
       "          ),\n",
       "          \u001b[32m@b\u001b[39m,\n",
       "          \u001b[33mIsland\u001b[39m(Typs, \u001b[33mConstRandVar\u001b[39m(Typs), \u001b[33mAddVar\u001b[39m(\u001b[32m𝒰 \u001b[39m), Pi, EnterIsle)\n",
       "        ),\n",
       "        \u001b[32m@a\u001b[39m,\n",
       "        \u001b[33mIsland\u001b[39m(Typs, \u001b[33mConstRandVar\u001b[39m(Typs), \u001b[33mAddVar\u001b[39m(\u001b[32m𝒰 \u001b[39m), Pi, EnterIsle)\n",
       "      )\n",
       "    ),\n",
       "    \u001b[33mProduct\u001b[39m(\u001b[33mIsleScale\u001b[39m(\u001b[32m%boat\u001b[39m, \u001b[33mElem\u001b[39m(\u001b[32m%boat\u001b[39m, Terms)), \u001b[33mLiteral\u001b[39m(\u001b[32m-1.0\u001b[39m))\n",
       "  ),\n",
       "  \u001b[33mEquationNode\u001b[39m(\n",
       "    \u001b[33mFinalVal\u001b[39m(\n",
       "      \u001b[33mInIsle\u001b[39m(\n",
       "        \u001b[33mInIsle\u001b[39m(\n",
       "          \u001b[33mInIsle\u001b[39m(\n",
       "            \u001b[33mInIsle\u001b[39m(\n",
       "              \u001b[33mElem\u001b[39m(\u001b[32m@a\u001b[39m, Terms),\n",
       "              \u001b[32m@c\u001b[39m,\n",
       "              \u001b[33mIsland\u001b[39m(Terms, \u001b[33mConstRandVar\u001b[39m(Terms), \u001b[33mAddVar\u001b[39m(\u001b[32m@a\u001b[39m), Lambda, EnterIsle)\n",
       "            ),\n",
       "            \u001b[32m@b\u001b[39m,\n",
       "            \u001b[33mIsland\u001b[39m(Typs, \u001b[33mConstRandVar\u001b[39m(Typs), \u001b[33mAddVar\u001b[39m(\u001b[32m@a\u001b[39m), Pi, EnterIsle)\n",
       "..."
      ]
     },
     "execution_count": 13,
     "metadata": {},
     "output_type": "execute_result"
    }
   ],
   "source": [
    "val normEqs = eqs.map(eq => TermData.isleNormalize(eq))"
   ]
  },
  {
   "cell_type": "code",
   "execution_count": 14,
   "metadata": {},
   "outputs": [
    {
     "data": {
      "text/plain": [
       "\u001b[36mnormAtoms\u001b[39m: \u001b[32mSet\u001b[39m[\u001b[32mVariable\u001b[39m[\u001b[32mAny\u001b[39m]] = \u001b[33mSet\u001b[39m(\n",
       "  \u001b[33mInIsle\u001b[39m(\n",
       "    \u001b[33mInIsle\u001b[39m(\n",
       "      \u001b[33mInIsle\u001b[39m(\n",
       "        \u001b[33mInIsle\u001b[39m(\n",
       "          \u001b[33mElem\u001b[39m(\u001b[32m@b\u001b[39m, Typs),\n",
       "          \u001b[32m@b\u001b[39m,\n",
       "          \u001b[33mIsland\u001b[39m(Typs, \u001b[33mConstRandVar\u001b[39m(Typs), \u001b[33mAddVar\u001b[39m(\u001b[32m@a\u001b[39m), Pi, EnterIsle)\n",
       "        ),\n",
       "        \u001b[32m@a\u001b[39m,\n",
       "        \u001b[33mIsland\u001b[39m(Typs, \u001b[33mConstRandVar\u001b[39m(Typs), \u001b[33mAddVar\u001b[39m(\u001b[32m@a\u001b[39m), Sigma, EnterIsle)\n",
       "      ),\n",
       "      \u001b[32m@b\u001b[39m,\n",
       "      \u001b[33mIsland\u001b[39m(Terms, \u001b[33mConstRandVar\u001b[39m(Terms), \u001b[33mAddVar\u001b[39m(\u001b[32m𝒰 \u001b[39m), Lambda, EnterIsle)\n",
       "    ),\n",
       "    \u001b[32m@a\u001b[39m,\n",
       "    \u001b[33mIsland\u001b[39m(Terms, \u001b[33mConstRandVar\u001b[39m(Terms), \u001b[33mAddVar\u001b[39m(\u001b[32m𝒰 \u001b[39m), Lambda, EnterIsle)\n",
       "  ),\n",
       "  \u001b[33mInIsle\u001b[39m(\n",
       "    \u001b[33mInIsle\u001b[39m(\n",
       "      \u001b[33mInIsle\u001b[39m(\n",
       "        \u001b[33mElem\u001b[39m(\u001b[32m(@a → (@a → @a))\u001b[39m, Typs),\n",
       "        \u001b[32m@a\u001b[39m,\n",
       "        \u001b[33mIsland\u001b[39m(Typs, \u001b[33mConstRandVar\u001b[39m(Typs), \u001b[33mAddVar\u001b[39m(\u001b[32m@a\u001b[39m), Pi, EnterIsle)\n",
       "      ),\n",
       "      \u001b[32m@b\u001b[39m,\n",
       "      \u001b[33mIsland\u001b[39m(Typs, \u001b[33mConstRandVar\u001b[39m(Typs), \u001b[33mAddVar\u001b[39m(\u001b[32m𝒰 \u001b[39m), Pi, EnterIsle)\n",
       "    ),\n",
       "    \u001b[32m@a\u001b[39m,\n",
       "    \u001b[33mIsland\u001b[39m(Typs, \u001b[33mConstRandVar\u001b[39m(Typs), \u001b[33mAddVar\u001b[39m(\u001b[32m𝒰 \u001b[39m), Pi, EnterIsle)\n",
       "  ),\n",
       "  \u001b[33mInIsle\u001b[39m(\n",
       "    \u001b[33mInIsle\u001b[39m(\n",
       "      \u001b[33mInIsle\u001b[39m(\n",
       "        \u001b[33mElem\u001b[39m(\u001b[32m(@a → (@b → @a))\u001b[39m, Typs),\n",
       "        \u001b[32m@a\u001b[39m,\n",
       "        \u001b[33mIsland\u001b[39m(Typs, \u001b[33mConstRandVar\u001b[39m(Typs), \u001b[33mAddVar\u001b[39m(\u001b[32m@a\u001b[39m), Pi, EnterIsle)\n",
       "      ),\n",
       "      \u001b[32m@b\u001b[39m,\n",
       "..."
      ]
     },
     "execution_count": 14,
     "metadata": {},
     "output_type": "execute_result"
    }
   ],
   "source": [
    "val normAtoms = (normEqs.map(_.rhs).flatMap(Expression.varVals(_)) union normEqs.map(_.lhs).flatMap(Expression.varVals(_))).map(_.variable)"
   ]
  },
  {
   "cell_type": "code",
   "execution_count": 15,
   "metadata": {},
   "outputs": [
    {
     "data": {
      "text/plain": [
       "\u001b[36mnormElemTerms\u001b[39m: \u001b[32mSet\u001b[39m[\u001b[32mTerm\u001b[39m] = \u001b[33mSet\u001b[39m(\n",
       "  \u001b[32m(A : 𝒰 ) ↦ (B : 𝒰 ) ↦ (a : A) ↦ (@a : B) ↦ (@b : B) ↦ @a\u001b[39m,\n",
       "  \u001b[32m(A : 𝒰 ) ↦ (B : 𝒰 ) ↦ (a : A) ↦ (@a : B) ↦ (@b : B) ↦ @b\u001b[39m,\n",
       "  \u001b[32m(A : 𝒰 ) ↦ (B : 𝒰 ) ↦ (a : A) ↦ (@a : B) ↦ (@a : A) ↦ a\u001b[39m,\n",
       "  \u001b[32m(A : 𝒰 ) ↦ (B : 𝒰 ) ↦ (a : A) ↦ (@a : A) ↦ (@a : B) ↦ a\u001b[39m,\n",
       "  \u001b[32m(A : 𝒰 ) ↦ (B : 𝒰 ) ↦ (a : A) ↦ (@a : A) ↦ (@a : B) ↦ @a\u001b[39m,\n",
       "  \u001b[32m(A : 𝒰 ) ↦ (B : 𝒰 ) ↦ (a : A) ↦ (@a : B) ↦ (@a : A) ↦ @a\u001b[39m,\n",
       "  \u001b[32m(A : 𝒰 ) ↦ (B : 𝒰 ) ↦ (a : A) ↦ (@a : A) ↦ (@b : A) ↦ @a\u001b[39m,\n",
       "  \u001b[32m(A : 𝒰 ) ↦ (B : 𝒰 ) ↦ (a : A) ↦ (@a : A) ↦ (@b : A) ↦ @b\u001b[39m,\n",
       "  \u001b[32m(A : 𝒰 ) ↦ (B : 𝒰 ) ↦ (a : A) ↦ (@a : A) ↦ (@b : A) ↦ a\u001b[39m,\n",
       "  \u001b[32m(A : 𝒰 ) ↦ (B : 𝒰 ) ↦ (a : A) ↦ (@a : B) ↦ (@b : B) ↦ a\u001b[39m,\n",
       "  \u001b[32m(A : 𝒰 ) ↦ (B : 𝒰 ) ↦ (a : A) ↦ (@a : A) ↦ (@a : B) ↦ @a\u001b[39m,\n",
       "  \u001b[32m(A : 𝒰 ) ↦ (B : 𝒰 ) ↦ (a : A) ↦ (@a : B) ↦ (@a : A) ↦ @a\u001b[39m,\n",
       "  \u001b[32m(A : 𝒰 ) ↦ (a : A) ↦ (@a : (A → A)) ↦ a\u001b[39m,\n",
       "  \u001b[32m(A : 𝒰 ) ↦ (B : 𝒰 ) ↦ (a : A) ↦ (@a : (A → B)) ↦ a\u001b[39m,\n",
       "  \u001b[32m(A : 𝒰 ) ↦ (B : 𝒰 ) ↦ (a : A) ↦ (@a : (B → B)) ↦ a\u001b[39m,\n",
       "  \u001b[32m(A : 𝒰 ) ↦ (B : 𝒰 ) ↦ (a : A) ↦ (@a : (B → A)) ↦ a\u001b[39m,\n",
       "  \u001b[32m(A : 𝒰 ) ↦ (B : 𝒰 ) ↦ (a : A) ↦ (@a : (A → A)) ↦ a\u001b[39m,\n",
       "  \u001b[32m(A : 𝒰 ) ↦ (B : 𝒰 ) ↦ (@a : (B → B)) ↦ @a\u001b[39m,\n",
       "  \u001b[32m(A : 𝒰 ) ↦ (B : 𝒰 ) ↦ (@a : (A → B)) ↦ @a\u001b[39m,\n",
       "  \u001b[32m(A : 𝒰 ) ↦ (B : 𝒰 ) ↦ (@a : (B → A)) ↦ @a\u001b[39m,\n",
       "  \u001b[32m(A : 𝒰 ) ↦ (B : 𝒰 ) ↦ (@a : (A → A)) ↦ @a\u001b[39m,\n",
       "  \u001b[32m(B : 𝒰 ) ↦ (@a : B) ↦ (@b : B) ↦ @b\u001b[39m,\n",
       "  \u001b[32m(B : 𝒰 ) ↦ (@a : B) ↦ (@b : B) ↦ @a\u001b[39m,\n",
       "  \u001b[32m(A : 𝒰 ) ↦ (B : 𝒰 ) ↦ (a : A) ↦ (@a : (A → A)) ↦ @a(a)\u001b[39m,\n",
       "  \u001b[32m(A : 𝒰 ) ↦ (B : 𝒰 ) ↦ (a : A) ↦ (@a : (A → B)) ↦ @a(a)\u001b[39m,\n",
       "  \u001b[32m(B : 𝒰 ) ↦ ((``@a_1 , @a_2) : B×B) ↦ (``@a_1 , @a_2)\u001b[39m,\n",
       "  \u001b[32m(@a : B) ↦ a\u001b[39m,\n",
       "  \u001b[32m(A : 𝒰 ) ↦ (B : 𝒰 ) ↦ ((``@a_1 , @a_2) : A×A) ↦ (``@a_1 , @a_2)\u001b[39m,\n",
       "  \u001b[32m(A : 𝒰 ) ↦ (B : 𝒰 ) ↦ ((``@a_1 , @a_2) : B×B) ↦ (``@a_1 , @a_2)\u001b[39m,\n",
       "  \u001b[32m(A : 𝒰 ) ↦ (B : 𝒰 ) ↦ ((```@a_1 , @a_2) : A×B) ↦ (```@a_1 , @a_2)\u001b[39m,\n",
       "  \u001b[32m(A : 𝒰 ) ↦ (B : 𝒰 ) ↦ ((```@a_1 , @a_2) : B×A) ↦ (```@a_1 , @a_2)\u001b[39m,\n",
       "  \u001b[32m(A : 𝒰 ) ↦ (a : A) ↦ A\u001b[39m,\n",
       "  \u001b[32m(@a : (A → B)) ↦ a\u001b[39m,\n",
       "  \u001b[32m(@a : (B → B)) ↦ a\u001b[39m,\n",
       "  \u001b[32m(A : 𝒰 ) ↦ (a : A) ↦ (@a : (A → A)) ↦ @a\u001b[39m,\n",
       "  \u001b[32m(@a : A) ↦ @a\u001b[39m,\n",
       "  \u001b[32m(B : 𝒰 ) ↦ B\u001b[39m,\n",
       "  \u001b[32m(A : 𝒰 ) ↦ (B : 𝒰 ) ↦ (a : A) ↦ B\u001b[39m,\n",
       "..."
      ]
     },
     "execution_count": 15,
     "metadata": {},
     "output_type": "execute_result"
    }
   ],
   "source": [
    "val normElemTerms = normAtoms.collect{case Elem(t: Term, Terms) => t}"
   ]
  },
  {
   "cell_type": "code",
   "execution_count": 16,
   "metadata": {},
   "outputs": [
    {
     "data": {
      "text/plain": [
       "\u001b[36mres15\u001b[39m: \u001b[32mBoolean\u001b[39m = true"
      ]
     },
     "execution_count": 16,
     "metadata": {},
     "output_type": "execute_result"
    }
   ],
   "source": [
    "elemTerms == normElemTerms"
   ]
  },
  {
   "cell_type": "markdown",
   "metadata": {},
   "source": [
    "## Next conclusion\n",
    "\n",
    "* terms are generated correctly\n",
    "* however, this does not test deeper generation, for which we must generate with the equations."
   ]
  },
  {
   "cell_type": "code",
   "execution_count": 17,
   "metadata": {},
   "outputs": [
    {
     "data": {
      "text/plain": [
       "\u001b[36mts0\u001b[39m: \u001b[32mTermState\u001b[39m = \u001b[33mTermState\u001b[39m(\n",
       "  \u001b[33mFiniteDistribution\u001b[39m(\u001b[33mVector\u001b[39m()),\n",
       "  \u001b[33mFiniteDistribution\u001b[39m(\u001b[33mVector\u001b[39m(\u001b[33mWeighted\u001b[39m(\u001b[32m𝒰 \u001b[39m, \u001b[32m1.0\u001b[39m))),\n",
       "  \u001b[33mVector\u001b[39m(),\n",
       "  \u001b[33mFiniteDistribution\u001b[39m(\u001b[33mVector\u001b[39m()),\n",
       "  \u001b[33mFiniteDistribution\u001b[39m(\u001b[33mVector\u001b[39m()),\n",
       "  Empty\n",
       ")"
      ]
     },
     "execution_count": 17,
     "metadata": {},
     "output_type": "execute_result"
    }
   ],
   "source": [
    "val ts0 = TermState(FiniteDistribution.empty, FiniteDistribution.unif(Type))"
   ]
  },
  {
   "cell_type": "code",
   "execution_count": 18,
   "metadata": {},
   "outputs": [
    {
     "data": {
      "text/plain": [
       "\u001b[36mev\u001b[39m: \u001b[32mExpressionEval\u001b[39m = provingground.learning.ExpressionEval$$anon$2@4cec84b3"
      ]
     },
     "execution_count": 18,
     "metadata": {},
     "output_type": "execute_result"
    }
   ],
   "source": [
    "val ev = ExpressionEval.fromInitEqs(ts0, Equation.group(eqs), TermGenParams(), decayS = 0.95)"
   ]
  },
  {
   "cell_type": "code",
   "execution_count": 19,
   "metadata": {},
   "outputs": [
    {
     "data": {
      "text/plain": [
       "\u001b[36mtermsT\u001b[39m: \u001b[32mFiniteDistribution\u001b[39m[\u001b[32mTerm\u001b[39m] = \u001b[33mFiniteDistribution\u001b[39m(\n",
       "  \u001b[33mVector\u001b[39m(\n",
       "    \u001b[33mWeighted\u001b[39m(\n",
       "      \u001b[32m(A : 𝒰 ) ↦ (a : A) ↦ (@a : A) ↦ (@b : A) ↦ @a\u001b[39m,\n",
       "      \u001b[32m9.276485722945591E-4\u001b[39m\n",
       "    ),\n",
       "    \u001b[33mWeighted\u001b[39m(\n",
       "      \u001b[32m(A : 𝒰 ) ↦ (a : A) ↦ (@a : A) ↦ (@b : A) ↦ @b\u001b[39m,\n",
       "      \u001b[32m0.001325217461338344\u001b[39m\n",
       "    ),\n",
       "    \u001b[33mWeighted\u001b[39m(\n",
       "      \u001b[32m(A : 𝒰 ) ↦ (a : A) ↦ (@a : A) ↦ (@b : A) ↦ a\u001b[39m,\n",
       "      \u001b[32m6.551449356602914E-4\u001b[39m\n",
       "    ),\n",
       "    \u001b[33mWeighted\u001b[39m(\n",
       "      \u001b[32m(A : 𝒰 ) ↦ (a : A) ↦ ((``@a_1 , @a_2) : A×A) ↦ (``@a_1 , @a_2)\u001b[39m,\n",
       "      \u001b[32m0.006482343732652738\u001b[39m\n",
       "    ),\n",
       "    \u001b[33mWeighted\u001b[39m(\n",
       "      \u001b[32m(A : 𝒰 ) ↦ (B : 𝒰 ) ↦ (a : A) ↦ ((```@a_1 , @a_2) : A×B) ↦ (```@a_1 , @a_2)\u001b[39m,\n",
       "      \u001b[32m6.482328556913037E-4\u001b[39m\n",
       "    ),\n",
       "    \u001b[33mWeighted\u001b[39m(\n",
       "      \u001b[32m(A : 𝒰 ) ↦ (B : 𝒰 ) ↦ (a : A) ↦ ((``@a_1 , @a_2) : B×B) ↦ (``@a_1 , @a_2)\u001b[39m,\n",
       "      \u001b[32m6.482334239667172E-4\u001b[39m\n",
       "    ),\n",
       "    \u001b[33mWeighted\u001b[39m(\n",
       "      \u001b[32m(A : 𝒰 ) ↦ (B : 𝒰 ) ↦ (a : A) ↦ ((```@a_1 , @a_2) : B×A) ↦ (```@a_1 , @a_2)\u001b[39m,\n",
       "      \u001b[32m6.481468665912907E-4\u001b[39m\n",
       "    ),\n",
       "    \u001b[33mWeighted\u001b[39m(\n",
       "      \u001b[32m(A : 𝒰 ) ↦ (B : 𝒰 ) ↦ (a : A) ↦ ((``@a_1 , @a_2) : A×A) ↦ (``@a_1 , @a_2)\u001b[39m,\n",
       "      \u001b[32m6.481464725181117E-4\u001b[39m\n",
       "    ),\n",
       "    \u001b[33mWeighted\u001b[39m(\n",
       "..."
      ]
     },
     "execution_count": 19,
     "metadata": {},
     "output_type": "execute_result"
    }
   ],
   "source": [
    "val termsT = ev.finalTerms"
   ]
  },
  {
   "cell_type": "code",
   "execution_count": 20,
   "metadata": {},
   "outputs": [
    {
     "data": {
      "text/plain": [
       "\u001b[36mevN\u001b[39m: \u001b[32mExpressionEval\u001b[39m = provingground.learning.ExpressionEval$$anon$2@173e151"
      ]
     },
     "execution_count": 20,
     "metadata": {},
     "output_type": "execute_result"
    }
   ],
   "source": [
    "val evN = ExpressionEval.fromInitEqs(ts0, Equation.group(normEqs), TermGenParams(), decayS = 0.95)"
   ]
  },
  {
   "cell_type": "code",
   "execution_count": 20,
   "metadata": {},
   "outputs": [],
   "source": [
    "// val termsN = evN.finalTerms"
   ]
  },
  {
   "cell_type": "code",
   "execution_count": 21,
   "metadata": {},
   "outputs": [
    {
     "data": {
      "text/plain": [
       "\u001b[32mimport \u001b[39m\u001b[36mExpressionEval._\u001b[39m"
      ]
     },
     "execution_count": 21,
     "metadata": {},
     "output_type": "execute_result"
    }
   ],
   "source": [
    "import ExpressionEval._"
   ]
  },
  {
   "cell_type": "code",
   "execution_count": 22,
   "metadata": {},
   "outputs": [
    {
     "data": {
      "text/plain": [
       "\u001b[36mm1\u001b[39m: \u001b[32mMap\u001b[39m[\u001b[32mExpression\u001b[39m, \u001b[32mDouble\u001b[39m] = \u001b[33mMap\u001b[39m(\n",
       "  \u001b[33mInitialVal\u001b[39m(\n",
       "    \u001b[33mInIsle\u001b[39m(\n",
       "      \u001b[33mInIsle\u001b[39m(\n",
       "        \u001b[33mInIsle\u001b[39m(\n",
       "          \u001b[33mInIsle\u001b[39m(\n",
       "            \u001b[33mElem\u001b[39m(\u001b[32m@a\u001b[39m, Terms),\n",
       "            \u001b[32m@a\u001b[39m,\n",
       "            \u001b[33mIsland\u001b[39m(Typs, \u001b[33mConstRandVar\u001b[39m(Typs), \u001b[33mAddVar\u001b[39m(\u001b[32m@a\u001b[39m), Pi, EnterIsle)\n",
       "          ),\n",
       "          \u001b[32m@a\u001b[39m,\n",
       "          \u001b[33mIsland\u001b[39m(Typs, \u001b[33mConstRandVar\u001b[39m(Typs), \u001b[33mAddVar\u001b[39m(\u001b[32m@b\u001b[39m), Pi, EnterIsle)\n",
       "        ),\n",
       "        \u001b[32m@b\u001b[39m,\n",
       "        \u001b[33mIsland\u001b[39m(Terms, \u001b[33mConstRandVar\u001b[39m(Terms), \u001b[33mAddVar\u001b[39m(\u001b[32m𝒰 \u001b[39m), Lambda, EnterIsle)\n",
       "      ),\n",
       "      \u001b[32m@a\u001b[39m,\n",
       "      \u001b[33mIsland\u001b[39m(Typs, \u001b[33mConstRandVar\u001b[39m(Typs), \u001b[33mAddVar\u001b[39m(\u001b[32m𝒰 \u001b[39m), Pi, EnterIsle)\n",
       "    )\n",
       "  ) -> \u001b[32m0.30000000000000004\u001b[39m,\n",
       "  \u001b[33mInitialVal\u001b[39m(\n",
       "    \u001b[33mInIsle\u001b[39m(\n",
       "      \u001b[33mInIsle\u001b[39m(\n",
       "        \u001b[33mInIsle\u001b[39m(\n",
       "          \u001b[33mInIsle\u001b[39m(\n",
       "            \u001b[33mInIsle\u001b[39m(\n",
       "              \u001b[33mElem\u001b[39m(\u001b[32m@b\u001b[39m, Terms),\n",
       "              \u001b[32m@b\u001b[39m,\n",
       "              \u001b[33mIsland\u001b[39m(\n",
       "                \u001b[33mAtCoord\u001b[39m(FuncsWithDomain, \u001b[32m@a\u001b[39m :: HNil),\n",
       "                \u001b[33mConstRandVar\u001b[39m(Terms),\n",
       "                \u001b[33mAddVar\u001b[39m(\u001b[32m@a\u001b[39m),\n",
       "                Lambda,\n",
       "                EnterIsle\n",
       "              )\n",
       "            ),\n",
       "            \u001b[32m@a\u001b[39m,\n",
       "            \u001b[33mIsland\u001b[39m(Terms, \u001b[33mConstRandVar\u001b[39m(Terms), \u001b[33mAddVar\u001b[39m(\u001b[32m@b\u001b[39m), Lambda, EnterIsle)\n",
       "          ),\n",
       "..."
      ]
     },
     "execution_count": 22,
     "metadata": {},
     "output_type": "execute_result"
    }
   ],
   "source": [
    "val m1 = nextMap(evN.init, evN.equations)"
   ]
  },
  {
   "cell_type": "code",
   "execution_count": 23,
   "metadata": {},
   "outputs": [
    {
     "data": {
      "text/plain": [
       "\u001b[36mres22\u001b[39m: \u001b[32mIterable\u001b[39m[\u001b[32mDouble\u001b[39m] = \u001b[33mMapLike.DefaultValuesIterable\u001b[39m(\n",
       "  \u001b[32m0.30000000000000004\u001b[39m,\n",
       "  \u001b[32m0.30000000000000004\u001b[39m,\n",
       "  \u001b[32m0.30000000000000004\u001b[39m,\n",
       "  \u001b[32m0.30000000000000004\u001b[39m,\n",
       "  \u001b[32m0.30000000000000004\u001b[39m,\n",
       "  \u001b[32m0.30000000000000004\u001b[39m,\n",
       "  \u001b[32m0.30000000000000004\u001b[39m,\n",
       "  \u001b[32m0.30000000000000004\u001b[39m,\n",
       "  \u001b[32m0.30000000000000004\u001b[39m,\n",
       "  \u001b[32m0.30000000000000004\u001b[39m,\n",
       "  \u001b[32m0.30000000000000004\u001b[39m,\n",
       "  \u001b[32m0.30000000000000004\u001b[39m,\n",
       "  \u001b[32m0.30000000000000004\u001b[39m,\n",
       "  \u001b[32m0.1\u001b[39m,\n",
       "  \u001b[32m0.30000000000000004\u001b[39m,\n",
       "  \u001b[32m0.30000000000000004\u001b[39m,\n",
       "  \u001b[32m0.30000000000000004\u001b[39m,\n",
       "  \u001b[32m0.7\u001b[39m,\n",
       "  \u001b[32m0.30000000000000004\u001b[39m,\n",
       "  \u001b[32m0.7\u001b[39m,\n",
       "  \u001b[32m0.30000000000000004\u001b[39m,\n",
       "  \u001b[32m0.30000000000000004\u001b[39m,\n",
       "  \u001b[32m0.30000000000000004\u001b[39m,\n",
       "  \u001b[32m0.30000000000000004\u001b[39m,\n",
       "  \u001b[32m0.30000000000000004\u001b[39m,\n",
       "  \u001b[32m0.30000000000000004\u001b[39m,\n",
       "  \u001b[32m0.30000000000000004\u001b[39m,\n",
       "  \u001b[32m0.30000000000000004\u001b[39m,\n",
       "  \u001b[32m0.7\u001b[39m,\n",
       "  \u001b[32m0.7\u001b[39m,\n",
       "  \u001b[32m0.30000000000000004\u001b[39m,\n",
       "  \u001b[32m0.30000000000000004\u001b[39m,\n",
       "  \u001b[32m0.30000000000000004\u001b[39m,\n",
       "  \u001b[32m0.30000000000000004\u001b[39m,\n",
       "  \u001b[32m0.1\u001b[39m,\n",
       "  \u001b[32m0.30000000000000004\u001b[39m,\n",
       "  \u001b[32m0.30000000000000004\u001b[39m,\n",
       "  \u001b[32m0.30000000000000004\u001b[39m,\n",
       "..."
      ]
     },
     "execution_count": 23,
     "metadata": {},
     "output_type": "execute_result"
    }
   ],
   "source": [
    "m1.values"
   ]
  },
  {
   "cell_type": "code",
   "execution_count": 24,
   "metadata": {},
   "outputs": [
    {
     "data": {
      "text/plain": [
       "\u001b[36mexp\u001b[39m: \u001b[32mExpression\u001b[39m = \u001b[33mInitialVal\u001b[39m(\n",
       "  \u001b[33mInIsle\u001b[39m(\n",
       "    \u001b[33mInIsle\u001b[39m(\n",
       "      \u001b[33mElem\u001b[39m(\u001b[32m@a\u001b[39m, \u001b[33mAtCoord\u001b[39m(TermsWithTyp, \u001b[32m@a\u001b[39m :: HNil)),\n",
       "      \u001b[32m@a\u001b[39m,\n",
       "      \u001b[33mIsland\u001b[39m(Terms, \u001b[33mConstRandVar\u001b[39m(Terms), \u001b[33mAddVar\u001b[39m(\u001b[32m@a\u001b[39m), Lambda, EnterIsle)\n",
       "    ),\n",
       "    \u001b[32m@a\u001b[39m,\n",
       "    \u001b[33mIsland\u001b[39m(Typs, \u001b[33mConstRandVar\u001b[39m(Typs), \u001b[33mAddVar\u001b[39m(\u001b[32m𝒰 \u001b[39m), Pi, EnterIsle)\n",
       "  )\n",
       ")"
      ]
     },
     "execution_count": 24,
     "metadata": {},
     "output_type": "execute_result"
    }
   ],
   "source": [
    "val exp = m1.find(_._2 < 0).get._1"
   ]
  },
  {
   "cell_type": "code",
   "execution_count": 25,
   "metadata": {},
   "outputs": [
    {
     "data": {
      "text/plain": [
       "\u001b[36mrhs\u001b[39m: \u001b[32mExpression\u001b[39m = \u001b[33mSum\u001b[39m(\n",
       "  \u001b[33mSum\u001b[39m(\n",
       "    \u001b[33mLiteral\u001b[39m(\u001b[32m1.0\u001b[39m),\n",
       "    \u001b[33mProduct\u001b[39m(\n",
       "      \u001b[33mIsleScale\u001b[39m(\u001b[32m%boat\u001b[39m, \u001b[33mElem\u001b[39m(\u001b[32m%boat\u001b[39m, \u001b[33mAtCoord\u001b[39m(TermsWithTyp, \u001b[32mA\u001b[39m :: HNil))),\n",
       "      \u001b[33mLiteral\u001b[39m(\u001b[32m-1.0\u001b[39m)\n",
       "    )\n",
       "  ),\n",
       "  \u001b[33mProduct\u001b[39m(\n",
       "    \u001b[33mIsleScale\u001b[39m(\u001b[32m%boat\u001b[39m, \u001b[33mElem\u001b[39m(\u001b[32m%boat\u001b[39m, \u001b[33mAtCoord\u001b[39m(TermsWithTyp, \u001b[32mB\u001b[39m :: HNil))),\n",
       "    \u001b[33mLiteral\u001b[39m(\u001b[32m-1.0\u001b[39m)\n",
       "  )\n",
       ")"
      ]
     },
     "execution_count": 25,
     "metadata": {},
     "output_type": "execute_result"
    }
   ],
   "source": [
    "val rhs = evN.equations.find(_.lhs == exp).map(_.rhs).get"
   ]
  },
  {
   "cell_type": "code",
   "execution_count": 26,
   "metadata": {},
   "outputs": [
    {
     "data": {
      "text/plain": [
       "\u001b[36mres25\u001b[39m: \u001b[32mSet\u001b[39m[\u001b[32mEquationNode\u001b[39m] = \u001b[33mSet\u001b[39m(\n",
       "  \u001b[33mEquationNode\u001b[39m(\n",
       "    \u001b[33mInitialVal\u001b[39m(\n",
       "      \u001b[33mInIsle\u001b[39m(\n",
       "        \u001b[33mInIsle\u001b[39m(\n",
       "          \u001b[33mElem\u001b[39m(\u001b[32m@a\u001b[39m, \u001b[33mAtCoord\u001b[39m(TermsWithTyp, \u001b[32m@a\u001b[39m :: HNil)),\n",
       "          \u001b[32m@a\u001b[39m,\n",
       "          \u001b[33mIsland\u001b[39m(Terms, \u001b[33mConstRandVar\u001b[39m(Terms), \u001b[33mAddVar\u001b[39m(\u001b[32m@a\u001b[39m), Lambda, EnterIsle)\n",
       "        ),\n",
       "        \u001b[32m@a\u001b[39m,\n",
       "        \u001b[33mIsland\u001b[39m(Typs, \u001b[33mConstRandVar\u001b[39m(Typs), \u001b[33mAddVar\u001b[39m(\u001b[32m𝒰 \u001b[39m), Pi, EnterIsle)\n",
       "      )\n",
       "    ),\n",
       "    \u001b[33mLiteral\u001b[39m(\u001b[32m1.0\u001b[39m)\n",
       "  ),\n",
       "  \u001b[33mEquationNode\u001b[39m(\n",
       "    \u001b[33mInitialVal\u001b[39m(\n",
       "      \u001b[33mInIsle\u001b[39m(\n",
       "        \u001b[33mInIsle\u001b[39m(\n",
       "          \u001b[33mElem\u001b[39m(\u001b[32m@a\u001b[39m, \u001b[33mAtCoord\u001b[39m(TermsWithTyp, \u001b[32m@a\u001b[39m :: HNil)),\n",
       "          \u001b[32m@a\u001b[39m,\n",
       "          \u001b[33mIsland\u001b[39m(Terms, \u001b[33mConstRandVar\u001b[39m(Terms), \u001b[33mAddVar\u001b[39m(\u001b[32m@a\u001b[39m), Lambda, EnterIsle)\n",
       "        ),\n",
       "        \u001b[32m@a\u001b[39m,\n",
       "        \u001b[33mIsland\u001b[39m(Typs, \u001b[33mConstRandVar\u001b[39m(Typs), \u001b[33mAddVar\u001b[39m(\u001b[32m𝒰 \u001b[39m), Pi, EnterIsle)\n",
       "      )\n",
       "    ),\n",
       "    \u001b[33mProduct\u001b[39m(\n",
       "      \u001b[33mIsleScale\u001b[39m(\u001b[32m%boat\u001b[39m, \u001b[33mElem\u001b[39m(\u001b[32m%boat\u001b[39m, \u001b[33mAtCoord\u001b[39m(TermsWithTyp, \u001b[32mB\u001b[39m :: HNil))),\n",
       "      \u001b[33mLiteral\u001b[39m(\u001b[32m-1.0\u001b[39m)\n",
       "    )\n",
       "  ),\n",
       "  \u001b[33mEquationNode\u001b[39m(\n",
       "    \u001b[33mInitialVal\u001b[39m(\n",
       "      \u001b[33mInIsle\u001b[39m(\n",
       "        \u001b[33mInIsle\u001b[39m(\n",
       "          \u001b[33mElem\u001b[39m(\u001b[32m@a\u001b[39m, \u001b[33mAtCoord\u001b[39m(TermsWithTyp, \u001b[32m@a\u001b[39m :: HNil)),\n",
       "          \u001b[32m@a\u001b[39m,\n",
       "          \u001b[33mIsland\u001b[39m(Terms, \u001b[33mConstRandVar\u001b[39m(Terms), \u001b[33mAddVar\u001b[39m(\u001b[32m@a\u001b[39m), Lambda, EnterIsle)\n",
       "..."
      ]
     },
     "execution_count": 26,
     "metadata": {},
     "output_type": "execute_result"
    }
   ],
   "source": [
    "normEqs.filter(_.lhs == exp)"
   ]
  },
  {
   "cell_type": "code",
   "execution_count": 27,
   "metadata": {},
   "outputs": [
    {
     "data": {
      "text/plain": [
       "\u001b[36mres26\u001b[39m: \u001b[32mInt\u001b[39m = \u001b[32m3\u001b[39m"
      ]
     },
     "execution_count": 27,
     "metadata": {},
     "output_type": "execute_result"
    }
   ],
   "source": [
    "normEqs.filter(_.lhs == exp).size"
   ]
  },
  {
   "cell_type": "code",
   "execution_count": 28,
   "metadata": {},
   "outputs": [
    {
     "data": {
      "text/plain": [
       "\u001b[36mbaseEqs\u001b[39m: \u001b[32mSet\u001b[39m[\u001b[32mEquationNode\u001b[39m] = \u001b[33mSet\u001b[39m(\n",
       "  \u001b[33mEquationNode\u001b[39m(\n",
       "    \u001b[33mInitialVal\u001b[39m(\n",
       "      \u001b[33mInIsle\u001b[39m(\n",
       "        \u001b[33mInIsle\u001b[39m(\n",
       "          \u001b[33mElem\u001b[39m(\u001b[32ma\u001b[39m, \u001b[33mAtCoord\u001b[39m(TermsWithTyp, \u001b[32mA\u001b[39m :: HNil)),\n",
       "          \u001b[32ma\u001b[39m,\n",
       "          \u001b[33mIsland\u001b[39m(Terms, \u001b[33mConstRandVar\u001b[39m(Terms), \u001b[33mAddVar\u001b[39m(\u001b[32mA\u001b[39m), Lambda, EnterIsle)\n",
       "        ),\n",
       "        \u001b[32mA\u001b[39m,\n",
       "        \u001b[33mIsland\u001b[39m(Typs, \u001b[33mConstRandVar\u001b[39m(Typs), \u001b[33mAddVar\u001b[39m(\u001b[32m𝒰 \u001b[39m), Pi, EnterIsle)\n",
       "      )\n",
       "    ),\n",
       "    \u001b[33mLiteral\u001b[39m(\u001b[32m1.0\u001b[39m)\n",
       "  ),\n",
       "  \u001b[33mEquationNode\u001b[39m(\n",
       "    \u001b[33mInitialVal\u001b[39m(\n",
       "      \u001b[33mInIsle\u001b[39m(\n",
       "        \u001b[33mInIsle\u001b[39m(\n",
       "          \u001b[33mElem\u001b[39m(\u001b[32m@a\u001b[39m, \u001b[33mAtCoord\u001b[39m(TermsWithTyp, \u001b[32mB\u001b[39m :: HNil)),\n",
       "          \u001b[32m@a\u001b[39m,\n",
       "          \u001b[33mIsland\u001b[39m(Terms, \u001b[33mConstRandVar\u001b[39m(Terms), \u001b[33mAddVar\u001b[39m(\u001b[32mB\u001b[39m), Lambda, EnterIsle)\n",
       "        ),\n",
       "        \u001b[32mB\u001b[39m,\n",
       "        \u001b[33mIsland\u001b[39m(Typs, \u001b[33mConstRandVar\u001b[39m(Typs), \u001b[33mAddVar\u001b[39m(\u001b[32m𝒰 \u001b[39m), Pi, EnterIsle)\n",
       "      )\n",
       "    ),\n",
       "    \u001b[33mProduct\u001b[39m(\n",
       "      \u001b[33mIsleScale\u001b[39m(\u001b[32m@a\u001b[39m, \u001b[33mElem\u001b[39m(\u001b[32m@a\u001b[39m, \u001b[33mAtCoord\u001b[39m(TermsWithTyp, \u001b[32mB\u001b[39m :: HNil))),\n",
       "      \u001b[33mLiteral\u001b[39m(\u001b[32m-1.0\u001b[39m)\n",
       "    )\n",
       "  ),\n",
       "  \u001b[33mEquationNode\u001b[39m(\n",
       "    \u001b[33mInitialVal\u001b[39m(\n",
       "      \u001b[33mInIsle\u001b[39m(\n",
       "        \u001b[33mInIsle\u001b[39m(\n",
       "          \u001b[33mElem\u001b[39m(\u001b[32ma\u001b[39m, \u001b[33mAtCoord\u001b[39m(TermsWithTyp, \u001b[32mA\u001b[39m :: HNil)),\n",
       "          \u001b[32ma\u001b[39m,\n",
       "          \u001b[33mIsland\u001b[39m(Terms, \u001b[33mConstRandVar\u001b[39m(Terms), \u001b[33mAddVar\u001b[39m(\u001b[32mA\u001b[39m), Lambda, EnterIsle)\n",
       "..."
      ]
     },
     "execution_count": 28,
     "metadata": {},
     "output_type": "execute_result"
    }
   ],
   "source": [
    "val baseEqs = eqs.filter(eq => TermData.isleNormalize(eq).lhs == exp)"
   ]
  },
  {
   "cell_type": "code",
   "execution_count": 29,
   "metadata": {},
   "outputs": [
    {
     "data": {
      "text/plain": [
       "\u001b[36mres28\u001b[39m: \u001b[32mInt\u001b[39m = \u001b[32m6\u001b[39m"
      ]
     },
     "execution_count": 29,
     "metadata": {},
     "output_type": "execute_result"
    }
   ],
   "source": [
    "baseEqs.size"
   ]
  },
  {
   "cell_type": "code",
   "execution_count": 30,
   "metadata": {},
   "outputs": [
    {
     "name": "stdout",
     "output_type": "stream",
     "text": [
      "\u001b[33mSet\u001b[39m(\n",
      "  \u001b[33mProduct\u001b[39m(\n",
      "    \u001b[33mIsleScale\u001b[39m(\u001b[32ma\u001b[39m, \u001b[33mElem\u001b[39m(\u001b[32ma\u001b[39m, \u001b[33mAtCoord\u001b[39m(TermsWithTyp, \u001b[32mA\u001b[39m :: HNil))),\n",
      "    \u001b[33mLiteral\u001b[39m(\u001b[32m-1.0\u001b[39m)\n",
      "  ),\n",
      "  \u001b[33mProduct\u001b[39m(\n",
      "    \u001b[33mIsleScale\u001b[39m(\u001b[32m@a\u001b[39m, \u001b[33mElem\u001b[39m(\u001b[32m@a\u001b[39m, \u001b[33mAtCoord\u001b[39m(TermsWithTyp, \u001b[32mB\u001b[39m :: HNil))),\n",
      "    \u001b[33mLiteral\u001b[39m(\u001b[32m-1.0\u001b[39m)\n",
      "  ),\n",
      "  \u001b[33mProduct\u001b[39m(\n",
      "    \u001b[33mIsleScale\u001b[39m(\u001b[32m@a\u001b[39m, \u001b[33mElem\u001b[39m(\u001b[32m@a\u001b[39m, \u001b[33mAtCoord\u001b[39m(TermsWithTyp, \u001b[32mA\u001b[39m :: HNil))),\n",
      "    \u001b[33mLiteral\u001b[39m(\u001b[32m-1.0\u001b[39m)\n",
      "  ),\n",
      "  \u001b[33mLiteral\u001b[39m(\u001b[32m1.0\u001b[39m)\n",
      ")\n"
     ]
    }
   ],
   "source": [
    "show(baseEqs.map(_.rhs))"
   ]
  },
  {
   "cell_type": "code",
   "execution_count": 31,
   "metadata": {},
   "outputs": [
    {
     "name": "stdout",
     "output_type": "stream",
     "text": [
      "\u001b[33mSet\u001b[39m(\n",
      "  \u001b[33mInitialVal\u001b[39m(\n",
      "    \u001b[33mInIsle\u001b[39m(\n",
      "      \u001b[33mInIsle\u001b[39m(\n",
      "        \u001b[33mElem\u001b[39m(\u001b[32ma\u001b[39m, \u001b[33mAtCoord\u001b[39m(TermsWithTyp, \u001b[32mA\u001b[39m :: HNil)),\n",
      "        \u001b[32ma\u001b[39m,\n",
      "        \u001b[33mIsland\u001b[39m(Terms, \u001b[33mConstRandVar\u001b[39m(Terms), \u001b[33mAddVar\u001b[39m(\u001b[32mA\u001b[39m), Lambda, EnterIsle)\n",
      "      ),\n",
      "      \u001b[32mA\u001b[39m,\n",
      "      \u001b[33mIsland\u001b[39m(Typs, \u001b[33mConstRandVar\u001b[39m(Typs), \u001b[33mAddVar\u001b[39m(\u001b[32m𝒰 \u001b[39m), Pi, EnterIsle)\n",
      "    )\n",
      "  ),\n",
      "  \u001b[33mInitialVal\u001b[39m(\n",
      "    \u001b[33mInIsle\u001b[39m(\n",
      "      \u001b[33mInIsle\u001b[39m(\n",
      "        \u001b[33mElem\u001b[39m(\u001b[32m@a\u001b[39m, \u001b[33mAtCoord\u001b[39m(TermsWithTyp, \u001b[32mB\u001b[39m :: HNil)),\n",
      "        \u001b[32m@a\u001b[39m,\n",
      "        \u001b[33mIsland\u001b[39m(Terms, \u001b[33mConstRandVar\u001b[39m(Terms), \u001b[33mAddVar\u001b[39m(\u001b[32mB\u001b[39m), Lambda, EnterIsle)\n",
      "      ),\n",
      "      \u001b[32mB\u001b[39m,\n",
      "      \u001b[33mIsland\u001b[39m(Typs, \u001b[33mConstRandVar\u001b[39m(Typs), \u001b[33mAddVar\u001b[39m(\u001b[32m𝒰 \u001b[39m), Pi, EnterIsle)\n",
      "    )\n",
      "  ),\n",
      "  \u001b[33mInitialVal\u001b[39m(\n",
      "    \u001b[33mInIsle\u001b[39m(\n",
      "      \u001b[33mInIsle\u001b[39m(\n",
      "        \u001b[33mElem\u001b[39m(\u001b[32m@a\u001b[39m, \u001b[33mAtCoord\u001b[39m(TermsWithTyp, \u001b[32mA\u001b[39m :: HNil)),\n",
      "        \u001b[32m@a\u001b[39m,\n",
      "        \u001b[33mIsland\u001b[39m(Terms, \u001b[33mConstRandVar\u001b[39m(Terms), \u001b[33mAddVar\u001b[39m(\u001b[32mA\u001b[39m), Lambda, EnterIsle)\n",
      "      ),\n",
      "      \u001b[32mA\u001b[39m,\n",
      "      \u001b[33mIsland\u001b[39m(Typs, \u001b[33mConstRandVar\u001b[39m(Typs), \u001b[33mAddVar\u001b[39m(\u001b[32m𝒰 \u001b[39m), Pi, EnterIsle)\n",
      "    )\n",
      "  )\n",
      ")\n"
     ]
    }
   ],
   "source": [
    "show(baseEqs.map(_.lhs))"
   ]
  },
  {
   "cell_type": "code",
   "execution_count": 32,
   "metadata": {},
   "outputs": [
    {
     "name": "stdout",
     "output_type": "stream",
     "text": [
      "\u001b[33mSet\u001b[39m(\n",
      "  \u001b[33mEquationNode\u001b[39m(\n",
      "    \u001b[33mInitialVal\u001b[39m(\n",
      "      \u001b[33mInIsle\u001b[39m(\n",
      "        \u001b[33mInIsle\u001b[39m(\n",
      "          \u001b[33mElem\u001b[39m(\u001b[32m@a\u001b[39m, \u001b[33mAtCoord\u001b[39m(TermsWithTyp, \u001b[32m@a\u001b[39m :: HNil)),\n",
      "          \u001b[32m@a\u001b[39m,\n",
      "          \u001b[33mIsland\u001b[39m(Terms, \u001b[33mConstRandVar\u001b[39m(Terms), \u001b[33mAddVar\u001b[39m(\u001b[32m@a\u001b[39m), Lambda, EnterIsle)\n",
      "        ),\n",
      "        \u001b[32m@a\u001b[39m,\n",
      "        \u001b[33mIsland\u001b[39m(Typs, \u001b[33mConstRandVar\u001b[39m(Typs), \u001b[33mAddVar\u001b[39m(\u001b[32m𝒰 \u001b[39m), Pi, EnterIsle)\n",
      "      )\n",
      "    ),\n",
      "    \u001b[33mLiteral\u001b[39m(\u001b[32m1.0\u001b[39m)\n",
      "  ),\n",
      "  \u001b[33mEquationNode\u001b[39m(\n",
      "    \u001b[33mInitialVal\u001b[39m(\n",
      "      \u001b[33mInIsle\u001b[39m(\n",
      "        \u001b[33mInIsle\u001b[39m(\n",
      "          \u001b[33mElem\u001b[39m(\u001b[32m@a\u001b[39m, \u001b[33mAtCoord\u001b[39m(TermsWithTyp, \u001b[32m@a\u001b[39m :: HNil)),\n",
      "          \u001b[32m@a\u001b[39m,\n",
      "          \u001b[33mIsland\u001b[39m(Terms, \u001b[33mConstRandVar\u001b[39m(Terms), \u001b[33mAddVar\u001b[39m(\u001b[32m@a\u001b[39m), Lambda, EnterIsle)\n",
      "        ),\n",
      "        \u001b[32m@a\u001b[39m,\n",
      "        \u001b[33mIsland\u001b[39m(Typs, \u001b[33mConstRandVar\u001b[39m(Typs), \u001b[33mAddVar\u001b[39m(\u001b[32m𝒰 \u001b[39m), Pi, EnterIsle)\n",
      "      )\n",
      "    ),\n",
      "    \u001b[33mProduct\u001b[39m(\n",
      "      \u001b[33mIsleScale\u001b[39m(\u001b[32m%boat\u001b[39m, \u001b[33mElem\u001b[39m(\u001b[32m%boat\u001b[39m, \u001b[33mAtCoord\u001b[39m(TermsWithTyp, \u001b[32mB\u001b[39m :: HNil))),\n",
      "      \u001b[33mLiteral\u001b[39m(\u001b[32m-1.0\u001b[39m)\n",
      "    )\n",
      "  ),\n",
      "  \u001b[33mEquationNode\u001b[39m(\n",
      "    \u001b[33mInitialVal\u001b[39m(\n",
      "      \u001b[33mInIsle\u001b[39m(\n",
      "        \u001b[33mInIsle\u001b[39m(\n",
      "          \u001b[33mElem\u001b[39m(\u001b[32m@a\u001b[39m, \u001b[33mAtCoord\u001b[39m(TermsWithTyp, \u001b[32m@a\u001b[39m :: HNil)),\n",
      "          \u001b[32m@a\u001b[39m,\n",
      "          \u001b[33mIsland\u001b[39m(Terms, \u001b[33mConstRandVar\u001b[39m(Terms), \u001b[33mAddVar\u001b[39m(\u001b[32m@a\u001b[39m), Lambda, EnterIsle)\n",
      "        ),\n",
      "        \u001b[32m@a\u001b[39m,\n",
      "        \u001b[33mIsland\u001b[39m(Typs, \u001b[33mConstRandVar\u001b[39m(Typs), \u001b[33mAddVar\u001b[39m(\u001b[32m𝒰 \u001b[39m), Pi, EnterIsle)\n",
      "      )\n",
      "    ),\n",
      "    \u001b[33mProduct\u001b[39m(\n",
      "      \u001b[33mIsleScale\u001b[39m(\u001b[32m%boat\u001b[39m, \u001b[33mElem\u001b[39m(\u001b[32m%boat\u001b[39m, \u001b[33mAtCoord\u001b[39m(TermsWithTyp, \u001b[32mA\u001b[39m :: HNil))),\n",
      "      \u001b[33mLiteral\u001b[39m(\u001b[32m-1.0\u001b[39m)\n",
      "    )\n",
      "  )\n",
      ")\n"
     ]
    }
   ],
   "source": [
    "show(normEqs.filter(_.lhs == exp))"
   ]
  },
  {
   "cell_type": "code",
   "execution_count": 33,
   "metadata": {},
   "outputs": [
    {
     "data": {
      "text/plain": [
       "\u001b[36mbaseGps\u001b[39m: \u001b[32mMap\u001b[39m[\u001b[32mEquationNode\u001b[39m, \u001b[32mSet\u001b[39m[\u001b[32mEquationNode\u001b[39m]] = \u001b[33mMap\u001b[39m(\n",
       "  \u001b[33mEquationNode\u001b[39m(\n",
       "    \u001b[33mInitialVal\u001b[39m(\n",
       "      \u001b[33mInIsle\u001b[39m(\n",
       "        \u001b[33mInIsle\u001b[39m(\n",
       "          \u001b[33mElem\u001b[39m(\u001b[32m@a\u001b[39m, \u001b[33mAtCoord\u001b[39m(TermsWithTyp, \u001b[32m@a\u001b[39m :: HNil)),\n",
       "          \u001b[32m@a\u001b[39m,\n",
       "          \u001b[33mIsland\u001b[39m(Terms, \u001b[33mConstRandVar\u001b[39m(Terms), \u001b[33mAddVar\u001b[39m(\u001b[32m@a\u001b[39m), Lambda, EnterIsle)\n",
       "        ),\n",
       "        \u001b[32m@a\u001b[39m,\n",
       "        \u001b[33mIsland\u001b[39m(Typs, \u001b[33mConstRandVar\u001b[39m(Typs), \u001b[33mAddVar\u001b[39m(\u001b[32m𝒰 \u001b[39m), Pi, EnterIsle)\n",
       "      )\n",
       "    ),\n",
       "    \u001b[33mLiteral\u001b[39m(\u001b[32m1.0\u001b[39m)\n",
       "  ) -> \u001b[33mSet\u001b[39m(\n",
       "    \u001b[33mEquationNode\u001b[39m(\n",
       "      \u001b[33mInitialVal\u001b[39m(\n",
       "        \u001b[33mInIsle\u001b[39m(\n",
       "          \u001b[33mInIsle\u001b[39m(\n",
       "            \u001b[33mElem\u001b[39m(\u001b[32ma\u001b[39m, \u001b[33mAtCoord\u001b[39m(TermsWithTyp, \u001b[32mA\u001b[39m :: HNil)),\n",
       "            \u001b[32ma\u001b[39m,\n",
       "            \u001b[33mIsland\u001b[39m(Terms, \u001b[33mConstRandVar\u001b[39m(Terms), \u001b[33mAddVar\u001b[39m(\u001b[32mA\u001b[39m), Lambda, EnterIsle)\n",
       "          ),\n",
       "          \u001b[32mA\u001b[39m,\n",
       "          \u001b[33mIsland\u001b[39m(Typs, \u001b[33mConstRandVar\u001b[39m(Typs), \u001b[33mAddVar\u001b[39m(\u001b[32m𝒰 \u001b[39m), Pi, EnterIsle)\n",
       "        )\n",
       "      ),\n",
       "      \u001b[33mLiteral\u001b[39m(\u001b[32m1.0\u001b[39m)\n",
       "    ),\n",
       "    \u001b[33mEquationNode\u001b[39m(\n",
       "      \u001b[33mInitialVal\u001b[39m(\n",
       "        \u001b[33mInIsle\u001b[39m(\n",
       "          \u001b[33mInIsle\u001b[39m(\n",
       "            \u001b[33mElem\u001b[39m(\u001b[32m@a\u001b[39m, \u001b[33mAtCoord\u001b[39m(TermsWithTyp, \u001b[32mB\u001b[39m :: HNil)),\n",
       "            \u001b[32m@a\u001b[39m,\n",
       "            \u001b[33mIsland\u001b[39m(Terms, \u001b[33mConstRandVar\u001b[39m(Terms), \u001b[33mAddVar\u001b[39m(\u001b[32mB\u001b[39m), Lambda, EnterIsle)\n",
       "          ),\n",
       "          \u001b[32mB\u001b[39m,\n",
       "          \u001b[33mIsland\u001b[39m(Typs, \u001b[33mConstRandVar\u001b[39m(Typs), \u001b[33mAddVar\u001b[39m(\u001b[32m𝒰 \u001b[39m), Pi, EnterIsle)\n",
       "..."
      ]
     },
     "execution_count": 33,
     "metadata": {},
     "output_type": "execute_result"
    }
   ],
   "source": [
    "val baseGps = baseEqs.groupBy(eq => TermData.isleNormalize(eq))"
   ]
  },
  {
   "cell_type": "code",
   "execution_count": 34,
   "metadata": {},
   "outputs": [
    {
     "name": "stdout",
     "output_type": "stream",
     "text": [
      "(\n",
      "  \u001b[33mEquationNode\u001b[39m(\n",
      "    \u001b[33mInitialVal\u001b[39m(\n",
      "      \u001b[33mInIsle\u001b[39m(\n",
      "        \u001b[33mInIsle\u001b[39m(\n",
      "          \u001b[33mElem\u001b[39m(\u001b[32m@a\u001b[39m, \u001b[33mAtCoord\u001b[39m(TermsWithTyp, \u001b[32m@a\u001b[39m :: HNil)),\n",
      "          \u001b[32m@a\u001b[39m,\n",
      "          \u001b[33mIsland\u001b[39m(Terms, \u001b[33mConstRandVar\u001b[39m(Terms), \u001b[33mAddVar\u001b[39m(\u001b[32m@a\u001b[39m), Lambda, EnterIsle)\n",
      "        ),\n",
      "        \u001b[32m@a\u001b[39m,\n",
      "        \u001b[33mIsland\u001b[39m(Typs, \u001b[33mConstRandVar\u001b[39m(Typs), \u001b[33mAddVar\u001b[39m(\u001b[32m𝒰 \u001b[39m), Pi, EnterIsle)\n",
      "      )\n",
      "    ),\n",
      "    \u001b[33mLiteral\u001b[39m(\u001b[32m1.0\u001b[39m)\n",
      "  ),\n",
      "  \u001b[33mSet\u001b[39m(\n",
      "    \u001b[33mEquationNode\u001b[39m(\n",
      "      \u001b[33mInitialVal\u001b[39m(\n",
      "        \u001b[33mInIsle\u001b[39m(\n",
      "          \u001b[33mInIsle\u001b[39m(\n",
      "            \u001b[33mElem\u001b[39m(\u001b[32ma\u001b[39m, \u001b[33mAtCoord\u001b[39m(TermsWithTyp, \u001b[32mA\u001b[39m :: HNil)),\n",
      "            \u001b[32ma\u001b[39m,\n",
      "            \u001b[33mIsland\u001b[39m(Terms, \u001b[33mConstRandVar\u001b[39m(Terms), \u001b[33mAddVar\u001b[39m(\u001b[32mA\u001b[39m), Lambda, EnterIsle)\n",
      "          ),\n",
      "          \u001b[32mA\u001b[39m,\n",
      "          \u001b[33mIsland\u001b[39m(Typs, \u001b[33mConstRandVar\u001b[39m(Typs), \u001b[33mAddVar\u001b[39m(\u001b[32m𝒰 \u001b[39m), Pi, EnterIsle)\n",
      "        )\n",
      "      ),\n",
      "      \u001b[33mLiteral\u001b[39m(\u001b[32m1.0\u001b[39m)\n",
      "    ),\n",
      "    \u001b[33mEquationNode\u001b[39m(\n",
      "      \u001b[33mInitialVal\u001b[39m(\n",
      "        \u001b[33mInIsle\u001b[39m(\n",
      "          \u001b[33mInIsle\u001b[39m(\n",
      "            \u001b[33mElem\u001b[39m(\u001b[32m@a\u001b[39m, \u001b[33mAtCoord\u001b[39m(TermsWithTyp, \u001b[32mB\u001b[39m :: HNil)),\n",
      "            \u001b[32m@a\u001b[39m,\n",
      "            \u001b[33mIsland\u001b[39m(Terms, \u001b[33mConstRandVar\u001b[39m(Terms), \u001b[33mAddVar\u001b[39m(\u001b[32mB\u001b[39m), Lambda, EnterIsle)\n",
      "          ),\n",
      "          \u001b[32mB\u001b[39m,\n",
      "          \u001b[33mIsland\u001b[39m(Typs, \u001b[33mConstRandVar\u001b[39m(Typs), \u001b[33mAddVar\u001b[39m(\u001b[32m𝒰 \u001b[39m), Pi, EnterIsle)\n",
      "        )\n",
      "      ),\n",
      "      \u001b[33mLiteral\u001b[39m(\u001b[32m1.0\u001b[39m)\n",
      "    ),\n",
      "    \u001b[33mEquationNode\u001b[39m(\n",
      "      \u001b[33mInitialVal\u001b[39m(\n",
      "        \u001b[33mInIsle\u001b[39m(\n",
      "          \u001b[33mInIsle\u001b[39m(\n",
      "            \u001b[33mElem\u001b[39m(\u001b[32m@a\u001b[39m, \u001b[33mAtCoord\u001b[39m(TermsWithTyp, \u001b[32mA\u001b[39m :: HNil)),\n",
      "            \u001b[32m@a\u001b[39m,\n",
      "            \u001b[33mIsland\u001b[39m(Terms, \u001b[33mConstRandVar\u001b[39m(Terms), \u001b[33mAddVar\u001b[39m(\u001b[32mA\u001b[39m), Lambda, EnterIsle)\n",
      "          ),\n",
      "          \u001b[32mA\u001b[39m,\n",
      "          \u001b[33mIsland\u001b[39m(Typs, \u001b[33mConstRandVar\u001b[39m(Typs), \u001b[33mAddVar\u001b[39m(\u001b[32m𝒰 \u001b[39m), Pi, EnterIsle)\n",
      "        )\n",
      "      ),\n",
      "      \u001b[33mLiteral\u001b[39m(\u001b[32m1.0\u001b[39m)\n",
      "    )\n",
      "  )\n",
      ")\n"
     ]
    }
   ],
   "source": [
    "show(baseGps.head)"
   ]
  },
  {
   "cell_type": "code",
   "execution_count": 35,
   "metadata": {},
   "outputs": [
    {
     "data": {
      "text/plain": [
       "\u001b[36mres34\u001b[39m: \u001b[32mInt\u001b[39m = \u001b[32m3\u001b[39m"
      ]
     },
     "execution_count": 35,
     "metadata": {},
     "output_type": "execute_result"
    }
   ],
   "source": [
    "baseGps.head._2.size"
   ]
  },
  {
   "cell_type": "code",
   "execution_count": 36,
   "metadata": {},
   "outputs": [
    {
     "data": {
      "text/plain": [
       "\u001b[36mres35\u001b[39m: \u001b[32mInt\u001b[39m = \u001b[32m3\u001b[39m"
      ]
     },
     "execution_count": 36,
     "metadata": {},
     "output_type": "execute_result"
    }
   ],
   "source": [
    "baseGps.size"
   ]
  },
  {
   "cell_type": "code",
   "execution_count": 37,
   "metadata": {},
   "outputs": [
    {
     "data": {
      "text/plain": [
       "\u001b[36mres36\u001b[39m: \u001b[32mIterable\u001b[39m[\u001b[32mInt\u001b[39m] = \u001b[33mList\u001b[39m(\u001b[32m3\u001b[39m, \u001b[32m2\u001b[39m, \u001b[32m1\u001b[39m)"
      ]
     },
     "execution_count": 37,
     "metadata": {},
     "output_type": "execute_result"
    }
   ],
   "source": [
    "baseGps.values.map(_.size)"
   ]
  },
  {
   "cell_type": "code",
   "execution_count": 38,
   "metadata": {},
   "outputs": [
    {
     "name": "stdout",
     "output_type": "stream",
     "text": [
      "(\n",
      "  \u001b[33mEquationNode\u001b[39m(\n",
      "    \u001b[33mInitialVal\u001b[39m(\n",
      "      \u001b[33mInIsle\u001b[39m(\n",
      "        \u001b[33mInIsle\u001b[39m(\n",
      "          \u001b[33mElem\u001b[39m(\u001b[32m@a\u001b[39m, \u001b[33mAtCoord\u001b[39m(TermsWithTyp, \u001b[32m@a\u001b[39m :: HNil)),\n",
      "          \u001b[32m@a\u001b[39m,\n",
      "          \u001b[33mIsland\u001b[39m(Terms, \u001b[33mConstRandVar\u001b[39m(Terms), \u001b[33mAddVar\u001b[39m(\u001b[32m@a\u001b[39m), Lambda, EnterIsle)\n",
      "        ),\n",
      "        \u001b[32m@a\u001b[39m,\n",
      "        \u001b[33mIsland\u001b[39m(Typs, \u001b[33mConstRandVar\u001b[39m(Typs), \u001b[33mAddVar\u001b[39m(\u001b[32m𝒰 \u001b[39m), Pi, EnterIsle)\n",
      "      )\n",
      "    ),\n",
      "    \u001b[33mProduct\u001b[39m(\n",
      "      \u001b[33mIsleScale\u001b[39m(\u001b[32m%boat\u001b[39m, \u001b[33mElem\u001b[39m(\u001b[32m%boat\u001b[39m, \u001b[33mAtCoord\u001b[39m(TermsWithTyp, \u001b[32mA\u001b[39m :: HNil))),\n",
      "      \u001b[33mLiteral\u001b[39m(\u001b[32m-1.0\u001b[39m)\n",
      "    )\n",
      "  ),\n",
      "  \u001b[33mSet\u001b[39m(\n",
      "    \u001b[33mEquationNode\u001b[39m(\n",
      "      \u001b[33mInitialVal\u001b[39m(\n",
      "        \u001b[33mInIsle\u001b[39m(\n",
      "          \u001b[33mInIsle\u001b[39m(\n",
      "            \u001b[33mElem\u001b[39m(\u001b[32ma\u001b[39m, \u001b[33mAtCoord\u001b[39m(TermsWithTyp, \u001b[32mA\u001b[39m :: HNil)),\n",
      "            \u001b[32ma\u001b[39m,\n",
      "            \u001b[33mIsland\u001b[39m(Terms, \u001b[33mConstRandVar\u001b[39m(Terms), \u001b[33mAddVar\u001b[39m(\u001b[32mA\u001b[39m), Lambda, EnterIsle)\n",
      "          ),\n",
      "          \u001b[32mA\u001b[39m,\n",
      "          \u001b[33mIsland\u001b[39m(Typs, \u001b[33mConstRandVar\u001b[39m(Typs), \u001b[33mAddVar\u001b[39m(\u001b[32m𝒰 \u001b[39m), Pi, EnterIsle)\n",
      "        )\n",
      "      ),\n",
      "      \u001b[33mProduct\u001b[39m(\n",
      "        \u001b[33mIsleScale\u001b[39m(\u001b[32ma\u001b[39m, \u001b[33mElem\u001b[39m(\u001b[32ma\u001b[39m, \u001b[33mAtCoord\u001b[39m(TermsWithTyp, \u001b[32mA\u001b[39m :: HNil))),\n",
      "        \u001b[33mLiteral\u001b[39m(\u001b[32m-1.0\u001b[39m)\n",
      "      )\n",
      "    ),\n",
      "    \u001b[33mEquationNode\u001b[39m(\n",
      "      \u001b[33mInitialVal\u001b[39m(\n",
      "        \u001b[33mInIsle\u001b[39m(\n",
      "          \u001b[33mInIsle\u001b[39m(\n",
      "            \u001b[33mElem\u001b[39m(\u001b[32m@a\u001b[39m, \u001b[33mAtCoord\u001b[39m(TermsWithTyp, \u001b[32mA\u001b[39m :: HNil)),\n",
      "            \u001b[32m@a\u001b[39m,\n",
      "            \u001b[33mIsland\u001b[39m(Terms, \u001b[33mConstRandVar\u001b[39m(Terms), \u001b[33mAddVar\u001b[39m(\u001b[32mA\u001b[39m), Lambda, EnterIsle)\n",
      "          ),\n",
      "          \u001b[32mA\u001b[39m,\n",
      "          \u001b[33mIsland\u001b[39m(Typs, \u001b[33mConstRandVar\u001b[39m(Typs), \u001b[33mAddVar\u001b[39m(\u001b[32m𝒰 \u001b[39m), Pi, EnterIsle)\n",
      "        )\n",
      "      ),\n",
      "      \u001b[33mProduct\u001b[39m(\n",
      "        \u001b[33mIsleScale\u001b[39m(\u001b[32m@a\u001b[39m, \u001b[33mElem\u001b[39m(\u001b[32m@a\u001b[39m, \u001b[33mAtCoord\u001b[39m(TermsWithTyp, \u001b[32mA\u001b[39m :: HNil))),\n",
      "        \u001b[33mLiteral\u001b[39m(\u001b[32m-1.0\u001b[39m)\n",
      "      )\n",
      "    )\n",
      "  )\n",
      ")\n"
     ]
    }
   ],
   "source": [
    "show(baseGps.tail.head)"
   ]
  },
  {
   "cell_type": "code",
   "execution_count": 39,
   "metadata": {},
   "outputs": [
    {
     "name": "stdout",
     "output_type": "stream",
     "text": [
      "(\n",
      "  \u001b[33mEquationNode\u001b[39m(\n",
      "    \u001b[33mInitialVal\u001b[39m(\n",
      "      \u001b[33mInIsle\u001b[39m(\n",
      "        \u001b[33mInIsle\u001b[39m(\n",
      "          \u001b[33mElem\u001b[39m(\u001b[32m@a\u001b[39m, \u001b[33mAtCoord\u001b[39m(TermsWithTyp, \u001b[32m@a\u001b[39m :: HNil)),\n",
      "          \u001b[32m@a\u001b[39m,\n",
      "          \u001b[33mIsland\u001b[39m(Terms, \u001b[33mConstRandVar\u001b[39m(Terms), \u001b[33mAddVar\u001b[39m(\u001b[32m@a\u001b[39m), Lambda, EnterIsle)\n",
      "        ),\n",
      "        \u001b[32m@a\u001b[39m,\n",
      "        \u001b[33mIsland\u001b[39m(Typs, \u001b[33mConstRandVar\u001b[39m(Typs), \u001b[33mAddVar\u001b[39m(\u001b[32m𝒰 \u001b[39m), Pi, EnterIsle)\n",
      "      )\n",
      "    ),\n",
      "    \u001b[33mProduct\u001b[39m(\n",
      "      \u001b[33mIsleScale\u001b[39m(\u001b[32m%boat\u001b[39m, \u001b[33mElem\u001b[39m(\u001b[32m%boat\u001b[39m, \u001b[33mAtCoord\u001b[39m(TermsWithTyp, \u001b[32mB\u001b[39m :: HNil))),\n",
      "      \u001b[33mLiteral\u001b[39m(\u001b[32m-1.0\u001b[39m)\n",
      "    )\n",
      "  ),\n",
      "  \u001b[33mSet\u001b[39m(\n",
      "    \u001b[33mEquationNode\u001b[39m(\n",
      "      \u001b[33mInitialVal\u001b[39m(\n",
      "        \u001b[33mInIsle\u001b[39m(\n",
      "          \u001b[33mInIsle\u001b[39m(\n",
      "            \u001b[33mElem\u001b[39m(\u001b[32m@a\u001b[39m, \u001b[33mAtCoord\u001b[39m(TermsWithTyp, \u001b[32mB\u001b[39m :: HNil)),\n",
      "            \u001b[32m@a\u001b[39m,\n",
      "            \u001b[33mIsland\u001b[39m(Terms, \u001b[33mConstRandVar\u001b[39m(Terms), \u001b[33mAddVar\u001b[39m(\u001b[32mB\u001b[39m), Lambda, EnterIsle)\n",
      "          ),\n",
      "          \u001b[32mB\u001b[39m,\n",
      "          \u001b[33mIsland\u001b[39m(Typs, \u001b[33mConstRandVar\u001b[39m(Typs), \u001b[33mAddVar\u001b[39m(\u001b[32m𝒰 \u001b[39m), Pi, EnterIsle)\n",
      "        )\n",
      "      ),\n",
      "      \u001b[33mProduct\u001b[39m(\n",
      "        \u001b[33mIsleScale\u001b[39m(\u001b[32m@a\u001b[39m, \u001b[33mElem\u001b[39m(\u001b[32m@a\u001b[39m, \u001b[33mAtCoord\u001b[39m(TermsWithTyp, \u001b[32mB\u001b[39m :: HNil))),\n",
      "        \u001b[33mLiteral\u001b[39m(\u001b[32m-1.0\u001b[39m)\n",
      "      )\n",
      "    )\n",
      "  )\n",
      ")\n"
     ]
    }
   ],
   "source": [
    "show(baseGps.tail.tail.head)"
   ]
  },
  {
   "cell_type": "code",
   "execution_count": 40,
   "metadata": {},
   "outputs": [
    {
     "data": {
      "text/plain": [
       "\u001b[32mimport \u001b[39m\u001b[36mTermRandomVars._, TermGeneratorNodes._\n",
       "\u001b[39m\n",
       "\u001b[36mrvA\u001b[39m: \u001b[32mRandomVar\u001b[39m[\u001b[32mTerm\u001b[39m] = \u001b[33mAtCoord\u001b[39m(TermsWithTyp, \u001b[32mA\u001b[39m :: HNil)"
      ]
     },
     "execution_count": 40,
     "metadata": {},
     "output_type": "execute_result"
    }
   ],
   "source": [
    "import TermRandomVars._, TermGeneratorNodes._\n",
    "val rvA = termsWithTyp(A)"
   ]
  },
  {
   "cell_type": "code",
   "execution_count": 41,
   "metadata": {},
   "outputs": [
    {
     "data": {
      "text/plain": [
       "\u001b[36mres40\u001b[39m: \u001b[32mRandomVar\u001b[39m[\u001b[32mTerm\u001b[39m] = \u001b[33mAtCoord\u001b[39m(TermsWithTyp, \u001b[32mB\u001b[39m :: HNil)"
      ]
     },
     "execution_count": 41,
     "metadata": {},
     "output_type": "execute_result"
    }
   ],
   "source": [
    "randomVarSubs(A, B)(rvA)"
   ]
  },
  {
   "cell_type": "code",
   "execution_count": 43,
   "metadata": {},
   "outputs": [
    {
     "data": {
      "text/plain": [
       "\u001b[36meqn\u001b[39m: \u001b[32mEquationNode\u001b[39m = \u001b[33mEquationNode\u001b[39m(\n",
       "  \u001b[33mInitialVal\u001b[39m(\n",
       "    \u001b[33mInIsle\u001b[39m(\n",
       "      \u001b[33mInIsle\u001b[39m(\n",
       "        \u001b[33mElem\u001b[39m(\u001b[32m@a\u001b[39m, \u001b[33mAtCoord\u001b[39m(TermsWithTyp, \u001b[32mB\u001b[39m :: HNil)),\n",
       "        \u001b[32m@a\u001b[39m,\n",
       "        \u001b[33mIsland\u001b[39m(Terms, \u001b[33mConstRandVar\u001b[39m(Terms), \u001b[33mAddVar\u001b[39m(\u001b[32mB\u001b[39m), Lambda, EnterIsle)\n",
       "      ),\n",
       "      \u001b[32mB\u001b[39m,\n",
       "      \u001b[33mIsland\u001b[39m(Typs, \u001b[33mConstRandVar\u001b[39m(Typs), \u001b[33mAddVar\u001b[39m(\u001b[32m𝒰 \u001b[39m), Pi, EnterIsle)\n",
       "    )\n",
       "  ),\n",
       "  \u001b[33mProduct\u001b[39m(\n",
       "    \u001b[33mIsleScale\u001b[39m(\u001b[32m@a\u001b[39m, \u001b[33mElem\u001b[39m(\u001b[32m@a\u001b[39m, \u001b[33mAtCoord\u001b[39m(TermsWithTyp, \u001b[32mB\u001b[39m :: HNil))),\n",
       "    \u001b[33mLiteral\u001b[39m(\u001b[32m-1.0\u001b[39m)\n",
       "  )\n",
       ")"
      ]
     },
     "execution_count": 43,
     "metadata": {},
     "output_type": "execute_result"
    }
   ],
   "source": [
    "val eqn = baseGps.toVector(2)._2.head"
   ]
  },
  {
   "cell_type": "code",
   "execution_count": 44,
   "metadata": {},
   "outputs": [
    {
     "data": {
      "text/plain": [
       "\u001b[36mres43\u001b[39m: \u001b[32mEquationNode\u001b[39m = \u001b[33mEquationNode\u001b[39m(\n",
       "  \u001b[33mInitialVal\u001b[39m(\n",
       "    \u001b[33mInIsle\u001b[39m(\n",
       "      \u001b[33mInIsle\u001b[39m(\n",
       "        \u001b[33mElem\u001b[39m(\u001b[32m@a\u001b[39m, \u001b[33mAtCoord\u001b[39m(TermsWithTyp, \u001b[32m@a\u001b[39m :: HNil)),\n",
       "        \u001b[32m@a\u001b[39m,\n",
       "        \u001b[33mIsland\u001b[39m(Terms, \u001b[33mConstRandVar\u001b[39m(Terms), \u001b[33mAddVar\u001b[39m(\u001b[32m@a\u001b[39m), Lambda, EnterIsle)\n",
       "      ),\n",
       "      \u001b[32m@a\u001b[39m,\n",
       "      \u001b[33mIsland\u001b[39m(Typs, \u001b[33mConstRandVar\u001b[39m(Typs), \u001b[33mAddVar\u001b[39m(\u001b[32m𝒰 \u001b[39m), Pi, EnterIsle)\n",
       "    )\n",
       "  ),\n",
       "  \u001b[33mProduct\u001b[39m(\n",
       "    \u001b[33mIsleScale\u001b[39m(\u001b[32m%boat\u001b[39m, \u001b[33mElem\u001b[39m(\u001b[32m%boat\u001b[39m, \u001b[33mAtCoord\u001b[39m(TermsWithTyp, \u001b[32mB\u001b[39m :: HNil))),\n",
       "    \u001b[33mLiteral\u001b[39m(\u001b[32m-1.0\u001b[39m)\n",
       "  )\n",
       ")"
      ]
     },
     "execution_count": 44,
     "metadata": {},
     "output_type": "execute_result"
    }
   ],
   "source": [
    "TermData.isleNormalize(eqn)"
   ]
  },
  {
   "cell_type": "markdown",
   "metadata": {},
   "source": [
    "## New bug identification\n",
    "\n",
    "* The step when `@a` got replaced with `%boat`, both of type `B`, is fine. \n",
    "* However, when `B` got replaced by `@a`, we should have had a change in the random variable.\n",
    "* The fundamental problem is that the lhs and rhs are treated independently, but should not be."
   ]
  }
 ],
 "metadata": {
  "kernelspec": {
   "display_name": "Scala",
   "language": "scala",
   "name": "scala"
  },
  "language_info": {
   "codemirror_mode": "text/x-scala",
   "file_extension": ".scala",
   "mimetype": "text/x-scala",
   "name": "scala",
   "nbconvert_exporter": "script",
   "version": "2.12.8"
  }
 },
 "nbformat": 4,
 "nbformat_minor": 4
}
