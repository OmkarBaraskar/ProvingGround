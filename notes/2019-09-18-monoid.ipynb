{
 "cells": [
  {
   "cell_type": "markdown",
   "metadata": {},
   "source": [
    "We attempt to replicate the Monoid proof but with our new workflow and with the local provers."
   ]
  },
  {
   "cell_type": "code",
   "execution_count": 1,
   "metadata": {},
   "outputs": [
    {
     "data": {
      "text/plain": [
       "\u001b[32mimport \u001b[39m\u001b[36m$ivy.$                                                                   \u001b[39m"
      ]
     },
     "execution_count": 1,
     "metadata": {},
     "output_type": "execute_result"
    }
   ],
   "source": [
    "import $ivy.`io.github.siddhartha-gadgil::provingground-core-jvm:0.1.1-SNAPSHOT`"
   ]
  },
  {
   "cell_type": "code",
   "execution_count": 2,
   "metadata": {},
   "outputs": [
    {
     "data": {
      "text/plain": [
       "\u001b[32mimport \u001b[39m\u001b[36mprovingground._ , interface._, HoTT._, learning._ \n",
       "\u001b[39m"
      ]
     },
     "execution_count": 2,
     "metadata": {},
     "output_type": "execute_result"
    }
   ],
   "source": [
    "import provingground._ , interface._, HoTT._, learning._ \n",
    "repl.pprinter() = {\n",
    "  val p = repl.pprinter()\n",
    "  p.copy(\n",
    "    additionalHandlers = p.additionalHandlers.orElse {\n",
    "      translation.FansiShow.fansiHandler\n",
    "    }\n",
    "  )\n",
    "}"
   ]
  },
  {
   "cell_type": "code",
   "execution_count": 3,
   "metadata": {},
   "outputs": [
    {
     "data": {
      "text/plain": [
       "\u001b[32mimport \u001b[39m\u001b[36mprovingground._ , interface._, HoTT._\n",
       "\u001b[39m\n",
       "\u001b[32mimport \u001b[39m\u001b[36mlearning._\n",
       "\u001b[39m\n",
       "\u001b[32mimport \u001b[39m\u001b[36mlibrary._, MonoidSimple._\u001b[39m"
      ]
     },
     "execution_count": 3,
     "metadata": {},
     "output_type": "execute_result"
    }
   ],
   "source": [
    "import provingground._ , interface._, HoTT._\n",
    "import learning._\n",
    "import library._, MonoidSimple._"
   ]
  },
  {
   "cell_type": "code",
   "execution_count": 4,
   "metadata": {},
   "outputs": [
    {
     "data": {
      "text/plain": [
       "\u001b[36mtg\u001b[39m: \u001b[32mTermGenParams\u001b[39m = \u001b[33mTermGenParams\u001b[39m(\n",
       "  \u001b[32m0.1\u001b[39m,\n",
       "  \u001b[32m0.1\u001b[39m,\n",
       "  \u001b[32m0.1\u001b[39m,\n",
       "  \u001b[32m0.0\u001b[39m,\n",
       "  \u001b[32m0.0\u001b[39m,\n",
       "  \u001b[32m0.05\u001b[39m,\n",
       "  \u001b[32m0.05\u001b[39m,\n",
       "  \u001b[32m0.05\u001b[39m,\n",
       "  \u001b[32m0.0\u001b[39m,\n",
       "  \u001b[32m0.0\u001b[39m,\n",
       "  \u001b[32m0.0\u001b[39m,\n",
       "  \u001b[32m0.0\u001b[39m,\n",
       "  \u001b[32m0.3\u001b[39m,\n",
       "  \u001b[32m0.7\u001b[39m,\n",
       "  \u001b[32m0.5\u001b[39m,\n",
       "  \u001b[32m0.0\u001b[39m,\n",
       "  \u001b[32m0.0\u001b[39m,\n",
       "  \u001b[32m0.0\u001b[39m\n",
       ")\n",
       "\u001b[36mts\u001b[39m: \u001b[32mTermState\u001b[39m = \u001b[33mTermState\u001b[39m(\n",
       "  \u001b[33mFiniteDistribution\u001b[39m(\n",
       "    \u001b[33mVector\u001b[39m(\n",
       "      \u001b[33mWeighted\u001b[39m(\u001b[32me_l\u001b[39m, \u001b[32m0.047619047619047616\u001b[39m),\n",
       "      \u001b[33mWeighted\u001b[39m(\u001b[32me_r\u001b[39m, \u001b[32m0.047619047619047616\u001b[39m),\n",
       "      \u001b[33mWeighted\u001b[39m(\u001b[32mmul\u001b[39m, \u001b[32m0.047619047619047616\u001b[39m),\n",
       "      \u001b[33mWeighted\u001b[39m(\u001b[32meqM\u001b[39m, \u001b[32m0.047619047619047616\u001b[39m),\n",
       "      \u001b[33mWeighted\u001b[39m(\u001b[32maxiom_{eqM(a)(a)}\u001b[39m, \u001b[32m0.047619047619047616\u001b[39m),\n",
       "      \u001b[33mWeighted\u001b[39m(\u001b[32maxiom_{(eqM(a)(b) \\to eqM(b)(a))}\u001b[39m, \u001b[32m0.047619047619047616\u001b[39m),\n",
       "      \u001b[33mWeighted\u001b[39m(\n",
       "        \u001b[32maxiom_{(eqM(a)(b) \\to (eqM(b)(c) \\to eqM(a)(c)))}\u001b[39m,\n",
       "        \u001b[32m0.047619047619047616\u001b[39m\n",
       "      ),\n",
       "      \u001b[33mWeighted\u001b[39m(\u001b[32maxiom_{eqM(mul(e_l)(a))(a)}\u001b[39m, \u001b[32m0.047619047619047616\u001b[39m),\n",
       "      \u001b[33mWeighted\u001b[39m(\u001b[32maxiom_{eqM(mul(a)(e_r))(a)}\u001b[39m, \u001b[32m0.047619047619047616\u001b[39m),\n",
       "      \u001b[33mWeighted\u001b[39m(\u001b[32meqM\u001b[39m, \u001b[32m0.2857142857142857\u001b[39m),\n",
       "      \u001b[33mWeighted\u001b[39m(\u001b[32mmul\u001b[39m, \u001b[32m0.2857142857142857\u001b[39m)\n",
       "    )\n",
       "  ),\n",
       "  \u001b[33mFiniteDistribution\u001b[39m(\n",
       "    \u001b[33mVector\u001b[39m(\n",
       "      \u001b[33mWeighted\u001b[39m(\u001b[32mM\u001b[39m, \u001b[32m0.047619047619047616\u001b[39m),\n",
       "      \u001b[33mWeighted\u001b[39m(\u001b[32mM\u001b[39m, \u001b[32m0.047619047619047616\u001b[39m),\n",
       "      \u001b[33mWeighted\u001b[39m(\u001b[32m(M → (M → M))\u001b[39m, \u001b[32m0.047619047619047616\u001b[39m),\n",
       "      \u001b[33mWeighted\u001b[39m(\u001b[32m(M → (M → 𝒰 ))\u001b[39m, \u001b[32m0.047619047619047616\u001b[39m),\n",
       "      \u001b[33mWeighted\u001b[39m(\u001b[32m∏(a : M){ eqM(a)(a) }\u001b[39m, \u001b[32m0.047619047619047616\u001b[39m),\n",
       "      \u001b[33mWeighted\u001b[39m(\n",
       "        \u001b[32m∏(a : M){ ∏(b : M){ (eqM(a)(b) → eqM(b)(a)) } }\u001b[39m,\n",
       "        \u001b[32m0.047619047619047616\u001b[39m\n",
       "      ),\n",
       "      \u001b[33mWeighted\u001b[39m(\n",
       "        \u001b[32m∏(a : M){ ∏(b : M){ ∏(c : M){ (eqM(a)(b) → (eqM(b)(c) → eqM(a)(c))) } } }\u001b[39m,\n",
       "        \u001b[32m0.047619047619047616\u001b[39m\n",
       "      ),\n",
       "      \u001b[33mWeighted\u001b[39m(\u001b[32m∏(a : M){ eqM(mul(e_l)(a))(a) }\u001b[39m, \u001b[32m0.047619047619047616\u001b[39m),\n",
       "      \u001b[33mWeighted\u001b[39m(\u001b[32m∏(a : M){ eqM(mul(a)(e_r))(a) }\u001b[39m, \u001b[32m0.047619047619047616\u001b[39m),\n",
       "      \u001b[33mWeighted\u001b[39m(\u001b[32m(M → (M → 𝒰 ))\u001b[39m, \u001b[32m0.2857142857142857\u001b[39m),\n",
       "      \u001b[33mWeighted\u001b[39m(\u001b[32m(M → (M → M))\u001b[39m, \u001b[32m0.2857142857142857\u001b[39m)\n",
       "..."
      ]
     },
     "execution_count": 4,
     "metadata": {},
     "output_type": "execute_result"
    }
   ],
   "source": [
    "val tg = TermGenParams(lmW=0, piW=0)\n",
    "val ts = TermState(dist1, dist1.map(_.typ))"
   ]
  },
  {
   "cell_type": "code",
   "execution_count": 5,
   "metadata": {},
   "outputs": [
    {
     "data": {
      "text/plain": [
       "\u001b[32mimport \u001b[39m\u001b[36mmonix.execution.Scheduler.Implicits.global \u001b[39m"
      ]
     },
     "execution_count": 5,
     "metadata": {},
     "output_type": "execute_result"
    }
   ],
   "source": [
    "import monix.execution.Scheduler.Implicits.global "
   ]
  },
  {
   "cell_type": "code",
   "execution_count": 6,
   "metadata": {},
   "outputs": [
    {
     "data": {
      "text/plain": [
       "\u001b[36mlp\u001b[39m: \u001b[32mLocalProver\u001b[39m = \u001b[33mLocalProver\u001b[39m(\n",
       "  \u001b[33mTermState\u001b[39m(\n",
       "    \u001b[33mFiniteDistribution\u001b[39m(\n",
       "      \u001b[33mVector\u001b[39m(\n",
       "        \u001b[33mWeighted\u001b[39m(\u001b[32me_l\u001b[39m, \u001b[32m0.047619047619047616\u001b[39m),\n",
       "        \u001b[33mWeighted\u001b[39m(\u001b[32me_r\u001b[39m, \u001b[32m0.047619047619047616\u001b[39m),\n",
       "        \u001b[33mWeighted\u001b[39m(\u001b[32mmul\u001b[39m, \u001b[32m0.047619047619047616\u001b[39m),\n",
       "        \u001b[33mWeighted\u001b[39m(\u001b[32meqM\u001b[39m, \u001b[32m0.047619047619047616\u001b[39m),\n",
       "        \u001b[33mWeighted\u001b[39m(\u001b[32maxiom_{eqM(a)(a)}\u001b[39m, \u001b[32m0.047619047619047616\u001b[39m),\n",
       "        \u001b[33mWeighted\u001b[39m(\u001b[32maxiom_{(eqM(a)(b) \\to eqM(b)(a))}\u001b[39m, \u001b[32m0.047619047619047616\u001b[39m),\n",
       "        \u001b[33mWeighted\u001b[39m(\n",
       "          \u001b[32maxiom_{(eqM(a)(b) \\to (eqM(b)(c) \\to eqM(a)(c)))}\u001b[39m,\n",
       "          \u001b[32m0.047619047619047616\u001b[39m\n",
       "        ),\n",
       "        \u001b[33mWeighted\u001b[39m(\u001b[32maxiom_{eqM(mul(e_l)(a))(a)}\u001b[39m, \u001b[32m0.047619047619047616\u001b[39m),\n",
       "        \u001b[33mWeighted\u001b[39m(\u001b[32maxiom_{eqM(mul(a)(e_r))(a)}\u001b[39m, \u001b[32m0.047619047619047616\u001b[39m),\n",
       "        \u001b[33mWeighted\u001b[39m(\u001b[32meqM\u001b[39m, \u001b[32m0.2857142857142857\u001b[39m),\n",
       "        \u001b[33mWeighted\u001b[39m(\u001b[32mmul\u001b[39m, \u001b[32m0.2857142857142857\u001b[39m)\n",
       "      )\n",
       "    ),\n",
       "    \u001b[33mFiniteDistribution\u001b[39m(\n",
       "      \u001b[33mVector\u001b[39m(\n",
       "        \u001b[33mWeighted\u001b[39m(\u001b[32mM\u001b[39m, \u001b[32m0.047619047619047616\u001b[39m),\n",
       "        \u001b[33mWeighted\u001b[39m(\u001b[32mM\u001b[39m, \u001b[32m0.047619047619047616\u001b[39m),\n",
       "        \u001b[33mWeighted\u001b[39m(\u001b[32m(M → (M → M))\u001b[39m, \u001b[32m0.047619047619047616\u001b[39m),\n",
       "        \u001b[33mWeighted\u001b[39m(\u001b[32m(M → (M → 𝒰 ))\u001b[39m, \u001b[32m0.047619047619047616\u001b[39m),\n",
       "        \u001b[33mWeighted\u001b[39m(\u001b[32m∏(a : M){ eqM(a)(a) }\u001b[39m, \u001b[32m0.047619047619047616\u001b[39m),\n",
       "        \u001b[33mWeighted\u001b[39m(\n",
       "          \u001b[32m∏(a : M){ ∏(b : M){ (eqM(a)(b) → eqM(b)(a)) } }\u001b[39m,\n",
       "          \u001b[32m0.047619047619047616\u001b[39m\n",
       "        ),\n",
       "        \u001b[33mWeighted\u001b[39m(\n",
       "          \u001b[32m∏(a : M){ ∏(b : M){ ∏(c : M){ (eqM(a)(b) → (eqM(b)(c) → eqM(a)(c))) } } }\u001b[39m,\n",
       "          \u001b[32m0.047619047619047616\u001b[39m\n",
       "        ),\n",
       "        \u001b[33mWeighted\u001b[39m(\u001b[32m∏(a : M){ eqM(mul(e_l)(a))(a) }\u001b[39m, \u001b[32m0.047619047619047616\u001b[39m),\n",
       "        \u001b[33mWeighted\u001b[39m(\u001b[32m∏(a : M){ eqM(mul(a)(e_r))(a) }\u001b[39m, \u001b[32m0.047619047619047616\u001b[39m),\n",
       "        \u001b[33mWeighted\u001b[39m(\u001b[32m(M → (M → 𝒰 ))\u001b[39m, \u001b[32m0.2857142857142857\u001b[39m),\n",
       "..."
      ]
     },
     "execution_count": 6,
     "metadata": {},
     "output_type": "execute_result"
    }
   ],
   "source": [
    "val lp = LocalProver(ts).noIsles.sharpen(10)"
   ]
  },
  {
   "cell_type": "code",
   "execution_count": 7,
   "metadata": {},
   "outputs": [
    {
     "data": {
      "text/plain": [
       "\u001b[36mlemT\u001b[39m: \u001b[32mmonix\u001b[39m.\u001b[32meval\u001b[39m.\u001b[32mTask\u001b[39m[\u001b[32mVector\u001b[39m[(\u001b[32mTyp\u001b[39m[\u001b[32mTerm\u001b[39m], \u001b[32mDouble\u001b[39m)]] = \u001b[33mAsync\u001b[39m(\n",
       "  <function2>,\n",
       "  false,\n",
       "  true,\n",
       "  false\n",
       ")"
      ]
     },
     "execution_count": 7,
     "metadata": {},
     "output_type": "execute_result"
    }
   ],
   "source": [
    "val lemT = lp.lemmas"
   ]
  },
  {
   "cell_type": "code",
   "execution_count": 8,
   "metadata": {},
   "outputs": [
    {
     "data": {
      "text/plain": [
       "\u001b[36mlemF\u001b[39m: \u001b[32mmonix\u001b[39m.\u001b[32mexecution\u001b[39m.\u001b[32mCancelableFuture\u001b[39m[\u001b[32mVector\u001b[39m[(\u001b[32mTyp\u001b[39m[\u001b[32mTerm\u001b[39m], \u001b[32mDouble\u001b[39m)]] = \u001b[32m\u001b[33mSuccess\u001b[39m(\n",
       "  \u001b[33mVector\u001b[39m(\n",
       "    (\u001b[32meqM(e_l)(mul(e_l)(e_r))\u001b[39m, \u001b[32m0.0011464127623522545\u001b[39m),\n",
       "    (\u001b[32meqM(e_l)(mul(e_l)(e_l))\u001b[39m, \u001b[32m0.0011464127623522545\u001b[39m),\n",
       "    (\u001b[32meqM(e_r)(mul(e_l)(e_r))\u001b[39m, \u001b[32m0.0011464127623522545\u001b[39m),\n",
       "    (\u001b[32meqM(e_r)(mul(e_r)(e_r))\u001b[39m, \u001b[32m0.0011464127623522545\u001b[39m),\n",
       "    (\u001b[32meqM(e_r)(e_r)\u001b[39m, \u001b[32m1.4502068672697299E-5\u001b[39m),\n",
       "    (\u001b[32meqM(e_l)(e_l)\u001b[39m, \u001b[32m1.4502068672697299E-5\u001b[39m),\n",
       "    (\u001b[32meqM(mul(e_l)(e_r))(e_l)\u001b[39m, \u001b[32m1.2959421862468418E-5\u001b[39m),\n",
       "    (\u001b[32meqM(mul(e_l)(e_l))(e_l)\u001b[39m, \u001b[32m1.2959421862468418E-5\u001b[39m),\n",
       "    (\u001b[32meqM(mul(e_l)(e_r))(e_r)\u001b[39m, \u001b[32m1.2959421862468418E-5\u001b[39m),\n",
       "    (\u001b[32meqM(mul(e_r)(e_r))(e_r)\u001b[39m, \u001b[32m1.2959421862468418E-5\u001b[39m),\n",
       "    (\u001b[32meqM(mul(e_l)(e_r))(mul(e_l)(mul(e_l)(e_r)))\u001b[39m, \u001b[32m1.2720945176056593E-5\u001b[39m),\n",
       "    (\u001b[32meqM(mul(e_r)(e_l))(mul(e_l)(mul(e_r)(e_l)))\u001b[39m, \u001b[32m1.2720945176056593E-5\u001b[39m),\n",
       "    (\u001b[32meqM(mul(e_r)(e_r))(mul(e_l)(mul(e_r)(e_r)))\u001b[39m, \u001b[32m1.2720945176056593E-5\u001b[39m),\n",
       "    (\u001b[32meqM(mul(e_l)(e_l))(mul(e_l)(mul(e_l)(e_l)))\u001b[39m, \u001b[32m1.2720945176056593E-5\u001b[39m),\n",
       "    (\u001b[32meqM(mul(e_l)(e_r))(mul(e_l)(e_r))\u001b[39m, \u001b[32m1.1645910816131709E-5\u001b[39m),\n",
       "    (\u001b[32meqM(mul(e_r)(e_l))(mul(e_r)(e_l))\u001b[39m, \u001b[32m1.1645910816131709E-5\u001b[39m),\n",
       "    (\u001b[32meqM(mul(e_l)(e_l))(mul(e_l)(e_l))\u001b[39m, \u001b[32m1.1645910816131709E-5\u001b[39m),\n",
       "    (\u001b[32meqM(mul(e_r)(e_r))(mul(e_r)(e_r))\u001b[39m, \u001b[32m1.1645910816131709E-5\u001b[39m)\n",
       "  )\n",
       ")\u001b[39m"
      ]
     },
     "metadata": {},
     "output_type": "display_data"
    }
   ],
   "source": [
    "val lemF = lemT.runToFuture"
   ]
  },
  {
   "cell_type": "code",
   "execution_count": 9,
   "metadata": {},
   "outputs": [
    {
     "data": {
      "text/plain": [
       "\u001b[36mtangLpT\u001b[39m: \u001b[32mmonix\u001b[39m.\u001b[32meval\u001b[39m.\u001b[32mTask\u001b[39m[\u001b[32mLocalTangentProver\u001b[39m] = \u001b[33mFlatMap\u001b[39m(\n",
       "  \u001b[33mFlatMap\u001b[39m(\n",
       "    \u001b[33mAsync\u001b[39m(<function2>, false, true, false),\n",
       "    provingground.learning.LocalProverStep$$Lambda$3878/1245078938@6935362d\n",
       "  ),\n",
       "  provingground.learning.LocalProver$$Lambda$3879/1070179975@588bf1f8\n",
       ")"
      ]
     },
     "execution_count": 9,
     "metadata": {},
     "output_type": "execute_result"
    }
   ],
   "source": [
    "val tangLpT = lp.proofTangent()"
   ]
  },
  {
   "cell_type": "code",
   "execution_count": 10,
   "metadata": {},
   "outputs": [
    {
     "data": {
      "text/plain": [
       "\u001b[36mthmsT\u001b[39m: \u001b[32mmonix\u001b[39m.\u001b[32meval\u001b[39m.\u001b[32mTask\u001b[39m[\u001b[32mFiniteDistribution\u001b[39m[\u001b[32mTyp\u001b[39m[\u001b[32mTerm\u001b[39m]]] = \u001b[33mFlatMap\u001b[39m(\n",
       "  \u001b[33mFlatMap\u001b[39m(\n",
       "    \u001b[33mFlatMap\u001b[39m(\n",
       "      \u001b[33mAsync\u001b[39m(<function2>, false, true, false),\n",
       "      provingground.learning.LocalProverStep$$Lambda$3878/1245078938@6935362d\n",
       "    ),\n",
       "    provingground.learning.LocalProver$$Lambda$3879/1070179975@588bf1f8\n",
       "  ),\n",
       "  ammonite.$sess.cmd9$Helper$$Lambda$3885/812201377@72b6faf\n",
       ")"
      ]
     },
     "execution_count": 10,
     "metadata": {},
     "output_type": "execute_result"
    }
   ],
   "source": [
    "val thmsT = tangLpT.flatMap(_.theoremsByStatement)"
   ]
  },
  {
   "cell_type": "code",
   "execution_count": 11,
   "metadata": {},
   "outputs": [
    {
     "data": {
      "text/plain": [
       "\u001b[36mthmsF\u001b[39m: \u001b[32mmonix\u001b[39m.\u001b[32mexecution\u001b[39m.\u001b[32mCancelableFuture\u001b[39m[\u001b[32mFiniteDistribution\u001b[39m[\u001b[32mTyp\u001b[39m[\u001b[32mTerm\u001b[39m]]] = \u001b[32m\u001b[33mFailure\u001b[39m(\n",
       "  java.util.concurrent.TimeoutException: Task timed-out after 12 minutes of inactivity\n",
       ")\u001b[39m"
      ]
     },
     "metadata": {},
     "output_type": "display_data"
    }
   ],
   "source": [
    "val thmsF = thmsT.runToFuture"
   ]
  },
  {
   "cell_type": "code",
   "execution_count": 14,
   "metadata": {},
   "outputs": [
    {
     "data": {
      "text/plain": [
       "\u001b[36mres13\u001b[39m: \u001b[32mOption\u001b[39m[\u001b[32mscala\u001b[39m.\u001b[32mutil\u001b[39m.\u001b[32mTry\u001b[39m[\u001b[32mFiniteDistribution\u001b[39m[\u001b[32mTyp\u001b[39m[\u001b[32mTerm\u001b[39m]]]] = \u001b[32mNone\u001b[39m"
      ]
     },
     "execution_count": 14,
     "metadata": {},
     "output_type": "execute_result"
    }
   ],
   "source": [
    "thmsF.value"
   ]
  },
  {
   "cell_type": "code",
   "execution_count": 15,
   "metadata": {},
   "outputs": [
    {
     "data": {
      "text/plain": [
       "\u001b[36mtangLpT0\u001b[39m: \u001b[32mmonix\u001b[39m.\u001b[32meval\u001b[39m.\u001b[32mTask\u001b[39m[\u001b[32mLocalTangentProver\u001b[39m] = \u001b[33mMap\u001b[39m(\n",
       "  \u001b[33mFlatMap\u001b[39m(\n",
       "    \u001b[33mFlatMap\u001b[39m(\n",
       "      \u001b[33mAsync\u001b[39m(<function2>, false, true, false),\n",
       "      provingground.learning.LocalProverStep$$Lambda$3878/1245078938@6935362d\n",
       "    ),\n",
       "    provingground.learning.LocalProver$$Lambda$3879/1070179975@588bf1f8\n",
       "  ),\n",
       "  ammonite.$sess.cmd14$Helper$$Lambda$4049/2037953539@2afa8af9,\n",
       "  \u001b[32m0\u001b[39m\n",
       ")"
      ]
     },
     "execution_count": 15,
     "metadata": {},
     "output_type": "execute_result"
    }
   ],
   "source": [
    "val tangLpT0 = tangLpT.map(_.copy(cutoff = math.pow(10, -3)))"
   ]
  },
  {
   "cell_type": "code",
   "execution_count": 16,
   "metadata": {},
   "outputs": [
    {
     "data": {
      "text/plain": [
       "\u001b[36mthmsT0\u001b[39m: \u001b[32mmonix\u001b[39m.\u001b[32meval\u001b[39m.\u001b[32mTask\u001b[39m[\u001b[32mFiniteDistribution\u001b[39m[\u001b[32mTyp\u001b[39m[\u001b[32mTerm\u001b[39m]]] = \u001b[33mFlatMap\u001b[39m(\n",
       "  \u001b[33mMap\u001b[39m(\n",
       "    \u001b[33mFlatMap\u001b[39m(\n",
       "      \u001b[33mFlatMap\u001b[39m(\n",
       "        \u001b[33mAsync\u001b[39m(<function2>, false, true, false),\n",
       "        provingground.learning.LocalProverStep$$Lambda$3878/1245078938@6935362d\n",
       "      ),\n",
       "      provingground.learning.LocalProver$$Lambda$3879/1070179975@588bf1f8\n",
       "    ),\n",
       "    ammonite.$sess.cmd14$Helper$$Lambda$4049/2037953539@2afa8af9,\n",
       "    \u001b[32m0\u001b[39m\n",
       "  ),\n",
       "  ammonite.$sess.cmd15$Helper$$Lambda$4053/407309372@770a3ac1\n",
       ")"
      ]
     },
     "execution_count": 16,
     "metadata": {},
     "output_type": "execute_result"
    }
   ],
   "source": [
    "val thmsT0 = tangLpT0.flatMap(_.theoremsByStatement)"
   ]
  },
  {
   "cell_type": "code",
   "execution_count": 17,
   "metadata": {},
   "outputs": [
    {
     "data": {
      "text/plain": [
       "\u001b[36mthmsF0\u001b[39m: \u001b[32mmonix\u001b[39m.\u001b[32mexecution\u001b[39m.\u001b[32mCancelableFuture\u001b[39m[\u001b[32mFiniteDistribution\u001b[39m[\u001b[32mTyp\u001b[39m[\u001b[32mTerm\u001b[39m]]] = \u001b[32m\u001b[33mSuccess\u001b[39m(\n",
       "  \u001b[33mFiniteDistribution\u001b[39m(\n",
       "    \u001b[33mVector\u001b[39m(\n",
       "      \u001b[33mWeighted\u001b[39m(\u001b[32meqM(e_r)(e_r)\u001b[39m, \u001b[32m0.2004378885521395\u001b[39m),\n",
       "      \u001b[33mWeighted\u001b[39m(\u001b[32meqM(mul(e_l)(e_r))(mul(e_l)(e_r))\u001b[39m, \u001b[32m8.942367376597229E-4\u001b[39m),\n",
       "      \u001b[33mWeighted\u001b[39m(\u001b[32meqM(mul(e_l)(e_r))(e_l)\u001b[39m, \u001b[32m0.004920889764529055\u001b[39m),\n",
       "      \u001b[33mWeighted\u001b[39m(\n",
       "        \u001b[32meqM(mul(e_l)(e_r))(mul(e_l)(mul(e_l)(e_r)))\u001b[39m,\n",
       "        \u001b[32m2.356598569957204E-4\u001b[39m\n",
       "      ),\n",
       "      \u001b[33mWeighted\u001b[39m(\u001b[32meqM(mul(e_l)(e_l))(mul(e_l)(e_r))\u001b[39m, \u001b[32m8.942367376597229E-4\u001b[39m),\n",
       "      \u001b[33mWeighted\u001b[39m(\u001b[32meqM(e_l)(e_l)\u001b[39m, \u001b[32m0.2004378885521395\u001b[39m),\n",
       "      \u001b[33mWeighted\u001b[39m(\u001b[32m∏(a : M){ eqM(mul(e_l)(a))(a) }\u001b[39m, \u001b[32m0.026244220822213234\u001b[39m),\n",
       "      \u001b[33mWeighted\u001b[39m(\u001b[32meqM(mul(e_l)(e_l))(e_l)\u001b[39m, \u001b[32m0.004920889764529055\u001b[39m),\n",
       "      \u001b[33mWeighted\u001b[39m(\u001b[32mM\u001b[39m, \u001b[32m0.05248844164442647\u001b[39m),\n",
       "      \u001b[33mWeighted\u001b[39m(\u001b[32meqM(e_l)(mul(e_l)(e_r))\u001b[39m, \u001b[32m0.005053873310466531\u001b[39m),\n",
       "      \u001b[33mWeighted\u001b[39m(\u001b[32m(M → (M → M))\u001b[39m, \u001b[32m0.18370954575549264\u001b[39m),\n",
       "      \u001b[33mWeighted\u001b[39m(\u001b[32meqM(mul(e_l)(e_r))(mul(e_r)(e_r))\u001b[39m, \u001b[32m8.942367376597229E-4\u001b[39m),\n",
       "      \u001b[33mWeighted\u001b[39m(\n",
       "        \u001b[32m∏(a : M){ ∏(b : M){ ∏(c : M){ (eqM(a)(b) → (eqM(b)(c) → eqM(a)(c))) } } }\u001b[39m,\n",
       "        \u001b[32m0.026244220822213234\u001b[39m\n",
       "      ),\n",
       "      \u001b[33mWeighted\u001b[39m(\n",
       "        \u001b[32m∏(a : M){ ∏(b : M){ (eqM(a)(b) → eqM(b)(a)) } }\u001b[39m,\n",
       "        \u001b[32m0.026244220822213234\u001b[39m\n",
       "      ),\n",
       "      \u001b[33mWeighted\u001b[39m(\u001b[32meqM(mul(e_r)(e_l))(mul(e_r)(e_l))\u001b[39m, \u001b[32m8.942367376597229E-4\u001b[39m),\n",
       "      \u001b[33mWeighted\u001b[39m(\u001b[32m∏(a : M){ eqM(a)(a) }\u001b[39m, \u001b[32m0.026244220822213234\u001b[39m),\n",
       "      \u001b[33mWeighted\u001b[39m(\u001b[32meqM(mul(e_l)(e_l))(mul(e_l)(e_l))\u001b[39m, \u001b[32m8.942367376597229E-4\u001b[39m),\n",
       "      \u001b[33mWeighted\u001b[39m(\u001b[32m∏(a : M){ eqM(mul(a)(e_r))(a) }\u001b[39m, \u001b[32m0.026244220822213234\u001b[39m),\n",
       "      \u001b[33mWeighted\u001b[39m(\u001b[32meqM(mul(e_l)(e_r))(mul(e_l)(e_l))\u001b[39m, \u001b[32m8.942367376597229E-4\u001b[39m),\n",
       "      \u001b[33mWeighted\u001b[39m(\u001b[32m(M → (M → 𝒰 ))\u001b[39m, \u001b[32m0.18370954575549264\u001b[39m),\n",
       "      \u001b[33mWeighted\u001b[39m(\u001b[32meqM(e_l)(mul(e_l)(e_l))\u001b[39m, \u001b[32m0.005053873310466531\u001b[39m),\n",
       "      \u001b[33mWeighted\u001b[39m(\u001b[32meqM(mul(e_r)(e_r))(mul(e_l)(e_r))\u001b[39m, \u001b[32m8.942367376597229E-4\u001b[39m),\n",
       "      \u001b[33mWeighted\u001b[39m(\u001b[32meqM(mul(e_l)(e_r))(e_r)\u001b[39m, \u001b[32m0.004920889764529055\u001b[39m),\n",
       "      \u001b[33mWeighted\u001b[39m(\u001b[32meqM(mul(e_r)(e_r))(e_r)\u001b[39m, \u001b[32m0.004920889764529055\u001b[39m),\n",
       "      \u001b[33mWeighted\u001b[39m(\u001b[32meqM(mul(e_r)(e_r))(mul(e_r)(e_r))\u001b[39m, \u001b[32m8.942367376597229E-4\u001b[39m),\n",
       "      \u001b[33mWeighted\u001b[39m(\u001b[32meqM(e_r)(mul(e_l)(e_r))\u001b[39m, \u001b[32m0.005053873310466531\u001b[39m),\n",
       "...\u001b[39m"
      ]
     },
     "metadata": {},
     "output_type": "display_data"
    }
   ],
   "source": [
    "val thmsF0 = thmsT0.runToFuture"
   ]
  },
  {
   "cell_type": "code",
   "execution_count": 20,
   "metadata": {},
   "outputs": [
    {
     "data": {
      "text/plain": [
       "\u001b[36mres19\u001b[39m: \u001b[32mmonix\u001b[39m.\u001b[32mexecution\u001b[39m.\u001b[32mCancelableFuture\u001b[39m[\u001b[32mDouble\u001b[39m] = \u001b[32m\u001b[33mSuccess\u001b[39m(\u001b[32m0.0\u001b[39m)\u001b[39m"
      ]
     },
     "metadata": {},
     "output_type": "display_data"
    }
   ],
   "source": [
    "thmsF0.map(_(eqM(l)(r)))"
   ]
  },
  {
   "cell_type": "code",
   "execution_count": 23,
   "metadata": {},
   "outputs": [
    {
     "data": {
      "text/plain": [
       "\u001b[36mtangLpT1\u001b[39m: \u001b[32mmonix\u001b[39m.\u001b[32meval\u001b[39m.\u001b[32mTask\u001b[39m[\u001b[32mLocalTangentProver\u001b[39m] = \u001b[33mMap\u001b[39m(\n",
       "  \u001b[33mFlatMap\u001b[39m(\n",
       "    \u001b[33mFlatMap\u001b[39m(\n",
       "      \u001b[33mAsync\u001b[39m(<function2>, false, true, false),\n",
       "      provingground.learning.LocalProverStep$$Lambda$3878/1245078938@6935362d\n",
       "    ),\n",
       "    provingground.learning.LocalProver$$Lambda$3879/1070179975@588bf1f8\n",
       "  ),\n",
       "  ammonite.$sess.cmd22$Helper$$Lambda$4164/745227504@39491735,\n",
       "  \u001b[32m0\u001b[39m\n",
       ")\n",
       "\u001b[36mthmsT1\u001b[39m: \u001b[32mmonix\u001b[39m.\u001b[32meval\u001b[39m.\u001b[32mTask\u001b[39m[\u001b[32mFiniteDistribution\u001b[39m[\u001b[32mTyp\u001b[39m[\u001b[32mTerm\u001b[39m]]] = \u001b[33mFlatMap\u001b[39m(\n",
       "  \u001b[33mMap\u001b[39m(\n",
       "    \u001b[33mFlatMap\u001b[39m(\n",
       "      \u001b[33mFlatMap\u001b[39m(\n",
       "        \u001b[33mAsync\u001b[39m(<function2>, false, true, false),\n",
       "        provingground.learning.LocalProverStep$$Lambda$3878/1245078938@6935362d\n",
       "      ),\n",
       "      provingground.learning.LocalProver$$Lambda$3879/1070179975@588bf1f8\n",
       "    ),\n",
       "    ammonite.$sess.cmd22$Helper$$Lambda$4164/745227504@39491735,\n",
       "    \u001b[32m0\u001b[39m\n",
       "  ),\n",
       "  ammonite.$sess.cmd22$Helper$$Lambda$4165/1221580666@58d9136\n",
       ")\n",
       "\u001b[36mgoal\u001b[39m: \u001b[32mTyp\u001b[39m[\u001b[32mTerm\u001b[39m] = \u001b[32meqM(e_l)(e_r)\u001b[39m\n",
       "\u001b[36mgoalT\u001b[39m: \u001b[32mmonix\u001b[39m.\u001b[32meval\u001b[39m.\u001b[32mTask\u001b[39m[\u001b[32mDouble\u001b[39m] = \u001b[33mMap\u001b[39m(\n",
       "  \u001b[33mFlatMap\u001b[39m(\n",
       "    \u001b[33mMap\u001b[39m(\n",
       "      \u001b[33mFlatMap\u001b[39m(\n",
       "        \u001b[33mFlatMap\u001b[39m(\n",
       "          \u001b[33mAsync\u001b[39m(<function2>, false, true, false),\n",
       "          provingground.learning.LocalProverStep$$Lambda$3878/1245078938@6935362d\n",
       "        ),\n",
       "        provingground.learning.LocalProver$$Lambda$3879/1070179975@588bf1f8\n",
       "      ),\n",
       "      ammonite.$sess.cmd22$Helper$$Lambda$4164/745227504@39491735,\n",
       "      \u001b[32m0\u001b[39m\n",
       "    ),\n",
       "    ammonite.$sess.cmd22$Helper$$Lambda$4165/1221580666@58d9136\n",
       "  ),\n",
       "  ammonite.$sess.cmd22$Helper$$Lambda$4166/814394784@56a37a0f,\n",
       "  \u001b[32m0\u001b[39m\n",
       ")"
      ]
     },
     "execution_count": 23,
     "metadata": {},
     "output_type": "execute_result"
    }
   ],
   "source": [
    "val tangLpT1 = tangLpT.map(_.copy(cutoff = 5*  math.pow(10, -3)))\n",
    "val thmsT1 = tangLpT1.flatMap(_.theoremsByStatement)\n",
    "val goal = eqM(l)(r)\n",
    "val goalT = thmsT1.map(_(goal))"
   ]
  },
  {
   "cell_type": "code",
   "execution_count": 24,
   "metadata": {},
   "outputs": [
    {
     "data": {
      "text/plain": [
       "\u001b[36mgoalF\u001b[39m: \u001b[32mmonix\u001b[39m.\u001b[32mexecution\u001b[39m.\u001b[32mCancelableFuture\u001b[39m[\u001b[32mDouble\u001b[39m] = \u001b[32m\u001b[33mSuccess\u001b[39m(\u001b[32m0.0\u001b[39m)\u001b[39m"
      ]
     },
     "metadata": {},
     "output_type": "display_data"
    }
   ],
   "source": [
    "val goalF = goalT.runToFuture"
   ]
  },
  {
   "cell_type": "code",
   "execution_count": 25,
   "metadata": {},
   "outputs": [
    {
     "data": {
      "text/plain": [
       "\u001b[36mtangLpT2\u001b[39m: \u001b[32mmonix\u001b[39m.\u001b[32meval\u001b[39m.\u001b[32mTask\u001b[39m[\u001b[32mLocalTangentProver\u001b[39m] = \u001b[33mMap\u001b[39m(\n",
       "  \u001b[33mFlatMap\u001b[39m(\n",
       "    \u001b[33mFlatMap\u001b[39m(\n",
       "      \u001b[33mAsync\u001b[39m(<function2>, false, true, false),\n",
       "      provingground.learning.LocalProverStep$$Lambda$3878/1245078938@6935362d\n",
       "    ),\n",
       "    provingground.learning.LocalProver$$Lambda$3879/1070179975@588bf1f8\n",
       "  ),\n",
       "  ammonite.$sess.cmd24$Helper$$Lambda$4187/280773280@5efbc7c0,\n",
       "  \u001b[32m0\u001b[39m\n",
       ")\n",
       "\u001b[36mthmsT2\u001b[39m: \u001b[32mmonix\u001b[39m.\u001b[32meval\u001b[39m.\u001b[32mTask\u001b[39m[\u001b[32mFiniteDistribution\u001b[39m[\u001b[32mTyp\u001b[39m[\u001b[32mTerm\u001b[39m]]] = \u001b[33mFlatMap\u001b[39m(\n",
       "  \u001b[33mMap\u001b[39m(\n",
       "    \u001b[33mFlatMap\u001b[39m(\n",
       "      \u001b[33mFlatMap\u001b[39m(\n",
       "        \u001b[33mAsync\u001b[39m(<function2>, false, true, false),\n",
       "        provingground.learning.LocalProverStep$$Lambda$3878/1245078938@6935362d\n",
       "      ),\n",
       "      provingground.learning.LocalProver$$Lambda$3879/1070179975@588bf1f8\n",
       "    ),\n",
       "    ammonite.$sess.cmd24$Helper$$Lambda$4187/280773280@5efbc7c0,\n",
       "    \u001b[32m0\u001b[39m\n",
       "  ),\n",
       "  ammonite.$sess.cmd24$Helper$$Lambda$4188/1197004999@6ee5d7f2\n",
       ")\n",
       "\u001b[36mgoalT2\u001b[39m: \u001b[32mmonix\u001b[39m.\u001b[32meval\u001b[39m.\u001b[32mTask\u001b[39m[\u001b[32mDouble\u001b[39m] = \u001b[33mMap\u001b[39m(\n",
       "  \u001b[33mFlatMap\u001b[39m(\n",
       "    \u001b[33mMap\u001b[39m(\n",
       "      \u001b[33mFlatMap\u001b[39m(\n",
       "        \u001b[33mFlatMap\u001b[39m(\n",
       "          \u001b[33mAsync\u001b[39m(<function2>, false, true, false),\n",
       "          provingground.learning.LocalProverStep$$Lambda$3878/1245078938@6935362d\n",
       "        ),\n",
       "        provingground.learning.LocalProver$$Lambda$3879/1070179975@588bf1f8\n",
       "      ),\n",
       "      ammonite.$sess.cmd24$Helper$$Lambda$4187/280773280@5efbc7c0,\n",
       "      \u001b[32m0\u001b[39m\n",
       "    ),\n",
       "    ammonite.$sess.cmd24$Helper$$Lambda$4188/1197004999@6ee5d7f2\n",
       "  ),\n",
       "  ammonite.$sess.cmd24$Helper$$Lambda$4189/1977826535@1b6a04cf,\n",
       "  \u001b[32m0\u001b[39m\n",
       ")"
      ]
     },
     "execution_count": 25,
     "metadata": {},
     "output_type": "execute_result"
    }
   ],
   "source": [
    "val tangLpT2 = tangLpT.map(_.copy(cutoff =  math.pow(10, -4)))\n",
    "val thmsT2 = tangLpT2.flatMap(_.theoremsByStatement)\n",
    "val goalT2 = thmsT2.map(_(goal))"
   ]
  },
  {
   "cell_type": "code",
   "execution_count": 26,
   "metadata": {},
   "outputs": [
    {
     "data": {
      "text/plain": [
       "\u001b[36mgoalF2\u001b[39m: \u001b[32mmonix\u001b[39m.\u001b[32mexecution\u001b[39m.\u001b[32mCancelableFuture\u001b[39m[\u001b[32mDouble\u001b[39m] = \u001b[32m\u001b[33mFailure\u001b[39m(\n",
       "  java.util.concurrent.TimeoutException: Task timed-out after 12 minutes of inactivity\n",
       ")\u001b[39m"
      ]
     },
     "metadata": {},
     "output_type": "display_data"
    }
   ],
   "source": [
    "val goalF2 = goalT2.runToFuture"
   ]
  },
  {
   "cell_type": "markdown",
   "metadata": {},
   "source": [
    "## Conclusions\n",
    "\n",
    "* Searching the entire weighted set of tangent lemmas fails, with cutoffs either giving a timeout or not finding the result.\n",
    "* Hence it is crucial to have concurrent searches, say with cutoff specified for the maximum weight and then scaling with weight."
   ]
  },
  {
   "cell_type": "code",
   "execution_count": 28,
   "metadata": {},
   "outputs": [
    {
     "data": {
      "text/plain": [
       "\u001b[36mlem\u001b[39m: \u001b[32mTyp\u001b[39m[\u001b[32mTerm\u001b[39m] = \u001b[32meqM(e_l)(mul(e_l)(e_r))\u001b[39m"
      ]
     },
     "execution_count": 28,
     "metadata": {},
     "output_type": "execute_result"
    }
   ],
   "source": [
    "val lem = eqM(l)(op(l)(r))"
   ]
  },
  {
   "cell_type": "code",
   "execution_count": 30,
   "metadata": {},
   "outputs": [
    {
     "data": {
      "text/plain": [
       "\u001b[36mcmlT\u001b[39m: \u001b[32mmonix\u001b[39m.\u001b[32mexecution\u001b[39m.\u001b[32mCancelableFuture\u001b[39m[\u001b[32mVector\u001b[39m[(\u001b[32mTyp\u001b[39m[\u001b[32mTerm\u001b[39m], \u001b[32mDouble\u001b[39m)]] = \u001b[32m\u001b[33mSuccess\u001b[39m(\u001b[33mVector\u001b[39m((\u001b[32meqM(e_l)(mul(e_l)(e_r))\u001b[39m, \u001b[32m0.0011464127623522545\u001b[39m)))\u001b[39m"
      ]
     },
     "metadata": {},
     "output_type": "display_data"
    }
   ],
   "source": [
    "val cmlT = lemT.map(_.filter(_._1 == lem)).runToFuture"
   ]
  },
  {
   "cell_type": "code",
   "execution_count": 31,
   "metadata": {},
   "outputs": [
    {
     "data": {
      "text/plain": [
       "\u001b[36mtangS\u001b[39m: \u001b[32mTermState\u001b[39m = \u001b[33mTermState\u001b[39m(\n",
       "  \u001b[33mFiniteDistribution\u001b[39m(\u001b[33mVector\u001b[39m(\u001b[33mWeighted\u001b[39m(\u001b[32mproof\u001b[39m, \u001b[32m1.0\u001b[39m))),\n",
       "  \u001b[33mFiniteDistribution\u001b[39m(\u001b[33mVector\u001b[39m()),\n",
       "  \u001b[33mVector\u001b[39m(),\n",
       "  \u001b[33mFiniteDistribution\u001b[39m(\u001b[33mVector\u001b[39m()),\n",
       "  \u001b[33mFiniteDistribution\u001b[39m(\u001b[33mVector\u001b[39m()),\n",
       "  Empty\n",
       ")"
      ]
     },
     "execution_count": 31,
     "metadata": {},
     "output_type": "execute_result"
    }
   ],
   "source": [
    "val tangS = ts.tangent(\"proof\" :: lem)"
   ]
  },
  {
   "cell_type": "code",
   "execution_count": 32,
   "metadata": {},
   "outputs": [
    {
     "data": {
      "text/plain": [
       "\u001b[36mlpTangT\u001b[39m: \u001b[32mmonix\u001b[39m.\u001b[32meval\u001b[39m.\u001b[32mTask\u001b[39m[\u001b[32mLocalTangentProver\u001b[39m] = \u001b[33mFlatMap\u001b[39m(\n",
       "  \u001b[33mMap\u001b[39m(\n",
       "    \u001b[33mFlatMap\u001b[39m(\n",
       "      \u001b[33mMap\u001b[39m(\n",
       "        \u001b[33mAsync\u001b[39m(<function2>, false, true, false),\n",
       "        provingground.learning.LocalProver$$Lambda$3618/1171554889@7589677d,\n",
       "        \u001b[32m0\u001b[39m\n",
       "      ),\n",
       "      provingground.learning.LocalProver$$Lambda$3619/201071429@65128abe\n",
       "    ),\n",
       "    provingground.learning.LocalProver$$Lambda$3896/1713420964@28360e0b,\n",
       "    \u001b[32m0\u001b[39m\n",
       "  ),\n",
       "  provingground.learning.LocalProver$$Lambda$3897/1044117158@6248c915\n",
       ")"
      ]
     },
     "execution_count": 32,
     "metadata": {},
     "output_type": "execute_result"
    }
   ],
   "source": [
    "val lpTangT  = lp.distTangentProver(FiniteDistribution.unif(\"proof\" :: lem))"
   ]
  },
  {
   "cell_type": "code",
   "execution_count": 34,
   "metadata": {},
   "outputs": [
    {
     "data": {
      "text/plain": [
       "\u001b[36mtargGoalT\u001b[39m: \u001b[32mmonix\u001b[39m.\u001b[32meval\u001b[39m.\u001b[32mTask\u001b[39m[\u001b[32mDouble\u001b[39m] = \u001b[33mMap\u001b[39m(\n",
       "  \u001b[33mFlatMap\u001b[39m(\n",
       "    \u001b[33mFlatMap\u001b[39m(\n",
       "      \u001b[33mMap\u001b[39m(\n",
       "        \u001b[33mFlatMap\u001b[39m(\n",
       "          \u001b[33mMap\u001b[39m(\n",
       "            \u001b[33mAsync\u001b[39m(<function2>, false, true, false),\n",
       "            provingground.learning.LocalProver$$Lambda$3618/1171554889@7589677d,\n",
       "            \u001b[32m0\u001b[39m\n",
       "          ),\n",
       "          provingground.learning.LocalProver$$Lambda$3619/201071429@65128abe\n",
       "        ),\n",
       "        provingground.learning.LocalProver$$Lambda$3896/1713420964@28360e0b,\n",
       "        \u001b[32m0\u001b[39m\n",
       "      ),\n",
       "      provingground.learning.LocalProver$$Lambda$3897/1044117158@6248c915\n",
       "    ),\n",
       "    ammonite.$sess.cmd33$Helper$$Lambda$4590/522317305@192923c1\n",
       "  ),\n",
       "  ammonite.$sess.cmd33$Helper$$Lambda$4591/397628912@2a129480,\n",
       "  \u001b[32m0\u001b[39m\n",
       ")"
      ]
     },
     "execution_count": 34,
     "metadata": {},
     "output_type": "execute_result"
    }
   ],
   "source": [
    "val targGoalT = lpTangT.flatMap(lpt => lpt.theoremsByStatement).map(_(goal))"
   ]
  },
  {
   "cell_type": "code",
   "execution_count": 35,
   "metadata": {},
   "outputs": [
    {
     "data": {
      "text/plain": [
       "\u001b[36mtargGoalF\u001b[39m: \u001b[32mmonix\u001b[39m.\u001b[32mexecution\u001b[39m.\u001b[32mCancelableFuture\u001b[39m[\u001b[32mDouble\u001b[39m] = \u001b[32m\u001b[33mFailure\u001b[39m(\n",
       "  java.util.concurrent.TimeoutException: Task timed-out after 12 minutes of inactivity\n",
       ")\u001b[39m"
      ]
     },
     "metadata": {},
     "output_type": "display_data"
    }
   ],
   "source": [
    "val targGoalF = targGoalT.runToFuture"
   ]
  },
  {
   "cell_type": "markdown",
   "metadata": {},
   "source": [
    "## Final Conclusions\n",
    "\n",
    "* Even using the correct lemma failed, though one could try lower cutoffs.\n",
    "* We must narrow the coefficients, to use only (unified) application.\n",
    "* We should also do tiny tests with tangents as there could be bugs there."
   ]
  }
 ],
 "metadata": {
  "kernelspec": {
   "display_name": "Scala",
   "language": "scala",
   "name": "scala"
  },
  "language_info": {
   "codemirror_mode": "text/x-scala",
   "file_extension": ".scala",
   "mimetype": "text/x-scala",
   "name": "scala",
   "nbconvert_exporter": "script",
   "version": "2.12.8"
  }
 },
 "nbformat": 4,
 "nbformat_minor": 2
}
