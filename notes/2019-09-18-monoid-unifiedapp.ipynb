{
 "cells": [
  {
   "cell_type": "markdown",
   "metadata": {},
   "source": [
    "We attempt to replicate the Monoid proof but with our new workflow and with the local provers, using only unified applications."
   ]
  },
  {
   "cell_type": "code",
   "execution_count": 1,
   "metadata": {},
   "outputs": [
    {
     "data": {
      "text/plain": [
       "\u001b[32mimport \u001b[39m\u001b[36m$cp.$                                           \u001b[39m"
      ]
     },
     "execution_count": 1,
     "metadata": {},
     "output_type": "execute_result"
    }
   ],
   "source": [
    "import $cp.bin.`provingground-core-jvm-3d48753.fat.jar`"
   ]
  },
  {
   "cell_type": "code",
   "execution_count": 2,
   "metadata": {},
   "outputs": [
    {
     "data": {
      "text/plain": [
       "\u001b[32mimport \u001b[39m\u001b[36mprovingground._ , interface._, HoTT._, learning._ \n",
       "\u001b[39m"
      ]
     },
     "execution_count": 2,
     "metadata": {},
     "output_type": "execute_result"
    }
   ],
   "source": [
    "import provingground._ , interface._, HoTT._, learning._ \n",
    "repl.pprinter() = {\n",
    "  val p = repl.pprinter()\n",
    "  p.copy(\n",
    "    additionalHandlers = p.additionalHandlers.orElse {\n",
    "      translation.FansiShow.fansiHandler\n",
    "    }\n",
    "  )\n",
    "}"
   ]
  },
  {
   "cell_type": "code",
   "execution_count": 3,
   "metadata": {},
   "outputs": [
    {
     "data": {
      "text/plain": [
       "\u001b[32mimport \u001b[39m\u001b[36mprovingground._ , interface._, HoTT._\n",
       "\u001b[39m\n",
       "\u001b[32mimport \u001b[39m\u001b[36mlearning._\n",
       "\u001b[39m\n",
       "\u001b[32mimport \u001b[39m\u001b[36mlibrary._, MonoidSimple._\u001b[39m"
      ]
     },
     "execution_count": 3,
     "metadata": {},
     "output_type": "execute_result"
    }
   ],
   "source": [
    "import provingground._ , interface._, HoTT._\n",
    "import learning._\n",
    "import library._, MonoidSimple._"
   ]
  },
  {
   "cell_type": "code",
   "execution_count": 4,
   "metadata": {},
   "outputs": [
    {
     "data": {
      "text/plain": [
       "\u001b[36mtg\u001b[39m: \u001b[32mTermGenParams\u001b[39m = \u001b[33mTermGenParams\u001b[39m(\n",
       "  \u001b[32m0.0\u001b[39m,\n",
       "  \u001b[32m0.2\u001b[39m,\n",
       "  \u001b[32m0.0\u001b[39m,\n",
       "  \u001b[32m0.0\u001b[39m,\n",
       "  \u001b[32m0.0\u001b[39m,\n",
       "  \u001b[32m0.0\u001b[39m,\n",
       "  \u001b[32m0.0\u001b[39m,\n",
       "  \u001b[32m0.0\u001b[39m,\n",
       "  \u001b[32m0.0\u001b[39m,\n",
       "  \u001b[32m0.0\u001b[39m,\n",
       "  \u001b[32m0.0\u001b[39m,\n",
       "  \u001b[32m0.0\u001b[39m,\n",
       "  \u001b[32m0.3\u001b[39m,\n",
       "  \u001b[32m0.7\u001b[39m,\n",
       "  \u001b[32m0.5\u001b[39m,\n",
       "  \u001b[32m0.0\u001b[39m,\n",
       "  \u001b[32m0.0\u001b[39m,\n",
       "  \u001b[32m0.0\u001b[39m\n",
       ")\n",
       "\u001b[36mts\u001b[39m: \u001b[32mTermState\u001b[39m = \u001b[33mTermState\u001b[39m(\n",
       "  \u001b[33mFiniteDistribution\u001b[39m(\n",
       "    \u001b[33mVector\u001b[39m(\n",
       "      \u001b[33mWeighted\u001b[39m(\u001b[32me_l\u001b[39m, \u001b[32m0.047619047619047616\u001b[39m),\n",
       "      \u001b[33mWeighted\u001b[39m(\u001b[32me_r\u001b[39m, \u001b[32m0.047619047619047616\u001b[39m),\n",
       "      \u001b[33mWeighted\u001b[39m(\u001b[32mmul\u001b[39m, \u001b[32m0.047619047619047616\u001b[39m),\n",
       "      \u001b[33mWeighted\u001b[39m(\u001b[32meqM\u001b[39m, \u001b[32m0.047619047619047616\u001b[39m),\n",
       "      \u001b[33mWeighted\u001b[39m(\u001b[32maxiom_{eqM(a)(a)}\u001b[39m, \u001b[32m0.047619047619047616\u001b[39m),\n",
       "      \u001b[33mWeighted\u001b[39m(\u001b[32maxiom_{(eqM(a)(b) \\to eqM(b)(a))}\u001b[39m, \u001b[32m0.047619047619047616\u001b[39m),\n",
       "      \u001b[33mWeighted\u001b[39m(\n",
       "        \u001b[32maxiom_{(eqM(a)(b) \\to (eqM(b)(c) \\to eqM(a)(c)))}\u001b[39m,\n",
       "        \u001b[32m0.047619047619047616\u001b[39m\n",
       "      ),\n",
       "      \u001b[33mWeighted\u001b[39m(\u001b[32maxiom_{eqM(mul(e_l)(a))(a)}\u001b[39m, \u001b[32m0.047619047619047616\u001b[39m),\n",
       "      \u001b[33mWeighted\u001b[39m(\u001b[32maxiom_{eqM(mul(a)(e_r))(a)}\u001b[39m, \u001b[32m0.047619047619047616\u001b[39m),\n",
       "      \u001b[33mWeighted\u001b[39m(\u001b[32meqM\u001b[39m, \u001b[32m0.2857142857142857\u001b[39m),\n",
       "      \u001b[33mWeighted\u001b[39m(\u001b[32mmul\u001b[39m, \u001b[32m0.2857142857142857\u001b[39m)\n",
       "    )\n",
       "  ),\n",
       "  \u001b[33mFiniteDistribution\u001b[39m(\n",
       "    \u001b[33mVector\u001b[39m(\n",
       "      \u001b[33mWeighted\u001b[39m(\u001b[32mM\u001b[39m, \u001b[32m0.047619047619047616\u001b[39m),\n",
       "      \u001b[33mWeighted\u001b[39m(\u001b[32mM\u001b[39m, \u001b[32m0.047619047619047616\u001b[39m),\n",
       "      \u001b[33mWeighted\u001b[39m(\u001b[32m(M → (M → M))\u001b[39m, \u001b[32m0.047619047619047616\u001b[39m),\n",
       "      \u001b[33mWeighted\u001b[39m(\u001b[32m(M → (M → 𝒰 ))\u001b[39m, \u001b[32m0.047619047619047616\u001b[39m),\n",
       "      \u001b[33mWeighted\u001b[39m(\u001b[32m∏(a : M){ eqM(a)(a) }\u001b[39m, \u001b[32m0.047619047619047616\u001b[39m),\n",
       "      \u001b[33mWeighted\u001b[39m(\n",
       "        \u001b[32m∏(a : M){ ∏(b : M){ (eqM(a)(b) → eqM(b)(a)) } }\u001b[39m,\n",
       "        \u001b[32m0.047619047619047616\u001b[39m\n",
       "      ),\n",
       "      \u001b[33mWeighted\u001b[39m(\n",
       "        \u001b[32m∏(a : M){ ∏(b : M){ ∏(c : M){ (eqM(a)(b) → (eqM(b)(c) → eqM(a)(c))) } } }\u001b[39m,\n",
       "        \u001b[32m0.047619047619047616\u001b[39m\n",
       "      ),\n",
       "      \u001b[33mWeighted\u001b[39m(\u001b[32m∏(a : M){ eqM(mul(e_l)(a))(a) }\u001b[39m, \u001b[32m0.047619047619047616\u001b[39m),\n",
       "      \u001b[33mWeighted\u001b[39m(\u001b[32m∏(a : M){ eqM(mul(a)(e_r))(a) }\u001b[39m, \u001b[32m0.047619047619047616\u001b[39m),\n",
       "      \u001b[33mWeighted\u001b[39m(\u001b[32m(M → (M → 𝒰 ))\u001b[39m, \u001b[32m0.2857142857142857\u001b[39m),\n",
       "      \u001b[33mWeighted\u001b[39m(\u001b[32m(M → (M → M))\u001b[39m, \u001b[32m0.2857142857142857\u001b[39m)\n",
       "..."
      ]
     },
     "execution_count": 4,
     "metadata": {},
     "output_type": "execute_result"
    }
   ],
   "source": [
    "val tg = TermGenParams.zero.copy(unAppW = 0.2)\n",
    "val ts = TermState(dist1, dist1.map(_.typ))"
   ]
  },
  {
   "cell_type": "code",
   "execution_count": 5,
   "metadata": {},
   "outputs": [
    {
     "data": {
      "text/plain": [
       "\u001b[36mlp\u001b[39m: \u001b[32mLocalProver\u001b[39m = \u001b[33mLocalProver\u001b[39m(\n",
       "  \u001b[33mTermState\u001b[39m(\n",
       "    \u001b[33mFiniteDistribution\u001b[39m(\n",
       "      \u001b[33mVector\u001b[39m(\n",
       "        \u001b[33mWeighted\u001b[39m(\u001b[32me_l\u001b[39m, \u001b[32m0.047619047619047616\u001b[39m),\n",
       "        \u001b[33mWeighted\u001b[39m(\u001b[32me_r\u001b[39m, \u001b[32m0.047619047619047616\u001b[39m),\n",
       "        \u001b[33mWeighted\u001b[39m(\u001b[32mmul\u001b[39m, \u001b[32m0.047619047619047616\u001b[39m),\n",
       "        \u001b[33mWeighted\u001b[39m(\u001b[32meqM\u001b[39m, \u001b[32m0.047619047619047616\u001b[39m),\n",
       "        \u001b[33mWeighted\u001b[39m(\u001b[32maxiom_{eqM(a)(a)}\u001b[39m, \u001b[32m0.047619047619047616\u001b[39m),\n",
       "        \u001b[33mWeighted\u001b[39m(\u001b[32maxiom_{(eqM(a)(b) \\to eqM(b)(a))}\u001b[39m, \u001b[32m0.047619047619047616\u001b[39m),\n",
       "        \u001b[33mWeighted\u001b[39m(\n",
       "          \u001b[32maxiom_{(eqM(a)(b) \\to (eqM(b)(c) \\to eqM(a)(c)))}\u001b[39m,\n",
       "          \u001b[32m0.047619047619047616\u001b[39m\n",
       "        ),\n",
       "        \u001b[33mWeighted\u001b[39m(\u001b[32maxiom_{eqM(mul(e_l)(a))(a)}\u001b[39m, \u001b[32m0.047619047619047616\u001b[39m),\n",
       "        \u001b[33mWeighted\u001b[39m(\u001b[32maxiom_{eqM(mul(a)(e_r))(a)}\u001b[39m, \u001b[32m0.047619047619047616\u001b[39m),\n",
       "        \u001b[33mWeighted\u001b[39m(\u001b[32meqM\u001b[39m, \u001b[32m0.2857142857142857\u001b[39m),\n",
       "        \u001b[33mWeighted\u001b[39m(\u001b[32mmul\u001b[39m, \u001b[32m0.2857142857142857\u001b[39m)\n",
       "      )\n",
       "    ),\n",
       "    \u001b[33mFiniteDistribution\u001b[39m(\n",
       "      \u001b[33mVector\u001b[39m(\n",
       "        \u001b[33mWeighted\u001b[39m(\u001b[32mM\u001b[39m, \u001b[32m0.047619047619047616\u001b[39m),\n",
       "        \u001b[33mWeighted\u001b[39m(\u001b[32mM\u001b[39m, \u001b[32m0.047619047619047616\u001b[39m),\n",
       "        \u001b[33mWeighted\u001b[39m(\u001b[32m(M → (M → M))\u001b[39m, \u001b[32m0.047619047619047616\u001b[39m),\n",
       "        \u001b[33mWeighted\u001b[39m(\u001b[32m(M → (M → 𝒰 ))\u001b[39m, \u001b[32m0.047619047619047616\u001b[39m),\n",
       "        \u001b[33mWeighted\u001b[39m(\u001b[32m∏(a : M){ eqM(a)(a) }\u001b[39m, \u001b[32m0.047619047619047616\u001b[39m),\n",
       "        \u001b[33mWeighted\u001b[39m(\n",
       "          \u001b[32m∏(a : M){ ∏(b : M){ (eqM(a)(b) → eqM(b)(a)) } }\u001b[39m,\n",
       "          \u001b[32m0.047619047619047616\u001b[39m\n",
       "        ),\n",
       "        \u001b[33mWeighted\u001b[39m(\n",
       "          \u001b[32m∏(a : M){ ∏(b : M){ ∏(c : M){ (eqM(a)(b) → (eqM(b)(c) → eqM(a)(c))) } } }\u001b[39m,\n",
       "          \u001b[32m0.047619047619047616\u001b[39m\n",
       "        ),\n",
       "        \u001b[33mWeighted\u001b[39m(\u001b[32m∏(a : M){ eqM(mul(e_l)(a))(a) }\u001b[39m, \u001b[32m0.047619047619047616\u001b[39m),\n",
       "        \u001b[33mWeighted\u001b[39m(\u001b[32m∏(a : M){ eqM(mul(a)(e_r))(a) }\u001b[39m, \u001b[32m0.047619047619047616\u001b[39m),\n",
       "        \u001b[33mWeighted\u001b[39m(\u001b[32m(M → (M → 𝒰 ))\u001b[39m, \u001b[32m0.2857142857142857\u001b[39m),\n",
       "..."
      ]
     },
     "execution_count": 5,
     "metadata": {},
     "output_type": "execute_result"
    }
   ],
   "source": [
    "val lp = LocalProver(ts, tg)"
   ]
  },
  {
   "cell_type": "code",
   "execution_count": 6,
   "metadata": {},
   "outputs": [
    {
     "data": {
      "text/plain": [
       "\u001b[32mimport \u001b[39m\u001b[36mmonix.execution.Scheduler.Implicits.global \u001b[39m"
      ]
     },
     "execution_count": 6,
     "metadata": {},
     "output_type": "execute_result"
    }
   ],
   "source": [
    "import monix.execution.Scheduler.Implicits.global "
   ]
  },
  {
   "cell_type": "code",
   "execution_count": 7,
   "metadata": {},
   "outputs": [
    {
     "data": {
      "text/plain": [
       "\u001b[36mlemT\u001b[39m: \u001b[32mmonix\u001b[39m.\u001b[32meval\u001b[39m.\u001b[32mTask\u001b[39m[\u001b[32mVector\u001b[39m[(\u001b[32mTyp\u001b[39m[\u001b[32mTerm\u001b[39m], \u001b[32mDouble\u001b[39m)]] = \u001b[33mAsync\u001b[39m(\n",
       "  <function2>,\n",
       "  false,\n",
       "  true,\n",
       "  true\n",
       ")"
      ]
     },
     "execution_count": 7,
     "metadata": {},
     "output_type": "execute_result"
    }
   ],
   "source": [
    "val lemT = lp.lemmas"
   ]
  },
  {
   "cell_type": "code",
   "execution_count": 8,
   "metadata": {},
   "outputs": [
    {
     "data": {
      "text/plain": [
       "\u001b[36mlemF\u001b[39m: \u001b[32mmonix\u001b[39m.\u001b[32mexecution\u001b[39m.\u001b[32mCancelableFuture\u001b[39m[\u001b[32mVector\u001b[39m[(\u001b[32mTyp\u001b[39m[\u001b[32mTerm\u001b[39m], \u001b[32mDouble\u001b[39m)]] = \u001b[32m\u001b[33mSuccess\u001b[39m(\n",
       "  \u001b[33mVector\u001b[39m(\n",
       "    (\u001b[32meqM(e_r)(e_r)\u001b[39m, \u001b[32m1.0578745194563616E-4\u001b[39m),\n",
       "    (\u001b[32meqM(e_l)(e_l)\u001b[39m, \u001b[32m1.0578745194563616E-4\u001b[39m),\n",
       "    (\u001b[32meqM(e_l)(mul(e_l)(e_r))\u001b[39m, \u001b[32m3.9209752320968364E-5\u001b[39m),\n",
       "    (\u001b[32meqM(e_l)(mul(e_l)(e_l))\u001b[39m, \u001b[32m3.9209752320968364E-5\u001b[39m),\n",
       "    (\u001b[32meqM(e_r)(mul(e_l)(e_r))\u001b[39m, \u001b[32m3.9209752320968364E-5\u001b[39m),\n",
       "    (\u001b[32meqM(e_r)(mul(e_r)(e_r))\u001b[39m, \u001b[32m3.9209752320968364E-5\u001b[39m),\n",
       "    (\u001b[32meqM(mul(e_l)(e_r))(e_l)\u001b[39m, \u001b[32m1.1673930754169824E-5\u001b[39m),\n",
       "    (\u001b[32meqM(mul(e_l)(e_l))(e_l)\u001b[39m, \u001b[32m1.1673930754169824E-5\u001b[39m),\n",
       "    (\u001b[32meqM(mul(e_l)(e_r))(e_r)\u001b[39m, \u001b[32m1.1673930754169824E-5\u001b[39m),\n",
       "    (\u001b[32meqM(mul(e_r)(e_r))(e_r)\u001b[39m, \u001b[32m1.1673930754169824E-5\u001b[39m)\n",
       "  )\n",
       ")\u001b[39m"
      ]
     },
     "metadata": {},
     "output_type": "display_data"
    }
   ],
   "source": [
    "val lemF = lemT.runToFuture"
   ]
  },
  {
   "cell_type": "code",
   "execution_count": 9,
   "metadata": {},
   "outputs": [
    {
     "data": {
      "text/plain": [
       "\u001b[36mlem\u001b[39m: \u001b[32mTyp\u001b[39m[\u001b[32mTerm\u001b[39m] = \u001b[32meqM(e_l)(mul(e_l)(e_r))\u001b[39m\n",
       "\u001b[36mtangS\u001b[39m: \u001b[32mTermState\u001b[39m = \u001b[33mTermState\u001b[39m(\n",
       "  \u001b[33mFiniteDistribution\u001b[39m(\u001b[33mVector\u001b[39m(\u001b[33mWeighted\u001b[39m(\u001b[32mproof\u001b[39m, \u001b[32m1.0\u001b[39m))),\n",
       "  \u001b[33mFiniteDistribution\u001b[39m(\u001b[33mVector\u001b[39m()),\n",
       "  \u001b[33mVector\u001b[39m(),\n",
       "  \u001b[33mFiniteDistribution\u001b[39m(\u001b[33mVector\u001b[39m()),\n",
       "  \u001b[33mFiniteDistribution\u001b[39m(\u001b[33mVector\u001b[39m()),\n",
       "  Empty\n",
       ")"
      ]
     },
     "execution_count": 9,
     "metadata": {},
     "output_type": "execute_result"
    }
   ],
   "source": [
    "val lem = eqM(l)(op(l)(r))\n",
    "val tangS = ts.tangent(\"proof\" :: lem)"
   ]
  },
  {
   "cell_type": "code",
   "execution_count": 10,
   "metadata": {},
   "outputs": [
    {
     "data": {
      "text/plain": [
       "\u001b[36mgoal\u001b[39m: \u001b[32mTyp\u001b[39m[\u001b[32mTerm\u001b[39m] = \u001b[32meqM(e_l)(e_r)\u001b[39m\n",
       "\u001b[36mlpTangT\u001b[39m: \u001b[32mmonix\u001b[39m.\u001b[32meval\u001b[39m.\u001b[32mTask\u001b[39m[\u001b[32mLocalTangentProver\u001b[39m] = \u001b[33mFlatMap\u001b[39m(\n",
       "  \u001b[33mMap\u001b[39m(\n",
       "    \u001b[33mAsync\u001b[39m(<function2>, false, true, true),\n",
       "    provingground.learning.LocalProver$$Lambda$3055/1967470927@749bd4b2,\n",
       "    \u001b[32m0\u001b[39m\n",
       "  ),\n",
       "  provingground.learning.LocalProver$$Lambda$3056/91428110@151a7801\n",
       ")\n",
       "\u001b[36mtargGoalT\u001b[39m: \u001b[32mmonix\u001b[39m.\u001b[32meval\u001b[39m.\u001b[32mTask\u001b[39m[\u001b[32mDouble\u001b[39m] = \u001b[33mMap\u001b[39m(\n",
       "  \u001b[33mFlatMap\u001b[39m(\n",
       "    \u001b[33mFlatMap\u001b[39m(\n",
       "      \u001b[33mMap\u001b[39m(\n",
       "        \u001b[33mAsync\u001b[39m(<function2>, false, true, true),\n",
       "        provingground.learning.LocalProver$$Lambda$3055/1967470927@749bd4b2,\n",
       "        \u001b[32m0\u001b[39m\n",
       "      ),\n",
       "      provingground.learning.LocalProver$$Lambda$3056/91428110@151a7801\n",
       "    ),\n",
       "    ammonite.$sess.cmd9$Helper$$Lambda$3057/2060264848@6f468bdc\n",
       "  ),\n",
       "  ammonite.$sess.cmd9$Helper$$Lambda$3058/1264621820@3985c81c,\n",
       "  \u001b[32m0\u001b[39m\n",
       ")"
      ]
     },
     "execution_count": 10,
     "metadata": {},
     "output_type": "execute_result"
    }
   ],
   "source": [
    "val goal = eqM(l)(r)\n",
    "val lpTangT  = lp.distTangentProver(FiniteDistribution.unif(\"proof\" :: lem))\n",
    "val targGoalT = lpTangT.flatMap(lpt => lpt.theoremsByStatement).map(_(goal))"
   ]
  },
  {
   "cell_type": "code",
   "execution_count": 11,
   "metadata": {},
   "outputs": [
    {
     "data": {
      "text/plain": [
       "\u001b[36mtargGoalF\u001b[39m: \u001b[32mmonix\u001b[39m.\u001b[32mexecution\u001b[39m.\u001b[32mCancelableFuture\u001b[39m[\u001b[32mDouble\u001b[39m] = \u001b[32m\u001b[33mSuccess\u001b[39m(\u001b[32m0.0358205554070143\u001b[39m)\u001b[39m"
      ]
     },
     "metadata": {},
     "output_type": "display_data"
    }
   ],
   "source": [
    "val targGoalF = targGoalT.runToFuture"
   ]
  },
  {
   "cell_type": "markdown",
   "metadata": {},
   "source": [
    "## Conclusions\n",
    "\n",
    "* When we draw attention to what we want in an extreme way, at least then we get the result.\n",
    "* A warning is that lemmas were misidentified here."
   ]
  },
  {
   "cell_type": "code",
   "execution_count": 18,
   "metadata": {},
   "outputs": [
    {
     "data": {
      "text/plain": [
       "\u001b[36mtg1\u001b[39m: \u001b[32mTermGenParams\u001b[39m = \u001b[33mTermGenParams\u001b[39m(\n",
       "  \u001b[32m0.1\u001b[39m,\n",
       "  \u001b[32m0.1\u001b[39m,\n",
       "  \u001b[32m0.0\u001b[39m,\n",
       "  \u001b[32m0.0\u001b[39m,\n",
       "  \u001b[32m0.0\u001b[39m,\n",
       "  \u001b[32m0.0\u001b[39m,\n",
       "  \u001b[32m0.0\u001b[39m,\n",
       "  \u001b[32m0.0\u001b[39m,\n",
       "  \u001b[32m0.0\u001b[39m,\n",
       "  \u001b[32m0.0\u001b[39m,\n",
       "  \u001b[32m0.0\u001b[39m,\n",
       "  \u001b[32m0.0\u001b[39m,\n",
       "  \u001b[32m0.3\u001b[39m,\n",
       "  \u001b[32m0.7\u001b[39m,\n",
       "  \u001b[32m0.5\u001b[39m,\n",
       "  \u001b[32m0.0\u001b[39m,\n",
       "  \u001b[32m0.0\u001b[39m,\n",
       "  \u001b[32m0.0\u001b[39m\n",
       ")"
      ]
     },
     "execution_count": 18,
     "metadata": {},
     "output_type": "execute_result"
    }
   ],
   "source": [
    "val tg1 = TermGenParams.zero.copy(appW = 0.1, unAppW = 0.1)"
   ]
  },
  {
   "cell_type": "code",
   "execution_count": 19,
   "metadata": {},
   "outputs": [
    {
     "data": {
      "text/plain": [
       "\u001b[36mlp1\u001b[39m: \u001b[32mLocalProver\u001b[39m = \u001b[33mLocalProver\u001b[39m(\n",
       "  \u001b[33mTermState\u001b[39m(\n",
       "    \u001b[33mFiniteDistribution\u001b[39m(\n",
       "      \u001b[33mVector\u001b[39m(\n",
       "        \u001b[33mWeighted\u001b[39m(\u001b[32me_l\u001b[39m, \u001b[32m0.047619047619047616\u001b[39m),\n",
       "        \u001b[33mWeighted\u001b[39m(\u001b[32me_r\u001b[39m, \u001b[32m0.047619047619047616\u001b[39m),\n",
       "        \u001b[33mWeighted\u001b[39m(\u001b[32mmul\u001b[39m, \u001b[32m0.047619047619047616\u001b[39m),\n",
       "        \u001b[33mWeighted\u001b[39m(\u001b[32meqM\u001b[39m, \u001b[32m0.047619047619047616\u001b[39m),\n",
       "        \u001b[33mWeighted\u001b[39m(\u001b[32maxiom_{eqM(a)(a)}\u001b[39m, \u001b[32m0.047619047619047616\u001b[39m),\n",
       "        \u001b[33mWeighted\u001b[39m(\u001b[32maxiom_{(eqM(a)(b) \\to eqM(b)(a))}\u001b[39m, \u001b[32m0.047619047619047616\u001b[39m),\n",
       "        \u001b[33mWeighted\u001b[39m(\n",
       "          \u001b[32maxiom_{(eqM(a)(b) \\to (eqM(b)(c) \\to eqM(a)(c)))}\u001b[39m,\n",
       "          \u001b[32m0.047619047619047616\u001b[39m\n",
       "        ),\n",
       "        \u001b[33mWeighted\u001b[39m(\u001b[32maxiom_{eqM(mul(e_l)(a))(a)}\u001b[39m, \u001b[32m0.047619047619047616\u001b[39m),\n",
       "        \u001b[33mWeighted\u001b[39m(\u001b[32maxiom_{eqM(mul(a)(e_r))(a)}\u001b[39m, \u001b[32m0.047619047619047616\u001b[39m),\n",
       "        \u001b[33mWeighted\u001b[39m(\u001b[32meqM\u001b[39m, \u001b[32m0.2857142857142857\u001b[39m),\n",
       "        \u001b[33mWeighted\u001b[39m(\u001b[32mmul\u001b[39m, \u001b[32m0.2857142857142857\u001b[39m)\n",
       "      )\n",
       "    ),\n",
       "    \u001b[33mFiniteDistribution\u001b[39m(\n",
       "      \u001b[33mVector\u001b[39m(\n",
       "        \u001b[33mWeighted\u001b[39m(\u001b[32mM\u001b[39m, \u001b[32m0.047619047619047616\u001b[39m),\n",
       "        \u001b[33mWeighted\u001b[39m(\u001b[32mM\u001b[39m, \u001b[32m0.047619047619047616\u001b[39m),\n",
       "        \u001b[33mWeighted\u001b[39m(\u001b[32m(M → (M → M))\u001b[39m, \u001b[32m0.047619047619047616\u001b[39m),\n",
       "        \u001b[33mWeighted\u001b[39m(\u001b[32m(M → (M → 𝒰 ))\u001b[39m, \u001b[32m0.047619047619047616\u001b[39m),\n",
       "        \u001b[33mWeighted\u001b[39m(\u001b[32m∏(a : M){ eqM(a)(a) }\u001b[39m, \u001b[32m0.047619047619047616\u001b[39m),\n",
       "        \u001b[33mWeighted\u001b[39m(\n",
       "          \u001b[32m∏(a : M){ ∏(b : M){ (eqM(a)(b) → eqM(b)(a)) } }\u001b[39m,\n",
       "          \u001b[32m0.047619047619047616\u001b[39m\n",
       "        ),\n",
       "        \u001b[33mWeighted\u001b[39m(\n",
       "          \u001b[32m∏(a : M){ ∏(b : M){ ∏(c : M){ (eqM(a)(b) → (eqM(b)(c) → eqM(a)(c))) } } }\u001b[39m,\n",
       "          \u001b[32m0.047619047619047616\u001b[39m\n",
       "        ),\n",
       "        \u001b[33mWeighted\u001b[39m(\u001b[32m∏(a : M){ eqM(mul(e_l)(a))(a) }\u001b[39m, \u001b[32m0.047619047619047616\u001b[39m),\n",
       "        \u001b[33mWeighted\u001b[39m(\u001b[32m∏(a : M){ eqM(mul(a)(e_r))(a) }\u001b[39m, \u001b[32m0.047619047619047616\u001b[39m),\n",
       "        \u001b[33mWeighted\u001b[39m(\u001b[32m(M → (M → 𝒰 ))\u001b[39m, \u001b[32m0.2857142857142857\u001b[39m),\n",
       "..."
      ]
     },
     "execution_count": 19,
     "metadata": {},
     "output_type": "execute_result"
    }
   ],
   "source": [
    "val lp1 = LocalProver(ts, tg1)"
   ]
  },
  {
   "cell_type": "code",
   "execution_count": 20,
   "metadata": {},
   "outputs": [
    {
     "data": {
      "text/plain": [
       "\u001b[36mlemT1\u001b[39m: \u001b[32mmonix\u001b[39m.\u001b[32meval\u001b[39m.\u001b[32mTask\u001b[39m[\u001b[32mVector\u001b[39m[(\u001b[32mTyp\u001b[39m[\u001b[32mTerm\u001b[39m], \u001b[32mDouble\u001b[39m)]] = \u001b[33mAsync\u001b[39m(\n",
       "  <function2>,\n",
       "  false,\n",
       "  true,\n",
       "  true\n",
       ")"
      ]
     },
     "execution_count": 20,
     "metadata": {},
     "output_type": "execute_result"
    }
   ],
   "source": [
    "val lemT1 = lp1.lemmas"
   ]
  },
  {
   "cell_type": "code",
   "execution_count": 21,
   "metadata": {},
   "outputs": [
    {
     "data": {
      "text/plain": [
       "\u001b[36mlemF1\u001b[39m: \u001b[32mmonix\u001b[39m.\u001b[32mexecution\u001b[39m.\u001b[32mCancelableFuture\u001b[39m[\u001b[32mVector\u001b[39m[(\u001b[32mTyp\u001b[39m[\u001b[32mTerm\u001b[39m], \u001b[32mDouble\u001b[39m)]] = \u001b[32m\u001b[33mSuccess\u001b[39m(\n",
       "  \u001b[33mVector\u001b[39m(\n",
       "    (\u001b[32meqM(e_r)(e_r)\u001b[39m, \u001b[32m0.0027509184472828325\u001b[39m),\n",
       "    (\u001b[32meqM(e_l)(e_l)\u001b[39m, \u001b[32m0.0027509184472828325\u001b[39m),\n",
       "    (\u001b[32meqM(e_l)(mul(e_l)(e_r))\u001b[39m, \u001b[32m0.0012526844961492322\u001b[39m),\n",
       "    (\u001b[32meqM(e_l)(mul(e_l)(e_l))\u001b[39m, \u001b[32m0.0012526844961492322\u001b[39m),\n",
       "    (\u001b[32meqM(e_r)(mul(e_l)(e_r))\u001b[39m, \u001b[32m0.0012526844961492322\u001b[39m),\n",
       "    (\u001b[32meqM(e_r)(mul(e_r)(e_r))\u001b[39m, \u001b[32m0.0012526844961492322\u001b[39m)\n",
       "  )\n",
       ")\u001b[39m"
      ]
     },
     "metadata": {},
     "output_type": "display_data"
    }
   ],
   "source": [
    "val lemF1 = lemT1.runToFuture"
   ]
  },
  {
   "cell_type": "code",
   "execution_count": 22,
   "metadata": {},
   "outputs": [
    {
     "data": {
      "text/plain": [
       "\u001b[36mlpTangT1\u001b[39m: \u001b[32mmonix\u001b[39m.\u001b[32meval\u001b[39m.\u001b[32mTask\u001b[39m[\u001b[32mLocalTangentProver\u001b[39m] = \u001b[33mFlatMap\u001b[39m(\n",
       "  \u001b[33mMap\u001b[39m(\n",
       "    \u001b[33mAsync\u001b[39m(<function2>, false, true, true),\n",
       "    provingground.learning.LocalProver$$Lambda$3055/1967470927@383b4579,\n",
       "    \u001b[32m0\u001b[39m\n",
       "  ),\n",
       "  provingground.learning.LocalProver$$Lambda$3056/91428110@54a814f7\n",
       ")\n",
       "\u001b[36mtargGoalT1\u001b[39m: \u001b[32mmonix\u001b[39m.\u001b[32meval\u001b[39m.\u001b[32mTask\u001b[39m[\u001b[32mDouble\u001b[39m] = \u001b[33mMap\u001b[39m(\n",
       "  \u001b[33mFlatMap\u001b[39m(\n",
       "    \u001b[33mFlatMap\u001b[39m(\n",
       "      \u001b[33mMap\u001b[39m(\n",
       "        \u001b[33mAsync\u001b[39m(<function2>, false, true, true),\n",
       "        provingground.learning.LocalProver$$Lambda$3055/1967470927@383b4579,\n",
       "        \u001b[32m0\u001b[39m\n",
       "      ),\n",
       "      provingground.learning.LocalProver$$Lambda$3056/91428110@54a814f7\n",
       "    ),\n",
       "    ammonite.$sess.cmd21$Helper$$Lambda$3234/916371667@3e84a7d0\n",
       "  ),\n",
       "  ammonite.$sess.cmd21$Helper$$Lambda$3235/315745996@3dbbc5b4,\n",
       "  \u001b[32m0\u001b[39m\n",
       ")"
      ]
     },
     "execution_count": 22,
     "metadata": {},
     "output_type": "execute_result"
    }
   ],
   "source": [
    "val lpTangT1  = lp1.distTangentProver(FiniteDistribution.unif(\"proof\" :: lem))\n",
    "val targGoalT1 = lpTangT1.flatMap(lpt => lpt.theoremsByStatement).map(_(goal))"
   ]
  },
  {
   "cell_type": "code",
   "execution_count": 23,
   "metadata": {},
   "outputs": [
    {
     "data": {
      "text/plain": [
       "\u001b[36mtargGoalF1\u001b[39m: \u001b[32mmonix\u001b[39m.\u001b[32mexecution\u001b[39m.\u001b[32mCancelableFuture\u001b[39m[\u001b[32mDouble\u001b[39m] = \u001b[32m\u001b[33mSuccess\u001b[39m(\u001b[32m0.03607619269409383\u001b[39m)\u001b[39m"
      ]
     },
     "metadata": {},
     "output_type": "display_data"
    }
   ],
   "source": [
    "val targGoalF1 = targGoalT1.runToFuture"
   ]
  },
  {
   "cell_type": "markdown",
   "metadata": {},
   "source": [
    "## Conclusions: round two\n",
    "\n",
    "* Having both applications and unified ones is a reasonable thing to try.\n",
    "* The theorem was proved in this case.\n",
    "* However lemmas were again not identified properly"
   ]
  }
 ],
 "metadata": {
  "kernelspec": {
   "display_name": "Scala",
   "language": "scala",
   "name": "scala"
  },
  "language_info": {
   "codemirror_mode": "text/x-scala",
   "file_extension": ".scala",
   "mimetype": "text/x-scala",
   "name": "scala",
   "nbconvert_exporter": "script",
   "version": "2.12.8"
  }
 },
 "nbformat": 4,
 "nbformat_minor": 2
}
