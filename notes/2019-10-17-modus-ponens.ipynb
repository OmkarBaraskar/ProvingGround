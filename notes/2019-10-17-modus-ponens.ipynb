{
 "cells": [
  {
   "cell_type": "markdown",
   "metadata": {},
   "source": [
    "## Modus Ponens: statement, proof from goal, formal equations\n",
    "\n",
    "* we repeat the previous search for the statement of modus ponens\n",
    "* we then add this as a goal and look for a proof\n",
    "* given the proof, we look for formal equations and add these to the expression eval\n",
    "* finally check whether with these equations but without the goal, we get a proof of modus ponens. If not, figure out what fails."
   ]
  },
  {
   "cell_type": "code",
   "execution_count": 1,
   "metadata": {},
   "outputs": [
    {
     "data": {
      "text/plain": [
       "\u001b[32mimport \u001b[39m\u001b[36m$cp.$                                              \n",
       "\u001b[39m\n",
       "\u001b[32mimport \u001b[39m\u001b[36mprovingground._ , interface._, HoTT._, learning._ \n",
       "\u001b[39m"
      ]
     },
     "execution_count": 1,
     "metadata": {},
     "output_type": "execute_result"
    }
   ],
   "source": [
    "import $cp.bin.`provingground-core-jvm-b8c7356944.fat.jar`\n",
    "import provingground._ , interface._, HoTT._, learning._ \n",
    "repl.pprinter() = {\n",
    "  val p = repl.pprinter()\n",
    "  p.copy(\n",
    "    additionalHandlers = p.additionalHandlers.orElse {\n",
    "      translation.FansiShow.fansiHandler\n",
    "    }\n",
    "  )\n",
    "}\n"
   ]
  },
  {
   "cell_type": "code",
   "execution_count": 2,
   "metadata": {},
   "outputs": [
    {
     "data": {
      "text/plain": [
       "\u001b[36mA\u001b[39m: \u001b[32mTyp\u001b[39m[\u001b[32mTerm\u001b[39m] = \u001b[32mA\u001b[39m\n",
       "\u001b[36mB\u001b[39m: \u001b[32mTyp\u001b[39m[\u001b[32mTerm\u001b[39m] = \u001b[32mB\u001b[39m\n",
       "\u001b[36mts\u001b[39m: \u001b[32mTermState\u001b[39m = \u001b[33mTermState\u001b[39m(\n",
       "  \u001b[33mFiniteDistribution\u001b[39m(\u001b[33mVector\u001b[39m(\u001b[33mWeighted\u001b[39m(\u001b[32mA\u001b[39m, \u001b[32m0.5\u001b[39m), \u001b[33mWeighted\u001b[39m(\u001b[32mB\u001b[39m, \u001b[32m0.5\u001b[39m))),\n",
       "  \u001b[33mFiniteDistribution\u001b[39m(\n",
       "    \u001b[33mVector\u001b[39m(\n",
       "      \u001b[33mWeighted\u001b[39m(\u001b[32mA\u001b[39m, \u001b[32m0.3333333333333333\u001b[39m),\n",
       "      \u001b[33mWeighted\u001b[39m(\u001b[32mB\u001b[39m, \u001b[32m0.3333333333333333\u001b[39m),\n",
       "      \u001b[33mWeighted\u001b[39m(\u001b[32m𝒰 \u001b[39m, \u001b[32m0.3333333333333333\u001b[39m)\n",
       "    )\n",
       "  ),\n",
       "  \u001b[33mVector\u001b[39m(\u001b[32mA\u001b[39m, \u001b[32mB\u001b[39m),\n",
       "  \u001b[33mFiniteDistribution\u001b[39m(\u001b[33mVector\u001b[39m()),\n",
       "  \u001b[33mFiniteDistribution\u001b[39m(\u001b[33mVector\u001b[39m()),\n",
       "  Empty\n",
       ")\n",
       "\u001b[36mMPAB\u001b[39m: \u001b[32mFuncTyp\u001b[39m[\u001b[32mTerm\u001b[39m, \u001b[32mFunc\u001b[39m[\u001b[32mFunc\u001b[39m[\u001b[32mTerm\u001b[39m, \u001b[32mTerm\u001b[39m], \u001b[32mTerm\u001b[39m]] = \u001b[32m(A → ((A → B) → B))\u001b[39m\n",
       "\u001b[36mMP\u001b[39m: \u001b[32mGenFuncTyp\u001b[39m[\u001b[32mTyp\u001b[39m[\u001b[32mTerm\u001b[39m], \u001b[32mFuncLike\u001b[39m[\u001b[32mTyp\u001b[39m[\u001b[32mTerm\u001b[39m], \u001b[32mFunc\u001b[39m[\u001b[32mTerm\u001b[39m, \u001b[32mFunc\u001b[39m[\u001b[32mFunc\u001b[39m[\u001b[32mTerm\u001b[39m, \u001b[32mTerm\u001b[39m], \u001b[32mTerm\u001b[39m]]]] = \u001b[32m∏(A : 𝒰 ){ ∏(B : 𝒰 ){ (A → ((A → B) → B)) } }\u001b[39m"
      ]
     },
     "execution_count": 2,
     "metadata": {},
     "output_type": "execute_result"
    }
   ],
   "source": [
    "val A = \"A\" :: Type\n",
    "val B = \"B\" :: Type\n",
    "\n",
    "val ts = TermState(FiniteDistribution.unif(A, B), FiniteDistribution.unif(A, B, Type), vars = Vector(A, B))\n",
    "\n",
    "val MPAB = A ->: (A ->: B) ->: B\n",
    "val MP = A ~>: (B ~>: MPAB)"
   ]
  },
  {
   "cell_type": "code",
   "execution_count": 3,
   "metadata": {},
   "outputs": [
    {
     "data": {
      "text/plain": [
       "\u001b[36mlp1\u001b[39m: \u001b[32mLocalProver\u001b[39m = \u001b[33mLocalProver\u001b[39m(\n",
       "  \u001b[33mTermState\u001b[39m(\n",
       "    \u001b[33mFiniteDistribution\u001b[39m(\u001b[33mVector\u001b[39m(\u001b[33mWeighted\u001b[39m(\u001b[32mA\u001b[39m, \u001b[32m0.5\u001b[39m), \u001b[33mWeighted\u001b[39m(\u001b[32mB\u001b[39m, \u001b[32m0.5\u001b[39m))),\n",
       "    \u001b[33mFiniteDistribution\u001b[39m(\n",
       "      \u001b[33mVector\u001b[39m(\n",
       "        \u001b[33mWeighted\u001b[39m(\u001b[32mA\u001b[39m, \u001b[32m0.3333333333333333\u001b[39m),\n",
       "        \u001b[33mWeighted\u001b[39m(\u001b[32mB\u001b[39m, \u001b[32m0.3333333333333333\u001b[39m),\n",
       "        \u001b[33mWeighted\u001b[39m(\u001b[32m𝒰 \u001b[39m, \u001b[32m0.3333333333333333\u001b[39m)\n",
       "      )\n",
       "    ),\n",
       "    \u001b[33mVector\u001b[39m(\u001b[32mA\u001b[39m, \u001b[32mB\u001b[39m),\n",
       "    \u001b[33mFiniteDistribution\u001b[39m(\u001b[33mVector\u001b[39m()),\n",
       "    \u001b[33mFiniteDistribution\u001b[39m(\u001b[33mVector\u001b[39m()),\n",
       "    Empty\n",
       "  ),\n",
       "  \u001b[33mTermGenParams\u001b[39m(\n",
       "    \u001b[32m0.1\u001b[39m,\n",
       "    \u001b[32m0.1\u001b[39m,\n",
       "    \u001b[32m0.1\u001b[39m,\n",
       "    \u001b[32m0.1\u001b[39m,\n",
       "    \u001b[32m0.1\u001b[39m,\n",
       "    \u001b[32m0.05\u001b[39m,\n",
       "    \u001b[32m0.05\u001b[39m,\n",
       "    \u001b[32m0.0\u001b[39m,\n",
       "    \u001b[32m0.0\u001b[39m,\n",
       "    \u001b[32m0.0\u001b[39m,\n",
       "    \u001b[32m0.0\u001b[39m,\n",
       "    \u001b[32m0.0\u001b[39m,\n",
       "    \u001b[32m0.3\u001b[39m,\n",
       "    \u001b[32m0.7\u001b[39m,\n",
       "    \u001b[32m0.5\u001b[39m,\n",
       "    \u001b[32m0.0\u001b[39m,\n",
       "    \u001b[32m0.0\u001b[39m,\n",
       "    \u001b[32m0.0\u001b[39m\n",
       "  ),\n",
       "  \u001b[32m1.0E-5\u001b[39m,\n",
       "  12 minutes,\n",
       "  \u001b[32m1.01\u001b[39m,\n",
       "  \u001b[32m1.0\u001b[39m,\n",
       "..."
      ]
     },
     "execution_count": 3,
     "metadata": {},
     "output_type": "execute_result"
    }
   ],
   "source": [
    "val lp1 = LocalProver(ts, tg = TermGenParams(sigmaW = 0), relativeEval = true).sharpen(10)"
   ]
  },
  {
   "cell_type": "code",
   "execution_count": 4,
   "metadata": {},
   "outputs": [
    {
     "data": {
      "text/html": [
       "<div class=\"jp-RenderedText\">\n",
       "<pre><code><span style=\"color: rgb(0, 187, 0)\"><span class=\"ansi-green-fg\">import </span></span><span style=\"color: rgb(0, 187, 187)\"><span class=\"ansi-cyan-fg\">monix.execution.Scheduler.Implicits.global\n",
       "</span></span>\n",
       "<span style=\"color: rgb(0, 187, 187)\"><span class=\"ansi-cyan-fg\">evT1</span></span>: <span style=\"color: rgb(0, 187, 0)\"><span class=\"ansi-green-fg\">monix</span></span>.<span style=\"color: rgb(0, 187, 0)\"><span class=\"ansi-green-fg\">eval</span></span>.<span style=\"color: rgb(0, 187, 0)\"><span class=\"ansi-green-fg\">Task</span></span>[<span style=\"color: rgb(0, 187, 0)\"><span class=\"ansi-green-fg\">ExpressionEval</span></span>] = <span style=\"color: yellow\"><span class=\"ansi-yellow-fg\">Async</span></span>(&lt;function2&gt;, false, true, true)\n",
       "<span style=\"color: rgb(0, 187, 187)\"><span class=\"ansi-cyan-fg\">res3_2</span></span>: <span style=\"color: rgb(0, 187, 0)\"><span class=\"ansi-green-fg\">monix</span></span>.<span style=\"color: rgb(0, 187, 0)\"><span class=\"ansi-green-fg\">execution</span></span>.<span style=\"color: rgb(0, 187, 0)\"><span class=\"ansi-green-fg\">CancelableFuture</span></span>[<span style=\"color: rgb(0, 187, 0)\"><span class=\"ansi-green-fg\">Double</span></span>] = <span style=\"color: rgb(0, 187, 0)\"><span class=\"ansi-green-fg\"><style>@keyframes fadein { from { opacity: 0; } to { opacity: 1; } }</style><span style=\"animation: fadein 2s;\"><span style=\"color: yellow\"><span class=\"ansi-yellow-fg\">Success</span></span>(<span style=\"color: rgb(0, 187, 0)\"><span class=\"ansi-green-fg\">7.173348108620456E-4</span></span>)</span></span></span></code></pre>\n",
       "</div>"
      ],
      "text/plain": [
       "\u001b[32mimport \u001b[39m\u001b[36mmonix.execution.Scheduler.Implicits.global\n",
       "\u001b[39m\n",
       "\u001b[36mevT1\u001b[39m: \u001b[32mmonix\u001b[39m.\u001b[32meval\u001b[39m.\u001b[32mTask\u001b[39m[\u001b[32mExpressionEval\u001b[39m] = \u001b[33mAsync\u001b[39m(<function2>, false, true, true)\n",
       "\u001b[36mres3_2\u001b[39m: \u001b[32mmonix\u001b[39m.\u001b[32mexecution\u001b[39m.\u001b[32mCancelableFuture\u001b[39m[\u001b[32mDouble\u001b[39m] = \u001b[32m\u001b[33mSuccess\u001b[39m(\u001b[32m7.173348108620456E-4\u001b[39m)\u001b[39m"
      ]
     },
     "metadata": {},
     "output_type": "display_data"
    }
   ],
   "source": [
    "import monix.execution.Scheduler.Implicits.global\n",
    "val evT1 = lp1.expressionEval\n",
    "evT1.map(_.finalTyps(MP)).runToFuture"
   ]
  },
  {
   "cell_type": "code",
   "execution_count": 5,
   "metadata": {},
   "outputs": [
    {
     "data": {
      "text/html": [
       "<div class=\"jp-RenderedText\">\n",
       "<pre><code><span style=\"color: rgb(0, 187, 187)\"><span class=\"ansi-cyan-fg\">res4</span></span>: <span style=\"color: rgb(0, 187, 0)\"><span class=\"ansi-green-fg\">monix</span></span>.<span style=\"color: rgb(0, 187, 0)\"><span class=\"ansi-green-fg\">execution</span></span>.<span style=\"color: rgb(0, 187, 0)\"><span class=\"ansi-green-fg\">CancelableFuture</span></span>[<span style=\"color: rgb(0, 187, 0)\"><span class=\"ansi-green-fg\">FiniteDistribution</span></span>[<span style=\"color: rgb(0, 187, 0)\"><span class=\"ansi-green-fg\">Term</span></span>]] = <span style=\"color: rgb(0, 187, 0)\"><span class=\"ansi-green-fg\"><style>@keyframes fadein { from { opacity: 0; } to { opacity: 1; } }</style><span style=\"animation: fadein 2s;\"><span style=\"color: yellow\"><span class=\"ansi-yellow-fg\">Success</span></span>(<span style=\"color: yellow\"><span class=\"ansi-yellow-fg\">FiniteDistribution</span></span>(<span style=\"color: yellow\"><span class=\"ansi-yellow-fg\">Vector</span></span>()))</span></span></span></code></pre>\n",
       "</div>"
      ],
      "text/plain": [
       "\u001b[36mres4\u001b[39m: \u001b[32mmonix\u001b[39m.\u001b[32mexecution\u001b[39m.\u001b[32mCancelableFuture\u001b[39m[\u001b[32mFiniteDistribution\u001b[39m[\u001b[32mTerm\u001b[39m]] = \u001b[32m\u001b[33mSuccess\u001b[39m(\u001b[33mFiniteDistribution\u001b[39m(\u001b[33mVector\u001b[39m()))\u001b[39m"
      ]
     },
     "metadata": {},
     "output_type": "display_data"
    }
   ],
   "source": [
    "evT1.map(_.finalTerms.filter(_.typ == MP)).runToFuture"
   ]
  },
  {
   "cell_type": "code",
   "execution_count": 6,
   "metadata": {},
   "outputs": [
    {
     "data": {
      "text/plain": [
       "\u001b[36mts2\u001b[39m: \u001b[32mTermState\u001b[39m = \u001b[33mTermState\u001b[39m(\n",
       "  \u001b[33mFiniteDistribution\u001b[39m(\u001b[33mVector\u001b[39m()),\n",
       "  \u001b[33mFiniteDistribution\u001b[39m(\u001b[33mVector\u001b[39m(\u001b[33mWeighted\u001b[39m(\u001b[32m𝒰 \u001b[39m, \u001b[32m1.0\u001b[39m))),\n",
       "  \u001b[33mVector\u001b[39m(),\n",
       "  \u001b[33mFiniteDistribution\u001b[39m(\u001b[33mVector\u001b[39m()),\n",
       "  \u001b[33mFiniteDistribution\u001b[39m(\n",
       "    \u001b[33mVector\u001b[39m(\u001b[33mWeighted\u001b[39m(\u001b[32m∏(A : 𝒰 ){ ∏(B : 𝒰 ){ (A → ((A → B) → B)) } }\u001b[39m, \u001b[32m1.0\u001b[39m))\n",
       "  ),\n",
       "  Empty\n",
       ")"
      ]
     },
     "execution_count": 6,
     "metadata": {},
     "output_type": "execute_result"
    }
   ],
   "source": [
    "val ts2 = TermState(FiniteDistribution(), FiniteDistribution.unif(Type), goals = FiniteDistribution.unif(MP))"
   ]
  },
  {
   "cell_type": "code",
   "execution_count": 7,
   "metadata": {},
   "outputs": [
    {
     "data": {
      "text/plain": [
       "\u001b[36mlp2\u001b[39m: \u001b[32mLocalProver\u001b[39m = \u001b[33mLocalProver\u001b[39m(\n",
       "  \u001b[33mTermState\u001b[39m(\n",
       "    \u001b[33mFiniteDistribution\u001b[39m(\u001b[33mVector\u001b[39m()),\n",
       "    \u001b[33mFiniteDistribution\u001b[39m(\u001b[33mVector\u001b[39m(\u001b[33mWeighted\u001b[39m(\u001b[32m𝒰 \u001b[39m, \u001b[32m1.0\u001b[39m))),\n",
       "    \u001b[33mVector\u001b[39m(),\n",
       "    \u001b[33mFiniteDistribution\u001b[39m(\u001b[33mVector\u001b[39m()),\n",
       "    \u001b[33mFiniteDistribution\u001b[39m(\n",
       "      \u001b[33mVector\u001b[39m(\u001b[33mWeighted\u001b[39m(\u001b[32m∏(A : 𝒰 ){ ∏(B : 𝒰 ){ (A → ((A → B) → B)) } }\u001b[39m, \u001b[32m1.0\u001b[39m))\n",
       "    ),\n",
       "    Empty\n",
       "  ),\n",
       "  \u001b[33mTermGenParams\u001b[39m(\n",
       "    \u001b[32m0.1\u001b[39m,\n",
       "    \u001b[32m0.1\u001b[39m,\n",
       "    \u001b[32m0.1\u001b[39m,\n",
       "    \u001b[32m0.1\u001b[39m,\n",
       "    \u001b[32m0.1\u001b[39m,\n",
       "    \u001b[32m0.05\u001b[39m,\n",
       "    \u001b[32m0.05\u001b[39m,\n",
       "    \u001b[32m0.0\u001b[39m,\n",
       "    \u001b[32m0.0\u001b[39m,\n",
       "    \u001b[32m0.0\u001b[39m,\n",
       "    \u001b[32m0.0\u001b[39m,\n",
       "    \u001b[32m0.0\u001b[39m,\n",
       "    \u001b[32m0.3\u001b[39m,\n",
       "    \u001b[32m0.7\u001b[39m,\n",
       "    \u001b[32m0.5\u001b[39m,\n",
       "    \u001b[32m0.0\u001b[39m,\n",
       "    \u001b[32m0.0\u001b[39m,\n",
       "    \u001b[32m0.0\u001b[39m\n",
       "  ),\n",
       "  \u001b[32m1.0E-5\u001b[39m,\n",
       "  12 minutes,\n",
       "  \u001b[32m1.01\u001b[39m,\n",
       "  \u001b[32m1.0\u001b[39m,\n",
       "  \u001b[32m10000\u001b[39m,\n",
       "  \u001b[32m10\u001b[39m,\n",
       "  \u001b[32m1.0\u001b[39m,\n",
       "  \u001b[32m1.0\u001b[39m,\n",
       "..."
      ]
     },
     "execution_count": 7,
     "metadata": {},
     "output_type": "execute_result"
    }
   ],
   "source": [
    "val lp2 = LocalProver(ts2, tg = TermGenParams(sigmaW = 0), relativeEval = true).sharpen(10)"
   ]
  },
  {
   "cell_type": "code",
   "execution_count": 8,
   "metadata": {},
   "outputs": [
    {
     "data": {
      "text/html": [
       "<div class=\"jp-RenderedText\">\n",
       "<pre><code><span style=\"color: rgb(0, 187, 187)\"><span class=\"ansi-cyan-fg\">evT2</span></span>: <span style=\"color: rgb(0, 187, 0)\"><span class=\"ansi-green-fg\">monix</span></span>.<span style=\"color: rgb(0, 187, 0)\"><span class=\"ansi-green-fg\">eval</span></span>.<span style=\"color: rgb(0, 187, 0)\"><span class=\"ansi-green-fg\">Task</span></span>[<span style=\"color: rgb(0, 187, 0)\"><span class=\"ansi-green-fg\">ExpressionEval</span></span>] = <span style=\"color: yellow\"><span class=\"ansi-yellow-fg\">Async</span></span>(&lt;function2&gt;, false, true, true)\n",
       "<span style=\"color: rgb(0, 187, 187)\"><span class=\"ansi-cyan-fg\">res7_1</span></span>: <span style=\"color: rgb(0, 187, 0)\"><span class=\"ansi-green-fg\">monix</span></span>.<span style=\"color: rgb(0, 187, 0)\"><span class=\"ansi-green-fg\">execution</span></span>.<span style=\"color: rgb(0, 187, 0)\"><span class=\"ansi-green-fg\">CancelableFuture</span></span>[<span style=\"color: rgb(0, 187, 0)\"><span class=\"ansi-green-fg\">FiniteDistribution</span></span>[<span style=\"color: rgb(0, 187, 0)\"><span class=\"ansi-green-fg\">Term</span></span>]] = <span style=\"color: rgb(0, 187, 0)\"><span class=\"ansi-green-fg\"><style>@keyframes fadein { from { opacity: 0; } to { opacity: 1; } }</style><span style=\"animation: fadein 2s;\"><span style=\"color: yellow\"><span class=\"ansi-yellow-fg\">Success</span></span>(\n",
       "  <span style=\"color: yellow\"><span class=\"ansi-yellow-fg\">FiniteDistribution</span></span>(\n",
       "    <span style=\"color: yellow\"><span class=\"ansi-yellow-fg\">Vector</span></span>(\n",
       "      <span style=\"color: yellow\"><span class=\"ansi-yellow-fg\">Weighted</span></span>(\n",
       "        <span style=\"color: rgb(0, 187, 0)\"><span class=\"ansi-green-fg\">(@a : 𝒰 ) ↦ (@b : 𝒰 ) ↦ (@a : @a) ↦ (@a : (@a → @b)) ↦ @a(@a)</span></span>,\n",
       "        <span style=\"color: rgb(0, 187, 0)\"><span class=\"ansi-green-fg\">5.060827243615959E-4</span></span>\n",
       "      )\n",
       "    )\n",
       "  )\n",
       ")</span></span></span></code></pre>\n",
       "</div>"
      ],
      "text/plain": [
       "\u001b[36mevT2\u001b[39m: \u001b[32mmonix\u001b[39m.\u001b[32meval\u001b[39m.\u001b[32mTask\u001b[39m[\u001b[32mExpressionEval\u001b[39m] = \u001b[33mAsync\u001b[39m(<function2>, false, true, true)\n",
       "\u001b[36mres7_1\u001b[39m: \u001b[32mmonix\u001b[39m.\u001b[32mexecution\u001b[39m.\u001b[32mCancelableFuture\u001b[39m[\u001b[32mFiniteDistribution\u001b[39m[\u001b[32mTerm\u001b[39m]] = \u001b[32m\u001b[33mSuccess\u001b[39m(\n",
       "  \u001b[33mFiniteDistribution\u001b[39m(\n",
       "    \u001b[33mVector\u001b[39m(\n",
       "      \u001b[33mWeighted\u001b[39m(\n",
       "        \u001b[32m(@a : 𝒰 ) ↦ (@b : 𝒰 ) ↦ (@a : @a) ↦ (@a : (@a → @b)) ↦ @a(@a)\u001b[39m,\n",
       "        \u001b[32m5.060827243615959E-4\u001b[39m\n",
       "      )\n",
       "    )\n",
       "  )\n",
       ")\u001b[39m"
      ]
     },
     "metadata": {},
     "output_type": "display_data"
    }
   ],
   "source": [
    "val evT2 = lp2.expressionEval\n",
    "evT2.map(_.finalTerms.filter(_.typ == MP)).runToFuture"
   ]
  },
  {
   "cell_type": "code",
   "execution_count": 9,
   "metadata": {},
   "outputs": [
    {
     "data": {
      "text/plain": [
       "\u001b[36mmpPfsT\u001b[39m: \u001b[32mmonix\u001b[39m.\u001b[32meval\u001b[39m.\u001b[32mTask\u001b[39m[\u001b[32mFiniteDistribution\u001b[39m[\u001b[32mTerm\u001b[39m]] = \u001b[33mMap\u001b[39m(\n",
       "  \u001b[33mAsync\u001b[39m(<function2>, false, true, true),\n",
       "  ammonite.$sess.cmd8$Helper$$Lambda$2839/620242560@232667c,\n",
       "  \u001b[32m0\u001b[39m\n",
       ")\n",
       "\u001b[36mmpEqsT\u001b[39m: \u001b[32mmonix\u001b[39m.\u001b[32meval\u001b[39m.\u001b[32mTask\u001b[39m[\u001b[32mSet\u001b[39m[\u001b[32mEquationNode\u001b[39m]] = \u001b[33mMap\u001b[39m(\n",
       "  \u001b[33mAsync\u001b[39m(<function2>, false, true, true),\n",
       "  scala.Function1$$Lambda$296/951031848@4aa1db02,\n",
       "  \u001b[32m1\u001b[39m\n",
       ")"
      ]
     },
     "execution_count": 9,
     "metadata": {},
     "output_type": "execute_result"
    }
   ],
   "source": [
    "val mpPfsT = evT2.map(_.finalTerms.filter(_.typ == MP))\n",
    "val mpEqsT = mpPfsT.map{pfs => pfs.support.flatMap(pf => DE.formalEquations(pf))} "
   ]
  },
  {
   "cell_type": "code",
   "execution_count": 10,
   "metadata": {},
   "outputs": [
    {
     "data": {
      "text/html": [
       "<div class=\"jp-RenderedText\">\n",
       "<pre><code><span style=\"color: rgb(0, 187, 187)\"><span class=\"ansi-cyan-fg\">res9</span></span>: <span style=\"color: rgb(0, 187, 0)\"><span class=\"ansi-green-fg\">monix</span></span>.<span style=\"color: rgb(0, 187, 0)\"><span class=\"ansi-green-fg\">execution</span></span>.<span style=\"color: rgb(0, 187, 0)\"><span class=\"ansi-green-fg\">CancelableFuture</span></span>[<span style=\"color: rgb(0, 187, 0)\"><span class=\"ansi-green-fg\">Set</span></span>[<span style=\"color: rgb(0, 187, 0)\"><span class=\"ansi-green-fg\">EquationNode</span></span>]] = <span style=\"color: rgb(0, 187, 0)\"><span class=\"ansi-green-fg\"><style>@keyframes fadein { from { opacity: 0; } to { opacity: 1; } }</style><span style=\"animation: fadein 2s;\"><span style=\"color: yellow\"><span class=\"ansi-yellow-fg\">Success</span></span>(\n",
       "  <span style=\"color: yellow\"><span class=\"ansi-yellow-fg\">Set</span></span>(\n",
       "    <span style=\"color: yellow\"><span class=\"ansi-yellow-fg\">EquationNode</span></span>(\n",
       "      <span style=\"color: yellow\"><span class=\"ansi-yellow-fg\">InitialVal</span></span>(\n",
       "        <span style=\"color: yellow\"><span class=\"ansi-yellow-fg\">InIsle</span></span>(\n",
       "          <span style=\"color: yellow\"><span class=\"ansi-yellow-fg\">Elem</span></span>(<span style=\"color: rgb(0, 187, 0)\"><span class=\"ansi-green-fg\">𝒰 </span></span>, Terms),\n",
       "          <span style=\"color: rgb(0, 187, 0)\"><span class=\"ansi-green-fg\">@a</span></span>,\n",
       "          <span style=\"color: yellow\"><span class=\"ansi-yellow-fg\">Island</span></span>(\n",
       "            Terms,\n",
       "            <span style=\"color: yellow\"><span class=\"ansi-yellow-fg\">ConstRandVar</span></span>(Terms),\n",
       "            <span style=\"color: yellow\"><span class=\"ansi-yellow-fg\">AddVar</span></span>(<span style=\"color: rgb(0, 187, 0)\"><span class=\"ansi-green-fg\">𝒰 </span></span>, <span style=\"color: rgb(0, 187, 0)\"><span class=\"ansi-green-fg\">0.3</span></span>),\n",
       "            Lambda,\n",
       "            EnterIsle\n",
       "          )\n",
       "        )\n",
       "      ),\n",
       "      <span style=\"color: yellow\"><span class=\"ansi-yellow-fg\">Product</span></span>(<span style=\"color: yellow\"><span class=\"ansi-yellow-fg\">IsleScale</span></span>(<span style=\"color: rgb(0, 187, 0)\"><span class=\"ansi-green-fg\">@a</span></span>, <span style=\"color: yellow\"><span class=\"ansi-yellow-fg\">Elem</span></span>(<span style=\"color: rgb(0, 187, 0)\"><span class=\"ansi-green-fg\">𝒰 </span></span>, Terms)), <span style=\"color: yellow\"><span class=\"ansi-yellow-fg\">FinalVal</span></span>(<span style=\"color: yellow\"><span class=\"ansi-yellow-fg\">Elem</span></span>(<span style=\"color: rgb(0, 187, 0)\"><span class=\"ansi-green-fg\">𝒰 </span></span>, Terms)))\n",
       "    ),\n",
       "    <span style=\"color: yellow\"><span class=\"ansi-yellow-fg\">EquationNode</span></span>(\n",
       "      <span style=\"color: yellow\"><span class=\"ansi-yellow-fg\">InitialVal</span></span>(\n",
       "        <span style=\"color: yellow\"><span class=\"ansi-yellow-fg\">InIsle</span></span>(\n",
       "          <span style=\"color: yellow\"><span class=\"ansi-yellow-fg\">InIsle</span></span>(\n",
       "            <span style=\"color: yellow\"><span class=\"ansi-yellow-fg\">InIsle</span></span>(\n",
       "              <span style=\"color: yellow\"><span class=\"ansi-yellow-fg\">InIsle</span></span>(\n",
       "                <span style=\"color: yellow\"><span class=\"ansi-yellow-fg\">Elem</span></span>(<span style=\"color: rgb(0, 187, 0)\"><span class=\"ansi-green-fg\">@b</span></span>, Terms),\n",
       "                <span style=\"color: rgb(0, 187, 0)\"><span class=\"ansi-green-fg\">@a</span></span>,\n",
       "                <span style=\"color: yellow\"><span class=\"ansi-yellow-fg\">Island</span></span>(Typs, <span style=\"color: yellow\"><span class=\"ansi-yellow-fg\">ConstRandVar</span></span>(Typs), <span style=\"color: yellow\"><span class=\"ansi-yellow-fg\">AddVar</span></span>(<span style=\"color: rgb(0, 187, 0)\"><span class=\"ansi-green-fg\">@a</span></span>, <span style=\"color: rgb(0, 187, 0)\"><span class=\"ansi-green-fg\">0.3</span></span>), Pi, EnterIsle)\n",
       "              ),\n",
       "              <span style=\"color: rgb(0, 187, 0)\"><span class=\"ansi-green-fg\">@a</span></span>,\n",
       "              <span style=\"color: yellow\"><span class=\"ansi-yellow-fg\">Island</span></span>(\n",
       "                Terms,\n",
       "                <span style=\"color: yellow\"><span class=\"ansi-yellow-fg\">ConstRandVar</span></span>(Terms),\n",
       "                <span style=\"color: yellow\"><span class=\"ansi-yellow-fg\">AddVar</span></span>(<span style=\"color: rgb(0, 187, 0)\"><span class=\"ansi-green-fg\">@a</span></span>, <span style=\"color: rgb(0, 187, 0)\"><span class=\"ansi-green-fg\">0.3</span></span>),\n",
       "                Lambda,\n",
       "                EnterIsle\n",
       "              )\n",
       "            ),\n",
       "            <span style=\"color: rgb(0, 187, 0)\"><span class=\"ansi-green-fg\">@b</span></span>,\n",
       "            <span style=\"color: yellow\"><span class=\"ansi-yellow-fg\">Island</span></span>(\n",
       "...</span></span></span></code></pre>\n",
       "</div>"
      ],
      "text/plain": [
       "\u001b[36mres9\u001b[39m: \u001b[32mmonix\u001b[39m.\u001b[32mexecution\u001b[39m.\u001b[32mCancelableFuture\u001b[39m[\u001b[32mSet\u001b[39m[\u001b[32mEquationNode\u001b[39m]] = \u001b[32m\u001b[33mSuccess\u001b[39m(\n",
       "  \u001b[33mSet\u001b[39m(\n",
       "    \u001b[33mEquationNode\u001b[39m(\n",
       "      \u001b[33mInitialVal\u001b[39m(\n",
       "        \u001b[33mInIsle\u001b[39m(\n",
       "          \u001b[33mElem\u001b[39m(\u001b[32m𝒰 \u001b[39m, Terms),\n",
       "          \u001b[32m@a\u001b[39m,\n",
       "          \u001b[33mIsland\u001b[39m(\n",
       "            Terms,\n",
       "            \u001b[33mConstRandVar\u001b[39m(Terms),\n",
       "            \u001b[33mAddVar\u001b[39m(\u001b[32m𝒰 \u001b[39m, \u001b[32m0.3\u001b[39m),\n",
       "            Lambda,\n",
       "            EnterIsle\n",
       "          )\n",
       "        )\n",
       "      ),\n",
       "      \u001b[33mProduct\u001b[39m(\u001b[33mIsleScale\u001b[39m(\u001b[32m@a\u001b[39m, \u001b[33mElem\u001b[39m(\u001b[32m𝒰 \u001b[39m, Terms)), \u001b[33mFinalVal\u001b[39m(\u001b[33mElem\u001b[39m(\u001b[32m𝒰 \u001b[39m, Terms)))\n",
       "    ),\n",
       "    \u001b[33mEquationNode\u001b[39m(\n",
       "      \u001b[33mInitialVal\u001b[39m(\n",
       "        \u001b[33mInIsle\u001b[39m(\n",
       "          \u001b[33mInIsle\u001b[39m(\n",
       "            \u001b[33mInIsle\u001b[39m(\n",
       "              \u001b[33mInIsle\u001b[39m(\n",
       "                \u001b[33mElem\u001b[39m(\u001b[32m@b\u001b[39m, Terms),\n",
       "                \u001b[32m@a\u001b[39m,\n",
       "                \u001b[33mIsland\u001b[39m(Typs, \u001b[33mConstRandVar\u001b[39m(Typs), \u001b[33mAddVar\u001b[39m(\u001b[32m@a\u001b[39m, \u001b[32m0.3\u001b[39m), Pi, EnterIsle)\n",
       "              ),\n",
       "              \u001b[32m@a\u001b[39m,\n",
       "              \u001b[33mIsland\u001b[39m(\n",
       "                Terms,\n",
       "                \u001b[33mConstRandVar\u001b[39m(Terms),\n",
       "                \u001b[33mAddVar\u001b[39m(\u001b[32m@a\u001b[39m, \u001b[32m0.3\u001b[39m),\n",
       "                Lambda,\n",
       "                EnterIsle\n",
       "              )\n",
       "            ),\n",
       "            \u001b[32m@b\u001b[39m,\n",
       "            \u001b[33mIsland\u001b[39m(\n",
       "...\u001b[39m"
      ]
     },
     "metadata": {},
     "output_type": "display_data"
    }
   ],
   "source": [
    "mpEqsT.runToFuture"
   ]
  },
  {
   "cell_type": "code",
   "execution_count": 14,
   "metadata": {},
   "outputs": [
    {
     "data": {
      "text/plain": [
       "\u001b[36mevT3\u001b[39m: \u001b[32mmonix\u001b[39m.\u001b[32meval\u001b[39m.\u001b[32mTask\u001b[39m[\u001b[32mExpressionEval\u001b[39m] = \u001b[33mFlatMap\u001b[39m(\n",
       "  \u001b[33mAsync\u001b[39m(<function2>, false, true, true),\n",
       "  ammonite.$sess.cmd13$Helper$$Lambda$3191/1502492031@41817c3c\n",
       ")"
      ]
     },
     "execution_count": 14,
     "metadata": {},
     "output_type": "execute_result"
    }
   ],
   "source": [
    "val evT3 = for{\n",
    "    ev <- evT2\n",
    "    ev1 <- evT1\n",
    "    eqs <- mpEqsT\n",
    "} yield ev.modify(equationsNew = ev1.equations union Equation.group(eqs union DE.termStateInit(ts)) )"
   ]
  },
  {
   "cell_type": "code",
   "execution_count": 15,
   "metadata": {},
   "outputs": [
    {
     "data": {
      "text/html": [
       "<div class=\"jp-RenderedText\">\n",
       "<pre><code><span style=\"color: rgb(0, 187, 187)\"><span class=\"ansi-cyan-fg\">res14</span></span>: <span style=\"color: rgb(0, 187, 0)\"><span class=\"ansi-green-fg\">monix</span></span>.<span style=\"color: rgb(0, 187, 0)\"><span class=\"ansi-green-fg\">execution</span></span>.<span style=\"color: rgb(0, 187, 0)\"><span class=\"ansi-green-fg\">CancelableFuture</span></span>[<span style=\"color: rgb(0, 187, 0)\"><span class=\"ansi-green-fg\">FiniteDistribution</span></span>[<span style=\"color: rgb(0, 187, 0)\"><span class=\"ansi-green-fg\">Term</span></span>]] = <span style=\"color: rgb(0, 187, 0)\"><span class=\"ansi-green-fg\"><span style=\"color: yellow\"><span class=\"ansi-yellow-fg\">Success</span></span>(<span style=\"color: yellow\"><span class=\"ansi-yellow-fg\">FiniteDistribution</span></span>(<span style=\"color: yellow\"><span class=\"ansi-yellow-fg\">Vector</span></span>()))</span></span></code></pre>\n",
       "</div>"
      ],
      "text/plain": [
       "\u001b[36mres14\u001b[39m: \u001b[32mmonix\u001b[39m.\u001b[32mexecution\u001b[39m.\u001b[32mCancelableFuture\u001b[39m[\u001b[32mFiniteDistribution\u001b[39m[\u001b[32mTerm\u001b[39m]] = \u001b[32m\u001b[33mSuccess\u001b[39m(\u001b[33mFiniteDistribution\u001b[39m(\u001b[33mVector\u001b[39m()))\u001b[39m"
      ]
     },
     "metadata": {},
     "output_type": "display_data"
    }
   ],
   "source": [
    "evT3.map(_.finalTerms.filter(_.typ == MP)).runToFuture"
   ]
  },
  {
   "cell_type": "code",
   "execution_count": 16,
   "metadata": {},
   "outputs": [
    {
     "data": {
      "text/html": [
       "<div class=\"jp-RenderedText\">\n",
       "<pre><code><span style=\"color: rgb(0, 187, 187)\"><span class=\"ansi-cyan-fg\">res15</span></span>: <span style=\"color: rgb(0, 187, 0)\"><span class=\"ansi-green-fg\">monix</span></span>.<span style=\"color: rgb(0, 187, 0)\"><span class=\"ansi-green-fg\">execution</span></span>.<span style=\"color: rgb(0, 187, 0)\"><span class=\"ansi-green-fg\">CancelableFuture</span></span>[<span style=\"color: rgb(0, 187, 0)\"><span class=\"ansi-green-fg\">Double</span></span>] = <span style=\"color: rgb(0, 187, 0)\"><span class=\"ansi-green-fg\"><span style=\"color: yellow\"><span class=\"ansi-yellow-fg\">Success</span></span>(<span style=\"color: rgb(0, 187, 0)\"><span class=\"ansi-green-fg\">0.981077207477083</span></span>)</span></span></code></pre>\n",
       "</div>"
      ],
      "text/plain": [
       "\u001b[36mres15\u001b[39m: \u001b[32mmonix\u001b[39m.\u001b[32mexecution\u001b[39m.\u001b[32mCancelableFuture\u001b[39m[\u001b[32mDouble\u001b[39m] = \u001b[32m\u001b[33mSuccess\u001b[39m(\u001b[32m0.981077207477083\u001b[39m)\u001b[39m"
      ]
     },
     "metadata": {},
     "output_type": "display_data"
    }
   ],
   "source": [
    "evT3.map(_.finalTyps(Type)).runToFuture"
   ]
  },
  {
   "cell_type": "code",
   "execution_count": 17,
   "metadata": {},
   "outputs": [
    {
     "data": {
      "text/plain": [
       "\u001b[32mimport \u001b[39m\u001b[36mGeneratorVariables._, Expression._, TermRandomVars._\n",
       "\u001b[39m\n",
       "\u001b[36mtargT\u001b[39m: \u001b[32mmonix\u001b[39m.\u001b[32meval\u001b[39m.\u001b[32mTask\u001b[39m[\u001b[32mSet\u001b[39m[\u001b[32mEquation\u001b[39m]] = \u001b[33mMap\u001b[39m(\n",
       "  \u001b[33mFlatMap\u001b[39m(\n",
       "    \u001b[33mAsync\u001b[39m(<function2>, false, true, true),\n",
       "    ammonite.$sess.cmd13$Helper$$Lambda$3191/1502492031@41817c3c\n",
       "  ),\n",
       "  ammonite.$sess.cmd16$Helper$$Lambda$3636/659289373@7fefc395,\n",
       "  \u001b[32m0\u001b[39m\n",
       ")"
      ]
     },
     "execution_count": 17,
     "metadata": {},
     "output_type": "execute_result"
    }
   ],
   "source": [
    "import GeneratorVariables._, Expression._, TermRandomVars._\n",
    "val targT = evT3.map(ev => ev.equations.collect{case eq @ Equation(FinalVal(Elem(t : Term, Terms)), _) if t.typ == MP => eq})"
   ]
  },
  {
   "cell_type": "code",
   "execution_count": 19,
   "metadata": {},
   "outputs": [
    {
     "data": {
      "text/html": [
       "<div class=\"jp-RenderedText\">\n",
       "<pre><code><span style=\"color: rgb(0, 187, 187)\"><span class=\"ansi-cyan-fg\">res18</span></span>: <span style=\"color: rgb(0, 187, 0)\"><span class=\"ansi-green-fg\">monix</span></span>.<span style=\"color: rgb(0, 187, 0)\"><span class=\"ansi-green-fg\">execution</span></span>.<span style=\"color: rgb(0, 187, 0)\"><span class=\"ansi-green-fg\">CancelableFuture</span></span>[<span style=\"color: rgb(0, 187, 0)\"><span class=\"ansi-green-fg\">Set</span></span>[<span style=\"color: rgb(0, 187, 0)\"><span class=\"ansi-green-fg\">Equation</span></span>]] = <span style=\"color: rgb(0, 187, 0)\"><span class=\"ansi-green-fg\"><style>@keyframes fadein { from { opacity: 0; } to { opacity: 1; } }</style><span style=\"animation: fadein 2s;\"><span style=\"color: yellow\"><span class=\"ansi-yellow-fg\">Success</span></span>(\n",
       "  <span style=\"color: yellow\"><span class=\"ansi-yellow-fg\">Set</span></span>(\n",
       "    <span style=\"color: yellow\"><span class=\"ansi-yellow-fg\">Equation</span></span>(\n",
       "      <span style=\"color: yellow\"><span class=\"ansi-yellow-fg\">FinalVal</span></span>(\n",
       "        <span style=\"color: yellow\"><span class=\"ansi-yellow-fg\">Elem</span></span>(\n",
       "          <span style=\"color: rgb(0, 187, 0)\"><span class=\"ansi-green-fg\">(@a : 𝒰 ) ↦ (@b : 𝒰 ) ↦ (@a : @a) ↦ (@a : (@a → @b)) ↦ @a(@a)</span></span>,\n",
       "          Terms\n",
       "        )\n",
       "      ),\n",
       "      <span style=\"color: yellow\"><span class=\"ansi-yellow-fg\">Sum</span></span>(\n",
       "        <span style=\"color: yellow\"><span class=\"ansi-yellow-fg\">Product</span></span>(\n",
       "          <span style=\"color: yellow\"><span class=\"ansi-yellow-fg\">Product</span></span>(\n",
       "            <span style=\"color: yellow\"><span class=\"ansi-yellow-fg\">Coeff</span></span>(<span style=\"color: yellow\"><span class=\"ansi-yellow-fg\">FlatMap</span></span>(Typs, LambdaIsle, Terms)),\n",
       "            <span style=\"color: yellow\"><span class=\"ansi-yellow-fg\">FinalVal</span></span>(<span style=\"color: yellow\"><span class=\"ansi-yellow-fg\">Elem</span></span>(<span style=\"color: rgb(0, 187, 0)\"><span class=\"ansi-green-fg\">𝒰 </span></span>, Typs))\n",
       "          ),\n",
       "          <span style=\"color: yellow\"><span class=\"ansi-yellow-fg\">FinalVal</span></span>(\n",
       "            <span style=\"color: yellow\"><span class=\"ansi-yellow-fg\">InIsle</span></span>(\n",
       "              <span style=\"color: yellow\"><span class=\"ansi-yellow-fg\">Elem</span></span>(<span style=\"color: rgb(0, 187, 0)\"><span class=\"ansi-green-fg\">(@b : 𝒰 ) ↦ (@a : @a) ↦ (@a : (@a → @b)) ↦ @a(@a)</span></span>, Terms),\n",
       "              <span style=\"color: rgb(0, 187, 0)\"><span class=\"ansi-green-fg\">@a</span></span>,\n",
       "              <span style=\"color: yellow\"><span class=\"ansi-yellow-fg\">Island</span></span>(\n",
       "                Terms,\n",
       "                <span style=\"color: yellow\"><span class=\"ansi-yellow-fg\">ConstRandVar</span></span>(Terms),\n",
       "                <span style=\"color: yellow\"><span class=\"ansi-yellow-fg\">AddVar</span></span>(<span style=\"color: rgb(0, 187, 0)\"><span class=\"ansi-green-fg\">𝒰 </span></span>, <span style=\"color: rgb(0, 187, 0)\"><span class=\"ansi-green-fg\">0.3</span></span>),\n",
       "                Lambda,\n",
       "                EnterIsle\n",
       "              )\n",
       "            )\n",
       "          )\n",
       "        ),\n",
       "        <span style=\"color: yellow\"><span class=\"ansi-yellow-fg\">Product</span></span>(\n",
       "          <span style=\"color: yellow\"><span class=\"ansi-yellow-fg\">Coeff</span></span>(<span style=\"color: yellow\"><span class=\"ansi-yellow-fg\">Init</span></span>(Terms)),\n",
       "          <span style=\"color: yellow\"><span class=\"ansi-yellow-fg\">InitialVal</span></span>(\n",
       "            <span style=\"color: yellow\"><span class=\"ansi-yellow-fg\">Elem</span></span>(\n",
       "              <span style=\"color: rgb(0, 187, 0)\"><span class=\"ansi-green-fg\">(@a : 𝒰 ) ↦ (@b : 𝒰 ) ↦ (@a : @a) ↦ (@a : (@a → @b)) ↦ @a(@a)</span></span>,\n",
       "              Terms\n",
       "            )\n",
       "          )\n",
       "        )\n",
       "      )\n",
       "...</span></span></span></code></pre>\n",
       "</div>"
      ],
      "text/plain": [
       "\u001b[36mres18\u001b[39m: \u001b[32mmonix\u001b[39m.\u001b[32mexecution\u001b[39m.\u001b[32mCancelableFuture\u001b[39m[\u001b[32mSet\u001b[39m[\u001b[32mEquation\u001b[39m]] = \u001b[32m\u001b[33mSuccess\u001b[39m(\n",
       "  \u001b[33mSet\u001b[39m(\n",
       "    \u001b[33mEquation\u001b[39m(\n",
       "      \u001b[33mFinalVal\u001b[39m(\n",
       "        \u001b[33mElem\u001b[39m(\n",
       "          \u001b[32m(@a : 𝒰 ) ↦ (@b : 𝒰 ) ↦ (@a : @a) ↦ (@a : (@a → @b)) ↦ @a(@a)\u001b[39m,\n",
       "          Terms\n",
       "        )\n",
       "      ),\n",
       "      \u001b[33mSum\u001b[39m(\n",
       "        \u001b[33mProduct\u001b[39m(\n",
       "          \u001b[33mProduct\u001b[39m(\n",
       "            \u001b[33mCoeff\u001b[39m(\u001b[33mFlatMap\u001b[39m(Typs, LambdaIsle, Terms)),\n",
       "            \u001b[33mFinalVal\u001b[39m(\u001b[33mElem\u001b[39m(\u001b[32m𝒰 \u001b[39m, Typs))\n",
       "          ),\n",
       "          \u001b[33mFinalVal\u001b[39m(\n",
       "            \u001b[33mInIsle\u001b[39m(\n",
       "              \u001b[33mElem\u001b[39m(\u001b[32m(@b : 𝒰 ) ↦ (@a : @a) ↦ (@a : (@a → @b)) ↦ @a(@a)\u001b[39m, Terms),\n",
       "              \u001b[32m@a\u001b[39m,\n",
       "              \u001b[33mIsland\u001b[39m(\n",
       "                Terms,\n",
       "                \u001b[33mConstRandVar\u001b[39m(Terms),\n",
       "                \u001b[33mAddVar\u001b[39m(\u001b[32m𝒰 \u001b[39m, \u001b[32m0.3\u001b[39m),\n",
       "                Lambda,\n",
       "                EnterIsle\n",
       "              )\n",
       "            )\n",
       "          )\n",
       "        ),\n",
       "        \u001b[33mProduct\u001b[39m(\n",
       "          \u001b[33mCoeff\u001b[39m(\u001b[33mInit\u001b[39m(Terms)),\n",
       "          \u001b[33mInitialVal\u001b[39m(\n",
       "            \u001b[33mElem\u001b[39m(\n",
       "              \u001b[32m(@a : 𝒰 ) ↦ (@b : 𝒰 ) ↦ (@a : @a) ↦ (@a : (@a → @b)) ↦ @a(@a)\u001b[39m,\n",
       "              Terms\n",
       "            )\n",
       "          )\n",
       "        )\n",
       "      )\n",
       "...\u001b[39m"
      ]
     },
     "metadata": {},
     "output_type": "display_data"
    }
   ],
   "source": [
    "targT.runToFuture"
   ]
  },
  {
   "cell_type": "markdown",
   "metadata": {},
   "source": [
    "## Conclusions\n",
    "\n",
    "* The search steps succeeded, as did generating equations for modus ponens.\n",
    "* However, we did not get modus ponens as a consequence of the equations we tried.\n",
    "* The equations we tried were _ad hoc_; we should have a clean way of removing goal equations but adding formal equations."
   ]
  },
  {
   "cell_type": "code",
   "execution_count": 21,
   "metadata": {},
   "outputs": [
    {
     "data": {
      "text/plain": [
       "\u001b[36mtsU\u001b[39m: \u001b[32mTermState\u001b[39m = \u001b[33mTermState\u001b[39m(\n",
       "  \u001b[33mFiniteDistribution\u001b[39m(\u001b[33mVector\u001b[39m()),\n",
       "  \u001b[33mFiniteDistribution\u001b[39m(\u001b[33mVector\u001b[39m(\u001b[33mWeighted\u001b[39m(\u001b[32m𝒰 \u001b[39m, \u001b[32m1.0\u001b[39m))),\n",
       "  \u001b[33mVector\u001b[39m(),\n",
       "  \u001b[33mFiniteDistribution\u001b[39m(\u001b[33mVector\u001b[39m()),\n",
       "  \u001b[33mFiniteDistribution\u001b[39m(\u001b[33mVector\u001b[39m()),\n",
       "  Empty\n",
       ")\n",
       "\u001b[36ma\u001b[39m: \u001b[32mTerm\u001b[39m = \u001b[32ma\u001b[39m\n",
       "\u001b[36mf\u001b[39m: \u001b[32mFunc\u001b[39m[\u001b[32mTerm\u001b[39m, \u001b[32mTerm\u001b[39m] = \u001b[32mf\u001b[39m\n",
       "\u001b[36mmp\u001b[39m: \u001b[32mFunc\u001b[39m[\u001b[32mTerm\u001b[39m, \u001b[32mFunc\u001b[39m[\u001b[32mFunc\u001b[39m[\u001b[32mTerm\u001b[39m, \u001b[32mTerm\u001b[39m], \u001b[32mTerm\u001b[39m]] = \u001b[32m(a : A) ↦ (f : (A → B)) ↦ f(a)\u001b[39m\n",
       "\u001b[36mmpU\u001b[39m: \u001b[32mFuncLike\u001b[39m[\u001b[32mTyp\u001b[39m[\u001b[32mTerm\u001b[39m], \u001b[32mFuncLike\u001b[39m[\u001b[32mTyp\u001b[39m[\u001b[32mTerm\u001b[39m], \u001b[32mFunc\u001b[39m[\u001b[32mTerm\u001b[39m, \u001b[32mFunc\u001b[39m[\u001b[32mFunc\u001b[39m[\u001b[32mTerm\u001b[39m, \u001b[32mTerm\u001b[39m], \u001b[32mTerm\u001b[39m]]]] = \u001b[32m(A : 𝒰 ) ↦ (B : 𝒰 ) ↦ (a : A) ↦ (f : (A → B)) ↦ f(a)\u001b[39m\n",
       "\u001b[36meqNodesU\u001b[39m: \u001b[32mSet\u001b[39m[\u001b[32mEquationNode\u001b[39m] = \u001b[33mSet\u001b[39m(\n",
       "  \u001b[33mEquationNode\u001b[39m(\n",
       "    \u001b[33mInitialVal\u001b[39m(\n",
       "      \u001b[33mInIsle\u001b[39m(\n",
       "        \u001b[33mElem\u001b[39m(\u001b[32m𝒰 \u001b[39m, Terms),\n",
       "        \u001b[32mA\u001b[39m,\n",
       "        \u001b[33mIsland\u001b[39m(Terms, \u001b[33mConstRandVar\u001b[39m(Terms), \u001b[33mAddVar\u001b[39m(\u001b[32m𝒰 \u001b[39m, \u001b[32m0.3\u001b[39m), Lambda, EnterIsle)\n",
       "      )\n",
       "    ),\n",
       "    \u001b[33mProduct\u001b[39m(\u001b[33mIsleScale\u001b[39m(\u001b[32mA\u001b[39m, \u001b[33mElem\u001b[39m(\u001b[32m𝒰 \u001b[39m, Terms)), \u001b[33mFinalVal\u001b[39m(\u001b[33mElem\u001b[39m(\u001b[32m𝒰 \u001b[39m, Terms)))\n",
       "  ),\n",
       "  \u001b[33mEquationNode\u001b[39m(\n",
       "    \u001b[33mFinalVal\u001b[39m(\n",
       "      \u001b[33mInIsle\u001b[39m(\n",
       "        \u001b[33mInIsle\u001b[39m(\n",
       "          \u001b[33mInIsle\u001b[39m(\n",
       "            \u001b[33mInIsle\u001b[39m(\n",
       "              \u001b[33mElem\u001b[39m(\u001b[32mA\u001b[39m, Terms),\n",
       "              \u001b[32mf\u001b[39m,\n",
       "              \u001b[33mIsland\u001b[39m(\n",
       "                Terms,\n",
       "                \u001b[33mConstRandVar\u001b[39m(Terms),\n",
       "                \u001b[33mAddVar\u001b[39m(\u001b[32m(A → B)\u001b[39m, \u001b[32m0.3\u001b[39m),\n",
       "                Lambda,\n",
       "                EnterIsle\n",
       "              )\n",
       "            ),\n",
       "            \u001b[32ma\u001b[39m,\n",
       "            \u001b[33mIsland\u001b[39m(\n",
       "              Terms,\n",
       "              \u001b[33mConstRandVar\u001b[39m(Terms),\n",
       "              \u001b[33mAddVar\u001b[39m(\u001b[32mA\u001b[39m, \u001b[32m0.3\u001b[39m),\n",
       "              Lambda,\n",
       "              EnterIsle\n",
       "            )\n",
       "          ),\n",
       "          \u001b[32mB\u001b[39m,\n",
       "          \u001b[33mIsland\u001b[39m(\n",
       "            Terms,\n",
       "..."
      ]
     },
     "execution_count": 21,
     "metadata": {},
     "output_type": "execute_result"
    }
   ],
   "source": [
    "val tsU = TermState(FiniteDistribution(), FiniteDistribution.unif(Type))\n",
    "val a = \"a\" :: A\n",
    "val f = \"f\" :: (A ->: B)\n",
    "val mp = a :-> (f :-> f(a))\n",
    "val mpU = A :~> (B :~> mp)\n",
    "val eqNodesU = DE.formalEquations(mpU) union DE.termStateInit(tsU)"
   ]
  },
  {
   "cell_type": "code",
   "execution_count": 22,
   "metadata": {},
   "outputs": [
    {
     "data": {
      "text/plain": [
       "\u001b[36mevU\u001b[39m: \u001b[32mExpressionEval\u001b[39m = provingground.learning.ExpressionEval$$anon$2@f2bbab4"
      ]
     },
     "execution_count": 22,
     "metadata": {},
     "output_type": "execute_result"
    }
   ],
   "source": [
    "val evU = ExpressionEval.fromInitEqs(tsU, Equation.group(eqNodesU), TermGenParams())"
   ]
  },
  {
   "cell_type": "code",
   "execution_count": 23,
   "metadata": {},
   "outputs": [
    {
     "data": {
      "text/plain": [
       "\u001b[36mres22\u001b[39m: \u001b[32mFiniteDistribution\u001b[39m[\u001b[32mTerm\u001b[39m] = \u001b[33mFiniteDistribution\u001b[39m(\n",
       "  \u001b[33mVector\u001b[39m(\n",
       "    \u001b[33mWeighted\u001b[39m(\u001b[32m𝒰 \u001b[39m, \u001b[32m0.5\u001b[39m),\n",
       "    \u001b[33mWeighted\u001b[39m(\u001b[32m(A : 𝒰 ) ↦ (B : 𝒰 ) ↦ (a : A) ↦ (f : (A → B)) ↦ f(a)\u001b[39m, \u001b[32m0.5\u001b[39m)\n",
       "  )\n",
       ")"
      ]
     },
     "execution_count": 23,
     "metadata": {},
     "output_type": "execute_result"
    }
   ],
   "source": [
    "evU.finalTerms"
   ]
  },
  {
   "cell_type": "code",
   "execution_count": 25,
   "metadata": {},
   "outputs": [
    {
     "data": {
      "text/plain": [
       "\u001b[36mres24\u001b[39m: \u001b[32mDouble\u001b[39m = \u001b[32m0.5\u001b[39m"
      ]
     },
     "execution_count": 25,
     "metadata": {},
     "output_type": "execute_result"
    }
   ],
   "source": [
    "evU.finalTerms(mpU)"
   ]
  },
  {
   "cell_type": "markdown",
   "metadata": {},
   "source": [
    "## Conclusions round two\n",
    "\n",
    "* The above is self-contained (pasted from REPL) showing that we do get modus ponens if we work with equations. We should try this with equations for proofs as well."
   ]
  },
  {
   "cell_type": "code",
   "execution_count": 26,
   "metadata": {},
   "outputs": [
    {
     "data": {
      "text/plain": [
       "\u001b[36meqNodesUT\u001b[39m: \u001b[32mmonix\u001b[39m.\u001b[32meval\u001b[39m.\u001b[32mTask\u001b[39m[\u001b[32mSet\u001b[39m[\u001b[32mEquationNode\u001b[39m]] = \u001b[33mMap\u001b[39m(\n",
       "  \u001b[33mAsync\u001b[39m(<function2>, false, true, true),\n",
       "  scala.Function1$$Lambda$296/951031848@17165bea,\n",
       "  \u001b[32m2\u001b[39m\n",
       ")"
      ]
     },
     "execution_count": 26,
     "metadata": {},
     "output_type": "execute_result"
    }
   ],
   "source": [
    "val eqNodesUT = mpEqsT.map (_ union DE.termStateInit(tsU))"
   ]
  },
  {
   "cell_type": "code",
   "execution_count": 27,
   "metadata": {},
   "outputs": [
    {
     "data": {
      "text/plain": [
       "\u001b[36mevUT\u001b[39m: \u001b[32mmonix\u001b[39m.\u001b[32meval\u001b[39m.\u001b[32mTask\u001b[39m[\u001b[32mExpressionEval\u001b[39m] = \u001b[33mMap\u001b[39m(\n",
       "  \u001b[33mAsync\u001b[39m(<function2>, false, true, true),\n",
       "  scala.Function1$$Lambda$296/951031848@7b5764d9,\n",
       "  \u001b[32m3\u001b[39m\n",
       ")"
      ]
     },
     "execution_count": 27,
     "metadata": {},
     "output_type": "execute_result"
    }
   ],
   "source": [
    "val evUT = eqNodesUT.map{nodes => ExpressionEval.fromInitEqs(tsU, Equation.group(nodes) , TermGenParams())}"
   ]
  },
  {
   "cell_type": "code",
   "execution_count": 28,
   "metadata": {},
   "outputs": [
    {
     "data": {
      "text/html": [
       "<div class=\"jp-RenderedText\">\n",
       "<pre><code><span style=\"color: rgb(0, 187, 187)\"><span class=\"ansi-cyan-fg\">res27</span></span>: <span style=\"color: rgb(0, 187, 0)\"><span class=\"ansi-green-fg\">monix</span></span>.<span style=\"color: rgb(0, 187, 0)\"><span class=\"ansi-green-fg\">execution</span></span>.<span style=\"color: rgb(0, 187, 0)\"><span class=\"ansi-green-fg\">CancelableFuture</span></span>[<span style=\"color: rgb(0, 187, 0)\"><span class=\"ansi-green-fg\">Double</span></span>] = <span style=\"color: rgb(0, 187, 0)\"><span class=\"ansi-green-fg\"><span style=\"color: yellow\"><span class=\"ansi-yellow-fg\">Success</span></span>(<span style=\"color: rgb(0, 187, 0)\"><span class=\"ansi-green-fg\">0.5</span></span>)</span></span></code></pre>\n",
       "</div>"
      ],
      "text/plain": [
       "\u001b[36mres27\u001b[39m: \u001b[32mmonix\u001b[39m.\u001b[32mexecution\u001b[39m.\u001b[32mCancelableFuture\u001b[39m[\u001b[32mDouble\u001b[39m] = \u001b[32m\u001b[33mSuccess\u001b[39m(\u001b[32m0.5\u001b[39m)\u001b[39m"
      ]
     },
     "metadata": {},
     "output_type": "display_data"
    }
   ],
   "source": [
    "evUT.map(_.finalTerms(mpU)).runToFuture"
   ]
  },
  {
   "cell_type": "code",
   "execution_count": 30,
   "metadata": {},
   "outputs": [
    {
     "data": {
      "text/html": [
       "<div class=\"jp-RenderedText\">\n",
       "<pre><code><span style=\"color: rgb(0, 187, 187)\"><span class=\"ansi-cyan-fg\">res29</span></span>: <span style=\"color: rgb(0, 187, 0)\"><span class=\"ansi-green-fg\">monix</span></span>.<span style=\"color: rgb(0, 187, 0)\"><span class=\"ansi-green-fg\">execution</span></span>.<span style=\"color: rgb(0, 187, 0)\"><span class=\"ansi-green-fg\">CancelableFuture</span></span>[<span style=\"color: rgb(0, 187, 0)\"><span class=\"ansi-green-fg\">FiniteDistribution</span></span>[<span style=\"color: rgb(0, 187, 0)\"><span class=\"ansi-green-fg\">Term</span></span>]] = <span style=\"color: rgb(0, 187, 0)\"><span class=\"ansi-green-fg\"><style>@keyframes fadein { from { opacity: 0; } to { opacity: 1; } }</style><span style=\"animation: fadein 2s;\"><span style=\"color: yellow\"><span class=\"ansi-yellow-fg\">Success</span></span>(\n",
       "  <span style=\"color: yellow\"><span class=\"ansi-yellow-fg\">FiniteDistribution</span></span>(\n",
       "    <span style=\"color: yellow\"><span class=\"ansi-yellow-fg\">Vector</span></span>(\n",
       "      <span style=\"color: yellow\"><span class=\"ansi-yellow-fg\">Weighted</span></span>(\n",
       "        <span style=\"color: rgb(0, 187, 0)\"><span class=\"ansi-green-fg\">(@a : 𝒰 ) ↦ (@b : 𝒰 ) ↦ (@a : @a) ↦ (@a : (@a → @b)) ↦ @a(@a)</span></span>,\n",
       "        <span style=\"color: rgb(0, 187, 0)\"><span class=\"ansi-green-fg\">0.5</span></span>\n",
       "      )\n",
       "    )\n",
       "  )\n",
       ")</span></span></span></code></pre>\n",
       "</div>"
      ],
      "text/plain": [
       "\u001b[36mres29\u001b[39m: \u001b[32mmonix\u001b[39m.\u001b[32mexecution\u001b[39m.\u001b[32mCancelableFuture\u001b[39m[\u001b[32mFiniteDistribution\u001b[39m[\u001b[32mTerm\u001b[39m]] = \u001b[32m\u001b[33mSuccess\u001b[39m(\n",
       "  \u001b[33mFiniteDistribution\u001b[39m(\n",
       "    \u001b[33mVector\u001b[39m(\n",
       "      \u001b[33mWeighted\u001b[39m(\n",
       "        \u001b[32m(@a : 𝒰 ) ↦ (@b : 𝒰 ) ↦ (@a : @a) ↦ (@a : (@a → @b)) ↦ @a(@a)\u001b[39m,\n",
       "        \u001b[32m0.5\u001b[39m\n",
       "      )\n",
       "    )\n",
       "  )\n",
       ")\u001b[39m"
      ]
     },
     "metadata": {},
     "output_type": "display_data"
    }
   ],
   "source": [
    "evUT.map(_.finalTerms.filter(_.typ == MP)).runToFuture"
   ]
  },
  {
   "cell_type": "markdown",
   "metadata": {},
   "source": [
    "## Final conclusions\n",
    "\n",
    "* When the equations are added correctly we do get proofs of modus ponens.\n",
    "* We should have more convenience methods"
   ]
  }
 ],
 "metadata": {
  "kernelspec": {
   "display_name": "Scala",
   "language": "scala",
   "name": "scala"
  },
  "language_info": {
   "codemirror_mode": "text/x-scala",
   "file_extension": ".scala",
   "mimetype": "text/x-scala",
   "name": "scala",
   "nbconvert_exporter": "script",
   "version": "2.12.8"
  }
 },
 "nbformat": 4,
 "nbformat_minor": 2
}
