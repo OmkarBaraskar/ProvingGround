{
 "cells": [
  {
   "cell_type": "markdown",
   "metadata": {},
   "source": [
    "## Generating with successive refinements\n",
    "\n",
    "The goal is to keep generating distributions from just `Type`, `Zero`, `One` and `Star` till we timeout"
   ]
  },
  {
   "cell_type": "code",
   "execution_count": 1,
   "metadata": {},
   "outputs": [
    {
     "data": {
      "text/plain": [
       "\u001b[32mimport \u001b[39m\u001b[36m$cp.$                                           \u001b[39m"
      ]
     },
     "execution_count": 1,
     "metadata": {},
     "output_type": "execute_result"
    }
   ],
   "source": [
    "import $cp.bin.`provingground-core-jvm-09effc3.fat.jar`"
   ]
  },
  {
   "cell_type": "code",
   "execution_count": 2,
   "metadata": {},
   "outputs": [
    {
     "data": {
      "text/plain": [
       "\u001b[32mimport \u001b[39m\u001b[36mprovingground._ , interface._, HoTT._, learning._ \n",
       "\u001b[39m"
      ]
     },
     "execution_count": 2,
     "metadata": {},
     "output_type": "execute_result"
    }
   ],
   "source": [
    "import provingground._ , interface._, HoTT._, learning._ \n",
    "repl.pprinter() = {\n",
    "  val p = repl.pprinter()\n",
    "  p.copy(\n",
    "    additionalHandlers = p.additionalHandlers.orElse {\n",
    "      translation.FansiShow.fansiHandler\n",
    "    }\n",
    "  )\n",
    "}"
   ]
  },
  {
   "cell_type": "code",
   "execution_count": 19,
   "metadata": {},
   "outputs": [
    {
     "data": {
      "text/plain": [
       "\u001b[36mterms\u001b[39m: \u001b[32mFiniteDistribution\u001b[39m[\u001b[32mTerm\u001b[39m] = \u001b[33mFiniteDistribution\u001b[39m(\n",
       "  \u001b[33mVector\u001b[39m(\n",
       "    \u001b[33mWeighted\u001b[39m(\u001b[32m𝒰 \u001b[39m, \u001b[32m0.25\u001b[39m),\n",
       "    \u001b[33mWeighted\u001b[39m(\u001b[32mUnit\u001b[39m, \u001b[32m0.25\u001b[39m),\n",
       "    \u001b[33mWeighted\u001b[39m(\u001b[32mZero\u001b[39m, \u001b[32m0.25\u001b[39m),\n",
       "    \u001b[33mWeighted\u001b[39m(\u001b[32mStar\u001b[39m, \u001b[32m0.25\u001b[39m)\n",
       "  )\n",
       ")\n",
       "\u001b[36mtyps\u001b[39m: \u001b[32mFiniteDistribution\u001b[39m[\u001b[32mTyp\u001b[39m[\u001b[32mTerm\u001b[39m]] = \u001b[33mFiniteDistribution\u001b[39m(\n",
       "  \u001b[33mVector\u001b[39m(\u001b[33mWeighted\u001b[39m(\u001b[32m𝒰 \u001b[39m, \u001b[32m0.8\u001b[39m), \u001b[33mWeighted\u001b[39m(\u001b[32mUnit\u001b[39m, \u001b[32m0.05\u001b[39m), \u001b[33mWeighted\u001b[39m(\u001b[32mZero\u001b[39m, \u001b[32m0.15\u001b[39m))\n",
       ")\n",
       "\u001b[36mts\u001b[39m: \u001b[32mTermState\u001b[39m = \u001b[33mTermState\u001b[39m(\n",
       "  \u001b[33mFiniteDistribution\u001b[39m(\n",
       "    \u001b[33mVector\u001b[39m(\n",
       "      \u001b[33mWeighted\u001b[39m(\u001b[32m𝒰 \u001b[39m, \u001b[32m0.25\u001b[39m),\n",
       "      \u001b[33mWeighted\u001b[39m(\u001b[32mUnit\u001b[39m, \u001b[32m0.25\u001b[39m),\n",
       "      \u001b[33mWeighted\u001b[39m(\u001b[32mZero\u001b[39m, \u001b[32m0.25\u001b[39m),\n",
       "      \u001b[33mWeighted\u001b[39m(\u001b[32mStar\u001b[39m, \u001b[32m0.25\u001b[39m)\n",
       "    )\n",
       "  ),\n",
       "  \u001b[33mFiniteDistribution\u001b[39m(\n",
       "    \u001b[33mVector\u001b[39m(\u001b[33mWeighted\u001b[39m(\u001b[32m𝒰 \u001b[39m, \u001b[32m0.8\u001b[39m), \u001b[33mWeighted\u001b[39m(\u001b[32mUnit\u001b[39m, \u001b[32m0.05\u001b[39m), \u001b[33mWeighted\u001b[39m(\u001b[32mZero\u001b[39m, \u001b[32m0.15\u001b[39m))\n",
       "  ),\n",
       "  \u001b[33mVector\u001b[39m(),\n",
       "  \u001b[33mFiniteDistribution\u001b[39m(\u001b[33mVector\u001b[39m()),\n",
       "  \u001b[33mFiniteDistribution\u001b[39m(\u001b[33mVector\u001b[39m()),\n",
       "  Empty\n",
       ")"
      ]
     },
     "execution_count": 19,
     "metadata": {},
     "output_type": "execute_result"
    }
   ],
   "source": [
    "val terms = FiniteDistribution.unif[Term](Type, Unit, Zero, Star)\n",
    "val typs = FiniteDistribution[Typ[Term]](Type -> 0.8, Unit -> 0.05, Zero -> 0.15)\n",
    "val ts = TermState(terms, typs)"
   ]
  },
  {
   "cell_type": "code",
   "execution_count": 20,
   "metadata": {},
   "outputs": [
    {
     "data": {
      "text/plain": [
       "\u001b[32mimport \u001b[39m\u001b[36mmonix.execution.Scheduler.Implicits.global\n",
       "\u001b[39m\n",
       "defined \u001b[32mfunction\u001b[39m \u001b[36mlp\u001b[39m"
      ]
     },
     "execution_count": 20,
     "metadata": {},
     "output_type": "execute_result"
    }
   ],
   "source": [
    "import monix.execution.Scheduler.Implicits.global\n",
    "def lp(n: Int) = LocalProver(ts).sharpen(math.pow(2, n))"
   ]
  },
  {
   "cell_type": "code",
   "execution_count": 21,
   "metadata": {},
   "outputs": [
    {
     "data": {
      "text/plain": [
       "defined \u001b[32mfunction\u001b[39m \u001b[36mns\u001b[39m"
      ]
     },
     "execution_count": 21,
     "metadata": {},
     "output_type": "execute_result"
    }
   ],
   "source": [
    "def ns(n: Int) = lp(n).nextState.map{ns => n -> ns}"
   ]
  },
  {
   "cell_type": "code",
   "execution_count": 22,
   "metadata": {},
   "outputs": [
    {
     "data": {
      "text/plain": [
       "\u001b[36mbt\u001b[39m: \u001b[32mmonix\u001b[39m.\u001b[32meval\u001b[39m.\u001b[32mTask\u001b[39m[\u001b[32mOption\u001b[39m[(\u001b[32mInt\u001b[39m, \u001b[32mTermState\u001b[39m)]] = \u001b[33mFlatMap\u001b[39m(\n",
       "  \u001b[33mFlatMap\u001b[39m(\n",
       "    \u001b[33mMap\u001b[39m(\n",
       "      \u001b[33mAsync\u001b[39m(<function2>, false, true, true),\n",
       "      ammonite.$sess.cmd20$Helper$$Lambda$3316/1857030182@487cdc04,\n",
       "      \u001b[32m0\u001b[39m\n",
       "    ),\n",
       "    <function1>\n",
       "  ),\n",
       "  provingground.Utils$$$Lambda$2797/1331520012@313b87a8\n",
       ")"
      ]
     },
     "execution_count": 22,
     "metadata": {},
     "output_type": "execute_result"
    }
   ],
   "source": [
    "val bt = Utils.bestTask((1 to 30).map(ns))"
   ]
  },
  {
   "cell_type": "code",
   "execution_count": 23,
   "metadata": {},
   "outputs": [
    {
     "data": {
      "text/html": [
       "<div class=\"jp-RenderedText\">\n",
       "<pre><code><span style=\"color: rgb(0, 187, 187)\"><span class=\"ansi-cyan-fg\">bf</span></span>: <span style=\"color: rgb(0, 187, 0)\"><span class=\"ansi-green-fg\">monix</span></span>.<span style=\"color: rgb(0, 187, 0)\"><span class=\"ansi-green-fg\">execution</span></span>.<span style=\"color: rgb(0, 187, 0)\"><span class=\"ansi-green-fg\">CancelableFuture</span></span>[<span style=\"color: rgb(0, 187, 0)\"><span class=\"ansi-green-fg\">Option</span></span>[(<span style=\"color: rgb(0, 187, 0)\"><span class=\"ansi-green-fg\">Int</span></span>, <span style=\"color: rgb(0, 187, 0)\"><span class=\"ansi-green-fg\">TermState</span></span>)]] = <span style=\"color: rgb(0, 187, 0)\"><span class=\"ansi-green-fg\"><style>@keyframes fadein { from { opacity: 0; } to { opacity: 1; } }</style><span style=\"animation: fadein 2s;\"><span style=\"color: yellow\"><span class=\"ansi-yellow-fg\">Success</span></span>(\n",
       "  <span style=\"color: yellow\"><span class=\"ansi-yellow-fg\">Some</span></span>(\n",
       "    (\n",
       "      <span style=\"color: rgb(0, 187, 0)\"><span class=\"ansi-green-fg\">6</span></span>,\n",
       "      <span style=\"color: yellow\"><span class=\"ansi-yellow-fg\">TermState</span></span>(\n",
       "        <span style=\"color: yellow\"><span class=\"ansi-yellow-fg\">FiniteDistribution</span></span>(\n",
       "          <span style=\"color: yellow\"><span class=\"ansi-yellow-fg\">Vector</span></span>(\n",
       "            <span style=\"color: yellow\"><span class=\"ansi-yellow-fg\">Weighted</span></span>(\n",
       "              <span style=\"color: rgb(0, 187, 0)\"><span class=\"ansi-green-fg\">((`@a_1 , @a_2) : Zero×Unit) ↦ (`@a_1 , @a_2)</span></span>,\n",
       "              <span style=\"color: rgb(0, 187, 0)\"><span class=\"ansi-green-fg\">7.645998680079035E-6</span></span>\n",
       "            ),\n",
       "            <span style=\"color: yellow\"><span class=\"ansi-yellow-fg\">Weighted</span></span>(\n",
       "              <span style=\"color: rgb(0, 187, 0)\"><span class=\"ansi-green-fg\">(@a : (𝒰  → Unit)) ↦ (@a : 𝒰 ) ↦ Zero</span></span>,\n",
       "              <span style=\"color: rgb(0, 187, 0)\"><span class=\"ansi-green-fg\">3.517892735935752E-6</span></span>\n",
       "            ),\n",
       "            <span style=\"color: yellow\"><span class=\"ansi-yellow-fg\">Weighted</span></span>(\n",
       "              <span style=\"color: rgb(0, 187, 0)\"><span class=\"ansi-green-fg\">(@a : (𝒰  → (𝒰  → 𝒰 ))) ↦ (@a : 𝒰 ) ↦ @a</span></span>,\n",
       "              <span style=\"color: rgb(0, 187, 0)\"><span class=\"ansi-green-fg\">2.1804754011091535E-6</span></span>\n",
       "            ),\n",
       "            <span style=\"color: yellow\"><span class=\"ansi-yellow-fg\">Weighted</span></span>(\n",
       "              <span style=\"color: rgb(0, 187, 0)\"><span class=\"ansi-green-fg\">((@a_1 , @a_2) : ∑(@b : { @b }) ↦ (@a : Zero) ↦ @a</span></span>,\n",
       "              <span style=\"color: rgb(0, 187, 0)\"><span class=\"ansi-green-fg\">4.01190918028899E-6</span></span>\n",
       "            ),\n",
       "            <span style=\"color: yellow\"><span class=\"ansi-yellow-fg\">Weighted</span></span>(\n",
       "              <span style=\"color: rgb(0, 187, 0)\"><span class=\"ansi-green-fg\">(@a : Zero) ↦ ((@a_1 , @a_2) : ∑(@a : { @a }) ↦ @a</span></span>,\n",
       "              <span style=\"color: rgb(0, 187, 0)\"><span class=\"ansi-green-fg\">4.2467826993966145E-6</span></span>\n",
       "            ),\n",
       "            <span style=\"color: yellow\"><span class=\"ansi-yellow-fg\">Weighted</span></span>(<span style=\"color: rgb(0, 187, 0)\"><span class=\"ansi-green-fg\">(@a : Unit) ↦ (@b : Unit) ↦ @a</span></span>, <span style=\"color: rgb(0, 187, 0)\"><span class=\"ansi-green-fg\">8.675612414478823E-6</span></span>),\n",
       "            <span style=\"color: yellow\"><span class=\"ansi-yellow-fg\">Weighted</span></span>(<span style=\"color: rgb(0, 187, 0)\"><span class=\"ansi-green-fg\">(@a : Unit) ↦ (@a : Unit) ↦ @a</span></span>, <span style=\"color: rgb(0, 187, 0)\"><span class=\"ansi-green-fg\">2.9580566691582557E-5</span></span>),\n",
       "            <span style=\"color: yellow\"><span class=\"ansi-yellow-fg\">Weighted</span></span>(\n",
       "              <span style=\"color: rgb(0, 187, 0)\"><span class=\"ansi-green-fg\">((@a_1 , @a_2) : ∏(@a : 𝒰 ){ @a }×𝒰 ) ↦ Zero</span></span>,\n",
       "              <span style=\"color: rgb(0, 187, 0)\"><span class=\"ansi-green-fg\">1.049120033340579E-5</span></span>\n",
       "            ),\n",
       "            <span style=\"color: yellow\"><span class=\"ansi-yellow-fg\">Weighted</span></span>(\n",
       "              <span style=\"color: rgb(0, 187, 0)\"><span class=\"ansi-green-fg\">(@a : 𝒰 ) ↦ (@a : (𝒰  → @a)) ↦ @a(Zero)</span></span>,\n",
       "              <span style=\"color: rgb(0, 187, 0)\"><span class=\"ansi-green-fg\">1.5162235209130345E-5</span></span>\n",
       "            ),\n",
       "            <span style=\"color: yellow\"><span class=\"ansi-yellow-fg\">Weighted</span></span>(\n",
       "              <span style=\"color: rgb(0, 187, 0)\"><span class=\"ansi-green-fg\">(@a : ∏(@a : (𝒰  → 𝒰 )){ @a(Zero) }) ↦ Zero</span></span>,\n",
       "...</span></span></span></code></pre>\n",
       "</div>"
      ],
      "text/plain": [
       "\u001b[36mbf\u001b[39m: \u001b[32mmonix\u001b[39m.\u001b[32mexecution\u001b[39m.\u001b[32mCancelableFuture\u001b[39m[\u001b[32mOption\u001b[39m[(\u001b[32mInt\u001b[39m, \u001b[32mTermState\u001b[39m)]] = \u001b[32m\u001b[33mSuccess\u001b[39m(\n",
       "  \u001b[33mSome\u001b[39m(\n",
       "    (\n",
       "      \u001b[32m6\u001b[39m,\n",
       "      \u001b[33mTermState\u001b[39m(\n",
       "        \u001b[33mFiniteDistribution\u001b[39m(\n",
       "          \u001b[33mVector\u001b[39m(\n",
       "            \u001b[33mWeighted\u001b[39m(\n",
       "              \u001b[32m((`@a_1 , @a_2) : Zero×Unit) ↦ (`@a_1 , @a_2)\u001b[39m,\n",
       "              \u001b[32m7.645998680079035E-6\u001b[39m\n",
       "            ),\n",
       "            \u001b[33mWeighted\u001b[39m(\n",
       "              \u001b[32m(@a : (𝒰  → Unit)) ↦ (@a : 𝒰 ) ↦ Zero\u001b[39m,\n",
       "              \u001b[32m3.517892735935752E-6\u001b[39m\n",
       "            ),\n",
       "            \u001b[33mWeighted\u001b[39m(\n",
       "              \u001b[32m(@a : (𝒰  → (𝒰  → 𝒰 ))) ↦ (@a : 𝒰 ) ↦ @a\u001b[39m,\n",
       "              \u001b[32m2.1804754011091535E-6\u001b[39m\n",
       "            ),\n",
       "            \u001b[33mWeighted\u001b[39m(\n",
       "              \u001b[32m((@a_1 , @a_2) : ∑(@b : { @b }) ↦ (@a : Zero) ↦ @a\u001b[39m,\n",
       "              \u001b[32m4.01190918028899E-6\u001b[39m\n",
       "            ),\n",
       "            \u001b[33mWeighted\u001b[39m(\n",
       "              \u001b[32m(@a : Zero) ↦ ((@a_1 , @a_2) : ∑(@a : { @a }) ↦ @a\u001b[39m,\n",
       "              \u001b[32m4.2467826993966145E-6\u001b[39m\n",
       "            ),\n",
       "            \u001b[33mWeighted\u001b[39m(\u001b[32m(@a : Unit) ↦ (@b : Unit) ↦ @a\u001b[39m, \u001b[32m8.675612414478823E-6\u001b[39m),\n",
       "            \u001b[33mWeighted\u001b[39m(\u001b[32m(@a : Unit) ↦ (@a : Unit) ↦ @a\u001b[39m, \u001b[32m2.9580566691582557E-5\u001b[39m),\n",
       "            \u001b[33mWeighted\u001b[39m(\n",
       "              \u001b[32m((@a_1 , @a_2) : ∏(@a : 𝒰 ){ @a }×𝒰 ) ↦ Zero\u001b[39m,\n",
       "              \u001b[32m1.049120033340579E-5\u001b[39m\n",
       "            ),\n",
       "            \u001b[33mWeighted\u001b[39m(\n",
       "              \u001b[32m(@a : 𝒰 ) ↦ (@a : (𝒰  → @a)) ↦ @a(Zero)\u001b[39m,\n",
       "              \u001b[32m1.5162235209130345E-5\u001b[39m\n",
       "            ),\n",
       "            \u001b[33mWeighted\u001b[39m(\n",
       "              \u001b[32m(@a : ∏(@a : (𝒰  → 𝒰 )){ @a(Zero) }) ↦ Zero\u001b[39m,\n",
       "...\u001b[39m"
      ]
     },
     "metadata": {},
     "output_type": "display_data"
    }
   ],
   "source": [
    "val bf = bt.runToFuture"
   ]
  },
  {
   "cell_type": "code",
   "execution_count": 24,
   "metadata": {},
   "outputs": [
    {
     "data": {
      "text/plain": [
       "\u001b[36mA\u001b[39m: \u001b[32mTyp\u001b[39m[\u001b[32mTerm\u001b[39m] = \u001b[32mA\u001b[39m\n",
       "\u001b[36mtsT\u001b[39m: \u001b[32mmonix\u001b[39m.\u001b[32meval\u001b[39m.\u001b[32mTask\u001b[39m[\u001b[32mTermState\u001b[39m] = \u001b[33mMap\u001b[39m(\n",
       "  \u001b[33mFlatMap\u001b[39m(\n",
       "    \u001b[33mFlatMap\u001b[39m(\n",
       "      \u001b[33mMap\u001b[39m(\n",
       "        \u001b[33mAsync\u001b[39m(<function2>, false, true, true),\n",
       "        ammonite.$sess.cmd20$Helper$$Lambda$3316/1857030182@487cdc04,\n",
       "        \u001b[32m0\u001b[39m\n",
       "      ),\n",
       "      <function1>\n",
       "    ),\n",
       "    provingground.Utils$$$Lambda$2797/1331520012@313b87a8\n",
       "  ),\n",
       "  ammonite.$sess.cmd23$Helper$$Lambda$3327/584491755@78827119,\n",
       "  \u001b[32m0\u001b[39m\n",
       ")"
      ]
     },
     "execution_count": 24,
     "metadata": {},
     "output_type": "execute_result"
    }
   ],
   "source": [
    "val A = \"A\" :: Type\n",
    "val tsT = bt.map(_.get._2)"
   ]
  },
  {
   "cell_type": "code",
   "execution_count": 25,
   "metadata": {},
   "outputs": [
    {
     "data": {
      "text/plain": [
       "\u001b[36mtypT\u001b[39m: \u001b[32mmonix\u001b[39m.\u001b[32meval\u001b[39m.\u001b[32mTask\u001b[39m[\u001b[32mFiniteDistribution\u001b[39m[\u001b[32mTyp\u001b[39m[\u001b[32mTerm\u001b[39m]]] = \u001b[33mMap\u001b[39m(\n",
       "  \u001b[33mFlatMap\u001b[39m(\n",
       "    \u001b[33mFlatMap\u001b[39m(\n",
       "      \u001b[33mMap\u001b[39m(\n",
       "        \u001b[33mAsync\u001b[39m(<function2>, false, true, true),\n",
       "        ammonite.$sess.cmd20$Helper$$Lambda$3316/1857030182@487cdc04,\n",
       "        \u001b[32m0\u001b[39m\n",
       "      ),\n",
       "      <function1>\n",
       "    ),\n",
       "    provingground.Utils$$$Lambda$2797/1331520012@313b87a8\n",
       "  ),\n",
       "  scala.Function1$$Lambda$275/1928301845@cf5ea27,\n",
       "  \u001b[32m1\u001b[39m\n",
       ")"
      ]
     },
     "execution_count": 25,
     "metadata": {},
     "output_type": "execute_result"
    }
   ],
   "source": [
    "val typT = tsT.map(_.typs)"
   ]
  },
  {
   "cell_type": "code",
   "execution_count": 26,
   "metadata": {},
   "outputs": [
    {
     "data": {
      "text/html": [
       "<div class=\"jp-RenderedText\">\n",
       "<pre><code><span style=\"color: rgb(0, 187, 187)\"><span class=\"ansi-cyan-fg\">tpEntF</span></span>: <span style=\"color: rgb(0, 187, 0)\"><span class=\"ansi-green-fg\">monix</span></span>.<span style=\"color: rgb(0, 187, 0)\"><span class=\"ansi-green-fg\">execution</span></span>.<span style=\"color: rgb(0, 187, 0)\"><span class=\"ansi-green-fg\">CancelableFuture</span></span>[<span style=\"color: rgb(0, 187, 0)\"><span class=\"ansi-green-fg\">Vector</span></span>[<span style=\"color: rgb(0, 187, 0)\"><span class=\"ansi-green-fg\">Weighted</span></span>[<span style=\"color: rgb(0, 187, 0)\"><span class=\"ansi-green-fg\">Typ</span></span>[<span style=\"color: rgb(0, 187, 0)\"><span class=\"ansi-green-fg\">Term</span></span>]]]] = <span style=\"color: rgb(0, 187, 0)\"><span class=\"ansi-green-fg\"><style>@keyframes fadein { from { opacity: 0; } to { opacity: 1; } }</style><span style=\"animation: fadein 2s;\"><span style=\"color: yellow\"><span class=\"ansi-yellow-fg\">Success</span></span>(\n",
       "  <span style=\"color: yellow\"><span class=\"ansi-yellow-fg\">Vector</span></span>(\n",
       "    <span style=\"color: yellow\"><span class=\"ansi-yellow-fg\">Weighted</span></span>(<span style=\"color: rgb(0, 187, 0)\"><span class=\"ansi-green-fg\">𝒰 </span></span>, <span style=\"color: rgb(0, 187, 0)\"><span class=\"ansi-green-fg\">0.8078050867367692</span></span>),\n",
       "    <span style=\"color: yellow\"><span class=\"ansi-yellow-fg\">Weighted</span></span>(<span style=\"color: rgb(0, 187, 0)\"><span class=\"ansi-green-fg\">Zero</span></span>, <span style=\"color: rgb(0, 187, 0)\"><span class=\"ansi-green-fg\">2.6097510317946515</span></span>),\n",
       "    <span style=\"color: yellow\"><span class=\"ansi-yellow-fg\">Weighted</span></span>(<span style=\"color: rgb(0, 187, 0)\"><span class=\"ansi-green-fg\">Unit</span></span>, <span style=\"color: rgb(0, 187, 0)\"><span class=\"ansi-green-fg\">3.2090690705515024</span></span>),\n",
       "    <span style=\"color: yellow\"><span class=\"ansi-yellow-fg\">Weighted</span></span>(<span style=\"color: rgb(0, 187, 0)\"><span class=\"ansi-green-fg\">(𝒰  → 𝒰 )</span></span>, <span style=\"color: rgb(0, 187, 0)\"><span class=\"ansi-green-fg\">5.340830790910955</span></span>),\n",
       "    <span style=\"color: yellow\"><span class=\"ansi-yellow-fg\">Weighted</span></span>(<span style=\"color: rgb(0, 187, 0)\"><span class=\"ansi-green-fg\">∏(@b : 𝒰 ){ @b }</span></span>, <span style=\"color: rgb(0, 187, 0)\"><span class=\"ansi-green-fg\">6.089677361566008</span></span>),\n",
       "    <span style=\"color: yellow\"><span class=\"ansi-yellow-fg\">Weighted</span></span>(<span style=\"color: rgb(0, 187, 0)\"><span class=\"ansi-green-fg\">𝒰 ×𝒰 </span></span>, <span style=\"color: rgb(0, 187, 0)\"><span class=\"ansi-green-fg\">6.1329723987132665</span></span>),\n",
       "    <span style=\"color: yellow\"><span class=\"ansi-yellow-fg\">Weighted</span></span>(<span style=\"color: rgb(0, 187, 0)\"><span class=\"ansi-green-fg\">(Zero → 𝒰 )</span></span>, <span style=\"color: rgb(0, 187, 0)\"><span class=\"ansi-green-fg\">6.36387423075097</span></span>),\n",
       "    <span style=\"color: yellow\"><span class=\"ansi-yellow-fg\">Weighted</span></span>(<span style=\"color: rgb(0, 187, 0)\"><span class=\"ansi-green-fg\">∑(@b : { @b }</span></span>, <span style=\"color: rgb(0, 187, 0)\"><span class=\"ansi-green-fg\">6.8633807799533875</span></span>),\n",
       "    <span style=\"color: yellow\"><span class=\"ansi-yellow-fg\">Weighted</span></span>(<span style=\"color: rgb(0, 187, 0)\"><span class=\"ansi-green-fg\">(Unit → 𝒰 )</span></span>, <span style=\"color: rgb(0, 187, 0)\"><span class=\"ansi-green-fg\">6.982157826902726</span></span>),\n",
       "    <span style=\"color: yellow\"><span class=\"ansi-yellow-fg\">Weighted</span></span>(<span style=\"color: rgb(0, 187, 0)\"><span class=\"ansi-green-fg\">(𝒰  → Zero)</span></span>, <span style=\"color: rgb(0, 187, 0)\"><span class=\"ansi-green-fg\">7.510536353513168</span></span>),\n",
       "    <span style=\"color: yellow\"><span class=\"ansi-yellow-fg\">Weighted</span></span>(<span style=\"color: rgb(0, 187, 0)\"><span class=\"ansi-green-fg\">Zero×𝒰 </span></span>, <span style=\"color: rgb(0, 187, 0)\"><span class=\"ansi-green-fg\">7.749556307221009</span></span>),\n",
       "    <span style=\"color: yellow\"><span class=\"ansi-yellow-fg\">Weighted</span></span>(<span style=\"color: rgb(0, 187, 0)\"><span class=\"ansi-green-fg\">𝒰 ×Zero</span></span>, <span style=\"color: rgb(0, 187, 0)\"><span class=\"ansi-green-fg\">8.309134125358288</span></span>),\n",
       "    <span style=\"color: yellow\"><span class=\"ansi-yellow-fg\">Weighted</span></span>(<span style=\"color: rgb(0, 187, 0)\"><span class=\"ansi-green-fg\">(Zero → Zero)</span></span>, <span style=\"color: rgb(0, 187, 0)\"><span class=\"ansi-green-fg\">8.432093949328355</span></span>),\n",
       "    <span style=\"color: yellow\"><span class=\"ansi-yellow-fg\">Weighted</span></span>(<span style=\"color: rgb(0, 187, 0)\"><span class=\"ansi-green-fg\">(𝒰  → Unit)</span></span>, <span style=\"color: rgb(0, 187, 0)\"><span class=\"ansi-green-fg\">8.64368937897977</span></span>),\n",
       "    <span style=\"color: yellow\"><span class=\"ansi-yellow-fg\">Weighted</span></span>(<span style=\"color: rgb(0, 187, 0)\"><span class=\"ansi-green-fg\">@a</span></span>, <span style=\"color: rgb(0, 187, 0)\"><span class=\"ansi-green-fg\">8.653969363416635</span></span>),\n",
       "    <span style=\"color: yellow\"><span class=\"ansi-yellow-fg\">Weighted</span></span>(<span style=\"color: rgb(0, 187, 0)\"><span class=\"ansi-green-fg\">Unit×𝒰 </span></span>, <span style=\"color: rgb(0, 187, 0)\"><span class=\"ansi-green-fg\">8.813826584691428</span></span>),\n",
       "    <span style=\"color: yellow\"><span class=\"ansi-yellow-fg\">Weighted</span></span>(<span style=\"color: rgb(0, 187, 0)\"><span class=\"ansi-green-fg\">(Unit → Zero)</span></span>, <span style=\"color: rgb(0, 187, 0)\"><span class=\"ansi-green-fg\">9.056511499582138</span></span>),\n",
       "    <span style=\"color: yellow\"><span class=\"ansi-yellow-fg\">Weighted</span></span>(<span style=\"color: rgb(0, 187, 0)\"><span class=\"ansi-green-fg\">((𝒰  → 𝒰 ) → 𝒰 )</span></span>, <span style=\"color: rgb(0, 187, 0)\"><span class=\"ansi-green-fg\">9.342305425670816</span></span>),\n",
       "    <span style=\"color: yellow\"><span class=\"ansi-yellow-fg\">Weighted</span></span>(<span style=\"color: rgb(0, 187, 0)\"><span class=\"ansi-green-fg\">𝒰 ×Unit</span></span>, <span style=\"color: rgb(0, 187, 0)\"><span class=\"ansi-green-fg\">9.47305629964443</span></span>),\n",
       "    <span style=\"color: yellow\"><span class=\"ansi-yellow-fg\">Weighted</span></span>(<span style=\"color: rgb(0, 187, 0)\"><span class=\"ansi-green-fg\">(Zero → Unit)</span></span>, <span style=\"color: rgb(0, 187, 0)\"><span class=\"ansi-green-fg\">9.603976101330538</span></span>),\n",
       "    <span style=\"color: yellow\"><span class=\"ansi-yellow-fg\">Weighted</span></span>(<span style=\"color: rgb(0, 187, 0)\"><span class=\"ansi-green-fg\">(∏(@b : 𝒰 ){ @b } → 𝒰 )</span></span>, <span style=\"color: rgb(0, 187, 0)\"><span class=\"ansi-green-fg\">9.612955775479282</span></span>),\n",
       "    <span style=\"color: yellow\"><span class=\"ansi-yellow-fg\">Weighted</span></span>(<span style=\"color: rgb(0, 187, 0)\"><span class=\"ansi-green-fg\">Zero×Zero</span></span>, <span style=\"color: rgb(0, 187, 0)\"><span class=\"ansi-green-fg\">9.825857128597626</span></span>),\n",
       "    <span style=\"color: yellow\"><span class=\"ansi-yellow-fg\">Weighted</span></span>(<span style=\"color: rgb(0, 187, 0)\"><span class=\"ansi-green-fg\">(𝒰 ×𝒰  → 𝒰 )</span></span>, <span style=\"color: rgb(0, 187, 0)\"><span class=\"ansi-green-fg\">9.84297195684661</span></span>),\n",
       "    <span style=\"color: yellow\"><span class=\"ansi-yellow-fg\">Weighted</span></span>(<span style=\"color: rgb(0, 187, 0)\"><span class=\"ansi-green-fg\">(𝒰  → 𝒰 )×𝒰 </span></span>, <span style=\"color: rgb(0, 187, 0)\"><span class=\"ansi-green-fg\">10.041755741683657</span></span>),\n",
       "    <span style=\"color: yellow\"><span class=\"ansi-yellow-fg\">Weighted</span></span>(<span style=\"color: rgb(0, 187, 0)\"><span class=\"ansi-green-fg\">(Unit → Unit)</span></span>, <span style=\"color: rgb(0, 187, 0)\"><span class=\"ansi-green-fg\">10.101750058946411</span></span>),\n",
       "    <span style=\"color: yellow\"><span class=\"ansi-yellow-fg\">Weighted</span></span>(<span style=\"color: rgb(0, 187, 0)\"><span class=\"ansi-green-fg\">∏(@b : 𝒰 ){ (@b → 𝒰 ) }</span></span>, <span style=\"color: rgb(0, 187, 0)\"><span class=\"ansi-green-fg\">10.121346425654883</span></span>),\n",
       "    <span style=\"color: yellow\"><span class=\"ansi-yellow-fg\">Weighted</span></span>(<span style=\"color: rgb(0, 187, 0)\"><span class=\"ansi-green-fg\">((Zero → 𝒰 ) → 𝒰 )</span></span>, <span style=\"color: rgb(0, 187, 0)\"><span class=\"ansi-green-fg\">10.239869713657626</span></span>),\n",
       "    <span style=\"color: yellow\"><span class=\"ansi-yellow-fg\">Weighted</span></span>(<span style=\"color: rgb(0, 187, 0)\"><span class=\"ansi-green-fg\">(𝒰  → (𝒰  → 𝒰 ))</span></span>, <span style=\"color: rgb(0, 187, 0)\"><span class=\"ansi-green-fg\">10.267398585305962</span></span>),\n",
       "    <span style=\"color: yellow\"><span class=\"ansi-yellow-fg\">Weighted</span></span>(<span style=\"color: rgb(0, 187, 0)\"><span class=\"ansi-green-fg\">𝒰 ×𝒰 ×𝒰 </span></span>, <span style=\"color: rgb(0, 187, 0)\"><span class=\"ansi-green-fg\">10.294682800285921</span></span>),\n",
       "    <span style=\"color: yellow\"><span class=\"ansi-yellow-fg\">Weighted</span></span>(<span style=\"color: rgb(0, 187, 0)\"><span class=\"ansi-green-fg\">∏(@b : 𝒰 ){ @b }×𝒰 </span></span>, <span style=\"color: rgb(0, 187, 0)\"><span class=\"ansi-green-fg\">10.342990045833728</span></span>),\n",
       "    <span style=\"color: yellow\"><span class=\"ansi-yellow-fg\">Weighted</span></span>(<span style=\"color: rgb(0, 187, 0)\"><span class=\"ansi-green-fg\">(∑(@b : { @b } → 𝒰 )</span></span>, <span style=\"color: rgb(0, 187, 0)\"><span class=\"ansi-green-fg\">10.603776397675402</span></span>),\n",
       "    <span style=\"color: yellow\"><span class=\"ansi-yellow-fg\">Weighted</span></span>(<span style=\"color: rgb(0, 187, 0)\"><span class=\"ansi-green-fg\">(𝒰  → ∏(@c : 𝒰 ){ @c })</span></span>, <span style=\"color: rgb(0, 187, 0)\"><span class=\"ansi-green-fg\">10.647962531183406</span></span>),\n",
       "    <span style=\"color: yellow\"><span class=\"ansi-yellow-fg\">Weighted</span></span>(<span style=\"color: rgb(0, 187, 0)\"><span class=\"ansi-green-fg\">(Zero → (𝒰  → 𝒰 ))</span></span>, <span style=\"color: rgb(0, 187, 0)\"><span class=\"ansi-green-fg\">10.771142522472788</span></span>),\n",
       "    <span style=\"color: yellow\"><span class=\"ansi-yellow-fg\">Weighted</span></span>(<span style=\"color: rgb(0, 187, 0)\"><span class=\"ansi-green-fg\">𝒰 ×(𝒰  → 𝒰 )</span></span>, <span style=\"color: rgb(0, 187, 0)\"><span class=\"ansi-green-fg\">10.984979105509309</span></span>),\n",
       "    <span style=\"color: yellow\"><span class=\"ansi-yellow-fg\">Weighted</span></span>(<span style=\"color: rgb(0, 187, 0)\"><span class=\"ansi-green-fg\">Zero×Unit</span></span>, <span style=\"color: rgb(0, 187, 0)\"><span class=\"ansi-green-fg\">11.021335678591345</span></span>),\n",
       "    <span style=\"color: yellow\"><span class=\"ansi-yellow-fg\">Weighted</span></span>(<span style=\"color: rgb(0, 187, 0)\"><span class=\"ansi-green-fg\">Unit×Zero</span></span>, <span style=\"color: rgb(0, 187, 0)\"><span class=\"ansi-green-fg\">11.10642318364355</span></span>),\n",
       "    <span style=\"color: yellow\"><span class=\"ansi-yellow-fg\">Weighted</span></span>(<span style=\"color: rgb(0, 187, 0)\"><span class=\"ansi-green-fg\">(Zero → 𝒰 )×𝒰 </span></span>, <span style=\"color: rgb(0, 187, 0)\"><span class=\"ansi-green-fg\">11.143552517731386</span></span>),\n",
       "...</span></span></span></code></pre>\n",
       "</div>"
      ],
      "text/plain": [
       "\u001b[36mtpEntF\u001b[39m: \u001b[32mmonix\u001b[39m.\u001b[32mexecution\u001b[39m.\u001b[32mCancelableFuture\u001b[39m[\u001b[32mVector\u001b[39m[\u001b[32mWeighted\u001b[39m[\u001b[32mTyp\u001b[39m[\u001b[32mTerm\u001b[39m]]]] = \u001b[32m\u001b[33mSuccess\u001b[39m(\n",
       "  \u001b[33mVector\u001b[39m(\n",
       "    \u001b[33mWeighted\u001b[39m(\u001b[32m𝒰 \u001b[39m, \u001b[32m0.8078050867367692\u001b[39m),\n",
       "    \u001b[33mWeighted\u001b[39m(\u001b[32mZero\u001b[39m, \u001b[32m2.6097510317946515\u001b[39m),\n",
       "    \u001b[33mWeighted\u001b[39m(\u001b[32mUnit\u001b[39m, \u001b[32m3.2090690705515024\u001b[39m),\n",
       "    \u001b[33mWeighted\u001b[39m(\u001b[32m(𝒰  → 𝒰 )\u001b[39m, \u001b[32m5.340830790910955\u001b[39m),\n",
       "    \u001b[33mWeighted\u001b[39m(\u001b[32m∏(@b : 𝒰 ){ @b }\u001b[39m, \u001b[32m6.089677361566008\u001b[39m),\n",
       "    \u001b[33mWeighted\u001b[39m(\u001b[32m𝒰 ×𝒰 \u001b[39m, \u001b[32m6.1329723987132665\u001b[39m),\n",
       "    \u001b[33mWeighted\u001b[39m(\u001b[32m(Zero → 𝒰 )\u001b[39m, \u001b[32m6.36387423075097\u001b[39m),\n",
       "    \u001b[33mWeighted\u001b[39m(\u001b[32m∑(@b : { @b }\u001b[39m, \u001b[32m6.8633807799533875\u001b[39m),\n",
       "    \u001b[33mWeighted\u001b[39m(\u001b[32m(Unit → 𝒰 )\u001b[39m, \u001b[32m6.982157826902726\u001b[39m),\n",
       "    \u001b[33mWeighted\u001b[39m(\u001b[32m(𝒰  → Zero)\u001b[39m, \u001b[32m7.510536353513168\u001b[39m),\n",
       "    \u001b[33mWeighted\u001b[39m(\u001b[32mZero×𝒰 \u001b[39m, \u001b[32m7.749556307221009\u001b[39m),\n",
       "    \u001b[33mWeighted\u001b[39m(\u001b[32m𝒰 ×Zero\u001b[39m, \u001b[32m8.309134125358288\u001b[39m),\n",
       "    \u001b[33mWeighted\u001b[39m(\u001b[32m(Zero → Zero)\u001b[39m, \u001b[32m8.432093949328355\u001b[39m),\n",
       "    \u001b[33mWeighted\u001b[39m(\u001b[32m(𝒰  → Unit)\u001b[39m, \u001b[32m8.64368937897977\u001b[39m),\n",
       "    \u001b[33mWeighted\u001b[39m(\u001b[32m@a\u001b[39m, \u001b[32m8.653969363416635\u001b[39m),\n",
       "    \u001b[33mWeighted\u001b[39m(\u001b[32mUnit×𝒰 \u001b[39m, \u001b[32m8.813826584691428\u001b[39m),\n",
       "    \u001b[33mWeighted\u001b[39m(\u001b[32m(Unit → Zero)\u001b[39m, \u001b[32m9.056511499582138\u001b[39m),\n",
       "    \u001b[33mWeighted\u001b[39m(\u001b[32m((𝒰  → 𝒰 ) → 𝒰 )\u001b[39m, \u001b[32m9.342305425670816\u001b[39m),\n",
       "    \u001b[33mWeighted\u001b[39m(\u001b[32m𝒰 ×Unit\u001b[39m, \u001b[32m9.47305629964443\u001b[39m),\n",
       "    \u001b[33mWeighted\u001b[39m(\u001b[32m(Zero → Unit)\u001b[39m, \u001b[32m9.603976101330538\u001b[39m),\n",
       "    \u001b[33mWeighted\u001b[39m(\u001b[32m(∏(@b : 𝒰 ){ @b } → 𝒰 )\u001b[39m, \u001b[32m9.612955775479282\u001b[39m),\n",
       "    \u001b[33mWeighted\u001b[39m(\u001b[32mZero×Zero\u001b[39m, \u001b[32m9.825857128597626\u001b[39m),\n",
       "    \u001b[33mWeighted\u001b[39m(\u001b[32m(𝒰 ×𝒰  → 𝒰 )\u001b[39m, \u001b[32m9.84297195684661\u001b[39m),\n",
       "    \u001b[33mWeighted\u001b[39m(\u001b[32m(𝒰  → 𝒰 )×𝒰 \u001b[39m, \u001b[32m10.041755741683657\u001b[39m),\n",
       "    \u001b[33mWeighted\u001b[39m(\u001b[32m(Unit → Unit)\u001b[39m, \u001b[32m10.101750058946411\u001b[39m),\n",
       "    \u001b[33mWeighted\u001b[39m(\u001b[32m∏(@b : 𝒰 ){ (@b → 𝒰 ) }\u001b[39m, \u001b[32m10.121346425654883\u001b[39m),\n",
       "    \u001b[33mWeighted\u001b[39m(\u001b[32m((Zero → 𝒰 ) → 𝒰 )\u001b[39m, \u001b[32m10.239869713657626\u001b[39m),\n",
       "    \u001b[33mWeighted\u001b[39m(\u001b[32m(𝒰  → (𝒰  → 𝒰 ))\u001b[39m, \u001b[32m10.267398585305962\u001b[39m),\n",
       "    \u001b[33mWeighted\u001b[39m(\u001b[32m𝒰 ×𝒰 ×𝒰 \u001b[39m, \u001b[32m10.294682800285921\u001b[39m),\n",
       "    \u001b[33mWeighted\u001b[39m(\u001b[32m∏(@b : 𝒰 ){ @b }×𝒰 \u001b[39m, \u001b[32m10.342990045833728\u001b[39m),\n",
       "    \u001b[33mWeighted\u001b[39m(\u001b[32m(∑(@b : { @b } → 𝒰 )\u001b[39m, \u001b[32m10.603776397675402\u001b[39m),\n",
       "    \u001b[33mWeighted\u001b[39m(\u001b[32m(𝒰  → ∏(@c : 𝒰 ){ @c })\u001b[39m, \u001b[32m10.647962531183406\u001b[39m),\n",
       "    \u001b[33mWeighted\u001b[39m(\u001b[32m(Zero → (𝒰  → 𝒰 ))\u001b[39m, \u001b[32m10.771142522472788\u001b[39m),\n",
       "    \u001b[33mWeighted\u001b[39m(\u001b[32m𝒰 ×(𝒰  → 𝒰 )\u001b[39m, \u001b[32m10.984979105509309\u001b[39m),\n",
       "    \u001b[33mWeighted\u001b[39m(\u001b[32mZero×Unit\u001b[39m, \u001b[32m11.021335678591345\u001b[39m),\n",
       "    \u001b[33mWeighted\u001b[39m(\u001b[32mUnit×Zero\u001b[39m, \u001b[32m11.10642318364355\u001b[39m),\n",
       "    \u001b[33mWeighted\u001b[39m(\u001b[32m(Zero → 𝒰 )×𝒰 \u001b[39m, \u001b[32m11.143552517731386\u001b[39m),\n",
       "...\u001b[39m"
      ]
     },
     "metadata": {},
     "output_type": "display_data"
    }
   ],
   "source": [
    "val tpEntF = typT.map(_.entropyVec).runToFuture"
   ]
  },
  {
   "cell_type": "code",
   "execution_count": 27,
   "metadata": {},
   "outputs": [
    {
     "data": {
      "text/plain": [
       "\u001b[36mB\u001b[39m: \u001b[32mTyp\u001b[39m[\u001b[32mTerm\u001b[39m] = \u001b[32mB\u001b[39m\n",
       "\u001b[36mMP\u001b[39m: \u001b[32mGenFuncTyp\u001b[39m[\u001b[32mTyp\u001b[39m[\u001b[32mTerm\u001b[39m], \u001b[32mFuncLike\u001b[39m[\u001b[32mTyp\u001b[39m[\u001b[32mTerm\u001b[39m], \u001b[32mFunc\u001b[39m[\u001b[32mTerm\u001b[39m, \u001b[32mFunc\u001b[39m[\u001b[32mFunc\u001b[39m[\u001b[32mTerm\u001b[39m, \u001b[32mTerm\u001b[39m], \u001b[32mTerm\u001b[39m]]]] = \u001b[32m∏(A : 𝒰 ){ ∏(B : 𝒰 ){ (A → ((A → B) → B)) } }\u001b[39m"
      ]
     },
     "execution_count": 27,
     "metadata": {},
     "output_type": "execute_result"
    }
   ],
   "source": [
    "val B = \"B\" :: Type\n",
    "val MP = A ~>: (B ~>: (A ->: (A ->: B) ->: B))"
   ]
  },
  {
   "cell_type": "code",
   "execution_count": 28,
   "metadata": {},
   "outputs": [
    {
     "data": {
      "text/html": [
       "<div class=\"jp-RenderedText\">\n",
       "<pre><code><span style=\"color: rgb(0, 187, 187)\"><span class=\"ansi-cyan-fg\">res27</span></span>: <span style=\"color: rgb(0, 187, 0)\"><span class=\"ansi-green-fg\">monix</span></span>.<span style=\"color: rgb(0, 187, 0)\"><span class=\"ansi-green-fg\">execution</span></span>.<span style=\"color: rgb(0, 187, 0)\"><span class=\"ansi-green-fg\">CancelableFuture</span></span>[<span style=\"color: rgb(0, 187, 0)\"><span class=\"ansi-green-fg\">Double</span></span>] = <span style=\"color: rgb(0, 187, 0)\"><span class=\"ansi-green-fg\"><style>@keyframes fadein { from { opacity: 0; } to { opacity: 1; } }</style><span style=\"animation: fadein 2s;\"><span style=\"color: yellow\"><span class=\"ansi-yellow-fg\">Success</span></span>(<span style=\"color: rgb(0, 187, 0)\"><span class=\"ansi-green-fg\">0.0</span></span>)</span></span></span></code></pre>\n",
       "</div>"
      ],
      "text/plain": [
       "\u001b[36mres27\u001b[39m: \u001b[32mmonix\u001b[39m.\u001b[32mexecution\u001b[39m.\u001b[32mCancelableFuture\u001b[39m[\u001b[32mDouble\u001b[39m] = \u001b[32m\u001b[33mSuccess\u001b[39m(\u001b[32m0.0\u001b[39m)\u001b[39m"
      ]
     },
     "metadata": {},
     "output_type": "display_data"
    }
   ],
   "source": [
    "typT.map(_(MP)).runToFuture"
   ]
  },
  {
   "cell_type": "code",
   "execution_count": 29,
   "metadata": {},
   "outputs": [
    {
     "data": {
      "text/html": [
       "<div class=\"jp-RenderedText\">\n",
       "<pre><code><span style=\"color: rgb(0, 187, 187)\"><span class=\"ansi-cyan-fg\">idTyp</span></span>: <span style=\"color: rgb(0, 187, 0)\"><span class=\"ansi-green-fg\">GenFuncTyp</span></span>[<span style=\"color: rgb(0, 187, 0)\"><span class=\"ansi-green-fg\">Typ</span></span>[<span style=\"color: rgb(0, 187, 0)\"><span class=\"ansi-green-fg\">Term</span></span>], <span style=\"color: rgb(0, 187, 0)\"><span class=\"ansi-green-fg\">Func</span></span>[<span style=\"color: rgb(0, 187, 0)\"><span class=\"ansi-green-fg\">Term</span></span>, <span style=\"color: rgb(0, 187, 0)\"><span class=\"ansi-green-fg\">Term</span></span>]] = <span style=\"color: rgb(0, 187, 0)\"><span class=\"ansi-green-fg\">∏(A : 𝒰 ){ (A → A) }</span></span>\n",
       "<span style=\"color: rgb(0, 187, 187)\"><span class=\"ansi-cyan-fg\">res28_1</span></span>: <span style=\"color: rgb(0, 187, 0)\"><span class=\"ansi-green-fg\">monix</span></span>.<span style=\"color: rgb(0, 187, 0)\"><span class=\"ansi-green-fg\">execution</span></span>.<span style=\"color: rgb(0, 187, 0)\"><span class=\"ansi-green-fg\">CancelableFuture</span></span>[<span style=\"color: rgb(0, 187, 0)\"><span class=\"ansi-green-fg\">Double</span></span>] = <span style=\"color: rgb(0, 187, 0)\"><span class=\"ansi-green-fg\"><style>@keyframes fadein { from { opacity: 0; } to { opacity: 1; } }</style><span style=\"animation: fadein 2s;\"><span style=\"color: yellow\"><span class=\"ansi-yellow-fg\">Success</span></span>(<span style=\"color: rgb(0, 187, 0)\"><span class=\"ansi-green-fg\">2.952353241132993E-4</span></span>)</span></span></span></code></pre>\n",
       "</div>"
      ],
      "text/plain": [
       "\u001b[36midTyp\u001b[39m: \u001b[32mGenFuncTyp\u001b[39m[\u001b[32mTyp\u001b[39m[\u001b[32mTerm\u001b[39m], \u001b[32mFunc\u001b[39m[\u001b[32mTerm\u001b[39m, \u001b[32mTerm\u001b[39m]] = \u001b[32m∏(A : 𝒰 ){ (A → A) }\u001b[39m\n",
       "\u001b[36mres28_1\u001b[39m: \u001b[32mmonix\u001b[39m.\u001b[32mexecution\u001b[39m.\u001b[32mCancelableFuture\u001b[39m[\u001b[32mDouble\u001b[39m] = \u001b[32m\u001b[33mSuccess\u001b[39m(\u001b[32m2.952353241132993E-4\u001b[39m)\u001b[39m"
      ]
     },
     "metadata": {},
     "output_type": "display_data"
    }
   ],
   "source": [
    "val idTyp = A ~>: (A ->: A)\n",
    "typT.map(_(idTyp)).runToFuture"
   ]
  },
  {
   "cell_type": "markdown",
   "metadata": {},
   "source": [
    "## Conclusions\n",
    "\n",
    "* Repeated running of tasks is okay.\n",
    "* However, we see single shot generation is pretty weak."
   ]
  },
  {
   "cell_type": "code",
   "execution_count": 30,
   "metadata": {},
   "outputs": [
    {
     "data": {
      "text/plain": [
       "defined \u001b[32mfunction\u001b[39m \u001b[36mlp1\u001b[39m"
      ]
     },
     "execution_count": 30,
     "metadata": {},
     "output_type": "execute_result"
    }
   ],
   "source": [
    "def lp1(n: Int) = LocalProver(TermState(FiniteDistribution.unif(A, B), FiniteDistribution.unif(A, B))).sharpen(math.pow(2, n))"
   ]
  },
  {
   "cell_type": "code",
   "execution_count": 31,
   "metadata": {},
   "outputs": [
    {
     "data": {
      "text/plain": [
       "defined \u001b[32mfunction\u001b[39m \u001b[36mns1\u001b[39m"
      ]
     },
     "execution_count": 31,
     "metadata": {},
     "output_type": "execute_result"
    }
   ],
   "source": [
    "def ns1(n: Int) = lp1(n).nextState.map{ns => n -> ns}"
   ]
  },
  {
   "cell_type": "code",
   "execution_count": 41,
   "metadata": {},
   "outputs": [
    {
     "data": {
      "text/plain": [
       "\u001b[36mbT1\u001b[39m: \u001b[32mmonix\u001b[39m.\u001b[32meval\u001b[39m.\u001b[32mTask\u001b[39m[\u001b[32mOption\u001b[39m[(\u001b[32mInt\u001b[39m, \u001b[32mTermState\u001b[39m)]] = \u001b[33mFlatMap\u001b[39m(\n",
       "  \u001b[33mFlatMap\u001b[39m(\n",
       "    \u001b[33mMap\u001b[39m(\n",
       "      \u001b[33mAsync\u001b[39m(<function2>, false, true, true),\n",
       "      ammonite.$sess.cmd30$Helper$$Lambda$3446/1142216442@2a9f3987,\n",
       "      \u001b[32m0\u001b[39m\n",
       "    ),\n",
       "    <function1>\n",
       "  ),\n",
       "  provingground.Utils$$$Lambda$2797/1331520012@786eee75\n",
       ")"
      ]
     },
     "execution_count": 41,
     "metadata": {},
     "output_type": "execute_result"
    }
   ],
   "source": [
    "val bT1 = Utils.bestTask((1 to 30).map(ns1))"
   ]
  },
  {
   "cell_type": "code",
   "execution_count": 42,
   "metadata": {},
   "outputs": [
    {
     "data": {
      "text/html": [
       "<div class=\"jp-RenderedText\">\n",
       "<pre><code><span style=\"color: rgb(0, 187, 187)\"><span class=\"ansi-cyan-fg\">bF1</span></span>: <span style=\"color: rgb(0, 187, 0)\"><span class=\"ansi-green-fg\">monix</span></span>.<span style=\"color: rgb(0, 187, 0)\"><span class=\"ansi-green-fg\">execution</span></span>.<span style=\"color: rgb(0, 187, 0)\"><span class=\"ansi-green-fg\">CancelableFuture</span></span>[<span style=\"color: rgb(0, 187, 0)\"><span class=\"ansi-green-fg\">Option</span></span>[(<span style=\"color: rgb(0, 187, 0)\"><span class=\"ansi-green-fg\">Int</span></span>, <span style=\"color: rgb(0, 187, 0)\"><span class=\"ansi-green-fg\">TermState</span></span>)]] = <span style=\"color: rgb(0, 187, 0)\"><span class=\"ansi-green-fg\"><span style=\"color: white\"><span class=\"ansi-white-fg\">[running]</span></span></span></span></code></pre>\n",
       "</div>"
      ],
      "text/plain": [
       "\u001b[36mbF1\u001b[39m: \u001b[32mmonix\u001b[39m.\u001b[32mexecution\u001b[39m.\u001b[32mCancelableFuture\u001b[39m[\u001b[32mOption\u001b[39m[(\u001b[32mInt\u001b[39m, \u001b[32mTermState\u001b[39m)]] = \u001b[32m\u001b[37m[running]\u001b[39m\u001b[39m"
      ]
     },
     "metadata": {},
     "output_type": "display_data"
    }
   ],
   "source": [
    "val bF1 = bT1.runToFuture"
   ]
  },
  {
   "cell_type": "code",
   "execution_count": 43,
   "metadata": {},
   "outputs": [
    {
     "data": {
      "text/plain": [
       "\u001b[36mmp1T\u001b[39m: \u001b[32mmonix\u001b[39m.\u001b[32meval\u001b[39m.\u001b[32mTask\u001b[39m[\u001b[32mDouble\u001b[39m] = \u001b[33mMap\u001b[39m(\n",
       "  \u001b[33mFlatMap\u001b[39m(\n",
       "    \u001b[33mFlatMap\u001b[39m(\n",
       "      \u001b[33mMap\u001b[39m(\n",
       "        \u001b[33mAsync\u001b[39m(<function2>, false, true, true),\n",
       "        ammonite.$sess.cmd30$Helper$$Lambda$3446/1142216442@2a9f3987,\n",
       "        \u001b[32m0\u001b[39m\n",
       "      ),\n",
       "      <function1>\n",
       "    ),\n",
       "    provingground.Utils$$$Lambda$2797/1331520012@786eee75\n",
       "  ),\n",
       "  ammonite.$sess.cmd42$Helper$$Lambda$3457/424448485@f71aa6e,\n",
       "  \u001b[32m0\u001b[39m\n",
       ")"
      ]
     },
     "execution_count": 43,
     "metadata": {},
     "output_type": "execute_result"
    }
   ],
   "source": [
    "val mp1T = bT1.map(_.get._2.typs(A ->: (A ->: B) ->: B))"
   ]
  },
  {
   "cell_type": "code",
   "execution_count": 44,
   "metadata": {},
   "outputs": [
    {
     "data": {
      "text/html": [
       "<div class=\"jp-RenderedText\">\n",
       "<pre><code><span style=\"color: rgb(0, 187, 187)\"><span class=\"ansi-cyan-fg\">mp1F</span></span>: <span style=\"color: rgb(0, 187, 0)\"><span class=\"ansi-green-fg\">monix</span></span>.<span style=\"color: rgb(0, 187, 0)\"><span class=\"ansi-green-fg\">execution</span></span>.<span style=\"color: rgb(0, 187, 0)\"><span class=\"ansi-green-fg\">CancelableFuture</span></span>[<span style=\"color: rgb(0, 187, 0)\"><span class=\"ansi-green-fg\">Double</span></span>] = <span style=\"color: rgb(0, 187, 0)\"><span class=\"ansi-green-fg\"><span style=\"color: white\"><span class=\"ansi-white-fg\">[running]</span></span></span></span></code></pre>\n",
       "</div>"
      ],
      "text/plain": [
       "\u001b[36mmp1F\u001b[39m: \u001b[32mmonix\u001b[39m.\u001b[32mexecution\u001b[39m.\u001b[32mCancelableFuture\u001b[39m[\u001b[32mDouble\u001b[39m] = \u001b[32m\u001b[37m[running]\u001b[39m\u001b[39m"
      ]
     },
     "metadata": {},
     "output_type": "display_data"
    }
   ],
   "source": [
    "val mp1F = mp1T.runToFuture"
   ]
  },
  {
   "cell_type": "code",
   "execution_count": 45,
   "metadata": {},
   "outputs": [
    {
     "data": {
      "text/plain": [
       "\u001b[36mtyps1T\u001b[39m: \u001b[32mmonix\u001b[39m.\u001b[32meval\u001b[39m.\u001b[32mTask\u001b[39m[\u001b[32mFiniteDistribution\u001b[39m[\u001b[32mTyp\u001b[39m[\u001b[32mTerm\u001b[39m]]] = \u001b[33mMap\u001b[39m(\n",
       "  \u001b[33mFlatMap\u001b[39m(\n",
       "    \u001b[33mFlatMap\u001b[39m(\n",
       "      \u001b[33mMap\u001b[39m(\n",
       "        \u001b[33mAsync\u001b[39m(<function2>, false, true, true),\n",
       "        ammonite.$sess.cmd30$Helper$$Lambda$3446/1142216442@2a9f3987,\n",
       "        \u001b[32m0\u001b[39m\n",
       "      ),\n",
       "      <function1>\n",
       "    ),\n",
       "    provingground.Utils$$$Lambda$2797/1331520012@786eee75\n",
       "  ),\n",
       "  ammonite.$sess.cmd44$Helper$$Lambda$3464/1416231077@4a8a7522,\n",
       "  \u001b[32m0\u001b[39m\n",
       ")"
      ]
     },
     "execution_count": 45,
     "metadata": {},
     "output_type": "execute_result"
    }
   ],
   "source": [
    "val typs1T = bT1.map(_.get._2.typs) "
   ]
  },
  {
   "cell_type": "code",
   "execution_count": 46,
   "metadata": {},
   "outputs": [
    {
     "data": {
      "text/html": [
       "<div class=\"jp-RenderedText\">\n",
       "<pre><code><span style=\"color: rgb(0, 187, 187)\"><span class=\"ansi-cyan-fg\">res45</span></span>: <span style=\"color: rgb(0, 187, 0)\"><span class=\"ansi-green-fg\">monix</span></span>.<span style=\"color: rgb(0, 187, 0)\"><span class=\"ansi-green-fg\">execution</span></span>.<span style=\"color: rgb(0, 187, 0)\"><span class=\"ansi-green-fg\">CancelableFuture</span></span>[<span style=\"color: rgb(0, 187, 0)\"><span class=\"ansi-green-fg\">Double</span></span>] = <span style=\"color: rgb(0, 187, 0)\"><span class=\"ansi-green-fg\"><span style=\"color: white\"><span class=\"ansi-white-fg\">[running]</span></span></span></span></code></pre>\n",
       "</div>"
      ],
      "text/plain": [
       "\u001b[36mres45\u001b[39m: \u001b[32mmonix\u001b[39m.\u001b[32mexecution\u001b[39m.\u001b[32mCancelableFuture\u001b[39m[\u001b[32mDouble\u001b[39m] = \u001b[32m\u001b[37m[running]\u001b[39m\u001b[39m"
      ]
     },
     "metadata": {},
     "output_type": "display_data"
    }
   ],
   "source": [
    "typs1T.map(_(A ->: B)).runToFuture"
   ]
  },
  {
   "cell_type": "code",
   "execution_count": 52,
   "metadata": {},
   "outputs": [
    {
     "data": {
      "text/plain": [
       "\u001b[36mres51\u001b[39m: \u001b[32mOption\u001b[39m[\u001b[32mscala\u001b[39m.\u001b[32mutil\u001b[39m.\u001b[32mTry\u001b[39m[\u001b[32mDouble\u001b[39m]] = \u001b[32mNone\u001b[39m"
      ]
     },
     "execution_count": 52,
     "metadata": {},
     "output_type": "execute_result"
    }
   ],
   "source": [
    "mp1F.value"
   ]
  },
  {
   "cell_type": "code",
   "execution_count": 53,
   "metadata": {},
   "outputs": [
    {
     "data": {
      "text/plain": [
       "\u001b[36mres52\u001b[39m: \u001b[32mOption\u001b[39m[\u001b[32mscala\u001b[39m.\u001b[32mutil\u001b[39m.\u001b[32mTry\u001b[39m[\u001b[32mOption\u001b[39m[(\u001b[32mInt\u001b[39m, \u001b[32mTermState\u001b[39m)]]] = \u001b[32mNone\u001b[39m"
      ]
     },
     "execution_count": 53,
     "metadata": {},
     "output_type": "execute_result"
    }
   ],
   "source": [
    "bF1.value"
   ]
  },
  {
   "cell_type": "markdown",
   "metadata": {},
   "source": [
    "This strangely did not complete. Should run in a fresh worksheet."
   ]
  }
 ],
 "metadata": {
  "kernelspec": {
   "display_name": "Scala",
   "language": "scala",
   "name": "scala"
  },
  "language_info": {
   "codemirror_mode": "text/x-scala",
   "file_extension": ".scala",
   "mimetype": "text/x-scala",
   "name": "scala",
   "nbconvert_exporter": "script",
   "version": "2.12.9"
  }
 },
 "nbformat": 4,
 "nbformat_minor": 2
}
