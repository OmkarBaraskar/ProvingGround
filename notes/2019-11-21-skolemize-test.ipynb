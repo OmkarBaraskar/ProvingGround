{
 "cells": [
  {
   "cell_type": "markdown",
   "metadata": {},
   "source": [
    "## Testing skolemization\n",
    "\n",
    "We test skolemizing types and mapping a term from the skolemized type."
   ]
  },
  {
   "cell_type": "code",
   "execution_count": 1,
   "metadata": {},
   "outputs": [
    {
     "data": {
      "text/plain": [
       "\u001b[32mimport \u001b[39m\u001b[36m$cp.$                                              \n",
       "\u001b[39m\n",
       "\u001b[32mimport \u001b[39m\u001b[36mprovingground._ , interface._, HoTT._, learning._ \n",
       "\u001b[39m"
      ]
     },
     "execution_count": 1,
     "metadata": {},
     "output_type": "execute_result"
    }
   ],
   "source": [
    "import $cp.bin.`provingground-core-jvm-16c05447f5.fat.jar`\n",
    "import provingground._ , interface._, HoTT._, learning._ \n",
    "repl.pprinter() = {\n",
    "  val p = repl.pprinter()\n",
    "  p.copy(\n",
    "    additionalHandlers = p.additionalHandlers.orElse {\n",
    "      translation.FansiShow.fansiHandler\n",
    "    }\n",
    "  )\n",
    "}\n"
   ]
  },
  {
   "cell_type": "code",
   "execution_count": 2,
   "metadata": {},
   "outputs": [
    {
     "data": {
      "text/plain": [
       "\u001b[36mlp\u001b[39m: \u001b[32mLocalProver\u001b[39m = \u001b[33mLocalProver\u001b[39m(\n",
       "  \u001b[33mTermState\u001b[39m(\n",
       "    \u001b[33mFiniteDistribution\u001b[39m(\u001b[33mVector\u001b[39m()),\n",
       "    \u001b[33mFiniteDistribution\u001b[39m(\u001b[33mVector\u001b[39m(\u001b[33mWeighted\u001b[39m(\u001b[32m𝒰 \u001b[39m, \u001b[32m1.0\u001b[39m))),\n",
       "    \u001b[33mVector\u001b[39m(),\n",
       "    \u001b[33mFiniteDistribution\u001b[39m(\u001b[33mVector\u001b[39m()),\n",
       "    \u001b[33mFiniteDistribution\u001b[39m(\u001b[33mVector\u001b[39m()),\n",
       "    Empty\n",
       "  ),\n",
       "  \u001b[33mTermGenParams\u001b[39m(\n",
       "    \u001b[32m0.1\u001b[39m,\n",
       "    \u001b[32m0.1\u001b[39m,\n",
       "    \u001b[32m0.1\u001b[39m,\n",
       "    \u001b[32m0.1\u001b[39m,\n",
       "    \u001b[32m0.1\u001b[39m,\n",
       "    \u001b[32m0.05\u001b[39m,\n",
       "    \u001b[32m0.05\u001b[39m,\n",
       "    \u001b[32m0.05\u001b[39m,\n",
       "    \u001b[32m0.0\u001b[39m,\n",
       "    \u001b[32m0.0\u001b[39m,\n",
       "    \u001b[32m0.0\u001b[39m,\n",
       "    \u001b[32m0.0\u001b[39m,\n",
       "    \u001b[32m0.3\u001b[39m,\n",
       "    \u001b[32m0.7\u001b[39m,\n",
       "    \u001b[32m0.5\u001b[39m,\n",
       "    \u001b[32m0.0\u001b[39m,\n",
       "    \u001b[32m0.0\u001b[39m,\n",
       "    \u001b[32m0.0\u001b[39m,\n",
       "    \u001b[33mOrElse\u001b[39m(\n",
       "      \u001b[33mOrElse\u001b[39m(\u001b[33mOrElse\u001b[39m(\u001b[33mOrElse\u001b[39m(<function1>, <function1>), <function1>), <function1>),\n",
       "      <function1>\n",
       "    )\n",
       "  ),\n",
       "  \u001b[32m1.0E-4\u001b[39m,\n",
       "  \u001b[32mNone\u001b[39m,\n",
       "  12 minutes,\n",
       "  \u001b[32m1.01\u001b[39m,\n",
       "  \u001b[32m1.0\u001b[39m,\n",
       "..."
      ]
     },
     "execution_count": 2,
     "metadata": {},
     "output_type": "execute_result"
    }
   ],
   "source": [
    "val lp = LocalProver(TermState(FiniteDistribution.empty, FiniteDistribution.unif(Type)))"
   ]
  },
  {
   "cell_type": "code",
   "execution_count": 3,
   "metadata": {},
   "outputs": [
    {
     "data": {
      "text/plain": [
       "\u001b[36mtypsT\u001b[39m: \u001b[32mmonix\u001b[39m.\u001b[32meval\u001b[39m.\u001b[32mTask\u001b[39m[\u001b[32mFiniteDistribution\u001b[39m[\u001b[32mTyp\u001b[39m[\u001b[32mTerm\u001b[39m]]] = \u001b[33mMap\u001b[39m(\n",
       "  \u001b[33mFlatMap\u001b[39m(\n",
       "    \u001b[33mAsync\u001b[39m(<function2>, true, true, true),\n",
       "    monix.eval.Task$$Lambda$2532/391230082@40f1ded4\n",
       "  ),\n",
       "  scala.Function1$$Lambda$332/412925308@7cfc1c81,\n",
       "  \u001b[32m1\u001b[39m\n",
       ")"
      ]
     },
     "execution_count": 3,
     "metadata": {},
     "output_type": "execute_result"
    }
   ],
   "source": [
    "val typsT = lp.varDist(TermRandomVars.Typs)"
   ]
  },
  {
   "cell_type": "code",
   "execution_count": 4,
   "metadata": {},
   "outputs": [
    {
     "data": {
      "text/plain": [
       "\u001b[32mimport \u001b[39m\u001b[36mmonix.execution.Scheduler.Implicits.global\n",
       "\u001b[39m\n",
       "\u001b[36mtyps\u001b[39m: \u001b[32mFiniteDistribution\u001b[39m[\u001b[32mTyp\u001b[39m[\u001b[32mTerm\u001b[39m]] = \u001b[33mFiniteDistribution\u001b[39m(\n",
       "  \u001b[33mVector\u001b[39m(\n",
       "    \u001b[33mWeighted\u001b[39m(\u001b[32m(∏(@a : 𝒰 ){ @a } → 𝒰 )×𝒰 \u001b[39m, \u001b[32m2.864303616183315E-4\u001b[39m),\n",
       "    \u001b[33mWeighted\u001b[39m(\u001b[32m(𝒰  → 𝒰 )×𝒰 \u001b[39m, \u001b[32m0.0030964747095065226\u001b[39m),\n",
       "    \u001b[33mWeighted\u001b[39m(\u001b[32m(𝒰 ×𝒰  → 𝒰 )×𝒰 \u001b[39m, \u001b[32m3.3416875522138676E-4\u001b[39m),\n",
       "    \u001b[33mWeighted\u001b[39m(\u001b[32m((𝒰  → 𝒰 ) → 𝒰 )×𝒰 \u001b[39m, \u001b[32m6.683375104427735E-4\u001b[39m),\n",
       "    \u001b[33mWeighted\u001b[39m(\u001b[32m(𝒰  → 𝒰 )×∏(@a : 𝒰 ){ @a }\u001b[39m, \u001b[32m1.5482373547532613E-4\u001b[39m),\n",
       "    \u001b[33mWeighted\u001b[39m(\u001b[32m∑(@a : 𝒰 ){ @a×@a }\u001b[39m, \u001b[32m2.531792092091293E-4\u001b[39m),\n",
       "    \u001b[33mWeighted\u001b[39m(\u001b[32m(𝒰  → ∑(@b : 𝒰 ){ @b })\u001b[39m, \u001b[32m8.854437201954419E-4\u001b[39m),\n",
       "    \u001b[33mWeighted\u001b[39m(\u001b[32m𝒰 \u001b[39m, \u001b[32m0.8421052631578946\u001b[39m),\n",
       "    \u001b[33mWeighted\u001b[39m(\u001b[32m∏(@a : 𝒰 ){ @a×𝒰  }\u001b[39m, \u001b[32m8.854437201954417E-4\u001b[39m),\n",
       "    \u001b[33mWeighted\u001b[39m(\u001b[32m(𝒰  → 𝒰 )×𝒰 ×𝒰 \u001b[39m, \u001b[32m1.8062769138788048E-4\u001b[39m),\n",
       "    \u001b[33mWeighted\u001b[39m(\u001b[32m∑(@a : 𝒰 ){ @a }\u001b[39m, \u001b[32m0.010127168368365172\u001b[39m),\n",
       "    \u001b[33mWeighted\u001b[39m(\u001b[32m(𝒰  → (𝒰  → 𝒰 ))×𝒰 \u001b[39m, \u001b[32m3.097764907302151E-4\u001b[39m),\n",
       "    \u001b[33mWeighted\u001b[39m(\u001b[32m∑(@a : 𝒰 ){ (@a → @a) }\u001b[39m, \u001b[32m4.7897690533021465E-4\u001b[39m),\n",
       "    \u001b[33mWeighted\u001b[39m(\u001b[32m∑(@a : 𝒰 ){ (𝒰  → @a) }\u001b[39m, \u001b[32m7.823289453726841E-4\u001b[39m),\n",
       "    \u001b[33mWeighted\u001b[39m(\u001b[32m∏(@a : 𝒰 ){ @a }×𝒰 \u001b[39m, \u001b[32m0.0016256492224909244\u001b[39m),\n",
       "    \u001b[33mWeighted\u001b[39m(\u001b[32m∑(@a : 𝒰 ){ 𝒰 ×@a }\u001b[39m, \u001b[32m4.135260417082446E-4\u001b[39m),\n",
       "    \u001b[33mWeighted\u001b[39m(\u001b[32m∑(@a : 𝒰 ){ @a }×𝒰 \u001b[39m, \u001b[32m9.426551453260014E-4\u001b[39m),\n",
       "    \u001b[33mWeighted\u001b[39m(\u001b[32m𝒰 ×∑(@b : 𝒰 ){ @b }\u001b[39m, \u001b[32m5.907514881546351E-4\u001b[39m),\n",
       "    \u001b[33mWeighted\u001b[39m(\u001b[32m𝒰 ×𝒰 ×(𝒰  → 𝒰 )\u001b[39m, \u001b[32m2.2980150308942325E-4\u001b[39m),\n",
       "    \u001b[33mWeighted\u001b[39m(\u001b[32m𝒰 ×𝒰 \u001b[39m, \u001b[32m0.023630059526185403\u001b[39m),\n",
       "    \u001b[33mWeighted\u001b[39m(\u001b[32m(𝒰 ×𝒰  → ∏(@a : 𝒰 ){ @a })\u001b[39m, \u001b[32m1.5482373547532618E-4\u001b[39m),\n",
       "    \u001b[33mWeighted\u001b[39m(\u001b[32m∏(@a : 𝒰 ){ (@a → @a) }\u001b[39m, \u001b[32m6.79803857197287E-4\u001b[39m),\n",
       "    \u001b[33mWeighted\u001b[39m(\u001b[32m∏(@a : 𝒰 ){ ((𝒰  → 𝒰 ) → @a) }\u001b[39m, \u001b[32m1.2954040167703856E-4\u001b[39m),\n",
       "    \u001b[33mWeighted\u001b[39m(\u001b[32m∏(@a : 𝒰 ){ (𝒰  → @a) }\u001b[39m, \u001b[32m0.0011103463000889024\u001b[39m),\n",
       "    \u001b[33mWeighted\u001b[39m(\u001b[32m(𝒰  → ∏(@b : 𝒰 ){ @b })\u001b[39m, \u001b[32m0.0015862090001270033\u001b[39m),\n",
       "    \u001b[33mWeighted\u001b[39m(\u001b[32m((𝒰  → 𝒰 ) → ∏(@a : 𝒰 ){ @a })\u001b[39m, \u001b[32m2.718085193921044E-4\u001b[39m),\n",
       "    \u001b[33mWeighted\u001b[39m(\u001b[32m(∏(@a : 𝒰 ){ @a }×𝒰  → 𝒰 )\u001b[39m, \u001b[32m2.8643036161833153E-4\u001b[39m),\n",
       "    \u001b[33mWeighted\u001b[39m(\u001b[32m(∑(@a : 𝒰 ){ @a } → 𝒰 )\u001b[39m, \u001b[32m0.0016256492224909246\u001b[39m),\n",
       "    \u001b[33mWeighted\u001b[39m(\u001b[32m((𝒰  → 𝒰 )×𝒰  → 𝒰 )\u001b[39m, \u001b[32m6.683375104427735E-4\u001b[39m),\n",
       "    \u001b[33mWeighted\u001b[39m(\u001b[32m(𝒰  → 𝒰 )\u001b[39m, \u001b[32m0.055272207947044544\u001b[39m),\n",
       "    \u001b[33mWeighted\u001b[39m(\u001b[32m(𝒰 ×𝒰  → 𝒰 )\u001b[39m, \u001b[32m0.003096474709506523\u001b[39m),\n",
       "    \u001b[33mWeighted\u001b[39m(\u001b[32m(∏(@a : 𝒰 ){ (𝒰  → @a) } → 𝒰 )\u001b[39m, \u001b[32m2.3307580537872962E-4\u001b[39m),\n",
       "    \u001b[33mWeighted\u001b[39m(\u001b[32m((𝒰  → ∏(@b : 𝒰 ){ @b }) → 𝒰 )\u001b[39m, \u001b[32m3.329654362553281E-4\u001b[39m),\n",
       "    \u001b[33mWeighted\u001b[39m(\u001b[32m((𝒰  → 𝒰 ) → 𝒰 )\u001b[39m, \u001b[32m0.005436170387842089\u001b[39m),\n",
       "    \u001b[33mWeighted\u001b[39m(\u001b[32m((∑(@a : 𝒰 ){ @a } → 𝒰 ) → 𝒰 )\u001b[39m, \u001b[32m2.807017543859649E-4\u001b[39m),\n",
       "    \u001b[33mWeighted\u001b[39m(\u001b[32m((𝒰 ×𝒰  → 𝒰 ) → 𝒰 )\u001b[39m, \u001b[32m6.549707602339181E-4\u001b[39m),\n",
       "    \u001b[33mWeighted\u001b[39m(\u001b[32m(((𝒰  → 𝒰 ) → 𝒰 ) → 𝒰 )\u001b[39m, \u001b[32m0.0013099415204678362\u001b[39m),\n",
       "..."
      ]
     },
     "execution_count": 4,
     "metadata": {},
     "output_type": "execute_result"
    }
   ],
   "source": [
    "import monix.execution.Scheduler.Implicits.global\n",
    "val typs = typsT.runSyncUnsafe()"
   ]
  },
  {
   "cell_type": "code",
   "execution_count": 5,
   "metadata": {},
   "outputs": [
    {
     "data": {
      "text/plain": [
       "\u001b[32mimport \u001b[39m\u001b[36mscala.util._\n",
       "\u001b[39m\n",
       "defined \u001b[32mfunction\u001b[39m \u001b[36mskolemCheck\u001b[39m"
      ]
     },
     "execution_count": 5,
     "metadata": {},
     "output_type": "execute_result"
    }
   ],
   "source": [
    "import scala.util._\n",
    "def skolemCheck(typ: Typ[Term]) = {\n",
    "    val sk = skolemize(typ)\n",
    "    val x = sk.Var\n",
    "    (typ, sk, Try(fromSkolemized(typ)(x)))\n",
    "}"
   ]
  },
  {
   "cell_type": "code",
   "execution_count": 6,
   "metadata": {},
   "outputs": [
    {
     "data": {
      "text/plain": [
       "\u001b[36mchecklist\u001b[39m: \u001b[32mVector\u001b[39m[(\u001b[32mTyp\u001b[39m[\u001b[32mTerm\u001b[39m], \u001b[32mTyp\u001b[39m[\u001b[32mTerm\u001b[39m], \u001b[32mTry\u001b[39m[\u001b[32mTerm\u001b[39m])] = \u001b[33mVector\u001b[39m(\n",
       "  (\n",
       "    \u001b[32m(∏(@a : 𝒰 ){ @a } → 𝒰 )×𝒰 \u001b[39m,\n",
       "    \u001b[32m(∏(@a : 𝒰 ){ @a } → 𝒰 )×𝒰 \u001b[39m,\n",
       "    \u001b[33mSuccess\u001b[39m(\u001b[32m(($hkd : ∏(@a : 𝒰 ){ @a }) ↦ $hjy_1($hkd) , $hjy_2)\u001b[39m)\n",
       "  ),\n",
       "  (\n",
       "    \u001b[32m(𝒰  → 𝒰 )×𝒰 \u001b[39m,\n",
       "    \u001b[32m(𝒰  → 𝒰 )×𝒰 \u001b[39m,\n",
       "    \u001b[33mSuccess\u001b[39m(\u001b[32m(($hln : 𝒰 ) ↦ $hlk_1($hln) , $hlk_2)\u001b[39m)\n",
       "  ),\n",
       "  (\n",
       "    \u001b[32m(𝒰 ×𝒰  → 𝒰 )×𝒰 \u001b[39m,\n",
       "    \u001b[32m(𝒰 ×𝒰  → 𝒰 )×𝒰 \u001b[39m,\n",
       "    \u001b[33mSuccess\u001b[39m(\n",
       "      \u001b[32m(((`$hlv_1 , $hlv_2) : 𝒰 ×𝒰 ) ↦ $hls_1((`$hlv_1 , $hlv_2)) , $hls_2)\u001b[39m\n",
       "    )\n",
       "  ),\n",
       "  (\n",
       "    \u001b[32m((𝒰  → 𝒰 ) → 𝒰 )×𝒰 \u001b[39m,\n",
       "    \u001b[32m((𝒰  → 𝒰 ) → 𝒰 )×𝒰 \u001b[39m,\n",
       "    \u001b[33mSuccess\u001b[39m(\u001b[32m(($hmf : (𝒰  → 𝒰 )) ↦ $hma_1($hmf) , $hma_2)\u001b[39m)\n",
       "  ),\n",
       "  (\n",
       "    \u001b[32m(𝒰  → 𝒰 )×∏(@a : 𝒰 ){ @a }\u001b[39m,\n",
       "    \u001b[32m(𝒰  → 𝒰 )×∏(@a : 𝒰 ){ @a }\u001b[39m,\n",
       "    \u001b[33mSuccess\u001b[39m(\u001b[32m(($hnq : 𝒰 ) ↦ $hnm_1($hnq) , (@a : 𝒰 ) ↦ $hnm_2(@a))\u001b[39m)\n",
       "  ),\n",
       "  (\n",
       "    \u001b[32m∑(@a : 𝒰 ){ @a×@a }\u001b[39m,\n",
       "    \u001b[32m∑(@a : 𝒰 ){ @a×@a }\u001b[39m,\n",
       "    \u001b[33mSuccess\u001b[39m(\u001b[32m($hnz_1 , ($hnz_2_1 , $hnz_2_2))\u001b[39m)\n",
       "  ),\n",
       "  (\n",
       "    \u001b[32m(𝒰  → ∑(@b : 𝒰 ){ @b })\u001b[39m,\n",
       "    \u001b[32m∑($hob : (𝒰  → 𝒰 )){ ∏($hoa : 𝒰 ){ $hob($hoa) } }\u001b[39m,\n",
       "    \u001b[33mSuccess\u001b[39m(\u001b[32m($jtr : 𝒰 ) ↦ ($hot_1($jtr) , $hot_2($jtr))\u001b[39m)\n",
       "  ),\n",
       "  (\u001b[32m𝒰 \u001b[39m, \u001b[32m𝒰 \u001b[39m, \u001b[33mSuccess\u001b[39m(\u001b[32m$kql\u001b[39m)),\n",
       "..."
      ]
     },
     "execution_count": 6,
     "metadata": {},
     "output_type": "execute_result"
    }
   ],
   "source": [
    "val checklist = typs.supp.map(skolemCheck)"
   ]
  },
  {
   "cell_type": "code",
   "execution_count": 7,
   "metadata": {},
   "outputs": [
    {
     "data": {
      "text/plain": [
       "\u001b[36mres6\u001b[39m: \u001b[32mVector\u001b[39m[(\u001b[32mTyp\u001b[39m[\u001b[32mTerm\u001b[39m], \u001b[32mTyp\u001b[39m[\u001b[32mTerm\u001b[39m], \u001b[32mTry\u001b[39m[\u001b[32mTerm\u001b[39m])] = \u001b[33mVector\u001b[39m()"
      ]
     },
     "execution_count": 7,
     "metadata": {},
     "output_type": "execute_result"
    }
   ],
   "source": [
    "checklist.filter(_._3.isFailure)"
   ]
  },
  {
   "cell_type": "code",
   "execution_count": 8,
   "metadata": {},
   "outputs": [
    {
     "data": {
      "text/plain": [
       "\u001b[36mlp1\u001b[39m: \u001b[32mLocalProver\u001b[39m = \u001b[33mLocalProver\u001b[39m(\n",
       "  \u001b[33mTermState\u001b[39m(\n",
       "    \u001b[33mFiniteDistribution\u001b[39m(\u001b[33mVector\u001b[39m()),\n",
       "    \u001b[33mFiniteDistribution\u001b[39m(\u001b[33mVector\u001b[39m(\u001b[33mWeighted\u001b[39m(\u001b[32m𝒰 \u001b[39m, \u001b[32m1.0\u001b[39m))),\n",
       "    \u001b[33mVector\u001b[39m(),\n",
       "    \u001b[33mFiniteDistribution\u001b[39m(\u001b[33mVector\u001b[39m()),\n",
       "    \u001b[33mFiniteDistribution\u001b[39m(\u001b[33mVector\u001b[39m()),\n",
       "    Empty\n",
       "  ),\n",
       "  \u001b[33mTermGenParams\u001b[39m(\n",
       "    \u001b[32m0.1\u001b[39m,\n",
       "    \u001b[32m0.1\u001b[39m,\n",
       "    \u001b[32m0.1\u001b[39m,\n",
       "    \u001b[32m0.1\u001b[39m,\n",
       "    \u001b[32m0.1\u001b[39m,\n",
       "    \u001b[32m0.05\u001b[39m,\n",
       "    \u001b[32m0.05\u001b[39m,\n",
       "    \u001b[32m0.05\u001b[39m,\n",
       "    \u001b[32m0.0\u001b[39m,\n",
       "    \u001b[32m0.0\u001b[39m,\n",
       "    \u001b[32m0.0\u001b[39m,\n",
       "    \u001b[32m0.0\u001b[39m,\n",
       "    \u001b[32m0.3\u001b[39m,\n",
       "    \u001b[32m0.7\u001b[39m,\n",
       "    \u001b[32m0.5\u001b[39m,\n",
       "    \u001b[32m0.0\u001b[39m,\n",
       "    \u001b[32m0.0\u001b[39m,\n",
       "    \u001b[32m0.0\u001b[39m,\n",
       "    \u001b[33mOrElse\u001b[39m(\n",
       "      \u001b[33mOrElse\u001b[39m(\u001b[33mOrElse\u001b[39m(\u001b[33mOrElse\u001b[39m(<function1>, <function1>), <function1>), <function1>),\n",
       "      <function1>\n",
       "    )\n",
       "  ),\n",
       "  \u001b[32m1.0E-5\u001b[39m,\n",
       "  \u001b[32mNone\u001b[39m,\n",
       "  12 minutes,\n",
       "  \u001b[32m1.01\u001b[39m,\n",
       "  \u001b[32m1.0\u001b[39m,\n",
       "..."
      ]
     },
     "execution_count": 8,
     "metadata": {},
     "output_type": "execute_result"
    }
   ],
   "source": [
    "val lp1 = LocalProver(TermState(FiniteDistribution.empty, FiniteDistribution.unif(Type))).sharpen(10).asInstanceOf[LocalProver]"
   ]
  },
  {
   "cell_type": "code",
   "execution_count": 9,
   "metadata": {},
   "outputs": [
    {
     "data": {
      "text/plain": [
       "\u001b[32mimport \u001b[39m\u001b[36mTermRandomVars.Typs\n",
       "\u001b[39m\n",
       "\u001b[36mtyps1T\u001b[39m: \u001b[32mmonix\u001b[39m.\u001b[32meval\u001b[39m.\u001b[32mTask\u001b[39m[\u001b[32mFiniteDistribution\u001b[39m[\u001b[32mTyp\u001b[39m[\u001b[32mTerm\u001b[39m]]] = \u001b[33mAsync\u001b[39m(\n",
       "  <function2>,\n",
       "  false,\n",
       "  true,\n",
       "  true\n",
       ")"
      ]
     },
     "execution_count": 9,
     "metadata": {},
     "output_type": "execute_result"
    }
   ],
   "source": [
    "import TermRandomVars.Typs\n",
    "val typs1T = lp1.varDist(Typs).memoize"
   ]
  },
  {
   "cell_type": "code",
   "execution_count": 10,
   "metadata": {},
   "outputs": [
    {
     "data": {
      "text/plain": [
       "\u001b[36mtyps1\u001b[39m: \u001b[32mFiniteDistribution\u001b[39m[\u001b[32mTyp\u001b[39m[\u001b[32mTerm\u001b[39m]] = \u001b[33mFiniteDistribution\u001b[39m(\n",
       "  \u001b[33mVector\u001b[39m(\n",
       "    \u001b[33mWeighted\u001b[39m(\u001b[32m((𝒰 ×𝒰  → 𝒰 ) → 𝒰 )×𝒰 \u001b[39m, \u001b[32m3.5165091915152586E-5\u001b[39m),\n",
       "    \u001b[33mWeighted\u001b[39m(\u001b[32m(((𝒰  → 𝒰 ) → 𝒰 ) → 𝒰 )×𝒰 \u001b[39m, \u001b[32m7.033018383030517E-5\u001b[39m),\n",
       "    \u001b[33mWeighted\u001b[39m(\u001b[32m(𝒰 ×𝒰  → 𝒰 )×𝒰 \u001b[39m, \u001b[32m1.8562156889144032E-4\u001b[39m),\n",
       "    \u001b[33mWeighted\u001b[39m(\u001b[32m(∑(@a : 𝒰 ){ @a } → 𝒰 )×𝒰 \u001b[39m, \u001b[32m9.919705032781848E-5\u001b[39m),\n",
       "    \u001b[33mWeighted\u001b[39m(\u001b[32m((𝒰  → 𝒰 )×𝒰  → 𝒰 )×𝒰 \u001b[39m, \u001b[32m3.8576630683040526E-5\u001b[39m),\n",
       "    \u001b[33mWeighted\u001b[39m(\u001b[32m(𝒰  → 𝒰 )×𝒰 \u001b[39m, \u001b[32m0.0019893019971860145\u001b[39m),\n",
       "    \u001b[33mWeighted\u001b[39m(\u001b[32m(∏(@a : 𝒰 ){ @a } → 𝒰 )×𝒰 \u001b[39m, \u001b[32m1.7106956720958893E-4\u001b[39m),\n",
       "    \u001b[33mWeighted\u001b[39m(\u001b[32m((𝒰  → (𝒰  → 𝒰 )) → 𝒰 )×𝒰 \u001b[39m, \u001b[32m3.2598256418271675E-5\u001b[39m),\n",
       "    \u001b[33mWeighted\u001b[39m(\u001b[32m((𝒰  → 𝒰 ) → 𝒰 )×𝒰 \u001b[39m, \u001b[32m2.9180309971784887E-4\u001b[39m),\n",
       "    \u001b[33mWeighted\u001b[39m(\u001b[32m((∏(@a : 𝒰 ){ @a } → 𝒰 ) → 𝒰 )×𝒰 \u001b[39m, \u001b[32m3.014150735584507E-5\u001b[39m),\n",
       "    \u001b[33mWeighted\u001b[39m(\u001b[32m∏(@a : 𝒰 ){ @a×@a }×𝒰 \u001b[39m, \u001b[32m2.6642437462312702E-5\u001b[39m),\n",
       "    \u001b[33mWeighted\u001b[39m(\u001b[32m(𝒰  → (𝒰  → ∑(@c : 𝒰 ){ @c }))\u001b[39m, \u001b[32m5.7835540448263214E-5\u001b[39m),\n",
       "    \u001b[33mWeighted\u001b[39m(\u001b[32m∏(@a : 𝒰 ){ (@a → ∑(@b : 𝒰 ){ @b }) }\u001b[39m, \u001b[32m2.413188179929202E-5\u001b[39m),\n",
       "    \u001b[33mWeighted\u001b[39m(\u001b[32m∏(@a : 𝒰 ){ @a }×𝒰 ×𝒰 \u001b[39m, \u001b[32m4.9732549929650365E-5\u001b[39m),\n",
       "    \u001b[33mWeighted\u001b[39m(\u001b[32m∑(@a : (𝒰  → 𝒰 )){ ∏(@a : 𝒰 ){ @a(@a) } }\u001b[39m, \u001b[32m4.241582083552271E-5\u001b[39m),\n",
       "    \u001b[33mWeighted\u001b[39m(\u001b[32m(𝒰  → 𝒰 )×∏(@a : 𝒰 ){ @a }\u001b[39m, \u001b[32m7.634847750394084E-5\u001b[39m),\n",
       "    \u001b[33mWeighted\u001b[39m(\u001b[32m∑(@a : 𝒰 ){ @a×@a }\u001b[39m, \u001b[32m1.493314624571734E-4\u001b[39m),\n",
       "    \u001b[33mWeighted\u001b[39m(\u001b[32m∑(@a : 𝒰 ){ @a×𝒰 ×𝒰  }\u001b[39m, \u001b[32m2.2199020648431023E-5\u001b[39m),\n",
       "    \u001b[33mWeighted\u001b[39m(\u001b[32m∏(@a : 𝒰 ){ @a×@a×𝒰  }\u001b[39m, \u001b[32m1.8952021767169072E-5\u001b[39m),\n",
       "    \u001b[33mWeighted\u001b[39m(\u001b[32m(∏(@a : 𝒰 ){ @a } → ∑(@a : 𝒰 ){ @a })\u001b[39m, \u001b[32m3.377252570160576E-5\u001b[39m),\n",
       "    \u001b[33mWeighted\u001b[39m(\u001b[32m(∑(@a : 𝒰 ){ @a } → ∑(@a : 𝒰 ){ @a })\u001b[39m, \u001b[32m1.912316937487314E-4\u001b[39m),\n",
       "    \u001b[33mWeighted\u001b[39m(\u001b[32m(𝒰  → ∑(@b : 𝒰 ){ @b })\u001b[39m, \u001b[32m6.164148653051663E-4\u001b[39m),\n",
       "    \u001b[33mWeighted\u001b[39m(\u001b[32m(𝒰 ×𝒰  → ∑(@a : 𝒰 ){ @a })\u001b[39m, \u001b[32m4.973254992965036E-5\u001b[39m),\n",
       "    \u001b[33mWeighted\u001b[39m(\u001b[32m((𝒰  → 𝒰 ) → ∑(@a : 𝒰 ){ @a })\u001b[39m, \u001b[32m8.929196560765703E-5\u001b[39m),\n",
       "    \u001b[33mWeighted\u001b[39m(\u001b[32m∑(@a : 𝒰 ){ @a }×𝒰 ×𝒰 \u001b[39m, \u001b[32m2.547169635705217E-5\u001b[39m),\n",
       "    \u001b[33mWeighted\u001b[39m(\u001b[32m∏(@a : 𝒰 ){ ∑(@a : (𝒰  → 𝒰 )){ @a(@a) } }\u001b[39m, \u001b[32m2.788673127756236E-5\u001b[39m),\n",
       "    \u001b[33mWeighted\u001b[39m(\n",
       "      \u001b[32m∏(@a : (𝒰  → 𝒰 )){ ∑(@a : 𝒰 ){ @a(@a) } }\u001b[39m,\n",
       "      \u001b[32m4.9606647559809485E-5\u001b[39m\n",
       "    ),\n",
       "    \u001b[33mWeighted\u001b[39m(\u001b[32m∑(@a : 𝒰 ){ (@a → 𝒰 )×𝒰  }\u001b[39m, \u001b[32m4.4398041296862046E-5\u001b[39m),\n",
       "    \u001b[33mWeighted\u001b[39m(\u001b[32m(𝒰 ×(𝒰  → 𝒰 ) → 𝒰 ×(𝒰  → 𝒰 ))\u001b[39m, \u001b[32m2.5196234752183232E-5\u001b[39m),\n",
       "    \u001b[33mWeighted\u001b[39m(\u001b[32m∏(@a : 𝒰 ){ 𝒰 ×(@a → 𝒰 ) }\u001b[39m, \u001b[32m3.523838313327868E-5\u001b[39m),\n",
       "    \u001b[33mWeighted\u001b[39m(\u001b[32m(𝒰  → 𝒰 ×(𝒰  → 𝒰 ))\u001b[39m, \u001b[32m5.755602578435516E-5\u001b[39m),\n",
       "    \u001b[33mWeighted\u001b[39m(\u001b[32m𝒰 \u001b[39m, \u001b[32m0.8030625601428774\u001b[39m),\n",
       "..."
      ]
     },
     "execution_count": 10,
     "metadata": {},
     "output_type": "execute_result"
    }
   ],
   "source": [
    "val typs1 = typs1T.runSyncUnsafe()"
   ]
  },
  {
   "cell_type": "code",
   "execution_count": 11,
   "metadata": {},
   "outputs": [
    {
     "data": {
      "text/plain": [
       "\u001b[36mchecklist1\u001b[39m: \u001b[32mVector\u001b[39m[(\u001b[32mTyp\u001b[39m[\u001b[32mTerm\u001b[39m], \u001b[32mTyp\u001b[39m[\u001b[32mTerm\u001b[39m], \u001b[32mTry\u001b[39m[\u001b[32mTerm\u001b[39m])] = \u001b[33mVector\u001b[39m(\n",
       "  (\n",
       "    \u001b[32m((𝒰 ×𝒰  → 𝒰 ) → 𝒰 )×𝒰 \u001b[39m,\n",
       "    \u001b[32m((𝒰 ×𝒰  → 𝒰 ) → 𝒰 )×𝒰 \u001b[39m,\n",
       "    \u001b[33mSuccess\u001b[39m(\u001b[32m(($hgjk : (𝒰 ×𝒰  → 𝒰 )) ↦ $hgjf_1($hgjk) , $hgjf_2)\u001b[39m)\n",
       "  ),\n",
       "  (\n",
       "    \u001b[32m(((𝒰  → 𝒰 ) → 𝒰 ) → 𝒰 )×𝒰 \u001b[39m,\n",
       "    \u001b[32m(((𝒰  → 𝒰 ) → 𝒰 ) → 𝒰 )×𝒰 \u001b[39m,\n",
       "    \u001b[33mSuccess\u001b[39m(\u001b[32m(($hglc : ((𝒰  → 𝒰 ) → 𝒰 )) ↦ $hgkv_1($hglc) , $hgkv_2)\u001b[39m)\n",
       "  ),\n",
       "  (\n",
       "    \u001b[32m(𝒰 ×𝒰  → 𝒰 )×𝒰 \u001b[39m,\n",
       "    \u001b[32m(𝒰 ×𝒰  → 𝒰 )×𝒰 \u001b[39m,\n",
       "    \u001b[33mSuccess\u001b[39m(\n",
       "      \u001b[32m(((`$hgnw_1 , $hgnw_2) : 𝒰 ×𝒰 ) ↦ $hgnt_1((`$hgnw_1 , $hgnw_2)) , $hgnt_2)\u001b[39m\n",
       "    )\n",
       "  ),\n",
       "  (\n",
       "    \u001b[32m(∑(@a : 𝒰 ){ @a } → 𝒰 )×𝒰 \u001b[39m,\n",
       "    \u001b[32m(∑(@a : 𝒰 ){ @a } → 𝒰 )×𝒰 \u001b[39m,\n",
       "    \u001b[33mSuccess\u001b[39m(\n",
       "      \u001b[32m(((`$hgoe_1 , `$hgoe_2) : ∑(@a : 𝒰 ){ @a }) ↦ $hgob_1((`$hgoe_1 , `$hgoe_2)) , $hgob_2)\u001b[39m\n",
       "    )\n",
       "  ),\n",
       "  (\n",
       "    \u001b[32m((𝒰  → 𝒰 )×𝒰  → 𝒰 )×𝒰 \u001b[39m,\n",
       "    \u001b[32m((𝒰  → 𝒰 )×𝒰  → 𝒰 )×𝒰 \u001b[39m,\n",
       "    \u001b[33mSuccess\u001b[39m(\n",
       "      \u001b[32m(((`$hgoo_1 , $hgoo_2) : (𝒰  → 𝒰 )×𝒰 ) ↦ $hgol_1((`$hgoo_1 , $hgoo_2)) , $hgol_2)\u001b[39m\n",
       "    )\n",
       "  ),\n",
       "  (\n",
       "    \u001b[32m(𝒰  → 𝒰 )×𝒰 \u001b[39m,\n",
       "    \u001b[32m(𝒰  → 𝒰 )×𝒰 \u001b[39m,\n",
       "    \u001b[33mSuccess\u001b[39m(\u001b[32m(($hgqs : 𝒰 ) ↦ $hgqp_1($hgqs) , $hgqp_2)\u001b[39m)\n",
       "..."
      ]
     },
     "execution_count": 11,
     "metadata": {},
     "output_type": "execute_result"
    }
   ],
   "source": [
    "val checklist1 = typs1.supp.map(skolemCheck)"
   ]
  },
  {
   "cell_type": "code",
   "execution_count": 12,
   "metadata": {},
   "outputs": [
    {
     "data": {
      "text/plain": [
       "\u001b[36mres11\u001b[39m: \u001b[32mVector\u001b[39m[(\u001b[32mTyp\u001b[39m[\u001b[32mTerm\u001b[39m], \u001b[32mTyp\u001b[39m[\u001b[32mTerm\u001b[39m], \u001b[32mTry\u001b[39m[\u001b[32mTerm\u001b[39m])] = \u001b[33mVector\u001b[39m()"
      ]
     },
     "execution_count": 12,
     "metadata": {},
     "output_type": "execute_result"
    }
   ],
   "source": [
    "checklist1.filter(_._3.isFailure)"
   ]
  },
  {
   "cell_type": "code",
   "execution_count": 13,
   "metadata": {},
   "outputs": [
    {
     "data": {
      "text/plain": [
       "\u001b[36mres12\u001b[39m: \u001b[32mVector\u001b[39m[\u001b[32mWeighted\u001b[39m[\u001b[32mTyp\u001b[39m[\u001b[32mTerm\u001b[39m]]] = \u001b[33mVector\u001b[39m(\n",
       "  \u001b[33mWeighted\u001b[39m(\u001b[32m∏(@a : 𝒰 ){ (@a×@a → @a) }\u001b[39m, \u001b[32m16.328049464425735\u001b[39m),\n",
       "  \u001b[33mWeighted\u001b[39m(\u001b[32m(𝒰  → ((𝒰  → 𝒰 )×𝒰  → 𝒰 ))\u001b[39m, \u001b[32m16.274981046797063\u001b[39m),\n",
       "  \u001b[33mWeighted\u001b[39m(\u001b[32m∏(@a : 𝒰 ){ 𝒰 ×@a×@a }\u001b[39m, \u001b[32m16.201861886580808\u001b[39m),\n",
       "  \u001b[33mWeighted\u001b[39m(\u001b[32m∑(@a : 𝒰 ){ (𝒰 ×@a → @a) }\u001b[39m, \u001b[32m16.201668331065452\u001b[39m),\n",
       "  \u001b[33mWeighted\u001b[39m(\u001b[32m∑(@a : 𝒰 ){ (𝒰  → @a)×@a }\u001b[39m, \u001b[32m16.196110037830245\u001b[39m),\n",
       "  \u001b[33mWeighted\u001b[39m(\u001b[32m(𝒰  → ((∏(@b : 𝒰 ){ @b } → 𝒰 ) → 𝒰 ))\u001b[39m, \u001b[32m16.14168993679603\u001b[39m),\n",
       "  \u001b[33mWeighted\u001b[39m(\u001b[32m∏(@a : 𝒰 ){ (((@a → 𝒰 ) → 𝒰 ) → 𝒰 ) }\u001b[39m, \u001b[32m16.14168993679603\u001b[39m),\n",
       "  \u001b[33mWeighted\u001b[39m(\u001b[32m∏(@a : 𝒰 ){ 𝒰 ×(@a → @a) }\u001b[39m, \u001b[32m16.014885166154972\u001b[39m),\n",
       "  \u001b[33mWeighted\u001b[39m(\u001b[32m∑(@a : 𝒰 ){ (𝒰  → (@a → @a)) }\u001b[39m, \u001b[32m16.014691610639616\u001b[39m),\n",
       "  \u001b[33mWeighted\u001b[39m(\u001b[32m∏(@a : 𝒰 ){ (@a → @a)×@a }\u001b[39m, \u001b[32m15.989883976537127\u001b[39m),\n",
       "  \u001b[33mWeighted\u001b[39m(\u001b[32m∑(@a : 𝒰 ){ ((@a → @a) → @a) }\u001b[39m, \u001b[32m15.98969042102177\u001b[39m),\n",
       "  \u001b[33mWeighted\u001b[39m(\u001b[32m(𝒰  → ∑(@b : 𝒰 ){ @b×@b })\u001b[39m, \u001b[32m15.985738820495456\u001b[39m),\n",
       "  \u001b[33mWeighted\u001b[39m(\u001b[32m𝒰 ×∏(@b : 𝒰 ){ @b×@b }\u001b[39m, \u001b[32m15.985545264980098\u001b[39m),\n",
       "  \u001b[33mWeighted\u001b[39m(\u001b[32m∑(@a : 𝒰 ){ 𝒰 ×𝒰 ×@a }\u001b[39m, \u001b[32m15.973717616493797\u001b[39m),\n",
       "  \u001b[33mWeighted\u001b[39m(\u001b[32m∑(@a : 𝒰 ){ 𝒰 ×@a×𝒰  }\u001b[39m, \u001b[32m15.973717616493797\u001b[39m),\n",
       "  \u001b[33mWeighted\u001b[39m(\u001b[32m∏(@a : 𝒰 ){ @a×∑(@b : 𝒰 ){ @b } }\u001b[39m, \u001b[32m15.947615527221352\u001b[39m),\n",
       "  \u001b[33mWeighted\u001b[39m(\u001b[32m∑(@a : 𝒰 ){ (@a → ∑(@b : 𝒰 ){ @b }) }\u001b[39m, \u001b[32m15.947421971705996\u001b[39m),\n",
       "  \u001b[33mWeighted\u001b[39m(\u001b[32m(𝒰  → ((𝒰  → 𝒰 ) → 𝒰 )×𝒰 )\u001b[39m, \u001b[32m15.936815558908455\u001b[39m),\n",
       "  \u001b[33mWeighted\u001b[39m(\u001b[32m𝒰 ×(((𝒰  → 𝒰 ) → 𝒰 ) → 𝒰 )\u001b[39m, \u001b[32m15.9366220033931\u001b[39m),\n",
       "  \u001b[33mWeighted\u001b[39m(\u001b[32m∏(@a : 𝒰 ){ (@a → 𝒰 ×@a) }\u001b[39m, \u001b[32m15.853273226256977\u001b[39m),\n",
       "  \u001b[33mWeighted\u001b[39m(\u001b[32m𝒰 ×∑(@b : 𝒰 ){ (@b → @b) }\u001b[39m, \u001b[32m15.853142962167958\u001b[39m),\n",
       "  \u001b[33mWeighted\u001b[39m(\u001b[32m(𝒰  → (𝒰 ×𝒰  → 𝒰 ×𝒰 ))\u001b[39m, \u001b[32m15.827391406557368\u001b[39m),\n",
       "  \u001b[33mWeighted\u001b[39m(\u001b[32m∏(@a : 𝒰 ){ (𝒰  → @a×@a) }\u001b[39m, \u001b[32m15.814649754578422\u001b[39m),\n",
       "  \u001b[33mWeighted\u001b[39m(\u001b[32m∑(@a : 𝒰 ){ @a×∏(@b : 𝒰 ){ @b } }\u001b[39m, \u001b[32m15.808729896007383\u001b[39m),\n",
       "  \u001b[33mWeighted\u001b[39m(\u001b[32m(𝒰  → ∑(@b : 𝒰 ){ 𝒰 ×@b })\u001b[39m, \u001b[32m15.792492744818526\u001b[39m),\n",
       "  \u001b[33mWeighted\u001b[39m(\u001b[32m∏(@a : 𝒰 ){ 𝒰 ×@a×𝒰  }\u001b[39m, \u001b[32m15.792492744818526\u001b[39m),\n",
       "  \u001b[33mWeighted\u001b[39m(\u001b[32m∑(@a : 𝒰 ){ (𝒰  → @a×𝒰 ) }\u001b[39m, \u001b[32m15.792299189303169\u001b[39m),\n",
       "  \u001b[33mWeighted\u001b[39m(\u001b[32m𝒰 ×∏(@b : 𝒰 ){ 𝒰 ×@b }\u001b[39m, \u001b[32m15.792299189303169\u001b[39m),\n",
       "  \u001b[33mWeighted\u001b[39m(\u001b[32m((𝒰  → (𝒰  → 𝒰 )×𝒰 ) → 𝒰 )\u001b[39m, \u001b[32m15.781389148384108\u001b[39m),\n",
       "  \u001b[33mWeighted\u001b[39m(\u001b[32m∏(@a : 𝒰 ){ @a×𝒰 ×@a }\u001b[39m, \u001b[32m15.687288713751052\u001b[39m),\n",
       "  \u001b[33mWeighted\u001b[39m(\u001b[32m∏(@a : 𝒰 ){ ∑(@b : 𝒰 ){ @b }×@a }\u001b[39m, \u001b[32m15.687288713751052\u001b[39m),\n",
       "  \u001b[33mWeighted\u001b[39m(\u001b[32m∏(@a : 𝒰 ){ @a×@a×𝒰  }\u001b[39m, \u001b[32m15.687288713751052\u001b[39m),\n",
       "  \u001b[33mWeighted\u001b[39m(\u001b[32m∑(@a : 𝒰 ){ (@a×@a → 𝒰 ) }\u001b[39m, \u001b[32m15.687095158235694\u001b[39m),\n",
       "  \u001b[33mWeighted\u001b[39m(\u001b[32m∑(@a : 𝒰 ){ (@a×𝒰  → @a) }\u001b[39m, \u001b[32m15.687095158235694\u001b[39m),\n",
       "  \u001b[33mWeighted\u001b[39m(\u001b[32m∑(@a : 𝒰 ){ (∑(@b : 𝒰 ){ @b } → @a) }\u001b[39m, \u001b[32m15.687095158235694\u001b[39m),\n",
       "  \u001b[33mWeighted\u001b[39m(\n",
       "    \u001b[32m(∏(@a : 𝒰 ){ (𝒰  → @a) } → ∏(@a : 𝒰 ){ (𝒰  → @a) })\u001b[39m,\n",
       "    \u001b[32m15.686860725001898\u001b[39m\n",
       "..."
      ]
     },
     "execution_count": 13,
     "metadata": {},
     "output_type": "execute_result"
    }
   ],
   "source": [
    "typs1.entropyVec.reverse"
   ]
  },
  {
   "cell_type": "code",
   "execution_count": 14,
   "metadata": {},
   "outputs": [
    {
     "data": {
      "text/plain": [
       "\u001b[36mres13\u001b[39m: \u001b[32mInt\u001b[39m = \u001b[32m366\u001b[39m"
      ]
     },
     "execution_count": 14,
     "metadata": {},
     "output_type": "execute_result"
    }
   ],
   "source": [
    "typs1.support.size"
   ]
  },
  {
   "cell_type": "markdown",
   "metadata": {},
   "source": [
    "## Conclusion\n",
    "\n",
    "After debugging, skolemization works in many cases."
   ]
  }
 ],
 "metadata": {
  "kernelspec": {
   "display_name": "Scala",
   "language": "scala",
   "name": "scala"
  },
  "language_info": {
   "codemirror_mode": "text/x-scala",
   "file_extension": ".scala",
   "mimetype": "text/x-scala",
   "name": "scala",
   "nbconvert_exporter": "script",
   "version": "2.12.9"
  }
 },
 "nbformat": 4,
 "nbformat_minor": 2
}
