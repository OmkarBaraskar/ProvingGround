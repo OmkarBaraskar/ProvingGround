{
 "cells": [
  {
   "cell_type": "markdown",
   "metadata": {},
   "source": [
    "## A sample proof identifying Lemmas and generating by Derivatives\n"
   ]
  },
  {
   "cell_type": "markdown",
   "metadata": {},
   "source": [
    "We illustrate some key features of proving by _learning_ with generative models based on Dependent Type Theory in the [ProvingGround](https://github.com/siddhartha-gadgil/ProvingGround) project. Some details of the project are available on its [website](http://siddhartha-gadgil.github.io/ProvingGround/).\n",
    "\n",
    "We have a set $M$ with a binary operation $*$, and given elements $e_l$ and $e_m$. We also have terms correspoding to the assumptions\n",
    "\n",
    "* $e_l * a = e_l$ for all $a\\in M$ (left identity axiom),\n",
    "* $a * e_r = e_r$ for all $a\\in M$ (right identity axiom), \n",
    "* equality is symmetric and transitive.\n",
    "\n",
    "From these, we conclude that basic algebraic result that $e_l = e_r$. Note that the proof in its fully expanded form is fairly long, involving the correct instantiations of each of the identity axioms, a use of symmetry of equality and a use of transitivity of equality. In particular it has very low weight in a direct generative model.\n",
    "\n",
    "However, our system finds the proof quite readily (much less than a minute even running synchronously in the notebook), due to a few key principles.\n",
    "\n",
    "* We use function application with _unification_, thus we can apply symmetry of equality directly to a term of type $a = b$ even though the type of symmetry is $\\Pi_{x : M}\\Pi_{y: M} x = y \\to y= x$ as $x=a$ and $y=b$ are inferred.\n",
    "* Most importantly, we learn that a lemma such as $e_l = e_l * e_r$, which is obtained by instantiation __and__ symmetry, is non-trivial (while only instantiation is not) based on a cost combining entropy of the initial distribution with the Kullback-Liebler divergence of _theorems_ (inhabited types) from _their proofs_.\n",
    "* We also gain efficiency by using the _derivatives_ of the generative models to find consequences of lemmas.\n"
   ]
  },
  {
   "cell_type": "markdown",
   "metadata": {},
   "source": [
    "We import the locally published  core of ProvingGround."
   ]
  },
  {
   "cell_type": "code",
   "execution_count": 1,
   "metadata": {},
   "outputs": [
    {
     "data": {
      "text/plain": [
       "\u001b[32mimport \u001b[39m\u001b[36m$ivy.$                                                                   \u001b[39m"
      ]
     },
     "execution_count": 1,
     "metadata": {},
     "output_type": "execute_result"
    }
   ],
   "source": [
    "import $ivy.`io.github.siddhartha-gadgil::provingground-core-jvm:0.1.1-SNAPSHOT`"
   ]
  },
  {
   "cell_type": "markdown",
   "metadata": {},
   "source": [
    "We import the relevant packages, including the one with our example."
   ]
  },
  {
   "cell_type": "code",
   "execution_count": 2,
   "metadata": {},
   "outputs": [
    {
     "data": {
      "text/plain": [
       "\u001b[32mimport \u001b[39m\u001b[36mprovingground._ , interface._, HoTT._\n",
       "\u001b[39m\n",
       "\u001b[32mimport \u001b[39m\u001b[36mlearning._\n",
       "\u001b[39m\n",
       "\u001b[32mimport \u001b[39m\u001b[36mlibrary._, MonoidSimple._\u001b[39m"
      ]
     },
     "execution_count": 2,
     "metadata": {},
     "output_type": "execute_result"
    }
   ],
   "source": [
    "import provingground._ , interface._, HoTT._\n",
    "import learning._\n",
    "import library._, MonoidSimple._"
   ]
  },
  {
   "cell_type": "code",
   "execution_count": 3,
   "metadata": {},
   "outputs": [],
   "source": [
    " repl.pprinter.bind(translation.FansiShow.fansiPrint)"
   ]
  },
  {
   "cell_type": "markdown",
   "metadata": {},
   "source": [
    "To set up a _generator_. For simplicity in this demo, we are not generating $\\lambda$'s and $\\Pi$-types"
   ]
  },
  {
   "cell_type": "code",
   "execution_count": 4,
   "metadata": {},
   "outputs": [
    {
     "data": {
      "text/plain": [
       "\u001b[36mtg\u001b[39m: \u001b[32mTermGenParams\u001b[39m = \u001b[33mTermGenParams\u001b[39m(\n",
       "  \u001b[32m0.1\u001b[39m,\n",
       "  \u001b[32m0.1\u001b[39m,\n",
       "  \u001b[32m0.1\u001b[39m,\n",
       "  \u001b[32m0.0\u001b[39m,\n",
       "  \u001b[32m0.0\u001b[39m,\n",
       "  \u001b[32m0.05\u001b[39m,\n",
       "  \u001b[32m0.05\u001b[39m,\n",
       "  \u001b[32m0.05\u001b[39m,\n",
       "  \u001b[32m0.0\u001b[39m,\n",
       "  \u001b[32m0.0\u001b[39m,\n",
       "  \u001b[32m0.0\u001b[39m,\n",
       "  \u001b[32m0.0\u001b[39m,\n",
       "  \u001b[32m0.3\u001b[39m,\n",
       "  \u001b[32m0.7\u001b[39m,\n",
       "  \u001b[32m0.5\u001b[39m,\n",
       "  \u001b[32m0.0\u001b[39m,\n",
       "  \u001b[32m0.0\u001b[39m,\n",
       "  \u001b[32m0.0\u001b[39m\n",
       ")"
      ]
     },
     "execution_count": 4,
     "metadata": {},
     "output_type": "execute_result"
    }
   ],
   "source": [
    "val tg = TermGenParams(lmW=0, piW=0)"
   ]
  },
  {
   "cell_type": "markdown",
   "metadata": {},
   "source": [
    "We set up the initial state for learning."
   ]
  },
  {
   "cell_type": "code",
   "execution_count": 5,
   "metadata": {},
   "outputs": [
    {
     "data": {
      "text/plain": [
       "\u001b[36mts\u001b[39m: \u001b[32mTermState\u001b[39m = \u001b[33mTermState\u001b[39m(\n",
       "  \u001b[33mFiniteDistribution\u001b[39m(\n",
       "    \u001b[33mVector\u001b[39m(\n",
       "      \u001b[33mWeighted\u001b[39m(\u001b[32me_l\u001b[39m, \u001b[32m0.047619047619047616\u001b[39m),\n",
       "      \u001b[33mWeighted\u001b[39m(\u001b[32me_r\u001b[39m, \u001b[32m0.047619047619047616\u001b[39m),\n",
       "      \u001b[33mWeighted\u001b[39m(\u001b[32mmul\u001b[39m, \u001b[32m0.047619047619047616\u001b[39m),\n",
       "      \u001b[33mWeighted\u001b[39m(\u001b[32meqM\u001b[39m, \u001b[32m0.047619047619047616\u001b[39m),\n",
       "      \u001b[33mWeighted\u001b[39m(\u001b[32maxiom_{eqM(a)(a)}\u001b[39m, \u001b[32m0.047619047619047616\u001b[39m),\n",
       "      \u001b[33mWeighted\u001b[39m(\u001b[32maxiom_{(eqM(a)(b) \\to eqM(b)(a))}\u001b[39m, \u001b[32m0.047619047619047616\u001b[39m),\n",
       "      \u001b[33mWeighted\u001b[39m(\u001b[32maxiom_{(eqM(a)(b) \\to (eqM(b)(c) \\to eqM(a)(c)))}\u001b[39m, \u001b[32m0.047619047619047616\u001b[39m),\n",
       "      \u001b[33mWeighted\u001b[39m(\u001b[32maxiom_{eqM(mul(e_l)(a))(a)}\u001b[39m, \u001b[32m0.047619047619047616\u001b[39m),\n",
       "      \u001b[33mWeighted\u001b[39m(\u001b[32maxiom_{eqM(mul(a)(e_r))(a)}\u001b[39m, \u001b[32m0.047619047619047616\u001b[39m),\n",
       "      \u001b[33mWeighted\u001b[39m(\u001b[32meqM\u001b[39m, \u001b[32m0.2857142857142857\u001b[39m),\n",
       "      \u001b[33mWeighted\u001b[39m(\u001b[32mmul\u001b[39m, \u001b[32m0.2857142857142857\u001b[39m)\n",
       "    )\n",
       "  ),\n",
       "  \u001b[33mFiniteDistribution\u001b[39m(\n",
       "    \u001b[33mVector\u001b[39m(\n",
       "      \u001b[33mWeighted\u001b[39m(\u001b[32mM\u001b[39m, \u001b[32m0.047619047619047616\u001b[39m),\n",
       "      \u001b[33mWeighted\u001b[39m(\u001b[32mM\u001b[39m, \u001b[32m0.047619047619047616\u001b[39m),\n",
       "      \u001b[33mWeighted\u001b[39m(\u001b[32m(M → (M → M))\u001b[39m, \u001b[32m0.047619047619047616\u001b[39m),\n",
       "      \u001b[33mWeighted\u001b[39m(\u001b[32m(M → (M → 𝒰 ))\u001b[39m, \u001b[32m0.047619047619047616\u001b[39m),\n",
       "      \u001b[33mWeighted\u001b[39m(\u001b[32m∏(a : M){ eqM(a)(a) }\u001b[39m, \u001b[32m0.047619047619047616\u001b[39m),\n",
       "      \u001b[33mWeighted\u001b[39m(\u001b[32m∏(a : M){ ∏(b : M){ (eqM(a)(b) → eqM(b)(a)) } }\u001b[39m, \u001b[32m0.047619047619047616\u001b[39m),\n",
       "      \u001b[33mWeighted\u001b[39m(\n",
       "        \u001b[32m∏(a : M){ ∏(b : M){ ∏(c : M){ (eqM(a)(b) → (eqM(b)(c) → eqM(a)(c))) } } }\u001b[39m,\n",
       "        \u001b[32m0.047619047619047616\u001b[39m\n",
       "      ),\n",
       "      \u001b[33mWeighted\u001b[39m(\u001b[32m∏(a : M){ eqM(mul(e_l)(a))(a) }\u001b[39m, \u001b[32m0.047619047619047616\u001b[39m),\n",
       "      \u001b[33mWeighted\u001b[39m(\u001b[32m∏(a : M){ eqM(mul(a)(e_r))(a) }\u001b[39m, \u001b[32m0.047619047619047616\u001b[39m),\n",
       "      \u001b[33mWeighted\u001b[39m(\u001b[32m(M → (M → 𝒰 ))\u001b[39m, \u001b[32m0.2857142857142857\u001b[39m),\n",
       "      \u001b[33mWeighted\u001b[39m(\u001b[32m(M → (M → M))\u001b[39m, \u001b[32m0.2857142857142857\u001b[39m)\n",
       "    )\n",
       "  ),\n",
       "  \u001b[33mVector\u001b[39m(),\n",
       "  \u001b[33mFiniteDistribution\u001b[39m(\u001b[33mVector\u001b[39m()),\n",
       "  \u001b[33mFiniteDistribution\u001b[39m(\u001b[33mVector\u001b[39m()),\n",
       "  Empty\n",
       ")"
      ]
     },
     "execution_count": 5,
     "metadata": {},
     "output_type": "execute_result"
    }
   ],
   "source": [
    "val ts = TermState(dist1, dist1.map(_.typ))"
   ]
  },
  {
   "cell_type": "markdown",
   "metadata": {},
   "source": [
    "We use the _monix_ library for concurrency, though in this notebook we run code synchronously."
   ]
  },
  {
   "cell_type": "code",
   "execution_count": 6,
   "metadata": {},
   "outputs": [
    {
     "data": {
      "text/plain": [
       "\u001b[32mimport \u001b[39m\u001b[36mmonix.execution.Scheduler.Implicits.global \u001b[39m"
      ]
     },
     "execution_count": 6,
     "metadata": {},
     "output_type": "execute_result"
    }
   ],
   "source": [
    "import monix.execution.Scheduler.Implicits.global "
   ]
  },
  {
   "cell_type": "markdown",
   "metadata": {},
   "source": [
    "We synchronously evolve to the next state with our generative model."
   ]
  },
  {
   "cell_type": "code",
   "execution_count": 7,
   "metadata": {},
   "outputs": [
    {
     "data": {
      "text/plain": [
       "\u001b[36mevT\u001b[39m: \u001b[32mmonix\u001b[39m.\u001b[32meval\u001b[39m.\u001b[32mTask\u001b[39m[\u001b[32mEvolvedState\u001b[39m] = \u001b[33mMap\u001b[39m(\n",
       "  \u001b[33mFlatMap\u001b[39m(\n",
       "    \u001b[33mFlatMap\u001b[39m(\u001b[33mAsync\u001b[39m(<function2>, true, true, true), monix.eval.Task$$Lambda$2531/1439912625@6354110f),\n",
       "    provingground.learning.TermGenParams$$Lambda$2532/1405125416@4c2484e0\n",
       "  ),\n",
       "  provingground.learning.TermGenParams$$Lambda$2533/1232311273@7f29f6f5,\n",
       "  \u001b[32m0\u001b[39m\n",
       ")"
      ]
     },
     "execution_count": 7,
     "metadata": {},
     "output_type": "execute_result"
    }
   ],
   "source": [
    "val evT = tg.evolvedStateTask(ts, 0.00003)"
   ]
  },
  {
   "cell_type": "code",
   "execution_count": 8,
   "metadata": {},
   "outputs": [
    {
     "data": {
      "text/plain": [
       "\u001b[36mev\u001b[39m: \u001b[32mEvolvedState\u001b[39m = \u001b[33mEvolvedState\u001b[39m(\n",
       "  \u001b[33mTermState\u001b[39m(\n",
       "    \u001b[33mFiniteDistribution\u001b[39m(\n",
       "      \u001b[33mVector\u001b[39m(\n",
       "        \u001b[33mWeighted\u001b[39m(\u001b[32me_l\u001b[39m, \u001b[32m0.047619047619047616\u001b[39m),\n",
       "        \u001b[33mWeighted\u001b[39m(\u001b[32me_r\u001b[39m, \u001b[32m0.047619047619047616\u001b[39m),\n",
       "        \u001b[33mWeighted\u001b[39m(\u001b[32mmul\u001b[39m, \u001b[32m0.047619047619047616\u001b[39m),\n",
       "        \u001b[33mWeighted\u001b[39m(\u001b[32meqM\u001b[39m, \u001b[32m0.047619047619047616\u001b[39m),\n",
       "        \u001b[33mWeighted\u001b[39m(\u001b[32maxiom_{eqM(a)(a)}\u001b[39m, \u001b[32m0.047619047619047616\u001b[39m),\n",
       "        \u001b[33mWeighted\u001b[39m(\u001b[32maxiom_{(eqM(a)(b) \\to eqM(b)(a))}\u001b[39m, \u001b[32m0.047619047619047616\u001b[39m),\n",
       "        \u001b[33mWeighted\u001b[39m(\u001b[32maxiom_{(eqM(a)(b) \\to (eqM(b)(c) \\to eqM(a)(c)))}\u001b[39m, \u001b[32m0.047619047619047616\u001b[39m),\n",
       "        \u001b[33mWeighted\u001b[39m(\u001b[32maxiom_{eqM(mul(e_l)(a))(a)}\u001b[39m, \u001b[32m0.047619047619047616\u001b[39m),\n",
       "        \u001b[33mWeighted\u001b[39m(\u001b[32maxiom_{eqM(mul(a)(e_r))(a)}\u001b[39m, \u001b[32m0.047619047619047616\u001b[39m),\n",
       "        \u001b[33mWeighted\u001b[39m(\u001b[32meqM\u001b[39m, \u001b[32m0.2857142857142857\u001b[39m),\n",
       "        \u001b[33mWeighted\u001b[39m(\u001b[32mmul\u001b[39m, \u001b[32m0.2857142857142857\u001b[39m)\n",
       "      )\n",
       "    ),\n",
       "    \u001b[33mFiniteDistribution\u001b[39m(\n",
       "      \u001b[33mVector\u001b[39m(\n",
       "        \u001b[33mWeighted\u001b[39m(\u001b[32mM\u001b[39m, \u001b[32m0.047619047619047616\u001b[39m),\n",
       "        \u001b[33mWeighted\u001b[39m(\u001b[32mM\u001b[39m, \u001b[32m0.047619047619047616\u001b[39m),\n",
       "        \u001b[33mWeighted\u001b[39m(\u001b[32m(M → (M → M))\u001b[39m, \u001b[32m0.047619047619047616\u001b[39m),\n",
       "        \u001b[33mWeighted\u001b[39m(\u001b[32m(M → (M → 𝒰 ))\u001b[39m, \u001b[32m0.047619047619047616\u001b[39m),\n",
       "        \u001b[33mWeighted\u001b[39m(\u001b[32m∏(a : M){ eqM(a)(a) }\u001b[39m, \u001b[32m0.047619047619047616\u001b[39m),\n",
       "        \u001b[33mWeighted\u001b[39m(\u001b[32m∏(a : M){ ∏(b : M){ (eqM(a)(b) → eqM(b)(a)) } }\u001b[39m, \u001b[32m0.047619047619047616\u001b[39m),\n",
       "        \u001b[33mWeighted\u001b[39m(\n",
       "          \u001b[32m∏(a : M){ ∏(b : M){ ∏(c : M){ (eqM(a)(b) → (eqM(b)(c) → eqM(a)(c))) } } }\u001b[39m,\n",
       "          \u001b[32m0.047619047619047616\u001b[39m\n",
       "        ),\n",
       "        \u001b[33mWeighted\u001b[39m(\u001b[32m∏(a : M){ eqM(mul(e_l)(a))(a) }\u001b[39m, \u001b[32m0.047619047619047616\u001b[39m),\n",
       "        \u001b[33mWeighted\u001b[39m(\u001b[32m∏(a : M){ eqM(mul(a)(e_r))(a) }\u001b[39m, \u001b[32m0.047619047619047616\u001b[39m),\n",
       "        \u001b[33mWeighted\u001b[39m(\u001b[32m(M → (M → 𝒰 ))\u001b[39m, \u001b[32m0.2857142857142857\u001b[39m),\n",
       "        \u001b[33mWeighted\u001b[39m(\u001b[32m(M → (M → M))\u001b[39m, \u001b[32m0.2857142857142857\u001b[39m)\n",
       "      )\n",
       "    ),\n",
       "    \u001b[33mVector\u001b[39m(),\n",
       "    \u001b[33mFiniteDistribution\u001b[39m(\u001b[33mVector\u001b[39m()),\n",
       "    \u001b[33mFiniteDistribution\u001b[39m(\u001b[33mVector\u001b[39m()),\n",
       "    Empty\n",
       "  ),\n",
       "  \u001b[33mTermState\u001b[39m(\n",
       "    \u001b[33mFiniteDistribution\u001b[39m(\n",
       "      \u001b[33mVector\u001b[39m(\n",
       "        \u001b[33mWeighted\u001b[39m(\n",
       "          \u001b[32maxiom_{(eqM(a)(b) \\to (eqM(b)(c) \\to eqM(a)(c)))}(e_l)(e_l)(e_r)\u001b[39m,\n",
       "          \u001b[32m5.739410559354652E-5\u001b[39m\n",
       "        ),\n",
       "        \u001b[33mWeighted\u001b[39m(\n",
       "          \u001b[32maxiom_{(eqM(a)(b) \\to eqM(b)(a))}(mul(e_l)(e_r))(e_l)(axiom_{eqM(mul(a)(e_r))(a)}(e_l))\u001b[39m,\n",
       "..."
      ]
     },
     "execution_count": 8,
     "metadata": {},
     "output_type": "execute_result"
    }
   ],
   "source": [
    "val ev = evT.runSyncUnsafe() "
   ]
  },
  {
   "cell_type": "markdown",
   "metadata": {},
   "source": [
    "### Identifying Lemmas\n",
    "\n",
    "We identify lemmas as types that we know to be inhabited but are not inhabited by terms in the generating set. We have kept things simple, so there are fewer lemmas to start with. But the main step is _learning_ the weights of the lemmas.\n",
    "\n",
    "The evolution of weights is generated as an _iterator_. As this is a structure that is generated just once, we store it as a _stream_, which is a lazy, infinite list."
   ]
  },
  {
   "cell_type": "code",
   "execution_count": 9,
   "metadata": {},
   "outputs": [
    {
     "data": {
      "text/plain": [
       "\u001b[32mimport \u001b[39m\u001b[36mEntropyAtomWeight._ \n",
       "\u001b[39m\n",
       "\u001b[36mits\u001b[39m: \u001b[32mVector\u001b[39m[(\u001b[32mTyp\u001b[39m[\u001b[32mTerm\u001b[39m], \u001b[32mIterator\u001b[39m[\u001b[32mDouble\u001b[39m])] = \u001b[33mVector\u001b[39m(\n",
       "  (\u001b[32meqM(e_r)(e_r)\u001b[39m, <iterator>),\n",
       "  (\u001b[32meqM(mul(e_l)(e_r))(e_l)\u001b[39m, <iterator>),\n",
       "  (\u001b[32meqM(e_l)(e_l)\u001b[39m, <iterator>),\n",
       "  (\u001b[32meqM(mul(e_l)(e_l))(e_l)\u001b[39m, <iterator>),\n",
       "  (\u001b[32meqM(e_l)(mul(e_l)(e_r))\u001b[39m, <iterator>),\n",
       "  (\u001b[32meqM(e_l)(mul(e_l)(e_l))\u001b[39m, <iterator>),\n",
       "  (\u001b[32meqM(mul(e_l)(e_r))(e_r)\u001b[39m, <iterator>),\n",
       "  (\u001b[32meqM(mul(e_r)(e_r))(e_r)\u001b[39m, <iterator>),\n",
       "  (\u001b[32meqM(e_r)(mul(e_l)(e_r))\u001b[39m, <iterator>),\n",
       "  (\u001b[32meqM(e_r)(mul(e_r)(e_r))\u001b[39m, <iterator>)\n",
       ")"
      ]
     },
     "execution_count": 9,
     "metadata": {},
     "output_type": "execute_result"
    }
   ],
   "source": [
    "import EntropyAtomWeight._ \n",
    "val its = evolvedLemmaIters(ev, 1, 1)"
   ]
  },
  {
   "cell_type": "code",
   "execution_count": 10,
   "metadata": {},
   "outputs": [
    {
     "data": {
      "text/plain": [
       "\u001b[36mstreams\u001b[39m: \u001b[32mVector\u001b[39m[(\u001b[32mTyp\u001b[39m[\u001b[32mTerm\u001b[39m], \u001b[32mStream\u001b[39m[\u001b[32mDouble\u001b[39m])] = \u001b[33mVector\u001b[39m(\n",
       "  (\u001b[32meqM(e_r)(e_r)\u001b[39m, \u001b[32m[0.007180424143126931 ...\u001b[39m),\n",
       "  (\u001b[32meqM(mul(e_l)(e_r))(e_l)\u001b[39m, \u001b[32m[0.002653613511816296 ...\u001b[39m),\n",
       "  (\u001b[32meqM(e_l)(e_l)\u001b[39m, \u001b[32m[0.007180424143126931 ...\u001b[39m),\n",
       "  (\u001b[32meqM(mul(e_l)(e_l))(e_l)\u001b[39m, \u001b[32m[0.002653613511816296 ...\u001b[39m),\n",
       "  (\u001b[32meqM(e_l)(mul(e_l)(e_r))\u001b[39m, \u001b[32m[1.8739154055186634E-4 ...\u001b[39m),\n",
       "  (\u001b[32meqM(e_l)(mul(e_l)(e_l))\u001b[39m, \u001b[32m[1.8739154055186634E-4 ...\u001b[39m),\n",
       "  (\u001b[32meqM(mul(e_l)(e_r))(e_r)\u001b[39m, \u001b[32m[0.002653613511816296 ...\u001b[39m),\n",
       "  (\u001b[32meqM(mul(e_r)(e_r))(e_r)\u001b[39m, \u001b[32m[0.002653613511816296 ...\u001b[39m),\n",
       "  (\u001b[32meqM(e_r)(mul(e_l)(e_r))\u001b[39m, \u001b[32m[1.8739154055186634E-4 ...\u001b[39m),\n",
       "  (\u001b[32meqM(e_r)(mul(e_r)(e_r))\u001b[39m, \u001b[32m[1.8739154055186634E-4 ...\u001b[39m)\n",
       ")"
      ]
     },
     "execution_count": 10,
     "metadata": {},
     "output_type": "execute_result"
    }
   ],
   "source": [
    "val streams = its.map{case (tp, it) => (tp, it.toStream)} "
   ]
  },
  {
   "cell_type": "markdown",
   "metadata": {},
   "source": [
    "We see three snapshots of the evolution of weights, at times $0$, $1000$ and $10000$. We also plot the evolution below."
   ]
  },
  {
   "cell_type": "code",
   "execution_count": 11,
   "metadata": {},
   "outputs": [
    {
     "data": {
      "text/plain": [
       "\u001b[36mres10\u001b[39m: \u001b[32mVector\u001b[39m[(\u001b[32mTyp\u001b[39m[\u001b[32mTerm\u001b[39m], \u001b[32mDouble\u001b[39m, \u001b[32mDouble\u001b[39m, \u001b[32mDouble\u001b[39m)] = \u001b[33mVector\u001b[39m(\n",
       "  (\u001b[32meqM(e_r)(e_r)\u001b[39m, \u001b[32m0.007180424143126931\u001b[39m, \u001b[32m3.149476255819165E-4\u001b[39m, \u001b[32m1.851907551274217E-5\u001b[39m),\n",
       "  (\u001b[32meqM(mul(e_l)(e_r))(e_l)\u001b[39m, \u001b[32m0.002653613511816296\u001b[39m, \u001b[32m1.4782068526778965E-4\u001b[39m, \u001b[32m1.1469129744309385E-5\u001b[39m),\n",
       "  (\u001b[32meqM(e_l)(e_l)\u001b[39m, \u001b[32m0.007180424143126931\u001b[39m, \u001b[32m3.149476255819165E-4\u001b[39m, \u001b[32m1.851907551274217E-5\u001b[39m),\n",
       "  (\u001b[32meqM(mul(e_l)(e_l))(e_l)\u001b[39m, \u001b[32m0.002653613511816296\u001b[39m, \u001b[32m1.4782068526778965E-4\u001b[39m, \u001b[32m1.1469129744309385E-5\u001b[39m),\n",
       "  (\u001b[32meqM(e_l)(mul(e_l)(e_r))\u001b[39m, \u001b[32m1.8739154055186634E-4\u001b[39m, \u001b[32m0.002470320793641852\u001b[39m, \u001b[32m0.0024776533663946215\u001b[39m),\n",
       "  (\u001b[32meqM(e_l)(mul(e_l)(e_l))\u001b[39m, \u001b[32m1.8739154055186634E-4\u001b[39m, \u001b[32m0.002470320793641852\u001b[39m, \u001b[32m0.0024776533663946215\u001b[39m),\n",
       "  (\u001b[32meqM(mul(e_l)(e_r))(e_r)\u001b[39m, \u001b[32m0.002653613511816296\u001b[39m, \u001b[32m1.4782068526778965E-4\u001b[39m, \u001b[32m1.1469129744309385E-5\u001b[39m),\n",
       "  (\u001b[32meqM(mul(e_r)(e_r))(e_r)\u001b[39m, \u001b[32m0.002653613511816296\u001b[39m, \u001b[32m1.4782068526778965E-4\u001b[39m, \u001b[32m1.1469129744309385E-5\u001b[39m),\n",
       "  (\u001b[32meqM(e_r)(mul(e_l)(e_r))\u001b[39m, \u001b[32m1.8739154055186634E-4\u001b[39m, \u001b[32m0.002470320793641852\u001b[39m, \u001b[32m0.0024776533663946215\u001b[39m),\n",
       "  (\u001b[32meqM(e_r)(mul(e_r)(e_r))\u001b[39m, \u001b[32m1.8739154055186634E-4\u001b[39m, \u001b[32m0.002470320793641852\u001b[39m, \u001b[32m0.0024776533663946215\u001b[39m)\n",
       ")"
      ]
     },
     "execution_count": 11,
     "metadata": {},
     "output_type": "execute_result"
    }
   ],
   "source": [
    "streams.map{case (tp, s) => (tp, s(0), s(1000), s(10000))}"
   ]
  },
  {
   "cell_type": "code",
   "execution_count": 12,
   "metadata": {},
   "outputs": [
    {
     "data": {
      "text/plain": [
       "\u001b[32mimport \u001b[39m\u001b[36m$ivy.$                                      \n",
       "\n",
       "\u001b[39m\n",
       "\u001b[32mimport \u001b[39m\u001b[36mplotly._\n",
       "\u001b[39m\n",
       "\u001b[32mimport \u001b[39m\u001b[36mplotly.element._\n",
       "\u001b[39m\n",
       "\u001b[32mimport \u001b[39m\u001b[36mplotly.layout._\n",
       "\u001b[39m\n",
       "\u001b[32mimport \u001b[39m\u001b[36mplotly.Almond._\u001b[39m"
      ]
     },
     "execution_count": 12,
     "metadata": {},
     "output_type": "execute_result"
    }
   ],
   "source": [
    "import $ivy.`org.plotly-scala::plotly-almond:0.5.2`\n",
    "\n",
    "import plotly._\n",
    "import plotly.element._\n",
    "import plotly.layout._\n",
    "import plotly.Almond._"
   ]
  },
  {
   "cell_type": "code",
   "execution_count": 13,
   "metadata": {},
   "outputs": [
    {
     "data": {
      "text/plain": [
       "\u001b[36mscatters\u001b[39m: \u001b[32mVector\u001b[39m[\u001b[32mScatter\u001b[39m] = \u001b[33mVector\u001b[39m(\n",
       "  \u001b[33mScatter\u001b[39m(\n",
       "    \u001b[33mSome\u001b[39m(\n",
       "      \u001b[33mDoubles\u001b[39m(\n",
       "        \u001b[33mVector\u001b[39m(\n",
       "          \u001b[32m50.0\u001b[39m,\n",
       "          \u001b[32m100.0\u001b[39m,\n",
       "          \u001b[32m150.0\u001b[39m,\n",
       "          \u001b[32m200.0\u001b[39m,\n",
       "          \u001b[32m250.0\u001b[39m,\n",
       "          \u001b[32m300.0\u001b[39m,\n",
       "          \u001b[32m350.0\u001b[39m,\n",
       "          \u001b[32m400.0\u001b[39m,\n",
       "          \u001b[32m450.0\u001b[39m,\n",
       "          \u001b[32m500.0\u001b[39m,\n",
       "          \u001b[32m550.0\u001b[39m,\n",
       "          \u001b[32m600.0\u001b[39m,\n",
       "          \u001b[32m650.0\u001b[39m,\n",
       "          \u001b[32m700.0\u001b[39m,\n",
       "          \u001b[32m750.0\u001b[39m,\n",
       "          \u001b[32m800.0\u001b[39m,\n",
       "          \u001b[32m850.0\u001b[39m,\n",
       "          \u001b[32m900.0\u001b[39m,\n",
       "          \u001b[32m950.0\u001b[39m,\n",
       "          \u001b[32m1000.0\u001b[39m,\n",
       "          \u001b[32m1050.0\u001b[39m,\n",
       "          \u001b[32m1100.0\u001b[39m,\n",
       "          \u001b[32m1150.0\u001b[39m,\n",
       "          \u001b[32m1200.0\u001b[39m,\n",
       "          \u001b[32m1250.0\u001b[39m,\n",
       "          \u001b[32m1300.0\u001b[39m,\n",
       "          \u001b[32m1350.0\u001b[39m,\n",
       "          \u001b[32m1400.0\u001b[39m,\n",
       "          \u001b[32m1450.0\u001b[39m,\n",
       "          \u001b[32m1500.0\u001b[39m,\n",
       "          \u001b[32m1550.0\u001b[39m,\n",
       "          \u001b[32m1600.0\u001b[39m,\n",
       "          \u001b[32m1650.0\u001b[39m,\n",
       "          \u001b[32m1700.0\u001b[39m,\n",
       "          \u001b[32m1750.0\u001b[39m,\n",
       "          \u001b[32m1800.0\u001b[39m,\n",
       "          \u001b[32m1850.0\u001b[39m,\n",
       "          \u001b[32m1900.0\u001b[39m,\n",
       "          \u001b[32m1950.0\u001b[39m,\n",
       "          \u001b[32m2000.0\u001b[39m,\n",
       "          \u001b[32m2050.0\u001b[39m,\n",
       "          \u001b[32m2100.0\u001b[39m,\n",
       "          \u001b[32m2150.0\u001b[39m,\n",
       "          \u001b[32m2200.0\u001b[39m,\n",
       "...\n",
       "\u001b[36mtsdata\u001b[39m: \u001b[32mSeq\u001b[39m[\u001b[32mScatter\u001b[39m] = \u001b[33mList\u001b[39m(\n",
       "  \u001b[33mScatter\u001b[39m(\n",
       "    \u001b[33mSome\u001b[39m(\n",
       "      \u001b[33mDoubles\u001b[39m(\n",
       "        \u001b[33mVector\u001b[39m(\n",
       "          \u001b[32m50.0\u001b[39m,\n",
       "          \u001b[32m100.0\u001b[39m,\n",
       "          \u001b[32m150.0\u001b[39m,\n",
       "          \u001b[32m200.0\u001b[39m,\n",
       "          \u001b[32m250.0\u001b[39m,\n",
       "          \u001b[32m300.0\u001b[39m,\n",
       "          \u001b[32m350.0\u001b[39m,\n",
       "          \u001b[32m400.0\u001b[39m,\n",
       "          \u001b[32m450.0\u001b[39m,\n",
       "          \u001b[32m500.0\u001b[39m,\n",
       "          \u001b[32m550.0\u001b[39m,\n",
       "          \u001b[32m600.0\u001b[39m,\n",
       "          \u001b[32m650.0\u001b[39m,\n",
       "          \u001b[32m700.0\u001b[39m,\n",
       "          \u001b[32m750.0\u001b[39m,\n",
       "          \u001b[32m800.0\u001b[39m,\n",
       "          \u001b[32m850.0\u001b[39m,\n",
       "          \u001b[32m900.0\u001b[39m,\n",
       "          \u001b[32m950.0\u001b[39m,\n",
       "          \u001b[32m1000.0\u001b[39m,\n",
       "          \u001b[32m1050.0\u001b[39m,\n",
       "          \u001b[32m1100.0\u001b[39m,\n",
       "          \u001b[32m1150.0\u001b[39m,\n",
       "          \u001b[32m1200.0\u001b[39m,\n",
       "          \u001b[32m1250.0\u001b[39m,\n",
       "          \u001b[32m1300.0\u001b[39m,\n",
       "          \u001b[32m1350.0\u001b[39m,\n",
       "          \u001b[32m1400.0\u001b[39m,\n",
       "          \u001b[32m1450.0\u001b[39m,\n",
       "          \u001b[32m1500.0\u001b[39m,\n",
       "          \u001b[32m1550.0\u001b[39m,\n",
       "          \u001b[32m1600.0\u001b[39m,\n",
       "          \u001b[32m1650.0\u001b[39m,\n",
       "          \u001b[32m1700.0\u001b[39m,\n",
       "          \u001b[32m1750.0\u001b[39m,\n",
       "          \u001b[32m1800.0\u001b[39m,\n",
       "          \u001b[32m1850.0\u001b[39m,\n",
       "          \u001b[32m1900.0\u001b[39m,\n",
       "          \u001b[32m1950.0\u001b[39m,\n",
       "          \u001b[32m2000.0\u001b[39m,\n",
       "          \u001b[32m2050.0\u001b[39m,\n",
       "          \u001b[32m2100.0\u001b[39m,\n",
       "          \u001b[32m2150.0\u001b[39m,\n",
       "          \u001b[32m2200.0\u001b[39m,\n",
       "..."
      ]
     },
     "execution_count": 13,
     "metadata": {},
     "output_type": "execute_result"
    }
   ],
   "source": [
    "val scatters = streams.map{case (typ, s) => Scatter((1 to 50).map(i => (i * 50)), (1 to 50).map(i => s(i * 50)), name=typ.toString )}\n",
    "val tsdata = Seq(scatters: _*)"
   ]
  },
  {
   "cell_type": "markdown",
   "metadata": {},
   "source": [
    "### Plot of the evolution"
   ]
  },
  {
   "cell_type": "code",
   "execution_count": 14,
   "metadata": {},
   "outputs": [
    {
     "data": {
      "text/html": [
       "\n",
       "      <script type=\"text/javascript\">\n",
       "        require.config({\n",
       "  paths: {\n",
       "    d3: 'https://cdnjs.cloudflare.com/ajax/libs/d3/3.5.17/d3.min',\n",
       "    plotly: 'https://cdn.plot.ly/plotly-1.12.0.min',\n",
       "    jquery: 'https://code.jquery.com/jquery-3.3.1.min'\n",
       "  },\n",
       "\n",
       "  shim: {\n",
       "    plotly: {\n",
       "      deps: ['d3', 'jquery'],\n",
       "      exports: 'plotly'\n",
       "    }\n",
       "  }\n",
       "});\n",
       "        \n",
       "\n",
       "        require(['plotly'], function(Plotly) {\n",
       "          window.Plotly = Plotly;\n",
       "        });\n",
       "      </script>\n",
       "    "
      ]
     },
     "metadata": {},
     "output_type": "display_data"
    },
    {
     "data": {
      "application/vnd.plotly.v1+json": {
       "data": [
        {
         "name": "((eqM) (e_r)) (e_r)",
         "type": "scatter",
         "x": [
          50,
          100,
          150,
          200,
          250,
          300,
          350,
          400,
          450,
          500,
          550,
          600,
          650,
          700,
          750,
          800,
          850,
          900,
          950,
          1000,
          1050,
          1100,
          1150,
          1200,
          1250,
          1300,
          1350,
          1400,
          1450,
          1500,
          1550,
          1600,
          1650,
          1700,
          1750,
          1800,
          1850,
          1900,
          1950,
          2000,
          2050,
          2100,
          2150,
          2200,
          2250,
          2300,
          2350,
          2400,
          2450,
          2500
         ],
         "y": [
          0.00415766806746075,
          0.00287139128988105,
          0.0021610216455002934,
          0.0017128588626310604,
          0.0014060994336758726,
          0.0011841369217427333,
          0.0010168863349821744,
          0.0008868858620137611,
          0.0007833166638984093,
          0.0006991287385968081,
          0.0006295391622773971,
          0.0005711942655671184,
          0.0005216768526860969,
          0.0004792034545998521,
          0.00044243139880344867,
          0.00041033196352134355,
          0.0003821047012185824,
          0.0003571181904941234,
          0.0003348682044514051,
          0.0003149476255819165,
          0.0002970244480746377,
          0.00028082545212560297,
          0.00026612392307409616,
          0.00025273029892371646,
          0.0002404849673768764,
          0.00022925266070130193,
          0.00021891805219454978,
          0.00020938226599471495,
          0.0002005600880481141,
          0.0001923777203174523,
          0.00018477095950376389,
          0.00017768371016965454,
          0.00017106676326106762,
          0.00016487678674942285,
          0.00015907548693579163,
          0.0001536289079193395,
          0.0001485068435798126,
          0.00014368234169623198,
          0.00013913128391265233,
          0.0001348320284538681,
          0.00013076510500213492,
          0.00012691295312857053,
          0.00012325969724930736,
          0.00011979095233663071,
          0.00011649365562807612,
          0.00011335592039438296,
          0.00011036690849091689,
          0.0001075167189582476,
          0.00010479629038057311,
          0.0001021973150748824
         ]
        },
        {
         "name": "((eqM) (((mul) (e_l)) (e_r))) (e_l)",
         "type": "scatter",
         "x": [
          50,
          100,
          150,
          200,
          250,
          300,
          350,
          400,
          450,
          500,
          550,
          600,
          650,
          700,
          750,
          800,
          850,
          900,
          950,
          1000,
          1050,
          1100,
          1150,
          1200,
          1250,
          1300,
          1350,
          1400,
          1450,
          1500,
          1550,
          1600,
          1650,
          1700,
          1750,
          1800,
          1850,
          1900,
          1950,
          2000,
          2050,
          2100,
          2150,
          2200,
          2250,
          2300,
          2350,
          2400,
          2450,
          2500
         ],
         "y": [
          0.0016118416900856183,
          0.0011348881820044394,
          0.0008658144149714791,
          0.0006946950201920899,
          0.0005770384335330232,
          0.0004915699978470567,
          0.0004268946945515927,
          0.0003763837803056089,
          0.0003359305440412072,
          0.0003028611602451111,
          0.00027536325719940743,
          0.0002521668058983049,
          0.00023235656237262326,
          0.0002152570164916504,
          0.00020035921010671496,
          0.00018727271239476267,
          0.00017569323776351194,
          0.00016538028515637718,
          0.0001561413686053151,
          0.00014782068526778965,
          0.00014029083385711907,
          0.00013344666960966555,
          0.00012720068126777592,
          0.00012147946911812596,
          0.00011622103081639087,
          0.00011137264751564953,
          0.00010688922141874438,
          0.00010273195652571748,
          9.886730294686981e-05,
          9.526610553721717e-05,
          9.190291231565195e-05,
          8.875540886361808e-05,
          8.580395281122558e-05,
          8.303118841135147e-05,
          8.042172563090489e-05,
          7.796187154571047e-05,
          7.563940439140284e-05,
          7.344338259893697e-05,
          7.136398267640504e-05,
          6.939236099637848e-05,
          6.75205354894662e-05,
          6.574128398955855e-05,
          6.404805656882639e-05,
          6.243489967470924e-05,
          6.089639026254239e-05,
          5.942757842582489e-05,
          5.802393727663608e-05,
          5.66813190331391e-05,
          5.539591643868941e-05,
          5.416422877503078e-05
         ]
        },
        {
         "name": "((eqM) (e_l)) (e_l)",
         "type": "scatter",
         "x": [
          50,
          100,
          150,
          200,
          250,
          300,
          350,
          400,
          450,
          500,
          550,
          600,
          650,
          700,
          750,
          800,
          850,
          900,
          950,
          1000,
          1050,
          1100,
          1150,
          1200,
          1250,
          1300,
          1350,
          1400,
          1450,
          1500,
          1550,
          1600,
          1650,
          1700,
          1750,
          1800,
          1850,
          1900,
          1950,
          2000,
          2050,
          2100,
          2150,
          2200,
          2250,
          2300,
          2350,
          2400,
          2450,
          2500
         ],
         "y": [
          0.00415766806746075,
          0.00287139128988105,
          0.0021610216455002934,
          0.0017128588626310604,
          0.0014060994336758726,
          0.0011841369217427333,
          0.0010168863349821744,
          0.0008868858620137611,
          0.0007833166638984093,
          0.0006991287385968081,
          0.0006295391622773971,
          0.0005711942655671184,
          0.0005216768526860969,
          0.0004792034545998521,
          0.00044243139880344867,
          0.00041033196352134355,
          0.0003821047012185824,
          0.0003571181904941234,
          0.0003348682044514051,
          0.0003149476255819165,
          0.0002970244480746377,
          0.00028082545212560297,
          0.00026612392307409616,
          0.00025273029892371646,
          0.0002404849673768764,
          0.00022925266070130193,
          0.00021891805219454978,
          0.00020938226599471495,
          0.0002005600880481141,
          0.0001923777203174523,
          0.00018477095950376389,
          0.00017768371016965454,
          0.00017106676326106762,
          0.00016487678674942285,
          0.00015907548693579163,
          0.0001536289079193395,
          0.0001485068435798126,
          0.00014368234169623198,
          0.00013913128391265233,
          0.0001348320284538681,
          0.00013076510500213492,
          0.00012691295312857053,
          0.00012325969724930736,
          0.00011979095233663071,
          0.00011649365562807612,
          0.00011335592039438296,
          0.00011036690849091689,
          0.0001075167189582476,
          0.00010479629038057311,
          0.0001021973150748824
         ]
        },
        {
         "name": "((eqM) (((mul) (e_l)) (e_l))) (e_l)",
         "type": "scatter",
         "x": [
          50,
          100,
          150,
          200,
          250,
          300,
          350,
          400,
          450,
          500,
          550,
          600,
          650,
          700,
          750,
          800,
          850,
          900,
          950,
          1000,
          1050,
          1100,
          1150,
          1200,
          1250,
          1300,
          1350,
          1400,
          1450,
          1500,
          1550,
          1600,
          1650,
          1700,
          1750,
          1800,
          1850,
          1900,
          1950,
          2000,
          2050,
          2100,
          2150,
          2200,
          2250,
          2300,
          2350,
          2400,
          2450,
          2500
         ],
         "y": [
          0.0016118416900856183,
          0.0011348881820044394,
          0.0008658144149714791,
          0.0006946950201920899,
          0.0005770384335330232,
          0.0004915699978470567,
          0.0004268946945515927,
          0.0003763837803056089,
          0.0003359305440412072,
          0.0003028611602451111,
          0.00027536325719940743,
          0.0002521668058983049,
          0.00023235656237262326,
          0.0002152570164916504,
          0.00020035921010671496,
          0.00018727271239476267,
          0.00017569323776351194,
          0.00016538028515637718,
          0.0001561413686053151,
          0.00014782068526778965,
          0.00014029083385711907,
          0.00013344666960966555,
          0.00012720068126777592,
          0.00012147946911812596,
          0.00011622103081639087,
          0.00011137264751564953,
          0.00010688922141874438,
          0.00010273195652571748,
          9.886730294686981e-05,
          9.526610553721717e-05,
          9.190291231565195e-05,
          8.875540886361808e-05,
          8.580395281122558e-05,
          8.303118841135147e-05,
          8.042172563090489e-05,
          7.796187154571047e-05,
          7.563940439140284e-05,
          7.344338259893697e-05,
          7.136398267640504e-05,
          6.939236099637848e-05,
          6.75205354894662e-05,
          6.574128398955855e-05,
          6.404805656882639e-05,
          6.243489967470924e-05,
          6.089639026254239e-05,
          5.942757842582489e-05,
          5.802393727663608e-05,
          5.66813190331391e-05,
          5.539591643868941e-05,
          5.416422877503078e-05
         ]
        },
        {
         "name": "((eqM) (e_l)) (((mul) (e_l)) (e_r))",
         "type": "scatter",
         "x": [
          50,
          100,
          150,
          200,
          250,
          300,
          350,
          400,
          450,
          500,
          550,
          600,
          650,
          700,
          750,
          800,
          850,
          900,
          950,
          1000,
          1050,
          1100,
          1150,
          1200,
          1250,
          1300,
          1350,
          1400,
          1450,
          1500,
          1550,
          1600,
          1650,
          1700,
          1750,
          1800,
          1850,
          1900,
          1950,
          2000,
          2050,
          2100,
          2150,
          2200,
          2250,
          2300,
          2350,
          2400,
          2450,
          2500
         ],
         "y": [
          0.00023433429220197778,
          0.00030007523134149724,
          0.0003927350750098584,
          0.0005220590153090052,
          0.0006967024905999172,
          0.0009187436922632048,
          0.0011777327422888668,
          0.0014500110605658396,
          0.0017067236484759735,
          0.0019254382997647551,
          0.0020965563991798353,
          0.0022218763225839745,
          0.002309344490071319,
          0.002368384377151185,
          0.002407347108552592,
          0.002432680807077389,
          0.0024489945528652552,
          0.002459434757688706,
          0.00246608958829303,
          0.002470320793641852,
          0.0024730067027298216,
          0.0024747099364940996,
          0.0024757893193045845,
          0.0024764730706827685,
          0.002476906090573149,
          0.0024771802769418833,
          0.002477353872467371,
          0.0024774637736796933,
          0.0024775333478864047,
          0.002477577391458702,
          0.00247760527253441,
          0.0024776229220139735,
          0.00247763409453968,
          0.0024776411669748324,
          0.0024776456439575263,
          0.002477648477965815,
          0.002477650271940659,
          0.0024776514075560917,
          0.002477652126418932,
          0.002477652581470545,
          0.002477652869525411,
          0.002477653051868677,
          0.0024776531672948254,
          0.0024776532403613834,
          0.0024776532866136527,
          0.0024776533158920714,
          0.002477653334425761,
          0.002477653346157881,
          0.0024776533535844983,
          0.0024776533582856627
         ]
        },
        {
         "name": "((eqM) (e_l)) (((mul) (e_l)) (e_l))",
         "type": "scatter",
         "x": [
          50,
          100,
          150,
          200,
          250,
          300,
          350,
          400,
          450,
          500,
          550,
          600,
          650,
          700,
          750,
          800,
          850,
          900,
          950,
          1000,
          1050,
          1100,
          1150,
          1200,
          1250,
          1300,
          1350,
          1400,
          1450,
          1500,
          1550,
          1600,
          1650,
          1700,
          1750,
          1800,
          1850,
          1900,
          1950,
          2000,
          2050,
          2100,
          2150,
          2200,
          2250,
          2300,
          2350,
          2400,
          2450,
          2500
         ],
         "y": [
          0.00023433429220197778,
          0.00030007523134149724,
          0.0003927350750098584,
          0.0005220590153090052,
          0.0006967024905999172,
          0.0009187436922632048,
          0.0011777327422888668,
          0.0014500110605658396,
          0.0017067236484759735,
          0.0019254382997647551,
          0.0020965563991798353,
          0.0022218763225839745,
          0.002309344490071319,
          0.002368384377151185,
          0.002407347108552592,
          0.002432680807077389,
          0.0024489945528652552,
          0.002459434757688706,
          0.00246608958829303,
          0.002470320793641852,
          0.0024730067027298216,
          0.0024747099364940996,
          0.0024757893193045845,
          0.0024764730706827685,
          0.002476906090573149,
          0.0024771802769418833,
          0.002477353872467371,
          0.0024774637736796933,
          0.0024775333478864047,
          0.002477577391458702,
          0.00247760527253441,
          0.0024776229220139735,
          0.00247763409453968,
          0.0024776411669748324,
          0.0024776456439575263,
          0.002477648477965815,
          0.002477650271940659,
          0.0024776514075560917,
          0.002477652126418932,
          0.002477652581470545,
          0.002477652869525411,
          0.002477653051868677,
          0.0024776531672948254,
          0.0024776532403613834,
          0.0024776532866136527,
          0.0024776533158920714,
          0.002477653334425761,
          0.002477653346157881,
          0.0024776533535844983,
          0.0024776533582856627
         ]
        },
        {
         "name": "((eqM) (((mul) (e_l)) (e_r))) (e_r)",
         "type": "scatter",
         "x": [
          50,
          100,
          150,
          200,
          250,
          300,
          350,
          400,
          450,
          500,
          550,
          600,
          650,
          700,
          750,
          800,
          850,
          900,
          950,
          1000,
          1050,
          1100,
          1150,
          1200,
          1250,
          1300,
          1350,
          1400,
          1450,
          1500,
          1550,
          1600,
          1650,
          1700,
          1750,
          1800,
          1850,
          1900,
          1950,
          2000,
          2050,
          2100,
          2150,
          2200,
          2250,
          2300,
          2350,
          2400,
          2450,
          2500
         ],
         "y": [
          0.0016118416900856183,
          0.0011348881820044394,
          0.0008658144149714791,
          0.0006946950201920899,
          0.0005770384335330232,
          0.0004915699978470567,
          0.0004268946945515927,
          0.0003763837803056089,
          0.0003359305440412072,
          0.0003028611602451111,
          0.00027536325719940743,
          0.0002521668058983049,
          0.00023235656237262326,
          0.0002152570164916504,
          0.00020035921010671496,
          0.00018727271239476267,
          0.00017569323776351194,
          0.00016538028515637718,
          0.0001561413686053151,
          0.00014782068526778965,
          0.00014029083385711907,
          0.00013344666960966555,
          0.00012720068126777592,
          0.00012147946911812596,
          0.00011622103081639087,
          0.00011137264751564953,
          0.00010688922141874438,
          0.00010273195652571748,
          9.886730294686981e-05,
          9.526610553721717e-05,
          9.190291231565195e-05,
          8.875540886361808e-05,
          8.580395281122558e-05,
          8.303118841135147e-05,
          8.042172563090489e-05,
          7.796187154571047e-05,
          7.563940439140284e-05,
          7.344338259893697e-05,
          7.136398267640504e-05,
          6.939236099637848e-05,
          6.75205354894662e-05,
          6.574128398955855e-05,
          6.404805656882639e-05,
          6.243489967470924e-05,
          6.089639026254239e-05,
          5.942757842582489e-05,
          5.802393727663608e-05,
          5.66813190331391e-05,
          5.539591643868941e-05,
          5.416422877503078e-05
         ]
        },
        {
         "name": "((eqM) (((mul) (e_r)) (e_r))) (e_r)",
         "type": "scatter",
         "x": [
          50,
          100,
          150,
          200,
          250,
          300,
          350,
          400,
          450,
          500,
          550,
          600,
          650,
          700,
          750,
          800,
          850,
          900,
          950,
          1000,
          1050,
          1100,
          1150,
          1200,
          1250,
          1300,
          1350,
          1400,
          1450,
          1500,
          1550,
          1600,
          1650,
          1700,
          1750,
          1800,
          1850,
          1900,
          1950,
          2000,
          2050,
          2100,
          2150,
          2200,
          2250,
          2300,
          2350,
          2400,
          2450,
          2500
         ],
         "y": [
          0.0016118416900856183,
          0.0011348881820044394,
          0.0008658144149714791,
          0.0006946950201920899,
          0.0005770384335330232,
          0.0004915699978470567,
          0.0004268946945515927,
          0.0003763837803056089,
          0.0003359305440412072,
          0.0003028611602451111,
          0.00027536325719940743,
          0.0002521668058983049,
          0.00023235656237262326,
          0.0002152570164916504,
          0.00020035921010671496,
          0.00018727271239476267,
          0.00017569323776351194,
          0.00016538028515637718,
          0.0001561413686053151,
          0.00014782068526778965,
          0.00014029083385711907,
          0.00013344666960966555,
          0.00012720068126777592,
          0.00012147946911812596,
          0.00011622103081639087,
          0.00011137264751564953,
          0.00010688922141874438,
          0.00010273195652571748,
          9.886730294686981e-05,
          9.526610553721717e-05,
          9.190291231565195e-05,
          8.875540886361808e-05,
          8.580395281122558e-05,
          8.303118841135147e-05,
          8.042172563090489e-05,
          7.796187154571047e-05,
          7.563940439140284e-05,
          7.344338259893697e-05,
          7.136398267640504e-05,
          6.939236099637848e-05,
          6.75205354894662e-05,
          6.574128398955855e-05,
          6.404805656882639e-05,
          6.243489967470924e-05,
          6.089639026254239e-05,
          5.942757842582489e-05,
          5.802393727663608e-05,
          5.66813190331391e-05,
          5.539591643868941e-05,
          5.416422877503078e-05
         ]
        },
        {
         "name": "((eqM) (e_r)) (((mul) (e_l)) (e_r))",
         "type": "scatter",
         "x": [
          50,
          100,
          150,
          200,
          250,
          300,
          350,
          400,
          450,
          500,
          550,
          600,
          650,
          700,
          750,
          800,
          850,
          900,
          950,
          1000,
          1050,
          1100,
          1150,
          1200,
          1250,
          1300,
          1350,
          1400,
          1450,
          1500,
          1550,
          1600,
          1650,
          1700,
          1750,
          1800,
          1850,
          1900,
          1950,
          2000,
          2050,
          2100,
          2150,
          2200,
          2250,
          2300,
          2350,
          2400,
          2450,
          2500
         ],
         "y": [
          0.00023433429220197778,
          0.00030007523134149724,
          0.0003927350750098584,
          0.0005220590153090052,
          0.0006967024905999172,
          0.0009187436922632048,
          0.0011777327422888668,
          0.0014500110605658396,
          0.0017067236484759735,
          0.0019254382997647551,
          0.0020965563991798353,
          0.0022218763225839745,
          0.002309344490071319,
          0.002368384377151185,
          0.002407347108552592,
          0.002432680807077389,
          0.0024489945528652552,
          0.002459434757688706,
          0.00246608958829303,
          0.002470320793641852,
          0.0024730067027298216,
          0.0024747099364940996,
          0.0024757893193045845,
          0.0024764730706827685,
          0.002476906090573149,
          0.0024771802769418833,
          0.002477353872467371,
          0.0024774637736796933,
          0.0024775333478864047,
          0.002477577391458702,
          0.00247760527253441,
          0.0024776229220139735,
          0.00247763409453968,
          0.0024776411669748324,
          0.0024776456439575263,
          0.002477648477965815,
          0.002477650271940659,
          0.0024776514075560917,
          0.002477652126418932,
          0.002477652581470545,
          0.002477652869525411,
          0.002477653051868677,
          0.0024776531672948254,
          0.0024776532403613834,
          0.0024776532866136527,
          0.0024776533158920714,
          0.002477653334425761,
          0.002477653346157881,
          0.0024776533535844983,
          0.0024776533582856627
         ]
        },
        {
         "name": "((eqM) (e_r)) (((mul) (e_r)) (e_r))",
         "type": "scatter",
         "x": [
          50,
          100,
          150,
          200,
          250,
          300,
          350,
          400,
          450,
          500,
          550,
          600,
          650,
          700,
          750,
          800,
          850,
          900,
          950,
          1000,
          1050,
          1100,
          1150,
          1200,
          1250,
          1300,
          1350,
          1400,
          1450,
          1500,
          1550,
          1600,
          1650,
          1700,
          1750,
          1800,
          1850,
          1900,
          1950,
          2000,
          2050,
          2100,
          2150,
          2200,
          2250,
          2300,
          2350,
          2400,
          2450,
          2500
         ],
         "y": [
          0.00023433429220197778,
          0.00030007523134149724,
          0.0003927350750098584,
          0.0005220590153090052,
          0.0006967024905999172,
          0.0009187436922632048,
          0.0011777327422888668,
          0.0014500110605658396,
          0.0017067236484759735,
          0.0019254382997647551,
          0.0020965563991798353,
          0.0022218763225839745,
          0.002309344490071319,
          0.002368384377151185,
          0.002407347108552592,
          0.002432680807077389,
          0.0024489945528652552,
          0.002459434757688706,
          0.00246608958829303,
          0.002470320793641852,
          0.0024730067027298216,
          0.0024747099364940996,
          0.0024757893193045845,
          0.0024764730706827685,
          0.002476906090573149,
          0.0024771802769418833,
          0.002477353872467371,
          0.0024774637736796933,
          0.0024775333478864047,
          0.002477577391458702,
          0.00247760527253441,
          0.0024776229220139735,
          0.00247763409453968,
          0.0024776411669748324,
          0.0024776456439575263,
          0.002477648477965815,
          0.002477650271940659,
          0.0024776514075560917,
          0.002477652126418932,
          0.002477652581470545,
          0.002477652869525411,
          0.002477653051868677,
          0.0024776531672948254,
          0.0024776532403613834,
          0.0024776532866136527,
          0.0024776533158920714,
          0.002477653334425761,
          0.002477653346157881,
          0.0024776533535844983,
          0.0024776533582856627
         ]
        }
       ],
       "layout": {
        "autosize": true,
        "title": {
         "text": "Evolution of the lemma coefficients"
        },
        "xaxis": {
         "autorange": true,
         "range": [
          50,
          2500
         ],
         "type": "linear"
        },
        "yaxis": {
         "autorange": true,
         "range": [
          -0.00017380820670750917,
          0.00438564050294329
         ],
         "type": "linear"
        }
       }
      },
      "image/png": "[encoded data removed]",
      "text/html": [
       "<div class=\"chart\" id=\"plot-1962139029\"></div>\n",
       "<script>require(['plotly'], function(Plotly) {\n",
       "  (function () {\n",
       "  var data0 = {\"x\":[50.0,100.0,150.0,200.0,250.0,300.0,350.0,400.0,450.0,500.0,550.0,600.0,650.0,700.0,750.0,800.0,850.0,900.0,950.0,1000.0,1050.0,1100.0,1150.0,1200.0,1250.0,1300.0,1350.0,1400.0,1450.0,1500.0,1550.0,1600.0,1650.0,1700.0,1750.0,1800.0,1850.0,1900.0,1950.0,2000.0,2050.0,2100.0,2150.0,2200.0,2250.0,2300.0,2350.0,2400.0,2450.0,2500.0],\"name\":\"((eqM) (e_r)) (e_r)\",\"y\":[0.00415766806746075,0.00287139128988105,0.0021610216455002934,0.0017128588626310604,0.0014060994336758726,0.0011841369217427333,0.0010168863349821744,8.868858620137611E-4,7.833166638984093E-4,6.991287385968081E-4,6.295391622773971E-4,5.711942655671184E-4,5.216768526860969E-4,4.792034545998521E-4,4.4243139880344867E-4,4.1033196352134355E-4,3.821047012185824E-4,3.571181904941234E-4,3.348682044514051E-4,3.149476255819165E-4,2.970244480746377E-4,2.8082545212560297E-4,2.6612392307409616E-4,2.5273029892371646E-4,2.404849673768764E-4,2.2925266070130193E-4,2.1891805219454978E-4,2.0938226599471495E-4,2.005600880481141E-4,1.923777203174523E-4,1.8477095950376389E-4,1.7768371016965454E-4,1.7106676326106762E-4,1.6487678674942285E-4,1.5907548693579163E-4,1.536289079193395E-4,1.485068435798126E-4,1.4368234169623198E-4,1.3913128391265233E-4,1.348320284538681E-4,1.3076510500213492E-4,1.2691295312857053E-4,1.2325969724930736E-4,1.1979095233663071E-4,1.1649365562807612E-4,1.1335592039438296E-4,1.1036690849091689E-4,1.075167189582476E-4,1.0479629038057311E-4,1.021973150748824E-4],\"type\":\"scatter\"};\n",
       "  var data1 = {\"x\":[50.0,100.0,150.0,200.0,250.0,300.0,350.0,400.0,450.0,500.0,550.0,600.0,650.0,700.0,750.0,800.0,850.0,900.0,950.0,1000.0,1050.0,1100.0,1150.0,1200.0,1250.0,1300.0,1350.0,1400.0,1450.0,1500.0,1550.0,1600.0,1650.0,1700.0,1750.0,1800.0,1850.0,1900.0,1950.0,2000.0,2050.0,2100.0,2150.0,2200.0,2250.0,2300.0,2350.0,2400.0,2450.0,2500.0],\"name\":\"((eqM) (((mul) (e_l)) (e_r))) (e_l)\",\"y\":[0.0016118416900856183,0.0011348881820044394,8.658144149714791E-4,6.946950201920899E-4,5.770384335330232E-4,4.915699978470567E-4,4.268946945515927E-4,3.763837803056089E-4,3.359305440412072E-4,3.028611602451111E-4,2.7536325719940743E-4,2.521668058983049E-4,2.3235656237262326E-4,2.152570164916504E-4,2.0035921010671496E-4,1.8727271239476267E-4,1.7569323776351194E-4,1.6538028515637718E-4,1.561413686053151E-4,1.4782068526778965E-4,1.4029083385711907E-4,1.3344666960966555E-4,1.2720068126777592E-4,1.2147946911812596E-4,1.1622103081639087E-4,1.1137264751564953E-4,1.0688922141874438E-4,1.0273195652571748E-4,9.886730294686981E-5,9.526610553721717E-5,9.190291231565195E-5,8.875540886361808E-5,8.580395281122558E-5,8.303118841135147E-5,8.042172563090489E-5,7.796187154571047E-5,7.563940439140284E-5,7.344338259893697E-5,7.136398267640504E-5,6.939236099637848E-5,6.75205354894662E-5,6.574128398955855E-5,6.404805656882639E-5,6.243489967470924E-5,6.089639026254239E-5,5.942757842582489E-5,5.802393727663608E-5,5.66813190331391E-5,5.539591643868941E-5,5.416422877503078E-5],\"type\":\"scatter\"};\n",
       "  var data2 = {\"x\":[50.0,100.0,150.0,200.0,250.0,300.0,350.0,400.0,450.0,500.0,550.0,600.0,650.0,700.0,750.0,800.0,850.0,900.0,950.0,1000.0,1050.0,1100.0,1150.0,1200.0,1250.0,1300.0,1350.0,1400.0,1450.0,1500.0,1550.0,1600.0,1650.0,1700.0,1750.0,1800.0,1850.0,1900.0,1950.0,2000.0,2050.0,2100.0,2150.0,2200.0,2250.0,2300.0,2350.0,2400.0,2450.0,2500.0],\"name\":\"((eqM) (e_l)) (e_l)\",\"y\":[0.00415766806746075,0.00287139128988105,0.0021610216455002934,0.0017128588626310604,0.0014060994336758726,0.0011841369217427333,0.0010168863349821744,8.868858620137611E-4,7.833166638984093E-4,6.991287385968081E-4,6.295391622773971E-4,5.711942655671184E-4,5.216768526860969E-4,4.792034545998521E-4,4.4243139880344867E-4,4.1033196352134355E-4,3.821047012185824E-4,3.571181904941234E-4,3.348682044514051E-4,3.149476255819165E-4,2.970244480746377E-4,2.8082545212560297E-4,2.6612392307409616E-4,2.5273029892371646E-4,2.404849673768764E-4,2.2925266070130193E-4,2.1891805219454978E-4,2.0938226599471495E-4,2.005600880481141E-4,1.923777203174523E-4,1.8477095950376389E-4,1.7768371016965454E-4,1.7106676326106762E-4,1.6487678674942285E-4,1.5907548693579163E-4,1.536289079193395E-4,1.485068435798126E-4,1.4368234169623198E-4,1.3913128391265233E-4,1.348320284538681E-4,1.3076510500213492E-4,1.2691295312857053E-4,1.2325969724930736E-4,1.1979095233663071E-4,1.1649365562807612E-4,1.1335592039438296E-4,1.1036690849091689E-4,1.075167189582476E-4,1.0479629038057311E-4,1.021973150748824E-4],\"type\":\"scatter\"};\n",
       "  var data3 = {\"x\":[50.0,100.0,150.0,200.0,250.0,300.0,350.0,400.0,450.0,500.0,550.0,600.0,650.0,700.0,750.0,800.0,850.0,900.0,950.0,1000.0,1050.0,1100.0,1150.0,1200.0,1250.0,1300.0,1350.0,1400.0,1450.0,1500.0,1550.0,1600.0,1650.0,1700.0,1750.0,1800.0,1850.0,1900.0,1950.0,2000.0,2050.0,2100.0,2150.0,2200.0,2250.0,2300.0,2350.0,2400.0,2450.0,2500.0],\"name\":\"((eqM) (((mul) (e_l)) (e_l))) (e_l)\",\"y\":[0.0016118416900856183,0.0011348881820044394,8.658144149714791E-4,6.946950201920899E-4,5.770384335330232E-4,4.915699978470567E-4,4.268946945515927E-4,3.763837803056089E-4,3.359305440412072E-4,3.028611602451111E-4,2.7536325719940743E-4,2.521668058983049E-4,2.3235656237262326E-4,2.152570164916504E-4,2.0035921010671496E-4,1.8727271239476267E-4,1.7569323776351194E-4,1.6538028515637718E-4,1.561413686053151E-4,1.4782068526778965E-4,1.4029083385711907E-4,1.3344666960966555E-4,1.2720068126777592E-4,1.2147946911812596E-4,1.1622103081639087E-4,1.1137264751564953E-4,1.0688922141874438E-4,1.0273195652571748E-4,9.886730294686981E-5,9.526610553721717E-5,9.190291231565195E-5,8.875540886361808E-5,8.580395281122558E-5,8.303118841135147E-5,8.042172563090489E-5,7.796187154571047E-5,7.563940439140284E-5,7.344338259893697E-5,7.136398267640504E-5,6.939236099637848E-5,6.75205354894662E-5,6.574128398955855E-5,6.404805656882639E-5,6.243489967470924E-5,6.089639026254239E-5,5.942757842582489E-5,5.802393727663608E-5,5.66813190331391E-5,5.539591643868941E-5,5.416422877503078E-5],\"type\":\"scatter\"};\n",
       "  var data4 = {\"x\":[50.0,100.0,150.0,200.0,250.0,300.0,350.0,400.0,450.0,500.0,550.0,600.0,650.0,700.0,750.0,800.0,850.0,900.0,950.0,1000.0,1050.0,1100.0,1150.0,1200.0,1250.0,1300.0,1350.0,1400.0,1450.0,1500.0,1550.0,1600.0,1650.0,1700.0,1750.0,1800.0,1850.0,1900.0,1950.0,2000.0,2050.0,2100.0,2150.0,2200.0,2250.0,2300.0,2350.0,2400.0,2450.0,2500.0],\"name\":\"((eqM) (e_l)) (((mul) (e_l)) (e_r))\",\"y\":[2.3433429220197778E-4,3.0007523134149724E-4,3.927350750098584E-4,5.220590153090052E-4,6.967024905999172E-4,9.187436922632048E-4,0.0011777327422888668,0.0014500110605658396,0.0017067236484759735,0.0019254382997647551,0.0020965563991798353,0.0022218763225839745,0.002309344490071319,0.002368384377151185,0.002407347108552592,0.002432680807077389,0.0024489945528652552,0.002459434757688706,0.00246608958829303,0.002470320793641852,0.0024730067027298216,0.0024747099364940996,0.0024757893193045845,0.0024764730706827685,0.002476906090573149,0.0024771802769418833,0.002477353872467371,0.0024774637736796933,0.0024775333478864047,0.002477577391458702,0.00247760527253441,0.0024776229220139735,0.00247763409453968,0.0024776411669748324,0.0024776456439575263,0.002477648477965815,0.002477650271940659,0.0024776514075560917,0.002477652126418932,0.002477652581470545,0.002477652869525411,0.002477653051868677,0.0024776531672948254,0.0024776532403613834,0.0024776532866136527,0.0024776533158920714,0.002477653334425761,0.002477653346157881,0.0024776533535844983,0.0024776533582856627],\"type\":\"scatter\"};\n",
       "  var data5 = {\"x\":[50.0,100.0,150.0,200.0,250.0,300.0,350.0,400.0,450.0,500.0,550.0,600.0,650.0,700.0,750.0,800.0,850.0,900.0,950.0,1000.0,1050.0,1100.0,1150.0,1200.0,1250.0,1300.0,1350.0,1400.0,1450.0,1500.0,1550.0,1600.0,1650.0,1700.0,1750.0,1800.0,1850.0,1900.0,1950.0,2000.0,2050.0,2100.0,2150.0,2200.0,2250.0,2300.0,2350.0,2400.0,2450.0,2500.0],\"name\":\"((eqM) (e_l)) (((mul) (e_l)) (e_l))\",\"y\":[2.3433429220197778E-4,3.0007523134149724E-4,3.927350750098584E-4,5.220590153090052E-4,6.967024905999172E-4,9.187436922632048E-4,0.0011777327422888668,0.0014500110605658396,0.0017067236484759735,0.0019254382997647551,0.0020965563991798353,0.0022218763225839745,0.002309344490071319,0.002368384377151185,0.002407347108552592,0.002432680807077389,0.0024489945528652552,0.002459434757688706,0.00246608958829303,0.002470320793641852,0.0024730067027298216,0.0024747099364940996,0.0024757893193045845,0.0024764730706827685,0.002476906090573149,0.0024771802769418833,0.002477353872467371,0.0024774637736796933,0.0024775333478864047,0.002477577391458702,0.00247760527253441,0.0024776229220139735,0.00247763409453968,0.0024776411669748324,0.0024776456439575263,0.002477648477965815,0.002477650271940659,0.0024776514075560917,0.002477652126418932,0.002477652581470545,0.002477652869525411,0.002477653051868677,0.0024776531672948254,0.0024776532403613834,0.0024776532866136527,0.0024776533158920714,0.002477653334425761,0.002477653346157881,0.0024776533535844983,0.0024776533582856627],\"type\":\"scatter\"};\n",
       "  var data6 = {\"x\":[50.0,100.0,150.0,200.0,250.0,300.0,350.0,400.0,450.0,500.0,550.0,600.0,650.0,700.0,750.0,800.0,850.0,900.0,950.0,1000.0,1050.0,1100.0,1150.0,1200.0,1250.0,1300.0,1350.0,1400.0,1450.0,1500.0,1550.0,1600.0,1650.0,1700.0,1750.0,1800.0,1850.0,1900.0,1950.0,2000.0,2050.0,2100.0,2150.0,2200.0,2250.0,2300.0,2350.0,2400.0,2450.0,2500.0],\"name\":\"((eqM) (((mul) (e_l)) (e_r))) (e_r)\",\"y\":[0.0016118416900856183,0.0011348881820044394,8.658144149714791E-4,6.946950201920899E-4,5.770384335330232E-4,4.915699978470567E-4,4.268946945515927E-4,3.763837803056089E-4,3.359305440412072E-4,3.028611602451111E-4,2.7536325719940743E-4,2.521668058983049E-4,2.3235656237262326E-4,2.152570164916504E-4,2.0035921010671496E-4,1.8727271239476267E-4,1.7569323776351194E-4,1.6538028515637718E-4,1.561413686053151E-4,1.4782068526778965E-4,1.4029083385711907E-4,1.3344666960966555E-4,1.2720068126777592E-4,1.2147946911812596E-4,1.1622103081639087E-4,1.1137264751564953E-4,1.0688922141874438E-4,1.0273195652571748E-4,9.886730294686981E-5,9.526610553721717E-5,9.190291231565195E-5,8.875540886361808E-5,8.580395281122558E-5,8.303118841135147E-5,8.042172563090489E-5,7.796187154571047E-5,7.563940439140284E-5,7.344338259893697E-5,7.136398267640504E-5,6.939236099637848E-5,6.75205354894662E-5,6.574128398955855E-5,6.404805656882639E-5,6.243489967470924E-5,6.089639026254239E-5,5.942757842582489E-5,5.802393727663608E-5,5.66813190331391E-5,5.539591643868941E-5,5.416422877503078E-5],\"type\":\"scatter\"};\n",
       "  var data7 = {\"x\":[50.0,100.0,150.0,200.0,250.0,300.0,350.0,400.0,450.0,500.0,550.0,600.0,650.0,700.0,750.0,800.0,850.0,900.0,950.0,1000.0,1050.0,1100.0,1150.0,1200.0,1250.0,1300.0,1350.0,1400.0,1450.0,1500.0,1550.0,1600.0,1650.0,1700.0,1750.0,1800.0,1850.0,1900.0,1950.0,2000.0,2050.0,2100.0,2150.0,2200.0,2250.0,2300.0,2350.0,2400.0,2450.0,2500.0],\"name\":\"((eqM) (((mul) (e_r)) (e_r))) (e_r)\",\"y\":[0.0016118416900856183,0.0011348881820044394,8.658144149714791E-4,6.946950201920899E-4,5.770384335330232E-4,4.915699978470567E-4,4.268946945515927E-4,3.763837803056089E-4,3.359305440412072E-4,3.028611602451111E-4,2.7536325719940743E-4,2.521668058983049E-4,2.3235656237262326E-4,2.152570164916504E-4,2.0035921010671496E-4,1.8727271239476267E-4,1.7569323776351194E-4,1.6538028515637718E-4,1.561413686053151E-4,1.4782068526778965E-4,1.4029083385711907E-4,1.3344666960966555E-4,1.2720068126777592E-4,1.2147946911812596E-4,1.1622103081639087E-4,1.1137264751564953E-4,1.0688922141874438E-4,1.0273195652571748E-4,9.886730294686981E-5,9.526610553721717E-5,9.190291231565195E-5,8.875540886361808E-5,8.580395281122558E-5,8.303118841135147E-5,8.042172563090489E-5,7.796187154571047E-5,7.563940439140284E-5,7.344338259893697E-5,7.136398267640504E-5,6.939236099637848E-5,6.75205354894662E-5,6.574128398955855E-5,6.404805656882639E-5,6.243489967470924E-5,6.089639026254239E-5,5.942757842582489E-5,5.802393727663608E-5,5.66813190331391E-5,5.539591643868941E-5,5.416422877503078E-5],\"type\":\"scatter\"};\n",
       "  var data8 = {\"x\":[50.0,100.0,150.0,200.0,250.0,300.0,350.0,400.0,450.0,500.0,550.0,600.0,650.0,700.0,750.0,800.0,850.0,900.0,950.0,1000.0,1050.0,1100.0,1150.0,1200.0,1250.0,1300.0,1350.0,1400.0,1450.0,1500.0,1550.0,1600.0,1650.0,1700.0,1750.0,1800.0,1850.0,1900.0,1950.0,2000.0,2050.0,2100.0,2150.0,2200.0,2250.0,2300.0,2350.0,2400.0,2450.0,2500.0],\"name\":\"((eqM) (e_r)) (((mul) (e_l)) (e_r))\",\"y\":[2.3433429220197778E-4,3.0007523134149724E-4,3.927350750098584E-4,5.220590153090052E-4,6.967024905999172E-4,9.187436922632048E-4,0.0011777327422888668,0.0014500110605658396,0.0017067236484759735,0.0019254382997647551,0.0020965563991798353,0.0022218763225839745,0.002309344490071319,0.002368384377151185,0.002407347108552592,0.002432680807077389,0.0024489945528652552,0.002459434757688706,0.00246608958829303,0.002470320793641852,0.0024730067027298216,0.0024747099364940996,0.0024757893193045845,0.0024764730706827685,0.002476906090573149,0.0024771802769418833,0.002477353872467371,0.0024774637736796933,0.0024775333478864047,0.002477577391458702,0.00247760527253441,0.0024776229220139735,0.00247763409453968,0.0024776411669748324,0.0024776456439575263,0.002477648477965815,0.002477650271940659,0.0024776514075560917,0.002477652126418932,0.002477652581470545,0.002477652869525411,0.002477653051868677,0.0024776531672948254,0.0024776532403613834,0.0024776532866136527,0.0024776533158920714,0.002477653334425761,0.002477653346157881,0.0024776533535844983,0.0024776533582856627],\"type\":\"scatter\"};\n",
       "  var data9 = {\"x\":[50.0,100.0,150.0,200.0,250.0,300.0,350.0,400.0,450.0,500.0,550.0,600.0,650.0,700.0,750.0,800.0,850.0,900.0,950.0,1000.0,1050.0,1100.0,1150.0,1200.0,1250.0,1300.0,1350.0,1400.0,1450.0,1500.0,1550.0,1600.0,1650.0,1700.0,1750.0,1800.0,1850.0,1900.0,1950.0,2000.0,2050.0,2100.0,2150.0,2200.0,2250.0,2300.0,2350.0,2400.0,2450.0,2500.0],\"name\":\"((eqM) (e_r)) (((mul) (e_r)) (e_r))\",\"y\":[2.3433429220197778E-4,3.0007523134149724E-4,3.927350750098584E-4,5.220590153090052E-4,6.967024905999172E-4,9.187436922632048E-4,0.0011777327422888668,0.0014500110605658396,0.0017067236484759735,0.0019254382997647551,0.0020965563991798353,0.0022218763225839745,0.002309344490071319,0.002368384377151185,0.002407347108552592,0.002432680807077389,0.0024489945528652552,0.002459434757688706,0.00246608958829303,0.002470320793641852,0.0024730067027298216,0.0024747099364940996,0.0024757893193045845,0.0024764730706827685,0.002476906090573149,0.0024771802769418833,0.002477353872467371,0.0024774637736796933,0.0024775333478864047,0.002477577391458702,0.00247760527253441,0.0024776229220139735,0.00247763409453968,0.0024776411669748324,0.0024776456439575263,0.002477648477965815,0.002477650271940659,0.0024776514075560917,0.002477652126418932,0.002477652581470545,0.002477652869525411,0.002477653051868677,0.0024776531672948254,0.0024776532403613834,0.0024776532866136527,0.0024776533158920714,0.002477653334425761,0.002477653346157881,0.0024776533535844983,0.0024776533582856627],\"type\":\"scatter\"};\n",
       "\n",
       "  var data = [data0, data1, data2, data3, data4, data5, data6, data7, data8, data9];\n",
       "  var layout = {\"title\":\"Evolution of the lemma coefficients\"};\n",
       "\n",
       "  Plotly.plot('plot-1962139029', data, layout);\n",
       "})();\n",
       "});\n",
       "      </script>\n",
       "           "
      ]
     },
     "metadata": {},
     "output_type": "display_data"
    },
    {
     "data": {
      "text/plain": [
       "\u001b[36mres13\u001b[39m: \u001b[32mString\u001b[39m = \u001b[32mplot-1962139029\u001b[39m"
      ]
     },
     "execution_count": 14,
     "metadata": {},
     "output_type": "execute_result"
    }
   ],
   "source": [
    "tsdata.plot(title=\"Evolution of the lemma coefficients\")"
   ]
  },
  {
   "cell_type": "markdown",
   "metadata": {},
   "source": [
    "We pick the lemma that will give us the result. Note that there are four lemmas that have high weight after the evolution, two of which will work, so one could evolve along all of them (which we do in the interactive code)."
   ]
  },
  {
   "cell_type": "code",
   "execution_count": 15,
   "metadata": {},
   "outputs": [
    {
     "data": {
      "text/plain": [
       "\u001b[36mpf\u001b[39m: \u001b[32mU\u001b[39m = \u001b[32mlemma\u001b[39m\n",
       "\u001b[36mres14_1\u001b[39m: \u001b[32mTyp\u001b[39m[\u001b[32mU\u001b[39m] = \u001b[32meqM(e_r)(mul(e_l)(e_r))\u001b[39m"
      ]
     },
     "execution_count": 15,
     "metadata": {},
     "output_type": "execute_result"
    }
   ],
   "source": [
    "val pf = \"lemma\" :: toTyp(streams(8)._1)\n",
    "pf.typ"
   ]
  },
  {
   "cell_type": "markdown",
   "metadata": {},
   "source": [
    "### Using the lemma\n",
    "\n",
    "For quick further exploration, we use the _derivatives_ of the recursive generating rules in the direction of the new lemma."
   ]
  },
  {
   "cell_type": "code",
   "execution_count": 16,
   "metadata": {},
   "outputs": [
    {
     "data": {
      "text/plain": [
       "\u001b[36mtt\u001b[39m: \u001b[32mmonix\u001b[39m.\u001b[32meval\u001b[39m.\u001b[32mTask\u001b[39m[\u001b[32mTermState\u001b[39m] = \u001b[33mFlatMap\u001b[39m(\n",
       "  \u001b[33mFlatMap\u001b[39m(\u001b[33mAsync\u001b[39m(<function2>, true, true, true), monix.eval.Task$$Lambda$2531/1439912625@14bf3c70),\n",
       "  provingground.learning.TermGenParams$$Lambda$3285/1548968450@2cc08640\n",
       ")"
      ]
     },
     "execution_count": 16,
     "metadata": {},
     "output_type": "execute_result"
    }
   ],
   "source": [
    "val tt = tg.nextTangStateTask(ev.result, TermState(FiniteDistribution.unif(pf), FiniteDistribution.empty), math.pow(10.0, -4)) "
   ]
  },
  {
   "cell_type": "code",
   "execution_count": 17,
   "metadata": {},
   "outputs": [
    {
     "data": {
      "text/plain": [
       "\u001b[36mtts\u001b[39m: \u001b[32mTermState\u001b[39m = \u001b[33mTermState\u001b[39m(\n",
       "  \u001b[33mFiniteDistribution\u001b[39m(\n",
       "    \u001b[33mVector\u001b[39m(\n",
       "      \u001b[33mWeighted\u001b[39m(\u001b[32m(@a : M) ↦ (@b : M) ↦ @b\u001b[39m, \u001b[32m0.0036008547216669308\u001b[39m),\n",
       "      \u001b[33mWeighted\u001b[39m(\u001b[32m(@a : M) ↦ (@b : M) ↦ @a\u001b[39m, \u001b[32m0.002520598305166852\u001b[39m),\n",
       "      \u001b[33mWeighted\u001b[39m(\n",
       "        \u001b[32maxiom_{(eqM(a)(b) \\to (eqM(b)(c) \\to eqM(a)(c)))}(e_r)(e_r)(mul(e_l)(e_l))(axiom_{(eqM(a)(b) \\to (eqM(b)(c) \\to eqM(a)(c)))}(e_r)(mul(e_l)(e_r))(e_r)(lemma)(axiom_{eqM(mul(e_l)(a))(a)}(e_r)))\u001b[39m,\n",
       "        \u001b[32m3.3661218078100615E-6\u001b[39m\n",
       "      ),\n",
       "      \u001b[33mWeighted\u001b[39m(\u001b[32m(@a : M) ↦ mul(@a)\u001b[39m, \u001b[32m0.018254128413825316\u001b[39m),\n",
       "      \u001b[33mWeighted\u001b[39m(\n",
       "        \u001b[32maxiom_{(eqM(a)(b) \\to eqM(b)(a))}(e_r)(mul(e_l)(e_r))(axiom_{(eqM(a)(b) \\to eqM(b)(a))}(mul(e_l)(e_r))(e_r)(axiom_{(eqM(a)(b) \\to eqM(b)(a))}(e_r)(mul(e_l)(e_r))(lemma)))\u001b[39m,\n",
       "        \u001b[32m6.961385296652488E-4\u001b[39m\n",
       "      ),\n",
       "      \u001b[33mWeighted\u001b[39m(\n",
       "        \u001b[32m($brpwn : eqM(mul(e_r)(e_l))($brpvj)) ↦ axiom_{(eqM(a)(b) \\to (eqM(b)(c) \\to eqM(a)(c)))}(mul(e_r)(e_l))(e_r)(mul(e_l)(e_r))($brpwn)(lemma)\u001b[39m,\n",
       "        \u001b[32m4.8791369447440146E-4\u001b[39m\n",
       "      ),\n",
       "      \u001b[33mWeighted\u001b[39m(\u001b[32mlemma\u001b[39m, \u001b[32m0.6512488371186822\u001b[39m),\n",
       "      \u001b[33mWeighted\u001b[39m(\n",
       "        \u001b[32maxiom_{(eqM(a)(b) \\to (eqM(b)(c) \\to eqM(a)(c)))}(mul(e_l)(e_r))(e_r)(mul(e_l)(e_r))(axiom_{(eqM(a)(b) \\to eqM(b)(a))}(e_r)(mul(e_l)(e_r))(lemma))\u001b[39m,\n",
       "        \u001b[32m4.950705527956685E-4\u001b[39m\n",
       "      ),\n",
       "      \u001b[33mWeighted\u001b[39m(\n",
       "        \u001b[32maxiom_{(eqM(a)(b) \\to (eqM(b)(c) \\to eqM(a)(c)))}(e_r)(e_r)(mul(e_l)(e_r))(axiom_{eqM(a)(a)}(e_r))(lemma)\u001b[39m,\n",
       "        \u001b[32m9.555248417362582E-5\u001b[39m\n",
       "      ),\n",
       "      \u001b[33mWeighted\u001b[39m(\n",
       "        \u001b[32maxiom_{(eqM(a)(b) \\to (eqM(b)(c) \\to eqM(a)(c)))}(e_r)(e_l)(e_l)(axiom_{(eqM(a)(b) \\to (eqM(b)(c) \\to eqM(a)(c)))}(e_r)(mul(e_l)(e_r))(e_l)(lemma)(axiom_{eqM(mul(a)(e_r))(a)}(e_l)))\u001b[39m,\n",
       "        \u001b[32m1.041507882430002E-5\u001b[39m\n",
       "      ),\n",
       "      \u001b[33mWeighted\u001b[39m(\n",
       "        \u001b[32maxiom_{(eqM(a)(b) \\to (eqM(b)(c) \\to eqM(a)(c)))}(mul(e_l)(e_r))(e_r)(mul(e_l)(mul(e_l)(e_l)))(axiom_{(eqM(a)(b) \\to eqM(b)(a))}(e_r)(mul(e_l)(e_r))(lemma))\u001b[39m,\n",
       "        \u001b[32m2.0792282098662157E-4\u001b[39m\n",
       "      ),\n",
       "      \u001b[33mWeighted\u001b[39m(\u001b[32m(@a : M) ↦ eqM(@a)\u001b[39m, \u001b[32m0.0243755814406591\u001b[39m),\n",
       "      \u001b[33mWeighted\u001b[39m(\n",
       "        \u001b[32maxiom_{(eqM(a)(b) \\to (eqM(b)(c) \\to eqM(a)(c)))}(e_r)(mul(e_l)(e_r))(mul(e_l)(mul(e_r)(e_r)))(lemma)\u001b[39m,\n",
       "        \u001b[32m0.001166593294861569\u001b[39m\n",
       "      ),\n",
       "      \u001b[33mWeighted\u001b[39m(\n",
       "..."
      ]
     },
     "execution_count": 17,
     "metadata": {},
     "output_type": "execute_result"
    }
   ],
   "source": [
    "val tts = tt.runSyncUnsafe()"
   ]
  },
  {
   "cell_type": "markdown",
   "metadata": {},
   "source": [
    "## The Proof\n",
    "\n",
    "The next step indeed gives a proof of the desired result $e_l = e_r$. Note that this has a high weight of 1.2%"
   ]
  },
  {
   "cell_type": "code",
   "execution_count": 18,
   "metadata": {},
   "outputs": [
    {
     "data": {
      "text/plain": [
       "\u001b[36mres17\u001b[39m: \u001b[32mFiniteDistribution\u001b[39m[\u001b[32mTerm\u001b[39m] = \u001b[33mFiniteDistribution\u001b[39m(\n",
       "  \u001b[33mVector\u001b[39m(\n",
       "    \u001b[33mWeighted\u001b[39m(\n",
       "      \u001b[32maxiom_{(eqM(a)(b) \\to eqM(b)(a))}(e_r)(e_l)(axiom_{(eqM(a)(b) \\to (eqM(b)(c) \\to eqM(a)(c)))}(e_r)(mul(e_l)(e_r))(e_l)(lemma)(axiom_{eqM(mul(a)(e_r))(a)}(e_l)))\u001b[39m,\n",
       "      \u001b[32m1.0099663101516774E-4\u001b[39m\n",
       "    )\n",
       "  )\n",
       ")"
      ]
     },
     "execution_count": 18,
     "metadata": {},
     "output_type": "execute_result"
    }
   ],
   "source": [
    "tts.terms.filter(_.typ == eqM(l)(r)) "
   ]
  },
  {
   "cell_type": "markdown",
   "metadata": {},
   "source": [
    "### Other attempts"
   ]
  },
  {
   "cell_type": "code",
   "execution_count": 19,
   "metadata": {},
   "outputs": [
    {
     "data": {
      "text/plain": [
       "\u001b[36mss\u001b[39m: \u001b[32mVector\u001b[39m[(\u001b[32mTyp\u001b[39m[\u001b[32mTerm\u001b[39m], \u001b[32mDouble\u001b[39m)] = \u001b[33mVector\u001b[39m(\n",
       "  (\u001b[32meqM(e_l)(mul(e_l)(e_r))\u001b[39m, \u001b[32m0.0024776533663946215\u001b[39m),\n",
       "  (\u001b[32meqM(e_l)(mul(e_l)(e_l))\u001b[39m, \u001b[32m0.0024776533663946215\u001b[39m),\n",
       "  (\u001b[32meqM(e_r)(mul(e_l)(e_r))\u001b[39m, \u001b[32m0.0024776533663946215\u001b[39m),\n",
       "  (\u001b[32meqM(e_r)(mul(e_r)(e_r))\u001b[39m, \u001b[32m0.0024776533663946215\u001b[39m)\n",
       ")"
      ]
     },
     "execution_count": 19,
     "metadata": {},
     "output_type": "execute_result"
    }
   ],
   "source": [
    "val ss = streams.filter{case (tp, s) => s(10000) > s(1000)}.map{case (tp, s) => (tp, s(10000))}"
   ]
  },
  {
   "cell_type": "code",
   "execution_count": 20,
   "metadata": {},
   "outputs": [
    {
     "data": {
      "text/plain": [
       "\u001b[36mls\u001b[39m: \u001b[32mFiniteDistribution\u001b[39m[\u001b[32mTerm\u001b[39m] = \u001b[33mFiniteDistribution\u001b[39m(\n",
       "  \u001b[33mVector\u001b[39m(\n",
       "    \u001b[33mWeighted\u001b[39m(\u001b[32mlemma\u001b[39m, \u001b[32m0.024776533663946214\u001b[39m),\n",
       "    \u001b[33mWeighted\u001b[39m(\u001b[32mlemma\u001b[39m, \u001b[32m0.024776533663946214\u001b[39m),\n",
       "    \u001b[33mWeighted\u001b[39m(\u001b[32mlemma\u001b[39m, \u001b[32m0.024776533663946214\u001b[39m),\n",
       "    \u001b[33mWeighted\u001b[39m(\u001b[32mlemma\u001b[39m, \u001b[32m0.024776533663946214\u001b[39m)\n",
       "  )\n",
       ")"
      ]
     },
     "execution_count": 20,
     "metadata": {},
     "output_type": "execute_result"
    }
   ],
   "source": [
    "val ls = FiniteDistribution(ss.map{case (tp, p) => Weighted(\"lemma\" :: tp, p * 10)})"
   ]
  },
  {
   "cell_type": "code",
   "execution_count": 21,
   "metadata": {},
   "outputs": [
    {
     "data": {
      "text/plain": [
       "\u001b[36mts1\u001b[39m: \u001b[32mTermState\u001b[39m = \u001b[33mTermState\u001b[39m(\n",
       "  \u001b[33mFiniteDistribution\u001b[39m(\n",
       "    \u001b[33mVector\u001b[39m(\n",
       "      \u001b[33mWeighted\u001b[39m(\u001b[32me_l\u001b[39m, \u001b[32m0.043325249598357325\u001b[39m),\n",
       "      \u001b[33mWeighted\u001b[39m(\u001b[32me_r\u001b[39m, \u001b[32m0.043325249598357325\u001b[39m),\n",
       "      \u001b[33mWeighted\u001b[39m(\u001b[32mmul\u001b[39m, \u001b[32m0.043325249598357325\u001b[39m),\n",
       "      \u001b[33mWeighted\u001b[39m(\u001b[32meqM\u001b[39m, \u001b[32m0.043325249598357325\u001b[39m),\n",
       "      \u001b[33mWeighted\u001b[39m(\u001b[32maxiom_{eqM(a)(a)}\u001b[39m, \u001b[32m0.043325249598357325\u001b[39m),\n",
       "      \u001b[33mWeighted\u001b[39m(\u001b[32maxiom_{(eqM(a)(b) \\to eqM(b)(a))}\u001b[39m, \u001b[32m0.043325249598357325\u001b[39m),\n",
       "      \u001b[33mWeighted\u001b[39m(\u001b[32maxiom_{(eqM(a)(b) \\to (eqM(b)(c) \\to eqM(a)(c)))}\u001b[39m, \u001b[32m0.043325249598357325\u001b[39m),\n",
       "      \u001b[33mWeighted\u001b[39m(\u001b[32maxiom_{eqM(mul(e_l)(a))(a)}\u001b[39m, \u001b[32m0.043325249598357325\u001b[39m),\n",
       "      \u001b[33mWeighted\u001b[39m(\u001b[32maxiom_{eqM(mul(a)(e_r))(a)}\u001b[39m, \u001b[32m0.043325249598357325\u001b[39m),\n",
       "      \u001b[33mWeighted\u001b[39m(\u001b[32meqM\u001b[39m, \u001b[32m0.25995149759014397\u001b[39m),\n",
       "      \u001b[33mWeighted\u001b[39m(\u001b[32mmul\u001b[39m, \u001b[32m0.25995149759014397\u001b[39m),\n",
       "      \u001b[33mWeighted\u001b[39m(\u001b[32mlemma\u001b[39m, \u001b[32m0.022542439608624024\u001b[39m),\n",
       "      \u001b[33mWeighted\u001b[39m(\u001b[32mlemma\u001b[39m, \u001b[32m0.022542439608624024\u001b[39m),\n",
       "      \u001b[33mWeighted\u001b[39m(\u001b[32mlemma\u001b[39m, \u001b[32m0.022542439608624024\u001b[39m),\n",
       "      \u001b[33mWeighted\u001b[39m(\u001b[32mlemma\u001b[39m, \u001b[32m0.022542439608624024\u001b[39m)\n",
       "    )\n",
       "  ),\n",
       "  \u001b[33mFiniteDistribution\u001b[39m(\n",
       "    \u001b[33mVector\u001b[39m(\n",
       "      \u001b[33mWeighted\u001b[39m(\u001b[32mM\u001b[39m, \u001b[32m0.047619047619047616\u001b[39m),\n",
       "      \u001b[33mWeighted\u001b[39m(\u001b[32mM\u001b[39m, \u001b[32m0.047619047619047616\u001b[39m),\n",
       "      \u001b[33mWeighted\u001b[39m(\u001b[32m(M → (M → M))\u001b[39m, \u001b[32m0.047619047619047616\u001b[39m),\n",
       "      \u001b[33mWeighted\u001b[39m(\u001b[32m(M → (M → 𝒰 ))\u001b[39m, \u001b[32m0.047619047619047616\u001b[39m),\n",
       "      \u001b[33mWeighted\u001b[39m(\u001b[32m∏(a : M){ eqM(a)(a) }\u001b[39m, \u001b[32m0.047619047619047616\u001b[39m),\n",
       "      \u001b[33mWeighted\u001b[39m(\u001b[32m∏(a : M){ ∏(b : M){ (eqM(a)(b) → eqM(b)(a)) } }\u001b[39m, \u001b[32m0.047619047619047616\u001b[39m),\n",
       "      \u001b[33mWeighted\u001b[39m(\n",
       "        \u001b[32m∏(a : M){ ∏(b : M){ ∏(c : M){ (eqM(a)(b) → (eqM(b)(c) → eqM(a)(c))) } } }\u001b[39m,\n",
       "        \u001b[32m0.047619047619047616\u001b[39m\n",
       "      ),\n",
       "      \u001b[33mWeighted\u001b[39m(\u001b[32m∏(a : M){ eqM(mul(e_l)(a))(a) }\u001b[39m, \u001b[32m0.047619047619047616\u001b[39m),\n",
       "      \u001b[33mWeighted\u001b[39m(\u001b[32m∏(a : M){ eqM(mul(a)(e_r))(a) }\u001b[39m, \u001b[32m0.047619047619047616\u001b[39m),\n",
       "      \u001b[33mWeighted\u001b[39m(\u001b[32m(M → (M → 𝒰 ))\u001b[39m, \u001b[32m0.2857142857142857\u001b[39m),\n",
       "      \u001b[33mWeighted\u001b[39m(\u001b[32m(M → (M → M))\u001b[39m, \u001b[32m0.2857142857142857\u001b[39m)\n",
       "    )\n",
       "  ),\n",
       "  \u001b[33mVector\u001b[39m(),\n",
       "  \u001b[33mFiniteDistribution\u001b[39m(\u001b[33mVector\u001b[39m()),\n",
       "  \u001b[33mFiniteDistribution\u001b[39m(\u001b[33mVector\u001b[39m()),\n",
       "  Empty\n",
       ")"
      ]
     },
     "execution_count": 21,
     "metadata": {},
     "output_type": "execute_result"
    }
   ],
   "source": [
    "val ts1 = TermState((dist1 ++ ls).normalized(), dist1.map(_.typ))"
   ]
  },
  {
   "cell_type": "code",
   "execution_count": 22,
   "metadata": {},
   "outputs": [
    {
     "data": {
      "text/plain": [
       "\u001b[36mevT1\u001b[39m: \u001b[32mmonix\u001b[39m.\u001b[32meval\u001b[39m.\u001b[32mTask\u001b[39m[\u001b[32mEvolvedState\u001b[39m] = \u001b[33mMap\u001b[39m(\n",
       "  \u001b[33mFlatMap\u001b[39m(\n",
       "    \u001b[33mFlatMap\u001b[39m(\u001b[33mAsync\u001b[39m(<function2>, true, true, true), monix.eval.Task$$Lambda$2531/1439912625@10772d94),\n",
       "    provingground.learning.TermGenParams$$Lambda$2532/1405125416@75d438db\n",
       "  ),\n",
       "  provingground.learning.TermGenParams$$Lambda$2533/1232311273@209812ec,\n",
       "  \u001b[32m0\u001b[39m\n",
       ")"
      ]
     },
     "execution_count": 22,
     "metadata": {},
     "output_type": "execute_result"
    }
   ],
   "source": [
    "val evT1 = tg.evolvedStateTask(ts1, 0.000003)"
   ]
  },
  {
   "cell_type": "code",
   "execution_count": 23,
   "metadata": {},
   "outputs": [
    {
     "data": {
      "text/plain": [
       "\u001b[36mev1\u001b[39m: \u001b[32mEvolvedState\u001b[39m = \u001b[33mEvolvedState\u001b[39m(\n",
       "  \u001b[33mTermState\u001b[39m(\n",
       "    \u001b[33mFiniteDistribution\u001b[39m(\n",
       "      \u001b[33mVector\u001b[39m(\n",
       "        \u001b[33mWeighted\u001b[39m(\u001b[32me_l\u001b[39m, \u001b[32m0.043325249598357325\u001b[39m),\n",
       "        \u001b[33mWeighted\u001b[39m(\u001b[32me_r\u001b[39m, \u001b[32m0.043325249598357325\u001b[39m),\n",
       "        \u001b[33mWeighted\u001b[39m(\u001b[32mmul\u001b[39m, \u001b[32m0.043325249598357325\u001b[39m),\n",
       "        \u001b[33mWeighted\u001b[39m(\u001b[32meqM\u001b[39m, \u001b[32m0.043325249598357325\u001b[39m),\n",
       "        \u001b[33mWeighted\u001b[39m(\u001b[32maxiom_{eqM(a)(a)}\u001b[39m, \u001b[32m0.043325249598357325\u001b[39m),\n",
       "        \u001b[33mWeighted\u001b[39m(\u001b[32maxiom_{(eqM(a)(b) \\to eqM(b)(a))}\u001b[39m, \u001b[32m0.043325249598357325\u001b[39m),\n",
       "        \u001b[33mWeighted\u001b[39m(\u001b[32maxiom_{(eqM(a)(b) \\to (eqM(b)(c) \\to eqM(a)(c)))}\u001b[39m, \u001b[32m0.043325249598357325\u001b[39m),\n",
       "        \u001b[33mWeighted\u001b[39m(\u001b[32maxiom_{eqM(mul(e_l)(a))(a)}\u001b[39m, \u001b[32m0.043325249598357325\u001b[39m),\n",
       "        \u001b[33mWeighted\u001b[39m(\u001b[32maxiom_{eqM(mul(a)(e_r))(a)}\u001b[39m, \u001b[32m0.043325249598357325\u001b[39m),\n",
       "        \u001b[33mWeighted\u001b[39m(\u001b[32meqM\u001b[39m, \u001b[32m0.25995149759014397\u001b[39m),\n",
       "        \u001b[33mWeighted\u001b[39m(\u001b[32mmul\u001b[39m, \u001b[32m0.25995149759014397\u001b[39m),\n",
       "        \u001b[33mWeighted\u001b[39m(\u001b[32mlemma\u001b[39m, \u001b[32m0.022542439608624024\u001b[39m),\n",
       "        \u001b[33mWeighted\u001b[39m(\u001b[32mlemma\u001b[39m, \u001b[32m0.022542439608624024\u001b[39m),\n",
       "        \u001b[33mWeighted\u001b[39m(\u001b[32mlemma\u001b[39m, \u001b[32m0.022542439608624024\u001b[39m),\n",
       "        \u001b[33mWeighted\u001b[39m(\u001b[32mlemma\u001b[39m, \u001b[32m0.022542439608624024\u001b[39m)\n",
       "      )\n",
       "    ),\n",
       "    \u001b[33mFiniteDistribution\u001b[39m(\n",
       "      \u001b[33mVector\u001b[39m(\n",
       "        \u001b[33mWeighted\u001b[39m(\u001b[32mM\u001b[39m, \u001b[32m0.047619047619047616\u001b[39m),\n",
       "        \u001b[33mWeighted\u001b[39m(\u001b[32mM\u001b[39m, \u001b[32m0.047619047619047616\u001b[39m),\n",
       "        \u001b[33mWeighted\u001b[39m(\u001b[32m(M → (M → M))\u001b[39m, \u001b[32m0.047619047619047616\u001b[39m),\n",
       "        \u001b[33mWeighted\u001b[39m(\u001b[32m(M → (M → 𝒰 ))\u001b[39m, \u001b[32m0.047619047619047616\u001b[39m),\n",
       "        \u001b[33mWeighted\u001b[39m(\u001b[32m∏(a : M){ eqM(a)(a) }\u001b[39m, \u001b[32m0.047619047619047616\u001b[39m),\n",
       "        \u001b[33mWeighted\u001b[39m(\u001b[32m∏(a : M){ ∏(b : M){ (eqM(a)(b) → eqM(b)(a)) } }\u001b[39m, \u001b[32m0.047619047619047616\u001b[39m),\n",
       "        \u001b[33mWeighted\u001b[39m(\n",
       "          \u001b[32m∏(a : M){ ∏(b : M){ ∏(c : M){ (eqM(a)(b) → (eqM(b)(c) → eqM(a)(c))) } } }\u001b[39m,\n",
       "          \u001b[32m0.047619047619047616\u001b[39m\n",
       "        ),\n",
       "        \u001b[33mWeighted\u001b[39m(\u001b[32m∏(a : M){ eqM(mul(e_l)(a))(a) }\u001b[39m, \u001b[32m0.047619047619047616\u001b[39m),\n",
       "        \u001b[33mWeighted\u001b[39m(\u001b[32m∏(a : M){ eqM(mul(a)(e_r))(a) }\u001b[39m, \u001b[32m0.047619047619047616\u001b[39m),\n",
       "        \u001b[33mWeighted\u001b[39m(\u001b[32m(M → (M → 𝒰 ))\u001b[39m, \u001b[32m0.2857142857142857\u001b[39m),\n",
       "        \u001b[33mWeighted\u001b[39m(\u001b[32m(M → (M → M))\u001b[39m, \u001b[32m0.2857142857142857\u001b[39m)\n",
       "      )\n",
       "    ),\n",
       "    \u001b[33mVector\u001b[39m(),\n",
       "    \u001b[33mFiniteDistribution\u001b[39m(\u001b[33mVector\u001b[39m()),\n",
       "    \u001b[33mFiniteDistribution\u001b[39m(\u001b[33mVector\u001b[39m()),\n",
       "    Empty\n",
       "  ),\n",
       "  \u001b[33mTermState\u001b[39m(\n",
       "    \u001b[33mFiniteDistribution\u001b[39m(\n",
       "      \u001b[33mVector\u001b[39m(\n",
       "        \u001b[33mWeighted\u001b[39m(\u001b[32meqM(mul(e_l)(e_r))(mul(e_r)(mul(e_r)(e_r)))\u001b[39m, \u001b[32m7.656421235104335E-5\u001b[39m),\n",
       "        \u001b[33mWeighted\u001b[39m(\n",
       "..."
      ]
     },
     "execution_count": 23,
     "metadata": {},
     "output_type": "execute_result"
    }
   ],
   "source": [
    "val ev1 = evT1.runSyncUnsafe()"
   ]
  },
  {
   "cell_type": "code",
   "execution_count": 24,
   "metadata": {},
   "outputs": [
    {
     "data": {
      "text/plain": [
       "\u001b[36mres23\u001b[39m: \u001b[32mFiniteDistribution\u001b[39m[\u001b[32mTerm\u001b[39m] = \u001b[33mFiniteDistribution\u001b[39m(\u001b[33mVector\u001b[39m())"
      ]
     },
     "execution_count": 24,
     "metadata": {},
     "output_type": "execute_result"
    }
   ],
   "source": [
    "ev1.result.terms.filter(_.typ == eqM(l)(r)) "
   ]
  },
  {
   "cell_type": "code",
   "execution_count": 25,
   "metadata": {},
   "outputs": [
    {
     "data": {
      "text/plain": [
       "\u001b[36mres24\u001b[39m: \u001b[32mVector\u001b[39m[\u001b[32mWeighted\u001b[39m[\u001b[32mTyp\u001b[39m[\u001b[32mU\u001b[39m] forSome { type \u001b[32mU\u001b[39m >: \u001b[32mx$1\u001b[39m <: \u001b[32mTerm\u001b[39m with \u001b[32mSubs\u001b[39m[\u001b[32mU\u001b[39m]; val \u001b[32mx$1\u001b[39m: \u001b[32mTerm\u001b[39m }]] = \u001b[33mVector\u001b[39m(\n",
       "  \u001b[33mWeighted\u001b[39m(\u001b[32m(M → (M → M))\u001b[39m, \u001b[32m2.108194369089061\u001b[39m),\n",
       "  \u001b[33mWeighted\u001b[39m(\u001b[32m(M → (M → 𝒰 ))\u001b[39m, \u001b[32m2.108194369089061\u001b[39m),\n",
       "  \u001b[33mWeighted\u001b[39m(\u001b[32mM\u001b[39m, \u001b[32m3.4151793068089265\u001b[39m),\n",
       "  \u001b[33mWeighted\u001b[39m(\u001b[32m(M → 𝒰 )\u001b[39m, \u001b[32m4.156465755821471\u001b[39m),\n",
       "  \u001b[33mWeighted\u001b[39m(\u001b[32m(M → M)\u001b[39m, \u001b[32m4.156808506457434\u001b[39m),\n",
       "  \u001b[33mWeighted\u001b[39m(\u001b[32m∏(a : M){ eqM(mul(e_l)(a))(a) }\u001b[39m, \u001b[32m4.915549291146665\u001b[39m),\n",
       "  \u001b[33mWeighted\u001b[39m(\n",
       "    \u001b[32m∏(a : M){ ∏(b : M){ ∏(c : M){ (eqM(a)(b) → (eqM(b)(c) → eqM(a)(c))) } } }\u001b[39m,\n",
       "    \u001b[32m4.915549291146665\u001b[39m\n",
       "  ),\n",
       "  \u001b[33mWeighted\u001b[39m(\u001b[32m∏(a : M){ ∏(b : M){ (eqM(a)(b) → eqM(b)(a)) } }\u001b[39m, \u001b[32m4.915549291146665\u001b[39m),\n",
       "  \u001b[33mWeighted\u001b[39m(\u001b[32m∏(a : M){ eqM(a)(a) }\u001b[39m, \u001b[32m4.915549291146665\u001b[39m),\n",
       "  \u001b[33mWeighted\u001b[39m(\u001b[32m∏(@a : M){ eqM(mul(@a)(e_r))(@a) }\u001b[39m, \u001b[32m4.915549291146665\u001b[39m),\n",
       "  \u001b[33mWeighted\u001b[39m(\u001b[32m𝒰 \u001b[39m, \u001b[32m5.183963491769294\u001b[39m),\n",
       "  \u001b[33mWeighted\u001b[39m(\u001b[32meqM(e_l)(mul(e_l)(e_r))\u001b[39m, \u001b[32m5.931128018615346\u001b[39m),\n",
       "  \u001b[33mWeighted\u001b[39m(\u001b[32meqM(e_l)(mul(e_l)(e_l))\u001b[39m, \u001b[32m5.931128018615346\u001b[39m),\n",
       "  \u001b[33mWeighted\u001b[39m(\u001b[32meqM(e_r)(mul(e_l)(e_r))\u001b[39m, \u001b[32m5.931128018615346\u001b[39m),\n",
       "  \u001b[33mWeighted\u001b[39m(\u001b[32meqM(e_r)(mul(e_r)(e_r))\u001b[39m, \u001b[32m5.931128018615346\u001b[39m),\n",
       "  \u001b[33mWeighted\u001b[39m(\u001b[32meqM(e_r)(e_r)\u001b[39m, \u001b[32m7.403066436148555\u001b[39m),\n",
       "  \u001b[33mWeighted\u001b[39m(\u001b[32meqM(e_l)(e_l)\u001b[39m, \u001b[32m7.403066436148555\u001b[39m),\n",
       "  \u001b[33mWeighted\u001b[39m(\u001b[32meqM(mul(e_l)(e_r))(e_l)\u001b[39m, \u001b[32m8.553140404386417\u001b[39m),\n",
       "  \u001b[33mWeighted\u001b[39m(\u001b[32meqM(mul(e_l)(e_l))(e_l)\u001b[39m, \u001b[32m8.553140404386417\u001b[39m),\n",
       "  \u001b[33mWeighted\u001b[39m(\u001b[32meqM(mul(e_l)(e_r))(e_r)\u001b[39m, \u001b[32m8.553140404386417\u001b[39m),\n",
       "  \u001b[33mWeighted\u001b[39m(\u001b[32meqM(mul(e_r)(e_r))(e_r)\u001b[39m, \u001b[32m8.553140404386417\u001b[39m),\n",
       "  \u001b[33mWeighted\u001b[39m(\u001b[32m∏(b : M){ (eqM(e_l)(b) → eqM(b)(e_l)) }\u001b[39m, \u001b[32m9.078743136859607\u001b[39m),\n",
       "  \u001b[33mWeighted\u001b[39m(\u001b[32m∏(b : M){ (eqM(e_r)(b) → eqM(b)(e_r)) }\u001b[39m, \u001b[32m9.078743136859607\u001b[39m),\n",
       "  \u001b[33mWeighted\u001b[39m(\u001b[32m∏(b : M){ ∏(c : M){ (eqM(e_l)(b) → (eqM(b)(c) → eqM(e_l)(c))) } }\u001b[39m, \u001b[32m9.078743136859607\u001b[39m),\n",
       "  \u001b[33mWeighted\u001b[39m(\u001b[32m∏(b : M){ ∏(c : M){ (eqM(e_r)(b) → (eqM(b)(c) → eqM(e_r)(c))) } }\u001b[39m, \u001b[32m9.078743136859607\u001b[39m),\n",
       "  \u001b[33mWeighted\u001b[39m(\u001b[32m∏($sxdkl : M){ (eqM(mul(e_l)(e_r))($sxdkl) → eqM(e_r)($sxdkl)) }\u001b[39m, \u001b[32m10.42016060134765\u001b[39m),\n",
       "  \u001b[33mWeighted\u001b[39m(\u001b[32m∏($swdqm : M){ (eqM(mul(e_r)(e_r))($swdqm) → eqM(e_r)($swdqm)) }\u001b[39m, \u001b[32m10.42016060134765\u001b[39m),\n",
       "  \u001b[33mWeighted\u001b[39m(\u001b[32m∏($swybl : M){ (eqM(mul(e_l)(e_l))($swybl) → eqM(e_l)($swybl)) }\u001b[39m, \u001b[32m10.42016060134765\u001b[39m),\n",
       "  \u001b[33mWeighted\u001b[39m(\u001b[32m∏($swrgr : M){ (eqM(mul(e_l)(e_r))($swrgr) → eqM(e_l)($swrgr)) }\u001b[39m, \u001b[32m10.42016060134765\u001b[39m),\n",
       "  \u001b[33mWeighted\u001b[39m(\u001b[32meqM(mul(e_l)(e_r))(mul(e_l)(e_r))\u001b[39m, \u001b[32m10.574122478173841\u001b[39m),\n",
       "  \u001b[33mWeighted\u001b[39m(\u001b[32meqM(mul(e_l)(e_l))(mul(e_l)(e_l))\u001b[39m, \u001b[32m10.582177639381063\u001b[39m),\n",
       "  \u001b[33mWeighted\u001b[39m(\u001b[32meqM(mul(e_r)(e_r))(mul(e_r)(e_r))\u001b[39m, \u001b[32m10.582177639381063\u001b[39m),\n",
       "  \u001b[33mWeighted\u001b[39m(\u001b[32meqM(mul(e_r)(e_l))(mul(e_r)(e_l))\u001b[39m, \u001b[32m10.590278028518625\u001b[39m),\n",
       "  \u001b[33mWeighted\u001b[39m(\u001b[32m∏(b : M){ (eqM(mul(e_l)(e_r))(b) → eqM(b)(mul(e_l)(e_r))) }\u001b[39m, \u001b[32m10.681084579135808\u001b[39m),\n",
       "  \u001b[33mWeighted\u001b[39m(\u001b[32meqM(mul(mul(e_r)(e_r))(e_r))(mul(e_r)(e_r))\u001b[39m, \u001b[32m10.681084579135808\u001b[39m),\n",
       "  \u001b[33mWeighted\u001b[39m(\u001b[32meqM(mul(e_l)(mul(e_r)(e_l)))(mul(e_r)(e_l))\u001b[39m, \u001b[32m10.681084579135808\u001b[39m),\n",
       "  \u001b[33mWeighted\u001b[39m(\u001b[32meqM(mul(mul(e_l)(e_l))(e_r))(mul(e_l)(e_l))\u001b[39m, \u001b[32m10.681084579135808\u001b[39m),\n",
       "  \u001b[33mWeighted\u001b[39m(\u001b[32meqM(mul(mul(e_r)(e_l))(e_r))(mul(e_r)(e_l))\u001b[39m, \u001b[32m10.681084579135808\u001b[39m),\n",
       "  \u001b[33mWeighted\u001b[39m(\u001b[32m∏(b : M){ (eqM(mul(e_r)(e_l))(b) → eqM(b)(mul(e_r)(e_l))) }\u001b[39m, \u001b[32m10.681084579135808\u001b[39m),\n",
       "  \u001b[33mWeighted\u001b[39m(\u001b[32meqM(mul(e_l)(mul(e_l)(e_r)))(mul(e_l)(e_r))\u001b[39m, \u001b[32m10.681084579135808\u001b[39m),\n",
       "  \u001b[33mWeighted\u001b[39m(\u001b[32m∏(b : M){ (eqM(mul(e_l)(e_l))(b) → eqM(b)(mul(e_l)(e_l))) }\u001b[39m, \u001b[32m10.681084579135808\u001b[39m),\n",
       "  \u001b[33mWeighted\u001b[39m(\u001b[32meqM(mul(e_l)(mul(e_l)(e_l)))(mul(e_l)(e_l))\u001b[39m, \u001b[32m10.681084579135808\u001b[39m),\n",
       "  \u001b[33mWeighted\u001b[39m(\u001b[32meqM(mul(e_l)(mul(e_r)(e_r)))(mul(e_r)(e_r))\u001b[39m, \u001b[32m10.681084579135808\u001b[39m),\n",
       "  \u001b[33mWeighted\u001b[39m(\n",
       "    \u001b[32m∏(b : M){ ∏(c : M){ (eqM(mul(e_l)(e_r))(b) → (eqM(b)(c) → eqM(mul(e_l)(e_r))(c))) } }\u001b[39m,\n",
       "..."
      ]
     },
     "execution_count": 25,
     "metadata": {},
     "output_type": "execute_result"
    }
   ],
   "source": [
    "ev1.result.terms.map(_.typ).entropyVec"
   ]
  },
  {
   "cell_type": "code",
   "execution_count": 26,
   "metadata": {},
   "outputs": [
    {
     "data": {
      "text/plain": [
       "\u001b[32mimport \u001b[39m\u001b[36mUnify._\u001b[39m"
      ]
     },
     "execution_count": 26,
     "metadata": {},
     "output_type": "execute_result"
    }
   ],
   "source": [
    "import Unify._"
   ]
  },
  {
   "cell_type": "code",
   "execution_count": 27,
   "metadata": {},
   "outputs": [
    {
     "data": {
      "text/plain": [
       "\u001b[36mres26\u001b[39m: \u001b[32mOption\u001b[39m[\u001b[32mTerm\u001b[39m] = \u001b[32mNone\u001b[39m"
      ]
     },
     "execution_count": 27,
     "metadata": {},
     "output_type": "execute_result"
    }
   ],
   "source": [
    "unifApply(trans, \"lemma\" :: ss(0)._1, Vector())"
   ]
  },
  {
   "cell_type": "code",
   "execution_count": 28,
   "metadata": {},
   "outputs": [
    {
     "data": {
      "text/plain": [
       "\u001b[36mres27_0\u001b[39m: \u001b[32mTyp\u001b[39m[\u001b[32mTerm\u001b[39m] = \u001b[32meqM(e_l)(mul(e_l)(e_r))\u001b[39m\n",
       "\u001b[36mres27_1\u001b[39m: \u001b[32mTyp\u001b[39m[\u001b[32mFuncLike\u001b[39m[\u001b[32mTerm\u001b[39m, \u001b[32mFuncLike\u001b[39m[\u001b[32mTerm\u001b[39m, \u001b[32mFuncLike\u001b[39m[\u001b[32mTerm\u001b[39m, \u001b[32mFunc\u001b[39m[\u001b[32mTerm\u001b[39m, \u001b[32mFunc\u001b[39m[\u001b[32mTerm\u001b[39m, \u001b[32mTerm\u001b[39m]]]]]] = \u001b[32m∏(a : M){ ∏(b : M){ ∏(c : M){ (eqM(a)(b) → (eqM(b)(c) → eqM(a)(c))) } } }\u001b[39m"
      ]
     },
     "execution_count": 28,
     "metadata": {},
     "output_type": "execute_result"
    }
   ],
   "source": [
    "ss(0)._1\n",
    "trans.typ"
   ]
  },
  {
   "cell_type": "code",
   "execution_count": 29,
   "metadata": {},
   "outputs": [
    {
     "data": {
      "text/plain": [
       "\u001b[36mres28\u001b[39m: \u001b[32mOption\u001b[39m[\u001b[32mTerm\u001b[39m] = \u001b[32mNone\u001b[39m"
      ]
     },
     "execution_count": 29,
     "metadata": {},
     "output_type": "execute_result"
    }
   ],
   "source": [
    "unifApply(sym, \"lemma\" :: ss(0)._1, Vector())"
   ]
  },
  {
   "cell_type": "code",
   "execution_count": 30,
   "metadata": {},
   "outputs": [
    {
     "data": {
      "text/plain": [
       "\u001b[32mimport \u001b[39m\u001b[36mFold._\n",
       "\u001b[39m\n",
       "\u001b[36mres29_1\u001b[39m: \u001b[32mTyp\u001b[39m[\u001b[32mTerm\u001b[39m] = \u001b[32mM\u001b[39m"
      ]
     },
     "execution_count": 30,
     "metadata": {},
     "output_type": "execute_result"
    }
   ],
   "source": [
    "import Fold._\n",
    "domain(trans)"
   ]
  },
  {
   "cell_type": "code",
   "execution_count": 31,
   "metadata": {},
   "outputs": [
    {
     "data": {
      "text/plain": [
       "\u001b[36marg\u001b[39m: \u001b[32mTerm\u001b[39m = \u001b[32mlemma\u001b[39m"
      ]
     },
     "execution_count": 31,
     "metadata": {},
     "output_type": "execute_result"
    }
   ],
   "source": [
    "val arg = \"lemma\" :: ss(0)._1"
   ]
  },
  {
   "cell_type": "code",
   "execution_count": 32,
   "metadata": {},
   "outputs": [
    {
     "data": {
      "text/plain": [
       "\u001b[36mres31\u001b[39m: \u001b[32mOption\u001b[39m[\u001b[32mMap\u001b[39m[\u001b[32mTerm\u001b[39m, \u001b[32mTerm\u001b[39m]] = \u001b[32mNone\u001b[39m"
      ]
     },
     "execution_count": 32,
     "metadata": {},
     "output_type": "execute_result"
    }
   ],
   "source": [
    "unify(M, arg.typ, _ => false)"
   ]
  },
  {
   "cell_type": "code",
   "execution_count": 33,
   "metadata": {},
   "outputs": [
    {
     "data": {
      "text/plain": [
       "\u001b[36mres32\u001b[39m: \u001b[32mTyp\u001b[39m[\u001b[32mU\u001b[39m] = \u001b[32meqM(e_l)(mul(e_l)(e_r))\u001b[39m"
      ]
     },
     "execution_count": 33,
     "metadata": {},
     "output_type": "execute_result"
    }
   ],
   "source": [
    "arg.typ"
   ]
  },
  {
   "cell_type": "code",
   "execution_count": 34,
   "metadata": {},
   "outputs": [
    {
     "data": {
      "text/plain": [
       "\u001b[36mres33\u001b[39m: \u001b[32mOption\u001b[39m[\u001b[32mTerm\u001b[39m] = \u001b[33mSome\u001b[39m(\u001b[32msym(e_l)(mul(e_l)(e_r))(lemma)\u001b[39m)"
      ]
     },
     "execution_count": 34,
     "metadata": {},
     "output_type": "execute_result"
    }
   ],
   "source": [
    "appln(sym, arg)"
   ]
  },
  {
   "cell_type": "code",
   "execution_count": 35,
   "metadata": {},
   "outputs": [
    {
     "data": {
      "text/plain": [
       "\u001b[36mres34\u001b[39m: \u001b[32mOption\u001b[39m[\u001b[32mTerm\u001b[39m] = \u001b[33mSome\u001b[39m(\u001b[32m($awqpot : M) ↦ trans(e_l)(mul(e_l)(e_r))($awqpot)(lemma)\u001b[39m)"
      ]
     },
     "execution_count": 35,
     "metadata": {},
     "output_type": "execute_result"
    }
   ],
   "source": [
    "appln(trans, arg)"
   ]
  },
  {
   "cell_type": "code",
   "execution_count": 36,
   "metadata": {},
   "outputs": [
    {
     "data": {
      "text/plain": [
       "\u001b[36mfn\u001b[39m: \u001b[32mTerm\u001b[39m = \u001b[32m($awqpvj : M) ↦ trans(e_l)(mul(e_l)(e_r))($awqpvj)(lemma)\u001b[39m\n",
       "\u001b[36mres35_1\u001b[39m: \u001b[32mTyp\u001b[39m[\u001b[32mU\u001b[39m] = \u001b[32m∏($awqpvj : M){ (eqM(mul(e_l)(e_r))($awqpvj) → eqM(e_l)($awqpvj)) }\u001b[39m"
      ]
     },
     "execution_count": 36,
     "metadata": {},
     "output_type": "execute_result"
    }
   ],
   "source": [
    "val fn = appln(trans, arg).get\n",
    "fn.typ"
   ]
  },
  {
   "cell_type": "code",
   "execution_count": null,
   "metadata": {},
   "outputs": [],
   "source": []
  }
 ],
 "metadata": {
  "kernelspec": {
   "display_name": "Scala",
   "language": "scala",
   "name": "scala"
  },
  "language_info": {
   "codemirror_mode": "text/x-scala",
   "file_extension": ".scala",
   "mimetype": "text/x-scala",
   "name": "scala",
   "nbconvert_exporter": "script",
   "version": "2.12.8"
  }
 },
 "nbformat": 4,
 "nbformat_minor": 2
}
