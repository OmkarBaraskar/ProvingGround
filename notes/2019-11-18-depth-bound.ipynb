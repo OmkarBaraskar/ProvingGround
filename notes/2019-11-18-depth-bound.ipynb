{
 "cells": [
  {
   "cell_type": "markdown",
   "metadata": {},
   "source": [
    "## Testing depth bound \n",
    "\n",
    "We test a new feature -- a bound on depth in addition to cutoff."
   ]
  },
  {
   "cell_type": "code",
   "execution_count": 1,
   "metadata": {},
   "outputs": [
    {
     "data": {
      "text/plain": [
       "\u001b[32mimport \u001b[39m\u001b[36m$cp.$                                              \n",
       "\u001b[39m\n",
       "\u001b[32mimport \u001b[39m\u001b[36mprovingground._ , interface._, HoTT._, learning._ \n",
       "\u001b[39m"
      ]
     },
     "execution_count": 1,
     "metadata": {},
     "output_type": "execute_result"
    }
   ],
   "source": [
    "import $cp.bin.`provingground-core-jvm-3ed16ecda4.fat.jar`\n",
    "import provingground._ , interface._, HoTT._, learning._ \n",
    "repl.pprinter() = {\n",
    "  val p = repl.pprinter()\n",
    "  p.copy(\n",
    "    additionalHandlers = p.additionalHandlers.orElse {\n",
    "      translation.FansiShow.fansiHandler\n",
    "    }\n",
    "  )\n",
    "}\n"
   ]
  },
  {
   "cell_type": "code",
   "execution_count": 2,
   "metadata": {},
   "outputs": [
    {
     "data": {
      "text/plain": [
       "\u001b[36mM\u001b[39m: \u001b[32mTyp\u001b[39m[\u001b[32mTerm\u001b[39m] = \u001b[32mM\u001b[39m\n",
       "\u001b[36meqM\u001b[39m: \u001b[32mFunc\u001b[39m[\u001b[32mTerm\u001b[39m, \u001b[32mFunc\u001b[39m[\u001b[32mTerm\u001b[39m, \u001b[32mTyp\u001b[39m[\u001b[32mTerm\u001b[39m]]] = \u001b[32meqM\u001b[39m\n",
       "\u001b[36ma\u001b[39m: \u001b[32mTerm\u001b[39m = \u001b[32ma\u001b[39m\n",
       "\u001b[36mb\u001b[39m: \u001b[32mTerm\u001b[39m = \u001b[32mb\u001b[39m\n",
       "\u001b[36mc\u001b[39m: \u001b[32mTerm\u001b[39m = \u001b[32mc\u001b[39m\n",
       "\u001b[36mm\u001b[39m: \u001b[32mTerm\u001b[39m = \u001b[32mm\u001b[39m\n",
       "\u001b[36mn\u001b[39m: \u001b[32mTerm\u001b[39m = \u001b[32mn\u001b[39m\n",
       "\u001b[36mmul\u001b[39m: \u001b[32mFunc\u001b[39m[\u001b[32mTerm\u001b[39m, \u001b[32mFunc\u001b[39m[\u001b[32mTerm\u001b[39m, \u001b[32mTerm\u001b[39m]] = \u001b[32mmul\u001b[39m"
      ]
     },
     "execution_count": 2,
     "metadata": {},
     "output_type": "execute_result"
    }
   ],
   "source": [
    "val M = \"M\" :: Type\n",
    "\n",
    "val eqM = \"eqM\" :: M ->: M ->: Type\n",
    "\n",
    "val a = \"a\" :: M\n",
    "val b = \"b\" :: M\n",
    "val c = \"c\" :: M\n",
    "\n",
    "val m = \"m\" :: M\n",
    "\n",
    "val n = \"n\" :: M\n",
    "\n",
    "val mul = \"mul\" :: M ->: M ->: M"
   ]
  },
  {
   "cell_type": "code",
   "execution_count": 3,
   "metadata": {},
   "outputs": [
    {
     "data": {
      "text/plain": [
       "\u001b[36mts0\u001b[39m: \u001b[32mTermState\u001b[39m = \u001b[33mTermState\u001b[39m(\n",
       "  \u001b[33mFiniteDistribution\u001b[39m(\n",
       "    \u001b[33mVector\u001b[39m(\n",
       "      \u001b[33mWeighted\u001b[39m(\u001b[32meqM\u001b[39m, \u001b[32m0.2\u001b[39m),\n",
       "      \u001b[33mWeighted\u001b[39m(\u001b[32mmul\u001b[39m, \u001b[32m0.35\u001b[39m),\n",
       "      \u001b[33mWeighted\u001b[39m(\u001b[32mm\u001b[39m, \u001b[32m0.15\u001b[39m),\n",
       "      \u001b[33mWeighted\u001b[39m(\u001b[32mn\u001b[39m, \u001b[32m0.15\u001b[39m),\n",
       "      \u001b[33mWeighted\u001b[39m(\u001b[32mmul(m)(n)\u001b[39m, \u001b[32m0.15\u001b[39m)\n",
       "    )\n",
       "  ),\n",
       "  \u001b[33mFiniteDistribution\u001b[39m(\u001b[33mVector\u001b[39m(\u001b[33mWeighted\u001b[39m(\u001b[32mM\u001b[39m, \u001b[32m1.0\u001b[39m))),\n",
       "  \u001b[33mVector\u001b[39m(),\n",
       "  \u001b[33mFiniteDistribution\u001b[39m(\u001b[33mVector\u001b[39m()),\n",
       "  \u001b[33mFiniteDistribution\u001b[39m(\u001b[33mVector\u001b[39m()),\n",
       "  Empty\n",
       ")\n",
       "\u001b[36mtg0\u001b[39m: \u001b[32mTermGenParams\u001b[39m = \u001b[33mTermGenParams\u001b[39m(\n",
       "  \u001b[32m0.15\u001b[39m,\n",
       "  \u001b[32m0.0\u001b[39m,\n",
       "  \u001b[32m0.0\u001b[39m,\n",
       "  \u001b[32m0.0\u001b[39m,\n",
       "  \u001b[32m0.0\u001b[39m,\n",
       "  \u001b[32m0.0\u001b[39m,\n",
       "  \u001b[32m0.0\u001b[39m,\n",
       "  \u001b[32m0.0\u001b[39m,\n",
       "  \u001b[32m0.0\u001b[39m,\n",
       "  \u001b[32m0.0\u001b[39m,\n",
       "  \u001b[32m0.1\u001b[39m,\n",
       "  \u001b[32m0.0\u001b[39m,\n",
       "  \u001b[32m0.3\u001b[39m,\n",
       "  \u001b[32m0.7\u001b[39m,\n",
       "  \u001b[32m0.5\u001b[39m,\n",
       "  \u001b[32m0.0\u001b[39m,\n",
       "  \u001b[32m0.0\u001b[39m,\n",
       "  \u001b[32m0.0\u001b[39m,\n",
       "  \u001b[33mOrElse\u001b[39m(\n",
       "    \u001b[33mOrElse\u001b[39m(\u001b[33mOrElse\u001b[39m(\u001b[33mOrElse\u001b[39m(<function1>, <function1>), <function1>), <function1>),\n",
       "    <function1>\n",
       "  )\n",
       ")\n",
       "\u001b[36mlp0\u001b[39m: \u001b[32mLocalProver\u001b[39m = \u001b[33mLocalProver\u001b[39m(\n",
       "  \u001b[33mTermState\u001b[39m(\n",
       "    \u001b[33mFiniteDistribution\u001b[39m(\n",
       "      \u001b[33mVector\u001b[39m(\n",
       "        \u001b[33mWeighted\u001b[39m(\u001b[32meqM\u001b[39m, \u001b[32m0.2\u001b[39m),\n",
       "        \u001b[33mWeighted\u001b[39m(\u001b[32mmul\u001b[39m, \u001b[32m0.35\u001b[39m),\n",
       "        \u001b[33mWeighted\u001b[39m(\u001b[32mm\u001b[39m, \u001b[32m0.15\u001b[39m),\n",
       "        \u001b[33mWeighted\u001b[39m(\u001b[32mn\u001b[39m, \u001b[32m0.15\u001b[39m),\n",
       "        \u001b[33mWeighted\u001b[39m(\u001b[32mmul(m)(n)\u001b[39m, \u001b[32m0.15\u001b[39m)\n",
       "      )\n",
       "    ),\n",
       "    \u001b[33mFiniteDistribution\u001b[39m(\u001b[33mVector\u001b[39m(\u001b[33mWeighted\u001b[39m(\u001b[32mM\u001b[39m, \u001b[32m1.0\u001b[39m))),\n",
       "    \u001b[33mVector\u001b[39m(),\n",
       "    \u001b[33mFiniteDistribution\u001b[39m(\u001b[33mVector\u001b[39m()),\n",
       "    \u001b[33mFiniteDistribution\u001b[39m(\u001b[33mVector\u001b[39m()),\n",
       "    Empty\n",
       "  ),\n",
       "  \u001b[33mTermGenParams\u001b[39m(\n",
       "    \u001b[32m0.15\u001b[39m,\n",
       "    \u001b[32m0.0\u001b[39m,\n",
       "    \u001b[32m0.0\u001b[39m,\n",
       "    \u001b[32m0.0\u001b[39m,\n",
       "    \u001b[32m0.0\u001b[39m,\n",
       "    \u001b[32m0.0\u001b[39m,\n",
       "    \u001b[32m0.0\u001b[39m,\n",
       "    \u001b[32m0.0\u001b[39m,\n",
       "    \u001b[32m0.0\u001b[39m,\n",
       "    \u001b[32m0.0\u001b[39m,\n",
       "    \u001b[32m0.1\u001b[39m,\n",
       "    \u001b[32m0.0\u001b[39m,\n",
       "    \u001b[32m0.3\u001b[39m,\n",
       "    \u001b[32m0.7\u001b[39m,\n",
       "    \u001b[32m0.5\u001b[39m,\n",
       "    \u001b[32m0.0\u001b[39m,\n",
       "    \u001b[32m0.0\u001b[39m,\n",
       "    \u001b[32m0.0\u001b[39m,\n",
       "    \u001b[33mOrElse\u001b[39m(\n",
       "      \u001b[33mOrElse\u001b[39m(\u001b[33mOrElse\u001b[39m(\u001b[33mOrElse\u001b[39m(<function1>, <function1>), <function1>), <function1>),\n",
       "..."
      ]
     },
     "execution_count": 3,
     "metadata": {},
     "output_type": "execute_result"
    }
   ],
   "source": [
    "val ts0 = TermState(FiniteDistribution(eqM -> 0.2, mul -> 0.35, m -> 0.15, n -> 0.15, mul(m)(n) -> 0.15), FiniteDistribution.unif(M))\n",
    "val tg0 = TermGenParams.zero.copy(appW = 0.15, typAsCodW = 0.1)\n",
    "val lp0 = LocalProver(ts0, tg = tg0, genMaxDepth = Some(3)).noIsles"
   ]
  },
  {
   "cell_type": "code",
   "execution_count": 4,
   "metadata": {},
   "outputs": [
    {
     "data": {
      "text/plain": [
       "\u001b[36mtyps0T\u001b[39m: \u001b[32mmonix\u001b[39m.\u001b[32meval\u001b[39m.\u001b[32mTask\u001b[39m[\u001b[32mFiniteDistribution\u001b[39m[\u001b[32mTyp\u001b[39m[\u001b[32mTerm\u001b[39m]]] = \u001b[33mAsync\u001b[39m(\n",
       "  <function2>,\n",
       "  false,\n",
       "  true,\n",
       "  true\n",
       ")"
      ]
     },
     "execution_count": 4,
     "metadata": {},
     "output_type": "execute_result"
    }
   ],
   "source": [
    "val typs0T = lp0.nextState.map(_.typs).memoize"
   ]
  },
  {
   "cell_type": "code",
   "execution_count": 5,
   "metadata": {},
   "outputs": [
    {
     "data": {
      "text/html": [
       "<div class=\"jp-RenderedText\">\n",
       "<pre><code><span style=\"color: rgb(0, 187, 0)\"><span class=\"ansi-green-fg\">import </span></span><span style=\"color: rgb(0, 187, 187)\"><span class=\"ansi-cyan-fg\">monix.execution.Scheduler.Implicits.global\n",
       "</span></span>\n",
       "<span style=\"color: rgb(0, 187, 187)\"><span class=\"ansi-cyan-fg\">typs0F</span></span>: <span style=\"color: rgb(0, 187, 0)\"><span class=\"ansi-green-fg\">monix</span></span>.<span style=\"color: rgb(0, 187, 0)\"><span class=\"ansi-green-fg\">execution</span></span>.<span style=\"color: rgb(0, 187, 0)\"><span class=\"ansi-green-fg\">CancelableFuture</span></span>[<span style=\"color: rgb(0, 187, 0)\"><span class=\"ansi-green-fg\">FiniteDistribution</span></span>[<span style=\"color: rgb(0, 187, 0)\"><span class=\"ansi-green-fg\">Typ</span></span>[<span style=\"color: rgb(0, 187, 0)\"><span class=\"ansi-green-fg\">Term</span></span>]]] = <span style=\"color: rgb(0, 187, 0)\"><span class=\"ansi-green-fg\"><style>@keyframes fadein { from { opacity: 0; } to { opacity: 1; } }</style><span style=\"animation: fadein 2s;\"><span style=\"color: yellow\"><span class=\"ansi-yellow-fg\">Success</span></span>(\n",
       "  <span style=\"color: yellow\"><span class=\"ansi-yellow-fg\">FiniteDistribution</span></span>(\n",
       "    <span style=\"color: yellow\"><span class=\"ansi-yellow-fg\">Vector</span></span>(\n",
       "      <span style=\"color: yellow\"><span class=\"ansi-yellow-fg\">Weighted</span></span>(<span style=\"color: rgb(0, 187, 0)\"><span class=\"ansi-green-fg\">eqM(mul(m)(n))(mul(mul(m)(n))(m))</span></span>, <span style=\"color: rgb(0, 187, 0)\"><span class=\"ansi-green-fg\">0.002683588603538495</span></span>),\n",
       "      <span style=\"color: yellow\"><span class=\"ansi-yellow-fg\">Weighted</span></span>(<span style=\"color: rgb(0, 187, 0)\"><span class=\"ansi-green-fg\">eqM(mul(n)(mul(m)(n)))(mul(m)(mul(m)(n)))</span></span>, <span style=\"color: rgb(0, 187, 0)\"><span class=\"ansi-green-fg\">1.683344106735618E-4</span></span>),\n",
       "      <span style=\"color: yellow\"><span class=\"ansi-yellow-fg\">Weighted</span></span>(<span style=\"color: rgb(0, 187, 0)\"><span class=\"ansi-green-fg\">eqM(mul(n)(m))(mul(m)(mul(m)(n)))</span></span>, <span style=\"color: rgb(0, 187, 0)\"><span class=\"ansi-green-fg\">1.683344106735618E-4</span></span>),\n",
       "      <span style=\"color: yellow\"><span class=\"ansi-yellow-fg\">Weighted</span></span>(<span style=\"color: rgb(0, 187, 0)\"><span class=\"ansi-green-fg\">eqM(mul(mul(m)(n))(n))(n)</span></span>, <span style=\"color: rgb(0, 187, 0)\"><span class=\"ansi-green-fg\">3.67202350095041E-4</span></span>),\n",
       "      <span style=\"color: yellow\"><span class=\"ansi-yellow-fg\">Weighted</span></span>(<span style=\"color: rgb(0, 187, 0)\"><span class=\"ansi-green-fg\">eqM(m)(mul(mul(m)(n))(mul(m)(n)))</span></span>, <span style=\"color: rgb(0, 187, 0)\"><span class=\"ansi-green-fg\">0.0026115881427355454</span></span>),\n",
       "      <span style=\"color: yellow\"><span class=\"ansi-yellow-fg\">Weighted</span></span>(<span style=\"color: rgb(0, 187, 0)\"><span class=\"ansi-green-fg\">eqM(mul(m)(m))(mul(n)(mul(m)(n)))</span></span>, <span style=\"color: rgb(0, 187, 0)\"><span class=\"ansi-green-fg\">1.683344106735618E-4</span></span>),\n",
       "      <span style=\"color: yellow\"><span class=\"ansi-yellow-fg\">Weighted</span></span>(<span style=\"color: rgb(0, 187, 0)\"><span class=\"ansi-green-fg\">eqM(mul(n)(m))(n)</span></span>, <span style=\"color: rgb(0, 187, 0)\"><span class=\"ansi-green-fg\">3.67202350095041E-4</span></span>),\n",
       "      <span style=\"color: yellow\"><span class=\"ansi-yellow-fg\">Weighted</span></span>(<span style=\"color: rgb(0, 187, 0)\"><span class=\"ansi-green-fg\">eqM(mul(m)(n))(mul(m)(mul(m)(n)))</span></span>, <span style=\"color: rgb(0, 187, 0)\"><span class=\"ansi-green-fg\">0.0027799225534091074</span></span>),\n",
       "      <span style=\"color: yellow\"><span class=\"ansi-yellow-fg\">Weighted</span></span>(<span style=\"color: rgb(0, 187, 0)\"><span class=\"ansi-green-fg\">eqM(mul(n)(mul(m)(n)))(n)</span></span>, <span style=\"color: rgb(0, 187, 0)\"><span class=\"ansi-green-fg\">3.67202350095041E-4</span></span>),\n",
       "      <span style=\"color: yellow\"><span class=\"ansi-yellow-fg\">Weighted</span></span>(<span style=\"color: rgb(0, 187, 0)\"><span class=\"ansi-green-fg\">eqM(mul(m)(mul(m)(n)))(mul(n)(mul(m)(n)))</span></span>, <span style=\"color: rgb(0, 187, 0)\"><span class=\"ansi-green-fg\">1.683344106735618E-4</span></span>),\n",
       "      <span style=\"color: yellow\"><span class=\"ansi-yellow-fg\">Weighted</span></span>(<span style=\"color: rgb(0, 187, 0)\"><span class=\"ansi-green-fg\">eqM(mul(m)(m))(m)</span></span>, <span style=\"color: rgb(0, 187, 0)\"><span class=\"ansi-green-fg\">3.67202350095041E-4</span></span>),\n",
       "      <span style=\"color: yellow\"><span class=\"ansi-yellow-fg\">Weighted</span></span>(<span style=\"color: rgb(0, 187, 0)\"><span class=\"ansi-green-fg\">eqM(mul(m)(n))(mul(n)(m))</span></span>, <span style=\"color: rgb(0, 187, 0)\"><span class=\"ansi-green-fg\">0.002683588603538495</span></span>),\n",
       "      <span style=\"color: yellow\"><span class=\"ansi-yellow-fg\">Weighted</span></span>(<span style=\"color: rgb(0, 187, 0)\"><span class=\"ansi-green-fg\">eqM(mul(n)(mul(m)(n)))(mul(m)(m))</span></span>, <span style=\"color: rgb(0, 187, 0)\"><span class=\"ansi-green-fg\">1.6250104000665623E-4</span></span>),\n",
       "      <span style=\"color: yellow\"><span class=\"ansi-yellow-fg\">Weighted</span></span>(<span style=\"color: rgb(0, 187, 0)\"><span class=\"ansi-green-fg\">eqM(mul(n)(m))(mul(m)(n))</span></span>, <span style=\"color: rgb(0, 187, 0)\"><span class=\"ansi-green-fg\">5.297033901016973E-4</span></span>),\n",
       "      <span style=\"color: yellow\"><span class=\"ansi-yellow-fg\">Weighted</span></span>(<span style=\"color: rgb(0, 187, 0)\"><span class=\"ansi-green-fg\">eqM(mul(n)(n))(mul(m)(mul(m)(n)))</span></span>, <span style=\"color: rgb(0, 187, 0)\"><span class=\"ansi-green-fg\">1.683344106735618E-4</span></span>),\n",
       "      <span style=\"color: yellow\"><span class=\"ansi-yellow-fg\">Weighted</span></span>(<span style=\"color: rgb(0, 187, 0)\"><span class=\"ansi-green-fg\">eqM(n)(mul(mul(m)(n))(m))</span></span>, <span style=\"color: rgb(0, 187, 0)\"><span class=\"ansi-green-fg\">0.0025210875635318384</span></span>),\n",
       "      <span style=\"color: yellow\"><span class=\"ansi-yellow-fg\">Weighted</span></span>(<span style=\"color: rgb(0, 187, 0)\"><span class=\"ansi-green-fg\">eqM(mul(m)(m))(mul(m)(n))</span></span>, <span style=\"color: rgb(0, 187, 0)\"><span class=\"ansi-green-fg\">5.297033901016973E-4</span></span>),\n",
       "      <span style=\"color: yellow\"><span class=\"ansi-yellow-fg\">Weighted</span></span>(<span style=\"color: rgb(0, 187, 0)\"><span class=\"ansi-green-fg\">eqM(mul(mul(m)(n))(m))(mul(n)(m))</span></span>, <span style=\"color: rgb(0, 187, 0)\"><span class=\"ansi-green-fg\">1.6250104000665623E-4</span></span>),\n",
       "      <span style=\"color: yellow\"><span class=\"ansi-yellow-fg\">Weighted</span></span>(\n",
       "        <span style=\"color: rgb(0, 187, 0)\"><span class=\"ansi-green-fg\">eqM(mul(mul(m)(n))(m))(mul(mul(m)(n))(mul(m)(n)))</span></span>,\n",
       "        <span style=\"color: rgb(0, 187, 0)\"><span class=\"ansi-green-fg\">1.683344106735618E-4</span></span>\n",
       "      ),\n",
       "      <span style=\"color: yellow\"><span class=\"ansi-yellow-fg\">Weighted</span></span>(<span style=\"color: rgb(0, 187, 0)\"><span class=\"ansi-green-fg\">eqM(mul(mul(m)(n))(m))(m)</span></span>, <span style=\"color: rgb(0, 187, 0)\"><span class=\"ansi-green-fg\">3.67202350095041E-4</span></span>),\n",
       "      <span style=\"color: yellow\"><span class=\"ansi-yellow-fg\">Weighted</span></span>(<span style=\"color: rgb(0, 187, 0)\"><span class=\"ansi-green-fg\">eqM(m)(n)</span></span>, <span style=\"color: rgb(0, 187, 0)\"><span class=\"ansi-green-fg\">0.005696882174331637</span></span>),\n",
       "      <span style=\"color: yellow\"><span class=\"ansi-yellow-fg\">Weighted</span></span>(<span style=\"color: rgb(0, 187, 0)\"><span class=\"ansi-green-fg\">eqM(mul(n)(m))(mul(n)(mul(m)(n)))</span></span>, <span style=\"color: rgb(0, 187, 0)\"><span class=\"ansi-green-fg\">1.683344106735618E-4</span></span>),\n",
       "      <span style=\"color: yellow\"><span class=\"ansi-yellow-fg\">Weighted</span></span>(<span style=\"color: rgb(0, 187, 0)\"><span class=\"ansi-green-fg\">eqM(mul(m)(mul(m)(n)))(mul(mul(m)(n))(n))</span></span>, <span style=\"color: rgb(0, 187, 0)\"><span class=\"ansi-green-fg\">1.6250104000665623E-4</span></span>),\n",
       "      <span style=\"color: yellow\"><span class=\"ansi-yellow-fg\">Weighted</span></span>(<span style=\"color: rgb(0, 187, 0)\"><span class=\"ansi-green-fg\">eqM(n)(mul(mul(m)(n))(n))</span></span>, <span style=\"color: rgb(0, 187, 0)\"><span class=\"ansi-green-fg\">0.0025210875635318384</span></span>),\n",
       "      <span style=\"color: yellow\"><span class=\"ansi-yellow-fg\">Weighted</span></span>(<span style=\"color: rgb(0, 187, 0)\"><span class=\"ansi-green-fg\">eqM(mul(m)(m))(mul(n)(n))</span></span>, <span style=\"color: rgb(0, 187, 0)\"><span class=\"ansi-green-fg\">1.6250104000665623E-4</span></span>),\n",
       "      <span style=\"color: yellow\"><span class=\"ansi-yellow-fg\">Weighted</span></span>(<span style=\"color: rgb(0, 187, 0)\"><span class=\"ansi-green-fg\">eqM(mul(n)(m))(mul(n)(n))</span></span>, <span style=\"color: rgb(0, 187, 0)\"><span class=\"ansi-green-fg\">1.6250104000665623E-4</span></span>),\n",
       "      <span style=\"color: yellow\"><span class=\"ansi-yellow-fg\">Weighted</span></span>(<span style=\"color: rgb(0, 187, 0)\"><span class=\"ansi-green-fg\">eqM(mul(mul(m)(n))(n))(mul(m)(mul(m)(n)))</span></span>, <span style=\"color: rgb(0, 187, 0)\"><span class=\"ansi-green-fg\">1.683344106735618E-4</span></span>),\n",
       "      <span style=\"color: yellow\"><span class=\"ansi-yellow-fg\">Weighted</span></span>(<span style=\"color: rgb(0, 187, 0)\"><span class=\"ansi-green-fg\">eqM(mul(n)(mul(m)(n)))(mul(m)(n))</span></span>, <span style=\"color: rgb(0, 187, 0)\"><span class=\"ansi-green-fg\">5.297033901016973E-4</span></span>),\n",
       "      <span style=\"color: yellow\"><span class=\"ansi-yellow-fg\">Weighted</span></span>(<span style=\"color: rgb(0, 187, 0)\"><span class=\"ansi-green-fg\">eqM(mul(mul(m)(n))(n))(mul(n)(n))</span></span>, <span style=\"color: rgb(0, 187, 0)\"><span class=\"ansi-green-fg\">1.6250104000665623E-4</span></span>),\n",
       "      <span style=\"color: yellow\"><span class=\"ansi-yellow-fg\">Weighted</span></span>(<span style=\"color: rgb(0, 187, 0)\"><span class=\"ansi-green-fg\">eqM(mul(m)(n))(mul(n)(mul(m)(n)))</span></span>, <span style=\"color: rgb(0, 187, 0)\"><span class=\"ansi-green-fg\">0.0027799225534091074</span></span>),\n",
       "      <span style=\"color: yellow\"><span class=\"ansi-yellow-fg\">Weighted</span></span>(<span style=\"color: rgb(0, 187, 0)\"><span class=\"ansi-green-fg\">eqM(mul(m)(m))(mul(n)(m))</span></span>, <span style=\"color: rgb(0, 187, 0)\"><span class=\"ansi-green-fg\">1.6250104000665623E-4</span></span>),\n",
       "      <span style=\"color: yellow\"><span class=\"ansi-yellow-fg\">Weighted</span></span>(<span style=\"color: rgb(0, 187, 0)\"><span class=\"ansi-green-fg\">eqM(mul(m)(mul(m)(n)))(mul(n)(n))</span></span>, <span style=\"color: rgb(0, 187, 0)\"><span class=\"ansi-green-fg\">1.6250104000665623E-4</span></span>),\n",
       "...</span></span></span></code></pre>\n",
       "</div>"
      ],
      "text/plain": [
       "\u001b[32mimport \u001b[39m\u001b[36mmonix.execution.Scheduler.Implicits.global\n",
       "\u001b[39m\n",
       "\u001b[36mtyps0F\u001b[39m: \u001b[32mmonix\u001b[39m.\u001b[32mexecution\u001b[39m.\u001b[32mCancelableFuture\u001b[39m[\u001b[32mFiniteDistribution\u001b[39m[\u001b[32mTyp\u001b[39m[\u001b[32mTerm\u001b[39m]]] = \u001b[32m\u001b[33mSuccess\u001b[39m(\n",
       "  \u001b[33mFiniteDistribution\u001b[39m(\n",
       "    \u001b[33mVector\u001b[39m(\n",
       "      \u001b[33mWeighted\u001b[39m(\u001b[32meqM(mul(m)(n))(mul(mul(m)(n))(m))\u001b[39m, \u001b[32m0.002683588603538495\u001b[39m),\n",
       "      \u001b[33mWeighted\u001b[39m(\u001b[32meqM(mul(n)(mul(m)(n)))(mul(m)(mul(m)(n)))\u001b[39m, \u001b[32m1.683344106735618E-4\u001b[39m),\n",
       "      \u001b[33mWeighted\u001b[39m(\u001b[32meqM(mul(n)(m))(mul(m)(mul(m)(n)))\u001b[39m, \u001b[32m1.683344106735618E-4\u001b[39m),\n",
       "      \u001b[33mWeighted\u001b[39m(\u001b[32meqM(mul(mul(m)(n))(n))(n)\u001b[39m, \u001b[32m3.67202350095041E-4\u001b[39m),\n",
       "      \u001b[33mWeighted\u001b[39m(\u001b[32meqM(m)(mul(mul(m)(n))(mul(m)(n)))\u001b[39m, \u001b[32m0.0026115881427355454\u001b[39m),\n",
       "      \u001b[33mWeighted\u001b[39m(\u001b[32meqM(mul(m)(m))(mul(n)(mul(m)(n)))\u001b[39m, \u001b[32m1.683344106735618E-4\u001b[39m),\n",
       "      \u001b[33mWeighted\u001b[39m(\u001b[32meqM(mul(n)(m))(n)\u001b[39m, \u001b[32m3.67202350095041E-4\u001b[39m),\n",
       "      \u001b[33mWeighted\u001b[39m(\u001b[32meqM(mul(m)(n))(mul(m)(mul(m)(n)))\u001b[39m, \u001b[32m0.0027799225534091074\u001b[39m),\n",
       "      \u001b[33mWeighted\u001b[39m(\u001b[32meqM(mul(n)(mul(m)(n)))(n)\u001b[39m, \u001b[32m3.67202350095041E-4\u001b[39m),\n",
       "      \u001b[33mWeighted\u001b[39m(\u001b[32meqM(mul(m)(mul(m)(n)))(mul(n)(mul(m)(n)))\u001b[39m, \u001b[32m1.683344106735618E-4\u001b[39m),\n",
       "      \u001b[33mWeighted\u001b[39m(\u001b[32meqM(mul(m)(m))(m)\u001b[39m, \u001b[32m3.67202350095041E-4\u001b[39m),\n",
       "      \u001b[33mWeighted\u001b[39m(\u001b[32meqM(mul(m)(n))(mul(n)(m))\u001b[39m, \u001b[32m0.002683588603538495\u001b[39m),\n",
       "      \u001b[33mWeighted\u001b[39m(\u001b[32meqM(mul(n)(mul(m)(n)))(mul(m)(m))\u001b[39m, \u001b[32m1.6250104000665623E-4\u001b[39m),\n",
       "      \u001b[33mWeighted\u001b[39m(\u001b[32meqM(mul(n)(m))(mul(m)(n))\u001b[39m, \u001b[32m5.297033901016973E-4\u001b[39m),\n",
       "      \u001b[33mWeighted\u001b[39m(\u001b[32meqM(mul(n)(n))(mul(m)(mul(m)(n)))\u001b[39m, \u001b[32m1.683344106735618E-4\u001b[39m),\n",
       "      \u001b[33mWeighted\u001b[39m(\u001b[32meqM(n)(mul(mul(m)(n))(m))\u001b[39m, \u001b[32m0.0025210875635318384\u001b[39m),\n",
       "      \u001b[33mWeighted\u001b[39m(\u001b[32meqM(mul(m)(m))(mul(m)(n))\u001b[39m, \u001b[32m5.297033901016973E-4\u001b[39m),\n",
       "      \u001b[33mWeighted\u001b[39m(\u001b[32meqM(mul(mul(m)(n))(m))(mul(n)(m))\u001b[39m, \u001b[32m1.6250104000665623E-4\u001b[39m),\n",
       "      \u001b[33mWeighted\u001b[39m(\n",
       "        \u001b[32meqM(mul(mul(m)(n))(m))(mul(mul(m)(n))(mul(m)(n)))\u001b[39m,\n",
       "        \u001b[32m1.683344106735618E-4\u001b[39m\n",
       "      ),\n",
       "      \u001b[33mWeighted\u001b[39m(\u001b[32meqM(mul(mul(m)(n))(m))(m)\u001b[39m, \u001b[32m3.67202350095041E-4\u001b[39m),\n",
       "      \u001b[33mWeighted\u001b[39m(\u001b[32meqM(m)(n)\u001b[39m, \u001b[32m0.005696882174331637\u001b[39m),\n",
       "      \u001b[33mWeighted\u001b[39m(\u001b[32meqM(mul(n)(m))(mul(n)(mul(m)(n)))\u001b[39m, \u001b[32m1.683344106735618E-4\u001b[39m),\n",
       "      \u001b[33mWeighted\u001b[39m(\u001b[32meqM(mul(m)(mul(m)(n)))(mul(mul(m)(n))(n))\u001b[39m, \u001b[32m1.6250104000665623E-4\u001b[39m),\n",
       "      \u001b[33mWeighted\u001b[39m(\u001b[32meqM(n)(mul(mul(m)(n))(n))\u001b[39m, \u001b[32m0.0025210875635318384\u001b[39m),\n",
       "      \u001b[33mWeighted\u001b[39m(\u001b[32meqM(mul(m)(m))(mul(n)(n))\u001b[39m, \u001b[32m1.6250104000665623E-4\u001b[39m),\n",
       "      \u001b[33mWeighted\u001b[39m(\u001b[32meqM(mul(n)(m))(mul(n)(n))\u001b[39m, \u001b[32m1.6250104000665623E-4\u001b[39m),\n",
       "      \u001b[33mWeighted\u001b[39m(\u001b[32meqM(mul(mul(m)(n))(n))(mul(m)(mul(m)(n)))\u001b[39m, \u001b[32m1.683344106735618E-4\u001b[39m),\n",
       "      \u001b[33mWeighted\u001b[39m(\u001b[32meqM(mul(n)(mul(m)(n)))(mul(m)(n))\u001b[39m, \u001b[32m5.297033901016973E-4\u001b[39m),\n",
       "      \u001b[33mWeighted\u001b[39m(\u001b[32meqM(mul(mul(m)(n))(n))(mul(n)(n))\u001b[39m, \u001b[32m1.6250104000665623E-4\u001b[39m),\n",
       "      \u001b[33mWeighted\u001b[39m(\u001b[32meqM(mul(m)(n))(mul(n)(mul(m)(n)))\u001b[39m, \u001b[32m0.0027799225534091074\u001b[39m),\n",
       "      \u001b[33mWeighted\u001b[39m(\u001b[32meqM(mul(m)(m))(mul(n)(m))\u001b[39m, \u001b[32m1.6250104000665623E-4\u001b[39m),\n",
       "      \u001b[33mWeighted\u001b[39m(\u001b[32meqM(mul(m)(mul(m)(n)))(mul(n)(n))\u001b[39m, \u001b[32m1.6250104000665623E-4\u001b[39m),\n",
       "...\u001b[39m"
      ]
     },
     "metadata": {},
     "output_type": "display_data"
    }
   ],
   "source": [
    "import monix.execution.Scheduler.Implicits.global\n",
    "val typs0F = typs0T.runToFuture"
   ]
  },
  {
   "cell_type": "code",
   "execution_count": 6,
   "metadata": {},
   "outputs": [
    {
     "data": {
      "text/plain": [
       "\u001b[36mlp1\u001b[39m: \u001b[32mLocalProver\u001b[39m = \u001b[33mLocalProver\u001b[39m(\n",
       "  \u001b[33mTermState\u001b[39m(\n",
       "    \u001b[33mFiniteDistribution\u001b[39m(\n",
       "      \u001b[33mVector\u001b[39m(\n",
       "        \u001b[33mWeighted\u001b[39m(\u001b[32meqM\u001b[39m, \u001b[32m0.2\u001b[39m),\n",
       "        \u001b[33mWeighted\u001b[39m(\u001b[32mmul\u001b[39m, \u001b[32m0.35\u001b[39m),\n",
       "        \u001b[33mWeighted\u001b[39m(\u001b[32mm\u001b[39m, \u001b[32m0.15\u001b[39m),\n",
       "        \u001b[33mWeighted\u001b[39m(\u001b[32mn\u001b[39m, \u001b[32m0.15\u001b[39m),\n",
       "        \u001b[33mWeighted\u001b[39m(\u001b[32mmul(m)(n)\u001b[39m, \u001b[32m0.15\u001b[39m)\n",
       "      )\n",
       "    ),\n",
       "    \u001b[33mFiniteDistribution\u001b[39m(\u001b[33mVector\u001b[39m(\u001b[33mWeighted\u001b[39m(\u001b[32mM\u001b[39m, \u001b[32m1.0\u001b[39m))),\n",
       "    \u001b[33mVector\u001b[39m(),\n",
       "    \u001b[33mFiniteDistribution\u001b[39m(\u001b[33mVector\u001b[39m()),\n",
       "    \u001b[33mFiniteDistribution\u001b[39m(\u001b[33mVector\u001b[39m()),\n",
       "    Empty\n",
       "  ),\n",
       "  \u001b[33mTermGenParams\u001b[39m(\n",
       "    \u001b[32m0.15\u001b[39m,\n",
       "    \u001b[32m0.0\u001b[39m,\n",
       "    \u001b[32m0.0\u001b[39m,\n",
       "    \u001b[32m0.0\u001b[39m,\n",
       "    \u001b[32m0.0\u001b[39m,\n",
       "    \u001b[32m0.0\u001b[39m,\n",
       "    \u001b[32m0.0\u001b[39m,\n",
       "    \u001b[32m0.0\u001b[39m,\n",
       "    \u001b[32m0.0\u001b[39m,\n",
       "    \u001b[32m0.0\u001b[39m,\n",
       "    \u001b[32m0.1\u001b[39m,\n",
       "    \u001b[32m0.0\u001b[39m,\n",
       "    \u001b[32m0.3\u001b[39m,\n",
       "    \u001b[32m0.7\u001b[39m,\n",
       "    \u001b[32m0.5\u001b[39m,\n",
       "    \u001b[32m0.0\u001b[39m,\n",
       "    \u001b[32m0.0\u001b[39m,\n",
       "    \u001b[32m0.0\u001b[39m,\n",
       "    \u001b[33mOrElse\u001b[39m(\n",
       "      \u001b[33mOrElse\u001b[39m(\u001b[33mOrElse\u001b[39m(\u001b[33mOrElse\u001b[39m(<function1>, <function1>), <function1>), <function1>),\n",
       "...\n",
       "\u001b[36mtyps1T\u001b[39m: \u001b[32mmonix\u001b[39m.\u001b[32meval\u001b[39m.\u001b[32mTask\u001b[39m[\u001b[32mFiniteDistribution\u001b[39m[\u001b[32mTyp\u001b[39m[\u001b[32mTerm\u001b[39m]]] = \u001b[33mAsync\u001b[39m(\n",
       "  <function2>,\n",
       "  false,\n",
       "  true,\n",
       "  true\n",
       ")"
      ]
     },
     "execution_count": 6,
     "metadata": {},
     "output_type": "execute_result"
    }
   ],
   "source": [
    "val lp1 = LocalProver(ts0, tg = tg0, genMaxDepth = Some(1)).noIsles\n",
    "val typs1T = lp1.nextState.map(_.typs).memoize"
   ]
  },
  {
   "cell_type": "code",
   "execution_count": 7,
   "metadata": {},
   "outputs": [
    {
     "data": {
      "text/html": [
       "<div class=\"jp-RenderedText\">\n",
       "<pre><code><span style=\"color: rgb(0, 187, 187)\"><span class=\"ansi-cyan-fg\">typs1F</span></span>: <span style=\"color: rgb(0, 187, 0)\"><span class=\"ansi-green-fg\">monix</span></span>.<span style=\"color: rgb(0, 187, 0)\"><span class=\"ansi-green-fg\">execution</span></span>.<span style=\"color: rgb(0, 187, 0)\"><span class=\"ansi-green-fg\">CancelableFuture</span></span>[<span style=\"color: rgb(0, 187, 0)\"><span class=\"ansi-green-fg\">FiniteDistribution</span></span>[<span style=\"color: rgb(0, 187, 0)\"><span class=\"ansi-green-fg\">Typ</span></span>[<span style=\"color: rgb(0, 187, 0)\"><span class=\"ansi-green-fg\">Term</span></span>]]] = <span style=\"color: rgb(0, 187, 0)\"><span class=\"ansi-green-fg\"><style>@keyframes fadein { from { opacity: 0; } to { opacity: 1; } }</style><span style=\"animation: fadein 2s;\"><span style=\"color: yellow\"><span class=\"ansi-yellow-fg\">Success</span></span>(<span style=\"color: yellow\"><span class=\"ansi-yellow-fg\">FiniteDistribution</span></span>(<span style=\"color: yellow\"><span class=\"ansi-yellow-fg\">Vector</span></span>(<span style=\"color: yellow\"><span class=\"ansi-yellow-fg\">Weighted</span></span>(<span style=\"color: rgb(0, 187, 0)\"><span class=\"ansi-green-fg\">M</span></span>, <span style=\"color: rgb(0, 187, 0)\"><span class=\"ansi-green-fg\">1.0</span></span>))))</span></span></span></code></pre>\n",
       "</div>"
      ],
      "text/plain": [
       "\u001b[36mtyps1F\u001b[39m: \u001b[32mmonix\u001b[39m.\u001b[32mexecution\u001b[39m.\u001b[32mCancelableFuture\u001b[39m[\u001b[32mFiniteDistribution\u001b[39m[\u001b[32mTyp\u001b[39m[\u001b[32mTerm\u001b[39m]]] = \u001b[32m\u001b[33mSuccess\u001b[39m(\u001b[33mFiniteDistribution\u001b[39m(\u001b[33mVector\u001b[39m(\u001b[33mWeighted\u001b[39m(\u001b[32mM\u001b[39m, \u001b[32m1.0\u001b[39m))))\u001b[39m"
      ]
     },
     "metadata": {},
     "output_type": "display_data"
    }
   ],
   "source": [
    "val typs1F = typs1T.runToFuture"
   ]
  },
  {
   "cell_type": "code",
   "execution_count": 8,
   "metadata": {},
   "outputs": [
    {
     "data": {
      "text/plain": [
       "\u001b[36mlp2\u001b[39m: \u001b[32mLocalProver\u001b[39m = \u001b[33mLocalProver\u001b[39m(\n",
       "  \u001b[33mTermState\u001b[39m(\n",
       "    \u001b[33mFiniteDistribution\u001b[39m(\n",
       "      \u001b[33mVector\u001b[39m(\n",
       "        \u001b[33mWeighted\u001b[39m(\u001b[32meqM\u001b[39m, \u001b[32m0.2\u001b[39m),\n",
       "        \u001b[33mWeighted\u001b[39m(\u001b[32mmul\u001b[39m, \u001b[32m0.35\u001b[39m),\n",
       "        \u001b[33mWeighted\u001b[39m(\u001b[32mm\u001b[39m, \u001b[32m0.15\u001b[39m),\n",
       "        \u001b[33mWeighted\u001b[39m(\u001b[32mn\u001b[39m, \u001b[32m0.15\u001b[39m),\n",
       "        \u001b[33mWeighted\u001b[39m(\u001b[32mmul(m)(n)\u001b[39m, \u001b[32m0.15\u001b[39m)\n",
       "      )\n",
       "    ),\n",
       "    \u001b[33mFiniteDistribution\u001b[39m(\u001b[33mVector\u001b[39m(\u001b[33mWeighted\u001b[39m(\u001b[32mM\u001b[39m, \u001b[32m1.0\u001b[39m))),\n",
       "    \u001b[33mVector\u001b[39m(),\n",
       "    \u001b[33mFiniteDistribution\u001b[39m(\u001b[33mVector\u001b[39m()),\n",
       "    \u001b[33mFiniteDistribution\u001b[39m(\u001b[33mVector\u001b[39m()),\n",
       "    Empty\n",
       "  ),\n",
       "  \u001b[33mTermGenParams\u001b[39m(\n",
       "    \u001b[32m0.15\u001b[39m,\n",
       "    \u001b[32m0.0\u001b[39m,\n",
       "    \u001b[32m0.0\u001b[39m,\n",
       "    \u001b[32m0.0\u001b[39m,\n",
       "    \u001b[32m0.0\u001b[39m,\n",
       "    \u001b[32m0.0\u001b[39m,\n",
       "    \u001b[32m0.0\u001b[39m,\n",
       "    \u001b[32m0.0\u001b[39m,\n",
       "    \u001b[32m0.0\u001b[39m,\n",
       "    \u001b[32m0.0\u001b[39m,\n",
       "    \u001b[32m0.1\u001b[39m,\n",
       "    \u001b[32m0.0\u001b[39m,\n",
       "    \u001b[32m0.3\u001b[39m,\n",
       "    \u001b[32m0.7\u001b[39m,\n",
       "    \u001b[32m0.5\u001b[39m,\n",
       "    \u001b[32m0.0\u001b[39m,\n",
       "    \u001b[32m0.0\u001b[39m,\n",
       "    \u001b[32m0.0\u001b[39m,\n",
       "    \u001b[33mOrElse\u001b[39m(\n",
       "      \u001b[33mOrElse\u001b[39m(\u001b[33mOrElse\u001b[39m(\u001b[33mOrElse\u001b[39m(<function1>, <function1>), <function1>), <function1>),\n",
       "...\n",
       "\u001b[36mtyps2T\u001b[39m: \u001b[32mmonix\u001b[39m.\u001b[32meval\u001b[39m.\u001b[32mTask\u001b[39m[\u001b[32mFiniteDistribution\u001b[39m[\u001b[32mTyp\u001b[39m[\u001b[32mTerm\u001b[39m]]] = \u001b[33mAsync\u001b[39m(\n",
       "  <function2>,\n",
       "  false,\n",
       "  true,\n",
       "  true\n",
       ")"
      ]
     },
     "execution_count": 8,
     "metadata": {},
     "output_type": "execute_result"
    }
   ],
   "source": [
    "val lp2 = LocalProver(ts0, tg = tg0, genMaxDepth = Some(2)).noIsles\n",
    "val typs2T = lp2.nextState.map(_.typs).memoize"
   ]
  },
  {
   "cell_type": "code",
   "execution_count": 9,
   "metadata": {},
   "outputs": [
    {
     "data": {
      "text/html": [
       "<div class=\"jp-RenderedText\">\n",
       "<pre><code><span style=\"color: rgb(0, 187, 187)\"><span class=\"ansi-cyan-fg\">typs2F</span></span>: <span style=\"color: rgb(0, 187, 0)\"><span class=\"ansi-green-fg\">monix</span></span>.<span style=\"color: rgb(0, 187, 0)\"><span class=\"ansi-green-fg\">execution</span></span>.<span style=\"color: rgb(0, 187, 0)\"><span class=\"ansi-green-fg\">CancelableFuture</span></span>[<span style=\"color: rgb(0, 187, 0)\"><span class=\"ansi-green-fg\">FiniteDistribution</span></span>[<span style=\"color: rgb(0, 187, 0)\"><span class=\"ansi-green-fg\">Typ</span></span>[<span style=\"color: rgb(0, 187, 0)\"><span class=\"ansi-green-fg\">Term</span></span>]]] = <span style=\"color: rgb(0, 187, 0)\"><span class=\"ansi-green-fg\"><style>@keyframes fadein { from { opacity: 0; } to { opacity: 1; } }</style><span style=\"animation: fadein 2s;\"><span style=\"color: yellow\"><span class=\"ansi-yellow-fg\">Success</span></span>(\n",
       "  <span style=\"color: yellow\"><span class=\"ansi-yellow-fg\">FiniteDistribution</span></span>(\n",
       "    <span style=\"color: yellow\"><span class=\"ansi-yellow-fg\">Vector</span></span>(\n",
       "      <span style=\"color: yellow\"><span class=\"ansi-yellow-fg\">Weighted</span></span>(<span style=\"color: rgb(0, 187, 0)\"><span class=\"ansi-green-fg\">eqM(mul(m)(n))(mul(mul(m)(n))(m))</span></span>, <span style=\"color: rgb(0, 187, 0)\"><span class=\"ansi-green-fg\">9.00205761316872E-4</span></span>),\n",
       "      <span style=\"color: yellow\"><span class=\"ansi-yellow-fg\">Weighted</span></span>(<span style=\"color: rgb(0, 187, 0)\"><span class=\"ansi-green-fg\">eqM(m)(mul(mul(m)(n))(mul(m)(n)))</span></span>, <span style=\"color: rgb(0, 187, 0)\"><span class=\"ansi-green-fg\">9.00205761316872E-4</span></span>),\n",
       "      <span style=\"color: yellow\"><span class=\"ansi-yellow-fg\">Weighted</span></span>(<span style=\"color: rgb(0, 187, 0)\"><span class=\"ansi-green-fg\">eqM(mul(m)(n))(mul(m)(mul(m)(n)))</span></span>, <span style=\"color: rgb(0, 187, 0)\"><span class=\"ansi-green-fg\">9.00205761316872E-4</span></span>),\n",
       "      <span style=\"color: yellow\"><span class=\"ansi-yellow-fg\">Weighted</span></span>(<span style=\"color: rgb(0, 187, 0)\"><span class=\"ansi-green-fg\">eqM(mul(m)(n))(mul(n)(m))</span></span>, <span style=\"color: rgb(0, 187, 0)\"><span class=\"ansi-green-fg\">9.00205761316872E-4</span></span>),\n",
       "      <span style=\"color: yellow\"><span class=\"ansi-yellow-fg\">Weighted</span></span>(<span style=\"color: rgb(0, 187, 0)\"><span class=\"ansi-green-fg\">eqM(n)(mul(mul(m)(n))(m))</span></span>, <span style=\"color: rgb(0, 187, 0)\"><span class=\"ansi-green-fg\">9.00205761316872E-4</span></span>),\n",
       "      <span style=\"color: yellow\"><span class=\"ansi-yellow-fg\">Weighted</span></span>(<span style=\"color: rgb(0, 187, 0)\"><span class=\"ansi-green-fg\">eqM(m)(n)</span></span>, <span style=\"color: rgb(0, 187, 0)\"><span class=\"ansi-green-fg\">0.013966049382716046</span></span>),\n",
       "      <span style=\"color: yellow\"><span class=\"ansi-yellow-fg\">Weighted</span></span>(<span style=\"color: rgb(0, 187, 0)\"><span class=\"ansi-green-fg\">eqM(n)(mul(mul(m)(n))(n))</span></span>, <span style=\"color: rgb(0, 187, 0)\"><span class=\"ansi-green-fg\">9.00205761316872E-4</span></span>),\n",
       "      <span style=\"color: yellow\"><span class=\"ansi-yellow-fg\">Weighted</span></span>(<span style=\"color: rgb(0, 187, 0)\"><span class=\"ansi-green-fg\">eqM(mul(m)(n))(mul(n)(mul(m)(n)))</span></span>, <span style=\"color: rgb(0, 187, 0)\"><span class=\"ansi-green-fg\">9.00205761316872E-4</span></span>),\n",
       "      <span style=\"color: yellow\"><span class=\"ansi-yellow-fg\">Weighted</span></span>(<span style=\"color: rgb(0, 187, 0)\"><span class=\"ansi-green-fg\">eqM(n)(mul(n)(mul(m)(n)))</span></span>, <span style=\"color: rgb(0, 187, 0)\"><span class=\"ansi-green-fg\">9.00205761316872E-4</span></span>),\n",
       "      <span style=\"color: yellow\"><span class=\"ansi-yellow-fg\">Weighted</span></span>(<span style=\"color: rgb(0, 187, 0)\"><span class=\"ansi-green-fg\">eqM(n)(mul(mul(m)(n))(mul(m)(n)))</span></span>, <span style=\"color: rgb(0, 187, 0)\"><span class=\"ansi-green-fg\">9.00205761316872E-4</span></span>),\n",
       "      <span style=\"color: yellow\"><span class=\"ansi-yellow-fg\">Weighted</span></span>(<span style=\"color: rgb(0, 187, 0)\"><span class=\"ansi-green-fg\">M</span></span>, <span style=\"color: rgb(0, 187, 0)\"><span class=\"ansi-green-fg\">0.8499999999999998</span></span>),\n",
       "      <span style=\"color: yellow\"><span class=\"ansi-yellow-fg\">Weighted</span></span>(<span style=\"color: rgb(0, 187, 0)\"><span class=\"ansi-green-fg\">eqM(mul(m)(n))(m)</span></span>, <span style=\"color: rgb(0, 187, 0)\"><span class=\"ansi-green-fg\">0.013966049382716046</span></span>),\n",
       "      <span style=\"color: yellow\"><span class=\"ansi-yellow-fg\">Weighted</span></span>(<span style=\"color: rgb(0, 187, 0)\"><span class=\"ansi-green-fg\">eqM(mul(m)(n))(mul(n)(n))</span></span>, <span style=\"color: rgb(0, 187, 0)\"><span class=\"ansi-green-fg\">9.00205761316872E-4</span></span>),\n",
       "      <span style=\"color: yellow\"><span class=\"ansi-yellow-fg\">Weighted</span></span>(<span style=\"color: rgb(0, 187, 0)\"><span class=\"ansi-green-fg\">eqM(mul(m)(n))(mul(mul(m)(n))(mul(m)(n)))</span></span>, <span style=\"color: rgb(0, 187, 0)\"><span class=\"ansi-green-fg\">9.00205761316872E-4</span></span>),\n",
       "      <span style=\"color: yellow\"><span class=\"ansi-yellow-fg\">Weighted</span></span>(<span style=\"color: rgb(0, 187, 0)\"><span class=\"ansi-green-fg\">eqM(n)(mul(n)(n))</span></span>, <span style=\"color: rgb(0, 187, 0)\"><span class=\"ansi-green-fg\">9.00205761316872E-4</span></span>),\n",
       "      <span style=\"color: yellow\"><span class=\"ansi-yellow-fg\">Weighted</span></span>(<span style=\"color: rgb(0, 187, 0)\"><span class=\"ansi-green-fg\">eqM(m)(mul(n)(mul(m)(n)))</span></span>, <span style=\"color: rgb(0, 187, 0)\"><span class=\"ansi-green-fg\">9.00205761316872E-4</span></span>),\n",
       "      <span style=\"color: yellow\"><span class=\"ansi-yellow-fg\">Weighted</span></span>(<span style=\"color: rgb(0, 187, 0)\"><span class=\"ansi-green-fg\">eqM(m)(mul(m)(m))</span></span>, <span style=\"color: rgb(0, 187, 0)\"><span class=\"ansi-green-fg\">9.00205761316872E-4</span></span>),\n",
       "      <span style=\"color: yellow\"><span class=\"ansi-yellow-fg\">Weighted</span></span>(<span style=\"color: rgb(0, 187, 0)\"><span class=\"ansi-green-fg\">eqM(m)(m)</span></span>, <span style=\"color: rgb(0, 187, 0)\"><span class=\"ansi-green-fg\">0.013966049382716046</span></span>),\n",
       "      <span style=\"color: yellow\"><span class=\"ansi-yellow-fg\">Weighted</span></span>(<span style=\"color: rgb(0, 187, 0)\"><span class=\"ansi-green-fg\">eqM(n)(mul(n)(m))</span></span>, <span style=\"color: rgb(0, 187, 0)\"><span class=\"ansi-green-fg\">9.00205761316872E-4</span></span>),\n",
       "      <span style=\"color: yellow\"><span class=\"ansi-yellow-fg\">Weighted</span></span>(<span style=\"color: rgb(0, 187, 0)\"><span class=\"ansi-green-fg\">eqM(mul(m)(n))(n)</span></span>, <span style=\"color: rgb(0, 187, 0)\"><span class=\"ansi-green-fg\">0.013966049382716046</span></span>),\n",
       "      <span style=\"color: yellow\"><span class=\"ansi-yellow-fg\">Weighted</span></span>(<span style=\"color: rgb(0, 187, 0)\"><span class=\"ansi-green-fg\">eqM(m)(mul(m)(mul(m)(n)))</span></span>, <span style=\"color: rgb(0, 187, 0)\"><span class=\"ansi-green-fg\">9.00205761316872E-4</span></span>),\n",
       "      <span style=\"color: yellow\"><span class=\"ansi-yellow-fg\">Weighted</span></span>(<span style=\"color: rgb(0, 187, 0)\"><span class=\"ansi-green-fg\">eqM(m)(mul(mul(m)(n))(n))</span></span>, <span style=\"color: rgb(0, 187, 0)\"><span class=\"ansi-green-fg\">9.00205761316872E-4</span></span>),\n",
       "      <span style=\"color: yellow\"><span class=\"ansi-yellow-fg\">Weighted</span></span>(<span style=\"color: rgb(0, 187, 0)\"><span class=\"ansi-green-fg\">eqM(n)(mul(m)(mul(m)(n)))</span></span>, <span style=\"color: rgb(0, 187, 0)\"><span class=\"ansi-green-fg\">9.00205761316872E-4</span></span>),\n",
       "      <span style=\"color: yellow\"><span class=\"ansi-yellow-fg\">Weighted</span></span>(<span style=\"color: rgb(0, 187, 0)\"><span class=\"ansi-green-fg\">eqM(n)(mul(m)(m))</span></span>, <span style=\"color: rgb(0, 187, 0)\"><span class=\"ansi-green-fg\">9.00205761316872E-4</span></span>),\n",
       "      <span style=\"color: yellow\"><span class=\"ansi-yellow-fg\">Weighted</span></span>(<span style=\"color: rgb(0, 187, 0)\"><span class=\"ansi-green-fg\">eqM(mul(m)(n))(mul(m)(n))</span></span>, <span style=\"color: rgb(0, 187, 0)\"><span class=\"ansi-green-fg\">0.014866255144032918</span></span>),\n",
       "      <span style=\"color: yellow\"><span class=\"ansi-yellow-fg\">Weighted</span></span>(<span style=\"color: rgb(0, 187, 0)\"><span class=\"ansi-green-fg\">eqM(n)(mul(m)(n))</span></span>, <span style=\"color: rgb(0, 187, 0)\"><span class=\"ansi-green-fg\">0.014866255144032918</span></span>),\n",
       "      <span style=\"color: yellow\"><span class=\"ansi-yellow-fg\">Weighted</span></span>(<span style=\"color: rgb(0, 187, 0)\"><span class=\"ansi-green-fg\">eqM(mul(m)(n))(mul(mul(m)(n))(n))</span></span>, <span style=\"color: rgb(0, 187, 0)\"><span class=\"ansi-green-fg\">9.00205761316872E-4</span></span>),\n",
       "      <span style=\"color: yellow\"><span class=\"ansi-yellow-fg\">Weighted</span></span>(<span style=\"color: rgb(0, 187, 0)\"><span class=\"ansi-green-fg\">eqM(m)(mul(n)(n))</span></span>, <span style=\"color: rgb(0, 187, 0)\"><span class=\"ansi-green-fg\">9.00205761316872E-4</span></span>),\n",
       "      <span style=\"color: yellow\"><span class=\"ansi-yellow-fg\">Weighted</span></span>(<span style=\"color: rgb(0, 187, 0)\"><span class=\"ansi-green-fg\">eqM(n)(n)</span></span>, <span style=\"color: rgb(0, 187, 0)\"><span class=\"ansi-green-fg\">0.013966049382716046</span></span>),\n",
       "      <span style=\"color: yellow\"><span class=\"ansi-yellow-fg\">Weighted</span></span>(<span style=\"color: rgb(0, 187, 0)\"><span class=\"ansi-green-fg\">eqM(mul(m)(n))(mul(m)(m))</span></span>, <span style=\"color: rgb(0, 187, 0)\"><span class=\"ansi-green-fg\">9.00205761316872E-4</span></span>),\n",
       "      <span style=\"color: yellow\"><span class=\"ansi-yellow-fg\">Weighted</span></span>(<span style=\"color: rgb(0, 187, 0)\"><span class=\"ansi-green-fg\">eqM(m)(mul(mul(m)(n))(m))</span></span>, <span style=\"color: rgb(0, 187, 0)\"><span class=\"ansi-green-fg\">9.00205761316872E-4</span></span>),\n",
       "      <span style=\"color: yellow\"><span class=\"ansi-yellow-fg\">Weighted</span></span>(<span style=\"color: rgb(0, 187, 0)\"><span class=\"ansi-green-fg\">eqM(m)(mul(n)(m))</span></span>, <span style=\"color: rgb(0, 187, 0)\"><span class=\"ansi-green-fg\">9.00205761316872E-4</span></span>),\n",
       "      <span style=\"color: yellow\"><span class=\"ansi-yellow-fg\">Weighted</span></span>(<span style=\"color: rgb(0, 187, 0)\"><span class=\"ansi-green-fg\">eqM(m)(mul(m)(n))</span></span>, <span style=\"color: rgb(0, 187, 0)\"><span class=\"ansi-green-fg\">0.014866255144032918</span></span>),\n",
       "      <span style=\"color: yellow\"><span class=\"ansi-yellow-fg\">Weighted</span></span>(<span style=\"color: rgb(0, 187, 0)\"><span class=\"ansi-green-fg\">eqM(n)(m)</span></span>, <span style=\"color: rgb(0, 187, 0)\"><span class=\"ansi-green-fg\">0.013966049382716046</span></span>)\n",
       "    )\n",
       "  )\n",
       ")</span></span></span></code></pre>\n",
       "</div>"
      ],
      "text/plain": [
       "\u001b[36mtyps2F\u001b[39m: \u001b[32mmonix\u001b[39m.\u001b[32mexecution\u001b[39m.\u001b[32mCancelableFuture\u001b[39m[\u001b[32mFiniteDistribution\u001b[39m[\u001b[32mTyp\u001b[39m[\u001b[32mTerm\u001b[39m]]] = \u001b[32m\u001b[33mSuccess\u001b[39m(\n",
       "  \u001b[33mFiniteDistribution\u001b[39m(\n",
       "    \u001b[33mVector\u001b[39m(\n",
       "      \u001b[33mWeighted\u001b[39m(\u001b[32meqM(mul(m)(n))(mul(mul(m)(n))(m))\u001b[39m, \u001b[32m9.00205761316872E-4\u001b[39m),\n",
       "      \u001b[33mWeighted\u001b[39m(\u001b[32meqM(m)(mul(mul(m)(n))(mul(m)(n)))\u001b[39m, \u001b[32m9.00205761316872E-4\u001b[39m),\n",
       "      \u001b[33mWeighted\u001b[39m(\u001b[32meqM(mul(m)(n))(mul(m)(mul(m)(n)))\u001b[39m, \u001b[32m9.00205761316872E-4\u001b[39m),\n",
       "      \u001b[33mWeighted\u001b[39m(\u001b[32meqM(mul(m)(n))(mul(n)(m))\u001b[39m, \u001b[32m9.00205761316872E-4\u001b[39m),\n",
       "      \u001b[33mWeighted\u001b[39m(\u001b[32meqM(n)(mul(mul(m)(n))(m))\u001b[39m, \u001b[32m9.00205761316872E-4\u001b[39m),\n",
       "      \u001b[33mWeighted\u001b[39m(\u001b[32meqM(m)(n)\u001b[39m, \u001b[32m0.013966049382716046\u001b[39m),\n",
       "      \u001b[33mWeighted\u001b[39m(\u001b[32meqM(n)(mul(mul(m)(n))(n))\u001b[39m, \u001b[32m9.00205761316872E-4\u001b[39m),\n",
       "      \u001b[33mWeighted\u001b[39m(\u001b[32meqM(mul(m)(n))(mul(n)(mul(m)(n)))\u001b[39m, \u001b[32m9.00205761316872E-4\u001b[39m),\n",
       "      \u001b[33mWeighted\u001b[39m(\u001b[32meqM(n)(mul(n)(mul(m)(n)))\u001b[39m, \u001b[32m9.00205761316872E-4\u001b[39m),\n",
       "      \u001b[33mWeighted\u001b[39m(\u001b[32meqM(n)(mul(mul(m)(n))(mul(m)(n)))\u001b[39m, \u001b[32m9.00205761316872E-4\u001b[39m),\n",
       "      \u001b[33mWeighted\u001b[39m(\u001b[32mM\u001b[39m, \u001b[32m0.8499999999999998\u001b[39m),\n",
       "      \u001b[33mWeighted\u001b[39m(\u001b[32meqM(mul(m)(n))(m)\u001b[39m, \u001b[32m0.013966049382716046\u001b[39m),\n",
       "      \u001b[33mWeighted\u001b[39m(\u001b[32meqM(mul(m)(n))(mul(n)(n))\u001b[39m, \u001b[32m9.00205761316872E-4\u001b[39m),\n",
       "      \u001b[33mWeighted\u001b[39m(\u001b[32meqM(mul(m)(n))(mul(mul(m)(n))(mul(m)(n)))\u001b[39m, \u001b[32m9.00205761316872E-4\u001b[39m),\n",
       "      \u001b[33mWeighted\u001b[39m(\u001b[32meqM(n)(mul(n)(n))\u001b[39m, \u001b[32m9.00205761316872E-4\u001b[39m),\n",
       "      \u001b[33mWeighted\u001b[39m(\u001b[32meqM(m)(mul(n)(mul(m)(n)))\u001b[39m, \u001b[32m9.00205761316872E-4\u001b[39m),\n",
       "      \u001b[33mWeighted\u001b[39m(\u001b[32meqM(m)(mul(m)(m))\u001b[39m, \u001b[32m9.00205761316872E-4\u001b[39m),\n",
       "      \u001b[33mWeighted\u001b[39m(\u001b[32meqM(m)(m)\u001b[39m, \u001b[32m0.013966049382716046\u001b[39m),\n",
       "      \u001b[33mWeighted\u001b[39m(\u001b[32meqM(n)(mul(n)(m))\u001b[39m, \u001b[32m9.00205761316872E-4\u001b[39m),\n",
       "      \u001b[33mWeighted\u001b[39m(\u001b[32meqM(mul(m)(n))(n)\u001b[39m, \u001b[32m0.013966049382716046\u001b[39m),\n",
       "      \u001b[33mWeighted\u001b[39m(\u001b[32meqM(m)(mul(m)(mul(m)(n)))\u001b[39m, \u001b[32m9.00205761316872E-4\u001b[39m),\n",
       "      \u001b[33mWeighted\u001b[39m(\u001b[32meqM(m)(mul(mul(m)(n))(n))\u001b[39m, \u001b[32m9.00205761316872E-4\u001b[39m),\n",
       "      \u001b[33mWeighted\u001b[39m(\u001b[32meqM(n)(mul(m)(mul(m)(n)))\u001b[39m, \u001b[32m9.00205761316872E-4\u001b[39m),\n",
       "      \u001b[33mWeighted\u001b[39m(\u001b[32meqM(n)(mul(m)(m))\u001b[39m, \u001b[32m9.00205761316872E-4\u001b[39m),\n",
       "      \u001b[33mWeighted\u001b[39m(\u001b[32meqM(mul(m)(n))(mul(m)(n))\u001b[39m, \u001b[32m0.014866255144032918\u001b[39m),\n",
       "      \u001b[33mWeighted\u001b[39m(\u001b[32meqM(n)(mul(m)(n))\u001b[39m, \u001b[32m0.014866255144032918\u001b[39m),\n",
       "      \u001b[33mWeighted\u001b[39m(\u001b[32meqM(mul(m)(n))(mul(mul(m)(n))(n))\u001b[39m, \u001b[32m9.00205761316872E-4\u001b[39m),\n",
       "      \u001b[33mWeighted\u001b[39m(\u001b[32meqM(m)(mul(n)(n))\u001b[39m, \u001b[32m9.00205761316872E-4\u001b[39m),\n",
       "      \u001b[33mWeighted\u001b[39m(\u001b[32meqM(n)(n)\u001b[39m, \u001b[32m0.013966049382716046\u001b[39m),\n",
       "      \u001b[33mWeighted\u001b[39m(\u001b[32meqM(mul(m)(n))(mul(m)(m))\u001b[39m, \u001b[32m9.00205761316872E-4\u001b[39m),\n",
       "      \u001b[33mWeighted\u001b[39m(\u001b[32meqM(m)(mul(mul(m)(n))(m))\u001b[39m, \u001b[32m9.00205761316872E-4\u001b[39m),\n",
       "      \u001b[33mWeighted\u001b[39m(\u001b[32meqM(m)(mul(n)(m))\u001b[39m, \u001b[32m9.00205761316872E-4\u001b[39m),\n",
       "      \u001b[33mWeighted\u001b[39m(\u001b[32meqM(m)(mul(m)(n))\u001b[39m, \u001b[32m0.014866255144032918\u001b[39m),\n",
       "      \u001b[33mWeighted\u001b[39m(\u001b[32meqM(n)(m)\u001b[39m, \u001b[32m0.013966049382716046\u001b[39m)\n",
       "    )\n",
       "  )\n",
       ")\u001b[39m"
      ]
     },
     "metadata": {},
     "output_type": "display_data"
    }
   ],
   "source": [
    "val typs2F = typs2T.runToFuture"
   ]
  },
  {
   "cell_type": "code",
   "execution_count": 13,
   "metadata": {},
   "outputs": [
    {
     "data": {
      "text/plain": [
       "\u001b[36mtg1\u001b[39m: \u001b[32mTermGenParams\u001b[39m = \u001b[33mTermGenParams\u001b[39m(\n",
       "  \u001b[32m0.2\u001b[39m,\n",
       "  \u001b[32m0.0\u001b[39m,\n",
       "  \u001b[32m0.2\u001b[39m,\n",
       "  \u001b[32m0.0\u001b[39m,\n",
       "  \u001b[32m0.0\u001b[39m,\n",
       "  \u001b[32m0.0\u001b[39m,\n",
       "  \u001b[32m0.0\u001b[39m,\n",
       "  \u001b[32m0.0\u001b[39m,\n",
       "  \u001b[32m0.0\u001b[39m,\n",
       "  \u001b[32m0.0\u001b[39m,\n",
       "  \u001b[32m0.1\u001b[39m,\n",
       "  \u001b[32m0.0\u001b[39m,\n",
       "  \u001b[32m0.3\u001b[39m,\n",
       "  \u001b[32m0.7\u001b[39m,\n",
       "  \u001b[32m0.5\u001b[39m,\n",
       "  \u001b[32m0.0\u001b[39m,\n",
       "  \u001b[32m0.0\u001b[39m,\n",
       "  \u001b[32m0.0\u001b[39m,\n",
       "  \u001b[33mOrElse\u001b[39m(\n",
       "    \u001b[33mOrElse\u001b[39m(\u001b[33mOrElse\u001b[39m(\u001b[33mOrElse\u001b[39m(<function1>, <function1>), <function1>), <function1>),\n",
       "    <function1>\n",
       "  )\n",
       ")\n",
       "\u001b[36mlp3\u001b[39m: \u001b[32mLocalProverStep\u001b[39m = \u001b[33mLocalProver\u001b[39m(\n",
       "  \u001b[33mTermState\u001b[39m(\n",
       "    \u001b[33mFiniteDistribution\u001b[39m(\n",
       "      \u001b[33mVector\u001b[39m(\n",
       "        \u001b[33mWeighted\u001b[39m(\u001b[32meqM\u001b[39m, \u001b[32m0.2\u001b[39m),\n",
       "        \u001b[33mWeighted\u001b[39m(\u001b[32mmul\u001b[39m, \u001b[32m0.35\u001b[39m),\n",
       "        \u001b[33mWeighted\u001b[39m(\u001b[32mm\u001b[39m, \u001b[32m0.15\u001b[39m),\n",
       "        \u001b[33mWeighted\u001b[39m(\u001b[32mn\u001b[39m, \u001b[32m0.15\u001b[39m),\n",
       "        \u001b[33mWeighted\u001b[39m(\u001b[32mmul(m)(n)\u001b[39m, \u001b[32m0.15\u001b[39m)\n",
       "      )\n",
       "    ),\n",
       "    \u001b[33mFiniteDistribution\u001b[39m(\u001b[33mVector\u001b[39m(\u001b[33mWeighted\u001b[39m(\u001b[32mM\u001b[39m, \u001b[32m1.0\u001b[39m))),\n",
       "    \u001b[33mVector\u001b[39m(),\n",
       "    \u001b[33mFiniteDistribution\u001b[39m(\u001b[33mVector\u001b[39m()),\n",
       "    \u001b[33mFiniteDistribution\u001b[39m(\u001b[33mVector\u001b[39m()),\n",
       "    Empty\n",
       "  ),\n",
       "  \u001b[33mTermGenParams\u001b[39m(\n",
       "    \u001b[32m0.2\u001b[39m,\n",
       "    \u001b[32m0.0\u001b[39m,\n",
       "    \u001b[32m0.2\u001b[39m,\n",
       "    \u001b[32m0.0\u001b[39m,\n",
       "    \u001b[32m0.0\u001b[39m,\n",
       "    \u001b[32m0.0\u001b[39m,\n",
       "    \u001b[32m0.0\u001b[39m,\n",
       "    \u001b[32m0.0\u001b[39m,\n",
       "    \u001b[32m0.0\u001b[39m,\n",
       "    \u001b[32m0.0\u001b[39m,\n",
       "    \u001b[32m0.1\u001b[39m,\n",
       "    \u001b[32m0.0\u001b[39m,\n",
       "    \u001b[32m0.3\u001b[39m,\n",
       "    \u001b[32m0.7\u001b[39m,\n",
       "    \u001b[32m0.5\u001b[39m,\n",
       "    \u001b[32m0.0\u001b[39m,\n",
       "    \u001b[32m0.0\u001b[39m,\n",
       "    \u001b[32m0.0\u001b[39m,\n",
       "    \u001b[33mOrElse\u001b[39m(\n",
       "      \u001b[33mOrElse\u001b[39m(\u001b[33mOrElse\u001b[39m(\u001b[33mOrElse\u001b[39m(<function1>, <function1>), <function1>), <function1>),\n",
       "..."
      ]
     },
     "execution_count": 13,
     "metadata": {},
     "output_type": "execute_result"
    }
   ],
   "source": [
    "val tg1 = TermGenParams.zero.copy(appW = 0.2, typAsCodW = 0.1, argAppW = 0.2)\n",
    "val lp3 = LocalProver(ts0, tg = tg1, genMaxDepth = Some(3)).noIsles.sharpen(10)"
   ]
  },
  {
   "cell_type": "code",
   "execution_count": 14,
   "metadata": {},
   "outputs": [
    {
     "data": {
      "text/plain": [
       "\u001b[36mtyps3T\u001b[39m: \u001b[32mmonix\u001b[39m.\u001b[32meval\u001b[39m.\u001b[32mTask\u001b[39m[\u001b[32mFiniteDistribution\u001b[39m[\u001b[32mTyp\u001b[39m[\u001b[32mTerm\u001b[39m]]] = \u001b[33mAsync\u001b[39m(\n",
       "  <function2>,\n",
       "  false,\n",
       "  true,\n",
       "  true\n",
       ")"
      ]
     },
     "execution_count": 14,
     "metadata": {},
     "output_type": "execute_result"
    }
   ],
   "source": [
    "val typs3T = lp3.nextState.map(_.typs).memoize"
   ]
  },
  {
   "cell_type": "code",
   "execution_count": 15,
   "metadata": {},
   "outputs": [
    {
     "data": {
      "text/html": [
       "<div class=\"jp-RenderedText\">\n",
       "<pre><code><span style=\"color: rgb(0, 187, 187)\"><span class=\"ansi-cyan-fg\">typs3F</span></span>: <span style=\"color: rgb(0, 187, 0)\"><span class=\"ansi-green-fg\">monix</span></span>.<span style=\"color: rgb(0, 187, 0)\"><span class=\"ansi-green-fg\">execution</span></span>.<span style=\"color: rgb(0, 187, 0)\"><span class=\"ansi-green-fg\">CancelableFuture</span></span>[<span style=\"color: rgb(0, 187, 0)\"><span class=\"ansi-green-fg\">FiniteDistribution</span></span>[<span style=\"color: rgb(0, 187, 0)\"><span class=\"ansi-green-fg\">Typ</span></span>[<span style=\"color: rgb(0, 187, 0)\"><span class=\"ansi-green-fg\">Term</span></span>]]] = <span style=\"color: rgb(0, 187, 0)\"><span class=\"ansi-green-fg\"><style>@keyframes fadein { from { opacity: 0; } to { opacity: 1; } }</style><span style=\"animation: fadein 2s;\"><span style=\"color: yellow\"><span class=\"ansi-yellow-fg\">Success</span></span>(\n",
       "  <span style=\"color: yellow\"><span class=\"ansi-yellow-fg\">FiniteDistribution</span></span>(\n",
       "    <span style=\"color: yellow\"><span class=\"ansi-yellow-fg\">Vector</span></span>(\n",
       "      <span style=\"color: yellow\"><span class=\"ansi-yellow-fg\">Weighted</span></span>(<span style=\"color: rgb(0, 187, 0)\"><span class=\"ansi-green-fg\">eqM(mul(m)(n))(mul(mul(m)(n))(m))</span></span>, <span style=\"color: rgb(0, 187, 0)\"><span class=\"ansi-green-fg\">0.004849655541931982</span></span>),\n",
       "      <span style=\"color: yellow\"><span class=\"ansi-yellow-fg\">Weighted</span></span>(<span style=\"color: rgb(0, 187, 0)\"><span class=\"ansi-green-fg\">eqM(m)(mul(mul(m)(mul(m)(n)))(m))</span></span>, <span style=\"color: rgb(0, 187, 0)\"><span class=\"ansi-green-fg\">3.434380200186756E-5</span></span>),\n",
       "      <span style=\"color: yellow\"><span class=\"ansi-yellow-fg\">Weighted</span></span>(<span style=\"color: rgb(0, 187, 0)\"><span class=\"ansi-green-fg\">eqM(m)(mul(m)(mul(mul(m)(n))(n)))</span></span>, <span style=\"color: rgb(0, 187, 0)\"><span class=\"ansi-green-fg\">2.1434429618186857E-4</span></span>),\n",
       "      <span style=\"color: yellow\"><span class=\"ansi-yellow-fg\">Weighted</span></span>(<span style=\"color: rgb(0, 187, 0)\"><span class=\"ansi-green-fg\">eqM(m)(mul(m)(mul(n)(n)))</span></span>, <span style=\"color: rgb(0, 187, 0)\"><span class=\"ansi-green-fg\">2.1434429618186857E-4</span></span>),\n",
       "      <span style=\"color: yellow\"><span class=\"ansi-yellow-fg\">Weighted</span></span>(<span style=\"color: rgb(0, 187, 0)\"><span class=\"ansi-green-fg\">eqM(mul(n)(mul(m)(n)))(mul(m)(mul(m)(n)))</span></span>, <span style=\"color: rgb(0, 187, 0)\"><span class=\"ansi-green-fg\">1.7845888926804393E-4</span></span>),\n",
       "      <span style=\"color: yellow\"><span class=\"ansi-yellow-fg\">Weighted</span></span>(<span style=\"color: rgb(0, 187, 0)\"><span class=\"ansi-green-fg\">eqM(m)(mul(mul(m)(mul(m)(n)))(n))</span></span>, <span style=\"color: rgb(0, 187, 0)\"><span class=\"ansi-green-fg\">3.434380200186756E-5</span></span>),\n",
       "      <span style=\"color: yellow\"><span class=\"ansi-yellow-fg\">Weighted</span></span>(\n",
       "        <span style=\"color: rgb(0, 187, 0)\"><span class=\"ansi-green-fg\">eqM(mul(m)(n))(mul(mul(m)(mul(m)(n)))(mul(m)(n)))</span></span>,\n",
       "        <span style=\"color: rgb(0, 187, 0)\"><span class=\"ansi-green-fg\">3.8554038820451205E-5</span></span>\n",
       "      ),\n",
       "      <span style=\"color: yellow\"><span class=\"ansi-yellow-fg\">Weighted</span></span>(<span style=\"color: rgb(0, 187, 0)\"><span class=\"ansi-green-fg\">eqM(m)(mul(mul(m)(m))(mul(m)(n)))</span></span>, <span style=\"color: rgb(0, 187, 0)\"><span class=\"ansi-green-fg\">3.718548774670293E-5</span></span>),\n",
       "      <span style=\"color: yellow\"><span class=\"ansi-yellow-fg\">Weighted</span></span>(<span style=\"color: rgb(0, 187, 0)\"><span class=\"ansi-green-fg\">eqM(mul(m)(n))(mul(mul(mul(m)(n))(n))(n))</span></span>, <span style=\"color: rgb(0, 187, 0)\"><span class=\"ansi-green-fg\">3.560776947827698E-5</span></span>),\n",
       "      <span style=\"color: yellow\"><span class=\"ansi-yellow-fg\">Weighted</span></span>(<span style=\"color: rgb(0, 187, 0)\"><span class=\"ansi-green-fg\">eqM(n)(mul(mul(mul(m)(n))(m))(n))</span></span>, <span style=\"color: rgb(0, 187, 0)\"><span class=\"ansi-green-fg\">3.434380200186756E-5</span></span>),\n",
       "      <span style=\"color: yellow\"><span class=\"ansi-yellow-fg\">Weighted</span></span>(<span style=\"color: rgb(0, 187, 0)\"><span class=\"ansi-green-fg\">eqM(mul(n)(m))(mul(m)(mul(m)(n)))</span></span>, <span style=\"color: rgb(0, 187, 0)\"><span class=\"ansi-green-fg\">1.7845888926804393E-4</span></span>),\n",
       "      <span style=\"color: yellow\"><span class=\"ansi-yellow-fg\">Weighted</span></span>(<span style=\"color: rgb(0, 187, 0)\"><span class=\"ansi-green-fg\">eqM(mul(m)(n))(mul(mul(mul(m)(n))(m))(m))</span></span>, <span style=\"color: rgb(0, 187, 0)\"><span class=\"ansi-green-fg\">3.560776947827698E-5</span></span>),\n",
       "      <span style=\"color: yellow\"><span class=\"ansi-yellow-fg\">Weighted</span></span>(<span style=\"color: rgb(0, 187, 0)\"><span class=\"ansi-green-fg\">eqM(mul(mul(m)(n))(n))(n)</span></span>, <span style=\"color: rgb(0, 187, 0)\"><span class=\"ansi-green-fg\">1.4280604212495474E-4</span></span>),\n",
       "      <span style=\"color: yellow\"><span class=\"ansi-yellow-fg\">Weighted</span></span>(<span style=\"color: rgb(0, 187, 0)\"><span class=\"ansi-green-fg\">eqM(n)(mul(mul(mul(m)(n))(m))(m))</span></span>, <span style=\"color: rgb(0, 187, 0)\"><span class=\"ansi-green-fg\">3.434380200186756E-5</span></span>),\n",
       "      <span style=\"color: yellow\"><span class=\"ansi-yellow-fg\">Weighted</span></span>(<span style=\"color: rgb(0, 187, 0)\"><span class=\"ansi-green-fg\">eqM(n)(mul(m)(mul(n)(m)))</span></span>, <span style=\"color: rgb(0, 187, 0)\"><span class=\"ansi-green-fg\">2.1434429618186857E-4</span></span>),\n",
       "      <span style=\"color: yellow\"><span class=\"ansi-yellow-fg\">Weighted</span></span>(<span style=\"color: rgb(0, 187, 0)\"><span class=\"ansi-green-fg\">eqM(m)(mul(mul(m)(n))(mul(m)(n)))</span></span>, <span style=\"color: rgb(0, 187, 0)\"><span class=\"ansi-green-fg\">0.004886168450429839</span></span>),\n",
       "      <span style=\"color: yellow\"><span class=\"ansi-yellow-fg\">Weighted</span></span>(<span style=\"color: rgb(0, 187, 0)\"><span class=\"ansi-green-fg\">eqM(mul(m)(m))(mul(n)(mul(m)(n)))</span></span>, <span style=\"color: rgb(0, 187, 0)\"><span class=\"ansi-green-fg\">1.7845888926804393E-4</span></span>),\n",
       "      <span style=\"color: yellow\"><span class=\"ansi-yellow-fg\">Weighted</span></span>(<span style=\"color: rgb(0, 187, 0)\"><span class=\"ansi-green-fg\">eqM(mul(n)(m))(n)</span></span>, <span style=\"color: rgb(0, 187, 0)\"><span class=\"ansi-green-fg\">1.4280604212495474E-4</span></span>),\n",
       "      <span style=\"color: yellow\"><span class=\"ansi-yellow-fg\">Weighted</span></span>(<span style=\"color: rgb(0, 187, 0)\"><span class=\"ansi-green-fg\">eqM(m)(mul(mul(mul(m)(n))(mul(m)(n)))(m))</span></span>, <span style=\"color: rgb(0, 187, 0)\"><span class=\"ansi-green-fg\">3.434380200186756E-5</span></span>),\n",
       "      <span style=\"color: yellow\"><span class=\"ansi-yellow-fg\">Weighted</span></span>(<span style=\"color: rgb(0, 187, 0)\"><span class=\"ansi-green-fg\">eqM(m)(mul(mul(n)(m))(m))</span></span>, <span style=\"color: rgb(0, 187, 0)\"><span class=\"ansi-green-fg\">3.434380200186756E-5</span></span>),\n",
       "      <span style=\"color: yellow\"><span class=\"ansi-yellow-fg\">Weighted</span></span>(<span style=\"color: rgb(0, 187, 0)\"><span class=\"ansi-green-fg\">eqM(mul(m)(n))(mul(mul(n)(n))(m))</span></span>, <span style=\"color: rgb(0, 187, 0)\"><span class=\"ansi-green-fg\">3.560776947827698E-5</span></span>),\n",
       "      <span style=\"color: yellow\"><span class=\"ansi-yellow-fg\">Weighted</span></span>(<span style=\"color: rgb(0, 187, 0)\"><span class=\"ansi-green-fg\">eqM(mul(m)(n))(mul(m)(mul(m)(n)))</span></span>, <span style=\"color: rgb(0, 187, 0)\"><span class=\"ansi-green-fg\">0.005027441851951181</span></span>),\n",
       "      <span style=\"color: yellow\"><span class=\"ansi-yellow-fg\">Weighted</span></span>(\n",
       "        <span style=\"color: rgb(0, 187, 0)\"><span class=\"ansi-green-fg\">eqM(mul(m)(n))(mul(mul(mul(m)(n))(n))(mul(m)(n)))</span></span>,\n",
       "        <span style=\"color: rgb(0, 187, 0)\"><span class=\"ansi-green-fg\">3.8554038820451205E-5</span></span>\n",
       "      ),\n",
       "      <span style=\"color: yellow\"><span class=\"ansi-yellow-fg\">Weighted</span></span>(<span style=\"color: rgb(0, 187, 0)\"><span class=\"ansi-green-fg\">eqM(m)(mul(mul(n)(mul(m)(n)))(n))</span></span>, <span style=\"color: rgb(0, 187, 0)\"><span class=\"ansi-green-fg\">3.434380200186756E-5</span></span>),\n",
       "      <span style=\"color: yellow\"><span class=\"ansi-yellow-fg\">Weighted</span></span>(<span style=\"color: rgb(0, 187, 0)\"><span class=\"ansi-green-fg\">eqM(mul(n)(mul(m)(n)))(n)</span></span>, <span style=\"color: rgb(0, 187, 0)\"><span class=\"ansi-green-fg\">1.4280604212495474E-4</span></span>),\n",
       "      <span style=\"color: yellow\"><span class=\"ansi-yellow-fg\">Weighted</span></span>(<span style=\"color: rgb(0, 187, 0)\"><span class=\"ansi-green-fg\">eqM(mul(m)(n))(mul(mul(n)(m))(mul(m)(n)))</span></span>, <span style=\"color: rgb(0, 187, 0)\"><span class=\"ansi-green-fg\">3.8554038820451205E-5</span></span>),\n",
       "      <span style=\"color: yellow\"><span class=\"ansi-yellow-fg\">Weighted</span></span>(<span style=\"color: rgb(0, 187, 0)\"><span class=\"ansi-green-fg\">eqM(mul(m)(mul(m)(n)))(mul(n)(mul(m)(n)))</span></span>, <span style=\"color: rgb(0, 187, 0)\"><span class=\"ansi-green-fg\">1.7845888926804393E-4</span></span>),\n",
       "...</span></span></span></code></pre>\n",
       "</div>"
      ],
      "text/plain": [
       "\u001b[36mtyps3F\u001b[39m: \u001b[32mmonix\u001b[39m.\u001b[32mexecution\u001b[39m.\u001b[32mCancelableFuture\u001b[39m[\u001b[32mFiniteDistribution\u001b[39m[\u001b[32mTyp\u001b[39m[\u001b[32mTerm\u001b[39m]]] = \u001b[32m\u001b[33mSuccess\u001b[39m(\n",
       "  \u001b[33mFiniteDistribution\u001b[39m(\n",
       "    \u001b[33mVector\u001b[39m(\n",
       "      \u001b[33mWeighted\u001b[39m(\u001b[32meqM(mul(m)(n))(mul(mul(m)(n))(m))\u001b[39m, \u001b[32m0.004849655541931982\u001b[39m),\n",
       "      \u001b[33mWeighted\u001b[39m(\u001b[32meqM(m)(mul(mul(m)(mul(m)(n)))(m))\u001b[39m, \u001b[32m3.434380200186756E-5\u001b[39m),\n",
       "      \u001b[33mWeighted\u001b[39m(\u001b[32meqM(m)(mul(m)(mul(mul(m)(n))(n)))\u001b[39m, \u001b[32m2.1434429618186857E-4\u001b[39m),\n",
       "      \u001b[33mWeighted\u001b[39m(\u001b[32meqM(m)(mul(m)(mul(n)(n)))\u001b[39m, \u001b[32m2.1434429618186857E-4\u001b[39m),\n",
       "      \u001b[33mWeighted\u001b[39m(\u001b[32meqM(mul(n)(mul(m)(n)))(mul(m)(mul(m)(n)))\u001b[39m, \u001b[32m1.7845888926804393E-4\u001b[39m),\n",
       "      \u001b[33mWeighted\u001b[39m(\u001b[32meqM(m)(mul(mul(m)(mul(m)(n)))(n))\u001b[39m, \u001b[32m3.434380200186756E-5\u001b[39m),\n",
       "      \u001b[33mWeighted\u001b[39m(\n",
       "        \u001b[32meqM(mul(m)(n))(mul(mul(m)(mul(m)(n)))(mul(m)(n)))\u001b[39m,\n",
       "        \u001b[32m3.8554038820451205E-5\u001b[39m\n",
       "      ),\n",
       "      \u001b[33mWeighted\u001b[39m(\u001b[32meqM(m)(mul(mul(m)(m))(mul(m)(n)))\u001b[39m, \u001b[32m3.718548774670293E-5\u001b[39m),\n",
       "      \u001b[33mWeighted\u001b[39m(\u001b[32meqM(mul(m)(n))(mul(mul(mul(m)(n))(n))(n))\u001b[39m, \u001b[32m3.560776947827698E-5\u001b[39m),\n",
       "      \u001b[33mWeighted\u001b[39m(\u001b[32meqM(n)(mul(mul(mul(m)(n))(m))(n))\u001b[39m, \u001b[32m3.434380200186756E-5\u001b[39m),\n",
       "      \u001b[33mWeighted\u001b[39m(\u001b[32meqM(mul(n)(m))(mul(m)(mul(m)(n)))\u001b[39m, \u001b[32m1.7845888926804393E-4\u001b[39m),\n",
       "      \u001b[33mWeighted\u001b[39m(\u001b[32meqM(mul(m)(n))(mul(mul(mul(m)(n))(m))(m))\u001b[39m, \u001b[32m3.560776947827698E-5\u001b[39m),\n",
       "      \u001b[33mWeighted\u001b[39m(\u001b[32meqM(mul(mul(m)(n))(n))(n)\u001b[39m, \u001b[32m1.4280604212495474E-4\u001b[39m),\n",
       "      \u001b[33mWeighted\u001b[39m(\u001b[32meqM(n)(mul(mul(mul(m)(n))(m))(m))\u001b[39m, \u001b[32m3.434380200186756E-5\u001b[39m),\n",
       "      \u001b[33mWeighted\u001b[39m(\u001b[32meqM(n)(mul(m)(mul(n)(m)))\u001b[39m, \u001b[32m2.1434429618186857E-4\u001b[39m),\n",
       "      \u001b[33mWeighted\u001b[39m(\u001b[32meqM(m)(mul(mul(m)(n))(mul(m)(n)))\u001b[39m, \u001b[32m0.004886168450429839\u001b[39m),\n",
       "      \u001b[33mWeighted\u001b[39m(\u001b[32meqM(mul(m)(m))(mul(n)(mul(m)(n)))\u001b[39m, \u001b[32m1.7845888926804393E-4\u001b[39m),\n",
       "      \u001b[33mWeighted\u001b[39m(\u001b[32meqM(mul(n)(m))(n)\u001b[39m, \u001b[32m1.4280604212495474E-4\u001b[39m),\n",
       "      \u001b[33mWeighted\u001b[39m(\u001b[32meqM(m)(mul(mul(mul(m)(n))(mul(m)(n)))(m))\u001b[39m, \u001b[32m3.434380200186756E-5\u001b[39m),\n",
       "      \u001b[33mWeighted\u001b[39m(\u001b[32meqM(m)(mul(mul(n)(m))(m))\u001b[39m, \u001b[32m3.434380200186756E-5\u001b[39m),\n",
       "      \u001b[33mWeighted\u001b[39m(\u001b[32meqM(mul(m)(n))(mul(mul(n)(n))(m))\u001b[39m, \u001b[32m3.560776947827698E-5\u001b[39m),\n",
       "      \u001b[33mWeighted\u001b[39m(\u001b[32meqM(mul(m)(n))(mul(m)(mul(m)(n)))\u001b[39m, \u001b[32m0.005027441851951181\u001b[39m),\n",
       "      \u001b[33mWeighted\u001b[39m(\n",
       "        \u001b[32meqM(mul(m)(n))(mul(mul(mul(m)(n))(n))(mul(m)(n)))\u001b[39m,\n",
       "        \u001b[32m3.8554038820451205E-5\u001b[39m\n",
       "      ),\n",
       "      \u001b[33mWeighted\u001b[39m(\u001b[32meqM(m)(mul(mul(n)(mul(m)(n)))(n))\u001b[39m, \u001b[32m3.434380200186756E-5\u001b[39m),\n",
       "      \u001b[33mWeighted\u001b[39m(\u001b[32meqM(mul(n)(mul(m)(n)))(n)\u001b[39m, \u001b[32m1.4280604212495474E-4\u001b[39m),\n",
       "      \u001b[33mWeighted\u001b[39m(\u001b[32meqM(mul(m)(n))(mul(mul(n)(m))(mul(m)(n)))\u001b[39m, \u001b[32m3.8554038820451205E-5\u001b[39m),\n",
       "      \u001b[33mWeighted\u001b[39m(\u001b[32meqM(mul(m)(mul(m)(n)))(mul(n)(mul(m)(n)))\u001b[39m, \u001b[32m1.7845888926804393E-4\u001b[39m),\n",
       "...\u001b[39m"
      ]
     },
     "metadata": {},
     "output_type": "display_data"
    }
   ],
   "source": [
    "val typs3F = typs3T.runToFuture"
   ]
  },
  {
   "cell_type": "markdown",
   "metadata": {},
   "source": [
    "## First conclusion\n",
    "\n",
    "With a bound on depth, this finishes in a couple of seconds even if sharpened."
   ]
  },
  {
   "cell_type": "code",
   "execution_count": 16,
   "metadata": {},
   "outputs": [
    {
     "data": {
      "text/plain": [
       "\u001b[36mThm\u001b[39m: \u001b[32mTyp\u001b[39m[\u001b[32mTerm\u001b[39m] = \u001b[32meqM(mul(m)(n))(mul(n)(m))\u001b[39m\n",
       "\u001b[36mLemmas\u001b[39m: \u001b[32mMap\u001b[39m[\u001b[32mInt\u001b[39m, \u001b[32mTyp\u001b[39m[\u001b[32mTerm\u001b[39m]] = \u001b[33mMap\u001b[39m(\n",
       "  \u001b[32m5\u001b[39m -> \u001b[32meqM(mul(mul(m)(n))(m))(n)\u001b[39m,\n",
       "  \u001b[32m1\u001b[39m -> \u001b[32meqM(m)(mul(mul(m)(n))(n))\u001b[39m,\n",
       "  \u001b[32m6\u001b[39m -> \u001b[32meqM(mul(mul(mul(m)(n))(m))(m))(mul(n)(m))\u001b[39m,\n",
       "  \u001b[32m2\u001b[39m -> \u001b[32meqM(n)(mul(mul(m)(n))(mul(mul(m)(n))(n)))\u001b[39m,\n",
       "  \u001b[32m7\u001b[39m -> \u001b[32meqM(mul(mul(m)(n))(n))(m)\u001b[39m,\n",
       "  \u001b[32m3\u001b[39m -> \u001b[32meqM(mul(mul(m)(n))(m))(mul(mul(m)(n))(mul(mul(m)(n))(n)))\u001b[39m,\n",
       "  \u001b[32m8\u001b[39m -> \u001b[32meqM(n)(mul(mul(m)(n))(mul(mul(m)(n))(n)))\u001b[39m,\n",
       "  \u001b[32m4\u001b[39m -> \u001b[32meqM(mul(mul(mul(m)(n))(m))(m))(mul(m)(n))\u001b[39m\n",
       ")\n",
       "\u001b[36mclaims\u001b[39m: \u001b[32mSet\u001b[39m[\u001b[32mTyp\u001b[39m[\u001b[32mTerm\u001b[39m]] = \u001b[33mSet\u001b[39m(\n",
       "  \u001b[32meqM(mul(m)(n))(mul(n)(m))\u001b[39m,\n",
       "  \u001b[32meqM(mul(mul(mul(m)(n))(m))(m))(mul(n)(m))\u001b[39m,\n",
       "  \u001b[32meqM(mul(mul(m)(n))(n))(m)\u001b[39m,\n",
       "  \u001b[32meqM(n)(mul(mul(m)(n))(mul(mul(m)(n))(n)))\u001b[39m,\n",
       "  \u001b[32meqM(mul(mul(m)(n))(m))(mul(mul(m)(n))(mul(mul(m)(n))(n)))\u001b[39m,\n",
       "  \u001b[32meqM(m)(mul(mul(m)(n))(n))\u001b[39m,\n",
       "  \u001b[32meqM(mul(mul(m)(n))(m))(n)\u001b[39m,\n",
       "  \u001b[32meqM(mul(mul(mul(m)(n))(m))(m))(mul(m)(n))\u001b[39m\n",
       ")"
      ]
     },
     "execution_count": 16,
     "metadata": {},
     "output_type": "execute_result"
    }
   ],
   "source": [
    "val Thm = eqM(mul(m)(n))(mul(n)(m))\n",
    "\n",
    "val Lemmas =\n",
    "     Map(\n",
    "        1 -> eqM(m)(mul(mul(m)(n))(n)),\n",
    "        2 -> eqM(n)(mul(mul(m)(n))(mul(mul(m)(n))(n))),\n",
    "        3 -> eqM(mul(mul(m)(n))(m))(mul(mul(m)(n))(mul(mul(m)(n))(n))),\n",
    "        4 -> eqM(mul(mul(mul(m)(n))(m))(m))(mul(m)(n)),\n",
    "        5 -> eqM(mul(mul(m)(n))(m))(n),\n",
    "        6 -> eqM(mul(mul(mul(m)(n))(m))(m))(mul(n)(m)),\n",
    "        7 -> eqM(mul(mul(m)(n))(n))(m),\n",
    "        8 -> eqM(n)(mul(mul(m)(n))(mul(mul(m)(n))(n)))\n",
    "         )\n",
    "\n",
    "val claims = Lemmas.values.toSet + Thm"
   ]
  },
  {
   "cell_type": "code",
   "execution_count": 17,
   "metadata": {},
   "outputs": [
    {
     "data": {
      "text/plain": [
       "\u001b[36mc3T\u001b[39m: \u001b[32mmonix\u001b[39m.\u001b[32meval\u001b[39m.\u001b[32mTask\u001b[39m[\u001b[32mSet\u001b[39m[(\u001b[32mTyp\u001b[39m[\u001b[32mTerm\u001b[39m], \u001b[32mDouble\u001b[39m)]] = \u001b[33mMap\u001b[39m(\n",
       "  \u001b[33mAsync\u001b[39m(<function2>, false, true, true),\n",
       "  ammonite.$sess.cmd16$Helper$$Lambda$3068/423345724@5133877e,\n",
       "  \u001b[32m0\u001b[39m\n",
       ")"
      ]
     },
     "execution_count": 17,
     "metadata": {},
     "output_type": "execute_result"
    }
   ],
   "source": [
    "val c3T = typs3T.map(typs => claims.map(c => c -> typs(c)))"
   ]
  },
  {
   "cell_type": "code",
   "execution_count": 18,
   "metadata": {},
   "outputs": [
    {
     "data": {
      "text/html": [
       "<div class=\"jp-RenderedText\">\n",
       "<pre><code><span style=\"color: rgb(0, 187, 187)\"><span class=\"ansi-cyan-fg\">c3F</span></span>: <span style=\"color: rgb(0, 187, 0)\"><span class=\"ansi-green-fg\">monix</span></span>.<span style=\"color: rgb(0, 187, 0)\"><span class=\"ansi-green-fg\">execution</span></span>.<span style=\"color: rgb(0, 187, 0)\"><span class=\"ansi-green-fg\">CancelableFuture</span></span>[<span style=\"color: rgb(0, 187, 0)\"><span class=\"ansi-green-fg\">Set</span></span>[(<span style=\"color: rgb(0, 187, 0)\"><span class=\"ansi-green-fg\">Typ</span></span>[<span style=\"color: rgb(0, 187, 0)\"><span class=\"ansi-green-fg\">Term</span></span>], <span style=\"color: rgb(0, 187, 0)\"><span class=\"ansi-green-fg\">Double</span></span>)]] = <span style=\"color: rgb(0, 187, 0)\"><span class=\"ansi-green-fg\"><span style=\"color: white\"><span class=\"ansi-white-fg\">[running]</span></span></span></span></code></pre>\n",
       "</div>"
      ],
      "text/plain": [
       "\u001b[36mc3F\u001b[39m: \u001b[32mmonix\u001b[39m.\u001b[32mexecution\u001b[39m.\u001b[32mCancelableFuture\u001b[39m[\u001b[32mSet\u001b[39m[(\u001b[32mTyp\u001b[39m[\u001b[32mTerm\u001b[39m], \u001b[32mDouble\u001b[39m)]] = \u001b[32m\u001b[37m[running]\u001b[39m\u001b[39m"
      ]
     },
     "metadata": {},
     "output_type": "display_data"
    }
   ],
   "source": [
    "val c3F = c3T.runToFuture"
   ]
  },
  {
   "cell_type": "code",
   "execution_count": 19,
   "metadata": {},
   "outputs": [
    {
     "data": {
      "text/plain": [
       "\u001b[36mres18\u001b[39m: \u001b[32mOption\u001b[39m[\u001b[32mscala\u001b[39m.\u001b[32mutil\u001b[39m.\u001b[32mTry\u001b[39m[\u001b[32mSet\u001b[39m[(\u001b[32mTyp\u001b[39m[\u001b[32mTerm\u001b[39m], \u001b[32mDouble\u001b[39m)]]] = \u001b[33mSome\u001b[39m(\n",
       "  \u001b[33mSuccess\u001b[39m(\n",
       "    \u001b[33mSet\u001b[39m(\n",
       "      (\u001b[32meqM(mul(mul(m)(n))(m))(mul(mul(m)(n))(mul(mul(m)(n))(n)))\u001b[39m, \u001b[32m0.0\u001b[39m),\n",
       "      (\u001b[32meqM(mul(mul(mul(m)(n))(m))(m))(mul(n)(m))\u001b[39m, \u001b[32m0.0\u001b[39m),\n",
       "      (\u001b[32meqM(mul(mul(m)(n))(m))(n)\u001b[39m, \u001b[32m1.4280604212495474E-4\u001b[39m),\n",
       "      (\u001b[32meqM(n)(mul(mul(m)(n))(mul(mul(m)(n))(n)))\u001b[39m, \u001b[32m2.1434429618186857E-4\u001b[39m),\n",
       "      (\u001b[32meqM(m)(mul(mul(m)(n))(n))\u001b[39m, \u001b[32m0.004677507525737643\u001b[39m),\n",
       "      (\u001b[32meqM(mul(mul(m)(n))(n))(m)\u001b[39m, \u001b[32m1.4280604212495474E-4\u001b[39m),\n",
       "      (\u001b[32meqM(mul(mul(mul(m)(n))(m))(m))(mul(m)(n))\u001b[39m, \u001b[32m0.0\u001b[39m),\n",
       "      (\u001b[32meqM(mul(m)(n))(mul(n)(m))\u001b[39m, \u001b[32m0.004814047772453706\u001b[39m)\n",
       "    )\n",
       "  )\n",
       ")"
      ]
     },
     "execution_count": 19,
     "metadata": {},
     "output_type": "execute_result"
    }
   ],
   "source": [
    "c3F.value"
   ]
  },
  {
   "cell_type": "code",
   "execution_count": 20,
   "metadata": {},
   "outputs": [
    {
     "data": {
      "text/plain": [
       "\u001b[36mlp4\u001b[39m: \u001b[32mLocalProverStep\u001b[39m = \u001b[33mLocalProver\u001b[39m(\n",
       "  \u001b[33mTermState\u001b[39m(\n",
       "    \u001b[33mFiniteDistribution\u001b[39m(\n",
       "      \u001b[33mVector\u001b[39m(\n",
       "        \u001b[33mWeighted\u001b[39m(\u001b[32meqM\u001b[39m, \u001b[32m0.2\u001b[39m),\n",
       "        \u001b[33mWeighted\u001b[39m(\u001b[32mmul\u001b[39m, \u001b[32m0.35\u001b[39m),\n",
       "        \u001b[33mWeighted\u001b[39m(\u001b[32mm\u001b[39m, \u001b[32m0.15\u001b[39m),\n",
       "        \u001b[33mWeighted\u001b[39m(\u001b[32mn\u001b[39m, \u001b[32m0.15\u001b[39m),\n",
       "        \u001b[33mWeighted\u001b[39m(\u001b[32mmul(m)(n)\u001b[39m, \u001b[32m0.15\u001b[39m)\n",
       "      )\n",
       "    ),\n",
       "    \u001b[33mFiniteDistribution\u001b[39m(\u001b[33mVector\u001b[39m(\u001b[33mWeighted\u001b[39m(\u001b[32mM\u001b[39m, \u001b[32m1.0\u001b[39m))),\n",
       "    \u001b[33mVector\u001b[39m(),\n",
       "    \u001b[33mFiniteDistribution\u001b[39m(\u001b[33mVector\u001b[39m()),\n",
       "    \u001b[33mFiniteDistribution\u001b[39m(\u001b[33mVector\u001b[39m()),\n",
       "    Empty\n",
       "  ),\n",
       "  \u001b[33mTermGenParams\u001b[39m(\n",
       "    \u001b[32m0.2\u001b[39m,\n",
       "    \u001b[32m0.0\u001b[39m,\n",
       "    \u001b[32m0.2\u001b[39m,\n",
       "    \u001b[32m0.0\u001b[39m,\n",
       "    \u001b[32m0.0\u001b[39m,\n",
       "    \u001b[32m0.0\u001b[39m,\n",
       "    \u001b[32m0.0\u001b[39m,\n",
       "    \u001b[32m0.0\u001b[39m,\n",
       "    \u001b[32m0.0\u001b[39m,\n",
       "    \u001b[32m0.0\u001b[39m,\n",
       "    \u001b[32m0.1\u001b[39m,\n",
       "    \u001b[32m0.0\u001b[39m,\n",
       "    \u001b[32m0.3\u001b[39m,\n",
       "    \u001b[32m0.7\u001b[39m,\n",
       "    \u001b[32m0.5\u001b[39m,\n",
       "    \u001b[32m0.0\u001b[39m,\n",
       "    \u001b[32m0.0\u001b[39m,\n",
       "    \u001b[32m0.0\u001b[39m,\n",
       "    \u001b[33mOrElse\u001b[39m(\n",
       "      \u001b[33mOrElse\u001b[39m(\u001b[33mOrElse\u001b[39m(\u001b[33mOrElse\u001b[39m(<function1>, <function1>), <function1>), <function1>),\n",
       "...\n",
       "\u001b[36mtyps4T\u001b[39m: \u001b[32mmonix\u001b[39m.\u001b[32meval\u001b[39m.\u001b[32mTask\u001b[39m[\u001b[32mFiniteDistribution\u001b[39m[\u001b[32mTyp\u001b[39m[\u001b[32mTerm\u001b[39m]]] = \u001b[33mAsync\u001b[39m(\n",
       "  <function2>,\n",
       "  false,\n",
       "  true,\n",
       "  true\n",
       ")"
      ]
     },
     "execution_count": 20,
     "metadata": {},
     "output_type": "execute_result"
    }
   ],
   "source": [
    "val lp4 = LocalProver(ts0, tg = tg1, genMaxDepth = Some(4)).noIsles.sharpen(10)\n",
    "val typs4T = lp4.nextState.map(_.typs).memoize"
   ]
  },
  {
   "cell_type": "code",
   "execution_count": 21,
   "metadata": {},
   "outputs": [
    {
     "data": {
      "text/html": [
       "<div class=\"jp-RenderedText\">\n",
       "<pre><code><span style=\"color: rgb(0, 187, 187)\"><span class=\"ansi-cyan-fg\">typs4F</span></span>: <span style=\"color: rgb(0, 187, 0)\"><span class=\"ansi-green-fg\">monix</span></span>.<span style=\"color: rgb(0, 187, 0)\"><span class=\"ansi-green-fg\">execution</span></span>.<span style=\"color: rgb(0, 187, 0)\"><span class=\"ansi-green-fg\">CancelableFuture</span></span>[<span style=\"color: rgb(0, 187, 0)\"><span class=\"ansi-green-fg\">FiniteDistribution</span></span>[<span style=\"color: rgb(0, 187, 0)\"><span class=\"ansi-green-fg\">Typ</span></span>[<span style=\"color: rgb(0, 187, 0)\"><span class=\"ansi-green-fg\">Term</span></span>]]] = <span style=\"color: rgb(0, 187, 0)\"><span class=\"ansi-green-fg\"><style>@keyframes fadein { from { opacity: 0; } to { opacity: 1; } }</style><span style=\"animation: fadein 2s;\"><span style=\"color: yellow\"><span class=\"ansi-yellow-fg\">Success</span></span>(\n",
       "  <span style=\"color: yellow\"><span class=\"ansi-yellow-fg\">FiniteDistribution</span></span>(\n",
       "    <span style=\"color: yellow\"><span class=\"ansi-yellow-fg\">Vector</span></span>(\n",
       "      <span style=\"color: yellow\"><span class=\"ansi-yellow-fg\">Weighted</span></span>(<span style=\"color: rgb(0, 187, 0)\"><span class=\"ansi-green-fg\">eqM(mul(m)(mul(n)(m)))(mul(n)(n))</span></span>, <span style=\"color: rgb(0, 187, 0)\"><span class=\"ansi-green-fg\">1.3255085340793911E-5</span></span>),\n",
       "      <span style=\"color: yellow\"><span class=\"ansi-yellow-fg\">Weighted</span></span>(\n",
       "        <span style=\"color: rgb(0, 187, 0)\"><span class=\"ansi-green-fg\">eqM(mul(mul(m)(n))(mul(m)(mul(m)(n))))(mul(n)(m))</span></span>,\n",
       "        <span style=\"color: rgb(0, 187, 0)\"><span class=\"ansi-green-fg\">1.3255085340793911E-5</span></span>\n",
       "      ),\n",
       "      <span style=\"color: yellow\"><span class=\"ansi-yellow-fg\">Weighted</span></span>(\n",
       "        <span style=\"color: rgb(0, 187, 0)\"><span class=\"ansi-green-fg\">eqM(mul(m)(n))(mul(mul(n)(mul(m)(n)))(mul(m)(mul(m)(n))))</span></span>,\n",
       "        <span style=\"color: rgb(0, 187, 0)\"><span class=\"ansi-green-fg\">1.3385040324168072E-5</span></span>\n",
       "      ),\n",
       "      <span style=\"color: yellow\"><span class=\"ansi-yellow-fg\">Weighted</span></span>(<span style=\"color: rgb(0, 187, 0)\"><span class=\"ansi-green-fg\">eqM(mul(m)(n))(mul(mul(m)(n))(m))</span></span>, <span style=\"color: rgb(0, 187, 0)\"><span class=\"ansi-green-fg\">0.0016834328882907985</span></span>),\n",
       "      <span style=\"color: yellow\"><span class=\"ansi-yellow-fg\">Weighted</span></span>(<span style=\"color: rgb(0, 187, 0)\"><span class=\"ansi-green-fg\">eqM(mul(n)(n))(mul(mul(n)(n))(n))</span></span>, <span style=\"color: rgb(0, 187, 0)\"><span class=\"ansi-green-fg\">1.4590938767613E-5</span></span>),\n",
       "      <span style=\"color: yellow\"><span class=\"ansi-yellow-fg\">Weighted</span></span>(<span style=\"color: rgb(0, 187, 0)\"><span class=\"ansi-green-fg\">eqM(m)(mul(mul(m)(n))(mul(n)(mul(m)(m))))</span></span>, <span style=\"color: rgb(0, 187, 0)\"><span class=\"ansi-green-fg\">1.2060214553322172E-5</span></span>),\n",
       "      <span style=\"color: yellow\"><span class=\"ansi-yellow-fg\">Weighted</span></span>(\n",
       "        <span style=\"color: rgb(0, 187, 0)\"><span class=\"ansi-green-fg\">eqM(mul(n)(n))(mul(mul(m)(mul(m)(n)))(mul(m)(n)))</span></span>,\n",
       "        <span style=\"color: rgb(0, 187, 0)\"><span class=\"ansi-green-fg\">2.836528667080381E-5</span></span>\n",
       "      ),\n",
       "      <span style=\"color: yellow\"><span class=\"ansi-yellow-fg\">Weighted</span></span>(\n",
       "        <span style=\"color: rgb(0, 187, 0)\"><span class=\"ansi-green-fg\">eqM(n)(mul(n)(mul(mul(m)(n))(mul(mul(m)(n))(m))))</span></span>,\n",
       "        <span style=\"color: rgb(0, 187, 0)\"><span class=\"ansi-green-fg\">1.1632113631044007E-5</span></span>\n",
       "      ),\n",
       "      <span style=\"color: yellow\"><span class=\"ansi-yellow-fg\">Weighted</span></span>(<span style=\"color: rgb(0, 187, 0)\"><span class=\"ansi-green-fg\">eqM(mul(n)(mul(m)(n)))(mul(n)(mul(n)(m)))</span></span>, <span style=\"color: rgb(0, 187, 0)\"><span class=\"ansi-green-fg\">1.4642485580471375E-4</span></span>),\n",
       "      <span style=\"color: yellow\"><span class=\"ansi-yellow-fg\">Weighted</span></span>(<span style=\"color: rgb(0, 187, 0)\"><span class=\"ansi-green-fg\">eqM(n)(mul(mul(n)(n))(mul(m)(mul(m)(n))))</span></span>, <span style=\"color: rgb(0, 187, 0)\"><span class=\"ansi-green-fg\">1.0287910529780654E-5</span></span>),\n",
       "      <span style=\"color: yellow\"><span class=\"ansi-yellow-fg\">Weighted</span></span>(\n",
       "        <span style=\"color: rgb(0, 187, 0)\"><span class=\"ansi-green-fg\">eqM(mul(mul(m)(n))(mul(n)(n)))(mul(m)(mul(m)(n)))</span></span>,\n",
       "        <span style=\"color: rgb(0, 187, 0)\"><span class=\"ansi-green-fg\">1.7132491288925626E-5</span></span>\n",
       "      ),\n",
       "      <span style=\"color: yellow\"><span class=\"ansi-yellow-fg\">Weighted</span></span>(\n",
       "        <span style=\"color: rgb(0, 187, 0)\"><span class=\"ansi-green-fg\">eqM(mul(m)(mul(mul(m)(n))(mul(m)(n))))(mul(m)(n))</span></span>,\n",
       "        <span style=\"color: rgb(0, 187, 0)\"><span class=\"ansi-green-fg\">3.6512913801695823E-5</span></span>\n",
       "      ),\n",
       "      <span style=\"color: yellow\"><span class=\"ansi-yellow-fg\">Weighted</span></span>(\n",
       "        <span style=\"color: rgb(0, 187, 0)\"><span class=\"ansi-green-fg\">eqM(mul(mul(m)(n))(mul(mul(m)(n))(m)))(mul(n)(n))</span></span>,\n",
       "        <span style=\"color: rgb(0, 187, 0)\"><span class=\"ansi-green-fg\">1.3255085340793911E-5</span></span>\n",
       "...</span></span></span></code></pre>\n",
       "</div>"
      ],
      "text/plain": [
       "\u001b[36mtyps4F\u001b[39m: \u001b[32mmonix\u001b[39m.\u001b[32mexecution\u001b[39m.\u001b[32mCancelableFuture\u001b[39m[\u001b[32mFiniteDistribution\u001b[39m[\u001b[32mTyp\u001b[39m[\u001b[32mTerm\u001b[39m]]] = \u001b[32m\u001b[33mSuccess\u001b[39m(\n",
       "  \u001b[33mFiniteDistribution\u001b[39m(\n",
       "    \u001b[33mVector\u001b[39m(\n",
       "      \u001b[33mWeighted\u001b[39m(\u001b[32meqM(mul(m)(mul(n)(m)))(mul(n)(n))\u001b[39m, \u001b[32m1.3255085340793911E-5\u001b[39m),\n",
       "      \u001b[33mWeighted\u001b[39m(\n",
       "        \u001b[32meqM(mul(mul(m)(n))(mul(m)(mul(m)(n))))(mul(n)(m))\u001b[39m,\n",
       "        \u001b[32m1.3255085340793911E-5\u001b[39m\n",
       "      ),\n",
       "      \u001b[33mWeighted\u001b[39m(\n",
       "        \u001b[32meqM(mul(m)(n))(mul(mul(n)(mul(m)(n)))(mul(m)(mul(m)(n))))\u001b[39m,\n",
       "        \u001b[32m1.3385040324168072E-5\u001b[39m\n",
       "      ),\n",
       "      \u001b[33mWeighted\u001b[39m(\u001b[32meqM(mul(m)(n))(mul(mul(m)(n))(m))\u001b[39m, \u001b[32m0.0016834328882907985\u001b[39m),\n",
       "      \u001b[33mWeighted\u001b[39m(\u001b[32meqM(mul(n)(n))(mul(mul(n)(n))(n))\u001b[39m, \u001b[32m1.4590938767613E-5\u001b[39m),\n",
       "      \u001b[33mWeighted\u001b[39m(\u001b[32meqM(m)(mul(mul(m)(n))(mul(n)(mul(m)(m))))\u001b[39m, \u001b[32m1.2060214553322172E-5\u001b[39m),\n",
       "      \u001b[33mWeighted\u001b[39m(\n",
       "        \u001b[32meqM(mul(n)(n))(mul(mul(m)(mul(m)(n)))(mul(m)(n)))\u001b[39m,\n",
       "        \u001b[32m2.836528667080381E-5\u001b[39m\n",
       "      ),\n",
       "      \u001b[33mWeighted\u001b[39m(\n",
       "        \u001b[32meqM(n)(mul(n)(mul(mul(m)(n))(mul(mul(m)(n))(m))))\u001b[39m,\n",
       "        \u001b[32m1.1632113631044007E-5\u001b[39m\n",
       "      ),\n",
       "      \u001b[33mWeighted\u001b[39m(\u001b[32meqM(mul(n)(mul(m)(n)))(mul(n)(mul(n)(m)))\u001b[39m, \u001b[32m1.4642485580471375E-4\u001b[39m),\n",
       "      \u001b[33mWeighted\u001b[39m(\u001b[32meqM(n)(mul(mul(n)(n))(mul(m)(mul(m)(n))))\u001b[39m, \u001b[32m1.0287910529780654E-5\u001b[39m),\n",
       "      \u001b[33mWeighted\u001b[39m(\n",
       "        \u001b[32meqM(mul(mul(m)(n))(mul(n)(n)))(mul(m)(mul(m)(n)))\u001b[39m,\n",
       "        \u001b[32m1.7132491288925626E-5\u001b[39m\n",
       "      ),\n",
       "      \u001b[33mWeighted\u001b[39m(\n",
       "        \u001b[32meqM(mul(m)(mul(mul(m)(n))(mul(m)(n))))(mul(m)(n))\u001b[39m,\n",
       "        \u001b[32m3.6512913801695823E-5\u001b[39m\n",
       "      ),\n",
       "      \u001b[33mWeighted\u001b[39m(\n",
       "        \u001b[32meqM(mul(mul(m)(n))(mul(mul(m)(n))(m)))(mul(n)(n))\u001b[39m,\n",
       "        \u001b[32m1.3255085340793911E-5\u001b[39m\n",
       "...\u001b[39m"
      ]
     },
     "metadata": {},
     "output_type": "display_data"
    }
   ],
   "source": [
    "val typs4F = typs4T.runToFuture"
   ]
  },
  {
   "cell_type": "code",
   "execution_count": 24,
   "metadata": {},
   "outputs": [
    {
     "data": {
      "text/plain": [
       "\u001b[36mres23\u001b[39m: \u001b[32mOption\u001b[39m[\u001b[32mscala\u001b[39m.\u001b[32mutil\u001b[39m.\u001b[32mTry\u001b[39m[\u001b[32mFiniteDistribution\u001b[39m[\u001b[32mTyp\u001b[39m[\u001b[32mTerm\u001b[39m]]]] = \u001b[33mSome\u001b[39m(\n",
       "  \u001b[33mSuccess\u001b[39m(\n",
       "    \u001b[33mFiniteDistribution\u001b[39m(\n",
       "      \u001b[33mVector\u001b[39m(\n",
       "        \u001b[33mWeighted\u001b[39m(\u001b[32meqM(mul(m)(mul(n)(m)))(mul(n)(n))\u001b[39m, \u001b[32m1.3255085340793911E-5\u001b[39m),\n",
       "        \u001b[33mWeighted\u001b[39m(\n",
       "          \u001b[32meqM(mul(mul(m)(n))(mul(m)(mul(m)(n))))(mul(n)(m))\u001b[39m,\n",
       "          \u001b[32m1.3255085340793911E-5\u001b[39m\n",
       "        ),\n",
       "        \u001b[33mWeighted\u001b[39m(\n",
       "          \u001b[32meqM(mul(m)(n))(mul(mul(n)(mul(m)(n)))(mul(m)(mul(m)(n))))\u001b[39m,\n",
       "          \u001b[32m1.3385040324168072E-5\u001b[39m\n",
       "        ),\n",
       "        \u001b[33mWeighted\u001b[39m(\u001b[32meqM(mul(m)(n))(mul(mul(m)(n))(m))\u001b[39m, \u001b[32m0.0016834328882907985\u001b[39m),\n",
       "        \u001b[33mWeighted\u001b[39m(\u001b[32meqM(mul(n)(n))(mul(mul(n)(n))(n))\u001b[39m, \u001b[32m1.4590938767613E-5\u001b[39m),\n",
       "        \u001b[33mWeighted\u001b[39m(\n",
       "          \u001b[32meqM(m)(mul(mul(m)(n))(mul(n)(mul(m)(m))))\u001b[39m,\n",
       "          \u001b[32m1.2060214553322172E-5\u001b[39m\n",
       "        ),\n",
       "        \u001b[33mWeighted\u001b[39m(\n",
       "          \u001b[32meqM(mul(n)(n))(mul(mul(m)(mul(m)(n)))(mul(m)(n)))\u001b[39m,\n",
       "          \u001b[32m2.836528667080381E-5\u001b[39m\n",
       "        ),\n",
       "        \u001b[33mWeighted\u001b[39m(\n",
       "          \u001b[32meqM(n)(mul(n)(mul(mul(m)(n))(mul(mul(m)(n))(m))))\u001b[39m,\n",
       "          \u001b[32m1.1632113631044007E-5\u001b[39m\n",
       "        ),\n",
       "        \u001b[33mWeighted\u001b[39m(\n",
       "          \u001b[32meqM(mul(n)(mul(m)(n)))(mul(n)(mul(n)(m)))\u001b[39m,\n",
       "          \u001b[32m1.4642485580471375E-4\u001b[39m\n",
       "        ),\n",
       "        \u001b[33mWeighted\u001b[39m(\n",
       "          \u001b[32meqM(n)(mul(mul(n)(n))(mul(m)(mul(m)(n))))\u001b[39m,\n",
       "          \u001b[32m1.0287910529780654E-5\u001b[39m\n",
       "        ),\n",
       "        \u001b[33mWeighted\u001b[39m(\n",
       "          \u001b[32meqM(mul(mul(m)(n))(mul(n)(n)))(mul(m)(mul(m)(n)))\u001b[39m,\n",
       "          \u001b[32m1.7132491288925626E-5\u001b[39m\n",
       "        ),\n",
       "..."
      ]
     },
     "execution_count": 24,
     "metadata": {},
     "output_type": "execute_result"
    }
   ],
   "source": [
    "typs4F.value"
   ]
  },
  {
   "cell_type": "code",
   "execution_count": 25,
   "metadata": {},
   "outputs": [
    {
     "data": {
      "text/plain": [
       "\u001b[36mc4T\u001b[39m: \u001b[32mmonix\u001b[39m.\u001b[32meval\u001b[39m.\u001b[32mTask\u001b[39m[\u001b[32mSet\u001b[39m[(\u001b[32mTyp\u001b[39m[\u001b[32mTerm\u001b[39m], \u001b[32mDouble\u001b[39m)]] = \u001b[33mAsync\u001b[39m(\n",
       "  <function2>,\n",
       "  false,\n",
       "  true,\n",
       "  true\n",
       ")"
      ]
     },
     "execution_count": 25,
     "metadata": {},
     "output_type": "execute_result"
    }
   ],
   "source": [
    "val c4T = typs4T.map(typs => claims.map(c => c -> typs(c))).memoize"
   ]
  },
  {
   "cell_type": "code",
   "execution_count": 26,
   "metadata": {},
   "outputs": [
    {
     "data": {
      "text/html": [
       "<div class=\"jp-RenderedText\">\n",
       "<pre><code><span style=\"color: rgb(0, 187, 187)\"><span class=\"ansi-cyan-fg\">c4F</span></span>: <span style=\"color: rgb(0, 187, 0)\"><span class=\"ansi-green-fg\">monix</span></span>.<span style=\"color: rgb(0, 187, 0)\"><span class=\"ansi-green-fg\">execution</span></span>.<span style=\"color: rgb(0, 187, 0)\"><span class=\"ansi-green-fg\">CancelableFuture</span></span>[<span style=\"color: rgb(0, 187, 0)\"><span class=\"ansi-green-fg\">Set</span></span>[(<span style=\"color: rgb(0, 187, 0)\"><span class=\"ansi-green-fg\">Typ</span></span>[<span style=\"color: rgb(0, 187, 0)\"><span class=\"ansi-green-fg\">Term</span></span>], <span style=\"color: rgb(0, 187, 0)\"><span class=\"ansi-green-fg\">Double</span></span>)]] = <span style=\"color: rgb(0, 187, 0)\"><span class=\"ansi-green-fg\"><style>@keyframes fadein { from { opacity: 0; } to { opacity: 1; } }</style><span style=\"animation: fadein 2s;\"><span style=\"color: yellow\"><span class=\"ansi-yellow-fg\">Success</span></span>(\n",
       "  <span style=\"color: yellow\"><span class=\"ansi-yellow-fg\">Set</span></span>(\n",
       "    (<span style=\"color: rgb(0, 187, 0)\"><span class=\"ansi-green-fg\">eqM(mul(m)(n))(mul(n)(m))</span></span>, <span style=\"color: rgb(0, 187, 0)\"><span class=\"ansi-green-fg\">0.0016269449471178236</span></span>),\n",
       "    (\n",
       "      <span style=\"color: rgb(0, 187, 0)\"><span class=\"ansi-green-fg\">eqM(mul(mul(m)(n))(m))(mul(mul(m)(n))(mul(mul(m)(n))(n)))</span></span>,\n",
       "      <span style=\"color: rgb(0, 187, 0)\"><span class=\"ansi-green-fg\">1.4463066122104613E-4</span></span>\n",
       "    ),\n",
       "    (<span style=\"color: rgb(0, 187, 0)\"><span class=\"ansi-green-fg\">eqM(mul(mul(m)(n))(n))(m)</span></span>, <span style=\"color: rgb(0, 187, 0)\"><span class=\"ansi-green-fg\">6.605401405345007E-4</span></span>),\n",
       "    (<span style=\"color: rgb(0, 187, 0)\"><span class=\"ansi-green-fg\">eqM(mul(mul(mul(m)(n))(m))(m))(mul(n)(m))</span></span>, <span style=\"color: rgb(0, 187, 0)\"><span class=\"ansi-green-fg\">0.0</span></span>),\n",
       "    (<span style=\"color: rgb(0, 187, 0)\"><span class=\"ansi-green-fg\">eqM(m)(mul(mul(m)(n))(n))</span></span>, <span style=\"color: rgb(0, 187, 0)\"><span class=\"ansi-green-fg\">0.0012939077147458948</span></span>),\n",
       "    (<span style=\"color: rgb(0, 187, 0)\"><span class=\"ansi-green-fg\">eqM(mul(mul(m)(n))(m))(n)</span></span>, <span style=\"color: rgb(0, 187, 0)\"><span class=\"ansi-green-fg\">6.605401405345007E-4</span></span>),\n",
       "    (<span style=\"color: rgb(0, 187, 0)\"><span class=\"ansi-green-fg\">eqM(n)(mul(mul(m)(n))(mul(mul(m)(n))(n)))</span></span>, <span style=\"color: rgb(0, 187, 0)\"><span class=\"ansi-green-fg\">4.804278158447147E-4</span></span>),\n",
       "    (<span style=\"color: rgb(0, 187, 0)\"><span class=\"ansi-green-fg\">eqM(mul(mul(mul(m)(n))(m))(m))(mul(m)(n))</span></span>, <span style=\"color: rgb(0, 187, 0)\"><span class=\"ansi-green-fg\">0.0</span></span>)\n",
       "  )\n",
       ")</span></span></span></code></pre>\n",
       "</div>"
      ],
      "text/plain": [
       "\u001b[36mc4F\u001b[39m: \u001b[32mmonix\u001b[39m.\u001b[32mexecution\u001b[39m.\u001b[32mCancelableFuture\u001b[39m[\u001b[32mSet\u001b[39m[(\u001b[32mTyp\u001b[39m[\u001b[32mTerm\u001b[39m], \u001b[32mDouble\u001b[39m)]] = \u001b[32m\u001b[33mSuccess\u001b[39m(\n",
       "  \u001b[33mSet\u001b[39m(\n",
       "    (\u001b[32meqM(mul(m)(n))(mul(n)(m))\u001b[39m, \u001b[32m0.0016269449471178236\u001b[39m),\n",
       "    (\n",
       "      \u001b[32meqM(mul(mul(m)(n))(m))(mul(mul(m)(n))(mul(mul(m)(n))(n)))\u001b[39m,\n",
       "      \u001b[32m1.4463066122104613E-4\u001b[39m\n",
       "    ),\n",
       "    (\u001b[32meqM(mul(mul(m)(n))(n))(m)\u001b[39m, \u001b[32m6.605401405345007E-4\u001b[39m),\n",
       "    (\u001b[32meqM(mul(mul(mul(m)(n))(m))(m))(mul(n)(m))\u001b[39m, \u001b[32m0.0\u001b[39m),\n",
       "    (\u001b[32meqM(m)(mul(mul(m)(n))(n))\u001b[39m, \u001b[32m0.0012939077147458948\u001b[39m),\n",
       "    (\u001b[32meqM(mul(mul(m)(n))(m))(n)\u001b[39m, \u001b[32m6.605401405345007E-4\u001b[39m),\n",
       "    (\u001b[32meqM(n)(mul(mul(m)(n))(mul(mul(m)(n))(n)))\u001b[39m, \u001b[32m4.804278158447147E-4\u001b[39m),\n",
       "    (\u001b[32meqM(mul(mul(mul(m)(n))(m))(m))(mul(m)(n))\u001b[39m, \u001b[32m0.0\u001b[39m)\n",
       "  )\n",
       ")\u001b[39m"
      ]
     },
     "metadata": {},
     "output_type": "display_data"
    }
   ],
   "source": [
    "val c4F = c4T.runToFuture"
   ]
  },
  {
   "cell_type": "code",
   "execution_count": 27,
   "metadata": {},
   "outputs": [
    {
     "data": {
      "text/plain": [
       "\u001b[36mtg2\u001b[39m: \u001b[32mTermGenParams\u001b[39m = \u001b[33mTermGenParams\u001b[39m(\n",
       "  \u001b[32m0.2\u001b[39m,\n",
       "  \u001b[32m0.0\u001b[39m,\n",
       "  \u001b[32m0.0\u001b[39m,\n",
       "  \u001b[32m0.0\u001b[39m,\n",
       "  \u001b[32m0.0\u001b[39m,\n",
       "  \u001b[32m0.0\u001b[39m,\n",
       "  \u001b[32m0.0\u001b[39m,\n",
       "  \u001b[32m0.0\u001b[39m,\n",
       "  \u001b[32m0.0\u001b[39m,\n",
       "  \u001b[32m0.0\u001b[39m,\n",
       "  \u001b[32m0.1\u001b[39m,\n",
       "  \u001b[32m0.0\u001b[39m,\n",
       "  \u001b[32m0.3\u001b[39m,\n",
       "  \u001b[32m0.7\u001b[39m,\n",
       "  \u001b[32m0.5\u001b[39m,\n",
       "  \u001b[32m0.0\u001b[39m,\n",
       "  \u001b[32m0.0\u001b[39m,\n",
       "  \u001b[32m0.0\u001b[39m,\n",
       "  \u001b[33mOrElse\u001b[39m(\n",
       "    \u001b[33mOrElse\u001b[39m(\u001b[33mOrElse\u001b[39m(\u001b[33mOrElse\u001b[39m(<function1>, <function1>), <function1>), <function1>),\n",
       "    <function1>\n",
       "  )\n",
       ")\n",
       "\u001b[36mlp5\u001b[39m: \u001b[32mLocalProverStep\u001b[39m = \u001b[33mLocalProver\u001b[39m(\n",
       "  \u001b[33mTermState\u001b[39m(\n",
       "    \u001b[33mFiniteDistribution\u001b[39m(\n",
       "      \u001b[33mVector\u001b[39m(\n",
       "        \u001b[33mWeighted\u001b[39m(\u001b[32meqM\u001b[39m, \u001b[32m0.2\u001b[39m),\n",
       "        \u001b[33mWeighted\u001b[39m(\u001b[32mmul\u001b[39m, \u001b[32m0.35\u001b[39m),\n",
       "        \u001b[33mWeighted\u001b[39m(\u001b[32mm\u001b[39m, \u001b[32m0.15\u001b[39m),\n",
       "        \u001b[33mWeighted\u001b[39m(\u001b[32mn\u001b[39m, \u001b[32m0.15\u001b[39m),\n",
       "        \u001b[33mWeighted\u001b[39m(\u001b[32mmul(m)(n)\u001b[39m, \u001b[32m0.15\u001b[39m)\n",
       "      )\n",
       "    ),\n",
       "    \u001b[33mFiniteDistribution\u001b[39m(\u001b[33mVector\u001b[39m(\u001b[33mWeighted\u001b[39m(\u001b[32mM\u001b[39m, \u001b[32m1.0\u001b[39m))),\n",
       "    \u001b[33mVector\u001b[39m(),\n",
       "    \u001b[33mFiniteDistribution\u001b[39m(\u001b[33mVector\u001b[39m()),\n",
       "    \u001b[33mFiniteDistribution\u001b[39m(\u001b[33mVector\u001b[39m()),\n",
       "    Empty\n",
       "  ),\n",
       "  \u001b[33mTermGenParams\u001b[39m(\n",
       "    \u001b[32m0.2\u001b[39m,\n",
       "    \u001b[32m0.0\u001b[39m,\n",
       "    \u001b[32m0.0\u001b[39m,\n",
       "    \u001b[32m0.0\u001b[39m,\n",
       "    \u001b[32m0.0\u001b[39m,\n",
       "    \u001b[32m0.0\u001b[39m,\n",
       "    \u001b[32m0.0\u001b[39m,\n",
       "    \u001b[32m0.0\u001b[39m,\n",
       "    \u001b[32m0.0\u001b[39m,\n",
       "    \u001b[32m0.0\u001b[39m,\n",
       "    \u001b[32m0.1\u001b[39m,\n",
       "    \u001b[32m0.0\u001b[39m,\n",
       "    \u001b[32m0.3\u001b[39m,\n",
       "    \u001b[32m0.7\u001b[39m,\n",
       "    \u001b[32m0.5\u001b[39m,\n",
       "    \u001b[32m0.0\u001b[39m,\n",
       "    \u001b[32m0.0\u001b[39m,\n",
       "    \u001b[32m0.0\u001b[39m,\n",
       "    \u001b[33mOrElse\u001b[39m(\n",
       "      \u001b[33mOrElse\u001b[39m(\u001b[33mOrElse\u001b[39m(\u001b[33mOrElse\u001b[39m(<function1>, <function1>), <function1>), <function1>),\n",
       "...\n",
       "\u001b[36mtyps5T\u001b[39m: \u001b[32mmonix\u001b[39m.\u001b[32meval\u001b[39m.\u001b[32mTask\u001b[39m[\u001b[32mFiniteDistribution\u001b[39m[\u001b[32mTyp\u001b[39m[\u001b[32mTerm\u001b[39m]]] = \u001b[33mAsync\u001b[39m(\n",
       "  <function2>,\n",
       "  false,\n",
       "  true,\n",
       "  true\n",
       ")"
      ]
     },
     "execution_count": 27,
     "metadata": {},
     "output_type": "execute_result"
    }
   ],
   "source": [
    "val tg2 = TermGenParams.zero.copy(appW = 0.2, typAsCodW = 0.1)\n",
    "val lp5 = LocalProver(ts0, tg = tg2, genMaxDepth = Some(5)).noIsles.sharpen(10)\n",
    "val typs5T = lp5.nextState.map(_.typs).memoize"
   ]
  },
  {
   "cell_type": "code",
   "execution_count": 28,
   "metadata": {},
   "outputs": [
    {
     "data": {
      "text/html": [
       "<div class=\"jp-RenderedText\">\n",
       "<pre><code><span style=\"color: rgb(0, 187, 187)\"><span class=\"ansi-cyan-fg\">typs5F</span></span>: <span style=\"color: rgb(0, 187, 0)\"><span class=\"ansi-green-fg\">monix</span></span>.<span style=\"color: rgb(0, 187, 0)\"><span class=\"ansi-green-fg\">execution</span></span>.<span style=\"color: rgb(0, 187, 0)\"><span class=\"ansi-green-fg\">CancelableFuture</span></span>[<span style=\"color: rgb(0, 187, 0)\"><span class=\"ansi-green-fg\">FiniteDistribution</span></span>[<span style=\"color: rgb(0, 187, 0)\"><span class=\"ansi-green-fg\">Typ</span></span>[<span style=\"color: rgb(0, 187, 0)\"><span class=\"ansi-green-fg\">Term</span></span>]]] = <span style=\"color: rgb(0, 187, 0)\"><span class=\"ansi-green-fg\"><style>@keyframes fadein { from { opacity: 0; } to { opacity: 1; } }</style><span style=\"animation: fadein 2s;\"><span style=\"color: yellow\"><span class=\"ansi-yellow-fg\">Success</span></span>(\n",
       "  <span style=\"color: yellow\"><span class=\"ansi-yellow-fg\">FiniteDistribution</span></span>(\n",
       "    <span style=\"color: yellow\"><span class=\"ansi-yellow-fg\">Vector</span></span>(\n",
       "      <span style=\"color: yellow\"><span class=\"ansi-yellow-fg\">Weighted</span></span>(\n",
       "        <span style=\"color: rgb(0, 187, 0)\"><span class=\"ansi-green-fg\">eqM(mul(n)(mul(n)(m)))(mul(mul(m)(n))(mul(mul(m)(n))(n)))</span></span>,\n",
       "        <span style=\"color: rgb(0, 187, 0)\"><span class=\"ansi-green-fg\">1.2591619570343608E-5</span></span>\n",
       "      ),\n",
       "      <span style=\"color: yellow\"><span class=\"ansi-yellow-fg\">Weighted</span></span>(\n",
       "        <span style=\"color: rgb(0, 187, 0)\"><span class=\"ansi-green-fg\">eqM(n)(mul(mul(mul(m)(n))(n))(mul(m)(mul(mul(m)(n))(n))))</span></span>,\n",
       "        <span style=\"color: rgb(0, 187, 0)\"><span class=\"ansi-green-fg\">1.0556167986993053E-5</span></span>\n",
       "      ),\n",
       "      <span style=\"color: yellow\"><span class=\"ansi-yellow-fg\">Weighted</span></span>(\n",
       "        <span style=\"color: rgb(0, 187, 0)\"><span class=\"ansi-green-fg\">eqM(n)(mul(mul(n)(mul(m)(n)))(mul(m)(mul(mul(m)(n))(m))))</span></span>,\n",
       "        <span style=\"color: rgb(0, 187, 0)\"><span class=\"ansi-green-fg\">1.0556167986993053E-5</span></span>\n",
       "      ),\n",
       "      <span style=\"color: yellow\"><span class=\"ansi-yellow-fg\">Weighted</span></span>(<span style=\"color: rgb(0, 187, 0)\"><span class=\"ansi-green-fg\">eqM(mul(m)(mul(n)(m)))(mul(n)(n))</span></span>, <span style=\"color: rgb(0, 187, 0)\"><span class=\"ansi-green-fg\">3.2146044893724026E-5</span></span>),\n",
       "      <span style=\"color: yellow\"><span class=\"ansi-yellow-fg\">Weighted</span></span>(\n",
       "        <span style=\"color: rgb(0, 187, 0)\"><span class=\"ansi-green-fg\">eqM(mul(m)(mul(m)(n)))(mul(n)(mul(mul(m)(n))(mul(mul(m)(n))(n))))</span></span>,\n",
       "        <span style=\"color: rgb(0, 187, 0)\"><span class=\"ansi-green-fg\">1.40741393833317E-5</span></span>\n",
       "      ),\n",
       "      <span style=\"color: yellow\"><span class=\"ansi-yellow-fg\">Weighted</span></span>(\n",
       "        <span style=\"color: rgb(0, 187, 0)\"><span class=\"ansi-green-fg\">eqM(mul(mul(m)(n))(mul(m)(n)))(mul(mul(n)(n))(mul(mul(m)(n))(mul(m)(n))))</span></span>,\n",
       "        <span style=\"color: rgb(0, 187, 0)\"><span class=\"ansi-green-fg\">1.2158987505220138E-5</span></span>\n",
       "      ),\n",
       "      <span style=\"color: yellow\"><span class=\"ansi-yellow-fg\">Weighted</span></span>(\n",
       "        <span style=\"color: rgb(0, 187, 0)\"><span class=\"ansi-green-fg\">eqM(mul(mul(m)(n))(mul(n)(n)))(mul(mul(mul(m)(n))(mul(m)(n)))(m))</span></span>,\n",
       "        <span style=\"color: rgb(0, 187, 0)\"><span class=\"ansi-green-fg\">1.727734716760031E-5</span></span>\n",
       "      ),\n",
       "      <span style=\"color: yellow\"><span class=\"ansi-yellow-fg\">Weighted</span></span>(\n",
       "        <span style=\"color: rgb(0, 187, 0)\"><span class=\"ansi-green-fg\">eqM(mul(mul(m)(n))(mul(m)(mul(m)(n))))(mul(n)(m))</span></span>,\n",
       "        <span style=\"color: rgb(0, 187, 0)\"><span class=\"ansi-green-fg\">3.2146044893724026E-5</span></span>\n",
       "      ),\n",
       "      <span style=\"color: yellow\"><span class=\"ansi-yellow-fg\">Weighted</span></span>(\n",
       "        <span style=\"color: rgb(0, 187, 0)\"><span class=\"ansi-green-fg\">eqM(mul(n)(mul(mul(m)(n))(mul(m)(n))))(mul(mul(m)(n))(mul(n)(m)))</span></span>,\n",
       "        <span style=\"color: rgb(0, 187, 0)\"><span class=\"ansi-green-fg\">1.2591619570343608E-5</span></span>\n",
       "      ),\n",
       "      <span style=\"color: yellow\"><span class=\"ansi-yellow-fg\">Weighted</span></span>(\n",
       "        <span style=\"color: rgb(0, 187, 0)\"><span class=\"ansi-green-fg\">eqM(mul(m)(n))(mul(mul(n)(mul(m)(n)))(mul(m)(mul(m)(n))))</span></span>,\n",
       "...</span></span></span></code></pre>\n",
       "</div>"
      ],
      "text/plain": [
       "\u001b[36mtyps5F\u001b[39m: \u001b[32mmonix\u001b[39m.\u001b[32mexecution\u001b[39m.\u001b[32mCancelableFuture\u001b[39m[\u001b[32mFiniteDistribution\u001b[39m[\u001b[32mTyp\u001b[39m[\u001b[32mTerm\u001b[39m]]] = \u001b[32m\u001b[33mSuccess\u001b[39m(\n",
       "  \u001b[33mFiniteDistribution\u001b[39m(\n",
       "    \u001b[33mVector\u001b[39m(\n",
       "      \u001b[33mWeighted\u001b[39m(\n",
       "        \u001b[32meqM(mul(n)(mul(n)(m)))(mul(mul(m)(n))(mul(mul(m)(n))(n)))\u001b[39m,\n",
       "        \u001b[32m1.2591619570343608E-5\u001b[39m\n",
       "      ),\n",
       "      \u001b[33mWeighted\u001b[39m(\n",
       "        \u001b[32meqM(n)(mul(mul(mul(m)(n))(n))(mul(m)(mul(mul(m)(n))(n))))\u001b[39m,\n",
       "        \u001b[32m1.0556167986993053E-5\u001b[39m\n",
       "      ),\n",
       "      \u001b[33mWeighted\u001b[39m(\n",
       "        \u001b[32meqM(n)(mul(mul(n)(mul(m)(n)))(mul(m)(mul(mul(m)(n))(m))))\u001b[39m,\n",
       "        \u001b[32m1.0556167986993053E-5\u001b[39m\n",
       "      ),\n",
       "      \u001b[33mWeighted\u001b[39m(\u001b[32meqM(mul(m)(mul(n)(m)))(mul(n)(n))\u001b[39m, \u001b[32m3.2146044893724026E-5\u001b[39m),\n",
       "      \u001b[33mWeighted\u001b[39m(\n",
       "        \u001b[32meqM(mul(m)(mul(m)(n)))(mul(n)(mul(mul(m)(n))(mul(mul(m)(n))(n))))\u001b[39m,\n",
       "        \u001b[32m1.40741393833317E-5\u001b[39m\n",
       "      ),\n",
       "      \u001b[33mWeighted\u001b[39m(\n",
       "        \u001b[32meqM(mul(mul(m)(n))(mul(m)(n)))(mul(mul(n)(n))(mul(mul(m)(n))(mul(m)(n))))\u001b[39m,\n",
       "        \u001b[32m1.2158987505220138E-5\u001b[39m\n",
       "      ),\n",
       "      \u001b[33mWeighted\u001b[39m(\n",
       "        \u001b[32meqM(mul(mul(m)(n))(mul(n)(n)))(mul(mul(mul(m)(n))(mul(m)(n)))(m))\u001b[39m,\n",
       "        \u001b[32m1.727734716760031E-5\u001b[39m\n",
       "      ),\n",
       "      \u001b[33mWeighted\u001b[39m(\n",
       "        \u001b[32meqM(mul(mul(m)(n))(mul(m)(mul(m)(n))))(mul(n)(m))\u001b[39m,\n",
       "        \u001b[32m3.2146044893724026E-5\u001b[39m\n",
       "      ),\n",
       "      \u001b[33mWeighted\u001b[39m(\n",
       "        \u001b[32meqM(mul(n)(mul(mul(m)(n))(mul(m)(n))))(mul(mul(m)(n))(mul(n)(m)))\u001b[39m,\n",
       "        \u001b[32m1.2591619570343608E-5\u001b[39m\n",
       "      ),\n",
       "      \u001b[33mWeighted\u001b[39m(\n",
       "        \u001b[32meqM(mul(m)(n))(mul(mul(n)(mul(m)(n)))(mul(m)(mul(m)(n))))\u001b[39m,\n",
       "...\u001b[39m"
      ]
     },
     "metadata": {},
     "output_type": "display_data"
    }
   ],
   "source": [
    "val typs5F = typs5T.runToFuture"
   ]
  },
  {
   "cell_type": "code",
   "execution_count": 31,
   "metadata": {},
   "outputs": [
    {
     "data": {
      "text/plain": [
       "\u001b[36mres30\u001b[39m: \u001b[32mOption\u001b[39m[\u001b[32mscala\u001b[39m.\u001b[32mutil\u001b[39m.\u001b[32mTry\u001b[39m[\u001b[32mFiniteDistribution\u001b[39m[\u001b[32mTyp\u001b[39m[\u001b[32mTerm\u001b[39m]]]] = \u001b[33mSome\u001b[39m(\n",
       "  \u001b[33mSuccess\u001b[39m(\n",
       "    \u001b[33mFiniteDistribution\u001b[39m(\n",
       "      \u001b[33mVector\u001b[39m(\n",
       "        \u001b[33mWeighted\u001b[39m(\n",
       "          \u001b[32meqM(mul(n)(mul(n)(m)))(mul(mul(m)(n))(mul(mul(m)(n))(n)))\u001b[39m,\n",
       "          \u001b[32m1.2591619570343608E-5\u001b[39m\n",
       "        ),\n",
       "        \u001b[33mWeighted\u001b[39m(\n",
       "          \u001b[32meqM(n)(mul(mul(mul(m)(n))(n))(mul(m)(mul(mul(m)(n))(n))))\u001b[39m,\n",
       "          \u001b[32m1.0556167986993053E-5\u001b[39m\n",
       "        ),\n",
       "        \u001b[33mWeighted\u001b[39m(\n",
       "          \u001b[32meqM(n)(mul(mul(n)(mul(m)(n)))(mul(m)(mul(mul(m)(n))(m))))\u001b[39m,\n",
       "          \u001b[32m1.0556167986993053E-5\u001b[39m\n",
       "        ),\n",
       "        \u001b[33mWeighted\u001b[39m(\u001b[32meqM(mul(m)(mul(n)(m)))(mul(n)(n))\u001b[39m, \u001b[32m3.2146044893724026E-5\u001b[39m),\n",
       "        \u001b[33mWeighted\u001b[39m(\n",
       "          \u001b[32meqM(mul(m)(mul(m)(n)))(mul(n)(mul(mul(m)(n))(mul(mul(m)(n))(n))))\u001b[39m,\n",
       "          \u001b[32m1.40741393833317E-5\u001b[39m\n",
       "        ),\n",
       "        \u001b[33mWeighted\u001b[39m(\n",
       "          \u001b[32meqM(mul(mul(m)(n))(mul(m)(n)))(mul(mul(n)(n))(mul(mul(m)(n))(mul(m)(n))))\u001b[39m,\n",
       "          \u001b[32m1.2158987505220138E-5\u001b[39m\n",
       "        ),\n",
       "        \u001b[33mWeighted\u001b[39m(\n",
       "          \u001b[32meqM(mul(mul(m)(n))(mul(n)(n)))(mul(mul(mul(m)(n))(mul(m)(n)))(m))\u001b[39m,\n",
       "          \u001b[32m1.727734716760031E-5\u001b[39m\n",
       "        ),\n",
       "        \u001b[33mWeighted\u001b[39m(\n",
       "          \u001b[32meqM(mul(mul(m)(n))(mul(m)(mul(m)(n))))(mul(n)(m))\u001b[39m,\n",
       "          \u001b[32m3.2146044893724026E-5\u001b[39m\n",
       "        ),\n",
       "        \u001b[33mWeighted\u001b[39m(\n",
       "          \u001b[32meqM(mul(n)(mul(mul(m)(n))(mul(m)(n))))(mul(mul(m)(n))(mul(n)(m)))\u001b[39m,\n",
       "          \u001b[32m1.2591619570343608E-5\u001b[39m\n",
       "        ),\n",
       "        \u001b[33mWeighted\u001b[39m(\n",
       "..."
      ]
     },
     "execution_count": 31,
     "metadata": {},
     "output_type": "execute_result"
    }
   ],
   "source": [
    "typs5F.value"
   ]
  },
  {
   "cell_type": "code",
   "execution_count": 33,
   "metadata": {},
   "outputs": [
    {
     "data": {
      "text/plain": [
       "\u001b[36mc5T\u001b[39m: \u001b[32mmonix\u001b[39m.\u001b[32meval\u001b[39m.\u001b[32mTask\u001b[39m[\u001b[32mSet\u001b[39m[(\u001b[32mTyp\u001b[39m[\u001b[32mTerm\u001b[39m], \u001b[32mDouble\u001b[39m)]] = \u001b[33mAsync\u001b[39m(\n",
       "  <function2>,\n",
       "  false,\n",
       "  true,\n",
       "  true\n",
       ")"
      ]
     },
     "execution_count": 33,
     "metadata": {},
     "output_type": "execute_result"
    }
   ],
   "source": [
    "val c5T = typs5T.map(typs => claims.map(c => c -> typs(c))).memoize"
   ]
  },
  {
   "cell_type": "code",
   "execution_count": 34,
   "metadata": {},
   "outputs": [
    {
     "data": {
      "text/html": [
       "<div class=\"jp-RenderedText\">\n",
       "<pre><code><span style=\"color: rgb(0, 187, 187)\"><span class=\"ansi-cyan-fg\">c5F</span></span>: <span style=\"color: rgb(0, 187, 0)\"><span class=\"ansi-green-fg\">monix</span></span>.<span style=\"color: rgb(0, 187, 0)\"><span class=\"ansi-green-fg\">execution</span></span>.<span style=\"color: rgb(0, 187, 0)\"><span class=\"ansi-green-fg\">CancelableFuture</span></span>[<span style=\"color: rgb(0, 187, 0)\"><span class=\"ansi-green-fg\">Set</span></span>[(<span style=\"color: rgb(0, 187, 0)\"><span class=\"ansi-green-fg\">Typ</span></span>[<span style=\"color: rgb(0, 187, 0)\"><span class=\"ansi-green-fg\">Term</span></span>], <span style=\"color: rgb(0, 187, 0)\"><span class=\"ansi-green-fg\">Double</span></span>)]] = <span style=\"color: rgb(0, 187, 0)\"><span class=\"ansi-green-fg\"><style>@keyframes fadein { from { opacity: 0; } to { opacity: 1; } }</style><span style=\"animation: fadein 2s;\"><span style=\"color: yellow\"><span class=\"ansi-yellow-fg\">Success</span></span>(\n",
       "  <span style=\"color: yellow\"><span class=\"ansi-yellow-fg\">Set</span></span>(\n",
       "    (\n",
       "      <span style=\"color: rgb(0, 187, 0)\"><span class=\"ansi-green-fg\">eqM(mul(mul(m)(n))(m))(mul(mul(m)(n))(mul(mul(m)(n))(n)))</span></span>,\n",
       "      <span style=\"color: rgb(0, 187, 0)\"><span class=\"ansi-green-fg\">2.5825668710602724E-5</span></span>\n",
       "    ),\n",
       "    (<span style=\"color: rgb(0, 187, 0)\"><span class=\"ansi-green-fg\">eqM(m)(mul(mul(m)(n))(n))</span></span>, <span style=\"color: rgb(0, 187, 0)\"><span class=\"ansi-green-fg\">3.994216991078459E-4</span></span>),\n",
       "    (<span style=\"color: rgb(0, 187, 0)\"><span class=\"ansi-green-fg\">eqM(mul(mul(mul(m)(n))(m))(m))(mul(n)(m))</span></span>, <span style=\"color: rgb(0, 187, 0)\"><span class=\"ansi-green-fg\">0.0</span></span>),\n",
       "    (<span style=\"color: rgb(0, 187, 0)\"><span class=\"ansi-green-fg\">eqM(mul(mul(m)(n))(m))(n)</span></span>, <span style=\"color: rgb(0, 187, 0)\"><span class=\"ansi-green-fg\">7.042733667322159E-4</span></span>),\n",
       "    (<span style=\"color: rgb(0, 187, 0)\"><span class=\"ansi-green-fg\">eqM(mul(mul(m)(n))(n))(m)</span></span>, <span style=\"color: rgb(0, 187, 0)\"><span class=\"ansi-green-fg\">7.042733667322159E-4</span></span>),\n",
       "    (<span style=\"color: rgb(0, 187, 0)\"><span class=\"ansi-green-fg\">eqM(mul(m)(n))(mul(n)(m))</span></span>, <span style=\"color: rgb(0, 187, 0)\"><span class=\"ansi-green-fg\">3.2572472019865283E-4</span></span>),\n",
       "    (<span style=\"color: rgb(0, 187, 0)\"><span class=\"ansi-green-fg\">eqM(mul(mul(mul(m)(n))(m))(m))(mul(m)(n))</span></span>, <span style=\"color: rgb(0, 187, 0)\"><span class=\"ansi-green-fg\">0.0</span></span>),\n",
       "    (<span style=\"color: rgb(0, 187, 0)\"><span class=\"ansi-green-fg\">eqM(n)(mul(mul(m)(n))(mul(mul(m)(n))(n)))</span></span>, <span style=\"color: rgb(0, 187, 0)\"><span class=\"ansi-green-fg\">1.0176084387461372E-4</span></span>)\n",
       "  )\n",
       ")</span></span></span></code></pre>\n",
       "</div>"
      ],
      "text/plain": [
       "\u001b[36mc5F\u001b[39m: \u001b[32mmonix\u001b[39m.\u001b[32mexecution\u001b[39m.\u001b[32mCancelableFuture\u001b[39m[\u001b[32mSet\u001b[39m[(\u001b[32mTyp\u001b[39m[\u001b[32mTerm\u001b[39m], \u001b[32mDouble\u001b[39m)]] = \u001b[32m\u001b[33mSuccess\u001b[39m(\n",
       "  \u001b[33mSet\u001b[39m(\n",
       "    (\n",
       "      \u001b[32meqM(mul(mul(m)(n))(m))(mul(mul(m)(n))(mul(mul(m)(n))(n)))\u001b[39m,\n",
       "      \u001b[32m2.5825668710602724E-5\u001b[39m\n",
       "    ),\n",
       "    (\u001b[32meqM(m)(mul(mul(m)(n))(n))\u001b[39m, \u001b[32m3.994216991078459E-4\u001b[39m),\n",
       "    (\u001b[32meqM(mul(mul(mul(m)(n))(m))(m))(mul(n)(m))\u001b[39m, \u001b[32m0.0\u001b[39m),\n",
       "    (\u001b[32meqM(mul(mul(m)(n))(m))(n)\u001b[39m, \u001b[32m7.042733667322159E-4\u001b[39m),\n",
       "    (\u001b[32meqM(mul(mul(m)(n))(n))(m)\u001b[39m, \u001b[32m7.042733667322159E-4\u001b[39m),\n",
       "    (\u001b[32meqM(mul(m)(n))(mul(n)(m))\u001b[39m, \u001b[32m3.2572472019865283E-4\u001b[39m),\n",
       "    (\u001b[32meqM(mul(mul(mul(m)(n))(m))(m))(mul(m)(n))\u001b[39m, \u001b[32m0.0\u001b[39m),\n",
       "    (\u001b[32meqM(n)(mul(mul(m)(n))(mul(mul(m)(n))(n)))\u001b[39m, \u001b[32m1.0176084387461372E-4\u001b[39m)\n",
       "  )\n",
       ")\u001b[39m"
      ]
     },
     "metadata": {},
     "output_type": "display_data"
    }
   ],
   "source": [
    "val c5F = c5T.runToFuture"
   ]
  },
  {
   "cell_type": "code",
   "execution_count": 35,
   "metadata": {},
   "outputs": [
    {
     "data": {
      "text/plain": [
       "\u001b[36mflipped\u001b[39m: \u001b[32mTyp\u001b[39m[\u001b[32mTerm\u001b[39m] = \u001b[32meqM(mul(m)(n))(mul(mul(mul(m)(n))(m))(m))\u001b[39m"
      ]
     },
     "execution_count": 35,
     "metadata": {},
     "output_type": "execute_result"
    }
   ],
   "source": [
    "val flipped = eqM(mul(m)(n))(mul(mul(mul(m)(n))(m))(m))"
   ]
  },
  {
   "cell_type": "code",
   "execution_count": 36,
   "metadata": {},
   "outputs": [
    {
     "data": {
      "text/html": [
       "<div class=\"jp-RenderedText\">\n",
       "<pre><code><span style=\"color: rgb(0, 187, 187)\"><span class=\"ansi-cyan-fg\">pF</span></span>: <span style=\"color: rgb(0, 187, 0)\"><span class=\"ansi-green-fg\">monix</span></span>.<span style=\"color: rgb(0, 187, 0)\"><span class=\"ansi-green-fg\">execution</span></span>.<span style=\"color: rgb(0, 187, 0)\"><span class=\"ansi-green-fg\">CancelableFuture</span></span>[<span style=\"color: rgb(0, 187, 0)\"><span class=\"ansi-green-fg\">Double</span></span>] = <span style=\"color: rgb(0, 187, 0)\"><span class=\"ansi-green-fg\"><span style=\"color: yellow\"><span class=\"ansi-yellow-fg\">Success</span></span>(<span style=\"color: rgb(0, 187, 0)\"><span class=\"ansi-green-fg\">6.30584821229927E-5</span></span>)</span></span></code></pre>\n",
       "</div>"
      ],
      "text/plain": [
       "\u001b[36mpF\u001b[39m: \u001b[32mmonix\u001b[39m.\u001b[32mexecution\u001b[39m.\u001b[32mCancelableFuture\u001b[39m[\u001b[32mDouble\u001b[39m] = \u001b[32m\u001b[33mSuccess\u001b[39m(\u001b[32m6.30584821229927E-5\u001b[39m)\u001b[39m"
      ]
     },
     "metadata": {},
     "output_type": "display_data"
    }
   ],
   "source": [
    "val pF = typs4T.map(_(flipped)).runToFuture"
   ]
  },
  {
   "cell_type": "code",
   "execution_count": 37,
   "metadata": {},
   "outputs": [
    {
     "data": {
      "text/plain": [
       "\u001b[36mflipped2\u001b[39m: \u001b[32mTyp\u001b[39m[\u001b[32mTerm\u001b[39m] = \u001b[32meqM(mul(n)(m))(mul(mul(mul(m)(n))(m))(m))\u001b[39m"
      ]
     },
     "execution_count": 37,
     "metadata": {},
     "output_type": "execute_result"
    }
   ],
   "source": [
    "val flipped2 = eqM(mul(n)(m))(mul(mul(mul(m)(n))(m))(m))"
   ]
  },
  {
   "cell_type": "code",
   "execution_count": 38,
   "metadata": {},
   "outputs": [
    {
     "data": {
      "text/html": [
       "<div class=\"jp-RenderedText\">\n",
       "<pre><code><span style=\"color: rgb(0, 187, 187)\"><span class=\"ansi-cyan-fg\">pF2</span></span>: <span style=\"color: rgb(0, 187, 0)\"><span class=\"ansi-green-fg\">monix</span></span>.<span style=\"color: rgb(0, 187, 0)\"><span class=\"ansi-green-fg\">execution</span></span>.<span style=\"color: rgb(0, 187, 0)\"><span class=\"ansi-green-fg\">CancelableFuture</span></span>[<span style=\"color: rgb(0, 187, 0)\"><span class=\"ansi-green-fg\">Double</span></span>] = <span style=\"color: rgb(0, 187, 0)\"><span class=\"ansi-green-fg\"><span style=\"color: yellow\"><span class=\"ansi-yellow-fg\">Success</span></span>(<span style=\"color: rgb(0, 187, 0)\"><span class=\"ansi-green-fg\">1.4590938767613E-5</span></span>)</span></span></code></pre>\n",
       "</div>"
      ],
      "text/plain": [
       "\u001b[36mpF2\u001b[39m: \u001b[32mmonix\u001b[39m.\u001b[32mexecution\u001b[39m.\u001b[32mCancelableFuture\u001b[39m[\u001b[32mDouble\u001b[39m] = \u001b[32m\u001b[33mSuccess\u001b[39m(\u001b[32m1.4590938767613E-5\u001b[39m)\u001b[39m"
      ]
     },
     "metadata": {},
     "output_type": "display_data"
    }
   ],
   "source": [
    "val pF2 = typs4T.map(_(flipped2)).runToFuture"
   ]
  },
  {
   "cell_type": "markdown",
   "metadata": {},
   "source": [
    "## Conclusions\n",
    "\n",
    "* The depth worked correctly\n",
    "* However we could not reach all the lemmas.\n",
    "* Flipping let us reach the lemmas, which is equivalent to having the mirror of equality."
   ]
  },
  {
   "cell_type": "code",
   "execution_count": 39,
   "metadata": {},
   "outputs": [
    {
     "data": {
      "text/plain": [
       "\u001b[36meqFlip\u001b[39m: \u001b[32mFunc\u001b[39m[\u001b[32mTerm\u001b[39m, \u001b[32mFunc\u001b[39m[\u001b[32mTerm\u001b[39m, \u001b[32mTyp\u001b[39m[\u001b[32mTerm\u001b[39m]]] = \u001b[32m(a : M) ↦ (b : M) ↦ eqM(b)(a)\u001b[39m"
      ]
     },
     "execution_count": 39,
     "metadata": {},
     "output_type": "execute_result"
    }
   ],
   "source": [
    "val eqFlip = a :-> (b :-> eqM(b)(a))"
   ]
  },
  {
   "cell_type": "code",
   "execution_count": 40,
   "metadata": {},
   "outputs": [
    {
     "data": {
      "text/plain": [
       "\u001b[36mts1\u001b[39m: \u001b[32mTermState\u001b[39m = \u001b[33mTermState\u001b[39m(\n",
       "  \u001b[33mFiniteDistribution\u001b[39m(\n",
       "    \u001b[33mVector\u001b[39m(\n",
       "      \u001b[33mWeighted\u001b[39m(\u001b[32meqM\u001b[39m, \u001b[32m0.1\u001b[39m),\n",
       "      \u001b[33mWeighted\u001b[39m(\u001b[32m(a : M) ↦ (b : M) ↦ eqM(b)(a)\u001b[39m, \u001b[32m0.1\u001b[39m),\n",
       "      \u001b[33mWeighted\u001b[39m(\u001b[32mmul\u001b[39m, \u001b[32m0.35\u001b[39m),\n",
       "      \u001b[33mWeighted\u001b[39m(\u001b[32mm\u001b[39m, \u001b[32m0.15\u001b[39m),\n",
       "      \u001b[33mWeighted\u001b[39m(\u001b[32mn\u001b[39m, \u001b[32m0.15\u001b[39m),\n",
       "      \u001b[33mWeighted\u001b[39m(\u001b[32mmul(m)(n)\u001b[39m, \u001b[32m0.15\u001b[39m)\n",
       "    )\n",
       "  ),\n",
       "  \u001b[33mFiniteDistribution\u001b[39m(\u001b[33mVector\u001b[39m(\u001b[33mWeighted\u001b[39m(\u001b[32mM\u001b[39m, \u001b[32m1.0\u001b[39m))),\n",
       "  \u001b[33mVector\u001b[39m(),\n",
       "  \u001b[33mFiniteDistribution\u001b[39m(\u001b[33mVector\u001b[39m()),\n",
       "  \u001b[33mFiniteDistribution\u001b[39m(\u001b[33mVector\u001b[39m()),\n",
       "  Empty\n",
       ")"
      ]
     },
     "execution_count": 40,
     "metadata": {},
     "output_type": "execute_result"
    }
   ],
   "source": [
    "val ts1 = TermState(FiniteDistribution(eqM -> 0.1, eqFlip -> 0.1, mul -> 0.35, m -> 0.15, n -> 0.15, mul(m)(n) -> 0.15), FiniteDistribution.unif(M))"
   ]
  },
  {
   "cell_type": "code",
   "execution_count": 41,
   "metadata": {},
   "outputs": [
    {
     "data": {
      "text/plain": [
       "\u001b[36mtg2\u001b[39m: \u001b[32mTermGenParams\u001b[39m = \u001b[33mTermGenParams\u001b[39m(\n",
       "  \u001b[32m0.2\u001b[39m,\n",
       "  \u001b[32m0.0\u001b[39m,\n",
       "  \u001b[32m0.0\u001b[39m,\n",
       "  \u001b[32m0.0\u001b[39m,\n",
       "  \u001b[32m0.0\u001b[39m,\n",
       "  \u001b[32m0.0\u001b[39m,\n",
       "  \u001b[32m0.0\u001b[39m,\n",
       "  \u001b[32m0.0\u001b[39m,\n",
       "  \u001b[32m0.0\u001b[39m,\n",
       "  \u001b[32m0.0\u001b[39m,\n",
       "  \u001b[32m0.1\u001b[39m,\n",
       "  \u001b[32m0.0\u001b[39m,\n",
       "  \u001b[32m0.3\u001b[39m,\n",
       "  \u001b[32m0.7\u001b[39m,\n",
       "  \u001b[32m0.5\u001b[39m,\n",
       "  \u001b[32m0.0\u001b[39m,\n",
       "  \u001b[32m0.0\u001b[39m,\n",
       "  \u001b[32m0.0\u001b[39m,\n",
       "  \u001b[33mOrElse\u001b[39m(\n",
       "    \u001b[33mOrElse\u001b[39m(\u001b[33mOrElse\u001b[39m(\u001b[33mOrElse\u001b[39m(<function1>, <function1>), <function1>), <function1>),\n",
       "    <function1>\n",
       "  )\n",
       ")\n",
       "\u001b[36mlp6\u001b[39m: \u001b[32mLocalProverStep\u001b[39m = \u001b[33mLocalProver\u001b[39m(\n",
       "  \u001b[33mTermState\u001b[39m(\n",
       "    \u001b[33mFiniteDistribution\u001b[39m(\n",
       "      \u001b[33mVector\u001b[39m(\n",
       "        \u001b[33mWeighted\u001b[39m(\u001b[32meqM\u001b[39m, \u001b[32m0.1\u001b[39m),\n",
       "        \u001b[33mWeighted\u001b[39m(\u001b[32m(a : M) ↦ (b : M) ↦ eqM(b)(a)\u001b[39m, \u001b[32m0.1\u001b[39m),\n",
       "        \u001b[33mWeighted\u001b[39m(\u001b[32mmul\u001b[39m, \u001b[32m0.35\u001b[39m),\n",
       "        \u001b[33mWeighted\u001b[39m(\u001b[32mm\u001b[39m, \u001b[32m0.15\u001b[39m),\n",
       "        \u001b[33mWeighted\u001b[39m(\u001b[32mn\u001b[39m, \u001b[32m0.15\u001b[39m),\n",
       "        \u001b[33mWeighted\u001b[39m(\u001b[32mmul(m)(n)\u001b[39m, \u001b[32m0.15\u001b[39m)\n",
       "      )\n",
       "    ),\n",
       "    \u001b[33mFiniteDistribution\u001b[39m(\u001b[33mVector\u001b[39m(\u001b[33mWeighted\u001b[39m(\u001b[32mM\u001b[39m, \u001b[32m1.0\u001b[39m))),\n",
       "    \u001b[33mVector\u001b[39m(),\n",
       "    \u001b[33mFiniteDistribution\u001b[39m(\u001b[33mVector\u001b[39m()),\n",
       "    \u001b[33mFiniteDistribution\u001b[39m(\u001b[33mVector\u001b[39m()),\n",
       "    Empty\n",
       "  ),\n",
       "  \u001b[33mTermGenParams\u001b[39m(\n",
       "    \u001b[32m0.2\u001b[39m,\n",
       "    \u001b[32m0.0\u001b[39m,\n",
       "    \u001b[32m0.0\u001b[39m,\n",
       "    \u001b[32m0.0\u001b[39m,\n",
       "    \u001b[32m0.0\u001b[39m,\n",
       "    \u001b[32m0.0\u001b[39m,\n",
       "    \u001b[32m0.0\u001b[39m,\n",
       "    \u001b[32m0.0\u001b[39m,\n",
       "    \u001b[32m0.0\u001b[39m,\n",
       "    \u001b[32m0.0\u001b[39m,\n",
       "    \u001b[32m0.1\u001b[39m,\n",
       "    \u001b[32m0.0\u001b[39m,\n",
       "    \u001b[32m0.3\u001b[39m,\n",
       "    \u001b[32m0.7\u001b[39m,\n",
       "    \u001b[32m0.5\u001b[39m,\n",
       "    \u001b[32m0.0\u001b[39m,\n",
       "    \u001b[32m0.0\u001b[39m,\n",
       "    \u001b[32m0.0\u001b[39m,\n",
       "    \u001b[33mOrElse\u001b[39m(\n",
       "      \u001b[33mOrElse\u001b[39m(\u001b[33mOrElse\u001b[39m(\u001b[33mOrElse\u001b[39m(<function1>, <function1>), <function1>), <function1>)...\n",
       "\u001b[36mtyps6T\u001b[39m: \u001b[32mmonix\u001b[39m.\u001b[32meval\u001b[39m.\u001b[32mTask\u001b[39m[\u001b[32mFiniteDistribution\u001b[39m[\u001b[32mTyp\u001b[39m[\u001b[32mTerm\u001b[39m]]] = \u001b[33mAsync\u001b[39m(\n",
       "  <function2>,\n",
       "  false,\n",
       "  true,\n",
       "  true\n",
       ")"
      ]
     },
     "execution_count": 41,
     "metadata": {},
     "output_type": "execute_result"
    }
   ],
   "source": [
    "val tg2 = TermGenParams.zero.copy(appW = 0.2, typAsCodW = 0.1)\n",
    "val lp6 = LocalProver(ts1, tg = tg2, genMaxDepth = Some(4)).noIsles.sharpen(10)\n",
    "val typs6T = lp6.nextState.map(_.typs).memoize"
   ]
  },
  {
   "cell_type": "code",
   "execution_count": 42,
   "metadata": {},
   "outputs": [
    {
     "data": {
      "text/html": [
       "<div class=\"jp-RenderedText\">\n",
       "<pre><code><span style=\"color: rgb(0, 187, 187)\"><span class=\"ansi-cyan-fg\">typs6F</span></span>: <span style=\"color: rgb(0, 187, 0)\"><span class=\"ansi-green-fg\">monix</span></span>.<span style=\"color: rgb(0, 187, 0)\"><span class=\"ansi-green-fg\">execution</span></span>.<span style=\"color: rgb(0, 187, 0)\"><span class=\"ansi-green-fg\">CancelableFuture</span></span>[<span style=\"color: rgb(0, 187, 0)\"><span class=\"ansi-green-fg\">FiniteDistribution</span></span>[<span style=\"color: rgb(0, 187, 0)\"><span class=\"ansi-green-fg\">Typ</span></span>[<span style=\"color: rgb(0, 187, 0)\"><span class=\"ansi-green-fg\">Term</span></span>]]] = <span style=\"color: rgb(0, 187, 0)\"><span class=\"ansi-green-fg\"><style>@keyframes fadein { from { opacity: 0; } to { opacity: 1; } }</style><span style=\"animation: fadein 2s;\"><span style=\"color: yellow\"><span class=\"ansi-yellow-fg\">Success</span></span>(\n",
       "  <span style=\"color: yellow\"><span class=\"ansi-yellow-fg\">FiniteDistribution</span></span>(\n",
       "    <span style=\"color: yellow\"><span class=\"ansi-yellow-fg\">Vector</span></span>(\n",
       "      <span style=\"color: yellow\"><span class=\"ansi-yellow-fg\">Weighted</span></span>(<span style=\"color: rgb(0, 187, 0)\"><span class=\"ansi-green-fg\">eqM(mul(m)(mul(n)(m)))(mul(n)(n))</span></span>, <span style=\"color: rgb(0, 187, 0)\"><span class=\"ansi-green-fg\">7.928206678585266E-5</span></span>),\n",
       "      <span style=\"color: yellow\"><span class=\"ansi-yellow-fg\">Weighted</span></span>(\n",
       "        <span style=\"color: rgb(0, 187, 0)\"><span class=\"ansi-green-fg\">eqM(mul(mul(m)(n))(mul(m)(mul(m)(n))))(mul(n)(m))</span></span>,\n",
       "        <span style=\"color: rgb(0, 187, 0)\"><span class=\"ansi-green-fg\">9.199602368088775E-5</span></span>\n",
       "      ),\n",
       "      <span style=\"color: yellow\"><span class=\"ansi-yellow-fg\">Weighted</span></span>(<span style=\"color: rgb(0, 187, 0)\"><span class=\"ansi-green-fg\">eqM(mul(mul(m)(m))(m))(mul(m)(m))</span></span>, <span style=\"color: rgb(0, 187, 0)\"><span class=\"ansi-green-fg\">1.6089700563711417E-5</span></span>),\n",
       "      <span style=\"color: yellow\"><span class=\"ansi-yellow-fg\">Weighted</span></span>(<span style=\"color: rgb(0, 187, 0)\"><span class=\"ansi-green-fg\">eqM(mul(m)(n))(mul(mul(m)(n))(m))</span></span>, <span style=\"color: rgb(0, 187, 0)\"><span class=\"ansi-green-fg\">0.0012924242940704665</span></span>),\n",
       "      <span style=\"color: yellow\"><span class=\"ansi-yellow-fg\">Weighted</span></span>(<span style=\"color: rgb(0, 187, 0)\"><span class=\"ansi-green-fg\">eqM(mul(n)(n))(mul(mul(n)(n))(n))</span></span>, <span style=\"color: rgb(0, 187, 0)\"><span class=\"ansi-green-fg\">1.6089700563711417E-5</span></span>),\n",
       "      <span style=\"color: yellow\"><span class=\"ansi-yellow-fg\">Weighted</span></span>(\n",
       "        <span style=\"color: rgb(0, 187, 0)\"><span class=\"ansi-green-fg\">eqM(mul(mul(mul(m)(n))(mul(m)(n)))(mul(m)(n)))(mul(mul(m)(n))(n))</span></span>,\n",
       "        <span style=\"color: rgb(0, 187, 0)\"><span class=\"ansi-green-fg\">2.5691581679902662E-5</span></span>\n",
       "      ),\n",
       "      <span style=\"color: yellow\"><span class=\"ansi-yellow-fg\">Weighted</span></span>(\n",
       "        <span style=\"color: rgb(0, 187, 0)\"><span class=\"ansi-green-fg\">eqM(mul(n)(n))(mul(mul(m)(mul(m)(n)))(mul(m)(n)))</span></span>,\n",
       "        <span style=\"color: rgb(0, 187, 0)\"><span class=\"ansi-green-fg\">2.5691581679902662E-5</span></span>\n",
       "      ),\n",
       "      <span style=\"color: yellow\"><span class=\"ansi-yellow-fg\">Weighted</span></span>(<span style=\"color: rgb(0, 187, 0)\"><span class=\"ansi-green-fg\">eqM(mul(n)(mul(m)(n)))(mul(n)(mul(n)(m)))</span></span>, <span style=\"color: rgb(0, 187, 0)\"><span class=\"ansi-green-fg\">8.623107692266906E-5</span></span>),\n",
       "      <span style=\"color: yellow\"><span class=\"ansi-yellow-fg\">Weighted</span></span>(\n",
       "        <span style=\"color: rgb(0, 187, 0)\"><span class=\"ansi-green-fg\">eqM(mul(mul(n)(m))(mul(m)(n)))(mul(mul(m)(n))(n))</span></span>,\n",
       "        <span style=\"color: rgb(0, 187, 0)\"><span class=\"ansi-green-fg\">2.5691581679902662E-5</span></span>\n",
       "      ),\n",
       "      <span style=\"color: yellow\"><span class=\"ansi-yellow-fg\">Weighted</span></span>(\n",
       "        <span style=\"color: rgb(0, 187, 0)\"><span class=\"ansi-green-fg\">eqM(mul(mul(m)(n))(mul(n)(n)))(mul(m)(mul(m)(n)))</span></span>,\n",
       "        <span style=\"color: rgb(0, 187, 0)\"><span class=\"ansi-green-fg\">9.520501275961725E-5</span></span>\n",
       "      ),\n",
       "      <span style=\"color: yellow\"><span class=\"ansi-yellow-fg\">Weighted</span></span>(\n",
       "        <span style=\"color: rgb(0, 187, 0)\"><span class=\"ansi-green-fg\">eqM(mul(m)(mul(mul(m)(n))(mul(m)(n))))(mul(m)(n))</span></span>,\n",
       "        <span style=\"color: rgb(0, 187, 0)\"><span class=\"ansi-green-fg\">2.632062558832602E-4</span></span>\n",
       "      ),\n",
       "      <span style=\"color: yellow\"><span class=\"ansi-yellow-fg\">Weighted</span></span>(\n",
       "        <span style=\"color: rgb(0, 187, 0)\"><span class=\"ansi-green-fg\">eqM(mul(mul(m)(n))(mul(mul(m)(n))(m)))(mul(n)(n))</span></span>,\n",
       "        <span style=\"color: rgb(0, 187, 0)\"><span class=\"ansi-green-fg\">8.773127367768097E-5</span></span>\n",
       "      ),\n",
       "      <span style=\"color: yellow\"><span class=\"ansi-yellow-fg\">Weighted</span></span>(<span style=\"color: rgb(0, 187, 0)\"><span class=\"ansi-green-fg\">eqM(m)(mul(mul(m)(mul(m)(n)))(m))</span></span>, <span style=\"color: rgb(0, 187, 0)\"><span class=\"ansi-green-fg\">3.0539842286710045E-5</span></span>),\n",
       "      <span style=\"color: yellow\"><span class=\"ansi-yellow-fg\">Weighted</span></span>(<span style=\"color: rgb(0, 187, 0)\"><span class=\"ansi-green-fg\">eqM(mul(n)(m))(mul(mul(m)(n))(mul(n)(m)))</span></span>, <span style=\"color: rgb(0, 187, 0)\"><span class=\"ansi-green-fg\">8.773127367768097E-5</span></span>),\n",
       "      <span style=\"color: yellow\"><span class=\"ansi-yellow-fg\">Weighted</span></span>(\n",
       "...</span></span></span></code></pre>\n",
       "</div>"
      ],
      "text/plain": [
       "\u001b[36mtyps6F\u001b[39m: \u001b[32mmonix\u001b[39m.\u001b[32mexecution\u001b[39m.\u001b[32mCancelableFuture\u001b[39m[\u001b[32mFiniteDistribution\u001b[39m[\u001b[32mTyp\u001b[39m[\u001b[32mTerm\u001b[39m]]] = \u001b[32m\u001b[33mSuccess\u001b[39m(\n",
       "  \u001b[33mFiniteDistribution\u001b[39m(\n",
       "    \u001b[33mVector\u001b[39m(\n",
       "      \u001b[33mWeighted\u001b[39m(\u001b[32meqM(mul(m)(mul(n)(m)))(mul(n)(n))\u001b[39m, \u001b[32m7.928206678585266E-5\u001b[39m),\n",
       "      \u001b[33mWeighted\u001b[39m(\n",
       "        \u001b[32meqM(mul(mul(m)(n))(mul(m)(mul(m)(n))))(mul(n)(m))\u001b[39m,\n",
       "        \u001b[32m9.199602368088775E-5\u001b[39m\n",
       "      ),\n",
       "      \u001b[33mWeighted\u001b[39m(\u001b[32meqM(mul(mul(m)(m))(m))(mul(m)(m))\u001b[39m, \u001b[32m1.6089700563711417E-5\u001b[39m),\n",
       "      \u001b[33mWeighted\u001b[39m(\u001b[32meqM(mul(m)(n))(mul(mul(m)(n))(m))\u001b[39m, \u001b[32m0.0012924242940704665\u001b[39m),\n",
       "      \u001b[33mWeighted\u001b[39m(\u001b[32meqM(mul(n)(n))(mul(mul(n)(n))(n))\u001b[39m, \u001b[32m1.6089700563711417E-5\u001b[39m),\n",
       "      \u001b[33mWeighted\u001b[39m(\n",
       "        \u001b[32meqM(mul(mul(mul(m)(n))(mul(m)(n)))(mul(m)(n)))(mul(mul(m)(n))(n))\u001b[39m,\n",
       "        \u001b[32m2.5691581679902662E-5\u001b[39m\n",
       "      ),\n",
       "      \u001b[33mWeighted\u001b[39m(\n",
       "        \u001b[32meqM(mul(n)(n))(mul(mul(m)(mul(m)(n)))(mul(m)(n)))\u001b[39m,\n",
       "        \u001b[32m2.5691581679902662E-5\u001b[39m\n",
       "      ),\n",
       "      \u001b[33mWeighted\u001b[39m(\u001b[32meqM(mul(n)(mul(m)(n)))(mul(n)(mul(n)(m)))\u001b[39m, \u001b[32m8.623107692266906E-5\u001b[39m),\n",
       "      \u001b[33mWeighted\u001b[39m(\n",
       "        \u001b[32meqM(mul(mul(n)(m))(mul(m)(n)))(mul(mul(m)(n))(n))\u001b[39m,\n",
       "        \u001b[32m2.5691581679902662E-5\u001b[39m\n",
       "      ),\n",
       "      \u001b[33mWeighted\u001b[39m(\n",
       "        \u001b[32meqM(mul(mul(m)(n))(mul(n)(n)))(mul(m)(mul(m)(n)))\u001b[39m,\n",
       "        \u001b[32m9.520501275961725E-5\u001b[39m\n",
       "      ),\n",
       "      \u001b[33mWeighted\u001b[39m(\n",
       "        \u001b[32meqM(mul(m)(mul(mul(m)(n))(mul(m)(n))))(mul(m)(n))\u001b[39m,\n",
       "        \u001b[32m2.632062558832602E-4\u001b[39m\n",
       "      ),\n",
       "      \u001b[33mWeighted\u001b[39m(\n",
       "        \u001b[32meqM(mul(mul(m)(n))(mul(mul(m)(n))(m)))(mul(n)(n))\u001b[39m,\n",
       "        \u001b[32m8.773127367768097E-5\u001b[39m\n",
       "      ),\n",
       "      \u001b[33mWeighted\u001b[39m(\u001b[32meqM(m)(mul(mul(m)(mul(m)(n)))(m))\u001b[39m, \u001b[32m3.0539842286710045E-5\u001b[39m),\n",
       "      \u001b[33mWeighted\u001b[39m(\u001b[32meqM(mul(n)(m))(mul(mul(m)(n))(mul(n)(m)))\u001b[39m, \u001b[32m8.773127367768097E-5\u001b[39m),\n",
       "      \u001b[33mWeighted\u001b[39m(\n",
       "...\u001b[39m"
      ]
     },
     "metadata": {},
     "output_type": "display_data"
    }
   ],
   "source": [
    "val typs6F = typs6T.runToFuture"
   ]
  },
  {
   "cell_type": "code",
   "execution_count": 46,
   "metadata": {},
   "outputs": [
    {
     "data": {
      "text/plain": [
       "\u001b[36mres45\u001b[39m: \u001b[32mOption\u001b[39m[\u001b[32mscala\u001b[39m.\u001b[32mutil\u001b[39m.\u001b[32mTry\u001b[39m[\u001b[32mFiniteDistribution\u001b[39m[\u001b[32mTyp\u001b[39m[\u001b[32mTerm\u001b[39m]]]] = \u001b[33mSome\u001b[39m(\n",
       "  \u001b[33mSuccess\u001b[39m(\n",
       "    \u001b[33mFiniteDistribution\u001b[39m(\n",
       "      \u001b[33mVector\u001b[39m(\n",
       "        \u001b[33mWeighted\u001b[39m(\u001b[32meqM(mul(m)(mul(n)(m)))(mul(n)(n))\u001b[39m, \u001b[32m7.928206678585266E-5\u001b[39m),\n",
       "        \u001b[33mWeighted\u001b[39m(\n",
       "          \u001b[32meqM(mul(mul(m)(n))(mul(m)(mul(m)(n))))(mul(n)(m))\u001b[39m,\n",
       "          \u001b[32m9.199602368088775E-5\u001b[39m\n",
       "        ),\n",
       "        \u001b[33mWeighted\u001b[39m(\u001b[32meqM(mul(mul(m)(m))(m))(mul(m)(m))\u001b[39m, \u001b[32m1.6089700563711417E-5\u001b[39m),\n",
       "        \u001b[33mWeighted\u001b[39m(\u001b[32meqM(mul(m)(n))(mul(mul(m)(n))(m))\u001b[39m, \u001b[32m0.0012924242940704665\u001b[39m),\n",
       "        \u001b[33mWeighted\u001b[39m(\u001b[32meqM(mul(n)(n))(mul(mul(n)(n))(n))\u001b[39m, \u001b[32m1.6089700563711417E-5\u001b[39m),\n",
       "        \u001b[33mWeighted\u001b[39m(\n",
       "          \u001b[32meqM(mul(mul(mul(m)(n))(mul(m)(n)))(mul(m)(n)))(mul(mul(m)(n))(n))\u001b[39m,\n",
       "          \u001b[32m2.5691581679902662E-5\u001b[39m\n",
       "        ),\n",
       "        \u001b[33mWeighted\u001b[39m(\n",
       "          \u001b[32meqM(mul(n)(n))(mul(mul(m)(mul(m)(n)))(mul(m)(n)))\u001b[39m,\n",
       "          \u001b[32m2.5691581679902662E-5\u001b[39m\n",
       "        ),\n",
       "        \u001b[33mWeighted\u001b[39m(\n",
       "          \u001b[32meqM(mul(n)(mul(m)(n)))(mul(n)(mul(n)(m)))\u001b[39m,\n",
       "          \u001b[32m8.623107692266906E-5\u001b[39m\n",
       "        ),\n",
       "        \u001b[33mWeighted\u001b[39m(\n",
       "          \u001b[32meqM(mul(mul(n)(m))(mul(m)(n)))(mul(mul(m)(n))(n))\u001b[39m,\n",
       "          \u001b[32m2.5691581679902662E-5\u001b[39m\n",
       "        ),\n",
       "        \u001b[33mWeighted\u001b[39m(\n",
       "          \u001b[32meqM(mul(mul(m)(n))(mul(n)(n)))(mul(m)(mul(m)(n)))\u001b[39m,\n",
       "          \u001b[32m9.520501275961725E-5\u001b[39m\n",
       "        ),\n",
       "        \u001b[33mWeighted\u001b[39m(\n",
       "          \u001b[32meqM(mul(m)(mul(mul(m)(n))(mul(m)(n))))(mul(m)(n))\u001b[39m,\n",
       "          \u001b[32m2.632062558832602E-4\u001b[39m\n",
       "        ),\n",
       "        \u001b[33mWeighted\u001b[39m(\n",
       "          \u001b[32meqM(mul(mul(m)(n))(mul(mul(m)(n))(m)))(mul(n)(n))\u001b[39m,\n",
       "          \u001b[32m8.773127367768097E-5\u001b[39m\n",
       "..."
      ]
     },
     "execution_count": 46,
     "metadata": {},
     "output_type": "execute_result"
    }
   ],
   "source": [
    "typs6F.value"
   ]
  },
  {
   "cell_type": "code",
   "execution_count": 47,
   "metadata": {},
   "outputs": [
    {
     "data": {
      "text/plain": [
       "\u001b[36mc6T\u001b[39m: \u001b[32mmonix\u001b[39m.\u001b[32meval\u001b[39m.\u001b[32mTask\u001b[39m[\u001b[32mSet\u001b[39m[(\u001b[32mTyp\u001b[39m[\u001b[32mTerm\u001b[39m], \u001b[32mDouble\u001b[39m)]] = \u001b[33mAsync\u001b[39m(\n",
       "  <function2>,\n",
       "  false,\n",
       "  true,\n",
       "  true\n",
       ")"
      ]
     },
     "execution_count": 47,
     "metadata": {},
     "output_type": "execute_result"
    }
   ],
   "source": [
    "val c6T = typs6T.map(typs => claims.map(c => c -> typs(c))).memoize"
   ]
  },
  {
   "cell_type": "code",
   "execution_count": 48,
   "metadata": {},
   "outputs": [
    {
     "data": {
      "text/html": [
       "<div class=\"jp-RenderedText\">\n",
       "<pre><code><span style=\"color: rgb(0, 187, 187)\"><span class=\"ansi-cyan-fg\">c6F</span></span>: <span style=\"color: rgb(0, 187, 0)\"><span class=\"ansi-green-fg\">monix</span></span>.<span style=\"color: rgb(0, 187, 0)\"><span class=\"ansi-green-fg\">execution</span></span>.<span style=\"color: rgb(0, 187, 0)\"><span class=\"ansi-green-fg\">CancelableFuture</span></span>[<span style=\"color: rgb(0, 187, 0)\"><span class=\"ansi-green-fg\">Set</span></span>[(<span style=\"color: rgb(0, 187, 0)\"><span class=\"ansi-green-fg\">Typ</span></span>[<span style=\"color: rgb(0, 187, 0)\"><span class=\"ansi-green-fg\">Term</span></span>], <span style=\"color: rgb(0, 187, 0)\"><span class=\"ansi-green-fg\">Double</span></span>)]] = <span style=\"color: rgb(0, 187, 0)\"><span class=\"ansi-green-fg\"><style>@keyframes fadein { from { opacity: 0; } to { opacity: 1; } }</style><span style=\"animation: fadein 2s;\"><span style=\"color: yellow\"><span class=\"ansi-yellow-fg\">Success</span></span>(\n",
       "  <span style=\"color: yellow\"><span class=\"ansi-yellow-fg\">Set</span></span>(\n",
       "    (<span style=\"color: rgb(0, 187, 0)\"><span class=\"ansi-green-fg\">eqM(mul(m)(n))(mul(n)(m))</span></span>, <span style=\"color: rgb(0, 187, 0)\"><span class=\"ansi-green-fg\">0.0012905365662035683</span></span>),\n",
       "    (<span style=\"color: rgb(0, 187, 0)\"><span class=\"ansi-green-fg\">eqM(mul(mul(m)(n))(n))(m)</span></span>, <span style=\"color: rgb(0, 187, 0)\"><span class=\"ansi-green-fg\">0.0010150581919824784</span></span>),\n",
       "    (<span style=\"color: rgb(0, 187, 0)\"><span class=\"ansi-green-fg\">eqM(mul(mul(mul(m)(n))(m))(m))(mul(n)(m))</span></span>, <span style=\"color: rgb(0, 187, 0)\"><span class=\"ansi-green-fg\">1.6089700563711417E-5</span></span>),\n",
       "    (\n",
       "      <span style=\"color: rgb(0, 187, 0)\"><span class=\"ansi-green-fg\">eqM(mul(mul(m)(n))(m))(mul(mul(m)(n))(mul(mul(m)(n))(n)))</span></span>,\n",
       "      <span style=\"color: rgb(0, 187, 0)\"><span class=\"ansi-green-fg\">8.776016831397128E-5</span></span>\n",
       "    ),\n",
       "    (<span style=\"color: rgb(0, 187, 0)\"><span class=\"ansi-green-fg\">eqM(m)(mul(mul(m)(n))(n))</span></span>, <span style=\"color: rgb(0, 187, 0)\"><span class=\"ansi-green-fg\">0.0010150581919824784</span></span>),\n",
       "    (<span style=\"color: rgb(0, 187, 0)\"><span class=\"ansi-green-fg\">eqM(mul(mul(m)(n))(m))(n)</span></span>, <span style=\"color: rgb(0, 187, 0)\"><span class=\"ansi-green-fg\">0.0010150581919824784</span></span>),\n",
       "    (<span style=\"color: rgb(0, 187, 0)\"><span class=\"ansi-green-fg\">eqM(mul(mul(mul(m)(n))(m))(m))(mul(m)(n))</span></span>, <span style=\"color: rgb(0, 187, 0)\"><span class=\"ansi-green-fg\">4.662954285042145E-5</span></span>),\n",
       "    (<span style=\"color: rgb(0, 187, 0)\"><span class=\"ansi-green-fg\">eqM(n)(mul(mul(m)(n))(mul(mul(m)(n))(n)))</span></span>, <span style=\"color: rgb(0, 187, 0)\"><span class=\"ansi-green-fg\">1.8819645413126874E-4</span></span>)\n",
       "  )\n",
       ")</span></span></span></code></pre>\n",
       "</div>"
      ],
      "text/plain": [
       "\u001b[36mc6F\u001b[39m: \u001b[32mmonix\u001b[39m.\u001b[32mexecution\u001b[39m.\u001b[32mCancelableFuture\u001b[39m[\u001b[32mSet\u001b[39m[(\u001b[32mTyp\u001b[39m[\u001b[32mTerm\u001b[39m], \u001b[32mDouble\u001b[39m)]] = \u001b[32m\u001b[33mSuccess\u001b[39m(\n",
       "  \u001b[33mSet\u001b[39m(\n",
       "    (\u001b[32meqM(mul(m)(n))(mul(n)(m))\u001b[39m, \u001b[32m0.0012905365662035683\u001b[39m),\n",
       "    (\u001b[32meqM(mul(mul(m)(n))(n))(m)\u001b[39m, \u001b[32m0.0010150581919824784\u001b[39m),\n",
       "    (\u001b[32meqM(mul(mul(mul(m)(n))(m))(m))(mul(n)(m))\u001b[39m, \u001b[32m1.6089700563711417E-5\u001b[39m),\n",
       "    (\n",
       "      \u001b[32meqM(mul(mul(m)(n))(m))(mul(mul(m)(n))(mul(mul(m)(n))(n)))\u001b[39m,\n",
       "      \u001b[32m8.776016831397128E-5\u001b[39m\n",
       "    ),\n",
       "    (\u001b[32meqM(m)(mul(mul(m)(n))(n))\u001b[39m, \u001b[32m0.0010150581919824784\u001b[39m),\n",
       "    (\u001b[32meqM(mul(mul(m)(n))(m))(n)\u001b[39m, \u001b[32m0.0010150581919824784\u001b[39m),\n",
       "    (\u001b[32meqM(mul(mul(mul(m)(n))(m))(m))(mul(m)(n))\u001b[39m, \u001b[32m4.662954285042145E-5\u001b[39m),\n",
       "    (\u001b[32meqM(n)(mul(mul(m)(n))(mul(mul(m)(n))(n)))\u001b[39m, \u001b[32m1.8819645413126874E-4\u001b[39m)\n",
       "  )\n",
       ")\u001b[39m"
      ]
     },
     "metadata": {},
     "output_type": "display_data"
    }
   ],
   "source": [
    "val c6F = c6T.runToFuture"
   ]
  },
  {
   "cell_type": "markdown",
   "metadata": {},
   "source": [
    "## Final conclusion\n",
    "\n",
    "* After all this persuasion and fairly long running time (but less than the 12 minute timeout), we get the statements of all theorems."
   ]
  }
 ],
 "metadata": {
  "kernelspec": {
   "display_name": "Scala",
   "language": "scala",
   "name": "scala"
  },
  "language_info": {
   "codemirror_mode": "text/x-scala",
   "file_extension": ".scala",
   "mimetype": "text/x-scala",
   "name": "scala",
   "nbconvert_exporter": "script",
   "version": "2.12.8"
  }
 },
 "nbformat": 4,
 "nbformat_minor": 4
}
