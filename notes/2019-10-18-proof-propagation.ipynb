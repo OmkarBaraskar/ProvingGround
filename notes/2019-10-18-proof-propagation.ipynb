{
 "cells": [
  {
   "cell_type": "markdown",
   "metadata": {},
   "source": [
    "## Proof propagation\n",
    "\n",
    "We have used the proofs of lemmas, but not the terms in the proofs. We test these in the monoid case."
   ]
  },
  {
   "cell_type": "code",
   "execution_count": 1,
   "metadata": {},
   "outputs": [
    {
     "data": {
      "text/plain": [
       "\u001b[32mimport \u001b[39m\u001b[36m$cp.$                                              \n",
       "\u001b[39m\n",
       "\u001b[32mimport \u001b[39m\u001b[36mprovingground._ , interface._, HoTT._, learning._ \n",
       "\u001b[39m"
      ]
     },
     "execution_count": 1,
     "metadata": {},
     "output_type": "execute_result"
    }
   ],
   "source": [
    "import $cp.bin.`provingground-core-jvm-2932e539da.fat.jar`\n",
    "import provingground._ , interface._, HoTT._, learning._ \n",
    "repl.pprinter() = {\n",
    "  val p = repl.pprinter()\n",
    "  p.copy(\n",
    "    additionalHandlers = p.additionalHandlers.orElse {\n",
    "      translation.FansiShow.fansiHandler\n",
    "    }\n",
    "  )\n",
    "}\n"
   ]
  },
  {
   "cell_type": "code",
   "execution_count": 2,
   "metadata": {},
   "outputs": [
    {
     "data": {
      "text/plain": [
       "\u001b[36mtg1\u001b[39m: \u001b[32mTermGenParams\u001b[39m = \u001b[33mTermGenParams\u001b[39m(\n",
       "  \u001b[32m0.1\u001b[39m,\n",
       "  \u001b[32m0.1\u001b[39m,\n",
       "  \u001b[32m0.0\u001b[39m,\n",
       "  \u001b[32m0.0\u001b[39m,\n",
       "  \u001b[32m0.0\u001b[39m,\n",
       "  \u001b[32m0.0\u001b[39m,\n",
       "  \u001b[32m0.0\u001b[39m,\n",
       "  \u001b[32m0.0\u001b[39m,\n",
       "  \u001b[32m0.0\u001b[39m,\n",
       "  \u001b[32m0.0\u001b[39m,\n",
       "  \u001b[32m0.0\u001b[39m,\n",
       "  \u001b[32m0.0\u001b[39m,\n",
       "  \u001b[32m0.3\u001b[39m,\n",
       "  \u001b[32m0.7\u001b[39m,\n",
       "  \u001b[32m0.5\u001b[39m,\n",
       "  \u001b[32m0.0\u001b[39m,\n",
       "  \u001b[32m0.0\u001b[39m,\n",
       "  \u001b[32m0.0\u001b[39m\n",
       ")\n",
       "\u001b[32mimport \u001b[39m\u001b[36mlibrary._, MonoidSimple._\n",
       "\u001b[39m\n",
       "\u001b[36mts\u001b[39m: \u001b[32mTermState\u001b[39m = \u001b[33mTermState\u001b[39m(\n",
       "  \u001b[33mFiniteDistribution\u001b[39m(\n",
       "    \u001b[33mVector\u001b[39m(\n",
       "      \u001b[33mWeighted\u001b[39m(\u001b[32me_l\u001b[39m, \u001b[32m0.047619047619047616\u001b[39m),\n",
       "      \u001b[33mWeighted\u001b[39m(\u001b[32me_r\u001b[39m, \u001b[32m0.047619047619047616\u001b[39m),\n",
       "      \u001b[33mWeighted\u001b[39m(\u001b[32mmul\u001b[39m, \u001b[32m0.047619047619047616\u001b[39m),\n",
       "      \u001b[33mWeighted\u001b[39m(\u001b[32meqM\u001b[39m, \u001b[32m0.047619047619047616\u001b[39m),\n",
       "      \u001b[33mWeighted\u001b[39m(\u001b[32maxiom_{eqM(a)(a)}\u001b[39m, \u001b[32m0.047619047619047616\u001b[39m),\n",
       "      \u001b[33mWeighted\u001b[39m(\u001b[32maxiom_{(eqM(a)(b) \\to eqM(b)(a))}\u001b[39m, \u001b[32m0.047619047619047616\u001b[39m),\n",
       "      \u001b[33mWeighted\u001b[39m(\n",
       "        \u001b[32maxiom_{(eqM(a)(b) \\to (eqM(b)(c) \\to eqM(a)(c)))}\u001b[39m,\n",
       "        \u001b[32m0.047619047619047616\u001b[39m\n",
       "      ),\n",
       "      \u001b[33mWeighted\u001b[39m(\u001b[32maxiom_{eqM(mul(e_l)(a))(a)}\u001b[39m, \u001b[32m0.047619047619047616\u001b[39m),\n",
       "      \u001b[33mWeighted\u001b[39m(\u001b[32maxiom_{eqM(mul(a)(e_r))(a)}\u001b[39m, \u001b[32m0.047619047619047616\u001b[39m),\n",
       "      \u001b[33mWeighted\u001b[39m(\u001b[32meqM\u001b[39m, \u001b[32m0.2857142857142857\u001b[39m),\n",
       "      \u001b[33mWeighted\u001b[39m(\u001b[32mmul\u001b[39m, \u001b[32m0.2857142857142857\u001b[39m)\n",
       "    )\n",
       "  ),\n",
       "  \u001b[33mFiniteDistribution\u001b[39m(\n",
       "    \u001b[33mVector\u001b[39m(\n",
       "      \u001b[33mWeighted\u001b[39m(\u001b[32mM\u001b[39m, \u001b[32m0.047619047619047616\u001b[39m),\n",
       "      \u001b[33mWeighted\u001b[39m(\u001b[32mM\u001b[39m, \u001b[32m0.047619047619047616\u001b[39m),\n",
       "      \u001b[33mWeighted\u001b[39m(\u001b[32m(M → (M → M))\u001b[39m, \u001b[32m0.047619047619047616\u001b[39m),\n",
       "      \u001b[33mWeighted\u001b[39m(\u001b[32m(M → (M → 𝒰 ))\u001b[39m, \u001b[32m0.047619047619047616\u001b[39m),\n",
       "      \u001b[33mWeighted\u001b[39m(\u001b[32m∏(a : M){ eqM(a)(a) }\u001b[39m, \u001b[32m0.047619047619047616\u001b[39m),\n",
       "      \u001b[33mWeighted\u001b[39m(\n",
       "        \u001b[32m∏(a : M){ ∏(b : M){ (eqM(a)(b) → eqM(b)(a)) } }\u001b[39m,\n",
       "        \u001b[32m0.047619047619047616\u001b[39m\n",
       "      ),\n",
       "      \u001b[33mWeighted\u001b[39m(\n",
       "        \u001b[32m∏(a : M){ ∏(b : M){ ∏(c : M){ (eqM(a)(b) → (eqM(b)(c) → eqM(a)(c))) } } }\u001b[39m,\n",
       "        \u001b[32m0.047619047619047616\u001b[39m\n",
       "      ),\n",
       "      \u001b[33mWeighted\u001b[39m(\u001b[32m∏(a : M){ eqM(mul(e_l)(a))(a) }\u001b[39m, \u001b[32m0.047619047619047616\u001b[39m),\n",
       "      \u001b[33mWeighted\u001b[39m(\u001b[32m∏(a : M){ eqM(mul(a)(e_r))(a) }\u001b[39m, \u001b[32m0.047619047619047616\u001b[39m),\n",
       "      \u001b[33mWeighted\u001b[39m(\u001b[32m(M → (M → 𝒰 ))\u001b[39m, \u001b[32m0.2857142857142857\u001b[39m),\n",
       "      \u001b[33mWeighted\u001b[39m(\u001b[32m(M → (M → M))\u001b[39m, \u001b[32m0.2857142857142857\u001b[39m)\n",
       "...\n",
       "\u001b[36mlp1\u001b[39m: \u001b[32mLocalProver\u001b[39m = \u001b[33mLocalProver\u001b[39m(\n",
       "  \u001b[33mTermState\u001b[39m(\n",
       "    \u001b[33mFiniteDistribution\u001b[39m(\n",
       "      \u001b[33mVector\u001b[39m(\n",
       "        \u001b[33mWeighted\u001b[39m(\u001b[32me_l\u001b[39m, \u001b[32m0.047619047619047616\u001b[39m),\n",
       "        \u001b[33mWeighted\u001b[39m(\u001b[32me_r\u001b[39m, \u001b[32m0.047619047619047616\u001b[39m),\n",
       "        \u001b[33mWeighted\u001b[39m(\u001b[32mmul\u001b[39m, \u001b[32m0.047619047619047616\u001b[39m),\n",
       "        \u001b[33mWeighted\u001b[39m(\u001b[32meqM\u001b[39m, \u001b[32m0.047619047619047616\u001b[39m),\n",
       "        \u001b[33mWeighted\u001b[39m(\u001b[32maxiom_{eqM(a)(a)}\u001b[39m, \u001b[32m0.047619047619047616\u001b[39m),\n",
       "        \u001b[33mWeighted\u001b[39m(\u001b[32maxiom_{(eqM(a)(b) \\to eqM(b)(a))}\u001b[39m, \u001b[32m0.047619047619047616\u001b[39m),\n",
       "        \u001b[33mWeighted\u001b[39m(\n",
       "          \u001b[32maxiom_{(eqM(a)(b) \\to (eqM(b)(c) \\to eqM(a)(c)))}\u001b[39m,\n",
       "          \u001b[32m0.047619047619047616\u001b[39m\n",
       "        ),\n",
       "        \u001b[33mWeighted\u001b[39m(\u001b[32maxiom_{eqM(mul(e_l)(a))(a)}\u001b[39m, \u001b[32m0.047619047619047616\u001b[39m),\n",
       "        \u001b[33mWeighted\u001b[39m(\u001b[32maxiom_{eqM(mul(a)(e_r))(a)}\u001b[39m, \u001b[32m0.047619047619047616\u001b[39m),\n",
       "        \u001b[33mWeighted\u001b[39m(\u001b[32meqM\u001b[39m, \u001b[32m0.2857142857142857\u001b[39m),\n",
       "        \u001b[33mWeighted\u001b[39m(\u001b[32mmul\u001b[39m, \u001b[32m0.2857142857142857\u001b[39m)\n",
       "      )\n",
       "    ),\n",
       "    \u001b[33mFiniteDistribution\u001b[39m(\n",
       "      \u001b[33mVector\u001b[39m(\n",
       "        \u001b[33mWeighted\u001b[39m(\u001b[32mM\u001b[39m, \u001b[32m0.047619047619047616\u001b[39m),\n",
       "        \u001b[33mWeighted\u001b[39m(\u001b[32mM\u001b[39m, \u001b[32m0.047619047619047616\u001b[39m),\n",
       "        \u001b[33mWeighted\u001b[39m(\u001b[32m(M → (M → M))\u001b[39m, \u001b[32m0.047619047619047616\u001b[39m),\n",
       "        \u001b[33mWeighted\u001b[39m(\u001b[32m(M → (M → 𝒰 ))\u001b[39m, \u001b[32m0.047619047619047616\u001b[39m),\n",
       "        \u001b[33mWeighted\u001b[39m(\u001b[32m∏(a : M){ eqM(a)(a) }\u001b[39m, \u001b[32m0.047619047619047616\u001b[39m),\n",
       "        \u001b[33mWeighted\u001b[39m(\n",
       "          \u001b[32m∏(a : M){ ∏(b : M){ (eqM(a)(b) → eqM(b)(a)) } }\u001b[39m,\n",
       "          \u001b[32m0.047619047619047616\u001b[39m\n",
       "        ),\n",
       "        \u001b[33mWeighted\u001b[39m(\n",
       "          \u001b[32m∏(a : M){ ∏(b : M){ ∏(c : M){ (eqM(a)(b) → (eqM(b)(c) → eqM(a)(c))) } } }\u001b[39m,\n",
       "          \u001b[32m0.047619047619047616\u001b[39m\n",
       "        ),\n",
       "        \u001b[33mWeighted\u001b[39m(\u001b[32m∏(a : M){ eqM(mul(e_l)(a))(a) }\u001b[39m, \u001b[32m0.047619047619047616\u001b[39m),\n",
       "        \u001b[33mWeighted\u001b[39m(\u001b[32m∏(a : M){ eqM(mul(a)(e_r))(a) }\u001b[39m, \u001b[32m0.047619047619047616\u001b[39m),\n",
       "        \u001b[33mWeighted\u001b[39m(\u001b[32m(M → (M → 𝒰 ))\u001b[39m, \u001b[32m0.2857142857142857\u001b[39m),\n",
       "..."
      ]
     },
     "execution_count": 2,
     "metadata": {},
     "output_type": "execute_result"
    }
   ],
   "source": [
    "val tg1 = TermGenParams.zero.copy(appW = 0.1, unAppW = 0.1)\n",
    "import library._, MonoidSimple._\n",
    "val ts = TermState(dist1, dist1.map(_.typ))\n",
    "val lp1 = LocalProver(ts, tg1)"
   ]
  },
  {
   "cell_type": "code",
   "execution_count": 4,
   "metadata": {},
   "outputs": [
    {
     "data": {
      "text/html": [
       "<div class=\"jp-RenderedText\">\n",
       "<pre><code><span style=\"color: rgb(0, 187, 0)\"><span class=\"ansi-green-fg\">import </span></span><span style=\"color: rgb(0, 187, 187)\"><span class=\"ansi-cyan-fg\">monix.execution.Scheduler.Implicits.global \n",
       "</span></span>\n",
       "<span style=\"color: rgb(0, 187, 187)\"><span class=\"ansi-cyan-fg\">lemT1</span></span>: <span style=\"color: rgb(0, 187, 0)\"><span class=\"ansi-green-fg\">monix</span></span>.<span style=\"color: rgb(0, 187, 0)\"><span class=\"ansi-green-fg\">eval</span></span>.<span style=\"color: rgb(0, 187, 0)\"><span class=\"ansi-green-fg\">Task</span></span>[<span style=\"color: rgb(0, 187, 0)\"><span class=\"ansi-green-fg\">Vector</span></span>[(<span style=\"color: rgb(0, 187, 0)\"><span class=\"ansi-green-fg\">Typ</span></span>[<span style=\"color: rgb(0, 187, 0)\"><span class=\"ansi-green-fg\">Term</span></span>], <span style=\"color: rgb(0, 187, 0)\"><span class=\"ansi-green-fg\">Double</span></span>)]] = <span style=\"color: yellow\"><span class=\"ansi-yellow-fg\">Async</span></span>(\n",
       "  &lt;function2&gt;,\n",
       "  false,\n",
       "  true,\n",
       "  true\n",
       ")\n",
       "<span style=\"color: rgb(0, 187, 187)\"><span class=\"ansi-cyan-fg\">res3_2</span></span>: <span style=\"color: rgb(0, 187, 0)\"><span class=\"ansi-green-fg\">monix</span></span>.<span style=\"color: rgb(0, 187, 0)\"><span class=\"ansi-green-fg\">execution</span></span>.<span style=\"color: rgb(0, 187, 0)\"><span class=\"ansi-green-fg\">CancelableFuture</span></span>[<span style=\"color: rgb(0, 187, 0)\"><span class=\"ansi-green-fg\">Vector</span></span>[(<span style=\"color: rgb(0, 187, 0)\"><span class=\"ansi-green-fg\">Typ</span></span>[<span style=\"color: rgb(0, 187, 0)\"><span class=\"ansi-green-fg\">Term</span></span>], <span style=\"color: rgb(0, 187, 0)\"><span class=\"ansi-green-fg\">Double</span></span>)]] = <span style=\"color: rgb(0, 187, 0)\"><span class=\"ansi-green-fg\"><style>@keyframes fadein { from { opacity: 0; } to { opacity: 1; } }</style><span style=\"animation: fadein 2s;\"><span style=\"color: yellow\"><span class=\"ansi-yellow-fg\">Success</span></span>(\n",
       "  <span style=\"color: yellow\"><span class=\"ansi-yellow-fg\">Vector</span></span>(\n",
       "    (<span style=\"color: rgb(0, 187, 0)\"><span class=\"ansi-green-fg\">eqM(e_r)(e_r)</span></span>, <span style=\"color: rgb(0, 187, 0)\"><span class=\"ansi-green-fg\">0.0027509184472828325</span></span>),\n",
       "    (<span style=\"color: rgb(0, 187, 0)\"><span class=\"ansi-green-fg\">eqM(e_l)(e_l)</span></span>, <span style=\"color: rgb(0, 187, 0)\"><span class=\"ansi-green-fg\">0.0027509184472828325</span></span>),\n",
       "    (<span style=\"color: rgb(0, 187, 0)\"><span class=\"ansi-green-fg\">eqM(e_l)(mul(e_l)(e_r))</span></span>, <span style=\"color: rgb(0, 187, 0)\"><span class=\"ansi-green-fg\">0.0012526844961492322</span></span>),\n",
       "    (<span style=\"color: rgb(0, 187, 0)\"><span class=\"ansi-green-fg\">eqM(e_l)(mul(e_l)(e_l))</span></span>, <span style=\"color: rgb(0, 187, 0)\"><span class=\"ansi-green-fg\">0.0012526844961492322</span></span>),\n",
       "    (<span style=\"color: rgb(0, 187, 0)\"><span class=\"ansi-green-fg\">eqM(e_r)(mul(e_l)(e_r))</span></span>, <span style=\"color: rgb(0, 187, 0)\"><span class=\"ansi-green-fg\">0.0012526844961492322</span></span>),\n",
       "    (<span style=\"color: rgb(0, 187, 0)\"><span class=\"ansi-green-fg\">eqM(e_r)(mul(e_r)(e_r))</span></span>, <span style=\"color: rgb(0, 187, 0)\"><span class=\"ansi-green-fg\">0.0012526844961492322</span></span>)\n",
       "  )\n",
       ")</span></span></span></code></pre>\n",
       "</div>"
      ],
      "text/plain": [
       "\u001b[32mimport \u001b[39m\u001b[36mmonix.execution.Scheduler.Implicits.global \n",
       "\u001b[39m\n",
       "\u001b[36mlemT1\u001b[39m: \u001b[32mmonix\u001b[39m.\u001b[32meval\u001b[39m.\u001b[32mTask\u001b[39m[\u001b[32mVector\u001b[39m[(\u001b[32mTyp\u001b[39m[\u001b[32mTerm\u001b[39m], \u001b[32mDouble\u001b[39m)]] = \u001b[33mAsync\u001b[39m(\n",
       "  <function2>,\n",
       "  false,\n",
       "  true,\n",
       "  true\n",
       ")\n",
       "\u001b[36mres3_2\u001b[39m: \u001b[32mmonix\u001b[39m.\u001b[32mexecution\u001b[39m.\u001b[32mCancelableFuture\u001b[39m[\u001b[32mVector\u001b[39m[(\u001b[32mTyp\u001b[39m[\u001b[32mTerm\u001b[39m], \u001b[32mDouble\u001b[39m)]] = \u001b[32m\u001b[33mSuccess\u001b[39m(\n",
       "  \u001b[33mVector\u001b[39m(\n",
       "    (\u001b[32meqM(e_r)(e_r)\u001b[39m, \u001b[32m0.0027509184472828325\u001b[39m),\n",
       "    (\u001b[32meqM(e_l)(e_l)\u001b[39m, \u001b[32m0.0027509184472828325\u001b[39m),\n",
       "    (\u001b[32meqM(e_l)(mul(e_l)(e_r))\u001b[39m, \u001b[32m0.0012526844961492322\u001b[39m),\n",
       "    (\u001b[32meqM(e_l)(mul(e_l)(e_l))\u001b[39m, \u001b[32m0.0012526844961492322\u001b[39m),\n",
       "    (\u001b[32meqM(e_r)(mul(e_l)(e_r))\u001b[39m, \u001b[32m0.0012526844961492322\u001b[39m),\n",
       "    (\u001b[32meqM(e_r)(mul(e_r)(e_r))\u001b[39m, \u001b[32m0.0012526844961492322\u001b[39m)\n",
       "  )\n",
       ")\u001b[39m"
      ]
     },
     "metadata": {},
     "output_type": "display_data"
    }
   ],
   "source": [
    "import monix.execution.Scheduler.Implicits.global \n",
    "val lemT1 = lp1.lemmas.memoize\n",
    "lemT1.runToFuture"
   ]
  },
  {
   "cell_type": "code",
   "execution_count": 5,
   "metadata": {},
   "outputs": [
    {
     "data": {
      "text/html": [
       "<div class=\"jp-RenderedText\">\n",
       "<pre><code><span style=\"color: rgb(0, 187, 187)\"><span class=\"ansi-cyan-fg\">pfsT</span></span>: <span style=\"color: rgb(0, 187, 0)\"><span class=\"ansi-green-fg\">monix</span></span>.<span style=\"color: rgb(0, 187, 0)\"><span class=\"ansi-green-fg\">eval</span></span>.<span style=\"color: rgb(0, 187, 0)\"><span class=\"ansi-green-fg\">Task</span></span>[<span style=\"color: rgb(0, 187, 0)\"><span class=\"ansi-green-fg\">FiniteDistribution</span></span>[<span style=\"color: rgb(0, 187, 0)\"><span class=\"ansi-green-fg\">Term</span></span>]] = <span style=\"color: yellow\"><span class=\"ansi-yellow-fg\">FlatMap</span></span>(\n",
       "  <span style=\"color: yellow\"><span class=\"ansi-yellow-fg\">Async</span></span>(&lt;function2&gt;, false, true, true),\n",
       "  provingground.learning.LocalProverStep$$Lambda$2953/810352088@4a685dd8\n",
       ")\n",
       "<span style=\"color: rgb(0, 187, 187)\"><span class=\"ansi-cyan-fg\">res4_1</span></span>: <span style=\"color: rgb(0, 187, 0)\"><span class=\"ansi-green-fg\">monix</span></span>.<span style=\"color: rgb(0, 187, 0)\"><span class=\"ansi-green-fg\">execution</span></span>.<span style=\"color: rgb(0, 187, 0)\"><span class=\"ansi-green-fg\">CancelableFuture</span></span>[<span style=\"color: rgb(0, 187, 0)\"><span class=\"ansi-green-fg\">FiniteDistribution</span></span>[<span style=\"color: rgb(0, 187, 0)\"><span class=\"ansi-green-fg\">Term</span></span>]] = <span style=\"color: rgb(0, 187, 0)\"><span class=\"ansi-green-fg\"><style>@keyframes fadein { from { opacity: 0; } to { opacity: 1; } }</style><span style=\"animation: fadein 2s;\"><span style=\"color: yellow\"><span class=\"ansi-yellow-fg\">Success</span></span>(\n",
       "  <span style=\"color: yellow\"><span class=\"ansi-yellow-fg\">FiniteDistribution</span></span>(\n",
       "    <span style=\"color: yellow\"><span class=\"ansi-yellow-fg\">Vector</span></span>(\n",
       "      <span style=\"color: yellow\"><span class=\"ansi-yellow-fg\">Weighted</span></span>(<span style=\"color: rgb(0, 187, 0)\"><span class=\"ansi-green-fg\">axiom_{eqM(a)(a)}(e_r)</span></span>, <span style=\"color: rgb(0, 187, 0)\"><span class=\"ansi-green-fg\">0.0025589063334613047</span></span>),\n",
       "      <span style=\"color: yellow\"><span class=\"ansi-yellow-fg\">Weighted</span></span>(\n",
       "        <span style=\"color: rgb(0, 187, 0)\"><span class=\"ansi-green-fg\">axiom_{(eqM(a)(b) \\to eqM(b)(a))}(e_r)(e_r)(axiom_{eqM(a)(a)}(e_r))</span></span>,\n",
       "        <span style=\"color: rgb(0, 187, 0)\"><span class=\"ansi-green-fg\">1.920121138215279E-4</span></span>\n",
       "      ),\n",
       "      <span style=\"color: yellow\"><span class=\"ansi-yellow-fg\">Weighted</span></span>(<span style=\"color: rgb(0, 187, 0)\"><span class=\"ansi-green-fg\">axiom_{eqM(a)(a)}(e_l)</span></span>, <span style=\"color: rgb(0, 187, 0)\"><span class=\"ansi-green-fg\">0.0025589063334613047</span></span>),\n",
       "      <span style=\"color: yellow\"><span class=\"ansi-yellow-fg\">Weighted</span></span>(\n",
       "        <span style=\"color: rgb(0, 187, 0)\"><span class=\"ansi-green-fg\">axiom_{(eqM(a)(b) \\to eqM(b)(a))}(e_l)(e_l)(axiom_{eqM(a)(a)}(e_l))</span></span>,\n",
       "        <span style=\"color: rgb(0, 187, 0)\"><span class=\"ansi-green-fg\">1.920121138215279E-4</span></span>\n",
       "      ),\n",
       "      <span style=\"color: yellow\"><span class=\"ansi-yellow-fg\">Weighted</span></span>(\n",
       "        <span style=\"color: rgb(0, 187, 0)\"><span class=\"ansi-green-fg\">axiom_{(eqM(a)(b) \\to eqM(b)(a))}(mul(e_l)(e_r))(e_l)(axiom_{eqM(mul(a)(e_r))(a)}(e_l))</span></span>,\n",
       "        <span style=\"color: rgb(0, 187, 0)\"><span class=\"ansi-green-fg\">0.0012526844961492322</span></span>\n",
       "      ),\n",
       "      <span style=\"color: yellow\"><span class=\"ansi-yellow-fg\">Weighted</span></span>(\n",
       "        <span style=\"color: rgb(0, 187, 0)\"><span class=\"ansi-green-fg\">axiom_{(eqM(a)(b) \\to eqM(b)(a))}(mul(e_l)(e_l))(e_l)(axiom_{eqM(mul(e_l)(a))(a)}(e_l))</span></span>,\n",
       "        <span style=\"color: rgb(0, 187, 0)\"><span class=\"ansi-green-fg\">0.0012526844961492322</span></span>\n",
       "      ),\n",
       "      <span style=\"color: yellow\"><span class=\"ansi-yellow-fg\">Weighted</span></span>(\n",
       "        <span style=\"color: rgb(0, 187, 0)\"><span class=\"ansi-green-fg\">axiom_{(eqM(a)(b) \\to eqM(b)(a))}(mul(e_l)(e_r))(e_r)(axiom_{eqM(mul(e_l)(a))(a)}(e_r))</span></span>,\n",
       "        <span style=\"color: rgb(0, 187, 0)\"><span class=\"ansi-green-fg\">0.0012526844961492322</span></span>\n",
       "      ),\n",
       "      <span style=\"color: yellow\"><span class=\"ansi-yellow-fg\">Weighted</span></span>(\n",
       "        <span style=\"color: rgb(0, 187, 0)\"><span class=\"ansi-green-fg\">axiom_{(eqM(a)(b) \\to eqM(b)(a))}(mul(e_r)(e_r))(e_r)(axiom_{eqM(mul(a)(e_r))(a)}(e_r))</span></span>,\n",
       "        <span style=\"color: rgb(0, 187, 0)\"><span class=\"ansi-green-fg\">0.0012526844961492322</span></span>\n",
       "      )\n",
       "    )\n",
       "  )\n",
       ")</span></span></span></code></pre>\n",
       "</div>"
      ],
      "text/plain": [
       "\u001b[36mpfsT\u001b[39m: \u001b[32mmonix\u001b[39m.\u001b[32meval\u001b[39m.\u001b[32mTask\u001b[39m[\u001b[32mFiniteDistribution\u001b[39m[\u001b[32mTerm\u001b[39m]] = \u001b[33mFlatMap\u001b[39m(\n",
       "  \u001b[33mAsync\u001b[39m(<function2>, false, true, true),\n",
       "  provingground.learning.LocalProverStep$$Lambda$2953/810352088@4a685dd8\n",
       ")\n",
       "\u001b[36mres4_1\u001b[39m: \u001b[32mmonix\u001b[39m.\u001b[32mexecution\u001b[39m.\u001b[32mCancelableFuture\u001b[39m[\u001b[32mFiniteDistribution\u001b[39m[\u001b[32mTerm\u001b[39m]] = \u001b[32m\u001b[33mSuccess\u001b[39m(\n",
       "  \u001b[33mFiniteDistribution\u001b[39m(\n",
       "    \u001b[33mVector\u001b[39m(\n",
       "      \u001b[33mWeighted\u001b[39m(\u001b[32maxiom_{eqM(a)(a)}(e_r)\u001b[39m, \u001b[32m0.0025589063334613047\u001b[39m),\n",
       "      \u001b[33mWeighted\u001b[39m(\n",
       "        \u001b[32maxiom_{(eqM(a)(b) \\to eqM(b)(a))}(e_r)(e_r)(axiom_{eqM(a)(a)}(e_r))\u001b[39m,\n",
       "        \u001b[32m1.920121138215279E-4\u001b[39m\n",
       "      ),\n",
       "      \u001b[33mWeighted\u001b[39m(\u001b[32maxiom_{eqM(a)(a)}(e_l)\u001b[39m, \u001b[32m0.0025589063334613047\u001b[39m),\n",
       "      \u001b[33mWeighted\u001b[39m(\n",
       "        \u001b[32maxiom_{(eqM(a)(b) \\to eqM(b)(a))}(e_l)(e_l)(axiom_{eqM(a)(a)}(e_l))\u001b[39m,\n",
       "        \u001b[32m1.920121138215279E-4\u001b[39m\n",
       "      ),\n",
       "      \u001b[33mWeighted\u001b[39m(\n",
       "        \u001b[32maxiom_{(eqM(a)(b) \\to eqM(b)(a))}(mul(e_l)(e_r))(e_l)(axiom_{eqM(mul(a)(e_r))(a)}(e_l))\u001b[39m,\n",
       "        \u001b[32m0.0012526844961492322\u001b[39m\n",
       "      ),\n",
       "      \u001b[33mWeighted\u001b[39m(\n",
       "        \u001b[32maxiom_{(eqM(a)(b) \\to eqM(b)(a))}(mul(e_l)(e_l))(e_l)(axiom_{eqM(mul(e_l)(a))(a)}(e_l))\u001b[39m,\n",
       "        \u001b[32m0.0012526844961492322\u001b[39m\n",
       "      ),\n",
       "      \u001b[33mWeighted\u001b[39m(\n",
       "        \u001b[32maxiom_{(eqM(a)(b) \\to eqM(b)(a))}(mul(e_l)(e_r))(e_r)(axiom_{eqM(mul(e_l)(a))(a)}(e_r))\u001b[39m,\n",
       "        \u001b[32m0.0012526844961492322\u001b[39m\n",
       "      ),\n",
       "      \u001b[33mWeighted\u001b[39m(\n",
       "        \u001b[32maxiom_{(eqM(a)(b) \\to eqM(b)(a))}(mul(e_r)(e_r))(e_r)(axiom_{eqM(mul(a)(e_r))(a)}(e_r))\u001b[39m,\n",
       "        \u001b[32m0.0012526844961492322\u001b[39m\n",
       "      )\n",
       "    )\n",
       "  )\n",
       ")\u001b[39m"
      ]
     },
     "metadata": {},
     "output_type": "display_data"
    }
   ],
   "source": [
    "val pfsT = lp1.lemmaProofs\n",
    "pfsT.runToFuture"
   ]
  },
  {
   "cell_type": "code",
   "execution_count": 7,
   "metadata": {},
   "outputs": [
    {
     "data": {
      "text/html": [
       "<div class=\"jp-RenderedText\">\n",
       "<pre><code><span style=\"color: rgb(0, 187, 187)\"><span class=\"ansi-cyan-fg\">pfTermsT</span></span>: <span style=\"color: rgb(0, 187, 0)\"><span class=\"ansi-green-fg\">monix</span></span>.<span style=\"color: rgb(0, 187, 0)\"><span class=\"ansi-green-fg\">eval</span></span>.<span style=\"color: rgb(0, 187, 0)\"><span class=\"ansi-green-fg\">Task</span></span>[<span style=\"color: rgb(0, 187, 0)\"><span class=\"ansi-green-fg\">Vector</span></span>[(<span style=\"color: rgb(0, 187, 0)\"><span class=\"ansi-green-fg\">Term</span></span>, <span style=\"color: rgb(0, 187, 0)\"><span class=\"ansi-green-fg\">Double</span></span>)]] = <span style=\"color: yellow\"><span class=\"ansi-yellow-fg\">FlatMap</span></span>(\n",
       "  <span style=\"color: yellow\"><span class=\"ansi-yellow-fg\">Map</span></span>(\n",
       "    <span style=\"color: yellow\"><span class=\"ansi-yellow-fg\">FlatMap</span></span>(\n",
       "      <span style=\"color: yellow\"><span class=\"ansi-yellow-fg\">Async</span></span>(&lt;function2&gt;, false, true, true),\n",
       "      provingground.learning.LocalProverStep$$Lambda$2953/810352088@4a685dd8\n",
       "    ),\n",
       "    provingground.learning.LocalProverStep$$Lambda$2975/1488281714@19136358,\n",
       "    <span style=\"color: rgb(0, 187, 0)\"><span class=\"ansi-green-fg\">0</span></span>\n",
       "  ),\n",
       "  provingground.learning.LocalProverStep$$Lambda$2976/661199252@209663db\n",
       ")\n",
       "<span style=\"color: rgb(0, 187, 187)\"><span class=\"ansi-cyan-fg\">res6_1</span></span>: <span style=\"color: rgb(0, 187, 0)\"><span class=\"ansi-green-fg\">monix</span></span>.<span style=\"color: rgb(0, 187, 0)\"><span class=\"ansi-green-fg\">execution</span></span>.<span style=\"color: rgb(0, 187, 0)\"><span class=\"ansi-green-fg\">CancelableFuture</span></span>[<span style=\"color: rgb(0, 187, 0)\"><span class=\"ansi-green-fg\">Vector</span></span>[(<span style=\"color: rgb(0, 187, 0)\"><span class=\"ansi-green-fg\">Term</span></span>, <span style=\"color: rgb(0, 187, 0)\"><span class=\"ansi-green-fg\">Double</span></span>)]] = <span style=\"color: rgb(0, 187, 0)\"><span class=\"ansi-green-fg\"><style>@keyframes fadein { from { opacity: 0; } to { opacity: 1; } }</style><span style=\"animation: fadein 2s;\"><span style=\"color: yellow\"><span class=\"ansi-yellow-fg\">Success</span></span>(\n",
       "  <span style=\"color: yellow\"><span class=\"ansi-yellow-fg\">Vector</span></span>(\n",
       "    (\n",
       "      <span style=\"color: rgb(0, 187, 0)\"><span class=\"ansi-green-fg\">axiom_{(eqM(a)(b) \\to eqM(b)(a))}(mul(e_l)(e_l))(e_l)(axiom_{eqM(mul(e_l)(a))(a)}(e_l))</span></span>,\n",
       "      <span style=\"color: rgb(0, 187, 0)\"><span class=\"ansi-green-fg\">0.0012526844961492322</span></span>\n",
       "    ),\n",
       "    (<span style=\"color: rgb(0, 187, 0)\"><span class=\"ansi-green-fg\">axiom_{eqM(a)(a)}(e_r)</span></span>, <span style=\"color: rgb(0, 187, 0)\"><span class=\"ansi-green-fg\">0.0025589063334613047</span></span>),\n",
       "    (\n",
       "      <span style=\"color: rgb(0, 187, 0)\"><span class=\"ansi-green-fg\">axiom_{(eqM(a)(b) \\to eqM(b)(a))}(mul(e_l)(e_r))(e_r)(axiom_{eqM(mul(e_l)(a))(a)}(e_r))</span></span>,\n",
       "      <span style=\"color: rgb(0, 187, 0)\"><span class=\"ansi-green-fg\">0.0012526844961492322</span></span>\n",
       "    ),\n",
       "    (\n",
       "      <span style=\"color: rgb(0, 187, 0)\"><span class=\"ansi-green-fg\">axiom_{(eqM(a)(b) \\to eqM(b)(a))}(e_r)(e_r)(axiom_{eqM(a)(a)}(e_r))</span></span>,\n",
       "      <span style=\"color: rgb(0, 187, 0)\"><span class=\"ansi-green-fg\">1.920121138215279E-4</span></span>\n",
       "    ),\n",
       "    (\n",
       "      <span style=\"color: rgb(0, 187, 0)\"><span class=\"ansi-green-fg\">axiom_{(eqM(a)(b) \\to eqM(b)(a))}(mul(e_l)(e_r))(e_l)(axiom_{eqM(mul(a)(e_r))(a)}(e_l))</span></span>,\n",
       "      <span style=\"color: rgb(0, 187, 0)\"><span class=\"ansi-green-fg\">0.0012526844961492322</span></span>\n",
       "    ),\n",
       "    (\n",
       "      <span style=\"color: rgb(0, 187, 0)\"><span class=\"ansi-green-fg\">axiom_{(eqM(a)(b) \\to eqM(b)(a))}(e_l)(e_l)(axiom_{eqM(a)(a)}(e_l))</span></span>,\n",
       "      <span style=\"color: rgb(0, 187, 0)\"><span class=\"ansi-green-fg\">1.920121138215279E-4</span></span>\n",
       "    ),\n",
       "    (<span style=\"color: rgb(0, 187, 0)\"><span class=\"ansi-green-fg\">axiom_{eqM(a)(a)}(e_l)</span></span>, <span style=\"color: rgb(0, 187, 0)\"><span class=\"ansi-green-fg\">0.0025589063334613047</span></span>),\n",
       "    (\n",
       "      <span style=\"color: rgb(0, 187, 0)\"><span class=\"ansi-green-fg\">axiom_{(eqM(a)(b) \\to eqM(b)(a))}(mul(e_r)(e_r))(e_r)(axiom_{eqM(mul(a)(e_r))(a)}(e_r))</span></span>,\n",
       "      <span style=\"color: rgb(0, 187, 0)\"><span class=\"ansi-green-fg\">0.0012526844961492322</span></span>\n",
       "    )\n",
       "  )\n",
       ")</span></span></span></code></pre>\n",
       "</div>"
      ],
      "text/plain": [
       "\u001b[36mpfTermsT\u001b[39m: \u001b[32mmonix\u001b[39m.\u001b[32meval\u001b[39m.\u001b[32mTask\u001b[39m[\u001b[32mVector\u001b[39m[(\u001b[32mTerm\u001b[39m, \u001b[32mDouble\u001b[39m)]] = \u001b[33mFlatMap\u001b[39m(\n",
       "  \u001b[33mMap\u001b[39m(\n",
       "    \u001b[33mFlatMap\u001b[39m(\n",
       "      \u001b[33mAsync\u001b[39m(<function2>, false, true, true),\n",
       "      provingground.learning.LocalProverStep$$Lambda$2953/810352088@4a685dd8\n",
       "    ),\n",
       "    provingground.learning.LocalProverStep$$Lambda$2975/1488281714@19136358,\n",
       "    \u001b[32m0\u001b[39m\n",
       "  ),\n",
       "  provingground.learning.LocalProverStep$$Lambda$2976/661199252@209663db\n",
       ")\n",
       "\u001b[36mres6_1\u001b[39m: \u001b[32mmonix\u001b[39m.\u001b[32mexecution\u001b[39m.\u001b[32mCancelableFuture\u001b[39m[\u001b[32mVector\u001b[39m[(\u001b[32mTerm\u001b[39m, \u001b[32mDouble\u001b[39m)]] = \u001b[32m\u001b[33mSuccess\u001b[39m(\n",
       "  \u001b[33mVector\u001b[39m(\n",
       "    (\n",
       "      \u001b[32maxiom_{(eqM(a)(b) \\to eqM(b)(a))}(mul(e_l)(e_l))(e_l)(axiom_{eqM(mul(e_l)(a))(a)}(e_l))\u001b[39m,\n",
       "      \u001b[32m0.0012526844961492322\u001b[39m\n",
       "    ),\n",
       "    (\u001b[32maxiom_{eqM(a)(a)}(e_r)\u001b[39m, \u001b[32m0.0025589063334613047\u001b[39m),\n",
       "    (\n",
       "      \u001b[32maxiom_{(eqM(a)(b) \\to eqM(b)(a))}(mul(e_l)(e_r))(e_r)(axiom_{eqM(mul(e_l)(a))(a)}(e_r))\u001b[39m,\n",
       "      \u001b[32m0.0012526844961492322\u001b[39m\n",
       "    ),\n",
       "    (\n",
       "      \u001b[32maxiom_{(eqM(a)(b) \\to eqM(b)(a))}(e_r)(e_r)(axiom_{eqM(a)(a)}(e_r))\u001b[39m,\n",
       "      \u001b[32m1.920121138215279E-4\u001b[39m\n",
       "    ),\n",
       "    (\n",
       "      \u001b[32maxiom_{(eqM(a)(b) \\to eqM(b)(a))}(mul(e_l)(e_r))(e_l)(axiom_{eqM(mul(a)(e_r))(a)}(e_l))\u001b[39m,\n",
       "      \u001b[32m0.0012526844961492322\u001b[39m\n",
       "    ),\n",
       "    (\n",
       "      \u001b[32maxiom_{(eqM(a)(b) \\to eqM(b)(a))}(e_l)(e_l)(axiom_{eqM(a)(a)}(e_l))\u001b[39m,\n",
       "      \u001b[32m1.920121138215279E-4\u001b[39m\n",
       "    ),\n",
       "    (\u001b[32maxiom_{eqM(a)(a)}(e_l)\u001b[39m, \u001b[32m0.0025589063334613047\u001b[39m),\n",
       "    (\n",
       "      \u001b[32maxiom_{(eqM(a)(b) \\to eqM(b)(a))}(mul(e_r)(e_r))(e_r)(axiom_{eqM(mul(a)(e_r))(a)}(e_r))\u001b[39m,\n",
       "      \u001b[32m0.0012526844961492322\u001b[39m\n",
       "    )\n",
       "  )\n",
       ")\u001b[39m"
      ]
     },
     "metadata": {},
     "output_type": "display_data"
    }
   ],
   "source": [
    "val pfTermsT = lp1.proofTerms\n",
    "pfTermsT.runToFuture"
   ]
  },
  {
   "cell_type": "markdown",
   "metadata": {},
   "source": [
    "## First conclusions\n",
    "\n",
    "There seems to be _no_ propagation at all of proofs. We should check individual back maps."
   ]
  },
  {
   "cell_type": "code",
   "execution_count": 8,
   "metadata": {},
   "outputs": [
    {
     "data": {
      "text/html": [
       "<div class=\"jp-RenderedText\">\n",
       "<pre><code><span style=\"color: rgb(0, 187, 187)\"><span class=\"ansi-cyan-fg\">lem</span></span>: <span style=\"color: rgb(0, 187, 0)\"><span class=\"ansi-green-fg\">Typ</span></span>[<span style=\"color: rgb(0, 187, 0)\"><span class=\"ansi-green-fg\">Term</span></span>] = <span style=\"color: rgb(0, 187, 0)\"><span class=\"ansi-green-fg\">eqM(e_l)(mul(e_l)(e_r))</span></span>\n",
       "<span style=\"color: rgb(0, 187, 187)\"><span class=\"ansi-cyan-fg\">termsT</span></span>: <span style=\"color: rgb(0, 187, 0)\"><span class=\"ansi-green-fg\">monix</span></span>.<span style=\"color: rgb(0, 187, 0)\"><span class=\"ansi-green-fg\">eval</span></span>.<span style=\"color: rgb(0, 187, 0)\"><span class=\"ansi-green-fg\">Task</span></span>[<span style=\"color: rgb(0, 187, 0)\"><span class=\"ansi-green-fg\">FiniteDistribution</span></span>[<span style=\"color: rgb(0, 187, 0)\"><span class=\"ansi-green-fg\">Term</span></span>]] = <span style=\"color: yellow\"><span class=\"ansi-yellow-fg\">Map</span></span>(\n",
       "  <span style=\"color: yellow\"><span class=\"ansi-yellow-fg\">Async</span></span>(&lt;function2&gt;, false, true, true),\n",
       "  ammonite.$sess.cmd7$Helper$$Lambda$3064/1171313393@13fe3d75,\n",
       "  <span style=\"color: rgb(0, 187, 0)\"><span class=\"ansi-green-fg\">0</span></span>\n",
       ")\n",
       "<span style=\"color: rgb(0, 187, 187)\"><span class=\"ansi-cyan-fg\">res7_2</span></span>: <span style=\"color: rgb(0, 187, 0)\"><span class=\"ansi-green-fg\">monix</span></span>.<span style=\"color: rgb(0, 187, 0)\"><span class=\"ansi-green-fg\">execution</span></span>.<span style=\"color: rgb(0, 187, 0)\"><span class=\"ansi-green-fg\">CancelableFuture</span></span>[<span style=\"color: rgb(0, 187, 0)\"><span class=\"ansi-green-fg\">FiniteDistribution</span></span>[<span style=\"color: rgb(0, 187, 0)\"><span class=\"ansi-green-fg\">Term</span></span>]] = <span style=\"color: rgb(0, 187, 0)\"><span class=\"ansi-green-fg\"><style>@keyframes fadein { from { opacity: 0; } to { opacity: 1; } }</style><span style=\"animation: fadein 2s;\"><span style=\"color: yellow\"><span class=\"ansi-yellow-fg\">Success</span></span>(\n",
       "  <span style=\"color: yellow\"><span class=\"ansi-yellow-fg\">FiniteDistribution</span></span>(\n",
       "    <span style=\"color: yellow\"><span class=\"ansi-yellow-fg\">Vector</span></span>(\n",
       "      <span style=\"color: yellow\"><span class=\"ansi-yellow-fg\">Weighted</span></span>(\n",
       "        <span style=\"color: rgb(0, 187, 0)\"><span class=\"ansi-green-fg\">axiom_{eqM(mul(e_l)(a))(a)}(mul(e_r)(e_l))</span></span>,\n",
       "        <span style=\"color: rgb(0, 187, 0)\"><span class=\"ansi-green-fg\">1.0211226571848244E-4</span></span>\n",
       "      ),\n",
       "      <span style=\"color: yellow\"><span class=\"ansi-yellow-fg\">Weighted</span></span>(\n",
       "        <span style=\"color: rgb(0, 187, 0)\"><span class=\"ansi-green-fg\">axiom_{(eqM(a)(b) \\to eqM(b)(a))}(e_r)(mul(e_l)(e_l))</span></span>,\n",
       "        <span style=\"color: rgb(0, 187, 0)\"><span class=\"ansi-green-fg\">1.43204259042601E-5</span></span>\n",
       "      ),\n",
       "      <span style=\"color: yellow\"><span class=\"ansi-yellow-fg\">Weighted</span></span>(\n",
       "        <span style=\"color: rgb(0, 187, 0)\"><span class=\"ansi-green-fg\">($aufv : M) ↦ axiom_{(eqM(a)(b) \\to (eqM(b)(c) \\to eqM(a)(c)))}(mul(e_r)(e_r))(e_r)($aufv)(axiom_{eqM(mul(a)(e_r))(a)}(e_r))</span></span>,\n",
       "        <span style=\"color: rgb(0, 187, 0)\"><span class=\"ansi-green-fg\">2.5311163260347958E-5</span></span>\n",
       "      ),\n",
       "      <span style=\"color: yellow\"><span class=\"ansi-yellow-fg\">Weighted</span></span>(<span style=\"color: rgb(0, 187, 0)\"><span class=\"ansi-green-fg\">mul</span></span>, <span style=\"color: rgb(0, 187, 0)\"><span class=\"ansi-green-fg\">0.26757575953354795</span></span>),\n",
       "      <span style=\"color: yellow\"><span class=\"ansi-yellow-fg\">Weighted</span></span>(\n",
       "        <span style=\"color: rgb(0, 187, 0)\"><span class=\"ansi-green-fg\">axiom_{(eqM(a)(b) \\to (eqM(b)(c) \\to eqM(a)(c)))}(e_r)(mul(e_r)(e_l))</span></span>,\n",
       "        <span style=\"color: rgb(0, 187, 0)\"><span class=\"ansi-green-fg\">1.4320425904260095E-5</span></span>\n",
       "      ),\n",
       "      <span style=\"color: yellow\"><span class=\"ansi-yellow-fg\">Weighted</span></span>(<span style=\"color: rgb(0, 187, 0)\"><span class=\"ansi-green-fg\">eqM(e_r)(mul(e_l)(e_l))</span></span>, <span style=\"color: rgb(0, 187, 0)\"><span class=\"ansi-green-fg\">6.21690603886337E-4</span></span>),\n",
       "      <span style=\"color: yellow\"><span class=\"ansi-yellow-fg\">Weighted</span></span>(<span style=\"color: rgb(0, 187, 0)\"><span class=\"ansi-green-fg\">e_r</span></span>, <span style=\"color: rgb(0, 187, 0)\"><span class=\"ansi-green-fg\">0.03822510850479257</span></span>),\n",
       "      <span style=\"color: yellow\"><span class=\"ansi-yellow-fg\">Weighted</span></span>(<span style=\"color: rgb(0, 187, 0)\"><span class=\"ansi-green-fg\">eqM(e_r)(mul(e_r)(e_l))</span></span>, <span style=\"color: rgb(0, 187, 0)\"><span class=\"ansi-green-fg\">6.216906038863368E-4</span></span>),\n",
       "      <span style=\"color: yellow\"><span class=\"ansi-yellow-fg\">Weighted</span></span>(\n",
       "        <span style=\"color: rgb(0, 187, 0)\"><span class=\"ansi-green-fg\">axiom_{(eqM(a)(b) \\to eqM(b)(a))}(mul(e_r)(e_l))</span></span>,\n",
       "        <span style=\"color: rgb(0, 187, 0)\"><span class=\"ansi-green-fg\">1.0211226571848244E-4</span></span>\n",
       "      ),\n",
       "      <span style=\"color: yellow\"><span class=\"ansi-yellow-fg\">Weighted</span></span>(\n",
       "        <span style=\"color: rgb(0, 187, 0)\"><span class=\"ansi-green-fg\">axiom_{(eqM(a)(b) \\to eqM(b)(a))}(mul(e_l)(e_l))(e_l)(axiom_{eqM(mul(e_l)(a))(a)}(e_l))</span></span>,\n",
       "        <span style=\"color: rgb(0, 187, 0)\"><span class=\"ansi-green-fg\">2.5311163260347958E-5</span></span>\n",
       "      ),\n",
       "      <span style=\"color: yellow\"><span class=\"ansi-yellow-fg\">Weighted</span></span>(<span style=\"color: rgb(0, 187, 0)\"><span class=\"ansi-green-fg\">axiom_{eqM(a)(a)}</span></span>, <span style=\"color: rgb(0, 187, 0)\"><span class=\"ansi-green-fg\">0.03822510850479257</span></span>),\n",
       "      <span style=\"color: yellow\"><span class=\"ansi-yellow-fg\">Weighted</span></span>(\n",
       "        <span style=\"color: rgb(0, 187, 0)\"><span class=\"ansi-green-fg\">axiom_{(eqM(a)(b) \\to (eqM(b)(c) \\to eqM(a)(c)))}(e_r)(mul(e_r)(e_r))</span></span>,\n",
       "        <span style=\"color: rgb(0, 187, 0)\"><span class=\"ansi-green-fg\">1.4320425904260095E-5</span></span>\n",
       "      ),\n",
       "      <span style=\"color: yellow\"><span class=\"ansi-yellow-fg\">Weighted</span></span>(<span style=\"color: rgb(0, 187, 0)\"><span class=\"ansi-green-fg\">eqM(e_r)(e_l)</span></span>, <span style=\"color: rgb(0, 187, 0)\"><span class=\"ansi-green-fg\">0.00997538738813242</span></span>),\n",
       "...</span></span></span></code></pre>\n",
       "</div>"
      ],
      "text/plain": [
       "\u001b[36mlem\u001b[39m: \u001b[32mTyp\u001b[39m[\u001b[32mTerm\u001b[39m] = \u001b[32meqM(e_l)(mul(e_l)(e_r))\u001b[39m\n",
       "\u001b[36mtermsT\u001b[39m: \u001b[32mmonix\u001b[39m.\u001b[32meval\u001b[39m.\u001b[32mTask\u001b[39m[\u001b[32mFiniteDistribution\u001b[39m[\u001b[32mTerm\u001b[39m]] = \u001b[33mMap\u001b[39m(\n",
       "  \u001b[33mAsync\u001b[39m(<function2>, false, true, true),\n",
       "  ammonite.$sess.cmd7$Helper$$Lambda$3064/1171313393@13fe3d75,\n",
       "  \u001b[32m0\u001b[39m\n",
       ")\n",
       "\u001b[36mres7_2\u001b[39m: \u001b[32mmonix\u001b[39m.\u001b[32mexecution\u001b[39m.\u001b[32mCancelableFuture\u001b[39m[\u001b[32mFiniteDistribution\u001b[39m[\u001b[32mTerm\u001b[39m]] = \u001b[32m\u001b[33mSuccess\u001b[39m(\n",
       "  \u001b[33mFiniteDistribution\u001b[39m(\n",
       "    \u001b[33mVector\u001b[39m(\n",
       "      \u001b[33mWeighted\u001b[39m(\n",
       "        \u001b[32maxiom_{eqM(mul(e_l)(a))(a)}(mul(e_r)(e_l))\u001b[39m,\n",
       "        \u001b[32m1.0211226571848244E-4\u001b[39m\n",
       "      ),\n",
       "      \u001b[33mWeighted\u001b[39m(\n",
       "        \u001b[32maxiom_{(eqM(a)(b) \\to eqM(b)(a))}(e_r)(mul(e_l)(e_l))\u001b[39m,\n",
       "        \u001b[32m1.43204259042601E-5\u001b[39m\n",
       "      ),\n",
       "      \u001b[33mWeighted\u001b[39m(\n",
       "        \u001b[32m($aufv : M) ↦ axiom_{(eqM(a)(b) \\to (eqM(b)(c) \\to eqM(a)(c)))}(mul(e_r)(e_r))(e_r)($aufv)(axiom_{eqM(mul(a)(e_r))(a)}(e_r))\u001b[39m,\n",
       "        \u001b[32m2.5311163260347958E-5\u001b[39m\n",
       "      ),\n",
       "      \u001b[33mWeighted\u001b[39m(\u001b[32mmul\u001b[39m, \u001b[32m0.26757575953354795\u001b[39m),\n",
       "      \u001b[33mWeighted\u001b[39m(\n",
       "        \u001b[32maxiom_{(eqM(a)(b) \\to (eqM(b)(c) \\to eqM(a)(c)))}(e_r)(mul(e_r)(e_l))\u001b[39m,\n",
       "        \u001b[32m1.4320425904260095E-5\u001b[39m\n",
       "      ),\n",
       "      \u001b[33mWeighted\u001b[39m(\u001b[32meqM(e_r)(mul(e_l)(e_l))\u001b[39m, \u001b[32m6.21690603886337E-4\u001b[39m),\n",
       "      \u001b[33mWeighted\u001b[39m(\u001b[32me_r\u001b[39m, \u001b[32m0.03822510850479257\u001b[39m),\n",
       "      \u001b[33mWeighted\u001b[39m(\u001b[32meqM(e_r)(mul(e_r)(e_l))\u001b[39m, \u001b[32m6.216906038863368E-4\u001b[39m),\n",
       "      \u001b[33mWeighted\u001b[39m(\n",
       "        \u001b[32maxiom_{(eqM(a)(b) \\to eqM(b)(a))}(mul(e_r)(e_l))\u001b[39m,\n",
       "        \u001b[32m1.0211226571848244E-4\u001b[39m\n",
       "      ),\n",
       "      \u001b[33mWeighted\u001b[39m(\n",
       "        \u001b[32maxiom_{(eqM(a)(b) \\to eqM(b)(a))}(mul(e_l)(e_l))(e_l)(axiom_{eqM(mul(e_l)(a))(a)}(e_l))\u001b[39m,\n",
       "        \u001b[32m2.5311163260347958E-5\u001b[39m\n",
       "      ),\n",
       "      \u001b[33mWeighted\u001b[39m(\u001b[32maxiom_{eqM(a)(a)}\u001b[39m, \u001b[32m0.03822510850479257\u001b[39m),\n",
       "      \u001b[33mWeighted\u001b[39m(\n",
       "        \u001b[32maxiom_{(eqM(a)(b) \\to (eqM(b)(c) \\to eqM(a)(c)))}(e_r)(mul(e_r)(e_r))\u001b[39m,\n",
       "        \u001b[32m1.4320425904260095E-5\u001b[39m\n",
       "      ),\n",
       "      \u001b[33mWeighted\u001b[39m(\u001b[32meqM(e_r)(e_l)\u001b[39m, \u001b[32m0.00997538738813242\u001b[39m),\n",
       "...\u001b[39m"
      ]
     },
     "metadata": {},
     "output_type": "display_data"
    }
   ],
   "source": [
    "val lem = eqM(l)(op(l)(r))\n",
    "val termsT = lp1.expressionEval.map(_.finalTerms)\n",
    "termsT.runToFuture"
   ]
  },
  {
   "cell_type": "code",
   "execution_count": 10,
   "metadata": {},
   "outputs": [
    {
     "data": {
      "text/html": [
       "<div class=\"jp-RenderedText\">\n",
       "<pre><code><span style=\"color: rgb(0, 187, 187)\"><span class=\"ansi-cyan-fg\">pfsT</span></span>: <span style=\"color: rgb(0, 187, 0)\"><span class=\"ansi-green-fg\">monix</span></span>.<span style=\"color: rgb(0, 187, 0)\"><span class=\"ansi-green-fg\">eval</span></span>.<span style=\"color: rgb(0, 187, 0)\"><span class=\"ansi-green-fg\">Task</span></span>[<span style=\"color: rgb(0, 187, 0)\"><span class=\"ansi-green-fg\">FiniteDistribution</span></span>[<span style=\"color: rgb(0, 187, 0)\"><span class=\"ansi-green-fg\">Term</span></span>]] = <span style=\"color: yellow\"><span class=\"ansi-yellow-fg\">Map</span></span>(\n",
       "  <span style=\"color: yellow\"><span class=\"ansi-yellow-fg\">Async</span></span>(&lt;function2&gt;, false, true, true),\n",
       "  scala.Function1$$Lambda$276/1122130699@7268ee77,\n",
       "  <span style=\"color: rgb(0, 187, 0)\"><span class=\"ansi-green-fg\">1</span></span>\n",
       ")\n",
       "<span style=\"color: rgb(0, 187, 187)\"><span class=\"ansi-cyan-fg\">res9_1</span></span>: <span style=\"color: rgb(0, 187, 0)\"><span class=\"ansi-green-fg\">monix</span></span>.<span style=\"color: rgb(0, 187, 0)\"><span class=\"ansi-green-fg\">execution</span></span>.<span style=\"color: rgb(0, 187, 0)\"><span class=\"ansi-green-fg\">CancelableFuture</span></span>[<span style=\"color: rgb(0, 187, 0)\"><span class=\"ansi-green-fg\">FiniteDistribution</span></span>[<span style=\"color: rgb(0, 187, 0)\"><span class=\"ansi-green-fg\">Term</span></span>]] = <span style=\"color: rgb(0, 187, 0)\"><span class=\"ansi-green-fg\"><span style=\"color: yellow\"><span class=\"ansi-yellow-fg\">Success</span></span>(\n",
       "  <span style=\"color: yellow\"><span class=\"ansi-yellow-fg\">FiniteDistribution</span></span>(\n",
       "    <span style=\"color: yellow\"><span class=\"ansi-yellow-fg\">Vector</span></span>(\n",
       "      <span style=\"color: yellow\"><span class=\"ansi-yellow-fg\">Weighted</span></span>(\n",
       "        <span style=\"color: rgb(0, 187, 0)\"><span class=\"ansi-green-fg\">axiom_{(eqM(a)(b) \\to eqM(b)(a))}(mul(e_l)(e_r))(e_l)(axiom_{eqM(mul(a)(e_r))(a)}(e_l))</span></span>,\n",
       "        <span style=\"color: rgb(0, 187, 0)\"><span class=\"ansi-green-fg\">2.5311163260347958E-5</span></span>\n",
       "      )\n",
       "    )\n",
       "  )\n",
       ")</span></span>\n",
       "<span style=\"color: rgb(0, 187, 0)\"><span class=\"ansi-green-fg\">import </span></span><span style=\"color: rgb(0, 187, 187)\"><span class=\"ansi-cyan-fg\">Expression._, TermRandomVars._, GeneratorVariables._\n",
       "\n",
       "</span></span>\n",
       "<span style=\"color: rgb(0, 187, 187)\"><span class=\"ansi-cyan-fg\">res9_3</span></span>: <span style=\"color: rgb(0, 187, 0)\"><span class=\"ansi-green-fg\">monix</span></span>.<span style=\"color: rgb(0, 187, 0)\"><span class=\"ansi-green-fg\">eval</span></span>.<span style=\"color: rgb(0, 187, 0)\"><span class=\"ansi-green-fg\">Task</span></span>[<span style=\"color: rgb(0, 187, 0)\"><span class=\"ansi-green-fg\">Map</span></span>[<span style=\"color: rgb(0, 187, 0)\"><span class=\"ansi-green-fg\">Expression</span></span>, <span style=\"color: rgb(0, 187, 0)\"><span class=\"ansi-green-fg\">Double</span></span>]] = <span style=\"color: yellow\"><span class=\"ansi-yellow-fg\">FlatMap</span></span>(\n",
       "  <span style=\"color: yellow\"><span class=\"ansi-yellow-fg\">Async</span></span>(&lt;function2&gt;, false, true, true),\n",
       "  ammonite.$sess.cmd9$Helper$$Lambda$3145/1974190932@2e4d5bd8\n",
       ")</code></pre>\n",
       "</div>"
      ],
      "text/plain": [
       "\u001b[36mpfsT\u001b[39m: \u001b[32mmonix\u001b[39m.\u001b[32meval\u001b[39m.\u001b[32mTask\u001b[39m[\u001b[32mFiniteDistribution\u001b[39m[\u001b[32mTerm\u001b[39m]] = \u001b[33mMap\u001b[39m(\n",
       "  \u001b[33mAsync\u001b[39m(<function2>, false, true, true),\n",
       "  scala.Function1$$Lambda$276/1122130699@7268ee77,\n",
       "  \u001b[32m1\u001b[39m\n",
       ")\n",
       "\u001b[36mres9_1\u001b[39m: \u001b[32mmonix\u001b[39m.\u001b[32mexecution\u001b[39m.\u001b[32mCancelableFuture\u001b[39m[\u001b[32mFiniteDistribution\u001b[39m[\u001b[32mTerm\u001b[39m]] = \u001b[32m\u001b[33mSuccess\u001b[39m(\n",
       "  \u001b[33mFiniteDistribution\u001b[39m(\n",
       "    \u001b[33mVector\u001b[39m(\n",
       "      \u001b[33mWeighted\u001b[39m(\n",
       "        \u001b[32maxiom_{(eqM(a)(b) \\to eqM(b)(a))}(mul(e_l)(e_r))(e_l)(axiom_{eqM(mul(a)(e_r))(a)}(e_l))\u001b[39m,\n",
       "        \u001b[32m2.5311163260347958E-5\u001b[39m\n",
       "      )\n",
       "    )\n",
       "  )\n",
       ")\u001b[39m\n",
       "\u001b[32mimport \u001b[39m\u001b[36mExpression._, TermRandomVars._, GeneratorVariables._\n",
       "\n",
       "\u001b[39m\n",
       "\u001b[36mres9_3\u001b[39m: \u001b[32mmonix\u001b[39m.\u001b[32meval\u001b[39m.\u001b[32mTask\u001b[39m[\u001b[32mMap\u001b[39m[\u001b[32mExpression\u001b[39m, \u001b[32mDouble\u001b[39m]] = \u001b[33mFlatMap\u001b[39m(\n",
       "  \u001b[33mAsync\u001b[39m(<function2>, false, true, true),\n",
       "  ammonite.$sess.cmd9$Helper$$Lambda$3145/1974190932@2e4d5bd8\n",
       ")"
      ]
     },
     "metadata": {},
     "output_type": "display_data"
    }
   ],
   "source": [
    "val pfsT = termsT.map(_.filter(_.typ == lem))\n",
    "pfsT.runToFuture\n",
    "\n",
    "import Expression._, TermRandomVars._, GeneratorVariables._\n",
    "\n"
   ]
  },
  {
   "cell_type": "code",
   "execution_count": 12,
   "metadata": {},
   "outputs": [
    {
     "data": {
      "text/plain": [
       "\u001b[36mbackT\u001b[39m: \u001b[32mmonix\u001b[39m.\u001b[32meval\u001b[39m.\u001b[32mTask\u001b[39m[\u001b[32mMap\u001b[39m[\u001b[32mExpression\u001b[39m, \u001b[32mDouble\u001b[39m]] = \u001b[33mFlatMap\u001b[39m(\n",
       "  \u001b[33mAsync\u001b[39m(<function2>, false, true, true),\n",
       "  ammonite.$sess.cmd11$Helper$$Lambda$3165/1621996626@ac0c879\n",
       ")"
      ]
     },
     "execution_count": 12,
     "metadata": {},
     "output_type": "execute_result"
    }
   ],
   "source": [
    "val backT = for {\n",
    "    ev <- lp1.expressionEval\n",
    "    pfs <- pfsT\n",
    "} yield ev.Final.backMap(FinalVal(Elem( pfs.support.head, Terms )))"
   ]
  },
  {
   "cell_type": "code",
   "execution_count": 13,
   "metadata": {},
   "outputs": [
    {
     "data": {
      "text/html": [
       "<div class=\"jp-RenderedText\">\n",
       "<pre><code><span style=\"color: rgb(0, 187, 187)\"><span class=\"ansi-cyan-fg\">res12</span></span>: <span style=\"color: rgb(0, 187, 0)\"><span class=\"ansi-green-fg\">monix</span></span>.<span style=\"color: rgb(0, 187, 0)\"><span class=\"ansi-green-fg\">execution</span></span>.<span style=\"color: rgb(0, 187, 0)\"><span class=\"ansi-green-fg\">CancelableFuture</span></span>[<span style=\"color: rgb(0, 187, 0)\"><span class=\"ansi-green-fg\">Map</span></span>[<span style=\"color: rgb(0, 187, 0)\"><span class=\"ansi-green-fg\">Expression</span></span>, <span style=\"color: rgb(0, 187, 0)\"><span class=\"ansi-green-fg\">Double</span></span>]] = <span style=\"color: rgb(0, 187, 0)\"><span class=\"ansi-green-fg\"><style>@keyframes fadein { from { opacity: 0; } to { opacity: 1; } }</style><span style=\"animation: fadein 2s;\"><span style=\"color: yellow\"><span class=\"ansi-yellow-fg\">Success</span></span>(\n",
       "  <span style=\"color: yellow\"><span class=\"ansi-yellow-fg\">Map</span></span>(\n",
       "    <span style=\"color: yellow\"><span class=\"ansi-yellow-fg\">FinalVal</span></span>(<span style=\"color: yellow\"><span class=\"ansi-yellow-fg\">Elem</span></span>(<span style=\"color: rgb(0, 187, 0)\"><span class=\"ansi-green-fg\">axiom_{eqM(mul(a)(e_r))(a)}(e_l)</span></span>, Terms)) -&gt; <span style=\"color: rgb(0, 187, 0)\"><span class=\"ansi-green-fg\">0.01263157894736842</span></span>,\n",
       "    <span style=\"color: yellow\"><span class=\"ansi-yellow-fg\">FinalVal</span></span>(<span style=\"color: yellow\"><span class=\"ansi-yellow-fg\">Elem</span></span>(<span style=\"color: yellow\"><span class=\"ansi-yellow-fg\">Wrap</span></span>(<span style=\"color: rgb(0, 187, 0)\"><span class=\"ansi-green-fg\">axiom_{(eqM(a)(b) \\to eqM(b)(a))}</span></span>), Funcs)) -&gt; <span style=\"color: rgb(0, 187, 0)\"><span class=\"ansi-green-fg\">5.990977443609026E-4</span></span>\n",
       "  )\n",
       ")</span></span></span></code></pre>\n",
       "</div>"
      ],
      "text/plain": [
       "\u001b[36mres12\u001b[39m: \u001b[32mmonix\u001b[39m.\u001b[32mexecution\u001b[39m.\u001b[32mCancelableFuture\u001b[39m[\u001b[32mMap\u001b[39m[\u001b[32mExpression\u001b[39m, \u001b[32mDouble\u001b[39m]] = \u001b[32m\u001b[33mSuccess\u001b[39m(\n",
       "  \u001b[33mMap\u001b[39m(\n",
       "    \u001b[33mFinalVal\u001b[39m(\u001b[33mElem\u001b[39m(\u001b[32maxiom_{eqM(mul(a)(e_r))(a)}(e_l)\u001b[39m, Terms)) -> \u001b[32m0.01263157894736842\u001b[39m,\n",
       "    \u001b[33mFinalVal\u001b[39m(\u001b[33mElem\u001b[39m(\u001b[33mWrap\u001b[39m(\u001b[32maxiom_{(eqM(a)(b) \\to eqM(b)(a))}\u001b[39m), Funcs)) -> \u001b[32m5.990977443609026E-4\u001b[39m\n",
       "  )\n",
       ")\u001b[39m"
      ]
     },
     "metadata": {},
     "output_type": "display_data"
    }
   ],
   "source": [
    "backT.runToFuture"
   ]
  },
  {
   "cell_type": "code",
   "execution_count": 14,
   "metadata": {},
   "outputs": [
    {
     "data": {
      "text/plain": [
       "\u001b[36mres13\u001b[39m: \u001b[32mDouble\u001b[39m = \u001b[32m1.0E-4\u001b[39m"
      ]
     },
     "execution_count": 14,
     "metadata": {},
     "output_type": "execute_result"
    }
   ],
   "source": [
    "lp1.cutoff"
   ]
  },
  {
   "cell_type": "code",
   "execution_count": 15,
   "metadata": {},
   "outputs": [
    {
     "data": {
      "text/plain": [
       "\u001b[36mrhsT\u001b[39m: \u001b[32mmonix\u001b[39m.\u001b[32meval\u001b[39m.\u001b[32mTask\u001b[39m[\u001b[32mExpression\u001b[39m] = \u001b[33mFlatMap\u001b[39m(\n",
       "  \u001b[33mAsync\u001b[39m(<function2>, false, true, true),\n",
       "  ammonite.$sess.cmd14$Helper$$Lambda$3189/1250269153@75b509ff\n",
       ")"
      ]
     },
     "execution_count": 15,
     "metadata": {},
     "output_type": "execute_result"
    }
   ],
   "source": [
    "val rhsT = for {\n",
    "    ev <- lp1.expressionEval\n",
    "    pfs <- pfsT\n",
    "} yield ev.rhs(FinalVal(Elem( pfs.support.head, Terms )))"
   ]
  },
  {
   "cell_type": "code",
   "execution_count": 16,
   "metadata": {},
   "outputs": [
    {
     "data": {
      "text/html": [
       "<div class=\"jp-RenderedText\">\n",
       "<pre><code><span style=\"color: rgb(0, 187, 187)\"><span class=\"ansi-cyan-fg\">res15</span></span>: <span style=\"color: rgb(0, 187, 0)\"><span class=\"ansi-green-fg\">monix</span></span>.<span style=\"color: rgb(0, 187, 0)\"><span class=\"ansi-green-fg\">execution</span></span>.<span style=\"color: rgb(0, 187, 0)\"><span class=\"ansi-green-fg\">CancelableFuture</span></span>[<span style=\"color: rgb(0, 187, 0)\"><span class=\"ansi-green-fg\">Expression</span></span>] = <span style=\"color: rgb(0, 187, 0)\"><span class=\"ansi-green-fg\"><style>@keyframes fadein { from { opacity: 0; } to { opacity: 1; } }</style><span style=\"animation: fadein 2s;\"><span style=\"color: yellow\"><span class=\"ansi-yellow-fg\">Success</span></span>(\n",
       "  <span style=\"color: yellow\"><span class=\"ansi-yellow-fg\">Sum</span></span>(\n",
       "    <span style=\"color: yellow\"><span class=\"ansi-yellow-fg\">Sum</span></span>(\n",
       "      <span style=\"color: yellow\"><span class=\"ansi-yellow-fg\">Product</span></span>(\n",
       "        <span style=\"color: yellow\"><span class=\"ansi-yellow-fg\">Product</span></span>(\n",
       "          <span style=\"color: yellow\"><span class=\"ansi-yellow-fg\">Coeff</span></span>(\n",
       "            <span style=\"color: yellow\"><span class=\"ansi-yellow-fg\">BaseThenCondition</span></span>(\n",
       "              <span style=\"color: yellow\"><span class=\"ansi-yellow-fg\">ZipMapOpt</span></span>(UnifApplnOpt, Funcs, Terms, Terms),\n",
       "              <span style=\"color: yellow\"><span class=\"ansi-yellow-fg\">AtCoord</span></span>(TermsWithTyp, <span style=\"color: rgb(0, 187, 0)\"><span class=\"ansi-green-fg\">M</span></span> :: HNil),\n",
       "              <span style=\"color: yellow\"><span class=\"ansi-yellow-fg\">Filter</span></span>(<span style=\"color: yellow\"><span class=\"ansi-yellow-fg\">WithTyp</span></span>(<span style=\"color: rgb(0, 187, 0)\"><span class=\"ansi-green-fg\">M</span></span>))\n",
       "            )\n",
       "          ),\n",
       "          <span style=\"color: yellow\"><span class=\"ansi-yellow-fg\">FinalVal</span></span>(<span style=\"color: yellow\"><span class=\"ansi-yellow-fg\">Elem</span></span>(<span style=\"color: yellow\"><span class=\"ansi-yellow-fg\">Wrap</span></span>(<span style=\"color: rgb(0, 187, 0)\"><span class=\"ansi-green-fg\">axiom_{(eqM(a)(b) \\to eqM(b)(a))}</span></span>), Funcs))\n",
       "        ),\n",
       "        <span style=\"color: yellow\"><span class=\"ansi-yellow-fg\">FinalVal</span></span>(<span style=\"color: yellow\"><span class=\"ansi-yellow-fg\">Elem</span></span>(<span style=\"color: rgb(0, 187, 0)\"><span class=\"ansi-green-fg\">axiom_{eqM(mul(a)(e_r))(a)}(e_l)</span></span>, Terms))\n",
       "      ),\n",
       "      <span style=\"color: yellow\"><span class=\"ansi-yellow-fg\">Product</span></span>(\n",
       "        <span style=\"color: yellow\"><span class=\"ansi-yellow-fg\">Product</span></span>(\n",
       "          <span style=\"color: yellow\"><span class=\"ansi-yellow-fg\">Coeff</span></span>(\n",
       "            <span style=\"color: yellow\"><span class=\"ansi-yellow-fg\">BaseThenCondition</span></span>(\n",
       "              <span style=\"color: yellow\"><span class=\"ansi-yellow-fg\">ZipMapOpt</span></span>(UnifApplnOpt, Funcs, Terms, Terms),\n",
       "              Funcs,\n",
       "              <span style=\"color: yellow\"><span class=\"ansi-yellow-fg\">Restrict</span></span>(FuncOpt)\n",
       "            )\n",
       "          ),\n",
       "          <span style=\"color: yellow\"><span class=\"ansi-yellow-fg\">FinalVal</span></span>(<span style=\"color: yellow\"><span class=\"ansi-yellow-fg\">Elem</span></span>(<span style=\"color: yellow\"><span class=\"ansi-yellow-fg\">Wrap</span></span>(<span style=\"color: rgb(0, 187, 0)\"><span class=\"ansi-green-fg\">axiom_{(eqM(a)(b) \\to eqM(b)(a))}</span></span>), Funcs))\n",
       "        ),\n",
       "        <span style=\"color: yellow\"><span class=\"ansi-yellow-fg\">FinalVal</span></span>(<span style=\"color: yellow\"><span class=\"ansi-yellow-fg\">Elem</span></span>(<span style=\"color: rgb(0, 187, 0)\"><span class=\"ansi-green-fg\">axiom_{eqM(mul(a)(e_r))(a)}(e_l)</span></span>, Terms))\n",
       "      )\n",
       "    ),\n",
       "    <span style=\"color: yellow\"><span class=\"ansi-yellow-fg\">Product</span></span>(\n",
       "      <span style=\"color: yellow\"><span class=\"ansi-yellow-fg\">Product</span></span>(\n",
       "        <span style=\"color: yellow\"><span class=\"ansi-yellow-fg\">Coeff</span></span>(<span style=\"color: yellow\"><span class=\"ansi-yellow-fg\">ZipMapOpt</span></span>(UnifApplnOpt, Funcs, Terms, Terms)),\n",
       "        <span style=\"color: yellow\"><span class=\"ansi-yellow-fg\">FinalVal</span></span>(<span style=\"color: yellow\"><span class=\"ansi-yellow-fg\">Elem</span></span>(<span style=\"color: yellow\"><span class=\"ansi-yellow-fg\">Wrap</span></span>(<span style=\"color: rgb(0, 187, 0)\"><span class=\"ansi-green-fg\">axiom_{(eqM(a)(b) \\to eqM(b)(a))}</span></span>), Funcs))\n",
       "      ),\n",
       "      <span style=\"color: yellow\"><span class=\"ansi-yellow-fg\">FinalVal</span></span>(<span style=\"color: yellow\"><span class=\"ansi-yellow-fg\">Elem</span></span>(<span style=\"color: rgb(0, 187, 0)\"><span class=\"ansi-green-fg\">axiom_{eqM(mul(a)(e_r))(a)}(e_l)</span></span>, Terms))\n",
       "    )\n",
       "  )\n",
       ")</span></span></span></code></pre>\n",
       "</div>"
      ],
      "text/plain": [
       "\u001b[36mres15\u001b[39m: \u001b[32mmonix\u001b[39m.\u001b[32mexecution\u001b[39m.\u001b[32mCancelableFuture\u001b[39m[\u001b[32mExpression\u001b[39m] = \u001b[32m\u001b[33mSuccess\u001b[39m(\n",
       "  \u001b[33mSum\u001b[39m(\n",
       "    \u001b[33mSum\u001b[39m(\n",
       "      \u001b[33mProduct\u001b[39m(\n",
       "        \u001b[33mProduct\u001b[39m(\n",
       "          \u001b[33mCoeff\u001b[39m(\n",
       "            \u001b[33mBaseThenCondition\u001b[39m(\n",
       "              \u001b[33mZipMapOpt\u001b[39m(UnifApplnOpt, Funcs, Terms, Terms),\n",
       "              \u001b[33mAtCoord\u001b[39m(TermsWithTyp, \u001b[32mM\u001b[39m :: HNil),\n",
       "              \u001b[33mFilter\u001b[39m(\u001b[33mWithTyp\u001b[39m(\u001b[32mM\u001b[39m))\n",
       "            )\n",
       "          ),\n",
       "          \u001b[33mFinalVal\u001b[39m(\u001b[33mElem\u001b[39m(\u001b[33mWrap\u001b[39m(\u001b[32maxiom_{(eqM(a)(b) \\to eqM(b)(a))}\u001b[39m), Funcs))\n",
       "        ),\n",
       "        \u001b[33mFinalVal\u001b[39m(\u001b[33mElem\u001b[39m(\u001b[32maxiom_{eqM(mul(a)(e_r))(a)}(e_l)\u001b[39m, Terms))\n",
       "      ),\n",
       "      \u001b[33mProduct\u001b[39m(\n",
       "        \u001b[33mProduct\u001b[39m(\n",
       "          \u001b[33mCoeff\u001b[39m(\n",
       "            \u001b[33mBaseThenCondition\u001b[39m(\n",
       "              \u001b[33mZipMapOpt\u001b[39m(UnifApplnOpt, Funcs, Terms, Terms),\n",
       "              Funcs,\n",
       "              \u001b[33mRestrict\u001b[39m(FuncOpt)\n",
       "            )\n",
       "          ),\n",
       "          \u001b[33mFinalVal\u001b[39m(\u001b[33mElem\u001b[39m(\u001b[33mWrap\u001b[39m(\u001b[32maxiom_{(eqM(a)(b) \\to eqM(b)(a))}\u001b[39m), Funcs))\n",
       "        ),\n",
       "        \u001b[33mFinalVal\u001b[39m(\u001b[33mElem\u001b[39m(\u001b[32maxiom_{eqM(mul(a)(e_r))(a)}(e_l)\u001b[39m, Terms))\n",
       "      )\n",
       "    ),\n",
       "    \u001b[33mProduct\u001b[39m(\n",
       "      \u001b[33mProduct\u001b[39m(\n",
       "        \u001b[33mCoeff\u001b[39m(\u001b[33mZipMapOpt\u001b[39m(UnifApplnOpt, Funcs, Terms, Terms)),\n",
       "        \u001b[33mFinalVal\u001b[39m(\u001b[33mElem\u001b[39m(\u001b[33mWrap\u001b[39m(\u001b[32maxiom_{(eqM(a)(b) \\to eqM(b)(a))}\u001b[39m), Funcs))\n",
       "      ),\n",
       "      \u001b[33mFinalVal\u001b[39m(\u001b[33mElem\u001b[39m(\u001b[32maxiom_{eqM(mul(a)(e_r))(a)}(e_l)\u001b[39m, Terms))\n",
       "    )\n",
       "  )\n",
       ")\u001b[39m"
      ]
     },
     "metadata": {},
     "output_type": "display_data"
    }
   ],
   "source": [
    "rhsT.runToFuture"
   ]
  },
  {
   "cell_type": "code",
   "execution_count": 17,
   "metadata": {},
   "outputs": [
    {
     "data": {
      "text/plain": [
       "\u001b[36mfullBackT\u001b[39m: \u001b[32mmonix\u001b[39m.\u001b[32meval\u001b[39m.\u001b[32mTask\u001b[39m[\u001b[32mMap\u001b[39m[\u001b[32mExpression\u001b[39m, \u001b[32mDouble\u001b[39m]] = \u001b[33mFlatMap\u001b[39m(\n",
       "  \u001b[33mAsync\u001b[39m(<function2>, false, true, true),\n",
       "  ammonite.$sess.cmd16$Helper$$Lambda$3201/2056589288@4ea89daf\n",
       ")"
      ]
     },
     "execution_count": 17,
     "metadata": {},
     "output_type": "execute_result"
    }
   ],
   "source": [
    "val fullBackT = for {\n",
    "    ev <- lp1.expressionEval\n",
    "    pfs <- pfsT\n",
    "} yield ev.Final.fullBackMap(Map(FinalVal(Elem( pfs.support.head, Terms )) -> 1), lp1.cutoff)"
   ]
  },
  {
   "cell_type": "code",
   "execution_count": 18,
   "metadata": {},
   "outputs": [
    {
     "data": {
      "text/html": [
       "<div class=\"jp-RenderedText\">\n",
       "<pre><code><span style=\"color: rgb(0, 187, 187)\"><span class=\"ansi-cyan-fg\">res17</span></span>: <span style=\"color: rgb(0, 187, 0)\"><span class=\"ansi-green-fg\">monix</span></span>.<span style=\"color: rgb(0, 187, 0)\"><span class=\"ansi-green-fg\">execution</span></span>.<span style=\"color: rgb(0, 187, 0)\"><span class=\"ansi-green-fg\">CancelableFuture</span></span>[<span style=\"color: rgb(0, 187, 0)\"><span class=\"ansi-green-fg\">Map</span></span>[<span style=\"color: rgb(0, 187, 0)\"><span class=\"ansi-green-fg\">Expression</span></span>, <span style=\"color: rgb(0, 187, 0)\"><span class=\"ansi-green-fg\">Double</span></span>]] = <span style=\"color: rgb(0, 187, 0)\"><span class=\"ansi-green-fg\"><style>@keyframes fadein { from { opacity: 0; } to { opacity: 1; } }</style><span style=\"animation: fadein 2s;\"><span style=\"color: yellow\"><span class=\"ansi-yellow-fg\">Success</span></span>(\n",
       "  <span style=\"color: yellow\"><span class=\"ansi-yellow-fg\">Map</span></span>(\n",
       "    <span style=\"color: yellow\"><span class=\"ansi-yellow-fg\">FinalVal</span></span>(<span style=\"color: yellow\"><span class=\"ansi-yellow-fg\">Elem</span></span>(<span style=\"color: rgb(0, 187, 0)\"><span class=\"ansi-green-fg\">axiom_{eqM(mul(a)(e_r))(a)}(e_l)</span></span>, Terms)) -&gt; <span style=\"color: rgb(0, 187, 0)\"><span class=\"ansi-green-fg\">0.01263157894736842</span></span>,\n",
       "    <span style=\"color: yellow\"><span class=\"ansi-yellow-fg\">FinalVal</span></span>(\n",
       "      <span style=\"color: yellow\"><span class=\"ansi-yellow-fg\">Elem</span></span>(\n",
       "        <span style=\"color: rgb(0, 187, 0)\"><span class=\"ansi-green-fg\">axiom_{(eqM(a)(b) \\to eqM(b)(a))}(mul(e_l)(e_r))(e_l)(axiom_{eqM(mul(a)(e_r))(a)}(e_l))</span></span>,\n",
       "        Terms\n",
       "      )\n",
       "    ) -&gt; <span style=\"color: rgb(0, 187, 0)\"><span class=\"ansi-green-fg\">1.0</span></span>,\n",
       "    <span style=\"color: yellow\"><span class=\"ansi-yellow-fg\">FinalVal</span></span>(<span style=\"color: yellow\"><span class=\"ansi-yellow-fg\">Elem</span></span>(<span style=\"color: yellow\"><span class=\"ansi-yellow-fg\">Wrap</span></span>(<span style=\"color: rgb(0, 187, 0)\"><span class=\"ansi-green-fg\">axiom_{eqM(mul(a)(e_r))(a)}</span></span>), Funcs)) -&gt; <span style=\"color: rgb(0, 187, 0)\"><span class=\"ansi-green-fg\">5.990977443609024E-4</span></span>,\n",
       "    <span style=\"color: yellow\"><span class=\"ansi-yellow-fg\">InitialVal</span></span>(<span style=\"color: yellow\"><span class=\"ansi-yellow-fg\">Elem</span></span>(<span style=\"color: yellow\"><span class=\"ansi-yellow-fg\">Wrap</span></span>(<span style=\"color: rgb(0, 187, 0)\"><span class=\"ansi-green-fg\">axiom_{eqM(mul(a)(e_r))(a)}</span></span>), Funcs)) -&gt; <span style=\"color: rgb(0, 187, 0)\"><span class=\"ansi-green-fg\">4.79278195488722E-4</span></span>,\n",
       "    <span style=\"color: yellow\"><span class=\"ansi-yellow-fg\">InitialVal</span></span>(<span style=\"color: yellow\"><span class=\"ansi-yellow-fg\">Elem</span></span>(<span style=\"color: yellow\"><span class=\"ansi-yellow-fg\">Wrap</span></span>(<span style=\"color: rgb(0, 187, 0)\"><span class=\"ansi-green-fg\">axiom_{(eqM(a)(b) \\to eqM(b)(a))}</span></span>), Funcs)) -&gt; <span style=\"color: rgb(0, 187, 0)\"><span class=\"ansi-green-fg\">4.792781954887222E-4</span></span>,\n",
       "    <span style=\"color: yellow\"><span class=\"ansi-yellow-fg\">FinalVal</span></span>(<span style=\"color: yellow\"><span class=\"ansi-yellow-fg\">Elem</span></span>(<span style=\"color: yellow\"><span class=\"ansi-yellow-fg\">Wrap</span></span>(<span style=\"color: rgb(0, 187, 0)\"><span class=\"ansi-green-fg\">axiom_{(eqM(a)(b) \\to eqM(b)(a))}</span></span>), Funcs)) -&gt; <span style=\"color: rgb(0, 187, 0)\"><span class=\"ansi-green-fg\">5.990977443609026E-4</span></span>,\n",
       "    <span style=\"color: yellow\"><span class=\"ansi-yellow-fg\">FinalVal</span></span>(<span style=\"color: yellow\"><span class=\"ansi-yellow-fg\">Elem</span></span>(<span style=\"color: rgb(0, 187, 0)\"><span class=\"ansi-green-fg\">e_l</span></span>, <span style=\"color: yellow\"><span class=\"ansi-yellow-fg\">AtCoord</span></span>(TermsWithTyp, <span style=\"color: rgb(0, 187, 0)\"><span class=\"ansi-green-fg\">M</span></span> :: HNil))) -&gt; <span style=\"color: rgb(0, 187, 0)\"><span class=\"ansi-green-fg\">1.5955678670360112E-4</span></span>,\n",
       "    <span style=\"color: yellow\"><span class=\"ansi-yellow-fg\">FinalVal</span></span>(<span style=\"color: yellow\"><span class=\"ansi-yellow-fg\">Elem</span></span>(<span style=\"color: rgb(0, 187, 0)\"><span class=\"ansi-green-fg\">e_l</span></span>, Terms)) -&gt; <span style=\"color: rgb(0, 187, 0)\"><span class=\"ansi-green-fg\">1.5955678670360112E-4</span></span>,\n",
       "    <span style=\"color: yellow\"><span class=\"ansi-yellow-fg\">InitialVal</span></span>(<span style=\"color: yellow\"><span class=\"ansi-yellow-fg\">Elem</span></span>(<span style=\"color: rgb(0, 187, 0)\"><span class=\"ansi-green-fg\">e_l</span></span>, Terms)) -&gt; <span style=\"color: rgb(0, 187, 0)\"><span class=\"ansi-green-fg\">1.276454293628809E-4</span></span>\n",
       "  )\n",
       ")</span></span></span></code></pre>\n",
       "</div>"
      ],
      "text/plain": [
       "\u001b[36mres17\u001b[39m: \u001b[32mmonix\u001b[39m.\u001b[32mexecution\u001b[39m.\u001b[32mCancelableFuture\u001b[39m[\u001b[32mMap\u001b[39m[\u001b[32mExpression\u001b[39m, \u001b[32mDouble\u001b[39m]] = \u001b[32m\u001b[33mSuccess\u001b[39m(\n",
       "  \u001b[33mMap\u001b[39m(\n",
       "    \u001b[33mFinalVal\u001b[39m(\u001b[33mElem\u001b[39m(\u001b[32maxiom_{eqM(mul(a)(e_r))(a)}(e_l)\u001b[39m, Terms)) -> \u001b[32m0.01263157894736842\u001b[39m,\n",
       "    \u001b[33mFinalVal\u001b[39m(\n",
       "      \u001b[33mElem\u001b[39m(\n",
       "        \u001b[32maxiom_{(eqM(a)(b) \\to eqM(b)(a))}(mul(e_l)(e_r))(e_l)(axiom_{eqM(mul(a)(e_r))(a)}(e_l))\u001b[39m,\n",
       "        Terms\n",
       "      )\n",
       "    ) -> \u001b[32m1.0\u001b[39m,\n",
       "    \u001b[33mFinalVal\u001b[39m(\u001b[33mElem\u001b[39m(\u001b[33mWrap\u001b[39m(\u001b[32maxiom_{eqM(mul(a)(e_r))(a)}\u001b[39m), Funcs)) -> \u001b[32m5.990977443609024E-4\u001b[39m,\n",
       "    \u001b[33mInitialVal\u001b[39m(\u001b[33mElem\u001b[39m(\u001b[33mWrap\u001b[39m(\u001b[32maxiom_{eqM(mul(a)(e_r))(a)}\u001b[39m), Funcs)) -> \u001b[32m4.79278195488722E-4\u001b[39m,\n",
       "    \u001b[33mInitialVal\u001b[39m(\u001b[33mElem\u001b[39m(\u001b[33mWrap\u001b[39m(\u001b[32maxiom_{(eqM(a)(b) \\to eqM(b)(a))}\u001b[39m), Funcs)) -> \u001b[32m4.792781954887222E-4\u001b[39m,\n",
       "    \u001b[33mFinalVal\u001b[39m(\u001b[33mElem\u001b[39m(\u001b[33mWrap\u001b[39m(\u001b[32maxiom_{(eqM(a)(b) \\to eqM(b)(a))}\u001b[39m), Funcs)) -> \u001b[32m5.990977443609026E-4\u001b[39m,\n",
       "    \u001b[33mFinalVal\u001b[39m(\u001b[33mElem\u001b[39m(\u001b[32me_l\u001b[39m, \u001b[33mAtCoord\u001b[39m(TermsWithTyp, \u001b[32mM\u001b[39m :: HNil))) -> \u001b[32m1.5955678670360112E-4\u001b[39m,\n",
       "    \u001b[33mFinalVal\u001b[39m(\u001b[33mElem\u001b[39m(\u001b[32me_l\u001b[39m, Terms)) -> \u001b[32m1.5955678670360112E-4\u001b[39m,\n",
       "    \u001b[33mInitialVal\u001b[39m(\u001b[33mElem\u001b[39m(\u001b[32me_l\u001b[39m, Terms)) -> \u001b[32m1.276454293628809E-4\u001b[39m\n",
       "  )\n",
       ")\u001b[39m"
      ]
     },
     "metadata": {},
     "output_type": "display_data"
    }
   ],
   "source": [
    "fullBackT.runToFuture"
   ]
  },
  {
   "cell_type": "markdown",
   "metadata": {},
   "source": [
    "## Conclusions\n",
    "\n",
    "* this is working fine.\n",
    "* the cutoff leads to all backward propagated terms disappearing.\n",
    "* we may need to propagate more strongly, or reduce cutoffs"
   ]
  }
 ],
 "metadata": {
  "kernelspec": {
   "display_name": "Scala",
   "language": "scala",
   "name": "scala"
  },
  "language_info": {
   "codemirror_mode": "text/x-scala",
   "file_extension": ".scala",
   "mimetype": "text/x-scala",
   "name": "scala",
   "nbconvert_exporter": "script",
   "version": "2.12.9"
  }
 },
 "nbformat": 4,
 "nbformat_minor": 2
}
