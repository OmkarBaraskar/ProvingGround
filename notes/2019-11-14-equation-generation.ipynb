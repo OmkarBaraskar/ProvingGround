{
 "cells": [
  {
   "cell_type": "markdown",
   "metadata": {},
   "source": [
    "## Generating and merging with equations.\n",
    "\n",
    "Here we test generating final states with equations, including after merging equations from different local provers."
   ]
  },
  {
   "cell_type": "code",
   "execution_count": 1,
   "metadata": {},
   "outputs": [
    {
     "data": {
      "text/plain": [
       "\u001b[32mimport \u001b[39m\u001b[36m$cp.$                                              \n",
       "\u001b[39m\n",
       "\u001b[32mimport \u001b[39m\u001b[36mprovingground._ , interface._, HoTT._, learning._ \n",
       "\u001b[39m"
      ]
     },
     "execution_count": 1,
     "metadata": {},
     "output_type": "execute_result"
    }
   ],
   "source": [
    "import $cp.bin.`provingground-core-jvm-0b2e2155ea.fat.jar`\n",
    "import provingground._ , interface._, HoTT._, learning._ \n",
    "repl.pprinter() = {\n",
    "  val p = repl.pprinter()\n",
    "  p.copy(\n",
    "    additionalHandlers = p.additionalHandlers.orElse {\n",
    "      translation.FansiShow.fansiHandler\n",
    "    }\n",
    "  )\n",
    "}\n"
   ]
  },
  {
   "cell_type": "code",
   "execution_count": 2,
   "metadata": {},
   "outputs": [
    {
     "data": {
      "text/plain": [
       "\u001b[36mM\u001b[39m: \u001b[32mTyp\u001b[39m[\u001b[32mTerm\u001b[39m] = \u001b[32mM\u001b[39m\n",
       "\u001b[36meqM\u001b[39m: \u001b[32mFunc\u001b[39m[\u001b[32mTerm\u001b[39m, \u001b[32mFunc\u001b[39m[\u001b[32mTerm\u001b[39m, \u001b[32mTyp\u001b[39m[\u001b[32mTerm\u001b[39m]]] = \u001b[32meqM\u001b[39m\n",
       "\u001b[36mmul\u001b[39m: \u001b[32mFunc\u001b[39m[\u001b[32mTerm\u001b[39m, \u001b[32mFunc\u001b[39m[\u001b[32mTerm\u001b[39m, \u001b[32mTerm\u001b[39m]] = \u001b[32mmul\u001b[39m\n",
       "\u001b[36mm\u001b[39m: \u001b[32mTerm\u001b[39m = \u001b[32mm\u001b[39m\n",
       "\u001b[36mn\u001b[39m: \u001b[32mTerm\u001b[39m = \u001b[32mn\u001b[39m\n",
       "\u001b[36msym\u001b[39m: \u001b[32mFuncLike\u001b[39m[\u001b[32mTerm\u001b[39m, \u001b[32mFuncLike\u001b[39m[\u001b[32mTerm\u001b[39m, \u001b[32mFunc\u001b[39m[\u001b[32mTerm\u001b[39m, \u001b[32mTerm\u001b[39m]]] = \u001b[32msym\u001b[39m"
      ]
     },
     "execution_count": 2,
     "metadata": {},
     "output_type": "execute_result"
    }
   ],
   "source": [
    "val M = \"M\" :: Type\n",
    "val eqM = \"eqM\" :: M ->: M ->: Type\n",
    "val mul = \"mul\" :: M ->: M ->: M\n",
    "val m = \"m\" :: M\n",
    "val n = \"n\" :: M\n",
    "val sym = \"sym\" :: m ~>: (n ~>: (eqM(m)(n) ->: eqM(n)(m)))"
   ]
  },
  {
   "cell_type": "code",
   "execution_count": 3,
   "metadata": {},
   "outputs": [
    {
     "data": {
      "text/plain": [
       "\u001b[36mts\u001b[39m: \u001b[32mTermState\u001b[39m = \u001b[33mTermState\u001b[39m(\n",
       "  \u001b[33mFiniteDistribution\u001b[39m(\n",
       "    \u001b[33mVector\u001b[39m(\n",
       "      \u001b[33mWeighted\u001b[39m(\u001b[32mM\u001b[39m, \u001b[32m0.16666666666666666\u001b[39m),\n",
       "      \u001b[33mWeighted\u001b[39m(\u001b[32meqM\u001b[39m, \u001b[32m0.16666666666666666\u001b[39m),\n",
       "      \u001b[33mWeighted\u001b[39m(\u001b[32mm\u001b[39m, \u001b[32m0.16666666666666666\u001b[39m),\n",
       "      \u001b[33mWeighted\u001b[39m(\u001b[32msym\u001b[39m, \u001b[32m0.16666666666666666\u001b[39m),\n",
       "      \u001b[33mWeighted\u001b[39m(\u001b[32mn\u001b[39m, \u001b[32m0.16666666666666666\u001b[39m),\n",
       "      \u001b[33mWeighted\u001b[39m(\u001b[32mmul\u001b[39m, \u001b[32m0.16666666666666666\u001b[39m)\n",
       "    )\n",
       "  ),\n",
       "  \u001b[33mFiniteDistribution\u001b[39m(\n",
       "    \u001b[33mVector\u001b[39m(\n",
       "      \u001b[33mWeighted\u001b[39m(\u001b[32m(M → (M → M))\u001b[39m, \u001b[32m0.2\u001b[39m),\n",
       "      \u001b[33mWeighted\u001b[39m(\u001b[32m∏(m : M){ ∏(n : M){ (eqM(m)(n) → eqM(n)(m)) } }\u001b[39m, \u001b[32m0.2\u001b[39m),\n",
       "      \u001b[33mWeighted\u001b[39m(\u001b[32mM\u001b[39m, \u001b[32m0.2\u001b[39m),\n",
       "      \u001b[33mWeighted\u001b[39m(\u001b[32m(M → (M → 𝒰 ))\u001b[39m, \u001b[32m0.2\u001b[39m),\n",
       "      \u001b[33mWeighted\u001b[39m(\u001b[32m𝒰 \u001b[39m, \u001b[32m0.2\u001b[39m)\n",
       "    )\n",
       "  ),\n",
       "  \u001b[33mVector\u001b[39m(),\n",
       "  \u001b[33mFiniteDistribution\u001b[39m(\u001b[33mVector\u001b[39m()),\n",
       "  \u001b[33mFiniteDistribution\u001b[39m(\u001b[33mVector\u001b[39m()),\n",
       "  Empty\n",
       ")"
      ]
     },
     "execution_count": 3,
     "metadata": {},
     "output_type": "execute_result"
    }
   ],
   "source": [
    "val ts = TermState(FiniteDistribution.unif(M, eqM, mul, m, n, sym), FiniteDistribution.unif(M, Type, eqM.typ, mul.typ, sym.typ))"
   ]
  },
  {
   "cell_type": "code",
   "execution_count": 4,
   "metadata": {},
   "outputs": [
    {
     "data": {
      "text/plain": [
       "\u001b[36mlp\u001b[39m: \u001b[32mLocalProver\u001b[39m = \u001b[33mLocalProver\u001b[39m(\n",
       "  \u001b[33mTermState\u001b[39m(\n",
       "    \u001b[33mFiniteDistribution\u001b[39m(\n",
       "      \u001b[33mVector\u001b[39m(\n",
       "        \u001b[33mWeighted\u001b[39m(\u001b[32mM\u001b[39m, \u001b[32m0.16666666666666666\u001b[39m),\n",
       "        \u001b[33mWeighted\u001b[39m(\u001b[32meqM\u001b[39m, \u001b[32m0.16666666666666666\u001b[39m),\n",
       "        \u001b[33mWeighted\u001b[39m(\u001b[32mm\u001b[39m, \u001b[32m0.16666666666666666\u001b[39m),\n",
       "        \u001b[33mWeighted\u001b[39m(\u001b[32msym\u001b[39m, \u001b[32m0.16666666666666666\u001b[39m),\n",
       "        \u001b[33mWeighted\u001b[39m(\u001b[32mn\u001b[39m, \u001b[32m0.16666666666666666\u001b[39m),\n",
       "        \u001b[33mWeighted\u001b[39m(\u001b[32mmul\u001b[39m, \u001b[32m0.16666666666666666\u001b[39m)\n",
       "      )\n",
       "    ),\n",
       "    \u001b[33mFiniteDistribution\u001b[39m(\n",
       "      \u001b[33mVector\u001b[39m(\n",
       "        \u001b[33mWeighted\u001b[39m(\u001b[32m(M → (M → M))\u001b[39m, \u001b[32m0.2\u001b[39m),\n",
       "        \u001b[33mWeighted\u001b[39m(\u001b[32m∏(m : M){ ∏(n : M){ (eqM(m)(n) → eqM(n)(m)) } }\u001b[39m, \u001b[32m0.2\u001b[39m),\n",
       "        \u001b[33mWeighted\u001b[39m(\u001b[32mM\u001b[39m, \u001b[32m0.2\u001b[39m),\n",
       "        \u001b[33mWeighted\u001b[39m(\u001b[32m(M → (M → 𝒰 ))\u001b[39m, \u001b[32m0.2\u001b[39m),\n",
       "        \u001b[33mWeighted\u001b[39m(\u001b[32m𝒰 \u001b[39m, \u001b[32m0.2\u001b[39m)\n",
       "      )\n",
       "    ),\n",
       "    \u001b[33mVector\u001b[39m(),\n",
       "    \u001b[33mFiniteDistribution\u001b[39m(\u001b[33mVector\u001b[39m()),\n",
       "    \u001b[33mFiniteDistribution\u001b[39m(\u001b[33mVector\u001b[39m()),\n",
       "    Empty\n",
       "  ),\n",
       "  \u001b[33mTermGenParams\u001b[39m(\n",
       "    \u001b[32m0.1\u001b[39m,\n",
       "    \u001b[32m0.1\u001b[39m,\n",
       "    \u001b[32m0.1\u001b[39m,\n",
       "    \u001b[32m0.0\u001b[39m,\n",
       "    \u001b[32m0.0\u001b[39m,\n",
       "    \u001b[32m0.05\u001b[39m,\n",
       "    \u001b[32m0.05\u001b[39m,\n",
       "    \u001b[32m0.0\u001b[39m,\n",
       "    \u001b[32m0.0\u001b[39m,\n",
       "    \u001b[32m0.0\u001b[39m,\n",
       "    \u001b[32m0.0\u001b[39m,\n",
       "    \u001b[32m0.0\u001b[39m,\n",
       "..."
      ]
     },
     "execution_count": 4,
     "metadata": {},
     "output_type": "execute_result"
    }
   ],
   "source": [
    "val lp = LocalProver(ts, decay = 0.95).noIsles"
   ]
  },
  {
   "cell_type": "code",
   "execution_count": 5,
   "metadata": {},
   "outputs": [
    {
     "data": {
      "text/plain": [
       "\u001b[36mnsT\u001b[39m: \u001b[32mmonix\u001b[39m.\u001b[32meval\u001b[39m.\u001b[32mTask\u001b[39m[\u001b[32mTermState\u001b[39m] = \u001b[33mAsync\u001b[39m(<function2>, false, true, true)\n",
       "\u001b[36mevT\u001b[39m: \u001b[32mmonix\u001b[39m.\u001b[32meval\u001b[39m.\u001b[32mTask\u001b[39m[\u001b[32mExpressionEval\u001b[39m] = \u001b[33mAsync\u001b[39m(<function2>, false, true, true)"
      ]
     },
     "execution_count": 5,
     "metadata": {},
     "output_type": "execute_result"
    }
   ],
   "source": [
    "val nsT = lp.nextState.memoize\n",
    "val evT = lp.expressionEval.memoize"
   ]
  },
  {
   "cell_type": "code",
   "execution_count": 6,
   "metadata": {},
   "outputs": [
    {
     "data": {
      "text/html": [
       "<div class=\"jp-RenderedText\">\n",
       "<pre><code><span style=\"color: rgb(0, 187, 0)\"><span class=\"ansi-green-fg\">import </span></span><span style=\"color: rgb(0, 187, 187)\"><span class=\"ansi-cyan-fg\">monix.execution.Scheduler.Implicits.global\n",
       "</span></span>\n",
       "<span style=\"color: rgb(0, 187, 187)\"><span class=\"ansi-cyan-fg\">nsF</span></span>: <span style=\"color: rgb(0, 187, 0)\"><span class=\"ansi-green-fg\">monix</span></span>.<span style=\"color: rgb(0, 187, 0)\"><span class=\"ansi-green-fg\">execution</span></span>.<span style=\"color: rgb(0, 187, 0)\"><span class=\"ansi-green-fg\">CancelableFuture</span></span>[<span style=\"color: rgb(0, 187, 0)\"><span class=\"ansi-green-fg\">TermState</span></span>] = <span style=\"color: rgb(0, 187, 0)\"><span class=\"ansi-green-fg\"><style>@keyframes fadein { from { opacity: 0; } to { opacity: 1; } }</style><span style=\"animation: fadein 2s;\"><span style=\"color: yellow\"><span class=\"ansi-yellow-fg\">Success</span></span>(\n",
       "  <span style=\"color: yellow\"><span class=\"ansi-yellow-fg\">TermState</span></span>(\n",
       "    <span style=\"color: yellow\"><span class=\"ansi-yellow-fg\">FiniteDistribution</span></span>(\n",
       "      <span style=\"color: yellow\"><span class=\"ansi-yellow-fg\">Vector</span></span>(\n",
       "        <span style=\"color: yellow\"><span class=\"ansi-yellow-fg\">Weighted</span></span>(<span style=\"color: rgb(0, 187, 0)\"><span class=\"ansi-green-fg\">mul(n)(n)</span></span>, <span style=\"color: rgb(0, 187, 0)\"><span class=\"ansi-green-fg\">0.004243011618998321</span></span>),\n",
       "        <span style=\"color: yellow\"><span class=\"ansi-yellow-fg\">Weighted</span></span>(<span style=\"color: rgb(0, 187, 0)\"><span class=\"ansi-green-fg\">(@a : M) ↦ (@b : M) ↦ @a</span></span>, <span style=\"color: rgb(0, 187, 0)\"><span class=\"ansi-green-fg\">0.0021079312860588584</span></span>),\n",
       "        <span style=\"color: yellow\"><span class=\"ansi-yellow-fg\">Weighted</span></span>(<span style=\"color: rgb(0, 187, 0)\"><span class=\"ansi-green-fg\">(@a : M) ↦ (@b : M) ↦ @b</span></span>, <span style=\"color: rgb(0, 187, 0)\"><span class=\"ansi-green-fg\">0.0030113304086555118</span></span>),\n",
       "        <span style=\"color: yellow\"><span class=\"ansi-yellow-fg\">Weighted</span></span>(<span style=\"color: rgb(0, 187, 0)\"><span class=\"ansi-green-fg\">sym(mul(n)(m))</span></span>, <span style=\"color: rgb(0, 187, 0)\"><span class=\"ansi-green-fg\">0.003897793176472144</span></span>),\n",
       "        <span style=\"color: yellow\"><span class=\"ansi-yellow-fg\">Weighted</span></span>(<span style=\"color: rgb(0, 187, 0)\"><span class=\"ansi-green-fg\">(@a : M) ↦ mul(@a)</span></span>, <span style=\"color: rgb(0, 187, 0)\"><span class=\"ansi-green-fg\">8.355614595445236E-4</span></span>),\n",
       "        <span style=\"color: yellow\"><span class=\"ansi-yellow-fg\">Weighted</span></span>(<span style=\"color: rgb(0, 187, 0)\"><span class=\"ansi-green-fg\">sym(n)</span></span>, <span style=\"color: rgb(0, 187, 0)\"><span class=\"ansi-green-fg\">0.02118049529507811</span></span>),\n",
       "        <span style=\"color: yellow\"><span class=\"ansi-yellow-fg\">Weighted</span></span>(<span style=\"color: rgb(0, 187, 0)\"><span class=\"ansi-green-fg\">mul(mul(m)(n))</span></span>, <span style=\"color: rgb(0, 187, 0)\"><span class=\"ansi-green-fg\">0.003897793176472144</span></span>),\n",
       "        <span style=\"color: yellow\"><span class=\"ansi-yellow-fg\">Weighted</span></span>(<span style=\"color: rgb(0, 187, 0)\"><span class=\"ansi-green-fg\">mul(n)(m)</span></span>, <span style=\"color: rgb(0, 187, 0)\"><span class=\"ansi-green-fg\">0.004243011618998321</span></span>),\n",
       "        <span style=\"color: yellow\"><span class=\"ansi-yellow-fg\">Weighted</span></span>(<span style=\"color: rgb(0, 187, 0)\"><span class=\"ansi-green-fg\">sym(m)(m)</span></span>, <span style=\"color: rgb(0, 187, 0)\"><span class=\"ansi-green-fg\">0.004243011618998321</span></span>),\n",
       "        <span style=\"color: yellow\"><span class=\"ansi-yellow-fg\">Weighted</span></span>(<span style=\"color: rgb(0, 187, 0)\"><span class=\"ansi-green-fg\">sym(n)(n)</span></span>, <span style=\"color: rgb(0, 187, 0)\"><span class=\"ansi-green-fg\">0.004243011618998321</span></span>),\n",
       "        <span style=\"color: yellow\"><span class=\"ansi-yellow-fg\">Weighted</span></span>(<span style=\"color: rgb(0, 187, 0)\"><span class=\"ansi-green-fg\">(@a : M) ↦ eqM(@a)</span></span>, <span style=\"color: rgb(0, 187, 0)\"><span class=\"ansi-green-fg\">8.35561459544524E-4</span></span>),\n",
       "        <span style=\"color: yellow\"><span class=\"ansi-yellow-fg\">Weighted</span></span>(<span style=\"color: rgb(0, 187, 0)\"><span class=\"ansi-green-fg\">eqM(m)(n)</span></span>, <span style=\"color: rgb(0, 187, 0)\"><span class=\"ansi-green-fg\">0.004243011618998321</span></span>),\n",
       "        <span style=\"color: yellow\"><span class=\"ansi-yellow-fg\">Weighted</span></span>(<span style=\"color: rgb(0, 187, 0)\"><span class=\"ansi-green-fg\">mul(n)(mul(m)(m))</span></span>, <span style=\"color: rgb(0, 187, 0)\"><span class=\"ansi-green-fg\">6.581185050035902E-4</span></span>),\n",
       "        <span style=\"color: yellow\"><span class=\"ansi-yellow-fg\">Weighted</span></span>(<span style=\"color: rgb(0, 187, 0)\"><span class=\"ansi-green-fg\">sym(m)(mul(n)(n))</span></span>, <span style=\"color: rgb(0, 187, 0)\"><span class=\"ansi-green-fg\">6.581185050035902E-4</span></span>),\n",
       "        <span style=\"color: yellow\"><span class=\"ansi-yellow-fg\">Weighted</span></span>(<span style=\"color: rgb(0, 187, 0)\"><span class=\"ansi-green-fg\">mul</span></span>, <span style=\"color: rgb(0, 187, 0)\"><span class=\"ansi-green-fg\">0.12078593517729021</span></span>),\n",
       "        <span style=\"color: yellow\"><span class=\"ansi-yellow-fg\">Weighted</span></span>(<span style=\"color: rgb(0, 187, 0)\"><span class=\"ansi-green-fg\">sym(m)(mul(m)(m))</span></span>, <span style=\"color: rgb(0, 187, 0)\"><span class=\"ansi-green-fg\">6.581185050035902E-4</span></span>),\n",
       "        <span style=\"color: yellow\"><span class=\"ansi-yellow-fg\">Weighted</span></span>(<span style=\"color: rgb(0, 187, 0)\"><span class=\"ansi-green-fg\">mul(m)(mul(m)(m))</span></span>, <span style=\"color: rgb(0, 187, 0)\"><span class=\"ansi-green-fg\">6.581185050035902E-4</span></span>),\n",
       "        <span style=\"color: yellow\"><span class=\"ansi-yellow-fg\">Weighted</span></span>(<span style=\"color: rgb(0, 187, 0)\"><span class=\"ansi-green-fg\">mul(m)</span></span>, <span style=\"color: rgb(0, 187, 0)\"><span class=\"ansi-green-fg\">0.02118049529507811</span></span>),\n",
       "        <span style=\"color: yellow\"><span class=\"ansi-yellow-fg\">Weighted</span></span>(<span style=\"color: rgb(0, 187, 0)\"><span class=\"ansi-green-fg\">(@a : M) ↦ (@b : M) ↦ n</span></span>, <span style=\"color: rgb(0, 187, 0)\"><span class=\"ansi-green-fg\">8.197510556895558E-4</span></span>),\n",
       "        <span style=\"color: yellow\"><span class=\"ansi-yellow-fg\">Weighted</span></span>(<span style=\"color: rgb(0, 187, 0)\"><span class=\"ansi-green-fg\">M</span></span>, <span style=\"color: rgb(0, 187, 0)\"><span class=\"ansi-green-fg\">0.1283802604429282</span></span>),\n",
       "        <span style=\"color: yellow\"><span class=\"ansi-yellow-fg\">Weighted</span></span>(<span style=\"color: rgb(0, 187, 0)\"><span class=\"ansi-green-fg\">mul(m)(mul(n)(m))</span></span>, <span style=\"color: rgb(0, 187, 0)\"><span class=\"ansi-green-fg\">6.581185050035902E-4</span></span>),\n",
       "        <span style=\"color: yellow\"><span class=\"ansi-yellow-fg\">Weighted</span></span>(<span style=\"color: rgb(0, 187, 0)\"><span class=\"ansi-green-fg\">mul(n)(mul(m)(n))</span></span>, <span style=\"color: rgb(0, 187, 0)\"><span class=\"ansi-green-fg\">6.581185050035902E-4</span></span>),\n",
       "        <span style=\"color: yellow\"><span class=\"ansi-yellow-fg\">Weighted</span></span>(<span style=\"color: rgb(0, 187, 0)\"><span class=\"ansi-green-fg\">sym(m)(n)</span></span>, <span style=\"color: rgb(0, 187, 0)\"><span class=\"ansi-green-fg\">0.004243011618998321</span></span>),\n",
       "        <span style=\"color: yellow\"><span class=\"ansi-yellow-fg\">Weighted</span></span>(<span style=\"color: rgb(0, 187, 0)\"><span class=\"ansi-green-fg\">m</span></span>, <span style=\"color: rgb(0, 187, 0)\"><span class=\"ansi-green-fg\">0.12295574239604391</span></span>),\n",
       "        <span style=\"color: yellow\"><span class=\"ansi-yellow-fg\">Weighted</span></span>(<span style=\"color: rgb(0, 187, 0)\"><span class=\"ansi-green-fg\">eqM(n)(mul(n)(n))</span></span>, <span style=\"color: rgb(0, 187, 0)\"><span class=\"ansi-green-fg\">6.581185050035902E-4</span></span>),\n",
       "        <span style=\"color: yellow\"><span class=\"ansi-yellow-fg\">Weighted</span></span>(<span style=\"color: rgb(0, 187, 0)\"><span class=\"ansi-green-fg\">sym(mul(n)(n))</span></span>, <span style=\"color: rgb(0, 187, 0)\"><span class=\"ansi-green-fg\">0.003897793176472144</span></span>),\n",
       "        <span style=\"color: yellow\"><span class=\"ansi-yellow-fg\">Weighted</span></span>(<span style=\"color: rgb(0, 187, 0)\"><span class=\"ansi-green-fg\">eqM(m)(mul(m)(m))</span></span>, <span style=\"color: rgb(0, 187, 0)\"><span class=\"ansi-green-fg\">6.581185050035902E-4</span></span>),\n",
       "        <span style=\"color: yellow\"><span class=\"ansi-yellow-fg\">Weighted</span></span>(<span style=\"color: rgb(0, 187, 0)\"><span class=\"ansi-green-fg\">eqM(m)(m)</span></span>, <span style=\"color: rgb(0, 187, 0)\"><span class=\"ansi-green-fg\">0.004243011618998321</span></span>),\n",
       "        <span style=\"color: yellow\"><span class=\"ansi-yellow-fg\">Weighted</span></span>(<span style=\"color: rgb(0, 187, 0)\"><span class=\"ansi-green-fg\">mul(n)(mul(n)(n))</span></span>, <span style=\"color: rgb(0, 187, 0)\"><span class=\"ansi-green-fg\">6.581185050035902E-4</span></span>),\n",
       "        <span style=\"color: yellow\"><span class=\"ansi-yellow-fg\">Weighted</span></span>(<span style=\"color: rgb(0, 187, 0)\"><span class=\"ansi-green-fg\">eqM(n)(mul(n)(m))</span></span>, <span style=\"color: rgb(0, 187, 0)\"><span class=\"ansi-green-fg\">6.581185050035902E-4</span></span>),\n",
       "        <span style=\"color: yellow\"><span class=\"ansi-yellow-fg\">Weighted</span></span>(<span style=\"color: rgb(0, 187, 0)\"><span class=\"ansi-green-fg\">eqM(mul(m)(m))</span></span>, <span style=\"color: rgb(0, 187, 0)\"><span class=\"ansi-green-fg\">0.003897793176472144</span></span>),\n",
       "        <span style=\"color: yellow\"><span class=\"ansi-yellow-fg\">Weighted</span></span>(<span style=\"color: rgb(0, 187, 0)\"><span class=\"ansi-green-fg\">sym(m)(mul(n)(m))</span></span>, <span style=\"color: rgb(0, 187, 0)\"><span class=\"ansi-green-fg\">6.581185050035902E-4</span></span>),\n",
       "        <span style=\"color: yellow\"><span class=\"ansi-yellow-fg\">Weighted</span></span>(<span style=\"color: rgb(0, 187, 0)\"><span class=\"ansi-green-fg\">mul(n)</span></span>, <span style=\"color: rgb(0, 187, 0)\"><span class=\"ansi-green-fg\">0.02118049529507811</span></span>),\n",
       "        <span style=\"color: yellow\"><span class=\"ansi-yellow-fg\">Weighted</span></span>(<span style=\"color: rgb(0, 187, 0)\"><span class=\"ansi-green-fg\">sym(mul(m)(n))</span></span>, <span style=\"color: rgb(0, 187, 0)\"><span class=\"ansi-green-fg\">0.003897793176472144</span></span>),\n",
       "        <span style=\"color: yellow\"><span class=\"ansi-yellow-fg\">Weighted</span></span>(<span style=\"color: rgb(0, 187, 0)\"><span class=\"ansi-green-fg\">sym</span></span>, <span style=\"color: rgb(0, 187, 0)\"><span class=\"ansi-green-fg\">0.12078593517729021</span></span>),\n",
       "...</span></span></span></code></pre>\n",
       "</div>"
      ],
      "text/plain": [
       "\u001b[32mimport \u001b[39m\u001b[36mmonix.execution.Scheduler.Implicits.global\n",
       "\u001b[39m\n",
       "\u001b[36mnsF\u001b[39m: \u001b[32mmonix\u001b[39m.\u001b[32mexecution\u001b[39m.\u001b[32mCancelableFuture\u001b[39m[\u001b[32mTermState\u001b[39m] = \u001b[32m\u001b[33mSuccess\u001b[39m(\n",
       "  \u001b[33mTermState\u001b[39m(\n",
       "    \u001b[33mFiniteDistribution\u001b[39m(\n",
       "      \u001b[33mVector\u001b[39m(\n",
       "        \u001b[33mWeighted\u001b[39m(\u001b[32mmul(n)(n)\u001b[39m, \u001b[32m0.004243011618998321\u001b[39m),\n",
       "        \u001b[33mWeighted\u001b[39m(\u001b[32m(@a : M) ↦ (@b : M) ↦ @a\u001b[39m, \u001b[32m0.0021079312860588584\u001b[39m),\n",
       "        \u001b[33mWeighted\u001b[39m(\u001b[32m(@a : M) ↦ (@b : M) ↦ @b\u001b[39m, \u001b[32m0.0030113304086555118\u001b[39m),\n",
       "        \u001b[33mWeighted\u001b[39m(\u001b[32msym(mul(n)(m))\u001b[39m, \u001b[32m0.003897793176472144\u001b[39m),\n",
       "        \u001b[33mWeighted\u001b[39m(\u001b[32m(@a : M) ↦ mul(@a)\u001b[39m, \u001b[32m8.355614595445236E-4\u001b[39m),\n",
       "        \u001b[33mWeighted\u001b[39m(\u001b[32msym(n)\u001b[39m, \u001b[32m0.02118049529507811\u001b[39m),\n",
       "        \u001b[33mWeighted\u001b[39m(\u001b[32mmul(mul(m)(n))\u001b[39m, \u001b[32m0.003897793176472144\u001b[39m),\n",
       "        \u001b[33mWeighted\u001b[39m(\u001b[32mmul(n)(m)\u001b[39m, \u001b[32m0.004243011618998321\u001b[39m),\n",
       "        \u001b[33mWeighted\u001b[39m(\u001b[32msym(m)(m)\u001b[39m, \u001b[32m0.004243011618998321\u001b[39m),\n",
       "        \u001b[33mWeighted\u001b[39m(\u001b[32msym(n)(n)\u001b[39m, \u001b[32m0.004243011618998321\u001b[39m),\n",
       "        \u001b[33mWeighted\u001b[39m(\u001b[32m(@a : M) ↦ eqM(@a)\u001b[39m, \u001b[32m8.35561459544524E-4\u001b[39m),\n",
       "        \u001b[33mWeighted\u001b[39m(\u001b[32meqM(m)(n)\u001b[39m, \u001b[32m0.004243011618998321\u001b[39m),\n",
       "        \u001b[33mWeighted\u001b[39m(\u001b[32mmul(n)(mul(m)(m))\u001b[39m, \u001b[32m6.581185050035902E-4\u001b[39m),\n",
       "        \u001b[33mWeighted\u001b[39m(\u001b[32msym(m)(mul(n)(n))\u001b[39m, \u001b[32m6.581185050035902E-4\u001b[39m),\n",
       "        \u001b[33mWeighted\u001b[39m(\u001b[32mmul\u001b[39m, \u001b[32m0.12078593517729021\u001b[39m),\n",
       "        \u001b[33mWeighted\u001b[39m(\u001b[32msym(m)(mul(m)(m))\u001b[39m, \u001b[32m6.581185050035902E-4\u001b[39m),\n",
       "        \u001b[33mWeighted\u001b[39m(\u001b[32mmul(m)(mul(m)(m))\u001b[39m, \u001b[32m6.581185050035902E-4\u001b[39m),\n",
       "        \u001b[33mWeighted\u001b[39m(\u001b[32mmul(m)\u001b[39m, \u001b[32m0.02118049529507811\u001b[39m),\n",
       "        \u001b[33mWeighted\u001b[39m(\u001b[32m(@a : M) ↦ (@b : M) ↦ n\u001b[39m, \u001b[32m8.197510556895558E-4\u001b[39m),\n",
       "        \u001b[33mWeighted\u001b[39m(\u001b[32mM\u001b[39m, \u001b[32m0.1283802604429282\u001b[39m),\n",
       "        \u001b[33mWeighted\u001b[39m(\u001b[32mmul(m)(mul(n)(m))\u001b[39m, \u001b[32m6.581185050035902E-4\u001b[39m),\n",
       "        \u001b[33mWeighted\u001b[39m(\u001b[32mmul(n)(mul(m)(n))\u001b[39m, \u001b[32m6.581185050035902E-4\u001b[39m),\n",
       "        \u001b[33mWeighted\u001b[39m(\u001b[32msym(m)(n)\u001b[39m, \u001b[32m0.004243011618998321\u001b[39m),\n",
       "        \u001b[33mWeighted\u001b[39m(\u001b[32mm\u001b[39m, \u001b[32m0.12295574239604391\u001b[39m),\n",
       "        \u001b[33mWeighted\u001b[39m(\u001b[32meqM(n)(mul(n)(n))\u001b[39m, \u001b[32m6.581185050035902E-4\u001b[39m),\n",
       "        \u001b[33mWeighted\u001b[39m(\u001b[32msym(mul(n)(n))\u001b[39m, \u001b[32m0.003897793176472144\u001b[39m),\n",
       "        \u001b[33mWeighted\u001b[39m(\u001b[32meqM(m)(mul(m)(m))\u001b[39m, \u001b[32m6.581185050035902E-4\u001b[39m),\n",
       "        \u001b[33mWeighted\u001b[39m(\u001b[32meqM(m)(m)\u001b[39m, \u001b[32m0.004243011618998321\u001b[39m),\n",
       "        \u001b[33mWeighted\u001b[39m(\u001b[32mmul(n)(mul(n)(n))\u001b[39m, \u001b[32m6.581185050035902E-4\u001b[39m),\n",
       "        \u001b[33mWeighted\u001b[39m(\u001b[32meqM(n)(mul(n)(m))\u001b[39m, \u001b[32m6.581185050035902E-4\u001b[39m),\n",
       "        \u001b[33mWeighted\u001b[39m(\u001b[32meqM(mul(m)(m))\u001b[39m, \u001b[32m0.003897793176472144\u001b[39m),\n",
       "        \u001b[33mWeighted\u001b[39m(\u001b[32msym(m)(mul(n)(m))\u001b[39m, \u001b[32m6.581185050035902E-4\u001b[39m),\n",
       "        \u001b[33mWeighted\u001b[39m(\u001b[32mmul(n)\u001b[39m, \u001b[32m0.02118049529507811\u001b[39m),\n",
       "        \u001b[33mWeighted\u001b[39m(\u001b[32msym(mul(m)(n))\u001b[39m, \u001b[32m0.003897793176472144\u001b[39m),\n",
       "        \u001b[33mWeighted\u001b[39m(\u001b[32msym\u001b[39m, \u001b[32m0.12078593517729021\u001b[39m),\n",
       "...\u001b[39m"
      ]
     },
     "metadata": {},
     "output_type": "display_data"
    }
   ],
   "source": [
    "import monix.execution.Scheduler.Implicits.global\n",
    "val nsF = nsT.runToFuture"
   ]
  },
  {
   "cell_type": "code",
   "execution_count": 7,
   "metadata": {},
   "outputs": [
    {
     "data": {
      "text/html": [
       "<div class=\"jp-RenderedText\">\n",
       "<pre><code><span style=\"color: rgb(0, 187, 187)\"><span class=\"ansi-cyan-fg\">res6</span></span>: <span style=\"color: rgb(0, 187, 0)\"><span class=\"ansi-green-fg\">monix</span></span>.<span style=\"color: rgb(0, 187, 0)\"><span class=\"ansi-green-fg\">execution</span></span>.<span style=\"color: rgb(0, 187, 0)\"><span class=\"ansi-green-fg\">CancelableFuture</span></span>[<span style=\"color: rgb(0, 187, 0)\"><span class=\"ansi-green-fg\">Double</span></span>] = <span style=\"color: rgb(0, 187, 0)\"><span class=\"ansi-green-fg\"><style>@keyframes fadein { from { opacity: 0; } to { opacity: 1; } }</style><span style=\"animation: fadein 2s;\"><span style=\"color: yellow\"><span class=\"ansi-yellow-fg\">Success</span></span>(<span style=\"color: rgb(0, 187, 0)\"><span class=\"ansi-green-fg\">0.95</span></span>)</span></span></span></code></pre>\n",
       "</div>"
      ],
      "text/plain": [
       "\u001b[36mres6\u001b[39m: \u001b[32mmonix\u001b[39m.\u001b[32mexecution\u001b[39m.\u001b[32mCancelableFuture\u001b[39m[\u001b[32mDouble\u001b[39m] = \u001b[32m\u001b[33mSuccess\u001b[39m(\u001b[32m0.95\u001b[39m)\u001b[39m"
      ]
     },
     "metadata": {},
     "output_type": "display_data"
    }
   ],
   "source": [
    "evT.map(_.decay).runToFuture"
   ]
  },
  {
   "cell_type": "code",
   "execution_count": 8,
   "metadata": {},
   "outputs": [
    {
     "data": {
      "text/plain": [
       "\u001b[36mterms1T\u001b[39m: \u001b[32mmonix\u001b[39m.\u001b[32meval\u001b[39m.\u001b[32mTask\u001b[39m[\u001b[32mFiniteDistribution\u001b[39m[\u001b[32mTerm\u001b[39m]] = \u001b[33mMap\u001b[39m(\n",
       "  \u001b[33mAsync\u001b[39m(<function2>, false, true, true),\n",
       "  ammonite.$sess.cmd7$Helper$$Lambda$3040/1707851184@4755d740,\n",
       "  \u001b[32m0\u001b[39m\n",
       ")\n",
       "\u001b[36mterms2T\u001b[39m: \u001b[32mmonix\u001b[39m.\u001b[32meval\u001b[39m.\u001b[32mTask\u001b[39m[\u001b[32mFiniteDistribution\u001b[39m[\u001b[32mTerm\u001b[39m]] = \u001b[33mMap\u001b[39m(\n",
       "  \u001b[33mAsync\u001b[39m(<function2>, false, true, true),\n",
       "  ammonite.$sess.cmd7$Helper$$Lambda$3041/453147566@49957982,\n",
       "  \u001b[32m0\u001b[39m\n",
       ")"
      ]
     },
     "execution_count": 8,
     "metadata": {},
     "output_type": "execute_result"
    }
   ],
   "source": [
    "val terms1T = nsT.map(_.terms)\n",
    "val terms2T = evT.map(_.finalTerms)"
   ]
  },
  {
   "cell_type": "code",
   "execution_count": 9,
   "metadata": {},
   "outputs": [
    {
     "data": {
      "text/html": [
       "<div class=\"jp-RenderedText\">\n",
       "<pre><code><span style=\"color: rgb(0, 187, 187)\"><span class=\"ansi-cyan-fg\">res8</span></span>: <span style=\"color: rgb(0, 187, 0)\"><span class=\"ansi-green-fg\">monix</span></span>.<span style=\"color: rgb(0, 187, 0)\"><span class=\"ansi-green-fg\">execution</span></span>.<span style=\"color: rgb(0, 187, 0)\"><span class=\"ansi-green-fg\">CancelableFuture</span></span>[<span style=\"color: rgb(0, 187, 0)\"><span class=\"ansi-green-fg\">Vector</span></span>[<span style=\"color: rgb(0, 187, 0)\"><span class=\"ansi-green-fg\">Weighted</span></span>[<span style=\"color: rgb(0, 187, 0)\"><span class=\"ansi-green-fg\">Term</span></span>]]] = <span style=\"color: rgb(0, 187, 0)\"><span class=\"ansi-green-fg\"><span style=\"color: yellow\"><span class=\"ansi-yellow-fg\">Success</span></span>(\n",
       "  <span style=\"color: yellow\"><span class=\"ansi-yellow-fg\">Vector</span></span>(\n",
       "    <span style=\"color: yellow\"><span class=\"ansi-yellow-fg\">Weighted</span></span>(<span style=\"color: rgb(0, 187, 0)\"><span class=\"ansi-green-fg\">M</span></span>, <span style=\"color: rgb(0, 187, 0)\"><span class=\"ansi-green-fg\">2.9615047020094236</span></span>),\n",
       "    <span style=\"color: yellow\"><span class=\"ansi-yellow-fg\">Weighted</span></span>(<span style=\"color: rgb(0, 187, 0)\"><span class=\"ansi-green-fg\">m</span></span>, <span style=\"color: rgb(0, 187, 0)\"><span class=\"ansi-green-fg\">3.0237889802637663</span></span>),\n",
       "    <span style=\"color: yellow\"><span class=\"ansi-yellow-fg\">Weighted</span></span>(<span style=\"color: rgb(0, 187, 0)\"><span class=\"ansi-green-fg\">n</span></span>, <span style=\"color: rgb(0, 187, 0)\"><span class=\"ansi-green-fg\">3.0237889802637663</span></span>),\n",
       "    <span style=\"color: yellow\"><span class=\"ansi-yellow-fg\">Weighted</span></span>(<span style=\"color: rgb(0, 187, 0)\"><span class=\"ansi-green-fg\">mul</span></span>, <span style=\"color: rgb(0, 187, 0)\"><span class=\"ansi-green-fg\">3.0494756239274152</span></span>),\n",
       "    <span style=\"color: yellow\"><span class=\"ansi-yellow-fg\">Weighted</span></span>(<span style=\"color: rgb(0, 187, 0)\"><span class=\"ansi-green-fg\">sym</span></span>, <span style=\"color: rgb(0, 187, 0)\"><span class=\"ansi-green-fg\">3.0494756239274152</span></span>),\n",
       "    <span style=\"color: yellow\"><span class=\"ansi-yellow-fg\">Weighted</span></span>(<span style=\"color: rgb(0, 187, 0)\"><span class=\"ansi-green-fg\">eqM</span></span>, <span style=\"color: rgb(0, 187, 0)\"><span class=\"ansi-green-fg\">3.0494756239274152</span></span>),\n",
       "    <span style=\"color: yellow\"><span class=\"ansi-yellow-fg\">Weighted</span></span>(<span style=\"color: rgb(0, 187, 0)\"><span class=\"ansi-green-fg\">sym(n)</span></span>, <span style=\"color: rgb(0, 187, 0)\"><span class=\"ansi-green-fg\">5.561119863362413</span></span>),\n",
       "    <span style=\"color: yellow\"><span class=\"ansi-yellow-fg\">Weighted</span></span>(<span style=\"color: rgb(0, 187, 0)\"><span class=\"ansi-green-fg\">mul(m)</span></span>, <span style=\"color: rgb(0, 187, 0)\"><span class=\"ansi-green-fg\">5.561119863362413</span></span>),\n",
       "    <span style=\"color: yellow\"><span class=\"ansi-yellow-fg\">Weighted</span></span>(<span style=\"color: rgb(0, 187, 0)\"><span class=\"ansi-green-fg\">mul(n)</span></span>, <span style=\"color: rgb(0, 187, 0)\"><span class=\"ansi-green-fg\">5.561119863362413</span></span>),\n",
       "    <span style=\"color: yellow\"><span class=\"ansi-yellow-fg\">Weighted</span></span>(<span style=\"color: rgb(0, 187, 0)\"><span class=\"ansi-green-fg\">eqM(m)</span></span>, <span style=\"color: rgb(0, 187, 0)\"><span class=\"ansi-green-fg\">5.561119863362413</span></span>),\n",
       "    <span style=\"color: yellow\"><span class=\"ansi-yellow-fg\">Weighted</span></span>(<span style=\"color: rgb(0, 187, 0)\"><span class=\"ansi-green-fg\">eqM(n)</span></span>, <span style=\"color: rgb(0, 187, 0)\"><span class=\"ansi-green-fg\">5.561119863362413</span></span>),\n",
       "    <span style=\"color: yellow\"><span class=\"ansi-yellow-fg\">Weighted</span></span>(<span style=\"color: rgb(0, 187, 0)\"><span class=\"ansi-green-fg\">sym(m)</span></span>, <span style=\"color: rgb(0, 187, 0)\"><span class=\"ansi-green-fg\">5.561119863362413</span></span>),\n",
       "    <span style=\"color: yellow\"><span class=\"ansi-yellow-fg\">Weighted</span></span>(<span style=\"color: rgb(0, 187, 0)\"><span class=\"ansi-green-fg\">(@a : M) ↦ sym(@a)</span></span>, <span style=\"color: rgb(0, 187, 0)\"><span class=\"ansi-green-fg\">7.040862493622707</span></span>),\n",
       "    <span style=\"color: yellow\"><span class=\"ansi-yellow-fg\">Weighted</span></span>(<span style=\"color: rgb(0, 187, 0)\"><span class=\"ansi-green-fg\">(@a : M) ↦ (@b : M) ↦ M</span></span>, <span style=\"color: rgb(0, 187, 0)\"><span class=\"ansi-green-fg\">7.209024886365761</span></span>),\n",
       "    <span style=\"color: yellow\"><span class=\"ansi-yellow-fg\">Weighted</span></span>(<span style=\"color: rgb(0, 187, 0)\"><span class=\"ansi-green-fg\">mul(n)(n)</span></span>, <span style=\"color: rgb(0, 187, 0)\"><span class=\"ansi-green-fg\">7.880695655373928</span></span>),\n",
       "    <span style=\"color: yellow\"><span class=\"ansi-yellow-fg\">Weighted</span></span>(<span style=\"color: rgb(0, 187, 0)\"><span class=\"ansi-green-fg\">mul(n)(m)</span></span>, <span style=\"color: rgb(0, 187, 0)\"><span class=\"ansi-green-fg\">7.880695655373928</span></span>),\n",
       "    <span style=\"color: yellow\"><span class=\"ansi-yellow-fg\">Weighted</span></span>(<span style=\"color: rgb(0, 187, 0)\"><span class=\"ansi-green-fg\">sym(m)(m)</span></span>, <span style=\"color: rgb(0, 187, 0)\"><span class=\"ansi-green-fg\">7.880695655373928</span></span>),\n",
       "    <span style=\"color: yellow\"><span class=\"ansi-yellow-fg\">Weighted</span></span>(<span style=\"color: rgb(0, 187, 0)\"><span class=\"ansi-green-fg\">sym(n)(n)</span></span>, <span style=\"color: rgb(0, 187, 0)\"><span class=\"ansi-green-fg\">7.880695655373928</span></span>),\n",
       "    <span style=\"color: yellow\"><span class=\"ansi-yellow-fg\">Weighted</span></span>(<span style=\"color: rgb(0, 187, 0)\"><span class=\"ansi-green-fg\">eqM(m)(n)</span></span>, <span style=\"color: rgb(0, 187, 0)\"><span class=\"ansi-green-fg\">7.880695655373928</span></span>),\n",
       "    <span style=\"color: yellow\"><span class=\"ansi-yellow-fg\">Weighted</span></span>(<span style=\"color: rgb(0, 187, 0)\"><span class=\"ansi-green-fg\">sym(m)(n)</span></span>, <span style=\"color: rgb(0, 187, 0)\"><span class=\"ansi-green-fg\">7.880695655373928</span></span>),\n",
       "    <span style=\"color: yellow\"><span class=\"ansi-yellow-fg\">Weighted</span></span>(<span style=\"color: rgb(0, 187, 0)\"><span class=\"ansi-green-fg\">eqM(m)(m)</span></span>, <span style=\"color: rgb(0, 187, 0)\"><span class=\"ansi-green-fg\">7.880695655373928</span></span>),\n",
       "    <span style=\"color: yellow\"><span class=\"ansi-yellow-fg\">Weighted</span></span>(<span style=\"color: rgb(0, 187, 0)\"><span class=\"ansi-green-fg\">mul(m)(n)</span></span>, <span style=\"color: rgb(0, 187, 0)\"><span class=\"ansi-green-fg\">7.880695655373928</span></span>),\n",
       "    <span style=\"color: yellow\"><span class=\"ansi-yellow-fg\">Weighted</span></span>(<span style=\"color: rgb(0, 187, 0)\"><span class=\"ansi-green-fg\">mul(m)(m)</span></span>, <span style=\"color: rgb(0, 187, 0)\"><span class=\"ansi-green-fg\">7.880695655373928</span></span>),\n",
       "    <span style=\"color: yellow\"><span class=\"ansi-yellow-fg\">Weighted</span></span>(<span style=\"color: rgb(0, 187, 0)\"><span class=\"ansi-green-fg\">sym(n)(m)</span></span>, <span style=\"color: rgb(0, 187, 0)\"><span class=\"ansi-green-fg\">7.880695655373928</span></span>),\n",
       "    <span style=\"color: yellow\"><span class=\"ansi-yellow-fg\">Weighted</span></span>(<span style=\"color: rgb(0, 187, 0)\"><span class=\"ansi-green-fg\">eqM(n)(n)</span></span>, <span style=\"color: rgb(0, 187, 0)\"><span class=\"ansi-green-fg\">7.880695655373928</span></span>),\n",
       "    <span style=\"color: yellow\"><span class=\"ansi-yellow-fg\">Weighted</span></span>(<span style=\"color: rgb(0, 187, 0)\"><span class=\"ansi-green-fg\">eqM(n)(m)</span></span>, <span style=\"color: rgb(0, 187, 0)\"><span class=\"ansi-green-fg\">7.880695655373928</span></span>),\n",
       "    <span style=\"color: yellow\"><span class=\"ansi-yellow-fg\">Weighted</span></span>(<span style=\"color: rgb(0, 187, 0)\"><span class=\"ansi-green-fg\">sym(mul(n)(m))</span></span>, <span style=\"color: rgb(0, 187, 0)\"><span class=\"ansi-green-fg\">8.003126743885216</span></span>),\n",
       "    <span style=\"color: yellow\"><span class=\"ansi-yellow-fg\">Weighted</span></span>(<span style=\"color: rgb(0, 187, 0)\"><span class=\"ansi-green-fg\">mul(mul(m)(n))</span></span>, <span style=\"color: rgb(0, 187, 0)\"><span class=\"ansi-green-fg\">8.003126743885216</span></span>),\n",
       "    <span style=\"color: yellow\"><span class=\"ansi-yellow-fg\">Weighted</span></span>(<span style=\"color: rgb(0, 187, 0)\"><span class=\"ansi-green-fg\">sym(mul(n)(n))</span></span>, <span style=\"color: rgb(0, 187, 0)\"><span class=\"ansi-green-fg\">8.003126743885216</span></span>),\n",
       "    <span style=\"color: yellow\"><span class=\"ansi-yellow-fg\">Weighted</span></span>(<span style=\"color: rgb(0, 187, 0)\"><span class=\"ansi-green-fg\">eqM(mul(m)(m))</span></span>, <span style=\"color: rgb(0, 187, 0)\"><span class=\"ansi-green-fg\">8.003126743885216</span></span>),\n",
       "    <span style=\"color: yellow\"><span class=\"ansi-yellow-fg\">Weighted</span></span>(<span style=\"color: rgb(0, 187, 0)\"><span class=\"ansi-green-fg\">sym(mul(m)(n))</span></span>, <span style=\"color: rgb(0, 187, 0)\"><span class=\"ansi-green-fg\">8.003126743885216</span></span>),\n",
       "    <span style=\"color: yellow\"><span class=\"ansi-yellow-fg\">Weighted</span></span>(<span style=\"color: rgb(0, 187, 0)\"><span class=\"ansi-green-fg\">mul(mul(n)(n))</span></span>, <span style=\"color: rgb(0, 187, 0)\"><span class=\"ansi-green-fg\">8.003126743885216</span></span>),\n",
       "    <span style=\"color: yellow\"><span class=\"ansi-yellow-fg\">Weighted</span></span>(<span style=\"color: rgb(0, 187, 0)\"><span class=\"ansi-green-fg\">eqM(mul(m)(n))</span></span>, <span style=\"color: rgb(0, 187, 0)\"><span class=\"ansi-green-fg\">8.003126743885216</span></span>),\n",
       "    <span style=\"color: yellow\"><span class=\"ansi-yellow-fg\">Weighted</span></span>(<span style=\"color: rgb(0, 187, 0)\"><span class=\"ansi-green-fg\">mul(mul(n)(m))</span></span>, <span style=\"color: rgb(0, 187, 0)\"><span class=\"ansi-green-fg\">8.003126743885216</span></span>),\n",
       "    <span style=\"color: yellow\"><span class=\"ansi-yellow-fg\">Weighted</span></span>(<span style=\"color: rgb(0, 187, 0)\"><span class=\"ansi-green-fg\">eqM(mul(n)(m))</span></span>, <span style=\"color: rgb(0, 187, 0)\"><span class=\"ansi-green-fg\">8.003126743885216</span></span>),\n",
       "    <span style=\"color: yellow\"><span class=\"ansi-yellow-fg\">Weighted</span></span>(<span style=\"color: rgb(0, 187, 0)\"><span class=\"ansi-green-fg\">sym(mul(m)(m))</span></span>, <span style=\"color: rgb(0, 187, 0)\"><span class=\"ansi-green-fg\">8.003126743885216</span></span>),\n",
       "    <span style=\"color: yellow\"><span class=\"ansi-yellow-fg\">Weighted</span></span>(<span style=\"color: rgb(0, 187, 0)\"><span class=\"ansi-green-fg\">eqM(mul(n)(n))</span></span>, <span style=\"color: rgb(0, 187, 0)\"><span class=\"ansi-green-fg\">8.003126743885216</span></span>),\n",
       "...</span></span></code></pre>\n",
       "</div>"
      ],
      "text/plain": [
       "\u001b[36mres8\u001b[39m: \u001b[32mmonix\u001b[39m.\u001b[32mexecution\u001b[39m.\u001b[32mCancelableFuture\u001b[39m[\u001b[32mVector\u001b[39m[\u001b[32mWeighted\u001b[39m[\u001b[32mTerm\u001b[39m]]] = \u001b[32m\u001b[33mSuccess\u001b[39m(\n",
       "  \u001b[33mVector\u001b[39m(\n",
       "    \u001b[33mWeighted\u001b[39m(\u001b[32mM\u001b[39m, \u001b[32m2.9615047020094236\u001b[39m),\n",
       "    \u001b[33mWeighted\u001b[39m(\u001b[32mm\u001b[39m, \u001b[32m3.0237889802637663\u001b[39m),\n",
       "    \u001b[33mWeighted\u001b[39m(\u001b[32mn\u001b[39m, \u001b[32m3.0237889802637663\u001b[39m),\n",
       "    \u001b[33mWeighted\u001b[39m(\u001b[32mmul\u001b[39m, \u001b[32m3.0494756239274152\u001b[39m),\n",
       "    \u001b[33mWeighted\u001b[39m(\u001b[32msym\u001b[39m, \u001b[32m3.0494756239274152\u001b[39m),\n",
       "    \u001b[33mWeighted\u001b[39m(\u001b[32meqM\u001b[39m, \u001b[32m3.0494756239274152\u001b[39m),\n",
       "    \u001b[33mWeighted\u001b[39m(\u001b[32msym(n)\u001b[39m, \u001b[32m5.561119863362413\u001b[39m),\n",
       "    \u001b[33mWeighted\u001b[39m(\u001b[32mmul(m)\u001b[39m, \u001b[32m5.561119863362413\u001b[39m),\n",
       "    \u001b[33mWeighted\u001b[39m(\u001b[32mmul(n)\u001b[39m, \u001b[32m5.561119863362413\u001b[39m),\n",
       "    \u001b[33mWeighted\u001b[39m(\u001b[32meqM(m)\u001b[39m, \u001b[32m5.561119863362413\u001b[39m),\n",
       "    \u001b[33mWeighted\u001b[39m(\u001b[32meqM(n)\u001b[39m, \u001b[32m5.561119863362413\u001b[39m),\n",
       "    \u001b[33mWeighted\u001b[39m(\u001b[32msym(m)\u001b[39m, \u001b[32m5.561119863362413\u001b[39m),\n",
       "    \u001b[33mWeighted\u001b[39m(\u001b[32m(@a : M) ↦ sym(@a)\u001b[39m, \u001b[32m7.040862493622707\u001b[39m),\n",
       "    \u001b[33mWeighted\u001b[39m(\u001b[32m(@a : M) ↦ (@b : M) ↦ M\u001b[39m, \u001b[32m7.209024886365761\u001b[39m),\n",
       "    \u001b[33mWeighted\u001b[39m(\u001b[32mmul(n)(n)\u001b[39m, \u001b[32m7.880695655373928\u001b[39m),\n",
       "    \u001b[33mWeighted\u001b[39m(\u001b[32mmul(n)(m)\u001b[39m, \u001b[32m7.880695655373928\u001b[39m),\n",
       "    \u001b[33mWeighted\u001b[39m(\u001b[32msym(m)(m)\u001b[39m, \u001b[32m7.880695655373928\u001b[39m),\n",
       "    \u001b[33mWeighted\u001b[39m(\u001b[32msym(n)(n)\u001b[39m, \u001b[32m7.880695655373928\u001b[39m),\n",
       "    \u001b[33mWeighted\u001b[39m(\u001b[32meqM(m)(n)\u001b[39m, \u001b[32m7.880695655373928\u001b[39m),\n",
       "    \u001b[33mWeighted\u001b[39m(\u001b[32msym(m)(n)\u001b[39m, \u001b[32m7.880695655373928\u001b[39m),\n",
       "    \u001b[33mWeighted\u001b[39m(\u001b[32meqM(m)(m)\u001b[39m, \u001b[32m7.880695655373928\u001b[39m),\n",
       "    \u001b[33mWeighted\u001b[39m(\u001b[32mmul(m)(n)\u001b[39m, \u001b[32m7.880695655373928\u001b[39m),\n",
       "    \u001b[33mWeighted\u001b[39m(\u001b[32mmul(m)(m)\u001b[39m, \u001b[32m7.880695655373928\u001b[39m),\n",
       "    \u001b[33mWeighted\u001b[39m(\u001b[32msym(n)(m)\u001b[39m, \u001b[32m7.880695655373928\u001b[39m),\n",
       "    \u001b[33mWeighted\u001b[39m(\u001b[32meqM(n)(n)\u001b[39m, \u001b[32m7.880695655373928\u001b[39m),\n",
       "    \u001b[33mWeighted\u001b[39m(\u001b[32meqM(n)(m)\u001b[39m, \u001b[32m7.880695655373928\u001b[39m),\n",
       "    \u001b[33mWeighted\u001b[39m(\u001b[32msym(mul(n)(m))\u001b[39m, \u001b[32m8.003126743885216\u001b[39m),\n",
       "    \u001b[33mWeighted\u001b[39m(\u001b[32mmul(mul(m)(n))\u001b[39m, \u001b[32m8.003126743885216\u001b[39m),\n",
       "    \u001b[33mWeighted\u001b[39m(\u001b[32msym(mul(n)(n))\u001b[39m, \u001b[32m8.003126743885216\u001b[39m),\n",
       "    \u001b[33mWeighted\u001b[39m(\u001b[32meqM(mul(m)(m))\u001b[39m, \u001b[32m8.003126743885216\u001b[39m),\n",
       "    \u001b[33mWeighted\u001b[39m(\u001b[32msym(mul(m)(n))\u001b[39m, \u001b[32m8.003126743885216\u001b[39m),\n",
       "    \u001b[33mWeighted\u001b[39m(\u001b[32mmul(mul(n)(n))\u001b[39m, \u001b[32m8.003126743885216\u001b[39m),\n",
       "    \u001b[33mWeighted\u001b[39m(\u001b[32meqM(mul(m)(n))\u001b[39m, \u001b[32m8.003126743885216\u001b[39m),\n",
       "    \u001b[33mWeighted\u001b[39m(\u001b[32mmul(mul(n)(m))\u001b[39m, \u001b[32m8.003126743885216\u001b[39m),\n",
       "    \u001b[33mWeighted\u001b[39m(\u001b[32meqM(mul(n)(m))\u001b[39m, \u001b[32m8.003126743885216\u001b[39m),\n",
       "    \u001b[33mWeighted\u001b[39m(\u001b[32msym(mul(m)(m))\u001b[39m, \u001b[32m8.003126743885216\u001b[39m),\n",
       "    \u001b[33mWeighted\u001b[39m(\u001b[32meqM(mul(n)(n))\u001b[39m, \u001b[32m8.003126743885216\u001b[39m),\n",
       "...\u001b[39m"
      ]
     },
     "metadata": {},
     "output_type": "display_data"
    }
   ],
   "source": [
    "terms1T.map(_.entropyVec).runToFuture"
   ]
  },
  {
   "cell_type": "code",
   "execution_count": 10,
   "metadata": {},
   "outputs": [
    {
     "data": {
      "text/html": [
       "<div class=\"jp-RenderedText\">\n",
       "<pre><code><span style=\"color: rgb(0, 187, 187)\"><span class=\"ansi-cyan-fg\">res9</span></span>: <span style=\"color: rgb(0, 187, 0)\"><span class=\"ansi-green-fg\">monix</span></span>.<span style=\"color: rgb(0, 187, 0)\"><span class=\"ansi-green-fg\">execution</span></span>.<span style=\"color: rgb(0, 187, 0)\"><span class=\"ansi-green-fg\">CancelableFuture</span></span>[<span style=\"color: rgb(0, 187, 0)\"><span class=\"ansi-green-fg\">Vector</span></span>[<span style=\"color: rgb(0, 187, 0)\"><span class=\"ansi-green-fg\">Weighted</span></span>[<span style=\"color: rgb(0, 187, 0)\"><span class=\"ansi-green-fg\">Term</span></span>]]] = <span style=\"color: rgb(0, 187, 0)\"><span class=\"ansi-green-fg\"><style>@keyframes fadein { from { opacity: 0; } to { opacity: 1; } }</style><span style=\"animation: fadein 2s;\"><span style=\"color: yellow\"><span class=\"ansi-yellow-fg\">Success</span></span>(\n",
       "  <span style=\"color: yellow\"><span class=\"ansi-yellow-fg\">Vector</span></span>(\n",
       "    <span style=\"color: yellow\"><span class=\"ansi-yellow-fg\">Weighted</span></span>(<span style=\"color: rgb(0, 187, 0)\"><span class=\"ansi-green-fg\">eqM(m)</span></span>, <span style=\"color: rgb(0, 187, 0)\"><span class=\"ansi-green-fg\">3.384131626779022</span></span>),\n",
       "    <span style=\"color: yellow\"><span class=\"ansi-yellow-fg\">Weighted</span></span>(<span style=\"color: rgb(0, 187, 0)\"><span class=\"ansi-green-fg\">eqM(n)</span></span>, <span style=\"color: rgb(0, 187, 0)\"><span class=\"ansi-green-fg\">3.384131626779022</span></span>),\n",
       "    <span style=\"color: yellow\"><span class=\"ansi-yellow-fg\">Weighted</span></span>(<span style=\"color: rgb(0, 187, 0)\"><span class=\"ansi-green-fg\">sym(n)</span></span>, <span style=\"color: rgb(0, 187, 0)\"><span class=\"ansi-green-fg\">3.7024032658708426</span></span>),\n",
       "    <span style=\"color: yellow\"><span class=\"ansi-yellow-fg\">Weighted</span></span>(<span style=\"color: rgb(0, 187, 0)\"><span class=\"ansi-green-fg\">mul(m)</span></span>, <span style=\"color: rgb(0, 187, 0)\"><span class=\"ansi-green-fg\">3.7024032658708426</span></span>),\n",
       "    <span style=\"color: yellow\"><span class=\"ansi-yellow-fg\">Weighted</span></span>(<span style=\"color: rgb(0, 187, 0)\"><span class=\"ansi-green-fg\">mul(n)</span></span>, <span style=\"color: rgb(0, 187, 0)\"><span class=\"ansi-green-fg\">3.7024032658708426</span></span>),\n",
       "    <span style=\"color: yellow\"><span class=\"ansi-yellow-fg\">Weighted</span></span>(<span style=\"color: rgb(0, 187, 0)\"><span class=\"ansi-green-fg\">sym(m)</span></span>, <span style=\"color: rgb(0, 187, 0)\"><span class=\"ansi-green-fg\">3.7024032658708426</span></span>),\n",
       "    <span style=\"color: yellow\"><span class=\"ansi-yellow-fg\">Weighted</span></span>(<span style=\"color: rgb(0, 187, 0)\"><span class=\"ansi-green-fg\">mul</span></span>, <span style=\"color: rgb(0, 187, 0)\"><span class=\"ansi-green-fg\">3.9049476759149706</span></span>),\n",
       "    <span style=\"color: yellow\"><span class=\"ansi-yellow-fg\">Weighted</span></span>(<span style=\"color: rgb(0, 187, 0)\"><span class=\"ansi-green-fg\">M</span></span>, <span style=\"color: rgb(0, 187, 0)\"><span class=\"ansi-green-fg\">3.9049476759149706</span></span>),\n",
       "    <span style=\"color: yellow\"><span class=\"ansi-yellow-fg\">Weighted</span></span>(<span style=\"color: rgb(0, 187, 0)\"><span class=\"ansi-green-fg\">sym</span></span>, <span style=\"color: rgb(0, 187, 0)\"><span class=\"ansi-green-fg\">3.9049476759149706</span></span>),\n",
       "    <span style=\"color: yellow\"><span class=\"ansi-yellow-fg\">Weighted</span></span>(<span style=\"color: rgb(0, 187, 0)\"><span class=\"ansi-green-fg\">eqM</span></span>, <span style=\"color: rgb(0, 187, 0)\"><span class=\"ansi-green-fg\">3.9049476759149706</span></span>),\n",
       "    <span style=\"color: yellow\"><span class=\"ansi-yellow-fg\">Weighted</span></span>(<span style=\"color: rgb(0, 187, 0)\"><span class=\"ansi-green-fg\">m</span></span>, <span style=\"color: rgb(0, 187, 0)\"><span class=\"ansi-green-fg\">3.9136329262357177</span></span>),\n",
       "    <span style=\"color: yellow\"><span class=\"ansi-yellow-fg\">Weighted</span></span>(<span style=\"color: rgb(0, 187, 0)\"><span class=\"ansi-green-fg\">n</span></span>, <span style=\"color: rgb(0, 187, 0)\"><span class=\"ansi-green-fg\">3.9136329262357177</span></span>),\n",
       "    <span style=\"color: yellow\"><span class=\"ansi-yellow-fg\">Weighted</span></span>(<span style=\"color: rgb(0, 187, 0)\"><span class=\"ansi-green-fg\">eqM(m)(n)</span></span>, <span style=\"color: rgb(0, 187, 0)\"><span class=\"ansi-green-fg\">6.798713989040025</span></span>),\n",
       "    <span style=\"color: yellow\"><span class=\"ansi-yellow-fg\">Weighted</span></span>(<span style=\"color: rgb(0, 187, 0)\"><span class=\"ansi-green-fg\">eqM(m)(m)</span></span>, <span style=\"color: rgb(0, 187, 0)\"><span class=\"ansi-green-fg\">6.798713989040025</span></span>),\n",
       "    <span style=\"color: yellow\"><span class=\"ansi-yellow-fg\">Weighted</span></span>(<span style=\"color: rgb(0, 187, 0)\"><span class=\"ansi-green-fg\">eqM(n)(n)</span></span>, <span style=\"color: rgb(0, 187, 0)\"><span class=\"ansi-green-fg\">6.798713989040025</span></span>),\n",
       "    <span style=\"color: yellow\"><span class=\"ansi-yellow-fg\">Weighted</span></span>(<span style=\"color: rgb(0, 187, 0)\"><span class=\"ansi-green-fg\">eqM(n)(m)</span></span>, <span style=\"color: rgb(0, 187, 0)\"><span class=\"ansi-green-fg\">6.798713989040025</span></span>),\n",
       "    <span style=\"color: yellow\"><span class=\"ansi-yellow-fg\">Weighted</span></span>(<span style=\"color: rgb(0, 187, 0)\"><span class=\"ansi-green-fg\">mul(n)(n)</span></span>, <span style=\"color: rgb(0, 187, 0)\"><span class=\"ansi-green-fg\">7.898563468809958</span></span>),\n",
       "    <span style=\"color: yellow\"><span class=\"ansi-yellow-fg\">Weighted</span></span>(<span style=\"color: rgb(0, 187, 0)\"><span class=\"ansi-green-fg\">mul(n)(m)</span></span>, <span style=\"color: rgb(0, 187, 0)\"><span class=\"ansi-green-fg\">7.898563468809958</span></span>),\n",
       "    <span style=\"color: yellow\"><span class=\"ansi-yellow-fg\">Weighted</span></span>(<span style=\"color: rgb(0, 187, 0)\"><span class=\"ansi-green-fg\">sym(m)(m)</span></span>, <span style=\"color: rgb(0, 187, 0)\"><span class=\"ansi-green-fg\">7.898563468809958</span></span>),\n",
       "    <span style=\"color: yellow\"><span class=\"ansi-yellow-fg\">Weighted</span></span>(<span style=\"color: rgb(0, 187, 0)\"><span class=\"ansi-green-fg\">sym(n)(n)</span></span>, <span style=\"color: rgb(0, 187, 0)\"><span class=\"ansi-green-fg\">7.898563468809958</span></span>),\n",
       "    <span style=\"color: yellow\"><span class=\"ansi-yellow-fg\">Weighted</span></span>(<span style=\"color: rgb(0, 187, 0)\"><span class=\"ansi-green-fg\">sym(m)(n)</span></span>, <span style=\"color: rgb(0, 187, 0)\"><span class=\"ansi-green-fg\">7.898563468809958</span></span>),\n",
       "    <span style=\"color: yellow\"><span class=\"ansi-yellow-fg\">Weighted</span></span>(<span style=\"color: rgb(0, 187, 0)\"><span class=\"ansi-green-fg\">mul(m)(n)</span></span>, <span style=\"color: rgb(0, 187, 0)\"><span class=\"ansi-green-fg\">7.898563468809958</span></span>),\n",
       "    <span style=\"color: yellow\"><span class=\"ansi-yellow-fg\">Weighted</span></span>(<span style=\"color: rgb(0, 187, 0)\"><span class=\"ansi-green-fg\">mul(m)(m)</span></span>, <span style=\"color: rgb(0, 187, 0)\"><span class=\"ansi-green-fg\">7.898563468809958</span></span>),\n",
       "    <span style=\"color: yellow\"><span class=\"ansi-yellow-fg\">Weighted</span></span>(<span style=\"color: rgb(0, 187, 0)\"><span class=\"ansi-green-fg\">sym(n)(m)</span></span>, <span style=\"color: rgb(0, 187, 0)\"><span class=\"ansi-green-fg\">7.898563468809958</span></span>),\n",
       "    <span style=\"color: yellow\"><span class=\"ansi-yellow-fg\">Weighted</span></span>(<span style=\"color: rgb(0, 187, 0)\"><span class=\"ansi-green-fg\">eqM(mul(m)(m))</span></span>, <span style=\"color: rgb(0, 187, 0)\"><span class=\"ansi-green-fg\">8.309268615428966</span></span>),\n",
       "    <span style=\"color: yellow\"><span class=\"ansi-yellow-fg\">Weighted</span></span>(<span style=\"color: rgb(0, 187, 0)\"><span class=\"ansi-green-fg\">eqM(mul(m)(n))</span></span>, <span style=\"color: rgb(0, 187, 0)\"><span class=\"ansi-green-fg\">8.309268615428966</span></span>),\n",
       "    <span style=\"color: yellow\"><span class=\"ansi-yellow-fg\">Weighted</span></span>(<span style=\"color: rgb(0, 187, 0)\"><span class=\"ansi-green-fg\">eqM(mul(n)(m))</span></span>, <span style=\"color: rgb(0, 187, 0)\"><span class=\"ansi-green-fg\">8.309268615428966</span></span>),\n",
       "    <span style=\"color: yellow\"><span class=\"ansi-yellow-fg\">Weighted</span></span>(<span style=\"color: rgb(0, 187, 0)\"><span class=\"ansi-green-fg\">eqM(mul(n)(n))</span></span>, <span style=\"color: rgb(0, 187, 0)\"><span class=\"ansi-green-fg\">8.309268615428966</span></span>),\n",
       "    <span style=\"color: yellow\"><span class=\"ansi-yellow-fg\">Weighted</span></span>(<span style=\"color: rgb(0, 187, 0)\"><span class=\"ansi-green-fg\">sym(mul(n)(m))</span></span>, <span style=\"color: rgb(0, 187, 0)\"><span class=\"ansi-green-fg\">10.047041815941146</span></span>),\n",
       "    <span style=\"color: yellow\"><span class=\"ansi-yellow-fg\">Weighted</span></span>(<span style=\"color: rgb(0, 187, 0)\"><span class=\"ansi-green-fg\">mul(mul(m)(n))</span></span>, <span style=\"color: rgb(0, 187, 0)\"><span class=\"ansi-green-fg\">10.047041815941146</span></span>),\n",
       "    <span style=\"color: yellow\"><span class=\"ansi-yellow-fg\">Weighted</span></span>(<span style=\"color: rgb(0, 187, 0)\"><span class=\"ansi-green-fg\">sym(mul(n)(n))</span></span>, <span style=\"color: rgb(0, 187, 0)\"><span class=\"ansi-green-fg\">10.047041815941146</span></span>),\n",
       "    <span style=\"color: yellow\"><span class=\"ansi-yellow-fg\">Weighted</span></span>(<span style=\"color: rgb(0, 187, 0)\"><span class=\"ansi-green-fg\">sym(mul(m)(n))</span></span>, <span style=\"color: rgb(0, 187, 0)\"><span class=\"ansi-green-fg\">10.047041815941146</span></span>),\n",
       "    <span style=\"color: yellow\"><span class=\"ansi-yellow-fg\">Weighted</span></span>(<span style=\"color: rgb(0, 187, 0)\"><span class=\"ansi-green-fg\">mul(mul(n)(n))</span></span>, <span style=\"color: rgb(0, 187, 0)\"><span class=\"ansi-green-fg\">10.047041815941146</span></span>),\n",
       "    <span style=\"color: yellow\"><span class=\"ansi-yellow-fg\">Weighted</span></span>(<span style=\"color: rgb(0, 187, 0)\"><span class=\"ansi-green-fg\">mul(mul(n)(m))</span></span>, <span style=\"color: rgb(0, 187, 0)\"><span class=\"ansi-green-fg\">10.047041815941146</span></span>),\n",
       "    <span style=\"color: yellow\"><span class=\"ansi-yellow-fg\">Weighted</span></span>(<span style=\"color: rgb(0, 187, 0)\"><span class=\"ansi-green-fg\">sym(mul(m)(m))</span></span>, <span style=\"color: rgb(0, 187, 0)\"><span class=\"ansi-green-fg\">10.047041815941146</span></span>),\n",
       "    <span style=\"color: yellow\"><span class=\"ansi-yellow-fg\">Weighted</span></span>(<span style=\"color: rgb(0, 187, 0)\"><span class=\"ansi-green-fg\">mul(mul(m)(m))</span></span>, <span style=\"color: rgb(0, 187, 0)\"><span class=\"ansi-green-fg\">10.047041815941146</span></span>),\n",
       "    <span style=\"color: yellow\"><span class=\"ansi-yellow-fg\">Weighted</span></span>(<span style=\"color: rgb(0, 187, 0)\"><span class=\"ansi-green-fg\">eqM(n)(mul(n)(n))</span></span>, <span style=\"color: rgb(0, 187, 0)\"><span class=\"ansi-green-fg\">10.241207616896725</span></span>),\n",
       "...</span></span></span></code></pre>\n",
       "</div>"
      ],
      "text/plain": [
       "\u001b[36mres9\u001b[39m: \u001b[32mmonix\u001b[39m.\u001b[32mexecution\u001b[39m.\u001b[32mCancelableFuture\u001b[39m[\u001b[32mVector\u001b[39m[\u001b[32mWeighted\u001b[39m[\u001b[32mTerm\u001b[39m]]] = \u001b[32m\u001b[33mSuccess\u001b[39m(\n",
       "  \u001b[33mVector\u001b[39m(\n",
       "    \u001b[33mWeighted\u001b[39m(\u001b[32meqM(m)\u001b[39m, \u001b[32m3.384131626779022\u001b[39m),\n",
       "    \u001b[33mWeighted\u001b[39m(\u001b[32meqM(n)\u001b[39m, \u001b[32m3.384131626779022\u001b[39m),\n",
       "    \u001b[33mWeighted\u001b[39m(\u001b[32msym(n)\u001b[39m, \u001b[32m3.7024032658708426\u001b[39m),\n",
       "    \u001b[33mWeighted\u001b[39m(\u001b[32mmul(m)\u001b[39m, \u001b[32m3.7024032658708426\u001b[39m),\n",
       "    \u001b[33mWeighted\u001b[39m(\u001b[32mmul(n)\u001b[39m, \u001b[32m3.7024032658708426\u001b[39m),\n",
       "    \u001b[33mWeighted\u001b[39m(\u001b[32msym(m)\u001b[39m, \u001b[32m3.7024032658708426\u001b[39m),\n",
       "    \u001b[33mWeighted\u001b[39m(\u001b[32mmul\u001b[39m, \u001b[32m3.9049476759149706\u001b[39m),\n",
       "    \u001b[33mWeighted\u001b[39m(\u001b[32mM\u001b[39m, \u001b[32m3.9049476759149706\u001b[39m),\n",
       "    \u001b[33mWeighted\u001b[39m(\u001b[32msym\u001b[39m, \u001b[32m3.9049476759149706\u001b[39m),\n",
       "    \u001b[33mWeighted\u001b[39m(\u001b[32meqM\u001b[39m, \u001b[32m3.9049476759149706\u001b[39m),\n",
       "    \u001b[33mWeighted\u001b[39m(\u001b[32mm\u001b[39m, \u001b[32m3.9136329262357177\u001b[39m),\n",
       "    \u001b[33mWeighted\u001b[39m(\u001b[32mn\u001b[39m, \u001b[32m3.9136329262357177\u001b[39m),\n",
       "    \u001b[33mWeighted\u001b[39m(\u001b[32meqM(m)(n)\u001b[39m, \u001b[32m6.798713989040025\u001b[39m),\n",
       "    \u001b[33mWeighted\u001b[39m(\u001b[32meqM(m)(m)\u001b[39m, \u001b[32m6.798713989040025\u001b[39m),\n",
       "    \u001b[33mWeighted\u001b[39m(\u001b[32meqM(n)(n)\u001b[39m, \u001b[32m6.798713989040025\u001b[39m),\n",
       "    \u001b[33mWeighted\u001b[39m(\u001b[32meqM(n)(m)\u001b[39m, \u001b[32m6.798713989040025\u001b[39m),\n",
       "    \u001b[33mWeighted\u001b[39m(\u001b[32mmul(n)(n)\u001b[39m, \u001b[32m7.898563468809958\u001b[39m),\n",
       "    \u001b[33mWeighted\u001b[39m(\u001b[32mmul(n)(m)\u001b[39m, \u001b[32m7.898563468809958\u001b[39m),\n",
       "    \u001b[33mWeighted\u001b[39m(\u001b[32msym(m)(m)\u001b[39m, \u001b[32m7.898563468809958\u001b[39m),\n",
       "    \u001b[33mWeighted\u001b[39m(\u001b[32msym(n)(n)\u001b[39m, \u001b[32m7.898563468809958\u001b[39m),\n",
       "    \u001b[33mWeighted\u001b[39m(\u001b[32msym(m)(n)\u001b[39m, \u001b[32m7.898563468809958\u001b[39m),\n",
       "    \u001b[33mWeighted\u001b[39m(\u001b[32mmul(m)(n)\u001b[39m, \u001b[32m7.898563468809958\u001b[39m),\n",
       "    \u001b[33mWeighted\u001b[39m(\u001b[32mmul(m)(m)\u001b[39m, \u001b[32m7.898563468809958\u001b[39m),\n",
       "    \u001b[33mWeighted\u001b[39m(\u001b[32msym(n)(m)\u001b[39m, \u001b[32m7.898563468809958\u001b[39m),\n",
       "    \u001b[33mWeighted\u001b[39m(\u001b[32meqM(mul(m)(m))\u001b[39m, \u001b[32m8.309268615428966\u001b[39m),\n",
       "    \u001b[33mWeighted\u001b[39m(\u001b[32meqM(mul(m)(n))\u001b[39m, \u001b[32m8.309268615428966\u001b[39m),\n",
       "    \u001b[33mWeighted\u001b[39m(\u001b[32meqM(mul(n)(m))\u001b[39m, \u001b[32m8.309268615428966\u001b[39m),\n",
       "    \u001b[33mWeighted\u001b[39m(\u001b[32meqM(mul(n)(n))\u001b[39m, \u001b[32m8.309268615428966\u001b[39m),\n",
       "    \u001b[33mWeighted\u001b[39m(\u001b[32msym(mul(n)(m))\u001b[39m, \u001b[32m10.047041815941146\u001b[39m),\n",
       "    \u001b[33mWeighted\u001b[39m(\u001b[32mmul(mul(m)(n))\u001b[39m, \u001b[32m10.047041815941146\u001b[39m),\n",
       "    \u001b[33mWeighted\u001b[39m(\u001b[32msym(mul(n)(n))\u001b[39m, \u001b[32m10.047041815941146\u001b[39m),\n",
       "    \u001b[33mWeighted\u001b[39m(\u001b[32msym(mul(m)(n))\u001b[39m, \u001b[32m10.047041815941146\u001b[39m),\n",
       "    \u001b[33mWeighted\u001b[39m(\u001b[32mmul(mul(n)(n))\u001b[39m, \u001b[32m10.047041815941146\u001b[39m),\n",
       "    \u001b[33mWeighted\u001b[39m(\u001b[32mmul(mul(n)(m))\u001b[39m, \u001b[32m10.047041815941146\u001b[39m),\n",
       "    \u001b[33mWeighted\u001b[39m(\u001b[32msym(mul(m)(m))\u001b[39m, \u001b[32m10.047041815941146\u001b[39m),\n",
       "    \u001b[33mWeighted\u001b[39m(\u001b[32mmul(mul(m)(m))\u001b[39m, \u001b[32m10.047041815941146\u001b[39m),\n",
       "    \u001b[33mWeighted\u001b[39m(\u001b[32meqM(n)(mul(n)(n))\u001b[39m, \u001b[32m10.241207616896725\u001b[39m),\n",
       "...\u001b[39m"
      ]
     },
     "metadata": {},
     "output_type": "display_data"
    }
   ],
   "source": [
    "terms2T.map(_.entropyVec).runToFuture"
   ]
  },
  {
   "cell_type": "code",
   "execution_count": 11,
   "metadata": {},
   "outputs": [
    {
     "data": {
      "text/plain": [
       "\u001b[36msuppDiffT\u001b[39m: \u001b[32mmonix\u001b[39m.\u001b[32meval\u001b[39m.\u001b[32mTask\u001b[39m[(\u001b[32mSet\u001b[39m[\u001b[32mTerm\u001b[39m], \u001b[32mSet\u001b[39m[\u001b[32mTerm\u001b[39m])] = \u001b[33mFlatMap\u001b[39m(\n",
       "  \u001b[33mMap\u001b[39m(\n",
       "    \u001b[33mAsync\u001b[39m(<function2>, false, true, true),\n",
       "    ammonite.$sess.cmd7$Helper$$Lambda$3040/1707851184@4755d740,\n",
       "    \u001b[32m0\u001b[39m\n",
       "  ),\n",
       "  ammonite.$sess.cmd10$Helper$$Lambda$3125/752953176@303b22e7\n",
       ")"
      ]
     },
     "execution_count": 11,
     "metadata": {},
     "output_type": "execute_result"
    }
   ],
   "source": [
    "val suppDiffT = \n",
    "    for {\n",
    "        t1 <- terms1T\n",
    "        t2 <- terms2T\n",
    "    } yield (t1.support -- t2.support, t2.support -- t1.support)"
   ]
  },
  {
   "cell_type": "code",
   "execution_count": 12,
   "metadata": {},
   "outputs": [
    {
     "data": {
      "text/html": [
       "<div class=\"jp-RenderedText\">\n",
       "<pre><code><span style=\"color: rgb(0, 187, 187)\"><span class=\"ansi-cyan-fg\">res11</span></span>: <span style=\"color: rgb(0, 187, 0)\"><span class=\"ansi-green-fg\">monix</span></span>.<span style=\"color: rgb(0, 187, 0)\"><span class=\"ansi-green-fg\">execution</span></span>.<span style=\"color: rgb(0, 187, 0)\"><span class=\"ansi-green-fg\">CancelableFuture</span></span>[(<span style=\"color: rgb(0, 187, 0)\"><span class=\"ansi-green-fg\">Set</span></span>[<span style=\"color: rgb(0, 187, 0)\"><span class=\"ansi-green-fg\">Term</span></span>], <span style=\"color: rgb(0, 187, 0)\"><span class=\"ansi-green-fg\">Set</span></span>[<span style=\"color: rgb(0, 187, 0)\"><span class=\"ansi-green-fg\">Term</span></span>])] = <span style=\"color: rgb(0, 187, 0)\"><span class=\"ansi-green-fg\"><span style=\"color: yellow\"><span class=\"ansi-yellow-fg\">Success</span></span>((<span style=\"color: yellow\"><span class=\"ansi-yellow-fg\">Set</span></span>(), <span style=\"color: yellow\"><span class=\"ansi-yellow-fg\">Set</span></span>()))</span></span></code></pre>\n",
       "</div>"
      ],
      "text/plain": [
       "\u001b[36mres11\u001b[39m: \u001b[32mmonix\u001b[39m.\u001b[32mexecution\u001b[39m.\u001b[32mCancelableFuture\u001b[39m[(\u001b[32mSet\u001b[39m[\u001b[32mTerm\u001b[39m], \u001b[32mSet\u001b[39m[\u001b[32mTerm\u001b[39m])] = \u001b[32m\u001b[33mSuccess\u001b[39m((\u001b[33mSet\u001b[39m(), \u001b[33mSet\u001b[39m()))\u001b[39m"
      ]
     },
     "metadata": {},
     "output_type": "display_data"
    }
   ],
   "source": [
    "suppDiffT.runToFuture"
   ]
  },
  {
   "cell_type": "markdown",
   "metadata": {},
   "source": [
    "## First check\n",
    "\n",
    "The same terms are generated using equations as those in the final distribution. Also (at least with decay) we get the result fairly quickly.\n",
    "\n",
    "The next step will be to combine with equations from a more focussed generator and check supports."
   ]
  },
  {
   "cell_type": "code",
   "execution_count": 13,
   "metadata": {},
   "outputs": [
    {
     "data": {
      "text/plain": [
       "\u001b[36mts1\u001b[39m: \u001b[32mTermState\u001b[39m = \u001b[33mTermState\u001b[39m(\n",
       "  \u001b[33mFiniteDistribution\u001b[39m(\n",
       "    \u001b[33mVector\u001b[39m(\n",
       "      \u001b[33mWeighted\u001b[39m(\u001b[32mmul\u001b[39m, \u001b[32m0.3333333333333333\u001b[39m),\n",
       "      \u001b[33mWeighted\u001b[39m(\u001b[32mm\u001b[39m, \u001b[32m0.3333333333333333\u001b[39m),\n",
       "      \u001b[33mWeighted\u001b[39m(\u001b[32mn\u001b[39m, \u001b[32m0.3333333333333333\u001b[39m)\n",
       "    )\n",
       "  ),\n",
       "  \u001b[33mFiniteDistribution\u001b[39m(\n",
       "    \u001b[33mVector\u001b[39m(\n",
       "      \u001b[33mWeighted\u001b[39m(\u001b[32mM\u001b[39m, \u001b[32m0.3333333333333333\u001b[39m),\n",
       "      \u001b[33mWeighted\u001b[39m(\u001b[32m𝒰 \u001b[39m, \u001b[32m0.3333333333333333\u001b[39m),\n",
       "      \u001b[33mWeighted\u001b[39m(\u001b[32m(M → (M → M))\u001b[39m, \u001b[32m0.3333333333333333\u001b[39m)\n",
       "    )\n",
       "  ),\n",
       "  \u001b[33mVector\u001b[39m(),\n",
       "  \u001b[33mFiniteDistribution\u001b[39m(\u001b[33mVector\u001b[39m()),\n",
       "  \u001b[33mFiniteDistribution\u001b[39m(\u001b[33mVector\u001b[39m()),\n",
       "  Empty\n",
       ")"
      ]
     },
     "execution_count": 13,
     "metadata": {},
     "output_type": "execute_result"
    }
   ],
   "source": [
    "val ts1 = TermState(FiniteDistribution.unif(mul, m, n), FiniteDistribution.unif(M, Type, mul.typ))"
   ]
  },
  {
   "cell_type": "code",
   "execution_count": 17,
   "metadata": {},
   "outputs": [
    {
     "data": {
      "text/plain": [
       "\u001b[36mlp1\u001b[39m: \u001b[32mLocalProverStep\u001b[39m = \u001b[33mLocalProver\u001b[39m(\n",
       "  \u001b[33mTermState\u001b[39m(\n",
       "    \u001b[33mFiniteDistribution\u001b[39m(\n",
       "      \u001b[33mVector\u001b[39m(\n",
       "        \u001b[33mWeighted\u001b[39m(\u001b[32mmul\u001b[39m, \u001b[32m0.3333333333333333\u001b[39m),\n",
       "        \u001b[33mWeighted\u001b[39m(\u001b[32mm\u001b[39m, \u001b[32m0.3333333333333333\u001b[39m),\n",
       "        \u001b[33mWeighted\u001b[39m(\u001b[32mn\u001b[39m, \u001b[32m0.3333333333333333\u001b[39m)\n",
       "      )\n",
       "    ),\n",
       "    \u001b[33mFiniteDistribution\u001b[39m(\n",
       "      \u001b[33mVector\u001b[39m(\n",
       "        \u001b[33mWeighted\u001b[39m(\u001b[32mM\u001b[39m, \u001b[32m0.3333333333333333\u001b[39m),\n",
       "        \u001b[33mWeighted\u001b[39m(\u001b[32m𝒰 \u001b[39m, \u001b[32m0.3333333333333333\u001b[39m),\n",
       "        \u001b[33mWeighted\u001b[39m(\u001b[32m(M → (M → M))\u001b[39m, \u001b[32m0.3333333333333333\u001b[39m)\n",
       "      )\n",
       "    ),\n",
       "    \u001b[33mVector\u001b[39m(),\n",
       "    \u001b[33mFiniteDistribution\u001b[39m(\u001b[33mVector\u001b[39m()),\n",
       "    \u001b[33mFiniteDistribution\u001b[39m(\u001b[33mVector\u001b[39m()),\n",
       "    Empty\n",
       "  ),\n",
       "  \u001b[33mTermGenParams\u001b[39m(\n",
       "    \u001b[32m0.1\u001b[39m,\n",
       "    \u001b[32m0.1\u001b[39m,\n",
       "    \u001b[32m0.1\u001b[39m,\n",
       "    \u001b[32m0.0\u001b[39m,\n",
       "    \u001b[32m0.0\u001b[39m,\n",
       "    \u001b[32m0.05\u001b[39m,\n",
       "    \u001b[32m0.05\u001b[39m,\n",
       "    \u001b[32m0.0\u001b[39m,\n",
       "    \u001b[32m0.0\u001b[39m,\n",
       "    \u001b[32m0.0\u001b[39m,\n",
       "    \u001b[32m0.0\u001b[39m,\n",
       "    \u001b[32m0.0\u001b[39m,\n",
       "    \u001b[32m0.3\u001b[39m,\n",
       "    \u001b[32m0.7\u001b[39m,\n",
       "    \u001b[32m0.5\u001b[39m,\n",
       "    \u001b[32m0.0\u001b[39m,\n",
       "    \u001b[32m0.0\u001b[39m,\n",
       "..."
      ]
     },
     "execution_count": 17,
     "metadata": {},
     "output_type": "execute_result"
    }
   ],
   "source": [
    "val lp1 = LocalProver(ts1).noIsles.sharpen(10)"
   ]
  },
  {
   "cell_type": "code",
   "execution_count": 18,
   "metadata": {},
   "outputs": [
    {
     "data": {
      "text/plain": [
       "\u001b[36mterms3T\u001b[39m: \u001b[32mmonix\u001b[39m.\u001b[32meval\u001b[39m.\u001b[32mTask\u001b[39m[\u001b[32mFiniteDistribution\u001b[39m[\u001b[32mTerm\u001b[39m]] = \u001b[33mAsync\u001b[39m(\n",
       "  <function2>,\n",
       "  false,\n",
       "  true,\n",
       "  true\n",
       ")"
      ]
     },
     "execution_count": 18,
     "metadata": {},
     "output_type": "execute_result"
    }
   ],
   "source": [
    "val terms3T = lp1.nextState.map(_.terms).memoize"
   ]
  },
  {
   "cell_type": "code",
   "execution_count": 19,
   "metadata": {},
   "outputs": [
    {
     "data": {
      "text/html": [
       "<div class=\"jp-RenderedText\">\n",
       "<pre><code><span style=\"color: rgb(0, 187, 187)\"><span class=\"ansi-cyan-fg\">res18</span></span>: <span style=\"color: rgb(0, 187, 0)\"><span class=\"ansi-green-fg\">monix</span></span>.<span style=\"color: rgb(0, 187, 0)\"><span class=\"ansi-green-fg\">execution</span></span>.<span style=\"color: rgb(0, 187, 0)\"><span class=\"ansi-green-fg\">CancelableFuture</span></span>[<span style=\"color: rgb(0, 187, 0)\"><span class=\"ansi-green-fg\">FiniteDistribution</span></span>[<span style=\"color: rgb(0, 187, 0)\"><span class=\"ansi-green-fg\">Term</span></span>]] = <span style=\"color: rgb(0, 187, 0)\"><span class=\"ansi-green-fg\"><style>@keyframes fadein { from { opacity: 0; } to { opacity: 1; } }</style><span style=\"animation: fadein 2s;\"><span style=\"color: yellow\"><span class=\"ansi-yellow-fg\">Success</span></span>(\n",
       "  <span style=\"color: yellow\"><span class=\"ansi-yellow-fg\">FiniteDistribution</span></span>(\n",
       "    <span style=\"color: yellow\"><span class=\"ansi-yellow-fg\">Vector</span></span>(\n",
       "      <span style=\"color: yellow\"><span class=\"ansi-yellow-fg\">Weighted</span></span>(<span style=\"color: rgb(0, 187, 0)\"><span class=\"ansi-green-fg\">mul(n)(n)</span></span>, <span style=\"color: rgb(0, 187, 0)\"><span class=\"ansi-green-fg\">0.012520205690146462</span></span>),\n",
       "      <span style=\"color: yellow\"><span class=\"ansi-yellow-fg\">Weighted</span></span>(<span style=\"color: rgb(0, 187, 0)\"><span class=\"ansi-green-fg\">(@a : M) ↦ (@b : M) ↦ @a</span></span>, <span style=\"color: rgb(0, 187, 0)\"><span class=\"ansi-green-fg\">9.273206315917476E-4</span></span>),\n",
       "      <span style=\"color: yellow\"><span class=\"ansi-yellow-fg\">Weighted</span></span>(<span style=\"color: rgb(0, 187, 0)\"><span class=\"ansi-green-fg\">(@a : M) ↦ (@b : M) ↦ @b</span></span>, <span style=\"color: rgb(0, 187, 0)\"><span class=\"ansi-green-fg\">0.0013247437594167825</span></span>),\n",
       "      <span style=\"color: yellow\"><span class=\"ansi-yellow-fg\">Weighted</span></span>(<span style=\"color: rgb(0, 187, 0)\"><span class=\"ansi-green-fg\">mul(mul(n)(n))(mul(n)(n))</span></span>, <span style=\"color: rgb(0, 187, 0)\"><span class=\"ansi-green-fg\">3.4654816148776003E-4</span></span>),\n",
       "      <span style=\"color: yellow\"><span class=\"ansi-yellow-fg\">Weighted</span></span>(<span style=\"color: rgb(0, 187, 0)\"><span class=\"ansi-green-fg\">(@b : M) ↦ m</span></span>, <span style=\"color: rgb(0, 187, 0)\"><span class=\"ansi-green-fg\">0.0012278268037934584</span></span>),\n",
       "      <span style=\"color: yellow\"><span class=\"ansi-yellow-fg\">Weighted</span></span>(<span style=\"color: rgb(0, 187, 0)\"><span class=\"ansi-green-fg\">(@a : M) ↦ mul(@a)</span></span>, <span style=\"color: rgb(0, 187, 0)\"><span class=\"ansi-green-fg\">0.0019308569962494305</span></span>),\n",
       "      <span style=\"color: yellow\"><span class=\"ansi-yellow-fg\">Weighted</span></span>(<span style=\"color: rgb(0, 187, 0)\"><span class=\"ansi-green-fg\">mul(mul(n)(m))(mul(n)(n))</span></span>, <span style=\"color: rgb(0, 187, 0)\"><span class=\"ansi-green-fg\">3.4654816148776003E-4</span></span>),\n",
       "      <span style=\"color: yellow\"><span class=\"ansi-yellow-fg\">Weighted</span></span>(<span style=\"color: rgb(0, 187, 0)\"><span class=\"ansi-green-fg\">mul(mul(m)(n))</span></span>, <span style=\"color: rgb(0, 187, 0)\"><span class=\"ansi-green-fg\">0.010416836917142479</span></span>),\n",
       "      <span style=\"color: yellow\"><span class=\"ansi-yellow-fg\">Weighted</span></span>(<span style=\"color: rgb(0, 187, 0)\"><span class=\"ansi-green-fg\">mul(n)(m)</span></span>, <span style=\"color: rgb(0, 187, 0)\"><span class=\"ansi-green-fg\">0.012520205690146462</span></span>),\n",
       "      <span style=\"color: yellow\"><span class=\"ansi-yellow-fg\">Weighted</span></span>(<span style=\"color: rgb(0, 187, 0)\"><span class=\"ansi-green-fg\">mul(mul(m)(n))(mul(n)(m))</span></span>, <span style=\"color: rgb(0, 187, 0)\"><span class=\"ansi-green-fg\">3.4654816148776003E-4</span></span>),\n",
       "      <span style=\"color: yellow\"><span class=\"ansi-yellow-fg\">Weighted</span></span>(<span style=\"color: rgb(0, 187, 0)\"><span class=\"ansi-green-fg\">mul(mul(n)(m))(mul(m)(mul(m)(n)))</span></span>, <span style=\"color: rgb(0, 187, 0)\"><span class=\"ansi-green-fg\">7.541598340701594E-5</span></span>),\n",
       "      <span style=\"color: yellow\"><span class=\"ansi-yellow-fg\">Weighted</span></span>(<span style=\"color: rgb(0, 187, 0)\"><span class=\"ansi-green-fg\">mul(n)(mul(n)(mul(m)(n)))</span></span>, <span style=\"color: rgb(0, 187, 0)\"><span class=\"ansi-green-fg\">3.579199073705958E-4</span></span>),\n",
       "      <span style=\"color: yellow\"><span class=\"ansi-yellow-fg\">Weighted</span></span>(<span style=\"color: rgb(0, 187, 0)\"><span class=\"ansi-green-fg\">mul(mul(n)(m))(m)</span></span>, <span style=\"color: rgb(0, 187, 0)\"><span class=\"ansi-green-fg\">0.002071720972350219</span></span>),\n",
       "      <span style=\"color: yellow\"><span class=\"ansi-yellow-fg\">Weighted</span></span>(<span style=\"color: rgb(0, 187, 0)\"><span class=\"ansi-green-fg\">mul(mul(n)(n))(mul(n)(mul(n)(m)))</span></span>, <span style=\"color: rgb(0, 187, 0)\"><span class=\"ansi-green-fg\">7.541598340701594E-5</span></span>),\n",
       "      <span style=\"color: yellow\"><span class=\"ansi-yellow-fg\">Weighted</span></span>(<span style=\"color: rgb(0, 187, 0)\"><span class=\"ansi-green-fg\">mul(mul(m)(n))(mul(n)(n))</span></span>, <span style=\"color: rgb(0, 187, 0)\"><span class=\"ansi-green-fg\">3.4654816148776003E-4</span></span>),\n",
       "      <span style=\"color: yellow\"><span class=\"ansi-yellow-fg\">Weighted</span></span>(<span style=\"color: rgb(0, 187, 0)\"><span class=\"ansi-green-fg\">mul(mul(n)(m))(mul(m)(mul(m)(m)))</span></span>, <span style=\"color: rgb(0, 187, 0)\"><span class=\"ansi-green-fg\">7.541598340701594E-5</span></span>),\n",
       "      <span style=\"color: yellow\"><span class=\"ansi-yellow-fg\">Weighted</span></span>(<span style=\"color: rgb(0, 187, 0)\"><span class=\"ansi-green-fg\">mul(mul(m)(m))(mul(m)(n))</span></span>, <span style=\"color: rgb(0, 187, 0)\"><span class=\"ansi-green-fg\">3.4654816148776003E-4</span></span>),\n",
       "      <span style=\"color: yellow\"><span class=\"ansi-yellow-fg\">Weighted</span></span>(<span style=\"color: rgb(0, 187, 0)\"><span class=\"ansi-green-fg\">mul(mul(n)(n))(n)</span></span>, <span style=\"color: rgb(0, 187, 0)\"><span class=\"ansi-green-fg\">0.002071720972350219</span></span>),\n",
       "      <span style=\"color: yellow\"><span class=\"ansi-yellow-fg\">Weighted</span></span>(<span style=\"color: rgb(0, 187, 0)\"><span class=\"ansi-green-fg\">mul(mul(m)(n))(mul(m)(mul(m)(n)))</span></span>, <span style=\"color: rgb(0, 187, 0)\"><span class=\"ansi-green-fg\">7.541598340701594E-5</span></span>),\n",
       "      <span style=\"color: yellow\"><span class=\"ansi-yellow-fg\">Weighted</span></span>(<span style=\"color: rgb(0, 187, 0)\"><span class=\"ansi-green-fg\">mul(n)(mul(m)(m))</span></span>, <span style=\"color: rgb(0, 187, 0)\"><span class=\"ansi-green-fg\">0.0016446975860505758</span></span>),\n",
       "      <span style=\"color: yellow\"><span class=\"ansi-yellow-fg\">Weighted</span></span>(<span style=\"color: rgb(0, 187, 0)\"><span class=\"ansi-green-fg\">mul(mul(n)(mul(m)(n)))</span></span>, <span style=\"color: rgb(0, 187, 0)\"><span class=\"ansi-green-fg\">0.002266321378829473</span></span>),\n",
       "      <span style=\"color: yellow\"><span class=\"ansi-yellow-fg\">Weighted</span></span>(<span style=\"color: rgb(0, 187, 0)\"><span class=\"ansi-green-fg\">(@b : M) ↦ mul(n)(mul(m)(n))</span></span>, <span style=\"color: rgb(0, 187, 0)\"><span class=\"ansi-green-fg\">1.2656892811513553E-5</span></span>),\n",
       "      <span style=\"color: yellow\"><span class=\"ansi-yellow-fg\">Weighted</span></span>(<span style=\"color: rgb(0, 187, 0)\"><span class=\"ansi-green-fg\">mul</span></span>, <span style=\"color: rgb(0, 187, 0)\"><span class=\"ansi-green-fg\">0.2359471492805762</span></span>),\n",
       "      <span style=\"color: yellow\"><span class=\"ansi-yellow-fg\">Weighted</span></span>(<span style=\"color: rgb(0, 187, 0)\"><span class=\"ansi-green-fg\">mul(mul(n)(n))(mul(m)(mul(m)(n)))</span></span>, <span style=\"color: rgb(0, 187, 0)\"><span class=\"ansi-green-fg\">7.541598340701594E-5</span></span>),\n",
       "      <span style=\"color: yellow\"><span class=\"ansi-yellow-fg\">Weighted</span></span>(<span style=\"color: rgb(0, 187, 0)\"><span class=\"ansi-green-fg\">mul(mul(n)(m))(mul(n)(mul(m)(n)))</span></span>, <span style=\"color: rgb(0, 187, 0)\"><span class=\"ansi-green-fg\">7.541598340701594E-5</span></span>),\n",
       "      <span style=\"color: yellow\"><span class=\"ansi-yellow-fg\">Weighted</span></span>(<span style=\"color: rgb(0, 187, 0)\"><span class=\"ansi-green-fg\">mul(mul(n)(n))(mul(m)(mul(m)(m)))</span></span>, <span style=\"color: rgb(0, 187, 0)\"><span class=\"ansi-green-fg\">7.541598340701594E-5</span></span>),\n",
       "      <span style=\"color: yellow\"><span class=\"ansi-yellow-fg\">Weighted</span></span>(<span style=\"color: rgb(0, 187, 0)\"><span class=\"ansi-green-fg\">mul(n)(mul(m)(mul(n)(n)))</span></span>, <span style=\"color: rgb(0, 187, 0)\"><span class=\"ansi-green-fg\">3.579199073705958E-4</span></span>),\n",
       "      <span style=\"color: yellow\"><span class=\"ansi-yellow-fg\">Weighted</span></span>(<span style=\"color: rgb(0, 187, 0)\"><span class=\"ansi-green-fg\">mul(mul(n)(n))(mul(m)(mul(n)(n)))</span></span>, <span style=\"color: rgb(0, 187, 0)\"><span class=\"ansi-green-fg\">7.541598340701594E-5</span></span>),\n",
       "      <span style=\"color: yellow\"><span class=\"ansi-yellow-fg\">Weighted</span></span>(<span style=\"color: rgb(0, 187, 0)\"><span class=\"ansi-green-fg\">mul(mul(m)(mul(n)(n)))</span></span>, <span style=\"color: rgb(0, 187, 0)\"><span class=\"ansi-green-fg\">0.002266321378829473</span></span>),\n",
       "      <span style=\"color: yellow\"><span class=\"ansi-yellow-fg\">Weighted</span></span>(<span style=\"color: rgb(0, 187, 0)\"><span class=\"ansi-green-fg\">mul(mul(n)(n))(mul(m)(mul(n)(m)))</span></span>, <span style=\"color: rgb(0, 187, 0)\"><span class=\"ansi-green-fg\">7.541598340701594E-5</span></span>),\n",
       "      <span style=\"color: yellow\"><span class=\"ansi-yellow-fg\">Weighted</span></span>(<span style=\"color: rgb(0, 187, 0)\"><span class=\"ansi-green-fg\">mul(mul(n)(m))(mul(m)(m))</span></span>, <span style=\"color: rgb(0, 187, 0)\"><span class=\"ansi-green-fg\">3.4654816148776003E-4</span></span>),\n",
       "      <span style=\"color: yellow\"><span class=\"ansi-yellow-fg\">Weighted</span></span>(<span style=\"color: rgb(0, 187, 0)\"><span class=\"ansi-green-fg\">mul(m)(mul(m)(m))</span></span>, <span style=\"color: rgb(0, 187, 0)\"><span class=\"ansi-green-fg\">0.0016446975860505758</span></span>),\n",
       "      <span style=\"color: yellow\"><span class=\"ansi-yellow-fg\">Weighted</span></span>(<span style=\"color: rgb(0, 187, 0)\"><span class=\"ansi-green-fg\">(@b : M) ↦ @b</span></span>, <span style=\"color: rgb(0, 187, 0)\"><span class=\"ansi-green-fg\">0.0016100731845219338</span></span>),\n",
       "      <span style=\"color: yellow\"><span class=\"ansi-yellow-fg\">Weighted</span></span>(<span style=\"color: rgb(0, 187, 0)\"><span class=\"ansi-green-fg\">(@b : M) ↦ mul(n)(m)</span></span>, <span style=\"color: rgb(0, 187, 0)\"><span class=\"ansi-green-fg\">7.41727298036105E-5</span></span>),\n",
       "      <span style=\"color: yellow\"><span class=\"ansi-yellow-fg\">Weighted</span></span>(<span style=\"color: rgb(0, 187, 0)\"><span class=\"ansi-green-fg\">mul(m)(mul(n)(mul(m)(m)))</span></span>, <span style=\"color: rgb(0, 187, 0)\"><span class=\"ansi-green-fg\">3.579199073705958E-4</span></span>),\n",
       "      <span style=\"color: yellow\"><span class=\"ansi-yellow-fg\">Weighted</span></span>(<span style=\"color: rgb(0, 187, 0)\"><span class=\"ansi-green-fg\">mul(m)</span></span>, <span style=\"color: rgb(0, 187, 0)\"><span class=\"ansi-green-fg\">0.06281865636134396</span></span>),\n",
       "...</span></span></span></code></pre>\n",
       "</div>"
      ],
      "text/plain": [
       "\u001b[36mres18\u001b[39m: \u001b[32mmonix\u001b[39m.\u001b[32mexecution\u001b[39m.\u001b[32mCancelableFuture\u001b[39m[\u001b[32mFiniteDistribution\u001b[39m[\u001b[32mTerm\u001b[39m]] = \u001b[32m\u001b[33mSuccess\u001b[39m(\n",
       "  \u001b[33mFiniteDistribution\u001b[39m(\n",
       "    \u001b[33mVector\u001b[39m(\n",
       "      \u001b[33mWeighted\u001b[39m(\u001b[32mmul(n)(n)\u001b[39m, \u001b[32m0.012520205690146462\u001b[39m),\n",
       "      \u001b[33mWeighted\u001b[39m(\u001b[32m(@a : M) ↦ (@b : M) ↦ @a\u001b[39m, \u001b[32m9.273206315917476E-4\u001b[39m),\n",
       "      \u001b[33mWeighted\u001b[39m(\u001b[32m(@a : M) ↦ (@b : M) ↦ @b\u001b[39m, \u001b[32m0.0013247437594167825\u001b[39m),\n",
       "      \u001b[33mWeighted\u001b[39m(\u001b[32mmul(mul(n)(n))(mul(n)(n))\u001b[39m, \u001b[32m3.4654816148776003E-4\u001b[39m),\n",
       "      \u001b[33mWeighted\u001b[39m(\u001b[32m(@b : M) ↦ m\u001b[39m, \u001b[32m0.0012278268037934584\u001b[39m),\n",
       "      \u001b[33mWeighted\u001b[39m(\u001b[32m(@a : M) ↦ mul(@a)\u001b[39m, \u001b[32m0.0019308569962494305\u001b[39m),\n",
       "      \u001b[33mWeighted\u001b[39m(\u001b[32mmul(mul(n)(m))(mul(n)(n))\u001b[39m, \u001b[32m3.4654816148776003E-4\u001b[39m),\n",
       "      \u001b[33mWeighted\u001b[39m(\u001b[32mmul(mul(m)(n))\u001b[39m, \u001b[32m0.010416836917142479\u001b[39m),\n",
       "      \u001b[33mWeighted\u001b[39m(\u001b[32mmul(n)(m)\u001b[39m, \u001b[32m0.012520205690146462\u001b[39m),\n",
       "      \u001b[33mWeighted\u001b[39m(\u001b[32mmul(mul(m)(n))(mul(n)(m))\u001b[39m, \u001b[32m3.4654816148776003E-4\u001b[39m),\n",
       "      \u001b[33mWeighted\u001b[39m(\u001b[32mmul(mul(n)(m))(mul(m)(mul(m)(n)))\u001b[39m, \u001b[32m7.541598340701594E-5\u001b[39m),\n",
       "      \u001b[33mWeighted\u001b[39m(\u001b[32mmul(n)(mul(n)(mul(m)(n)))\u001b[39m, \u001b[32m3.579199073705958E-4\u001b[39m),\n",
       "      \u001b[33mWeighted\u001b[39m(\u001b[32mmul(mul(n)(m))(m)\u001b[39m, \u001b[32m0.002071720972350219\u001b[39m),\n",
       "      \u001b[33mWeighted\u001b[39m(\u001b[32mmul(mul(n)(n))(mul(n)(mul(n)(m)))\u001b[39m, \u001b[32m7.541598340701594E-5\u001b[39m),\n",
       "      \u001b[33mWeighted\u001b[39m(\u001b[32mmul(mul(m)(n))(mul(n)(n))\u001b[39m, \u001b[32m3.4654816148776003E-4\u001b[39m),\n",
       "      \u001b[33mWeighted\u001b[39m(\u001b[32mmul(mul(n)(m))(mul(m)(mul(m)(m)))\u001b[39m, \u001b[32m7.541598340701594E-5\u001b[39m),\n",
       "      \u001b[33mWeighted\u001b[39m(\u001b[32mmul(mul(m)(m))(mul(m)(n))\u001b[39m, \u001b[32m3.4654816148776003E-4\u001b[39m),\n",
       "      \u001b[33mWeighted\u001b[39m(\u001b[32mmul(mul(n)(n))(n)\u001b[39m, \u001b[32m0.002071720972350219\u001b[39m),\n",
       "      \u001b[33mWeighted\u001b[39m(\u001b[32mmul(mul(m)(n))(mul(m)(mul(m)(n)))\u001b[39m, \u001b[32m7.541598340701594E-5\u001b[39m),\n",
       "      \u001b[33mWeighted\u001b[39m(\u001b[32mmul(n)(mul(m)(m))\u001b[39m, \u001b[32m0.0016446975860505758\u001b[39m),\n",
       "      \u001b[33mWeighted\u001b[39m(\u001b[32mmul(mul(n)(mul(m)(n)))\u001b[39m, \u001b[32m0.002266321378829473\u001b[39m),\n",
       "      \u001b[33mWeighted\u001b[39m(\u001b[32m(@b : M) ↦ mul(n)(mul(m)(n))\u001b[39m, \u001b[32m1.2656892811513553E-5\u001b[39m),\n",
       "      \u001b[33mWeighted\u001b[39m(\u001b[32mmul\u001b[39m, \u001b[32m0.2359471492805762\u001b[39m),\n",
       "      \u001b[33mWeighted\u001b[39m(\u001b[32mmul(mul(n)(n))(mul(m)(mul(m)(n)))\u001b[39m, \u001b[32m7.541598340701594E-5\u001b[39m),\n",
       "      \u001b[33mWeighted\u001b[39m(\u001b[32mmul(mul(n)(m))(mul(n)(mul(m)(n)))\u001b[39m, \u001b[32m7.541598340701594E-5\u001b[39m),\n",
       "      \u001b[33mWeighted\u001b[39m(\u001b[32mmul(mul(n)(n))(mul(m)(mul(m)(m)))\u001b[39m, \u001b[32m7.541598340701594E-5\u001b[39m),\n",
       "      \u001b[33mWeighted\u001b[39m(\u001b[32mmul(n)(mul(m)(mul(n)(n)))\u001b[39m, \u001b[32m3.579199073705958E-4\u001b[39m),\n",
       "      \u001b[33mWeighted\u001b[39m(\u001b[32mmul(mul(n)(n))(mul(m)(mul(n)(n)))\u001b[39m, \u001b[32m7.541598340701594E-5\u001b[39m),\n",
       "      \u001b[33mWeighted\u001b[39m(\u001b[32mmul(mul(m)(mul(n)(n)))\u001b[39m, \u001b[32m0.002266321378829473\u001b[39m),\n",
       "      \u001b[33mWeighted\u001b[39m(\u001b[32mmul(mul(n)(n))(mul(m)(mul(n)(m)))\u001b[39m, \u001b[32m7.541598340701594E-5\u001b[39m),\n",
       "      \u001b[33mWeighted\u001b[39m(\u001b[32mmul(mul(n)(m))(mul(m)(m))\u001b[39m, \u001b[32m3.4654816148776003E-4\u001b[39m),\n",
       "      \u001b[33mWeighted\u001b[39m(\u001b[32mmul(m)(mul(m)(m))\u001b[39m, \u001b[32m0.0016446975860505758\u001b[39m),\n",
       "      \u001b[33mWeighted\u001b[39m(\u001b[32m(@b : M) ↦ @b\u001b[39m, \u001b[32m0.0016100731845219338\u001b[39m),\n",
       "      \u001b[33mWeighted\u001b[39m(\u001b[32m(@b : M) ↦ mul(n)(m)\u001b[39m, \u001b[32m7.41727298036105E-5\u001b[39m),\n",
       "      \u001b[33mWeighted\u001b[39m(\u001b[32mmul(m)(mul(n)(mul(m)(m)))\u001b[39m, \u001b[32m3.579199073705958E-4\u001b[39m),\n",
       "      \u001b[33mWeighted\u001b[39m(\u001b[32mmul(m)\u001b[39m, \u001b[32m0.06281865636134396\u001b[39m),\n",
       "...\u001b[39m"
      ]
     },
     "metadata": {},
     "output_type": "display_data"
    }
   ],
   "source": [
    "terms3T.runToFuture"
   ]
  },
  {
   "cell_type": "code",
   "execution_count": 23,
   "metadata": {},
   "outputs": [
    {
     "data": {
      "text/plain": [
       "\u001b[36mdiff3T\u001b[39m: \u001b[32mmonix\u001b[39m.\u001b[32meval\u001b[39m.\u001b[32mTask\u001b[39m[\u001b[32mOption\u001b[39m[\u001b[32mWeighted\u001b[39m[\u001b[32mTerm\u001b[39m]]] = \u001b[33mFlatMap\u001b[39m(\n",
       "  \u001b[33mAsync\u001b[39m(<function2>, false, true, true),\n",
       "  ammonite.$sess.cmd22$Helper$$Lambda$3200/829051717@7247f343\n",
       ")"
      ]
     },
     "execution_count": 23,
     "metadata": {},
     "output_type": "execute_result"
    }
   ],
   "source": [
    "val diff3T = for {\n",
    "    t3 <- terms3T\n",
    "    t1 <- terms1T\n",
    "} yield t3.pmf.find(wt => t1(wt.elem) == 0)"
   ]
  },
  {
   "cell_type": "code",
   "execution_count": 24,
   "metadata": {},
   "outputs": [
    {
     "data": {
      "text/html": [
       "<div class=\"jp-RenderedText\">\n",
       "<pre><code><span style=\"color: rgb(0, 187, 187)\"><span class=\"ansi-cyan-fg\">diff3F</span></span>: <span style=\"color: rgb(0, 187, 0)\"><span class=\"ansi-green-fg\">monix</span></span>.<span style=\"color: rgb(0, 187, 0)\"><span class=\"ansi-green-fg\">execution</span></span>.<span style=\"color: rgb(0, 187, 0)\"><span class=\"ansi-green-fg\">CancelableFuture</span></span>[<span style=\"color: rgb(0, 187, 0)\"><span class=\"ansi-green-fg\">Option</span></span>[<span style=\"color: rgb(0, 187, 0)\"><span class=\"ansi-green-fg\">Weighted</span></span>[<span style=\"color: rgb(0, 187, 0)\"><span class=\"ansi-green-fg\">Term</span></span>]]] = <span style=\"color: rgb(0, 187, 0)\"><span class=\"ansi-green-fg\"><span style=\"color: yellow\"><span class=\"ansi-yellow-fg\">Success</span></span>(<span style=\"color: yellow\"><span class=\"ansi-yellow-fg\">Some</span></span>(<span style=\"color: yellow\"><span class=\"ansi-yellow-fg\">Weighted</span></span>(<span style=\"color: rgb(0, 187, 0)\"><span class=\"ansi-green-fg\">mul(mul(n)(n))(mul(n)(n))</span></span>, <span style=\"color: rgb(0, 187, 0)\"><span class=\"ansi-green-fg\">3.4654816148776003E-4</span></span>)))</span></span></code></pre>\n",
       "</div>"
      ],
      "text/plain": [
       "\u001b[36mdiff3F\u001b[39m: \u001b[32mmonix\u001b[39m.\u001b[32mexecution\u001b[39m.\u001b[32mCancelableFuture\u001b[39m[\u001b[32mOption\u001b[39m[\u001b[32mWeighted\u001b[39m[\u001b[32mTerm\u001b[39m]]] = \u001b[32m\u001b[33mSuccess\u001b[39m(\u001b[33mSome\u001b[39m(\u001b[33mWeighted\u001b[39m(\u001b[32mmul(mul(n)(n))(mul(n)(n))\u001b[39m, \u001b[32m3.4654816148776003E-4\u001b[39m)))\u001b[39m"
      ]
     },
     "metadata": {},
     "output_type": "display_data"
    }
   ],
   "source": [
    "val diff3F = diff3T.runToFuture"
   ]
  },
  {
   "cell_type": "code",
   "execution_count": 26,
   "metadata": {},
   "outputs": [
    {
     "data": {
      "text/plain": [
       "\u001b[36meqs3T\u001b[39m: \u001b[32mmonix\u001b[39m.\u001b[32meval\u001b[39m.\u001b[32mTask\u001b[39m[\u001b[32mSet\u001b[39m[\u001b[32mEquation\u001b[39m]] = \u001b[33mAsync\u001b[39m(<function2>, false, true, true)"
      ]
     },
     "execution_count": 26,
     "metadata": {},
     "output_type": "execute_result"
    }
   ],
   "source": [
    "val eqs3T = lp1.equations.memoize"
   ]
  },
  {
   "cell_type": "code",
   "execution_count": 27,
   "metadata": {},
   "outputs": [
    {
     "data": {
      "text/html": [
       "<div class=\"jp-RenderedText\">\n",
       "<pre><code><span style=\"color: rgb(0, 187, 187)\"><span class=\"ansi-cyan-fg\">res26</span></span>: <span style=\"color: rgb(0, 187, 0)\"><span class=\"ansi-green-fg\">monix</span></span>.<span style=\"color: rgb(0, 187, 0)\"><span class=\"ansi-green-fg\">execution</span></span>.<span style=\"color: rgb(0, 187, 0)\"><span class=\"ansi-green-fg\">CancelableFuture</span></span>[<span style=\"color: rgb(0, 187, 0)\"><span class=\"ansi-green-fg\">Set</span></span>[<span style=\"color: rgb(0, 187, 0)\"><span class=\"ansi-green-fg\">Equation</span></span>]] = <span style=\"color: rgb(0, 187, 0)\"><span class=\"ansi-green-fg\"><style>@keyframes fadein { from { opacity: 0; } to { opacity: 1; } }</style><span style=\"animation: fadein 2s;\"><span style=\"color: yellow\"><span class=\"ansi-yellow-fg\">Success</span></span>(\n",
       "  <span style=\"color: yellow\"><span class=\"ansi-yellow-fg\">Set</span></span>(\n",
       "    <span style=\"color: yellow\"><span class=\"ansi-yellow-fg\">Equation</span></span>(\n",
       "      <span style=\"color: yellow\"><span class=\"ansi-yellow-fg\">FinalVal</span></span>(<span style=\"color: yellow\"><span class=\"ansi-yellow-fg\">Elem</span></span>(<span style=\"color: yellow\"><span class=\"ansi-yellow-fg\">Wrap</span></span>(<span style=\"color: rgb(0, 187, 0)\"><span class=\"ansi-green-fg\">mul(n)</span></span>), <span style=\"color: yellow\"><span class=\"ansi-yellow-fg\">AtCoord</span></span>(FuncsWithDomain, <span style=\"color: rgb(0, 187, 0)\"><span class=\"ansi-green-fg\">M</span></span> :: HNil))),\n",
       "      <span style=\"color: yellow\"><span class=\"ansi-yellow-fg\">Quotient</span></span>(\n",
       "        <span style=\"color: yellow\"><span class=\"ansi-yellow-fg\">FinalVal</span></span>(<span style=\"color: yellow\"><span class=\"ansi-yellow-fg\">Elem</span></span>(<span style=\"color: rgb(0, 187, 0)\"><span class=\"ansi-green-fg\">mul(n)</span></span>, Terms)),\n",
       "        <span style=\"color: yellow\"><span class=\"ansi-yellow-fg\">FinalVal</span></span>(<span style=\"color: yellow\"><span class=\"ansi-yellow-fg\">Event</span></span>(Terms, <span style=\"color: yellow\"><span class=\"ansi-yellow-fg\">Restrict</span></span>(<span style=\"color: yellow\"><span class=\"ansi-yellow-fg\">FuncWithDom</span></span>(<span style=\"color: rgb(0, 187, 0)\"><span class=\"ansi-green-fg\">M</span></span>))))\n",
       "      )\n",
       "    ),\n",
       "    <span style=\"color: yellow\"><span class=\"ansi-yellow-fg\">Equation</span></span>(\n",
       "      <span style=\"color: yellow\"><span class=\"ansi-yellow-fg\">FinalVal</span></span>(\n",
       "        <span style=\"color: yellow\"><span class=\"ansi-yellow-fg\">InIsle</span></span>(\n",
       "          <span style=\"color: yellow\"><span class=\"ansi-yellow-fg\">InIsle</span></span>(\n",
       "            <span style=\"color: yellow\"><span class=\"ansi-yellow-fg\">Elem</span></span>(<span style=\"color: yellow\"><span class=\"ansi-yellow-fg\">Wrap</span></span>(<span style=\"color: rgb(0, 187, 0)\"><span class=\"ansi-green-fg\">mul(m)</span></span>), Funcs),\n",
       "            <span style=\"color: rgb(0, 187, 0)\"><span class=\"ansi-green-fg\">@b</span></span>,\n",
       "            <span style=\"color: yellow\"><span class=\"ansi-yellow-fg\">Island</span></span>(\n",
       "              <span style=\"color: yellow\"><span class=\"ansi-yellow-fg\">AtCoord</span></span>(TermsWithTyp, <span style=\"color: rgb(0, 187, 0)\"><span class=\"ansi-green-fg\">(M → M)</span></span> :: HNil),\n",
       "              <span style=\"color: yellow\"><span class=\"ansi-yellow-fg\">ConstRandVar</span></span>(<span style=\"color: yellow\"><span class=\"ansi-yellow-fg\">AtCoord</span></span>(TermsWithTyp, <span style=\"color: rgb(0, 187, 0)\"><span class=\"ansi-green-fg\">M</span></span> :: HNil)),\n",
       "              <span style=\"color: yellow\"><span class=\"ansi-yellow-fg\">AddVar</span></span>(<span style=\"color: rgb(0, 187, 0)\"><span class=\"ansi-green-fg\">M</span></span>, <span style=\"color: rgb(0, 187, 0)\"><span class=\"ansi-green-fg\">0.3</span></span>),\n",
       "              Lambda,\n",
       "              EnterIsle\n",
       "            )\n",
       "          ),\n",
       "          <span style=\"color: rgb(0, 187, 0)\"><span class=\"ansi-green-fg\">@a</span></span>,\n",
       "          <span style=\"color: yellow\"><span class=\"ansi-yellow-fg\">Island</span></span>(\n",
       "            <span style=\"color: yellow\"><span class=\"ansi-yellow-fg\">AtCoord</span></span>(TermsWithTyp, <span style=\"color: rgb(0, 187, 0)\"><span class=\"ansi-green-fg\">(M → (M → M))</span></span> :: HNil),\n",
       "            <span style=\"color: yellow\"><span class=\"ansi-yellow-fg\">ConstRandVar</span></span>(<span style=\"color: yellow\"><span class=\"ansi-yellow-fg\">AtCoord</span></span>(TermsWithTyp, <span style=\"color: rgb(0, 187, 0)\"><span class=\"ansi-green-fg\">(M → M)</span></span> :: HNil)),\n",
       "            <span style=\"color: yellow\"><span class=\"ansi-yellow-fg\">AddVar</span></span>(<span style=\"color: rgb(0, 187, 0)\"><span class=\"ansi-green-fg\">M</span></span>, <span style=\"color: rgb(0, 187, 0)\"><span class=\"ansi-green-fg\">0.3</span></span>),\n",
       "            Lambda,\n",
       "            EnterIsle\n",
       "          )\n",
       "        )\n",
       "      ),\n",
       "      <span style=\"color: yellow\"><span class=\"ansi-yellow-fg\">Quotient</span></span>(\n",
       "        <span style=\"color: yellow\"><span class=\"ansi-yellow-fg\">FinalVal</span></span>(\n",
       "          <span style=\"color: yellow\"><span class=\"ansi-yellow-fg\">InIsle</span></span>(\n",
       "            <span style=\"color: yellow\"><span class=\"ansi-yellow-fg\">InIsle</span></span>(\n",
       "              <span style=\"color: yellow\"><span class=\"ansi-yellow-fg\">Elem</span></span>(<span style=\"color: rgb(0, 187, 0)\"><span class=\"ansi-green-fg\">mul(m)</span></span>, Terms),\n",
       "              <span style=\"color: rgb(0, 187, 0)\"><span class=\"ansi-green-fg\">@b</span></span>,\n",
       "...</span></span></span></code></pre>\n",
       "</div>"
      ],
      "text/plain": [
       "\u001b[36mres26\u001b[39m: \u001b[32mmonix\u001b[39m.\u001b[32mexecution\u001b[39m.\u001b[32mCancelableFuture\u001b[39m[\u001b[32mSet\u001b[39m[\u001b[32mEquation\u001b[39m]] = \u001b[32m\u001b[33mSuccess\u001b[39m(\n",
       "  \u001b[33mSet\u001b[39m(\n",
       "    \u001b[33mEquation\u001b[39m(\n",
       "      \u001b[33mFinalVal\u001b[39m(\u001b[33mElem\u001b[39m(\u001b[33mWrap\u001b[39m(\u001b[32mmul(n)\u001b[39m), \u001b[33mAtCoord\u001b[39m(FuncsWithDomain, \u001b[32mM\u001b[39m :: HNil))),\n",
       "      \u001b[33mQuotient\u001b[39m(\n",
       "        \u001b[33mFinalVal\u001b[39m(\u001b[33mElem\u001b[39m(\u001b[32mmul(n)\u001b[39m, Terms)),\n",
       "        \u001b[33mFinalVal\u001b[39m(\u001b[33mEvent\u001b[39m(Terms, \u001b[33mRestrict\u001b[39m(\u001b[33mFuncWithDom\u001b[39m(\u001b[32mM\u001b[39m))))\n",
       "      )\n",
       "    ),\n",
       "    \u001b[33mEquation\u001b[39m(\n",
       "      \u001b[33mFinalVal\u001b[39m(\n",
       "        \u001b[33mInIsle\u001b[39m(\n",
       "          \u001b[33mInIsle\u001b[39m(\n",
       "            \u001b[33mElem\u001b[39m(\u001b[33mWrap\u001b[39m(\u001b[32mmul(m)\u001b[39m), Funcs),\n",
       "            \u001b[32m@b\u001b[39m,\n",
       "            \u001b[33mIsland\u001b[39m(\n",
       "              \u001b[33mAtCoord\u001b[39m(TermsWithTyp, \u001b[32m(M → M)\u001b[39m :: HNil),\n",
       "              \u001b[33mConstRandVar\u001b[39m(\u001b[33mAtCoord\u001b[39m(TermsWithTyp, \u001b[32mM\u001b[39m :: HNil)),\n",
       "              \u001b[33mAddVar\u001b[39m(\u001b[32mM\u001b[39m, \u001b[32m0.3\u001b[39m),\n",
       "              Lambda,\n",
       "              EnterIsle\n",
       "            )\n",
       "          ),\n",
       "          \u001b[32m@a\u001b[39m,\n",
       "          \u001b[33mIsland\u001b[39m(\n",
       "            \u001b[33mAtCoord\u001b[39m(TermsWithTyp, \u001b[32m(M → (M → M))\u001b[39m :: HNil),\n",
       "            \u001b[33mConstRandVar\u001b[39m(\u001b[33mAtCoord\u001b[39m(TermsWithTyp, \u001b[32m(M → M)\u001b[39m :: HNil)),\n",
       "            \u001b[33mAddVar\u001b[39m(\u001b[32mM\u001b[39m, \u001b[32m0.3\u001b[39m),\n",
       "            Lambda,\n",
       "            EnterIsle\n",
       "          )\n",
       "        )\n",
       "      ),\n",
       "      \u001b[33mQuotient\u001b[39m(\n",
       "        \u001b[33mFinalVal\u001b[39m(\n",
       "          \u001b[33mInIsle\u001b[39m(\n",
       "            \u001b[33mInIsle\u001b[39m(\n",
       "              \u001b[33mElem\u001b[39m(\u001b[32mmul(m)\u001b[39m, Terms),\n",
       "              \u001b[32m@b\u001b[39m,\n",
       "...\u001b[39m"
      ]
     },
     "metadata": {},
     "output_type": "display_data"
    }
   ],
   "source": [
    "eqs3T.runToFuture"
   ]
  },
  {
   "cell_type": "code",
   "execution_count": 29,
   "metadata": {},
   "outputs": [
    {
     "data": {
      "text/plain": [
       "\u001b[36meqs1T\u001b[39m: \u001b[32mmonix\u001b[39m.\u001b[32meval\u001b[39m.\u001b[32mTask\u001b[39m[\u001b[32mSet\u001b[39m[\u001b[32mEquation\u001b[39m]] = \u001b[33mAsync\u001b[39m(<function2>, false, true, true)"
      ]
     },
     "execution_count": 29,
     "metadata": {},
     "output_type": "execute_result"
    }
   ],
   "source": [
    "val eqs1T = lp.equations.memoize"
   ]
  },
  {
   "cell_type": "code",
   "execution_count": 30,
   "metadata": {},
   "outputs": [
    {
     "data": {
      "text/html": [
       "<div class=\"jp-RenderedText\">\n",
       "<pre><code><span style=\"color: rgb(0, 187, 187)\"><span class=\"ansi-cyan-fg\">eqs1F</span></span>: <span style=\"color: rgb(0, 187, 0)\"><span class=\"ansi-green-fg\">monix</span></span>.<span style=\"color: rgb(0, 187, 0)\"><span class=\"ansi-green-fg\">execution</span></span>.<span style=\"color: rgb(0, 187, 0)\"><span class=\"ansi-green-fg\">CancelableFuture</span></span>[<span style=\"color: rgb(0, 187, 0)\"><span class=\"ansi-green-fg\">Set</span></span>[<span style=\"color: rgb(0, 187, 0)\"><span class=\"ansi-green-fg\">Equation</span></span>]] = <span style=\"color: rgb(0, 187, 0)\"><span class=\"ansi-green-fg\"><span style=\"color: yellow\"><span class=\"ansi-yellow-fg\">Success</span></span>(\n",
       "  <span style=\"color: yellow\"><span class=\"ansi-yellow-fg\">Set</span></span>(\n",
       "    <span style=\"color: yellow\"><span class=\"ansi-yellow-fg\">Equation</span></span>(\n",
       "      <span style=\"color: yellow\"><span class=\"ansi-yellow-fg\">FinalVal</span></span>(<span style=\"color: yellow\"><span class=\"ansi-yellow-fg\">Elem</span></span>(<span style=\"color: yellow\"><span class=\"ansi-yellow-fg\">Wrap</span></span>(<span style=\"color: rgb(0, 187, 0)\"><span class=\"ansi-green-fg\">mul(n)</span></span>), <span style=\"color: yellow\"><span class=\"ansi-yellow-fg\">AtCoord</span></span>(FuncsWithDomain, <span style=\"color: rgb(0, 187, 0)\"><span class=\"ansi-green-fg\">M</span></span> :: HNil))),\n",
       "      <span style=\"color: yellow\"><span class=\"ansi-yellow-fg\">Quotient</span></span>(\n",
       "        <span style=\"color: yellow\"><span class=\"ansi-yellow-fg\">FinalVal</span></span>(<span style=\"color: yellow\"><span class=\"ansi-yellow-fg\">Elem</span></span>(<span style=\"color: rgb(0, 187, 0)\"><span class=\"ansi-green-fg\">mul(n)</span></span>, Terms)),\n",
       "        <span style=\"color: yellow\"><span class=\"ansi-yellow-fg\">FinalVal</span></span>(<span style=\"color: yellow\"><span class=\"ansi-yellow-fg\">Event</span></span>(Terms, <span style=\"color: yellow\"><span class=\"ansi-yellow-fg\">Restrict</span></span>(<span style=\"color: yellow\"><span class=\"ansi-yellow-fg\">FuncWithDom</span></span>(<span style=\"color: rgb(0, 187, 0)\"><span class=\"ansi-green-fg\">M</span></span>))))\n",
       "      )\n",
       "    ),\n",
       "    <span style=\"color: yellow\"><span class=\"ansi-yellow-fg\">Equation</span></span>(\n",
       "      <span style=\"color: yellow\"><span class=\"ansi-yellow-fg\">InitialVal</span></span>(\n",
       "        <span style=\"color: yellow\"><span class=\"ansi-yellow-fg\">InIsle</span></span>(\n",
       "          <span style=\"color: yellow\"><span class=\"ansi-yellow-fg\">InIsle</span></span>(\n",
       "            <span style=\"color: yellow\"><span class=\"ansi-yellow-fg\">Elem</span></span>(<span style=\"color: rgb(0, 187, 0)\"><span class=\"ansi-green-fg\">n</span></span>, Terms),\n",
       "            <span style=\"color: rgb(0, 187, 0)\"><span class=\"ansi-green-fg\">@b</span></span>,\n",
       "            <span style=\"color: yellow\"><span class=\"ansi-yellow-fg\">Island</span></span>(\n",
       "              <span style=\"color: yellow\"><span class=\"ansi-yellow-fg\">AtCoord</span></span>(TermsWithTyp, <span style=\"color: rgb(0, 187, 0)\"><span class=\"ansi-green-fg\">(M → M)</span></span> :: HNil),\n",
       "              <span style=\"color: yellow\"><span class=\"ansi-yellow-fg\">ConstRandVar</span></span>(<span style=\"color: yellow\"><span class=\"ansi-yellow-fg\">AtCoord</span></span>(TermsWithTyp, <span style=\"color: rgb(0, 187, 0)\"><span class=\"ansi-green-fg\">M</span></span> :: HNil)),\n",
       "              <span style=\"color: yellow\"><span class=\"ansi-yellow-fg\">AddVar</span></span>(<span style=\"color: rgb(0, 187, 0)\"><span class=\"ansi-green-fg\">M</span></span>, <span style=\"color: rgb(0, 187, 0)\"><span class=\"ansi-green-fg\">0.3</span></span>),\n",
       "              Lambda,\n",
       "              EnterIsle\n",
       "            )\n",
       "          ),\n",
       "          <span style=\"color: rgb(0, 187, 0)\"><span class=\"ansi-green-fg\">@a</span></span>,\n",
       "          <span style=\"color: yellow\"><span class=\"ansi-yellow-fg\">Island</span></span>(\n",
       "            <span style=\"color: yellow\"><span class=\"ansi-yellow-fg\">AtCoord</span></span>(TermsWithTyp, <span style=\"color: rgb(0, 187, 0)\"><span class=\"ansi-green-fg\">(M → (M → M))</span></span> :: HNil),\n",
       "            <span style=\"color: yellow\"><span class=\"ansi-yellow-fg\">ConstRandVar</span></span>(<span style=\"color: yellow\"><span class=\"ansi-yellow-fg\">AtCoord</span></span>(TermsWithTyp, <span style=\"color: rgb(0, 187, 0)\"><span class=\"ansi-green-fg\">(M → M)</span></span> :: HNil)),\n",
       "            <span style=\"color: yellow\"><span class=\"ansi-yellow-fg\">AddVar</span></span>(<span style=\"color: rgb(0, 187, 0)\"><span class=\"ansi-green-fg\">M</span></span>, <span style=\"color: rgb(0, 187, 0)\"><span class=\"ansi-green-fg\">0.3</span></span>),\n",
       "            Lambda,\n",
       "            EnterIsle\n",
       "          )\n",
       "        )\n",
       "      ),\n",
       "      <span style=\"color: yellow\"><span class=\"ansi-yellow-fg\">Product</span></span>(\n",
       "        <span style=\"color: yellow\"><span class=\"ansi-yellow-fg\">IsleScale</span></span>(<span style=\"color: rgb(0, 187, 0)\"><span class=\"ansi-green-fg\">@b</span></span>, <span style=\"color: yellow\"><span class=\"ansi-yellow-fg\">Elem</span></span>(<span style=\"color: rgb(0, 187, 0)\"><span class=\"ansi-green-fg\">n</span></span>, Terms)),\n",
       "        <span style=\"color: yellow\"><span class=\"ansi-yellow-fg\">InitialVal</span></span>(\n",
       "          <span style=\"color: yellow\"><span class=\"ansi-yellow-fg\">InIsle</span></span>(\n",
       "            <span style=\"color: yellow\"><span class=\"ansi-yellow-fg\">Elem</span></span>(<span style=\"color: rgb(0, 187, 0)\"><span class=\"ansi-green-fg\">n</span></span>, Terms),\n",
       "            <span style=\"color: rgb(0, 187, 0)\"><span class=\"ansi-green-fg\">@a</span></span>,\n",
       "...</span></span></code></pre>\n",
       "</div>"
      ],
      "text/plain": [
       "\u001b[36meqs1F\u001b[39m: \u001b[32mmonix\u001b[39m.\u001b[32mexecution\u001b[39m.\u001b[32mCancelableFuture\u001b[39m[\u001b[32mSet\u001b[39m[\u001b[32mEquation\u001b[39m]] = \u001b[32m\u001b[33mSuccess\u001b[39m(\n",
       "  \u001b[33mSet\u001b[39m(\n",
       "    \u001b[33mEquation\u001b[39m(\n",
       "      \u001b[33mFinalVal\u001b[39m(\u001b[33mElem\u001b[39m(\u001b[33mWrap\u001b[39m(\u001b[32mmul(n)\u001b[39m), \u001b[33mAtCoord\u001b[39m(FuncsWithDomain, \u001b[32mM\u001b[39m :: HNil))),\n",
       "      \u001b[33mQuotient\u001b[39m(\n",
       "        \u001b[33mFinalVal\u001b[39m(\u001b[33mElem\u001b[39m(\u001b[32mmul(n)\u001b[39m, Terms)),\n",
       "        \u001b[33mFinalVal\u001b[39m(\u001b[33mEvent\u001b[39m(Terms, \u001b[33mRestrict\u001b[39m(\u001b[33mFuncWithDom\u001b[39m(\u001b[32mM\u001b[39m))))\n",
       "      )\n",
       "    ),\n",
       "    \u001b[33mEquation\u001b[39m(\n",
       "      \u001b[33mInitialVal\u001b[39m(\n",
       "        \u001b[33mInIsle\u001b[39m(\n",
       "          \u001b[33mInIsle\u001b[39m(\n",
       "            \u001b[33mElem\u001b[39m(\u001b[32mn\u001b[39m, Terms),\n",
       "            \u001b[32m@b\u001b[39m,\n",
       "            \u001b[33mIsland\u001b[39m(\n",
       "              \u001b[33mAtCoord\u001b[39m(TermsWithTyp, \u001b[32m(M → M)\u001b[39m :: HNil),\n",
       "              \u001b[33mConstRandVar\u001b[39m(\u001b[33mAtCoord\u001b[39m(TermsWithTyp, \u001b[32mM\u001b[39m :: HNil)),\n",
       "              \u001b[33mAddVar\u001b[39m(\u001b[32mM\u001b[39m, \u001b[32m0.3\u001b[39m),\n",
       "              Lambda,\n",
       "              EnterIsle\n",
       "            )\n",
       "          ),\n",
       "          \u001b[32m@a\u001b[39m,\n",
       "          \u001b[33mIsland\u001b[39m(\n",
       "            \u001b[33mAtCoord\u001b[39m(TermsWithTyp, \u001b[32m(M → (M → M))\u001b[39m :: HNil),\n",
       "            \u001b[33mConstRandVar\u001b[39m(\u001b[33mAtCoord\u001b[39m(TermsWithTyp, \u001b[32m(M → M)\u001b[39m :: HNil)),\n",
       "            \u001b[33mAddVar\u001b[39m(\u001b[32mM\u001b[39m, \u001b[32m0.3\u001b[39m),\n",
       "            Lambda,\n",
       "            EnterIsle\n",
       "          )\n",
       "        )\n",
       "      ),\n",
       "      \u001b[33mProduct\u001b[39m(\n",
       "        \u001b[33mIsleScale\u001b[39m(\u001b[32m@b\u001b[39m, \u001b[33mElem\u001b[39m(\u001b[32mn\u001b[39m, Terms)),\n",
       "        \u001b[33mInitialVal\u001b[39m(\n",
       "          \u001b[33mInIsle\u001b[39m(\n",
       "            \u001b[33mElem\u001b[39m(\u001b[32mn\u001b[39m, Terms),\n",
       "            \u001b[32m@a\u001b[39m,\n",
       "...\u001b[39m"
      ]
     },
     "metadata": {},
     "output_type": "display_data"
    }
   ],
   "source": [
    "val eqs1F = eqs1T.runToFuture"
   ]
  },
  {
   "cell_type": "code",
   "execution_count": 32,
   "metadata": {},
   "outputs": [
    {
     "data": {
      "text/plain": [
       "\u001b[36meqsT\u001b[39m: \u001b[32mmonix\u001b[39m.\u001b[32meval\u001b[39m.\u001b[32mTask\u001b[39m[\u001b[32mSet\u001b[39m[\u001b[32mEquation\u001b[39m]] = \u001b[33mAsync\u001b[39m(<function2>, false, true, true)"
      ]
     },
     "execution_count": 32,
     "metadata": {},
     "output_type": "execute_result"
    }
   ],
   "source": [
    "val eqsT = (for {\n",
    "    eq1 <- eqs1T\n",
    "    eq3 <- eqs3T\n",
    "} yield Equation.merge(eq1, eq3)).memoize"
   ]
  },
  {
   "cell_type": "code",
   "execution_count": 33,
   "metadata": {},
   "outputs": [
    {
     "data": {
      "text/html": [
       "<div class=\"jp-RenderedText\">\n",
       "<pre><code><span style=\"color: rgb(0, 187, 187)\"><span class=\"ansi-cyan-fg\">res32</span></span>: <span style=\"color: rgb(0, 187, 0)\"><span class=\"ansi-green-fg\">monix</span></span>.<span style=\"color: rgb(0, 187, 0)\"><span class=\"ansi-green-fg\">execution</span></span>.<span style=\"color: rgb(0, 187, 0)\"><span class=\"ansi-green-fg\">CancelableFuture</span></span>[<span style=\"color: rgb(0, 187, 0)\"><span class=\"ansi-green-fg\">Set</span></span>[<span style=\"color: rgb(0, 187, 0)\"><span class=\"ansi-green-fg\">Equation</span></span>]] = <span style=\"color: rgb(0, 187, 0)\"><span class=\"ansi-green-fg\"><style>@keyframes fadein { from { opacity: 0; } to { opacity: 1; } }</style><span style=\"animation: fadein 2s;\"><span style=\"color: yellow\"><span class=\"ansi-yellow-fg\">Success</span></span>(\n",
       "  <span style=\"color: yellow\"><span class=\"ansi-yellow-fg\">Set</span></span>(\n",
       "    <span style=\"color: yellow\"><span class=\"ansi-yellow-fg\">Equation</span></span>(\n",
       "      <span style=\"color: yellow\"><span class=\"ansi-yellow-fg\">FinalVal</span></span>(<span style=\"color: yellow\"><span class=\"ansi-yellow-fg\">Elem</span></span>(<span style=\"color: yellow\"><span class=\"ansi-yellow-fg\">Wrap</span></span>(<span style=\"color: rgb(0, 187, 0)\"><span class=\"ansi-green-fg\">mul(n)</span></span>), <span style=\"color: yellow\"><span class=\"ansi-yellow-fg\">AtCoord</span></span>(FuncsWithDomain, <span style=\"color: rgb(0, 187, 0)\"><span class=\"ansi-green-fg\">M</span></span> :: HNil))),\n",
       "      <span style=\"color: yellow\"><span class=\"ansi-yellow-fg\">Quotient</span></span>(\n",
       "        <span style=\"color: yellow\"><span class=\"ansi-yellow-fg\">FinalVal</span></span>(<span style=\"color: yellow\"><span class=\"ansi-yellow-fg\">Elem</span></span>(<span style=\"color: rgb(0, 187, 0)\"><span class=\"ansi-green-fg\">mul(n)</span></span>, Terms)),\n",
       "        <span style=\"color: yellow\"><span class=\"ansi-yellow-fg\">FinalVal</span></span>(<span style=\"color: yellow\"><span class=\"ansi-yellow-fg\">Event</span></span>(Terms, <span style=\"color: yellow\"><span class=\"ansi-yellow-fg\">Restrict</span></span>(<span style=\"color: yellow\"><span class=\"ansi-yellow-fg\">FuncWithDom</span></span>(<span style=\"color: rgb(0, 187, 0)\"><span class=\"ansi-green-fg\">M</span></span>))))\n",
       "      )\n",
       "    ),\n",
       "    <span style=\"color: yellow\"><span class=\"ansi-yellow-fg\">Equation</span></span>(\n",
       "      <span style=\"color: yellow\"><span class=\"ansi-yellow-fg\">FinalVal</span></span>(\n",
       "        <span style=\"color: yellow\"><span class=\"ansi-yellow-fg\">InIsle</span></span>(\n",
       "          <span style=\"color: yellow\"><span class=\"ansi-yellow-fg\">InIsle</span></span>(\n",
       "            <span style=\"color: yellow\"><span class=\"ansi-yellow-fg\">Elem</span></span>(<span style=\"color: yellow\"><span class=\"ansi-yellow-fg\">Wrap</span></span>(<span style=\"color: rgb(0, 187, 0)\"><span class=\"ansi-green-fg\">mul(m)</span></span>), Funcs),\n",
       "            <span style=\"color: rgb(0, 187, 0)\"><span class=\"ansi-green-fg\">@b</span></span>,\n",
       "            <span style=\"color: yellow\"><span class=\"ansi-yellow-fg\">Island</span></span>(\n",
       "              <span style=\"color: yellow\"><span class=\"ansi-yellow-fg\">AtCoord</span></span>(TermsWithTyp, <span style=\"color: rgb(0, 187, 0)\"><span class=\"ansi-green-fg\">(M → M)</span></span> :: HNil),\n",
       "              <span style=\"color: yellow\"><span class=\"ansi-yellow-fg\">ConstRandVar</span></span>(<span style=\"color: yellow\"><span class=\"ansi-yellow-fg\">AtCoord</span></span>(TermsWithTyp, <span style=\"color: rgb(0, 187, 0)\"><span class=\"ansi-green-fg\">M</span></span> :: HNil)),\n",
       "              <span style=\"color: yellow\"><span class=\"ansi-yellow-fg\">AddVar</span></span>(<span style=\"color: rgb(0, 187, 0)\"><span class=\"ansi-green-fg\">M</span></span>, <span style=\"color: rgb(0, 187, 0)\"><span class=\"ansi-green-fg\">0.3</span></span>),\n",
       "              Lambda,\n",
       "              EnterIsle\n",
       "            )\n",
       "          ),\n",
       "          <span style=\"color: rgb(0, 187, 0)\"><span class=\"ansi-green-fg\">@a</span></span>,\n",
       "          <span style=\"color: yellow\"><span class=\"ansi-yellow-fg\">Island</span></span>(\n",
       "            <span style=\"color: yellow\"><span class=\"ansi-yellow-fg\">AtCoord</span></span>(TermsWithTyp, <span style=\"color: rgb(0, 187, 0)\"><span class=\"ansi-green-fg\">(M → (M → M))</span></span> :: HNil),\n",
       "            <span style=\"color: yellow\"><span class=\"ansi-yellow-fg\">ConstRandVar</span></span>(<span style=\"color: yellow\"><span class=\"ansi-yellow-fg\">AtCoord</span></span>(TermsWithTyp, <span style=\"color: rgb(0, 187, 0)\"><span class=\"ansi-green-fg\">(M → M)</span></span> :: HNil)),\n",
       "            <span style=\"color: yellow\"><span class=\"ansi-yellow-fg\">AddVar</span></span>(<span style=\"color: rgb(0, 187, 0)\"><span class=\"ansi-green-fg\">M</span></span>, <span style=\"color: rgb(0, 187, 0)\"><span class=\"ansi-green-fg\">0.3</span></span>),\n",
       "            Lambda,\n",
       "            EnterIsle\n",
       "          )\n",
       "        )\n",
       "      ),\n",
       "      <span style=\"color: yellow\"><span class=\"ansi-yellow-fg\">Quotient</span></span>(\n",
       "        <span style=\"color: yellow\"><span class=\"ansi-yellow-fg\">FinalVal</span></span>(\n",
       "          <span style=\"color: yellow\"><span class=\"ansi-yellow-fg\">InIsle</span></span>(\n",
       "            <span style=\"color: yellow\"><span class=\"ansi-yellow-fg\">InIsle</span></span>(\n",
       "              <span style=\"color: yellow\"><span class=\"ansi-yellow-fg\">Elem</span></span>(<span style=\"color: rgb(0, 187, 0)\"><span class=\"ansi-green-fg\">mul(m)</span></span>, Terms),\n",
       "              <span style=\"color: rgb(0, 187, 0)\"><span class=\"ansi-green-fg\">@b</span></span>,\n",
       "...</span></span></span></code></pre>\n",
       "</div>"
      ],
      "text/plain": [
       "\u001b[36mres32\u001b[39m: \u001b[32mmonix\u001b[39m.\u001b[32mexecution\u001b[39m.\u001b[32mCancelableFuture\u001b[39m[\u001b[32mSet\u001b[39m[\u001b[32mEquation\u001b[39m]] = \u001b[32m\u001b[33mSuccess\u001b[39m(\n",
       "  \u001b[33mSet\u001b[39m(\n",
       "    \u001b[33mEquation\u001b[39m(\n",
       "      \u001b[33mFinalVal\u001b[39m(\u001b[33mElem\u001b[39m(\u001b[33mWrap\u001b[39m(\u001b[32mmul(n)\u001b[39m), \u001b[33mAtCoord\u001b[39m(FuncsWithDomain, \u001b[32mM\u001b[39m :: HNil))),\n",
       "      \u001b[33mQuotient\u001b[39m(\n",
       "        \u001b[33mFinalVal\u001b[39m(\u001b[33mElem\u001b[39m(\u001b[32mmul(n)\u001b[39m, Terms)),\n",
       "        \u001b[33mFinalVal\u001b[39m(\u001b[33mEvent\u001b[39m(Terms, \u001b[33mRestrict\u001b[39m(\u001b[33mFuncWithDom\u001b[39m(\u001b[32mM\u001b[39m))))\n",
       "      )\n",
       "    ),\n",
       "    \u001b[33mEquation\u001b[39m(\n",
       "      \u001b[33mFinalVal\u001b[39m(\n",
       "        \u001b[33mInIsle\u001b[39m(\n",
       "          \u001b[33mInIsle\u001b[39m(\n",
       "            \u001b[33mElem\u001b[39m(\u001b[33mWrap\u001b[39m(\u001b[32mmul(m)\u001b[39m), Funcs),\n",
       "            \u001b[32m@b\u001b[39m,\n",
       "            \u001b[33mIsland\u001b[39m(\n",
       "              \u001b[33mAtCoord\u001b[39m(TermsWithTyp, \u001b[32m(M → M)\u001b[39m :: HNil),\n",
       "              \u001b[33mConstRandVar\u001b[39m(\u001b[33mAtCoord\u001b[39m(TermsWithTyp, \u001b[32mM\u001b[39m :: HNil)),\n",
       "              \u001b[33mAddVar\u001b[39m(\u001b[32mM\u001b[39m, \u001b[32m0.3\u001b[39m),\n",
       "              Lambda,\n",
       "              EnterIsle\n",
       "            )\n",
       "          ),\n",
       "          \u001b[32m@a\u001b[39m,\n",
       "          \u001b[33mIsland\u001b[39m(\n",
       "            \u001b[33mAtCoord\u001b[39m(TermsWithTyp, \u001b[32m(M → (M → M))\u001b[39m :: HNil),\n",
       "            \u001b[33mConstRandVar\u001b[39m(\u001b[33mAtCoord\u001b[39m(TermsWithTyp, \u001b[32m(M → M)\u001b[39m :: HNil)),\n",
       "            \u001b[33mAddVar\u001b[39m(\u001b[32mM\u001b[39m, \u001b[32m0.3\u001b[39m),\n",
       "            Lambda,\n",
       "            EnterIsle\n",
       "          )\n",
       "        )\n",
       "      ),\n",
       "      \u001b[33mQuotient\u001b[39m(\n",
       "        \u001b[33mFinalVal\u001b[39m(\n",
       "          \u001b[33mInIsle\u001b[39m(\n",
       "            \u001b[33mInIsle\u001b[39m(\n",
       "              \u001b[33mElem\u001b[39m(\u001b[32mmul(m)\u001b[39m, Terms),\n",
       "              \u001b[32m@b\u001b[39m,\n",
       "...\u001b[39m"
      ]
     },
     "metadata": {},
     "output_type": "display_data"
    }
   ],
   "source": [
    "eqsT.runToFuture"
   ]
  },
  {
   "cell_type": "code",
   "execution_count": 36,
   "metadata": {},
   "outputs": [
    {
     "data": {
      "text/plain": [
       "\u001b[36mevMergeT\u001b[39m: \u001b[32mmonix\u001b[39m.\u001b[32meval\u001b[39m.\u001b[32mTask\u001b[39m[\u001b[32mExpressionEval\u001b[39m] = \u001b[33mAsync\u001b[39m(\n",
       "  <function2>,\n",
       "  false,\n",
       "  true,\n",
       "  true\n",
       ")"
      ]
     },
     "execution_count": 36,
     "metadata": {},
     "output_type": "execute_result"
    }
   ],
   "source": [
    "val evMergeT = eqsT.map(eqs => ExpressionEval.fromInitEqs(ts, eqs, lp.tg, decayS = 0.95)).memoize"
   ]
  },
  {
   "cell_type": "code",
   "execution_count": 37,
   "metadata": {},
   "outputs": [
    {
     "data": {
      "text/plain": [
       "\u001b[36mtermsMergeT\u001b[39m: \u001b[32mmonix\u001b[39m.\u001b[32meval\u001b[39m.\u001b[32mTask\u001b[39m[\u001b[32mFiniteDistribution\u001b[39m[\u001b[32mTerm\u001b[39m]] = \u001b[33mAsync\u001b[39m(\n",
       "  <function2>,\n",
       "  false,\n",
       "  true,\n",
       "  true\n",
       ")"
      ]
     },
     "execution_count": 37,
     "metadata": {},
     "output_type": "execute_result"
    }
   ],
   "source": [
    "val termsMergeT = evMergeT.map(_.finalTerms).memoize"
   ]
  },
  {
   "cell_type": "code",
   "execution_count": 38,
   "metadata": {},
   "outputs": [
    {
     "data": {
      "text/html": [
       "<div class=\"jp-RenderedText\">\n",
       "<pre><code><span style=\"color: rgb(0, 187, 187)\"><span class=\"ansi-cyan-fg\">tmF</span></span>: <span style=\"color: rgb(0, 187, 0)\"><span class=\"ansi-green-fg\">monix</span></span>.<span style=\"color: rgb(0, 187, 0)\"><span class=\"ansi-green-fg\">execution</span></span>.<span style=\"color: rgb(0, 187, 0)\"><span class=\"ansi-green-fg\">CancelableFuture</span></span>[<span style=\"color: rgb(0, 187, 0)\"><span class=\"ansi-green-fg\">FiniteDistribution</span></span>[<span style=\"color: rgb(0, 187, 0)\"><span class=\"ansi-green-fg\">Term</span></span>]] = <span style=\"color: rgb(0, 187, 0)\"><span class=\"ansi-green-fg\"><style>@keyframes fadein { from { opacity: 0; } to { opacity: 1; } }</style><span style=\"animation: fadein 2s;\"><span style=\"color: yellow\"><span class=\"ansi-yellow-fg\">Success</span></span>(\n",
       "  <span style=\"color: yellow\"><span class=\"ansi-yellow-fg\">FiniteDistribution</span></span>(\n",
       "    <span style=\"color: yellow\"><span class=\"ansi-yellow-fg\">Vector</span></span>(\n",
       "      <span style=\"color: yellow\"><span class=\"ansi-yellow-fg\">Weighted</span></span>(<span style=\"color: rgb(0, 187, 0)\"><span class=\"ansi-green-fg\">mul(mul(n)(m))(mul(m)(mul(n)(m)))</span></span>, <span style=\"color: rgb(0, 187, 0)\"><span class=\"ansi-green-fg\">1.9611980875907365E-5</span></span>),\n",
       "      <span style=\"color: yellow\"><span class=\"ansi-yellow-fg\">Weighted</span></span>(<span style=\"color: rgb(0, 187, 0)\"><span class=\"ansi-green-fg\">mul(mul(m)(n))(n)</span></span>, <span style=\"color: rgb(0, 187, 0)\"><span class=\"ansi-green-fg\">2.3432116521303003E-4</span></span>),\n",
       "      <span style=\"color: yellow\"><span class=\"ansi-yellow-fg\">Weighted</span></span>(<span style=\"color: rgb(0, 187, 0)\"><span class=\"ansi-green-fg\">mul</span></span>, <span style=\"color: rgb(0, 187, 0)\"><span class=\"ansi-green-fg\">0.057899076724861734</span></span>),\n",
       "      <span style=\"color: yellow\"><span class=\"ansi-yellow-fg\">Weighted</span></span>(<span style=\"color: rgb(0, 187, 0)\"><span class=\"ansi-green-fg\">sym(n)(m)</span></span>, <span style=\"color: rgb(0, 187, 0)\"><span class=\"ansi-green-fg\">0.0035350893017246196</span></span>),\n",
       "      <span style=\"color: yellow\"><span class=\"ansi-yellow-fg\">Weighted</span></span>(<span style=\"color: rgb(0, 187, 0)\"><span class=\"ansi-green-fg\">mul(mul(m)(mul(m)(n)))</span></span>, <span style=\"color: rgb(0, 187, 0)\"><span class=\"ansi-green-fg\">4.067401238317209E-4</span></span>),\n",
       "      <span style=\"color: yellow\"><span class=\"ansi-yellow-fg\">Weighted</span></span>(<span style=\"color: rgb(0, 187, 0)\"><span class=\"ansi-green-fg\">mul(mul(n)(n))(mul(m)(mul(m)(n)))</span></span>, <span style=\"color: rgb(0, 187, 0)\"><span class=\"ansi-green-fg\">1.961198087590736E-5</span></span>),\n",
       "      <span style=\"color: yellow\"><span class=\"ansi-yellow-fg\">Weighted</span></span>(<span style=\"color: rgb(0, 187, 0)\"><span class=\"ansi-green-fg\">mul(mul(m)(m))(mul(n)(mul(m)(m)))</span></span>, <span style=\"color: rgb(0, 187, 0)\"><span class=\"ansi-green-fg\">1.9611980875907365E-5</span></span>),\n",
       "      <span style=\"color: yellow\"><span class=\"ansi-yellow-fg\">Weighted</span></span>(<span style=\"color: rgb(0, 187, 0)\"><span class=\"ansi-green-fg\">eqM(n)(m)</span></span>, <span style=\"color: rgb(0, 187, 0)\"><span class=\"ansi-green-fg\">0.007661609056185226</span></span>),\n",
       "      <span style=\"color: yellow\"><span class=\"ansi-yellow-fg\">Weighted</span></span>(<span style=\"color: rgb(0, 187, 0)\"><span class=\"ansi-green-fg\">mul(mul(n)(m))(n)</span></span>, <span style=\"color: rgb(0, 187, 0)\"><span class=\"ansi-green-fg\">2.3432116521303003E-4</span></span>),\n",
       "      <span style=\"color: yellow\"><span class=\"ansi-yellow-fg\">Weighted</span></span>(<span style=\"color: rgb(0, 187, 0)\"><span class=\"ansi-green-fg\">mul(mul(m)(mul(n)(m)))</span></span>, <span style=\"color: rgb(0, 187, 0)\"><span class=\"ansi-green-fg\">4.06740123831721E-4</span></span>),\n",
       "      <span style=\"color: yellow\"><span class=\"ansi-yellow-fg\">Weighted</span></span>(<span style=\"color: rgb(0, 187, 0)\"><span class=\"ansi-green-fg\">mul(mul(n)(n))(mul(m)(mul(n)(m)))</span></span>, <span style=\"color: rgb(0, 187, 0)\"><span class=\"ansi-green-fg\">1.9611980875907365E-5</span></span>),\n",
       "      <span style=\"color: yellow\"><span class=\"ansi-yellow-fg\">Weighted</span></span>(<span style=\"color: rgb(0, 187, 0)\"><span class=\"ansi-green-fg\">mul(mul(n)(m))(mul(n)(m))</span></span>, <span style=\"color: rgb(0, 187, 0)\"><span class=\"ansi-green-fg\">8.577731399587162E-5</span></span>),\n",
       "      <span style=\"color: yellow\"><span class=\"ansi-yellow-fg\">Weighted</span></span>(<span style=\"color: rgb(0, 187, 0)\"><span class=\"ansi-green-fg\">mul(mul(n)(m))(mul(n)(n))</span></span>, <span style=\"color: rgb(0, 187, 0)\"><span class=\"ansi-green-fg\">8.577731399587162E-5</span></span>),\n",
       "      <span style=\"color: yellow\"><span class=\"ansi-yellow-fg\">Weighted</span></span>(<span style=\"color: rgb(0, 187, 0)\"><span class=\"ansi-green-fg\">m</span></span>, <span style=\"color: rgb(0, 187, 0)\"><span class=\"ansi-green-fg\">0.057551562138594095</span></span>),\n",
       "      <span style=\"color: yellow\"><span class=\"ansi-yellow-fg\">Weighted</span></span>(<span style=\"color: rgb(0, 187, 0)\"><span class=\"ansi-green-fg\">sym</span></span>, <span style=\"color: rgb(0, 187, 0)\"><span class=\"ansi-green-fg\">0.057899076724861734</span></span>),\n",
       "      <span style=\"color: yellow\"><span class=\"ansi-yellow-fg\">Weighted</span></span>(<span style=\"color: rgb(0, 187, 0)\"><span class=\"ansi-green-fg\">mul(mul(m)(n))(mul(m)(m))</span></span>, <span style=\"color: rgb(0, 187, 0)\"><span class=\"ansi-green-fg\">8.577731399587162E-5</span></span>),\n",
       "      <span style=\"color: yellow\"><span class=\"ansi-yellow-fg\">Weighted</span></span>(<span style=\"color: rgb(0, 187, 0)\"><span class=\"ansi-green-fg\">sym(m)(m)</span></span>, <span style=\"color: rgb(0, 187, 0)\"><span class=\"ansi-green-fg\">0.0035350893017246183</span></span>),\n",
       "      <span style=\"color: yellow\"><span class=\"ansi-yellow-fg\">Weighted</span></span>(<span style=\"color: rgb(0, 187, 0)\"><span class=\"ansi-green-fg\">mul(mul(m)(n))</span></span>, <span style=\"color: rgb(0, 187, 0)\"><span class=\"ansi-green-fg\">0.009200599496767506</span></span>),\n",
       "      <span style=\"color: yellow\"><span class=\"ansi-yellow-fg\">Weighted</span></span>(<span style=\"color: rgb(0, 187, 0)\"><span class=\"ansi-green-fg\">mul(m)</span></span>, <span style=\"color: rgb(0, 187, 0)\"><span class=\"ansi-green-fg\">0.06639190112551782</span></span>),\n",
       "      <span style=\"color: yellow\"><span class=\"ansi-yellow-fg\">Weighted</span></span>(<span style=\"color: rgb(0, 187, 0)\"><span class=\"ansi-green-fg\">(@b : M) ↦ mul(m)(n)</span></span>, <span style=\"color: rgb(0, 187, 0)\"><span class=\"ansi-green-fg\">1.943220150642637E-7</span></span>),\n",
       "      <span style=\"color: yellow\"><span class=\"ansi-yellow-fg\">Weighted</span></span>(<span style=\"color: rgb(0, 187, 0)\"><span class=\"ansi-green-fg\">eqM(n)(mul(n)(m))</span></span>, <span style=\"color: rgb(0, 187, 0)\"><span class=\"ansi-green-fg\">0.0015246711502385486</span></span>),\n",
       "      <span style=\"color: yellow\"><span class=\"ansi-yellow-fg\">Weighted</span></span>(<span style=\"color: rgb(0, 187, 0)\"><span class=\"ansi-green-fg\">mul(n)(mul(n)(mul(m)(n)))</span></span>, <span style=\"color: rgb(0, 187, 0)\"><span class=\"ansi-green-fg\">1.4152748958306722E-4</span></span>),\n",
       "      <span style=\"color: yellow\"><span class=\"ansi-yellow-fg\">Weighted</span></span>(<span style=\"color: rgb(0, 187, 0)\"><span class=\"ansi-green-fg\">eqM(m)(m)</span></span>, <span style=\"color: rgb(0, 187, 0)\"><span class=\"ansi-green-fg\">0.007661609056185226</span></span>),\n",
       "      <span style=\"color: yellow\"><span class=\"ansi-yellow-fg\">Weighted</span></span>(<span style=\"color: rgb(0, 187, 0)\"><span class=\"ansi-green-fg\">sym(n)(mul(m)(m))</span></span>, <span style=\"color: rgb(0, 187, 0)\"><span class=\"ansi-green-fg\">6.189071278583202E-4</span></span>),\n",
       "      <span style=\"color: yellow\"><span class=\"ansi-yellow-fg\">Weighted</span></span>(<span style=\"color: rgb(0, 187, 0)\"><span class=\"ansi-green-fg\">mul(n)(mul(m)(m))</span></span>, <span style=\"color: rgb(0, 187, 0)\"><span class=\"ansi-green-fg\">0.0032870273933959817</span></span>),\n",
       "      <span style=\"color: yellow\"><span class=\"ansi-yellow-fg\">Weighted</span></span>(<span style=\"color: rgb(0, 187, 0)\"><span class=\"ansi-green-fg\">mul(mul(m)(n))(mul(m)(mul(m)(n)))</span></span>, <span style=\"color: rgb(0, 187, 0)\"><span class=\"ansi-green-fg\">1.9611980875907362E-5</span></span>),\n",
       "      <span style=\"color: yellow\"><span class=\"ansi-yellow-fg\">Weighted</span></span>(<span style=\"color: rgb(0, 187, 0)\"><span class=\"ansi-green-fg\">eqM(mul(n)(m))</span></span>, <span style=\"color: rgb(0, 187, 0)\"><span class=\"ansi-green-fg\">0.005584412414065758</span></span>),\n",
       "      <span style=\"color: yellow\"><span class=\"ansi-yellow-fg\">Weighted</span></span>(<span style=\"color: rgb(0, 187, 0)\"><span class=\"ansi-green-fg\">mul(mul(m)(n))(mul(m)(mul(n)(m)))</span></span>, <span style=\"color: rgb(0, 187, 0)\"><span class=\"ansi-green-fg\">1.961198087590737E-5</span></span>),\n",
       "      <span style=\"color: yellow\"><span class=\"ansi-yellow-fg\">Weighted</span></span>(<span style=\"color: rgb(0, 187, 0)\"><span class=\"ansi-green-fg\">mul(mul(m)(m))(mul(m)(n))</span></span>, <span style=\"color: rgb(0, 187, 0)\"><span class=\"ansi-green-fg\">8.57773139958716E-5</span></span>),\n",
       "      <span style=\"color: yellow\"><span class=\"ansi-yellow-fg\">Weighted</span></span>(<span style=\"color: rgb(0, 187, 0)\"><span class=\"ansi-green-fg\">mul(mul(m)(m))(mul(n)(mul(n)(n)))</span></span>, <span style=\"color: rgb(0, 187, 0)\"><span class=\"ansi-green-fg\">1.9611980875907365E-5</span></span>),\n",
       "      <span style=\"color: yellow\"><span class=\"ansi-yellow-fg\">Weighted</span></span>(<span style=\"color: rgb(0, 187, 0)\"><span class=\"ansi-green-fg\">(@a : M) ↦ (@b : M) ↦ mul(@b)(@b)</span></span>, <span style=\"color: rgb(0, 187, 0)\"><span class=\"ansi-green-fg\">7.241506060767401E-6</span></span>),\n",
       "      <span style=\"color: yellow\"><span class=\"ansi-yellow-fg\">Weighted</span></span>(<span style=\"color: rgb(0, 187, 0)\"><span class=\"ansi-green-fg\">(@a : M) ↦ (@b : M) ↦ mul(@b)(@a)</span></span>, <span style=\"color: rgb(0, 187, 0)\"><span class=\"ansi-green-fg\">5.06905424253718E-6</span></span>),\n",
       "      <span style=\"color: yellow\"><span class=\"ansi-yellow-fg\">Weighted</span></span>(<span style=\"color: rgb(0, 187, 0)\"><span class=\"ansi-green-fg\">(@a : M) ↦ (@b : M) ↦ @a</span></span>, <span style=\"color: rgb(0, 187, 0)\"><span class=\"ansi-green-fg\">3.0216567260435534E-5</span></span>),\n",
       "      <span style=\"color: yellow\"><span class=\"ansi-yellow-fg\">Weighted</span></span>(<span style=\"color: rgb(0, 187, 0)\"><span class=\"ansi-green-fg\">(@a : M) ↦ (@b : M) ↦ @b</span></span>, <span style=\"color: rgb(0, 187, 0)\"><span class=\"ansi-green-fg\">4.316652465776506E-5</span></span>),\n",
       "      <span style=\"color: yellow\"><span class=\"ansi-yellow-fg\">Weighted</span></span>(<span style=\"color: rgb(0, 187, 0)\"><span class=\"ansi-green-fg\">mul(m)(mul(m)(m))</span></span>, <span style=\"color: rgb(0, 187, 0)\"><span class=\"ansi-green-fg\">0.0032870273933959825</span></span>),\n",
       "      <span style=\"color: yellow\"><span class=\"ansi-yellow-fg\">Weighted</span></span>(<span style=\"color: rgb(0, 187, 0)\"><span class=\"ansi-green-fg\">sym(n)(mul(n)(n))</span></span>, <span style=\"color: rgb(0, 187, 0)\"><span class=\"ansi-green-fg\">6.189071278583204E-4</span></span>),\n",
       "...</span></span></span></code></pre>\n",
       "</div>"
      ],
      "text/plain": [
       "\u001b[36mtmF\u001b[39m: \u001b[32mmonix\u001b[39m.\u001b[32mexecution\u001b[39m.\u001b[32mCancelableFuture\u001b[39m[\u001b[32mFiniteDistribution\u001b[39m[\u001b[32mTerm\u001b[39m]] = \u001b[32m\u001b[33mSuccess\u001b[39m(\n",
       "  \u001b[33mFiniteDistribution\u001b[39m(\n",
       "    \u001b[33mVector\u001b[39m(\n",
       "      \u001b[33mWeighted\u001b[39m(\u001b[32mmul(mul(n)(m))(mul(m)(mul(n)(m)))\u001b[39m, \u001b[32m1.9611980875907365E-5\u001b[39m),\n",
       "      \u001b[33mWeighted\u001b[39m(\u001b[32mmul(mul(m)(n))(n)\u001b[39m, \u001b[32m2.3432116521303003E-4\u001b[39m),\n",
       "      \u001b[33mWeighted\u001b[39m(\u001b[32mmul\u001b[39m, \u001b[32m0.057899076724861734\u001b[39m),\n",
       "      \u001b[33mWeighted\u001b[39m(\u001b[32msym(n)(m)\u001b[39m, \u001b[32m0.0035350893017246196\u001b[39m),\n",
       "      \u001b[33mWeighted\u001b[39m(\u001b[32mmul(mul(m)(mul(m)(n)))\u001b[39m, \u001b[32m4.067401238317209E-4\u001b[39m),\n",
       "      \u001b[33mWeighted\u001b[39m(\u001b[32mmul(mul(n)(n))(mul(m)(mul(m)(n)))\u001b[39m, \u001b[32m1.961198087590736E-5\u001b[39m),\n",
       "      \u001b[33mWeighted\u001b[39m(\u001b[32mmul(mul(m)(m))(mul(n)(mul(m)(m)))\u001b[39m, \u001b[32m1.9611980875907365E-5\u001b[39m),\n",
       "      \u001b[33mWeighted\u001b[39m(\u001b[32meqM(n)(m)\u001b[39m, \u001b[32m0.007661609056185226\u001b[39m),\n",
       "      \u001b[33mWeighted\u001b[39m(\u001b[32mmul(mul(n)(m))(n)\u001b[39m, \u001b[32m2.3432116521303003E-4\u001b[39m),\n",
       "      \u001b[33mWeighted\u001b[39m(\u001b[32mmul(mul(m)(mul(n)(m)))\u001b[39m, \u001b[32m4.06740123831721E-4\u001b[39m),\n",
       "      \u001b[33mWeighted\u001b[39m(\u001b[32mmul(mul(n)(n))(mul(m)(mul(n)(m)))\u001b[39m, \u001b[32m1.9611980875907365E-5\u001b[39m),\n",
       "      \u001b[33mWeighted\u001b[39m(\u001b[32mmul(mul(n)(m))(mul(n)(m))\u001b[39m, \u001b[32m8.577731399587162E-5\u001b[39m),\n",
       "      \u001b[33mWeighted\u001b[39m(\u001b[32mmul(mul(n)(m))(mul(n)(n))\u001b[39m, \u001b[32m8.577731399587162E-5\u001b[39m),\n",
       "      \u001b[33mWeighted\u001b[39m(\u001b[32mm\u001b[39m, \u001b[32m0.057551562138594095\u001b[39m),\n",
       "      \u001b[33mWeighted\u001b[39m(\u001b[32msym\u001b[39m, \u001b[32m0.057899076724861734\u001b[39m),\n",
       "      \u001b[33mWeighted\u001b[39m(\u001b[32mmul(mul(m)(n))(mul(m)(m))\u001b[39m, \u001b[32m8.577731399587162E-5\u001b[39m),\n",
       "      \u001b[33mWeighted\u001b[39m(\u001b[32msym(m)(m)\u001b[39m, \u001b[32m0.0035350893017246183\u001b[39m),\n",
       "      \u001b[33mWeighted\u001b[39m(\u001b[32mmul(mul(m)(n))\u001b[39m, \u001b[32m0.009200599496767506\u001b[39m),\n",
       "      \u001b[33mWeighted\u001b[39m(\u001b[32mmul(m)\u001b[39m, \u001b[32m0.06639190112551782\u001b[39m),\n",
       "      \u001b[33mWeighted\u001b[39m(\u001b[32m(@b : M) ↦ mul(m)(n)\u001b[39m, \u001b[32m1.943220150642637E-7\u001b[39m),\n",
       "      \u001b[33mWeighted\u001b[39m(\u001b[32meqM(n)(mul(n)(m))\u001b[39m, \u001b[32m0.0015246711502385486\u001b[39m),\n",
       "      \u001b[33mWeighted\u001b[39m(\u001b[32mmul(n)(mul(n)(mul(m)(n)))\u001b[39m, \u001b[32m1.4152748958306722E-4\u001b[39m),\n",
       "      \u001b[33mWeighted\u001b[39m(\u001b[32meqM(m)(m)\u001b[39m, \u001b[32m0.007661609056185226\u001b[39m),\n",
       "      \u001b[33mWeighted\u001b[39m(\u001b[32msym(n)(mul(m)(m))\u001b[39m, \u001b[32m6.189071278583202E-4\u001b[39m),\n",
       "      \u001b[33mWeighted\u001b[39m(\u001b[32mmul(n)(mul(m)(m))\u001b[39m, \u001b[32m0.0032870273933959817\u001b[39m),\n",
       "      \u001b[33mWeighted\u001b[39m(\u001b[32mmul(mul(m)(n))(mul(m)(mul(m)(n)))\u001b[39m, \u001b[32m1.9611980875907362E-5\u001b[39m),\n",
       "      \u001b[33mWeighted\u001b[39m(\u001b[32meqM(mul(n)(m))\u001b[39m, \u001b[32m0.005584412414065758\u001b[39m),\n",
       "      \u001b[33mWeighted\u001b[39m(\u001b[32mmul(mul(m)(n))(mul(m)(mul(n)(m)))\u001b[39m, \u001b[32m1.961198087590737E-5\u001b[39m),\n",
       "      \u001b[33mWeighted\u001b[39m(\u001b[32mmul(mul(m)(m))(mul(m)(n))\u001b[39m, \u001b[32m8.57773139958716E-5\u001b[39m),\n",
       "      \u001b[33mWeighted\u001b[39m(\u001b[32mmul(mul(m)(m))(mul(n)(mul(n)(n)))\u001b[39m, \u001b[32m1.9611980875907365E-5\u001b[39m),\n",
       "      \u001b[33mWeighted\u001b[39m(\u001b[32m(@a : M) ↦ (@b : M) ↦ mul(@b)(@b)\u001b[39m, \u001b[32m7.241506060767401E-6\u001b[39m),\n",
       "      \u001b[33mWeighted\u001b[39m(\u001b[32m(@a : M) ↦ (@b : M) ↦ mul(@b)(@a)\u001b[39m, \u001b[32m5.06905424253718E-6\u001b[39m),\n",
       "      \u001b[33mWeighted\u001b[39m(\u001b[32m(@a : M) ↦ (@b : M) ↦ @a\u001b[39m, \u001b[32m3.0216567260435534E-5\u001b[39m),\n",
       "      \u001b[33mWeighted\u001b[39m(\u001b[32m(@a : M) ↦ (@b : M) ↦ @b\u001b[39m, \u001b[32m4.316652465776506E-5\u001b[39m),\n",
       "      \u001b[33mWeighted\u001b[39m(\u001b[32mmul(m)(mul(m)(m))\u001b[39m, \u001b[32m0.0032870273933959825\u001b[39m),\n",
       "      \u001b[33mWeighted\u001b[39m(\u001b[32msym(n)(mul(n)(n))\u001b[39m, \u001b[32m6.189071278583204E-4\u001b[39m),\n",
       "...\u001b[39m"
      ]
     },
     "metadata": {},
     "output_type": "display_data"
    }
   ],
   "source": [
    "val tmF =  termsMergeT.runToFuture"
   ]
  },
  {
   "cell_type": "code",
   "execution_count": 39,
   "metadata": {},
   "outputs": [
    {
     "data": {
      "text/plain": [
       "\u001b[36mdiffMergeT\u001b[39m: \u001b[32mmonix\u001b[39m.\u001b[32meval\u001b[39m.\u001b[32mTask\u001b[39m[\u001b[32mOption\u001b[39m[\u001b[32mWeighted\u001b[39m[\u001b[32mTerm\u001b[39m]]] = \u001b[33mFlatMap\u001b[39m(\n",
       "  \u001b[33mAsync\u001b[39m(<function2>, false, true, true),\n",
       "  ammonite.$sess.cmd38$Helper$$Lambda$3311/1463157090@1b3afb28\n",
       ")"
      ]
     },
     "execution_count": 39,
     "metadata": {},
     "output_type": "execute_result"
    }
   ],
   "source": [
    "val diffMergeT = for {\n",
    "    tM <- termsMergeT\n",
    "    t1 <- terms1T\n",
    "} yield tM.pmf.find(wt => t1(wt.elem) == 0)"
   ]
  },
  {
   "cell_type": "code",
   "execution_count": 40,
   "metadata": {},
   "outputs": [
    {
     "data": {
      "text/html": [
       "<div class=\"jp-RenderedText\">\n",
       "<pre><code><span style=\"color: rgb(0, 187, 187)\"><span class=\"ansi-cyan-fg\">dF</span></span>: <span style=\"color: rgb(0, 187, 0)\"><span class=\"ansi-green-fg\">monix</span></span>.<span style=\"color: rgb(0, 187, 0)\"><span class=\"ansi-green-fg\">execution</span></span>.<span style=\"color: rgb(0, 187, 0)\"><span class=\"ansi-green-fg\">CancelableFuture</span></span>[<span style=\"color: rgb(0, 187, 0)\"><span class=\"ansi-green-fg\">Option</span></span>[<span style=\"color: rgb(0, 187, 0)\"><span class=\"ansi-green-fg\">Weighted</span></span>[<span style=\"color: rgb(0, 187, 0)\"><span class=\"ansi-green-fg\">Term</span></span>]]] = <span style=\"color: rgb(0, 187, 0)\"><span class=\"ansi-green-fg\"><span style=\"color: yellow\"><span class=\"ansi-yellow-fg\">Success</span></span>(\n",
       "  <span style=\"color: yellow\"><span class=\"ansi-yellow-fg\">Some</span></span>(<span style=\"color: yellow\"><span class=\"ansi-yellow-fg\">Weighted</span></span>(<span style=\"color: rgb(0, 187, 0)\"><span class=\"ansi-green-fg\">mul(mul(n)(m))(mul(m)(mul(n)(m)))</span></span>, <span style=\"color: rgb(0, 187, 0)\"><span class=\"ansi-green-fg\">1.9611980875907365E-5</span></span>))\n",
       ")</span></span></code></pre>\n",
       "</div>"
      ],
      "text/plain": [
       "\u001b[36mdF\u001b[39m: \u001b[32mmonix\u001b[39m.\u001b[32mexecution\u001b[39m.\u001b[32mCancelableFuture\u001b[39m[\u001b[32mOption\u001b[39m[\u001b[32mWeighted\u001b[39m[\u001b[32mTerm\u001b[39m]]] = \u001b[32m\u001b[33mSuccess\u001b[39m(\n",
       "  \u001b[33mSome\u001b[39m(\u001b[33mWeighted\u001b[39m(\u001b[32mmul(mul(n)(m))(mul(m)(mul(n)(m)))\u001b[39m, \u001b[32m1.9611980875907365E-5\u001b[39m))\n",
       ")\u001b[39m"
      ]
     },
     "metadata": {},
     "output_type": "display_data"
    }
   ],
   "source": [
    "val dF = diffMergeT.runToFuture"
   ]
  },
  {
   "cell_type": "code",
   "execution_count": 41,
   "metadata": {},
   "outputs": [
    {
     "data": {
      "text/plain": [
       "\u001b[36mdiffMerge3T\u001b[39m: \u001b[32mmonix\u001b[39m.\u001b[32meval\u001b[39m.\u001b[32mTask\u001b[39m[\u001b[32mOption\u001b[39m[\u001b[32mWeighted\u001b[39m[\u001b[32mTerm\u001b[39m]]] = \u001b[33mFlatMap\u001b[39m(\n",
       "  \u001b[33mAsync\u001b[39m(<function2>, false, true, true),\n",
       "  ammonite.$sess.cmd40$Helper$$Lambda$3324/2061589917@36d6df15\n",
       ")"
      ]
     },
     "execution_count": 41,
     "metadata": {},
     "output_type": "execute_result"
    }
   ],
   "source": [
    "val diffMerge3T = for {\n",
    "    tM <- termsMergeT\n",
    "    t3 <- terms3T\n",
    "} yield tM.pmf.find(wt => t3(wt.elem) == 0)"
   ]
  },
  {
   "cell_type": "code",
   "execution_count": 42,
   "metadata": {},
   "outputs": [
    {
     "data": {
      "text/html": [
       "<div class=\"jp-RenderedText\">\n",
       "<pre><code><span style=\"color: rgb(0, 187, 187)\"><span class=\"ansi-cyan-fg\">d3F</span></span>: <span style=\"color: rgb(0, 187, 0)\"><span class=\"ansi-green-fg\">monix</span></span>.<span style=\"color: rgb(0, 187, 0)\"><span class=\"ansi-green-fg\">execution</span></span>.<span style=\"color: rgb(0, 187, 0)\"><span class=\"ansi-green-fg\">CancelableFuture</span></span>[<span style=\"color: rgb(0, 187, 0)\"><span class=\"ansi-green-fg\">Option</span></span>[<span style=\"color: rgb(0, 187, 0)\"><span class=\"ansi-green-fg\">Weighted</span></span>[<span style=\"color: rgb(0, 187, 0)\"><span class=\"ansi-green-fg\">Term</span></span>]]] = <span style=\"color: rgb(0, 187, 0)\"><span class=\"ansi-green-fg\"><span style=\"color: yellow\"><span class=\"ansi-yellow-fg\">Success</span></span>(<span style=\"color: yellow\"><span class=\"ansi-yellow-fg\">Some</span></span>(<span style=\"color: yellow\"><span class=\"ansi-yellow-fg\">Weighted</span></span>(<span style=\"color: rgb(0, 187, 0)\"><span class=\"ansi-green-fg\">sym(n)(m)</span></span>, <span style=\"color: rgb(0, 187, 0)\"><span class=\"ansi-green-fg\">0.0035350893017246196</span></span>)))</span></span></code></pre>\n",
       "</div>"
      ],
      "text/plain": [
       "\u001b[36md3F\u001b[39m: \u001b[32mmonix\u001b[39m.\u001b[32mexecution\u001b[39m.\u001b[32mCancelableFuture\u001b[39m[\u001b[32mOption\u001b[39m[\u001b[32mWeighted\u001b[39m[\u001b[32mTerm\u001b[39m]]] = \u001b[32m\u001b[33mSuccess\u001b[39m(\u001b[33mSome\u001b[39m(\u001b[33mWeighted\u001b[39m(\u001b[32msym(n)(m)\u001b[39m, \u001b[32m0.0035350893017246196\u001b[39m)))\u001b[39m"
      ]
     },
     "metadata": {},
     "output_type": "display_data"
    }
   ],
   "source": [
    "val d3F = diffMerge3T.runToFuture"
   ]
  },
  {
   "cell_type": "code",
   "execution_count": 43,
   "metadata": {},
   "outputs": [
    {
     "data": {
      "text/plain": [
       "\u001b[36mdiff3MergeT\u001b[39m: \u001b[32mmonix\u001b[39m.\u001b[32meval\u001b[39m.\u001b[32mTask\u001b[39m[\u001b[32mOption\u001b[39m[\u001b[32mWeighted\u001b[39m[\u001b[32mTerm\u001b[39m]]] = \u001b[33mFlatMap\u001b[39m(\n",
       "  \u001b[33mAsync\u001b[39m(<function2>, false, true, true),\n",
       "  ammonite.$sess.cmd42$Helper$$Lambda$3337/1829852448@7732ad90\n",
       ")"
      ]
     },
     "execution_count": 43,
     "metadata": {},
     "output_type": "execute_result"
    }
   ],
   "source": [
    "val diff3MergeT = for {\n",
    "    tM <- termsMergeT\n",
    "    t3 <- terms3T\n",
    "} yield t3.pmf.find(wt => tM(wt.elem) == 0)"
   ]
  },
  {
   "cell_type": "code",
   "execution_count": 44,
   "metadata": {},
   "outputs": [
    {
     "data": {
      "text/html": [
       "<div class=\"jp-RenderedText\">\n",
       "<pre><code><span style=\"color: rgb(0, 187, 187)\"><span class=\"ansi-cyan-fg\">dM3F</span></span>: <span style=\"color: rgb(0, 187, 0)\"><span class=\"ansi-green-fg\">monix</span></span>.<span style=\"color: rgb(0, 187, 0)\"><span class=\"ansi-green-fg\">execution</span></span>.<span style=\"color: rgb(0, 187, 0)\"><span class=\"ansi-green-fg\">CancelableFuture</span></span>[<span style=\"color: rgb(0, 187, 0)\"><span class=\"ansi-green-fg\">Option</span></span>[<span style=\"color: rgb(0, 187, 0)\"><span class=\"ansi-green-fg\">Weighted</span></span>[<span style=\"color: rgb(0, 187, 0)\"><span class=\"ansi-green-fg\">Term</span></span>]]] = <span style=\"color: rgb(0, 187, 0)\"><span class=\"ansi-green-fg\"><span style=\"color: yellow\"><span class=\"ansi-yellow-fg\">Success</span></span>(<span style=\"color: rgb(0, 187, 0)\"><span class=\"ansi-green-fg\">None</span></span>)</span></span></code></pre>\n",
       "</div>"
      ],
      "text/plain": [
       "\u001b[36mdM3F\u001b[39m: \u001b[32mmonix\u001b[39m.\u001b[32mexecution\u001b[39m.\u001b[32mCancelableFuture\u001b[39m[\u001b[32mOption\u001b[39m[\u001b[32mWeighted\u001b[39m[\u001b[32mTerm\u001b[39m]]] = \u001b[32m\u001b[33mSuccess\u001b[39m(\u001b[32mNone\u001b[39m)\u001b[39m"
      ]
     },
     "metadata": {},
     "output_type": "display_data"
    }
   ],
   "source": [
    "val dM3F = diff3MergeT.runToFuture"
   ]
  },
  {
   "cell_type": "code",
   "execution_count": 45,
   "metadata": {},
   "outputs": [
    {
     "data": {
      "text/plain": [
       "\u001b[36mdiff1MergeT\u001b[39m: \u001b[32mmonix\u001b[39m.\u001b[32meval\u001b[39m.\u001b[32mTask\u001b[39m[\u001b[32mOption\u001b[39m[\u001b[32mWeighted\u001b[39m[\u001b[32mTerm\u001b[39m]]] = \u001b[33mFlatMap\u001b[39m(\n",
       "  \u001b[33mAsync\u001b[39m(<function2>, false, true, true),\n",
       "  ammonite.$sess.cmd44$Helper$$Lambda$3350/314613443@70c67797\n",
       ")"
      ]
     },
     "execution_count": 45,
     "metadata": {},
     "output_type": "execute_result"
    }
   ],
   "source": [
    "val diff1MergeT = for {\n",
    "    tM <- termsMergeT\n",
    "    t1 <- terms1T\n",
    "} yield t1.pmf.find(wt => tM(wt.elem) == 0)"
   ]
  },
  {
   "cell_type": "code",
   "execution_count": 46,
   "metadata": {},
   "outputs": [
    {
     "data": {
      "text/html": [
       "<div class=\"jp-RenderedText\">\n",
       "<pre><code><span style=\"color: rgb(0, 187, 187)\"><span class=\"ansi-cyan-fg\">dM1F</span></span>: <span style=\"color: rgb(0, 187, 0)\"><span class=\"ansi-green-fg\">monix</span></span>.<span style=\"color: rgb(0, 187, 0)\"><span class=\"ansi-green-fg\">execution</span></span>.<span style=\"color: rgb(0, 187, 0)\"><span class=\"ansi-green-fg\">CancelableFuture</span></span>[<span style=\"color: rgb(0, 187, 0)\"><span class=\"ansi-green-fg\">Option</span></span>[<span style=\"color: rgb(0, 187, 0)\"><span class=\"ansi-green-fg\">Weighted</span></span>[<span style=\"color: rgb(0, 187, 0)\"><span class=\"ansi-green-fg\">Term</span></span>]]] = <span style=\"color: rgb(0, 187, 0)\"><span class=\"ansi-green-fg\"><span style=\"color: yellow\"><span class=\"ansi-yellow-fg\">Success</span></span>(<span style=\"color: rgb(0, 187, 0)\"><span class=\"ansi-green-fg\">None</span></span>)</span></span></code></pre>\n",
       "</div>"
      ],
      "text/plain": [
       "\u001b[36mdM1F\u001b[39m: \u001b[32mmonix\u001b[39m.\u001b[32mexecution\u001b[39m.\u001b[32mCancelableFuture\u001b[39m[\u001b[32mOption\u001b[39m[\u001b[32mWeighted\u001b[39m[\u001b[32mTerm\u001b[39m]]] = \u001b[32m\u001b[33mSuccess\u001b[39m(\u001b[32mNone\u001b[39m)\u001b[39m"
      ]
     },
     "metadata": {},
     "output_type": "display_data"
    }
   ],
   "source": [
    "val dM1F = diff1MergeT.runToFuture"
   ]
  },
  {
   "cell_type": "markdown",
   "metadata": {},
   "source": [
    "## Conclusions\n",
    "\n",
    "* The combining of equations was successful, with both sets of terms generated.\n",
    "* The time to run (at least with decay) was reasonable."
   ]
  }
 ],
 "metadata": {
  "kernelspec": {
   "display_name": "Scala",
   "language": "scala",
   "name": "scala"
  },
  "language_info": {
   "codemirror_mode": "text/x-scala",
   "file_extension": ".scala",
   "mimetype": "text/x-scala",
   "name": "scala",
   "nbconvert_exporter": "script",
   "version": "2.12.8"
  }
 },
 "nbformat": 4,
 "nbformat_minor": 4
}
