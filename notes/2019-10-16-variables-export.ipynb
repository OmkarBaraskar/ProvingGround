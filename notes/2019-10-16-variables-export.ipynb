{
 "cells": [
  {
   "cell_type": "markdown",
   "metadata": {},
   "source": [
    "## Variables and Modus Ponens using relative expression evaluation\n",
    "\n",
    "Before a larger run, this is to test the use of variables in a `LocalProver` to export."
   ]
  },
  {
   "cell_type": "code",
   "execution_count": 1,
   "metadata": {},
   "outputs": [
    {
     "data": {
      "text/plain": [
       "\u001b[32mimport \u001b[39m\u001b[36m$cp.$                                              \u001b[39m"
      ]
     },
     "execution_count": 1,
     "metadata": {},
     "output_type": "execute_result"
    }
   ],
   "source": [
    "import $cp.bin.`provingground-core-jvm-dbd333bd25.fat.jar`"
   ]
  },
  {
   "cell_type": "code",
   "execution_count": 2,
   "metadata": {},
   "outputs": [
    {
     "data": {
      "text/plain": [
       "\u001b[32mimport \u001b[39m\u001b[36mprovingground._ , interface._, HoTT._, learning._ \n",
       "\u001b[39m"
      ]
     },
     "execution_count": 2,
     "metadata": {},
     "output_type": "execute_result"
    }
   ],
   "source": [
    "import provingground._ , interface._, HoTT._, learning._ \n",
    "repl.pprinter() = {\n",
    "  val p = repl.pprinter()\n",
    "  p.copy(\n",
    "    additionalHandlers = p.additionalHandlers.orElse {\n",
    "      translation.FansiShow.fansiHandler\n",
    "    }\n",
    "  )\n",
    "}"
   ]
  },
  {
   "cell_type": "code",
   "execution_count": 3,
   "metadata": {},
   "outputs": [
    {
     "data": {
      "text/plain": [
       "\u001b[36mA\u001b[39m: \u001b[32mTyp\u001b[39m[\u001b[32mTerm\u001b[39m] = \u001b[32mA\u001b[39m\n",
       "\u001b[36mB\u001b[39m: \u001b[32mTyp\u001b[39m[\u001b[32mTerm\u001b[39m] = \u001b[32mB\u001b[39m\n",
       "\u001b[36mts\u001b[39m: \u001b[32mTermState\u001b[39m = \u001b[33mTermState\u001b[39m(\n",
       "  \u001b[33mFiniteDistribution\u001b[39m(\u001b[33mVector\u001b[39m(\u001b[33mWeighted\u001b[39m(\u001b[32mA\u001b[39m, \u001b[32m0.5\u001b[39m), \u001b[33mWeighted\u001b[39m(\u001b[32mB\u001b[39m, \u001b[32m0.5\u001b[39m))),\n",
       "  \u001b[33mFiniteDistribution\u001b[39m(\u001b[33mVector\u001b[39m(\u001b[33mWeighted\u001b[39m(\u001b[32mA\u001b[39m, \u001b[32m0.5\u001b[39m), \u001b[33mWeighted\u001b[39m(\u001b[32mB\u001b[39m, \u001b[32m0.5\u001b[39m))),\n",
       "  \u001b[33mVector\u001b[39m(\u001b[32mA\u001b[39m, \u001b[32mB\u001b[39m),\n",
       "  \u001b[33mFiniteDistribution\u001b[39m(\u001b[33mVector\u001b[39m()),\n",
       "  \u001b[33mFiniteDistribution\u001b[39m(\u001b[33mVector\u001b[39m()),\n",
       "  Empty\n",
       ")"
      ]
     },
     "execution_count": 3,
     "metadata": {},
     "output_type": "execute_result"
    }
   ],
   "source": [
    "val A = \"A\" :: Type\n",
    "val B = \"B\" :: Type\n",
    "val ts = TermState(FiniteDistribution.unif(A, B), FiniteDistribution.unif(A, B), vars = Vector(A, B))"
   ]
  },
  {
   "cell_type": "code",
   "execution_count": 4,
   "metadata": {},
   "outputs": [
    {
     "data": {
      "text/plain": [
       "\u001b[36mlp\u001b[39m: \u001b[32mLocalProver\u001b[39m = \u001b[33mLocalProver\u001b[39m(\n",
       "  \u001b[33mTermState\u001b[39m(\n",
       "    \u001b[33mFiniteDistribution\u001b[39m(\u001b[33mVector\u001b[39m(\u001b[33mWeighted\u001b[39m(\u001b[32mA\u001b[39m, \u001b[32m0.5\u001b[39m), \u001b[33mWeighted\u001b[39m(\u001b[32mB\u001b[39m, \u001b[32m0.5\u001b[39m))),\n",
       "    \u001b[33mFiniteDistribution\u001b[39m(\u001b[33mVector\u001b[39m(\u001b[33mWeighted\u001b[39m(\u001b[32mA\u001b[39m, \u001b[32m0.5\u001b[39m), \u001b[33mWeighted\u001b[39m(\u001b[32mB\u001b[39m, \u001b[32m0.5\u001b[39m))),\n",
       "    \u001b[33mVector\u001b[39m(\u001b[32mA\u001b[39m, \u001b[32mB\u001b[39m),\n",
       "    \u001b[33mFiniteDistribution\u001b[39m(\u001b[33mVector\u001b[39m()),\n",
       "    \u001b[33mFiniteDistribution\u001b[39m(\u001b[33mVector\u001b[39m()),\n",
       "    Empty\n",
       "  ),\n",
       "  \u001b[33mTermGenParams\u001b[39m(\n",
       "    \u001b[32m0.1\u001b[39m,\n",
       "    \u001b[32m0.1\u001b[39m,\n",
       "    \u001b[32m0.1\u001b[39m,\n",
       "    \u001b[32m0.1\u001b[39m,\n",
       "    \u001b[32m0.1\u001b[39m,\n",
       "    \u001b[32m0.05\u001b[39m,\n",
       "    \u001b[32m0.05\u001b[39m,\n",
       "    \u001b[32m0.05\u001b[39m,\n",
       "    \u001b[32m0.0\u001b[39m,\n",
       "    \u001b[32m0.0\u001b[39m,\n",
       "    \u001b[32m0.0\u001b[39m,\n",
       "    \u001b[32m0.0\u001b[39m,\n",
       "    \u001b[32m0.3\u001b[39m,\n",
       "    \u001b[32m0.7\u001b[39m,\n",
       "    \u001b[32m0.5\u001b[39m,\n",
       "    \u001b[32m0.0\u001b[39m,\n",
       "    \u001b[32m0.0\u001b[39m,\n",
       "    \u001b[32m0.0\u001b[39m\n",
       "  ),\n",
       "  \u001b[32m1.0E-5\u001b[39m,\n",
       "  12 minutes,\n",
       "  \u001b[32m1.01\u001b[39m,\n",
       "  \u001b[32m1.0\u001b[39m,\n",
       "  \u001b[32m10000\u001b[39m,\n",
       "  \u001b[32m10\u001b[39m,\n",
       "  \u001b[32m1.0\u001b[39m,\n",
       "  \u001b[32m1.0\u001b[39m,\n",
       "  \u001b[32mNone\u001b[39m,\n",
       "  true,\n",
       "..."
      ]
     },
     "execution_count": 4,
     "metadata": {},
     "output_type": "execute_result"
    }
   ],
   "source": [
    "val lp = LocalProver(ts, relativeEval = true).sharpen(10)"
   ]
  },
  {
   "cell_type": "code",
   "execution_count": 5,
   "metadata": {},
   "outputs": [
    {
     "data": {
      "text/html": [
       "<div class=\"jp-RenderedText\">\n",
       "<pre><code><span style=\"color: rgb(0, 187, 0)\"><span class=\"ansi-green-fg\">import </span></span><span style=\"color: rgb(0, 187, 187)\"><span class=\"ansi-cyan-fg\">monix.execution.Scheduler.Implicits.global\n",
       "</span></span>\n",
       "<span style=\"color: rgb(0, 187, 187)\"><span class=\"ansi-cyan-fg\">nsT</span></span>: <span style=\"color: rgb(0, 187, 0)\"><span class=\"ansi-green-fg\">monix</span></span>.<span style=\"color: rgb(0, 187, 0)\"><span class=\"ansi-green-fg\">eval</span></span>.<span style=\"color: rgb(0, 187, 0)\"><span class=\"ansi-green-fg\">Task</span></span>[<span style=\"color: rgb(0, 187, 0)\"><span class=\"ansi-green-fg\">TermState</span></span>] = <span style=\"color: yellow\"><span class=\"ansi-yellow-fg\">Async</span></span>(&lt;function2&gt;, false, true, true)\n",
       "<span style=\"color: rgb(0, 187, 187)\"><span class=\"ansi-cyan-fg\">nsF</span></span>: <span style=\"color: rgb(0, 187, 0)\"><span class=\"ansi-green-fg\">monix</span></span>.<span style=\"color: rgb(0, 187, 0)\"><span class=\"ansi-green-fg\">execution</span></span>.<span style=\"color: rgb(0, 187, 0)\"><span class=\"ansi-green-fg\">CancelableFuture</span></span>[<span style=\"color: rgb(0, 187, 0)\"><span class=\"ansi-green-fg\">TermState</span></span>] = <span style=\"color: rgb(0, 187, 0)\"><span class=\"ansi-green-fg\"><style>@keyframes fadein { from { opacity: 0; } to { opacity: 1; } }</style><span style=\"animation: fadein 2s;\"><span style=\"color: yellow\"><span class=\"ansi-yellow-fg\">Success</span></span>(\n",
       "  <span style=\"color: yellow\"><span class=\"ansi-yellow-fg\">TermState</span></span>(\n",
       "    <span style=\"color: yellow\"><span class=\"ansi-yellow-fg\">FiniteDistribution</span></span>(\n",
       "      <span style=\"color: yellow\"><span class=\"ansi-yellow-fg\">Vector</span></span>(\n",
       "        <span style=\"color: yellow\"><span class=\"ansi-yellow-fg\">Weighted</span></span>(<span style=\"color: rgb(0, 187, 0)\"><span class=\"ansi-green-fg\">(@a : B) ↦ (@b : B) ↦ A</span></span>, <span style=\"color: rgb(0, 187, 0)\"><span class=\"ansi-green-fg\">4.373451800333049E-4</span></span>),\n",
       "        <span style=\"color: yellow\"><span class=\"ansi-yellow-fg\">Weighted</span></span>(<span style=\"color: rgb(0, 187, 0)\"><span class=\"ansi-green-fg\">(@a : (A → B×A)) ↦ A</span></span>, <span style=\"color: rgb(0, 187, 0)\"><span class=\"ansi-green-fg\">3.796463604290217E-5</span></span>),\n",
       "        <span style=\"color: yellow\"><span class=\"ansi-yellow-fg\">Weighted</span></span>(<span style=\"color: rgb(0, 187, 0)\"><span class=\"ansi-green-fg\">(@a : (B → B×A)) ↦ A</span></span>, <span style=\"color: rgb(0, 187, 0)\"><span class=\"ansi-green-fg\">3.796463604290217E-5</span></span>),\n",
       "        <span style=\"color: yellow\"><span class=\"ansi-yellow-fg\">Weighted</span></span>(<span style=\"color: rgb(0, 187, 0)\"><span class=\"ansi-green-fg\">(@a : A) ↦ (@b : A) ↦ A</span></span>, <span style=\"color: rgb(0, 187, 0)\"><span class=\"ansi-green-fg\">4.373451800333047E-4</span></span>),\n",
       "        <span style=\"color: yellow\"><span class=\"ansi-yellow-fg\">Weighted</span></span>(<span style=\"color: rgb(0, 187, 0)\"><span class=\"ansi-green-fg\">(@a : (A → A×A)) ↦ @a</span></span>, <span style=\"color: rgb(0, 187, 0)\"><span class=\"ansi-green-fg\">3.254111660820186E-5</span></span>),\n",
       "        <span style=\"color: yellow\"><span class=\"ansi-yellow-fg\">Weighted</span></span>(<span style=\"color: rgb(0, 187, 0)\"><span class=\"ansi-green-fg\">(@a : (B → A×A)) ↦ @a</span></span>, <span style=\"color: rgb(0, 187, 0)\"><span class=\"ansi-green-fg\">3.254111660820186E-5</span></span>),\n",
       "        <span style=\"color: yellow\"><span class=\"ansi-yellow-fg\">Weighted</span></span>(<span style=\"color: rgb(0, 187, 0)\"><span class=\"ansi-green-fg\">(@a : B) ↦ (@a : A) ↦ (@b : A) ↦ @a</span></span>, <span style=\"color: rgb(0, 187, 0)\"><span class=\"ansi-green-fg\">2.385519163818026E-5</span></span>),\n",
       "        <span style=\"color: yellow\"><span class=\"ansi-yellow-fg\">Weighted</span></span>(<span style=\"color: rgb(0, 187, 0)\"><span class=\"ansi-green-fg\">(@a : B) ↦ (@a : A) ↦ (@b : B) ↦ @a</span></span>, <span style=\"color: rgb(0, 187, 0)\"><span class=\"ansi-green-fg\">3.407884519740037E-5</span></span>),\n",
       "        <span style=\"color: yellow\"><span class=\"ansi-yellow-fg\">Weighted</span></span>(<span style=\"color: rgb(0, 187, 0)\"><span class=\"ansi-green-fg\">(@a : B) ↦ (@b : B) ↦ (@a : A) ↦ @a</span></span>, <span style=\"color: rgb(0, 187, 0)\"><span class=\"ansi-green-fg\">4.8684064567714826E-5</span></span>),\n",
       "        <span style=\"color: yellow\"><span class=\"ansi-yellow-fg\">Weighted</span></span>(<span style=\"color: rgb(0, 187, 0)\"><span class=\"ansi-green-fg\">(@a : A) ↦ (@a : B) ↦ (@b : A) ↦ @a</span></span>, <span style=\"color: rgb(0, 187, 0)\"><span class=\"ansi-green-fg\">3.407884519740037E-5</span></span>),\n",
       "        <span style=\"color: yellow\"><span class=\"ansi-yellow-fg\">Weighted</span></span>(<span style=\"color: rgb(0, 187, 0)\"><span class=\"ansi-green-fg\">(@a : A) ↦ (@b : A) ↦ (@a : B) ↦ @a</span></span>, <span style=\"color: rgb(0, 187, 0)\"><span class=\"ansi-green-fg\">4.868406456771482E-5</span></span>),\n",
       "        <span style=\"color: yellow\"><span class=\"ansi-yellow-fg\">Weighted</span></span>(<span style=\"color: rgb(0, 187, 0)\"><span class=\"ansi-green-fg\">(@a : A) ↦ (@a : B) ↦ (@b : B) ↦ @a</span></span>, <span style=\"color: rgb(0, 187, 0)\"><span class=\"ansi-green-fg\">2.385519163818026E-5</span></span>),\n",
       "        <span style=\"color: yellow\"><span class=\"ansi-yellow-fg\">Weighted</span></span>(<span style=\"color: rgb(0, 187, 0)\"><span class=\"ansi-green-fg\">A</span></span>, <span style=\"color: rgb(0, 187, 0)\"><span class=\"ansi-green-fg\">0.4140253358376017</span></span>),\n",
       "        <span style=\"color: yellow\"><span class=\"ansi-yellow-fg\">Weighted</span></span>(\n",
       "          <span style=\"color: rgb(0, 187, 0)\"><span class=\"ansi-green-fg\">((@a_1 , (@a_2_1 , @a_2_2)) : B×A×A) ↦ A</span></span>,\n",
       "          <span style=\"color: rgb(0, 187, 0)\"><span class=\"ansi-green-fg\">1.8632802324548183E-5</span></span>\n",
       "        ),\n",
       "        <span style=\"color: yellow\"><span class=\"ansi-yellow-fg\">Weighted</span></span>(\n",
       "          <span style=\"color: rgb(0, 187, 0)\"><span class=\"ansi-green-fg\">(@a : B) ↦ ((`@a_1 , @a_2) : B×B) ↦ (`@a_1 , @a_2)</span></span>,\n",
       "          <span style=\"color: rgb(0, 187, 0)\"><span class=\"ansi-green-fg\">2.6370534974178855E-5</span></span>\n",
       "        ),\n",
       "        <span style=\"color: yellow\"><span class=\"ansi-yellow-fg\">Weighted</span></span>(\n",
       "          <span style=\"color: rgb(0, 187, 0)\"><span class=\"ansi-green-fg\">((`@a_1 , @a_2) : B×B) ↦ (@a : B) ↦ (`@a_1 , @a_2)</span></span>,\n",
       "          <span style=\"color: rgb(0, 187, 0)\"><span class=\"ansi-green-fg\">2.063941180565338E-5</span></span>\n",
       "        ),\n",
       "        <span style=\"color: yellow\"><span class=\"ansi-yellow-fg\">Weighted</span></span>(<span style=\"color: rgb(0, 187, 0)\"><span class=\"ansi-green-fg\">((@a_1 , @a_2) : B×A) ↦ B</span></span>, <span style=\"color: rgb(0, 187, 0)\"><span class=\"ansi-green-fg\">3.783892164369785E-4</span></span>),\n",
       "        <span style=\"color: yellow\"><span class=\"ansi-yellow-fg\">Weighted</span></span>(<span style=\"color: rgb(0, 187, 0)\"><span class=\"ansi-green-fg\">(@a : B) ↦ (@b : B) ↦ (@c : B) ↦ @b</span></span>, <span style=\"color: rgb(0, 187, 0)\"><span class=\"ansi-green-fg\">3.407884519740039E-5</span></span>),\n",
       "        <span style=\"color: yellow\"><span class=\"ansi-yellow-fg\">Weighted</span></span>(<span style=\"color: rgb(0, 187, 0)\"><span class=\"ansi-green-fg\">(@a : B) ↦ (@b : B) ↦ (@c : B) ↦ @c</span></span>, <span style=\"color: rgb(0, 187, 0)\"><span class=\"ansi-green-fg\">4.8684064567714826E-5</span></span>),\n",
       "        <span style=\"color: yellow\"><span class=\"ansi-yellow-fg\">Weighted</span></span>(<span style=\"color: rgb(0, 187, 0)\"><span class=\"ansi-green-fg\">(@a : B) ↦ (@b : B) ↦ (@c : B) ↦ @a</span></span>, <span style=\"color: rgb(0, 187, 0)\"><span class=\"ansi-green-fg\">2.3855191638180268E-5</span></span>),\n",
       "        <span style=\"color: yellow\"><span class=\"ansi-yellow-fg\">Weighted</span></span>(<span style=\"color: rgb(0, 187, 0)\"><span class=\"ansi-green-fg\">(@a : A) ↦ (@a : (A → B)) ↦ B</span></span>, <span style=\"color: rgb(0, 187, 0)\"><span class=\"ansi-green-fg\">3.691874896385039E-5</span></span>),\n",
       "        <span style=\"color: yellow\"><span class=\"ansi-yellow-fg\">Weighted</span></span>(<span style=\"color: rgb(0, 187, 0)\"><span class=\"ansi-green-fg\">(@a : A) ↦ (@a : (B → B)) ↦ B</span></span>, <span style=\"color: rgb(0, 187, 0)\"><span class=\"ansi-green-fg\">3.691874896385039E-5</span></span>),\n",
       "        <span style=\"color: yellow\"><span class=\"ansi-yellow-fg\">Weighted</span></span>(<span style=\"color: rgb(0, 187, 0)\"><span class=\"ansi-green-fg\">(@a : (B → B)) ↦ (@a : A) ↦ B</span></span>, <span style=\"color: rgb(0, 187, 0)\"><span class=\"ansi-green-fg\">4.906199119390435E-5</span></span>),\n",
       "        <span style=\"color: yellow\"><span class=\"ansi-yellow-fg\">Weighted</span></span>(<span style=\"color: rgb(0, 187, 0)\"><span class=\"ansi-green-fg\">(@a : (A → B)) ↦ (@a : A) ↦ B</span></span>, <span style=\"color: rgb(0, 187, 0)\"><span class=\"ansi-green-fg\">4.906199119390435E-5</span></span>),\n",
       "        <span style=\"color: yellow\"><span class=\"ansi-yellow-fg\">Weighted</span></span>(\n",
       "          <span style=\"color: rgb(0, 187, 0)\"><span class=\"ansi-green-fg\">((@a_1 , (@a_2_1 , @a_2_2)) : A×B×B) ↦ B</span></span>,\n",
       "...</span></span></span></code></pre>\n",
       "</div>"
      ],
      "text/plain": [
       "\u001b[32mimport \u001b[39m\u001b[36mmonix.execution.Scheduler.Implicits.global\n",
       "\u001b[39m\n",
       "\u001b[36mnsT\u001b[39m: \u001b[32mmonix\u001b[39m.\u001b[32meval\u001b[39m.\u001b[32mTask\u001b[39m[\u001b[32mTermState\u001b[39m] = \u001b[33mAsync\u001b[39m(<function2>, false, true, true)\n",
       "\u001b[36mnsF\u001b[39m: \u001b[32mmonix\u001b[39m.\u001b[32mexecution\u001b[39m.\u001b[32mCancelableFuture\u001b[39m[\u001b[32mTermState\u001b[39m] = \u001b[32m\u001b[33mSuccess\u001b[39m(\n",
       "  \u001b[33mTermState\u001b[39m(\n",
       "    \u001b[33mFiniteDistribution\u001b[39m(\n",
       "      \u001b[33mVector\u001b[39m(\n",
       "        \u001b[33mWeighted\u001b[39m(\u001b[32m(@a : B) ↦ (@b : B) ↦ A\u001b[39m, \u001b[32m4.373451800333049E-4\u001b[39m),\n",
       "        \u001b[33mWeighted\u001b[39m(\u001b[32m(@a : (A → B×A)) ↦ A\u001b[39m, \u001b[32m3.796463604290217E-5\u001b[39m),\n",
       "        \u001b[33mWeighted\u001b[39m(\u001b[32m(@a : (B → B×A)) ↦ A\u001b[39m, \u001b[32m3.796463604290217E-5\u001b[39m),\n",
       "        \u001b[33mWeighted\u001b[39m(\u001b[32m(@a : A) ↦ (@b : A) ↦ A\u001b[39m, \u001b[32m4.373451800333047E-4\u001b[39m),\n",
       "        \u001b[33mWeighted\u001b[39m(\u001b[32m(@a : (A → A×A)) ↦ @a\u001b[39m, \u001b[32m3.254111660820186E-5\u001b[39m),\n",
       "        \u001b[33mWeighted\u001b[39m(\u001b[32m(@a : (B → A×A)) ↦ @a\u001b[39m, \u001b[32m3.254111660820186E-5\u001b[39m),\n",
       "        \u001b[33mWeighted\u001b[39m(\u001b[32m(@a : B) ↦ (@a : A) ↦ (@b : A) ↦ @a\u001b[39m, \u001b[32m2.385519163818026E-5\u001b[39m),\n",
       "        \u001b[33mWeighted\u001b[39m(\u001b[32m(@a : B) ↦ (@a : A) ↦ (@b : B) ↦ @a\u001b[39m, \u001b[32m3.407884519740037E-5\u001b[39m),\n",
       "        \u001b[33mWeighted\u001b[39m(\u001b[32m(@a : B) ↦ (@b : B) ↦ (@a : A) ↦ @a\u001b[39m, \u001b[32m4.8684064567714826E-5\u001b[39m),\n",
       "        \u001b[33mWeighted\u001b[39m(\u001b[32m(@a : A) ↦ (@a : B) ↦ (@b : A) ↦ @a\u001b[39m, \u001b[32m3.407884519740037E-5\u001b[39m),\n",
       "        \u001b[33mWeighted\u001b[39m(\u001b[32m(@a : A) ↦ (@b : A) ↦ (@a : B) ↦ @a\u001b[39m, \u001b[32m4.868406456771482E-5\u001b[39m),\n",
       "        \u001b[33mWeighted\u001b[39m(\u001b[32m(@a : A) ↦ (@a : B) ↦ (@b : B) ↦ @a\u001b[39m, \u001b[32m2.385519163818026E-5\u001b[39m),\n",
       "        \u001b[33mWeighted\u001b[39m(\u001b[32mA\u001b[39m, \u001b[32m0.4140253358376017\u001b[39m),\n",
       "        \u001b[33mWeighted\u001b[39m(\n",
       "          \u001b[32m((@a_1 , (@a_2_1 , @a_2_2)) : B×A×A) ↦ A\u001b[39m,\n",
       "          \u001b[32m1.8632802324548183E-5\u001b[39m\n",
       "        ),\n",
       "        \u001b[33mWeighted\u001b[39m(\n",
       "          \u001b[32m(@a : B) ↦ ((`@a_1 , @a_2) : B×B) ↦ (`@a_1 , @a_2)\u001b[39m,\n",
       "          \u001b[32m2.6370534974178855E-5\u001b[39m\n",
       "        ),\n",
       "        \u001b[33mWeighted\u001b[39m(\n",
       "          \u001b[32m((`@a_1 , @a_2) : B×B) ↦ (@a : B) ↦ (`@a_1 , @a_2)\u001b[39m,\n",
       "          \u001b[32m2.063941180565338E-5\u001b[39m\n",
       "        ),\n",
       "        \u001b[33mWeighted\u001b[39m(\u001b[32m((@a_1 , @a_2) : B×A) ↦ B\u001b[39m, \u001b[32m3.783892164369785E-4\u001b[39m),\n",
       "        \u001b[33mWeighted\u001b[39m(\u001b[32m(@a : B) ↦ (@b : B) ↦ (@c : B) ↦ @b\u001b[39m, \u001b[32m3.407884519740039E-5\u001b[39m),\n",
       "        \u001b[33mWeighted\u001b[39m(\u001b[32m(@a : B) ↦ (@b : B) ↦ (@c : B) ↦ @c\u001b[39m, \u001b[32m4.8684064567714826E-5\u001b[39m),\n",
       "        \u001b[33mWeighted\u001b[39m(\u001b[32m(@a : B) ↦ (@b : B) ↦ (@c : B) ↦ @a\u001b[39m, \u001b[32m2.3855191638180268E-5\u001b[39m),\n",
       "        \u001b[33mWeighted\u001b[39m(\u001b[32m(@a : A) ↦ (@a : (A → B)) ↦ B\u001b[39m, \u001b[32m3.691874896385039E-5\u001b[39m),\n",
       "        \u001b[33mWeighted\u001b[39m(\u001b[32m(@a : A) ↦ (@a : (B → B)) ↦ B\u001b[39m, \u001b[32m3.691874896385039E-5\u001b[39m),\n",
       "        \u001b[33mWeighted\u001b[39m(\u001b[32m(@a : (B → B)) ↦ (@a : A) ↦ B\u001b[39m, \u001b[32m4.906199119390435E-5\u001b[39m),\n",
       "        \u001b[33mWeighted\u001b[39m(\u001b[32m(@a : (A → B)) ↦ (@a : A) ↦ B\u001b[39m, \u001b[32m4.906199119390435E-5\u001b[39m),\n",
       "        \u001b[33mWeighted\u001b[39m(\n",
       "          \u001b[32m((@a_1 , (@a_2_1 , @a_2_2)) : A×B×B) ↦ B\u001b[39m,\n",
       "...\u001b[39m"
      ]
     },
     "metadata": {},
     "output_type": "display_data"
    }
   ],
   "source": [
    "import monix.execution.Scheduler.Implicits.global\n",
    "val nsT = lp.nextState\n",
    "val nsF = nsT.runToFuture"
   ]
  },
  {
   "cell_type": "code",
   "execution_count": 6,
   "metadata": {},
   "outputs": [
    {
     "data": {
      "text/plain": [
       "\u001b[36mMPAB\u001b[39m: \u001b[32mFuncTyp\u001b[39m[\u001b[32mTerm\u001b[39m, \u001b[32mFunc\u001b[39m[\u001b[32mFunc\u001b[39m[\u001b[32mTerm\u001b[39m, \u001b[32mTerm\u001b[39m], \u001b[32mTerm\u001b[39m]] = \u001b[32m(A → ((A → B) → B))\u001b[39m\n",
       "\u001b[36mMP\u001b[39m: \u001b[32mGenFuncTyp\u001b[39m[\u001b[32mTyp\u001b[39m[\u001b[32mTerm\u001b[39m], \u001b[32mFuncLike\u001b[39m[\u001b[32mTyp\u001b[39m[\u001b[32mTerm\u001b[39m], \u001b[32mFunc\u001b[39m[\u001b[32mTerm\u001b[39m, \u001b[32mFunc\u001b[39m[\u001b[32mFunc\u001b[39m[\u001b[32mTerm\u001b[39m, \u001b[32mTerm\u001b[39m], \u001b[32mTerm\u001b[39m]]]] = \u001b[32m∏(A : 𝒰 ){ ∏(B : 𝒰 ){ (A → ((A → B) → B)) } }\u001b[39m"
      ]
     },
     "execution_count": 6,
     "metadata": {},
     "output_type": "execute_result"
    }
   ],
   "source": [
    "val MPAB = A ->: (A ->: B) ->: B\n",
    "val MP = A ~>: (B ~>: MPAB)"
   ]
  },
  {
   "cell_type": "code",
   "execution_count": 7,
   "metadata": {},
   "outputs": [
    {
     "data": {
      "text/html": [
       "<div class=\"jp-RenderedText\">\n",
       "<pre><code><span style=\"color: rgb(0, 187, 187)\"><span class=\"ansi-cyan-fg\">evT</span></span>: <span style=\"color: rgb(0, 187, 0)\"><span class=\"ansi-green-fg\">monix</span></span>.<span style=\"color: rgb(0, 187, 0)\"><span class=\"ansi-green-fg\">eval</span></span>.<span style=\"color: rgb(0, 187, 0)\"><span class=\"ansi-green-fg\">Task</span></span>[<span style=\"color: rgb(0, 187, 0)\"><span class=\"ansi-green-fg\">ExpressionEval</span></span>] = <span style=\"color: yellow\"><span class=\"ansi-yellow-fg\">Async</span></span>(&lt;function2&gt;, false, true, true)\n",
       "<span style=\"color: rgb(0, 187, 187)\"><span class=\"ansi-cyan-fg\">evF</span></span>: <span style=\"color: rgb(0, 187, 0)\"><span class=\"ansi-green-fg\">monix</span></span>.<span style=\"color: rgb(0, 187, 0)\"><span class=\"ansi-green-fg\">execution</span></span>.<span style=\"color: rgb(0, 187, 0)\"><span class=\"ansi-green-fg\">CancelableFuture</span></span>[<span style=\"color: rgb(0, 187, 0)\"><span class=\"ansi-green-fg\">ExpressionEval</span></span>] = <span style=\"color: rgb(0, 187, 0)\"><span class=\"ansi-green-fg\"><style>@keyframes fadein { from { opacity: 0; } to { opacity: 1; } }</style><span style=\"animation: fadein 2s;\"><span style=\"color: yellow\"><span class=\"ansi-yellow-fg\">Success</span></span>(provingground.learning.ExpressionEval$$anon$9@7d2ead00)</span></span></span></code></pre>\n",
       "</div>"
      ],
      "text/plain": [
       "\u001b[36mevT\u001b[39m: \u001b[32mmonix\u001b[39m.\u001b[32meval\u001b[39m.\u001b[32mTask\u001b[39m[\u001b[32mExpressionEval\u001b[39m] = \u001b[33mAsync\u001b[39m(<function2>, false, true, true)\n",
       "\u001b[36mevF\u001b[39m: \u001b[32mmonix\u001b[39m.\u001b[32mexecution\u001b[39m.\u001b[32mCancelableFuture\u001b[39m[\u001b[32mExpressionEval\u001b[39m] = \u001b[32m\u001b[33mSuccess\u001b[39m(provingground.learning.ExpressionEval$$anon$9@7d2ead00)\u001b[39m"
      ]
     },
     "metadata": {},
     "output_type": "display_data"
    }
   ],
   "source": [
    "val evT = lp.expressionEval\n",
    "val evF = evT.runToFuture"
   ]
  },
  {
   "cell_type": "code",
   "execution_count": 8,
   "metadata": {},
   "outputs": [
    {
     "data": {
      "text/html": [
       "<div class=\"jp-RenderedText\">\n",
       "<pre><code><span style=\"color: rgb(0, 187, 187)\"><span class=\"ansi-cyan-fg\">res7</span></span>: <span style=\"color: rgb(0, 187, 0)\"><span class=\"ansi-green-fg\">monix</span></span>.<span style=\"color: rgb(0, 187, 0)\"><span class=\"ansi-green-fg\">execution</span></span>.<span style=\"color: rgb(0, 187, 0)\"><span class=\"ansi-green-fg\">CancelableFuture</span></span>[<span style=\"color: rgb(0, 187, 0)\"><span class=\"ansi-green-fg\">Double</span></span>] = <span style=\"color: rgb(0, 187, 0)\"><span class=\"ansi-green-fg\"><style>@keyframes fadein { from { opacity: 0; } to { opacity: 1; } }</style><span style=\"animation: fadein 2s;\"><span style=\"color: yellow\"><span class=\"ansi-yellow-fg\">Success</span></span>(<span style=\"color: rgb(0, 187, 0)\"><span class=\"ansi-green-fg\">4.7726733071849764E-4</span></span>)</span></span></span></code></pre>\n",
       "</div>"
      ],
      "text/plain": [
       "\u001b[36mres7\u001b[39m: \u001b[32mmonix\u001b[39m.\u001b[32mexecution\u001b[39m.\u001b[32mCancelableFuture\u001b[39m[\u001b[32mDouble\u001b[39m] = \u001b[32m\u001b[33mSuccess\u001b[39m(\u001b[32m4.7726733071849764E-4\u001b[39m)\u001b[39m"
      ]
     },
     "metadata": {},
     "output_type": "display_data"
    }
   ],
   "source": [
    "evT.map(_.finalTyps(MP)).runToFuture"
   ]
  },
  {
   "cell_type": "code",
   "execution_count": 9,
   "metadata": {},
   "outputs": [
    {
     "data": {
      "text/html": [
       "<div class=\"jp-RenderedText\">\n",
       "<pre><code><span style=\"color: rgb(0, 187, 187)\"><span class=\"ansi-cyan-fg\">res8</span></span>: <span style=\"color: rgb(0, 187, 0)\"><span class=\"ansi-green-fg\">monix</span></span>.<span style=\"color: rgb(0, 187, 0)\"><span class=\"ansi-green-fg\">execution</span></span>.<span style=\"color: rgb(0, 187, 0)\"><span class=\"ansi-green-fg\">CancelableFuture</span></span>[<span style=\"color: rgb(0, 187, 0)\"><span class=\"ansi-green-fg\">Vector</span></span>[<span style=\"color: rgb(0, 187, 0)\"><span class=\"ansi-green-fg\">Weighted</span></span>[<span style=\"color: rgb(0, 187, 0)\"><span class=\"ansi-green-fg\">Typ</span></span>[<span style=\"color: rgb(0, 187, 0)\"><span class=\"ansi-green-fg\">Term</span></span>]]]] = <span style=\"color: rgb(0, 187, 0)\"><span class=\"ansi-green-fg\"><style>@keyframes fadein { from { opacity: 0; } to { opacity: 1; } }</style><span style=\"animation: fadein 2s;\"><span style=\"color: yellow\"><span class=\"ansi-yellow-fg\">Success</span></span>(\n",
       "  <span style=\"color: yellow\"><span class=\"ansi-yellow-fg\">Vector</span></span>(\n",
       "    <span style=\"color: yellow\"><span class=\"ansi-yellow-fg\">Weighted</span></span>(<span style=\"color: rgb(0, 187, 0)\"><span class=\"ansi-green-fg\">(𝒰  → ∏(B : 𝒰 ){ B })</span></span>, <span style=\"color: rgb(0, 187, 0)\"><span class=\"ansi-green-fg\">2.4611869813902385</span></span>),\n",
       "    <span style=\"color: yellow\"><span class=\"ansi-yellow-fg\">Weighted</span></span>(<span style=\"color: rgb(0, 187, 0)\"><span class=\"ansi-green-fg\">(𝒰  → ∏(B : 𝒰 ){ (B → B) })</span></span>, <span style=\"color: rgb(0, 187, 0)\"><span class=\"ansi-green-fg\">5.983595301230278</span></span>),\n",
       "    <span style=\"color: yellow\"><span class=\"ansi-yellow-fg\">Weighted</span></span>(<span style=\"color: rgb(0, 187, 0)\"><span class=\"ansi-green-fg\">∏(A : 𝒰 ){ ∏(B : 𝒰 ){ (A → B) } }</span></span>, <span style=\"color: rgb(0, 187, 0)\"><span class=\"ansi-green-fg\">6.155038286900523</span></span>),\n",
       "    <span style=\"color: yellow\"><span class=\"ansi-yellow-fg\">Weighted</span></span>(<span style=\"color: rgb(0, 187, 0)\"><span class=\"ansi-green-fg\">(𝒰  → ∏(B : 𝒰 ){ B×B })</span></span>, <span style=\"color: rgb(0, 187, 0)\"><span class=\"ansi-green-fg\">7.071777738312864</span></span>),\n",
       "    <span style=\"color: yellow\"><span class=\"ansi-yellow-fg\">Weighted</span></span>(<span style=\"color: rgb(0, 187, 0)\"><span class=\"ansi-green-fg\">∏(A : 𝒰 ){ ∏(B : 𝒰 ){ A×B } }</span></span>, <span style=\"color: rgb(0, 187, 0)\"><span class=\"ansi-green-fg\">7.155038286900523</span></span>),\n",
       "    <span style=\"color: yellow\"><span class=\"ansi-yellow-fg\">Weighted</span></span>(<span style=\"color: rgb(0, 187, 0)\"><span class=\"ansi-green-fg\">(𝒰  → ∏(B : 𝒰 ){ ((B → B) → B) })</span></span>, <span style=\"color: rgb(0, 187, 0)\"><span class=\"ansi-green-fg\">7.186499525479032</span></span>),\n",
       "    <span style=\"color: yellow\"><span class=\"ansi-yellow-fg\">Weighted</span></span>(<span style=\"color: rgb(0, 187, 0)\"><span class=\"ansi-green-fg\">∏(A : 𝒰 ){ ∏(B : 𝒰 ){ ((A → B) → B) } }</span></span>, <span style=\"color: rgb(0, 187, 0)\"><span class=\"ansi-green-fg\">7.188083171971474</span></span>),\n",
       "    <span style=\"color: yellow\"><span class=\"ansi-yellow-fg\">Weighted</span></span>(<span style=\"color: rgb(0, 187, 0)\"><span class=\"ansi-green-fg\">(𝒰  → ∏(B : 𝒰 ){ (B×B → B) })</span></span>, <span style=\"color: rgb(0, 187, 0)\"><span class=\"ansi-green-fg\">7.1940006848848315</span></span>),\n",
       "    <span style=\"color: yellow\"><span class=\"ansi-yellow-fg\">Weighted</span></span>(<span style=\"color: rgb(0, 187, 0)\"><span class=\"ansi-green-fg\">∏(A : 𝒰 ){ ∏(B : 𝒰 ){ (A×B → B) } }</span></span>, <span style=\"color: rgb(0, 187, 0)\"><span class=\"ansi-green-fg\">7.194372182426414</span></span>),\n",
       "    <span style=\"color: yellow\"><span class=\"ansi-yellow-fg\">Weighted</span></span>(<span style=\"color: rgb(0, 187, 0)\"><span class=\"ansi-green-fg\">(𝒰  → ∏(B : 𝒰 ){ (((B → B) → B) → B) })</span></span>, <span style=\"color: rgb(0, 187, 0)\"><span class=\"ansi-green-fg\">7.194506442728845</span></span>),\n",
       "    <span style=\"color: yellow\"><span class=\"ansi-yellow-fg\">Weighted</span></span>(<span style=\"color: rgb(0, 187, 0)\"><span class=\"ansi-green-fg\">∏(A : 𝒰 ){ ∏(B : 𝒰 ){ (((A → B) → B) → B) } }</span></span>, <span style=\"color: rgb(0, 187, 0)\"><span class=\"ansi-green-fg\">7.194513040851876</span></span>),\n",
       "    <span style=\"color: yellow\"><span class=\"ansi-yellow-fg\">Weighted</span></span>(<span style=\"color: rgb(0, 187, 0)\"><span class=\"ansi-green-fg\">(𝒰  → ∏(B : 𝒰 ){ ((B×B → B) → B) })</span></span>, <span style=\"color: rgb(0, 187, 0)\"><span class=\"ansi-green-fg\">7.194538101913904</span></span>),\n",
       "    <span style=\"color: yellow\"><span class=\"ansi-yellow-fg\">Weighted</span></span>(<span style=\"color: rgb(0, 187, 0)\"><span class=\"ansi-green-fg\">∏(A : 𝒰 ){ ∏(B : 𝒰 ){ ((A×B → B) → B) } }</span></span>, <span style=\"color: rgb(0, 187, 0)\"><span class=\"ansi-green-fg\">7.194539646754476</span></span>),\n",
       "    <span style=\"color: yellow\"><span class=\"ansi-yellow-fg\">Weighted</span></span>(<span style=\"color: rgb(0, 187, 0)\"><span class=\"ansi-green-fg\">∏(A : 𝒰 ){ ∏(B : 𝒰 ){ ((B×A → B) → B) } }</span></span>, <span style=\"color: rgb(0, 187, 0)\"><span class=\"ansi-green-fg\">7.194566024848001</span></span>),\n",
       "    <span style=\"color: yellow\"><span class=\"ansi-yellow-fg\">Weighted</span></span>(<span style=\"color: rgb(0, 187, 0)\"><span class=\"ansi-green-fg\">∏(A : 𝒰 ){ ∏(B : 𝒰 ){ ((A×A → B) → B) } }</span></span>, <span style=\"color: rgb(0, 187, 0)\"><span class=\"ansi-green-fg\">7.194566024848001</span></span>),\n",
       "    <span style=\"color: yellow\"><span class=\"ansi-yellow-fg\">Weighted</span></span>(<span style=\"color: rgb(0, 187, 0)\"><span class=\"ansi-green-fg\">∏(A : 𝒰 ){ ∏(B : 𝒰 ){ (((A → A) → B) → B) } }</span></span>, <span style=\"color: rgb(0, 187, 0)\"><span class=\"ansi-green-fg\">7.194566024848001</span></span>),\n",
       "    <span style=\"color: yellow\"><span class=\"ansi-yellow-fg\">Weighted</span></span>(<span style=\"color: rgb(0, 187, 0)\"><span class=\"ansi-green-fg\">∏(A : 𝒰 ){ ∏(B : 𝒰 ){ (((B → A) → B) → B) } }</span></span>, <span style=\"color: rgb(0, 187, 0)\"><span class=\"ansi-green-fg\">7.194566024848001</span></span>),\n",
       "    <span style=\"color: yellow\"><span class=\"ansi-yellow-fg\">Weighted</span></span>(<span style=\"color: rgb(0, 187, 0)\"><span class=\"ansi-green-fg\">(𝒰  → ∏(B : 𝒰 ){ ((B → B)×B → B) })</span></span>, <span style=\"color: rgb(0, 187, 0)\"><span class=\"ansi-green-fg\">7.197588411139494</span></span>),\n",
       "    <span style=\"color: yellow\"><span class=\"ansi-yellow-fg\">Weighted</span></span>(<span style=\"color: rgb(0, 187, 0)\"><span class=\"ansi-green-fg\">∏(A : 𝒰 ){ ∏(B : 𝒰 ){ ((A → B)×B → B) } }</span></span>, <span style=\"color: rgb(0, 187, 0)\"><span class=\"ansi-green-fg\">7.197590042665723</span></span>),\n",
       "    <span style=\"color: yellow\"><span class=\"ansi-yellow-fg\">Weighted</span></span>(<span style=\"color: rgb(0, 187, 0)\"><span class=\"ansi-green-fg\">(𝒰  → ∏(B : 𝒰 ){ (B×B×B → B) })</span></span>, <span style=\"color: rgb(0, 187, 0)\"><span class=\"ansi-green-fg\">7.197596253869123</span></span>),\n",
       "    <span style=\"color: yellow\"><span class=\"ansi-yellow-fg\">Weighted</span></span>(<span style=\"color: rgb(0, 187, 0)\"><span class=\"ansi-green-fg\">∏(A : 𝒰 ){ ∏(B : 𝒰 ){ (A×B×B → B) } }</span></span>, <span style=\"color: rgb(0, 187, 0)\"><span class=\"ansi-green-fg\">7.197596637635715</span></span>),\n",
       "    <span style=\"color: yellow\"><span class=\"ansi-yellow-fg\">Weighted</span></span>(<span style=\"color: rgb(0, 187, 0)\"><span class=\"ansi-green-fg\">∏(A : 𝒰 ){ ∏(B : 𝒰 ){ ((B → A)×B → B) } }</span></span>, <span style=\"color: rgb(0, 187, 0)\"><span class=\"ansi-green-fg\">7.19760320439267</span></span>),\n",
       "    <span style=\"color: yellow\"><span class=\"ansi-yellow-fg\">Weighted</span></span>(<span style=\"color: rgb(0, 187, 0)\"><span class=\"ansi-green-fg\">∏(A : 𝒰 ){ ∏(B : 𝒰 ){ ((A → A)×B → B) } }</span></span>, <span style=\"color: rgb(0, 187, 0)\"><span class=\"ansi-green-fg\">7.19760320439267</span></span>),\n",
       "    <span style=\"color: yellow\"><span class=\"ansi-yellow-fg\">Weighted</span></span>(<span style=\"color: rgb(0, 187, 0)\"><span class=\"ansi-green-fg\">∏(A : 𝒰 ){ ∏(B : 𝒰 ){ (B×A×B → B) } }</span></span>, <span style=\"color: rgb(0, 187, 0)\"><span class=\"ansi-green-fg\">7.19760320439267</span></span>),\n",
       "    <span style=\"color: yellow\"><span class=\"ansi-yellow-fg\">Weighted</span></span>(<span style=\"color: rgb(0, 187, 0)\"><span class=\"ansi-green-fg\">∏(A : 𝒰 ){ ∏(B : 𝒰 ){ (A×A×B → B) } }</span></span>, <span style=\"color: rgb(0, 187, 0)\"><span class=\"ansi-green-fg\">7.19760320439267</span></span>),\n",
       "    <span style=\"color: yellow\"><span class=\"ansi-yellow-fg\">Weighted</span></span>(<span style=\"color: rgb(0, 187, 0)\"><span class=\"ansi-green-fg\">(𝒰  → ∏(B : 𝒰 ){ ((B → (B → B)) → B) })</span></span>, <span style=\"color: rgb(0, 187, 0)\"><span class=\"ansi-green-fg\">7.2001135571468575</span></span>),\n",
       "    <span style=\"color: yellow\"><span class=\"ansi-yellow-fg\">Weighted</span></span>(<span style=\"color: rgb(0, 187, 0)\"><span class=\"ansi-green-fg\">∏(A : 𝒰 ){ ∏(B : 𝒰 ){ ((B → (A → B)) → B) } }</span></span>, <span style=\"color: rgb(0, 187, 0)\"><span class=\"ansi-green-fg\">7.20015786399073</span></span>),\n",
       "    <span style=\"color: yellow\"><span class=\"ansi-yellow-fg\">Weighted</span></span>(<span style=\"color: rgb(0, 187, 0)\"><span class=\"ansi-green-fg\">∏(A : 𝒰 ){ ∏(B : 𝒰 ){ ((A → (B → B)) → B) } }</span></span>, <span style=\"color: rgb(0, 187, 0)\"><span class=\"ansi-green-fg\">7.200171124934144</span></span>),\n",
       "    <span style=\"color: yellow\"><span class=\"ansi-yellow-fg\">Weighted</span></span>(<span style=\"color: rgb(0, 187, 0)\"><span class=\"ansi-green-fg\">∏(A : 𝒰 ){ ∏(B : 𝒰 ){ ((A → (A → B)) → B) } }</span></span>, <span style=\"color: rgb(0, 187, 0)\"><span class=\"ansi-green-fg\">7.200210712834604</span></span>),\n",
       "    <span style=\"color: yellow\"><span class=\"ansi-yellow-fg\">Weighted</span></span>(<span style=\"color: rgb(0, 187, 0)\"><span class=\"ansi-green-fg\">(𝒰  → ∏(B : 𝒰 ){ ((B → B×B) → B) })</span></span>, <span style=\"color: rgb(0, 187, 0)\"><span class=\"ansi-green-fg\">7.20038537248245</span></span>),\n",
       "    <span style=\"color: yellow\"><span class=\"ansi-yellow-fg\">Weighted</span></span>(<span style=\"color: rgb(0, 187, 0)\"><span class=\"ansi-green-fg\">(𝒰  → ∏(B : 𝒰 ){ (B×(B → B) → B) })</span></span>, <span style=\"color: rgb(0, 187, 0)\"><span class=\"ansi-green-fg\">7.2003890251675635</span></span>),\n",
       "    <span style=\"color: yellow\"><span class=\"ansi-yellow-fg\">Weighted</span></span>(<span style=\"color: rgb(0, 187, 0)\"><span class=\"ansi-green-fg\">∏(A : 𝒰 ){ ∏(B : 𝒰 ){ ((B → A×B) → B) } }</span></span>, <span style=\"color: rgb(0, 187, 0)\"><span class=\"ansi-green-fg\">7.200395971094398</span></span>),\n",
       "...</span></span></span></code></pre>\n",
       "</div>"
      ],
      "text/plain": [
       "\u001b[36mres8\u001b[39m: \u001b[32mmonix\u001b[39m.\u001b[32mexecution\u001b[39m.\u001b[32mCancelableFuture\u001b[39m[\u001b[32mVector\u001b[39m[\u001b[32mWeighted\u001b[39m[\u001b[32mTyp\u001b[39m[\u001b[32mTerm\u001b[39m]]]] = \u001b[32m\u001b[33mSuccess\u001b[39m(\n",
       "  \u001b[33mVector\u001b[39m(\n",
       "    \u001b[33mWeighted\u001b[39m(\u001b[32m(𝒰  → ∏(B : 𝒰 ){ B })\u001b[39m, \u001b[32m2.4611869813902385\u001b[39m),\n",
       "    \u001b[33mWeighted\u001b[39m(\u001b[32m(𝒰  → ∏(B : 𝒰 ){ (B → B) })\u001b[39m, \u001b[32m5.983595301230278\u001b[39m),\n",
       "    \u001b[33mWeighted\u001b[39m(\u001b[32m∏(A : 𝒰 ){ ∏(B : 𝒰 ){ (A → B) } }\u001b[39m, \u001b[32m6.155038286900523\u001b[39m),\n",
       "    \u001b[33mWeighted\u001b[39m(\u001b[32m(𝒰  → ∏(B : 𝒰 ){ B×B })\u001b[39m, \u001b[32m7.071777738312864\u001b[39m),\n",
       "    \u001b[33mWeighted\u001b[39m(\u001b[32m∏(A : 𝒰 ){ ∏(B : 𝒰 ){ A×B } }\u001b[39m, \u001b[32m7.155038286900523\u001b[39m),\n",
       "    \u001b[33mWeighted\u001b[39m(\u001b[32m(𝒰  → ∏(B : 𝒰 ){ ((B → B) → B) })\u001b[39m, \u001b[32m7.186499525479032\u001b[39m),\n",
       "    \u001b[33mWeighted\u001b[39m(\u001b[32m∏(A : 𝒰 ){ ∏(B : 𝒰 ){ ((A → B) → B) } }\u001b[39m, \u001b[32m7.188083171971474\u001b[39m),\n",
       "    \u001b[33mWeighted\u001b[39m(\u001b[32m(𝒰  → ∏(B : 𝒰 ){ (B×B → B) })\u001b[39m, \u001b[32m7.1940006848848315\u001b[39m),\n",
       "    \u001b[33mWeighted\u001b[39m(\u001b[32m∏(A : 𝒰 ){ ∏(B : 𝒰 ){ (A×B → B) } }\u001b[39m, \u001b[32m7.194372182426414\u001b[39m),\n",
       "    \u001b[33mWeighted\u001b[39m(\u001b[32m(𝒰  → ∏(B : 𝒰 ){ (((B → B) → B) → B) })\u001b[39m, \u001b[32m7.194506442728845\u001b[39m),\n",
       "    \u001b[33mWeighted\u001b[39m(\u001b[32m∏(A : 𝒰 ){ ∏(B : 𝒰 ){ (((A → B) → B) → B) } }\u001b[39m, \u001b[32m7.194513040851876\u001b[39m),\n",
       "    \u001b[33mWeighted\u001b[39m(\u001b[32m(𝒰  → ∏(B : 𝒰 ){ ((B×B → B) → B) })\u001b[39m, \u001b[32m7.194538101913904\u001b[39m),\n",
       "    \u001b[33mWeighted\u001b[39m(\u001b[32m∏(A : 𝒰 ){ ∏(B : 𝒰 ){ ((A×B → B) → B) } }\u001b[39m, \u001b[32m7.194539646754476\u001b[39m),\n",
       "    \u001b[33mWeighted\u001b[39m(\u001b[32m∏(A : 𝒰 ){ ∏(B : 𝒰 ){ ((B×A → B) → B) } }\u001b[39m, \u001b[32m7.194566024848001\u001b[39m),\n",
       "    \u001b[33mWeighted\u001b[39m(\u001b[32m∏(A : 𝒰 ){ ∏(B : 𝒰 ){ ((A×A → B) → B) } }\u001b[39m, \u001b[32m7.194566024848001\u001b[39m),\n",
       "    \u001b[33mWeighted\u001b[39m(\u001b[32m∏(A : 𝒰 ){ ∏(B : 𝒰 ){ (((A → A) → B) → B) } }\u001b[39m, \u001b[32m7.194566024848001\u001b[39m),\n",
       "    \u001b[33mWeighted\u001b[39m(\u001b[32m∏(A : 𝒰 ){ ∏(B : 𝒰 ){ (((B → A) → B) → B) } }\u001b[39m, \u001b[32m7.194566024848001\u001b[39m),\n",
       "    \u001b[33mWeighted\u001b[39m(\u001b[32m(𝒰  → ∏(B : 𝒰 ){ ((B → B)×B → B) })\u001b[39m, \u001b[32m7.197588411139494\u001b[39m),\n",
       "    \u001b[33mWeighted\u001b[39m(\u001b[32m∏(A : 𝒰 ){ ∏(B : 𝒰 ){ ((A → B)×B → B) } }\u001b[39m, \u001b[32m7.197590042665723\u001b[39m),\n",
       "    \u001b[33mWeighted\u001b[39m(\u001b[32m(𝒰  → ∏(B : 𝒰 ){ (B×B×B → B) })\u001b[39m, \u001b[32m7.197596253869123\u001b[39m),\n",
       "    \u001b[33mWeighted\u001b[39m(\u001b[32m∏(A : 𝒰 ){ ∏(B : 𝒰 ){ (A×B×B → B) } }\u001b[39m, \u001b[32m7.197596637635715\u001b[39m),\n",
       "    \u001b[33mWeighted\u001b[39m(\u001b[32m∏(A : 𝒰 ){ ∏(B : 𝒰 ){ ((B → A)×B → B) } }\u001b[39m, \u001b[32m7.19760320439267\u001b[39m),\n",
       "    \u001b[33mWeighted\u001b[39m(\u001b[32m∏(A : 𝒰 ){ ∏(B : 𝒰 ){ ((A → A)×B → B) } }\u001b[39m, \u001b[32m7.19760320439267\u001b[39m),\n",
       "    \u001b[33mWeighted\u001b[39m(\u001b[32m∏(A : 𝒰 ){ ∏(B : 𝒰 ){ (B×A×B → B) } }\u001b[39m, \u001b[32m7.19760320439267\u001b[39m),\n",
       "    \u001b[33mWeighted\u001b[39m(\u001b[32m∏(A : 𝒰 ){ ∏(B : 𝒰 ){ (A×A×B → B) } }\u001b[39m, \u001b[32m7.19760320439267\u001b[39m),\n",
       "    \u001b[33mWeighted\u001b[39m(\u001b[32m(𝒰  → ∏(B : 𝒰 ){ ((B → (B → B)) → B) })\u001b[39m, \u001b[32m7.2001135571468575\u001b[39m),\n",
       "    \u001b[33mWeighted\u001b[39m(\u001b[32m∏(A : 𝒰 ){ ∏(B : 𝒰 ){ ((B → (A → B)) → B) } }\u001b[39m, \u001b[32m7.20015786399073\u001b[39m),\n",
       "    \u001b[33mWeighted\u001b[39m(\u001b[32m∏(A : 𝒰 ){ ∏(B : 𝒰 ){ ((A → (B → B)) → B) } }\u001b[39m, \u001b[32m7.200171124934144\u001b[39m),\n",
       "    \u001b[33mWeighted\u001b[39m(\u001b[32m∏(A : 𝒰 ){ ∏(B : 𝒰 ){ ((A → (A → B)) → B) } }\u001b[39m, \u001b[32m7.200210712834604\u001b[39m),\n",
       "    \u001b[33mWeighted\u001b[39m(\u001b[32m(𝒰  → ∏(B : 𝒰 ){ ((B → B×B) → B) })\u001b[39m, \u001b[32m7.20038537248245\u001b[39m),\n",
       "    \u001b[33mWeighted\u001b[39m(\u001b[32m(𝒰  → ∏(B : 𝒰 ){ (B×(B → B) → B) })\u001b[39m, \u001b[32m7.2003890251675635\u001b[39m),\n",
       "    \u001b[33mWeighted\u001b[39m(\u001b[32m∏(A : 𝒰 ){ ∏(B : 𝒰 ){ ((B → A×B) → B) } }\u001b[39m, \u001b[32m7.200395971094398\u001b[39m),\n",
       "...\u001b[39m"
      ]
     },
     "metadata": {},
     "output_type": "display_data"
    }
   ],
   "source": [
    "evT.map(_.finalTyps.entropyVec).runToFuture"
   ]
  },
  {
   "cell_type": "code",
   "execution_count": 10,
   "metadata": {},
   "outputs": [
    {
     "data": {
      "text/html": [
       "<div class=\"jp-RenderedText\">\n",
       "<pre><code><span style=\"color: rgb(0, 187, 187)\"><span class=\"ansi-cyan-fg\">res9</span></span>: <span style=\"color: rgb(0, 187, 0)\"><span class=\"ansi-green-fg\">monix</span></span>.<span style=\"color: rgb(0, 187, 0)\"><span class=\"ansi-green-fg\">execution</span></span>.<span style=\"color: rgb(0, 187, 0)\"><span class=\"ansi-green-fg\">CancelableFuture</span></span>[<span style=\"color: rgb(0, 187, 0)\"><span class=\"ansi-green-fg\">Double</span></span>] = <span style=\"color: rgb(0, 187, 0)\"><span class=\"ansi-green-fg\"><style>@keyframes fadein { from { opacity: 0; } to { opacity: 1; } }</style><span style=\"animation: fadein 2s;\"><span style=\"color: yellow\"><span class=\"ansi-yellow-fg\">Success</span></span>(<span style=\"color: rgb(0, 187, 0)\"><span class=\"ansi-green-fg\">11.032914793260902</span></span>)</span></span></span></code></pre>\n",
       "</div>"
      ],
      "text/plain": [
       "\u001b[36mres9\u001b[39m: \u001b[32mmonix\u001b[39m.\u001b[32mexecution\u001b[39m.\u001b[32mCancelableFuture\u001b[39m[\u001b[32mDouble\u001b[39m] = \u001b[32m\u001b[33mSuccess\u001b[39m(\u001b[32m11.032914793260902\u001b[39m)\u001b[39m"
      ]
     },
     "metadata": {},
     "output_type": "display_data"
    }
   ],
   "source": [
    "evT.map(_.finalTyps.entropy(MP)).runToFuture"
   ]
  },
  {
   "cell_type": "code",
   "execution_count": 11,
   "metadata": {},
   "outputs": [
    {
     "data": {
      "text/plain": [
       "\u001b[36mres10\u001b[39m: \u001b[32mGenFuncTyp\u001b[39m[\u001b[32mTyp\u001b[39m[\u001b[32mTerm\u001b[39m], \u001b[32mFuncLike\u001b[39m[\u001b[32mTyp\u001b[39m[\u001b[32mTerm\u001b[39m], \u001b[32mFunc\u001b[39m[\u001b[32mTerm\u001b[39m, \u001b[32mFunc\u001b[39m[\u001b[32mFunc\u001b[39m[\u001b[32mTerm\u001b[39m, \u001b[32mTerm\u001b[39m], \u001b[32mTerm\u001b[39m]]]] = \u001b[32m∏(A : 𝒰 ){ ∏(B : 𝒰 ){ (A → ((A → B) → B)) } }\u001b[39m"
      ]
     },
     "execution_count": 11,
     "metadata": {},
     "output_type": "execute_result"
    }
   ],
   "source": [
    "MP"
   ]
  },
  {
   "cell_type": "markdown",
   "metadata": {},
   "source": [
    "## Conclusions\n",
    "\n",
    "* the sanity check has passed, where we do get the statement of Modus Ponens when we work with variables\n",
    "* in this case, product terms are a nuisance; we may want to avoid such coefficients in a convenient way."
   ]
  },
  {
   "cell_type": "code",
   "execution_count": 12,
   "metadata": {},
   "outputs": [
    {
     "data": {
      "text/plain": [
       "\u001b[36mlp1\u001b[39m: \u001b[32mLocalProver\u001b[39m = \u001b[33mLocalProver\u001b[39m(\n",
       "  \u001b[33mTermState\u001b[39m(\n",
       "    \u001b[33mFiniteDistribution\u001b[39m(\u001b[33mVector\u001b[39m(\u001b[33mWeighted\u001b[39m(\u001b[32mA\u001b[39m, \u001b[32m0.5\u001b[39m), \u001b[33mWeighted\u001b[39m(\u001b[32mB\u001b[39m, \u001b[32m0.5\u001b[39m))),\n",
       "    \u001b[33mFiniteDistribution\u001b[39m(\u001b[33mVector\u001b[39m(\u001b[33mWeighted\u001b[39m(\u001b[32mA\u001b[39m, \u001b[32m0.5\u001b[39m), \u001b[33mWeighted\u001b[39m(\u001b[32mB\u001b[39m, \u001b[32m0.5\u001b[39m))),\n",
       "    \u001b[33mVector\u001b[39m(\u001b[32mA\u001b[39m, \u001b[32mB\u001b[39m),\n",
       "    \u001b[33mFiniteDistribution\u001b[39m(\u001b[33mVector\u001b[39m()),\n",
       "    \u001b[33mFiniteDistribution\u001b[39m(\u001b[33mVector\u001b[39m()),\n",
       "    Empty\n",
       "  ),\n",
       "  \u001b[33mTermGenParams\u001b[39m(\n",
       "    \u001b[32m0.1\u001b[39m,\n",
       "    \u001b[32m0.1\u001b[39m,\n",
       "    \u001b[32m0.1\u001b[39m,\n",
       "    \u001b[32m0.1\u001b[39m,\n",
       "    \u001b[32m0.1\u001b[39m,\n",
       "    \u001b[32m0.05\u001b[39m,\n",
       "    \u001b[32m0.05\u001b[39m,\n",
       "    \u001b[32m0.0\u001b[39m,\n",
       "    \u001b[32m0.0\u001b[39m,\n",
       "    \u001b[32m0.0\u001b[39m,\n",
       "    \u001b[32m0.0\u001b[39m,\n",
       "    \u001b[32m0.0\u001b[39m,\n",
       "    \u001b[32m0.3\u001b[39m,\n",
       "    \u001b[32m0.7\u001b[39m,\n",
       "    \u001b[32m0.5\u001b[39m,\n",
       "    \u001b[32m0.0\u001b[39m,\n",
       "    \u001b[32m0.0\u001b[39m,\n",
       "    \u001b[32m0.0\u001b[39m\n",
       "  ),\n",
       "  \u001b[32m1.0E-5\u001b[39m,\n",
       "  12 minutes,\n",
       "  \u001b[32m1.01\u001b[39m,\n",
       "  \u001b[32m1.0\u001b[39m,\n",
       "  \u001b[32m10000\u001b[39m,\n",
       "  \u001b[32m10\u001b[39m,\n",
       "  \u001b[32m1.0\u001b[39m,\n",
       "  \u001b[32m1.0\u001b[39m,\n",
       "  \u001b[32mNone\u001b[39m,\n",
       "  true,\n",
       "..."
      ]
     },
     "execution_count": 12,
     "metadata": {},
     "output_type": "execute_result"
    }
   ],
   "source": [
    "val lp1 = LocalProver(ts, tg = TermGenParams(sigmaW = 0), relativeEval = true).sharpen(10)"
   ]
  },
  {
   "cell_type": "code",
   "execution_count": 14,
   "metadata": {},
   "outputs": [
    {
     "data": {
      "text/html": [
       "<div class=\"jp-RenderedText\">\n",
       "<pre><code><span style=\"color: rgb(0, 187, 187)\"><span class=\"ansi-cyan-fg\">nsT1</span></span>: <span style=\"color: rgb(0, 187, 0)\"><span class=\"ansi-green-fg\">monix</span></span>.<span style=\"color: rgb(0, 187, 0)\"><span class=\"ansi-green-fg\">eval</span></span>.<span style=\"color: rgb(0, 187, 0)\"><span class=\"ansi-green-fg\">Task</span></span>[<span style=\"color: rgb(0, 187, 0)\"><span class=\"ansi-green-fg\">TermState</span></span>] = <span style=\"color: yellow\"><span class=\"ansi-yellow-fg\">Async</span></span>(&lt;function2&gt;, false, true, true)\n",
       "<span style=\"color: rgb(0, 187, 187)\"><span class=\"ansi-cyan-fg\">nsF1</span></span>: <span style=\"color: rgb(0, 187, 0)\"><span class=\"ansi-green-fg\">monix</span></span>.<span style=\"color: rgb(0, 187, 0)\"><span class=\"ansi-green-fg\">execution</span></span>.<span style=\"color: rgb(0, 187, 0)\"><span class=\"ansi-green-fg\">CancelableFuture</span></span>[<span style=\"color: rgb(0, 187, 0)\"><span class=\"ansi-green-fg\">TermState</span></span>] = <span style=\"color: rgb(0, 187, 0)\"><span class=\"ansi-green-fg\"><style>@keyframes fadein { from { opacity: 0; } to { opacity: 1; } }</style><span style=\"animation: fadein 2s;\"><span style=\"color: yellow\"><span class=\"ansi-yellow-fg\">Success</span></span>(\n",
       "  <span style=\"color: yellow\"><span class=\"ansi-yellow-fg\">TermState</span></span>(\n",
       "    <span style=\"color: yellow\"><span class=\"ansi-yellow-fg\">FiniteDistribution</span></span>(\n",
       "      <span style=\"color: yellow\"><span class=\"ansi-yellow-fg\">Vector</span></span>(\n",
       "        <span style=\"color: yellow\"><span class=\"ansi-yellow-fg\">Weighted</span></span>(<span style=\"color: rgb(0, 187, 0)\"><span class=\"ansi-green-fg\">(@a : B) ↦ (@b : B) ↦ A</span></span>, <span style=\"color: rgb(0, 187, 0)\"><span class=\"ansi-green-fg\">5.131393181144309E-4</span></span>),\n",
       "        <span style=\"color: yellow\"><span class=\"ansi-yellow-fg\">Weighted</span></span>(<span style=\"color: rgb(0, 187, 0)\"><span class=\"ansi-green-fg\">(@a : A) ↦ (@b : A) ↦ A</span></span>, <span style=\"color: rgb(0, 187, 0)\"><span class=\"ansi-green-fg\">5.131393181144308E-4</span></span>),\n",
       "        <span style=\"color: yellow\"><span class=\"ansi-yellow-fg\">Weighted</span></span>(<span style=\"color: rgb(0, 187, 0)\"><span class=\"ansi-green-fg\">(@a : A) ↦ (@a : B) ↦ (@b : B) ↦ @a</span></span>, <span style=\"color: rgb(0, 187, 0)\"><span class=\"ansi-green-fg\">2.7989417351696225E-5</span></span>),\n",
       "        <span style=\"color: yellow\"><span class=\"ansi-yellow-fg\">Weighted</span></span>(<span style=\"color: rgb(0, 187, 0)\"><span class=\"ansi-green-fg\">(@a : A) ↦ (@a : B) ↦ (@b : A) ↦ @a</span></span>, <span style=\"color: rgb(0, 187, 0)\"><span class=\"ansi-green-fg\">3.9984881930994606E-5</span></span>),\n",
       "        <span style=\"color: yellow\"><span class=\"ansi-yellow-fg\">Weighted</span></span>(<span style=\"color: rgb(0, 187, 0)\"><span class=\"ansi-green-fg\">(@a : A) ↦ (@b : A) ↦ (@a : B) ↦ @a</span></span>, <span style=\"color: rgb(0, 187, 0)\"><span class=\"ansi-green-fg\">5.712125990142086E-5</span></span>),\n",
       "        <span style=\"color: yellow\"><span class=\"ansi-yellow-fg\">Weighted</span></span>(<span style=\"color: rgb(0, 187, 0)\"><span class=\"ansi-green-fg\">(@a : B) ↦ (@a : A) ↦ (@b : B) ↦ @a</span></span>, <span style=\"color: rgb(0, 187, 0)\"><span class=\"ansi-green-fg\">3.998488193099462E-5</span></span>),\n",
       "        <span style=\"color: yellow\"><span class=\"ansi-yellow-fg\">Weighted</span></span>(<span style=\"color: rgb(0, 187, 0)\"><span class=\"ansi-green-fg\">(@a : B) ↦ (@b : B) ↦ (@a : A) ↦ @a</span></span>, <span style=\"color: rgb(0, 187, 0)\"><span class=\"ansi-green-fg\">5.712125990142089E-5</span></span>),\n",
       "        <span style=\"color: yellow\"><span class=\"ansi-yellow-fg\">Weighted</span></span>(<span style=\"color: rgb(0, 187, 0)\"><span class=\"ansi-green-fg\">(@a : B) ↦ (@a : A) ↦ (@b : A) ↦ @a</span></span>, <span style=\"color: rgb(0, 187, 0)\"><span class=\"ansi-green-fg\">2.7989417351696228E-5</span></span>),\n",
       "        <span style=\"color: yellow\"><span class=\"ansi-yellow-fg\">Weighted</span></span>(<span style=\"color: rgb(0, 187, 0)\"><span class=\"ansi-green-fg\">A</span></span>, <span style=\"color: rgb(0, 187, 0)\"><span class=\"ansi-green-fg\">0.4138568318741664</span></span>),\n",
       "        <span style=\"color: yellow\"><span class=\"ansi-yellow-fg\">Weighted</span></span>(<span style=\"color: rgb(0, 187, 0)\"><span class=\"ansi-green-fg\">(@a : B) ↦ (@b : B) ↦ (@c : B) ↦ @b</span></span>, <span style=\"color: rgb(0, 187, 0)\"><span class=\"ansi-green-fg\">3.998488193099462E-5</span></span>),\n",
       "        <span style=\"color: yellow\"><span class=\"ansi-yellow-fg\">Weighted</span></span>(<span style=\"color: rgb(0, 187, 0)\"><span class=\"ansi-green-fg\">(@a : B) ↦ (@b : B) ↦ (@c : B) ↦ @c</span></span>, <span style=\"color: rgb(0, 187, 0)\"><span class=\"ansi-green-fg\">5.712125990142089E-5</span></span>),\n",
       "        <span style=\"color: yellow\"><span class=\"ansi-yellow-fg\">Weighted</span></span>(<span style=\"color: rgb(0, 187, 0)\"><span class=\"ansi-green-fg\">(@a : B) ↦ (@b : B) ↦ (@c : B) ↦ @a</span></span>, <span style=\"color: rgb(0, 187, 0)\"><span class=\"ansi-green-fg\">2.798941735169623E-5</span></span>),\n",
       "        <span style=\"color: yellow\"><span class=\"ansi-yellow-fg\">Weighted</span></span>(<span style=\"color: rgb(0, 187, 0)\"><span class=\"ansi-green-fg\">(@a : (A → B)) ↦ (@a : A) ↦ B</span></span>, <span style=\"color: rgb(0, 187, 0)\"><span class=\"ansi-green-fg\">5.651177994842281E-5</span></span>),\n",
       "        <span style=\"color: yellow\"><span class=\"ansi-yellow-fg\">Weighted</span></span>(<span style=\"color: rgb(0, 187, 0)\"><span class=\"ansi-green-fg\">(@a : (B → B)) ↦ (@a : A) ↦ B</span></span>, <span style=\"color: rgb(0, 187, 0)\"><span class=\"ansi-green-fg\">5.651177994842281E-5</span></span>),\n",
       "        <span style=\"color: yellow\"><span class=\"ansi-yellow-fg\">Weighted</span></span>(<span style=\"color: rgb(0, 187, 0)\"><span class=\"ansi-green-fg\">(@a : A) ↦ (@a : (A → B)) ↦ B</span></span>, <span style=\"color: rgb(0, 187, 0)\"><span class=\"ansi-green-fg\">4.0429158396894534E-5</span></span>),\n",
       "        <span style=\"color: yellow\"><span class=\"ansi-yellow-fg\">Weighted</span></span>(<span style=\"color: rgb(0, 187, 0)\"><span class=\"ansi-green-fg\">(@a : A) ↦ (@a : (B → B)) ↦ B</span></span>, <span style=\"color: rgb(0, 187, 0)\"><span class=\"ansi-green-fg\">4.0429158396894534E-5</span></span>),\n",
       "        <span style=\"color: yellow\"><span class=\"ansi-yellow-fg\">Weighted</span></span>(<span style=\"color: rgb(0, 187, 0)\"><span class=\"ansi-green-fg\">(@a : (A → A)) ↦ (@a : B) ↦ A</span></span>, <span style=\"color: rgb(0, 187, 0)\"><span class=\"ansi-green-fg\">5.651177994842281E-5</span></span>),\n",
       "        <span style=\"color: yellow\"><span class=\"ansi-yellow-fg\">Weighted</span></span>(<span style=\"color: rgb(0, 187, 0)\"><span class=\"ansi-green-fg\">(@a : (B → A)) ↦ (@a : B) ↦ A</span></span>, <span style=\"color: rgb(0, 187, 0)\"><span class=\"ansi-green-fg\">5.651177994842281E-5</span></span>),\n",
       "        <span style=\"color: yellow\"><span class=\"ansi-yellow-fg\">Weighted</span></span>(<span style=\"color: rgb(0, 187, 0)\"><span class=\"ansi-green-fg\">(@a : B) ↦ (@a : (A → A)) ↦ A</span></span>, <span style=\"color: rgb(0, 187, 0)\"><span class=\"ansi-green-fg\">4.042915839689454E-5</span></span>),\n",
       "        <span style=\"color: yellow\"><span class=\"ansi-yellow-fg\">Weighted</span></span>(<span style=\"color: rgb(0, 187, 0)\"><span class=\"ansi-green-fg\">(@a : B) ↦ (@a : (B → A)) ↦ A</span></span>, <span style=\"color: rgb(0, 187, 0)\"><span class=\"ansi-green-fg\">4.042915839689454E-5</span></span>),\n",
       "        <span style=\"color: yellow\"><span class=\"ansi-yellow-fg\">Weighted</span></span>(<span style=\"color: rgb(0, 187, 0)\"><span class=\"ansi-green-fg\">(@a : (A → A)) ↦ (@a : A) ↦ @a</span></span>, <span style=\"color: rgb(0, 187, 0)\"><span class=\"ansi-green-fg\">4.843866852721956E-5</span></span>),\n",
       "        <span style=\"color: yellow\"><span class=\"ansi-yellow-fg\">Weighted</span></span>(<span style=\"color: rgb(0, 187, 0)\"><span class=\"ansi-green-fg\">(@a : (B → A)) ↦ (@a : A) ↦ @a</span></span>, <span style=\"color: rgb(0, 187, 0)\"><span class=\"ansi-green-fg\">4.843866852721956E-5</span></span>),\n",
       "        <span style=\"color: yellow\"><span class=\"ansi-yellow-fg\">Weighted</span></span>(<span style=\"color: rgb(0, 187, 0)\"><span class=\"ansi-green-fg\">(@a : A) ↦ (@a : (B → A)) ↦ @a</span></span>, <span style=\"color: rgb(0, 187, 0)\"><span class=\"ansi-green-fg\">4.950509191456472E-5</span></span>),\n",
       "        <span style=\"color: yellow\"><span class=\"ansi-yellow-fg\">Weighted</span></span>(<span style=\"color: rgb(0, 187, 0)\"><span class=\"ansi-green-fg\">(@a : A) ↦ (@a : (A → A)) ↦ @a</span></span>, <span style=\"color: rgb(0, 187, 0)\"><span class=\"ansi-green-fg\">4.950509191456472E-5</span></span>),\n",
       "        <span style=\"color: yellow\"><span class=\"ansi-yellow-fg\">Weighted</span></span>(<span style=\"color: rgb(0, 187, 0)\"><span class=\"ansi-green-fg\">(@a : A) ↦ (@a : B) ↦ (@b : B) ↦ B</span></span>, <span style=\"color: rgb(0, 187, 0)\"><span class=\"ansi-green-fg\">3.265432024364559E-5</span></span>),\n",
       "        <span style=\"color: yellow\"><span class=\"ansi-yellow-fg\">Weighted</span></span>(<span style=\"color: rgb(0, 187, 0)\"><span class=\"ansi-green-fg\">(@a : B) ↦ (@a : A) ↦ (@b : B) ↦ B</span></span>, <span style=\"color: rgb(0, 187, 0)\"><span class=\"ansi-green-fg\">3.265432024364558E-5</span></span>),\n",
       "        <span style=\"color: yellow\"><span class=\"ansi-yellow-fg\">Weighted</span></span>(<span style=\"color: rgb(0, 187, 0)\"><span class=\"ansi-green-fg\">(@a : B) ↦ (@b : B) ↦ (@a : A) ↦ B</span></span>, <span style=\"color: rgb(0, 187, 0)\"><span class=\"ansi-green-fg\">3.2654320243645597E-5</span></span>),\n",
       "        <span style=\"color: yellow\"><span class=\"ansi-yellow-fg\">Weighted</span></span>(<span style=\"color: rgb(0, 187, 0)\"><span class=\"ansi-green-fg\">(@a : (A → B)) ↦ (@a : B) ↦ A</span></span>, <span style=\"color: rgb(0, 187, 0)\"><span class=\"ansi-green-fg\">5.651177994842281E-5</span></span>),\n",
       "        <span style=\"color: yellow\"><span class=\"ansi-yellow-fg\">Weighted</span></span>(<span style=\"color: rgb(0, 187, 0)\"><span class=\"ansi-green-fg\">(@a : (B → B)) ↦ (@a : B) ↦ A</span></span>, <span style=\"color: rgb(0, 187, 0)\"><span class=\"ansi-green-fg\">5.651177994842281E-5</span></span>),\n",
       "        <span style=\"color: yellow\"><span class=\"ansi-yellow-fg\">Weighted</span></span>(<span style=\"color: rgb(0, 187, 0)\"><span class=\"ansi-green-fg\">(@a : B) ↦ (@a : (A → B)) ↦ A</span></span>, <span style=\"color: rgb(0, 187, 0)\"><span class=\"ansi-green-fg\">4.042915839689454E-5</span></span>),\n",
       "        <span style=\"color: yellow\"><span class=\"ansi-yellow-fg\">Weighted</span></span>(<span style=\"color: rgb(0, 187, 0)\"><span class=\"ansi-green-fg\">(@a : B) ↦ (@a : (B → B)) ↦ A</span></span>, <span style=\"color: rgb(0, 187, 0)\"><span class=\"ansi-green-fg\">4.042915839689454E-5</span></span>),\n",
       "        <span style=\"color: yellow\"><span class=\"ansi-yellow-fg\">Weighted</span></span>(<span style=\"color: rgb(0, 187, 0)\"><span class=\"ansi-green-fg\">(@a : (A → A)) ↦ (@a : B) ↦ @a</span></span>, <span style=\"color: rgb(0, 187, 0)\"><span class=\"ansi-green-fg\">4.843866852721956E-5</span></span>),\n",
       "        <span style=\"color: yellow\"><span class=\"ansi-yellow-fg\">Weighted</span></span>(<span style=\"color: rgb(0, 187, 0)\"><span class=\"ansi-green-fg\">(@a : (B → A)) ↦ (@a : B) ↦ @a</span></span>, <span style=\"color: rgb(0, 187, 0)\"><span class=\"ansi-green-fg\">4.843866852721956E-5</span></span>),\n",
       "        <span style=\"color: yellow\"><span class=\"ansi-yellow-fg\">Weighted</span></span>(<span style=\"color: rgb(0, 187, 0)\"><span class=\"ansi-green-fg\">(@a : B) ↦ (@a : (B → A)) ↦ @a</span></span>, <span style=\"color: rgb(0, 187, 0)\"><span class=\"ansi-green-fg\">4.9505091914564746E-5</span></span>),\n",
       "        <span style=\"color: yellow\"><span class=\"ansi-yellow-fg\">Weighted</span></span>(<span style=\"color: rgb(0, 187, 0)\"><span class=\"ansi-green-fg\">(@a : B) ↦ (@a : (A → A)) ↦ @a</span></span>, <span style=\"color: rgb(0, 187, 0)\"><span class=\"ansi-green-fg\">4.9505091914564746E-5</span></span>),\n",
       "...</span></span></span></code></pre>\n",
       "</div>"
      ],
      "text/plain": [
       "\u001b[36mnsT1\u001b[39m: \u001b[32mmonix\u001b[39m.\u001b[32meval\u001b[39m.\u001b[32mTask\u001b[39m[\u001b[32mTermState\u001b[39m] = \u001b[33mAsync\u001b[39m(<function2>, false, true, true)\n",
       "\u001b[36mnsF1\u001b[39m: \u001b[32mmonix\u001b[39m.\u001b[32mexecution\u001b[39m.\u001b[32mCancelableFuture\u001b[39m[\u001b[32mTermState\u001b[39m] = \u001b[32m\u001b[33mSuccess\u001b[39m(\n",
       "  \u001b[33mTermState\u001b[39m(\n",
       "    \u001b[33mFiniteDistribution\u001b[39m(\n",
       "      \u001b[33mVector\u001b[39m(\n",
       "        \u001b[33mWeighted\u001b[39m(\u001b[32m(@a : B) ↦ (@b : B) ↦ A\u001b[39m, \u001b[32m5.131393181144309E-4\u001b[39m),\n",
       "        \u001b[33mWeighted\u001b[39m(\u001b[32m(@a : A) ↦ (@b : A) ↦ A\u001b[39m, \u001b[32m5.131393181144308E-4\u001b[39m),\n",
       "        \u001b[33mWeighted\u001b[39m(\u001b[32m(@a : A) ↦ (@a : B) ↦ (@b : B) ↦ @a\u001b[39m, \u001b[32m2.7989417351696225E-5\u001b[39m),\n",
       "        \u001b[33mWeighted\u001b[39m(\u001b[32m(@a : A) ↦ (@a : B) ↦ (@b : A) ↦ @a\u001b[39m, \u001b[32m3.9984881930994606E-5\u001b[39m),\n",
       "        \u001b[33mWeighted\u001b[39m(\u001b[32m(@a : A) ↦ (@b : A) ↦ (@a : B) ↦ @a\u001b[39m, \u001b[32m5.712125990142086E-5\u001b[39m),\n",
       "        \u001b[33mWeighted\u001b[39m(\u001b[32m(@a : B) ↦ (@a : A) ↦ (@b : B) ↦ @a\u001b[39m, \u001b[32m3.998488193099462E-5\u001b[39m),\n",
       "        \u001b[33mWeighted\u001b[39m(\u001b[32m(@a : B) ↦ (@b : B) ↦ (@a : A) ↦ @a\u001b[39m, \u001b[32m5.712125990142089E-5\u001b[39m),\n",
       "        \u001b[33mWeighted\u001b[39m(\u001b[32m(@a : B) ↦ (@a : A) ↦ (@b : A) ↦ @a\u001b[39m, \u001b[32m2.7989417351696228E-5\u001b[39m),\n",
       "        \u001b[33mWeighted\u001b[39m(\u001b[32mA\u001b[39m, \u001b[32m0.4138568318741664\u001b[39m),\n",
       "        \u001b[33mWeighted\u001b[39m(\u001b[32m(@a : B) ↦ (@b : B) ↦ (@c : B) ↦ @b\u001b[39m, \u001b[32m3.998488193099462E-5\u001b[39m),\n",
       "        \u001b[33mWeighted\u001b[39m(\u001b[32m(@a : B) ↦ (@b : B) ↦ (@c : B) ↦ @c\u001b[39m, \u001b[32m5.712125990142089E-5\u001b[39m),\n",
       "        \u001b[33mWeighted\u001b[39m(\u001b[32m(@a : B) ↦ (@b : B) ↦ (@c : B) ↦ @a\u001b[39m, \u001b[32m2.798941735169623E-5\u001b[39m),\n",
       "        \u001b[33mWeighted\u001b[39m(\u001b[32m(@a : (A → B)) ↦ (@a : A) ↦ B\u001b[39m, \u001b[32m5.651177994842281E-5\u001b[39m),\n",
       "        \u001b[33mWeighted\u001b[39m(\u001b[32m(@a : (B → B)) ↦ (@a : A) ↦ B\u001b[39m, \u001b[32m5.651177994842281E-5\u001b[39m),\n",
       "        \u001b[33mWeighted\u001b[39m(\u001b[32m(@a : A) ↦ (@a : (A → B)) ↦ B\u001b[39m, \u001b[32m4.0429158396894534E-5\u001b[39m),\n",
       "        \u001b[33mWeighted\u001b[39m(\u001b[32m(@a : A) ↦ (@a : (B → B)) ↦ B\u001b[39m, \u001b[32m4.0429158396894534E-5\u001b[39m),\n",
       "        \u001b[33mWeighted\u001b[39m(\u001b[32m(@a : (A → A)) ↦ (@a : B) ↦ A\u001b[39m, \u001b[32m5.651177994842281E-5\u001b[39m),\n",
       "        \u001b[33mWeighted\u001b[39m(\u001b[32m(@a : (B → A)) ↦ (@a : B) ↦ A\u001b[39m, \u001b[32m5.651177994842281E-5\u001b[39m),\n",
       "        \u001b[33mWeighted\u001b[39m(\u001b[32m(@a : B) ↦ (@a : (A → A)) ↦ A\u001b[39m, \u001b[32m4.042915839689454E-5\u001b[39m),\n",
       "        \u001b[33mWeighted\u001b[39m(\u001b[32m(@a : B) ↦ (@a : (B → A)) ↦ A\u001b[39m, \u001b[32m4.042915839689454E-5\u001b[39m),\n",
       "        \u001b[33mWeighted\u001b[39m(\u001b[32m(@a : (A → A)) ↦ (@a : A) ↦ @a\u001b[39m, \u001b[32m4.843866852721956E-5\u001b[39m),\n",
       "        \u001b[33mWeighted\u001b[39m(\u001b[32m(@a : (B → A)) ↦ (@a : A) ↦ @a\u001b[39m, \u001b[32m4.843866852721956E-5\u001b[39m),\n",
       "        \u001b[33mWeighted\u001b[39m(\u001b[32m(@a : A) ↦ (@a : (B → A)) ↦ @a\u001b[39m, \u001b[32m4.950509191456472E-5\u001b[39m),\n",
       "        \u001b[33mWeighted\u001b[39m(\u001b[32m(@a : A) ↦ (@a : (A → A)) ↦ @a\u001b[39m, \u001b[32m4.950509191456472E-5\u001b[39m),\n",
       "        \u001b[33mWeighted\u001b[39m(\u001b[32m(@a : A) ↦ (@a : B) ↦ (@b : B) ↦ B\u001b[39m, \u001b[32m3.265432024364559E-5\u001b[39m),\n",
       "        \u001b[33mWeighted\u001b[39m(\u001b[32m(@a : B) ↦ (@a : A) ↦ (@b : B) ↦ B\u001b[39m, \u001b[32m3.265432024364558E-5\u001b[39m),\n",
       "        \u001b[33mWeighted\u001b[39m(\u001b[32m(@a : B) ↦ (@b : B) ↦ (@a : A) ↦ B\u001b[39m, \u001b[32m3.2654320243645597E-5\u001b[39m),\n",
       "        \u001b[33mWeighted\u001b[39m(\u001b[32m(@a : (A → B)) ↦ (@a : B) ↦ A\u001b[39m, \u001b[32m5.651177994842281E-5\u001b[39m),\n",
       "        \u001b[33mWeighted\u001b[39m(\u001b[32m(@a : (B → B)) ↦ (@a : B) ↦ A\u001b[39m, \u001b[32m5.651177994842281E-5\u001b[39m),\n",
       "        \u001b[33mWeighted\u001b[39m(\u001b[32m(@a : B) ↦ (@a : (A → B)) ↦ A\u001b[39m, \u001b[32m4.042915839689454E-5\u001b[39m),\n",
       "        \u001b[33mWeighted\u001b[39m(\u001b[32m(@a : B) ↦ (@a : (B → B)) ↦ A\u001b[39m, \u001b[32m4.042915839689454E-5\u001b[39m),\n",
       "        \u001b[33mWeighted\u001b[39m(\u001b[32m(@a : (A → A)) ↦ (@a : B) ↦ @a\u001b[39m, \u001b[32m4.843866852721956E-5\u001b[39m),\n",
       "        \u001b[33mWeighted\u001b[39m(\u001b[32m(@a : (B → A)) ↦ (@a : B) ↦ @a\u001b[39m, \u001b[32m4.843866852721956E-5\u001b[39m),\n",
       "        \u001b[33mWeighted\u001b[39m(\u001b[32m(@a : B) ↦ (@a : (B → A)) ↦ @a\u001b[39m, \u001b[32m4.9505091914564746E-5\u001b[39m),\n",
       "        \u001b[33mWeighted\u001b[39m(\u001b[32m(@a : B) ↦ (@a : (A → A)) ↦ @a\u001b[39m, \u001b[32m4.9505091914564746E-5\u001b[39m),\n",
       "...\u001b[39m"
      ]
     },
     "metadata": {},
     "output_type": "display_data"
    }
   ],
   "source": [
    "val nsT1 = lp1.nextState\n",
    "val nsF1 = nsT1.runToFuture"
   ]
  },
  {
   "cell_type": "code",
   "execution_count": 24,
   "metadata": {},
   "outputs": [
    {
     "data": {
      "text/html": [
       "<div class=\"jp-RenderedText\">\n",
       "<pre><code><span style=\"color: rgb(0, 187, 187)\"><span class=\"ansi-cyan-fg\">evT1</span></span>: <span style=\"color: rgb(0, 187, 0)\"><span class=\"ansi-green-fg\">monix</span></span>.<span style=\"color: rgb(0, 187, 0)\"><span class=\"ansi-green-fg\">eval</span></span>.<span style=\"color: rgb(0, 187, 0)\"><span class=\"ansi-green-fg\">Task</span></span>[<span style=\"color: rgb(0, 187, 0)\"><span class=\"ansi-green-fg\">ExpressionEval</span></span>] = <span style=\"color: yellow\"><span class=\"ansi-yellow-fg\">Async</span></span>(&lt;function2&gt;, false, true, true)\n",
       "<span style=\"color: rgb(0, 187, 187)\"><span class=\"ansi-cyan-fg\">res23_1</span></span>: <span style=\"color: rgb(0, 187, 0)\"><span class=\"ansi-green-fg\">monix</span></span>.<span style=\"color: rgb(0, 187, 0)\"><span class=\"ansi-green-fg\">execution</span></span>.<span style=\"color: rgb(0, 187, 0)\"><span class=\"ansi-green-fg\">CancelableFuture</span></span>[<span style=\"color: rgb(0, 187, 0)\"><span class=\"ansi-green-fg\">Double</span></span>] = <span style=\"color: rgb(0, 187, 0)\"><span class=\"ansi-green-fg\"><style>@keyframes fadein { from { opacity: 0; } to { opacity: 1; } }</style><span style=\"animation: fadein 2s;\"><span style=\"color: yellow\"><span class=\"ansi-yellow-fg\">Success</span></span>(<span style=\"color: rgb(0, 187, 0)\"><span class=\"ansi-green-fg\">0.0013723028024069874</span></span>)</span></span></span></code></pre>\n",
       "</div>"
      ],
      "text/plain": [
       "\u001b[36mevT1\u001b[39m: \u001b[32mmonix\u001b[39m.\u001b[32meval\u001b[39m.\u001b[32mTask\u001b[39m[\u001b[32mExpressionEval\u001b[39m] = \u001b[33mAsync\u001b[39m(<function2>, false, true, true)\n",
       "\u001b[36mres23_1\u001b[39m: \u001b[32mmonix\u001b[39m.\u001b[32mexecution\u001b[39m.\u001b[32mCancelableFuture\u001b[39m[\u001b[32mDouble\u001b[39m] = \u001b[32m\u001b[33mSuccess\u001b[39m(\u001b[32m0.0013723028024069874\u001b[39m)\u001b[39m"
      ]
     },
     "metadata": {},
     "output_type": "display_data"
    }
   ],
   "source": [
    "val evT1 = lp1.expressionEval\n",
    "evT1.map(_.finalTyps(MP)).runToFuture"
   ]
  },
  {
   "cell_type": "code",
   "execution_count": 26,
   "metadata": {},
   "outputs": [
    {
     "data": {
      "text/html": [
       "<div class=\"jp-RenderedText\">\n",
       "<pre><code><span style=\"color: rgb(0, 187, 187)\"><span class=\"ansi-cyan-fg\">res25</span></span>: <span style=\"color: rgb(0, 187, 0)\"><span class=\"ansi-green-fg\">monix</span></span>.<span style=\"color: rgb(0, 187, 0)\"><span class=\"ansi-green-fg\">execution</span></span>.<span style=\"color: rgb(0, 187, 0)\"><span class=\"ansi-green-fg\">CancelableFuture</span></span>[<span style=\"color: rgb(0, 187, 0)\"><span class=\"ansi-green-fg\">Vector</span></span>[<span style=\"color: rgb(0, 187, 0)\"><span class=\"ansi-green-fg\">Weighted</span></span>[<span style=\"color: rgb(0, 187, 0)\"><span class=\"ansi-green-fg\">Typ</span></span>[<span style=\"color: rgb(0, 187, 0)\"><span class=\"ansi-green-fg\">Term</span></span>]]]] = <span style=\"color: rgb(0, 187, 0)\"><span class=\"ansi-green-fg\"><style>@keyframes fadein { from { opacity: 0; } to { opacity: 1; } }</style><span style=\"animation: fadein 2s;\"><span style=\"color: yellow\"><span class=\"ansi-yellow-fg\">Success</span></span>(\n",
       "  <span style=\"color: yellow\"><span class=\"ansi-yellow-fg\">Vector</span></span>(\n",
       "    <span style=\"color: yellow\"><span class=\"ansi-yellow-fg\">Weighted</span></span>(<span style=\"color: rgb(0, 187, 0)\"><span class=\"ansi-green-fg\">(𝒰  → ∏(B : 𝒰 ){ B })</span></span>, <span style=\"color: rgb(0, 187, 0)\"><span class=\"ansi-green-fg\">1.00868434330881</span></span>),\n",
       "    <span style=\"color: yellow\"><span class=\"ansi-yellow-fg\">Weighted</span></span>(<span style=\"color: rgb(0, 187, 0)\"><span class=\"ansi-green-fg\">(𝒰  → ∏(B : 𝒰 ){ (B → B) })</span></span>, <span style=\"color: rgb(0, 187, 0)\"><span class=\"ansi-green-fg\">4.53148909133723</span></span>),\n",
       "    <span style=\"color: yellow\"><span class=\"ansi-yellow-fg\">Weighted</span></span>(<span style=\"color: rgb(0, 187, 0)\"><span class=\"ansi-green-fg\">∏(A : 𝒰 ){ ∏(B : 𝒰 ){ (A → B) } }</span></span>, <span style=\"color: rgb(0, 187, 0)\"><span class=\"ansi-green-fg\">4.708679182796788</span></span>),\n",
       "    <span style=\"color: yellow\"><span class=\"ansi-yellow-fg\">Weighted</span></span>(<span style=\"color: rgb(0, 187, 0)\"><span class=\"ansi-green-fg\">(𝒰  → ∏(B : 𝒰 ){ ((B → B) → B) })</span></span>, <span style=\"color: rgb(0, 187, 0)\"><span class=\"ansi-green-fg\">5.662679983584427</span></span>),\n",
       "    <span style=\"color: yellow\"><span class=\"ansi-yellow-fg\">Weighted</span></span>(<span style=\"color: rgb(0, 187, 0)\"><span class=\"ansi-green-fg\">∏(A : 𝒰 ){ ∏(B : 𝒰 ){ ((A → B) → B) } }</span></span>, <span style=\"color: rgb(0, 187, 0)\"><span class=\"ansi-green-fg\">5.664364526122651</span></span>),\n",
       "    <span style=\"color: yellow\"><span class=\"ansi-yellow-fg\">Weighted</span></span>(<span style=\"color: rgb(0, 187, 0)\"><span class=\"ansi-green-fg\">(𝒰  → ∏(B : 𝒰 ){ (((B → B) → B) → B) })</span></span>, <span style=\"color: rgb(0, 187, 0)\"><span class=\"ansi-green-fg\">5.670615518176365</span></span>),\n",
       "    <span style=\"color: yellow\"><span class=\"ansi-yellow-fg\">Weighted</span></span>(<span style=\"color: rgb(0, 187, 0)\"><span class=\"ansi-green-fg\">∏(A : 𝒰 ){ ∏(B : 𝒰 ){ (((A → B) → B) → B) } }</span></span>, <span style=\"color: rgb(0, 187, 0)\"><span class=\"ansi-green-fg\">5.670623121152982</span></span>),\n",
       "    <span style=\"color: yellow\"><span class=\"ansi-yellow-fg\">Weighted</span></span>(<span style=\"color: rgb(0, 187, 0)\"><span class=\"ansi-green-fg\">∏(A : 𝒰 ){ ∏(B : 𝒰 ){ (((B → A) → B) → B) } }</span></span>, <span style=\"color: rgb(0, 187, 0)\"><span class=\"ansi-green-fg\">5.670682100050445</span></span>),\n",
       "    <span style=\"color: yellow\"><span class=\"ansi-yellow-fg\">Weighted</span></span>(<span style=\"color: rgb(0, 187, 0)\"><span class=\"ansi-green-fg\">∏(A : 𝒰 ){ ∏(B : 𝒰 ){ (((A → A) → B) → B) } }</span></span>, <span style=\"color: rgb(0, 187, 0)\"><span class=\"ansi-green-fg\">5.670682100050445</span></span>),\n",
       "    <span style=\"color: yellow\"><span class=\"ansi-yellow-fg\">Weighted</span></span>(<span style=\"color: rgb(0, 187, 0)\"><span class=\"ansi-green-fg\">(𝒰  → ∏(B : 𝒰 ){ ((B → (B → B)) → B) })</span></span>, <span style=\"color: rgb(0, 187, 0)\"><span class=\"ansi-green-fg\">5.676689516357864</span></span>),\n",
       "    <span style=\"color: yellow\"><span class=\"ansi-yellow-fg\">Weighted</span></span>(<span style=\"color: rgb(0, 187, 0)\"><span class=\"ansi-green-fg\">∏(A : 𝒰 ){ ∏(B : 𝒰 ){ ((B → (A → B)) → B) } }</span></span>, <span style=\"color: rgb(0, 187, 0)\"><span class=\"ansi-green-fg\">5.676739040228539</span></span>),\n",
       "    <span style=\"color: yellow\"><span class=\"ansi-yellow-fg\">Weighted</span></span>(\n",
       "      <span style=\"color: rgb(0, 187, 0)\"><span class=\"ansi-green-fg\">∏(A : 𝒰 ){ ∏(B : 𝒰 ){ ((A → (B → B)) → B) } }</span></span>,\n",
       "      <span style=\"color: rgb(0, 187, 0)\"><span class=\"ansi-green-fg\">5.6767542234622805</span></span>\n",
       "    ),\n",
       "    <span style=\"color: yellow\"><span class=\"ansi-yellow-fg\">Weighted</span></span>(<span style=\"color: rgb(0, 187, 0)\"><span class=\"ansi-green-fg\">∏(A : 𝒰 ){ ∏(B : 𝒰 ){ ((A → (A → B)) → B) } }</span></span>, <span style=\"color: rgb(0, 187, 0)\"><span class=\"ansi-green-fg\">5.676798320488374</span></span>),\n",
       "    <span style=\"color: yellow\"><span class=\"ansi-yellow-fg\">Weighted</span></span>(<span style=\"color: rgb(0, 187, 0)\"><span class=\"ansi-green-fg\">∏(A : 𝒰 ){ ∏(B : 𝒰 ){ (((B → B) → A) → B) } }</span></span>, <span style=\"color: rgb(0, 187, 0)\"><span class=\"ansi-green-fg\">5.677256930084318</span></span>),\n",
       "    <span style=\"color: yellow\"><span class=\"ansi-yellow-fg\">Weighted</span></span>(<span style=\"color: rgb(0, 187, 0)\"><span class=\"ansi-green-fg\">∏(A : 𝒰 ){ ∏(B : 𝒰 ){ ((A → A) → B) } }</span></span>, <span style=\"color: rgb(0, 187, 0)\"><span class=\"ansi-green-fg\">5.677256930084318</span></span>),\n",
       "    <span style=\"color: yellow\"><span class=\"ansi-yellow-fg\">Weighted</span></span>(<span style=\"color: rgb(0, 187, 0)\"><span class=\"ansi-green-fg\">∏(A : 𝒰 ){ ∏(B : 𝒰 ){ ((B → A) → B) } }</span></span>, <span style=\"color: rgb(0, 187, 0)\"><span class=\"ansi-green-fg\">5.677256930084318</span></span>),\n",
       "    <span style=\"color: yellow\"><span class=\"ansi-yellow-fg\">Weighted</span></span>(<span style=\"color: rgb(0, 187, 0)\"><span class=\"ansi-green-fg\">∏(A : 𝒰 ){ ∏(B : 𝒰 ){ (((B → A) → A) → B) } }</span></span>, <span style=\"color: rgb(0, 187, 0)\"><span class=\"ansi-green-fg\">5.677256930084318</span></span>),\n",
       "    <span style=\"color: yellow\"><span class=\"ansi-yellow-fg\">Weighted</span></span>(<span style=\"color: rgb(0, 187, 0)\"><span class=\"ansi-green-fg\">∏(A : 𝒰 ){ ∏(B : 𝒰 ){ (((A → A) → A) → B) } }</span></span>, <span style=\"color: rgb(0, 187, 0)\"><span class=\"ansi-green-fg\">5.677256930084318</span></span>),\n",
       "    <span style=\"color: yellow\"><span class=\"ansi-yellow-fg\">Weighted</span></span>(<span style=\"color: rgb(0, 187, 0)\"><span class=\"ansi-green-fg\">∏(A : 𝒰 ){ ∏(B : 𝒰 ){ (((A → B) → A) → B) } }</span></span>, <span style=\"color: rgb(0, 187, 0)\"><span class=\"ansi-green-fg\">5.677256930084318</span></span>),\n",
       "    <span style=\"color: yellow\"><span class=\"ansi-yellow-fg\">Weighted</span></span>(<span style=\"color: rgb(0, 187, 0)\"><span class=\"ansi-green-fg\">∏(A : 𝒰 ){ ∏(B : 𝒰 ){ ((B → (B → A)) → B) } }</span></span>, <span style=\"color: rgb(0, 187, 0)\"><span class=\"ansi-green-fg\">5.677256930084318</span></span>),\n",
       "    <span style=\"color: yellow\"><span class=\"ansi-yellow-fg\">Weighted</span></span>(<span style=\"color: rgb(0, 187, 0)\"><span class=\"ansi-green-fg\">∏(A : 𝒰 ){ ∏(B : 𝒰 ){ ((B → (A → A)) → B) } }</span></span>, <span style=\"color: rgb(0, 187, 0)\"><span class=\"ansi-green-fg\">5.677256930084318</span></span>),\n",
       "    <span style=\"color: yellow\"><span class=\"ansi-yellow-fg\">Weighted</span></span>(<span style=\"color: rgb(0, 187, 0)\"><span class=\"ansi-green-fg\">∏(A : 𝒰 ){ ∏(B : 𝒰 ){ ((A → (A → A)) → B) } }</span></span>, <span style=\"color: rgb(0, 187, 0)\"><span class=\"ansi-green-fg\">5.677256930084318</span></span>),\n",
       "...</span></span></span></code></pre>\n",
       "</div>"
      ],
      "text/plain": [
       "\u001b[36mres25\u001b[39m: \u001b[32mmonix\u001b[39m.\u001b[32mexecution\u001b[39m.\u001b[32mCancelableFuture\u001b[39m[\u001b[32mVector\u001b[39m[\u001b[32mWeighted\u001b[39m[\u001b[32mTyp\u001b[39m[\u001b[32mTerm\u001b[39m]]]] = \u001b[32m\u001b[33mSuccess\u001b[39m(\n",
       "  \u001b[33mVector\u001b[39m(\n",
       "    \u001b[33mWeighted\u001b[39m(\u001b[32m(𝒰  → ∏(B : 𝒰 ){ B })\u001b[39m, \u001b[32m1.00868434330881\u001b[39m),\n",
       "    \u001b[33mWeighted\u001b[39m(\u001b[32m(𝒰  → ∏(B : 𝒰 ){ (B → B) })\u001b[39m, \u001b[32m4.53148909133723\u001b[39m),\n",
       "    \u001b[33mWeighted\u001b[39m(\u001b[32m∏(A : 𝒰 ){ ∏(B : 𝒰 ){ (A → B) } }\u001b[39m, \u001b[32m4.708679182796788\u001b[39m),\n",
       "    \u001b[33mWeighted\u001b[39m(\u001b[32m(𝒰  → ∏(B : 𝒰 ){ ((B → B) → B) })\u001b[39m, \u001b[32m5.662679983584427\u001b[39m),\n",
       "    \u001b[33mWeighted\u001b[39m(\u001b[32m∏(A : 𝒰 ){ ∏(B : 𝒰 ){ ((A → B) → B) } }\u001b[39m, \u001b[32m5.664364526122651\u001b[39m),\n",
       "    \u001b[33mWeighted\u001b[39m(\u001b[32m(𝒰  → ∏(B : 𝒰 ){ (((B → B) → B) → B) })\u001b[39m, \u001b[32m5.670615518176365\u001b[39m),\n",
       "    \u001b[33mWeighted\u001b[39m(\u001b[32m∏(A : 𝒰 ){ ∏(B : 𝒰 ){ (((A → B) → B) → B) } }\u001b[39m, \u001b[32m5.670623121152982\u001b[39m),\n",
       "    \u001b[33mWeighted\u001b[39m(\u001b[32m∏(A : 𝒰 ){ ∏(B : 𝒰 ){ (((B → A) → B) → B) } }\u001b[39m, \u001b[32m5.670682100050445\u001b[39m),\n",
       "    \u001b[33mWeighted\u001b[39m(\u001b[32m∏(A : 𝒰 ){ ∏(B : 𝒰 ){ (((A → A) → B) → B) } }\u001b[39m, \u001b[32m5.670682100050445\u001b[39m),\n",
       "    \u001b[33mWeighted\u001b[39m(\u001b[32m(𝒰  → ∏(B : 𝒰 ){ ((B → (B → B)) → B) })\u001b[39m, \u001b[32m5.676689516357864\u001b[39m),\n",
       "    \u001b[33mWeighted\u001b[39m(\u001b[32m∏(A : 𝒰 ){ ∏(B : 𝒰 ){ ((B → (A → B)) → B) } }\u001b[39m, \u001b[32m5.676739040228539\u001b[39m),\n",
       "    \u001b[33mWeighted\u001b[39m(\n",
       "      \u001b[32m∏(A : 𝒰 ){ ∏(B : 𝒰 ){ ((A → (B → B)) → B) } }\u001b[39m,\n",
       "      \u001b[32m5.6767542234622805\u001b[39m\n",
       "    ),\n",
       "    \u001b[33mWeighted\u001b[39m(\u001b[32m∏(A : 𝒰 ){ ∏(B : 𝒰 ){ ((A → (A → B)) → B) } }\u001b[39m, \u001b[32m5.676798320488374\u001b[39m),\n",
       "    \u001b[33mWeighted\u001b[39m(\u001b[32m∏(A : 𝒰 ){ ∏(B : 𝒰 ){ (((B → B) → A) → B) } }\u001b[39m, \u001b[32m5.677256930084318\u001b[39m),\n",
       "    \u001b[33mWeighted\u001b[39m(\u001b[32m∏(A : 𝒰 ){ ∏(B : 𝒰 ){ ((A → A) → B) } }\u001b[39m, \u001b[32m5.677256930084318\u001b[39m),\n",
       "    \u001b[33mWeighted\u001b[39m(\u001b[32m∏(A : 𝒰 ){ ∏(B : 𝒰 ){ ((B → A) → B) } }\u001b[39m, \u001b[32m5.677256930084318\u001b[39m),\n",
       "    \u001b[33mWeighted\u001b[39m(\u001b[32m∏(A : 𝒰 ){ ∏(B : 𝒰 ){ (((B → A) → A) → B) } }\u001b[39m, \u001b[32m5.677256930084318\u001b[39m),\n",
       "    \u001b[33mWeighted\u001b[39m(\u001b[32m∏(A : 𝒰 ){ ∏(B : 𝒰 ){ (((A → A) → A) → B) } }\u001b[39m, \u001b[32m5.677256930084318\u001b[39m),\n",
       "    \u001b[33mWeighted\u001b[39m(\u001b[32m∏(A : 𝒰 ){ ∏(B : 𝒰 ){ (((A → B) → A) → B) } }\u001b[39m, \u001b[32m5.677256930084318\u001b[39m),\n",
       "    \u001b[33mWeighted\u001b[39m(\u001b[32m∏(A : 𝒰 ){ ∏(B : 𝒰 ){ ((B → (B → A)) → B) } }\u001b[39m, \u001b[32m5.677256930084318\u001b[39m),\n",
       "    \u001b[33mWeighted\u001b[39m(\u001b[32m∏(A : 𝒰 ){ ∏(B : 𝒰 ){ ((B → (A → A)) → B) } }\u001b[39m, \u001b[32m5.677256930084318\u001b[39m),\n",
       "    \u001b[33mWeighted\u001b[39m(\u001b[32m∏(A : 𝒰 ){ ∏(B : 𝒰 ){ ((A → (A → A)) → B) } }\u001b[39m, \u001b[32m5.677256930084318\u001b[39m),\n",
       "...\u001b[39m"
      ]
     },
     "metadata": {},
     "output_type": "display_data"
    }
   ],
   "source": [
    "evT1.map(_.finalTyps.entropyVec).runToFuture"
   ]
  },
  {
   "cell_type": "code",
   "execution_count": 25,
   "metadata": {},
   "outputs": [
    {
     "data": {
      "text/html": [
       "<div class=\"jp-RenderedText\">\n",
       "<pre><code><span style=\"color: rgb(0, 187, 187)\"><span class=\"ansi-cyan-fg\">res24</span></span>: <span style=\"color: rgb(0, 187, 0)\"><span class=\"ansi-green-fg\">monix</span></span>.<span style=\"color: rgb(0, 187, 0)\"><span class=\"ansi-green-fg\">execution</span></span>.<span style=\"color: rgb(0, 187, 0)\"><span class=\"ansi-green-fg\">CancelableFuture</span></span>[<span style=\"color: rgb(0, 187, 0)\"><span class=\"ansi-green-fg\">Double</span></span>] = <span style=\"color: rgb(0, 187, 0)\"><span class=\"ansi-green-fg\"><span style=\"color: yellow\"><span class=\"ansi-yellow-fg\">Success</span></span>(<span style=\"color: rgb(0, 187, 0)\"><span class=\"ansi-green-fg\">9.509185433376482</span></span>)</span></span></code></pre>\n",
       "</div>"
      ],
      "text/plain": [
       "\u001b[36mres24\u001b[39m: \u001b[32mmonix\u001b[39m.\u001b[32mexecution\u001b[39m.\u001b[32mCancelableFuture\u001b[39m[\u001b[32mDouble\u001b[39m] = \u001b[32m\u001b[33mSuccess\u001b[39m(\u001b[32m9.509185433376482\u001b[39m)\u001b[39m"
      ]
     },
     "metadata": {},
     "output_type": "display_data"
    }
   ],
   "source": [
    "evT1.map(_.finalTyps.entropy(MP)).runToFuture"
   ]
  },
  {
   "cell_type": "code",
   "execution_count": 27,
   "metadata": {},
   "outputs": [
    {
     "data": {
      "text/html": [
       "<div class=\"jp-RenderedText\">\n",
       "<pre><code><span style=\"color: rgb(0, 187, 187)\"><span class=\"ansi-cyan-fg\">res26</span></span>: <span style=\"color: rgb(0, 187, 0)\"><span class=\"ansi-green-fg\">monix</span></span>.<span style=\"color: rgb(0, 187, 0)\"><span class=\"ansi-green-fg\">execution</span></span>.<span style=\"color: rgb(0, 187, 0)\"><span class=\"ansi-green-fg\">CancelableFuture</span></span>[<span style=\"color: rgb(0, 187, 0)\"><span class=\"ansi-green-fg\">FiniteDistribution</span></span>[<span style=\"color: rgb(0, 187, 0)\"><span class=\"ansi-green-fg\">Term</span></span>]] = <span style=\"color: rgb(0, 187, 0)\"><span class=\"ansi-green-fg\"><span style=\"color: yellow\"><span class=\"ansi-yellow-fg\">Success</span></span>(<span style=\"color: yellow\"><span class=\"ansi-yellow-fg\">FiniteDistribution</span></span>(<span style=\"color: yellow\"><span class=\"ansi-yellow-fg\">Vector</span></span>()))</span></span></code></pre>\n",
       "</div>"
      ],
      "text/plain": [
       "\u001b[36mres26\u001b[39m: \u001b[32mmonix\u001b[39m.\u001b[32mexecution\u001b[39m.\u001b[32mCancelableFuture\u001b[39m[\u001b[32mFiniteDistribution\u001b[39m[\u001b[32mTerm\u001b[39m]] = \u001b[32m\u001b[33mSuccess\u001b[39m(\u001b[33mFiniteDistribution\u001b[39m(\u001b[33mVector\u001b[39m()))\u001b[39m"
      ]
     },
     "metadata": {},
     "output_type": "display_data"
    }
   ],
   "source": [
    "evT1.map(_.finalTerms.filter(_.typ == MP)).runToFuture"
   ]
  },
  {
   "cell_type": "markdown",
   "metadata": {},
   "source": [
    "## Conclusions round two\n",
    "\n",
    "* The generation of the modus ponens statement is a litte more robust if sigma-islands (hence products) are excluded.\n",
    "* We still do not get a proof of Modus Ponens if it is not targetted."
   ]
  }
 ],
 "metadata": {
  "kernelspec": {
   "display_name": "Scala",
   "language": "scala",
   "name": "scala"
  },
  "language_info": {
   "codemirror_mode": "text/x-scala",
   "file_extension": ".scala",
   "mimetype": "text/x-scala",
   "name": "scala",
   "nbconvert_exporter": "script",
   "version": "2.12.8"
  }
 },
 "nbformat": 4,
 "nbformat_minor": 2
}
