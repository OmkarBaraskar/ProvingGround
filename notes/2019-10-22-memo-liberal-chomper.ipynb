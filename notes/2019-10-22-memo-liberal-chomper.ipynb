{
 "cells": [
  {
   "cell_type": "markdown",
   "metadata": {},
   "source": [
    "## Memoized Liberal goal chomping\n",
    "\n",
    "* We run a variant of the most basic strategic prover - a goal chomper that keeps trying a succession of goals.\n",
    "* The change from the last time is that terms are remembered and looked up.\n",
    "* Termination is when all goals are finished; with failures recorded.\n",
    "* Proving is only by generation, with the generation including backward reasoning rules.\n",
    "* So far the goal chomper is untested; we test this.\n",
    "* We also test updating displays etc.\n"
   ]
  },
  {
   "cell_type": "code",
   "execution_count": 1,
   "metadata": {},
   "outputs": [
    {
     "data": {
      "text/plain": [
       "\u001b[32mimport \u001b[39m\u001b[36m$cp.$                                              \n",
       "\u001b[39m\n",
       "\u001b[32mimport \u001b[39m\u001b[36mprovingground._ , interface._, HoTT._, learning._ \n",
       "\u001b[39m"
      ]
     },
     "execution_count": 1,
     "metadata": {},
     "output_type": "execute_result"
    }
   ],
   "source": [
    "import $cp.bin.`provingground-core-jvm-c665e0185a.fat.jar`\n",
    "import provingground._ , interface._, HoTT._, learning._ \n",
    "repl.pprinter() = {\n",
    "  val p = repl.pprinter()\n",
    "  p.copy(\n",
    "    additionalHandlers = p.additionalHandlers.orElse {\n",
    "      translation.FansiShow.fansiHandler\n",
    "    }\n",
    "  )\n",
    "}\n"
   ]
  },
  {
   "cell_type": "code",
   "execution_count": 2,
   "metadata": {},
   "outputs": [
    {
     "data": {
      "text/plain": [
       "\u001b[36mterms\u001b[39m: \u001b[32mFiniteDistribution\u001b[39m[\u001b[32mTerm\u001b[39m] = \u001b[33mFiniteDistribution\u001b[39m(\n",
       "  \u001b[33mVector\u001b[39m(\n",
       "    \u001b[33mWeighted\u001b[39m(\u001b[32mUnit\u001b[39m, \u001b[32m0.3333333333333333\u001b[39m),\n",
       "    \u001b[33mWeighted\u001b[39m(\u001b[32mZero\u001b[39m, \u001b[32m0.3333333333333333\u001b[39m),\n",
       "    \u001b[33mWeighted\u001b[39m(\u001b[32mStar\u001b[39m, \u001b[32m0.3333333333333333\u001b[39m)\n",
       "  )\n",
       ")\n",
       "\u001b[36mtyps\u001b[39m: \u001b[32mFiniteDistribution\u001b[39m[\u001b[32mTyp\u001b[39m[\u001b[32mTerm\u001b[39m]] = \u001b[33mFiniteDistribution\u001b[39m(\n",
       "  \u001b[33mVector\u001b[39m(\n",
       "    \u001b[33mWeighted\u001b[39m(\u001b[32m𝒰 \u001b[39m, \u001b[32m0.3333333333333333\u001b[39m),\n",
       "    \u001b[33mWeighted\u001b[39m(\u001b[32mUnit\u001b[39m, \u001b[32m0.3333333333333333\u001b[39m),\n",
       "    \u001b[33mWeighted\u001b[39m(\u001b[32mZero\u001b[39m, \u001b[32m0.3333333333333333\u001b[39m)\n",
       "  )\n",
       ")\n",
       "\u001b[36mts\u001b[39m: \u001b[32mTermState\u001b[39m = \u001b[33mTermState\u001b[39m(\n",
       "  \u001b[33mFiniteDistribution\u001b[39m(\n",
       "    \u001b[33mVector\u001b[39m(\n",
       "      \u001b[33mWeighted\u001b[39m(\u001b[32mUnit\u001b[39m, \u001b[32m0.3333333333333333\u001b[39m),\n",
       "      \u001b[33mWeighted\u001b[39m(\u001b[32mZero\u001b[39m, \u001b[32m0.3333333333333333\u001b[39m),\n",
       "      \u001b[33mWeighted\u001b[39m(\u001b[32mStar\u001b[39m, \u001b[32m0.3333333333333333\u001b[39m)\n",
       "    )\n",
       "  ),\n",
       "  \u001b[33mFiniteDistribution\u001b[39m(\n",
       "    \u001b[33mVector\u001b[39m(\n",
       "      \u001b[33mWeighted\u001b[39m(\u001b[32m𝒰 \u001b[39m, \u001b[32m0.3333333333333333\u001b[39m),\n",
       "      \u001b[33mWeighted\u001b[39m(\u001b[32mUnit\u001b[39m, \u001b[32m0.3333333333333333\u001b[39m),\n",
       "      \u001b[33mWeighted\u001b[39m(\u001b[32mZero\u001b[39m, \u001b[32m0.3333333333333333\u001b[39m)\n",
       "    )\n",
       "  ),\n",
       "  \u001b[33mVector\u001b[39m(),\n",
       "  \u001b[33mFiniteDistribution\u001b[39m(\u001b[33mVector\u001b[39m()),\n",
       "  \u001b[33mFiniteDistribution\u001b[39m(\u001b[33mVector\u001b[39m()),\n",
       "  Empty\n",
       ")\n",
       "\u001b[36mts0\u001b[39m: \u001b[32mTermState\u001b[39m = \u001b[33mTermState\u001b[39m(\n",
       "  \u001b[33mFiniteDistribution\u001b[39m(\u001b[33mVector\u001b[39m()),\n",
       "  \u001b[33mFiniteDistribution\u001b[39m(\u001b[33mVector\u001b[39m(\u001b[33mWeighted\u001b[39m(\u001b[32m𝒰 \u001b[39m, \u001b[32m1.0\u001b[39m))),\n",
       "  \u001b[33mVector\u001b[39m(),\n",
       "  \u001b[33mFiniteDistribution\u001b[39m(\u001b[33mVector\u001b[39m()),\n",
       "  \u001b[33mFiniteDistribution\u001b[39m(\u001b[33mVector\u001b[39m()),\n",
       "  Empty\n",
       ")\n",
       "\u001b[36mtg\u001b[39m: \u001b[32mTermGenParams\u001b[39m = \u001b[33mTermGenParams\u001b[39m(\n",
       "  \u001b[32m0.1\u001b[39m,\n",
       "  \u001b[32m0.1\u001b[39m,\n",
       "  \u001b[32m0.1\u001b[39m,\n",
       "  \u001b[32m0.1\u001b[39m,\n",
       "  \u001b[32m0.1\u001b[39m,\n",
       "  \u001b[32m0.05\u001b[39m,\n",
       "  \u001b[32m0.05\u001b[39m,\n",
       "  \u001b[32m0.05\u001b[39m,\n",
       "  \u001b[32m0.0\u001b[39m,\n",
       "  \u001b[32m0.0\u001b[39m,\n",
       "  \u001b[32m0.0\u001b[39m,\n",
       "  \u001b[32m0.0\u001b[39m,\n",
       "  \u001b[32m0.3\u001b[39m,\n",
       "  \u001b[32m0.7\u001b[39m,\n",
       "  \u001b[32m0.5\u001b[39m,\n",
       "  \u001b[32m0.0\u001b[39m,\n",
       "  \u001b[32m0.05\u001b[39m,\n",
       "  \u001b[32m0.0\u001b[39m,\n",
       "  \u001b[33mOrElse\u001b[39m(\n",
       "    \u001b[33mOrElse\u001b[39m(\u001b[33mOrElse\u001b[39m(\u001b[33mOrElse\u001b[39m(<function1>, <function1>), <function1>), <function1>),\n",
       "    <function1>\n",
       "  )\n",
       ")"
      ]
     },
     "execution_count": 2,
     "metadata": {},
     "output_type": "execute_result"
    }
   ],
   "source": [
    "val terms = FiniteDistribution.unif[Term](Unit, Zero, Star)\n",
    "val typs = FiniteDistribution.unif[Typ[Term]](Type, Unit, Zero)\n",
    "val ts = TermState(terms, typs)\n",
    "val ts0 = TermState(FiniteDistribution(), FiniteDistribution.unif(Type))\n",
    "val tg = TermGenParams(solverW = 0.05)"
   ]
  },
  {
   "cell_type": "code",
   "execution_count": 3,
   "metadata": {},
   "outputs": [
    {
     "data": {
      "text/plain": [
       "\u001b[32mimport \u001b[39m\u001b[36mmonix.execution.Scheduler.Implicits.global\n",
       "\u001b[39m\n",
       "\u001b[36mlp\u001b[39m: \u001b[32mLocalProver\u001b[39m = \u001b[33mLocalProver\u001b[39m(\n",
       "  \u001b[33mTermState\u001b[39m(\n",
       "    \u001b[33mFiniteDistribution\u001b[39m(\n",
       "      \u001b[33mVector\u001b[39m(\n",
       "        \u001b[33mWeighted\u001b[39m(\u001b[32mUnit\u001b[39m, \u001b[32m0.3333333333333333\u001b[39m),\n",
       "        \u001b[33mWeighted\u001b[39m(\u001b[32mZero\u001b[39m, \u001b[32m0.3333333333333333\u001b[39m),\n",
       "        \u001b[33mWeighted\u001b[39m(\u001b[32mStar\u001b[39m, \u001b[32m0.3333333333333333\u001b[39m)\n",
       "      )\n",
       "    ),\n",
       "    \u001b[33mFiniteDistribution\u001b[39m(\n",
       "      \u001b[33mVector\u001b[39m(\n",
       "        \u001b[33mWeighted\u001b[39m(\u001b[32m𝒰 \u001b[39m, \u001b[32m0.3333333333333333\u001b[39m),\n",
       "        \u001b[33mWeighted\u001b[39m(\u001b[32mUnit\u001b[39m, \u001b[32m0.3333333333333333\u001b[39m),\n",
       "        \u001b[33mWeighted\u001b[39m(\u001b[32mZero\u001b[39m, \u001b[32m0.3333333333333333\u001b[39m)\n",
       "      )\n",
       "    ),\n",
       "    \u001b[33mVector\u001b[39m(),\n",
       "    \u001b[33mFiniteDistribution\u001b[39m(\u001b[33mVector\u001b[39m()),\n",
       "    \u001b[33mFiniteDistribution\u001b[39m(\u001b[33mVector\u001b[39m()),\n",
       "    Empty\n",
       "  ),\n",
       "  \u001b[33mTermGenParams\u001b[39m(\n",
       "    \u001b[32m0.1\u001b[39m,\n",
       "    \u001b[32m0.1\u001b[39m,\n",
       "    \u001b[32m0.1\u001b[39m,\n",
       "    \u001b[32m0.1\u001b[39m,\n",
       "    \u001b[32m0.1\u001b[39m,\n",
       "    \u001b[32m0.05\u001b[39m,\n",
       "    \u001b[32m0.05\u001b[39m,\n",
       "    \u001b[32m0.05\u001b[39m,\n",
       "    \u001b[32m0.0\u001b[39m,\n",
       "    \u001b[32m0.0\u001b[39m,\n",
       "    \u001b[32m0.0\u001b[39m,\n",
       "    \u001b[32m0.0\u001b[39m,\n",
       "    \u001b[32m0.3\u001b[39m,\n",
       "    \u001b[32m0.7\u001b[39m,\n",
       "    \u001b[32m0.5\u001b[39m,\n",
       "    \u001b[32m0.0\u001b[39m,\n",
       "    \u001b[32m0.05\u001b[39m,\n",
       "...\n",
       "\u001b[36mlp0\u001b[39m: \u001b[32mLocalProver\u001b[39m = \u001b[33mLocalProver\u001b[39m(\n",
       "  \u001b[33mTermState\u001b[39m(\n",
       "    \u001b[33mFiniteDistribution\u001b[39m(\u001b[33mVector\u001b[39m()),\n",
       "    \u001b[33mFiniteDistribution\u001b[39m(\u001b[33mVector\u001b[39m(\u001b[33mWeighted\u001b[39m(\u001b[32m𝒰 \u001b[39m, \u001b[32m1.0\u001b[39m))),\n",
       "    \u001b[33mVector\u001b[39m(),\n",
       "    \u001b[33mFiniteDistribution\u001b[39m(\u001b[33mVector\u001b[39m()),\n",
       "    \u001b[33mFiniteDistribution\u001b[39m(\u001b[33mVector\u001b[39m()),\n",
       "    Empty\n",
       "  ),\n",
       "  \u001b[33mTermGenParams\u001b[39m(\n",
       "    \u001b[32m0.1\u001b[39m,\n",
       "    \u001b[32m0.1\u001b[39m,\n",
       "    \u001b[32m0.1\u001b[39m,\n",
       "    \u001b[32m0.1\u001b[39m,\n",
       "    \u001b[32m0.1\u001b[39m,\n",
       "    \u001b[32m0.05\u001b[39m,\n",
       "    \u001b[32m0.05\u001b[39m,\n",
       "    \u001b[32m0.05\u001b[39m,\n",
       "    \u001b[32m0.0\u001b[39m,\n",
       "    \u001b[32m0.0\u001b[39m,\n",
       "    \u001b[32m0.0\u001b[39m,\n",
       "    \u001b[32m0.0\u001b[39m,\n",
       "    \u001b[32m0.3\u001b[39m,\n",
       "    \u001b[32m0.7\u001b[39m,\n",
       "    \u001b[32m0.5\u001b[39m,\n",
       "    \u001b[32m0.0\u001b[39m,\n",
       "    \u001b[32m0.0\u001b[39m,\n",
       "    \u001b[32m0.0\u001b[39m,\n",
       "    \u001b[33mOrElse\u001b[39m(\n",
       "      \u001b[33mOrElse\u001b[39m(\u001b[33mOrElse\u001b[39m(\u001b[33mOrElse\u001b[39m(<function1>, <function1>), <function1>), <function1>),\n",
       "      <function1>\n",
       "    )\n",
       "  ),\n",
       "  \u001b[32m1.0E-5\u001b[39m,\n",
       "  12 minutes,\n",
       "  \u001b[32m1.01\u001b[39m,\n",
       "  \u001b[32m1.0\u001b[39m,\n",
       "  \u001b[32m10000\u001b[39m,\n",
       "..."
      ]
     },
     "execution_count": 3,
     "metadata": {},
     "output_type": "execute_result"
    }
   ],
   "source": [
    "import monix.execution.Scheduler.Implicits.global\n",
    "val lp = LocalProver(ts, tg).sharpen(10)\n",
    "val lp0 = LocalProver(ts0).sharpen(10)"
   ]
  },
  {
   "cell_type": "code",
   "execution_count": 4,
   "metadata": {},
   "outputs": [
    {
     "data": {
      "text/html": [
       "<div class=\"jp-RenderedText\">\n",
       "<pre><code><span style=\"color: rgb(0, 187, 187)\"><span class=\"ansi-cyan-fg\">unknownsT</span></span>: <span style=\"color: rgb(0, 187, 0)\"><span class=\"ansi-green-fg\">monix</span></span>.<span style=\"color: rgb(0, 187, 0)\"><span class=\"ansi-green-fg\">eval</span></span>.<span style=\"color: rgb(0, 187, 0)\"><span class=\"ansi-green-fg\">Task</span></span>[<span style=\"color: rgb(0, 187, 0)\"><span class=\"ansi-green-fg\">Vector</span></span>[<span style=\"color: rgb(0, 187, 0)\"><span class=\"ansi-green-fg\">Typ</span></span>[<span style=\"color: rgb(0, 187, 0)\"><span class=\"ansi-green-fg\">Term</span></span>]]] = <span style=\"color: yellow\"><span class=\"ansi-yellow-fg\">Async</span></span>(\n",
       "  &lt;function2&gt;,\n",
       "  false,\n",
       "  true,\n",
       "  true\n",
       ")\n",
       "<span style=\"color: rgb(0, 187, 187)\"><span class=\"ansi-cyan-fg\">unF</span></span>: <span style=\"color: rgb(0, 187, 0)\"><span class=\"ansi-green-fg\">monix</span></span>.<span style=\"color: rgb(0, 187, 0)\"><span class=\"ansi-green-fg\">execution</span></span>.<span style=\"color: rgb(0, 187, 0)\"><span class=\"ansi-green-fg\">CancelableFuture</span></span>[<span style=\"color: rgb(0, 187, 0)\"><span class=\"ansi-green-fg\">Vector</span></span>[<span style=\"color: rgb(0, 187, 0)\"><span class=\"ansi-green-fg\">Typ</span></span>[<span style=\"color: rgb(0, 187, 0)\"><span class=\"ansi-green-fg\">Term</span></span>]]] = <span style=\"color: rgb(0, 187, 0)\"><span class=\"ansi-green-fg\"><style>@keyframes fadein { from { opacity: 0; } to { opacity: 1; } }</style><span style=\"animation: fadein 2s;\"><span style=\"color: yellow\"><span class=\"ansi-yellow-fg\">Success</span></span>(\n",
       "  <span style=\"color: yellow\"><span class=\"ansi-yellow-fg\">Vector</span></span>(\n",
       "    <span style=\"color: rgb(0, 187, 0)\"><span class=\"ansi-green-fg\">∏(@a : 𝒰 ){ @a }</span></span>,\n",
       "    <span style=\"color: rgb(0, 187, 0)\"><span class=\"ansi-green-fg\">∑(@a : { @a }</span></span>,\n",
       "    <span style=\"color: rgb(0, 187, 0)\"><span class=\"ansi-green-fg\">((𝒰  → 𝒰 ) → 𝒰 )</span></span>,\n",
       "    <span style=\"color: rgb(0, 187, 0)\"><span class=\"ansi-green-fg\">(𝒰 ×𝒰  → 𝒰 )</span></span>,\n",
       "    <span style=\"color: rgb(0, 187, 0)\"><span class=\"ansi-green-fg\">(𝒰  → ∏(@b : 𝒰 ){ @b })</span></span>,\n",
       "    <span style=\"color: rgb(0, 187, 0)\"><span class=\"ansi-green-fg\">(∏(@a : 𝒰 ){ @a } → 𝒰 )</span></span>,\n",
       "    <span style=\"color: rgb(0, 187, 0)\"><span class=\"ansi-green-fg\">(𝒰  → 𝒰 ×𝒰 )</span></span>,\n",
       "    <span style=\"color: rgb(0, 187, 0)\"><span class=\"ansi-green-fg\">∏(@a : 𝒰 ){ (𝒰  → @a) }</span></span>,\n",
       "    <span style=\"color: rgb(0, 187, 0)\"><span class=\"ansi-green-fg\">(∑(@a : { @a } → 𝒰 )</span></span>,\n",
       "    <span style=\"color: rgb(0, 187, 0)\"><span class=\"ansi-green-fg\">∑(@a : { (@a → 𝒰 ) }</span></span>,\n",
       "    <span style=\"color: rgb(0, 187, 0)\"><span class=\"ansi-green-fg\">∏(@a : 𝒰 ){ @a×𝒰  }</span></span>,\n",
       "    <span style=\"color: rgb(0, 187, 0)\"><span class=\"ansi-green-fg\">(𝒰  → ∑(@b : { @b })</span></span>,\n",
       "    <span style=\"color: rgb(0, 187, 0)\"><span class=\"ansi-green-fg\">∑(@a : { (𝒰  → @a) }</span></span>,\n",
       "    <span style=\"color: rgb(0, 187, 0)\"><span class=\"ansi-green-fg\">∏(@a : 𝒰 ){ 𝒰 ×@a }</span></span>,\n",
       "    <span style=\"color: rgb(0, 187, 0)\"><span class=\"ansi-green-fg\">∑(@a : { @a×𝒰  }</span></span>,\n",
       "    <span style=\"color: rgb(0, 187, 0)\"><span class=\"ansi-green-fg\">((𝒰 ×𝒰  → 𝒰 ) → 𝒰 )</span></span>,\n",
       "    <span style=\"color: rgb(0, 187, 0)\"><span class=\"ansi-green-fg\">((𝒰  → 𝒰 )×𝒰  → 𝒰 )</span></span>,\n",
       "    <span style=\"color: rgb(0, 187, 0)\"><span class=\"ansi-green-fg\">∑(@a : { (@a → @a) }</span></span>,\n",
       "    <span style=\"color: rgb(0, 187, 0)\"><span class=\"ansi-green-fg\">∏(@a : 𝒰 ){ @a×@a }</span></span>,\n",
       "    <span style=\"color: rgb(0, 187, 0)\"><span class=\"ansi-green-fg\">((𝒰  → (𝒰  → 𝒰 )) → 𝒰 )</span></span>,\n",
       "    <span style=\"color: rgb(0, 187, 0)\"><span class=\"ansi-green-fg\">((∏(@a : 𝒰 ){ @a } → 𝒰 ) → 𝒰 )</span></span>,\n",
       "    <span style=\"color: rgb(0, 187, 0)\"><span class=\"ansi-green-fg\">∑(@a : { 𝒰 ×@a }</span></span>,\n",
       "    <span style=\"color: rgb(0, 187, 0)\"><span class=\"ansi-green-fg\">((𝒰  → 𝒰 ) → 𝒰 ×𝒰 )</span></span>,\n",
       "    <span style=\"color: rgb(0, 187, 0)\"><span class=\"ansi-green-fg\">(𝒰 ×𝒰 ×𝒰  → 𝒰 )</span></span>,\n",
       "    <span style=\"color: rgb(0, 187, 0)\"><span class=\"ansi-green-fg\">(𝒰 ×(𝒰  → 𝒰 ) → 𝒰 )</span></span>,\n",
       "    <span style=\"color: rgb(0, 187, 0)\"><span class=\"ansi-green-fg\">(∏(@a : 𝒰 ){ @a }×𝒰  → 𝒰 )</span></span>,\n",
       "    <span style=\"color: rgb(0, 187, 0)\"><span class=\"ansi-green-fg\">((∑(@a : { @a } → 𝒰 ) → 𝒰 )</span></span>,\n",
       "    <span style=\"color: rgb(0, 187, 0)\"><span class=\"ansi-green-fg\">((𝒰  → ∏(@b : 𝒰 ){ @b }) → 𝒰 )</span></span>,\n",
       "    <span style=\"color: rgb(0, 187, 0)\"><span class=\"ansi-green-fg\">((𝒰  → 𝒰 ) → ∏(@a : 𝒰 ){ @a })</span></span>,\n",
       "    <span style=\"color: rgb(0, 187, 0)\"><span class=\"ansi-green-fg\">((𝒰  → 𝒰 ×𝒰 ) → 𝒰 )</span></span>,\n",
       "    <span style=\"color: rgb(0, 187, 0)\"><span class=\"ansi-green-fg\">∑(@a : { @a×@a }</span></span>,\n",
       "    <span style=\"color: rgb(0, 187, 0)\"><span class=\"ansi-green-fg\">((((𝒰  → 𝒰 ) → 𝒰 ) → 𝒰 ) → 𝒰 )</span></span>,\n",
       "    <span style=\"color: rgb(0, 187, 0)\"><span class=\"ansi-green-fg\">(∑(@a : { (@a → 𝒰 ) } → 𝒰 )</span></span>,\n",
       "    <span style=\"color: rgb(0, 187, 0)\"><span class=\"ansi-green-fg\">(𝒰 ×∏(@b : 𝒰 ){ @b } → 𝒰 )</span></span>,\n",
       "    <span style=\"color: rgb(0, 187, 0)\"><span class=\"ansi-green-fg\">(𝒰  → (𝒰  → 𝒰 )×𝒰 )</span></span>,\n",
       "    <span style=\"color: rgb(0, 187, 0)\"><span class=\"ansi-green-fg\">(∏(@a : 𝒰 ){ (𝒰  → @a) } → 𝒰 )</span></span>,\n",
       "    <span style=\"color: rgb(0, 187, 0)\"><span class=\"ansi-green-fg\">(𝒰  → (𝒰  → ∏(@c : 𝒰 ){ @c }))</span></span>,\n",
       "...</span></span></span></code></pre>\n",
       "</div>"
      ],
      "text/plain": [
       "\u001b[36munknownsT\u001b[39m: \u001b[32mmonix\u001b[39m.\u001b[32meval\u001b[39m.\u001b[32mTask\u001b[39m[\u001b[32mVector\u001b[39m[\u001b[32mTyp\u001b[39m[\u001b[32mTerm\u001b[39m]]] = \u001b[33mAsync\u001b[39m(\n",
       "  <function2>,\n",
       "  false,\n",
       "  true,\n",
       "  true\n",
       ")\n",
       "\u001b[36munF\u001b[39m: \u001b[32mmonix\u001b[39m.\u001b[32mexecution\u001b[39m.\u001b[32mCancelableFuture\u001b[39m[\u001b[32mVector\u001b[39m[\u001b[32mTyp\u001b[39m[\u001b[32mTerm\u001b[39m]]] = \u001b[32m\u001b[33mSuccess\u001b[39m(\n",
       "  \u001b[33mVector\u001b[39m(\n",
       "    \u001b[32m∏(@a : 𝒰 ){ @a }\u001b[39m,\n",
       "    \u001b[32m∑(@a : { @a }\u001b[39m,\n",
       "    \u001b[32m((𝒰  → 𝒰 ) → 𝒰 )\u001b[39m,\n",
       "    \u001b[32m(𝒰 ×𝒰  → 𝒰 )\u001b[39m,\n",
       "    \u001b[32m(𝒰  → ∏(@b : 𝒰 ){ @b })\u001b[39m,\n",
       "    \u001b[32m(∏(@a : 𝒰 ){ @a } → 𝒰 )\u001b[39m,\n",
       "    \u001b[32m(𝒰  → 𝒰 ×𝒰 )\u001b[39m,\n",
       "    \u001b[32m∏(@a : 𝒰 ){ (𝒰  → @a) }\u001b[39m,\n",
       "    \u001b[32m(∑(@a : { @a } → 𝒰 )\u001b[39m,\n",
       "    \u001b[32m∑(@a : { (@a → 𝒰 ) }\u001b[39m,\n",
       "    \u001b[32m∏(@a : 𝒰 ){ @a×𝒰  }\u001b[39m,\n",
       "    \u001b[32m(𝒰  → ∑(@b : { @b })\u001b[39m,\n",
       "    \u001b[32m∑(@a : { (𝒰  → @a) }\u001b[39m,\n",
       "    \u001b[32m∏(@a : 𝒰 ){ 𝒰 ×@a }\u001b[39m,\n",
       "    \u001b[32m∑(@a : { @a×𝒰  }\u001b[39m,\n",
       "    \u001b[32m((𝒰 ×𝒰  → 𝒰 ) → 𝒰 )\u001b[39m,\n",
       "    \u001b[32m((𝒰  → 𝒰 )×𝒰  → 𝒰 )\u001b[39m,\n",
       "    \u001b[32m∑(@a : { (@a → @a) }\u001b[39m,\n",
       "    \u001b[32m∏(@a : 𝒰 ){ @a×@a }\u001b[39m,\n",
       "    \u001b[32m((𝒰  → (𝒰  → 𝒰 )) → 𝒰 )\u001b[39m,\n",
       "    \u001b[32m((∏(@a : 𝒰 ){ @a } → 𝒰 ) → 𝒰 )\u001b[39m,\n",
       "    \u001b[32m∑(@a : { 𝒰 ×@a }\u001b[39m,\n",
       "    \u001b[32m((𝒰  → 𝒰 ) → 𝒰 ×𝒰 )\u001b[39m,\n",
       "    \u001b[32m(𝒰 ×𝒰 ×𝒰  → 𝒰 )\u001b[39m,\n",
       "    \u001b[32m(𝒰 ×(𝒰  → 𝒰 ) → 𝒰 )\u001b[39m,\n",
       "    \u001b[32m(∏(@a : 𝒰 ){ @a }×𝒰  → 𝒰 )\u001b[39m,\n",
       "    \u001b[32m((∑(@a : { @a } → 𝒰 ) → 𝒰 )\u001b[39m,\n",
       "    \u001b[32m((𝒰  → ∏(@b : 𝒰 ){ @b }) → 𝒰 )\u001b[39m,\n",
       "    \u001b[32m((𝒰  → 𝒰 ) → ∏(@a : 𝒰 ){ @a })\u001b[39m,\n",
       "    \u001b[32m((𝒰  → 𝒰 ×𝒰 ) → 𝒰 )\u001b[39m,\n",
       "    \u001b[32m∑(@a : { @a×@a }\u001b[39m,\n",
       "    \u001b[32m((((𝒰  → 𝒰 ) → 𝒰 ) → 𝒰 ) → 𝒰 )\u001b[39m,\n",
       "    \u001b[32m(∑(@a : { (@a → 𝒰 ) } → 𝒰 )\u001b[39m,\n",
       "    \u001b[32m(𝒰 ×∏(@b : 𝒰 ){ @b } → 𝒰 )\u001b[39m,\n",
       "    \u001b[32m(𝒰  → (𝒰  → 𝒰 )×𝒰 )\u001b[39m,\n",
       "    \u001b[32m(∏(@a : 𝒰 ){ (𝒰  → @a) } → 𝒰 )\u001b[39m,\n",
       "    \u001b[32m(𝒰  → (𝒰  → ∏(@c : 𝒰 ){ @c }))\u001b[39m,\n",
       "...\u001b[39m"
      ]
     },
     "metadata": {},
     "output_type": "display_data"
    }
   ],
   "source": [
    "val unknownsT = lp0.unknownStatements.map(_.entropyVec.map(_.elem)).memoize\n",
    "val unF = unknownsT.runToFuture"
   ]
  },
  {
   "cell_type": "code",
   "execution_count": 5,
   "metadata": {},
   "outputs": [
    {
     "data": {
      "text/markdown": [
       "## Goal chomping status\n",
       "\n",
       " * current goal : Some((`@a : 𝒰 _0 ) ~> ((((𝒰 _0) → (`@a)) , (𝒰 _0))))\n",
       " * successes : 63\n",
       " * failures : 1\n",
       " * terms : 10985\n",
       " * equation-nodes: 1116040\n",
       " * last success : Some(Vector((∑((``@a :  𝒰 _0) ↦ ((``@a) → (Zero))),0.5,[((Zero) , (rec(Zero)(Zero))) : 0.01127994556862484, ((Zero) , ((`@a :  Zero) ↦ (`@a))) : 0.00974783102948558])))\n",
       " * last failure : Some((𝒰 _0) → ((((`@b : 𝒰 _0 ) ~> (`@b)) , (𝒰 _0))))\n"
      ]
     },
     "metadata": {},
     "output_type": "display_data"
    },
    {
     "data": {
      "text/plain": [
       "\u001b[32mimport \u001b[39m\u001b[36mStrategicProvers._\n",
       "\u001b[39m\n",
       "\u001b[32mimport \u001b[39m\u001b[36malmond.display._\n",
       "\u001b[39m"
      ]
     },
     "execution_count": 5,
     "metadata": {},
     "output_type": "execute_result"
    }
   ],
   "source": [
    "import StrategicProvers._\n",
    "import almond.display._\n",
    "val chompView = Markdown(\"## Results from Goal chomping\\n\")"
   ]
  },
  {
   "cell_type": "code",
   "execution_count": 6,
   "metadata": {},
   "outputs": [],
   "source": [
    "update = (_) => chompView.withContent(md).update()\n",
    "update(())"
   ]
  },
  {
   "cell_type": "code",
   "execution_count": 7,
   "metadata": {},
   "outputs": [
    {
     "data": {
      "text/plain": [
       "\u001b[36mchT\u001b[39m: \u001b[32mmonix\u001b[39m.\u001b[32meval\u001b[39m.\u001b[32mTask\u001b[39m[(\u001b[32mVector\u001b[39m[\u001b[32mSuccesses\u001b[39m], \u001b[32mVector\u001b[39m[\u001b[32mTyp\u001b[39m[\u001b[32mTerm\u001b[39m]], \u001b[32mSet\u001b[39m[\u001b[32mEquationNode\u001b[39m], \u001b[32mSet\u001b[39m[\u001b[32mTerm\u001b[39m], \u001b[32mVector\u001b[39m[\u001b[32mTyp\u001b[39m[\u001b[32mTerm\u001b[39m]])] = \u001b[33mAsync\u001b[39m(<function2>, false, true, true)"
      ]
     },
     "execution_count": 7,
     "metadata": {},
     "output_type": "execute_result"
    }
   ],
   "source": [
    "val chT = unknownsT.flatMap(typs => liberalChomper(lp, typs, accumTerms = Set())).memoize"
   ]
  },
  {
   "cell_type": "code",
   "execution_count": 8,
   "metadata": {},
   "outputs": [
    {
     "data": {
      "text/html": [
       "<div class=\"jp-RenderedText\">\n",
       "<pre><code><span style=\"color: rgb(0, 187, 187)\"><span class=\"ansi-cyan-fg\">chF</span></span>: <span style=\"color: rgb(0, 187, 0)\"><span class=\"ansi-green-fg\">monix</span></span>.<span style=\"color: rgb(0, 187, 0)\"><span class=\"ansi-green-fg\">execution</span></span>.<span style=\"color: rgb(0, 187, 0)\"><span class=\"ansi-green-fg\">CancelableFuture</span></span>[(<span style=\"color: rgb(0, 187, 0)\"><span class=\"ansi-green-fg\">Vector</span></span>[<span style=\"color: rgb(0, 187, 0)\"><span class=\"ansi-green-fg\">Successes</span></span>], <span style=\"color: rgb(0, 187, 0)\"><span class=\"ansi-green-fg\">Vector</span></span>[<span style=\"color: rgb(0, 187, 0)\"><span class=\"ansi-green-fg\">Typ</span></span>[<span style=\"color: rgb(0, 187, 0)\"><span class=\"ansi-green-fg\">Term</span></span>]], <span style=\"color: rgb(0, 187, 0)\"><span class=\"ansi-green-fg\">Set</span></span>[<span style=\"color: rgb(0, 187, 0)\"><span class=\"ansi-green-fg\">EquationNode</span></span>], <span style=\"color: rgb(0, 187, 0)\"><span class=\"ansi-green-fg\">Set</span></span>[<span style=\"color: rgb(0, 187, 0)\"><span class=\"ansi-green-fg\">Term</span></span>], <span style=\"color: rgb(0, 187, 0)\"><span class=\"ansi-green-fg\">Vector</span></span>[<span style=\"color: rgb(0, 187, 0)\"><span class=\"ansi-green-fg\">Typ</span></span>[<span style=\"color: rgb(0, 187, 0)\"><span class=\"ansi-green-fg\">Term</span></span>]])] = <span style=\"color: rgb(0, 187, 0)\"><span class=\"ansi-green-fg\"><span style=\"color: white\"><span class=\"ansi-white-fg\">[running]</span></span></span></span></code></pre>\n",
       "</div>"
      ],
      "text/plain": [
       "\u001b[36mchF\u001b[39m: \u001b[32mmonix\u001b[39m.\u001b[32mexecution\u001b[39m.\u001b[32mCancelableFuture\u001b[39m[(\u001b[32mVector\u001b[39m[\u001b[32mSuccesses\u001b[39m], \u001b[32mVector\u001b[39m[\u001b[32mTyp\u001b[39m[\u001b[32mTerm\u001b[39m]], \u001b[32mSet\u001b[39m[\u001b[32mEquationNode\u001b[39m], \u001b[32mSet\u001b[39m[\u001b[32mTerm\u001b[39m], \u001b[32mVector\u001b[39m[\u001b[32mTyp\u001b[39m[\u001b[32mTerm\u001b[39m]])] = \u001b[32m\u001b[37m[running]\u001b[39m\u001b[39m"
      ]
     },
     "metadata": {},
     "output_type": "display_data"
    }
   ],
   "source": [
    "val chF = chT.runToFuture"
   ]
  },
  {
   "cell_type": "code",
   "execution_count": 9,
   "metadata": {},
   "outputs": [
    {
     "data": {
      "text/markdown": [
       "## Failures\n",
       "\n",
       " * (𝒰 _0) → ((((`@b : 𝒰 _0 ) ~> (`@b)) , (𝒰 _0)))\n"
      ]
     },
     "metadata": {},
     "output_type": "display_data"
    }
   ],
   "source": [
    "val failHandle = Markdown(failures.reverse.mkString(\"## Failures\\n\\n * \", \"\\n * \", \"\\n\"))"
   ]
  },
  {
   "cell_type": "code",
   "execution_count": 10,
   "metadata": {},
   "outputs": [],
   "source": [
    "update = (_) => {\n",
    "    chompView.withContent(md).update()  \n",
    "    failHandle.withContent(failures.reverse.mkString(\"## Failures\\n\\n * \", \"\\n * \", \"\\n\")).update()\n",
    "}"
   ]
  },
  {
   "cell_type": "code",
   "execution_count": 11,
   "metadata": {},
   "outputs": [],
   "source": [
    "update(())"
   ]
  },
  {
   "cell_type": "code",
   "execution_count": 17,
   "metadata": {},
   "outputs": [
    {
     "data": {
      "text/plain": [
       "\u001b[36mA\u001b[39m: \u001b[32mTyp\u001b[39m[\u001b[32mTerm\u001b[39m] = \u001b[32mA\u001b[39m\n",
       "\u001b[36mP\u001b[39m: \u001b[32mProdTyp\u001b[39m[\u001b[32mFuncLike\u001b[39m[\u001b[32mTyp\u001b[39m[\u001b[32mTerm\u001b[39m], \u001b[32mTerm\u001b[39m], \u001b[32mTyp\u001b[39m[\u001b[32mTerm\u001b[39m]] = \u001b[32m∏(A : 𝒰 ){ A }×𝒰 \u001b[39m\n",
       "\u001b[36mQ\u001b[39m: \u001b[32mFuncTyp\u001b[39m[\u001b[32mTyp\u001b[39m[\u001b[32mTerm\u001b[39m], \u001b[32mPairTerm\u001b[39m[\u001b[32mFuncLike\u001b[39m[\u001b[32mTyp\u001b[39m[\u001b[32mTerm\u001b[39m], \u001b[32mTerm\u001b[39m], \u001b[32mTyp\u001b[39m[\u001b[32mTerm\u001b[39m]]] = \u001b[32m(𝒰  → ∏(A : 𝒰 ){ A }×𝒰 )\u001b[39m"
      ]
     },
     "execution_count": 17,
     "metadata": {},
     "output_type": "execute_result"
    }
   ],
   "source": [
    "val A = \"A\" :: Type\n",
    "val P = (A ~>: A) && Type\n",
    "val Q = Type ->: P"
   ]
  },
  {
   "cell_type": "code",
   "execution_count": 18,
   "metadata": {},
   "outputs": [
    {
     "data": {
      "text/plain": [
       "\u001b[36mres17\u001b[39m: \u001b[32mBoolean\u001b[39m = true"
      ]
     },
     "execution_count": 18,
     "metadata": {},
     "output_type": "execute_result"
    }
   ],
   "source": [
    "failures.headOption == Some(Q)"
   ]
  },
  {
   "cell_type": "code",
   "execution_count": 19,
   "metadata": {},
   "outputs": [
    {
     "data": {
      "text/plain": [
       "\u001b[36mres18\u001b[39m: \u001b[32mFiniteDistribution\u001b[39m[\u001b[32mTerm\u001b[39m] = \u001b[33mFiniteDistribution\u001b[39m(\u001b[33mVector\u001b[39m())"
      ]
     },
     "execution_count": 19,
     "metadata": {},
     "output_type": "execute_result"
    }
   ],
   "source": [
    "terms.filter(_.typ == P)"
   ]
  },
  {
   "cell_type": "code",
   "execution_count": 20,
   "metadata": {},
   "outputs": [
    {
     "data": {
      "text/plain": [
       "\u001b[36mres19\u001b[39m: \u001b[32mFiniteDistribution\u001b[39m[\u001b[32mTerm\u001b[39m] = \u001b[33mFiniteDistribution\u001b[39m(\u001b[33mVector\u001b[39m())"
      ]
     },
     "execution_count": 20,
     "metadata": {},
     "output_type": "execute_result"
    }
   ],
   "source": [
    "terms.filter(_.typ == (A ~>: A))"
   ]
  },
  {
   "cell_type": "code",
   "execution_count": 24,
   "metadata": {},
   "outputs": [
    {
     "data": {
      "text/plain": [
       "\u001b[36mtermsT\u001b[39m: \u001b[32mmonix\u001b[39m.\u001b[32meval\u001b[39m.\u001b[32mTask\u001b[39m[\u001b[32mFiniteDistribution\u001b[39m[\u001b[32mTerm\u001b[39m]] = \u001b[33mAsync\u001b[39m(\n",
       "  <function2>,\n",
       "  false,\n",
       "  true,\n",
       "  true\n",
       ")"
      ]
     },
     "execution_count": 24,
     "metadata": {},
     "output_type": "execute_result"
    }
   ],
   "source": [
    "val termsT = lp.expressionEval.map(_.finalTerms).memoize"
   ]
  },
  {
   "cell_type": "code",
   "execution_count": 25,
   "metadata": {},
   "outputs": [
    {
     "data": {
      "text/html": [
       "<div class=\"jp-RenderedText\">\n",
       "<pre><code><span style=\"color: rgb(0, 187, 187)\"><span class=\"ansi-cyan-fg\">res24</span></span>: <span style=\"color: rgb(0, 187, 0)\"><span class=\"ansi-green-fg\">monix</span></span>.<span style=\"color: rgb(0, 187, 0)\"><span class=\"ansi-green-fg\">execution</span></span>.<span style=\"color: rgb(0, 187, 0)\"><span class=\"ansi-green-fg\">CancelableFuture</span></span>[<span style=\"color: rgb(0, 187, 0)\"><span class=\"ansi-green-fg\">FiniteDistribution</span></span>[<span style=\"color: rgb(0, 187, 0)\"><span class=\"ansi-green-fg\">Term</span></span>]] = <span style=\"color: rgb(0, 187, 0)\"><span class=\"ansi-green-fg\"><span style=\"color: yellow\"><span class=\"ansi-yellow-fg\">Success</span></span>(<span style=\"color: yellow\"><span class=\"ansi-yellow-fg\">FiniteDistribution</span></span>(<span style=\"color: yellow\"><span class=\"ansi-yellow-fg\">Vector</span></span>()))</span></span></code></pre>\n",
       "</div>"
      ],
      "text/plain": [
       "\u001b[36mres24\u001b[39m: \u001b[32mmonix\u001b[39m.\u001b[32mexecution\u001b[39m.\u001b[32mCancelableFuture\u001b[39m[\u001b[32mFiniteDistribution\u001b[39m[\u001b[32mTerm\u001b[39m]] = \u001b[32m\u001b[33mSuccess\u001b[39m(\u001b[33mFiniteDistribution\u001b[39m(\u001b[33mVector\u001b[39m()))\u001b[39m"
      ]
     },
     "metadata": {},
     "output_type": "display_data"
    }
   ],
   "source": [
    "termsT.map(s => s.filter(_.typ == (A ~>: A))).runToFuture"
   ]
  },
  {
   "cell_type": "code",
   "execution_count": 26,
   "metadata": {},
   "outputs": [
    {
     "data": {
      "text/html": [
       "<div class=\"jp-RenderedText\">\n",
       "<pre><code><span style=\"color: rgb(0, 187, 187)\"><span class=\"ansi-cyan-fg\">res25</span></span>: <span style=\"color: rgb(0, 187, 0)\"><span class=\"ansi-green-fg\">monix</span></span>.<span style=\"color: rgb(0, 187, 0)\"><span class=\"ansi-green-fg\">execution</span></span>.<span style=\"color: rgb(0, 187, 0)\"><span class=\"ansi-green-fg\">CancelableFuture</span></span>[<span style=\"color: rgb(0, 187, 0)\"><span class=\"ansi-green-fg\">Vector</span></span>[<span style=\"color: rgb(0, 187, 0)\"><span class=\"ansi-green-fg\">Weighted</span></span>[<span style=\"color: rgb(0, 187, 0)\"><span class=\"ansi-green-fg\">Typ</span></span>[<span style=\"color: rgb(0, 187, 0)\"><span class=\"ansi-green-fg\">U</span></span>] forSome { type <span style=\"color: rgb(0, 187, 0)\"><span class=\"ansi-green-fg\">U</span></span> &gt;: <span style=\"color: rgb(0, 187, 0)\"><span class=\"ansi-green-fg\">x$2</span></span> &lt;: <span style=\"color: rgb(0, 187, 0)\"><span class=\"ansi-green-fg\">Term</span></span> with <span style=\"color: rgb(0, 187, 0)\"><span class=\"ansi-green-fg\">Subs</span></span>[<span style=\"color: rgb(0, 187, 0)\"><span class=\"ansi-green-fg\">U</span></span>]; val <span style=\"color: rgb(0, 187, 0)\"><span class=\"ansi-green-fg\">x$2</span></span>: <span style=\"color: rgb(0, 187, 0)\"><span class=\"ansi-green-fg\">Term</span></span> }]]] = <span style=\"color: rgb(0, 187, 0)\"><span class=\"ansi-green-fg\"><style>@keyframes fadein { from { opacity: 0; } to { opacity: 1; } }</style><span style=\"animation: fadein 2s;\"><span style=\"color: yellow\"><span class=\"ansi-yellow-fg\">Success</span></span>(\n",
       "  <span style=\"color: yellow\"><span class=\"ansi-yellow-fg\">Vector</span></span>(\n",
       "    <span style=\"color: yellow\"><span class=\"ansi-yellow-fg\">Weighted</span></span>(<span style=\"color: rgb(0, 187, 0)\"><span class=\"ansi-green-fg\">𝒰 </span></span>, <span style=\"color: rgb(0, 187, 0)\"><span class=\"ansi-green-fg\">4.501910552219368</span></span>),\n",
       "    <span style=\"color: yellow\"><span class=\"ansi-yellow-fg\">Weighted</span></span>(<span style=\"color: rgb(0, 187, 0)\"><span class=\"ansi-green-fg\">Unit</span></span>, <span style=\"color: rgb(0, 187, 0)\"><span class=\"ansi-green-fg\">5.469838701471826</span></span>),\n",
       "    <span style=\"color: yellow\"><span class=\"ansi-yellow-fg\">Weighted</span></span>(<span style=\"color: rgb(0, 187, 0)\"><span class=\"ansi-green-fg\">(𝒰  → 𝒰 )</span></span>, <span style=\"color: rgb(0, 187, 0)\"><span class=\"ansi-green-fg\">6.869629385760009</span></span>),\n",
       "    <span style=\"color: yellow\"><span class=\"ansi-yellow-fg\">Weighted</span></span>(<span style=\"color: rgb(0, 187, 0)\"><span class=\"ansi-green-fg\">(Unit → Unit)</span></span>, <span style=\"color: rgb(0, 187, 0)\"><span class=\"ansi-green-fg\">7.292083965974518</span></span>),\n",
       "    <span style=\"color: yellow\"><span class=\"ansi-yellow-fg\">Weighted</span></span>(<span style=\"color: rgb(0, 187, 0)\"><span class=\"ansi-green-fg\">(Unit → 𝒰 )</span></span>, <span style=\"color: rgb(0, 187, 0)\"><span class=\"ansi-green-fg\">7.4655122294602805</span></span>),\n",
       "    <span style=\"color: yellow\"><span class=\"ansi-yellow-fg\">Weighted</span></span>(<span style=\"color: rgb(0, 187, 0)\"><span class=\"ansi-green-fg\">(Zero → 𝒰 )</span></span>, <span style=\"color: rgb(0, 187, 0)\"><span class=\"ansi-green-fg\">7.489930945871971</span></span>),\n",
       "    <span style=\"color: yellow\"><span class=\"ansi-yellow-fg\">Weighted</span></span>(<span style=\"color: rgb(0, 187, 0)\"><span class=\"ansi-green-fg\">((𝒰  → 𝒰 ) → 𝒰 )</span></span>, <span style=\"color: rgb(0, 187, 0)\"><span class=\"ansi-green-fg\">7.684009542192408</span></span>),\n",
       "    <span style=\"color: yellow\"><span class=\"ansi-yellow-fg\">Weighted</span></span>(<span style=\"color: rgb(0, 187, 0)\"><span class=\"ansi-green-fg\">((Unit → 𝒰 ) → 𝒰 )</span></span>, <span style=\"color: rgb(0, 187, 0)\"><span class=\"ansi-green-fg\">7.7149130406352615</span></span>),\n",
       "    <span style=\"color: yellow\"><span class=\"ansi-yellow-fg\">Weighted</span></span>(<span style=\"color: rgb(0, 187, 0)\"><span class=\"ansi-green-fg\">((Unit → Unit) → 𝒰 )</span></span>, <span style=\"color: rgb(0, 187, 0)\"><span class=\"ansi-green-fg\">7.739395463907256</span></span>),\n",
       "    <span style=\"color: yellow\"><span class=\"ansi-yellow-fg\">Weighted</span></span>(<span style=\"color: rgb(0, 187, 0)\"><span class=\"ansi-green-fg\">((Zero → Zero) → 𝒰 )</span></span>, <span style=\"color: rgb(0, 187, 0)\"><span class=\"ansi-green-fg\">7.739397698721999</span></span>),\n",
       "    <span style=\"color: yellow\"><span class=\"ansi-yellow-fg\">Weighted</span></span>(<span style=\"color: rgb(0, 187, 0)\"><span class=\"ansi-green-fg\">((Zero → Unit) → 𝒰 )</span></span>, <span style=\"color: rgb(0, 187, 0)\"><span class=\"ansi-green-fg\">7.739407853666807</span></span>),\n",
       "    <span style=\"color: yellow\"><span class=\"ansi-yellow-fg\">Weighted</span></span>(<span style=\"color: rgb(0, 187, 0)\"><span class=\"ansi-green-fg\">((Unit → Zero) → 𝒰 )</span></span>, <span style=\"color: rgb(0, 187, 0)\"><span class=\"ansi-green-fg\">7.739409847509178</span></span>),\n",
       "    <span style=\"color: yellow\"><span class=\"ansi-yellow-fg\">Weighted</span></span>(<span style=\"color: rgb(0, 187, 0)\"><span class=\"ansi-green-fg\">(∏(@a : 𝒰 ){ @a } → 𝒰 )</span></span>, <span style=\"color: rgb(0, 187, 0)\"><span class=\"ansi-green-fg\">7.743449197112258</span></span>),\n",
       "    <span style=\"color: yellow\"><span class=\"ansi-yellow-fg\">Weighted</span></span>(<span style=\"color: rgb(0, 187, 0)\"><span class=\"ansi-green-fg\">((Zero → 𝒰 ) → 𝒰 )</span></span>, <span style=\"color: rgb(0, 187, 0)\"><span class=\"ansi-green-fg\">7.744532158404942</span></span>),\n",
       "    <span style=\"color: yellow\"><span class=\"ansi-yellow-fg\">Weighted</span></span>(<span style=\"color: rgb(0, 187, 0)\"><span class=\"ansi-green-fg\">((𝒰  → Unit) → 𝒰 )</span></span>, <span style=\"color: rgb(0, 187, 0)\"><span class=\"ansi-green-fg\">7.744640267091174</span></span>),\n",
       "    <span style=\"color: yellow\"><span class=\"ansi-yellow-fg\">Weighted</span></span>(<span style=\"color: rgb(0, 187, 0)\"><span class=\"ansi-green-fg\">((𝒰  → Zero) → 𝒰 )</span></span>, <span style=\"color: rgb(0, 187, 0)\"><span class=\"ansi-green-fg\">7.744642215905516</span></span>),\n",
       "    <span style=\"color: yellow\"><span class=\"ansi-yellow-fg\">Weighted</span></span>(<span style=\"color: rgb(0, 187, 0)\"><span class=\"ansi-green-fg\">(∑(@a : { @a } → 𝒰 )</span></span>, <span style=\"color: rgb(0, 187, 0)\"><span class=\"ansi-green-fg\">7.746161713015505</span></span>),\n",
       "    <span style=\"color: yellow\"><span class=\"ansi-yellow-fg\">Weighted</span></span>(<span style=\"color: rgb(0, 187, 0)\"><span class=\"ansi-green-fg\">(Unit×Zero → 𝒰 )</span></span>, <span style=\"color: rgb(0, 187, 0)\"><span class=\"ansi-green-fg\">7.746724769904138</span></span>),\n",
       "    <span style=\"color: yellow\"><span class=\"ansi-yellow-fg\">Weighted</span></span>(<span style=\"color: rgb(0, 187, 0)\"><span class=\"ansi-green-fg\">(Unit×𝒰  → 𝒰 )</span></span>, <span style=\"color: rgb(0, 187, 0)\"><span class=\"ansi-green-fg\">7.746724769904138</span></span>),\n",
       "    <span style=\"color: yellow\"><span class=\"ansi-yellow-fg\">Weighted</span></span>(<span style=\"color: rgb(0, 187, 0)\"><span class=\"ansi-green-fg\">(Unit×Unit → 𝒰 )</span></span>, <span style=\"color: rgb(0, 187, 0)\"><span class=\"ansi-green-fg\">7.746724769904138</span></span>),\n",
       "    <span style=\"color: yellow\"><span class=\"ansi-yellow-fg\">Weighted</span></span>(<span style=\"color: rgb(0, 187, 0)\"><span class=\"ansi-green-fg\">(Zero×Zero → 𝒰 )</span></span>, <span style=\"color: rgb(0, 187, 0)\"><span class=\"ansi-green-fg\">7.746724783500847</span></span>),\n",
       "    <span style=\"color: yellow\"><span class=\"ansi-yellow-fg\">Weighted</span></span>(<span style=\"color: rgb(0, 187, 0)\"><span class=\"ansi-green-fg\">(Zero×𝒰  → 𝒰 )</span></span>, <span style=\"color: rgb(0, 187, 0)\"><span class=\"ansi-green-fg\">7.746724783500847</span></span>),\n",
       "    <span style=\"color: yellow\"><span class=\"ansi-yellow-fg\">Weighted</span></span>(<span style=\"color: rgb(0, 187, 0)\"><span class=\"ansi-green-fg\">(Zero×Unit → 𝒰 )</span></span>, <span style=\"color: rgb(0, 187, 0)\"><span class=\"ansi-green-fg\">7.746724783500847</span></span>),\n",
       "    <span style=\"color: yellow\"><span class=\"ansi-yellow-fg\">Weighted</span></span>(<span style=\"color: rgb(0, 187, 0)\"><span class=\"ansi-green-fg\">(𝒰 ×Unit → 𝒰 )</span></span>, <span style=\"color: rgb(0, 187, 0)\"><span class=\"ansi-green-fg\">7.746746503134041</span></span>),\n",
       "    <span style=\"color: yellow\"><span class=\"ansi-yellow-fg\">Weighted</span></span>(<span style=\"color: rgb(0, 187, 0)\"><span class=\"ansi-green-fg\">(𝒰 ×Zero → 𝒰 )</span></span>, <span style=\"color: rgb(0, 187, 0)\"><span class=\"ansi-green-fg\">7.746746503134041</span></span>),\n",
       "    <span style=\"color: yellow\"><span class=\"ansi-yellow-fg\">Weighted</span></span>(<span style=\"color: rgb(0, 187, 0)\"><span class=\"ansi-green-fg\">(𝒰 ×𝒰  → 𝒰 )</span></span>, <span style=\"color: rgb(0, 187, 0)\"><span class=\"ansi-green-fg\">7.746746503134041</span></span>),\n",
       "    <span style=\"color: yellow\"><span class=\"ansi-yellow-fg\">Weighted</span></span>(<span style=\"color: rgb(0, 187, 0)\"><span class=\"ansi-green-fg\">(Zero → Zero)</span></span>, <span style=\"color: rgb(0, 187, 0)\"><span class=\"ansi-green-fg\">8.136634530663876</span></span>),\n",
       "    <span style=\"color: yellow\"><span class=\"ansi-yellow-fg\">Weighted</span></span>(<span style=\"color: rgb(0, 187, 0)\"><span class=\"ansi-green-fg\">((Unit → Unit) → (Unit → Unit))</span></span>, <span style=\"color: rgb(0, 187, 0)\"><span class=\"ansi-green-fg\">8.376825384522547</span></span>),\n",
       "    <span style=\"color: yellow\"><span class=\"ansi-yellow-fg\">Weighted</span></span>(<span style=\"color: rgb(0, 187, 0)\"><span class=\"ansi-green-fg\">((Zero → Zero) → (Zero → Zero))</span></span>, <span style=\"color: rgb(0, 187, 0)\"><span class=\"ansi-green-fg\">8.37682761933729</span></span>),\n",
       "    <span style=\"color: yellow\"><span class=\"ansi-yellow-fg\">Weighted</span></span>(<span style=\"color: rgb(0, 187, 0)\"><span class=\"ansi-green-fg\">((Zero → Unit) → (Zero → Unit))</span></span>, <span style=\"color: rgb(0, 187, 0)\"><span class=\"ansi-green-fg\">8.376837774282098</span></span>),\n",
       "    <span style=\"color: yellow\"><span class=\"ansi-yellow-fg\">Weighted</span></span>(<span style=\"color: rgb(0, 187, 0)\"><span class=\"ansi-green-fg\">((Unit → Zero) → (Unit → Zero))</span></span>, <span style=\"color: rgb(0, 187, 0)\"><span class=\"ansi-green-fg\">8.37683976812447</span></span>),\n",
       "    <span style=\"color: yellow\"><span class=\"ansi-yellow-fg\">Weighted</span></span>(<span style=\"color: rgb(0, 187, 0)\"><span class=\"ansi-green-fg\">(∏(@a : 𝒰 ){ @a } → ∏(@a : 𝒰 ){ @a })</span></span>, <span style=\"color: rgb(0, 187, 0)\"><span class=\"ansi-green-fg\">8.380879117727549</span></span>),\n",
       "    <span style=\"color: yellow\"><span class=\"ansi-yellow-fg\">Weighted</span></span>(<span style=\"color: rgb(0, 187, 0)\"><span class=\"ansi-green-fg\">((Unit → 𝒰 ) → (Unit → 𝒰 ))</span></span>, <span style=\"color: rgb(0, 187, 0)\"><span class=\"ansi-green-fg\">8.381962026880412</span></span>),\n",
       "    <span style=\"color: yellow\"><span class=\"ansi-yellow-fg\">Weighted</span></span>(<span style=\"color: rgb(0, 187, 0)\"><span class=\"ansi-green-fg\">((Zero → 𝒰 ) → (Zero → 𝒰 ))</span></span>, <span style=\"color: rgb(0, 187, 0)\"><span class=\"ansi-green-fg\">8.381962079020235</span></span>),\n",
       "    <span style=\"color: yellow\"><span class=\"ansi-yellow-fg\">Weighted</span></span>(<span style=\"color: rgb(0, 187, 0)\"><span class=\"ansi-green-fg\">((𝒰  → 𝒰 ) → (𝒰  → 𝒰 ))</span></span>, <span style=\"color: rgb(0, 187, 0)\"><span class=\"ansi-green-fg\">8.38206579108333</span></span>),\n",
       "    <span style=\"color: yellow\"><span class=\"ansi-yellow-fg\">Weighted</span></span>(<span style=\"color: rgb(0, 187, 0)\"><span class=\"ansi-green-fg\">((𝒰  → Unit) → (𝒰  → Unit))</span></span>, <span style=\"color: rgb(0, 187, 0)\"><span class=\"ansi-green-fg\">8.382070187706464</span></span>),\n",
       "    <span style=\"color: yellow\"><span class=\"ansi-yellow-fg\">Weighted</span></span>(<span style=\"color: rgb(0, 187, 0)\"><span class=\"ansi-green-fg\">((𝒰  → Zero) → (𝒰  → Zero))</span></span>, <span style=\"color: rgb(0, 187, 0)\"><span class=\"ansi-green-fg\">8.382072136520808</span></span>),\n",
       "...</span></span></span></code></pre>\n",
       "</div>"
      ],
      "text/plain": [
       "\u001b[36mres25\u001b[39m: \u001b[32mmonix\u001b[39m.\u001b[32mexecution\u001b[39m.\u001b[32mCancelableFuture\u001b[39m[\u001b[32mVector\u001b[39m[\u001b[32mWeighted\u001b[39m[\u001b[32mTyp\u001b[39m[\u001b[32mU\u001b[39m] forSome { type \u001b[32mU\u001b[39m >: \u001b[32mx$2\u001b[39m <: \u001b[32mTerm\u001b[39m with \u001b[32mSubs\u001b[39m[\u001b[32mU\u001b[39m]; val \u001b[32mx$2\u001b[39m: \u001b[32mTerm\u001b[39m }]]] = \u001b[32m\u001b[33mSuccess\u001b[39m(\n",
       "  \u001b[33mVector\u001b[39m(\n",
       "    \u001b[33mWeighted\u001b[39m(\u001b[32m𝒰 \u001b[39m, \u001b[32m4.501910552219368\u001b[39m),\n",
       "    \u001b[33mWeighted\u001b[39m(\u001b[32mUnit\u001b[39m, \u001b[32m5.469838701471826\u001b[39m),\n",
       "    \u001b[33mWeighted\u001b[39m(\u001b[32m(𝒰  → 𝒰 )\u001b[39m, \u001b[32m6.869629385760009\u001b[39m),\n",
       "    \u001b[33mWeighted\u001b[39m(\u001b[32m(Unit → Unit)\u001b[39m, \u001b[32m7.292083965974518\u001b[39m),\n",
       "    \u001b[33mWeighted\u001b[39m(\u001b[32m(Unit → 𝒰 )\u001b[39m, \u001b[32m7.4655122294602805\u001b[39m),\n",
       "    \u001b[33mWeighted\u001b[39m(\u001b[32m(Zero → 𝒰 )\u001b[39m, \u001b[32m7.489930945871971\u001b[39m),\n",
       "    \u001b[33mWeighted\u001b[39m(\u001b[32m((𝒰  → 𝒰 ) → 𝒰 )\u001b[39m, \u001b[32m7.684009542192408\u001b[39m),\n",
       "    \u001b[33mWeighted\u001b[39m(\u001b[32m((Unit → 𝒰 ) → 𝒰 )\u001b[39m, \u001b[32m7.7149130406352615\u001b[39m),\n",
       "    \u001b[33mWeighted\u001b[39m(\u001b[32m((Unit → Unit) → 𝒰 )\u001b[39m, \u001b[32m7.739395463907256\u001b[39m),\n",
       "    \u001b[33mWeighted\u001b[39m(\u001b[32m((Zero → Zero) → 𝒰 )\u001b[39m, \u001b[32m7.739397698721999\u001b[39m),\n",
       "    \u001b[33mWeighted\u001b[39m(\u001b[32m((Zero → Unit) → 𝒰 )\u001b[39m, \u001b[32m7.739407853666807\u001b[39m),\n",
       "    \u001b[33mWeighted\u001b[39m(\u001b[32m((Unit → Zero) → 𝒰 )\u001b[39m, \u001b[32m7.739409847509178\u001b[39m),\n",
       "    \u001b[33mWeighted\u001b[39m(\u001b[32m(∏(@a : 𝒰 ){ @a } → 𝒰 )\u001b[39m, \u001b[32m7.743449197112258\u001b[39m),\n",
       "    \u001b[33mWeighted\u001b[39m(\u001b[32m((Zero → 𝒰 ) → 𝒰 )\u001b[39m, \u001b[32m7.744532158404942\u001b[39m),\n",
       "    \u001b[33mWeighted\u001b[39m(\u001b[32m((𝒰  → Unit) → 𝒰 )\u001b[39m, \u001b[32m7.744640267091174\u001b[39m),\n",
       "    \u001b[33mWeighted\u001b[39m(\u001b[32m((𝒰  → Zero) → 𝒰 )\u001b[39m, \u001b[32m7.744642215905516\u001b[39m),\n",
       "    \u001b[33mWeighted\u001b[39m(\u001b[32m(∑(@a : { @a } → 𝒰 )\u001b[39m, \u001b[32m7.746161713015505\u001b[39m),\n",
       "    \u001b[33mWeighted\u001b[39m(\u001b[32m(Unit×Zero → 𝒰 )\u001b[39m, \u001b[32m7.746724769904138\u001b[39m),\n",
       "    \u001b[33mWeighted\u001b[39m(\u001b[32m(Unit×𝒰  → 𝒰 )\u001b[39m, \u001b[32m7.746724769904138\u001b[39m),\n",
       "    \u001b[33mWeighted\u001b[39m(\u001b[32m(Unit×Unit → 𝒰 )\u001b[39m, \u001b[32m7.746724769904138\u001b[39m),\n",
       "    \u001b[33mWeighted\u001b[39m(\u001b[32m(Zero×Zero → 𝒰 )\u001b[39m, \u001b[32m7.746724783500847\u001b[39m),\n",
       "    \u001b[33mWeighted\u001b[39m(\u001b[32m(Zero×𝒰  → 𝒰 )\u001b[39m, \u001b[32m7.746724783500847\u001b[39m),\n",
       "    \u001b[33mWeighted\u001b[39m(\u001b[32m(Zero×Unit → 𝒰 )\u001b[39m, \u001b[32m7.746724783500847\u001b[39m),\n",
       "    \u001b[33mWeighted\u001b[39m(\u001b[32m(𝒰 ×Unit → 𝒰 )\u001b[39m, \u001b[32m7.746746503134041\u001b[39m),\n",
       "    \u001b[33mWeighted\u001b[39m(\u001b[32m(𝒰 ×Zero → 𝒰 )\u001b[39m, \u001b[32m7.746746503134041\u001b[39m),\n",
       "    \u001b[33mWeighted\u001b[39m(\u001b[32m(𝒰 ×𝒰  → 𝒰 )\u001b[39m, \u001b[32m7.746746503134041\u001b[39m),\n",
       "    \u001b[33mWeighted\u001b[39m(\u001b[32m(Zero → Zero)\u001b[39m, \u001b[32m8.136634530663876\u001b[39m),\n",
       "    \u001b[33mWeighted\u001b[39m(\u001b[32m((Unit → Unit) → (Unit → Unit))\u001b[39m, \u001b[32m8.376825384522547\u001b[39m),\n",
       "    \u001b[33mWeighted\u001b[39m(\u001b[32m((Zero → Zero) → (Zero → Zero))\u001b[39m, \u001b[32m8.37682761933729\u001b[39m),\n",
       "    \u001b[33mWeighted\u001b[39m(\u001b[32m((Zero → Unit) → (Zero → Unit))\u001b[39m, \u001b[32m8.376837774282098\u001b[39m),\n",
       "    \u001b[33mWeighted\u001b[39m(\u001b[32m((Unit → Zero) → (Unit → Zero))\u001b[39m, \u001b[32m8.37683976812447\u001b[39m),\n",
       "    \u001b[33mWeighted\u001b[39m(\u001b[32m(∏(@a : 𝒰 ){ @a } → ∏(@a : 𝒰 ){ @a })\u001b[39m, \u001b[32m8.380879117727549\u001b[39m),\n",
       "    \u001b[33mWeighted\u001b[39m(\u001b[32m((Unit → 𝒰 ) → (Unit → 𝒰 ))\u001b[39m, \u001b[32m8.381962026880412\u001b[39m),\n",
       "    \u001b[33mWeighted\u001b[39m(\u001b[32m((Zero → 𝒰 ) → (Zero → 𝒰 ))\u001b[39m, \u001b[32m8.381962079020235\u001b[39m),\n",
       "    \u001b[33mWeighted\u001b[39m(\u001b[32m((𝒰  → 𝒰 ) → (𝒰  → 𝒰 ))\u001b[39m, \u001b[32m8.38206579108333\u001b[39m),\n",
       "    \u001b[33mWeighted\u001b[39m(\u001b[32m((𝒰  → Unit) → (𝒰  → Unit))\u001b[39m, \u001b[32m8.382070187706464\u001b[39m),\n",
       "    \u001b[33mWeighted\u001b[39m(\u001b[32m((𝒰  → Zero) → (𝒰  → Zero))\u001b[39m, \u001b[32m8.382072136520808\u001b[39m),\n",
       "...\u001b[39m"
      ]
     },
     "metadata": {},
     "output_type": "display_data"
    }
   ],
   "source": [
    "termsT.map(_.map(_.typ).entropyVec).runToFuture"
   ]
  },
  {
   "cell_type": "code",
   "execution_count": 28,
   "metadata": {},
   "outputs": [
    {
     "data": {
      "text/plain": [
       "\u001b[36mNP\u001b[39m: \u001b[32mTyp\u001b[39m[\u001b[32mTerm\u001b[39m] = \u001b[32m∑(A : { (A → Zero) }\u001b[39m"
      ]
     },
     "execution_count": 28,
     "metadata": {},
     "output_type": "execute_result"
    }
   ],
   "source": [
    "val NP = negate(A ~>: A)"
   ]
  },
  {
   "cell_type": "code",
   "execution_count": 29,
   "metadata": {},
   "outputs": [
    {
     "data": {
      "text/plain": [
       "\u001b[36mres28\u001b[39m: \u001b[32mFiniteDistribution\u001b[39m[\u001b[32mTerm\u001b[39m] = \u001b[33mFiniteDistribution\u001b[39m(\u001b[33mVector\u001b[39m())"
      ]
     },
     "execution_count": 29,
     "metadata": {},
     "output_type": "execute_result"
    }
   ],
   "source": [
    "terms.filter(_.typ == NP)"
   ]
  },
  {
   "cell_type": "code",
   "execution_count": 30,
   "metadata": {},
   "outputs": [
    {
     "data": {
      "text/html": [
       "<div class=\"jp-RenderedText\">\n",
       "<pre><code><span style=\"color: rgb(0, 187, 187)\"><span class=\"ansi-cyan-fg\">res29</span></span>: <span style=\"color: rgb(0, 187, 0)\"><span class=\"ansi-green-fg\">monix</span></span>.<span style=\"color: rgb(0, 187, 0)\"><span class=\"ansi-green-fg\">execution</span></span>.<span style=\"color: rgb(0, 187, 0)\"><span class=\"ansi-green-fg\">CancelableFuture</span></span>[<span style=\"color: rgb(0, 187, 0)\"><span class=\"ansi-green-fg\">FiniteDistribution</span></span>[<span style=\"color: rgb(0, 187, 0)\"><span class=\"ansi-green-fg\">Term</span></span>]] = <span style=\"color: rgb(0, 187, 0)\"><span class=\"ansi-green-fg\"><span style=\"color: yellow\"><span class=\"ansi-yellow-fg\">Success</span></span>(<span style=\"color: yellow\"><span class=\"ansi-yellow-fg\">FiniteDistribution</span></span>(<span style=\"color: yellow\"><span class=\"ansi-yellow-fg\">Vector</span></span>()))</span></span></code></pre>\n",
       "</div>"
      ],
      "text/plain": [
       "\u001b[36mres29\u001b[39m: \u001b[32mmonix\u001b[39m.\u001b[32mexecution\u001b[39m.\u001b[32mCancelableFuture\u001b[39m[\u001b[32mFiniteDistribution\u001b[39m[\u001b[32mTerm\u001b[39m]] = \u001b[32m\u001b[33mSuccess\u001b[39m(\u001b[33mFiniteDistribution\u001b[39m(\u001b[33mVector\u001b[39m()))\u001b[39m"
      ]
     },
     "metadata": {},
     "output_type": "display_data"
    }
   ],
   "source": [
    "termsT.map(s => s.filter(_.typ == NP)).runToFuture"
   ]
  },
  {
   "cell_type": "code",
   "execution_count": 31,
   "metadata": {},
   "outputs": [
    {
     "data": {
      "text/html": [
       "<div class=\"jp-RenderedText\">\n",
       "<pre><code><span style=\"color: rgb(0, 187, 187)\"><span class=\"ansi-cyan-fg\">res30</span></span>: <span style=\"color: rgb(0, 187, 0)\"><span class=\"ansi-green-fg\">monix</span></span>.<span style=\"color: rgb(0, 187, 0)\"><span class=\"ansi-green-fg\">execution</span></span>.<span style=\"color: rgb(0, 187, 0)\"><span class=\"ansi-green-fg\">CancelableFuture</span></span>[<span style=\"color: rgb(0, 187, 0)\"><span class=\"ansi-green-fg\">Boolean</span></span>] = <span style=\"color: rgb(0, 187, 0)\"><span class=\"ansi-green-fg\"><span style=\"color: yellow\"><span class=\"ansi-yellow-fg\">Success</span></span>(true)</span></span></code></pre>\n",
       "</div>"
      ],
      "text/plain": [
       "\u001b[36mres30\u001b[39m: \u001b[32mmonix\u001b[39m.\u001b[32mexecution\u001b[39m.\u001b[32mCancelableFuture\u001b[39m[\u001b[32mBoolean\u001b[39m] = \u001b[32m\u001b[33mSuccess\u001b[39m(true)\u001b[39m"
      ]
     },
     "metadata": {},
     "output_type": "display_data"
    }
   ],
   "source": [
    "unknownsT.map(ts => ts.contains(A ~>: A)).runToFuture"
   ]
  },
  {
   "cell_type": "code",
   "execution_count": 32,
   "metadata": {},
   "outputs": [
    {
     "data": {
      "text/plain": [
       "\u001b[36mres31\u001b[39m: \u001b[32mSuccesses\u001b[39m = \u001b[33mVector\u001b[39m(\n",
       "  (\n",
       "    \u001b[32m∑(@a : { (@a → Zero) }\u001b[39m,\n",
       "    \u001b[32m0.5\u001b[39m,\n",
       "    \u001b[33mFiniteDistribution\u001b[39m(\n",
       "      \u001b[33mVector\u001b[39m(\n",
       "        \u001b[33mWeighted\u001b[39m(\u001b[32m(Zero , rec_{ Zero ; Zero })\u001b[39m, \u001b[32m0.01127994556862484\u001b[39m),\n",
       "        \u001b[33mWeighted\u001b[39m(\u001b[32m(Zero , (@a : Zero) ↦ @a)\u001b[39m, \u001b[32m0.00974783102948558\u001b[39m)\n",
       "      )\n",
       "    )\n",
       "  )\n",
       ")"
      ]
     },
     "execution_count": 32,
     "metadata": {},
     "output_type": "execute_result"
    }
   ],
   "source": [
    "successes.head"
   ]
  },
  {
   "cell_type": "code",
   "execution_count": 33,
   "metadata": {},
   "outputs": [
    {
     "data": {
      "text/plain": [
       "\u001b[36mres32\u001b[39m: \u001b[32mOption\u001b[39m[\u001b[32mTyp\u001b[39m[\u001b[32mTerm\u001b[39m]] = \u001b[33mSome\u001b[39m(\u001b[32m∑(@a : { (@a → Zero) }\u001b[39m)"
      ]
     },
     "execution_count": 33,
     "metadata": {},
     "output_type": "execute_result"
    }
   ],
   "source": [
    "successes.headOption.map(v => v.head._1)"
   ]
  },
  {
   "cell_type": "code",
   "execution_count": 34,
   "metadata": {},
   "outputs": [
    {
     "data": {
      "text/plain": [
       "\u001b[36mres33\u001b[39m: \u001b[32mBoolean\u001b[39m = true"
      ]
     },
     "execution_count": 34,
     "metadata": {},
     "output_type": "execute_result"
    }
   ],
   "source": [
    "successes.headOption.map(v => v.head._1) == Some(NP)"
   ]
  },
  {
   "cell_type": "code",
   "execution_count": 35,
   "metadata": {},
   "outputs": [
    {
     "data": {
      "text/plain": [
       "\u001b[36mres34\u001b[39m: \u001b[32mOption\u001b[39m[\u001b[32mTyp\u001b[39m[\u001b[32mTerm\u001b[39m]] = \u001b[33mSome\u001b[39m(\u001b[32m((𝒰  → ∏(@b : 𝒰 ){ @b }×𝒰 ) → Zero)\u001b[39m)"
      ]
     },
     "execution_count": 35,
     "metadata": {},
     "output_type": "execute_result"
    }
   ],
   "source": [
    "failures.headOption.map(t => negate(t))"
   ]
  },
  {
   "cell_type": "code",
   "execution_count": 36,
   "metadata": {},
   "outputs": [
    {
     "data": {
      "text/plain": [
       "\u001b[36mB\u001b[39m: \u001b[32mTyp\u001b[39m[\u001b[32mTerm\u001b[39m] = \u001b[32mB\u001b[39m\n",
       "\u001b[36mres35_1\u001b[39m: \u001b[32mTyp\u001b[39m[\u001b[32mTerm\u001b[39m] = \u001b[32m((A → B) → Zero)\u001b[39m"
      ]
     },
     "execution_count": 36,
     "metadata": {},
     "output_type": "execute_result"
    }
   ],
   "source": [
    "val B = \"B\" :: Type\n",
    "negate(A ->: B)"
   ]
  },
  {
   "cell_type": "markdown",
   "metadata": {},
   "source": [
    "## Conclusions\n",
    "\n",
    "* Memoization did not workin part because the correct things were not memoized.\n",
    "* Specifically a term that was part of the successes was not memoized.\n",
    "* We should look for not just the _finalTerms_ from the equations, but the _nextState_.\n",
    "* We should also improve negation for implies if the conclusion is independent of the premise."
   ]
  }
 ],
 "metadata": {
  "kernelspec": {
   "display_name": "Scala",
   "language": "scala",
   "name": "scala"
  },
  "language_info": {
   "codemirror_mode": "text/x-scala",
   "file_extension": ".scala",
   "mimetype": "text/x-scala",
   "name": "scala",
   "nbconvert_exporter": "script",
   "version": "2.12.8"
  }
 },
 "nbformat": 4,
 "nbformat_minor": 2
}
