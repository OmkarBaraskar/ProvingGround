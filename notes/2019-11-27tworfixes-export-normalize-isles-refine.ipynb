{
 "cells": [
  {
   "cell_type": "markdown",
   "metadata": {},
   "source": [
    "## Testing export and normalization of isles\n",
    "\n",
    "When we have variables such as $A: Type$, $a : A$ and $B: Type$, we test whether we correctly:\n",
    "\n",
    "* export equations, so that variables end up in islands\n",
    "* normalize isle names.\n",
    "\n",
    "This time the test is more refined. Namely,\n",
    "\n",
    "* We generate with the equations after exporting and just $Type$ as the initial distribution.\n",
    "* We check that all terms are independent of the variables.\n",
    "* Generate with equations after normalization.\n",
    "* Make the same tests.\n",
    "* Also test if the distribution after normalization is approximately the same as before."
   ]
  },
  {
   "cell_type": "code",
   "execution_count": 1,
   "metadata": {},
   "outputs": [
    {
     "data": {
      "text/plain": [
       "\u001b[32mimport \u001b[39m\u001b[36m$cp.$                                              \n",
       "\u001b[39m\n",
       "\u001b[32mimport \u001b[39m\u001b[36mprovingground._ , interface._, HoTT._, learning._ \n",
       "\u001b[39m"
      ]
     },
     "execution_count": 1,
     "metadata": {},
     "output_type": "execute_result"
    }
   ],
   "source": [
    "import $cp.bin.`provingground-core-jvm-8dd937ec3a.fat.jar`\n",
    "import provingground._ , interface._, HoTT._, learning._ \n",
    "repl.pprinter() = {\n",
    "  val p = repl.pprinter()\n",
    "  p.copy(\n",
    "    additionalHandlers = p.additionalHandlers.orElse {\n",
    "      translation.FansiShow.fansiHandler\n",
    "    }\n",
    "  )\n",
    "}\n"
   ]
  },
  {
   "cell_type": "code",
   "execution_count": 2,
   "metadata": {},
   "outputs": [
    {
     "data": {
      "text/plain": [
       "\u001b[36mA\u001b[39m: \u001b[32mTyp\u001b[39m[\u001b[32mTerm\u001b[39m] = \u001b[32mA\u001b[39m\n",
       "\u001b[36mB\u001b[39m: \u001b[32mTyp\u001b[39m[\u001b[32mTerm\u001b[39m] = \u001b[32mB\u001b[39m\n",
       "\u001b[36ma\u001b[39m: \u001b[32mTerm\u001b[39m = \u001b[32ma\u001b[39m\n",
       "\u001b[36mts\u001b[39m: \u001b[32mTermState\u001b[39m = \u001b[33mTermState\u001b[39m(\n",
       "  \u001b[33mFiniteDistribution\u001b[39m(\u001b[33mVector\u001b[39m(\u001b[33mWeighted\u001b[39m(\u001b[32ma\u001b[39m, \u001b[32m1.0\u001b[39m))),\n",
       "  \u001b[33mFiniteDistribution\u001b[39m(\u001b[33mVector\u001b[39m(\u001b[33mWeighted\u001b[39m(\u001b[32mA\u001b[39m, \u001b[32m0.5\u001b[39m), \u001b[33mWeighted\u001b[39m(\u001b[32mB\u001b[39m, \u001b[32m0.5\u001b[39m))),\n",
       "  \u001b[33mVector\u001b[39m(\u001b[32mA\u001b[39m, \u001b[32mB\u001b[39m, \u001b[32ma\u001b[39m),\n",
       "  \u001b[33mFiniteDistribution\u001b[39m(\u001b[33mVector\u001b[39m()),\n",
       "  \u001b[33mFiniteDistribution\u001b[39m(\u001b[33mVector\u001b[39m()),\n",
       "  \u001b[33mAppendVariable\u001b[39m(\u001b[33mAppendVariable\u001b[39m(\u001b[33mAppendVariable\u001b[39m(Empty, \u001b[32mA\u001b[39m), \u001b[32mB\u001b[39m), \u001b[32ma\u001b[39m)\n",
       ")"
      ]
     },
     "execution_count": 2,
     "metadata": {},
     "output_type": "execute_result"
    }
   ],
   "source": [
    "val A = \"A\" :: Type\n",
    "val B = \"B\" :: Type\n",
    "val a = \"a\" :: A\n",
    "val ts = TermState(FiniteDistribution.unif(a), FiniteDistribution.unif(A, B), vars = Vector(A, B, a), context = Context.Empty.addVariable(A).addVariable(B).addVariable(a))"
   ]
  },
  {
   "cell_type": "code",
   "execution_count": 3,
   "metadata": {},
   "outputs": [
    {
     "data": {
      "text/plain": [
       "\u001b[36mlp\u001b[39m: \u001b[32mLocalProver\u001b[39m = \u001b[33mLocalProver\u001b[39m(\n",
       "  \u001b[33mTermState\u001b[39m(\n",
       "    \u001b[33mFiniteDistribution\u001b[39m(\u001b[33mVector\u001b[39m(\u001b[33mWeighted\u001b[39m(\u001b[32ma\u001b[39m, \u001b[32m1.0\u001b[39m))),\n",
       "    \u001b[33mFiniteDistribution\u001b[39m(\u001b[33mVector\u001b[39m(\u001b[33mWeighted\u001b[39m(\u001b[32mA\u001b[39m, \u001b[32m0.5\u001b[39m), \u001b[33mWeighted\u001b[39m(\u001b[32mB\u001b[39m, \u001b[32m0.5\u001b[39m))),\n",
       "    \u001b[33mVector\u001b[39m(\u001b[32mA\u001b[39m, \u001b[32mB\u001b[39m, \u001b[32ma\u001b[39m),\n",
       "    \u001b[33mFiniteDistribution\u001b[39m(\u001b[33mVector\u001b[39m()),\n",
       "    \u001b[33mFiniteDistribution\u001b[39m(\u001b[33mVector\u001b[39m()),\n",
       "    \u001b[33mAppendVariable\u001b[39m(\u001b[33mAppendVariable\u001b[39m(\u001b[33mAppendVariable\u001b[39m(Empty, \u001b[32mA\u001b[39m), \u001b[32mB\u001b[39m), \u001b[32ma\u001b[39m)\n",
       "  ),\n",
       "  \u001b[33mTermGenParams\u001b[39m(\n",
       "    \u001b[32m0.1\u001b[39m,\n",
       "    \u001b[32m0.1\u001b[39m,\n",
       "    \u001b[32m0.1\u001b[39m,\n",
       "    \u001b[32m0.1\u001b[39m,\n",
       "    \u001b[32m0.1\u001b[39m,\n",
       "    \u001b[32m0.05\u001b[39m,\n",
       "    \u001b[32m0.05\u001b[39m,\n",
       "    \u001b[32m0.05\u001b[39m,\n",
       "    \u001b[32m0.0\u001b[39m,\n",
       "    \u001b[32m0.0\u001b[39m,\n",
       "    \u001b[32m0.0\u001b[39m,\n",
       "    \u001b[32m0.0\u001b[39m,\n",
       "    \u001b[32m0.3\u001b[39m,\n",
       "    \u001b[32m0.7\u001b[39m,\n",
       "    \u001b[32m0.5\u001b[39m,\n",
       "    \u001b[32m0.0\u001b[39m,\n",
       "    \u001b[32m0.0\u001b[39m,\n",
       "    \u001b[32m0.0\u001b[39m,\n",
       "    \u001b[33mOrElse\u001b[39m(\n",
       "      \u001b[33mOrElse\u001b[39m(\u001b[33mOrElse\u001b[39m(\u001b[33mOrElse\u001b[39m(<function1>, <function1>), <function1>), <function1>),\n",
       "      <function1>\n",
       "    )\n",
       "  ),\n",
       "  \u001b[32m1.0E-4\u001b[39m,\n",
       "  \u001b[32mNone\u001b[39m,\n",
       "  12 minutes,\n",
       "  \u001b[32m1.01\u001b[39m,\n",
       "  \u001b[32m1.0\u001b[39m,\n",
       "..."
      ]
     },
     "execution_count": 3,
     "metadata": {},
     "output_type": "execute_result"
    }
   ],
   "source": [
    "val lp = LocalProver(ts)"
   ]
  },
  {
   "cell_type": "code",
   "execution_count": 4,
   "metadata": {},
   "outputs": [
    {
     "data": {
      "text/plain": [
       "\u001b[36mres3_0\u001b[39m: \u001b[32mVector\u001b[39m[\u001b[32mTerm\u001b[39m] = \u001b[33mVector\u001b[39m(\u001b[32mA\u001b[39m, \u001b[32mB\u001b[39m, \u001b[32ma\u001b[39m)\n",
       "\u001b[32mimport \u001b[39m\u001b[36mTermData._\n",
       "\u001b[39m\n",
       "\u001b[36mdatT\u001b[39m: \u001b[32mmonix\u001b[39m.\u001b[32meval\u001b[39m.\u001b[32mTask\u001b[39m[(\u001b[32mTermState\u001b[39m, \u001b[32mSet\u001b[39m[\u001b[32mEquationNode\u001b[39m])] = \u001b[33mFlatMap\u001b[39m(\n",
       "  \u001b[33mAsync\u001b[39m(<function2>, false, true, true),\n",
       "  provingground.learning.TermData$$$Lambda$2576/557730498@68e8ba7d\n",
       ")"
      ]
     },
     "execution_count": 4,
     "metadata": {},
     "output_type": "execute_result"
    }
   ],
   "source": [
    "ts.vars\n",
    "import TermData._\n",
    "val datT = termData(lp)"
   ]
  },
  {
   "cell_type": "code",
   "execution_count": 5,
   "metadata": {},
   "outputs": [
    {
     "data": {
      "text/plain": [
       "\u001b[32mimport \u001b[39m\u001b[36mmonix.execution.Scheduler.Implicits.global\n",
       "\u001b[39m\n",
       "\u001b[36mtd\u001b[39m: (\u001b[32mTermState\u001b[39m, \u001b[32mSet\u001b[39m[\u001b[32mEquationNode\u001b[39m]) = (\n",
       "  \u001b[33mTermState\u001b[39m(\n",
       "    \u001b[33mFiniteDistribution\u001b[39m(\n",
       "      \u001b[33mVector\u001b[39m(\n",
       "        \u001b[33mWeighted\u001b[39m(\n",
       "          \u001b[32m(A : 𝒰 ) ↦ (B : 𝒰 ) ↦ (a : A) ↦ ((``@a_1 , @a_2) : A×B) ↦ a\u001b[39m,\n",
       "          \u001b[32m8.675006846432388E-4\u001b[39m\n",
       "        ),\n",
       "        \u001b[33mWeighted\u001b[39m(\n",
       "          \u001b[32m(A : 𝒰 ) ↦ (B : 𝒰 ) ↦ (a : A) ↦ (@a : B) ↦ (@a : B) ↦ @a\u001b[39m,\n",
       "          \u001b[32m0.0010674443639559507\u001b[39m\n",
       "        ),\n",
       "        \u001b[33mWeighted\u001b[39m(\n",
       "          \u001b[32m(A : 𝒰 ) ↦ (B : 𝒰 ) ↦ (a : A) ↦ ((```@a_1 , @a_2) : B×A) ↦ (```@a_1 , @a_2)\u001b[39m,\n",
       "          \u001b[32m3.7178600770424526E-4\u001b[39m\n",
       "        ),\n",
       "        \u001b[33mWeighted\u001b[39m(\n",
       "          \u001b[32m(A : 𝒰 ) ↦ (B : 𝒰 ) ↦ (a : A) ↦ ((``@a_1 , @a_2) : A×A) ↦ (``@a_1 , @a_2)\u001b[39m,\n",
       "          \u001b[32m3.7178600770424526E-4\u001b[39m\n",
       "        ),\n",
       "        \u001b[33mWeighted\u001b[39m(\n",
       "          \u001b[32m(A : 𝒰 ) ↦ (B : 𝒰 ) ↦ (a : A) ↦ (@a : B) ↦ a\u001b[39m,\n",
       "          \u001b[32m0.035508944319399785\u001b[39m\n",
       "        ),\n",
       "        \u001b[33mWeighted\u001b[39m(\n",
       "          \u001b[32m(A : 𝒰 ) ↦ (B : 𝒰 ) ↦ (a : A) ↦ ((`@a_1 , @a_2) : A×A) ↦ a\u001b[39m,\n",
       "          \u001b[32m8.675006846432388E-4\u001b[39m\n",
       "        ),\n",
       "        \u001b[33mWeighted\u001b[39m(\n",
       "          \u001b[32m(A : 𝒰 ) ↦ (B : 𝒰 ) ↦ (a : A) ↦ (@a : (A → A)) ↦ @a\u001b[39m,\n",
       "          \u001b[32m5.872312326815773E-4\u001b[39m\n",
       "        ),\n",
       "        \u001b[33mWeighted\u001b[39m(\n",
       "          \u001b[32m(A : 𝒰 ) ↦ (B : 𝒰 ) ↦ (a : A) ↦ (@a : (B → A)) ↦ @a\u001b[39m,\n",
       "          \u001b[32m6.940005477145914E-4\u001b[39m\n",
       "        ),\n",
       "        \u001b[33mWeighted\u001b[39m(\n",
       "..."
      ]
     },
     "execution_count": 5,
     "metadata": {},
     "output_type": "execute_result"
    }
   ],
   "source": [
    "import monix.execution.Scheduler.Implicits.global\n",
    "val td = datT.runSyncUnsafe()"
   ]
  },
  {
   "cell_type": "code",
   "execution_count": 6,
   "metadata": {},
   "outputs": [
    {
     "data": {
      "text/plain": [
       "\u001b[36mns\u001b[39m: \u001b[32mTermState\u001b[39m = \u001b[33mTermState\u001b[39m(\n",
       "  \u001b[33mFiniteDistribution\u001b[39m(\n",
       "    \u001b[33mVector\u001b[39m(\n",
       "      \u001b[33mWeighted\u001b[39m(\n",
       "        \u001b[32m(A : 𝒰 ) ↦ (B : 𝒰 ) ↦ (a : A) ↦ ((``@a_1 , @a_2) : A×B) ↦ a\u001b[39m,\n",
       "        \u001b[32m8.675006846432388E-4\u001b[39m\n",
       "      ),\n",
       "      \u001b[33mWeighted\u001b[39m(\n",
       "        \u001b[32m(A : 𝒰 ) ↦ (B : 𝒰 ) ↦ (a : A) ↦ (@a : B) ↦ (@a : B) ↦ @a\u001b[39m,\n",
       "        \u001b[32m0.0010674443639559507\u001b[39m\n",
       "      ),\n",
       "      \u001b[33mWeighted\u001b[39m(\n",
       "        \u001b[32m(A : 𝒰 ) ↦ (B : 𝒰 ) ↦ (a : A) ↦ ((```@a_1 , @a_2) : B×A) ↦ (```@a_1 , @a_2)\u001b[39m,\n",
       "        \u001b[32m3.7178600770424526E-4\u001b[39m\n",
       "      ),\n",
       "      \u001b[33mWeighted\u001b[39m(\n",
       "        \u001b[32m(A : 𝒰 ) ↦ (B : 𝒰 ) ↦ (a : A) ↦ ((``@a_1 , @a_2) : A×A) ↦ (``@a_1 , @a_2)\u001b[39m,\n",
       "        \u001b[32m3.7178600770424526E-4\u001b[39m\n",
       "      ),\n",
       "      \u001b[33mWeighted\u001b[39m(\n",
       "        \u001b[32m(A : 𝒰 ) ↦ (B : 𝒰 ) ↦ (a : A) ↦ (@a : B) ↦ a\u001b[39m,\n",
       "        \u001b[32m0.035508944319399785\u001b[39m\n",
       "      ),\n",
       "      \u001b[33mWeighted\u001b[39m(\n",
       "        \u001b[32m(A : 𝒰 ) ↦ (B : 𝒰 ) ↦ (a : A) ↦ ((`@a_1 , @a_2) : A×A) ↦ a\u001b[39m,\n",
       "        \u001b[32m8.675006846432388E-4\u001b[39m\n",
       "      ),\n",
       "      \u001b[33mWeighted\u001b[39m(\n",
       "        \u001b[32m(A : 𝒰 ) ↦ (B : 𝒰 ) ↦ (a : A) ↦ (@a : (A → A)) ↦ @a\u001b[39m,\n",
       "        \u001b[32m5.872312326815773E-4\u001b[39m\n",
       "      ),\n",
       "      \u001b[33mWeighted\u001b[39m(\n",
       "        \u001b[32m(A : 𝒰 ) ↦ (B : 𝒰 ) ↦ (a : A) ↦ (@a : (B → A)) ↦ @a\u001b[39m,\n",
       "        \u001b[32m6.940005477145914E-4\u001b[39m\n",
       "      ),\n",
       "      \u001b[33mWeighted\u001b[39m(\n",
       "        \u001b[32m(A : 𝒰 ) ↦ (B : 𝒰 ) ↦ (a : A) ↦ (@a : (A → B)) ↦ a\u001b[39m,\n",
       "...\n",
       "\u001b[36meqs\u001b[39m: \u001b[32mSet\u001b[39m[\u001b[32mEquationNode\u001b[39m] = \u001b[33mSet\u001b[39m(\n",
       "  \u001b[33mEquationNode\u001b[39m(\n",
       "    \u001b[33mFinalVal\u001b[39m(\n",
       "      \u001b[33mInIsle\u001b[39m(\n",
       "        \u001b[33mInIsle\u001b[39m(\n",
       "          \u001b[33mInIsle\u001b[39m(\n",
       "            \u001b[33mElem\u001b[39m(\u001b[32mB\u001b[39m, Typs),\n",
       "            \u001b[32ma\u001b[39m,\n",
       "            \u001b[33mIsland\u001b[39m(\n",
       "              Typs,\n",
       "              \u001b[33mConstRandVar\u001b[39m(Typs),\n",
       "              provingground.learning.ExpressionEval$$Lambda$2839/746465134@614ca8bb,\n",
       "              Pi,\n",
       "              EnterIsle\n",
       "            )\n",
       "          ),\n",
       "          \u001b[32mB\u001b[39m,\n",
       "          \u001b[33mIsland\u001b[39m(\n",
       "            Typs,\n",
       "            \u001b[33mConstRandVar\u001b[39m(Typs),\n",
       "            provingground.learning.ExpressionEval$$Lambda$2839/746465134@7b57405b,\n",
       "            Pi,\n",
       "            EnterIsle\n",
       "          )\n",
       "        ),\n",
       "        \u001b[32mA\u001b[39m,\n",
       "        \u001b[33mIsland\u001b[39m(\n",
       "          Typs,\n",
       "          \u001b[33mConstRandVar\u001b[39m(Typs),\n",
       "          provingground.learning.ExpressionEval$$Lambda$2839/746465134@55999e46,\n",
       "          Pi,\n",
       "          EnterIsle\n",
       "        )\n",
       "      )\n",
       "    ),\n",
       "    \u001b[33mProduct\u001b[39m(\n",
       "      \u001b[33mProduct\u001b[39m(\n",
       "..."
      ]
     },
     "execution_count": 6,
     "metadata": {},
     "output_type": "execute_result"
    }
   ],
   "source": [
    "val (ns, eqs) = td"
   ]
  },
  {
   "cell_type": "code",
   "execution_count": 7,
   "metadata": {},
   "outputs": [
    {
     "data": {
      "text/plain": [
       "\u001b[36matoms\u001b[39m: \u001b[32mSet\u001b[39m[\u001b[32mGeneratorVariables\u001b[39m.\u001b[32mVariable\u001b[39m[\u001b[32mAny\u001b[39m]] = \u001b[33mSet\u001b[39m(\n",
       "  \u001b[33mInIsle\u001b[39m(\n",
       "    \u001b[33mInIsle\u001b[39m(\n",
       "      \u001b[33mInIsle\u001b[39m(\n",
       "        \u001b[33mInIsle\u001b[39m(\n",
       "          \u001b[33mInIsle\u001b[39m(\n",
       "            \u001b[33mElem\u001b[39m(\u001b[32mB\u001b[39m, Typs),\n",
       "            \u001b[32m@a\u001b[39m,\n",
       "            \u001b[33mIsland\u001b[39m(Typs, \u001b[33mConstRandVar\u001b[39m(Typs), \u001b[33mAddVar\u001b[39m(\u001b[32mA\u001b[39m), Sigma, EnterIsle)\n",
       "          ),\n",
       "          \u001b[32m@a\u001b[39m,\n",
       "          \u001b[33mIsland\u001b[39m(Typs, \u001b[33mConstRandVar\u001b[39m(Typs), \u001b[33mAddVar\u001b[39m(\u001b[32mB\u001b[39m), Sigma, EnterIsle)\n",
       "        ),\n",
       "        \u001b[32ma\u001b[39m,\n",
       "        \u001b[33mIsland\u001b[39m(\n",
       "          Terms,\n",
       "          \u001b[33mConstRandVar\u001b[39m(Terms),\n",
       "          provingground.learning.ExpressionEval$$Lambda$2845/686750468@24aba665,\n",
       "          Lambda,\n",
       "          EnterIsle\n",
       "        )\n",
       "      ),\n",
       "      \u001b[32mB\u001b[39m,\n",
       "      \u001b[33mIsland\u001b[39m(\n",
       "        Typs,\n",
       "        \u001b[33mConstRandVar\u001b[39m(Typs),\n",
       "        provingground.learning.ExpressionEval$$Lambda$2839/746465134@7b57405b,\n",
       "        Pi,\n",
       "        EnterIsle\n",
       "      )\n",
       "    ),\n",
       "    \u001b[32mA\u001b[39m,\n",
       "    \u001b[33mIsland\u001b[39m(\n",
       "      Terms,\n",
       "      \u001b[33mConstRandVar\u001b[39m(Terms),\n",
       "      provingground.learning.ExpressionEval$$Lambda$2845/686750468@535204e6,\n",
       "      Lambda,\n",
       "      EnterIsle\n",
       "    )\n",
       "..."
      ]
     },
     "execution_count": 7,
     "metadata": {},
     "output_type": "execute_result"
    }
   ],
   "source": [
    "val atoms = (eqs.map(_.rhs).flatMap(Expression.varVals(_)) union eqs.map(_.lhs).flatMap(Expression.varVals(_))).map(_.variable)"
   ]
  },
  {
   "cell_type": "code",
   "execution_count": 8,
   "metadata": {},
   "outputs": [
    {
     "data": {
      "text/plain": [
       "\u001b[32mimport \u001b[39m\u001b[36mTermRandomVars._, GeneratorVariables._\n",
       "\u001b[39m\n",
       "\u001b[36melemTerms\u001b[39m: \u001b[32mSet\u001b[39m[\u001b[32mTerm\u001b[39m] = \u001b[33mSet\u001b[39m(\n",
       "  \u001b[32m(A : 𝒰 ) ↦ (B : 𝒰 ) ↦ (a : A) ↦ (@a : A) ↦ (@a : B) ↦ @a\u001b[39m,\n",
       "  \u001b[32m(A : 𝒰 ) ↦ (B : 𝒰 ) ↦ (a : A) ↦ (@a : B) ↦ (@a : A) ↦ @a\u001b[39m,\n",
       "  \u001b[32m(A : 𝒰 ) ↦ (B : 𝒰 ) ↦ (a : A) ↦ (@a : B) ↦ (@a : B) ↦ a\u001b[39m,\n",
       "  \u001b[32m(A : 𝒰 ) ↦ (B : 𝒰 ) ↦ (a : A) ↦ (@a : B) ↦ (@a : B) ↦ @a\u001b[39m,\n",
       "  \u001b[32m(A : 𝒰 ) ↦ (B : 𝒰 ) ↦ (a : A) ↦ (@a : B) ↦ (@a : A) ↦ a\u001b[39m,\n",
       "  \u001b[32m(A : 𝒰 ) ↦ (B : 𝒰 ) ↦ (a : A) ↦ (@a : A) ↦ (@a : B) ↦ a\u001b[39m,\n",
       "  \u001b[32m(A : 𝒰 ) ↦ (B : 𝒰 ) ↦ (a : A) ↦ (@a : B) ↦ (@a : A) ↦ @a\u001b[39m,\n",
       "  \u001b[32m(A : 𝒰 ) ↦ (B : 𝒰 ) ↦ (a : A) ↦ (@a : A) ↦ (@a : B) ↦ @a\u001b[39m,\n",
       "  \u001b[32m(A : 𝒰 ) ↦ (B : 𝒰 ) ↦ (a : A) ↦ (@a : A) ↦ (@a : A) ↦ a\u001b[39m,\n",
       "  \u001b[32m(A : 𝒰 ) ↦ (B : 𝒰 ) ↦ (a : A) ↦ (@a : A) ↦ (@a : A) ↦ @a\u001b[39m,\n",
       "  \u001b[32m(A : 𝒰 ) ↦ (B : 𝒰 ) ↦ (a : A) ↦ (@a : (A → B)) ↦ a\u001b[39m,\n",
       "  \u001b[32m(A : 𝒰 ) ↦ (B : 𝒰 ) ↦ (a : A) ↦ (@a : (B → B)) ↦ a\u001b[39m,\n",
       "  \u001b[32m(A : 𝒰 ) ↦ (B : 𝒰 ) ↦ (a : A) ↦ (@a : (B → A)) ↦ a\u001b[39m,\n",
       "  \u001b[32m(A : 𝒰 ) ↦ (B : 𝒰 ) ↦ (a : A) ↦ (@a : (A → A)) ↦ a\u001b[39m,\n",
       "  \u001b[32m(A : 𝒰 ) ↦ (B : 𝒰 ) ↦ (a : A) ↦ ((`@a_1 , @a_2) : A×A) ↦ a\u001b[39m,\n",
       "  \u001b[32m(A : 𝒰 ) ↦ (B : 𝒰 ) ↦ (a : A) ↦ ((``@a_1 , @a_2) : A×B) ↦ a\u001b[39m,\n",
       "  \u001b[32m(A : 𝒰 ) ↦ (B : 𝒰 ) ↦ (a : A) ↦ ((`@a_1 , @a_2) : B×B) ↦ a\u001b[39m,\n",
       "  \u001b[32m(A : 𝒰 ) ↦ (B : 𝒰 ) ↦ (a : A) ↦ ((``@a_1 , @a_2) : B×A) ↦ a\u001b[39m,\n",
       "  \u001b[32m(A : 𝒰 ) ↦ (B : 𝒰 ) ↦ (a : A) ↦ (@a : B) ↦ a\u001b[39m,\n",
       "  \u001b[32m(A : 𝒰 ) ↦ (B : 𝒰 ) ↦ (a : A) ↦ (@a : B) ↦ @a\u001b[39m,\n",
       "  \u001b[32m(A : 𝒰 ) ↦ (B : 𝒰 ) ↦ (a : A) ↦ (@a : A) ↦ a\u001b[39m,\n",
       "  \u001b[32m(A : 𝒰 ) ↦ (B : 𝒰 ) ↦ (a : A) ↦ (@a : A) ↦ @a\u001b[39m,\n",
       "  \u001b[32m(A : 𝒰 ) ↦ (B : 𝒰 ) ↦ (a : A) ↦ a\u001b[39m,\n",
       "  \u001b[32m(A : 𝒰 ) ↦ (B : 𝒰 ) ↦ (a : A) ↦ (@a : (A → A)) ↦ @a\u001b[39m,\n",
       "  \u001b[32m(A : 𝒰 ) ↦ (B : 𝒰 ) ↦ (a : A) ↦ (@a : (B → A)) ↦ @a\u001b[39m,\n",
       "  \u001b[32m(A : 𝒰 ) ↦ (B : 𝒰 ) ↦ (a : A) ↦ (@a : (B → B)) ↦ @a\u001b[39m,\n",
       "  \u001b[32m(A : 𝒰 ) ↦ (B : 𝒰 ) ↦ (a : A) ↦ (@a : (A → B)) ↦ @a\u001b[39m,\n",
       "  \u001b[32m(A : 𝒰 ) ↦ (B : 𝒰 ) ↦ (a : A) ↦ ((```@a_1 , @a_2) : A×B) ↦ (```@a_1 , @a_2)\u001b[39m,\n",
       "  \u001b[32m(A : 𝒰 ) ↦ (B : 𝒰 ) ↦ (a : A) ↦ ((``@a_1 , @a_2) : A×A) ↦ (``@a_1 , @a_2)\u001b[39m,\n",
       "  \u001b[32m(A : 𝒰 ) ↦ (B : 𝒰 ) ↦ (a : A) ↦ ((``@a_1 , @a_2) : B×B) ↦ (``@a_1 , @a_2)\u001b[39m,\n",
       "  \u001b[32m(A : 𝒰 ) ↦ (B : 𝒰 ) ↦ (a : A) ↦ ((```@a_1 , @a_2) : B×A) ↦ (```@a_1 , @a_2)\u001b[39m\n",
       ")"
      ]
     },
     "execution_count": 8,
     "metadata": {},
     "output_type": "execute_result"
    }
   ],
   "source": [
    "import TermRandomVars._, GeneratorVariables._\n",
    "val elemTerms = atoms.collect{case Elem(t: Term, Terms) => t}"
   ]
  },
  {
   "cell_type": "code",
   "execution_count": 9,
   "metadata": {},
   "outputs": [
    {
     "data": {
      "text/plain": [
       "\u001b[36mres8\u001b[39m: \u001b[32mBoolean\u001b[39m = false"
      ]
     },
     "execution_count": 9,
     "metadata": {},
     "output_type": "execute_result"
    }
   ],
   "source": [
    "elemTerms.exists(_.dependsOn(A))"
   ]
  },
  {
   "cell_type": "markdown",
   "metadata": {},
   "source": [
    "## First check\n",
    "\n",
    "None of the terms depends on the variables"
   ]
  },
  {
   "cell_type": "code",
   "execution_count": 10,
   "metadata": {},
   "outputs": [
    {
     "data": {
      "text/plain": [
       "\u001b[36mres9\u001b[39m: \u001b[32mInt\u001b[39m = \u001b[32m4527\u001b[39m"
      ]
     },
     "execution_count": 10,
     "metadata": {},
     "output_type": "execute_result"
    }
   ],
   "source": [
    "atoms.size"
   ]
  },
  {
   "cell_type": "code",
   "execution_count": 11,
   "metadata": {},
   "outputs": [
    {
     "data": {
      "text/plain": [
       "\u001b[36melemTyps\u001b[39m: \u001b[32mSet\u001b[39m[\u001b[32mTyp\u001b[39m[\u001b[32mTerm\u001b[39m]] = \u001b[33mSet\u001b[39m()"
      ]
     },
     "execution_count": 11,
     "metadata": {},
     "output_type": "execute_result"
    }
   ],
   "source": [
    "val elemTyps = atoms.collect{case Elem(t: Typ[Term], Typs) => t}"
   ]
  },
  {
   "cell_type": "code",
   "execution_count": 12,
   "metadata": {},
   "outputs": [
    {
     "data": {
      "text/plain": [
       "\u001b[36mnormEqs\u001b[39m: \u001b[32mSet\u001b[39m[\u001b[32mEquationNode\u001b[39m] = \u001b[33mSet\u001b[39m(\n",
       "  \u001b[33mEquationNode\u001b[39m(\n",
       "    \u001b[33mFinalVal\u001b[39m(\n",
       "      \u001b[33mInIsle\u001b[39m(\n",
       "        \u001b[33mInIsle\u001b[39m(\n",
       "          \u001b[33mElem\u001b[39m(\u001b[32m(@a → (@a → @b×@a))\u001b[39m, Typs),\n",
       "          \u001b[32m@b\u001b[39m,\n",
       "          \u001b[33mIsland\u001b[39m(Typs, \u001b[33mConstRandVar\u001b[39m(Typs), \u001b[33mAddVar\u001b[39m(\u001b[32m𝒰 \u001b[39m), Pi, EnterIsle)\n",
       "        ),\n",
       "        \u001b[32m@a\u001b[39m,\n",
       "        \u001b[33mIsland\u001b[39m(Terms, \u001b[33mConstRandVar\u001b[39m(Terms), \u001b[33mAddVar\u001b[39m(\u001b[32m𝒰 \u001b[39m), Lambda, EnterIsle)\n",
       "      )\n",
       "    ),\n",
       "    \u001b[33mProduct\u001b[39m(\n",
       "      \u001b[33mCoeff\u001b[39m(\n",
       "        \u001b[33mFlatMap\u001b[39m(\n",
       "          Typs,\n",
       "          provingground.learning.TermGeneratorNodes$$Lambda$2483/852504014@4c96c460,\n",
       "          Typs\n",
       "        )\n",
       "      ),\n",
       "      \u001b[33mFinalVal\u001b[39m(\n",
       "        \u001b[33mInIsle\u001b[39m(\n",
       "          \u001b[33mInIsle\u001b[39m(\n",
       "            \u001b[33mInIsle\u001b[39m(\n",
       "              \u001b[33mElem\u001b[39m(\u001b[32m(@a → @b×@a)\u001b[39m, Typs),\n",
       "              \u001b[32m@a\u001b[39m,\n",
       "              \u001b[33mIsland\u001b[39m(Typs, \u001b[33mConstRandVar\u001b[39m(Typs), \u001b[33mAddVar\u001b[39m(\u001b[32m@a\u001b[39m), Pi, EnterIsle)\n",
       "            ),\n",
       "            \u001b[32m@b\u001b[39m,\n",
       "            \u001b[33mIsland\u001b[39m(Typs, \u001b[33mConstRandVar\u001b[39m(Typs), \u001b[33mAddVar\u001b[39m(\u001b[32m𝒰 \u001b[39m), Pi, EnterIsle)\n",
       "          ),\n",
       "          \u001b[32m@a\u001b[39m,\n",
       "          \u001b[33mIsland\u001b[39m(Terms, \u001b[33mConstRandVar\u001b[39m(Terms), \u001b[33mAddVar\u001b[39m(\u001b[32m𝒰 \u001b[39m), Lambda, EnterIsle)\n",
       "        )\n",
       "      )\n",
       "    )\n",
       "  ),\n",
       "..."
      ]
     },
     "execution_count": 12,
     "metadata": {},
     "output_type": "execute_result"
    }
   ],
   "source": [
    "val normEqs = eqs.map(eq => TermData.isleNormalize(eq))"
   ]
  },
  {
   "cell_type": "code",
   "execution_count": 13,
   "metadata": {},
   "outputs": [
    {
     "data": {
      "text/plain": [
       "\u001b[36mnormAtoms\u001b[39m: \u001b[32mSet\u001b[39m[\u001b[32mVariable\u001b[39m[\u001b[32mAny\u001b[39m]] = \u001b[33mSet\u001b[39m(\n",
       "  \u001b[33mInIsle\u001b[39m(\n",
       "    \u001b[33mInIsle\u001b[39m(\n",
       "      \u001b[33mInIsle\u001b[39m(\n",
       "        \u001b[33mElem\u001b[39m(\u001b[32m(@b → (@a → @a))\u001b[39m, Typs),\n",
       "        \u001b[32m@a\u001b[39m,\n",
       "        \u001b[33mIsland\u001b[39m(Typs, \u001b[33mConstRandVar\u001b[39m(Typs), \u001b[33mAddVar\u001b[39m(\u001b[32m@a\u001b[39m), Pi, EnterIsle)\n",
       "      ),\n",
       "      \u001b[32m@b\u001b[39m,\n",
       "      \u001b[33mIsland\u001b[39m(Typs, \u001b[33mConstRandVar\u001b[39m(Typs), \u001b[33mAddVar\u001b[39m(\u001b[32m𝒰 \u001b[39m), Pi, EnterIsle)\n",
       "    ),\n",
       "    \u001b[32m@a\u001b[39m,\n",
       "    \u001b[33mIsland\u001b[39m(Typs, \u001b[33mConstRandVar\u001b[39m(Typs), \u001b[33mAddVar\u001b[39m(\u001b[32m𝒰 \u001b[39m), Pi, EnterIsle)\n",
       "  ),\n",
       "  \u001b[33mInIsle\u001b[39m(\n",
       "    \u001b[33mInIsle\u001b[39m(\n",
       "      \u001b[33mInIsle\u001b[39m(\n",
       "        \u001b[33mElem\u001b[39m(\u001b[32m(@b → (@b → @a))\u001b[39m, Typs),\n",
       "        \u001b[32m@a\u001b[39m,\n",
       "        \u001b[33mIsland\u001b[39m(Typs, \u001b[33mConstRandVar\u001b[39m(Typs), \u001b[33mAddVar\u001b[39m(\u001b[32m@a\u001b[39m), Pi, EnterIsle)\n",
       "      ),\n",
       "      \u001b[32m@b\u001b[39m,\n",
       "      \u001b[33mIsland\u001b[39m(Typs, \u001b[33mConstRandVar\u001b[39m(Typs), \u001b[33mAddVar\u001b[39m(\u001b[32m𝒰 \u001b[39m), Pi, EnterIsle)\n",
       "    ),\n",
       "    \u001b[32m@a\u001b[39m,\n",
       "    \u001b[33mIsland\u001b[39m(Typs, \u001b[33mConstRandVar\u001b[39m(Typs), \u001b[33mAddVar\u001b[39m(\u001b[32m𝒰 \u001b[39m), Pi, EnterIsle)\n",
       "  ),\n",
       "  \u001b[33mInIsle\u001b[39m(\n",
       "    \u001b[33mInIsle\u001b[39m(\n",
       "      \u001b[33mInIsle\u001b[39m(\n",
       "        \u001b[33mElem\u001b[39m(\u001b[32m(@a → (@b → @a))\u001b[39m, Typs),\n",
       "        \u001b[32m@a\u001b[39m,\n",
       "        \u001b[33mIsland\u001b[39m(Typs, \u001b[33mConstRandVar\u001b[39m(Typs), \u001b[33mAddVar\u001b[39m(\u001b[32m@a\u001b[39m), Pi, EnterIsle)\n",
       "      ),\n",
       "      \u001b[32m@b\u001b[39m,\n",
       "      \u001b[33mIsland\u001b[39m(Typs, \u001b[33mConstRandVar\u001b[39m(Typs), \u001b[33mAddVar\u001b[39m(\u001b[32m𝒰 \u001b[39m), Pi, EnterIsle)\n",
       "    ),\n",
       "    \u001b[32m@a\u001b[39m,\n",
       "    \u001b[33mIsland\u001b[39m(Typs, \u001b[33mConstRandVar\u001b[39m(Typs), \u001b[33mAddVar\u001b[39m(\u001b[32m𝒰 \u001b[39m), Pi, EnterIsle)\n",
       "..."
      ]
     },
     "execution_count": 13,
     "metadata": {},
     "output_type": "execute_result"
    }
   ],
   "source": [
    "val normAtoms = (normEqs.map(_.rhs).flatMap(Expression.varVals(_)) union normEqs.map(_.lhs).flatMap(Expression.varVals(_))).map(_.variable)"
   ]
  },
  {
   "cell_type": "code",
   "execution_count": 14,
   "metadata": {},
   "outputs": [
    {
     "data": {
      "text/plain": [
       "\u001b[36mnormElemTerms\u001b[39m: \u001b[32mSet\u001b[39m[\u001b[32mTerm\u001b[39m] = \u001b[33mSet\u001b[39m(\n",
       "  \u001b[32m(A : 𝒰 ) ↦ (B : 𝒰 ) ↦ (a : A) ↦ (@a : B) ↦ (@a : B) ↦ @a\u001b[39m,\n",
       "  \u001b[32m(A : 𝒰 ) ↦ (B : 𝒰 ) ↦ (a : A) ↦ (@a : B) ↦ (@a : A) ↦ a\u001b[39m,\n",
       "  \u001b[32m(A : 𝒰 ) ↦ (B : 𝒰 ) ↦ (a : A) ↦ (@a : A) ↦ (@a : B) ↦ a\u001b[39m,\n",
       "  \u001b[32m(A : 𝒰 ) ↦ (B : 𝒰 ) ↦ (a : A) ↦ (@a : B) ↦ (@a : A) ↦ @a\u001b[39m,\n",
       "  \u001b[32m(A : 𝒰 ) ↦ (B : 𝒰 ) ↦ (a : A) ↦ (@a : A) ↦ (@a : B) ↦ @a\u001b[39m,\n",
       "  \u001b[32m(A : 𝒰 ) ↦ (B : 𝒰 ) ↦ (a : A) ↦ (@a : A) ↦ (@a : A) ↦ a\u001b[39m,\n",
       "  \u001b[32m(A : 𝒰 ) ↦ (B : 𝒰 ) ↦ (a : A) ↦ (@a : A) ↦ (@a : A) ↦ @a\u001b[39m,\n",
       "  \u001b[32m(A : 𝒰 ) ↦ (B : 𝒰 ) ↦ (a : A) ↦ (@a : A) ↦ (@a : B) ↦ @a\u001b[39m,\n",
       "  \u001b[32m(A : 𝒰 ) ↦ (B : 𝒰 ) ↦ (a : A) ↦ (@a : B) ↦ (@a : A) ↦ @a\u001b[39m,\n",
       "  \u001b[32m(A : 𝒰 ) ↦ (B : 𝒰 ) ↦ (a : A) ↦ (@a : B) ↦ (@a : B) ↦ a\u001b[39m,\n",
       "  \u001b[32m(A : 𝒰 ) ↦ (B : 𝒰 ) ↦ (a : A) ↦ (@a : (A → B)) ↦ a\u001b[39m,\n",
       "  \u001b[32m(A : 𝒰 ) ↦ (B : 𝒰 ) ↦ (a : A) ↦ (@a : (B → B)) ↦ a\u001b[39m,\n",
       "  \u001b[32m(A : 𝒰 ) ↦ (B : 𝒰 ) ↦ (a : A) ↦ (@a : (B → A)) ↦ a\u001b[39m,\n",
       "  \u001b[32m(A : 𝒰 ) ↦ (B : 𝒰 ) ↦ (a : A) ↦ (@a : (A → A)) ↦ a\u001b[39m,\n",
       "  \u001b[32m(A : 𝒰 ) ↦ (B : 𝒰 ) ↦ (a : A) ↦ ((`@a_1 , @a_2) : A×A) ↦ a\u001b[39m,\n",
       "  \u001b[32m(A : 𝒰 ) ↦ (B : 𝒰 ) ↦ (a : A) ↦ ((``@a_1 , @a_2) : B×A) ↦ a\u001b[39m,\n",
       "  \u001b[32m(A : 𝒰 ) ↦ (B : 𝒰 ) ↦ (a : A) ↦ ((`@a_1 , @a_2) : B×B) ↦ a\u001b[39m,\n",
       "  \u001b[32m(A : 𝒰 ) ↦ (B : 𝒰 ) ↦ (a : A) ↦ ((``@a_1 , @a_2) : A×B) ↦ a\u001b[39m,\n",
       "  \u001b[32m(A : 𝒰 ) ↦ (B : 𝒰 ) ↦ (a : A) ↦ (@a : A) ↦ a\u001b[39m,\n",
       "  \u001b[32m(A : 𝒰 ) ↦ (B : 𝒰 ) ↦ (a : A) ↦ (@a : A) ↦ @a\u001b[39m,\n",
       "  \u001b[32m(A : 𝒰 ) ↦ (B : 𝒰 ) ↦ (a : A) ↦ (@a : B) ↦ a\u001b[39m,\n",
       "  \u001b[32m(A : 𝒰 ) ↦ (B : 𝒰 ) ↦ (a : A) ↦ (@a : B) ↦ @a\u001b[39m,\n",
       "  \u001b[32m(A : 𝒰 ) ↦ (B : 𝒰 ) ↦ (a : A) ↦ a\u001b[39m,\n",
       "  \u001b[32m(A : 𝒰 ) ↦ (B : 𝒰 ) ↦ (a : A) ↦ (@a : (B → B)) ↦ @a\u001b[39m,\n",
       "  \u001b[32m(A : 𝒰 ) ↦ (B : 𝒰 ) ↦ (a : A) ↦ (@a : (A → B)) ↦ @a\u001b[39m,\n",
       "  \u001b[32m(A : 𝒰 ) ↦ (B : 𝒰 ) ↦ (a : A) ↦ (@a : (A → A)) ↦ @a\u001b[39m,\n",
       "  \u001b[32m(A : 𝒰 ) ↦ (B : 𝒰 ) ↦ (a : A) ↦ (@a : (B → A)) ↦ @a\u001b[39m,\n",
       "  \u001b[32m(A : 𝒰 ) ↦ (B : 𝒰 ) ↦ (a : A) ↦ ((```@a_1 , @a_2) : A×B) ↦ (```@a_1 , @a_2)\u001b[39m,\n",
       "  \u001b[32m(A : 𝒰 ) ↦ (B : 𝒰 ) ↦ (a : A) ↦ ((``@a_1 , @a_2) : B×B) ↦ (``@a_1 , @a_2)\u001b[39m,\n",
       "  \u001b[32m(A : 𝒰 ) ↦ (B : 𝒰 ) ↦ (a : A) ↦ ((``@a_1 , @a_2) : A×A) ↦ (``@a_1 , @a_2)\u001b[39m,\n",
       "  \u001b[32m(A : 𝒰 ) ↦ (B : 𝒰 ) ↦ (a : A) ↦ ((```@a_1 , @a_2) : B×A) ↦ (```@a_1 , @a_2)\u001b[39m\n",
       ")"
      ]
     },
     "execution_count": 14,
     "metadata": {},
     "output_type": "execute_result"
    }
   ],
   "source": [
    "val normElemTerms = normAtoms.collect{case Elem(t: Term, Terms) => t}"
   ]
  },
  {
   "cell_type": "code",
   "execution_count": 15,
   "metadata": {},
   "outputs": [
    {
     "data": {
      "text/plain": [
       "\u001b[36mres14\u001b[39m: \u001b[32mBoolean\u001b[39m = true"
      ]
     },
     "execution_count": 15,
     "metadata": {},
     "output_type": "execute_result"
    }
   ],
   "source": [
    "elemTerms == normElemTerms"
   ]
  },
  {
   "cell_type": "markdown",
   "metadata": {},
   "source": [
    "## Next conclusion\n",
    "\n",
    "* terms are generated correctly\n",
    "* however, this does not test deeper generation, for which we must generate with the equations."
   ]
  },
  {
   "cell_type": "code",
   "execution_count": 16,
   "metadata": {},
   "outputs": [
    {
     "data": {
      "text/plain": [
       "\u001b[36mts0\u001b[39m: \u001b[32mTermState\u001b[39m = \u001b[33mTermState\u001b[39m(\n",
       "  \u001b[33mFiniteDistribution\u001b[39m(\u001b[33mVector\u001b[39m()),\n",
       "  \u001b[33mFiniteDistribution\u001b[39m(\u001b[33mVector\u001b[39m(\u001b[33mWeighted\u001b[39m(\u001b[32m𝒰 \u001b[39m, \u001b[32m1.0\u001b[39m))),\n",
       "  \u001b[33mVector\u001b[39m(),\n",
       "  \u001b[33mFiniteDistribution\u001b[39m(\u001b[33mVector\u001b[39m()),\n",
       "  \u001b[33mFiniteDistribution\u001b[39m(\u001b[33mVector\u001b[39m()),\n",
       "  Empty\n",
       ")"
      ]
     },
     "execution_count": 16,
     "metadata": {},
     "output_type": "execute_result"
    }
   ],
   "source": [
    "val ts0 = TermState(FiniteDistribution.empty, FiniteDistribution.unif(Type))"
   ]
  },
  {
   "cell_type": "code",
   "execution_count": 17,
   "metadata": {},
   "outputs": [
    {
     "data": {
      "text/plain": [
       "\u001b[36mev\u001b[39m: \u001b[32mExpressionEval\u001b[39m = provingground.learning.ExpressionEval$$anon$2@772df45b"
      ]
     },
     "execution_count": 17,
     "metadata": {},
     "output_type": "execute_result"
    }
   ],
   "source": [
    "val ev = ExpressionEval.fromInitEqs(ts0, Equation.group(eqs), TermGenParams(), decayS = 0.95)"
   ]
  },
  {
   "cell_type": "code",
   "execution_count": 18,
   "metadata": {},
   "outputs": [
    {
     "data": {
      "text/plain": [
       "\u001b[36mtermsT\u001b[39m: \u001b[32mFiniteDistribution\u001b[39m[\u001b[32mTerm\u001b[39m] = \u001b[33mFiniteDistribution\u001b[39m(\n",
       "  \u001b[33mVector\u001b[39m(\n",
       "    \u001b[33mWeighted\u001b[39m(\n",
       "      \u001b[32m(A : 𝒰 ) ↦ (B : 𝒰 ) ↦ (a : A) ↦ ((```@a_1 , @a_2) : B×A) ↦ (```@a_1 , @a_2)\u001b[39m,\n",
       "      \u001b[32m0.023783361218616697\u001b[39m\n",
       "    ),\n",
       "    \u001b[33mWeighted\u001b[39m(\n",
       "      \u001b[32m(A : 𝒰 ) ↦ (B : 𝒰 ) ↦ (a : A) ↦ ((``@a_1 , @a_2) : A×A) ↦ (``@a_1 , @a_2)\u001b[39m,\n",
       "      \u001b[32m0.023783346929568194\u001b[39m\n",
       "    ),\n",
       "    \u001b[33mWeighted\u001b[39m(\n",
       "      \u001b[32m(A : 𝒰 ) ↦ (B : 𝒰 ) ↦ (a : A) ↦ ((``@a_1 , @a_2) : B×B) ↦ (``@a_1 , @a_2)\u001b[39m,\n",
       "      \u001b[32m0.023786541590912733\u001b[39m\n",
       "    ),\n",
       "    \u001b[33mWeighted\u001b[39m(\n",
       "      \u001b[32m(A : 𝒰 ) ↦ (B : 𝒰 ) ↦ (a : A) ↦ ((```@a_1 , @a_2) : A×B) ↦ (```@a_1 , @a_2)\u001b[39m,\n",
       "      \u001b[32m0.023786520883480558\u001b[39m\n",
       "    ),\n",
       "    \u001b[33mWeighted\u001b[39m(\n",
       "      \u001b[32m(A : 𝒰 ) ↦ (B : 𝒰 ) ↦ (a : A) ↦ (@a : (B → A)) ↦ @a\u001b[39m,\n",
       "      \u001b[32m0.04758154345221369\u001b[39m\n",
       "    ),\n",
       "    \u001b[33mWeighted\u001b[39m(\n",
       "      \u001b[32m(A : 𝒰 ) ↦ (B : 𝒰 ) ↦ (a : A) ↦ (@a : (A → A)) ↦ @a\u001b[39m,\n",
       "      \u001b[32m0.04758142786902684\u001b[39m\n",
       "    ),\n",
       "    \u001b[33mWeighted\u001b[39m(\n",
       "      \u001b[32m(A : 𝒰 ) ↦ (B : 𝒰 ) ↦ (a : A) ↦ (@a : (B → B)) ↦ @a\u001b[39m,\n",
       "      \u001b[32m0.04759436016007325\u001b[39m\n",
       "    ),\n",
       "    \u001b[33mWeighted\u001b[39m(\n",
       "      \u001b[32m(A : 𝒰 ) ↦ (B : 𝒰 ) ↦ (a : A) ↦ (@a : (A → B)) ↦ @a\u001b[39m,\n",
       "      \u001b[32m0.04759419256878797\u001b[39m\n",
       "    ),\n",
       "    \u001b[33mWeighted\u001b[39m(\n",
       "..."
      ]
     },
     "execution_count": 18,
     "metadata": {},
     "output_type": "execute_result"
    }
   ],
   "source": [
    "val termsT = ev.finalTerms"
   ]
  },
  {
   "cell_type": "code",
   "execution_count": 19,
   "metadata": {},
   "outputs": [
    {
     "data": {
      "text/plain": [
       "\u001b[36mevN\u001b[39m: \u001b[32mExpressionEval\u001b[39m = provingground.learning.ExpressionEval$$anon$2@7329af08"
      ]
     },
     "execution_count": 19,
     "metadata": {},
     "output_type": "execute_result"
    }
   ],
   "source": [
    "val evN = ExpressionEval.fromInitEqs(ts0, Equation.group(normEqs), TermGenParams(), decayS = 0.95)"
   ]
  },
  {
   "cell_type": "code",
   "execution_count": 20,
   "metadata": {},
   "outputs": [
    {
     "data": {
      "text/plain": [
       "\u001b[36mtermsN\u001b[39m: \u001b[32mFiniteDistribution\u001b[39m[\u001b[32mTerm\u001b[39m] = \u001b[33mFiniteDistribution\u001b[39m(\n",
       "  \u001b[33mVector\u001b[39m(\n",
       "    \u001b[33mWeighted\u001b[39m(\n",
       "      \u001b[32m(A : 𝒰 ) ↦ (B : 𝒰 ) ↦ (a : A) ↦ ((```@a_1 , @a_2) : B×A) ↦ (```@a_1 , @a_2)\u001b[39m,\n",
       "      \u001b[32m0.021427818142670963\u001b[39m\n",
       "    ),\n",
       "    \u001b[33mWeighted\u001b[39m(\n",
       "      \u001b[32m(A : 𝒰 ) ↦ (B : 𝒰 ) ↦ (a : A) ↦ ((``@a_1 , @a_2) : B×B) ↦ (``@a_1 , @a_2)\u001b[39m,\n",
       "      \u001b[32m0.021430696963074085\u001b[39m\n",
       "    ),\n",
       "    \u001b[33mWeighted\u001b[39m(\n",
       "      \u001b[32m(A : 𝒰 ) ↦ (B : 𝒰 ) ↦ (a : A) ↦ ((```@a_1 , @a_2) : A×B) ↦ (```@a_1 , @a_2)\u001b[39m,\n",
       "      \u001b[32m0.021430678902601065\u001b[39m\n",
       "    ),\n",
       "    \u001b[33mWeighted\u001b[39m(\n",
       "      \u001b[32m(A : 𝒰 ) ↦ (B : 𝒰 ) ↦ (a : A) ↦ ((``@a_1 , @a_2) : A×A) ↦ (``@a_1 , @a_2)\u001b[39m,\n",
       "      \u001b[32m0.02142780590265384\u001b[39m\n",
       "    ),\n",
       "    \u001b[33mWeighted\u001b[39m(\n",
       "      \u001b[32m(A : 𝒰 ) ↦ (B : 𝒰 ) ↦ (a : A) ↦ (@a : (A → B)) ↦ @a\u001b[39m,\n",
       "      \u001b[32m0.042880191056144476\u001b[39m\n",
       "    ),\n",
       "    \u001b[33mWeighted\u001b[39m(\n",
       "      \u001b[32m(A : 𝒰 ) ↦ (B : 𝒰 ) ↦ (a : A) ↦ (@a : (B → A)) ↦ @a\u001b[39m,\n",
       "      \u001b[32m0.042868736079918056\u001b[39m\n",
       "    ),\n",
       "    \u001b[33mWeighted\u001b[39m(\n",
       "      \u001b[32m(A : 𝒰 ) ↦ (B : 𝒰 ) ↦ (a : A) ↦ (@a : (A → A)) ↦ @a\u001b[39m,\n",
       "      \u001b[32m0.04286863716011596\u001b[39m\n",
       "    ),\n",
       "    \u001b[33mWeighted\u001b[39m(\n",
       "      \u001b[32m(A : 𝒰 ) ↦ (B : 𝒰 ) ↦ (a : A) ↦ (@a : (B → B)) ↦ @a\u001b[39m,\n",
       "      \u001b[32m0.04288033712339029\u001b[39m\n",
       "    ),\n",
       "    \u001b[33mWeighted\u001b[39m(\n",
       "..."
      ]
     },
     "execution_count": 20,
     "metadata": {},
     "output_type": "execute_result"
    }
   ],
   "source": [
    "val termsN = evN.finalTerms"
   ]
  },
  {
   "cell_type": "code",
   "execution_count": 21,
   "metadata": {},
   "outputs": [
    {
     "data": {
      "text/plain": [
       "\u001b[36mres20\u001b[39m: \u001b[32mBoolean\u001b[39m = true"
      ]
     },
     "execution_count": 21,
     "metadata": {},
     "output_type": "execute_result"
    }
   ],
   "source": [
    "termsT.support == termsN.support"
   ]
  },
  {
   "cell_type": "code",
   "execution_count": 22,
   "metadata": {},
   "outputs": [
    {
     "data": {
      "text/plain": [
       "\u001b[36mres21\u001b[39m: \u001b[32mDouble\u001b[39m = \u001b[32m4.6001650461794075\u001b[39m"
      ]
     },
     "execution_count": 22,
     "metadata": {},
     "output_type": "execute_result"
    }
   ],
   "source": [
    "ExpressionEval.mapRatio(termsT.toMap, termsN.toMap)"
   ]
  },
  {
   "cell_type": "code",
   "execution_count": 23,
   "metadata": {},
   "outputs": [
    {
     "data": {
      "text/plain": [
       "\u001b[36mbigT\u001b[39m: \u001b[32mTerm\u001b[39m = \u001b[32m(A : 𝒰 ) ↦ (B : 𝒰 ) ↦ (a : A) ↦ (@a : B) ↦ a\u001b[39m"
      ]
     },
     "execution_count": 23,
     "metadata": {},
     "output_type": "execute_result"
    }
   ],
   "source": [
    "val bigT = termsT.support.maxBy(t => termsT(t) / termsN(t))"
   ]
  },
  {
   "cell_type": "code",
   "execution_count": 24,
   "metadata": {},
   "outputs": [
    {
     "data": {
      "text/plain": [
       "\u001b[36mres23_0\u001b[39m: \u001b[32mDouble\u001b[39m = \u001b[32m0.03520116836582195\u001b[39m\n",
       "\u001b[36mres23_1\u001b[39m: \u001b[32mDouble\u001b[39m = \u001b[32m0.031162283724873487\u001b[39m"
      ]
     },
     "execution_count": 24,
     "metadata": {},
     "output_type": "execute_result"
    }
   ],
   "source": [
    "termsT(bigT)\n",
    "termsN(bigT)"
   ]
  },
  {
   "cell_type": "code",
   "execution_count": 25,
   "metadata": {},
   "outputs": [
    {
     "data": {
      "text/plain": [
       "\u001b[36mbigN\u001b[39m: \u001b[32mTerm\u001b[39m = \u001b[32m(A : 𝒰 ) ↦ (B : 𝒰 ) ↦ (a : A) ↦ (@a : A) ↦ (@a : A) ↦ a\u001b[39m"
      ]
     },
     "execution_count": 25,
     "metadata": {},
     "output_type": "execute_result"
    }
   ],
   "source": [
    "val bigN = termsT.support.maxBy(t => termsN(t) / termsT(t))"
   ]
  },
  {
   "cell_type": "code",
   "execution_count": 26,
   "metadata": {},
   "outputs": [
    {
     "data": {
      "text/plain": [
       "\u001b[36mres25_0\u001b[39m: \u001b[32mDouble\u001b[39m = \u001b[32m0.002380181625229522\u001b[39m\n",
       "\u001b[36mres25_1\u001b[39m: \u001b[32mDouble\u001b[39m = \u001b[32m0.01094922831593934\u001b[39m"
      ]
     },
     "execution_count": 26,
     "metadata": {},
     "output_type": "execute_result"
    }
   ],
   "source": [
    "termsT(bigN)\n",
    "termsN(bigN)"
   ]
  },
  {
   "cell_type": "markdown",
   "metadata": {},
   "source": [
    "## Partial bug fix\n",
    "\n",
    "* the crash has stopped\n",
    "* however, it is clear that variable names are being reused incorrectly.\n",
    "* this bug remains even after correction to nextName"
   ]
  },
  {
   "cell_type": "code",
   "execution_count": 27,
   "metadata": {},
   "outputs": [
    {
     "data": {
      "text/plain": [
       "\u001b[36mns\u001b[39m: \u001b[32mTermState\u001b[39m = \u001b[33mTermState\u001b[39m(\n",
       "  \u001b[33mFiniteDistribution\u001b[39m(\n",
       "    \u001b[33mVector\u001b[39m(\n",
       "      \u001b[33mWeighted\u001b[39m(\u001b[32m((@a_1 , @a_2) : A×B) ↦ a\u001b[39m, \u001b[32m8.675006846432388E-4\u001b[39m),\n",
       "      \u001b[33mWeighted\u001b[39m(\u001b[32m(@a : B) ↦ (@a : B) ↦ @a\u001b[39m, \u001b[32m0.0010674443639559507\u001b[39m),\n",
       "      \u001b[33mWeighted\u001b[39m(\u001b[32m((`@a_1 , @a_2) : B×A) ↦ (`@a_1 , @a_2)\u001b[39m, \u001b[32m3.7178600770424526E-4\u001b[39m),\n",
       "      \u001b[33mWeighted\u001b[39m(\u001b[32m((`@a_1 , @a_2) : A×A) ↦ (`@a_1 , @a_2)\u001b[39m, \u001b[32m3.7178600770424526E-4\u001b[39m),\n",
       "      \u001b[33mWeighted\u001b[39m(\u001b[32m(@a : B) ↦ a\u001b[39m, \u001b[32m0.035508944319399785\u001b[39m),\n",
       "      \u001b[33mWeighted\u001b[39m(\u001b[32m((@a_1 , @a_2) : A×A) ↦ a\u001b[39m, \u001b[32m8.675006846432388E-4\u001b[39m),\n",
       "      \u001b[33mWeighted\u001b[39m(\u001b[32m(@a : (A → A)) ↦ @a\u001b[39m, \u001b[32m5.872312326815773E-4\u001b[39m),\n",
       "      \u001b[33mWeighted\u001b[39m(\u001b[32m(@a : (B → A)) ↦ @a\u001b[39m, \u001b[32m6.940005477145914E-4\u001b[39m),\n",
       "      \u001b[33mWeighted\u001b[39m(\u001b[32m(@a : (A → B)) ↦ a\u001b[39m, \u001b[32m0.001370206209590347\u001b[39m),\n",
       "      \u001b[33mWeighted\u001b[39m(\u001b[32m(@a : (B → B)) ↦ a\u001b[39m, \u001b[32m0.0016193346113340464\u001b[39m),\n",
       "      \u001b[33mWeighted\u001b[39m(\u001b[32m(@a : A) ↦ @a\u001b[39m, \u001b[32m0.02245098635849324\u001b[39m),\n",
       "      \u001b[33mWeighted\u001b[39m(\u001b[32m(@a : A) ↦ (@a : A) ↦ @a\u001b[39m, \u001b[32m0.0011041153249291451\u001b[39m),\n",
       "      \u001b[33mWeighted\u001b[39m(\u001b[32m((`@a_1 , @a_2) : B×B) ↦ (`@a_1 , @a_2)\u001b[39m, \u001b[32m3.7178600770424526E-4\u001b[39m),\n",
       "      \u001b[33mWeighted\u001b[39m(\u001b[32m(@a : A) ↦ (@a : A) ↦ a\u001b[39m, \u001b[32m0.0010608166847358453\u001b[39m),\n",
       "      \u001b[33mWeighted\u001b[39m(\u001b[32m(@a : (A → A)) ↦ @a(a)\u001b[39m, \u001b[32m3.558977167767136E-4\u001b[39m),\n",
       "      \u001b[33mWeighted\u001b[39m(\u001b[32m(@a : A) ↦ (@a : B) ↦ @a\u001b[39m, \u001b[32m6.494796028994972E-4\u001b[39m),\n",
       "      \u001b[33mWeighted\u001b[39m(\u001b[32m(@a : B) ↦ (@a : A) ↦ @a\u001b[39m, \u001b[32m4.3953591457009735E-4\u001b[39m),\n",
       "      \u001b[33mWeighted\u001b[39m(\u001b[32ma\u001b[39m, \u001b[32m0.8658912103781063\u001b[39m),\n",
       "      \u001b[33mWeighted\u001b[39m(\u001b[32m(@a : B) ↦ (@a : B) ↦ a\u001b[39m, \u001b[32m0.0010255838006635605\u001b[39m),\n",
       "      \u001b[33mWeighted\u001b[39m(\u001b[32m(@a : (A → A)) ↦ a\u001b[39m, \u001b[32m0.001370206209590347\u001b[39m),\n",
       "      \u001b[33mWeighted\u001b[39m(\u001b[32m(@a : (B → A)) ↦ a\u001b[39m, \u001b[32m0.0016193346113340464\u001b[39m),\n",
       "      \u001b[33mWeighted\u001b[39m(\u001b[32m(@a : (B → B)) ↦ @a\u001b[39m, \u001b[32m6.940005477145914E-4\u001b[39m),\n",
       "      \u001b[33mWeighted\u001b[39m(\u001b[32m(@a : (A → B)) ↦ @a\u001b[39m, \u001b[32m5.872312326815773E-4\u001b[39m),\n",
       "      \u001b[33mWeighted\u001b[39m(\u001b[32m(@a : A) ↦ (@a : B) ↦ a\u001b[39m, \u001b[32m0.0010608166847358453\u001b[39m),\n",
       "      \u001b[33mWeighted\u001b[39m(\u001b[32m(@a : B) ↦ (@a : A) ↦ a\u001b[39m, \u001b[32m0.0010255838006635605\u001b[39m),\n",
       "      \u001b[33mWeighted\u001b[39m(\u001b[32m((`@a_1 , @a_2) : A×B) ↦ (`@a_1 , @a_2)\u001b[39m, \u001b[32m3.7178600770424526E-4\u001b[39m),\n",
       "      \u001b[33mWeighted\u001b[39m(\u001b[32m(@a : A) ↦ a\u001b[39m, \u001b[32m0.03721737508977956\u001b[39m),\n",
       "      \u001b[33mWeighted\u001b[39m(\u001b[32m(@a : B) ↦ @a\u001b[39m, \u001b[32m0.016205076100067474\u001b[39m),\n",
       "      \u001b[33mWeighted\u001b[39m(\u001b[32m(@a : A) ↦ (@a : B) ↦ @a\u001b[39m, \u001b[32m4.546357220296481E-4\u001b[39m),\n",
       "      \u001b[33mWeighted\u001b[39m(\u001b[32m(@a : B) ↦ (@a : A) ↦ @a\u001b[39m, \u001b[32m6.279084493858533E-4\u001b[39m),\n",
       "      \u001b[33mWeighted\u001b[39m(\u001b[32m((@a_1 , @a_2) : B×A) ↦ a\u001b[39m, \u001b[32m8.675006846432388E-4\u001b[39m),\n",
       "      \u001b[33mWeighted\u001b[39m(\u001b[32m((@a_1 , @a_2) : B×B) ↦ a\u001b[39m, \u001b[32m8.675006846432388E-4\u001b[39m),\n",
       "      \u001b[33mWeighted\u001b[39m(\u001b[32m(@a : (A → B)) ↦ @a(a)\u001b[39m, \u001b[32m3.558977167767136E-4\u001b[39m)\n",
       "    )\n",
       "  ),\n",
       "  \u001b[33mFiniteDistribution\u001b[39m(\n",
       "..."
      ]
     },
     "execution_count": 27,
     "metadata": {},
     "output_type": "execute_result"
    }
   ],
   "source": [
    "val ns = lp.nextState.runSyncUnsafe()"
   ]
  },
  {
   "cell_type": "markdown",
   "metadata": {},
   "source": [
    "The error is clearly present here too. The next check is where we change the context."
   ]
  },
  {
   "cell_type": "code",
   "execution_count": 28,
   "metadata": {},
   "outputs": [
    {
     "data": {
      "text/plain": [
       "\u001b[36mts1\u001b[39m: \u001b[32mTermState\u001b[39m = \u001b[33mTermState\u001b[39m(\n",
       "  \u001b[33mFiniteDistribution\u001b[39m(\u001b[33mVector\u001b[39m(\u001b[33mWeighted\u001b[39m(\u001b[32ma\u001b[39m, \u001b[32m1.0\u001b[39m))),\n",
       "  \u001b[33mFiniteDistribution\u001b[39m(\u001b[33mVector\u001b[39m(\u001b[33mWeighted\u001b[39m(\u001b[32mA\u001b[39m, \u001b[32m0.5\u001b[39m), \u001b[33mWeighted\u001b[39m(\u001b[32mB\u001b[39m, \u001b[32m0.5\u001b[39m))),\n",
       "  \u001b[33mVector\u001b[39m(\u001b[32mA\u001b[39m, \u001b[32mB\u001b[39m, \u001b[32ma\u001b[39m),\n",
       "  \u001b[33mFiniteDistribution\u001b[39m(\u001b[33mVector\u001b[39m()),\n",
       "  \u001b[33mFiniteDistribution\u001b[39m(\u001b[33mVector\u001b[39m()),\n",
       "  Empty\n",
       ")"
      ]
     },
     "execution_count": 28,
     "metadata": {},
     "output_type": "execute_result"
    }
   ],
   "source": [
    "val ts1 = ts.copy(context = Context.Empty)"
   ]
  },
  {
   "cell_type": "code",
   "execution_count": 29,
   "metadata": {},
   "outputs": [
    {
     "data": {
      "text/plain": [
       "\u001b[36mlp1\u001b[39m: \u001b[32mLocalProver\u001b[39m = \u001b[33mLocalProver\u001b[39m(\n",
       "  \u001b[33mTermState\u001b[39m(\n",
       "    \u001b[33mFiniteDistribution\u001b[39m(\u001b[33mVector\u001b[39m(\u001b[33mWeighted\u001b[39m(\u001b[32ma\u001b[39m, \u001b[32m1.0\u001b[39m))),\n",
       "    \u001b[33mFiniteDistribution\u001b[39m(\u001b[33mVector\u001b[39m(\u001b[33mWeighted\u001b[39m(\u001b[32mA\u001b[39m, \u001b[32m0.5\u001b[39m), \u001b[33mWeighted\u001b[39m(\u001b[32mB\u001b[39m, \u001b[32m0.5\u001b[39m))),\n",
       "    \u001b[33mVector\u001b[39m(\u001b[32mA\u001b[39m, \u001b[32mB\u001b[39m, \u001b[32ma\u001b[39m),\n",
       "    \u001b[33mFiniteDistribution\u001b[39m(\u001b[33mVector\u001b[39m()),\n",
       "    \u001b[33mFiniteDistribution\u001b[39m(\u001b[33mVector\u001b[39m()),\n",
       "    Empty\n",
       "  ),\n",
       "  \u001b[33mTermGenParams\u001b[39m(\n",
       "    \u001b[32m0.1\u001b[39m,\n",
       "    \u001b[32m0.1\u001b[39m,\n",
       "    \u001b[32m0.1\u001b[39m,\n",
       "    \u001b[32m0.1\u001b[39m,\n",
       "    \u001b[32m0.1\u001b[39m,\n",
       "    \u001b[32m0.05\u001b[39m,\n",
       "    \u001b[32m0.05\u001b[39m,\n",
       "    \u001b[32m0.05\u001b[39m,\n",
       "    \u001b[32m0.0\u001b[39m,\n",
       "    \u001b[32m0.0\u001b[39m,\n",
       "    \u001b[32m0.0\u001b[39m,\n",
       "    \u001b[32m0.0\u001b[39m,\n",
       "    \u001b[32m0.3\u001b[39m,\n",
       "    \u001b[32m0.7\u001b[39m,\n",
       "    \u001b[32m0.5\u001b[39m,\n",
       "    \u001b[32m0.0\u001b[39m,\n",
       "    \u001b[32m0.0\u001b[39m,\n",
       "    \u001b[32m0.0\u001b[39m,\n",
       "    \u001b[33mOrElse\u001b[39m(\n",
       "      \u001b[33mOrElse\u001b[39m(\u001b[33mOrElse\u001b[39m(\u001b[33mOrElse\u001b[39m(<function1>, <function1>), <function1>), <function1>),\n",
       "      <function1>\n",
       "    )\n",
       "  ),\n",
       "  \u001b[32m1.0E-4\u001b[39m,\n",
       "  \u001b[32mNone\u001b[39m,\n",
       "  12 minutes,\n",
       "  \u001b[32m1.01\u001b[39m,\n",
       "  \u001b[32m1.0\u001b[39m,\n",
       "..."
      ]
     },
     "execution_count": 29,
     "metadata": {},
     "output_type": "execute_result"
    }
   ],
   "source": [
    "val lp1 = lp.copy(initState = ts1)"
   ]
  },
  {
   "cell_type": "code",
   "execution_count": 30,
   "metadata": {},
   "outputs": [
    {
     "data": {
      "text/plain": [
       "\u001b[36mns1\u001b[39m: \u001b[32mTermState\u001b[39m = \u001b[33mTermState\u001b[39m(\n",
       "  \u001b[33mFiniteDistribution\u001b[39m(\n",
       "    \u001b[33mVector\u001b[39m(\n",
       "      \u001b[33mWeighted\u001b[39m(\u001b[32m((@a_1 , @a_2) : A×B) ↦ a\u001b[39m, \u001b[32m8.671859432529369E-4\u001b[39m),\n",
       "      \u001b[33mWeighted\u001b[39m(\u001b[32m(@a : B) ↦ (@b : B) ↦ @b\u001b[39m, \u001b[32m6.25946582994212E-4\u001b[39m),\n",
       "      \u001b[33mWeighted\u001b[39m(\u001b[32m(@a : B) ↦ (@b : B) ↦ @a\u001b[39m, \u001b[32m4.3816260809594835E-4\u001b[39m),\n",
       "      \u001b[33mWeighted\u001b[39m(\u001b[32m((`@a_1 , @a_2) : B×A) ↦ (`@a_1 , @a_2)\u001b[39m, \u001b[32m3.71651118536973E-4\u001b[39m),\n",
       "      \u001b[33mWeighted\u001b[39m(\u001b[32m((`@a_1 , @a_2) : A×A) ↦ (`@a_1 , @a_2)\u001b[39m, \u001b[32m3.71651118536973E-4\u001b[39m),\n",
       "      \u001b[33mWeighted\u001b[39m(\u001b[32m(@a : B) ↦ a\u001b[39m, \u001b[32m0.0384282501336959\u001b[39m),\n",
       "      \u001b[33mWeighted\u001b[39m(\u001b[32m((@a_1 , @a_2) : A×A) ↦ a\u001b[39m, \u001b[32m8.671859432529369E-4\u001b[39m),\n",
       "      \u001b[33mWeighted\u001b[39m(\u001b[32m(@a : (A → A)) ↦ @a\u001b[39m, \u001b[32m5.870181769712191E-4\u001b[39m),\n",
       "      \u001b[33mWeighted\u001b[39m(\u001b[32m(@a : (B → A)) ↦ @a\u001b[39m, \u001b[32m6.937487546023499E-4\u001b[39m),\n",
       "      \u001b[33mWeighted\u001b[39m(\u001b[32m(@a : (B → B)) ↦ a\u001b[39m, \u001b[32m0.0016187470940721494\u001b[39m),\n",
       "      \u001b[33mWeighted\u001b[39m(\u001b[32m(@a : (A → B)) ↦ a\u001b[39m, \u001b[32m0.0013697090795995112\u001b[39m),\n",
       "      \u001b[33mWeighted\u001b[39m(\u001b[32m(@b : A) ↦ @b\u001b[39m, \u001b[32m0.012675323748495152\u001b[39m),\n",
       "      \u001b[33mWeighted\u001b[39m(\u001b[32m(@a : A) ↦ (@b : A) ↦ @b\u001b[39m, \u001b[32m6.588580589777157E-4\u001b[39m),\n",
       "      \u001b[33mWeighted\u001b[39m(\u001b[32m(@a : A) ↦ (@b : A) ↦ @a\u001b[39m, \u001b[32m4.612006412844011E-4\u001b[39m),\n",
       "      \u001b[33mWeighted\u001b[39m(\u001b[32m((`@a_1 , @a_2) : B×B) ↦ (`@a_1 , @a_2)\u001b[39m, \u001b[32m3.71651118536973E-4\u001b[39m),\n",
       "      \u001b[33mWeighted\u001b[39m(\u001b[32m(@a : A) ↦ (@b : A) ↦ a\u001b[39m, \u001b[32m0.0010761348296636024\u001b[39m),\n",
       "      \u001b[33mWeighted\u001b[39m(\u001b[32m(@a : (A → A)) ↦ @a(a)\u001b[39m, \u001b[32m3.557685921037692E-4\u001b[39m),\n",
       "      \u001b[33mWeighted\u001b[39m(\u001b[32m(@a : A) ↦ (@a : B) ↦ @a\u001b[39m, \u001b[32m6.588580589777157E-4\u001b[39m),\n",
       "      \u001b[33mWeighted\u001b[39m(\u001b[32m(@a : B) ↦ (@a : A) ↦ @a\u001b[39m, \u001b[32m4.3816260809594835E-4\u001b[39m),\n",
       "      \u001b[33mWeighted\u001b[39m(\u001b[32ma\u001b[39m, \u001b[32m0.8741931716134901\u001b[39m),\n",
       "      \u001b[33mWeighted\u001b[39m(\u001b[32m(@a : B) ↦ (@b : B) ↦ a\u001b[39m, \u001b[32m0.001022379418890546\u001b[39m),\n",
       "      \u001b[33mWeighted\u001b[39m(\u001b[32m(@a : (A → A)) ↦ a\u001b[39m, \u001b[32m0.0013697090795995112\u001b[39m),\n",
       "      \u001b[33mWeighted\u001b[39m(\u001b[32m(@a : (B → A)) ↦ a\u001b[39m, \u001b[32m0.0016187470940721494\u001b[39m),\n",
       "      \u001b[33mWeighted\u001b[39m(\u001b[32m(@a : (B → B)) ↦ @a\u001b[39m, \u001b[32m6.937487546023499E-4\u001b[39m),\n",
       "      \u001b[33mWeighted\u001b[39m(\u001b[32m(@a : (A → B)) ↦ @a\u001b[39m, \u001b[32m5.870181769712191E-4\u001b[39m),\n",
       "      \u001b[33mWeighted\u001b[39m(\u001b[32m(@a : A) ↦ (@a : B) ↦ a\u001b[39m, \u001b[32m0.0010761348296636024\u001b[39m),\n",
       "      \u001b[33mWeighted\u001b[39m(\u001b[32m(@a : B) ↦ (@a : A) ↦ a\u001b[39m, \u001b[32m0.001022379418890546\u001b[39m),\n",
       "      \u001b[33mWeighted\u001b[39m(\u001b[32m((`@a_1 , @a_2) : A×B) ↦ (`@a_1 , @a_2)\u001b[39m, \u001b[32m3.71651118536973E-4\u001b[39m),\n",
       "      \u001b[33mWeighted\u001b[39m(\u001b[32m(@b : A) ↦ a\u001b[39m, \u001b[32m0.03855347011506094\u001b[39m),\n",
       "      \u001b[33mWeighted\u001b[39m(\u001b[32m(@a : B) ↦ @a\u001b[39m, \u001b[32m0.013379088467587383\u001b[39m),\n",
       "      \u001b[33mWeighted\u001b[39m(\u001b[32m(@a : A) ↦ (@a : B) ↦ @a\u001b[39m, \u001b[32m4.612006412844011E-4\u001b[39m),\n",
       "      \u001b[33mWeighted\u001b[39m(\u001b[32m(@a : B) ↦ (@a : A) ↦ @a\u001b[39m, \u001b[32m6.25946582994212E-4\u001b[39m),\n",
       "      \u001b[33mWeighted\u001b[39m(\u001b[32m((@a_1 , @a_2) : B×A) ↦ a\u001b[39m, \u001b[32m8.671859432529369E-4\u001b[39m),\n",
       "      \u001b[33mWeighted\u001b[39m(\u001b[32m((@a_1 , @a_2) : B×B) ↦ a\u001b[39m, \u001b[32m8.671859432529369E-4\u001b[39m),\n",
       "      \u001b[33mWeighted\u001b[39m(\u001b[32m(@a : (A → B)) ↦ @a(a)\u001b[39m, \u001b[32m3.557685921037692E-4\u001b[39m)\n",
       "    )\n",
       "..."
      ]
     },
     "execution_count": 30,
     "metadata": {},
     "output_type": "execute_result"
    }
   ],
   "source": [
    "val ns1 = lp1.nextState.runSyncUnsafe()"
   ]
  },
  {
   "cell_type": "code",
   "execution_count": 31,
   "metadata": {},
   "outputs": [
    {
     "data": {
      "text/plain": [
       "\u001b[36mres30\u001b[39m: \u001b[32mSet\u001b[39m[\u001b[32mTerm\u001b[39m] = \u001b[33mSet\u001b[39m(\u001b[32m(@a : B) ↦ (@b : B) ↦ @a\u001b[39m, \u001b[32m(@a : A) ↦ (@b : A) ↦ @a\u001b[39m)"
      ]
     },
     "execution_count": 31,
     "metadata": {},
     "output_type": "execute_result"
    }
   ],
   "source": [
    "ns1.terms.support -- ns.terms.support"
   ]
  },
  {
   "cell_type": "code",
   "execution_count": 32,
   "metadata": {},
   "outputs": [
    {
     "data": {
      "text/plain": [
       "\u001b[36mres31\u001b[39m: \u001b[32mSet\u001b[39m[\u001b[32mTerm\u001b[39m] = \u001b[33mSet\u001b[39m()"
      ]
     },
     "execution_count": 32,
     "metadata": {},
     "output_type": "execute_result"
    }
   ],
   "source": [
    "ns.terms.support -- ns1.terms.support"
   ]
  },
  {
   "cell_type": "code",
   "execution_count": 33,
   "metadata": {},
   "outputs": [
    {
     "data": {
      "text/plain": [
       "\u001b[36mt\u001b[39m: \u001b[32mTerm\u001b[39m = \u001b[32m(@a : A) ↦ (@a : A) ↦ a\u001b[39m"
      ]
     },
     "execution_count": 33,
     "metadata": {},
     "output_type": "execute_result"
    }
   ],
   "source": [
    "val t = ns.terms.pmf(13).elem"
   ]
  },
  {
   "cell_type": "code",
   "execution_count": 35,
   "metadata": {},
   "outputs": [
    {
     "data": {
      "text/plain": [
       "\u001b[36mtOpt\u001b[39m: \u001b[32mOption\u001b[39m[\u001b[32mTerm\u001b[39m] = \u001b[33mSome\u001b[39m(\u001b[32m(@a : A) ↦ (@b : A) ↦ a\u001b[39m)"
      ]
     },
     "execution_count": 35,
     "metadata": {},
     "output_type": "execute_result"
    }
   ],
   "source": [
    "val tOpt = ns1.terms.support.find(x => x == t)"
   ]
  },
  {
   "cell_type": "code",
   "execution_count": 36,
   "metadata": {},
   "outputs": [
    {
     "data": {
      "text/plain": [
       "\u001b[36mres35\u001b[39m: \u001b[32mBoolean\u001b[39m = true"
      ]
     },
     "execution_count": 36,
     "metadata": {},
     "output_type": "execute_result"
    }
   ],
   "source": [
    "tOpt.get == t"
   ]
  },
  {
   "cell_type": "code",
   "execution_count": 37,
   "metadata": {},
   "outputs": [
    {
     "data": {
      "text/plain": [
       "\u001b[36mres36\u001b[39m: \u001b[32mBoolean\u001b[39m = true"
      ]
     },
     "execution_count": 37,
     "metadata": {},
     "output_type": "execute_result"
    }
   ],
   "source": [
    "t == tOpt.get"
   ]
  },
  {
   "cell_type": "code",
   "execution_count": 38,
   "metadata": {},
   "outputs": [
    {
     "data": {
      "text/plain": [
       "\u001b[36mx\u001b[39m: \u001b[32mTerm\u001b[39m = \u001b[32m@a\u001b[39m"
      ]
     },
     "execution_count": 38,
     "metadata": {},
     "output_type": "execute_result"
    }
   ],
   "source": [
    "val x = nextVar(A, Vector(A, B, a))"
   ]
  },
  {
   "cell_type": "code",
   "execution_count": 39,
   "metadata": {},
   "outputs": [
    {
     "data": {
      "text/plain": [
       "\u001b[36mctx\u001b[39m: \u001b[32mContext\u001b[39m.\u001b[32mAppendVariable\u001b[39m[\u001b[32mTerm\u001b[39m] = \u001b[33mAppendVariable\u001b[39m(\n",
       "  \u001b[33mAppendVariable\u001b[39m(\u001b[33mAppendVariable\u001b[39m(\u001b[33mAppendVariable\u001b[39m(Empty, \u001b[32mA\u001b[39m), \u001b[32mB\u001b[39m), \u001b[32ma\u001b[39m),\n",
       "  \u001b[32m@a\u001b[39m\n",
       ")\n",
       "\u001b[36my\u001b[39m: \u001b[32mTerm\u001b[39m = \u001b[32m@a\u001b[39m"
      ]
     },
     "execution_count": 39,
     "metadata": {},
     "output_type": "execute_result"
    }
   ],
   "source": [
    "val ctx = ts.context.addVariable(x)\n",
    "val y = nextVar(A, ctx.variables)"
   ]
  },
  {
   "cell_type": "code",
   "execution_count": 40,
   "metadata": {},
   "outputs": [
    {
     "data": {
      "text/plain": [
       "\u001b[36mres39\u001b[39m: \u001b[32mContext\u001b[39m = \u001b[33mAppendVariable\u001b[39m(\u001b[33mAppendVariable\u001b[39m(\u001b[33mAppendVariable\u001b[39m(Empty, \u001b[32mA\u001b[39m), \u001b[32mB\u001b[39m), \u001b[32ma\u001b[39m)"
      ]
     },
     "execution_count": 40,
     "metadata": {},
     "output_type": "execute_result"
    }
   ],
   "source": [
    "ts.context"
   ]
  },
  {
   "cell_type": "code",
   "execution_count": 41,
   "metadata": {},
   "outputs": [
    {
     "data": {
      "text/plain": [
       "\u001b[36mres40\u001b[39m: \u001b[32mVector\u001b[39m[\u001b[32mTerm\u001b[39m] = \u001b[33mVector\u001b[39m(\u001b[32mA\u001b[39m, \u001b[32mB\u001b[39m, \u001b[32m(A : 𝒰 ) ↦ a\u001b[39m)"
      ]
     },
     "execution_count": 41,
     "metadata": {},
     "output_type": "execute_result"
    }
   ],
   "source": [
    "ts.context.variables"
   ]
  },
  {
   "cell_type": "code",
   "execution_count": 42,
   "metadata": {},
   "outputs": [
    {
     "data": {
      "text/plain": [
       "\u001b[36mres41\u001b[39m: \u001b[32mVector\u001b[39m[\u001b[32mTerm\u001b[39m] = \u001b[33mVector\u001b[39m(\u001b[32mA\u001b[39m, \u001b[32mB\u001b[39m, \u001b[32m(A : 𝒰 ) ↦ a\u001b[39m, \u001b[32m(A : 𝒰 ) ↦ @a\u001b[39m)"
      ]
     },
     "execution_count": 42,
     "metadata": {},
     "output_type": "execute_result"
    }
   ],
   "source": [
    "ctx.variables"
   ]
  },
  {
   "cell_type": "markdown",
   "metadata": {},
   "source": [
    "It is evident what caused the error - the variable in a context changed its type. The code has been corrected to no longer use contexts, and the stuff should be run without contexts."
   ]
  }
 ],
 "metadata": {
  "kernelspec": {
   "display_name": "Scala",
   "language": "scala",
   "name": "scala"
  },
  "language_info": {
   "codemirror_mode": "text/x-scala",
   "file_extension": ".scala",
   "mimetype": "text/x-scala",
   "name": "scala",
   "nbconvert_exporter": "script",
   "version": "2.12.9"
  }
 },
 "nbformat": 4,
 "nbformat_minor": 4
}
