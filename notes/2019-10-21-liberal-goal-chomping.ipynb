{
 "cells": [
  {
   "cell_type": "markdown",
   "metadata": {},
   "source": [
    "## Liberal goal chomping\n",
    "\n",
    "* We run a variant of the most basic _strategic_ prover - a _goal chomper_ that keeps trying a succession of goals.\n",
    "* Termination is when all goals are finished; with failures recorded.\n",
    "* Proving is only by generation, with the generation including backward reasoning rules.\n",
    "* So far the goal chomper is untested; we test this.\n",
    "* We also test updating displays etc.\n",
    "\n",
    "\n",
    "### The goals and proving.\n",
    "\n",
    "* To generate the goals, we start with just `Type`.\n",
    "* To prove them, we include also `Zero`, `One` and `Star`"
   ]
  },
  {
   "cell_type": "code",
   "execution_count": 1,
   "metadata": {},
   "outputs": [
    {
     "data": {
      "text/plain": [
       "\u001b[32mimport \u001b[39m\u001b[36m$cp.$                                              \n",
       "\u001b[39m\n",
       "\u001b[32mimport \u001b[39m\u001b[36mprovingground._ , interface._, HoTT._, learning._ \n",
       "\u001b[39m"
      ]
     },
     "execution_count": 1,
     "metadata": {},
     "output_type": "execute_result"
    }
   ],
   "source": [
    "import $cp.bin.`provingground-core-jvm-8f190786f9.fat.jar`\n",
    "import provingground._ , interface._, HoTT._, learning._ \n",
    "repl.pprinter() = {\n",
    "  val p = repl.pprinter()\n",
    "  p.copy(\n",
    "    additionalHandlers = p.additionalHandlers.orElse {\n",
    "      translation.FansiShow.fansiHandler\n",
    "    }\n",
    "  )\n",
    "}\n"
   ]
  },
  {
   "cell_type": "code",
   "execution_count": 2,
   "metadata": {},
   "outputs": [
    {
     "data": {
      "text/plain": [
       "\u001b[36mterms\u001b[39m: \u001b[32mFiniteDistribution\u001b[39m[\u001b[32mTerm\u001b[39m] = \u001b[33mFiniteDistribution\u001b[39m(\n",
       "  \u001b[33mVector\u001b[39m(\n",
       "    \u001b[33mWeighted\u001b[39m(\u001b[32mUnit\u001b[39m, \u001b[32m0.3333333333333333\u001b[39m),\n",
       "    \u001b[33mWeighted\u001b[39m(\u001b[32mZero\u001b[39m, \u001b[32m0.3333333333333333\u001b[39m),\n",
       "    \u001b[33mWeighted\u001b[39m(\u001b[32mStar\u001b[39m, \u001b[32m0.3333333333333333\u001b[39m)\n",
       "  )\n",
       ")\n",
       "\u001b[36mtyps\u001b[39m: \u001b[32mFiniteDistribution\u001b[39m[\u001b[32mTyp\u001b[39m[\u001b[32mTerm\u001b[39m]] = \u001b[33mFiniteDistribution\u001b[39m(\n",
       "  \u001b[33mVector\u001b[39m(\n",
       "    \u001b[33mWeighted\u001b[39m(\u001b[32m𝒰 \u001b[39m, \u001b[32m0.3333333333333333\u001b[39m),\n",
       "    \u001b[33mWeighted\u001b[39m(\u001b[32mUnit\u001b[39m, \u001b[32m0.3333333333333333\u001b[39m),\n",
       "    \u001b[33mWeighted\u001b[39m(\u001b[32mZero\u001b[39m, \u001b[32m0.3333333333333333\u001b[39m)\n",
       "  )\n",
       ")\n",
       "\u001b[36mts\u001b[39m: \u001b[32mTermState\u001b[39m = \u001b[33mTermState\u001b[39m(\n",
       "  \u001b[33mFiniteDistribution\u001b[39m(\n",
       "    \u001b[33mVector\u001b[39m(\n",
       "      \u001b[33mWeighted\u001b[39m(\u001b[32mUnit\u001b[39m, \u001b[32m0.3333333333333333\u001b[39m),\n",
       "      \u001b[33mWeighted\u001b[39m(\u001b[32mZero\u001b[39m, \u001b[32m0.3333333333333333\u001b[39m),\n",
       "      \u001b[33mWeighted\u001b[39m(\u001b[32mStar\u001b[39m, \u001b[32m0.3333333333333333\u001b[39m)\n",
       "    )\n",
       "  ),\n",
       "  \u001b[33mFiniteDistribution\u001b[39m(\n",
       "    \u001b[33mVector\u001b[39m(\n",
       "      \u001b[33mWeighted\u001b[39m(\u001b[32m𝒰 \u001b[39m, \u001b[32m0.3333333333333333\u001b[39m),\n",
       "      \u001b[33mWeighted\u001b[39m(\u001b[32mUnit\u001b[39m, \u001b[32m0.3333333333333333\u001b[39m),\n",
       "      \u001b[33mWeighted\u001b[39m(\u001b[32mZero\u001b[39m, \u001b[32m0.3333333333333333\u001b[39m)\n",
       "    )\n",
       "  ),\n",
       "  \u001b[33mVector\u001b[39m(),\n",
       "  \u001b[33mFiniteDistribution\u001b[39m(\u001b[33mVector\u001b[39m()),\n",
       "  \u001b[33mFiniteDistribution\u001b[39m(\u001b[33mVector\u001b[39m()),\n",
       "  Empty\n",
       ")\n",
       "\u001b[36mts0\u001b[39m: \u001b[32mTermState\u001b[39m = \u001b[33mTermState\u001b[39m(\n",
       "  \u001b[33mFiniteDistribution\u001b[39m(\u001b[33mVector\u001b[39m()),\n",
       "  \u001b[33mFiniteDistribution\u001b[39m(\u001b[33mVector\u001b[39m(\u001b[33mWeighted\u001b[39m(\u001b[32m𝒰 \u001b[39m, \u001b[32m1.0\u001b[39m))),\n",
       "  \u001b[33mVector\u001b[39m(),\n",
       "  \u001b[33mFiniteDistribution\u001b[39m(\u001b[33mVector\u001b[39m()),\n",
       "  \u001b[33mFiniteDistribution\u001b[39m(\u001b[33mVector\u001b[39m()),\n",
       "  Empty\n",
       ")"
      ]
     },
     "execution_count": 2,
     "metadata": {},
     "output_type": "execute_result"
    }
   ],
   "source": [
    "val terms = FiniteDistribution.unif[Term](Unit, Zero, Star)\n",
    "val typs = FiniteDistribution.unif[Typ[Term]](Type, Unit, Zero)\n",
    "val ts = TermState(terms, typs)\n",
    "val ts0 = TermState(FiniteDistribution(), FiniteDistribution.unif(Type))"
   ]
  },
  {
   "cell_type": "code",
   "execution_count": 3,
   "metadata": {},
   "outputs": [
    {
     "data": {
      "text/plain": [
       "\u001b[32mimport \u001b[39m\u001b[36mmonix.execution.Scheduler.Implicits.global\n",
       "\u001b[39m\n",
       "\u001b[36mlp\u001b[39m: \u001b[32mLocalProver\u001b[39m = \u001b[33mLocalProver\u001b[39m(\n",
       "  \u001b[33mTermState\u001b[39m(\n",
       "    \u001b[33mFiniteDistribution\u001b[39m(\n",
       "      \u001b[33mVector\u001b[39m(\n",
       "        \u001b[33mWeighted\u001b[39m(\u001b[32mUnit\u001b[39m, \u001b[32m0.3333333333333333\u001b[39m),\n",
       "        \u001b[33mWeighted\u001b[39m(\u001b[32mZero\u001b[39m, \u001b[32m0.3333333333333333\u001b[39m),\n",
       "        \u001b[33mWeighted\u001b[39m(\u001b[32mStar\u001b[39m, \u001b[32m0.3333333333333333\u001b[39m)\n",
       "      )\n",
       "    ),\n",
       "    \u001b[33mFiniteDistribution\u001b[39m(\n",
       "      \u001b[33mVector\u001b[39m(\n",
       "        \u001b[33mWeighted\u001b[39m(\u001b[32m𝒰 \u001b[39m, \u001b[32m0.3333333333333333\u001b[39m),\n",
       "        \u001b[33mWeighted\u001b[39m(\u001b[32mUnit\u001b[39m, \u001b[32m0.3333333333333333\u001b[39m),\n",
       "        \u001b[33mWeighted\u001b[39m(\u001b[32mZero\u001b[39m, \u001b[32m0.3333333333333333\u001b[39m)\n",
       "      )\n",
       "    ),\n",
       "    \u001b[33mVector\u001b[39m(),\n",
       "    \u001b[33mFiniteDistribution\u001b[39m(\u001b[33mVector\u001b[39m()),\n",
       "    \u001b[33mFiniteDistribution\u001b[39m(\u001b[33mVector\u001b[39m()),\n",
       "    Empty\n",
       "  ),\n",
       "  \u001b[33mTermGenParams\u001b[39m(\n",
       "    \u001b[32m0.1\u001b[39m,\n",
       "    \u001b[32m0.1\u001b[39m,\n",
       "    \u001b[32m0.1\u001b[39m,\n",
       "    \u001b[32m0.1\u001b[39m,\n",
       "    \u001b[32m0.1\u001b[39m,\n",
       "    \u001b[32m0.05\u001b[39m,\n",
       "    \u001b[32m0.05\u001b[39m,\n",
       "    \u001b[32m0.05\u001b[39m,\n",
       "    \u001b[32m0.0\u001b[39m,\n",
       "    \u001b[32m0.0\u001b[39m,\n",
       "    \u001b[32m0.0\u001b[39m,\n",
       "    \u001b[32m0.0\u001b[39m,\n",
       "    \u001b[32m0.3\u001b[39m,\n",
       "    \u001b[32m0.7\u001b[39m,\n",
       "    \u001b[32m0.5\u001b[39m,\n",
       "    \u001b[32m0.0\u001b[39m,\n",
       "    \u001b[32m0.0\u001b[39m,\n",
       "...\n",
       "\u001b[36mlp0\u001b[39m: \u001b[32mLocalProver\u001b[39m = \u001b[33mLocalProver\u001b[39m(\n",
       "  \u001b[33mTermState\u001b[39m(\n",
       "    \u001b[33mFiniteDistribution\u001b[39m(\u001b[33mVector\u001b[39m()),\n",
       "    \u001b[33mFiniteDistribution\u001b[39m(\u001b[33mVector\u001b[39m(\u001b[33mWeighted\u001b[39m(\u001b[32m𝒰 \u001b[39m, \u001b[32m1.0\u001b[39m))),\n",
       "    \u001b[33mVector\u001b[39m(),\n",
       "    \u001b[33mFiniteDistribution\u001b[39m(\u001b[33mVector\u001b[39m()),\n",
       "    \u001b[33mFiniteDistribution\u001b[39m(\u001b[33mVector\u001b[39m()),\n",
       "    Empty\n",
       "  ),\n",
       "  \u001b[33mTermGenParams\u001b[39m(\n",
       "    \u001b[32m0.1\u001b[39m,\n",
       "    \u001b[32m0.1\u001b[39m,\n",
       "    \u001b[32m0.1\u001b[39m,\n",
       "    \u001b[32m0.1\u001b[39m,\n",
       "    \u001b[32m0.1\u001b[39m,\n",
       "    \u001b[32m0.05\u001b[39m,\n",
       "    \u001b[32m0.05\u001b[39m,\n",
       "    \u001b[32m0.05\u001b[39m,\n",
       "    \u001b[32m0.0\u001b[39m,\n",
       "    \u001b[32m0.0\u001b[39m,\n",
       "    \u001b[32m0.0\u001b[39m,\n",
       "    \u001b[32m0.0\u001b[39m,\n",
       "    \u001b[32m0.3\u001b[39m,\n",
       "    \u001b[32m0.7\u001b[39m,\n",
       "    \u001b[32m0.5\u001b[39m,\n",
       "    \u001b[32m0.0\u001b[39m,\n",
       "    \u001b[32m0.0\u001b[39m,\n",
       "    \u001b[32m0.0\u001b[39m\n",
       "  ),\n",
       "  \u001b[32m1.0E-5\u001b[39m,\n",
       "  12 minutes,\n",
       "  \u001b[32m1.01\u001b[39m,\n",
       "  \u001b[32m1.0\u001b[39m,\n",
       "  \u001b[32m10000\u001b[39m,\n",
       "  \u001b[32m10\u001b[39m,\n",
       "  \u001b[32m1.0\u001b[39m,\n",
       "  \u001b[32m1.0\u001b[39m,\n",
       "  \u001b[32mNone\u001b[39m,\n",
       "  false,\n",
       "..."
      ]
     },
     "execution_count": 3,
     "metadata": {},
     "output_type": "execute_result"
    }
   ],
   "source": [
    "import monix.execution.Scheduler.Implicits.global\n",
    "val lp = LocalProver(ts).sharpen(10)\n",
    "val lp0 = LocalProver(ts0).sharpen(10)"
   ]
  },
  {
   "cell_type": "code",
   "execution_count": 4,
   "metadata": {},
   "outputs": [
    {
     "data": {
      "text/html": [
       "<div class=\"jp-RenderedText\">\n",
       "<pre><code><span style=\"color: rgb(0, 187, 187)\"><span class=\"ansi-cyan-fg\">unknownsT</span></span>: <span style=\"color: rgb(0, 187, 0)\"><span class=\"ansi-green-fg\">monix</span></span>.<span style=\"color: rgb(0, 187, 0)\"><span class=\"ansi-green-fg\">eval</span></span>.<span style=\"color: rgb(0, 187, 0)\"><span class=\"ansi-green-fg\">Task</span></span>[<span style=\"color: rgb(0, 187, 0)\"><span class=\"ansi-green-fg\">Vector</span></span>[<span style=\"color: rgb(0, 187, 0)\"><span class=\"ansi-green-fg\">Typ</span></span>[<span style=\"color: rgb(0, 187, 0)\"><span class=\"ansi-green-fg\">Term</span></span>]]] = <span style=\"color: yellow\"><span class=\"ansi-yellow-fg\">Async</span></span>(\n",
       "  &lt;function2&gt;,\n",
       "  false,\n",
       "  true,\n",
       "  true\n",
       ")\n",
       "<span style=\"color: rgb(0, 187, 187)\"><span class=\"ansi-cyan-fg\">unF</span></span>: <span style=\"color: rgb(0, 187, 0)\"><span class=\"ansi-green-fg\">monix</span></span>.<span style=\"color: rgb(0, 187, 0)\"><span class=\"ansi-green-fg\">execution</span></span>.<span style=\"color: rgb(0, 187, 0)\"><span class=\"ansi-green-fg\">CancelableFuture</span></span>[<span style=\"color: rgb(0, 187, 0)\"><span class=\"ansi-green-fg\">Vector</span></span>[<span style=\"color: rgb(0, 187, 0)\"><span class=\"ansi-green-fg\">Typ</span></span>[<span style=\"color: rgb(0, 187, 0)\"><span class=\"ansi-green-fg\">Term</span></span>]]] = <span style=\"color: rgb(0, 187, 0)\"><span class=\"ansi-green-fg\"><style>@keyframes fadein { from { opacity: 0; } to { opacity: 1; } }</style><span style=\"animation: fadein 2s;\"><span style=\"color: yellow\"><span class=\"ansi-yellow-fg\">Success</span></span>(\n",
       "  <span style=\"color: yellow\"><span class=\"ansi-yellow-fg\">Vector</span></span>(\n",
       "    <span style=\"color: rgb(0, 187, 0)\"><span class=\"ansi-green-fg\">∏(@a : 𝒰 ){ @a }</span></span>,\n",
       "    <span style=\"color: rgb(0, 187, 0)\"><span class=\"ansi-green-fg\">∑(@a : { @a }</span></span>,\n",
       "    <span style=\"color: rgb(0, 187, 0)\"><span class=\"ansi-green-fg\">((𝒰  → 𝒰 ) → 𝒰 )</span></span>,\n",
       "    <span style=\"color: rgb(0, 187, 0)\"><span class=\"ansi-green-fg\">(𝒰 ×𝒰  → 𝒰 )</span></span>,\n",
       "    <span style=\"color: rgb(0, 187, 0)\"><span class=\"ansi-green-fg\">(𝒰  → ∏(@b : 𝒰 ){ @b })</span></span>,\n",
       "    <span style=\"color: rgb(0, 187, 0)\"><span class=\"ansi-green-fg\">(∏(@a : 𝒰 ){ @a } → 𝒰 )</span></span>,\n",
       "    <span style=\"color: rgb(0, 187, 0)\"><span class=\"ansi-green-fg\">(𝒰  → 𝒰 ×𝒰 )</span></span>,\n",
       "    <span style=\"color: rgb(0, 187, 0)\"><span class=\"ansi-green-fg\">∏(@a : 𝒰 ){ (𝒰  → @a) }</span></span>,\n",
       "    <span style=\"color: rgb(0, 187, 0)\"><span class=\"ansi-green-fg\">(∑(@a : { @a } → 𝒰 )</span></span>,\n",
       "    <span style=\"color: rgb(0, 187, 0)\"><span class=\"ansi-green-fg\">∑(@a : { (@a → 𝒰 ) }</span></span>,\n",
       "    <span style=\"color: rgb(0, 187, 0)\"><span class=\"ansi-green-fg\">∏(@a : 𝒰 ){ @a×𝒰  }</span></span>,\n",
       "    <span style=\"color: rgb(0, 187, 0)\"><span class=\"ansi-green-fg\">(𝒰  → ∑(@b : { @b })</span></span>,\n",
       "    <span style=\"color: rgb(0, 187, 0)\"><span class=\"ansi-green-fg\">∑(@a : { (𝒰  → @a) }</span></span>,\n",
       "    <span style=\"color: rgb(0, 187, 0)\"><span class=\"ansi-green-fg\">∏(@a : 𝒰 ){ 𝒰 ×@a }</span></span>,\n",
       "    <span style=\"color: rgb(0, 187, 0)\"><span class=\"ansi-green-fg\">∑(@a : { @a×𝒰  }</span></span>,\n",
       "    <span style=\"color: rgb(0, 187, 0)\"><span class=\"ansi-green-fg\">((𝒰 ×𝒰  → 𝒰 ) → 𝒰 )</span></span>,\n",
       "    <span style=\"color: rgb(0, 187, 0)\"><span class=\"ansi-green-fg\">((𝒰  → 𝒰 )×𝒰  → 𝒰 )</span></span>,\n",
       "    <span style=\"color: rgb(0, 187, 0)\"><span class=\"ansi-green-fg\">∑(@a : { (@a → @a) }</span></span>,\n",
       "    <span style=\"color: rgb(0, 187, 0)\"><span class=\"ansi-green-fg\">∏(@a : 𝒰 ){ @a×@a }</span></span>,\n",
       "    <span style=\"color: rgb(0, 187, 0)\"><span class=\"ansi-green-fg\">((𝒰  → (𝒰  → 𝒰 )) → 𝒰 )</span></span>,\n",
       "    <span style=\"color: rgb(0, 187, 0)\"><span class=\"ansi-green-fg\">((∏(@a : 𝒰 ){ @a } → 𝒰 ) → 𝒰 )</span></span>,\n",
       "    <span style=\"color: rgb(0, 187, 0)\"><span class=\"ansi-green-fg\">∑(@a : { 𝒰 ×@a }</span></span>,\n",
       "    <span style=\"color: rgb(0, 187, 0)\"><span class=\"ansi-green-fg\">((𝒰  → 𝒰 ) → 𝒰 ×𝒰 )</span></span>,\n",
       "    <span style=\"color: rgb(0, 187, 0)\"><span class=\"ansi-green-fg\">(𝒰 ×𝒰 ×𝒰  → 𝒰 )</span></span>,\n",
       "    <span style=\"color: rgb(0, 187, 0)\"><span class=\"ansi-green-fg\">(𝒰 ×(𝒰  → 𝒰 ) → 𝒰 )</span></span>,\n",
       "    <span style=\"color: rgb(0, 187, 0)\"><span class=\"ansi-green-fg\">(∏(@a : 𝒰 ){ @a }×𝒰  → 𝒰 )</span></span>,\n",
       "    <span style=\"color: rgb(0, 187, 0)\"><span class=\"ansi-green-fg\">((∑(@a : { @a } → 𝒰 ) → 𝒰 )</span></span>,\n",
       "    <span style=\"color: rgb(0, 187, 0)\"><span class=\"ansi-green-fg\">((𝒰  → ∏(@b : 𝒰 ){ @b }) → 𝒰 )</span></span>,\n",
       "    <span style=\"color: rgb(0, 187, 0)\"><span class=\"ansi-green-fg\">((𝒰  → 𝒰 ) → ∏(@a : 𝒰 ){ @a })</span></span>,\n",
       "    <span style=\"color: rgb(0, 187, 0)\"><span class=\"ansi-green-fg\">((𝒰  → 𝒰 ×𝒰 ) → 𝒰 )</span></span>,\n",
       "    <span style=\"color: rgb(0, 187, 0)\"><span class=\"ansi-green-fg\">∑(@a : { @a×@a }</span></span>,\n",
       "    <span style=\"color: rgb(0, 187, 0)\"><span class=\"ansi-green-fg\">((((𝒰  → 𝒰 ) → 𝒰 ) → 𝒰 ) → 𝒰 )</span></span>,\n",
       "    <span style=\"color: rgb(0, 187, 0)\"><span class=\"ansi-green-fg\">(∑(@a : { (@a → 𝒰 ) } → 𝒰 )</span></span>,\n",
       "    <span style=\"color: rgb(0, 187, 0)\"><span class=\"ansi-green-fg\">(𝒰 ×∏(@b : 𝒰 ){ @b } → 𝒰 )</span></span>,\n",
       "    <span style=\"color: rgb(0, 187, 0)\"><span class=\"ansi-green-fg\">(𝒰  → (𝒰  → 𝒰 )×𝒰 )</span></span>,\n",
       "    <span style=\"color: rgb(0, 187, 0)\"><span class=\"ansi-green-fg\">(∏(@a : 𝒰 ){ (𝒰  → @a) } → 𝒰 )</span></span>,\n",
       "    <span style=\"color: rgb(0, 187, 0)\"><span class=\"ansi-green-fg\">(𝒰  → (𝒰  → ∏(@c : 𝒰 ){ @c }))</span></span>,\n",
       "...</span></span></span></code></pre>\n",
       "</div>"
      ],
      "text/plain": [
       "\u001b[36munknownsT\u001b[39m: \u001b[32mmonix\u001b[39m.\u001b[32meval\u001b[39m.\u001b[32mTask\u001b[39m[\u001b[32mVector\u001b[39m[\u001b[32mTyp\u001b[39m[\u001b[32mTerm\u001b[39m]]] = \u001b[33mAsync\u001b[39m(\n",
       "  <function2>,\n",
       "  false,\n",
       "  true,\n",
       "  true\n",
       ")\n",
       "\u001b[36munF\u001b[39m: \u001b[32mmonix\u001b[39m.\u001b[32mexecution\u001b[39m.\u001b[32mCancelableFuture\u001b[39m[\u001b[32mVector\u001b[39m[\u001b[32mTyp\u001b[39m[\u001b[32mTerm\u001b[39m]]] = \u001b[32m\u001b[33mSuccess\u001b[39m(\n",
       "  \u001b[33mVector\u001b[39m(\n",
       "    \u001b[32m∏(@a : 𝒰 ){ @a }\u001b[39m,\n",
       "    \u001b[32m∑(@a : { @a }\u001b[39m,\n",
       "    \u001b[32m((𝒰  → 𝒰 ) → 𝒰 )\u001b[39m,\n",
       "    \u001b[32m(𝒰 ×𝒰  → 𝒰 )\u001b[39m,\n",
       "    \u001b[32m(𝒰  → ∏(@b : 𝒰 ){ @b })\u001b[39m,\n",
       "    \u001b[32m(∏(@a : 𝒰 ){ @a } → 𝒰 )\u001b[39m,\n",
       "    \u001b[32m(𝒰  → 𝒰 ×𝒰 )\u001b[39m,\n",
       "    \u001b[32m∏(@a : 𝒰 ){ (𝒰  → @a) }\u001b[39m,\n",
       "    \u001b[32m(∑(@a : { @a } → 𝒰 )\u001b[39m,\n",
       "    \u001b[32m∑(@a : { (@a → 𝒰 ) }\u001b[39m,\n",
       "    \u001b[32m∏(@a : 𝒰 ){ @a×𝒰  }\u001b[39m,\n",
       "    \u001b[32m(𝒰  → ∑(@b : { @b })\u001b[39m,\n",
       "    \u001b[32m∑(@a : { (𝒰  → @a) }\u001b[39m,\n",
       "    \u001b[32m∏(@a : 𝒰 ){ 𝒰 ×@a }\u001b[39m,\n",
       "    \u001b[32m∑(@a : { @a×𝒰  }\u001b[39m,\n",
       "    \u001b[32m((𝒰 ×𝒰  → 𝒰 ) → 𝒰 )\u001b[39m,\n",
       "    \u001b[32m((𝒰  → 𝒰 )×𝒰  → 𝒰 )\u001b[39m,\n",
       "    \u001b[32m∑(@a : { (@a → @a) }\u001b[39m,\n",
       "    \u001b[32m∏(@a : 𝒰 ){ @a×@a }\u001b[39m,\n",
       "    \u001b[32m((𝒰  → (𝒰  → 𝒰 )) → 𝒰 )\u001b[39m,\n",
       "    \u001b[32m((∏(@a : 𝒰 ){ @a } → 𝒰 ) → 𝒰 )\u001b[39m,\n",
       "    \u001b[32m∑(@a : { 𝒰 ×@a }\u001b[39m,\n",
       "    \u001b[32m((𝒰  → 𝒰 ) → 𝒰 ×𝒰 )\u001b[39m,\n",
       "    \u001b[32m(𝒰 ×𝒰 ×𝒰  → 𝒰 )\u001b[39m,\n",
       "    \u001b[32m(𝒰 ×(𝒰  → 𝒰 ) → 𝒰 )\u001b[39m,\n",
       "    \u001b[32m(∏(@a : 𝒰 ){ @a }×𝒰  → 𝒰 )\u001b[39m,\n",
       "    \u001b[32m((∑(@a : { @a } → 𝒰 ) → 𝒰 )\u001b[39m,\n",
       "    \u001b[32m((𝒰  → ∏(@b : 𝒰 ){ @b }) → 𝒰 )\u001b[39m,\n",
       "    \u001b[32m((𝒰  → 𝒰 ) → ∏(@a : 𝒰 ){ @a })\u001b[39m,\n",
       "    \u001b[32m((𝒰  → 𝒰 ×𝒰 ) → 𝒰 )\u001b[39m,\n",
       "    \u001b[32m∑(@a : { @a×@a }\u001b[39m,\n",
       "    \u001b[32m((((𝒰  → 𝒰 ) → 𝒰 ) → 𝒰 ) → 𝒰 )\u001b[39m,\n",
       "    \u001b[32m(∑(@a : { (@a → 𝒰 ) } → 𝒰 )\u001b[39m,\n",
       "    \u001b[32m(𝒰 ×∏(@b : 𝒰 ){ @b } → 𝒰 )\u001b[39m,\n",
       "    \u001b[32m(𝒰  → (𝒰  → 𝒰 )×𝒰 )\u001b[39m,\n",
       "    \u001b[32m(∏(@a : 𝒰 ){ (𝒰  → @a) } → 𝒰 )\u001b[39m,\n",
       "    \u001b[32m(𝒰  → (𝒰  → ∏(@c : 𝒰 ){ @c }))\u001b[39m,\n",
       "...\u001b[39m"
      ]
     },
     "metadata": {},
     "output_type": "display_data"
    }
   ],
   "source": [
    "val unknownsT = lp0.unknownStatements.map(_.entropyVec.map(_.elem)).memoize\n",
    "val unF = unknownsT.runToFuture"
   ]
  },
  {
   "cell_type": "code",
   "execution_count": 5,
   "metadata": {},
   "outputs": [
    {
     "data": {
      "text/plain": [
       "\u001b[32mimport \u001b[39m\u001b[36mStrategicProvers._\u001b[39m"
      ]
     },
     "execution_count": 5,
     "metadata": {},
     "output_type": "execute_result"
    }
   ],
   "source": [
    "import StrategicProvers._"
   ]
  },
  {
   "cell_type": "code",
   "execution_count": 6,
   "metadata": {},
   "outputs": [
    {
     "data": {
      "text/markdown": [
       "## Goal chomping status\n",
       "\n",
       " * current goal : Some(∑((`@a :  𝒰 _0) ↦ (((𝒰 _0) → (𝒰 _0)) → (`@a))))\n",
       " * successes : 73\n",
       " * failures : 3\n",
       " * last success : Some(Vector((∑((``@a :  𝒰 _0) ↦ ((``@a) → (Zero))),0.5,[((Zero) , (rec(Zero)(Zero))) : 0.01127994556862484, ((Zero) , ((`@a :  Zero) ↦ (`@a))) : 0.00974783102948558])))\n",
       " * last failure : Some((𝒰 _0) → ((((`@b : 𝒰 _0 ) ~> (`@b)) , (𝒰 _0))))\n"
      ]
     },
     "metadata": {},
     "output_type": "display_data"
    },
    {
     "data": {
      "text/plain": [
       "\u001b[32mimport \u001b[39m\u001b[36malmond.display._\n",
       "\u001b[39m"
      ]
     },
     "execution_count": 6,
     "metadata": {},
     "output_type": "execute_result"
    }
   ],
   "source": [
    "import almond.display._\n",
    "val chompView = Markdown(\"## Results from Goal chomping\\n\")"
   ]
  },
  {
   "cell_type": "code",
   "execution_count": 7,
   "metadata": {},
   "outputs": [],
   "source": [
    "update = (_) => chompView.withContent(md).update()"
   ]
  },
  {
   "cell_type": "code",
   "execution_count": 8,
   "metadata": {},
   "outputs": [],
   "source": [
    "update(())"
   ]
  },
  {
   "cell_type": "code",
   "execution_count": 10,
   "metadata": {},
   "outputs": [
    {
     "data": {
      "text/plain": [
       "\u001b[36mchT\u001b[39m: \u001b[32mmonix\u001b[39m.\u001b[32meval\u001b[39m.\u001b[32mTask\u001b[39m[(\u001b[32mVector\u001b[39m[\u001b[32mSuccesses\u001b[39m], \u001b[32mVector\u001b[39m[\u001b[32mTyp\u001b[39m[\u001b[32mTerm\u001b[39m]], \u001b[32mSet\u001b[39m[\u001b[32mEquationNode\u001b[39m], \u001b[32mVector\u001b[39m[\u001b[32mTyp\u001b[39m[\u001b[32mTerm\u001b[39m]])] = \u001b[33mAsync\u001b[39m(<function2>, false, true, true)"
      ]
     },
     "execution_count": 10,
     "metadata": {},
     "output_type": "execute_result"
    }
   ],
   "source": [
    "val chT = unknownsT.flatMap(typs => liberalChomper(lp, typs)).memoize"
   ]
  },
  {
   "cell_type": "code",
   "execution_count": 11,
   "metadata": {},
   "outputs": [
    {
     "data": {
      "text/html": [
       "<div class=\"jp-RenderedText\">\n",
       "<pre><code><span style=\"color: rgb(0, 187, 187)\"><span class=\"ansi-cyan-fg\">chF</span></span>: <span style=\"color: rgb(0, 187, 0)\"><span class=\"ansi-green-fg\">monix</span></span>.<span style=\"color: rgb(0, 187, 0)\"><span class=\"ansi-green-fg\">execution</span></span>.<span style=\"color: rgb(0, 187, 0)\"><span class=\"ansi-green-fg\">CancelableFuture</span></span>[(<span style=\"color: rgb(0, 187, 0)\"><span class=\"ansi-green-fg\">Vector</span></span>[<span style=\"color: rgb(0, 187, 0)\"><span class=\"ansi-green-fg\">Successes</span></span>], <span style=\"color: rgb(0, 187, 0)\"><span class=\"ansi-green-fg\">Vector</span></span>[<span style=\"color: rgb(0, 187, 0)\"><span class=\"ansi-green-fg\">Typ</span></span>[<span style=\"color: rgb(0, 187, 0)\"><span class=\"ansi-green-fg\">Term</span></span>]], <span style=\"color: rgb(0, 187, 0)\"><span class=\"ansi-green-fg\">Set</span></span>[<span style=\"color: rgb(0, 187, 0)\"><span class=\"ansi-green-fg\">EquationNode</span></span>], <span style=\"color: rgb(0, 187, 0)\"><span class=\"ansi-green-fg\">Vector</span></span>[<span style=\"color: rgb(0, 187, 0)\"><span class=\"ansi-green-fg\">Typ</span></span>[<span style=\"color: rgb(0, 187, 0)\"><span class=\"ansi-green-fg\">Term</span></span>]])] = <span style=\"color: rgb(0, 187, 0)\"><span class=\"ansi-green-fg\"><span style=\"color: white\"><span class=\"ansi-white-fg\">[running]</span></span></span></span></code></pre>\n",
       "</div>"
      ],
      "text/plain": [
       "\u001b[36mchF\u001b[39m: \u001b[32mmonix\u001b[39m.\u001b[32mexecution\u001b[39m.\u001b[32mCancelableFuture\u001b[39m[(\u001b[32mVector\u001b[39m[\u001b[32mSuccesses\u001b[39m], \u001b[32mVector\u001b[39m[\u001b[32mTyp\u001b[39m[\u001b[32mTerm\u001b[39m]], \u001b[32mSet\u001b[39m[\u001b[32mEquationNode\u001b[39m], \u001b[32mVector\u001b[39m[\u001b[32mTyp\u001b[39m[\u001b[32mTerm\u001b[39m]])] = \u001b[32m\u001b[37m[running]\u001b[39m\u001b[39m"
      ]
     },
     "metadata": {},
     "output_type": "display_data"
    }
   ],
   "source": [
    "val chF = chT.runToFuture"
   ]
  },
  {
   "cell_type": "markdown",
   "metadata": {},
   "source": [
    "## Interim conclusions\n",
    "\n",
    "* This is working smoothly, at least for purposes of testing.\n",
    "* One should have some concurrency, otherwise we wait for failures to timeout."
   ]
  },
  {
   "cell_type": "code",
   "execution_count": 19,
   "metadata": {},
   "outputs": [
    {
     "data": {
      "text/markdown": [
       "## Successes\n",
       "\n",
       " * Vector(((𝒰 _0) → (∑((`@b :  𝒰 _0) ↦ ((`@b) → (𝒰 _0)))),0.5,[(@a :  𝒰 _0) ↦ (((Zero) , (rec(Zero)(𝒰 _0)))) : 0.0031078624069413815, (`@a :  𝒰 _0) ↦ (((`@a) , ((`@a :  `@a) ↦ (`@a)))) : 0.002968308700510489, (`@a :  𝒰 _0) ↦ (((`@a) , ((`@a :  `@a) ↦ (Zero)))) : 0.0023086845448414915, (`@a :  𝒰 _0) ↦ (((`@a) , ((`@a :  `@a) ↦ (Unit)))) : 0.0023086845448414915, (`@a :  𝒰 _0) ↦ (((Zero) , ((@a :  Zero) ↦ (`@a)))) : 0.0011543422724207455, (`@a :  𝒰 _0) ↦ (((Unit) , (rec(Unit)(𝒰 _0)(`@a)))) : 0.0011543422724207455, (`@a :  𝒰 _0) ↦ (((Unit) , ((@a :  Unit) ↦ (`@a)))) : 0.0011543422724207455, (@a :  𝒰 _0) ↦ (((Zero) , ((@a :  Zero) ↦ (Unit)))) : 8.978217674383575E-4, (@a :  𝒰 _0) ↦ (((Unit) , (rec(Unit)(𝒰 _0)(Zero)))) : 8.978217674383575E-4, (@a :  𝒰 _0) ↦ (((Unit) , ((@a :  Unit) ↦ (Zero)))) : 8.978217674383575E-4, (@a :  𝒰 _0) ↦ (((Unit) , ((@a :  Unit) ↦ (Unit)))) : 8.978217674383575E-4, (@a :  𝒰 _0) ↦ (((Zero) , ((@a :  Zero) ↦ (Zero)))) : 8.978217674383575E-4, (@a :  𝒰 _0) ↦ (((Unit) , (rec(Unit)(𝒰 _0)(Unit)))) : 8.978217674383575E-4]))\n",
       " * Vector(((∑((`@a :  𝒰 _0) ↦ ((`@a) → (`@a)))) → (𝒰 _0),0.5,[(((@a_1) , (@a_2)) :  ∑((`@a :  𝒰 _0) ↦ ((`@a) → (`@a)))) ↦ (Zero) : 0.005501508459674841, (((@a_1) , (@a_2)) :  ∑((`@a :  𝒰 _0) ↦ ((`@a) → (`@a)))) ↦ (Unit) : 0.005501508459674841, rec(∑((`@a :  𝒰 _0) ↦ ((`@a) → (`@a))))(𝒰 _0)((`@a :  𝒰 _0) ↦ ((`@a :  (`@a) → (`@a)) ↦ (`@a))) : 0.0037091919867114844, rec(∑((`@a :  𝒰 _0) ↦ ((`@a) → (`@a))))(𝒰 _0)((`@a :  𝒰 _0) ↦ ((`@a :  (`@a) → (`@a)) ↦ (Zero))) : 0.0028849271007755986, rec(∑((`@a :  𝒰 _0) ↦ ((`@a) → (`@a))))(𝒰 _0)((`@a :  𝒰 _0) ↦ ((`@a :  (`@a) → (`@a)) ↦ (Unit))) : 0.0028849271007755986]))\n",
       " * Vector((∑((``@a :  𝒰 _0) ↦ ((((``@a) → (𝒰 _0)) → (``@a)) → (Zero))),0.5,[((Zero) , ((`@a :  ((Zero) → (𝒰 _0)) → (Zero)) ↦ ((`@a) (rec(Zero)(𝒰 _0))))) : 0.010056544435595253, ((Zero) , ((`@a :  ((Zero) → (𝒰 _0)) → (Zero)) ↦ ((`@a) ((@a :  Zero) ↦ (Zero))))) : 0.004719592080296367, ((Zero) , ((`@a :  ((Zero) → (𝒰 _0)) → (Zero)) ↦ ((`@a) ((@a :  Zero) ↦ (Unit))))) : 0.004719592080296367]))\n",
       " * Vector((∑((``@a :  𝒰 _0) ↦ (PlusTyp((``@a) → (Zero),((𝒰 _0) → (𝒰 _0)) → (Zero)))),0.5,[((Zero) , (FirstIncl(PlusTyp((Zero) → (Zero),((𝒰 _0) → (𝒰 _0)) → (Zero)),rec(Zero)(Zero)))) : 0.009747864298093989, ((Zero) , (FirstIncl(PlusTyp((Zero) → (Zero),((𝒰 _0) → (𝒰 _0)) → (Zero)),(`@a :  Zero) ↦ (`@a)))) : 0.009747864298093989]))\n",
       " * Vector((∑((`@a :  𝒰 _0) ↦ ((`@a) → ((𝒰 _0) → (𝒰 _0)))),0.5,[((Zero) , (rec(Zero)((𝒰 _0) → (𝒰 _0)))) : 0.006401907155647273, ((Zero) , ((@a :  Zero) ↦ ((`@a :  𝒰 _0) ↦ (`@a)))) : 0.002331888715587279, ((Unit) , ((@a :  Unit) ↦ ((`@a :  𝒰 _0) ↦ (`@a)))) : 0.0023318887155872785, ((Unit) , (rec(Unit)((𝒰 _0) → (𝒰 _0))((`@a :  𝒰 _0) ↦ (`@a)))) : 0.0019060655588278624, ((Unit) , (rec(Unit)((𝒰 _0) → (𝒰 _0))((@a :  𝒰 _0) ↦ (Zero)))) : 0.0014824954346438928, ((Unit) , (rec(Unit)((𝒰 _0) → (𝒰 _0))((@a :  𝒰 _0) ↦ (Unit)))) : 0.0014824954346438928, ((Zero) , ((@a :  Zero) ↦ ((@a :  𝒰 _0) ↦ (Unit)))) : 0.0012695838562641853, ((Unit) , ((@a :  Unit) ↦ ((@a :  𝒰 _0) ↦ (Zero)))) : 0.0012695838562641851, ((Unit) , ((@a :  Unit) ↦ ((@a :  𝒰 _0) ↦ (Unit)))) : 0.0012695838562641851, ((Zero) , ((@a :  Zero) ↦ ((@a :  𝒰 _0) ↦ (Zero)))) : 0.0012695838562641853]))\n",
       " * Vector((∑((``@a :  𝒰 _0) ↦ (((𝒰 _0) → ((𝒰 _0) → (``@a))) → (Zero))),0.5,[((Zero) , ((`@a :  (𝒰 _0) → ((𝒰 _0) → (Zero))) ↦ (((`@a) (Zero)) (Unit)))) : 0.004719864668656048, ((Zero) , ((`@a :  (𝒰 _0) → ((𝒰 _0) → (Zero))) ↦ (((`@a) (Zero)) (Zero)))) : 0.004719864668656048, ((Zero) , ((`@a :  (𝒰 _0) → ((𝒰 _0) → (Zero))) ↦ (((`@a) (Unit)) (Zero)))) : 0.004719864668656048, ((Zero) , ((`@a :  (𝒰 _0) → ((𝒰 _0) → (Zero))) ↦ (((`@a) (Unit)) (Unit)))) : 0.004719864668656048]))\n",
       " * Vector(((((𝒰 _0) → ((𝒰 _0) → (𝒰 _0))) → (𝒰 _0)) → (𝒰 _0),0.5,[(@a :  ((𝒰 _0) → ((𝒰 _0) → (𝒰 _0))) → (𝒰 _0)) ↦ (Zero) : 0.008341652510855242, (@a :  ((𝒰 _0) → ((𝒰 _0) → (𝒰 _0))) → (𝒰 _0)) ↦ (Unit) : 0.008341652510855242, (`@a :  ((𝒰 _0) → ((𝒰 _0) → (𝒰 _0))) → (𝒰 _0)) ↦ ((`@a) ((@a :  𝒰 _0) ↦ ((`@b :  𝒰 _0) ↦ (`@b)))) : 0.001549647419462387, (`@a :  ((𝒰 _0) → ((𝒰 _0) → (𝒰 _0))) → (𝒰 _0)) ↦ ((`@a) ((`@a :  𝒰 _0) ↦ ((@b :  𝒰 _0) ↦ (`@a)))) : 0.001084753193623671, (`@a :  ((𝒰 _0) → ((𝒰 _0) → (𝒰 _0))) → (𝒰 _0)) ↦ ((`@a) ((@a :  𝒰 _0) ↦ ((@b :  𝒰 _0) ↦ (Unit)))) : 5.905878498617762E-4, (`@a :  ((𝒰 _0) → ((𝒰 _0) → (𝒰 _0))) → (𝒰 _0)) ↦ ((`@a) ((@a :  𝒰 _0) ↦ ((@b :  𝒰 _0) ↦ (Zero)))) : 5.905878498617762E-4]))\n",
       " * Vector(((𝒰 _0) → (((𝒰 _0) , ((𝒰 _0) → (𝒰 _0)))),0.5,[(`@a :  𝒰 _0) ↦ (((`@a) , ((`@b :  𝒰 _0) ↦ (`@b)))) : 0.0027435421363300695, (@a :  𝒰 _0) ↦ (((Unit) , ((`@b :  𝒰 _0) ↦ (`@b)))) : 0.0021338661060344983, (@a :  𝒰 _0) ↦ (((Zero) , ((`@b :  𝒰 _0) ↦ (`@b)))) : 0.0021338661060344983, (`@a :  𝒰 _0) ↦ (((`@a) , ((@b :  𝒰 _0) ↦ (`@a)))) : 0.0019204794954310487, (`@a :  𝒰 _0) ↦ (((`@a) , ((@b :  𝒰 _0) ↦ (Zero)))) : 0.001493706274224149, (`@a :  𝒰 _0) ↦ (((`@a) , ((@b :  𝒰 _0) ↦ (Unit)))) : 0.001493706274224149, (`@a :  𝒰 _0) ↦ (((Unit) , ((@b :  𝒰 _0) ↦ (`@a)))) : 0.001493706274224149, (`@a :  𝒰 _0) ↦ (((Zero) , ((@b :  𝒰 _0) ↦ (`@a)))) : 0.001493706274224149, (@a :  𝒰 _0) ↦ (((Unit) , ((@b :  𝒰 _0) ↦ (Unit)))) : 0.0011617715466187826, (@a :  𝒰 _0) ↦ (((Zero) , ((@b :  𝒰 _0) ↦ (Unit)))) : 0.0011617715466187826, (@a :  𝒰 _0) ↦ (((Unit) , ((@b :  𝒰 _0) ↦ (Zero)))) : 0.0011617715466187826, (@a :  𝒰 _0) ↦ (((Zero) , ((@b :  𝒰 _0) ↦ (Zero)))) : 0.0011617715466187826]))\n",
       " * Vector(((𝒰 _0) → ((𝒰 _0) → (∑((`@c :  𝒰 _0) ↦ (`@c)))),0.5,[(@a :  𝒰 _0) ↦ ((@b :  𝒰 _0) ↦ (((Unit) , (Star)))) : 0.01900374784450017]))\n",
       " * Vector((∑((``@a :  𝒰 _0) ↦ (PlusTyp(((𝒰 _0) → (``@a)) → (Zero),(𝒰 _0) → (Zero)))),0.5,[((Zero) , (FirstIncl(PlusTyp(((𝒰 _0) → (Zero)) → (Zero),(𝒰 _0) → (Zero)),(`@a :  (𝒰 _0) → (Zero)) ↦ ((`@a) (Unit))))) : 0.009439729337312096, ((Zero) , (FirstIncl(PlusTyp(((𝒰 _0) → (Zero)) → (Zero),(𝒰 _0) → (Zero)),(`@a :  (𝒰 _0) → (Zero)) ↦ ((`@a) (Zero))))) : 0.009439729337312096]))\n",
       " * Vector((∑((`@a :  𝒰 _0) ↦ (((𝒰 _0) → (`@a)) → (𝒰 _0))),0.5,[((Unit) , ((@a :  (𝒰 _0) → (Unit)) ↦ (Zero))) : 0.004871072854380339, ((Zero) , ((@a :  (𝒰 _0) → (Zero)) ↦ (Zero))) : 0.004871072854380339, ((Zero) , ((@a :  (𝒰 _0) → (Zero)) ↦ (Unit))) : 0.004871072854380339, ((Unit) , ((@a :  (𝒰 _0) → (Unit)) ↦ (Unit))) : 0.004871072854380339]))\n",
       " * Vector((((((`@a : 𝒰 _0 ) ~> (`@a)) → (𝒰 _0)) → (𝒰 _0)) → (𝒰 _0),0.5,[(@a :  (((`@a : 𝒰 _0 ) ~> (`@a)) → (𝒰 _0)) → (𝒰 _0)) ↦ (Zero) : 0.007409759231129202, (@a :  (((`@a : 𝒰 _0 ) ~> (`@a)) → (𝒰 _0)) → (𝒰 _0)) ↦ (Unit) : 0.007409759231129202, (`@a :  (((`@a : 𝒰 _0 ) ~> (`@a)) → (𝒰 _0)) → (𝒰 _0)) ↦ ((`@a) ((@a :  (`@a : 𝒰 _0 ) ~> (`@a)) ↦ (Zero))) : 0.002836915864001713, (`@a :  (((`@a : 𝒰 _0 ) ~> (`@a)) → (𝒰 _0)) → (𝒰 _0)) ↦ ((`@a) ((@a :  (`@a : 𝒰 _0 ) ~> (`@a)) ↦ (Unit))) : 0.002836915864001713]))\n",
       " * Vector(((((𝒰 _0) , (∑((`@b :  𝒰 _0) ↦ (`@b))))) → (𝒰 _0),0.5,[(((@a_1) , (((@a_2_1) , (@a_2_2)))) :  ((𝒰 _0) , (∑((`@b :  𝒰 _0) ↦ (`@b))))) ↦ (Zero) : 0.005501508459674841, (((@a_1) , (((@a_2_1) , (@a_2_2)))) :  ((𝒰 _0) , (∑((`@b :  𝒰 _0) ↦ (`@b))))) ↦ (Unit) : 0.005501508459674841, rec(((𝒰 _0) , (∑((`@b :  𝒰 _0) ↦ (`@b)))))(𝒰 _0)((`@a :  𝒰 _0) ↦ ((((@a_1) , (@a_2)) :  ∑((`@b :  𝒰 _0) ↦ (`@b))) ↦ (`@a))) : 0.0018545959933557422, rec(((𝒰 _0) , (∑((`@b :  𝒰 _0) ↦ (`@b)))))(𝒰 _0)((@a :  𝒰 _0) ↦ (rec(∑((`@b :  𝒰 _0) ↦ (`@b)))(𝒰 _0)((`@b :  𝒰 _0) ↦ ((`@a :  `@b) ↦ (`@b))))) : 0.0016994305915211975, rec(((𝒰 _0) , (∑((`@b :  𝒰 _0) ↦ (`@b)))))(𝒰 _0)((@a :  𝒰 _0) ↦ ((((@a_1) , (@a_2)) :  ∑((`@b :  𝒰 _0) ↦ (`@b))) ↦ (Zero))) : 0.001442463550387799, rec(((𝒰 _0) , (∑((`@b :  𝒰 _0) ↦ (`@b)))))(𝒰 _0)((@a :  𝒰 _0) ↦ ((((@a_1) , (@a_2)) :  ∑((`@b :  𝒰 _0) ↦ (`@b))) ↦ (Unit))) : 0.001442463550387799, rec(((𝒰 _0) , (∑((`@b :  𝒰 _0) ↦ (`@b)))))(𝒰 _0)((`@a :  𝒰 _0) ↦ (rec(∑((`@b :  𝒰 _0) ↦ (`@b)))(𝒰 _0)((`@b :  𝒰 _0) ↦ ((`@a :  `@b) ↦ (`@a))))) : 0.0011896014140648386, rec(((𝒰 _0) , (∑((`@b :  𝒰 _0) ↦ (`@b)))))(𝒰 _0)((@a :  𝒰 _0) ↦ (rec(∑((`@b :  𝒰 _0) ↦ (`@b)))(𝒰 _0)((`@b :  𝒰 _0) ↦ ((`@a :  `@b) ↦ (Zero))))) : 9.252455442726524E-4, rec(((𝒰 _0) , (∑((`@b :  𝒰 _0) ↦ (`@b)))))(𝒰 _0)((@a :  𝒰 _0) ↦ (rec(∑((`@b :  𝒰 _0) ↦ (`@b)))(𝒰 _0)((`@b :  𝒰 _0) ↦ ((`@a :  `@b) ↦ (Unit))))) : 9.252455442726524E-4]))\n",
       " * Vector(((∑((`@a :  𝒰 _0) ↦ (((`@a) , (𝒰 _0))))) → (𝒰 _0),0.5,[(((@a_1) , (((@a_2_1) , (@a_2_2)))) :  ∑((`@a :  𝒰 _0) ↦ (((`@a) , (𝒰 _0))))) ↦ (Unit) : 0.005501508459674839, (((@a_1) , (((@a_2_1) , (@a_2_2)))) :  ∑((`@a :  𝒰 _0) ↦ (((`@a) , (𝒰 _0))))) ↦ (Zero) : 0.005501508459674839, rec(∑((`@a :  𝒰 _0) ↦ (((`@a) , (𝒰 _0)))))(𝒰 _0)((`@a :  𝒰 _0) ↦ (rec(((`@a) , (𝒰 _0)))(𝒰 _0)((`@a :  `@a) ↦ ((`@b :  𝒰 _0) ↦ (`@b))))) : 0.002104376312145144, rec(∑((`@a :  𝒰 _0) ↦ (((`@a) , (𝒰 _0)))))(𝒰 _0)((`@a :  𝒰 _0) ↦ ((((`@a_1) , (@a_2)) :  ((`@a) , (𝒰 _0))) ↦ (`@a))) : 0.0018545959933557417, rec(∑((`@a :  𝒰 _0) ↦ (((`@a) , (𝒰 _0)))))(𝒰 _0)((`@a :  𝒰 _0) ↦ ((((`@a_1) , (@a_2)) :  ((`@a) , (𝒰 _0))) ↦ (Zero))) : 0.0014424635503877987, rec(∑((`@a :  𝒰 _0) ↦ (((`@a) , (𝒰 _0)))))(𝒰 _0)((`@a :  𝒰 _0) ↦ ((((`@a_1) , (@a_2)) :  ((`@a) , (𝒰 _0))) ↦ (Unit))) : 0.0014424635503877987, rec(∑((`@a :  𝒰 _0) ↦ (((`@a) , (𝒰 _0)))))(𝒰 _0)((`@a :  𝒰 _0) ↦ (rec(((`@a) , (𝒰 _0)))(𝒰 _0)((`@a :  `@a) ↦ ((@b :  𝒰 _0) ↦ (`@a))))) : 0.0010311443929511203, rec(∑((`@a :  𝒰 _0) ↦ (((`@a) , (𝒰 _0)))))(𝒰 _0)((`@a :  𝒰 _0) ↦ (rec(((`@a) , (𝒰 _0)))(𝒰 _0)((`@a :  `@a) ↦ ((@b :  𝒰 _0) ↦ (Unit))))) : 8.02001194517538E-4, rec(∑((`@a :  𝒰 _0) ↦ (((`@a) , (𝒰 _0)))))(𝒰 _0)((`@a :  𝒰 _0) ↦ (rec(((`@a) , (𝒰 _0)))(𝒰 _0)((`@a :  `@a) ↦ ((@b :  𝒰 _0) ↦ (Zero))))) : 8.02001194517538E-4]))\n",
       " * Vector((((`@a : 𝒰 _0 ) ~> (((𝒰 _0) , (`@a)))) → (𝒰 _0),0.5,[(@a :  (`@a : 𝒰 _0 ) ~> (((𝒰 _0) , (`@a)))) ↦ (Unit) : 0.010702019943741583, (@a :  (`@a : 𝒰 _0 ) ~> (((𝒰 _0) , (`@a)))) ↦ (Zero) : 0.010702019943741583]))\n",
       " * Vector(((𝒰 _0) → ((𝒰 _0) → (((𝒰 _0) , (𝒰 _0)))),0.5,[(@a :  𝒰 _0) ↦ ((`@b :  𝒰 _0) ↦ (((`@b) , (`@b)))) : 0.0025268980880811887, (`@a :  𝒰 _0) ↦ ((`@b :  𝒰 _0) ↦ (((`@b) , (`@a)))) : 0.0017688286616568323, (`@a :  𝒰 _0) ↦ ((`@b :  𝒰 _0) ↦ (((`@a) , (`@b)))) : 0.0017688286616568323, (@a :  𝒰 _0) ↦ ((`@b :  𝒰 _0) ↦ (((`@b) , (Unit)))) : 0.0013757556257330912, (@a :  𝒰 _0) ↦ ((`@b :  𝒰 _0) ↦ (((Zero) , (`@b)))) : 0.0013757556257330912, (@a :  𝒰 _0) ↦ ((`@b :  𝒰 _0) ↦ (((Unit) , (`@b)))) : 0.0013757556257330912, (@a :  𝒰 _0) ↦ ((`@b :  𝒰 _0) ↦ (((`@b) , (Zero)))) : 0.0013757556257330912, (`@a :  𝒰 _0) ↦ ((@b :  𝒰 _0) ↦ (((`@a) , (`@a)))) : 0.0012381800631597823, (`@a :  𝒰 _0) ↦ ((@b :  𝒰 _0) ↦ (((`@a) , (Unit)))) : 9.63028938013164E-4, (`@a :  𝒰 _0) ↦ ((@b :  𝒰 _0) ↦ (((Zero) , (`@a)))) : 9.63028938013164E-4, (`@a :  𝒰 _0) ↦ ((@b :  𝒰 _0) ↦ (((Unit) , (`@a)))) : 9.63028938013164E-4, (`@a :  𝒰 _0) ↦ ((@b :  𝒰 _0) ↦ (((`@a) , (Zero)))) : 9.63028938013164E-4, (@a :  𝒰 _0) ↦ ((@b :  𝒰 _0) ↦ (((Zero) , (Unit)))) : 7.239478494155423E-4, (@a :  𝒰 _0) ↦ ((@b :  𝒰 _0) ↦ (((Unit) , (Zero)))) : 7.239478494155423E-4, (@a :  𝒰 _0) ↦ ((@b :  𝒰 _0) ↦ (((Unit) , (Unit)))) : 7.239478494155423E-4, (@a :  𝒰 _0) ↦ ((@b :  𝒰 _0) ↦ (((Zero) , (Zero)))) : 7.239478494155423E-4]))\n",
       " * Vector(((((𝒰 _0) → (𝒰 _0)) → ((𝒰 _0) → (𝒰 _0))) → (𝒰 _0),0.5,[(@a :  ((𝒰 _0) → (𝒰 _0)) → ((𝒰 _0) → (𝒰 _0))) ↦ (Zero) : 0.00655854953347216, (@a :  ((𝒰 _0) → (𝒰 _0)) → ((𝒰 _0) → (𝒰 _0))) ↦ (Unit) : 0.00655854953347216, (`@a :  ((𝒰 _0) → (𝒰 _0)) → ((𝒰 _0) → (𝒰 _0))) ↦ (((`@a) ((`@a :  𝒰 _0) ↦ (`@a))) (Unit)) : 0.001510305928270312, (`@a :  ((𝒰 _0) → (𝒰 _0)) → ((𝒰 _0) → (𝒰 _0))) ↦ (((`@a) ((`@a :  𝒰 _0) ↦ (`@a))) (Zero)) : 0.001510305928270312, (`@a :  ((𝒰 _0) → (𝒰 _0)) → ((𝒰 _0) → (𝒰 _0))) ↦ (((`@a) ((@a :  𝒰 _0) ↦ (Zero))) (Unit)) : 7.927365868737157E-4, (`@a :  ((𝒰 _0) → (𝒰 _0)) → ((𝒰 _0) → (𝒰 _0))) ↦ (((`@a) ((@a :  𝒰 _0) ↦ (Unit))) (Unit)) : 7.927365868737157E-4, (`@a :  ((𝒰 _0) → (𝒰 _0)) → ((𝒰 _0) → (𝒰 _0))) ↦ (((`@a) ((@a :  𝒰 _0) ↦ (Unit))) (Zero)) : 7.927365868737157E-4, (`@a :  ((𝒰 _0) → (𝒰 _0)) → ((𝒰 _0) → (𝒰 _0))) ↦ (((`@a) ((@a :  𝒰 _0) ↦ (Zero))) (Zero)) : 7.927365868737157E-4, (`@a :  ((𝒰 _0) → (𝒰 _0)) → ((𝒰 _0) → (𝒰 _0))) ↦ (((`@a) ((`@a) ((`@a :  𝒰 _0) ↦ (`@a)))) (Unit)) : 4.2036197790263784E-4, (`@a :  ((𝒰 _0) → (𝒰 _0)) → ((𝒰 _0) → (𝒰 _0))) ↦ (((`@a) ((`@a) ((`@a :  𝒰 _0) ↦ (`@a)))) (Zero)) : 4.2036197790263784E-4, (`@a :  ((𝒰 _0) → (𝒰 _0)) → ((𝒰 _0) → (𝒰 _0))) ↦ (((`@a) ((`@a) ((@a :  𝒰 _0) ↦ (Unit)))) (Zero)) : 8.744365487525488E-5, (`@a :  ((𝒰 _0) → (𝒰 _0)) → ((𝒰 _0) → (𝒰 _0))) ↦ (((`@a) ((`@a) ((@a :  𝒰 _0) ↦ (Zero)))) (Zero)) : 8.744365487525488E-5, (`@a :  ((𝒰 _0) → (𝒰 _0)) → ((𝒰 _0) → (𝒰 _0))) ↦ (((`@a) ((`@a) ((@a :  𝒰 _0) ↦ (Unit)))) (Unit)) : 8.744365487525488E-5, (`@a :  ((𝒰 _0) → (𝒰 _0)) → ((𝒰 _0) → (𝒰 _0))) ↦ (((`@a) ((`@a) ((@a :  𝒰 _0) ↦ (Zero)))) (Unit)) : 8.744365487525488E-5]))\n",
       " * Vector(((((((𝒰 _0) , (𝒰 _0))) → (𝒰 _0)) → (𝒰 _0)) → (𝒰 _0),0.5,[(@a :  ((((𝒰 _0) , (𝒰 _0))) → (𝒰 _0)) → (𝒰 _0)) ↦ (Zero) : 0.007409759231129201, (@a :  ((((𝒰 _0) , (𝒰 _0))) → (𝒰 _0)) → (𝒰 _0)) ↦ (Unit) : 0.007409759231129201, (`@a :  ((((𝒰 _0) , (𝒰 _0))) → (𝒰 _0)) → (𝒰 _0)) ↦ ((`@a) ((((@a_1) , (@a_2)) :  ((𝒰 _0) , (𝒰 _0))) ↦ (Zero))) : 0.0018830029169258366, (`@a :  ((((𝒰 _0) , (𝒰 _0))) → (𝒰 _0)) → (𝒰 _0)) ↦ ((`@a) ((((@a_1) , (@a_2)) :  ((𝒰 _0) , (𝒰 _0))) ↦ (Unit))) : 0.0018830029169258366, (`@a :  ((((𝒰 _0) , (𝒰 _0))) → (𝒰 _0)) → (𝒰 _0)) ↦ ((`@a) (rec(((𝒰 _0) , (𝒰 _0)))(𝒰 _0)((@a :  𝒰 _0) ↦ ((`@b :  𝒰 _0) ↦ (`@b))))) : 7.748390364334738E-4, (`@a :  ((((𝒰 _0) , (𝒰 _0))) → (𝒰 _0)) → (𝒰 _0)) ↦ ((`@a) (rec(((𝒰 _0) , (𝒰 _0)))(𝒰 _0)((`@a :  𝒰 _0) ↦ ((@b :  𝒰 _0) ↦ (`@a))))) : 5.423873255034316E-4, (`@a :  ((((𝒰 _0) , (𝒰 _0))) → (𝒰 _0)) → (𝒰 _0)) ↦ ((`@a) (rec(((𝒰 _0) , (𝒰 _0)))(𝒰 _0)((@a :  𝒰 _0) ↦ ((@b :  𝒰 _0) ↦ (Unit))))) : 2.952997661074237E-4, (`@a :  ((((𝒰 _0) , (𝒰 _0))) → (𝒰 _0)) → (𝒰 _0)) ↦ ((`@a) (rec(((𝒰 _0) , (𝒰 _0)))(𝒰 _0)((@a :  𝒰 _0) ↦ ((@b :  𝒰 _0) ↦ (Zero))))) : 2.952997661074237E-4]))\n",
       " * Vector(((((((𝒰 _0) → (𝒰 _0)) , (𝒰 _0))) → (𝒰 _0)) → (𝒰 _0),0.5,[(@a :  ((((𝒰 _0) → (𝒰 _0)) , (𝒰 _0))) → (𝒰 _0)) ↦ (Zero) : 0.008341767994169642, (@a :  ((((𝒰 _0) → (𝒰 _0)) , (𝒰 _0))) → (𝒰 _0)) ↦ (Unit) : 0.008341767994169642, (`@a :  ((((𝒰 _0) → (𝒰 _0)) , (𝒰 _0))) → (𝒰 _0)) ↦ ((`@a) ((((`@a :  𝒰 _0) ↦ (`@a)) , (Zero)))) : 9.133154847583329E-4, (`@a :  ((((𝒰 _0) → (𝒰 _0)) , (𝒰 _0))) → (𝒰 _0)) ↦ ((`@a) ((((`@a :  𝒰 _0) ↦ (`@a)) , (Unit)))) : 9.133154847583329E-4, (`@a :  ((((𝒰 _0) → (𝒰 _0)) , (𝒰 _0))) → (𝒰 _0)) ↦ ((`@a) ((((@a :  𝒰 _0) ↦ (Unit)) , (Zero)))) : 4.97249541701759E-4, (`@a :  ((((𝒰 _0) → (𝒰 _0)) , (𝒰 _0))) → (𝒰 _0)) ↦ ((`@a) ((((@a :  𝒰 _0) ↦ (Zero)) , (Unit)))) : 4.97249541701759E-4, (`@a :  ((((𝒰 _0) → (𝒰 _0)) , (𝒰 _0))) → (𝒰 _0)) ↦ ((`@a) ((((@a :  𝒰 _0) ↦ (Zero)) , (Zero)))) : 4.97249541701759E-4, (`@a :  ((((𝒰 _0) → (𝒰 _0)) , (𝒰 _0))) → (𝒰 _0)) ↦ ((`@a) ((((@a :  𝒰 _0) ↦ (Unit)) , (Unit)))) : 4.97249541701759E-4]))\n",
       " * Vector(((((((𝒰 _0) → (𝒰 _0)) → (𝒰 _0)) , (𝒰 _0))) → (𝒰 _0),0.5,[(((@a_1) , (@a_2)) :  ((((𝒰 _0) → (𝒰 _0)) → (𝒰 _0)) , (𝒰 _0))) ↦ (Unit) : 0.005501508459674842, (((@a_1) , (@a_2)) :  ((((𝒰 _0) → (𝒰 _0)) → (𝒰 _0)) , (𝒰 _0))) ↦ (Zero) : 0.005501508459674842, rec(((((𝒰 _0) → (𝒰 _0)) → (𝒰 _0)) , (𝒰 _0)))(𝒰 _0)((@a :  ((𝒰 _0) → (𝒰 _0)) → (𝒰 _0)) ↦ ((`@a :  𝒰 _0) ↦ (`@a))) : 0.002878068037954276, rec(((((𝒰 _0) → (𝒰 _0)) → (𝒰 _0)) , (𝒰 _0)))(𝒰 _0)((@a :  ((𝒰 _0) → (𝒰 _0)) → (𝒰 _0)) ↦ ((@a :  𝒰 _0) ↦ (Zero))) : 0.001566948153997328, rec(((((𝒰 _0) → (𝒰 _0)) → (𝒰 _0)) , (𝒰 _0)))(𝒰 _0)((@a :  ((𝒰 _0) → (𝒰 _0)) → (𝒰 _0)) ↦ ((@a :  𝒰 _0) ↦ (Unit))) : 0.001566948153997328, rec(((((𝒰 _0) → (𝒰 _0)) → (𝒰 _0)) , (𝒰 _0)))(𝒰 _0)((`@a :  ((𝒰 _0) → (𝒰 _0)) → (𝒰 _0)) ↦ ((@a :  𝒰 _0) ↦ ((`@a) ((`@b :  𝒰 _0) ↦ (`@b))))) : 0.0014081108565353684, rec(((((𝒰 _0) → (𝒰 _0)) → (𝒰 _0)) , (𝒰 _0)))(𝒰 _0)((`@a :  ((𝒰 _0) → (𝒰 _0)) → (𝒰 _0)) ↦ ((`@a :  𝒰 _0) ↦ ((`@a) ((@b :  𝒰 _0) ↦ (`@a))))) : 9.85677599574758E-4, rec(((((𝒰 _0) → (𝒰 _0)) → (𝒰 _0)) , (𝒰 _0)))(𝒰 _0)((`@a :  ((𝒰 _0) → (𝒰 _0)) → (𝒰 _0)) ↦ ((@a :  𝒰 _0) ↦ ((`@a) ((@b :  𝒰 _0) ↦ (Zero))))) : 5.366466931018124E-4, rec(((((𝒰 _0) → (𝒰 _0)) → (𝒰 _0)) , (𝒰 _0)))(𝒰 _0)((`@a :  ((𝒰 _0) → (𝒰 _0)) → (𝒰 _0)) ↦ ((@a :  𝒰 _0) ↦ ((`@a) ((@b :  𝒰 _0) ↦ (Unit))))) : 5.366466931018124E-4]))\n",
       " * Vector((∑((``@a :  𝒰 _0) ↦ ((((𝒰 _0) → (𝒰 _0)) → (``@a)) → (Zero))),0.5,[((Zero) , ((`@a :  ((𝒰 _0) → (𝒰 _0)) → (Zero)) ↦ ((`@a) ((`@a :  𝒰 _0) ↦ (`@a))))) : 0.009038038727213711, ((Zero) , ((`@a :  ((𝒰 _0) → (𝒰 _0)) → (Zero)) ↦ ((`@a) ((@a :  𝒰 _0) ↦ (Unit))))) : 0.004920709973705244, ((Zero) , ((`@a :  ((𝒰 _0) → (𝒰 _0)) → (Zero)) ↦ ((`@a) ((@a :  𝒰 _0) ↦ (Zero))))) : 0.004920709973705244]))\n",
       " * Vector((((`@a : 𝒰 _0 ) ~> ((`@a) → (`@a))) → (𝒰 _0),0.5,[(@a :  (`@a : 𝒰 _0 ) ~> ((`@a) → (`@a))) ↦ (Unit) : 0.01025805056579662, (@a :  (`@a : 𝒰 _0 ) ~> ((`@a) → (`@a))) ↦ (Zero) : 0.01025805056579662]))\n",
       " * Vector(((𝒰 _0) → (((((𝒰 _0) , (𝒰 _0))) , (𝒰 _0))),0.5,[(`@a :  𝒰 _0) ↦ (((((`@a) , (`@a))) , (`@a))) : 0.0011715806589734643, (`@a :  𝒰 _0) ↦ (((((`@a) , (Unit))) , (`@a))) : 9.112294014238057E-4, (`@a :  𝒰 _0) ↦ (((((Zero) , (`@a))) , (`@a))) : 9.112294014238057E-4, (`@a :  𝒰 _0) ↦ (((((`@a) , (`@a))) , (Unit))) : 9.112294014238055E-4, (`@a :  𝒰 _0) ↦ (((((`@a) , (`@a))) , (Zero))) : 9.112294014238055E-4, (`@a :  𝒰 _0) ↦ (((((Unit) , (`@a))) , (`@a))) : 9.112294014238057E-4, (`@a :  𝒰 _0) ↦ (((((`@a) , (Zero))) , (`@a))) : 9.112294014238057E-4, (`@a :  𝒰 _0) ↦ (((((`@a) , (Zero))) , (Unit))) : 7.087339788851821E-4, (`@a :  𝒰 _0) ↦ (((((Unit) , (Unit))) , (`@a))) : 7.087339788851821E-4, (`@a :  𝒰 _0) ↦ (((((`@a) , (Zero))) , (Zero))) : 7.087339788851821E-4, (`@a :  𝒰 _0) ↦ (((((Zero) , (Unit))) , (`@a))) : 7.087339788851821E-4, (`@a :  𝒰 _0) ↦ (((((`@a) , (Unit))) , (Zero))) : 7.087339788851821E-4, (`@a :  𝒰 _0) ↦ (((((Zero) , (`@a))) , (Zero))) : 7.087339788851821E-4, (`@a :  𝒰 _0) ↦ (((((`@a) , (Unit))) , (Unit))) : 7.087339788851821E-4, (`@a :  𝒰 _0) ↦ (((((Zero) , (Zero))) , (`@a))) : 7.087339788851821E-4, (`@a :  𝒰 _0) ↦ (((((Zero) , (`@a))) , (Unit))) : 7.087339788851821E-4, (`@a :  𝒰 _0) ↦ (((((Unit) , (`@a))) , (Zero))) : 7.087339788851821E-4, (`@a :  𝒰 _0) ↦ (((((Unit) , (Zero))) , (`@a))) : 7.087339788851821E-4, (`@a :  𝒰 _0) ↦ (((((Unit) , (`@a))) , (Unit))) : 7.087339788851821E-4, (@a :  𝒰 _0) ↦ (((((Unit) , (Zero))) , (Zero))) : 5.512375391329192E-4, (@a :  𝒰 _0) ↦ (((((Zero) , (Unit))) , (Zero))) : 5.512375391329192E-4, (@a :  𝒰 _0) ↦ (((((Zero) , (Zero))) , (Unit))) : 5.512375391329192E-4, (@a :  𝒰 _0) ↦ (((((Unit) , (Zero))) , (Unit))) : 5.512375391329192E-4, (@a :  𝒰 _0) ↦ (((((Zero) , (Unit))) , (Unit))) : 5.512375391329192E-4, (@a :  𝒰 _0) ↦ (((((Unit) , (Unit))) , (Unit))) : 5.512375391329192E-4, (@a :  𝒰 _0) ↦ (((((Zero) , (Zero))) , (Zero))) : 5.512375391329192E-4, (@a :  𝒰 _0) ↦ (((((Unit) , (Unit))) , (Zero))) : 5.512375391329192E-4]))\n",
       " * Vector((((𝒰 _0) → (𝒰 _0)) → (((𝒰 _0) → (𝒰 _0)) → (𝒰 _0)),0.5,[(@a :  (𝒰 _0) → (𝒰 _0)) ↦ ((@b :  (𝒰 _0) → (𝒰 _0)) ↦ (Unit)) : 0.0033801244115728435, (@a :  (𝒰 _0) → (𝒰 _0)) ↦ ((@b :  (𝒰 _0) → (𝒰 _0)) ↦ (Zero)) : 0.0033801244115728435, (@a :  (𝒰 _0) → (𝒰 _0)) ↦ ((`@b :  (𝒰 _0) → (𝒰 _0)) ↦ ((`@b) (Unit))) : 0.0015363319118981138, (@a :  (𝒰 _0) → (𝒰 _0)) ↦ ((`@b :  (𝒰 _0) → (𝒰 _0)) ↦ ((`@b) (Zero))) : 0.0015363319118981138, (@a :  (𝒰 _0) → (𝒰 _0)) ↦ ((`@b :  (𝒰 _0) → (𝒰 _0)) ↦ ((`@b) ((`@b) (Zero)))) : 0.001187526649047129, (@a :  (𝒰 _0) → (𝒰 _0)) ↦ ((`@b :  (𝒰 _0) → (𝒰 _0)) ↦ ((`@b) ((`@b) (Unit)))) : 0.001187526649047129, (`@a :  (𝒰 _0) → (𝒰 _0)) ↦ ((@b :  (𝒰 _0) → (𝒰 _0)) ↦ ((`@a) (Unit))) : 0.0010754323383286796, (`@a :  (𝒰 _0) → (𝒰 _0)) ↦ ((@b :  (𝒰 _0) → (𝒰 _0)) ↦ ((`@a) (Zero))) : 0.0010754323383286796, (`@a :  (𝒰 _0) → (𝒰 _0)) ↦ ((`@b :  (𝒰 _0) → (𝒰 _0)) ↦ ((`@a) ((`@b) (Zero)))) : 8.312686543329902E-4, (`@a :  (𝒰 _0) → (𝒰 _0)) ↦ ((`@b :  (𝒰 _0) → (𝒰 _0)) ↦ ((`@b) ((`@a) (Zero)))) : 8.312686543329902E-4, (`@a :  (𝒰 _0) → (𝒰 _0)) ↦ ((`@b :  (𝒰 _0) → (𝒰 _0)) ↦ ((`@a) ((`@b) (Unit)))) : 8.312686543329902E-4, (`@a :  (𝒰 _0) → (𝒰 _0)) ↦ ((`@b :  (𝒰 _0) → (𝒰 _0)) ↦ ((`@b) ((`@a) (Unit)))) : 8.312686543329902E-4, (`@a :  (𝒰 _0) → (𝒰 _0)) ↦ ((@b :  (𝒰 _0) → (𝒰 _0)) ↦ ((`@a) ((`@a) (Zero)))) : 5.818880580330931E-4, (`@a :  (𝒰 _0) → (𝒰 _0)) ↦ ((@b :  (𝒰 _0) → (𝒰 _0)) ↦ ((`@a) ((`@a) (Unit)))) : 5.818880580330931E-4]))\n",
       " * Vector((((`@a : 𝒰 _0 ) ~> (`@a)) → (((𝒰 _0) , (𝒰 _0))),0.5,[(@a :  (`@a : 𝒰 _0 ) ~> (`@a)) ↦ (((Zero) , (Zero))) : 0.004974577582061285, (@a :  (`@a : 𝒰 _0 ) ~> (`@a)) ↦ (((Unit) , (Unit))) : 0.004974577582061285, (@a :  (`@a : 𝒰 _0 ) ~> (`@a)) ↦ (((Zero) , (Unit))) : 0.004974577582061285, (@a :  (`@a : 𝒰 _0 ) ~> (`@a)) ↦ (((Unit) , (Zero))) : 0.004974577582061285]))\n",
       " * Vector((((𝒰 _0) → ((`@b : 𝒰 _0 ) ~> ((𝒰 _0) → (`@b)))) → (Zero),0.5,[(`@a :  (𝒰 _0) → ((`@b : 𝒰 _0 ) ~> ((𝒰 _0) → (`@b)))) ↦ ((((`@a) (Zero)) (Zero)) (Unit)) : 0.004724557876211586, (`@a :  (𝒰 _0) → ((`@b : 𝒰 _0 ) ~> ((𝒰 _0) → (`@b)))) ↦ ((((`@a) (Unit)) (Zero)) (Zero)) : 0.004724557876211586, (`@a :  (𝒰 _0) → ((`@b : 𝒰 _0 ) ~> ((𝒰 _0) → (`@b)))) ↦ ((((`@a) (Zero)) (Zero)) (Zero)) : 0.004724557876211586, (`@a :  (𝒰 _0) → ((`@b : 𝒰 _0 ) ~> ((𝒰 _0) → (`@b)))) ↦ ((((`@a) (Unit)) (Zero)) (Unit)) : 0.004724557876211586]))\n",
       " * Vector(((∑((`@a :  𝒰 _0) ↦ ((𝒰 _0) → (`@a)))) → (𝒰 _0),0.5,[(((@a_1) , (@a_2)) :  ∑((`@a :  𝒰 _0) ↦ ((𝒰 _0) → (`@a)))) ↦ (Zero) : 0.005501508459674841, (((@a_1) , (@a_2)) :  ∑((`@a :  𝒰 _0) ↦ ((𝒰 _0) → (`@a)))) ↦ (Unit) : 0.005501508459674841, rec(∑((`@a :  𝒰 _0) ↦ ((𝒰 _0) → (`@a))))(𝒰 _0)((`@a :  𝒰 _0) ↦ ((`@a :  (𝒰 _0) → (`@a)) ↦ (`@a))) : 0.0037091919867114844, rec(∑((`@a :  𝒰 _0) ↦ ((𝒰 _0) → (`@a))))(𝒰 _0)((`@a :  𝒰 _0) ↦ ((`@a :  (𝒰 _0) → (`@a)) ↦ (Zero))) : 0.0028849271007755986, rec(∑((`@a :  𝒰 _0) ↦ ((𝒰 _0) → (`@a))))(𝒰 _0)((`@a :  𝒰 _0) ↦ ((`@a :  (𝒰 _0) → (`@a)) ↦ (Unit))) : 0.0028849271007755986]))\n",
       " * Vector(((`@a : 𝒰 _0 ) ~> ((((`@a) → (𝒰 _0)) , (𝒰 _0))),0.5,[(`@a :  𝒰 _0) ↦ ((((`@a :  `@a) ↦ (`@a)) , (`@a))) : 0.0029940394618210736, (`@a :  𝒰 _0) ↦ ((((`@a :  `@a) ↦ (`@a)) , (Unit))) : 0.0023286973591941677, (`@a :  𝒰 _0) ↦ ((((`@a :  `@a) ↦ (`@a)) , (Zero))) : 0.0023286973591941677, (`@a :  𝒰 _0) ↦ ((((`@a :  `@a) ↦ (Zero)) , (`@a))) : 0.0023286973591941677, (`@a :  𝒰 _0) ↦ ((((`@a :  `@a) ↦ (Unit)) , (`@a))) : 0.0023286973591941677, (`@a :  𝒰 _0) ↦ ((((`@a :  `@a) ↦ (Unit)) , (Unit))) : 0.0018112090571510194, (`@a :  𝒰 _0) ↦ ((((`@a :  `@a) ↦ (Unit)) , (Zero))) : 0.0018112090571510194, (`@a :  𝒰 _0) ↦ ((((`@a :  `@a) ↦ (Zero)) , (Unit))) : 0.0018112090571510194, (`@a :  𝒰 _0) ↦ ((((`@a :  `@a) ↦ (Zero)) , (Zero))) : 0.0018112090571510194]))\n",
       " * Vector((∑((`@a :  𝒰 _0) ↦ (((`@a) → (𝒰 _0)) → (𝒰 _0))),0.5,[((Unit) , ((`@a :  (Unit) → (𝒰 _0)) ↦ ((`@a) (Star)))) : 0.0062041508313689705, ((Zero) , ((@a :  (Zero) → (𝒰 _0)) ↦ (Unit))) : 0.0048710728543803405, ((Zero) , ((@a :  (Zero) → (𝒰 _0)) ↦ (Zero))) : 0.0048710728543803405, ((Unit) , ((@a :  (Unit) → (𝒰 _0)) ↦ (Unit))) : 0.0017689974386958546, ((Unit) , ((@a :  (Unit) → (𝒰 _0)) ↦ (Zero))) : 0.0017689974386958546]))\n",
       " * Vector((∑((``@a :  (𝒰 _0) → (𝒰 _0)) ↦ (∑((``@a :  𝒰 _0) ↦ (((``@a) (``@a)) → (Zero))))),0.5,[(((`@a :  𝒰 _0) ↦ (`@a)) , (((Zero) , ((`@a :  Zero) ↦ (`@a))))) : 0.005479956961177879, (((`@a :  𝒰 _0) ↦ (`@a)) , (((Zero) , (rec(Zero)(Zero))))) : 0.005479956961177879, (((@a :  𝒰 _0) ↦ (Zero)) , (((Unit) , ((`@a :  Zero) ↦ (`@a))))) : 0.0021310943737913968, (((@a :  𝒰 _0) ↦ (Zero)) , (((Zero) , (rec(Zero)(Zero))))) : 0.0021310943737913968, (((@a :  𝒰 _0) ↦ (Zero)) , (((Unit) , (rec(Zero)(Zero))))) : 0.0021310943737913968, (((@a :  𝒰 _0) ↦ (Zero)) , (((Zero) , ((`@a :  Zero) ↦ (`@a))))) : 0.0021310943737913968]))\n",
       " * Vector((((((𝒰 _0) , (𝒰 _0))) → ((`@a : 𝒰 _0 ) ~> (`@a))) → (Zero),0.5,[(`@a :  (((𝒰 _0) , (𝒰 _0))) → ((`@a : 𝒰 _0 ) ~> (`@a))) ↦ (((`@a) (((Zero) , (Unit)))) (Zero)) : 0.00471986466865605, (`@a :  (((𝒰 _0) , (𝒰 _0))) → ((`@a : 𝒰 _0 ) ~> (`@a))) ↦ (((`@a) (((Unit) , (Unit)))) (Zero)) : 0.00471986466865605, (`@a :  (((𝒰 _0) , (𝒰 _0))) → ((`@a : 𝒰 _0 ) ~> (`@a))) ↦ (((`@a) (((Unit) , (Zero)))) (Zero)) : 0.00471986466865605, (`@a :  (((𝒰 _0) , (𝒰 _0))) → ((`@a : 𝒰 _0 ) ~> (`@a))) ↦ (((`@a) (((Zero) , (Zero)))) (Zero)) : 0.00471986466865605]))\n",
       " * Vector((((𝒰 _0) → (𝒰 _0)) → (∑((`@a :  𝒰 _0) ↦ (`@a))),0.5,[(@a :  (𝒰 _0) → (𝒰 _0)) ↦ (((Unit) , (Star))) : 0.019098583060361957]))\n",
       " * Vector((((`@a : 𝒰 _0 ) ~> (((`@a) , (𝒰 _0)))) → (𝒰 _0),0.5,[(@a :  (`@a : 𝒰 _0 ) ~> (((`@a) , (𝒰 _0)))) ↦ (Unit) : 0.01070201994374158, (@a :  (`@a : 𝒰 _0 ) ~> (((`@a) , (𝒰 _0)))) ↦ (Zero) : 0.01070201994374158]))\n",
       " * Vector((((𝒰 _0) → (∑((`@b :  𝒰 _0) ↦ (`@b)))) → (𝒰 _0),0.5,[(@a :  (𝒰 _0) → (∑((`@b :  𝒰 _0) ↦ (`@b)))) ↦ (Zero) : 0.010249582562331496, (@a :  (𝒰 _0) → (∑((`@b :  𝒰 _0) ↦ (`@b)))) ↦ (Unit) : 0.010249582562331496]))\n",
       " * Vector(((((∑((`@a :  𝒰 _0) ↦ (`@a))) , (𝒰 _0))) → (𝒰 _0),0.5,[(((((@a_1_1) , (@a_1_2))) , (@a_2)) :  ((∑((`@a :  𝒰 _0) ↦ (`@a))) , (𝒰 _0))) ↦ (Unit) : 0.005501508459674839, (((((@a_1_1) , (@a_1_2))) , (@a_2)) :  ((∑((`@a :  𝒰 _0) ↦ (`@a))) , (𝒰 _0))) ↦ (Zero) : 0.005501508459674839, rec(((∑((`@a :  𝒰 _0) ↦ (`@a))) , (𝒰 _0)))(𝒰 _0)((((@a_1) , (@a_2)) :  ∑((`@a :  𝒰 _0) ↦ (`@a))) ↦ ((`@a :  𝒰 _0) ↦ (`@a))) : 0.0022689206301692594, rec(((∑((`@a :  𝒰 _0) ↦ (`@a))) , (𝒰 _0)))(𝒰 _0)(rec(∑((`@a :  𝒰 _0) ↦ (`@a)))((𝒰 _0) → (𝒰 _0))((`@a :  𝒰 _0) ↦ ((`@a :  `@a) ↦ ((`@b :  𝒰 _0) ↦ (`@b))))) : 0.002104376312145144, rec(((∑((`@a :  𝒰 _0) ↦ (`@a))) , (𝒰 _0)))(𝒰 _0)((((@a_1) , (@a_2)) :  ∑((`@a :  𝒰 _0) ↦ (`@a))) ↦ ((@a :  𝒰 _0) ↦ (Unit))) : 0.0012353012319810412, rec(((∑((`@a :  𝒰 _0) ↦ (`@a))) , (𝒰 _0)))(𝒰 _0)((((@a_1) , (@a_2)) :  ∑((`@a :  𝒰 _0) ↦ (`@a))) ↦ ((@a :  𝒰 _0) ↦ (Zero))) : 0.0012353012319810412, rec(((∑((`@a :  𝒰 _0) ↦ (`@a))) , (𝒰 _0)))(𝒰 _0)(rec(∑((`@a :  𝒰 _0) ↦ (`@a)))((𝒰 _0) → (𝒰 _0))((`@a :  𝒰 _0) ↦ ((`@a :  `@a) ↦ ((@b :  𝒰 _0) ↦ (`@a))))) : 0.0010311443929511203, rec(((∑((`@a :  𝒰 _0) ↦ (`@a))) , (𝒰 _0)))(𝒰 _0)(rec(∑((`@a :  𝒰 _0) ↦ (`@a)))((𝒰 _0) → (𝒰 _0))((`@a :  𝒰 _0) ↦ ((`@a :  `@a) ↦ ((@b :  𝒰 _0) ↦ (Unit))))) : 8.02001194517538E-4, rec(((∑((`@a :  𝒰 _0) ↦ (`@a))) , (𝒰 _0)))(𝒰 _0)(rec(∑((`@a :  𝒰 _0) ↦ (`@a)))((𝒰 _0) → (𝒰 _0))((`@a :  𝒰 _0) ↦ ((`@a :  `@a) ↦ ((@b :  𝒰 _0) ↦ (Zero))))) : 8.02001194517538E-4]))\n",
       " * Vector(((((𝒰 _0) , (((𝒰 _0) , (𝒰 _0))))) → (𝒰 _0),0.5,[(((@a_1) , (((@a_2_1) , (@a_2_2)))) :  ((𝒰 _0) , (((𝒰 _0) , (𝒰 _0))))) ↦ (Unit) : 0.005501508459674839, (((@a_1) , (((@a_2_1) , (@a_2_2)))) :  ((𝒰 _0) , (((𝒰 _0) , (𝒰 _0))))) ↦ (Zero) : 0.005501508459674839, rec(((𝒰 _0) , (((𝒰 _0) , (𝒰 _0)))))(𝒰 _0)((`@a :  𝒰 _0) ↦ ((((@a_1) , (@a_2)) :  ((𝒰 _0) , (𝒰 _0))) ↦ (`@a))) : 0.0018545959933557417, rec(((𝒰 _0) , (((𝒰 _0) , (𝒰 _0)))))(𝒰 _0)((@a :  𝒰 _0) ↦ (rec(((𝒰 _0) , (𝒰 _0)))(𝒰 _0)((@b :  𝒰 _0) ↦ ((`@c :  𝒰 _0) ↦ (`@c))))) : 0.001605408650627854, rec(((𝒰 _0) , (((𝒰 _0) , (𝒰 _0)))))(𝒰 _0)((@a :  𝒰 _0) ↦ ((((@a_1) , (@a_2)) :  ((𝒰 _0) , (𝒰 _0))) ↦ (Unit))) : 0.0014424635503877987, rec(((𝒰 _0) , (((𝒰 _0) , (𝒰 _0)))))(𝒰 _0)((@a :  𝒰 _0) ↦ ((((@a_1) , (@a_2)) :  ((𝒰 _0) , (𝒰 _0))) ↦ (Zero))) : 0.0014424635503877987, rec(((𝒰 _0) , (((𝒰 _0) , (𝒰 _0)))))(𝒰 _0)((@a :  𝒰 _0) ↦ (rec(((𝒰 _0) , (𝒰 _0)))(𝒰 _0)((`@b :  𝒰 _0) ↦ ((@c :  𝒰 _0) ↦ (`@b))))) : 0.0011237860554394975, rec(((𝒰 _0) , (((𝒰 _0) , (𝒰 _0)))))(𝒰 _0)((`@a :  𝒰 _0) ↦ (rec(((𝒰 _0) , (𝒰 _0)))(𝒰 _0)((@b :  𝒰 _0) ↦ ((@c :  𝒰 _0) ↦ (`@a))))) : 7.866502388076483E-4, rec(((𝒰 _0) , (((𝒰 _0) , (𝒰 _0)))))(𝒰 _0)((@a :  𝒰 _0) ↦ (rec(((𝒰 _0) , (𝒰 _0)))(𝒰 _0)((@b :  𝒰 _0) ↦ ((@c :  𝒰 _0) ↦ (Unit))))) : 6.118390746281704E-4, rec(((𝒰 _0) , (((𝒰 _0) , (𝒰 _0)))))(𝒰 _0)((@a :  𝒰 _0) ↦ (rec(((𝒰 _0) , (𝒰 _0)))(𝒰 _0)((@b :  𝒰 _0) ↦ ((@c :  𝒰 _0) ↦ (Zero))))) : 6.118390746281704E-4]))\n",
       " * Vector((((𝒰 _0) → ((𝒰 _0) → ((`@c : 𝒰 _0 ) ~> (`@c)))) → (Zero),0.5,[(`@a :  (𝒰 _0) → ((𝒰 _0) → ((`@c : 𝒰 _0 ) ~> (`@c)))) ↦ ((((`@a) (Zero)) (Unit)) (Zero)) : 0.004724557876211586, (`@a :  (𝒰 _0) → ((𝒰 _0) → ((`@c : 𝒰 _0 ) ~> (`@c)))) ↦ ((((`@a) (Unit)) (Zero)) (Zero)) : 0.004724557876211586, (`@a :  (𝒰 _0) → ((𝒰 _0) → ((`@c : 𝒰 _0 ) ~> (`@c)))) ↦ ((((`@a) (Unit)) (Unit)) (Zero)) : 0.004724557876211586, (`@a :  (𝒰 _0) → ((𝒰 _0) → ((`@c : 𝒰 _0 ) ~> (`@c)))) ↦ ((((`@a) (Zero)) (Zero)) (Zero)) : 0.004724557876211586]))\n",
       " * Vector((((`@a : 𝒰 _0 ) ~> ((𝒰 _0) → (`@a))) → (𝒰 _0),0.5,[(@a :  (`@a : 𝒰 _0 ) ~> ((𝒰 _0) → (`@a))) ↦ (Unit) : 0.010702019943741578, (@a :  (`@a : 𝒰 _0 ) ~> ((𝒰 _0) → (`@a))) ↦ (Zero) : 0.010702019943741578]))\n",
       " * Vector(((𝒰 _0) → ((((𝒰 _0) → (𝒰 _0)) , (𝒰 _0))),0.5,[(`@a :  𝒰 _0) ↦ ((((`@b :  𝒰 _0) ↦ (`@b)) , (`@a))) : 0.002743542136330069, (@a :  𝒰 _0) ↦ ((((`@b :  𝒰 _0) ↦ (`@b)) , (Zero))) : 0.002133866106034498, (@a :  𝒰 _0) ↦ ((((`@b :  𝒰 _0) ↦ (`@b)) , (Unit))) : 0.002133866106034498, (`@a :  𝒰 _0) ↦ ((((@b :  𝒰 _0) ↦ (`@a)) , (`@a))) : 0.0019204794954310483, (`@a :  𝒰 _0) ↦ ((((@b :  𝒰 _0) ↦ (Zero)) , (`@a))) : 0.0014937062742241486, (`@a :  𝒰 _0) ↦ ((((@b :  𝒰 _0) ↦ (Unit)) , (`@a))) : 0.0014937062742241486, (`@a :  𝒰 _0) ↦ ((((@b :  𝒰 _0) ↦ (`@a)) , (Zero))) : 0.0014937062742241486, (`@a :  𝒰 _0) ↦ ((((@b :  𝒰 _0) ↦ (`@a)) , (Unit))) : 0.0014937062742241486, (@a :  𝒰 _0) ↦ ((((@b :  𝒰 _0) ↦ (Unit)) , (Zero))) : 0.0011617715466187824, (@a :  𝒰 _0) ↦ ((((@b :  𝒰 _0) ↦ (Zero)) , (Unit))) : 0.0011617715466187824, (@a :  𝒰 _0) ↦ ((((@b :  𝒰 _0) ↦ (Zero)) , (Zero))) : 0.0011617715466187824, (@a :  𝒰 _0) ↦ ((((@b :  𝒰 _0) ↦ (Unit)) , (Unit))) : 0.0011617715466187824]))\n",
       " * Vector(((((𝒰 _0) , ((`@b : 𝒰 _0 ) ~> (`@b)))) → (𝒰 _0),0.5,[(((@a_1) , (@a_2)) :  ((𝒰 _0) , ((`@b : 𝒰 _0 ) ~> (`@b)))) ↦ (Zero) : 0.0057353118851704325, (((@a_1) , (@a_2)) :  ((𝒰 _0) , ((`@b : 𝒰 _0 ) ~> (`@b)))) ↦ (Unit) : 0.0057353118851704325, rec(((𝒰 _0) , ((`@b : 𝒰 _0 ) ~> (`@b))))(𝒰 _0)((`@a :  𝒰 _0) ↦ ((@a :  (`@b : 𝒰 _0 ) ~> (`@b)) ↦ (`@a))) : 0.003879700160637417, rec(((𝒰 _0) , ((`@b : 𝒰 _0 ) ~> (`@b))))(𝒰 _0)((@a :  𝒰 _0) ↦ ((@a :  (`@b : 𝒰 _0 ) ~> (`@b)) ↦ (Zero))) : 0.003017544569384657, rec(((𝒰 _0) , ((`@b : 𝒰 _0 ) ~> (`@b))))(𝒰 _0)((@a :  𝒰 _0) ↦ ((@a :  (`@b : 𝒰 _0 ) ~> (`@b)) ↦ (Unit))) : 0.003017544569384657]))\n",
       " * Vector(((∑((`@a :  𝒰 _0) ↦ ((`@a) → (𝒰 _0)))) → (𝒰 _0),0.5,[(((@a_1) , (@a_2)) :  ∑((`@a :  𝒰 _0) ↦ ((`@a) → (𝒰 _0)))) ↦ (Unit) : 0.005501508459674841, (((@a_1) , (@a_2)) :  ∑((`@a :  𝒰 _0) ↦ ((`@a) → (𝒰 _0)))) ↦ (Zero) : 0.005501508459674841, rec(∑((`@a :  𝒰 _0) ↦ ((`@a) → (𝒰 _0))))(𝒰 _0)((`@a :  𝒰 _0) ↦ ((`@a :  (`@a) → (𝒰 _0)) ↦ (`@a))) : 0.0037091919867114852, rec(∑((`@a :  𝒰 _0) ↦ ((`@a) → (𝒰 _0))))(𝒰 _0)((`@a :  𝒰 _0) ↦ ((`@a :  (`@a) → (𝒰 _0)) ↦ (Unit))) : 0.0028849271007755986, rec(∑((`@a :  𝒰 _0) ↦ ((`@a) → (𝒰 _0))))(𝒰 _0)((`@a :  𝒰 _0) ↦ ((`@a :  (`@a) → (𝒰 _0)) ↦ (Zero))) : 0.0028849271007755986]))\n",
       " * Vector((((((𝒰 _0) → (𝒰 _0)) → (𝒰 _0)) → (𝒰 _0)) → (𝒰 _0),0.5,[(@a :  (((𝒰 _0) → (𝒰 _0)) → (𝒰 _0)) → (𝒰 _0)) ↦ (Zero) : 0.007409759231129201, (@a :  (((𝒰 _0) → (𝒰 _0)) → (𝒰 _0)) → (𝒰 _0)) ↦ (Unit) : 0.007409759231129201, (`@a :  (((𝒰 _0) → (𝒰 _0)) → (𝒰 _0)) → (𝒰 _0)) ↦ ((`@a) ((@a :  (𝒰 _0) → (𝒰 _0)) ↦ (Zero))) : 0.0017915318124117115, (`@a :  (((𝒰 _0) → (𝒰 _0)) → (𝒰 _0)) → (𝒰 _0)) ↦ ((`@a) ((@a :  (𝒰 _0) → (𝒰 _0)) ↦ (Unit))) : 0.0017915318124117115, (`@a :  (((𝒰 _0) → (𝒰 _0)) → (𝒰 _0)) → (𝒰 _0)) ↦ ((`@a) ((`@a :  (𝒰 _0) → (𝒰 _0)) ↦ ((`@a) (Unit)))) : 0.001045384051590001, (`@a :  (((𝒰 _0) → (𝒰 _0)) → (𝒰 _0)) → (𝒰 _0)) ↦ ((`@a) ((`@a :  (𝒰 _0) → (𝒰 _0)) ↦ ((`@a) (Zero)))) : 0.001045384051590001]))\n",
       " * Vector((∑((`@a :  𝒰 _0) ↦ (((`@a) , (`@a)))),0.5,[((Unit) , (((Star) , (Star)))) : 0.019495728596187985]))\n",
       " * Vector((((𝒰 _0) → (((𝒰 _0) , (𝒰 _0)))) → (𝒰 _0),0.5,[(@a :  (𝒰 _0) → (((𝒰 _0) , (𝒰 _0)))) ↦ (Unit) : 0.0102495825623315, (@a :  (𝒰 _0) → (((𝒰 _0) , (𝒰 _0)))) ↦ (Zero) : 0.0102495825623315]))\n",
       " * Vector(((((𝒰 _0) → (𝒰 _0)) → ((`@a : 𝒰 _0 ) ~> (`@a))) → (Zero),0.5,[(`@a :  ((𝒰 _0) → (𝒰 _0)) → ((`@a : 𝒰 _0 ) ~> (`@a))) ↦ (((`@a) ((`@a :  𝒰 _0) ↦ (`@a))) (Zero)) : 0.00922256535122766, (`@a :  ((𝒰 _0) → (𝒰 _0)) → ((`@a : 𝒰 _0 ) ~> (`@a))) ↦ (((`@a) ((@a :  𝒰 _0) ↦ (Zero))) (Zero)) : 0.004828446661698272, (`@a :  ((𝒰 _0) → (𝒰 _0)) → ((`@a : 𝒰 _0 ) ~> (`@a))) ↦ (((`@a) ((@a :  𝒰 _0) ↦ (Unit))) (Zero)) : 0.004828446661698272]))\n",
       " * Vector((((𝒰 _0) → ((`@b : 𝒰 _0 ) ~> (`@b))) → (𝒰 _0),0.5,[(@a :  (𝒰 _0) → ((`@b : 𝒰 _0 ) ~> (`@b))) ↦ (Unit) : 0.010709034460247338, (@a :  (𝒰 _0) → ((`@b : 𝒰 _0 ) ~> (`@b))) ↦ (Zero) : 0.010709034460247338]))\n",
       " * Vector((((∑((`@a :  𝒰 _0) ↦ (`@a))) → (𝒰 _0)) → (𝒰 _0),0.5,[(@a :  (∑((`@a :  𝒰 _0) ↦ (`@a))) → (𝒰 _0)) ↦ (Zero) : 0.008341762946589594, (@a :  (∑((`@a :  𝒰 _0) ↦ (`@a))) → (𝒰 _0)) ↦ (Unit) : 0.008341762946589594, (`@a :  (∑((`@a :  𝒰 _0) ↦ (`@a))) → (𝒰 _0)) ↦ ((`@a) (((Unit) , (Star)))) : 0.003815629025780042]))\n",
       " * Vector((((((`@a : 𝒰 _0 ) ~> (`@a)) , (𝒰 _0))) → (𝒰 _0),0.5,[(((@a_1) , (@a_2)) :  (((`@a : 𝒰 _0 ) ~> (`@a)) , (𝒰 _0))) ↦ (Zero) : 0.005735311885170428, (((@a_1) , (@a_2)) :  (((`@a : 𝒰 _0 ) ~> (`@a)) , (𝒰 _0))) ↦ (Unit) : 0.005735311885170428, rec((((`@a : 𝒰 _0 ) ~> (`@a)) , (𝒰 _0)))(𝒰 _0)((@a :  (`@a : 𝒰 _0 ) ~> (`@a)) ↦ ((`@a :  𝒰 _0) ↦ (`@a))) : 0.0047464416858862, rec((((`@a : 𝒰 _0 ) ~> (`@a)) , (𝒰 _0)))(𝒰 _0)((@a :  (`@a : 𝒰 _0 ) ~> (`@a)) ↦ ((@a :  𝒰 _0) ↦ (Zero))) : 0.0025841738067602644, rec((((`@a : 𝒰 _0 ) ~> (`@a)) , (𝒰 _0)))(𝒰 _0)((@a :  (`@a : 𝒰 _0 ) ~> (`@a)) ↦ ((@a :  𝒰 _0) ↦ (Unit))) : 0.0025841738067602644]))\n",
       " * Vector(((((𝒰 _0) , ((𝒰 _0) → (𝒰 _0)))) → (𝒰 _0),0.5,[(((@a_1) , (@a_2)) :  ((𝒰 _0) , ((𝒰 _0) → (𝒰 _0)))) ↦ (Unit) : 0.005501508459674842, (((@a_1) , (@a_2)) :  ((𝒰 _0) , ((𝒰 _0) → (𝒰 _0)))) ↦ (Zero) : 0.005501508459674842, rec(((𝒰 _0) , ((𝒰 _0) → (𝒰 _0))))(𝒰 _0)((`@a :  𝒰 _0) ↦ ((`@a :  (𝒰 _0) → (𝒰 _0)) ↦ ((`@a) (`@a)))) : 0.0014288799294873927, rec(((𝒰 _0) , ((𝒰 _0) → (𝒰 _0))))(𝒰 _0)((`@a :  𝒰 _0) ↦ ((@a :  (𝒰 _0) → (𝒰 _0)) ↦ (`@a))) : 0.0013272454769297068, rec(((𝒰 _0) , ((𝒰 _0) → (𝒰 _0))))(𝒰 _0)((@a :  𝒰 _0) ↦ ((`@a :  (𝒰 _0) → (𝒰 _0)) ↦ ((`@a) (Unit)))) : 0.001111351056267972, rec(((𝒰 _0) , ((𝒰 _0) → (𝒰 _0))))(𝒰 _0)((@a :  𝒰 _0) ↦ ((`@a :  (𝒰 _0) → (𝒰 _0)) ↦ ((`@a) (Zero)))) : 0.001111351056267972, rec(((𝒰 _0) , ((𝒰 _0) → (𝒰 _0))))(𝒰 _0)((@a :  𝒰 _0) ↦ ((@a :  (𝒰 _0) → (𝒰 _0)) ↦ (Zero))) : 0.0010323020376119937, rec(((𝒰 _0) , ((𝒰 _0) → (𝒰 _0))))(𝒰 _0)((@a :  𝒰 _0) ↦ ((@a :  (𝒰 _0) → (𝒰 _0)) ↦ (Unit))) : 0.0010323020376119937, rec(((𝒰 _0) , ((𝒰 _0) → (𝒰 _0))))(𝒰 _0)((`@a :  𝒰 _0) ↦ ((`@a :  (𝒰 _0) → (𝒰 _0)) ↦ ((`@a) ((`@a) (`@a))))) : 9.530665802943861E-4, rec(((𝒰 _0) , ((𝒰 _0) → (𝒰 _0))))(𝒰 _0)((@a :  𝒰 _0) ↦ ((`@a :  (𝒰 _0) → (𝒰 _0)) ↦ ((`@a) ((`@a) (Zero))))) : 7.412740068956337E-4, rec(((𝒰 _0) , ((𝒰 _0) → (𝒰 _0))))(𝒰 _0)((@a :  𝒰 _0) ↦ ((`@a :  (𝒰 _0) → (𝒰 _0)) ↦ ((`@a) ((`@a) (Unit))))) : 7.412740068956337E-4]))\n",
       " * Vector(((((((𝒰 _0) , (𝒰 _0))) , (𝒰 _0))) → (𝒰 _0),0.5,[(((((@a_1_1) , (@a_1_2))) , (@a_2)) :  ((((𝒰 _0) , (𝒰 _0))) , (𝒰 _0))) ↦ (Unit) : 0.005501508459674841, (((((@a_1_1) , (@a_1_2))) , (@a_2)) :  ((((𝒰 _0) , (𝒰 _0))) , (𝒰 _0))) ↦ (Zero) : 0.005501508459674841, rec(((((𝒰 _0) , (𝒰 _0))) , (𝒰 _0)))(𝒰 _0)((((@a_1) , (@a_2)) :  ((𝒰 _0) , (𝒰 _0))) ↦ ((`@a :  𝒰 _0) ↦ (`@a))) : 0.0022689206301692594, rec(((((𝒰 _0) , (𝒰 _0))) , (𝒰 _0)))(𝒰 _0)(rec(((𝒰 _0) , (𝒰 _0)))((𝒰 _0) → (𝒰 _0))((@a :  𝒰 _0) ↦ ((@b :  𝒰 _0) ↦ ((`@c :  𝒰 _0) ↦ (`@c))))) : 0.001605408650627854, rec(((((𝒰 _0) , (𝒰 _0))) , (𝒰 _0)))(𝒰 _0)((((@a_1) , (@a_2)) :  ((𝒰 _0) , (𝒰 _0))) ↦ ((@a :  𝒰 _0) ↦ (Zero))) : 0.0012353012319810416, rec(((((𝒰 _0) , (𝒰 _0))) , (𝒰 _0)))(𝒰 _0)((((@a_1) , (@a_2)) :  ((𝒰 _0) , (𝒰 _0))) ↦ ((@a :  𝒰 _0) ↦ (Unit))) : 0.0012353012319810416, rec(((((𝒰 _0) , (𝒰 _0))) , (𝒰 _0)))(𝒰 _0)(rec(((𝒰 _0) , (𝒰 _0)))((𝒰 _0) → (𝒰 _0))((@a :  𝒰 _0) ↦ ((`@b :  𝒰 _0) ↦ ((@c :  𝒰 _0) ↦ (`@b))))) : 0.0011237860554394977, rec(((((𝒰 _0) , (𝒰 _0))) , (𝒰 _0)))(𝒰 _0)(rec(((𝒰 _0) , (𝒰 _0)))((𝒰 _0) → (𝒰 _0))((`@a :  𝒰 _0) ↦ ((@b :  𝒰 _0) ↦ ((@c :  𝒰 _0) ↦ (`@a))))) : 7.866502388076484E-4, rec(((((𝒰 _0) , (𝒰 _0))) , (𝒰 _0)))(𝒰 _0)(rec(((𝒰 _0) , (𝒰 _0)))((𝒰 _0) → (𝒰 _0))((@a :  𝒰 _0) ↦ ((@b :  𝒰 _0) ↦ ((@c :  𝒰 _0) ↦ (Unit))))) : 6.118390746281703E-4, rec(((((𝒰 _0) , (𝒰 _0))) , (𝒰 _0)))(𝒰 _0)(rec(((𝒰 _0) , (𝒰 _0)))((𝒰 _0) → (𝒰 _0))((@a :  𝒰 _0) ↦ ((@b :  𝒰 _0) ↦ ((@c :  𝒰 _0) ↦ (Zero))))) : 6.118390746281703E-4]))\n",
       " * Vector((((𝒰 _0) → (𝒰 _0)) → (((𝒰 _0) , (𝒰 _0))),0.5,[(@a :  (𝒰 _0) → (𝒰 _0)) ↦ (((Zero) , (Zero))) : 6.31278929404103E-4, (@a :  (𝒰 _0) → (𝒰 _0)) ↦ (((Unit) , (Unit))) : 6.31278929404103E-4, (@a :  (𝒰 _0) → (𝒰 _0)) ↦ (((Unit) , (Zero))) : 6.31278929404103E-4, (@a :  (𝒰 _0) → (𝒰 _0)) ↦ (((Zero) , (Unit))) : 6.31278929404103E-4, (`@a :  (𝒰 _0) → (𝒰 _0)) ↦ ((((`@a) ((`@a) (Unit))) , (Zero))) : 5.697369016704036E-4, (`@a :  (𝒰 _0) → (𝒰 _0)) ↦ ((((`@a) ((`@a) (Zero))) , (Unit))) : 5.697369016704036E-4, (`@a :  (𝒰 _0) → (𝒰 _0)) ↦ ((((`@a) ((`@a) (Zero))) , (Zero))) : 5.697369016704036E-4, (`@a :  (𝒰 _0) → (𝒰 _0)) ↦ (((Zero) , ((`@a) ((`@a) (Zero))))) : 5.697369016704036E-4, (`@a :  (𝒰 _0) → (𝒰 _0)) ↦ ((((`@a) ((`@a) (Unit))) , (Unit))) : 5.697369016704036E-4, (`@a :  (𝒰 _0) → (𝒰 _0)) ↦ (((Zero) , ((`@a) ((`@a) (Unit))))) : 5.697369016704036E-4, (`@a :  (𝒰 _0) → (𝒰 _0)) ↦ (((Unit) , ((`@a) ((`@a) (Unit))))) : 5.697369016704036E-4, (`@a :  (𝒰 _0) → (𝒰 _0)) ↦ (((Unit) , ((`@a) ((`@a) (Zero))))) : 5.697369016704036E-4, (`@a :  (𝒰 _0) → (𝒰 _0)) ↦ ((((`@a) ((`@a) (Unit))) , ((`@a) ((`@a) (Zero))))) : 5.437610938994129E-4, (`@a :  (𝒰 _0) → (𝒰 _0)) ↦ ((((`@a) ((`@a) (Zero))) , ((`@a) ((`@a) (Unit))))) : 5.437610938994129E-4, (`@a :  (𝒰 _0) → (𝒰 _0)) ↦ ((((`@a) ((`@a) (Zero))) , ((`@a) ((`@a) (Zero))))) : 5.437610938994129E-4, (`@a :  (𝒰 _0) → (𝒰 _0)) ↦ ((((`@a) ((`@a) (Unit))) , ((`@a) ((`@a) (Unit))))) : 5.437610938994129E-4, (`@a :  (𝒰 _0) → (𝒰 _0)) ↦ ((((`@a) (Zero)) , (Zero))) : 5.224989600777182E-4, (`@a :  (𝒰 _0) → (𝒰 _0)) ↦ (((Zero) , ((`@a) (Unit)))) : 5.224989600777182E-4, (`@a :  (𝒰 _0) → (𝒰 _0)) ↦ (((Unit) , ((`@a) (Unit)))) : 5.224989600777182E-4, (`@a :  (𝒰 _0) → (𝒰 _0)) ↦ ((((`@a) (Unit)) , (Unit))) : 5.224989600777182E-4, (`@a :  (𝒰 _0) → (𝒰 _0)) ↦ ((((`@a) (Unit)) , (Zero))) : 5.224989600777182E-4, (`@a :  (𝒰 _0) → (𝒰 _0)) ↦ ((((`@a) (Zero)) , (Unit))) : 5.224989600777182E-4, (`@a :  (𝒰 _0) → (𝒰 _0)) ↦ (((Unit) , ((`@a) (Zero)))) : 5.224989600777182E-4, (`@a :  (𝒰 _0) → (𝒰 _0)) ↦ (((Zero) , ((`@a) (Zero)))) : 5.224989600777182E-4, (`@a :  (𝒰 _0) → (𝒰 _0)) ↦ ((((`@a) (Unit)) , ((`@a) ((`@a) (Zero))))) : 4.668615267918098E-4, (`@a :  (𝒰 _0) → (𝒰 _0)) ↦ ((((`@a) (Zero)) , ((`@a) ((`@a) (Zero))))) : 4.668615267918098E-4, (`@a :  (𝒰 _0) → (𝒰 _0)) ↦ ((((`@a) ((`@a) (Zero))) , ((`@a) (Zero)))) : 4.668615267918098E-4, (`@a :  (𝒰 _0) → (𝒰 _0)) ↦ ((((`@a) ((`@a) (Zero))) , ((`@a) (Unit)))) : 4.668615267918098E-4, (`@a :  (𝒰 _0) → (𝒰 _0)) ↦ ((((`@a) (Zero)) , ((`@a) ((`@a) (Unit))))) : 4.668615267918098E-4, (`@a :  (𝒰 _0) → (𝒰 _0)) ↦ ((((`@a) (Unit)) , ((`@a) ((`@a) (Unit))))) : 4.668615267918098E-4, (`@a :  (𝒰 _0) → (𝒰 _0)) ↦ ((((`@a) ((`@a) (Unit))) , ((`@a) (Zero)))) : 4.668615267918098E-4, (`@a :  (𝒰 _0) → (𝒰 _0)) ↦ ((((`@a) ((`@a) (Unit))) , ((`@a) (Unit)))) : 4.668615267918098E-4, (`@a :  (𝒰 _0) → (𝒰 _0)) ↦ ((((`@a) (Zero)) , ((`@a) (Unit)))) : 4.6144661261618246E-4, (`@a :  (𝒰 _0) → (𝒰 _0)) ↦ ((((`@a) (Unit)) , ((`@a) (Unit)))) : 4.6144661261618246E-4, (`@a :  (𝒰 _0) → (𝒰 _0)) ↦ ((((`@a) (Unit)) , ((`@a) (Zero)))) : 4.6144661261618246E-4, (`@a :  (𝒰 _0) → (𝒰 _0)) ↦ ((((`@a) (Zero)) , ((`@a) (Zero)))) : 4.6144661261618246E-4]))\n",
       " * Vector((∑((`@a :  𝒰 _0) ↦ (((𝒰 _0) , (`@a)))),0.5,[((Unit) , (((Zero) , (Star)))) : 0.009747864298093989, ((Unit) , (((Unit) , (Star)))) : 0.009747864298093989]))\n",
       " * Vector(((((`@a : 𝒰 _0 ) ~> (`@a)) → (𝒰 _0)) → (𝒰 _0),0.5,[(@a :  ((`@a : 𝒰 _0 ) ~> (`@a)) → (𝒰 _0)) ↦ (Zero) : 0.010256797174673255, (@a :  ((`@a : 𝒰 _0 ) ~> (`@a)) → (𝒰 _0)) ↦ (Unit) : 0.010256797174673255]))\n",
       " * Vector((((𝒰 _0) → ((𝒰 _0) → (𝒰 _0))) → (𝒰 _0),0.5,[(@a :  (𝒰 _0) → ((𝒰 _0) → (𝒰 _0))) ↦ (Zero) : 0.004822227589740257, (@a :  (𝒰 _0) → ((𝒰 _0) → (𝒰 _0))) ↦ (Unit) : 0.004822227589740257, (`@a :  (𝒰 _0) → ((𝒰 _0) → (𝒰 _0))) ↦ (((`@a) (Zero)) (Zero)) : 0.0027136687936852094, (`@a :  (𝒰 _0) → ((𝒰 _0) → (𝒰 _0))) ↦ (((`@a) (Unit)) (Zero)) : 0.0027136687936852094, (`@a :  (𝒰 _0) → ((𝒰 _0) → (𝒰 _0))) ↦ (((`@a) (Zero)) (Unit)) : 0.0027136687936852094, (`@a :  (𝒰 _0) → ((𝒰 _0) → (𝒰 _0))) ↦ (((`@a) (Unit)) (Unit)) : 0.0027136687936852094]))\n",
       " * Vector((∑((``@a :  𝒰 _0) ↦ (PlusTyp((``@a) → (Zero),(``@a) → (Zero)))),0.5,[((Zero) , (ScndIncl(PlusTyp((Zero) → (Zero),(Zero) → (Zero)),rec(Zero)(Zero)))) : 0.004871072854380337, ((Zero) , (FirstIncl(PlusTyp((Zero) → (Zero),(Zero) → (Zero)),rec(Zero)(Zero)))) : 0.004871072854380337, ((Zero) , (FirstIncl(PlusTyp((Zero) → (Zero),(Zero) → (Zero)),(`@a :  Zero) ↦ (`@a)))) : 0.004871072854380337, ((Zero) , (ScndIncl(PlusTyp((Zero) → (Zero),(Zero) → (Zero)),(`@a :  Zero) ↦ (`@a)))) : 0.004871072854380337]))\n",
       " * Vector((∑((`@a :  𝒰 _0) ↦ ((`@a) → (`@a))),0.5,[((Zero) , (rec(Zero)(Zero))) : 0.006401907155647275, ((Unit) , (rec(Unit)(Unit)(Star))) : 0.004871056428115649, ((Zero) , ((`@a :  Zero) ↦ (`@a))) : 0.004871056428115649, ((Unit) , ((`@a :  Unit) ↦ (`@a))) : 0.0027399692408150537, ((Unit) , ((@a :  Unit) ↦ (Star))) : 0.0021310871873005967]))\n",
       " * Vector((((((𝒰 _0) → (𝒰 _0)) , (𝒰 _0))) → (𝒰 _0),0.5,[(((@a_1) , (@a_2)) :  (((𝒰 _0) → (𝒰 _0)) , (𝒰 _0))) ↦ (Unit) : 0.005485514651659905, (((@a_1) , (@a_2)) :  (((𝒰 _0) → (𝒰 _0)) , (𝒰 _0))) ↦ (Zero) : 0.005485514651659905, rec((((𝒰 _0) → (𝒰 _0)) , (𝒰 _0)))(𝒰 _0)((`@a :  (𝒰 _0) → (𝒰 _0)) ↦ (`@a)) : 0.003352272045939376, rec((((𝒰 _0) → (𝒰 _0)) , (𝒰 _0)))(𝒰 _0)((`@a :  (𝒰 _0) → (𝒰 _0)) ↦ ((`@a :  𝒰 _0) ↦ ((`@a) (`@a)))) : 0.001164631759864518, rec((((𝒰 _0) → (𝒰 _0)) , (𝒰 _0)))(𝒰 _0)((@a :  (𝒰 _0) → (𝒰 _0)) ↦ ((`@a :  𝒰 _0) ↦ (`@a))) : 0.0010563012474797307, rec((((𝒰 _0) → (𝒰 _0)) , (𝒰 _0)))(𝒰 _0)((`@a :  (𝒰 _0) → (𝒰 _0)) ↦ ((`@a :  𝒰 _0) ↦ ((`@a) ((`@a) (`@a))))) : 7.274103876120619E-4, rec((((𝒰 _0) → (𝒰 _0)) , (𝒰 _0)))(𝒰 _0)((`@a :  (𝒰 _0) → (𝒰 _0)) ↦ ((@a :  𝒰 _0) ↦ ((`@a) (Unit)))) : 6.340772914817931E-4, rec((((𝒰 _0) → (𝒰 _0)) , (𝒰 _0)))(𝒰 _0)((`@a :  (𝒰 _0) → (𝒰 _0)) ↦ ((@a :  𝒰 _0) ↦ ((`@a) (Zero)))) : 6.340772914817931E-4, rec((((𝒰 _0) → (𝒰 _0)) , (𝒰 _0)))(𝒰 _0)((@a :  (𝒰 _0) → (𝒰 _0)) ↦ ((@a :  𝒰 _0) ↦ (Zero))) : 5.750973458500755E-4, rec((((𝒰 _0) → (𝒰 _0)) , (𝒰 _0)))(𝒰 _0)((@a :  (𝒰 _0) → (𝒰 _0)) ↦ ((@a :  𝒰 _0) ↦ (Unit))) : 5.750973458500755E-4, rec((((𝒰 _0) → (𝒰 _0)) , (𝒰 _0)))(𝒰 _0)((`@a :  (𝒰 _0) → (𝒰 _0)) ↦ ((@a :  𝒰 _0) ↦ ((`@a) ((`@a) (Zero))))) : 3.96034544366567E-4, rec((((𝒰 _0) → (𝒰 _0)) , (𝒰 _0)))(𝒰 _0)((`@a :  (𝒰 _0) → (𝒰 _0)) ↦ ((@a :  𝒰 _0) ↦ ((`@a) ((`@a) (Unit))))) : 3.96034544366567E-4]))\n",
       " * Vector((((((𝒰 _0) , (𝒰 _0))) → (𝒰 _0)) → (𝒰 _0),0.5,[(@a :  (((𝒰 _0) , (𝒰 _0))) → (𝒰 _0)) ↦ (Zero) : 0.007409756578024077, (@a :  (((𝒰 _0) , (𝒰 _0))) → (𝒰 _0)) ↦ (Unit) : 0.007409756578024077, (`@a :  (((𝒰 _0) , (𝒰 _0))) → (𝒰 _0)) ↦ ((`@a) (((Unit) , (Unit)))) : 0.0014184578964282486, (`@a :  (((𝒰 _0) , (𝒰 _0))) → (𝒰 _0)) ↦ ((`@a) (((Zero) , (Unit)))) : 0.0014184578964282486, (`@a :  (((𝒰 _0) , (𝒰 _0))) → (𝒰 _0)) ↦ ((`@a) (((Zero) , (Zero)))) : 0.0014184578964282486, (`@a :  (((𝒰 _0) , (𝒰 _0))) → (𝒰 _0)) ↦ ((`@a) (((Unit) , (Zero)))) : 0.0014184578964282486]))\n",
       " * Vector((∑((`@a :  𝒰 _0) ↦ (((`@a) , (𝒰 _0)))),0.5,[((Unit) , (((Star) , (Unit)))) : 0.009747864298093985, ((Unit) , (((Star) , (Zero)))) : 0.009747864298093985]))\n",
       " * Vector((∑((``@a :  𝒰 _0) ↦ (PlusTyp((𝒰 _0) → (Zero),(``@a) → (Zero)))),0.5,[((Zero) , (ScndIncl(PlusTyp((𝒰 _0) → (Zero),(Zero) → (Zero)),rec(Zero)(Zero)))) : 0.009747864298093989, ((Zero) , (ScndIncl(PlusTyp((𝒰 _0) → (Zero),(Zero) → (Zero)),(`@a :  Zero) ↦ (`@a)))) : 0.009747864298093989]))\n",
       " * Vector((∑((`@a :  𝒰 _0) ↦ ((𝒰 _0) → (`@a))),0.5,[((Unit) , ((@a :  𝒰 _0) ↦ (Star))) : 0.019495728596187985]))\n",
       " * Vector(((𝒰 _0) → (∑((`@b :  𝒰 _0) ↦ (`@b))),0.5,[(@a :  𝒰 _0) ↦ (((Unit) , (Star))) : 0.019561390892799724]))\n",
       " * Vector((∑((``@a :  𝒰 _0) ↦ (PlusTyp((``@a) → (Zero),(𝒰 _0) → (Zero)))),0.5,[((Zero) , (FirstIncl(PlusTyp((Zero) → (Zero),(𝒰 _0) → (Zero)),rec(Zero)(Zero)))) : 0.009747864298093992, ((Zero) , (FirstIncl(PlusTyp((Zero) → (Zero),(𝒰 _0) → (Zero)),(`@a :  Zero) ↦ (`@a)))) : 0.009747864298093992]))\n",
       " * Vector((∑((`@a :  𝒰 _0) ↦ ((`@a) → (𝒰 _0))),0.5,[((Zero) , (rec(Zero)(𝒰 _0))) : 0.0064019071556472755, ((Unit) , ((@a :  Unit) ↦ (Zero))) : 0.0024355282140578255, ((Unit) , ((@a :  Unit) ↦ (Unit))) : 0.0024355282140578255, ((Zero) , ((@a :  Zero) ↦ (Zero))) : 0.0024355282140578255, ((Unit) , (rec(Unit)(𝒰 _0)(Unit))) : 0.0024355282140578255, ((Zero) , ((@a :  Zero) ↦ (Unit))) : 0.0024355282140578255, ((Unit) , (rec(Unit)(𝒰 _0)(Zero))) : 0.0024355282140578255]))\n",
       " * Vector(((∑((`@a :  𝒰 _0) ↦ (`@a))) → (𝒰 _0),0.5,[(((@a_1) , (@a_2)) :  ∑((`@a :  𝒰 _0) ↦ (`@a))) ↦ (Unit) : 0.0055906971963988255, (((@a_1) , (@a_2)) :  ∑((`@a :  𝒰 _0) ↦ (`@a))) ↦ (Zero) : 0.0055906971963988255, rec(∑((`@a :  𝒰 _0) ↦ (`@a)))(𝒰 _0)((`@a :  𝒰 _0) ↦ ((`@a :  `@a) ↦ (`@a))) : 0.0037090991135179463, rec(∑((`@a :  𝒰 _0) ↦ (`@a)))(𝒰 _0)((`@a :  𝒰 _0) ↦ ((`@a :  `@a) ↦ (Zero))) : 0.0028848548660695135, rec(∑((`@a :  𝒰 _0) ↦ (`@a)))(𝒰 _0)((`@a :  𝒰 _0) ↦ ((`@a :  `@a) ↦ (Unit))) : 0.0028848548660695135]))\n",
       " * Vector((∑((``@a :  𝒰 _0) ↦ (((𝒰 _0) → (``@a)) → (Zero))),0.5,[((Zero) , ((`@a :  (𝒰 _0) → (Zero)) ↦ ((`@a) (Unit)))) : 0.009747864298093996, ((Zero) , ((`@a :  (𝒰 _0) → (Zero)) ↦ ((`@a) (Zero)))) : 0.009747864298093996]))\n",
       " * Vector(((𝒰 _0) → (((𝒰 _0) , (𝒰 _0))),0.5,[(`@a :  𝒰 _0) ↦ (((`@a) , (`@a))) : 0.0030188052444319775, (`@a :  𝒰 _0) ↦ (((Zero) , (`@a))) : 0.002308684508460403, (`@a :  𝒰 _0) ↦ (((`@a) , (Unit))) : 0.002308684508460403, (`@a :  𝒰 _0) ↦ (((Unit) , (`@a))) : 0.002308684508460403, (`@a :  𝒰 _0) ↦ (((`@a) , (Zero))) : 0.002308684508460403, (@a :  𝒰 _0) ↦ (((Zero) , (Zero))) : 0.0018493335098097492, (@a :  𝒰 _0) ↦ (((Unit) , (Unit))) : 0.0018493335098097492, (@a :  𝒰 _0) ↦ (((Unit) , (Zero))) : 0.0017956435065803135, (@a :  𝒰 _0) ↦ (((Zero) , (Unit))) : 0.0017956435065803135]))\n",
       " * Vector((((`@a : 𝒰 _0 ) ~> (`@a)) → (𝒰 _0),0.5,[(@a :  (`@a : 𝒰 _0 ) ~> (`@a)) ↦ (Zero) : 0.010832862757059717, (@a :  (`@a : 𝒰 _0 ) ~> (`@a)) ↦ (Unit) : 0.010832862757059717]))\n",
       " * Vector((((𝒰 _0) → ((`@b : 𝒰 _0 ) ~> (`@b))) → (Zero),0.5,[(`@a :  (𝒰 _0) → ((`@b : 𝒰 _0 ) ~> (`@b))) ↦ (((`@a) (Unit)) (Zero)) : 0.0094397293373121, (`@a :  (𝒰 _0) → ((`@b : 𝒰 _0 ) ~> (`@b))) ↦ (((`@a) (Zero)) (Zero)) : 0.0094397293373121]))\n",
       " * Vector(((((𝒰 _0) , (𝒰 _0))) → (𝒰 _0),0.5,[(((@a_1) , (@a_2)) :  ((𝒰 _0) , (𝒰 _0))) ↦ (Zero) : 0.00557087786310835, (((@a_1) , (@a_2)) :  ((𝒰 _0) , (𝒰 _0))) ↦ (Unit) : 0.00557087786310835, rec(((𝒰 _0) , (𝒰 _0)))(𝒰 _0)((@a :  𝒰 _0) ↦ ((`@b :  𝒰 _0) ↦ (`@b))) : 0.003398794991509158, rec(((𝒰 _0) , (𝒰 _0)))(𝒰 _0)((`@a :  𝒰 _0) ↦ ((@b :  𝒰 _0) ↦ (`@a))) : 0.0023791564940564107, rec(((𝒰 _0) , (𝒰 _0)))(𝒰 _0)((@a :  𝒰 _0) ↦ ((@b :  𝒰 _0) ↦ (Zero))) : 0.0018504550509327645, rec(((𝒰 _0) , (𝒰 _0)))(𝒰 _0)((@a :  𝒰 _0) ↦ ((@b :  𝒰 _0) ↦ (Unit))) : 0.0018504550509327645]))\n",
       " * Vector((((𝒰 _0) → (𝒰 _0)) → (𝒰 _0),0.5,[(@a :  (𝒰 _0) → (𝒰 _0)) ↦ (Zero) : 0.004434521334908531, (@a :  (𝒰 _0) → (𝒰 _0)) ↦ (Unit) : 0.004434521334908531, (``@a :  (𝒰 _0) → (𝒰 _0)) ↦ ((``@a) (Zero)) : 0.0030950013985154468, (``@a :  (𝒰 _0) → (𝒰 _0)) ↦ ((``@a) (Unit)) : 0.0030950013985154468, (`@a :  (𝒰 _0) → (𝒰 _0)) ↦ ((`@a) ((`@a) (Zero))) : 0.003035898473921898, (`@a :  (𝒰 _0) → (𝒰 _0)) ↦ ((`@a) ((`@a) (Unit))) : 0.003035898473921898]))\n",
       " * Vector((∑((`@a :  𝒰 _0) ↦ (`@a)),0.5,[((Unit) , (Star)) : 0.01970769689870014]))\n",
       " * Vector((∑((``@a :  𝒰 _0) ↦ ((``@a) → (Zero))),0.5,[((Zero) , (rec(Zero)(Zero))) : 0.01127994556862484, ((Zero) , ((`@a :  Zero) ↦ (`@a))) : 0.00974783102948558]))\n"
      ]
     },
     "metadata": {},
     "output_type": "display_data"
    }
   ],
   "source": [
    "val succHandle = Markdown(successes.reverse.mkString(\"## Successes\\n\\n * \", \"\\n * \", \"\\n\"))"
   ]
  },
  {
   "cell_type": "code",
   "execution_count": 20,
   "metadata": {},
   "outputs": [
    {
     "data": {
      "text/markdown": [
       "## Failures\n",
       "\n",
       " * (𝒰 _0) → (((𝒰 _0) , ((`@c : 𝒰 _0 ) ~> (`@c))))\n",
       " * (𝒰 _0) → ((`@b : 𝒰 _0 ) ~> (((`@b) , (𝒰 _0))))\n",
       " * (𝒰 _0) → ((((`@b : 𝒰 _0 ) ~> (`@b)) , (𝒰 _0)))\n"
      ]
     },
     "metadata": {},
     "output_type": "display_data"
    }
   ],
   "source": [
    "val failHandle = Markdown(failures.reverse.mkString(\"## Failures\\n\\n * \", \"\\n * \", \"\\n\"))"
   ]
  },
  {
   "cell_type": "code",
   "execution_count": 21,
   "metadata": {},
   "outputs": [],
   "source": [
    "update = (_) => {\n",
    "    chompView.withContent(md).update()  \n",
    "    succHandle.withContent(successes.reverse.mkString(\"## Successes\\n\\n * \", \"\\n * \", \"\\n\")).update() \n",
    "    failHandle.withContent(failures.reverse.mkString(\"## Failures\\n\\n * \", \"\\n * \", \"\\n\")).update()\n",
    "}"
   ]
  },
  {
   "cell_type": "code",
   "execution_count": 22,
   "metadata": {},
   "outputs": [],
   "source": [
    "update(())"
   ]
  },
  {
   "cell_type": "code",
   "execution_count": null,
   "metadata": {},
   "outputs": [],
   "source": []
  }
 ],
 "metadata": {
  "kernelspec": {
   "display_name": "Scala",
   "language": "scala",
   "name": "scala"
  },
  "language_info": {
   "codemirror_mode": "text/x-scala",
   "file_extension": ".scala",
   "mimetype": "text/x-scala",
   "name": "scala",
   "nbconvert_exporter": "script",
   "version": "2.12.8"
  }
 },
 "nbformat": 4,
 "nbformat_minor": 2
}
