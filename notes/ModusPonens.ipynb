{
 "cells": [
  {
   "cell_type": "markdown",
   "metadata": {},
   "source": [
    "## Modus Ponens\n",
    "This correctly scales up cutoff (but perhaps too much, we also scale within `Pi` and `PiOpt`)"
   ]
  },
  {
   "cell_type": "code",
   "execution_count": 1,
   "metadata": {},
   "outputs": [
    {
     "data": {
      "text/plain": [
       "\u001b[32mimport \u001b[39m\u001b[36m$ivy.$                                       \u001b[39m"
      ]
     },
     "execution_count": 1,
     "metadata": {},
     "output_type": "execute_result"
    }
   ],
   "source": [
    "import $ivy.`io.github.siddhartha-gadgil::provingground-core-jvm:0.1.0`"
   ]
  },
  {
   "cell_type": "code",
   "execution_count": 2,
   "metadata": {},
   "outputs": [
    {
     "data": {
      "text/plain": [
       "\u001b[32mimport \u001b[39m\u001b[36mprovingground._ , interface._, HoTT._\n",
       "\u001b[39m\n",
       "\u001b[32mimport \u001b[39m\u001b[36mprovingground.{FiniteDistribution => FD}\n",
       "\u001b[39m\n",
       "\u001b[32mimport \u001b[39m\u001b[36mlearning._\u001b[39m"
      ]
     },
     "execution_count": 2,
     "metadata": {},
     "output_type": "execute_result"
    }
   ],
   "source": [
    "import provingground._ , interface._, HoTT._\n",
    "import provingground.{FiniteDistribution => FD}\n",
    "import learning._"
   ]
  },
  {
   "cell_type": "code",
   "execution_count": 3,
   "metadata": {},
   "outputs": [
    {
     "data": {
      "text/plain": [
       "\u001b[36mA\u001b[39m: \u001b[32mTyp\u001b[39m[\u001b[32mTerm\u001b[39m] = \u001b[33mSymbTyp\u001b[39m(\u001b[33mName\u001b[39m(\u001b[32m\"A\"\u001b[39m), \u001b[32m0\u001b[39m)\n",
       "\u001b[36mB\u001b[39m: \u001b[32mTyp\u001b[39m[\u001b[32mTerm\u001b[39m] = \u001b[33mSymbTyp\u001b[39m(\u001b[33mName\u001b[39m(\u001b[32m\"B\"\u001b[39m), \u001b[32m0\u001b[39m)\n",
       "\u001b[36mMP\u001b[39m: \u001b[32mGenFuncTyp\u001b[39m[\u001b[32mTyp\u001b[39m[\u001b[32mTerm\u001b[39m], \u001b[32mFuncLike\u001b[39m[\u001b[32mTyp\u001b[39m[\u001b[32mTerm\u001b[39m], \u001b[32mFunc\u001b[39m[\u001b[32mTerm\u001b[39m, \u001b[32mFunc\u001b[39m[\u001b[32mFunc\u001b[39m[\u001b[32mTerm\u001b[39m, \u001b[32mTerm\u001b[39m], \u001b[32mTerm\u001b[39m]]]] = \u001b[33mPiDefn\u001b[39m(\n",
       "  \u001b[33mSymbTyp\u001b[39m(A, \u001b[32m0\u001b[39m),\n",
       "  \u001b[33mPiDefn\u001b[39m(\n",
       "    \u001b[33mSymbTyp\u001b[39m(B, \u001b[32m0\u001b[39m),\n",
       "    \u001b[33mFuncTyp\u001b[39m(\n",
       "      \u001b[33mSymbTyp\u001b[39m(A, \u001b[32m0\u001b[39m),\n",
       "      \u001b[33mFuncTyp\u001b[39m(\u001b[33mFuncTyp\u001b[39m(\u001b[33mSymbTyp\u001b[39m(A, \u001b[32m0\u001b[39m), \u001b[33mSymbTyp\u001b[39m(B, \u001b[32m0\u001b[39m)), \u001b[33mSymbTyp\u001b[39m(B, \u001b[32m0\u001b[39m))\n",
       "    )\n",
       "  )\n",
       ")\n",
       "\u001b[36mts\u001b[39m: \u001b[32mTermState\u001b[39m = \u001b[33mTermState\u001b[39m(\n",
       "  \u001b[33mFiniteDistribution\u001b[39m(\u001b[33mVector\u001b[39m(\u001b[33mWeighted\u001b[39m(\u001b[33mUniverse\u001b[39m(\u001b[32m0\u001b[39m), \u001b[32m1.0\u001b[39m))),\n",
       "  \u001b[33mFiniteDistribution\u001b[39m(\u001b[33mVector\u001b[39m(\u001b[33mWeighted\u001b[39m(\u001b[33mUniverse\u001b[39m(\u001b[32m0\u001b[39m), \u001b[32m1.0\u001b[39m))),\n",
       "  \u001b[33mVector\u001b[39m(),\n",
       "  \u001b[33mFiniteDistribution\u001b[39m(\u001b[33mVector\u001b[39m()),\n",
       "  \u001b[33mFiniteDistribution\u001b[39m(\n",
       "    \u001b[33mVector\u001b[39m(\n",
       "      \u001b[33mWeighted\u001b[39m(\n",
       "        \u001b[33mPiDefn\u001b[39m(\n",
       "          \u001b[33mSymbTyp\u001b[39m(A, \u001b[32m0\u001b[39m),\n",
       "          \u001b[33mPiDefn\u001b[39m(\n",
       "            \u001b[33mSymbTyp\u001b[39m(B, \u001b[32m0\u001b[39m),\n",
       "            \u001b[33mFuncTyp\u001b[39m(\n",
       "              \u001b[33mSymbTyp\u001b[39m(A, \u001b[32m0\u001b[39m),\n",
       "              \u001b[33mFuncTyp\u001b[39m(\u001b[33mFuncTyp\u001b[39m(\u001b[33mSymbTyp\u001b[39m(A, \u001b[32m0\u001b[39m), \u001b[33mSymbTyp\u001b[39m(B, \u001b[32m0\u001b[39m)), \u001b[33mSymbTyp\u001b[39m(B, \u001b[32m0\u001b[39m))\n",
       "            )\n",
       "          )\n",
       "        ),\n",
       "        \u001b[32m1.0\u001b[39m\n",
       "      )\n",
       "    )\n",
       "  ),\n",
       "  Empty\n",
       ")\n",
       "\u001b[36mtg\u001b[39m: \u001b[32mTermGenParams\u001b[39m = \u001b[33mTermGenParams\u001b[39m(\n",
       "  \u001b[32m0.1\u001b[39m,\n",
       "  \u001b[32m0.1\u001b[39m,\n",
       "  \u001b[32m0.1\u001b[39m,\n",
       "  \u001b[32m0.1\u001b[39m,\n",
       "  \u001b[32m0.1\u001b[39m,\n",
       "  \u001b[32m0.05\u001b[39m,\n",
       "  \u001b[32m0.05\u001b[39m,\n",
       "  \u001b[32m0.05\u001b[39m,\n",
       "  \u001b[32m0.3\u001b[39m,\n",
       "  \u001b[32m0.7\u001b[39m,\n",
       "  \u001b[32m0.5\u001b[39m\n",
       ")\n",
       "\u001b[36mmfeq\u001b[39m: \u001b[32mMonixFiniteDistributionEq\u001b[39m[\u001b[32mTermState\u001b[39m, \u001b[32mTerm\u001b[39m] = \u001b[33mMonixFiniteDistributionEq\u001b[39m(\n",
       "  \u001b[33mCons\u001b[39m(\n",
       "    \u001b[33mBaseCons\u001b[39m(\n",
       "      \u001b[33mBasePi\u001b[39m(\n",
       "        provingground.learning.RandomVarFamily$$Lambda$3554/221246939@4aa1ee39,\n",
       "        FuncsWithDomain\n",
       "      ),\n",
       "      \u001b[32m0.55\u001b[39m,\n",
       "      \u001b[33mBaseCons\u001b[39m(\n",
       "        \u001b[33mBasePi\u001b[39m(\n",
       "          provingground.learning.GeneratorNode$$Lambda$3557/663473340@6729cd9,\n",
       "          FuncsWithDomain\n",
       "        ),\n",
       "        \u001b[32m0.1\u001b[39m,\n",
       "        \u001b[33mBaseCons\u001b[39m(\n",
       "          \u001b[33mBasePi\u001b[39m(\n",
       "            provingground.learning.GeneratorNode$$Lambda$3557/663473340@5bb9a681,\n",
       "            FuncsWithDomain\n",
       "          ),\n",
       "          \u001b[32m0.1\u001b[39m,\n",
       "          \u001b[33mBaseCons\u001b[39m(\n",
       "            \u001b[33mBasePi\u001b[39m(\n",
       "              provingground.learning.GeneratorNode$$Lambda$3557/663473340@4c9bcba1,\n",
       "              FuncsWithDomain\n",
       "            ),\n",
       "            \u001b[32m0.1\u001b[39m,\n",
       "            \u001b[33mBaseCons\u001b[39m(\n",
       "              \u001b[33mBasePi\u001b[39m(\n",
       "                provingground.learning.TermGeneratorNodes$$Lambda$3548/391798791@67b57543,\n",
       "                FuncsWithDomain\n",
       "              ),\n",
       "              \u001b[32m0.1\u001b[39m,\n",
       "              \u001b[33mTarget\u001b[39m(FuncsWithDomain)\n",
       "            )\n",
       "          )\n",
       "        )\n",
       "..."
      ]
     },
     "execution_count": 3,
     "metadata": {},
     "output_type": "execute_result"
    }
   ],
   "source": [
    "val A = Type.sym\n",
    "val B = Type.sym\n",
    "val MP = A ~>: B ~>: (A ->: (A ->: B) ->: B)\n",
    "val ts = TermState(FD.unif(Type), FD.unif(Type), goals = FD.unif(MP))\n",
    "val tg = TermGenParams()\n",
    "val mfeq = MonixFiniteDistributionEq(tg.nodeCoeffSeq)\n"
   ]
  },
  {
   "cell_type": "code",
   "execution_count": 4,
   "metadata": {},
   "outputs": [
    {
     "data": {
      "text/plain": [
       "\u001b[32mimport \u001b[39m\u001b[36mTermRandomVars._\n",
       "\u001b[39m\n",
       "\u001b[36mgetMPhard\u001b[39m: \u001b[32mmonix\u001b[39m.\u001b[32meval\u001b[39m.\u001b[32mTask\u001b[39m[(\u001b[32mFiniteDistribution\u001b[39m[\u001b[32mTerm\u001b[39m], \u001b[32mSet\u001b[39m[\u001b[32mGeneratorVariables\u001b[39m.\u001b[32mEquationTerm\u001b[39m])] = \u001b[33mFlatMap\u001b[39m(\n",
       "  \u001b[33mAsync\u001b[39m(<function2>, true, true, true),\n",
       "  monix.eval.Task$$Lambda$3706/1986317742@217b0f83\n",
       ")"
      ]
     },
     "execution_count": 4,
     "metadata": {},
     "output_type": "execute_result"
    }
   ],
   "source": [
    "import TermRandomVars._\n",
    "val getMPhard = mfeq.varDist(ts)(Terms, 0.0001)"
   ]
  },
  {
   "cell_type": "code",
   "execution_count": 5,
   "metadata": {},
   "outputs": [
    {
     "data": {
      "text/plain": [
       "\u001b[32mimport \u001b[39m\u001b[36mmonix.execution.Scheduler.Implicits.global \n",
       "\u001b[39m\n",
       "\u001b[36mfd\u001b[39m: \u001b[32mFiniteDistribution\u001b[39m[\u001b[32mTerm\u001b[39m] = \u001b[33mFiniteDistribution\u001b[39m(\n",
       "  \u001b[33mVector\u001b[39m(\n",
       "    \u001b[33mWeighted\u001b[39m(\n",
       "      \u001b[33mLambdaFixed\u001b[39m(\n",
       "        \u001b[33mPiSymbolicFunc\u001b[39m(\u001b[33mName\u001b[39m(\u001b[32m\"_\"\u001b[39m), \u001b[33mSymbTyp\u001b[39m(@a, \u001b[32m0\u001b[39m), \u001b[33mSymbTyp\u001b[39m(@a, \u001b[32m0\u001b[39m)),\n",
       "        \u001b[33mLambdaFixed\u001b[39m(\u001b[33mSymbTyp\u001b[39m(\u001b[33mName\u001b[39m(\u001b[32m\"_\"\u001b[39m), \u001b[32m0\u001b[39m), \u001b[33mUniverse\u001b[39m(\u001b[32m0\u001b[39m))\n",
       "      ),\n",
       "      \u001b[32m2.489207011819105E-4\u001b[39m\n",
       "    ),\n",
       "    \u001b[33mWeighted\u001b[39m(\n",
       "      \u001b[33mLambdaFixed\u001b[39m(\n",
       "        \u001b[33mSymbTyp\u001b[39m(\u001b[33mName\u001b[39m(\u001b[32m\"_\"\u001b[39m), \u001b[32m0\u001b[39m),\n",
       "        \u001b[33mLambdaFixed\u001b[39m(\n",
       "          \u001b[33mPiSymbolicFunc\u001b[39m(\u001b[33mName\u001b[39m(\u001b[32m\"_\"\u001b[39m), \u001b[33mSymbTyp\u001b[39m(@b, \u001b[32m0\u001b[39m), \u001b[33mSymbTyp\u001b[39m(@b, \u001b[32m0\u001b[39m)),\n",
       "          \u001b[33mUniverse\u001b[39m(\u001b[32m0\u001b[39m)\n",
       "        )\n",
       "      ),\n",
       "      \u001b[32m1.4161641559025961E-4\u001b[39m\n",
       "    ),\n",
       "    \u001b[33mWeighted\u001b[39m(\n",
       "      \u001b[33mLambdaFixed\u001b[39m(\n",
       "        \u001b[33mPairTerm\u001b[39m(\n",
       "          \u001b[33mSymbTyp\u001b[39m(\u001b[33mLeftProjSym\u001b[39m(\u001b[33mName\u001b[39m(\u001b[32m\"_\"\u001b[39m)), \u001b[32m0\u001b[39m),\n",
       "          \u001b[33mSymbolicFunc\u001b[39m(\u001b[33mRightProjSym\u001b[39m(\u001b[33mName\u001b[39m(\u001b[32m\"_\"\u001b[39m)), \u001b[33mUniverse\u001b[39m(\u001b[32m0\u001b[39m), \u001b[33mUniverse\u001b[39m(\u001b[32m0\u001b[39m))\n",
       "        ),\n",
       "        \u001b[33mUniverse\u001b[39m(\u001b[32m0\u001b[39m)\n",
       "      ),\n",
       "      \u001b[32m2.3119896721372646E-4\u001b[39m\n",
       "    ),\n",
       "    \u001b[33mWeighted\u001b[39m(\n",
       "      \u001b[33mLambdaFixed\u001b[39m(\n",
       "        \u001b[33mPairTerm\u001b[39m(\n",
       "          \u001b[33mSymbTyp\u001b[39m(\u001b[33mLeftProjSym\u001b[39m(\u001b[33mName\u001b[39m(\u001b[32m\"_\"\u001b[39m)), \u001b[32m0\u001b[39m),\n",
       "          \u001b[33mSymbTyp\u001b[39m(\u001b[33mRightProjSym\u001b[39m(\u001b[33mName\u001b[39m(\u001b[32m\"_\"\u001b[39m)), \u001b[32m0\u001b[39m)\n",
       "        ),\n",
       "        \u001b[33mLambdaFixed\u001b[39m(\u001b[33mSymbTyp\u001b[39m(\u001b[33mName\u001b[39m(\u001b[32m\"_\"\u001b[39m), \u001b[32m0\u001b[39m), \u001b[33mUniverse\u001b[39m(\u001b[32m0\u001b[39m))\n",
       "      ),\n",
       "      \u001b[32m3.1505650767257745E-4\u001b[39m\n",
       "    ),\n",
       "...\n",
       "\u001b[36meqs\u001b[39m: \u001b[32mSet\u001b[39m[\u001b[32mGeneratorVariables\u001b[39m.\u001b[32mEquationTerm\u001b[39m] = \u001b[33mSet\u001b[39m(\n",
       "  \u001b[33mEquationTerm\u001b[39m(\n",
       "    \u001b[33mFinalVal\u001b[39m(\n",
       "      \u001b[33mElem\u001b[39m(\u001b[33mProdTyp\u001b[39m(\u001b[33mUniverse\u001b[39m(\u001b[32m0\u001b[39m), \u001b[33mFuncTyp\u001b[39m(\u001b[33mUniverse\u001b[39m(\u001b[32m0\u001b[39m), \u001b[33mUniverse\u001b[39m(\u001b[32m0\u001b[39m))), Typs)\n",
       "    ),\n",
       "    \u001b[33mProduct\u001b[39m(\n",
       "      \u001b[33mCoeff\u001b[39m(\n",
       "        \u001b[33mFlatMap\u001b[39m(\n",
       "          Typs,\n",
       "          provingground.learning.TermGeneratorNodes$$Lambda$3550/841967481@1bb34c77,\n",
       "          Typs\n",
       "        ),\n",
       "        Typs\n",
       "      ),\n",
       "      \u001b[33mFinalVal\u001b[39m(\n",
       "        \u001b[33mInIsle\u001b[39m(\n",
       "          \u001b[33mElem\u001b[39m(\u001b[33mFuncTyp\u001b[39m(\u001b[33mUniverse\u001b[39m(\u001b[32m0\u001b[39m), \u001b[33mUniverse\u001b[39m(\u001b[32m0\u001b[39m)), Typs),\n",
       "          \u001b[33mSymbTyp\u001b[39m(\u001b[33mName\u001b[39m(\u001b[32m\"@a\"\u001b[39m), \u001b[32m0\u001b[39m),\n",
       "          \u001b[33mIsland\u001b[39m(Typs, \u001b[33mCRV\u001b[39m(Typs), \u001b[33mAddVar\u001b[39m(\u001b[33mUniverse\u001b[39m(\u001b[32m0\u001b[39m), \u001b[32m0.3\u001b[39m), Sigma, InIsle)\n",
       "        )\n",
       "      )\n",
       "    )\n",
       "  ),\n",
       "  \u001b[33mEquationTerm\u001b[39m(\n",
       "    \u001b[33mInitialVal\u001b[39m(\n",
       "      \u001b[33mInIsle\u001b[39m(\n",
       "        \u001b[33mInIsle\u001b[39m(\n",
       "          \u001b[33mElem\u001b[39m(\u001b[33mUniverse\u001b[39m(\u001b[32m0\u001b[39m), Typs),\n",
       "          \u001b[33mSymbTyp\u001b[39m(\u001b[33mName\u001b[39m(\u001b[32m\"@b\"\u001b[39m), \u001b[32m0\u001b[39m),\n",
       "          \u001b[33mIsland\u001b[39m(Typs, \u001b[33mCRV\u001b[39m(Typs), \u001b[33mAddVar\u001b[39m(\u001b[33mUniverse\u001b[39m(\u001b[32m0\u001b[39m), \u001b[32m0.3\u001b[39m), Sigma, InIsle)\n",
       "        ),\n",
       "        \u001b[33mSymbTyp\u001b[39m(\u001b[33mName\u001b[39m(\u001b[32m\"@a\"\u001b[39m), \u001b[32m0\u001b[39m),\n",
       "        \u001b[33mIsland\u001b[39m(Typs, \u001b[33mCRV\u001b[39m(Typs), \u001b[33mAddVar\u001b[39m(\u001b[33mUniverse\u001b[39m(\u001b[32m0\u001b[39m), \u001b[32m0.3\u001b[39m), Pi, InIsle)\n",
       "      )\n",
       "    ),\n",
       "    \u001b[33mProduct\u001b[39m(\n",
       "      \u001b[33mIsleScale\u001b[39m(\u001b[33mSymbTyp\u001b[39m(\u001b[33mName\u001b[39m(\u001b[32m\"@b\"\u001b[39m), \u001b[32m0\u001b[39m), \u001b[33mElem\u001b[39m(\u001b[33mUniverse\u001b[39m(\u001b[32m0\u001b[39m), Typs)),\n",
       "      \u001b[33mInitialVal\u001b[39m(\n",
       "..."
      ]
     },
     "execution_count": 5,
     "metadata": {},
     "output_type": "execute_result"
    }
   ],
   "source": [
    "import monix.execution.Scheduler.Implicits.global \n",
    "val (fd, eqs) = getMPhard.runSyncUnsafe()"
   ]
  },
  {
   "cell_type": "code",
   "execution_count": 6,
   "metadata": {},
   "outputs": [
    {
     "data": {
      "text/plain": [
       "\u001b[36mres5_1\u001b[39m: \u001b[32mFiniteDistribution\u001b[39m[\u001b[32mTerm\u001b[39m] = \u001b[33mFiniteDistribution\u001b[39m(\n",
       "  \u001b[33mVector\u001b[39m(\n",
       "    \u001b[33mWeighted\u001b[39m(\u001b[32m(@a : 𝒰 ) ↦ (@b : 𝒰 ) ↦ (@a : @a) ↦ (@a : (@a → @b)) ↦ @a(@a)\u001b[39m, \u001b[32m0.03928111738491071\u001b[39m)\n",
       "  )\n",
       ")"
      ]
     },
     "execution_count": 6,
     "metadata": {},
     "output_type": "execute_result"
    }
   ],
   "source": [
    "repl.pprinter.bind(translation.FansiShow.fansiPrint)\n",
    "fd.filter(_.typ == MP)\n"
   ]
  },
  {
   "cell_type": "code",
   "execution_count": 7,
   "metadata": {},
   "outputs": [
    {
     "data": {
      "text/plain": [
       "\u001b[32mimport \u001b[39m\u001b[36mGeneratorVariables._\n",
       "\u001b[39m\n",
       "\u001b[36mmpEqs\u001b[39m: \u001b[32mSet\u001b[39m[\u001b[32mEquationTerm\u001b[39m] = \u001b[33mSet\u001b[39m(\n",
       "  \u001b[33mEquationTerm\u001b[39m(\n",
       "    \u001b[33mFinalVal\u001b[39m(\u001b[33mElem\u001b[39m(\u001b[32m(@a : 𝒰 ) ↦ (@b : 𝒰 ) ↦ (@a : @a) ↦ (@a : (@a → @b)) ↦ @a(@a)\u001b[39m, Terms)),\n",
       "    \u001b[33mProduct\u001b[39m(\n",
       "      \u001b[33mProduct\u001b[39m(\n",
       "        \u001b[33mCoeff\u001b[39m(\u001b[33mZipFlatMap\u001b[39m(TargetTyps, TermsWithTyp, Proj2, Terms), Terms),\n",
       "        \u001b[33mFinalVal\u001b[39m(\u001b[33mElem\u001b[39m(\u001b[32m∏(A : 𝒰 ){ ∏(B : 𝒰 ){ (A → ((A → B) → B)) } }\u001b[39m, TargetTyps))\n",
       "      ),\n",
       "      \u001b[33mFinalVal\u001b[39m(\n",
       "        \u001b[33mElem\u001b[39m(\n",
       "          \u001b[32m(@a : 𝒰 ) ↦ (@b : 𝒰 ) ↦ (@a : @a) ↦ (@a : (@a → @b)) ↦ @a(@a)\u001b[39m,\n",
       "          \u001b[33mAtCoord\u001b[39m(TermsWithTyp, \u001b[32m∏(A : 𝒰 ){ ∏(B : 𝒰 ){ (A → ((A → B) → B)) } }\u001b[39m :: HNil)\n",
       "        )\n",
       "      )\n",
       "    )\n",
       "  ),\n",
       "  \u001b[33mEquationTerm\u001b[39m(\n",
       "    \u001b[33mFinalVal\u001b[39m(\n",
       "      \u001b[33mElem\u001b[39m(\n",
       "        \u001b[32m(@a : 𝒰 ) ↦ (@b : 𝒰 ) ↦ (@a : @a) ↦ (@a : (@a → @b)) ↦ @a(@a)\u001b[39m,\n",
       "        \u001b[33mAtCoord\u001b[39m(TermsWithTyp, \u001b[32m∏(A : 𝒰 ){ ∏(B : 𝒰 ){ (A → ((A → B) → B)) } }\u001b[39m :: HNil)\n",
       "      )\n",
       "    ),\n",
       "    \u001b[33mProduct\u001b[39m(\n",
       "      \u001b[33mCoeff\u001b[39m(\n",
       "        \u001b[33mIsland\u001b[39m(\n",
       "          \u001b[33mAtCoord\u001b[39m(TermsWithTyp, \u001b[32m∏(A : 𝒰 ){ ∏(B : 𝒰 ){ (A → ((A → B) → B)) } }\u001b[39m :: HNil),\n",
       "          \u001b[33mPiOutput\u001b[39m(\u001b[32m∏(A : 𝒰 ){ ∏(B : 𝒰 ){ (A → ((A → B) → B)) } }\u001b[39m),\n",
       "          \u001b[33mAddVar\u001b[39m(\u001b[32m𝒰 \u001b[39m, \u001b[32m0.3\u001b[39m),\n",
       "          Lambda,\n",
       "          InIsle\n",
       "        ),\n",
       "        \u001b[33mAtCoord\u001b[39m(TermsWithTyp, \u001b[32m∏(A : 𝒰 ){ ∏(B : 𝒰 ){ (A → ((A → B) → B)) } }\u001b[39m :: HNil)\n",
       "      ),\n",
       "      \u001b[33mFinalVal\u001b[39m(\n",
       "        \u001b[33mInIsle\u001b[39m(\n",
       "          \u001b[33mElem\u001b[39m(\n",
       "            \u001b[32m(@b : 𝒰 ) ↦ (@a : @a) ↦ (@a : (@a → @b)) ↦ @a(@a)\u001b[39m,\n",
       "            \u001b[33mAtCoord\u001b[39m(TermsWithTyp, \u001b[32m∏(B : 𝒰 ){ (@a → ((@a → B) → B)) }\u001b[39m :: HNil)\n",
       "          ),\n",
       "          \u001b[32m@a\u001b[39m,\n",
       "          \u001b[33mIsland\u001b[39m(\n",
       "            \u001b[33mAtCoord\u001b[39m(TermsWithTyp, \u001b[32m∏(A : 𝒰 ){ ∏(B : 𝒰 ){ (A → ((A → B) → B)) } }\u001b[39m :: HNil),\n",
       "            \u001b[33mPiOutput\u001b[39m(\u001b[32m∏(A : 𝒰 ){ ∏(B : 𝒰 ){ (A → ((A → B) → B)) } }\u001b[39m),\n",
       "            \u001b[33mAddVar\u001b[39m(\u001b[32m𝒰 \u001b[39m, \u001b[32m0.3\u001b[39m),\n",
       "            Lambda,\n",
       "            InIsle\n",
       "          )\n",
       "        )\n",
       "..."
      ]
     },
     "execution_count": 7,
     "metadata": {},
     "output_type": "execute_result"
    }
   ],
   "source": [
    ", Expression._\n",
    "val mpEqs = eqs.collect{case eq @ EquationTerm(FinalVal(Elem(t : Term, _)), _) if t.typ == MP => eq}"
   ]
  },
  {
   "cell_type": "code",
   "execution_count": 8,
   "metadata": {},
   "outputs": [
    {
     "data": {
      "text/plain": [
       "\u001b[36mats\u001b[39m: \u001b[32mSet\u001b[39m[\u001b[32mExpression\u001b[39m] = \u001b[33mSet\u001b[39m(\n",
       "  \u001b[33mCoeff\u001b[39m(\u001b[33mZipFlatMap\u001b[39m(TargetTyps, TermsWithTyp, Proj2, Terms), Terms),\n",
       "  \u001b[33mFinalVal\u001b[39m(\n",
       "    \u001b[33mElem\u001b[39m(\n",
       "      \u001b[32m(@a : 𝒰 ) ↦ (@b : 𝒰 ) ↦ (@a : @a) ↦ (@a : (@a → @b)) ↦ @a(@a)\u001b[39m,\n",
       "      \u001b[33mAtCoord\u001b[39m(TermsWithTyp, \u001b[32m∏(A : 𝒰 ){ ∏(B : 𝒰 ){ (A → ((A → B) → B)) } }\u001b[39m :: HNil)\n",
       "    )\n",
       "  ),\n",
       "  \u001b[33mCoeff\u001b[39m(\n",
       "    \u001b[33mIsland\u001b[39m(\n",
       "      \u001b[33mAtCoord\u001b[39m(TermsWithTyp, \u001b[32m∏(A : 𝒰 ){ ∏(B : 𝒰 ){ (A → ((A → B) → B)) } }\u001b[39m :: HNil),\n",
       "      \u001b[33mPiOutput\u001b[39m(\u001b[32m∏(A : 𝒰 ){ ∏(B : 𝒰 ){ (A → ((A → B) → B)) } }\u001b[39m),\n",
       "      \u001b[33mAddVar\u001b[39m(\u001b[32m𝒰 \u001b[39m, \u001b[32m0.3\u001b[39m),\n",
       "      Lambda,\n",
       "      InIsle\n",
       "    ),\n",
       "    \u001b[33mAtCoord\u001b[39m(TermsWithTyp, \u001b[32m∏(A : 𝒰 ){ ∏(B : 𝒰 ){ (A → ((A → B) → B)) } }\u001b[39m :: HNil)\n",
       "  ),\n",
       "  \u001b[33mFinalVal\u001b[39m(\u001b[33mElem\u001b[39m(\u001b[32m∏(A : 𝒰 ){ ∏(B : 𝒰 ){ (A → ((A → B) → B)) } }\u001b[39m, TargetTyps)),\n",
       "  \u001b[33mFinalVal\u001b[39m(\n",
       "    \u001b[33mInIsle\u001b[39m(\n",
       "      \u001b[33mElem\u001b[39m(\n",
       "        \u001b[32m(@b : 𝒰 ) ↦ (@a : @a) ↦ (@a : (@a → @b)) ↦ @a(@a)\u001b[39m,\n",
       "        \u001b[33mAtCoord\u001b[39m(TermsWithTyp, \u001b[32m∏(B : 𝒰 ){ (@a → ((@a → B) → B)) }\u001b[39m :: HNil)\n",
       "      ),\n",
       "      \u001b[32m@a\u001b[39m,\n",
       "      \u001b[33mIsland\u001b[39m(\n",
       "        \u001b[33mAtCoord\u001b[39m(TermsWithTyp, \u001b[32m∏(A : 𝒰 ){ ∏(B : 𝒰 ){ (A → ((A → B) → B)) } }\u001b[39m :: HNil),\n",
       "        \u001b[33mPiOutput\u001b[39m(\u001b[32m∏(A : 𝒰 ){ ∏(B : 𝒰 ){ (A → ((A → B) → B)) } }\u001b[39m),\n",
       "        \u001b[33mAddVar\u001b[39m(\u001b[32m𝒰 \u001b[39m, \u001b[32m0.3\u001b[39m),\n",
       "        Lambda,\n",
       "        InIsle\n",
       "      )\n",
       "    )\n",
       "  )\n",
       ")"
      ]
     },
     "execution_count": 8,
     "metadata": {},
     "output_type": "execute_result"
    }
   ],
   "source": [
    "val ats = mpEqs.map(_.rhs).flatMap(Expression.atoms)"
   ]
  },
  {
   "cell_type": "code",
   "execution_count": 9,
   "metadata": {},
   "outputs": [
    {
     "data": {
      "text/plain": [
       "\u001b[36mcoeffs\u001b[39m: \u001b[32mVector\u001b[39m[\u001b[32mCoeff\u001b[39m[\u001b[32mAny\u001b[39m]] = \u001b[33mVector\u001b[39m(\n",
       "  \u001b[33mCoeff\u001b[39m(\u001b[33mZipFlatMap\u001b[39m(TargetTyps, TermsWithTyp, Proj2, Terms), Terms),\n",
       "  \u001b[33mCoeff\u001b[39m(\n",
       "    \u001b[33mIsland\u001b[39m(\n",
       "      \u001b[33mAtCoord\u001b[39m(TermsWithTyp, \u001b[32m∏(A : 𝒰 ){ ∏(B : 𝒰 ){ (A → ((A → B) → B)) } }\u001b[39m :: HNil),\n",
       "      \u001b[33mPiOutput\u001b[39m(\u001b[32m∏(A : 𝒰 ){ ∏(B : 𝒰 ){ (A → ((A → B) → B)) } }\u001b[39m),\n",
       "      \u001b[33mAddVar\u001b[39m(\u001b[32m𝒰 \u001b[39m, \u001b[32m0.3\u001b[39m),\n",
       "      Lambda,\n",
       "      InIsle\n",
       "    ),\n",
       "    \u001b[33mAtCoord\u001b[39m(TermsWithTyp, \u001b[32m∏(A : 𝒰 ){ ∏(B : 𝒰 ){ (A → ((A → B) → B)) } }\u001b[39m :: HNil)\n",
       "  )\n",
       ")"
      ]
     },
     "execution_count": 9,
     "metadata": {},
     "output_type": "execute_result"
    }
   ],
   "source": [
    "val coeffs = ats.collect{case cf @ Coeff(_, _) => cf}.toVector"
   ]
  },
  {
   "cell_type": "code",
   "execution_count": 10,
   "metadata": {},
   "outputs": [
    {
     "data": {
      "text/plain": [
       "\u001b[36mres9\u001b[39m: \u001b[32mVector\u001b[39m[\u001b[32mOption\u001b[39m[\u001b[32mDouble\u001b[39m]] = \u001b[33mVector\u001b[39m(\u001b[33mSome\u001b[39m(\u001b[32m0.05\u001b[39m), \u001b[33mSome\u001b[39m(\u001b[32m0.485\u001b[39m))"
      ]
     },
     "execution_count": 10,
     "metadata": {},
     "output_type": "execute_result"
    }
   ],
   "source": [
    "coeffs.map(_.get(tg.nodeCoeffSeq))"
   ]
  },
  {
   "cell_type": "code",
   "execution_count": 11,
   "metadata": {},
   "outputs": [
    {
     "data": {
      "text/plain": [
       "\u001b[36mres10\u001b[39m: \u001b[32mVector\u001b[39m[\u001b[32mRandomVarFamily\u001b[39m[\u001b[32m_\u001b[39m, \u001b[32mAny\u001b[39m] forSome { type \u001b[32m_\u001b[39m <: \u001b[32mshapeless\u001b[39m.\u001b[32mHList\u001b[39m }] = \u001b[33mVector\u001b[39m(\n",
       "  Terms,\n",
       "  TermsWithTyp\n",
       ")"
      ]
     },
     "execution_count": 11,
     "metadata": {},
     "output_type": "execute_result"
    }
   ],
   "source": [
    "coeffs.map(_.expand)"
   ]
  },
  {
   "cell_type": "code",
   "execution_count": 12,
   "metadata": {},
   "outputs": [
    {
     "data": {
      "text/plain": [
       "\u001b[36mres11\u001b[39m: \u001b[32mOption\u001b[39m[\u001b[32mNodeCoeffs\u001b[39m[\u001b[32mTermState\u001b[39m, \u001b[32mTerm\u001b[39m, \u001b[32mDouble\u001b[39m, \u001b[32mshapeless\u001b[39m.\u001b[32m::\u001b[39m[\u001b[32mTyp\u001b[39m[\u001b[32mTerm\u001b[39m], \u001b[32mshapeless\u001b[39m.\u001b[32mHNil\u001b[39m], \u001b[32mTerm\u001b[39m]] = \u001b[33mSome\u001b[39m(\n",
       "  \u001b[33mBaseCons\u001b[39m(\n",
       "    \u001b[33mBasePi\u001b[39m(provingground.learning.RandomVarFamily$$Lambda$3554/221246939@25eb7b07, TermsWithTyp),\n",
       "    \u001b[32m0.16500000000000004\u001b[39m,\n",
       "    \u001b[33mBaseCons\u001b[39m(\n",
       "      \u001b[33mBasePi\u001b[39m(provingground.learning.GeneratorNode$$Lambda$3557/663473340@3320e553, TermsWithTyp),\n",
       "      \u001b[32m0.1\u001b[39m,\n",
       "      \u001b[33mBaseCons\u001b[39m(\n",
       "        \u001b[33mBasePi\u001b[39m(provingground.learning.GeneratorNode$$Lambda$3557/663473340@4a372e85, TermsWithTyp),\n",
       "        \u001b[32m0.1\u001b[39m,\n",
       "        \u001b[33mBaseCons\u001b[39m(\n",
       "          \u001b[33mBasePi\u001b[39m(provingground.learning.GeneratorNode$$Lambda$3557/663473340@522883d5, TermsWithTyp),\n",
       "          \u001b[32m0.1\u001b[39m,\n",
       "          \u001b[33mBaseCons\u001b[39m(\n",
       "            \u001b[33mBasePiOpt\u001b[39m(\n",
       "              provingground.learning.TermGeneratorNodes$$Lambda$3547/887487836@25367d65,\n",
       "              TermsWithTyp\n",
       "            ),\n",
       "            \u001b[32m0.485\u001b[39m,\n",
       "            \u001b[33mTarget\u001b[39m(TermsWithTyp)\n",
       "          )\n",
       "        )\n",
       "      )\n",
       "    )\n",
       "  )\n",
       ")"
      ]
     },
     "execution_count": 12,
     "metadata": {},
     "output_type": "execute_result"
    }
   ],
   "source": [
    "tg.nodeCoeffSeq.find(TermsWithTyp)"
   ]
  },
  {
   "cell_type": "code",
   "execution_count": 13,
   "metadata": {},
   "outputs": [
    {
     "data": {
      "text/plain": [
       "\u001b[36mres12\u001b[39m: \u001b[32mVector\u001b[39m[\u001b[32mRandomVar\u001b[39m[\u001b[32mAny\u001b[39m]] = \u001b[33mVector\u001b[39m(\n",
       "  Terms,\n",
       "  \u001b[33mAtCoord\u001b[39m(TermsWithTyp, \u001b[32m∏(A : 𝒰 ){ ∏(B : 𝒰 ){ (A → ((A → B) → B)) } }\u001b[39m :: HNil)\n",
       ")"
      ]
     },
     "execution_count": 13,
     "metadata": {},
     "output_type": "execute_result"
    }
   ],
   "source": [
    "coeffs.map(_.rv)"
   ]
  },
  {
   "cell_type": "code",
   "execution_count": 14,
   "metadata": {},
   "outputs": [
    {
     "data": {
      "text/plain": [
       "\u001b[36mres13\u001b[39m: \u001b[32mVector\u001b[39m[\u001b[32mGeneratorNode\u001b[39m[\u001b[32mAny\u001b[39m]] = \u001b[33mVector\u001b[39m(\n",
       "  \u001b[33mZipFlatMap\u001b[39m(TargetTyps, TermsWithTyp, Proj2, Terms),\n",
       "  \u001b[33mIsland\u001b[39m(\n",
       "    \u001b[33mAtCoord\u001b[39m(TermsWithTyp, \u001b[32m∏(A : 𝒰 ){ ∏(B : 𝒰 ){ (A → ((A → B) → B)) } }\u001b[39m :: HNil),\n",
       "    \u001b[33mPiOutput\u001b[39m(\u001b[32m∏(A : 𝒰 ){ ∏(B : 𝒰 ){ (A → ((A → B) → B)) } }\u001b[39m),\n",
       "    \u001b[33mAddVar\u001b[39m(\u001b[32m𝒰 \u001b[39m, \u001b[32m0.3\u001b[39m),\n",
       "    Lambda,\n",
       "    InIsle\n",
       "  )\n",
       ")"
      ]
     },
     "execution_count": 14,
     "metadata": {},
     "output_type": "execute_result"
    }
   ],
   "source": [
    "coeffs.map(_.node)"
   ]
  },
  {
   "cell_type": "code",
   "execution_count": 15,
   "metadata": {},
   "outputs": [
    {
     "data": {
      "text/plain": [
       "\u001b[36meqgs\u001b[39m: \u001b[32mSet\u001b[39m[\u001b[32mEquation\u001b[39m] = \u001b[33mSet\u001b[39m(\n",
       "  \u001b[33mEquation\u001b[39m(\n",
       "    \u001b[33mInitialVal\u001b[39m(\n",
       "      \u001b[33mInIsle\u001b[39m(\n",
       "        \u001b[33mInIsle\u001b[39m(\u001b[33mElem\u001b[39m(\u001b[32m𝒰 \u001b[39m, Typs), \u001b[32m@b\u001b[39m, \u001b[33mIsland\u001b[39m(Typs, \u001b[33mCRV\u001b[39m(Typs), \u001b[33mAddVar\u001b[39m(\u001b[32m𝒰 \u001b[39m, \u001b[32m0.3\u001b[39m), Sigma, InIsle)),\n",
       "        \u001b[32m@a\u001b[39m,\n",
       "        \u001b[33mIsland\u001b[39m(Typs, \u001b[33mCRV\u001b[39m(Typs), \u001b[33mAddVar\u001b[39m(\u001b[32m𝒰 \u001b[39m, \u001b[32m0.3\u001b[39m), Pi, InIsle)\n",
       "      )\n",
       "    ),\n",
       "    \u001b[33mProduct\u001b[39m(\n",
       "      \u001b[33mIsleScale\u001b[39m(\u001b[32m@b\u001b[39m, \u001b[33mElem\u001b[39m(\u001b[32m𝒰 \u001b[39m, Typs)),\n",
       "      \u001b[33mInitialVal\u001b[39m(\u001b[33mInIsle\u001b[39m(\u001b[33mElem\u001b[39m(\u001b[32m𝒰 \u001b[39m, Typs), \u001b[32m@a\u001b[39m, \u001b[33mIsland\u001b[39m(Typs, \u001b[33mCRV\u001b[39m(Typs), \u001b[33mAddVar\u001b[39m(\u001b[32m𝒰 \u001b[39m, \u001b[32m0.3\u001b[39m), Pi, InIsle)))\n",
       "    )\n",
       "  ),\n",
       "  \u001b[33mEquation\u001b[39m(\n",
       "    \u001b[33mFinalVal\u001b[39m(\n",
       "      \u001b[33mInIsle\u001b[39m(\n",
       "        \u001b[33mInIsle\u001b[39m(\u001b[33mElem\u001b[39m(\u001b[32m@a\u001b[39m, Typs), \u001b[32m@b\u001b[39m, \u001b[33mIsland\u001b[39m(Typs, \u001b[33mCRV\u001b[39m(Typs), \u001b[33mAddVar\u001b[39m(\u001b[32m𝒰 \u001b[39m, \u001b[32m0.3\u001b[39m), Pi, InIsle)),\n",
       "        \u001b[32m@a\u001b[39m,\n",
       "        \u001b[33mIsland\u001b[39m(Terms, \u001b[33mCRV\u001b[39m(Terms), \u001b[33mAddVar\u001b[39m(\u001b[32m𝒰 \u001b[39m, \u001b[32m0.3\u001b[39m), Lambda, InIsle)\n",
       "      )\n",
       "    ),\n",
       "    \u001b[33mProduct\u001b[39m(\n",
       "      \u001b[33mCoeff\u001b[39m(\u001b[33mInit\u001b[39m(Typs), Typs),\n",
       "      \u001b[33mInitialVal\u001b[39m(\n",
       "        \u001b[33mInIsle\u001b[39m(\n",
       "          \u001b[33mInIsle\u001b[39m(\u001b[33mElem\u001b[39m(\u001b[32m@a\u001b[39m, Typs), \u001b[32m@b\u001b[39m, \u001b[33mIsland\u001b[39m(Typs, \u001b[33mCRV\u001b[39m(Typs), \u001b[33mAddVar\u001b[39m(\u001b[32m𝒰 \u001b[39m, \u001b[32m0.3\u001b[39m), Pi, InIsle)),\n",
       "          \u001b[32m@a\u001b[39m,\n",
       "          \u001b[33mIsland\u001b[39m(Terms, \u001b[33mCRV\u001b[39m(Terms), \u001b[33mAddVar\u001b[39m(\u001b[32m𝒰 \u001b[39m, \u001b[32m0.3\u001b[39m), Lambda, InIsle)\n",
       "        )\n",
       "      )\n",
       "    )\n",
       "  ),\n",
       "  \u001b[33mEquation\u001b[39m(\n",
       "    \u001b[33mInitialVal\u001b[39m(\u001b[33mInIsle\u001b[39m(\u001b[33mElem\u001b[39m(\u001b[32m𝒰 \u001b[39m, Typs), \u001b[32m@a\u001b[39m, \u001b[33mIsland\u001b[39m(Typs, \u001b[33mCRV\u001b[39m(Typs), \u001b[33mAddVar\u001b[39m(\u001b[32m𝒰 \u001b[39m, \u001b[32m0.3\u001b[39m), Pi, InIsle))),\n",
       "    \u001b[33mProduct\u001b[39m(\u001b[33mIsleScale\u001b[39m(\u001b[32m@a\u001b[39m, \u001b[33mElem\u001b[39m(\u001b[32m𝒰 \u001b[39m, Typs)), \u001b[33mInitialVal\u001b[39m(\u001b[33mElem\u001b[39m(\u001b[32m𝒰 \u001b[39m, Typs)))\n",
       "  ),\n",
       "  \u001b[33mEquation\u001b[39m(\n",
       "    \u001b[33mFinalVal\u001b[39m(\u001b[33mElem\u001b[39m(\u001b[33mWrap\u001b[39m(\u001b[32m(@a : 𝒰 ) ↦ (_ : @a) ↦ 𝒰 \u001b[39m), \u001b[33mAtCoord\u001b[39m(FuncsWithDomain, \u001b[32m𝒰 \u001b[39m :: HNil))),\n",
       "    \u001b[33mProduct\u001b[39m(\n",
       "      \u001b[33mCoeff\u001b[39m(\n",
       "        \u001b[33mIsland\u001b[39m(\u001b[33mAtCoord\u001b[39m(FuncsWithDomain, \u001b[32m𝒰 \u001b[39m :: HNil), \u001b[33mCRV\u001b[39m(Terms), \u001b[33mAddVar\u001b[39m(\u001b[32m𝒰 \u001b[39m, \u001b[32m0.3\u001b[39m), Lambda, InIsle),\n",
       "        \u001b[33mAtCoord\u001b[39m(FuncsWithDomain, \u001b[32m𝒰 \u001b[39m :: HNil)\n",
       "      ),\n",
       "      \u001b[33mFinalVal\u001b[39m(\n",
       "        \u001b[33mInIsle\u001b[39m(\n",
       "          \u001b[33mElem\u001b[39m(\u001b[32m(_ : @a) ↦ 𝒰 \u001b[39m, Terms),\n",
       "          \u001b[32m@a\u001b[39m,\n",
       "          \u001b[33mIsland\u001b[39m(\n",
       "..."
      ]
     },
     "execution_count": 15,
     "metadata": {},
     "output_type": "execute_result"
    }
   ],
   "source": [
    "val eqgs = Equation.group(eqs)"
   ]
  },
  {
   "cell_type": "code",
   "execution_count": 16,
   "metadata": {},
   "outputs": [
    {
     "data": {
      "text/plain": [
       "\u001b[36matoms\u001b[39m: \u001b[32mSet\u001b[39m[\u001b[32mExpression\u001b[39m] = \u001b[33mSet\u001b[39m(\n",
       "  \u001b[33mFinalVal\u001b[39m(\u001b[33mInIsle\u001b[39m(\u001b[33mElem\u001b[39m(\u001b[32m𝒰 \u001b[39m, Typs), \u001b[32m@a\u001b[39m, \u001b[33mIsland\u001b[39m(Terms, \u001b[33mCRV\u001b[39m(Terms), \u001b[33mAddVar\u001b[39m(\u001b[32m𝒰 \u001b[39m, \u001b[32m0.3\u001b[39m), Lambda, InIsle))),\n",
       "  \u001b[33mInitialVal\u001b[39m(\n",
       "    \u001b[33mInIsle\u001b[39m(\u001b[33mElem\u001b[39m(\u001b[32m𝒰 \u001b[39m, Typs), \u001b[32m@a\u001b[39m, \u001b[33mIsland\u001b[39m(Terms, \u001b[33mCRV\u001b[39m(Terms), \u001b[33mAddVar\u001b[39m(\u001b[32m𝒰 \u001b[39m, \u001b[32m0.3\u001b[39m), Lambda, InIsle))\n",
       "  ),\n",
       "  \u001b[33mIsleScale\u001b[39m(\u001b[32m@b\u001b[39m, \u001b[33mElem\u001b[39m(\u001b[32m@b\u001b[39m, Typs)),\n",
       "  \u001b[33mIsleScale\u001b[39m(\u001b[32m@a\u001b[39m, \u001b[33mElem\u001b[39m(\u001b[32m@a\u001b[39m, Terms)),\n",
       "  \u001b[33mInitialVal\u001b[39m(\n",
       "    \u001b[33mInIsle\u001b[39m(\n",
       "      \u001b[33mElem\u001b[39m(\u001b[32m𝒰 \u001b[39m, Typs),\n",
       "      \u001b[32m(@a_1 , @a_2)\u001b[39m,\n",
       "      \u001b[33mIsland\u001b[39m(Typs, \u001b[33mCRV\u001b[39m(Typs), \u001b[33mAddVar\u001b[39m(\u001b[32m∑(@a : { @a }\u001b[39m, \u001b[32m0.3\u001b[39m), Pi, InIsle)\n",
       "    )\n",
       "  ),\n",
       "  \u001b[33mFinalVal\u001b[39m(\n",
       "    \u001b[33mInIsle\u001b[39m(\n",
       "      \u001b[33mElem\u001b[39m(\u001b[32m𝒰 \u001b[39m, Typs),\n",
       "      \u001b[32m(@a_1 , @a_2)\u001b[39m,\n",
       "      \u001b[33mIsland\u001b[39m(Typs, \u001b[33mCRV\u001b[39m(Typs), \u001b[33mAddVar\u001b[39m(\u001b[32m∑(@a : { @a }\u001b[39m, \u001b[32m0.3\u001b[39m), Pi, InIsle)\n",
       "    )\n",
       "  ),\n",
       "  \u001b[33mInitialVal\u001b[39m(\u001b[33mElem\u001b[39m(\u001b[32m@a\u001b[39m, Terms)),\n",
       "  \u001b[33mFinalVal\u001b[39m(\n",
       "    \u001b[33mInIsle\u001b[39m(\n",
       "      \u001b[33mElem\u001b[39m(\u001b[32m∏(@b : 𝒰 ){ @b }\u001b[39m, Typs),\n",
       "      \u001b[32m@a\u001b[39m,\n",
       "      \u001b[33mIsland\u001b[39m(Terms, \u001b[33mCRV\u001b[39m(Terms), \u001b[33mAddVar\u001b[39m(\u001b[32m𝒰 \u001b[39m, \u001b[32m0.3\u001b[39m), Lambda, InIsle)\n",
       "    )\n",
       "  ),\n",
       "  \u001b[33mFinalVal\u001b[39m(\u001b[33mElem\u001b[39m(\u001b[32m((__1 , __2) : 𝒰 ×(𝒰  → 𝒰 )) ↦ 𝒰 \u001b[39m, Terms)),\n",
       "  \u001b[33mInitialVal\u001b[39m(\n",
       "    \u001b[33mInIsle\u001b[39m(\n",
       "      \u001b[33mInIsle\u001b[39m(\n",
       "        \u001b[33mInIsle\u001b[39m(\n",
       "          \u001b[33mInIsle\u001b[39m(\n",
       "            \u001b[33mElem\u001b[39m(\u001b[32m@b\u001b[39m, Terms),\n",
       "            \u001b[32m@a\u001b[39m,\n",
       "            \u001b[33mIsland\u001b[39m(\n",
       "              \u001b[33mAtCoord\u001b[39m(TermsWithTyp, \u001b[32m((@a → @b) → @b)\u001b[39m :: HNil),\n",
       "              \u001b[33mCRV\u001b[39m(\u001b[33mAtCoord\u001b[39m(TermsWithTyp, \u001b[32m@b\u001b[39m :: HNil)),\n",
       "              \u001b[33mAddVar\u001b[39m(\u001b[32m(@a → @b)\u001b[39m, \u001b[32m0.3\u001b[39m),\n",
       "              Lambda,\n",
       "              InIsle\n",
       "            )\n",
       "          ),\n",
       "          \u001b[32m@a\u001b[39m,\n",
       "          \u001b[33mIsland\u001b[39m(\n",
       "            \u001b[33mAtCoord\u001b[39m(TermsWithTyp, \u001b[32m(@a → ((@a → @b) → @b))\u001b[39m :: HNil),\n",
       "..."
      ]
     },
     "execution_count": 16,
     "metadata": {},
     "output_type": "execute_result"
    }
   ],
   "source": [
    "val atoms = eqs.map(_.rhs).flatMap(Expression.atoms)"
   ]
  },
  {
   "cell_type": "code",
   "execution_count": 17,
   "metadata": {},
   "outputs": [
    {
     "data": {
      "text/plain": [
       "\u001b[32mimport \u001b[39m\u001b[36mExpressionEval._\u001b[39m"
      ]
     },
     "execution_count": 17,
     "metadata": {},
     "output_type": "execute_result"
    }
   ],
   "source": [
    "import ExpressionEval._"
   ]
  },
  {
   "cell_type": "code",
   "execution_count": 18,
   "metadata": {},
   "outputs": [
    {
     "data": {
      "text/plain": [
       "\u001b[36minit\u001b[39m: \u001b[32mMap\u001b[39m[\u001b[32mExpression\u001b[39m, \u001b[32mDouble\u001b[39m] = \u001b[33mMap\u001b[39m(\n",
       "  \u001b[33mIsleScale\u001b[39m(\u001b[32m@b\u001b[39m, \u001b[33mElem\u001b[39m(\u001b[32m@b\u001b[39m, Typs)) -> \u001b[32m0.7\u001b[39m,\n",
       "  \u001b[33mIsleScale\u001b[39m(\u001b[32m@a\u001b[39m, \u001b[33mElem\u001b[39m(\u001b[32m@a\u001b[39m, Terms)) -> \u001b[32m0.7\u001b[39m,\n",
       "  \u001b[33mInitialVal\u001b[39m(\u001b[33mElem\u001b[39m(\u001b[32m@a\u001b[39m, Terms)) -> \u001b[32m0.4285714285714286\u001b[39m,\n",
       "  \u001b[33mIsleScale\u001b[39m(\u001b[32m@a\u001b[39m, \u001b[33mElem\u001b[39m(\u001b[32m@a\u001b[39m, Terms)) -> \u001b[32m0.7\u001b[39m,\n",
       "  \u001b[33mIsleScale\u001b[39m(\u001b[32m@a\u001b[39m, \u001b[33mElem\u001b[39m(\u001b[32m@a\u001b[39m, Terms)) -> \u001b[32m0.7\u001b[39m,\n",
       "  \u001b[33mIsleScale\u001b[39m(\u001b[32m@a\u001b[39m, \u001b[33mElem\u001b[39m(\u001b[32m@a\u001b[39m, Terms)) -> \u001b[32m0.7\u001b[39m,\n",
       "  \u001b[33mIsleScale\u001b[39m(\u001b[32m@a\u001b[39m, \u001b[33mElem\u001b[39m(\u001b[32m@a\u001b[39m, Terms)) -> \u001b[32m0.7\u001b[39m,\n",
       "  \u001b[33mIsleScale\u001b[39m(\u001b[32m@a\u001b[39m, \u001b[33mElem\u001b[39m(\u001b[32m@a\u001b[39m, Terms)) -> \u001b[32m0.7\u001b[39m,\n",
       "  \u001b[33mIsleScale\u001b[39m(\u001b[32m@a\u001b[39m, \u001b[33mElem\u001b[39m(\u001b[32m@a\u001b[39m, Terms)) -> \u001b[32m0.7\u001b[39m,\n",
       "  \u001b[33mIsleScale\u001b[39m(\u001b[32m@a\u001b[39m, \u001b[33mElem\u001b[39m(\u001b[32m@a\u001b[39m, Terms)) -> \u001b[32m0.7\u001b[39m,\n",
       "  \u001b[33mCoeff\u001b[39m(\n",
       "    \u001b[33mMap\u001b[39m(\n",
       "      provingground.learning.TermRandomVars$TargetTyps$$$Lambda$3560/1853403043@4a496499,\n",
       "      Goals,\n",
       "      TargetTyps\n",
       "    ),\n",
       "    TargetTyps\n",
       "  ) -> \u001b[32m0.7\u001b[39m,\n",
       "  \u001b[33mInitialVal\u001b[39m(\u001b[33mElem\u001b[39m(\u001b[32m@a\u001b[39m, Terms)) -> \u001b[32m0.4285714285714286\u001b[39m,\n",
       "  \u001b[33mInitialVal\u001b[39m(\u001b[33mElem\u001b[39m(\u001b[32m@a\u001b[39m, Terms)) -> \u001b[32m0.4285714285714286\u001b[39m,\n",
       "  \u001b[33mIsleScale\u001b[39m(\u001b[32m@a\u001b[39m, \u001b[33mElem\u001b[39m(\u001b[32m𝒰 \u001b[39m, Terms)) -> \u001b[32m0.7\u001b[39m,\n",
       "  \u001b[33mCoeff\u001b[39m(\n",
       "    \u001b[33mIsland\u001b[39m(\n",
       "      \u001b[33mAtCoord\u001b[39m(TermsWithTyp, \u001b[32m((@a → @b) → @b)\u001b[39m :: HNil),\n",
       "      \u001b[33mCRV\u001b[39m(\u001b[33mAtCoord\u001b[39m(TermsWithTyp, \u001b[32m@b\u001b[39m :: HNil)),\n",
       "      \u001b[33mAddVar\u001b[39m(\u001b[32m(@a → @b)\u001b[39m, \u001b[32m0.3\u001b[39m),\n",
       "      Lambda,\n",
       "      InIsle\n",
       "    ),\n",
       "    \u001b[33mAtCoord\u001b[39m(TermsWithTyp, \u001b[32m((@a → @b) → @b)\u001b[39m :: HNil)\n",
       "  ) -> \u001b[32m0.485\u001b[39m,\n",
       "  \u001b[33mInitialVal\u001b[39m(\u001b[33mElem\u001b[39m(\u001b[32m(@a_1 , @a_2)\u001b[39m, Terms)) -> \u001b[32m0.4285714285714286\u001b[39m,\n",
       "  \u001b[33mIsleScale\u001b[39m(\u001b[32m@a\u001b[39m, \u001b[33mElem\u001b[39m(\u001b[32m@a\u001b[39m, Typs)) -> \u001b[32m0.7\u001b[39m,\n",
       "  \u001b[33mIsleScale\u001b[39m(\u001b[32m@a\u001b[39m, \u001b[33mElem\u001b[39m(\u001b[32m@a\u001b[39m, Typs)) -> \u001b[32m0.7\u001b[39m,\n",
       "  \u001b[33mIsleScale\u001b[39m(\u001b[32m@a\u001b[39m, \u001b[33mElem\u001b[39m(\u001b[32m@a\u001b[39m, \u001b[33mAtCoord\u001b[39m(TermsWithTyp, \u001b[32m𝒰 \u001b[39m :: HNil))) -> \u001b[32m0.7\u001b[39m,\n",
       "  \u001b[33mIsleScale\u001b[39m(\u001b[32m@a\u001b[39m, \u001b[33mElem\u001b[39m(\u001b[32m∏(A : 𝒰 ){ ∏(B : 𝒰 ){ (A → ((A → B) → B)) } }\u001b[39m, Goals)) -> \u001b[32m0.7\u001b[39m,\n",
       "  \u001b[33mIsleScale\u001b[39m(\u001b[32m(@a_1 , @a_2)\u001b[39m, \u001b[33mElem\u001b[39m(\u001b[32m@a\u001b[39m, Terms)) -> \u001b[32m0.7\u001b[39m,\n",
       "  \u001b[33mIsleScale\u001b[39m(\u001b[32m@a\u001b[39m, \u001b[33mElem\u001b[39m(\u001b[32m∏(B : 𝒰 ){ (@a → ((@a → B) → B)) }\u001b[39m, Goals)) -> \u001b[32m0.7\u001b[39m,\n",
       "  \u001b[33mCoeff\u001b[39m(\n",
       "    \u001b[33mIsland\u001b[39m(\n",
       "      \u001b[33mAtCoord\u001b[39m(TermsWithTyp, \u001b[32m(𝒰  → 𝒰 )\u001b[39m :: HNil),\n",
       "      \u001b[33mCRV\u001b[39m(\u001b[33mAtCoord\u001b[39m(TermsWithTyp, \u001b[32m𝒰 \u001b[39m :: HNil)),\n",
       "      \u001b[33mAddVar\u001b[39m(\u001b[32m𝒰 \u001b[39m, \u001b[32m0.3\u001b[39m),\n",
       "      Lambda,\n",
       "      InIsle\n",
       "    ),\n",
       "    \u001b[33mAtCoord\u001b[39m(TermsWithTyp, \u001b[32m(𝒰  → 𝒰 )\u001b[39m :: HNil)\n",
       "  ) -> \u001b[32m0.485\u001b[39m,\n",
       "..."
      ]
     },
     "execution_count": 18,
     "metadata": {},
     "output_type": "execute_result"
    }
   ],
   "source": [
    "val init = initMap(atoms, tg, ts)"
   ]
  },
  {
   "cell_type": "code",
   "execution_count": 19,
   "metadata": {},
   "outputs": [
    {
     "data": {
      "text/plain": [
       "\u001b[36mres18\u001b[39m: \u001b[32mInt\u001b[39m = \u001b[32m176\u001b[39m"
      ]
     },
     "execution_count": 19,
     "metadata": {},
     "output_type": "execute_result"
    }
   ],
   "source": [
    "init.size"
   ]
  },
  {
   "cell_type": "code",
   "execution_count": 20,
   "metadata": {},
   "outputs": [
    {
     "data": {
      "text/plain": [
       "\u001b[36mm2\u001b[39m: \u001b[32mMap\u001b[39m[\u001b[32mExpression\u001b[39m, \u001b[32mDouble\u001b[39m] = \u001b[33mMap\u001b[39m(\n",
       "  \u001b[33mInitialVal\u001b[39m(\n",
       "    \u001b[33mInIsle\u001b[39m(\u001b[33mElem\u001b[39m(\u001b[32m𝒰 \u001b[39m, Typs), \u001b[32m@a\u001b[39m, \u001b[33mIsland\u001b[39m(Terms, \u001b[33mCRV\u001b[39m(Terms), \u001b[33mAddVar\u001b[39m(\u001b[32m𝒰 \u001b[39m, \u001b[32m0.3\u001b[39m), Lambda, InIsle))\n",
       "  ) -> \u001b[32m0.7\u001b[39m,\n",
       "  \u001b[33mIsleScale\u001b[39m(\u001b[32m@b\u001b[39m, \u001b[33mElem\u001b[39m(\u001b[32m@b\u001b[39m, Typs)) -> \u001b[32m0.7\u001b[39m,\n",
       "  \u001b[33mIsleScale\u001b[39m(\u001b[32m@a\u001b[39m, \u001b[33mElem\u001b[39m(\u001b[32m@a\u001b[39m, Terms)) -> \u001b[32m0.7\u001b[39m,\n",
       "  \u001b[33mInitialVal\u001b[39m(\n",
       "    \u001b[33mInIsle\u001b[39m(\n",
       "      \u001b[33mElem\u001b[39m(\u001b[32m𝒰 \u001b[39m, Typs),\n",
       "      \u001b[32m(@a_1 , @a_2)\u001b[39m,\n",
       "      \u001b[33mIsland\u001b[39m(Typs, \u001b[33mCRV\u001b[39m(Typs), \u001b[33mAddVar\u001b[39m(\u001b[32m∑(@a : { @a }\u001b[39m, \u001b[32m0.3\u001b[39m), Pi, InIsle)\n",
       "    )\n",
       "  ) -> \u001b[32m0.7\u001b[39m,\n",
       "  \u001b[33mInitialVal\u001b[39m(\u001b[33mElem\u001b[39m(\u001b[32m@a\u001b[39m, Terms)) -> \u001b[32m0.4285714285714286\u001b[39m,\n",
       "  \u001b[33mIsleScale\u001b[39m(\u001b[32m@a\u001b[39m, \u001b[33mElem\u001b[39m(\u001b[32m@a\u001b[39m, Terms)) -> \u001b[32m0.7\u001b[39m,\n",
       "  \u001b[33mIsleScale\u001b[39m(\u001b[32m@a\u001b[39m, \u001b[33mElem\u001b[39m(\u001b[32m@a\u001b[39m, Terms)) -> \u001b[32m0.7\u001b[39m,\n",
       "  \u001b[33mIsleScale\u001b[39m(\u001b[32m@a\u001b[39m, \u001b[33mElem\u001b[39m(\u001b[32m@a\u001b[39m, Terms)) -> \u001b[32m0.7\u001b[39m,\n",
       "  \u001b[33mIsleScale\u001b[39m(\u001b[32m@a\u001b[39m, \u001b[33mElem\u001b[39m(\u001b[32m@a\u001b[39m, Terms)) -> \u001b[32m0.7\u001b[39m,\n",
       "  \u001b[33mIsleScale\u001b[39m(\u001b[32m@a\u001b[39m, \u001b[33mElem\u001b[39m(\u001b[32m@a\u001b[39m, Terms)) -> \u001b[32m0.7\u001b[39m,\n",
       "  \u001b[33mIsleScale\u001b[39m(\u001b[32m@a\u001b[39m, \u001b[33mElem\u001b[39m(\u001b[32m@a\u001b[39m, Terms)) -> \u001b[32m0.7\u001b[39m,\n",
       "  \u001b[33mIsleScale\u001b[39m(\u001b[32m@a\u001b[39m, \u001b[33mElem\u001b[39m(\u001b[32m@a\u001b[39m, Terms)) -> \u001b[32m0.7\u001b[39m,\n",
       "  \u001b[33mCoeff\u001b[39m(\n",
       "    \u001b[33mMap\u001b[39m(\n",
       "      provingground.learning.TermRandomVars$TargetTyps$$$Lambda$3560/1853403043@4a496499,\n",
       "      Goals,\n",
       "      TargetTyps\n",
       "    ),\n",
       "    TargetTyps\n",
       "  ) -> \u001b[32m0.7\u001b[39m,\n",
       "  \u001b[33mInitialVal\u001b[39m(\u001b[33mElem\u001b[39m(\u001b[32m@a\u001b[39m, Terms)) -> \u001b[32m0.4285714285714286\u001b[39m,\n",
       "  \u001b[33mInitialVal\u001b[39m(\u001b[33mElem\u001b[39m(\u001b[32m@a\u001b[39m, Terms)) -> \u001b[32m0.4285714285714286\u001b[39m,\n",
       "  \u001b[33mIsleScale\u001b[39m(\u001b[32m@a\u001b[39m, \u001b[33mElem\u001b[39m(\u001b[32m𝒰 \u001b[39m, Terms)) -> \u001b[32m0.7\u001b[39m,\n",
       "  \u001b[33mCoeff\u001b[39m(\n",
       "    \u001b[33mIsland\u001b[39m(\n",
       "      \u001b[33mAtCoord\u001b[39m(TermsWithTyp, \u001b[32m((@a → @b) → @b)\u001b[39m :: HNil),\n",
       "      \u001b[33mCRV\u001b[39m(\u001b[33mAtCoord\u001b[39m(TermsWithTyp, \u001b[32m@b\u001b[39m :: HNil)),\n",
       "      \u001b[33mAddVar\u001b[39m(\u001b[32m(@a → @b)\u001b[39m, \u001b[32m0.3\u001b[39m),\n",
       "      Lambda,\n",
       "      InIsle\n",
       "    ),\n",
       "    \u001b[33mAtCoord\u001b[39m(TermsWithTyp, \u001b[32m((@a → @b) → @b)\u001b[39m :: HNil)\n",
       "  ) -> \u001b[32m0.485\u001b[39m,\n",
       "  \u001b[33mInitialVal\u001b[39m(\u001b[33mElem\u001b[39m(\u001b[32m(@a_1 , @a_2)\u001b[39m, Terms)) -> \u001b[32m0.4285714285714286\u001b[39m,\n",
       "  \u001b[33mInitialVal\u001b[39m(\n",
       "    \u001b[33mInIsle\u001b[39m(\n",
       "      \u001b[33mElem\u001b[39m(\u001b[32m∏(B : 𝒰 ){ (@a → ((@a → B) → B)) }\u001b[39m, Goals),\n",
       "      \u001b[32m@a\u001b[39m,\n",
       "      \u001b[33mIsland\u001b[39m(Terms, \u001b[33mCRV\u001b[39m(Terms), \u001b[33mAddVar\u001b[39m(\u001b[32m𝒰 \u001b[39m, \u001b[32m0.3\u001b[39m), Lambda, InIsle)\n",
       "    )\n",
       "..."
      ]
     },
     "execution_count": 20,
     "metadata": {},
     "output_type": "execute_result"
    }
   ],
   "source": [
    "val m2 = nextMap(init, eqgs)"
   ]
  },
  {
   "cell_type": "code",
   "execution_count": 21,
   "metadata": {},
   "outputs": [
    {
     "data": {
      "text/plain": [
       "\u001b[36mres20\u001b[39m: \u001b[32mInt\u001b[39m = \u001b[32m282\u001b[39m"
      ]
     },
     "execution_count": 21,
     "metadata": {},
     "output_type": "execute_result"
    }
   ],
   "source": [
    "m2.size"
   ]
  },
  {
   "cell_type": "code",
   "execution_count": 22,
   "metadata": {},
   "outputs": [
    {
     "data": {
      "text/plain": [
       "\u001b[36mm3\u001b[39m: \u001b[32mMap\u001b[39m[\u001b[32mExpression\u001b[39m, \u001b[32mDouble\u001b[39m] = \u001b[33mMap\u001b[39m(\n",
       "  \u001b[33mFinalVal\u001b[39m(\u001b[33mInIsle\u001b[39m(\u001b[33mElem\u001b[39m(\u001b[32m𝒰 \u001b[39m, Typs), \u001b[32m@a\u001b[39m, \u001b[33mIsland\u001b[39m(Terms, \u001b[33mCRV\u001b[39m(Terms), \u001b[33mAddVar\u001b[39m(\u001b[32m𝒰 \u001b[39m, \u001b[32m0.3\u001b[39m), Lambda, InIsle))) -> \u001b[32m0.42\u001b[39m,\n",
       "  \u001b[33mInitialVal\u001b[39m(\n",
       "    \u001b[33mInIsle\u001b[39m(\u001b[33mElem\u001b[39m(\u001b[32m𝒰 \u001b[39m, Typs), \u001b[32m@a\u001b[39m, \u001b[33mIsland\u001b[39m(Terms, \u001b[33mCRV\u001b[39m(Terms), \u001b[33mAddVar\u001b[39m(\u001b[32m𝒰 \u001b[39m, \u001b[32m0.3\u001b[39m), Lambda, InIsle))\n",
       "  ) -> \u001b[32m0.7\u001b[39m,\n",
       "  \u001b[33mIsleScale\u001b[39m(\u001b[32m@b\u001b[39m, \u001b[33mElem\u001b[39m(\u001b[32m@b\u001b[39m, Typs)) -> \u001b[32m0.7\u001b[39m,\n",
       "  \u001b[33mIsleScale\u001b[39m(\u001b[32m@a\u001b[39m, \u001b[33mElem\u001b[39m(\u001b[32m@a\u001b[39m, Terms)) -> \u001b[32m0.7\u001b[39m,\n",
       "  \u001b[33mInitialVal\u001b[39m(\n",
       "    \u001b[33mInIsle\u001b[39m(\n",
       "      \u001b[33mElem\u001b[39m(\u001b[32m𝒰 \u001b[39m, Typs),\n",
       "      \u001b[32m(@a_1 , @a_2)\u001b[39m,\n",
       "      \u001b[33mIsland\u001b[39m(Typs, \u001b[33mCRV\u001b[39m(Typs), \u001b[33mAddVar\u001b[39m(\u001b[32m∑(@a : { @a }\u001b[39m, \u001b[32m0.3\u001b[39m), Pi, InIsle)\n",
       "    )\n",
       "  ) -> \u001b[32m0.7\u001b[39m,\n",
       "  \u001b[33mFinalVal\u001b[39m(\n",
       "    \u001b[33mInIsle\u001b[39m(\n",
       "      \u001b[33mElem\u001b[39m(\u001b[32m𝒰 \u001b[39m, Typs),\n",
       "      \u001b[32m(@a_1 , @a_2)\u001b[39m,\n",
       "      \u001b[33mIsland\u001b[39m(Typs, \u001b[33mCRV\u001b[39m(Typs), \u001b[33mAddVar\u001b[39m(\u001b[32m∑(@a : { @a }\u001b[39m, \u001b[32m0.3\u001b[39m), Pi, InIsle)\n",
       "    )\n",
       "  ) -> \u001b[32m0.42\u001b[39m,\n",
       "  \u001b[33mInitialVal\u001b[39m(\u001b[33mElem\u001b[39m(\u001b[32m@a\u001b[39m, Terms)) -> \u001b[32m0.4285714285714286\u001b[39m,\n",
       "  \u001b[33mIsleScale\u001b[39m(\u001b[32m@a\u001b[39m, \u001b[33mElem\u001b[39m(\u001b[32m@a\u001b[39m, Terms)) -> \u001b[32m0.7\u001b[39m,\n",
       "  \u001b[33mIsleScale\u001b[39m(\u001b[32m@a\u001b[39m, \u001b[33mElem\u001b[39m(\u001b[32m@a\u001b[39m, Terms)) -> \u001b[32m0.7\u001b[39m,\n",
       "  \u001b[33mIsleScale\u001b[39m(\u001b[32m@a\u001b[39m, \u001b[33mElem\u001b[39m(\u001b[32m@a\u001b[39m, Terms)) -> \u001b[32m0.7\u001b[39m,\n",
       "  \u001b[33mIsleScale\u001b[39m(\u001b[32m@a\u001b[39m, \u001b[33mElem\u001b[39m(\u001b[32m@a\u001b[39m, Terms)) -> \u001b[32m0.7\u001b[39m,\n",
       "  \u001b[33mIsleScale\u001b[39m(\u001b[32m@a\u001b[39m, \u001b[33mElem\u001b[39m(\u001b[32m@a\u001b[39m, Terms)) -> \u001b[32m0.7\u001b[39m,\n",
       "  \u001b[33mIsleScale\u001b[39m(\u001b[32m@a\u001b[39m, \u001b[33mElem\u001b[39m(\u001b[32m@a\u001b[39m, Terms)) -> \u001b[32m0.7\u001b[39m,\n",
       "  \u001b[33mIsleScale\u001b[39m(\u001b[32m@a\u001b[39m, \u001b[33mElem\u001b[39m(\u001b[32m@a\u001b[39m, Terms)) -> \u001b[32m0.7\u001b[39m,\n",
       "  \u001b[33mCoeff\u001b[39m(\n",
       "    \u001b[33mMap\u001b[39m(\n",
       "      provingground.learning.TermRandomVars$TargetTyps$$$Lambda$3560/1853403043@4a496499,\n",
       "      Goals,\n",
       "      TargetTyps\n",
       "    ),\n",
       "    TargetTyps\n",
       "  ) -> \u001b[32m0.7\u001b[39m,\n",
       "  \u001b[33mInitialVal\u001b[39m(\u001b[33mElem\u001b[39m(\u001b[32m@a\u001b[39m, Terms)) -> \u001b[32m0.4285714285714286\u001b[39m,\n",
       "  \u001b[33mInitialVal\u001b[39m(\u001b[33mElem\u001b[39m(\u001b[32m@a\u001b[39m, Terms)) -> \u001b[32m0.4285714285714286\u001b[39m,\n",
       "  \u001b[33mInitialVal\u001b[39m(\n",
       "    \u001b[33mInIsle\u001b[39m(\n",
       "      \u001b[33mInIsle\u001b[39m(\u001b[33mElem\u001b[39m(\u001b[32m@a\u001b[39m, Terms), \u001b[32m@a\u001b[39m, \u001b[33mIsland\u001b[39m(Terms, \u001b[33mCRV\u001b[39m(Terms), \u001b[33mAddVar\u001b[39m(\u001b[32m@a\u001b[39m, \u001b[32m0.3\u001b[39m), Lambda, InIsle)),\n",
       "      \u001b[32m@a\u001b[39m,\n",
       "      \u001b[33mIsland\u001b[39m(Terms, \u001b[33mCRV\u001b[39m(Terms), \u001b[33mAddVar\u001b[39m(\u001b[32m𝒰 \u001b[39m, \u001b[32m0.3\u001b[39m), Lambda, InIsle)\n",
       "    )\n",
       "  ) -> \u001b[32m0.21\u001b[39m,\n",
       "  \u001b[33mIsleScale\u001b[39m(\u001b[32m@a\u001b[39m, \u001b[33mElem\u001b[39m(\u001b[32m𝒰 \u001b[39m, Terms)) -> \u001b[32m0.7\u001b[39m,\n",
       "  \u001b[33mCoeff\u001b[39m(\n",
       "..."
      ]
     },
     "execution_count": 22,
     "metadata": {},
     "output_type": "execute_result"
    }
   ],
   "source": [
    "val m3 = nextMap(m2, eqgs)"
   ]
  },
  {
   "cell_type": "code",
   "execution_count": 23,
   "metadata": {},
   "outputs": [
    {
     "data": {
      "text/plain": [
       "\u001b[36mres22\u001b[39m: \u001b[32mInt\u001b[39m = \u001b[32m437\u001b[39m"
      ]
     },
     "execution_count": 23,
     "metadata": {},
     "output_type": "execute_result"
    }
   ],
   "source": [
    "m3.size"
   ]
  },
  {
   "cell_type": "code",
   "execution_count": 24,
   "metadata": {},
   "outputs": [
    {
     "data": {
      "text/plain": [
       "\u001b[36mres23\u001b[39m: \u001b[32mSet\u001b[39m[\u001b[32mExpression\u001b[39m] = \u001b[33mSet\u001b[39m(\n",
       "  \u001b[33mFinalVal\u001b[39m(\n",
       "    \u001b[33mInIsle\u001b[39m(\n",
       "      \u001b[33mInIsle\u001b[39m(\n",
       "        \u001b[33mElem\u001b[39m(\u001b[32m(@a → ((@a → @b) → @b))\u001b[39m, TargetTyps),\n",
       "        \u001b[32m@b\u001b[39m,\n",
       "        \u001b[33mIsland\u001b[39m(Terms, \u001b[33mCRV\u001b[39m(Terms), \u001b[33mAddVar\u001b[39m(\u001b[32m𝒰 \u001b[39m, \u001b[32m0.3\u001b[39m), Lambda, InIsle)\n",
       "      ),\n",
       "      \u001b[32m@a\u001b[39m,\n",
       "      \u001b[33mIsland\u001b[39m(Terms, \u001b[33mCRV\u001b[39m(Terms), \u001b[33mAddVar\u001b[39m(\u001b[32m𝒰 \u001b[39m, \u001b[32m0.3\u001b[39m), Lambda, InIsle)\n",
       "    )\n",
       "  ),\n",
       "  \u001b[33mFinalVal\u001b[39m(\n",
       "    \u001b[33mInIsle\u001b[39m(\n",
       "      \u001b[33mElem\u001b[39m(\u001b[32m∏(@b : 𝒰 ){ @b }\u001b[39m, Typs),\n",
       "      \u001b[32m@a\u001b[39m,\n",
       "      \u001b[33mIsland\u001b[39m(Terms, \u001b[33mCRV\u001b[39m(Terms), \u001b[33mAddVar\u001b[39m(\u001b[32m𝒰 \u001b[39m, \u001b[32m0.3\u001b[39m), Lambda, InIsle)\n",
       "    )\n",
       "  ),\n",
       "  \u001b[33mFinalVal\u001b[39m(\u001b[33mElem\u001b[39m(\u001b[32m((__1 , __2) : 𝒰 ×(𝒰  → 𝒰 )) ↦ 𝒰 \u001b[39m, Terms)),\n",
       "  \u001b[33mFinalVal\u001b[39m(\n",
       "    \u001b[33mInIsle\u001b[39m(\n",
       "      \u001b[33mInIsle\u001b[39m(\n",
       "        \u001b[33mInIsle\u001b[39m(\n",
       "          \u001b[33mInIsle\u001b[39m(\n",
       "            \u001b[33mElem\u001b[39m(\u001b[32m@b\u001b[39m, Terms),\n",
       "            \u001b[32m@a\u001b[39m,\n",
       "            \u001b[33mIsland\u001b[39m(\n",
       "              \u001b[33mAtCoord\u001b[39m(TermsWithTyp, \u001b[32m((@a → @b) → @b)\u001b[39m :: HNil),\n",
       "              \u001b[33mCRV\u001b[39m(\u001b[33mAtCoord\u001b[39m(TermsWithTyp, \u001b[32m@b\u001b[39m :: HNil)),\n",
       "              \u001b[33mAddVar\u001b[39m(\u001b[32m(@a → @b)\u001b[39m, \u001b[32m0.3\u001b[39m),\n",
       "              Lambda,\n",
       "              InIsle\n",
       "            )\n",
       "          ),\n",
       "          \u001b[32m@a\u001b[39m,\n",
       "          \u001b[33mIsland\u001b[39m(\n",
       "            \u001b[33mAtCoord\u001b[39m(TermsWithTyp, \u001b[32m(@a → ((@a → @b) → @b))\u001b[39m :: HNil),\n",
       "            \u001b[33mCRV\u001b[39m(\u001b[33mAtCoord\u001b[39m(TermsWithTyp, \u001b[32m((@a → @b) → @b)\u001b[39m :: HNil)),\n",
       "            \u001b[33mAddVar\u001b[39m(\u001b[32m@a\u001b[39m, \u001b[32m0.3\u001b[39m),\n",
       "            Lambda,\n",
       "            InIsle\n",
       "          )\n",
       "        ),\n",
       "        \u001b[32m@b\u001b[39m,\n",
       "        \u001b[33mIsland\u001b[39m(\n",
       "          \u001b[33mAtCoord\u001b[39m(TermsWithTyp, \u001b[32m∏(B : 𝒰 ){ (@a → ((@a → B) → B)) }\u001b[39m :: HNil),\n",
       "          \u001b[33mPiOutput\u001b[39m(\u001b[32m∏(B : 𝒰 ){ (@a → ((@a → B) → B)) }\u001b[39m),\n",
       "          \u001b[33mAddVar\u001b[39m(\u001b[32m𝒰 \u001b[39m, \u001b[32m0.3\u001b[39m),\n",
       "..."
      ]
     },
     "execution_count": 24,
     "metadata": {},
     "output_type": "execute_result"
    }
   ],
   "source": [
    "eqgs.map(_.lhs).toSet -- m3.keySet"
   ]
  },
  {
   "cell_type": "code",
   "execution_count": 25,
   "metadata": {},
   "outputs": [
    {
     "data": {
      "text/plain": [
       "\u001b[36mzeroFirst\u001b[39m: \u001b[32mSet\u001b[39m[\u001b[32mExpression\u001b[39m] = \u001b[33mSet\u001b[39m(\n",
       "  \u001b[33mProduct\u001b[39m(\n",
       "    \u001b[33mCoeff\u001b[39m(\n",
       "      \u001b[33mFlatMap\u001b[39m(Typs, provingground.learning.TermGeneratorNodes$$Lambda$3549/1725945319@607b497, Typs),\n",
       "      Typs\n",
       "    ),\n",
       "    \u001b[33mFinalVal\u001b[39m(\n",
       "      \u001b[33mInIsle\u001b[39m(\n",
       "        \u001b[33mInIsle\u001b[39m(\u001b[33mElem\u001b[39m(\u001b[32m𝒰 \u001b[39m, Typs), \u001b[32m@a\u001b[39m, \u001b[33mIsland\u001b[39m(Typs, \u001b[33mCRV\u001b[39m(Typs), \u001b[33mAddVar\u001b[39m(\u001b[32m@a\u001b[39m, \u001b[32m0.3\u001b[39m), Pi, InIsle)),\n",
       "        \u001b[32m@a\u001b[39m,\n",
       "        \u001b[33mIsland\u001b[39m(Terms, \u001b[33mCRV\u001b[39m(Terms), \u001b[33mAddVar\u001b[39m(\u001b[32m𝒰 \u001b[39m, \u001b[32m0.3\u001b[39m), Lambda, InIsle)\n",
       "      )\n",
       "    )\n",
       "  ),\n",
       "  \u001b[33mProduct\u001b[39m(\n",
       "    \u001b[33mIsleScale\u001b[39m(\u001b[32m@a\u001b[39m, \u001b[33mElem\u001b[39m(\u001b[32m@a\u001b[39m, Terms)),\n",
       "    \u001b[33mInitialVal\u001b[39m(\n",
       "      \u001b[33mInIsle\u001b[39m(\n",
       "        \u001b[33mInIsle\u001b[39m(\n",
       "          \u001b[33mInIsle\u001b[39m(\n",
       "            \u001b[33mElem\u001b[39m(\u001b[32m@a\u001b[39m, Terms),\n",
       "            \u001b[32m@a\u001b[39m,\n",
       "            \u001b[33mIsland\u001b[39m(\n",
       "              \u001b[33mAtCoord\u001b[39m(TermsWithTyp, \u001b[32m(@a → ((@a → @b) → @b))\u001b[39m :: HNil),\n",
       "              \u001b[33mCRV\u001b[39m(\u001b[33mAtCoord\u001b[39m(TermsWithTyp, \u001b[32m((@a → @b) → @b)\u001b[39m :: HNil)),\n",
       "              \u001b[33mAddVar\u001b[39m(\u001b[32m@a\u001b[39m, \u001b[32m0.3\u001b[39m),\n",
       "              Lambda,\n",
       "              InIsle\n",
       "            )\n",
       "          ),\n",
       "          \u001b[32m@b\u001b[39m,\n",
       "          \u001b[33mIsland\u001b[39m(\n",
       "            \u001b[33mAtCoord\u001b[39m(TermsWithTyp, \u001b[32m∏(B : 𝒰 ){ (@a → ((@a → B) → B)) }\u001b[39m :: HNil),\n",
       "            \u001b[33mPiOutput\u001b[39m(\u001b[32m∏(B : 𝒰 ){ (@a → ((@a → B) → B)) }\u001b[39m),\n",
       "            \u001b[33mAddVar\u001b[39m(\u001b[32m𝒰 \u001b[39m, \u001b[32m0.3\u001b[39m),\n",
       "            Lambda,\n",
       "            InIsle\n",
       "          )\n",
       "        ),\n",
       "        \u001b[32m@a\u001b[39m,\n",
       "        \u001b[33mIsland\u001b[39m(\n",
       "          \u001b[33mAtCoord\u001b[39m(TermsWithTyp, \u001b[32m∏(A : 𝒰 ){ ∏(B : 𝒰 ){ (A → ((A → B) → B)) } }\u001b[39m :: HNil),\n",
       "          \u001b[33mPiOutput\u001b[39m(\u001b[32m∏(A : 𝒰 ){ ∏(B : 𝒰 ){ (A → ((A → B) → B)) } }\u001b[39m),\n",
       "          \u001b[33mAddVar\u001b[39m(\u001b[32m𝒰 \u001b[39m, \u001b[32m0.3\u001b[39m),\n",
       "          Lambda,\n",
       "          InIsle\n",
       "        )\n",
       "      )\n",
       "..."
      ]
     },
     "execution_count": 25,
     "metadata": {},
     "output_type": "execute_result"
    }
   ],
   "source": [
    "val zeroFirst = eqs.map(_.rhs).filter(exp => recExp(init, exp) == 0)"
   ]
  },
  {
   "cell_type": "code",
   "execution_count": 26,
   "metadata": {},
   "outputs": [
    {
     "data": {
      "text/plain": [
       "\u001b[36mres25\u001b[39m: \u001b[32mInt\u001b[39m = \u001b[32m587\u001b[39m"
      ]
     },
     "execution_count": 26,
     "metadata": {},
     "output_type": "execute_result"
    }
   ],
   "source": [
    "zeroFirst.size"
   ]
  },
  {
   "cell_type": "code",
   "execution_count": 27,
   "metadata": {},
   "outputs": [
    {
     "data": {
      "text/plain": [
       "\u001b[36mstep2\u001b[39m: \u001b[32mSet\u001b[39m[\u001b[32mExpression\u001b[39m] = \u001b[33mSet\u001b[39m(\n",
       "  \u001b[33mProduct\u001b[39m(\n",
       "    \u001b[33mIsleScale\u001b[39m(\u001b[32m@b\u001b[39m, \u001b[33mElem\u001b[39m(\u001b[32m@a\u001b[39m, Typs)),\n",
       "    \u001b[33mInitialVal\u001b[39m(\n",
       "      \u001b[33mInIsle\u001b[39m(\u001b[33mElem\u001b[39m(\u001b[32m@a\u001b[39m, Typs), \u001b[32m@a\u001b[39m, \u001b[33mIsland\u001b[39m(Terms, \u001b[33mCRV\u001b[39m(Terms), \u001b[33mAddVar\u001b[39m(\u001b[32m𝒰 \u001b[39m, \u001b[32m0.3\u001b[39m), Lambda, InIsle))\n",
       "    )\n",
       "  ),\n",
       "  \u001b[33mProduct\u001b[39m(\n",
       "    \u001b[33mIsleScale\u001b[39m(\u001b[32m@a\u001b[39m, \u001b[33mElem\u001b[39m(\u001b[32m@a\u001b[39m, Typs)),\n",
       "    \u001b[33mInitialVal\u001b[39m(\u001b[33mInIsle\u001b[39m(\u001b[33mElem\u001b[39m(\u001b[32m@a\u001b[39m, Typs), \u001b[32m@a\u001b[39m, \u001b[33mIsland\u001b[39m(Typs, \u001b[33mCRV\u001b[39m(Typs), \u001b[33mAddVar\u001b[39m(\u001b[32m𝒰 \u001b[39m, \u001b[32m0.3\u001b[39m), Pi, InIsle)))\n",
       "  ),\n",
       "  \u001b[33mProduct\u001b[39m(\n",
       "    \u001b[33mCoeff\u001b[39m(\u001b[33mInit\u001b[39m(Typs), Typs),\n",
       "    \u001b[33mInitialVal\u001b[39m(\n",
       "      \u001b[33mInIsle\u001b[39m(\n",
       "        \u001b[33mElem\u001b[39m(\u001b[32m𝒰 \u001b[39m, Typs),\n",
       "        \u001b[32m(@a_1 , @a_2)\u001b[39m,\n",
       "        \u001b[33mIsland\u001b[39m(Typs, \u001b[33mCRV\u001b[39m(Typs), \u001b[33mAddVar\u001b[39m(\u001b[32m∑(@a : { @a }\u001b[39m, \u001b[32m0.3\u001b[39m), Pi, InIsle)\n",
       "      )\n",
       "    )\n",
       "  ),\n",
       "  \u001b[33mProduct\u001b[39m(\n",
       "    \u001b[33mCoeff\u001b[39m(\u001b[33mInit\u001b[39m(Terms), Terms),\n",
       "    \u001b[33mInitialVal\u001b[39m(\n",
       "      \u001b[33mInIsle\u001b[39m(\n",
       "        \u001b[33mElem\u001b[39m(\u001b[32m𝒰 \u001b[39m, Terms),\n",
       "        \u001b[32m@a\u001b[39m,\n",
       "        \u001b[33mIsland\u001b[39m(\n",
       "          \u001b[33mAtCoord\u001b[39m(TermsWithTyp, \u001b[32m∏(A : 𝒰 ){ ∏(B : 𝒰 ){ (A → ((A → B) → B)) } }\u001b[39m :: HNil),\n",
       "          \u001b[33mPiOutput\u001b[39m(\u001b[32m∏(A : 𝒰 ){ ∏(B : 𝒰 ){ (A → ((A → B) → B)) } }\u001b[39m),\n",
       "          \u001b[33mAddVar\u001b[39m(\u001b[32m𝒰 \u001b[39m, \u001b[32m0.3\u001b[39m),\n",
       "          Lambda,\n",
       "          InIsle\n",
       "        )\n",
       "      )\n",
       "    )\n",
       "  ),\n",
       "  \u001b[33mProduct\u001b[39m(\n",
       "    \u001b[33mCoeff\u001b[39m(\u001b[33mInit\u001b[39m(Terms), Terms),\n",
       "    \u001b[33mInitialVal\u001b[39m(\n",
       "      \u001b[33mInIsle\u001b[39m(\n",
       "        \u001b[33mElem\u001b[39m(\u001b[32m(@a_1 , @a_2)\u001b[39m, Terms),\n",
       "        \u001b[32m(@a_1 , @a_2)\u001b[39m,\n",
       "        \u001b[33mIsland\u001b[39m(Terms, \u001b[33mCRV\u001b[39m(Terms), \u001b[33mAddVar\u001b[39m(\u001b[32m∏(@a : 𝒰 ){ @a }×𝒰 \u001b[39m, \u001b[32m0.3\u001b[39m), Lambda, InIsle)\n",
       "      )\n",
       "    )\n",
       "  ),\n",
       "  \u001b[33mProduct\u001b[39m(\n",
       "    \u001b[33mIsleScale\u001b[39m(\u001b[32m@a\u001b[39m, \u001b[33mElem\u001b[39m(\u001b[32m@a\u001b[39m, Terms)),\n",
       "..."
      ]
     },
     "execution_count": 27,
     "metadata": {},
     "output_type": "execute_result"
    }
   ],
   "source": [
    "val step2 = zeroFirst.filter(exp => recExp(m2, exp) != 0)"
   ]
  },
  {
   "cell_type": "code",
   "execution_count": 28,
   "metadata": {},
   "outputs": [
    {
     "data": {
      "text/plain": [
       "\u001b[36mres27\u001b[39m: \u001b[32mInt\u001b[39m = \u001b[32m141\u001b[39m"
      ]
     },
     "execution_count": 28,
     "metadata": {},
     "output_type": "execute_result"
    }
   ],
   "source": [
    "step2.size"
   ]
  },
  {
   "cell_type": "code",
   "execution_count": 29,
   "metadata": {},
   "outputs": [
    {
     "data": {
      "text/plain": [
       "\u001b[36mres28_0\u001b[39m: \u001b[32mInt\u001b[39m = \u001b[32m0\u001b[39m\n",
       "\u001b[36mres28_1\u001b[39m: \u001b[32mInt\u001b[39m = \u001b[32m0\u001b[39m"
      ]
     },
     "execution_count": 29,
     "metadata": {},
     "output_type": "execute_result"
    }
   ],
   "source": [
    "m2.filter(_._2 == 0).size\n",
    "m3.filter(_._2 == 0).size"
   ]
  },
  {
   "cell_type": "code",
   "execution_count": 30,
   "metadata": {},
   "outputs": [
    {
     "data": {
      "text/plain": [
       "\u001b[36mms\u001b[39m: \u001b[32mMap\u001b[39m[\u001b[32mExpression\u001b[39m, \u001b[32mDouble\u001b[39m] = \u001b[33mMap\u001b[39m(\n",
       "  \u001b[33mFinalVal\u001b[39m(\u001b[33mInIsle\u001b[39m(\u001b[33mElem\u001b[39m(\u001b[32m𝒰 \u001b[39m, Typs), \u001b[32m@a\u001b[39m, \u001b[33mIsland\u001b[39m(Terms, \u001b[33mCRV\u001b[39m(Terms), \u001b[33mAddVar\u001b[39m(\u001b[32m𝒰 \u001b[39m, \u001b[32m0.3\u001b[39m), Lambda, InIsle))) -> \u001b[32m0.42\u001b[39m,\n",
       "  \u001b[33mInitialVal\u001b[39m(\n",
       "    \u001b[33mInIsle\u001b[39m(\u001b[33mElem\u001b[39m(\u001b[32m𝒰 \u001b[39m, Typs), \u001b[32m@a\u001b[39m, \u001b[33mIsland\u001b[39m(Terms, \u001b[33mCRV\u001b[39m(Terms), \u001b[33mAddVar\u001b[39m(\u001b[32m𝒰 \u001b[39m, \u001b[32m0.3\u001b[39m), Lambda, InIsle))\n",
       "  ) -> \u001b[32m0.7\u001b[39m,\n",
       "  \u001b[33mIsleScale\u001b[39m(\u001b[32m@b\u001b[39m, \u001b[33mElem\u001b[39m(\u001b[32m@b\u001b[39m, Typs)) -> \u001b[32m0.7\u001b[39m,\n",
       "  \u001b[33mIsleScale\u001b[39m(\u001b[32m@a\u001b[39m, \u001b[33mElem\u001b[39m(\u001b[32m@a\u001b[39m, Terms)) -> \u001b[32m0.7\u001b[39m,\n",
       "  \u001b[33mFinalVal\u001b[39m(\n",
       "    \u001b[33mInIsle\u001b[39m(\n",
       "      \u001b[33mInIsle\u001b[39m(\n",
       "        \u001b[33mElem\u001b[39m(\u001b[32m(@a → ((@a → @b) → @b))\u001b[39m, TargetTyps),\n",
       "        \u001b[32m@b\u001b[39m,\n",
       "        \u001b[33mIsland\u001b[39m(Terms, \u001b[33mCRV\u001b[39m(Terms), \u001b[33mAddVar\u001b[39m(\u001b[32m𝒰 \u001b[39m, \u001b[32m0.3\u001b[39m), Lambda, InIsle)\n",
       "      ),\n",
       "      \u001b[32m@a\u001b[39m,\n",
       "      \u001b[33mIsland\u001b[39m(Terms, \u001b[33mCRV\u001b[39m(Terms), \u001b[33mAddVar\u001b[39m(\u001b[32m𝒰 \u001b[39m, \u001b[32m0.3\u001b[39m), Lambda, InIsle)\n",
       "    )\n",
       "  ) -> \u001b[32m0.147\u001b[39m,\n",
       "  \u001b[33mInitialVal\u001b[39m(\n",
       "    \u001b[33mInIsle\u001b[39m(\n",
       "      \u001b[33mElem\u001b[39m(\u001b[32m𝒰 \u001b[39m, Typs),\n",
       "      \u001b[32m(@a_1 , @a_2)\u001b[39m,\n",
       "      \u001b[33mIsland\u001b[39m(Typs, \u001b[33mCRV\u001b[39m(Typs), \u001b[33mAddVar\u001b[39m(\u001b[32m∑(@a : { @a }\u001b[39m, \u001b[32m0.3\u001b[39m), Pi, InIsle)\n",
       "    )\n",
       "  ) -> \u001b[32m0.7\u001b[39m,\n",
       "  \u001b[33mFinalVal\u001b[39m(\n",
       "    \u001b[33mInIsle\u001b[39m(\n",
       "      \u001b[33mElem\u001b[39m(\u001b[32m𝒰 \u001b[39m, Typs),\n",
       "      \u001b[32m(@a_1 , @a_2)\u001b[39m,\n",
       "      \u001b[33mIsland\u001b[39m(Typs, \u001b[33mCRV\u001b[39m(Typs), \u001b[33mAddVar\u001b[39m(\u001b[32m∑(@a : { @a }\u001b[39m, \u001b[32m0.3\u001b[39m), Pi, InIsle)\n",
       "    )\n",
       "  ) -> \u001b[32m0.42\u001b[39m,\n",
       "  \u001b[33mInitialVal\u001b[39m(\u001b[33mElem\u001b[39m(\u001b[32m@a\u001b[39m, Terms)) -> \u001b[32m0.4285714285714286\u001b[39m,\n",
       "  \u001b[33mFinalVal\u001b[39m(\n",
       "    \u001b[33mInIsle\u001b[39m(\n",
       "      \u001b[33mElem\u001b[39m(\u001b[32m∏(@b : 𝒰 ){ @b }\u001b[39m, Typs),\n",
       "      \u001b[32m@a\u001b[39m,\n",
       "      \u001b[33mIsland\u001b[39m(Terms, \u001b[33mCRV\u001b[39m(Terms), \u001b[33mAddVar\u001b[39m(\u001b[32m𝒰 \u001b[39m, \u001b[32m0.3\u001b[39m), Lambda, InIsle)\n",
       "    )\n",
       "  ) -> \u001b[32m0.013150807492591156\u001b[39m,\n",
       "  \u001b[33mFinalVal\u001b[39m(\u001b[33mElem\u001b[39m(\u001b[32m((__1 , __2) : 𝒰 ×(𝒰  → 𝒰 )) ↦ 𝒰 \u001b[39m, Terms)) -> \u001b[32m0.0385060355554574\u001b[39m,\n",
       "  \u001b[33mFinalVal\u001b[39m(\n",
       "    \u001b[33mInIsle\u001b[39m(\n",
       "      \u001b[33mInIsle\u001b[39m(\n",
       "        \u001b[33mInIsle\u001b[39m(\n",
       "          \u001b[33mInIsle\u001b[39m(\n",
       "            \u001b[33mElem\u001b[39m(\u001b[32m@b\u001b[39m, Terms),\n",
       "            \u001b[32m@a\u001b[39m,\n",
       "..."
      ]
     },
     "execution_count": 30,
     "metadata": {},
     "output_type": "execute_result"
    }
   ],
   "source": [
    "val ms = stableSupportMap(init, eqgs)"
   ]
  },
  {
   "cell_type": "code",
   "execution_count": 31,
   "metadata": {},
   "outputs": [
    {
     "data": {
      "text/plain": [
       "\u001b[36mres30\u001b[39m: \u001b[32mMap\u001b[39m[\u001b[32mExpression\u001b[39m, \u001b[32mDouble\u001b[39m] = \u001b[33mMap\u001b[39m()"
      ]
     },
     "execution_count": 31,
     "metadata": {},
     "output_type": "execute_result"
    }
   ],
   "source": [
    "m2.filter(_._2 == 0)"
   ]
  },
  {
   "cell_type": "code",
   "execution_count": 32,
   "metadata": {},
   "outputs": [
    {
     "data": {
      "text/plain": [
       "\u001b[36mres31\u001b[39m: \u001b[32mMap\u001b[39m[\u001b[32mExpression\u001b[39m, \u001b[32mDouble\u001b[39m] = \u001b[33mMap\u001b[39m()"
      ]
     },
     "execution_count": 32,
     "metadata": {},
     "output_type": "execute_result"
    }
   ],
   "source": [
    "m3.filter(_._2 == 0) "
   ]
  },
  {
   "cell_type": "code",
   "execution_count": 33,
   "metadata": {},
   "outputs": [
    {
     "data": {
      "text/plain": [
       "\u001b[36mm4\u001b[39m: \u001b[32mMap\u001b[39m[\u001b[32mExpression\u001b[39m, \u001b[32mDouble\u001b[39m] = \u001b[33mMap\u001b[39m(\n",
       "  \u001b[33mFinalVal\u001b[39m(\u001b[33mInIsle\u001b[39m(\u001b[33mElem\u001b[39m(\u001b[32m𝒰 \u001b[39m, Typs), \u001b[32m@a\u001b[39m, \u001b[33mIsland\u001b[39m(Terms, \u001b[33mCRV\u001b[39m(Terms), \u001b[33mAddVar\u001b[39m(\u001b[32m𝒰 \u001b[39m, \u001b[32m0.3\u001b[39m), Lambda, InIsle))) -> \u001b[32m0.42\u001b[39m,\n",
       "  \u001b[33mInitialVal\u001b[39m(\n",
       "    \u001b[33mInIsle\u001b[39m(\u001b[33mElem\u001b[39m(\u001b[32m𝒰 \u001b[39m, Typs), \u001b[32m@a\u001b[39m, \u001b[33mIsland\u001b[39m(Terms, \u001b[33mCRV\u001b[39m(Terms), \u001b[33mAddVar\u001b[39m(\u001b[32m𝒰 \u001b[39m, \u001b[32m0.3\u001b[39m), Lambda, InIsle))\n",
       "  ) -> \u001b[32m0.7\u001b[39m,\n",
       "  \u001b[33mIsleScale\u001b[39m(\u001b[32m@b\u001b[39m, \u001b[33mElem\u001b[39m(\u001b[32m@b\u001b[39m, Typs)) -> \u001b[32m0.7\u001b[39m,\n",
       "  \u001b[33mIsleScale\u001b[39m(\u001b[32m@a\u001b[39m, \u001b[33mElem\u001b[39m(\u001b[32m@a\u001b[39m, Terms)) -> \u001b[32m0.7\u001b[39m,\n",
       "  \u001b[33mInitialVal\u001b[39m(\n",
       "    \u001b[33mInIsle\u001b[39m(\n",
       "      \u001b[33mElem\u001b[39m(\u001b[32m𝒰 \u001b[39m, Typs),\n",
       "      \u001b[32m(@a_1 , @a_2)\u001b[39m,\n",
       "      \u001b[33mIsland\u001b[39m(Typs, \u001b[33mCRV\u001b[39m(Typs), \u001b[33mAddVar\u001b[39m(\u001b[32m∑(@a : { @a }\u001b[39m, \u001b[32m0.3\u001b[39m), Pi, InIsle)\n",
       "    )\n",
       "  ) -> \u001b[32m0.7\u001b[39m,\n",
       "  \u001b[33mFinalVal\u001b[39m(\n",
       "    \u001b[33mInIsle\u001b[39m(\n",
       "      \u001b[33mElem\u001b[39m(\u001b[32m𝒰 \u001b[39m, Typs),\n",
       "      \u001b[32m(@a_1 , @a_2)\u001b[39m,\n",
       "      \u001b[33mIsland\u001b[39m(Typs, \u001b[33mCRV\u001b[39m(Typs), \u001b[33mAddVar\u001b[39m(\u001b[32m∑(@a : { @a }\u001b[39m, \u001b[32m0.3\u001b[39m), Pi, InIsle)\n",
       "    )\n",
       "  ) -> \u001b[32m0.42\u001b[39m,\n",
       "  \u001b[33mInitialVal\u001b[39m(\u001b[33mElem\u001b[39m(\u001b[32m@a\u001b[39m, Terms)) -> \u001b[32m0.4285714285714286\u001b[39m,\n",
       "  \u001b[33mFinalVal\u001b[39m(\u001b[33mElem\u001b[39m(\u001b[32m((__1 , __2) : 𝒰 ×(𝒰  → 𝒰 )) ↦ 𝒰 \u001b[39m, Terms)) -> \u001b[32m0.038500000000000006\u001b[39m,\n",
       "  \u001b[33mIsleScale\u001b[39m(\u001b[32m@a\u001b[39m, \u001b[33mElem\u001b[39m(\u001b[32m@a\u001b[39m, Terms)) -> \u001b[32m0.7\u001b[39m,\n",
       "  \u001b[33mIsleScale\u001b[39m(\u001b[32m@a\u001b[39m, \u001b[33mElem\u001b[39m(\u001b[32m@a\u001b[39m, Terms)) -> \u001b[32m0.7\u001b[39m,\n",
       "  \u001b[33mIsleScale\u001b[39m(\u001b[32m@a\u001b[39m, \u001b[33mElem\u001b[39m(\u001b[32m@a\u001b[39m, Terms)) -> \u001b[32m0.7\u001b[39m,\n",
       "  \u001b[33mIsleScale\u001b[39m(\u001b[32m@a\u001b[39m, \u001b[33mElem\u001b[39m(\u001b[32m@a\u001b[39m, Terms)) -> \u001b[32m0.7\u001b[39m,\n",
       "  \u001b[33mIsleScale\u001b[39m(\u001b[32m@a\u001b[39m, \u001b[33mElem\u001b[39m(\u001b[32m@a\u001b[39m, Terms)) -> \u001b[32m0.7\u001b[39m,\n",
       "  \u001b[33mIsleScale\u001b[39m(\u001b[32m@a\u001b[39m, \u001b[33mElem\u001b[39m(\u001b[32m@a\u001b[39m, Terms)) -> \u001b[32m0.7\u001b[39m,\n",
       "  \u001b[33mIsleScale\u001b[39m(\u001b[32m@a\u001b[39m, \u001b[33mElem\u001b[39m(\u001b[32m@a\u001b[39m, Terms)) -> \u001b[32m0.7\u001b[39m,\n",
       "  \u001b[33mCoeff\u001b[39m(\n",
       "    \u001b[33mMap\u001b[39m(\n",
       "      provingground.learning.TermRandomVars$TargetTyps$$$Lambda$3560/1853403043@4a496499,\n",
       "      Goals,\n",
       "      TargetTyps\n",
       "    ),\n",
       "    TargetTyps\n",
       "  ) -> \u001b[32m0.7\u001b[39m,\n",
       "  \u001b[33mInitialVal\u001b[39m(\u001b[33mElem\u001b[39m(\u001b[32m@a\u001b[39m, Terms)) -> \u001b[32m0.4285714285714286\u001b[39m,\n",
       "  \u001b[33mInitialVal\u001b[39m(\u001b[33mElem\u001b[39m(\u001b[32m@a\u001b[39m, Terms)) -> \u001b[32m0.4285714285714286\u001b[39m,\n",
       "  \u001b[33mInitialVal\u001b[39m(\n",
       "    \u001b[33mInIsle\u001b[39m(\n",
       "      \u001b[33mInIsle\u001b[39m(\u001b[33mElem\u001b[39m(\u001b[32m@a\u001b[39m, Terms), \u001b[32m@a\u001b[39m, \u001b[33mIsland\u001b[39m(Terms, \u001b[33mCRV\u001b[39m(Terms), \u001b[33mAddVar\u001b[39m(\u001b[32m@a\u001b[39m, \u001b[32m0.3\u001b[39m), Lambda, InIsle)),\n",
       "      \u001b[32m@a\u001b[39m,\n",
       "      \u001b[33mIsland\u001b[39m(Terms, \u001b[33mCRV\u001b[39m(Terms), \u001b[33mAddVar\u001b[39m(\u001b[32m𝒰 \u001b[39m, \u001b[32m0.3\u001b[39m), Lambda, InIsle)\n",
       "    )\n",
       "  ) -> \u001b[32m0.21\u001b[39m,\n",
       "  \u001b[33mFinalVal\u001b[39m(\n",
       "..."
      ]
     },
     "execution_count": 33,
     "metadata": {},
     "output_type": "execute_result"
    }
   ],
   "source": [
    "val m4 = nextMap(m3, eqgs)"
   ]
  },
  {
   "cell_type": "code",
   "execution_count": 34,
   "metadata": {},
   "outputs": [
    {
     "data": {
      "text/plain": [
       "\u001b[36mms\u001b[39m: \u001b[32mMap\u001b[39m[\u001b[32mExpression\u001b[39m, \u001b[32mDouble\u001b[39m] = \u001b[33mMap\u001b[39m(\n",
       "  \u001b[33mFinalVal\u001b[39m(\u001b[33mInIsle\u001b[39m(\u001b[33mElem\u001b[39m(\u001b[32m𝒰 \u001b[39m, Typs), \u001b[32m@a\u001b[39m, \u001b[33mIsland\u001b[39m(Terms, \u001b[33mCRV\u001b[39m(Terms), \u001b[33mAddVar\u001b[39m(\u001b[32m𝒰 \u001b[39m, \u001b[32m0.3\u001b[39m), Lambda, InIsle))) -> \u001b[32m0.42\u001b[39m,\n",
       "  \u001b[33mInitialVal\u001b[39m(\n",
       "    \u001b[33mInIsle\u001b[39m(\u001b[33mElem\u001b[39m(\u001b[32m𝒰 \u001b[39m, Typs), \u001b[32m@a\u001b[39m, \u001b[33mIsland\u001b[39m(Terms, \u001b[33mCRV\u001b[39m(Terms), \u001b[33mAddVar\u001b[39m(\u001b[32m𝒰 \u001b[39m, \u001b[32m0.3\u001b[39m), Lambda, InIsle))\n",
       "  ) -> \u001b[32m0.7\u001b[39m,\n",
       "  \u001b[33mIsleScale\u001b[39m(\u001b[32m@b\u001b[39m, \u001b[33mElem\u001b[39m(\u001b[32m@b\u001b[39m, Typs)) -> \u001b[32m0.7\u001b[39m,\n",
       "  \u001b[33mIsleScale\u001b[39m(\u001b[32m@a\u001b[39m, \u001b[33mElem\u001b[39m(\u001b[32m@a\u001b[39m, Terms)) -> \u001b[32m0.7\u001b[39m,\n",
       "  \u001b[33mFinalVal\u001b[39m(\n",
       "    \u001b[33mInIsle\u001b[39m(\n",
       "      \u001b[33mInIsle\u001b[39m(\n",
       "        \u001b[33mElem\u001b[39m(\u001b[32m(@a → ((@a → @b) → @b))\u001b[39m, TargetTyps),\n",
       "        \u001b[32m@b\u001b[39m,\n",
       "        \u001b[33mIsland\u001b[39m(Terms, \u001b[33mCRV\u001b[39m(Terms), \u001b[33mAddVar\u001b[39m(\u001b[32m𝒰 \u001b[39m, \u001b[32m0.3\u001b[39m), Lambda, InIsle)\n",
       "      ),\n",
       "      \u001b[32m@a\u001b[39m,\n",
       "      \u001b[33mIsland\u001b[39m(Terms, \u001b[33mCRV\u001b[39m(Terms), \u001b[33mAddVar\u001b[39m(\u001b[32m𝒰 \u001b[39m, \u001b[32m0.3\u001b[39m), Lambda, InIsle)\n",
       "    )\n",
       "  ) -> \u001b[32m0.147\u001b[39m,\n",
       "  \u001b[33mInitialVal\u001b[39m(\n",
       "    \u001b[33mInIsle\u001b[39m(\n",
       "      \u001b[33mElem\u001b[39m(\u001b[32m𝒰 \u001b[39m, Typs),\n",
       "      \u001b[32m(@a_1 , @a_2)\u001b[39m,\n",
       "      \u001b[33mIsland\u001b[39m(Typs, \u001b[33mCRV\u001b[39m(Typs), \u001b[33mAddVar\u001b[39m(\u001b[32m∑(@a : { @a }\u001b[39m, \u001b[32m0.3\u001b[39m), Pi, InIsle)\n",
       "    )\n",
       "  ) -> \u001b[32m0.7\u001b[39m,\n",
       "  \u001b[33mFinalVal\u001b[39m(\n",
       "    \u001b[33mInIsle\u001b[39m(\n",
       "      \u001b[33mElem\u001b[39m(\u001b[32m𝒰 \u001b[39m, Typs),\n",
       "      \u001b[32m(@a_1 , @a_2)\u001b[39m,\n",
       "      \u001b[33mIsland\u001b[39m(Typs, \u001b[33mCRV\u001b[39m(Typs), \u001b[33mAddVar\u001b[39m(\u001b[32m∑(@a : { @a }\u001b[39m, \u001b[32m0.3\u001b[39m), Pi, InIsle)\n",
       "    )\n",
       "  ) -> \u001b[32m0.42\u001b[39m,\n",
       "  \u001b[33mInitialVal\u001b[39m(\u001b[33mElem\u001b[39m(\u001b[32m@a\u001b[39m, Terms)) -> \u001b[32m0.4285714285714286\u001b[39m,\n",
       "  \u001b[33mFinalVal\u001b[39m(\n",
       "    \u001b[33mInIsle\u001b[39m(\n",
       "      \u001b[33mElem\u001b[39m(\u001b[32m∏(@b : 𝒰 ){ @b }\u001b[39m, Typs),\n",
       "      \u001b[32m@a\u001b[39m,\n",
       "      \u001b[33mIsland\u001b[39m(Terms, \u001b[33mCRV\u001b[39m(Terms), \u001b[33mAddVar\u001b[39m(\u001b[32m𝒰 \u001b[39m, \u001b[32m0.3\u001b[39m), Lambda, InIsle)\n",
       "    )\n",
       "  ) -> \u001b[32m0.013150807492591156\u001b[39m,\n",
       "  \u001b[33mFinalVal\u001b[39m(\u001b[33mElem\u001b[39m(\u001b[32m((__1 , __2) : 𝒰 ×(𝒰  → 𝒰 )) ↦ 𝒰 \u001b[39m, Terms)) -> \u001b[32m0.0385060355554574\u001b[39m,\n",
       "  \u001b[33mFinalVal\u001b[39m(\n",
       "    \u001b[33mInIsle\u001b[39m(\n",
       "      \u001b[33mInIsle\u001b[39m(\n",
       "        \u001b[33mInIsle\u001b[39m(\n",
       "          \u001b[33mInIsle\u001b[39m(\n",
       "            \u001b[33mElem\u001b[39m(\u001b[32m@b\u001b[39m, Terms),\n",
       "            \u001b[32m@a\u001b[39m,\n",
       "..."
      ]
     },
     "execution_count": 34,
     "metadata": {},
     "output_type": "execute_result"
    }
   ],
   "source": [
    "val ms = stableSupportMap(init, eqgs)"
   ]
  },
  {
   "cell_type": "code",
   "execution_count": 35,
   "metadata": {},
   "outputs": [
    {
     "data": {
      "text/plain": [
       "\u001b[36mmss\u001b[39m: \u001b[32mMap\u001b[39m[\u001b[32mExpression\u001b[39m, \u001b[32mDouble\u001b[39m] = \u001b[33mMap\u001b[39m(\n",
       "  \u001b[33mFinalVal\u001b[39m(\u001b[33mInIsle\u001b[39m(\u001b[33mElem\u001b[39m(\u001b[32m𝒰 \u001b[39m, Typs), \u001b[32m@a\u001b[39m, \u001b[33mIsland\u001b[39m(Terms, \u001b[33mCRV\u001b[39m(Terms), \u001b[33mAddVar\u001b[39m(\u001b[32m𝒰 \u001b[39m, \u001b[32m0.3\u001b[39m), Lambda, InIsle))) -> \u001b[32m0.42\u001b[39m,\n",
       "  \u001b[33mInitialVal\u001b[39m(\n",
       "    \u001b[33mInIsle\u001b[39m(\u001b[33mElem\u001b[39m(\u001b[32m𝒰 \u001b[39m, Typs), \u001b[32m@a\u001b[39m, \u001b[33mIsland\u001b[39m(Terms, \u001b[33mCRV\u001b[39m(Terms), \u001b[33mAddVar\u001b[39m(\u001b[32m𝒰 \u001b[39m, \u001b[32m0.3\u001b[39m), Lambda, InIsle))\n",
       "  ) -> \u001b[32m0.7\u001b[39m,\n",
       "  \u001b[33mIsleScale\u001b[39m(\u001b[32m@b\u001b[39m, \u001b[33mElem\u001b[39m(\u001b[32m@b\u001b[39m, Typs)) -> \u001b[32m0.7\u001b[39m,\n",
       "  \u001b[33mIsleScale\u001b[39m(\u001b[32m@a\u001b[39m, \u001b[33mElem\u001b[39m(\u001b[32m@a\u001b[39m, Terms)) -> \u001b[32m0.7\u001b[39m,\n",
       "  \u001b[33mFinalVal\u001b[39m(\n",
       "    \u001b[33mInIsle\u001b[39m(\n",
       "      \u001b[33mInIsle\u001b[39m(\n",
       "        \u001b[33mElem\u001b[39m(\u001b[32m(@a → ((@a → @b) → @b))\u001b[39m, TargetTyps),\n",
       "        \u001b[32m@b\u001b[39m,\n",
       "        \u001b[33mIsland\u001b[39m(Terms, \u001b[33mCRV\u001b[39m(Terms), \u001b[33mAddVar\u001b[39m(\u001b[32m𝒰 \u001b[39m, \u001b[32m0.3\u001b[39m), Lambda, InIsle)\n",
       "      ),\n",
       "      \u001b[32m@a\u001b[39m,\n",
       "      \u001b[33mIsland\u001b[39m(Terms, \u001b[33mCRV\u001b[39m(Terms), \u001b[33mAddVar\u001b[39m(\u001b[32m𝒰 \u001b[39m, \u001b[32m0.3\u001b[39m), Lambda, InIsle)\n",
       "    )\n",
       "  ) -> \u001b[32m0.147\u001b[39m,\n",
       "  \u001b[33mInitialVal\u001b[39m(\n",
       "    \u001b[33mInIsle\u001b[39m(\n",
       "      \u001b[33mElem\u001b[39m(\u001b[32m𝒰 \u001b[39m, Typs),\n",
       "      \u001b[32m(@a_1 , @a_2)\u001b[39m,\n",
       "      \u001b[33mIsland\u001b[39m(Typs, \u001b[33mCRV\u001b[39m(Typs), \u001b[33mAddVar\u001b[39m(\u001b[32m∑(@a : { @a }\u001b[39m, \u001b[32m0.3\u001b[39m), Pi, InIsle)\n",
       "    )\n",
       "  ) -> \u001b[32m0.7\u001b[39m,\n",
       "  \u001b[33mFinalVal\u001b[39m(\n",
       "    \u001b[33mInIsle\u001b[39m(\n",
       "      \u001b[33mElem\u001b[39m(\u001b[32m𝒰 \u001b[39m, Typs),\n",
       "      \u001b[32m(@a_1 , @a_2)\u001b[39m,\n",
       "      \u001b[33mIsland\u001b[39m(Typs, \u001b[33mCRV\u001b[39m(Typs), \u001b[33mAddVar\u001b[39m(\u001b[32m∑(@a : { @a }\u001b[39m, \u001b[32m0.3\u001b[39m), Pi, InIsle)\n",
       "    )\n",
       "  ) -> \u001b[32m0.42\u001b[39m,\n",
       "  \u001b[33mInitialVal\u001b[39m(\u001b[33mElem\u001b[39m(\u001b[32m@a\u001b[39m, Terms)) -> \u001b[32m0.4285714285714286\u001b[39m,\n",
       "  \u001b[33mFinalVal\u001b[39m(\n",
       "    \u001b[33mInIsle\u001b[39m(\n",
       "      \u001b[33mElem\u001b[39m(\u001b[32m∏(@b : 𝒰 ){ @b }\u001b[39m, Typs),\n",
       "      \u001b[32m@a\u001b[39m,\n",
       "      \u001b[33mIsland\u001b[39m(Terms, \u001b[33mCRV\u001b[39m(Terms), \u001b[33mAddVar\u001b[39m(\u001b[32m𝒰 \u001b[39m, \u001b[32m0.3\u001b[39m), Lambda, InIsle)\n",
       "    )\n",
       "  ) -> \u001b[32m0.013151570681494687\u001b[39m,\n",
       "  \u001b[33mFinalVal\u001b[39m(\u001b[33mElem\u001b[39m(\u001b[32m((__1 , __2) : 𝒰 ×(𝒰  → 𝒰 )) ↦ 𝒰 \u001b[39m, Terms)) -> \u001b[32m0.03850605967906028\u001b[39m,\n",
       "  \u001b[33mFinalVal\u001b[39m(\n",
       "    \u001b[33mInIsle\u001b[39m(\n",
       "      \u001b[33mInIsle\u001b[39m(\n",
       "        \u001b[33mInIsle\u001b[39m(\n",
       "          \u001b[33mInIsle\u001b[39m(\n",
       "            \u001b[33mElem\u001b[39m(\u001b[32m@b\u001b[39m, Terms),\n",
       "            \u001b[32m@a\u001b[39m,\n",
       "..."
      ]
     },
     "execution_count": 35,
     "metadata": {},
     "output_type": "execute_result"
    }
   ],
   "source": [
    "val mss = nextMap(ms, eqgs)"
   ]
  },
  {
   "cell_type": "code",
   "execution_count": 36,
   "metadata": {},
   "outputs": [
    {
     "data": {
      "text/plain": [
       "\u001b[36mres35\u001b[39m: \u001b[32mDouble\u001b[39m = \u001b[32m3.1003174836561977\u001b[39m"
      ]
     },
     "execution_count": 36,
     "metadata": {},
     "output_type": "execute_result"
    }
   ],
   "source": [
    "mapRatio(ms, mss)"
   ]
  },
  {
   "cell_type": "code",
   "execution_count": 37,
   "metadata": {},
   "outputs": [
    {
     "data": {
      "text/plain": [
       "\u001b[36mm100\u001b[39m: \u001b[32mMap\u001b[39m[\u001b[32mExpression\u001b[39m, \u001b[32mDouble\u001b[39m] = \u001b[33mMap\u001b[39m(\n",
       "  \u001b[33mFinalVal\u001b[39m(\u001b[33mInIsle\u001b[39m(\u001b[33mElem\u001b[39m(\u001b[32m𝒰 \u001b[39m, Typs), \u001b[32m@a\u001b[39m, \u001b[33mIsland\u001b[39m(Terms, \u001b[33mCRV\u001b[39m(Terms), \u001b[33mAddVar\u001b[39m(\u001b[32m𝒰 \u001b[39m, \u001b[32m0.3\u001b[39m), Lambda, InIsle))) -> \u001b[32m0.42\u001b[39m,\n",
       "  \u001b[33mInitialVal\u001b[39m(\n",
       "    \u001b[33mInIsle\u001b[39m(\u001b[33mElem\u001b[39m(\u001b[32m𝒰 \u001b[39m, Typs), \u001b[32m@a\u001b[39m, \u001b[33mIsland\u001b[39m(Terms, \u001b[33mCRV\u001b[39m(Terms), \u001b[33mAddVar\u001b[39m(\u001b[32m𝒰 \u001b[39m, \u001b[32m0.3\u001b[39m), Lambda, InIsle))\n",
       "  ) -> \u001b[32m0.7\u001b[39m,\n",
       "  \u001b[33mIsleScale\u001b[39m(\u001b[32m@b\u001b[39m, \u001b[33mElem\u001b[39m(\u001b[32m@b\u001b[39m, Typs)) -> \u001b[32m0.7\u001b[39m,\n",
       "  \u001b[33mIsleScale\u001b[39m(\u001b[32m@a\u001b[39m, \u001b[33mElem\u001b[39m(\u001b[32m@a\u001b[39m, Terms)) -> \u001b[32m0.7\u001b[39m,\n",
       "  \u001b[33mFinalVal\u001b[39m(\n",
       "    \u001b[33mInIsle\u001b[39m(\n",
       "      \u001b[33mInIsle\u001b[39m(\n",
       "        \u001b[33mElem\u001b[39m(\u001b[32m(@a → ((@a → @b) → @b))\u001b[39m, TargetTyps),\n",
       "        \u001b[32m@b\u001b[39m,\n",
       "        \u001b[33mIsland\u001b[39m(Terms, \u001b[33mCRV\u001b[39m(Terms), \u001b[33mAddVar\u001b[39m(\u001b[32m𝒰 \u001b[39m, \u001b[32m0.3\u001b[39m), Lambda, InIsle)\n",
       "      ),\n",
       "      \u001b[32m@a\u001b[39m,\n",
       "      \u001b[33mIsland\u001b[39m(Terms, \u001b[33mCRV\u001b[39m(Terms), \u001b[33mAddVar\u001b[39m(\u001b[32m𝒰 \u001b[39m, \u001b[32m0.3\u001b[39m), Lambda, InIsle)\n",
       "    )\n",
       "  ) -> \u001b[32m0.147\u001b[39m,\n",
       "  \u001b[33mInitialVal\u001b[39m(\n",
       "    \u001b[33mInIsle\u001b[39m(\n",
       "      \u001b[33mElem\u001b[39m(\u001b[32m𝒰 \u001b[39m, Typs),\n",
       "      \u001b[32m(@a_1 , @a_2)\u001b[39m,\n",
       "      \u001b[33mIsland\u001b[39m(Typs, \u001b[33mCRV\u001b[39m(Typs), \u001b[33mAddVar\u001b[39m(\u001b[32m∑(@a : { @a }\u001b[39m, \u001b[32m0.3\u001b[39m), Pi, InIsle)\n",
       "    )\n",
       "  ) -> \u001b[32m0.7\u001b[39m,\n",
       "  \u001b[33mFinalVal\u001b[39m(\n",
       "    \u001b[33mInIsle\u001b[39m(\n",
       "      \u001b[33mElem\u001b[39m(\u001b[32m𝒰 \u001b[39m, Typs),\n",
       "      \u001b[32m(@a_1 , @a_2)\u001b[39m,\n",
       "      \u001b[33mIsland\u001b[39m(Typs, \u001b[33mCRV\u001b[39m(Typs), \u001b[33mAddVar\u001b[39m(\u001b[32m∑(@a : { @a }\u001b[39m, \u001b[32m0.3\u001b[39m), Pi, InIsle)\n",
       "    )\n",
       "  ) -> \u001b[32m0.42\u001b[39m,\n",
       "  \u001b[33mInitialVal\u001b[39m(\u001b[33mElem\u001b[39m(\u001b[32m@a\u001b[39m, Terms)) -> \u001b[32m0.4285714285714286\u001b[39m,\n",
       "  \u001b[33mFinalVal\u001b[39m(\n",
       "    \u001b[33mInIsle\u001b[39m(\n",
       "      \u001b[33mElem\u001b[39m(\u001b[32m∏(@b : 𝒰 ){ @b }\u001b[39m, Typs),\n",
       "      \u001b[32m@a\u001b[39m,\n",
       "      \u001b[33mIsland\u001b[39m(Terms, \u001b[33mCRV\u001b[39m(Terms), \u001b[33mAddVar\u001b[39m(\u001b[32m𝒰 \u001b[39m, \u001b[32m0.3\u001b[39m), Lambda, InIsle)\n",
       "    )\n",
       "  ) -> \u001b[32m0.013152400835073068\u001b[39m,\n",
       "  \u001b[33mFinalVal\u001b[39m(\u001b[33mElem\u001b[39m(\u001b[32m((__1 , __2) : 𝒰 ×(𝒰  → 𝒰 )) ↦ 𝒰 \u001b[39m, Terms)) -> \u001b[32m0.03850609129352404\u001b[39m,\n",
       "  \u001b[33mFinalVal\u001b[39m(\n",
       "    \u001b[33mInIsle\u001b[39m(\n",
       "      \u001b[33mInIsle\u001b[39m(\n",
       "        \u001b[33mInIsle\u001b[39m(\n",
       "          \u001b[33mInIsle\u001b[39m(\n",
       "            \u001b[33mElem\u001b[39m(\u001b[32m@b\u001b[39m, Terms),\n",
       "            \u001b[32m@a\u001b[39m,\n",
       "..."
      ]
     },
     "execution_count": 37,
     "metadata": {},
     "output_type": "execute_result"
    }
   ],
   "source": [
    "val m100 = iterateMap(ms, eqgs, 100)"
   ]
  },
  {
   "cell_type": "code",
   "execution_count": 38,
   "metadata": {},
   "outputs": [
    {
     "data": {
      "text/plain": [
       "\u001b[36mm200\u001b[39m: \u001b[32mMap\u001b[39m[\u001b[32mExpression\u001b[39m, \u001b[32mDouble\u001b[39m] = \u001b[33mMap\u001b[39m(\n",
       "  \u001b[33mFinalVal\u001b[39m(\u001b[33mInIsle\u001b[39m(\u001b[33mElem\u001b[39m(\u001b[32m𝒰 \u001b[39m, Typs), \u001b[32m@a\u001b[39m, \u001b[33mIsland\u001b[39m(Terms, \u001b[33mCRV\u001b[39m(Terms), \u001b[33mAddVar\u001b[39m(\u001b[32m𝒰 \u001b[39m, \u001b[32m0.3\u001b[39m), Lambda, InIsle))) -> \u001b[32m0.42\u001b[39m,\n",
       "  \u001b[33mInitialVal\u001b[39m(\n",
       "    \u001b[33mInIsle\u001b[39m(\u001b[33mElem\u001b[39m(\u001b[32m𝒰 \u001b[39m, Typs), \u001b[32m@a\u001b[39m, \u001b[33mIsland\u001b[39m(Terms, \u001b[33mCRV\u001b[39m(Terms), \u001b[33mAddVar\u001b[39m(\u001b[32m𝒰 \u001b[39m, \u001b[32m0.3\u001b[39m), Lambda, InIsle))\n",
       "  ) -> \u001b[32m0.7\u001b[39m,\n",
       "  \u001b[33mIsleScale\u001b[39m(\u001b[32m@b\u001b[39m, \u001b[33mElem\u001b[39m(\u001b[32m@b\u001b[39m, Typs)) -> \u001b[32m0.7\u001b[39m,\n",
       "  \u001b[33mIsleScale\u001b[39m(\u001b[32m@a\u001b[39m, \u001b[33mElem\u001b[39m(\u001b[32m@a\u001b[39m, Terms)) -> \u001b[32m0.7\u001b[39m,\n",
       "  \u001b[33mFinalVal\u001b[39m(\n",
       "    \u001b[33mInIsle\u001b[39m(\n",
       "      \u001b[33mInIsle\u001b[39m(\n",
       "        \u001b[33mElem\u001b[39m(\u001b[32m(@a → ((@a → @b) → @b))\u001b[39m, TargetTyps),\n",
       "        \u001b[32m@b\u001b[39m,\n",
       "        \u001b[33mIsland\u001b[39m(Terms, \u001b[33mCRV\u001b[39m(Terms), \u001b[33mAddVar\u001b[39m(\u001b[32m𝒰 \u001b[39m, \u001b[32m0.3\u001b[39m), Lambda, InIsle)\n",
       "      ),\n",
       "      \u001b[32m@a\u001b[39m,\n",
       "      \u001b[33mIsland\u001b[39m(Terms, \u001b[33mCRV\u001b[39m(Terms), \u001b[33mAddVar\u001b[39m(\u001b[32m𝒰 \u001b[39m, \u001b[32m0.3\u001b[39m), Lambda, InIsle)\n",
       "    )\n",
       "  ) -> \u001b[32m0.147\u001b[39m,\n",
       "  \u001b[33mInitialVal\u001b[39m(\n",
       "    \u001b[33mInIsle\u001b[39m(\n",
       "      \u001b[33mElem\u001b[39m(\u001b[32m𝒰 \u001b[39m, Typs),\n",
       "      \u001b[32m(@a_1 , @a_2)\u001b[39m,\n",
       "      \u001b[33mIsland\u001b[39m(Typs, \u001b[33mCRV\u001b[39m(Typs), \u001b[33mAddVar\u001b[39m(\u001b[32m∑(@a : { @a }\u001b[39m, \u001b[32m0.3\u001b[39m), Pi, InIsle)\n",
       "    )\n",
       "  ) -> \u001b[32m0.7\u001b[39m,\n",
       "  \u001b[33mFinalVal\u001b[39m(\n",
       "    \u001b[33mInIsle\u001b[39m(\n",
       "      \u001b[33mElem\u001b[39m(\u001b[32m𝒰 \u001b[39m, Typs),\n",
       "      \u001b[32m(@a_1 , @a_2)\u001b[39m,\n",
       "      \u001b[33mIsland\u001b[39m(Typs, \u001b[33mCRV\u001b[39m(Typs), \u001b[33mAddVar\u001b[39m(\u001b[32m∑(@a : { @a }\u001b[39m, \u001b[32m0.3\u001b[39m), Pi, InIsle)\n",
       "    )\n",
       "  ) -> \u001b[32m0.42\u001b[39m,\n",
       "  \u001b[33mInitialVal\u001b[39m(\u001b[33mElem\u001b[39m(\u001b[32m@a\u001b[39m, Terms)) -> \u001b[32m0.4285714285714286\u001b[39m,\n",
       "  \u001b[33mFinalVal\u001b[39m(\n",
       "    \u001b[33mInIsle\u001b[39m(\n",
       "      \u001b[33mElem\u001b[39m(\u001b[32m∏(@b : 𝒰 ){ @b }\u001b[39m, Typs),\n",
       "      \u001b[32m@a\u001b[39m,\n",
       "      \u001b[33mIsland\u001b[39m(Terms, \u001b[33mCRV\u001b[39m(Terms), \u001b[33mAddVar\u001b[39m(\u001b[32m𝒰 \u001b[39m, \u001b[32m0.3\u001b[39m), Lambda, InIsle)\n",
       "    )\n",
       "  ) -> \u001b[32m0.013152400835073068\u001b[39m,\n",
       "  \u001b[33mFinalVal\u001b[39m(\u001b[33mElem\u001b[39m(\u001b[32m((__1 , __2) : 𝒰 ×(𝒰  → 𝒰 )) ↦ 𝒰 \u001b[39m, Terms)) -> \u001b[32m0.03850609129352404\u001b[39m,\n",
       "  \u001b[33mFinalVal\u001b[39m(\n",
       "    \u001b[33mInIsle\u001b[39m(\n",
       "      \u001b[33mInIsle\u001b[39m(\n",
       "        \u001b[33mInIsle\u001b[39m(\n",
       "          \u001b[33mInIsle\u001b[39m(\n",
       "            \u001b[33mElem\u001b[39m(\u001b[32m@b\u001b[39m, Terms),\n",
       "            \u001b[32m@a\u001b[39m,\n",
       "..."
      ]
     },
     "execution_count": 38,
     "metadata": {},
     "output_type": "execute_result"
    }
   ],
   "source": [
    "val m200 = iterateMap(m100, eqgs, 100)"
   ]
  },
  {
   "cell_type": "code",
   "execution_count": 39,
   "metadata": {},
   "outputs": [
    {
     "data": {
      "text/plain": [
       "\u001b[36mres38\u001b[39m: \u001b[32mDouble\u001b[39m = \u001b[32m1.0000000000000013\u001b[39m"
      ]
     },
     "execution_count": 39,
     "metadata": {},
     "output_type": "execute_result"
    }
   ],
   "source": [
    "mapRatio(m100, m200)"
   ]
  },
  {
   "cell_type": "code",
   "execution_count": 40,
   "metadata": {},
   "outputs": [
    {
     "data": {
      "text/plain": [
       "\u001b[36mm201\u001b[39m: \u001b[32mMap\u001b[39m[\u001b[32mExpression\u001b[39m, \u001b[32mDouble\u001b[39m] = \u001b[33mMap\u001b[39m(\n",
       "  \u001b[33mFinalVal\u001b[39m(\u001b[33mInIsle\u001b[39m(\u001b[33mElem\u001b[39m(\u001b[32m𝒰 \u001b[39m, Typs), \u001b[32m@a\u001b[39m, \u001b[33mIsland\u001b[39m(Terms, \u001b[33mCRV\u001b[39m(Terms), \u001b[33mAddVar\u001b[39m(\u001b[32m𝒰 \u001b[39m, \u001b[32m0.3\u001b[39m), Lambda, InIsle))) -> \u001b[32m0.42\u001b[39m,\n",
       "  \u001b[33mInitialVal\u001b[39m(\n",
       "    \u001b[33mInIsle\u001b[39m(\u001b[33mElem\u001b[39m(\u001b[32m𝒰 \u001b[39m, Typs), \u001b[32m@a\u001b[39m, \u001b[33mIsland\u001b[39m(Terms, \u001b[33mCRV\u001b[39m(Terms), \u001b[33mAddVar\u001b[39m(\u001b[32m𝒰 \u001b[39m, \u001b[32m0.3\u001b[39m), Lambda, InIsle))\n",
       "  ) -> \u001b[32m0.7\u001b[39m,\n",
       "  \u001b[33mIsleScale\u001b[39m(\u001b[32m@b\u001b[39m, \u001b[33mElem\u001b[39m(\u001b[32m@b\u001b[39m, Typs)) -> \u001b[32m0.7\u001b[39m,\n",
       "  \u001b[33mIsleScale\u001b[39m(\u001b[32m@a\u001b[39m, \u001b[33mElem\u001b[39m(\u001b[32m@a\u001b[39m, Terms)) -> \u001b[32m0.7\u001b[39m,\n",
       "  \u001b[33mFinalVal\u001b[39m(\n",
       "    \u001b[33mInIsle\u001b[39m(\n",
       "      \u001b[33mInIsle\u001b[39m(\n",
       "        \u001b[33mElem\u001b[39m(\u001b[32m(@a → ((@a → @b) → @b))\u001b[39m, TargetTyps),\n",
       "        \u001b[32m@b\u001b[39m,\n",
       "        \u001b[33mIsland\u001b[39m(Terms, \u001b[33mCRV\u001b[39m(Terms), \u001b[33mAddVar\u001b[39m(\u001b[32m𝒰 \u001b[39m, \u001b[32m0.3\u001b[39m), Lambda, InIsle)\n",
       "      ),\n",
       "      \u001b[32m@a\u001b[39m,\n",
       "      \u001b[33mIsland\u001b[39m(Terms, \u001b[33mCRV\u001b[39m(Terms), \u001b[33mAddVar\u001b[39m(\u001b[32m𝒰 \u001b[39m, \u001b[32m0.3\u001b[39m), Lambda, InIsle)\n",
       "    )\n",
       "  ) -> \u001b[32m0.147\u001b[39m,\n",
       "  \u001b[33mInitialVal\u001b[39m(\n",
       "    \u001b[33mInIsle\u001b[39m(\n",
       "      \u001b[33mElem\u001b[39m(\u001b[32m𝒰 \u001b[39m, Typs),\n",
       "      \u001b[32m(@a_1 , @a_2)\u001b[39m,\n",
       "      \u001b[33mIsland\u001b[39m(Typs, \u001b[33mCRV\u001b[39m(Typs), \u001b[33mAddVar\u001b[39m(\u001b[32m∑(@a : { @a }\u001b[39m, \u001b[32m0.3\u001b[39m), Pi, InIsle)\n",
       "    )\n",
       "  ) -> \u001b[32m0.7\u001b[39m,\n",
       "  \u001b[33mFinalVal\u001b[39m(\n",
       "    \u001b[33mInIsle\u001b[39m(\n",
       "      \u001b[33mElem\u001b[39m(\u001b[32m𝒰 \u001b[39m, Typs),\n",
       "      \u001b[32m(@a_1 , @a_2)\u001b[39m,\n",
       "      \u001b[33mIsland\u001b[39m(Typs, \u001b[33mCRV\u001b[39m(Typs), \u001b[33mAddVar\u001b[39m(\u001b[32m∑(@a : { @a }\u001b[39m, \u001b[32m0.3\u001b[39m), Pi, InIsle)\n",
       "    )\n",
       "  ) -> \u001b[32m0.42\u001b[39m,\n",
       "  \u001b[33mInitialVal\u001b[39m(\u001b[33mElem\u001b[39m(\u001b[32m@a\u001b[39m, Terms)) -> \u001b[32m0.4285714285714286\u001b[39m,\n",
       "  \u001b[33mFinalVal\u001b[39m(\n",
       "    \u001b[33mInIsle\u001b[39m(\n",
       "      \u001b[33mElem\u001b[39m(\u001b[32m∏(@b : 𝒰 ){ @b }\u001b[39m, Typs),\n",
       "      \u001b[32m@a\u001b[39m,\n",
       "      \u001b[33mIsland\u001b[39m(Terms, \u001b[33mCRV\u001b[39m(Terms), \u001b[33mAddVar\u001b[39m(\u001b[32m𝒰 \u001b[39m, \u001b[32m0.3\u001b[39m), Lambda, InIsle)\n",
       "    )\n",
       "  ) -> \u001b[32m0.013152400835073068\u001b[39m,\n",
       "  \u001b[33mFinalVal\u001b[39m(\u001b[33mElem\u001b[39m(\u001b[32m((__1 , __2) : 𝒰 ×(𝒰  → 𝒰 )) ↦ 𝒰 \u001b[39m, Terms)) -> \u001b[32m0.03850609129352404\u001b[39m,\n",
       "  \u001b[33mFinalVal\u001b[39m(\n",
       "    \u001b[33mInIsle\u001b[39m(\n",
       "      \u001b[33mInIsle\u001b[39m(\n",
       "        \u001b[33mInIsle\u001b[39m(\n",
       "          \u001b[33mInIsle\u001b[39m(\n",
       "            \u001b[33mElem\u001b[39m(\u001b[32m@b\u001b[39m, Terms),\n",
       "            \u001b[32m@a\u001b[39m,\n",
       "..."
      ]
     },
     "execution_count": 40,
     "metadata": {},
     "output_type": "execute_result"
    }
   ],
   "source": [
    "val m201 = nextMap(m200, eqgs) "
   ]
  },
  {
   "cell_type": "code",
   "execution_count": 46,
   "metadata": {},
   "outputs": [
    {
     "data": {
      "text/plain": [
       "\u001b[36mres45\u001b[39m: \u001b[32mMap\u001b[39m[\u001b[32mExpression\u001b[39m, \u001b[32mDouble\u001b[39m] = \u001b[33mMap\u001b[39m(\n",
       "  \u001b[33mFinalVal\u001b[39m(\u001b[33mInIsle\u001b[39m(\u001b[33mElem\u001b[39m(\u001b[32m𝒰 \u001b[39m, Typs), \u001b[32m@a\u001b[39m, \u001b[33mIsland\u001b[39m(Terms, \u001b[33mCRV\u001b[39m(Terms), \u001b[33mAddVar\u001b[39m(\u001b[32m𝒰 \u001b[39m, \u001b[32m0.3\u001b[39m), Lambda, InIsle))) -> \u001b[32m0.42\u001b[39m,\n",
       "  \u001b[33mInitialVal\u001b[39m(\n",
       "    \u001b[33mInIsle\u001b[39m(\u001b[33mElem\u001b[39m(\u001b[32m𝒰 \u001b[39m, Typs), \u001b[32m@a\u001b[39m, \u001b[33mIsland\u001b[39m(Terms, \u001b[33mCRV\u001b[39m(Terms), \u001b[33mAddVar\u001b[39m(\u001b[32m𝒰 \u001b[39m, \u001b[32m0.3\u001b[39m), Lambda, InIsle))\n",
       "  ) -> \u001b[32m0.7\u001b[39m,\n",
       "  \u001b[33mIsleScale\u001b[39m(\u001b[32m@b\u001b[39m, \u001b[33mElem\u001b[39m(\u001b[32m@b\u001b[39m, Typs)) -> \u001b[32m0.7\u001b[39m,\n",
       "  \u001b[33mIsleScale\u001b[39m(\u001b[32m@a\u001b[39m, \u001b[33mElem\u001b[39m(\u001b[32m@a\u001b[39m, Terms)) -> \u001b[32m0.7\u001b[39m,\n",
       "  \u001b[33mFinalVal\u001b[39m(\n",
       "    \u001b[33mInIsle\u001b[39m(\n",
       "      \u001b[33mInIsle\u001b[39m(\n",
       "        \u001b[33mElem\u001b[39m(\u001b[32m(@a → ((@a → @b) → @b))\u001b[39m, TargetTyps),\n",
       "        \u001b[32m@b\u001b[39m,\n",
       "        \u001b[33mIsland\u001b[39m(Terms, \u001b[33mCRV\u001b[39m(Terms), \u001b[33mAddVar\u001b[39m(\u001b[32m𝒰 \u001b[39m, \u001b[32m0.3\u001b[39m), Lambda, InIsle)\n",
       "      ),\n",
       "      \u001b[32m@a\u001b[39m,\n",
       "      \u001b[33mIsland\u001b[39m(Terms, \u001b[33mCRV\u001b[39m(Terms), \u001b[33mAddVar\u001b[39m(\u001b[32m𝒰 \u001b[39m, \u001b[32m0.3\u001b[39m), Lambda, InIsle)\n",
       "    )\n",
       "  ) -> \u001b[32m0.147\u001b[39m,\n",
       "  \u001b[33mInitialVal\u001b[39m(\n",
       "    \u001b[33mInIsle\u001b[39m(\n",
       "      \u001b[33mElem\u001b[39m(\u001b[32m𝒰 \u001b[39m, Typs),\n",
       "      \u001b[32m(@a_1 , @a_2)\u001b[39m,\n",
       "      \u001b[33mIsland\u001b[39m(Typs, \u001b[33mCRV\u001b[39m(Typs), \u001b[33mAddVar\u001b[39m(\u001b[32m∑(@a : { @a }\u001b[39m, \u001b[32m0.3\u001b[39m), Pi, InIsle)\n",
       "    )\n",
       "  ) -> \u001b[32m0.7\u001b[39m,\n",
       "  \u001b[33mFinalVal\u001b[39m(\n",
       "    \u001b[33mInIsle\u001b[39m(\n",
       "      \u001b[33mElem\u001b[39m(\u001b[32m𝒰 \u001b[39m, Typs),\n",
       "      \u001b[32m(@a_1 , @a_2)\u001b[39m,\n",
       "      \u001b[33mIsland\u001b[39m(Typs, \u001b[33mCRV\u001b[39m(Typs), \u001b[33mAddVar\u001b[39m(\u001b[32m∑(@a : { @a }\u001b[39m, \u001b[32m0.3\u001b[39m), Pi, InIsle)\n",
       "    )\n",
       "  ) -> \u001b[32m0.42\u001b[39m,\n",
       "  \u001b[33mInitialVal\u001b[39m(\u001b[33mElem\u001b[39m(\u001b[32m@a\u001b[39m, Terms)) -> \u001b[32m0.4285714285714286\u001b[39m,\n",
       "  \u001b[33mFinalVal\u001b[39m(\n",
       "    \u001b[33mInIsle\u001b[39m(\n",
       "      \u001b[33mElem\u001b[39m(\u001b[32m∏(@b : 𝒰 ){ @b }\u001b[39m, Typs),\n",
       "      \u001b[32m@a\u001b[39m,\n",
       "      \u001b[33mIsland\u001b[39m(Terms, \u001b[33mCRV\u001b[39m(Terms), \u001b[33mAddVar\u001b[39m(\u001b[32m𝒰 \u001b[39m, \u001b[32m0.3\u001b[39m), Lambda, InIsle)\n",
       "    )\n",
       "  ) -> \u001b[32m0.013152400788112117\u001b[39m,\n",
       "  \u001b[33mFinalVal\u001b[39m(\u001b[33mElem\u001b[39m(\u001b[32m((__1 , __2) : 𝒰 ×(𝒰  → 𝒰 )) ↦ 𝒰 \u001b[39m, Terms)) -> \u001b[32m0.03850609128852615\u001b[39m,\n",
       "  \u001b[33mFinalVal\u001b[39m(\n",
       "    \u001b[33mInIsle\u001b[39m(\n",
       "      \u001b[33mInIsle\u001b[39m(\n",
       "        \u001b[33mInIsle\u001b[39m(\n",
       "          \u001b[33mInIsle\u001b[39m(\n",
       "            \u001b[33mElem\u001b[39m(\u001b[32m@b\u001b[39m, Terms),\n",
       "            \u001b[32m@a\u001b[39m,\n",
       "..."
      ]
     },
     "execution_count": 46,
     "metadata": {},
     "output_type": "execute_result"
    }
   ],
   "source": [
    "stableMap(init, eqgs)"
   ]
  },
  {
   "cell_type": "code",
   "execution_count": null,
   "metadata": {},
   "outputs": [],
   "source": []
  },
  {
   "cell_type": "code",
   "execution_count": null,
   "metadata": {},
   "outputs": [],
   "source": []
  },
  {
   "cell_type": "code",
   "execution_count": null,
   "metadata": {},
   "outputs": [],
   "source": []
  }
 ],
 "metadata": {
  "kernelspec": {
   "display_name": "Scala",
   "language": "scala",
   "name": "scala"
  },
  "language_info": {
   "codemirror_mode": "text/x-scala",
   "file_extension": ".scala",
   "mimetype": "text/x-scala",
   "name": "scala",
   "nbconvert_exporter": "script",
   "version": "2.12.8"
  }
 },
 "nbformat": 4,
 "nbformat_minor": 2
}
