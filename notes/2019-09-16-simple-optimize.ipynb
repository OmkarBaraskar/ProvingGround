{
 "cells": [
  {
   "cell_type": "markdown",
   "metadata": {},
   "source": [
    "## Simple optimization\n",
    "\n",
    "This is to test and illustrate a very basic case of optimization, with types $A$ and $B$, a term $a : A$ and a function $f: A \\to B$. We have $f(a)$ as a generator initially, but this should drop out if we have high weight for entropy."
   ]
  },
  {
   "cell_type": "code",
   "execution_count": 1,
   "metadata": {},
   "outputs": [
    {
     "data": {
      "text/plain": [
       "\u001b[32mimport \u001b[39m\u001b[36m$cp.$                                           \u001b[39m"
      ]
     },
     "execution_count": 1,
     "metadata": {},
     "output_type": "execute_result"
    }
   ],
   "source": [
    "import $cp.bin.`provingground-core-jvm-4d3ce04.fat.jar`"
   ]
  },
  {
   "cell_type": "code",
   "execution_count": 2,
   "metadata": {},
   "outputs": [
    {
     "data": {
      "text/plain": [
       "\u001b[32mimport \u001b[39m\u001b[36mprovingground._ , interface._, HoTT._, learning._ \u001b[39m"
      ]
     },
     "execution_count": 2,
     "metadata": {},
     "output_type": "execute_result"
    }
   ],
   "source": [
    "import provingground._ , interface._, HoTT._, learning._ "
   ]
  },
  {
   "cell_type": "code",
   "execution_count": 3,
   "metadata": {},
   "outputs": [],
   "source": [
    "repl.pprinter() = {\n",
    "  val p = repl.pprinter()\n",
    "  p.copy(\n",
    "    additionalHandlers = p.additionalHandlers.orElse {\n",
    "      translation.FansiShow.fansiHandler\n",
    "    }\n",
    "  )\n",
    "}"
   ]
  },
  {
   "cell_type": "code",
   "execution_count": 4,
   "metadata": {},
   "outputs": [
    {
     "data": {
      "text/plain": [
       "\u001b[36mA\u001b[39m: \u001b[32mTyp\u001b[39m[\u001b[32mTerm\u001b[39m] = \u001b[32mA\u001b[39m\n",
       "\u001b[36mB\u001b[39m: \u001b[32mTyp\u001b[39m[\u001b[32mTerm\u001b[39m] = \u001b[32mB\u001b[39m\n",
       "\u001b[36ma\u001b[39m: \u001b[32mTerm\u001b[39m = \u001b[32ma\u001b[39m\n",
       "\u001b[36mf\u001b[39m: \u001b[32mFunc\u001b[39m[\u001b[32mTerm\u001b[39m, \u001b[32mTerm\u001b[39m] = \u001b[32mf\u001b[39m"
      ]
     },
     "execution_count": 4,
     "metadata": {},
     "output_type": "execute_result"
    }
   ],
   "source": [
    "val A = \"A\" :: Type\n",
    "val B = \"B\" :: Type\n",
    "val a = \"a\" :: A\n",
    "val f = \"f\"  :: (A ->: B)"
   ]
  },
  {
   "cell_type": "code",
   "execution_count": 5,
   "metadata": {},
   "outputs": [
    {
     "data": {
      "text/plain": [
       "\u001b[36mts\u001b[39m: \u001b[32mTermState\u001b[39m = \u001b[33mTermState\u001b[39m(\n",
       "  \u001b[33mFiniteDistribution\u001b[39m(\n",
       "    \u001b[33mVector\u001b[39m(\n",
       "      \u001b[33mWeighted\u001b[39m(\u001b[32ma\u001b[39m, \u001b[32m0.3333333333333333\u001b[39m),\n",
       "      \u001b[33mWeighted\u001b[39m(\u001b[32mf\u001b[39m, \u001b[32m0.3333333333333333\u001b[39m),\n",
       "      \u001b[33mWeighted\u001b[39m(\u001b[32mf(a)\u001b[39m, \u001b[32m0.3333333333333333\u001b[39m)\n",
       "    )\n",
       "  ),\n",
       "  \u001b[33mFiniteDistribution\u001b[39m(\u001b[33mVector\u001b[39m(\u001b[33mWeighted\u001b[39m(\u001b[32mA\u001b[39m, \u001b[32m0.5\u001b[39m), \u001b[33mWeighted\u001b[39m(\u001b[32mB\u001b[39m, \u001b[32m0.5\u001b[39m))),\n",
       "  \u001b[33mVector\u001b[39m(),\n",
       "  \u001b[33mFiniteDistribution\u001b[39m(\u001b[33mVector\u001b[39m()),\n",
       "  \u001b[33mFiniteDistribution\u001b[39m(\u001b[33mVector\u001b[39m()),\n",
       "  Empty\n",
       ")"
      ]
     },
     "execution_count": 5,
     "metadata": {},
     "output_type": "execute_result"
    }
   ],
   "source": [
    "val ts = TermState(FiniteDistribution.unif(a, f, f(a)), FiniteDistribution.unif(A, B))"
   ]
  },
  {
   "cell_type": "code",
   "execution_count": 6,
   "metadata": {},
   "outputs": [
    {
     "data": {
      "text/plain": [
       "\u001b[36mlp\u001b[39m: \u001b[32mLocalProver\u001b[39m = \u001b[33mLocalProver\u001b[39m(\n",
       "  \u001b[33mTermState\u001b[39m(\n",
       "    \u001b[33mFiniteDistribution\u001b[39m(\n",
       "      \u001b[33mVector\u001b[39m(\n",
       "        \u001b[33mWeighted\u001b[39m(\u001b[32ma\u001b[39m, \u001b[32m0.3333333333333333\u001b[39m),\n",
       "        \u001b[33mWeighted\u001b[39m(\u001b[32mf\u001b[39m, \u001b[32m0.3333333333333333\u001b[39m),\n",
       "        \u001b[33mWeighted\u001b[39m(\u001b[32mf(a)\u001b[39m, \u001b[32m0.3333333333333333\u001b[39m)\n",
       "      )\n",
       "    ),\n",
       "    \u001b[33mFiniteDistribution\u001b[39m(\u001b[33mVector\u001b[39m(\u001b[33mWeighted\u001b[39m(\u001b[32mA\u001b[39m, \u001b[32m0.5\u001b[39m), \u001b[33mWeighted\u001b[39m(\u001b[32mB\u001b[39m, \u001b[32m0.5\u001b[39m))),\n",
       "    \u001b[33mVector\u001b[39m(),\n",
       "    \u001b[33mFiniteDistribution\u001b[39m(\u001b[33mVector\u001b[39m()),\n",
       "    \u001b[33mFiniteDistribution\u001b[39m(\u001b[33mVector\u001b[39m()),\n",
       "    Empty\n",
       "  ),\n",
       "  \u001b[33mTermGenParams\u001b[39m(\n",
       "    \u001b[32m0.1\u001b[39m,\n",
       "    \u001b[32m0.1\u001b[39m,\n",
       "    \u001b[32m0.1\u001b[39m,\n",
       "    \u001b[32m0.0\u001b[39m,\n",
       "    \u001b[32m0.0\u001b[39m,\n",
       "    \u001b[32m0.05\u001b[39m,\n",
       "    \u001b[32m0.05\u001b[39m,\n",
       "    \u001b[32m0.0\u001b[39m,\n",
       "    \u001b[32m0.0\u001b[39m,\n",
       "    \u001b[32m0.0\u001b[39m,\n",
       "    \u001b[32m0.0\u001b[39m,\n",
       "    \u001b[32m0.0\u001b[39m,\n",
       "    \u001b[32m0.3\u001b[39m,\n",
       "    \u001b[32m0.7\u001b[39m,\n",
       "    \u001b[32m0.5\u001b[39m,\n",
       "    \u001b[32m0.0\u001b[39m,\n",
       "    \u001b[32m0.0\u001b[39m,\n",
       "    \u001b[32m0.0\u001b[39m\n",
       "  ),\n",
       "  \u001b[32m1.0E-4\u001b[39m,\n",
       "  12 minutes,\n",
       "  \u001b[32m1.01\u001b[39m,\n",
       "  \u001b[32m1.0\u001b[39m,\n",
       "..."
      ]
     },
     "execution_count": 6,
     "metadata": {},
     "output_type": "execute_result"
    }
   ],
   "source": [
    "val lp = LocalProver(ts).noIsles"
   ]
  },
  {
   "cell_type": "code",
   "execution_count": 7,
   "metadata": {},
   "outputs": [
    {
     "data": {
      "text/plain": [
       "\u001b[36mtunedT\u001b[39m: \u001b[32mmonix\u001b[39m.\u001b[32meval\u001b[39m.\u001b[32mTask\u001b[39m[\u001b[32mFiniteDistribution\u001b[39m[\u001b[32mTerm\u001b[39m]] = \u001b[33mMap\u001b[39m(\n",
       "  \u001b[33mSuspend\u001b[39m(\n",
       "    monix.tail.internal.IterantFoldLeftL$$$Lambda$2587/1046500047@6baca90b\n",
       "  ),\n",
       "  provingground.learning.LocalProverStep$$Lambda$2588/322700629@53fe9479,\n",
       "  \u001b[32m0\u001b[39m\n",
       ")"
      ]
     },
     "execution_count": 7,
     "metadata": {},
     "output_type": "execute_result"
    }
   ],
   "source": [
    "val tunedT = lp.tunedGenerators"
   ]
  },
  {
   "cell_type": "code",
   "execution_count": 8,
   "metadata": {},
   "outputs": [
    {
     "data": {
      "text/html": [
       "<div class=\"jp-RenderedText\">\n",
       "<pre><code><span style=\"color: rgb(0, 187, 0)\"><span class=\"ansi-green-fg\">import </span></span><span style=\"color: rgb(0, 187, 187)\"><span class=\"ansi-cyan-fg\">monix.execution.Scheduler.Implicits.global\n",
       "</span></span>\n",
       "<span style=\"color: rgb(0, 187, 187)\"><span class=\"ansi-cyan-fg\">tunedF</span></span>: <span style=\"color: rgb(0, 187, 0)\"><span class=\"ansi-green-fg\">monix</span></span>.<span style=\"color: rgb(0, 187, 0)\"><span class=\"ansi-green-fg\">execution</span></span>.<span style=\"color: rgb(0, 187, 0)\"><span class=\"ansi-green-fg\">CancelableFuture</span></span>[<span style=\"color: rgb(0, 187, 0)\"><span class=\"ansi-green-fg\">FiniteDistribution</span></span>[<span style=\"color: rgb(0, 187, 0)\"><span class=\"ansi-green-fg\">Term</span></span>]] = <span style=\"color: rgb(0, 187, 0)\"><span class=\"ansi-green-fg\"><style>@keyframes fadein { from { opacity: 0; } to { opacity: 1; } }</style><span style=\"animation: fadein 2s;\"><span style=\"color: yellow\"><span class=\"ansi-yellow-fg\">Success</span></span>(<span style=\"color: yellow\"><span class=\"ansi-yellow-fg\">FiniteDistribution</span></span>(<span style=\"color: yellow\"><span class=\"ansi-yellow-fg\">Vector</span></span>(<span style=\"color: yellow\"><span class=\"ansi-yellow-fg\">Weighted</span></span>(<span style=\"color: rgb(0, 187, 0)\"><span class=\"ansi-green-fg\">a</span></span>, <span style=\"color: rgb(0, 187, 0)\"><span class=\"ansi-green-fg\">1.0</span></span>))))</span></span></span></code></pre>\n",
       "</div>"
      ],
      "text/plain": [
       "\u001b[32mimport \u001b[39m\u001b[36mmonix.execution.Scheduler.Implicits.global\n",
       "\u001b[39m\n",
       "\u001b[36mtunedF\u001b[39m: \u001b[32mmonix\u001b[39m.\u001b[32mexecution\u001b[39m.\u001b[32mCancelableFuture\u001b[39m[\u001b[32mFiniteDistribution\u001b[39m[\u001b[32mTerm\u001b[39m]] = \u001b[32m\u001b[33mSuccess\u001b[39m(\u001b[33mFiniteDistribution\u001b[39m(\u001b[33mVector\u001b[39m(\u001b[33mWeighted\u001b[39m(\u001b[32ma\u001b[39m, \u001b[32m1.0\u001b[39m))))\u001b[39m"
      ]
     },
     "metadata": {},
     "output_type": "display_data"
    }
   ],
   "source": [
    "import monix.execution.Scheduler.Implicits.global\n",
    "val tunedF = tunedT.runToFuture"
   ]
  },
  {
   "cell_type": "code",
   "execution_count": 9,
   "metadata": {},
   "outputs": [
    {
     "data": {
      "text/html": [
       "<div class=\"jp-RenderedText\">\n",
       "<pre><code><span style=\"color: rgb(0, 187, 187)\"><span class=\"ansi-cyan-fg\">res8</span></span>: <span style=\"color: rgb(0, 187, 0)\"><span class=\"ansi-green-fg\">monix</span></span>.<span style=\"color: rgb(0, 187, 0)\"><span class=\"ansi-green-fg\">execution</span></span>.<span style=\"color: rgb(0, 187, 0)\"><span class=\"ansi-green-fg\">CancelableFuture</span></span>[<span style=\"color: rgb(0, 187, 0)\"><span class=\"ansi-green-fg\">TermState</span></span>] = <span style=\"color: rgb(0, 187, 0)\"><span class=\"ansi-green-fg\"><style>@keyframes fadein { from { opacity: 0; } to { opacity: 1; } }</style><span style=\"animation: fadein 2s;\"><span style=\"color: yellow\"><span class=\"ansi-yellow-fg\">Success</span></span>(\n",
       "  <span style=\"color: yellow\"><span class=\"ansi-yellow-fg\">TermState</span></span>(\n",
       "    <span style=\"color: yellow\"><span class=\"ansi-yellow-fg\">FiniteDistribution</span></span>(\n",
       "      <span style=\"color: yellow\"><span class=\"ansi-yellow-fg\">Vector</span></span>(\n",
       "        <span style=\"color: yellow\"><span class=\"ansi-yellow-fg\">Weighted</span></span>(<span style=\"color: rgb(0, 187, 0)\"><span class=\"ansi-green-fg\">f(a)</span></span>, <span style=\"color: rgb(0, 187, 0)\"><span class=\"ansi-green-fg\">0.5051141267422002</span></span>),\n",
       "        <span style=\"color: yellow\"><span class=\"ansi-yellow-fg\">Weighted</span></span>(<span style=\"color: rgb(0, 187, 0)\"><span class=\"ansi-green-fg\">a</span></span>, <span style=\"color: rgb(0, 187, 0)\"><span class=\"ansi-green-fg\">0.26093982408138533</span></span>),\n",
       "        <span style=\"color: yellow\"><span class=\"ansi-yellow-fg\">Weighted</span></span>(<span style=\"color: rgb(0, 187, 0)\"><span class=\"ansi-green-fg\">f</span></span>, <span style=\"color: rgb(0, 187, 0)\"><span class=\"ansi-green-fg\">0.23394604917641446</span></span>)\n",
       "      )\n",
       "    ),\n",
       "    <span style=\"color: yellow\"><span class=\"ansi-yellow-fg\">FiniteDistribution</span></span>(<span style=\"color: yellow\"><span class=\"ansi-yellow-fg\">Vector</span></span>(<span style=\"color: yellow\"><span class=\"ansi-yellow-fg\">Weighted</span></span>(<span style=\"color: rgb(0, 187, 0)\"><span class=\"ansi-green-fg\">A</span></span>, <span style=\"color: rgb(0, 187, 0)\"><span class=\"ansi-green-fg\">0.5</span></span>), <span style=\"color: yellow\"><span class=\"ansi-yellow-fg\">Weighted</span></span>(<span style=\"color: rgb(0, 187, 0)\"><span class=\"ansi-green-fg\">B</span></span>, <span style=\"color: rgb(0, 187, 0)\"><span class=\"ansi-green-fg\">0.5</span></span>))),\n",
       "    <span style=\"color: yellow\"><span class=\"ansi-yellow-fg\">Vector</span></span>(),\n",
       "    <span style=\"color: yellow\"><span class=\"ansi-yellow-fg\">FiniteDistribution</span></span>(<span style=\"color: yellow\"><span class=\"ansi-yellow-fg\">Vector</span></span>()),\n",
       "    <span style=\"color: yellow\"><span class=\"ansi-yellow-fg\">FiniteDistribution</span></span>(<span style=\"color: yellow\"><span class=\"ansi-yellow-fg\">Vector</span></span>()),\n",
       "    Empty\n",
       "  )\n",
       ")</span></span></span></code></pre>\n",
       "</div>"
      ],
      "text/plain": [
       "\u001b[36mres8\u001b[39m: \u001b[32mmonix\u001b[39m.\u001b[32mexecution\u001b[39m.\u001b[32mCancelableFuture\u001b[39m[\u001b[32mTermState\u001b[39m] = \u001b[32m\u001b[33mSuccess\u001b[39m(\n",
       "  \u001b[33mTermState\u001b[39m(\n",
       "    \u001b[33mFiniteDistribution\u001b[39m(\n",
       "      \u001b[33mVector\u001b[39m(\n",
       "        \u001b[33mWeighted\u001b[39m(\u001b[32mf(a)\u001b[39m, \u001b[32m0.5051141267422002\u001b[39m),\n",
       "        \u001b[33mWeighted\u001b[39m(\u001b[32ma\u001b[39m, \u001b[32m0.26093982408138533\u001b[39m),\n",
       "        \u001b[33mWeighted\u001b[39m(\u001b[32mf\u001b[39m, \u001b[32m0.23394604917641446\u001b[39m)\n",
       "      )\n",
       "    ),\n",
       "    \u001b[33mFiniteDistribution\u001b[39m(\u001b[33mVector\u001b[39m(\u001b[33mWeighted\u001b[39m(\u001b[32mA\u001b[39m, \u001b[32m0.5\u001b[39m), \u001b[33mWeighted\u001b[39m(\u001b[32mB\u001b[39m, \u001b[32m0.5\u001b[39m))),\n",
       "    \u001b[33mVector\u001b[39m(),\n",
       "    \u001b[33mFiniteDistribution\u001b[39m(\u001b[33mVector\u001b[39m()),\n",
       "    \u001b[33mFiniteDistribution\u001b[39m(\u001b[33mVector\u001b[39m()),\n",
       "    Empty\n",
       "  )\n",
       ")\u001b[39m"
      ]
     },
     "metadata": {},
     "output_type": "display_data"
    }
   ],
   "source": [
    "lp.nextState.runToFuture"
   ]
  },
  {
   "cell_type": "code",
   "execution_count": 10,
   "metadata": {},
   "outputs": [
    {
     "data": {
      "text/html": [
       "<div class=\"jp-RenderedText\">\n",
       "<pre><code><span style=\"color: rgb(0, 187, 187)\"><span class=\"ansi-cyan-fg\">res9</span></span>: <span style=\"color: rgb(0, 187, 0)\"><span class=\"ansi-green-fg\">monix</span></span>.<span style=\"color: rgb(0, 187, 0)\"><span class=\"ansi-green-fg\">execution</span></span>.<span style=\"color: rgb(0, 187, 0)\"><span class=\"ansi-green-fg\">CancelableFuture</span></span>[<span style=\"color: rgb(0, 187, 0)\"><span class=\"ansi-green-fg\">Expression</span></span>] = <span style=\"color: rgb(0, 187, 0)\"><span class=\"ansi-green-fg\"><style>@keyframes fadein { from { opacity: 0; } to { opacity: 1; } }</style><span style=\"animation: fadein 2s;\"><span style=\"color: yellow\"><span class=\"ansi-yellow-fg\">Success</span></span>(\n",
       "  <span style=\"color: yellow\"><span class=\"ansi-yellow-fg\">Sum</span></span>(\n",
       "    <span style=\"color: yellow\"><span class=\"ansi-yellow-fg\">Product</span></span>(\n",
       "      <span style=\"color: yellow\"><span class=\"ansi-yellow-fg\">Sum</span></span>(\n",
       "        <span style=\"color: yellow\"><span class=\"ansi-yellow-fg\">Sum</span></span>(\n",
       "          <span style=\"color: yellow\"><span class=\"ansi-yellow-fg\">Product</span></span>(\n",
       "            <span style=\"color: yellow\"><span class=\"ansi-yellow-fg\">Product</span></span>(<span style=\"color: yellow\"><span class=\"ansi-yellow-fg\">InitialVal</span></span>(<span style=\"color: yellow\"><span class=\"ansi-yellow-fg\">Elem</span></span>(<span style=\"color: rgb(0, 187, 0)\"><span class=\"ansi-green-fg\">f(a)</span></span>, Terms)), <span style=\"color: yellow\"><span class=\"ansi-yellow-fg\">Literal</span></span>(<span style=\"color: rgb(0, 187, 0)\"><span class=\"ansi-green-fg\">-1.0</span></span>)),\n",
       "            <span style=\"color: yellow\"><span class=\"ansi-yellow-fg\">Log</span></span>(<span style=\"color: yellow\"><span class=\"ansi-yellow-fg\">InitialVal</span></span>(<span style=\"color: yellow\"><span class=\"ansi-yellow-fg\">Elem</span></span>(<span style=\"color: rgb(0, 187, 0)\"><span class=\"ansi-green-fg\">f(a)</span></span>, Terms)))\n",
       "          ),\n",
       "          <span style=\"color: yellow\"><span class=\"ansi-yellow-fg\">Product</span></span>(\n",
       "            <span style=\"color: yellow\"><span class=\"ansi-yellow-fg\">Product</span></span>(<span style=\"color: yellow\"><span class=\"ansi-yellow-fg\">InitialVal</span></span>(<span style=\"color: yellow\"><span class=\"ansi-yellow-fg\">Elem</span></span>(<span style=\"color: rgb(0, 187, 0)\"><span class=\"ansi-green-fg\">f</span></span>, Terms)), <span style=\"color: yellow\"><span class=\"ansi-yellow-fg\">Literal</span></span>(<span style=\"color: rgb(0, 187, 0)\"><span class=\"ansi-green-fg\">-1.0</span></span>)),\n",
       "            <span style=\"color: yellow\"><span class=\"ansi-yellow-fg\">Log</span></span>(<span style=\"color: yellow\"><span class=\"ansi-yellow-fg\">InitialVal</span></span>(<span style=\"color: yellow\"><span class=\"ansi-yellow-fg\">Elem</span></span>(<span style=\"color: rgb(0, 187, 0)\"><span class=\"ansi-green-fg\">f</span></span>, Terms)))\n",
       "          )\n",
       "        ),\n",
       "        <span style=\"color: yellow\"><span class=\"ansi-yellow-fg\">Product</span></span>(\n",
       "          <span style=\"color: yellow\"><span class=\"ansi-yellow-fg\">Product</span></span>(<span style=\"color: yellow\"><span class=\"ansi-yellow-fg\">InitialVal</span></span>(<span style=\"color: yellow\"><span class=\"ansi-yellow-fg\">Elem</span></span>(<span style=\"color: rgb(0, 187, 0)\"><span class=\"ansi-green-fg\">a</span></span>, Terms)), <span style=\"color: yellow\"><span class=\"ansi-yellow-fg\">Literal</span></span>(<span style=\"color: rgb(0, 187, 0)\"><span class=\"ansi-green-fg\">-1.0</span></span>)),\n",
       "          <span style=\"color: yellow\"><span class=\"ansi-yellow-fg\">Log</span></span>(<span style=\"color: yellow\"><span class=\"ansi-yellow-fg\">InitialVal</span></span>(<span style=\"color: yellow\"><span class=\"ansi-yellow-fg\">Elem</span></span>(<span style=\"color: rgb(0, 187, 0)\"><span class=\"ansi-green-fg\">a</span></span>, Terms)))\n",
       "        )\n",
       "      ),\n",
       "      <span style=\"color: yellow\"><span class=\"ansi-yellow-fg\">Literal</span></span>(<span style=\"color: rgb(0, 187, 0)\"><span class=\"ansi-green-fg\">1.0</span></span>)\n",
       "    ),\n",
       "    <span style=\"color: yellow\"><span class=\"ansi-yellow-fg\">Product</span></span>(\n",
       "      <span style=\"color: yellow\"><span class=\"ansi-yellow-fg\">Sum</span></span>(\n",
       "        <span style=\"color: yellow\"><span class=\"ansi-yellow-fg\">Product</span></span>(\n",
       "          <span style=\"color: yellow\"><span class=\"ansi-yellow-fg\">Literal</span></span>(<span style=\"color: rgb(0, 187, 0)\"><span class=\"ansi-green-fg\">0.5</span></span>),\n",
       "          <span style=\"color: yellow\"><span class=\"ansi-yellow-fg\">Log</span></span>(<span style=\"color: yellow\"><span class=\"ansi-yellow-fg\">Quotient</span></span>(<span style=\"color: yellow\"><span class=\"ansi-yellow-fg\">Literal</span></span>(<span style=\"color: rgb(0, 187, 0)\"><span class=\"ansi-green-fg\">0.5</span></span>), <span style=\"color: yellow\"><span class=\"ansi-yellow-fg\">FinalVal</span></span>(<span style=\"color: yellow\"><span class=\"ansi-yellow-fg\">Elem</span></span>(<span style=\"color: rgb(0, 187, 0)\"><span class=\"ansi-green-fg\">a</span></span>, Terms))))\n",
       "        ),\n",
       "        <span style=\"color: yellow\"><span class=\"ansi-yellow-fg\">Product</span></span>(\n",
       "          <span style=\"color: yellow\"><span class=\"ansi-yellow-fg\">Literal</span></span>(<span style=\"color: rgb(0, 187, 0)\"><span class=\"ansi-green-fg\">0.5</span></span>),\n",
       "          <span style=\"color: yellow\"><span class=\"ansi-yellow-fg\">Log</span></span>(<span style=\"color: yellow\"><span class=\"ansi-yellow-fg\">Quotient</span></span>(<span style=\"color: yellow\"><span class=\"ansi-yellow-fg\">Literal</span></span>(<span style=\"color: rgb(0, 187, 0)\"><span class=\"ansi-green-fg\">0.5</span></span>), <span style=\"color: yellow\"><span class=\"ansi-yellow-fg\">FinalVal</span></span>(<span style=\"color: yellow\"><span class=\"ansi-yellow-fg\">Elem</span></span>(<span style=\"color: rgb(0, 187, 0)\"><span class=\"ansi-green-fg\">f(a)</span></span>, Terms))))\n",
       "        )\n",
       "      ),\n",
       "      <span style=\"color: yellow\"><span class=\"ansi-yellow-fg\">Literal</span></span>(<span style=\"color: rgb(0, 187, 0)\"><span class=\"ansi-green-fg\">1.0</span></span>)\n",
       "    )\n",
       "  )\n",
       ")</span></span></span></code></pre>\n",
       "</div>"
      ],
      "text/plain": [
       "\u001b[36mres9\u001b[39m: \u001b[32mmonix\u001b[39m.\u001b[32mexecution\u001b[39m.\u001b[32mCancelableFuture\u001b[39m[\u001b[32mExpression\u001b[39m] = \u001b[32m\u001b[33mSuccess\u001b[39m(\n",
       "  \u001b[33mSum\u001b[39m(\n",
       "    \u001b[33mProduct\u001b[39m(\n",
       "      \u001b[33mSum\u001b[39m(\n",
       "        \u001b[33mSum\u001b[39m(\n",
       "          \u001b[33mProduct\u001b[39m(\n",
       "            \u001b[33mProduct\u001b[39m(\u001b[33mInitialVal\u001b[39m(\u001b[33mElem\u001b[39m(\u001b[32mf(a)\u001b[39m, Terms)), \u001b[33mLiteral\u001b[39m(\u001b[32m-1.0\u001b[39m)),\n",
       "            \u001b[33mLog\u001b[39m(\u001b[33mInitialVal\u001b[39m(\u001b[33mElem\u001b[39m(\u001b[32mf(a)\u001b[39m, Terms)))\n",
       "          ),\n",
       "          \u001b[33mProduct\u001b[39m(\n",
       "            \u001b[33mProduct\u001b[39m(\u001b[33mInitialVal\u001b[39m(\u001b[33mElem\u001b[39m(\u001b[32mf\u001b[39m, Terms)), \u001b[33mLiteral\u001b[39m(\u001b[32m-1.0\u001b[39m)),\n",
       "            \u001b[33mLog\u001b[39m(\u001b[33mInitialVal\u001b[39m(\u001b[33mElem\u001b[39m(\u001b[32mf\u001b[39m, Terms)))\n",
       "          )\n",
       "        ),\n",
       "        \u001b[33mProduct\u001b[39m(\n",
       "          \u001b[33mProduct\u001b[39m(\u001b[33mInitialVal\u001b[39m(\u001b[33mElem\u001b[39m(\u001b[32ma\u001b[39m, Terms)), \u001b[33mLiteral\u001b[39m(\u001b[32m-1.0\u001b[39m)),\n",
       "          \u001b[33mLog\u001b[39m(\u001b[33mInitialVal\u001b[39m(\u001b[33mElem\u001b[39m(\u001b[32ma\u001b[39m, Terms)))\n",
       "        )\n",
       "      ),\n",
       "      \u001b[33mLiteral\u001b[39m(\u001b[32m1.0\u001b[39m)\n",
       "    ),\n",
       "    \u001b[33mProduct\u001b[39m(\n",
       "      \u001b[33mSum\u001b[39m(\n",
       "        \u001b[33mProduct\u001b[39m(\n",
       "          \u001b[33mLiteral\u001b[39m(\u001b[32m0.5\u001b[39m),\n",
       "          \u001b[33mLog\u001b[39m(\u001b[33mQuotient\u001b[39m(\u001b[33mLiteral\u001b[39m(\u001b[32m0.5\u001b[39m), \u001b[33mFinalVal\u001b[39m(\u001b[33mElem\u001b[39m(\u001b[32ma\u001b[39m, Terms))))\n",
       "        ),\n",
       "        \u001b[33mProduct\u001b[39m(\n",
       "          \u001b[33mLiteral\u001b[39m(\u001b[32m0.5\u001b[39m),\n",
       "          \u001b[33mLog\u001b[39m(\u001b[33mQuotient\u001b[39m(\u001b[33mLiteral\u001b[39m(\u001b[32m0.5\u001b[39m), \u001b[33mFinalVal\u001b[39m(\u001b[33mElem\u001b[39m(\u001b[32mf(a)\u001b[39m, Terms))))\n",
       "        )\n",
       "      ),\n",
       "      \u001b[33mLiteral\u001b[39m(\u001b[32m1.0\u001b[39m)\n",
       "    )\n",
       "  )\n",
       ")\u001b[39m"
      ]
     },
     "metadata": {},
     "output_type": "display_data"
    }
   ],
   "source": [
    "lp.expressionEval.map(_.entropy()).runToFuture"
   ]
  },
  {
   "cell_type": "code",
   "execution_count": 11,
   "metadata": {},
   "outputs": [
    {
     "data": {
      "text/html": [
       "<div class=\"jp-RenderedText\">\n",
       "<pre><code><span style=\"color: rgb(0, 187, 187)\"><span class=\"ansi-cyan-fg\">res10</span></span>: <span style=\"color: rgb(0, 187, 0)\"><span class=\"ansi-green-fg\">monix</span></span>.<span style=\"color: rgb(0, 187, 0)\"><span class=\"ansi-green-fg\">execution</span></span>.<span style=\"color: rgb(0, 187, 0)\"><span class=\"ansi-green-fg\">CancelableFuture</span></span>[<span style=\"color: rgb(0, 187, 0)\"><span class=\"ansi-green-fg\">Option</span></span>[<span style=\"color: rgb(0, 187, 0)\"><span class=\"ansi-green-fg\">FiniteDistribution</span></span>[<span style=\"color: rgb(0, 187, 0)\"><span class=\"ansi-green-fg\">Term</span></span>]]] = <span style=\"color: rgb(0, 187, 0)\"><span class=\"ansi-green-fg\"><style>@keyframes fadein { from { opacity: 0; } to { opacity: 1; } }</style><span style=\"animation: fadein 2s;\"><span style=\"color: yellow\"><span class=\"ansi-yellow-fg\">Success</span></span>(\n",
       "  <span style=\"color: yellow\"><span class=\"ansi-yellow-fg\">Some</span></span>(\n",
       "    <span style=\"color: yellow\"><span class=\"ansi-yellow-fg\">FiniteDistribution</span></span>(\n",
       "      <span style=\"color: yellow\"><span class=\"ansi-yellow-fg\">Vector</span></span>(\n",
       "        <span style=\"color: yellow\"><span class=\"ansi-yellow-fg\">Weighted</span></span>(<span style=\"color: rgb(0, 187, 0)\"><span class=\"ansi-green-fg\">f(a)</span></span>, <span style=\"color: rgb(0, 187, 0)\"><span class=\"ansi-green-fg\">0.31528231497765496</span></span>),\n",
       "        <span style=\"color: yellow\"><span class=\"ansi-yellow-fg\">Weighted</span></span>(<span style=\"color: rgb(0, 187, 0)\"><span class=\"ansi-green-fg\">f</span></span>, <span style=\"color: rgb(0, 187, 0)\"><span class=\"ansi-green-fg\">0.322614187136065</span></span>),\n",
       "        <span style=\"color: yellow\"><span class=\"ansi-yellow-fg\">Weighted</span></span>(<span style=\"color: rgb(0, 187, 0)\"><span class=\"ansi-green-fg\">a</span></span>, <span style=\"color: rgb(0, 187, 0)\"><span class=\"ansi-green-fg\">0.36210349788628</span></span>)\n",
       "      )\n",
       "    )\n",
       "  )\n",
       ")</span></span></span></code></pre>\n",
       "</div>"
      ],
      "text/plain": [
       "\u001b[36mres10\u001b[39m: \u001b[32mmonix\u001b[39m.\u001b[32mexecution\u001b[39m.\u001b[32mCancelableFuture\u001b[39m[\u001b[32mOption\u001b[39m[\u001b[32mFiniteDistribution\u001b[39m[\u001b[32mTerm\u001b[39m]]] = \u001b[32m\u001b[33mSuccess\u001b[39m(\n",
       "  \u001b[33mSome\u001b[39m(\n",
       "    \u001b[33mFiniteDistribution\u001b[39m(\n",
       "      \u001b[33mVector\u001b[39m(\n",
       "        \u001b[33mWeighted\u001b[39m(\u001b[32mf(a)\u001b[39m, \u001b[32m0.31528231497765496\u001b[39m),\n",
       "        \u001b[33mWeighted\u001b[39m(\u001b[32mf\u001b[39m, \u001b[32m0.322614187136065\u001b[39m),\n",
       "        \u001b[33mWeighted\u001b[39m(\u001b[32ma\u001b[39m, \u001b[32m0.36210349788628\u001b[39m)\n",
       "      )\n",
       "    )\n",
       "  )\n",
       ")\u001b[39m"
      ]
     },
     "metadata": {},
     "output_type": "display_data"
    }
   ],
   "source": [
    "lp.expressionEval.flatMap(_.generatorIterant(1, 1, 0.0001).headOptionL).runToFuture"
   ]
  },
  {
   "cell_type": "code",
   "execution_count": 12,
   "metadata": {},
   "outputs": [
    {
     "data": {
      "text/html": [
       "<div class=\"jp-RenderedText\">\n",
       "<pre><code><span style=\"color: rgb(0, 187, 187)\"><span class=\"ansi-cyan-fg\">res11</span></span>: <span style=\"color: rgb(0, 187, 0)\"><span class=\"ansi-green-fg\">monix</span></span>.<span style=\"color: rgb(0, 187, 0)\"><span class=\"ansi-green-fg\">execution</span></span>.<span style=\"color: rgb(0, 187, 0)\"><span class=\"ansi-green-fg\">CancelableFuture</span></span>[<span style=\"color: rgb(0, 187, 0)\"><span class=\"ansi-green-fg\">Option</span></span>[<span style=\"color: rgb(0, 187, 0)\"><span class=\"ansi-green-fg\">FiniteDistribution</span></span>[<span style=\"color: rgb(0, 187, 0)\"><span class=\"ansi-green-fg\">Term</span></span>]]] = <span style=\"color: rgb(0, 187, 0)\"><span class=\"ansi-green-fg\"><style>@keyframes fadein { from { opacity: 0; } to { opacity: 1; } }</style><span style=\"animation: fadein 2s;\"><span style=\"color: yellow\"><span class=\"ansi-yellow-fg\">Success</span></span>(\n",
       "  <span style=\"color: yellow\"><span class=\"ansi-yellow-fg\">Some</span></span>(\n",
       "    <span style=\"color: yellow\"><span class=\"ansi-yellow-fg\">FiniteDistribution</span></span>(\n",
       "      <span style=\"color: yellow\"><span class=\"ansi-yellow-fg\">Vector</span></span>(\n",
       "        <span style=\"color: yellow\"><span class=\"ansi-yellow-fg\">Weighted</span></span>(<span style=\"color: rgb(0, 187, 0)\"><span class=\"ansi-green-fg\">f(a)</span></span>, <span style=\"color: rgb(0, 187, 0)\"><span class=\"ansi-green-fg\">1.4201583999412631E-4</span></span>),\n",
       "        <span style=\"color: yellow\"><span class=\"ansi-yellow-fg\">Weighted</span></span>(<span style=\"color: rgb(0, 187, 0)\"><span class=\"ansi-green-fg\">f</span></span>, <span style=\"color: rgb(0, 187, 0)\"><span class=\"ansi-green-fg\">7.326229362794384E-4</span></span>),\n",
       "        <span style=\"color: yellow\"><span class=\"ansi-yellow-fg\">Weighted</span></span>(<span style=\"color: rgb(0, 187, 0)\"><span class=\"ansi-green-fg\">a</span></span>, <span style=\"color: rgb(0, 187, 0)\"><span class=\"ansi-green-fg\">0.9991253612237264</span></span>)\n",
       "      )\n",
       "    )\n",
       "  )\n",
       ")</span></span></span></code></pre>\n",
       "</div>"
      ],
      "text/plain": [
       "\u001b[36mres11\u001b[39m: \u001b[32mmonix\u001b[39m.\u001b[32mexecution\u001b[39m.\u001b[32mCancelableFuture\u001b[39m[\u001b[32mOption\u001b[39m[\u001b[32mFiniteDistribution\u001b[39m[\u001b[32mTerm\u001b[39m]]] = \u001b[32m\u001b[33mSuccess\u001b[39m(\n",
       "  \u001b[33mSome\u001b[39m(\n",
       "    \u001b[33mFiniteDistribution\u001b[39m(\n",
       "      \u001b[33mVector\u001b[39m(\n",
       "        \u001b[33mWeighted\u001b[39m(\u001b[32mf(a)\u001b[39m, \u001b[32m1.4201583999412631E-4\u001b[39m),\n",
       "        \u001b[33mWeighted\u001b[39m(\u001b[32mf\u001b[39m, \u001b[32m7.326229362794384E-4\u001b[39m),\n",
       "        \u001b[33mWeighted\u001b[39m(\u001b[32ma\u001b[39m, \u001b[32m0.9991253612237264\u001b[39m)\n",
       "      )\n",
       "    )\n",
       "  )\n",
       ")\u001b[39m"
      ]
     },
     "metadata": {},
     "output_type": "display_data"
    }
   ],
   "source": [
    "lp.expressionEval.flatMap(_.generatorIterant(1, 1, 0.0001).take(1000).lastOptionL).runToFuture"
   ]
  },
  {
   "cell_type": "code",
   "execution_count": 13,
   "metadata": {},
   "outputs": [
    {
     "data": {
      "text/html": [
       "<div class=\"jp-RenderedText\">\n",
       "<pre><code><span style=\"color: rgb(0, 187, 187)\"><span class=\"ansi-cyan-fg\">res12</span></span>: <span style=\"color: rgb(0, 187, 0)\"><span class=\"ansi-green-fg\">monix</span></span>.<span style=\"color: rgb(0, 187, 0)\"><span class=\"ansi-green-fg\">execution</span></span>.<span style=\"color: rgb(0, 187, 0)\"><span class=\"ansi-green-fg\">CancelableFuture</span></span>[<span style=\"color: rgb(0, 187, 0)\"><span class=\"ansi-green-fg\">Option</span></span>[<span style=\"color: rgb(0, 187, 0)\"><span class=\"ansi-green-fg\">FiniteDistribution</span></span>[<span style=\"color: rgb(0, 187, 0)\"><span class=\"ansi-green-fg\">Term</span></span>]]] = <span style=\"color: rgb(0, 187, 0)\"><span class=\"ansi-green-fg\"><style>@keyframes fadein { from { opacity: 0; } to { opacity: 1; } }</style><span style=\"animation: fadein 2s;\"><span style=\"color: yellow\"><span class=\"ansi-yellow-fg\">Success</span></span>(\n",
       "  <span style=\"color: yellow\"><span class=\"ansi-yellow-fg\">Some</span></span>(\n",
       "    <span style=\"color: yellow\"><span class=\"ansi-yellow-fg\">FiniteDistribution</span></span>(\n",
       "      <span style=\"color: yellow\"><span class=\"ansi-yellow-fg\">Vector</span></span>(<span style=\"color: yellow\"><span class=\"ansi-yellow-fg\">Weighted</span></span>(<span style=\"color: rgb(0, 187, 0)\"><span class=\"ansi-green-fg\">f</span></span>, <span style=\"color: rgb(0, 187, 0)\"><span class=\"ansi-green-fg\">7.04117997499284E-4</span></span>), <span style=\"color: yellow\"><span class=\"ansi-yellow-fg\">Weighted</span></span>(<span style=\"color: rgb(0, 187, 0)\"><span class=\"ansi-green-fg\">a</span></span>, <span style=\"color: rgb(0, 187, 0)\"><span class=\"ansi-green-fg\">0.9992958820025007</span></span>))\n",
       "    )\n",
       "  )\n",
       ")</span></span></span></code></pre>\n",
       "</div>"
      ],
      "text/plain": [
       "\u001b[36mres12\u001b[39m: \u001b[32mmonix\u001b[39m.\u001b[32mexecution\u001b[39m.\u001b[32mCancelableFuture\u001b[39m[\u001b[32mOption\u001b[39m[\u001b[32mFiniteDistribution\u001b[39m[\u001b[32mTerm\u001b[39m]]] = \u001b[32m\u001b[33mSuccess\u001b[39m(\n",
       "  \u001b[33mSome\u001b[39m(\n",
       "    \u001b[33mFiniteDistribution\u001b[39m(\n",
       "      \u001b[33mVector\u001b[39m(\u001b[33mWeighted\u001b[39m(\u001b[32mf\u001b[39m, \u001b[32m7.04117997499284E-4\u001b[39m), \u001b[33mWeighted\u001b[39m(\u001b[32ma\u001b[39m, \u001b[32m0.9992958820025007\u001b[39m))\n",
       "    )\n",
       "  )\n",
       ")\u001b[39m"
      ]
     },
     "metadata": {},
     "output_type": "display_data"
    }
   ],
   "source": [
    "lp.expressionEval.flatMap(_.generatorIterant(1, 10, 0.0001).take(1000).lastOptionL).runToFuture"
   ]
  },
  {
   "cell_type": "code",
   "execution_count": 14,
   "metadata": {},
   "outputs": [
    {
     "data": {
      "text/html": [
       "<div class=\"jp-RenderedText\">\n",
       "<pre><code><span style=\"color: rgb(0, 187, 187)\"><span class=\"ansi-cyan-fg\">res13</span></span>: <span style=\"color: rgb(0, 187, 0)\"><span class=\"ansi-green-fg\">monix</span></span>.<span style=\"color: rgb(0, 187, 0)\"><span class=\"ansi-green-fg\">execution</span></span>.<span style=\"color: rgb(0, 187, 0)\"><span class=\"ansi-green-fg\">CancelableFuture</span></span>[<span style=\"color: rgb(0, 187, 0)\"><span class=\"ansi-green-fg\">Option</span></span>[<span style=\"color: rgb(0, 187, 0)\"><span class=\"ansi-green-fg\">FiniteDistribution</span></span>[<span style=\"color: rgb(0, 187, 0)\"><span class=\"ansi-green-fg\">Term</span></span>]]] = <span style=\"color: rgb(0, 187, 0)\"><span class=\"ansi-green-fg\"><style>@keyframes fadein { from { opacity: 0; } to { opacity: 1; } }</style><span style=\"animation: fadein 2s;\"><span style=\"color: yellow\"><span class=\"ansi-yellow-fg\">Success</span></span>(\n",
       "  <span style=\"color: yellow\"><span class=\"ansi-yellow-fg\">Some</span></span>(\n",
       "    <span style=\"color: yellow\"><span class=\"ansi-yellow-fg\">FiniteDistribution</span></span>(\n",
       "      <span style=\"color: yellow\"><span class=\"ansi-yellow-fg\">Vector</span></span>(\n",
       "        <span style=\"color: yellow\"><span class=\"ansi-yellow-fg\">Weighted</span></span>(<span style=\"color: rgb(0, 187, 0)\"><span class=\"ansi-green-fg\">f(a)</span></span>, <span style=\"color: rgb(0, 187, 0)\"><span class=\"ansi-green-fg\">1.8895822838138518E-4</span></span>),\n",
       "        <span style=\"color: yellow\"><span class=\"ansi-yellow-fg\">Weighted</span></span>(<span style=\"color: rgb(0, 187, 0)\"><span class=\"ansi-green-fg\">f</span></span>, <span style=\"color: rgb(0, 187, 0)\"><span class=\"ansi-green-fg\">0.21754244130319234</span></span>),\n",
       "        <span style=\"color: yellow\"><span class=\"ansi-yellow-fg\">Weighted</span></span>(<span style=\"color: rgb(0, 187, 0)\"><span class=\"ansi-green-fg\">a</span></span>, <span style=\"color: rgb(0, 187, 0)\"><span class=\"ansi-green-fg\">0.7822686004684263</span></span>)\n",
       "      )\n",
       "    )\n",
       "  )\n",
       ")</span></span></span></code></pre>\n",
       "</div>"
      ],
      "text/plain": [
       "\u001b[36mres13\u001b[39m: \u001b[32mmonix\u001b[39m.\u001b[32mexecution\u001b[39m.\u001b[32mCancelableFuture\u001b[39m[\u001b[32mOption\u001b[39m[\u001b[32mFiniteDistribution\u001b[39m[\u001b[32mTerm\u001b[39m]]] = \u001b[32m\u001b[33mSuccess\u001b[39m(\n",
       "  \u001b[33mSome\u001b[39m(\n",
       "    \u001b[33mFiniteDistribution\u001b[39m(\n",
       "      \u001b[33mVector\u001b[39m(\n",
       "        \u001b[33mWeighted\u001b[39m(\u001b[32mf(a)\u001b[39m, \u001b[32m1.8895822838138518E-4\u001b[39m),\n",
       "        \u001b[33mWeighted\u001b[39m(\u001b[32mf\u001b[39m, \u001b[32m0.21754244130319234\u001b[39m),\n",
       "        \u001b[33mWeighted\u001b[39m(\u001b[32ma\u001b[39m, \u001b[32m0.7822686004684263\u001b[39m)\n",
       "      )\n",
       "    )\n",
       "  )\n",
       ")\u001b[39m"
      ]
     },
     "metadata": {},
     "output_type": "display_data"
    }
   ],
   "source": [
    "lp.expressionEval.flatMap(_.generatorIterant(0.01, 10, 0.000001).take(1000).lastOptionL).runToFuture"
   ]
  },
  {
   "cell_type": "code",
   "execution_count": 15,
   "metadata": {},
   "outputs": [
    {
     "data": {
      "text/plain": [
       "\u001b[36mlp0\u001b[39m: \u001b[32mLocalProver\u001b[39m = \u001b[33mLocalProver\u001b[39m(\n",
       "  \u001b[33mTermState\u001b[39m(\n",
       "    \u001b[33mFiniteDistribution\u001b[39m(\u001b[33mVector\u001b[39m(\u001b[33mWeighted\u001b[39m(\u001b[32ma\u001b[39m, \u001b[32m0.5\u001b[39m), \u001b[33mWeighted\u001b[39m(\u001b[32mf(a)\u001b[39m, \u001b[32m0.5\u001b[39m))),\n",
       "    \u001b[33mFiniteDistribution\u001b[39m(\u001b[33mVector\u001b[39m(\u001b[33mWeighted\u001b[39m(\u001b[32mA\u001b[39m, \u001b[32m0.5\u001b[39m), \u001b[33mWeighted\u001b[39m(\u001b[32mB\u001b[39m, \u001b[32m0.5\u001b[39m))),\n",
       "    \u001b[33mVector\u001b[39m(),\n",
       "    \u001b[33mFiniteDistribution\u001b[39m(\u001b[33mVector\u001b[39m()),\n",
       "    \u001b[33mFiniteDistribution\u001b[39m(\u001b[33mVector\u001b[39m()),\n",
       "    Empty\n",
       "  ),\n",
       "  \u001b[33mTermGenParams\u001b[39m(\n",
       "    \u001b[32m0.0\u001b[39m,\n",
       "    \u001b[32m0.0\u001b[39m,\n",
       "    \u001b[32m0.0\u001b[39m,\n",
       "    \u001b[32m0.0\u001b[39m,\n",
       "    \u001b[32m0.0\u001b[39m,\n",
       "    \u001b[32m0.0\u001b[39m,\n",
       "    \u001b[32m0.0\u001b[39m,\n",
       "    \u001b[32m0.0\u001b[39m,\n",
       "    \u001b[32m0.0\u001b[39m,\n",
       "    \u001b[32m0.0\u001b[39m,\n",
       "    \u001b[32m0.0\u001b[39m,\n",
       "    \u001b[32m0.0\u001b[39m,\n",
       "    \u001b[32m0.3\u001b[39m,\n",
       "    \u001b[32m0.7\u001b[39m,\n",
       "    \u001b[32m0.5\u001b[39m,\n",
       "    \u001b[32m0.0\u001b[39m,\n",
       "    \u001b[32m0.0\u001b[39m,\n",
       "    \u001b[32m0.0\u001b[39m\n",
       "  ),\n",
       "  \u001b[32m1.0E-4\u001b[39m,\n",
       "  12 minutes,\n",
       "  \u001b[32m1.01\u001b[39m,\n",
       "  \u001b[32m1.0\u001b[39m,\n",
       "  \u001b[32m10000\u001b[39m,\n",
       "  \u001b[32m10\u001b[39m,\n",
       "  \u001b[32m1.0\u001b[39m,\n",
       "  \u001b[32m1.0\u001b[39m\n",
       ")"
      ]
     },
     "execution_count": 15,
     "metadata": {},
     "output_type": "execute_result"
    }
   ],
   "source": [
    "val lp0 = LocalProver(TermState(FiniteDistribution.unif(a, f(a)), FiniteDistribution.unif(A, B)), TermGenParams.zero)"
   ]
  },
  {
   "cell_type": "code",
   "execution_count": 16,
   "metadata": {},
   "outputs": [
    {
     "data": {
      "text/html": [
       "<div class=\"jp-RenderedText\">\n",
       "<pre><code><span style=\"color: rgb(0, 187, 187)\"><span class=\"ansi-cyan-fg\">res15</span></span>: <span style=\"color: rgb(0, 187, 0)\"><span class=\"ansi-green-fg\">monix</span></span>.<span style=\"color: rgb(0, 187, 0)\"><span class=\"ansi-green-fg\">execution</span></span>.<span style=\"color: rgb(0, 187, 0)\"><span class=\"ansi-green-fg\">CancelableFuture</span></span>[<span style=\"color: rgb(0, 187, 0)\"><span class=\"ansi-green-fg\">FiniteDistribution</span></span>[<span style=\"color: rgb(0, 187, 0)\"><span class=\"ansi-green-fg\">Term</span></span>]] = <span style=\"color: rgb(0, 187, 0)\"><span class=\"ansi-green-fg\"><style>@keyframes fadein { from { opacity: 0; } to { opacity: 1; } }</style><span style=\"animation: fadein 2s;\"><span style=\"color: yellow\"><span class=\"ansi-yellow-fg\">Success</span></span>(<span style=\"color: yellow\"><span class=\"ansi-yellow-fg\">FiniteDistribution</span></span>(<span style=\"color: yellow\"><span class=\"ansi-yellow-fg\">Vector</span></span>(<span style=\"color: yellow\"><span class=\"ansi-yellow-fg\">Weighted</span></span>(<span style=\"color: rgb(0, 187, 0)\"><span class=\"ansi-green-fg\">f(a)</span></span>, <span style=\"color: rgb(0, 187, 0)\"><span class=\"ansi-green-fg\">0.5</span></span>), <span style=\"color: yellow\"><span class=\"ansi-yellow-fg\">Weighted</span></span>(<span style=\"color: rgb(0, 187, 0)\"><span class=\"ansi-green-fg\">a</span></span>, <span style=\"color: rgb(0, 187, 0)\"><span class=\"ansi-green-fg\">0.5</span></span>))))</span></span></span></code></pre>\n",
       "</div>"
      ],
      "text/plain": [
       "\u001b[36mres15\u001b[39m: \u001b[32mmonix\u001b[39m.\u001b[32mexecution\u001b[39m.\u001b[32mCancelableFuture\u001b[39m[\u001b[32mFiniteDistribution\u001b[39m[\u001b[32mTerm\u001b[39m]] = \u001b[32m\u001b[33mSuccess\u001b[39m(\u001b[33mFiniteDistribution\u001b[39m(\u001b[33mVector\u001b[39m(\u001b[33mWeighted\u001b[39m(\u001b[32mf(a)\u001b[39m, \u001b[32m0.5\u001b[39m), \u001b[33mWeighted\u001b[39m(\u001b[32ma\u001b[39m, \u001b[32m0.5\u001b[39m))))\u001b[39m"
      ]
     },
     "metadata": {},
     "output_type": "display_data"
    }
   ],
   "source": [
    "lp0.tunedGenerators.runToFuture"
   ]
  },
  {
   "cell_type": "code",
   "execution_count": 17,
   "metadata": {},
   "outputs": [
    {
     "data": {
      "text/plain": [
       "\u001b[36mlp1\u001b[39m: \u001b[32mLocalProver\u001b[39m = \u001b[33mLocalProver\u001b[39m(\n",
       "  \u001b[33mTermState\u001b[39m(\n",
       "    \u001b[33mFiniteDistribution\u001b[39m(\u001b[33mVector\u001b[39m(\u001b[33mWeighted\u001b[39m(\u001b[32ma\u001b[39m, \u001b[32m0.8\u001b[39m), \u001b[33mWeighted\u001b[39m(\u001b[32mf(a)\u001b[39m, \u001b[32m0.2\u001b[39m))),\n",
       "    \u001b[33mFiniteDistribution\u001b[39m(\u001b[33mVector\u001b[39m(\u001b[33mWeighted\u001b[39m(\u001b[32mA\u001b[39m, \u001b[32m0.5\u001b[39m), \u001b[33mWeighted\u001b[39m(\u001b[32mB\u001b[39m, \u001b[32m0.5\u001b[39m))),\n",
       "    \u001b[33mVector\u001b[39m(),\n",
       "    \u001b[33mFiniteDistribution\u001b[39m(\u001b[33mVector\u001b[39m()),\n",
       "    \u001b[33mFiniteDistribution\u001b[39m(\u001b[33mVector\u001b[39m()),\n",
       "    Empty\n",
       "  ),\n",
       "  \u001b[33mTermGenParams\u001b[39m(\n",
       "    \u001b[32m0.0\u001b[39m,\n",
       "    \u001b[32m0.0\u001b[39m,\n",
       "    \u001b[32m0.0\u001b[39m,\n",
       "    \u001b[32m0.0\u001b[39m,\n",
       "    \u001b[32m0.0\u001b[39m,\n",
       "    \u001b[32m0.0\u001b[39m,\n",
       "    \u001b[32m0.0\u001b[39m,\n",
       "    \u001b[32m0.0\u001b[39m,\n",
       "    \u001b[32m0.0\u001b[39m,\n",
       "    \u001b[32m0.0\u001b[39m,\n",
       "    \u001b[32m0.0\u001b[39m,\n",
       "    \u001b[32m0.0\u001b[39m,\n",
       "    \u001b[32m0.3\u001b[39m,\n",
       "    \u001b[32m0.7\u001b[39m,\n",
       "    \u001b[32m0.5\u001b[39m,\n",
       "    \u001b[32m0.0\u001b[39m,\n",
       "    \u001b[32m0.0\u001b[39m,\n",
       "    \u001b[32m0.0\u001b[39m\n",
       "  ),\n",
       "  \u001b[32m1.0E-4\u001b[39m,\n",
       "  12 minutes,\n",
       "  \u001b[32m1.01\u001b[39m,\n",
       "  \u001b[32m1.0\u001b[39m,\n",
       "  \u001b[32m10000\u001b[39m,\n",
       "  \u001b[32m10\u001b[39m,\n",
       "  \u001b[32m1.0\u001b[39m,\n",
       "  \u001b[32m1.0\u001b[39m\n",
       ")"
      ]
     },
     "execution_count": 17,
     "metadata": {},
     "output_type": "execute_result"
    }
   ],
   "source": [
    "val lp1 = LocalProver(TermState(FiniteDistribution(a -> 0.8, f(a) -> 0.2), FiniteDistribution.unif(A, B)), TermGenParams.zero)"
   ]
  },
  {
   "cell_type": "code",
   "execution_count": 18,
   "metadata": {},
   "outputs": [
    {
     "data": {
      "text/html": [
       "<div class=\"jp-RenderedText\">\n",
       "<pre><code><span style=\"color: rgb(0, 187, 187)\"><span class=\"ansi-cyan-fg\">res17</span></span>: <span style=\"color: rgb(0, 187, 0)\"><span class=\"ansi-green-fg\">monix</span></span>.<span style=\"color: rgb(0, 187, 0)\"><span class=\"ansi-green-fg\">execution</span></span>.<span style=\"color: rgb(0, 187, 0)\"><span class=\"ansi-green-fg\">CancelableFuture</span></span>[<span style=\"color: rgb(0, 187, 0)\"><span class=\"ansi-green-fg\">FiniteDistribution</span></span>[<span style=\"color: rgb(0, 187, 0)\"><span class=\"ansi-green-fg\">Term</span></span>]] = <span style=\"color: rgb(0, 187, 0)\"><span class=\"ansi-green-fg\"><style>@keyframes fadein { from { opacity: 0; } to { opacity: 1; } }</style><span style=\"animation: fadein 2s;\"><span style=\"color: yellow\"><span class=\"ansi-yellow-fg\">Success</span></span>(\n",
       "  <span style=\"color: yellow\"><span class=\"ansi-yellow-fg\">FiniteDistribution</span></span>(\n",
       "    <span style=\"color: yellow\"><span class=\"ansi-yellow-fg\">Vector</span></span>(<span style=\"color: yellow\"><span class=\"ansi-yellow-fg\">Weighted</span></span>(<span style=\"color: rgb(0, 187, 0)\"><span class=\"ansi-green-fg\">f(a)</span></span>, <span style=\"color: rgb(0, 187, 0)\"><span class=\"ansi-green-fg\">0.4999999999999993</span></span>), <span style=\"color: yellow\"><span class=\"ansi-yellow-fg\">Weighted</span></span>(<span style=\"color: rgb(0, 187, 0)\"><span class=\"ansi-green-fg\">a</span></span>, <span style=\"color: rgb(0, 187, 0)\"><span class=\"ansi-green-fg\">0.5000000000000007</span></span>))\n",
       "  )\n",
       ")</span></span></span></code></pre>\n",
       "</div>"
      ],
      "text/plain": [
       "\u001b[36mres17\u001b[39m: \u001b[32mmonix\u001b[39m.\u001b[32mexecution\u001b[39m.\u001b[32mCancelableFuture\u001b[39m[\u001b[32mFiniteDistribution\u001b[39m[\u001b[32mTerm\u001b[39m]] = \u001b[32m\u001b[33mSuccess\u001b[39m(\n",
       "  \u001b[33mFiniteDistribution\u001b[39m(\n",
       "    \u001b[33mVector\u001b[39m(\u001b[33mWeighted\u001b[39m(\u001b[32mf(a)\u001b[39m, \u001b[32m0.4999999999999993\u001b[39m), \u001b[33mWeighted\u001b[39m(\u001b[32ma\u001b[39m, \u001b[32m0.5000000000000007\u001b[39m))\n",
       "  )\n",
       ")\u001b[39m"
      ]
     },
     "metadata": {},
     "output_type": "display_data"
    }
   ],
   "source": [
    "lp1.tunedGenerators.runToFuture"
   ]
  },
  {
   "cell_type": "code",
   "execution_count": 19,
   "metadata": {},
   "outputs": [
    {
     "data": {
      "text/plain": [
       "\u001b[36mlp2\u001b[39m: \u001b[32mLocalProver\u001b[39m = \u001b[33mLocalProver\u001b[39m(\n",
       "  \u001b[33mTermState\u001b[39m(\n",
       "    \u001b[33mFiniteDistribution\u001b[39m(\u001b[33mVector\u001b[39m(\u001b[33mWeighted\u001b[39m(\u001b[32ma\u001b[39m, \u001b[32m0.8\u001b[39m), \u001b[33mWeighted\u001b[39m(\u001b[32mf(a)\u001b[39m, \u001b[32m0.2\u001b[39m))),\n",
       "    \u001b[33mFiniteDistribution\u001b[39m(\u001b[33mVector\u001b[39m(\u001b[33mWeighted\u001b[39m(\u001b[32mA\u001b[39m, \u001b[32m0.5\u001b[39m), \u001b[33mWeighted\u001b[39m(\u001b[32mB\u001b[39m, \u001b[32m0.5\u001b[39m))),\n",
       "    \u001b[33mVector\u001b[39m(),\n",
       "    \u001b[33mFiniteDistribution\u001b[39m(\u001b[33mVector\u001b[39m()),\n",
       "    \u001b[33mFiniteDistribution\u001b[39m(\u001b[33mVector\u001b[39m()),\n",
       "    Empty\n",
       "  ),\n",
       "  \u001b[33mTermGenParams\u001b[39m(\n",
       "    \u001b[32m0.0\u001b[39m,\n",
       "    \u001b[32m0.0\u001b[39m,\n",
       "    \u001b[32m0.0\u001b[39m,\n",
       "    \u001b[32m0.0\u001b[39m,\n",
       "    \u001b[32m0.0\u001b[39m,\n",
       "    \u001b[32m0.0\u001b[39m,\n",
       "    \u001b[32m0.0\u001b[39m,\n",
       "    \u001b[32m0.0\u001b[39m,\n",
       "    \u001b[32m0.0\u001b[39m,\n",
       "    \u001b[32m0.0\u001b[39m,\n",
       "    \u001b[32m0.0\u001b[39m,\n",
       "    \u001b[32m0.0\u001b[39m,\n",
       "    \u001b[32m0.3\u001b[39m,\n",
       "    \u001b[32m0.7\u001b[39m,\n",
       "    \u001b[32m0.5\u001b[39m,\n",
       "    \u001b[32m0.0\u001b[39m,\n",
       "    \u001b[32m0.0\u001b[39m,\n",
       "    \u001b[32m0.0\u001b[39m\n",
       "  ),\n",
       "  \u001b[32m1.0E-4\u001b[39m,\n",
       "  12 minutes,\n",
       "  \u001b[32m1.01\u001b[39m,\n",
       "  \u001b[32m1.0\u001b[39m,\n",
       "  \u001b[32m10000\u001b[39m,\n",
       "  \u001b[32m10\u001b[39m,\n",
       "  \u001b[32m1.0\u001b[39m,\n",
       "  \u001b[32m1.0E-5\u001b[39m\n",
       ")"
      ]
     },
     "execution_count": 19,
     "metadata": {},
     "output_type": "execute_result"
    }
   ],
   "source": [
    "val lp2 = LocalProver(TermState(FiniteDistribution(a -> 0.8, f(a) -> 0.2), FiniteDistribution.unif(A, B)), TermGenParams.zero, klW = 0.00001)"
   ]
  },
  {
   "cell_type": "code",
   "execution_count": 20,
   "metadata": {},
   "outputs": [
    {
     "data": {
      "text/html": [
       "<div class=\"jp-RenderedText\">\n",
       "<pre><code><span style=\"color: rgb(0, 187, 187)\"><span class=\"ansi-cyan-fg\">res19</span></span>: <span style=\"color: rgb(0, 187, 0)\"><span class=\"ansi-green-fg\">monix</span></span>.<span style=\"color: rgb(0, 187, 0)\"><span class=\"ansi-green-fg\">execution</span></span>.<span style=\"color: rgb(0, 187, 0)\"><span class=\"ansi-green-fg\">CancelableFuture</span></span>[<span style=\"color: rgb(0, 187, 0)\"><span class=\"ansi-green-fg\">FiniteDistribution</span></span>[<span style=\"color: rgb(0, 187, 0)\"><span class=\"ansi-green-fg\">Term</span></span>]] = <span style=\"color: rgb(0, 187, 0)\"><span class=\"ansi-green-fg\"><style>@keyframes fadein { from { opacity: 0; } to { opacity: 1; } }</style><span style=\"animation: fadein 2s;\"><span style=\"color: yellow\"><span class=\"ansi-yellow-fg\">Success</span></span>(<span style=\"color: yellow\"><span class=\"ansi-yellow-fg\">FiniteDistribution</span></span>(<span style=\"color: yellow\"><span class=\"ansi-yellow-fg\">Vector</span></span>(<span style=\"color: yellow\"><span class=\"ansi-yellow-fg\">Weighted</span></span>(<span style=\"color: rgb(0, 187, 0)\"><span class=\"ansi-green-fg\">a</span></span>, <span style=\"color: rgb(0, 187, 0)\"><span class=\"ansi-green-fg\">0.9999999999999999</span></span>))))</span></span></span></code></pre>\n",
       "</div>"
      ],
      "text/plain": [
       "\u001b[36mres19\u001b[39m: \u001b[32mmonix\u001b[39m.\u001b[32mexecution\u001b[39m.\u001b[32mCancelableFuture\u001b[39m[\u001b[32mFiniteDistribution\u001b[39m[\u001b[32mTerm\u001b[39m]] = \u001b[32m\u001b[33mSuccess\u001b[39m(\u001b[33mFiniteDistribution\u001b[39m(\u001b[33mVector\u001b[39m(\u001b[33mWeighted\u001b[39m(\u001b[32ma\u001b[39m, \u001b[32m0.9999999999999999\u001b[39m))))\u001b[39m"
      ]
     },
     "metadata": {},
     "output_type": "display_data"
    }
   ],
   "source": [
    "lp2.tunedGenerators.runToFuture"
   ]
  },
  {
   "cell_type": "code",
   "execution_count": 21,
   "metadata": {},
   "outputs": [
    {
     "data": {
      "text/plain": [
       "\u001b[36mlp3\u001b[39m: \u001b[32mLocalProver\u001b[39m = \u001b[33mLocalProver\u001b[39m(\n",
       "  \u001b[33mTermState\u001b[39m(\n",
       "    \u001b[33mFiniteDistribution\u001b[39m(\u001b[33mVector\u001b[39m(\u001b[33mWeighted\u001b[39m(\u001b[32ma\u001b[39m, \u001b[32m0.8\u001b[39m), \u001b[33mWeighted\u001b[39m(\u001b[32mf(a)\u001b[39m, \u001b[32m0.2\u001b[39m))),\n",
       "    \u001b[33mFiniteDistribution\u001b[39m(\u001b[33mVector\u001b[39m(\u001b[33mWeighted\u001b[39m(\u001b[32mA\u001b[39m, \u001b[32m0.5\u001b[39m), \u001b[33mWeighted\u001b[39m(\u001b[32mB\u001b[39m, \u001b[32m0.5\u001b[39m))),\n",
       "    \u001b[33mVector\u001b[39m(),\n",
       "    \u001b[33mFiniteDistribution\u001b[39m(\u001b[33mVector\u001b[39m()),\n",
       "    \u001b[33mFiniteDistribution\u001b[39m(\u001b[33mVector\u001b[39m()),\n",
       "    Empty\n",
       "  ),\n",
       "  \u001b[33mTermGenParams\u001b[39m(\n",
       "    \u001b[32m0.0\u001b[39m,\n",
       "    \u001b[32m0.0\u001b[39m,\n",
       "    \u001b[32m0.0\u001b[39m,\n",
       "    \u001b[32m0.0\u001b[39m,\n",
       "    \u001b[32m0.0\u001b[39m,\n",
       "    \u001b[32m0.0\u001b[39m,\n",
       "    \u001b[32m0.0\u001b[39m,\n",
       "    \u001b[32m0.0\u001b[39m,\n",
       "    \u001b[32m0.0\u001b[39m,\n",
       "    \u001b[32m0.0\u001b[39m,\n",
       "    \u001b[32m0.0\u001b[39m,\n",
       "    \u001b[32m0.0\u001b[39m,\n",
       "    \u001b[32m0.3\u001b[39m,\n",
       "    \u001b[32m0.7\u001b[39m,\n",
       "    \u001b[32m0.5\u001b[39m,\n",
       "    \u001b[32m0.0\u001b[39m,\n",
       "    \u001b[32m0.0\u001b[39m,\n",
       "    \u001b[32m0.0\u001b[39m\n",
       "  ),\n",
       "  \u001b[32m1.0E-4\u001b[39m,\n",
       "  12 minutes,\n",
       "  \u001b[32m1.01\u001b[39m,\n",
       "  \u001b[32m1.0\u001b[39m,\n",
       "  \u001b[32m10000\u001b[39m,\n",
       "  \u001b[32m10\u001b[39m,\n",
       "  \u001b[32m1.0\u001b[39m,\n",
       "  \u001b[32m0.1\u001b[39m\n",
       ")"
      ]
     },
     "execution_count": 21,
     "metadata": {},
     "output_type": "execute_result"
    }
   ],
   "source": [
    "val lp3 = LocalProver(TermState(FiniteDistribution(a -> 0.8, f(a) -> 0.2), FiniteDistribution.unif(A, B)), TermGenParams.zero, klW = 0.1)"
   ]
  },
  {
   "cell_type": "code",
   "execution_count": 22,
   "metadata": {},
   "outputs": [
    {
     "data": {
      "text/html": [
       "<div class=\"jp-RenderedText\">\n",
       "<pre><code><span style=\"color: rgb(0, 187, 187)\"><span class=\"ansi-cyan-fg\">res21</span></span>: <span style=\"color: rgb(0, 187, 0)\"><span class=\"ansi-green-fg\">monix</span></span>.<span style=\"color: rgb(0, 187, 0)\"><span class=\"ansi-green-fg\">execution</span></span>.<span style=\"color: rgb(0, 187, 0)\"><span class=\"ansi-green-fg\">CancelableFuture</span></span>[<span style=\"color: rgb(0, 187, 0)\"><span class=\"ansi-green-fg\">FiniteDistribution</span></span>[<span style=\"color: rgb(0, 187, 0)\"><span class=\"ansi-green-fg\">Term</span></span>]] = <span style=\"color: rgb(0, 187, 0)\"><span class=\"ansi-green-fg\"><style>@keyframes fadein { from { opacity: 0; } to { opacity: 1; } }</style><span style=\"animation: fadein 2s;\"><span style=\"color: yellow\"><span class=\"ansi-yellow-fg\">Success</span></span>(\n",
       "  <span style=\"color: yellow\"><span class=\"ansi-yellow-fg\">FiniteDistribution</span></span>(\n",
       "    <span style=\"color: yellow\"><span class=\"ansi-yellow-fg\">Vector</span></span>(\n",
       "      <span style=\"color: yellow\"><span class=\"ansi-yellow-fg\">Weighted</span></span>(<span style=\"color: rgb(0, 187, 0)\"><span class=\"ansi-green-fg\">f(a)</span></span>, <span style=\"color: rgb(0, 187, 0)\"><span class=\"ansi-green-fg\">0.015801910393245217</span></span>),\n",
       "      <span style=\"color: yellow\"><span class=\"ansi-yellow-fg\">Weighted</span></span>(<span style=\"color: rgb(0, 187, 0)\"><span class=\"ansi-green-fg\">a</span></span>, <span style=\"color: rgb(0, 187, 0)\"><span class=\"ansi-green-fg\">0.9841980896067548</span></span>)\n",
       "    )\n",
       "  )\n",
       ")</span></span></span></code></pre>\n",
       "</div>"
      ],
      "text/plain": [
       "\u001b[36mres21\u001b[39m: \u001b[32mmonix\u001b[39m.\u001b[32mexecution\u001b[39m.\u001b[32mCancelableFuture\u001b[39m[\u001b[32mFiniteDistribution\u001b[39m[\u001b[32mTerm\u001b[39m]] = \u001b[32m\u001b[33mSuccess\u001b[39m(\n",
       "  \u001b[33mFiniteDistribution\u001b[39m(\n",
       "    \u001b[33mVector\u001b[39m(\n",
       "      \u001b[33mWeighted\u001b[39m(\u001b[32mf(a)\u001b[39m, \u001b[32m0.015801910393245217\u001b[39m),\n",
       "      \u001b[33mWeighted\u001b[39m(\u001b[32ma\u001b[39m, \u001b[32m0.9841980896067548\u001b[39m)\n",
       "    )\n",
       "  )\n",
       ")\u001b[39m"
      ]
     },
     "metadata": {},
     "output_type": "display_data"
    }
   ],
   "source": [
    "lp3.tunedGenerators.runToFuture"
   ]
  },
  {
   "cell_type": "code",
   "execution_count": 23,
   "metadata": {},
   "outputs": [
    {
     "data": {
      "text/plain": [
       "\u001b[36mlp4\u001b[39m: \u001b[32mLocalProver\u001b[39m = \u001b[33mLocalProver\u001b[39m(\n",
       "  \u001b[33mTermState\u001b[39m(\n",
       "    \u001b[33mFiniteDistribution\u001b[39m(\u001b[33mVector\u001b[39m(\u001b[33mWeighted\u001b[39m(\u001b[32ma\u001b[39m, \u001b[32m0.8\u001b[39m), \u001b[33mWeighted\u001b[39m(\u001b[32mf(a)\u001b[39m, \u001b[32m0.2\u001b[39m))),\n",
       "    \u001b[33mFiniteDistribution\u001b[39m(\u001b[33mVector\u001b[39m(\u001b[33mWeighted\u001b[39m(\u001b[32mA\u001b[39m, \u001b[32m0.5\u001b[39m), \u001b[33mWeighted\u001b[39m(\u001b[32mB\u001b[39m, \u001b[32m0.5\u001b[39m))),\n",
       "    \u001b[33mVector\u001b[39m(),\n",
       "    \u001b[33mFiniteDistribution\u001b[39m(\u001b[33mVector\u001b[39m()),\n",
       "    \u001b[33mFiniteDistribution\u001b[39m(\u001b[33mVector\u001b[39m()),\n",
       "    Empty\n",
       "  ),\n",
       "  \u001b[33mTermGenParams\u001b[39m(\n",
       "    \u001b[32m0.0\u001b[39m,\n",
       "    \u001b[32m0.0\u001b[39m,\n",
       "    \u001b[32m0.0\u001b[39m,\n",
       "    \u001b[32m0.0\u001b[39m,\n",
       "    \u001b[32m0.0\u001b[39m,\n",
       "    \u001b[32m0.0\u001b[39m,\n",
       "    \u001b[32m0.0\u001b[39m,\n",
       "    \u001b[32m0.0\u001b[39m,\n",
       "    \u001b[32m0.0\u001b[39m,\n",
       "    \u001b[32m0.0\u001b[39m,\n",
       "    \u001b[32m0.0\u001b[39m,\n",
       "    \u001b[32m0.0\u001b[39m,\n",
       "    \u001b[32m0.3\u001b[39m,\n",
       "    \u001b[32m0.7\u001b[39m,\n",
       "    \u001b[32m0.5\u001b[39m,\n",
       "    \u001b[32m0.0\u001b[39m,\n",
       "    \u001b[32m0.0\u001b[39m,\n",
       "    \u001b[32m0.0\u001b[39m\n",
       "  ),\n",
       "  \u001b[32m1.0E-4\u001b[39m,\n",
       "  12 minutes,\n",
       "  \u001b[32m1.01\u001b[39m,\n",
       "  \u001b[32m1.0\u001b[39m,\n",
       "  \u001b[32m10000\u001b[39m,\n",
       "  \u001b[32m10\u001b[39m,\n",
       "  \u001b[32m1.0\u001b[39m,\n",
       "  \u001b[32m0.4\u001b[39m\n",
       ")"
      ]
     },
     "execution_count": 23,
     "metadata": {},
     "output_type": "execute_result"
    }
   ],
   "source": [
    "val lp4 = LocalProver(TermState(FiniteDistribution(a -> 0.8, f(a) -> 0.2), FiniteDistribution.unif(A, B)), TermGenParams.zero, klW = 0.4)"
   ]
  },
  {
   "cell_type": "code",
   "execution_count": 24,
   "metadata": {},
   "outputs": [
    {
     "data": {
      "text/html": [
       "<div class=\"jp-RenderedText\">\n",
       "<pre><code><span style=\"color: rgb(0, 187, 187)\"><span class=\"ansi-cyan-fg\">res23</span></span>: <span style=\"color: rgb(0, 187, 0)\"><span class=\"ansi-green-fg\">monix</span></span>.<span style=\"color: rgb(0, 187, 0)\"><span class=\"ansi-green-fg\">execution</span></span>.<span style=\"color: rgb(0, 187, 0)\"><span class=\"ansi-green-fg\">CancelableFuture</span></span>[<span style=\"color: rgb(0, 187, 0)\"><span class=\"ansi-green-fg\">FiniteDistribution</span></span>[<span style=\"color: rgb(0, 187, 0)\"><span class=\"ansi-green-fg\">Term</span></span>]] = <span style=\"color: rgb(0, 187, 0)\"><span class=\"ansi-green-fg\"><style>@keyframes fadein { from { opacity: 0; } to { opacity: 1; } }</style><span style=\"animation: fadein 2s;\"><span style=\"color: yellow\"><span class=\"ansi-yellow-fg\">Success</span></span>(\n",
       "  <span style=\"color: yellow\"><span class=\"ansi-yellow-fg\">FiniteDistribution</span></span>(\n",
       "    <span style=\"color: yellow\"><span class=\"ansi-yellow-fg\">Vector</span></span>(<span style=\"color: yellow\"><span class=\"ansi-yellow-fg\">Weighted</span></span>(<span style=\"color: rgb(0, 187, 0)\"><span class=\"ansi-green-fg\">f(a)</span></span>, <span style=\"color: rgb(0, 187, 0)\"><span class=\"ansi-green-fg\">0.49999999999998435</span></span>), <span style=\"color: yellow\"><span class=\"ansi-yellow-fg\">Weighted</span></span>(<span style=\"color: rgb(0, 187, 0)\"><span class=\"ansi-green-fg\">a</span></span>, <span style=\"color: rgb(0, 187, 0)\"><span class=\"ansi-green-fg\">0.5000000000000158</span></span>))\n",
       "  )\n",
       ")</span></span></span></code></pre>\n",
       "</div>"
      ],
      "text/plain": [
       "\u001b[36mres23\u001b[39m: \u001b[32mmonix\u001b[39m.\u001b[32mexecution\u001b[39m.\u001b[32mCancelableFuture\u001b[39m[\u001b[32mFiniteDistribution\u001b[39m[\u001b[32mTerm\u001b[39m]] = \u001b[32m\u001b[33mSuccess\u001b[39m(\n",
       "  \u001b[33mFiniteDistribution\u001b[39m(\n",
       "    \u001b[33mVector\u001b[39m(\u001b[33mWeighted\u001b[39m(\u001b[32mf(a)\u001b[39m, \u001b[32m0.49999999999998435\u001b[39m), \u001b[33mWeighted\u001b[39m(\u001b[32ma\u001b[39m, \u001b[32m0.5000000000000158\u001b[39m))\n",
       "  )\n",
       ")\u001b[39m"
      ]
     },
     "metadata": {},
     "output_type": "display_data"
    }
   ],
   "source": [
    "lp4.tunedGenerators.runToFuture"
   ]
  },
  {
   "cell_type": "code",
   "execution_count": 25,
   "metadata": {},
   "outputs": [
    {
     "data": {
      "text/html": [
       "<div class=\"jp-RenderedText\">\n",
       "<pre><code><span style=\"color: rgb(0, 187, 187)\"><span class=\"ansi-cyan-fg\">res24</span></span>: <span style=\"color: rgb(0, 187, 0)\"><span class=\"ansi-green-fg\">monix</span></span>.<span style=\"color: rgb(0, 187, 0)\"><span class=\"ansi-green-fg\">execution</span></span>.<span style=\"color: rgb(0, 187, 0)\"><span class=\"ansi-green-fg\">CancelableFuture</span></span>[<span style=\"color: rgb(0, 187, 0)\"><span class=\"ansi-green-fg\">Option</span></span>[<span style=\"color: rgb(0, 187, 0)\"><span class=\"ansi-green-fg\">FiniteDistribution</span></span>[<span style=\"color: rgb(0, 187, 0)\"><span class=\"ansi-green-fg\">Term</span></span>]]] = <span style=\"color: rgb(0, 187, 0)\"><span class=\"ansi-green-fg\"><style>@keyframes fadein { from { opacity: 0; } to { opacity: 1; } }</style><span style=\"animation: fadein 2s;\"><span style=\"color: yellow\"><span class=\"ansi-yellow-fg\">Success</span></span>(\n",
       "  <span style=\"color: yellow\"><span class=\"ansi-yellow-fg\">Some</span></span>(\n",
       "    <span style=\"color: yellow\"><span class=\"ansi-yellow-fg\">FiniteDistribution</span></span>(\n",
       "      <span style=\"color: yellow\"><span class=\"ansi-yellow-fg\">Vector</span></span>(\n",
       "        <span style=\"color: yellow\"><span class=\"ansi-yellow-fg\">Weighted</span></span>(<span style=\"color: rgb(0, 187, 0)\"><span class=\"ansi-green-fg\">f(a)</span></span>, <span style=\"color: rgb(0, 187, 0)\"><span class=\"ansi-green-fg\">1.8362784778685155E-4</span></span>),\n",
       "        <span style=\"color: yellow\"><span class=\"ansi-yellow-fg\">Weighted</span></span>(<span style=\"color: rgb(0, 187, 0)\"><span class=\"ansi-green-fg\">f</span></span>, <span style=\"color: rgb(0, 187, 0)\"><span class=\"ansi-green-fg\">0.2573471478854855</span></span>),\n",
       "        <span style=\"color: yellow\"><span class=\"ansi-yellow-fg\">Weighted</span></span>(<span style=\"color: rgb(0, 187, 0)\"><span class=\"ansi-green-fg\">a</span></span>, <span style=\"color: rgb(0, 187, 0)\"><span class=\"ansi-green-fg\">0.7424692242667277</span></span>)\n",
       "      )\n",
       "    )\n",
       "  )\n",
       ")</span></span></span></code></pre>\n",
       "</div>"
      ],
      "text/plain": [
       "\u001b[36mres24\u001b[39m: \u001b[32mmonix\u001b[39m.\u001b[32mexecution\u001b[39m.\u001b[32mCancelableFuture\u001b[39m[\u001b[32mOption\u001b[39m[\u001b[32mFiniteDistribution\u001b[39m[\u001b[32mTerm\u001b[39m]]] = \u001b[32m\u001b[33mSuccess\u001b[39m(\n",
       "  \u001b[33mSome\u001b[39m(\n",
       "    \u001b[33mFiniteDistribution\u001b[39m(\n",
       "      \u001b[33mVector\u001b[39m(\n",
       "        \u001b[33mWeighted\u001b[39m(\u001b[32mf(a)\u001b[39m, \u001b[32m1.8362784778685155E-4\u001b[39m),\n",
       "        \u001b[33mWeighted\u001b[39m(\u001b[32mf\u001b[39m, \u001b[32m0.2573471478854855\u001b[39m),\n",
       "        \u001b[33mWeighted\u001b[39m(\u001b[32ma\u001b[39m, \u001b[32m0.7424692242667277\u001b[39m)\n",
       "      )\n",
       "    )\n",
       "  )\n",
       ")\u001b[39m"
      ]
     },
     "metadata": {},
     "output_type": "display_data"
    }
   ],
   "source": [
    "lp.expressionEval.flatMap(_.generatorIterant(0.0001, 10, 0.000001).take(1000).lastOptionL).runToFuture"
   ]
  },
  {
   "cell_type": "code",
   "execution_count": 26,
   "metadata": {},
   "outputs": [
    {
     "data": {
      "text/html": [
       "<div class=\"jp-RenderedText\">\n",
       "<pre><code><span style=\"color: rgb(0, 187, 187)\"><span class=\"ansi-cyan-fg\">res25</span></span>: <span style=\"color: rgb(0, 187, 0)\"><span class=\"ansi-green-fg\">monix</span></span>.<span style=\"color: rgb(0, 187, 0)\"><span class=\"ansi-green-fg\">execution</span></span>.<span style=\"color: rgb(0, 187, 0)\"><span class=\"ansi-green-fg\">CancelableFuture</span></span>[<span style=\"color: rgb(0, 187, 0)\"><span class=\"ansi-green-fg\">Option</span></span>[<span style=\"color: rgb(0, 187, 0)\"><span class=\"ansi-green-fg\">FiniteDistribution</span></span>[<span style=\"color: rgb(0, 187, 0)\"><span class=\"ansi-green-fg\">Term</span></span>]]] = <span style=\"color: rgb(0, 187, 0)\"><span class=\"ansi-green-fg\"><style>@keyframes fadein { from { opacity: 0; } to { opacity: 1; } }</style><span style=\"animation: fadein 2s;\"><span style=\"color: yellow\"><span class=\"ansi-yellow-fg\">Success</span></span>(\n",
       "  <span style=\"color: yellow\"><span class=\"ansi-yellow-fg\">Some</span></span>(\n",
       "    <span style=\"color: yellow\"><span class=\"ansi-yellow-fg\">FiniteDistribution</span></span>(\n",
       "      <span style=\"color: yellow\"><span class=\"ansi-yellow-fg\">Vector</span></span>(\n",
       "        <span style=\"color: yellow\"><span class=\"ansi-yellow-fg\">Weighted</span></span>(<span style=\"color: rgb(0, 187, 0)\"><span class=\"ansi-green-fg\">f(a)</span></span>, <span style=\"color: rgb(0, 187, 0)\"><span class=\"ansi-green-fg\">1.8356886649594198E-4</span></span>),\n",
       "        <span style=\"color: yellow\"><span class=\"ansi-yellow-fg\">Weighted</span></span>(<span style=\"color: rgb(0, 187, 0)\"><span class=\"ansi-green-fg\">f</span></span>, <span style=\"color: rgb(0, 187, 0)\"><span class=\"ansi-green-fg\">0.25775284727824743</span></span>),\n",
       "        <span style=\"color: yellow\"><span class=\"ansi-yellow-fg\">Weighted</span></span>(<span style=\"color: rgb(0, 187, 0)\"><span class=\"ansi-green-fg\">a</span></span>, <span style=\"color: rgb(0, 187, 0)\"><span class=\"ansi-green-fg\">0.7420635838552566</span></span>)\n",
       "      )\n",
       "    )\n",
       "  )\n",
       ")</span></span></span></code></pre>\n",
       "</div>"
      ],
      "text/plain": [
       "\u001b[36mres25\u001b[39m: \u001b[32mmonix\u001b[39m.\u001b[32mexecution\u001b[39m.\u001b[32mCancelableFuture\u001b[39m[\u001b[32mOption\u001b[39m[\u001b[32mFiniteDistribution\u001b[39m[\u001b[32mTerm\u001b[39m]]] = \u001b[32m\u001b[33mSuccess\u001b[39m(\n",
       "  \u001b[33mSome\u001b[39m(\n",
       "    \u001b[33mFiniteDistribution\u001b[39m(\n",
       "      \u001b[33mVector\u001b[39m(\n",
       "        \u001b[33mWeighted\u001b[39m(\u001b[32mf(a)\u001b[39m, \u001b[32m1.8356886649594198E-4\u001b[39m),\n",
       "        \u001b[33mWeighted\u001b[39m(\u001b[32mf\u001b[39m, \u001b[32m0.25775284727824743\u001b[39m),\n",
       "        \u001b[33mWeighted\u001b[39m(\u001b[32ma\u001b[39m, \u001b[32m0.7420635838552566\u001b[39m)\n",
       "      )\n",
       "    )\n",
       "  )\n",
       ")\u001b[39m"
      ]
     },
     "metadata": {},
     "output_type": "display_data"
    }
   ],
   "source": [
    "lp.expressionEval.flatMap(_.generatorIterant(0.00001, 10, 0.00000001).take(1000).lastOptionL).runToFuture"
   ]
  },
  {
   "cell_type": "markdown",
   "metadata": {},
   "source": [
    "The code seems correct, but there seems to almost be a phase transition, and for far more unequal weights than expected. The above seems to be the stable case."
   ]
  },
  {
   "cell_type": "code",
   "execution_count": 27,
   "metadata": {},
   "outputs": [
    {
     "data": {
      "text/plain": [
       "\u001b[36mts\u001b[39m: \u001b[32mTermState\u001b[39m = \u001b[33mTermState\u001b[39m(\n",
       "  \u001b[33mFiniteDistribution\u001b[39m(\u001b[33mVector\u001b[39m(\u001b[33mWeighted\u001b[39m(\u001b[32ma\u001b[39m, \u001b[32m0.5\u001b[39m), \u001b[33mWeighted\u001b[39m(\u001b[32mf\u001b[39m, \u001b[32m0.5\u001b[39m))),\n",
       "  \u001b[33mFiniteDistribution\u001b[39m(\u001b[33mVector\u001b[39m(\u001b[33mWeighted\u001b[39m(\u001b[32mA\u001b[39m, \u001b[32m0.01\u001b[39m), \u001b[33mWeighted\u001b[39m(\u001b[32mB\u001b[39m, \u001b[32m0.99\u001b[39m))),\n",
       "  \u001b[33mVector\u001b[39m(),\n",
       "  \u001b[33mFiniteDistribution\u001b[39m(\u001b[33mVector\u001b[39m()),\n",
       "  \u001b[33mFiniteDistribution\u001b[39m(\u001b[33mVector\u001b[39m()),\n",
       "  Empty\n",
       ")\n",
       "\u001b[36mlp5\u001b[39m: \u001b[32mLocalProver\u001b[39m = \u001b[33mLocalProver\u001b[39m(\n",
       "  \u001b[33mTermState\u001b[39m(\n",
       "    \u001b[33mFiniteDistribution\u001b[39m(\u001b[33mVector\u001b[39m(\u001b[33mWeighted\u001b[39m(\u001b[32ma\u001b[39m, \u001b[32m0.5\u001b[39m), \u001b[33mWeighted\u001b[39m(\u001b[32mf\u001b[39m, \u001b[32m0.5\u001b[39m))),\n",
       "    \u001b[33mFiniteDistribution\u001b[39m(\u001b[33mVector\u001b[39m(\u001b[33mWeighted\u001b[39m(\u001b[32mA\u001b[39m, \u001b[32m0.01\u001b[39m), \u001b[33mWeighted\u001b[39m(\u001b[32mB\u001b[39m, \u001b[32m0.99\u001b[39m))),\n",
       "    \u001b[33mVector\u001b[39m(),\n",
       "    \u001b[33mFiniteDistribution\u001b[39m(\u001b[33mVector\u001b[39m()),\n",
       "    \u001b[33mFiniteDistribution\u001b[39m(\u001b[33mVector\u001b[39m()),\n",
       "    Empty\n",
       "  ),\n",
       "  \u001b[33mTermGenParams\u001b[39m(\n",
       "    \u001b[32m0.1\u001b[39m,\n",
       "    \u001b[32m0.1\u001b[39m,\n",
       "    \u001b[32m0.1\u001b[39m,\n",
       "    \u001b[32m0.0\u001b[39m,\n",
       "    \u001b[32m0.0\u001b[39m,\n",
       "    \u001b[32m0.05\u001b[39m,\n",
       "    \u001b[32m0.05\u001b[39m,\n",
       "    \u001b[32m0.0\u001b[39m,\n",
       "    \u001b[32m0.0\u001b[39m,\n",
       "    \u001b[32m0.0\u001b[39m,\n",
       "    \u001b[32m0.0\u001b[39m,\n",
       "    \u001b[32m0.0\u001b[39m,\n",
       "    \u001b[32m0.3\u001b[39m,\n",
       "    \u001b[32m0.7\u001b[39m,\n",
       "    \u001b[32m0.5\u001b[39m,\n",
       "    \u001b[32m0.0\u001b[39m,\n",
       "    \u001b[32m0.0\u001b[39m,\n",
       "    \u001b[32m0.0\u001b[39m\n",
       "  ),\n",
       "  \u001b[32m1.0E-4\u001b[39m,\n",
       "  12 minutes,\n",
       "  \u001b[32m1.01\u001b[39m,\n",
       "  \u001b[32m1.0\u001b[39m,\n",
       "  \u001b[32m10000\u001b[39m,\n",
       "  \u001b[32m10\u001b[39m,\n",
       "  \u001b[32m1.0E-4\u001b[39m,\n",
       "  \u001b[32m1.0\u001b[39m\n",
       ")"
      ]
     },
     "execution_count": 27,
     "metadata": {},
     "output_type": "execute_result"
    }
   ],
   "source": [
    "\n",
    "val ts = TermState(FiniteDistribution.unif(a, f), FiniteDistribution(A -> 0.01, B -> 0.99))\n",
    "val lp5 = LocalProver(ts,  hW = 0.0001).noIsles"
   ]
  },
  {
   "cell_type": "code",
   "execution_count": 28,
   "metadata": {},
   "outputs": [
    {
     "data": {
      "text/html": [
       "<div class=\"jp-RenderedText\">\n",
       "<pre><code><span style=\"color: rgb(0, 187, 187)\"><span class=\"ansi-cyan-fg\">res27</span></span>: <span style=\"color: rgb(0, 187, 0)\"><span class=\"ansi-green-fg\">monix</span></span>.<span style=\"color: rgb(0, 187, 0)\"><span class=\"ansi-green-fg\">execution</span></span>.<span style=\"color: rgb(0, 187, 0)\"><span class=\"ansi-green-fg\">CancelableFuture</span></span>[<span style=\"color: rgb(0, 187, 0)\"><span class=\"ansi-green-fg\">FiniteDistribution</span></span>[<span style=\"color: rgb(0, 187, 0)\"><span class=\"ansi-green-fg\">Term</span></span>]] = <span style=\"color: rgb(0, 187, 0)\"><span class=\"ansi-green-fg\"><style>@keyframes fadein { from { opacity: 0; } to { opacity: 1; } }</style><span style=\"animation: fadein 2s;\"><span style=\"color: yellow\"><span class=\"ansi-yellow-fg\">Success</span></span>(\n",
       "  <span style=\"color: yellow\"><span class=\"ansi-yellow-fg\">FiniteDistribution</span></span>(\n",
       "    <span style=\"color: yellow\"><span class=\"ansi-yellow-fg\">Vector</span></span>(<span style=\"color: yellow\"><span class=\"ansi-yellow-fg\">Weighted</span></span>(<span style=\"color: rgb(0, 187, 0)\"><span class=\"ansi-green-fg\">f</span></span>, <span style=\"color: rgb(0, 187, 0)\"><span class=\"ansi-green-fg\">0.48645649441869593</span></span>), <span style=\"color: yellow\"><span class=\"ansi-yellow-fg\">Weighted</span></span>(<span style=\"color: rgb(0, 187, 0)\"><span class=\"ansi-green-fg\">a</span></span>, <span style=\"color: rgb(0, 187, 0)\"><span class=\"ansi-green-fg\">0.5135435055813041</span></span>))\n",
       "  )\n",
       ")</span></span></span></code></pre>\n",
       "</div>"
      ],
      "text/plain": [
       "\u001b[36mres27\u001b[39m: \u001b[32mmonix\u001b[39m.\u001b[32mexecution\u001b[39m.\u001b[32mCancelableFuture\u001b[39m[\u001b[32mFiniteDistribution\u001b[39m[\u001b[32mTerm\u001b[39m]] = \u001b[32m\u001b[33mSuccess\u001b[39m(\n",
       "  \u001b[33mFiniteDistribution\u001b[39m(\n",
       "    \u001b[33mVector\u001b[39m(\u001b[33mWeighted\u001b[39m(\u001b[32mf\u001b[39m, \u001b[32m0.48645649441869593\u001b[39m), \u001b[33mWeighted\u001b[39m(\u001b[32ma\u001b[39m, \u001b[32m0.5135435055813041\u001b[39m))\n",
       "  )\n",
       ")\u001b[39m"
      ]
     },
     "metadata": {},
     "output_type": "display_data"
    }
   ],
   "source": [
    "lp5.tunedGenerators.runToFuture"
   ]
  },
  {
   "cell_type": "code",
   "execution_count": 29,
   "metadata": {},
   "outputs": [
    {
     "data": {
      "text/plain": [
       "\u001b[36mlp6\u001b[39m: \u001b[32mLocalProver\u001b[39m = \u001b[33mLocalProver\u001b[39m(\n",
       "  \u001b[33mTermState\u001b[39m(\n",
       "    \u001b[33mFiniteDistribution\u001b[39m(\u001b[33mVector\u001b[39m(\u001b[33mWeighted\u001b[39m(\u001b[32ma\u001b[39m, \u001b[32m0.5\u001b[39m), \u001b[33mWeighted\u001b[39m(\u001b[32mf\u001b[39m, \u001b[32m0.5\u001b[39m))),\n",
       "    \u001b[33mFiniteDistribution\u001b[39m(\u001b[33mVector\u001b[39m(\u001b[33mWeighted\u001b[39m(\u001b[32mA\u001b[39m, \u001b[32m0.01\u001b[39m), \u001b[33mWeighted\u001b[39m(\u001b[32mB\u001b[39m, \u001b[32m0.99\u001b[39m))),\n",
       "    \u001b[33mVector\u001b[39m(),\n",
       "    \u001b[33mFiniteDistribution\u001b[39m(\u001b[33mVector\u001b[39m()),\n",
       "    \u001b[33mFiniteDistribution\u001b[39m(\u001b[33mVector\u001b[39m()),\n",
       "    Empty\n",
       "  ),\n",
       "  \u001b[33mTermGenParams\u001b[39m(\n",
       "    \u001b[32m0.1\u001b[39m,\n",
       "    \u001b[32m0.1\u001b[39m,\n",
       "    \u001b[32m0.1\u001b[39m,\n",
       "    \u001b[32m0.0\u001b[39m,\n",
       "    \u001b[32m0.0\u001b[39m,\n",
       "    \u001b[32m0.05\u001b[39m,\n",
       "    \u001b[32m0.05\u001b[39m,\n",
       "    \u001b[32m0.0\u001b[39m,\n",
       "    \u001b[32m0.0\u001b[39m,\n",
       "    \u001b[32m0.0\u001b[39m,\n",
       "    \u001b[32m0.0\u001b[39m,\n",
       "    \u001b[32m0.0\u001b[39m,\n",
       "    \u001b[32m0.3\u001b[39m,\n",
       "    \u001b[32m0.7\u001b[39m,\n",
       "    \u001b[32m0.5\u001b[39m,\n",
       "    \u001b[32m0.0\u001b[39m,\n",
       "    \u001b[32m0.0\u001b[39m,\n",
       "    \u001b[32m0.0\u001b[39m\n",
       "  ),\n",
       "  \u001b[32m1.0E-4\u001b[39m,\n",
       "  12 minutes,\n",
       "  \u001b[32m1.01\u001b[39m,\n",
       "  \u001b[32m1.0\u001b[39m,\n",
       "  \u001b[32m10000\u001b[39m,\n",
       "  \u001b[32m10\u001b[39m,\n",
       "  \u001b[32m0.1\u001b[39m,\n",
       "  \u001b[32m1.0\u001b[39m\n",
       ")"
      ]
     },
     "execution_count": 29,
     "metadata": {},
     "output_type": "execute_result"
    }
   ],
   "source": [
    "val lp6 = LocalProver(ts,  hW = 0.1).noIsles"
   ]
  },
  {
   "cell_type": "code",
   "execution_count": 30,
   "metadata": {},
   "outputs": [
    {
     "data": {
      "text/html": [
       "<div class=\"jp-RenderedText\">\n",
       "<pre><code><span style=\"color: rgb(0, 187, 187)\"><span class=\"ansi-cyan-fg\">res29</span></span>: <span style=\"color: rgb(0, 187, 0)\"><span class=\"ansi-green-fg\">monix</span></span>.<span style=\"color: rgb(0, 187, 0)\"><span class=\"ansi-green-fg\">execution</span></span>.<span style=\"color: rgb(0, 187, 0)\"><span class=\"ansi-green-fg\">CancelableFuture</span></span>[<span style=\"color: rgb(0, 187, 0)\"><span class=\"ansi-green-fg\">FiniteDistribution</span></span>[<span style=\"color: rgb(0, 187, 0)\"><span class=\"ansi-green-fg\">Term</span></span>]] = <span style=\"color: rgb(0, 187, 0)\"><span class=\"ansi-green-fg\"><style>@keyframes fadein { from { opacity: 0; } to { opacity: 1; } }</style><span style=\"animation: fadein 2s;\"><span style=\"color: yellow\"><span class=\"ansi-yellow-fg\">Success</span></span>(\n",
       "  <span style=\"color: yellow\"><span class=\"ansi-yellow-fg\">FiniteDistribution</span></span>(\n",
       "    <span style=\"color: yellow\"><span class=\"ansi-yellow-fg\">Vector</span></span>(<span style=\"color: yellow\"><span class=\"ansi-yellow-fg\">Weighted</span></span>(<span style=\"color: rgb(0, 187, 0)\"><span class=\"ansi-green-fg\">f</span></span>, <span style=\"color: rgb(0, 187, 0)\"><span class=\"ansi-green-fg\">0.970867208792367</span></span>), <span style=\"color: yellow\"><span class=\"ansi-yellow-fg\">Weighted</span></span>(<span style=\"color: rgb(0, 187, 0)\"><span class=\"ansi-green-fg\">a</span></span>, <span style=\"color: rgb(0, 187, 0)\"><span class=\"ansi-green-fg\">0.02913279120763298</span></span>))\n",
       "  )\n",
       ")</span></span></span></code></pre>\n",
       "</div>"
      ],
      "text/plain": [
       "\u001b[36mres29\u001b[39m: \u001b[32mmonix\u001b[39m.\u001b[32mexecution\u001b[39m.\u001b[32mCancelableFuture\u001b[39m[\u001b[32mFiniteDistribution\u001b[39m[\u001b[32mTerm\u001b[39m]] = \u001b[32m\u001b[33mSuccess\u001b[39m(\n",
       "  \u001b[33mFiniteDistribution\u001b[39m(\n",
       "    \u001b[33mVector\u001b[39m(\u001b[33mWeighted\u001b[39m(\u001b[32mf\u001b[39m, \u001b[32m0.970867208792367\u001b[39m), \u001b[33mWeighted\u001b[39m(\u001b[32ma\u001b[39m, \u001b[32m0.02913279120763298\u001b[39m))\n",
       "  )\n",
       ")\u001b[39m"
      ]
     },
     "metadata": {},
     "output_type": "display_data"
    }
   ],
   "source": [
    "lp6.tunedGenerators.runToFuture"
   ]
  },
  {
   "cell_type": "code",
   "execution_count": 31,
   "metadata": {},
   "outputs": [
    {
     "data": {
      "text/plain": [
       "\u001b[36mts1\u001b[39m: \u001b[32mTermState\u001b[39m = \u001b[33mTermState\u001b[39m(\n",
       "  \u001b[33mFiniteDistribution\u001b[39m(\u001b[33mVector\u001b[39m(\u001b[33mWeighted\u001b[39m(\u001b[32ma\u001b[39m, \u001b[32m0.5\u001b[39m), \u001b[33mWeighted\u001b[39m(\u001b[32mf\u001b[39m, \u001b[32m0.5\u001b[39m))),\n",
       "  \u001b[33mFiniteDistribution\u001b[39m(\u001b[33mVector\u001b[39m(\u001b[33mWeighted\u001b[39m(\u001b[32mA\u001b[39m, \u001b[32m0.05\u001b[39m), \u001b[33mWeighted\u001b[39m(\u001b[32mB\u001b[39m, \u001b[32m0.95\u001b[39m))),\n",
       "  \u001b[33mVector\u001b[39m(),\n",
       "  \u001b[33mFiniteDistribution\u001b[39m(\u001b[33mVector\u001b[39m()),\n",
       "  \u001b[33mFiniteDistribution\u001b[39m(\u001b[33mVector\u001b[39m()),\n",
       "  Empty\n",
       ")\n",
       "\u001b[36mlp7\u001b[39m: \u001b[32mLocalProver\u001b[39m = \u001b[33mLocalProver\u001b[39m(\n",
       "  \u001b[33mTermState\u001b[39m(\n",
       "    \u001b[33mFiniteDistribution\u001b[39m(\u001b[33mVector\u001b[39m(\u001b[33mWeighted\u001b[39m(\u001b[32ma\u001b[39m, \u001b[32m0.5\u001b[39m), \u001b[33mWeighted\u001b[39m(\u001b[32mf\u001b[39m, \u001b[32m0.5\u001b[39m))),\n",
       "    \u001b[33mFiniteDistribution\u001b[39m(\u001b[33mVector\u001b[39m(\u001b[33mWeighted\u001b[39m(\u001b[32mA\u001b[39m, \u001b[32m0.05\u001b[39m), \u001b[33mWeighted\u001b[39m(\u001b[32mB\u001b[39m, \u001b[32m0.95\u001b[39m))),\n",
       "    \u001b[33mVector\u001b[39m(),\n",
       "    \u001b[33mFiniteDistribution\u001b[39m(\u001b[33mVector\u001b[39m()),\n",
       "    \u001b[33mFiniteDistribution\u001b[39m(\u001b[33mVector\u001b[39m()),\n",
       "    Empty\n",
       "  ),\n",
       "  \u001b[33mTermGenParams\u001b[39m(\n",
       "    \u001b[32m0.1\u001b[39m,\n",
       "    \u001b[32m0.1\u001b[39m,\n",
       "    \u001b[32m0.1\u001b[39m,\n",
       "    \u001b[32m0.0\u001b[39m,\n",
       "    \u001b[32m0.0\u001b[39m,\n",
       "    \u001b[32m0.05\u001b[39m,\n",
       "    \u001b[32m0.05\u001b[39m,\n",
       "    \u001b[32m0.0\u001b[39m,\n",
       "    \u001b[32m0.0\u001b[39m,\n",
       "    \u001b[32m0.0\u001b[39m,\n",
       "    \u001b[32m0.0\u001b[39m,\n",
       "    \u001b[32m0.0\u001b[39m,\n",
       "    \u001b[32m0.3\u001b[39m,\n",
       "    \u001b[32m0.7\u001b[39m,\n",
       "    \u001b[32m0.5\u001b[39m,\n",
       "    \u001b[32m0.0\u001b[39m,\n",
       "    \u001b[32m0.0\u001b[39m,\n",
       "    \u001b[32m0.0\u001b[39m\n",
       "  ),\n",
       "  \u001b[32m1.0E-4\u001b[39m,\n",
       "  12 minutes,\n",
       "  \u001b[32m1.01\u001b[39m,\n",
       "  \u001b[32m1.0\u001b[39m,\n",
       "  \u001b[32m10000\u001b[39m,\n",
       "  \u001b[32m10\u001b[39m,\n",
       "  \u001b[32m1.0E-4\u001b[39m,\n",
       "  \u001b[32m1.0\u001b[39m\n",
       ")"
      ]
     },
     "execution_count": 31,
     "metadata": {},
     "output_type": "execute_result"
    }
   ],
   "source": [
    "val ts1 = TermState(FiniteDistribution.unif(a, f), FiniteDistribution(A -> 0.05, B -> 0.95))\n",
    "val lp7 = LocalProver(ts1,  hW = 0.0001).noIsles"
   ]
  },
  {
   "cell_type": "code",
   "execution_count": 32,
   "metadata": {},
   "outputs": [
    {
     "data": {
      "text/html": [
       "<div class=\"jp-RenderedText\">\n",
       "<pre><code><span style=\"color: rgb(0, 187, 187)\"><span class=\"ansi-cyan-fg\">res31</span></span>: <span style=\"color: rgb(0, 187, 0)\"><span class=\"ansi-green-fg\">monix</span></span>.<span style=\"color: rgb(0, 187, 0)\"><span class=\"ansi-green-fg\">execution</span></span>.<span style=\"color: rgb(0, 187, 0)\"><span class=\"ansi-green-fg\">CancelableFuture</span></span>[<span style=\"color: rgb(0, 187, 0)\"><span class=\"ansi-green-fg\">FiniteDistribution</span></span>[<span style=\"color: rgb(0, 187, 0)\"><span class=\"ansi-green-fg\">Term</span></span>]] = <span style=\"color: rgb(0, 187, 0)\"><span class=\"ansi-green-fg\"><style>@keyframes fadein { from { opacity: 0; } to { opacity: 1; } }</style><span style=\"animation: fadein 2s;\"><span style=\"color: yellow\"><span class=\"ansi-yellow-fg\">Success</span></span>(\n",
       "  <span style=\"color: yellow\"><span class=\"ansi-yellow-fg\">FiniteDistribution</span></span>(\n",
       "    <span style=\"color: yellow\"><span class=\"ansi-yellow-fg\">Vector</span></span>(<span style=\"color: yellow\"><span class=\"ansi-yellow-fg\">Weighted</span></span>(<span style=\"color: rgb(0, 187, 0)\"><span class=\"ansi-green-fg\">f</span></span>, <span style=\"color: rgb(0, 187, 0)\"><span class=\"ansi-green-fg\">0.48530231728265055</span></span>), <span style=\"color: yellow\"><span class=\"ansi-yellow-fg\">Weighted</span></span>(<span style=\"color: rgb(0, 187, 0)\"><span class=\"ansi-green-fg\">a</span></span>, <span style=\"color: rgb(0, 187, 0)\"><span class=\"ansi-green-fg\">0.5146976827173494</span></span>))\n",
       "  )\n",
       ")</span></span></span></code></pre>\n",
       "</div>"
      ],
      "text/plain": [
       "\u001b[36mres31\u001b[39m: \u001b[32mmonix\u001b[39m.\u001b[32mexecution\u001b[39m.\u001b[32mCancelableFuture\u001b[39m[\u001b[32mFiniteDistribution\u001b[39m[\u001b[32mTerm\u001b[39m]] = \u001b[32m\u001b[33mSuccess\u001b[39m(\n",
       "  \u001b[33mFiniteDistribution\u001b[39m(\n",
       "    \u001b[33mVector\u001b[39m(\u001b[33mWeighted\u001b[39m(\u001b[32mf\u001b[39m, \u001b[32m0.48530231728265055\u001b[39m), \u001b[33mWeighted\u001b[39m(\u001b[32ma\u001b[39m, \u001b[32m0.5146976827173494\u001b[39m))\n",
       "  )\n",
       ")\u001b[39m"
      ]
     },
     "metadata": {},
     "output_type": "display_data"
    }
   ],
   "source": [
    "lp7.tunedGenerators.runToFuture"
   ]
  },
  {
   "cell_type": "code",
   "execution_count": 33,
   "metadata": {},
   "outputs": [
    {
     "data": {
      "text/html": [
       "<div class=\"jp-RenderedText\">\n",
       "<pre><code><span style=\"color: rgb(0, 187, 187)\"><span class=\"ansi-cyan-fg\">res32</span></span>: <span style=\"color: rgb(0, 187, 0)\"><span class=\"ansi-green-fg\">monix</span></span>.<span style=\"color: rgb(0, 187, 0)\"><span class=\"ansi-green-fg\">execution</span></span>.<span style=\"color: rgb(0, 187, 0)\"><span class=\"ansi-green-fg\">CancelableFuture</span></span>[<span style=\"color: rgb(0, 187, 0)\"><span class=\"ansi-green-fg\">Vector</span></span>[<span style=\"color: rgb(0, 187, 0)\"><span class=\"ansi-green-fg\">Term</span></span>]] = <span style=\"color: rgb(0, 187, 0)\"><span class=\"ansi-green-fg\"><span style=\"color: yellow\"><span class=\"ansi-yellow-fg\">Success</span></span>(<span style=\"color: yellow\"><span class=\"ansi-yellow-fg\">Vector</span></span>(<span style=\"color: rgb(0, 187, 0)\"><span class=\"ansi-green-fg\">f</span></span>, <span style=\"color: rgb(0, 187, 0)\"><span class=\"ansi-green-fg\">a</span></span>))</span></span></code></pre>\n",
       "</div>"
      ],
      "text/plain": [
       "\u001b[36mres32\u001b[39m: \u001b[32mmonix\u001b[39m.\u001b[32mexecution\u001b[39m.\u001b[32mCancelableFuture\u001b[39m[\u001b[32mVector\u001b[39m[\u001b[32mTerm\u001b[39m]] = \u001b[32m\u001b[33mSuccess\u001b[39m(\u001b[33mVector\u001b[39m(\u001b[32mf\u001b[39m, \u001b[32ma\u001b[39m))\u001b[39m"
      ]
     },
     "metadata": {},
     "output_type": "display_data"
    }
   ],
   "source": [
    "lp7.expressionEval.map(_.initTerms).runToFuture"
   ]
  },
  {
   "cell_type": "code",
   "execution_count": 34,
   "metadata": {},
   "outputs": [
    {
     "data": {
      "text/html": [
       "<div class=\"jp-RenderedText\">\n",
       "<pre><code><span style=\"color: rgb(0, 187, 187)\"><span class=\"ansi-cyan-fg\">res33</span></span>: <span style=\"color: rgb(0, 187, 0)\"><span class=\"ansi-green-fg\">monix</span></span>.<span style=\"color: rgb(0, 187, 0)\"><span class=\"ansi-green-fg\">execution</span></span>.<span style=\"color: rgb(0, 187, 0)\"><span class=\"ansi-green-fg\">CancelableFuture</span></span>[<span style=\"color: rgb(0, 187, 0)\"><span class=\"ansi-green-fg\">Vector</span></span>[<span style=\"color: rgb(0, 187, 0)\"><span class=\"ansi-green-fg\">Expression</span></span>]] = <span style=\"color: rgb(0, 187, 0)\"><span class=\"ansi-green-fg\"><style>@keyframes fadein { from { opacity: 0; } to { opacity: 1; } }</style><span style=\"animation: fadein 2s;\"><span style=\"color: yellow\"><span class=\"ansi-yellow-fg\">Success</span></span>(\n",
       "  <span style=\"color: yellow\"><span class=\"ansi-yellow-fg\">Vector</span></span>(\n",
       "    <span style=\"color: yellow\"><span class=\"ansi-yellow-fg\">FinalVal</span></span>(<span style=\"color: yellow\"><span class=\"ansi-yellow-fg\">Elem</span></span>(<span style=\"color: rgb(0, 187, 0)\"><span class=\"ansi-green-fg\">A</span></span>, Typs)),\n",
       "    <span style=\"color: yellow\"><span class=\"ansi-yellow-fg\">InitialVal</span></span>(<span style=\"color: yellow\"><span class=\"ansi-yellow-fg\">Elem</span></span>(<span style=\"color: rgb(0, 187, 0)\"><span class=\"ansi-green-fg\">A</span></span>, Typs)),\n",
       "    <span style=\"color: yellow\"><span class=\"ansi-yellow-fg\">FinalVal</span></span>(<span style=\"color: yellow\"><span class=\"ansi-yellow-fg\">Elem</span></span>(<span style=\"color: rgb(0, 187, 0)\"><span class=\"ansi-green-fg\">B</span></span>, Typs)),\n",
       "    <span style=\"color: yellow\"><span class=\"ansi-yellow-fg\">InitialVal</span></span>(<span style=\"color: yellow\"><span class=\"ansi-yellow-fg\">Elem</span></span>(<span style=\"color: rgb(0, 187, 0)\"><span class=\"ansi-green-fg\">B</span></span>, Typs)),\n",
       "    <span style=\"color: yellow\"><span class=\"ansi-yellow-fg\">FinalVal</span></span>(<span style=\"color: yellow\"><span class=\"ansi-yellow-fg\">Event</span></span>(Terms, <span style=\"color: yellow\"><span class=\"ansi-yellow-fg\">Filter</span></span>(<span style=\"color: yellow\"><span class=\"ansi-yellow-fg\">WithTyp</span></span>(<span style=\"color: rgb(0, 187, 0)\"><span class=\"ansi-green-fg\">B</span></span>)))),\n",
       "    <span style=\"color: yellow\"><span class=\"ansi-yellow-fg\">FinalVal</span></span>(<span style=\"color: yellow\"><span class=\"ansi-yellow-fg\">Elem</span></span>(<span style=\"color: rgb(0, 187, 0)\"><span class=\"ansi-green-fg\">f(a)</span></span>, Terms)),\n",
       "    <span style=\"color: yellow\"><span class=\"ansi-yellow-fg\">FinalVal</span></span>(<span style=\"color: yellow\"><span class=\"ansi-yellow-fg\">Elem</span></span>(<span style=\"color: rgb(0, 187, 0)\"><span class=\"ansi-green-fg\">f</span></span>, Terms)),\n",
       "    <span style=\"color: yellow\"><span class=\"ansi-yellow-fg\">InitialVal</span></span>(<span style=\"color: yellow\"><span class=\"ansi-yellow-fg\">Elem</span></span>(<span style=\"color: rgb(0, 187, 0)\"><span class=\"ansi-green-fg\">f</span></span>, Terms)),\n",
       "    <span style=\"color: yellow\"><span class=\"ansi-yellow-fg\">FinalVal</span></span>(<span style=\"color: yellow\"><span class=\"ansi-yellow-fg\">Elem</span></span>(<span style=\"color: rgb(0, 187, 0)\"><span class=\"ansi-green-fg\">a</span></span>, <span style=\"color: yellow\"><span class=\"ansi-yellow-fg\">AtCoord</span></span>(TermsWithTyp, <span style=\"color: rgb(0, 187, 0)\"><span class=\"ansi-green-fg\">A</span></span> :: HNil))),\n",
       "    <span style=\"color: yellow\"><span class=\"ansi-yellow-fg\">InitialVal</span></span>(<span style=\"color: yellow\"><span class=\"ansi-yellow-fg\">Elem</span></span>(<span style=\"color: rgb(0, 187, 0)\"><span class=\"ansi-green-fg\">a</span></span>, <span style=\"color: yellow\"><span class=\"ansi-yellow-fg\">AtCoord</span></span>(TermsWithTyp, <span style=\"color: rgb(0, 187, 0)\"><span class=\"ansi-green-fg\">A</span></span> :: HNil))),\n",
       "    <span style=\"color: yellow\"><span class=\"ansi-yellow-fg\">FinalVal</span></span>(<span style=\"color: yellow\"><span class=\"ansi-yellow-fg\">Elem</span></span>(<span style=\"color: yellow\"><span class=\"ansi-yellow-fg\">Wrap</span></span>(<span style=\"color: rgb(0, 187, 0)\"><span class=\"ansi-green-fg\">f</span></span>), <span style=\"color: yellow\"><span class=\"ansi-yellow-fg\">AtCoord</span></span>(FuncsWithDomain, <span style=\"color: rgb(0, 187, 0)\"><span class=\"ansi-green-fg\">A</span></span> :: HNil))),\n",
       "    <span style=\"color: yellow\"><span class=\"ansi-yellow-fg\">InitialVal</span></span>(<span style=\"color: yellow\"><span class=\"ansi-yellow-fg\">Elem</span></span>(<span style=\"color: yellow\"><span class=\"ansi-yellow-fg\">Wrap</span></span>(<span style=\"color: rgb(0, 187, 0)\"><span class=\"ansi-green-fg\">f</span></span>), <span style=\"color: yellow\"><span class=\"ansi-yellow-fg\">AtCoord</span></span>(FuncsWithDomain, <span style=\"color: rgb(0, 187, 0)\"><span class=\"ansi-green-fg\">A</span></span> :: HNil))),\n",
       "    <span style=\"color: yellow\"><span class=\"ansi-yellow-fg\">InitialVal</span></span>(<span style=\"color: yellow\"><span class=\"ansi-yellow-fg\">Elem</span></span>(<span style=\"color: yellow\"><span class=\"ansi-yellow-fg\">Wrap</span></span>(<span style=\"color: rgb(0, 187, 0)\"><span class=\"ansi-green-fg\">f</span></span>), Funcs)),\n",
       "    <span style=\"color: yellow\"><span class=\"ansi-yellow-fg\">FinalVal</span></span>(<span style=\"color: yellow\"><span class=\"ansi-yellow-fg\">Elem</span></span>(<span style=\"color: yellow\"><span class=\"ansi-yellow-fg\">Wrap</span></span>(<span style=\"color: rgb(0, 187, 0)\"><span class=\"ansi-green-fg\">f</span></span>), Funcs)),\n",
       "    <span style=\"color: yellow\"><span class=\"ansi-yellow-fg\">FinalVal</span></span>(<span style=\"color: yellow\"><span class=\"ansi-yellow-fg\">Elem</span></span>(<span style=\"color: rgb(0, 187, 0)\"><span class=\"ansi-green-fg\">A</span></span>, TargetTyps)),\n",
       "    <span style=\"color: yellow\"><span class=\"ansi-yellow-fg\">FinalVal</span></span>(<span style=\"color: yellow\"><span class=\"ansi-yellow-fg\">Elem</span></span>(<span style=\"color: rgb(0, 187, 0)\"><span class=\"ansi-green-fg\">a</span></span>, Terms)),\n",
       "    <span style=\"color: yellow\"><span class=\"ansi-yellow-fg\">InitialVal</span></span>(<span style=\"color: yellow\"><span class=\"ansi-yellow-fg\">Elem</span></span>(<span style=\"color: rgb(0, 187, 0)\"><span class=\"ansi-green-fg\">a</span></span>, Terms)),\n",
       "    <span style=\"color: yellow\"><span class=\"ansi-yellow-fg\">FinalVal</span></span>(<span style=\"color: yellow\"><span class=\"ansi-yellow-fg\">Elem</span></span>(<span style=\"color: rgb(0, 187, 0)\"><span class=\"ansi-green-fg\">f(a)</span></span>, <span style=\"color: yellow\"><span class=\"ansi-yellow-fg\">AtCoord</span></span>(TermsWithTyp, <span style=\"color: rgb(0, 187, 0)\"><span class=\"ansi-green-fg\">B</span></span> :: HNil))),\n",
       "    <span style=\"color: yellow\"><span class=\"ansi-yellow-fg\">FinalVal</span></span>(<span style=\"color: yellow\"><span class=\"ansi-yellow-fg\">Elem</span></span>(<span style=\"color: rgb(0, 187, 0)\"><span class=\"ansi-green-fg\">B</span></span>, TargetTyps))\n",
       "  )\n",
       ")</span></span></span></code></pre>\n",
       "</div>"
      ],
      "text/plain": [
       "\u001b[36mres33\u001b[39m: \u001b[32mmonix\u001b[39m.\u001b[32mexecution\u001b[39m.\u001b[32mCancelableFuture\u001b[39m[\u001b[32mVector\u001b[39m[\u001b[32mExpression\u001b[39m]] = \u001b[32m\u001b[33mSuccess\u001b[39m(\n",
       "  \u001b[33mVector\u001b[39m(\n",
       "    \u001b[33mFinalVal\u001b[39m(\u001b[33mElem\u001b[39m(\u001b[32mA\u001b[39m, Typs)),\n",
       "    \u001b[33mInitialVal\u001b[39m(\u001b[33mElem\u001b[39m(\u001b[32mA\u001b[39m, Typs)),\n",
       "    \u001b[33mFinalVal\u001b[39m(\u001b[33mElem\u001b[39m(\u001b[32mB\u001b[39m, Typs)),\n",
       "    \u001b[33mInitialVal\u001b[39m(\u001b[33mElem\u001b[39m(\u001b[32mB\u001b[39m, Typs)),\n",
       "    \u001b[33mFinalVal\u001b[39m(\u001b[33mEvent\u001b[39m(Terms, \u001b[33mFilter\u001b[39m(\u001b[33mWithTyp\u001b[39m(\u001b[32mB\u001b[39m)))),\n",
       "    \u001b[33mFinalVal\u001b[39m(\u001b[33mElem\u001b[39m(\u001b[32mf(a)\u001b[39m, Terms)),\n",
       "    \u001b[33mFinalVal\u001b[39m(\u001b[33mElem\u001b[39m(\u001b[32mf\u001b[39m, Terms)),\n",
       "    \u001b[33mInitialVal\u001b[39m(\u001b[33mElem\u001b[39m(\u001b[32mf\u001b[39m, Terms)),\n",
       "    \u001b[33mFinalVal\u001b[39m(\u001b[33mElem\u001b[39m(\u001b[32ma\u001b[39m, \u001b[33mAtCoord\u001b[39m(TermsWithTyp, \u001b[32mA\u001b[39m :: HNil))),\n",
       "    \u001b[33mInitialVal\u001b[39m(\u001b[33mElem\u001b[39m(\u001b[32ma\u001b[39m, \u001b[33mAtCoord\u001b[39m(TermsWithTyp, \u001b[32mA\u001b[39m :: HNil))),\n",
       "    \u001b[33mFinalVal\u001b[39m(\u001b[33mElem\u001b[39m(\u001b[33mWrap\u001b[39m(\u001b[32mf\u001b[39m), \u001b[33mAtCoord\u001b[39m(FuncsWithDomain, \u001b[32mA\u001b[39m :: HNil))),\n",
       "    \u001b[33mInitialVal\u001b[39m(\u001b[33mElem\u001b[39m(\u001b[33mWrap\u001b[39m(\u001b[32mf\u001b[39m), \u001b[33mAtCoord\u001b[39m(FuncsWithDomain, \u001b[32mA\u001b[39m :: HNil))),\n",
       "    \u001b[33mInitialVal\u001b[39m(\u001b[33mElem\u001b[39m(\u001b[33mWrap\u001b[39m(\u001b[32mf\u001b[39m), Funcs)),\n",
       "    \u001b[33mFinalVal\u001b[39m(\u001b[33mElem\u001b[39m(\u001b[33mWrap\u001b[39m(\u001b[32mf\u001b[39m), Funcs)),\n",
       "    \u001b[33mFinalVal\u001b[39m(\u001b[33mElem\u001b[39m(\u001b[32mA\u001b[39m, TargetTyps)),\n",
       "    \u001b[33mFinalVal\u001b[39m(\u001b[33mElem\u001b[39m(\u001b[32ma\u001b[39m, Terms)),\n",
       "    \u001b[33mInitialVal\u001b[39m(\u001b[33mElem\u001b[39m(\u001b[32ma\u001b[39m, Terms)),\n",
       "    \u001b[33mFinalVal\u001b[39m(\u001b[33mElem\u001b[39m(\u001b[32mf(a)\u001b[39m, \u001b[33mAtCoord\u001b[39m(TermsWithTyp, \u001b[32mB\u001b[39m :: HNil))),\n",
       "    \u001b[33mFinalVal\u001b[39m(\u001b[33mElem\u001b[39m(\u001b[32mB\u001b[39m, TargetTyps))\n",
       "  )\n",
       ")\u001b[39m"
      ]
     },
     "metadata": {},
     "output_type": "display_data"
    }
   ],
   "source": [
    "lp7.expressionEval.map(_.vars).runToFuture"
   ]
  },
  {
   "cell_type": "code",
   "execution_count": 35,
   "metadata": {},
   "outputs": [
    {
     "data": {
      "text/plain": [
       "\u001b[36mts2\u001b[39m: \u001b[32mTermState\u001b[39m = \u001b[33mTermState\u001b[39m(\n",
       "  \u001b[33mFiniteDistribution\u001b[39m(\n",
       "    \u001b[33mVector\u001b[39m(\n",
       "      \u001b[33mWeighted\u001b[39m(\u001b[32ma\u001b[39m, \u001b[32m0.3333333333333333\u001b[39m),\n",
       "      \u001b[33mWeighted\u001b[39m(\u001b[32mf\u001b[39m, \u001b[32m0.3333333333333333\u001b[39m),\n",
       "      \u001b[33mWeighted\u001b[39m(\u001b[32mf(a)\u001b[39m, \u001b[32m0.3333333333333333\u001b[39m)\n",
       "    )\n",
       "  ),\n",
       "  \u001b[33mFiniteDistribution\u001b[39m(\u001b[33mVector\u001b[39m(\u001b[33mWeighted\u001b[39m(\u001b[32mA\u001b[39m, \u001b[32m0.01\u001b[39m), \u001b[33mWeighted\u001b[39m(\u001b[32mB\u001b[39m, \u001b[32m0.99\u001b[39m))),\n",
       "  \u001b[33mVector\u001b[39m(),\n",
       "  \u001b[33mFiniteDistribution\u001b[39m(\u001b[33mVector\u001b[39m()),\n",
       "  \u001b[33mFiniteDistribution\u001b[39m(\u001b[33mVector\u001b[39m()),\n",
       "  Empty\n",
       ")\n",
       "\u001b[36mlp8\u001b[39m: \u001b[32mLocalProver\u001b[39m = \u001b[33mLocalProver\u001b[39m(\n",
       "  \u001b[33mTermState\u001b[39m(\n",
       "    \u001b[33mFiniteDistribution\u001b[39m(\n",
       "      \u001b[33mVector\u001b[39m(\n",
       "        \u001b[33mWeighted\u001b[39m(\u001b[32ma\u001b[39m, \u001b[32m0.3333333333333333\u001b[39m),\n",
       "        \u001b[33mWeighted\u001b[39m(\u001b[32mf\u001b[39m, \u001b[32m0.3333333333333333\u001b[39m),\n",
       "        \u001b[33mWeighted\u001b[39m(\u001b[32mf(a)\u001b[39m, \u001b[32m0.3333333333333333\u001b[39m)\n",
       "      )\n",
       "    ),\n",
       "    \u001b[33mFiniteDistribution\u001b[39m(\u001b[33mVector\u001b[39m(\u001b[33mWeighted\u001b[39m(\u001b[32mA\u001b[39m, \u001b[32m0.01\u001b[39m), \u001b[33mWeighted\u001b[39m(\u001b[32mB\u001b[39m, \u001b[32m0.99\u001b[39m))),\n",
       "    \u001b[33mVector\u001b[39m(),\n",
       "    \u001b[33mFiniteDistribution\u001b[39m(\u001b[33mVector\u001b[39m()),\n",
       "    \u001b[33mFiniteDistribution\u001b[39m(\u001b[33mVector\u001b[39m()),\n",
       "    Empty\n",
       "  ),\n",
       "  \u001b[33mTermGenParams\u001b[39m(\n",
       "    \u001b[32m0.1\u001b[39m,\n",
       "    \u001b[32m0.1\u001b[39m,\n",
       "    \u001b[32m0.1\u001b[39m,\n",
       "    \u001b[32m0.0\u001b[39m,\n",
       "    \u001b[32m0.0\u001b[39m,\n",
       "    \u001b[32m0.05\u001b[39m,\n",
       "    \u001b[32m0.05\u001b[39m,\n",
       "    \u001b[32m0.0\u001b[39m,\n",
       "    \u001b[32m0.0\u001b[39m,\n",
       "    \u001b[32m0.0\u001b[39m,\n",
       "    \u001b[32m0.0\u001b[39m,\n",
       "    \u001b[32m0.0\u001b[39m,\n",
       "    \u001b[32m0.3\u001b[39m,\n",
       "    \u001b[32m0.7\u001b[39m,\n",
       "    \u001b[32m0.5\u001b[39m,\n",
       "    \u001b[32m0.0\u001b[39m,\n",
       "    \u001b[32m0.0\u001b[39m,\n",
       "    \u001b[32m0.0\u001b[39m\n",
       "  ),\n",
       "  \u001b[32m1.0E-4\u001b[39m,\n",
       "  12 minutes,\n",
       "  \u001b[32m1.01\u001b[39m,\n",
       "  \u001b[32m1.0\u001b[39m,\n",
       "..."
      ]
     },
     "execution_count": 35,
     "metadata": {},
     "output_type": "execute_result"
    }
   ],
   "source": [
    "val ts2 = TermState(FiniteDistribution.unif(a, f, f(a)), FiniteDistribution(A -> 0.01, B -> 0.99))\n",
    "val lp8 = LocalProver(ts2,  hW = 0.0001).noIsles"
   ]
  },
  {
   "cell_type": "code",
   "execution_count": 36,
   "metadata": {},
   "outputs": [
    {
     "data": {
      "text/html": [
       "<div class=\"jp-RenderedText\">\n",
       "<pre><code><span style=\"color: rgb(0, 187, 187)\"><span class=\"ansi-cyan-fg\">res35</span></span>: <span style=\"color: rgb(0, 187, 0)\"><span class=\"ansi-green-fg\">monix</span></span>.<span style=\"color: rgb(0, 187, 0)\"><span class=\"ansi-green-fg\">execution</span></span>.<span style=\"color: rgb(0, 187, 0)\"><span class=\"ansi-green-fg\">CancelableFuture</span></span>[<span style=\"color: rgb(0, 187, 0)\"><span class=\"ansi-green-fg\">FiniteDistribution</span></span>[<span style=\"color: rgb(0, 187, 0)\"><span class=\"ansi-green-fg\">Term</span></span>]] = <span style=\"color: rgb(0, 187, 0)\"><span class=\"ansi-green-fg\"><style>@keyframes fadein { from { opacity: 0; } to { opacity: 1; } }</style><span style=\"animation: fadein 2s;\"><span style=\"color: yellow\"><span class=\"ansi-yellow-fg\">Success</span></span>(\n",
       "  <span style=\"color: yellow\"><span class=\"ansi-yellow-fg\">FiniteDistribution</span></span>(\n",
       "    <span style=\"color: yellow\"><span class=\"ansi-yellow-fg\">Vector</span></span>(\n",
       "      <span style=\"color: yellow\"><span class=\"ansi-yellow-fg\">Weighted</span></span>(<span style=\"color: rgb(0, 187, 0)\"><span class=\"ansi-green-fg\">f(a)</span></span>, <span style=\"color: rgb(0, 187, 0)\"><span class=\"ansi-green-fg\">0.008352975813745006</span></span>),\n",
       "      <span style=\"color: yellow\"><span class=\"ansi-yellow-fg\">Weighted</span></span>(<span style=\"color: rgb(0, 187, 0)\"><span class=\"ansi-green-fg\">f</span></span>, <span style=\"color: rgb(0, 187, 0)\"><span class=\"ansi-green-fg\">0.3643174099017187</span></span>),\n",
       "      <span style=\"color: yellow\"><span class=\"ansi-yellow-fg\">Weighted</span></span>(<span style=\"color: rgb(0, 187, 0)\"><span class=\"ansi-green-fg\">a</span></span>, <span style=\"color: rgb(0, 187, 0)\"><span class=\"ansi-green-fg\">0.6273296142845364</span></span>)\n",
       "    )\n",
       "  )\n",
       ")</span></span></span></code></pre>\n",
       "</div>"
      ],
      "text/plain": [
       "\u001b[36mres35\u001b[39m: \u001b[32mmonix\u001b[39m.\u001b[32mexecution\u001b[39m.\u001b[32mCancelableFuture\u001b[39m[\u001b[32mFiniteDistribution\u001b[39m[\u001b[32mTerm\u001b[39m]] = \u001b[32m\u001b[33mSuccess\u001b[39m(\n",
       "  \u001b[33mFiniteDistribution\u001b[39m(\n",
       "    \u001b[33mVector\u001b[39m(\n",
       "      \u001b[33mWeighted\u001b[39m(\u001b[32mf(a)\u001b[39m, \u001b[32m0.008352975813745006\u001b[39m),\n",
       "      \u001b[33mWeighted\u001b[39m(\u001b[32mf\u001b[39m, \u001b[32m0.3643174099017187\u001b[39m),\n",
       "      \u001b[33mWeighted\u001b[39m(\u001b[32ma\u001b[39m, \u001b[32m0.6273296142845364\u001b[39m)\n",
       "    )\n",
       "  )\n",
       ")\u001b[39m"
      ]
     },
     "metadata": {},
     "output_type": "display_data"
    }
   ],
   "source": [
    "lp8.tunedGenerators.runToFuture"
   ]
  },
  {
   "cell_type": "code",
   "execution_count": 37,
   "metadata": {},
   "outputs": [
    {
     "data": {
      "text/plain": [
       "\u001b[36mts3\u001b[39m: \u001b[32mTermState\u001b[39m = \u001b[33mTermState\u001b[39m(\n",
       "  \u001b[33mFiniteDistribution\u001b[39m(\n",
       "    \u001b[33mVector\u001b[39m(\n",
       "      \u001b[33mWeighted\u001b[39m(\u001b[32ma\u001b[39m, \u001b[32m0.3333333333333333\u001b[39m),\n",
       "      \u001b[33mWeighted\u001b[39m(\u001b[32mf\u001b[39m, \u001b[32m0.3333333333333333\u001b[39m),\n",
       "      \u001b[33mWeighted\u001b[39m(\u001b[32mf(a)\u001b[39m, \u001b[32m0.3333333333333333\u001b[39m)\n",
       "    )\n",
       "  ),\n",
       "  \u001b[33mFiniteDistribution\u001b[39m(\u001b[33mVector\u001b[39m(\u001b[33mWeighted\u001b[39m(\u001b[32mA\u001b[39m, \u001b[32m0.05\u001b[39m), \u001b[33mWeighted\u001b[39m(\u001b[32mB\u001b[39m, \u001b[32m0.95\u001b[39m))),\n",
       "  \u001b[33mVector\u001b[39m(),\n",
       "  \u001b[33mFiniteDistribution\u001b[39m(\u001b[33mVector\u001b[39m()),\n",
       "  \u001b[33mFiniteDistribution\u001b[39m(\u001b[33mVector\u001b[39m()),\n",
       "  Empty\n",
       ")\n",
       "\u001b[36mlp9\u001b[39m: \u001b[32mLocalProver\u001b[39m = \u001b[33mLocalProver\u001b[39m(\n",
       "  \u001b[33mTermState\u001b[39m(\n",
       "    \u001b[33mFiniteDistribution\u001b[39m(\n",
       "      \u001b[33mVector\u001b[39m(\n",
       "        \u001b[33mWeighted\u001b[39m(\u001b[32ma\u001b[39m, \u001b[32m0.3333333333333333\u001b[39m),\n",
       "        \u001b[33mWeighted\u001b[39m(\u001b[32mf\u001b[39m, \u001b[32m0.3333333333333333\u001b[39m),\n",
       "        \u001b[33mWeighted\u001b[39m(\u001b[32mf(a)\u001b[39m, \u001b[32m0.3333333333333333\u001b[39m)\n",
       "      )\n",
       "    ),\n",
       "    \u001b[33mFiniteDistribution\u001b[39m(\u001b[33mVector\u001b[39m(\u001b[33mWeighted\u001b[39m(\u001b[32mA\u001b[39m, \u001b[32m0.05\u001b[39m), \u001b[33mWeighted\u001b[39m(\u001b[32mB\u001b[39m, \u001b[32m0.95\u001b[39m))),\n",
       "    \u001b[33mVector\u001b[39m(),\n",
       "    \u001b[33mFiniteDistribution\u001b[39m(\u001b[33mVector\u001b[39m()),\n",
       "    \u001b[33mFiniteDistribution\u001b[39m(\u001b[33mVector\u001b[39m()),\n",
       "    Empty\n",
       "  ),\n",
       "  \u001b[33mTermGenParams\u001b[39m(\n",
       "    \u001b[32m0.1\u001b[39m,\n",
       "    \u001b[32m0.1\u001b[39m,\n",
       "    \u001b[32m0.1\u001b[39m,\n",
       "    \u001b[32m0.0\u001b[39m,\n",
       "    \u001b[32m0.0\u001b[39m,\n",
       "    \u001b[32m0.05\u001b[39m,\n",
       "    \u001b[32m0.05\u001b[39m,\n",
       "    \u001b[32m0.0\u001b[39m,\n",
       "    \u001b[32m0.0\u001b[39m,\n",
       "    \u001b[32m0.0\u001b[39m,\n",
       "    \u001b[32m0.0\u001b[39m,\n",
       "    \u001b[32m0.0\u001b[39m,\n",
       "    \u001b[32m0.3\u001b[39m,\n",
       "    \u001b[32m0.7\u001b[39m,\n",
       "    \u001b[32m0.5\u001b[39m,\n",
       "    \u001b[32m0.0\u001b[39m,\n",
       "    \u001b[32m0.0\u001b[39m,\n",
       "    \u001b[32m0.0\u001b[39m\n",
       "  ),\n",
       "  \u001b[32m1.0E-4\u001b[39m,\n",
       "  12 minutes,\n",
       "  \u001b[32m1.01\u001b[39m,\n",
       "  \u001b[32m1.0\u001b[39m,\n",
       "...\n",
       "\u001b[36mts4\u001b[39m: \u001b[32mTermState\u001b[39m = \u001b[33mTermState\u001b[39m(\n",
       "  \u001b[33mFiniteDistribution\u001b[39m(\n",
       "    \u001b[33mVector\u001b[39m(\n",
       "      \u001b[33mWeighted\u001b[39m(\u001b[32ma\u001b[39m, \u001b[32m0.3333333333333333\u001b[39m),\n",
       "      \u001b[33mWeighted\u001b[39m(\u001b[32mf\u001b[39m, \u001b[32m0.3333333333333333\u001b[39m),\n",
       "      \u001b[33mWeighted\u001b[39m(\u001b[32mf(a)\u001b[39m, \u001b[32m0.3333333333333333\u001b[39m)\n",
       "    )\n",
       "  ),\n",
       "  \u001b[33mFiniteDistribution\u001b[39m(\u001b[33mVector\u001b[39m(\u001b[33mWeighted\u001b[39m(\u001b[32mA\u001b[39m, \u001b[32m0.1\u001b[39m), \u001b[33mWeighted\u001b[39m(\u001b[32mB\u001b[39m, \u001b[32m0.9\u001b[39m))),\n",
       "  \u001b[33mVector\u001b[39m(),\n",
       "  \u001b[33mFiniteDistribution\u001b[39m(\u001b[33mVector\u001b[39m()),\n",
       "  \u001b[33mFiniteDistribution\u001b[39m(\u001b[33mVector\u001b[39m()),\n",
       "  Empty\n",
       ")\n",
       "\u001b[36mlp10\u001b[39m: \u001b[32mLocalProver\u001b[39m = \u001b[33mLocalProver\u001b[39m(\n",
       "  \u001b[33mTermState\u001b[39m(\n",
       "    \u001b[33mFiniteDistribution\u001b[39m(\n",
       "      \u001b[33mVector\u001b[39m(\n",
       "        \u001b[33mWeighted\u001b[39m(\u001b[32ma\u001b[39m, \u001b[32m0.3333333333333333\u001b[39m),\n",
       "        \u001b[33mWeighted\u001b[39m(\u001b[32mf\u001b[39m, \u001b[32m0.3333333333333333\u001b[39m),\n",
       "        \u001b[33mWeighted\u001b[39m(\u001b[32mf(a)\u001b[39m, \u001b[32m0.3333333333333333\u001b[39m)\n",
       "      )\n",
       "    ),\n",
       "    \u001b[33mFiniteDistribution\u001b[39m(\u001b[33mVector\u001b[39m(\u001b[33mWeighted\u001b[39m(\u001b[32mA\u001b[39m, \u001b[32m0.1\u001b[39m), \u001b[33mWeighted\u001b[39m(\u001b[32mB\u001b[39m, \u001b[32m0.9\u001b[39m))),\n",
       "    \u001b[33mVector\u001b[39m(),\n",
       "    \u001b[33mFiniteDistribution\u001b[39m(\u001b[33mVector\u001b[39m()),\n",
       "    \u001b[33mFiniteDistribution\u001b[39m(\u001b[33mVector\u001b[39m()),\n",
       "    Empty\n",
       "  ),\n",
       "  \u001b[33mTermGenParams\u001b[39m(\n",
       "    \u001b[32m0.1\u001b[39m,\n",
       "    \u001b[32m0.1\u001b[39m,\n",
       "    \u001b[32m0.1\u001b[39m,\n",
       "    \u001b[32m0.0\u001b[39m,\n",
       "    \u001b[32m0.0\u001b[39m,\n",
       "    \u001b[32m0.05\u001b[39m,\n",
       "    \u001b[32m0.05\u001b[39m,\n",
       "    \u001b[32m0.0\u001b[39m,\n",
       "    \u001b[32m0.0\u001b[39m,\n",
       "    \u001b[32m0.0\u001b[39m,\n",
       "    \u001b[32m0.0\u001b[39m,\n",
       "    \u001b[32m0.0\u001b[39m,\n",
       "    \u001b[32m0.3\u001b[39m,\n",
       "    \u001b[32m0.7\u001b[39m,\n",
       "    \u001b[32m0.5\u001b[39m,\n",
       "    \u001b[32m0.0\u001b[39m,\n",
       "    \u001b[32m0.0\u001b[39m,\n",
       "    \u001b[32m0.0\u001b[39m\n",
       "  ),\n",
       "  \u001b[32m1.0E-4\u001b[39m,\n",
       "  12 minutes,\n",
       "  \u001b[32m1.01\u001b[39m,\n",
       "  \u001b[32m1.0\u001b[39m,\n",
       "..."
      ]
     },
     "execution_count": 37,
     "metadata": {},
     "output_type": "execute_result"
    }
   ],
   "source": [
    "val ts3 = TermState(FiniteDistribution.unif(a, f, f(a)), FiniteDistribution(A -> 0.05, B -> 0.95))\n",
    "val lp9 = LocalProver(ts3,  hW = 0.0001).noIsles\n",
    "val ts4 = TermState(FiniteDistribution.unif(a, f, f(a)), FiniteDistribution(A -> 0.1, B -> 0.9))\n",
    "val lp10 = LocalProver(ts4,  hW = 0.0001).noIsles"
   ]
  },
  {
   "cell_type": "code",
   "execution_count": 38,
   "metadata": {},
   "outputs": [
    {
     "data": {
      "text/html": [
       "<div class=\"jp-RenderedText\">\n",
       "<pre><code><span style=\"color: rgb(0, 187, 187)\"><span class=\"ansi-cyan-fg\">res37_0</span></span>: <span style=\"color: rgb(0, 187, 0)\"><span class=\"ansi-green-fg\">monix</span></span>.<span style=\"color: rgb(0, 187, 0)\"><span class=\"ansi-green-fg\">execution</span></span>.<span style=\"color: rgb(0, 187, 0)\"><span class=\"ansi-green-fg\">CancelableFuture</span></span>[<span style=\"color: rgb(0, 187, 0)\"><span class=\"ansi-green-fg\">FiniteDistribution</span></span>[<span style=\"color: rgb(0, 187, 0)\"><span class=\"ansi-green-fg\">Term</span></span>]] = <span style=\"color: rgb(0, 187, 0)\"><span class=\"ansi-green-fg\"><span style=\"color: yellow\"><span class=\"ansi-yellow-fg\">Success</span></span>(\n",
       "  <span style=\"color: yellow\"><span class=\"ansi-yellow-fg\">FiniteDistribution</span></span>(\n",
       "    <span style=\"color: yellow\"><span class=\"ansi-yellow-fg\">Vector</span></span>(\n",
       "      <span style=\"color: yellow\"><span class=\"ansi-yellow-fg\">Weighted</span></span>(<span style=\"color: rgb(0, 187, 0)\"><span class=\"ansi-green-fg\">f(a)</span></span>, <span style=\"color: rgb(0, 187, 0)\"><span class=\"ansi-green-fg\">0.0016384166835784267</span></span>),\n",
       "      <span style=\"color: yellow\"><span class=\"ansi-yellow-fg\">Weighted</span></span>(<span style=\"color: rgb(0, 187, 0)\"><span class=\"ansi-green-fg\">f</span></span>, <span style=\"color: rgb(0, 187, 0)\"><span class=\"ansi-green-fg\">0.3641638877259243</span></span>),\n",
       "      <span style=\"color: yellow\"><span class=\"ansi-yellow-fg\">Weighted</span></span>(<span style=\"color: rgb(0, 187, 0)\"><span class=\"ansi-green-fg\">a</span></span>, <span style=\"color: rgb(0, 187, 0)\"><span class=\"ansi-green-fg\">0.6341976955904972</span></span>)\n",
       "    )\n",
       "  )\n",
       ")</span></span>\n",
       "<span style=\"color: rgb(0, 187, 187)\"><span class=\"ansi-cyan-fg\">res37_1</span></span>: <span style=\"color: rgb(0, 187, 0)\"><span class=\"ansi-green-fg\">monix</span></span>.<span style=\"color: rgb(0, 187, 0)\"><span class=\"ansi-green-fg\">execution</span></span>.<span style=\"color: rgb(0, 187, 0)\"><span class=\"ansi-green-fg\">CancelableFuture</span></span>[<span style=\"color: rgb(0, 187, 0)\"><span class=\"ansi-green-fg\">FiniteDistribution</span></span>[<span style=\"color: rgb(0, 187, 0)\"><span class=\"ansi-green-fg\">Term</span></span>]] = <span style=\"color: rgb(0, 187, 0)\"><span class=\"ansi-green-fg\"><style>@keyframes fadein { from { opacity: 0; } to { opacity: 1; } }</style><span style=\"animation: fadein 2s;\"><span style=\"color: yellow\"><span class=\"ansi-yellow-fg\">Success</span></span>(\n",
       "  <span style=\"color: yellow\"><span class=\"ansi-yellow-fg\">FiniteDistribution</span></span>(\n",
       "    <span style=\"color: yellow\"><span class=\"ansi-yellow-fg\">Vector</span></span>(\n",
       "      <span style=\"color: yellow\"><span class=\"ansi-yellow-fg\">Weighted</span></span>(<span style=\"color: rgb(0, 187, 0)\"><span class=\"ansi-green-fg\">f(a)</span></span>, <span style=\"color: rgb(0, 187, 0)\"><span class=\"ansi-green-fg\">8.141318390969435E-4</span></span>),\n",
       "      <span style=\"color: yellow\"><span class=\"ansi-yellow-fg\">Weighted</span></span>(<span style=\"color: rgb(0, 187, 0)\"><span class=\"ansi-green-fg\">f</span></span>, <span style=\"color: rgb(0, 187, 0)\"><span class=\"ansi-green-fg\">0.3582488995214191</span></span>),\n",
       "      <span style=\"color: yellow\"><span class=\"ansi-yellow-fg\">Weighted</span></span>(<span style=\"color: rgb(0, 187, 0)\"><span class=\"ansi-green-fg\">a</span></span>, <span style=\"color: rgb(0, 187, 0)\"><span class=\"ansi-green-fg\">0.6409369686394839</span></span>)\n",
       "    )\n",
       "  )\n",
       ")</span></span></span></code></pre>\n",
       "</div>"
      ],
      "text/plain": [
       "\u001b[36mres37_0\u001b[39m: \u001b[32mmonix\u001b[39m.\u001b[32mexecution\u001b[39m.\u001b[32mCancelableFuture\u001b[39m[\u001b[32mFiniteDistribution\u001b[39m[\u001b[32mTerm\u001b[39m]] = \u001b[32m\u001b[33mSuccess\u001b[39m(\n",
       "  \u001b[33mFiniteDistribution\u001b[39m(\n",
       "    \u001b[33mVector\u001b[39m(\n",
       "      \u001b[33mWeighted\u001b[39m(\u001b[32mf(a)\u001b[39m, \u001b[32m0.0016384166835784267\u001b[39m),\n",
       "      \u001b[33mWeighted\u001b[39m(\u001b[32mf\u001b[39m, \u001b[32m0.3641638877259243\u001b[39m),\n",
       "      \u001b[33mWeighted\u001b[39m(\u001b[32ma\u001b[39m, \u001b[32m0.6341976955904972\u001b[39m)\n",
       "    )\n",
       "  )\n",
       ")\u001b[39m\n",
       "\u001b[36mres37_1\u001b[39m: \u001b[32mmonix\u001b[39m.\u001b[32mexecution\u001b[39m.\u001b[32mCancelableFuture\u001b[39m[\u001b[32mFiniteDistribution\u001b[39m[\u001b[32mTerm\u001b[39m]] = \u001b[32m\u001b[33mSuccess\u001b[39m(\n",
       "  \u001b[33mFiniteDistribution\u001b[39m(\n",
       "    \u001b[33mVector\u001b[39m(\n",
       "      \u001b[33mWeighted\u001b[39m(\u001b[32mf(a)\u001b[39m, \u001b[32m8.141318390969435E-4\u001b[39m),\n",
       "      \u001b[33mWeighted\u001b[39m(\u001b[32mf\u001b[39m, \u001b[32m0.3582488995214191\u001b[39m),\n",
       "      \u001b[33mWeighted\u001b[39m(\u001b[32ma\u001b[39m, \u001b[32m0.6409369686394839\u001b[39m)\n",
       "    )\n",
       "  )\n",
       ")\u001b[39m"
      ]
     },
     "metadata": {},
     "output_type": "display_data"
    }
   ],
   "source": [
    "lp9.tunedGenerators.runToFuture\n",
    "lp10.tunedGenerators.runToFuture"
   ]
  },
  {
   "cell_type": "code",
   "execution_count": 39,
   "metadata": {},
   "outputs": [
    {
     "data": {
      "text/plain": [
       "\u001b[36mlp11\u001b[39m: \u001b[32mLocalProver\u001b[39m = \u001b[33mLocalProver\u001b[39m(\n",
       "  \u001b[33mTermState\u001b[39m(\n",
       "    \u001b[33mFiniteDistribution\u001b[39m(\n",
       "      \u001b[33mVector\u001b[39m(\n",
       "        \u001b[33mWeighted\u001b[39m(\u001b[32ma\u001b[39m, \u001b[32m0.3333333333333333\u001b[39m),\n",
       "        \u001b[33mWeighted\u001b[39m(\u001b[32mf\u001b[39m, \u001b[32m0.3333333333333333\u001b[39m),\n",
       "        \u001b[33mWeighted\u001b[39m(\u001b[32mf(a)\u001b[39m, \u001b[32m0.3333333333333333\u001b[39m)\n",
       "      )\n",
       "    ),\n",
       "    \u001b[33mFiniteDistribution\u001b[39m(\u001b[33mVector\u001b[39m(\u001b[33mWeighted\u001b[39m(\u001b[32mA\u001b[39m, \u001b[32m0.01\u001b[39m), \u001b[33mWeighted\u001b[39m(\u001b[32mB\u001b[39m, \u001b[32m0.99\u001b[39m))),\n",
       "    \u001b[33mVector\u001b[39m(),\n",
       "    \u001b[33mFiniteDistribution\u001b[39m(\u001b[33mVector\u001b[39m()),\n",
       "    \u001b[33mFiniteDistribution\u001b[39m(\u001b[33mVector\u001b[39m()),\n",
       "    Empty\n",
       "  ),\n",
       "  \u001b[33mTermGenParams\u001b[39m(\n",
       "    \u001b[32m0.1\u001b[39m,\n",
       "    \u001b[32m0.1\u001b[39m,\n",
       "    \u001b[32m0.1\u001b[39m,\n",
       "    \u001b[32m0.0\u001b[39m,\n",
       "    \u001b[32m0.0\u001b[39m,\n",
       "    \u001b[32m0.05\u001b[39m,\n",
       "    \u001b[32m0.05\u001b[39m,\n",
       "    \u001b[32m0.0\u001b[39m,\n",
       "    \u001b[32m0.0\u001b[39m,\n",
       "    \u001b[32m0.0\u001b[39m,\n",
       "    \u001b[32m0.0\u001b[39m,\n",
       "    \u001b[32m0.0\u001b[39m,\n",
       "    \u001b[32m0.3\u001b[39m,\n",
       "    \u001b[32m0.7\u001b[39m,\n",
       "    \u001b[32m0.5\u001b[39m,\n",
       "    \u001b[32m0.0\u001b[39m,\n",
       "    \u001b[32m0.0\u001b[39m,\n",
       "    \u001b[32m0.0\u001b[39m\n",
       "  ),\n",
       "  \u001b[32m1.0E-4\u001b[39m,\n",
       "  12 minutes,\n",
       "  \u001b[32m1.01\u001b[39m,\n",
       "  \u001b[32m1.0\u001b[39m,\n",
       "..."
      ]
     },
     "execution_count": 39,
     "metadata": {},
     "output_type": "execute_result"
    }
   ],
   "source": [
    "\n",
    "val lp11 = LocalProver(ts2,  hW = 0.01).noIsles"
   ]
  },
  {
   "cell_type": "code",
   "execution_count": 40,
   "metadata": {},
   "outputs": [
    {
     "data": {
      "text/html": [
       "<div class=\"jp-RenderedText\">\n",
       "<pre><code><span style=\"color: rgb(0, 187, 187)\"><span class=\"ansi-cyan-fg\">res39</span></span>: <span style=\"color: rgb(0, 187, 0)\"><span class=\"ansi-green-fg\">monix</span></span>.<span style=\"color: rgb(0, 187, 0)\"><span class=\"ansi-green-fg\">execution</span></span>.<span style=\"color: rgb(0, 187, 0)\"><span class=\"ansi-green-fg\">CancelableFuture</span></span>[<span style=\"color: rgb(0, 187, 0)\"><span class=\"ansi-green-fg\">FiniteDistribution</span></span>[<span style=\"color: rgb(0, 187, 0)\"><span class=\"ansi-green-fg\">Term</span></span>]] = <span style=\"color: rgb(0, 187, 0)\"><span class=\"ansi-green-fg\"><style>@keyframes fadein { from { opacity: 0; } to { opacity: 1; } }</style><span style=\"animation: fadein 2s;\"><span style=\"color: yellow\"><span class=\"ansi-yellow-fg\">Success</span></span>(\n",
       "  <span style=\"color: yellow\"><span class=\"ansi-yellow-fg\">FiniteDistribution</span></span>(\n",
       "    <span style=\"color: yellow\"><span class=\"ansi-yellow-fg\">Vector</span></span>(\n",
       "      <span style=\"color: yellow\"><span class=\"ansi-yellow-fg\">Weighted</span></span>(<span style=\"color: rgb(0, 187, 0)\"><span class=\"ansi-green-fg\">f(a)</span></span>, <span style=\"color: rgb(0, 187, 0)\"><span class=\"ansi-green-fg\">0.002254902978375091</span></span>),\n",
       "      <span style=\"color: yellow\"><span class=\"ansi-yellow-fg\">Weighted</span></span>(<span style=\"color: rgb(0, 187, 0)\"><span class=\"ansi-green-fg\">f</span></span>, <span style=\"color: rgb(0, 187, 0)\"><span class=\"ansi-green-fg\">0.07807967755141672</span></span>),\n",
       "      <span style=\"color: yellow\"><span class=\"ansi-yellow-fg\">Weighted</span></span>(<span style=\"color: rgb(0, 187, 0)\"><span class=\"ansi-green-fg\">a</span></span>, <span style=\"color: rgb(0, 187, 0)\"><span class=\"ansi-green-fg\">0.9196654194702082</span></span>)\n",
       "    )\n",
       "  )\n",
       ")</span></span></span></code></pre>\n",
       "</div>"
      ],
      "text/plain": [
       "\u001b[36mres39\u001b[39m: \u001b[32mmonix\u001b[39m.\u001b[32mexecution\u001b[39m.\u001b[32mCancelableFuture\u001b[39m[\u001b[32mFiniteDistribution\u001b[39m[\u001b[32mTerm\u001b[39m]] = \u001b[32m\u001b[33mSuccess\u001b[39m(\n",
       "  \u001b[33mFiniteDistribution\u001b[39m(\n",
       "    \u001b[33mVector\u001b[39m(\n",
       "      \u001b[33mWeighted\u001b[39m(\u001b[32mf(a)\u001b[39m, \u001b[32m0.002254902978375091\u001b[39m),\n",
       "      \u001b[33mWeighted\u001b[39m(\u001b[32mf\u001b[39m, \u001b[32m0.07807967755141672\u001b[39m),\n",
       "      \u001b[33mWeighted\u001b[39m(\u001b[32ma\u001b[39m, \u001b[32m0.9196654194702082\u001b[39m)\n",
       "    )\n",
       "  )\n",
       ")\u001b[39m"
      ]
     },
     "metadata": {},
     "output_type": "display_data"
    }
   ],
   "source": [
    "lp11.tunedGenerators.runToFuture"
   ]
  },
  {
   "cell_type": "code",
   "execution_count": 41,
   "metadata": {},
   "outputs": [
    {
     "data": {
      "text/plain": [
       "\u001b[36mres40\u001b[39m: \u001b[32mTermState\u001b[39m = \u001b[33mTermState\u001b[39m(\n",
       "  \u001b[33mFiniteDistribution\u001b[39m(\n",
       "    \u001b[33mVector\u001b[39m(\n",
       "      \u001b[33mWeighted\u001b[39m(\u001b[32ma\u001b[39m, \u001b[32m0.3333333333333333\u001b[39m),\n",
       "      \u001b[33mWeighted\u001b[39m(\u001b[32mf\u001b[39m, \u001b[32m0.3333333333333333\u001b[39m),\n",
       "      \u001b[33mWeighted\u001b[39m(\u001b[32mf(a)\u001b[39m, \u001b[32m0.3333333333333333\u001b[39m)\n",
       "    )\n",
       "  ),\n",
       "  \u001b[33mFiniteDistribution\u001b[39m(\u001b[33mVector\u001b[39m(\u001b[33mWeighted\u001b[39m(\u001b[32mA\u001b[39m, \u001b[32m0.01\u001b[39m), \u001b[33mWeighted\u001b[39m(\u001b[32mB\u001b[39m, \u001b[32m0.99\u001b[39m))),\n",
       "  \u001b[33mVector\u001b[39m(),\n",
       "  \u001b[33mFiniteDistribution\u001b[39m(\u001b[33mVector\u001b[39m()),\n",
       "  \u001b[33mFiniteDistribution\u001b[39m(\u001b[33mVector\u001b[39m()),\n",
       "  Empty\n",
       ")"
      ]
     },
     "execution_count": 41,
     "metadata": {},
     "output_type": "execute_result"
    }
   ],
   "source": [
    "ts2"
   ]
  },
  {
   "cell_type": "code",
   "execution_count": 42,
   "metadata": {},
   "outputs": [
    {
     "data": {
      "text/plain": [
       "\u001b[36mlp12\u001b[39m: \u001b[32mLocalProver\u001b[39m = \u001b[33mLocalProver\u001b[39m(\n",
       "  \u001b[33mTermState\u001b[39m(\n",
       "    \u001b[33mFiniteDistribution\u001b[39m(\n",
       "      \u001b[33mVector\u001b[39m(\n",
       "        \u001b[33mWeighted\u001b[39m(\u001b[32ma\u001b[39m, \u001b[32m0.3333333333333333\u001b[39m),\n",
       "        \u001b[33mWeighted\u001b[39m(\u001b[32mf\u001b[39m, \u001b[32m0.3333333333333333\u001b[39m),\n",
       "        \u001b[33mWeighted\u001b[39m(\u001b[32mf(a)\u001b[39m, \u001b[32m0.3333333333333333\u001b[39m)\n",
       "      )\n",
       "    ),\n",
       "    \u001b[33mFiniteDistribution\u001b[39m(\u001b[33mVector\u001b[39m(\u001b[33mWeighted\u001b[39m(\u001b[32mA\u001b[39m, \u001b[32m0.01\u001b[39m), \u001b[33mWeighted\u001b[39m(\u001b[32mB\u001b[39m, \u001b[32m0.99\u001b[39m))),\n",
       "    \u001b[33mVector\u001b[39m(),\n",
       "    \u001b[33mFiniteDistribution\u001b[39m(\u001b[33mVector\u001b[39m()),\n",
       "    \u001b[33mFiniteDistribution\u001b[39m(\u001b[33mVector\u001b[39m()),\n",
       "    Empty\n",
       "  ),\n",
       "  \u001b[33mTermGenParams\u001b[39m(\n",
       "    \u001b[32m0.1\u001b[39m,\n",
       "    \u001b[32m0.1\u001b[39m,\n",
       "    \u001b[32m0.1\u001b[39m,\n",
       "    \u001b[32m0.0\u001b[39m,\n",
       "    \u001b[32m0.0\u001b[39m,\n",
       "    \u001b[32m0.05\u001b[39m,\n",
       "    \u001b[32m0.05\u001b[39m,\n",
       "    \u001b[32m0.0\u001b[39m,\n",
       "    \u001b[32m0.0\u001b[39m,\n",
       "    \u001b[32m0.0\u001b[39m,\n",
       "    \u001b[32m0.0\u001b[39m,\n",
       "    \u001b[32m0.0\u001b[39m,\n",
       "    \u001b[32m0.3\u001b[39m,\n",
       "    \u001b[32m0.7\u001b[39m,\n",
       "    \u001b[32m0.5\u001b[39m,\n",
       "    \u001b[32m0.0\u001b[39m,\n",
       "    \u001b[32m0.0\u001b[39m,\n",
       "    \u001b[32m0.0\u001b[39m\n",
       "  ),\n",
       "  \u001b[32m1.0E-4\u001b[39m,\n",
       "  12 minutes,\n",
       "  \u001b[32m1.01\u001b[39m,\n",
       "  \u001b[32m1.0\u001b[39m,\n",
       "..."
      ]
     },
     "execution_count": 42,
     "metadata": {},
     "output_type": "execute_result"
    }
   ],
   "source": [
    "val lp12 = LocalProver(ts2,  hW = 0.00001, klW = 10).noIsles"
   ]
  },
  {
   "cell_type": "code",
   "execution_count": 43,
   "metadata": {},
   "outputs": [
    {
     "data": {
      "text/html": [
       "<div class=\"jp-RenderedText\">\n",
       "<pre><code><span style=\"color: rgb(0, 187, 187)\"><span class=\"ansi-cyan-fg\">res42</span></span>: <span style=\"color: rgb(0, 187, 0)\"><span class=\"ansi-green-fg\">monix</span></span>.<span style=\"color: rgb(0, 187, 0)\"><span class=\"ansi-green-fg\">execution</span></span>.<span style=\"color: rgb(0, 187, 0)\"><span class=\"ansi-green-fg\">CancelableFuture</span></span>[<span style=\"color: rgb(0, 187, 0)\"><span class=\"ansi-green-fg\">FiniteDistribution</span></span>[<span style=\"color: rgb(0, 187, 0)\"><span class=\"ansi-green-fg\">Term</span></span>]] = <span style=\"color: rgb(0, 187, 0)\"><span class=\"ansi-green-fg\"><style>@keyframes fadein { from { opacity: 0; } to { opacity: 1; } }</style><span style=\"animation: fadein 2s;\"><span style=\"color: yellow\"><span class=\"ansi-yellow-fg\">Success</span></span>(\n",
       "  <span style=\"color: yellow\"><span class=\"ansi-yellow-fg\">FiniteDistribution</span></span>(\n",
       "    <span style=\"color: yellow\"><span class=\"ansi-yellow-fg\">Vector</span></span>(\n",
       "      <span style=\"color: yellow\"><span class=\"ansi-yellow-fg\">Weighted</span></span>(<span style=\"color: rgb(0, 187, 0)\"><span class=\"ansi-green-fg\">f(a)</span></span>, <span style=\"color: rgb(0, 187, 0)\"><span class=\"ansi-green-fg\">8.784548569259632E-4</span></span>),\n",
       "      <span style=\"color: yellow\"><span class=\"ansi-yellow-fg\">Weighted</span></span>(<span style=\"color: rgb(0, 187, 0)\"><span class=\"ansi-green-fg\">f</span></span>, <span style=\"color: rgb(0, 187, 0)\"><span class=\"ansi-green-fg\">0.29424729355651563</span></span>),\n",
       "      <span style=\"color: yellow\"><span class=\"ansi-yellow-fg\">Weighted</span></span>(<span style=\"color: rgb(0, 187, 0)\"><span class=\"ansi-green-fg\">a</span></span>, <span style=\"color: rgb(0, 187, 0)\"><span class=\"ansi-green-fg\">0.7048742515865584</span></span>)\n",
       "    )\n",
       "  )\n",
       ")</span></span></span></code></pre>\n",
       "</div>"
      ],
      "text/plain": [
       "\u001b[36mres42\u001b[39m: \u001b[32mmonix\u001b[39m.\u001b[32mexecution\u001b[39m.\u001b[32mCancelableFuture\u001b[39m[\u001b[32mFiniteDistribution\u001b[39m[\u001b[32mTerm\u001b[39m]] = \u001b[32m\u001b[33mSuccess\u001b[39m(\n",
       "  \u001b[33mFiniteDistribution\u001b[39m(\n",
       "    \u001b[33mVector\u001b[39m(\n",
       "      \u001b[33mWeighted\u001b[39m(\u001b[32mf(a)\u001b[39m, \u001b[32m8.784548569259632E-4\u001b[39m),\n",
       "      \u001b[33mWeighted\u001b[39m(\u001b[32mf\u001b[39m, \u001b[32m0.29424729355651563\u001b[39m),\n",
       "      \u001b[33mWeighted\u001b[39m(\u001b[32ma\u001b[39m, \u001b[32m0.7048742515865584\u001b[39m)\n",
       "    )\n",
       "  )\n",
       ")\u001b[39m"
      ]
     },
     "metadata": {},
     "output_type": "display_data"
    }
   ],
   "source": [
    "lp12.tunedGenerators.runToFuture"
   ]
  },
  {
   "cell_type": "code",
   "execution_count": 44,
   "metadata": {},
   "outputs": [
    {
     "data": {
      "text/html": [
       "<div class=\"jp-RenderedText\">\n",
       "<pre><code><span style=\"color: rgb(0, 187, 187)\"><span class=\"ansi-cyan-fg\">res43</span></span>: <span style=\"color: rgb(0, 187, 0)\"><span class=\"ansi-green-fg\">monix</span></span>.<span style=\"color: rgb(0, 187, 0)\"><span class=\"ansi-green-fg\">execution</span></span>.<span style=\"color: rgb(0, 187, 0)\"><span class=\"ansi-green-fg\">CancelableFuture</span></span>[<span style=\"color: rgb(0, 187, 0)\"><span class=\"ansi-green-fg\">TermState</span></span>] = <span style=\"color: rgb(0, 187, 0)\"><span class=\"ansi-green-fg\"><style>@keyframes fadein { from { opacity: 0; } to { opacity: 1; } }</style><span style=\"animation: fadein 2s;\"><span style=\"color: yellow\"><span class=\"ansi-yellow-fg\">Success</span></span>(\n",
       "  <span style=\"color: yellow\"><span class=\"ansi-yellow-fg\">TermState</span></span>(\n",
       "    <span style=\"color: yellow\"><span class=\"ansi-yellow-fg\">FiniteDistribution</span></span>(\n",
       "      <span style=\"color: yellow\"><span class=\"ansi-yellow-fg\">Vector</span></span>(\n",
       "        <span style=\"color: yellow\"><span class=\"ansi-yellow-fg\">Weighted</span></span>(<span style=\"color: rgb(0, 187, 0)\"><span class=\"ansi-green-fg\">f(a)</span></span>, <span style=\"color: rgb(0, 187, 0)\"><span class=\"ansi-green-fg\">0.5304835577110888</span></span>),\n",
       "        <span style=\"color: yellow\"><span class=\"ansi-yellow-fg\">Weighted</span></span>(<span style=\"color: rgb(0, 187, 0)\"><span class=\"ansi-green-fg\">a</span></span>, <span style=\"color: rgb(0, 187, 0)\"><span class=\"ansi-green-fg\">0.23475822114445552</span></span>),\n",
       "        <span style=\"color: yellow\"><span class=\"ansi-yellow-fg\">Weighted</span></span>(<span style=\"color: rgb(0, 187, 0)\"><span class=\"ansi-green-fg\">f</span></span>, <span style=\"color: rgb(0, 187, 0)\"><span class=\"ansi-green-fg\">0.23475822114445552</span></span>)\n",
       "      )\n",
       "    ),\n",
       "    <span style=\"color: yellow\"><span class=\"ansi-yellow-fg\">FiniteDistribution</span></span>(<span style=\"color: yellow\"><span class=\"ansi-yellow-fg\">Vector</span></span>(<span style=\"color: yellow\"><span class=\"ansi-yellow-fg\">Weighted</span></span>(<span style=\"color: rgb(0, 187, 0)\"><span class=\"ansi-green-fg\">A</span></span>, <span style=\"color: rgb(0, 187, 0)\"><span class=\"ansi-green-fg\">0.01</span></span>), <span style=\"color: yellow\"><span class=\"ansi-yellow-fg\">Weighted</span></span>(<span style=\"color: rgb(0, 187, 0)\"><span class=\"ansi-green-fg\">B</span></span>, <span style=\"color: rgb(0, 187, 0)\"><span class=\"ansi-green-fg\">0.99</span></span>))),\n",
       "    <span style=\"color: yellow\"><span class=\"ansi-yellow-fg\">Vector</span></span>(),\n",
       "    <span style=\"color: yellow\"><span class=\"ansi-yellow-fg\">FiniteDistribution</span></span>(<span style=\"color: yellow\"><span class=\"ansi-yellow-fg\">Vector</span></span>()),\n",
       "    <span style=\"color: yellow\"><span class=\"ansi-yellow-fg\">FiniteDistribution</span></span>(<span style=\"color: yellow\"><span class=\"ansi-yellow-fg\">Vector</span></span>()),\n",
       "    Empty\n",
       "  )\n",
       ")</span></span></span></code></pre>\n",
       "</div>"
      ],
      "text/plain": [
       "\u001b[36mres43\u001b[39m: \u001b[32mmonix\u001b[39m.\u001b[32mexecution\u001b[39m.\u001b[32mCancelableFuture\u001b[39m[\u001b[32mTermState\u001b[39m] = \u001b[32m\u001b[33mSuccess\u001b[39m(\n",
       "  \u001b[33mTermState\u001b[39m(\n",
       "    \u001b[33mFiniteDistribution\u001b[39m(\n",
       "      \u001b[33mVector\u001b[39m(\n",
       "        \u001b[33mWeighted\u001b[39m(\u001b[32mf(a)\u001b[39m, \u001b[32m0.5304835577110888\u001b[39m),\n",
       "        \u001b[33mWeighted\u001b[39m(\u001b[32ma\u001b[39m, \u001b[32m0.23475822114445552\u001b[39m),\n",
       "        \u001b[33mWeighted\u001b[39m(\u001b[32mf\u001b[39m, \u001b[32m0.23475822114445552\u001b[39m)\n",
       "      )\n",
       "    ),\n",
       "    \u001b[33mFiniteDistribution\u001b[39m(\u001b[33mVector\u001b[39m(\u001b[33mWeighted\u001b[39m(\u001b[32mA\u001b[39m, \u001b[32m0.01\u001b[39m), \u001b[33mWeighted\u001b[39m(\u001b[32mB\u001b[39m, \u001b[32m0.99\u001b[39m))),\n",
       "    \u001b[33mVector\u001b[39m(),\n",
       "    \u001b[33mFiniteDistribution\u001b[39m(\u001b[33mVector\u001b[39m()),\n",
       "    \u001b[33mFiniteDistribution\u001b[39m(\u001b[33mVector\u001b[39m()),\n",
       "    Empty\n",
       "  )\n",
       ")\u001b[39m"
      ]
     },
     "metadata": {},
     "output_type": "display_data"
    }
   ],
   "source": [
    "lp12.nextState.runToFuture "
   ]
  },
  {
   "cell_type": "code",
   "execution_count": 45,
   "metadata": {},
   "outputs": [
    {
     "data": {
      "text/html": [
       "<div class=\"jp-RenderedText\">\n",
       "<pre><code><span style=\"color: rgb(0, 187, 187)\"><span class=\"ansi-cyan-fg\">res44</span></span>: <span style=\"color: rgb(0, 187, 0)\"><span class=\"ansi-green-fg\">monix</span></span>.<span style=\"color: rgb(0, 187, 0)\"><span class=\"ansi-green-fg\">execution</span></span>.<span style=\"color: rgb(0, 187, 0)\"><span class=\"ansi-green-fg\">CancelableFuture</span></span>[(<span style=\"color: rgb(0, 187, 0)\"><span class=\"ansi-green-fg\">FiniteDistribution</span></span>[<span style=\"color: rgb(0, 187, 0)\"><span class=\"ansi-green-fg\">Term</span></span>], <span style=\"color: rgb(0, 187, 0)\"><span class=\"ansi-green-fg\">Set</span></span>[<span style=\"color: rgb(0, 187, 0)\"><span class=\"ansi-green-fg\">EquationNode</span></span>], <span style=\"color: rgb(0, 187, 0)\"><span class=\"ansi-green-fg\">EqDistMemo</span></span>[<span style=\"color: rgb(0, 187, 0)\"><span class=\"ansi-green-fg\">TermState</span></span>])] = <span style=\"color: rgb(0, 187, 0)\"><span class=\"ansi-green-fg\"><span style=\"color: white\"><span class=\"ansi-white-fg\">[running]</span></span></span></span></code></pre>\n",
       "</div>"
      ],
      "text/plain": [
       "\u001b[36mres44\u001b[39m: \u001b[32mmonix\u001b[39m.\u001b[32mexecution\u001b[39m.\u001b[32mCancelableFuture\u001b[39m[(\u001b[32mFiniteDistribution\u001b[39m[\u001b[32mTerm\u001b[39m], \u001b[32mSet\u001b[39m[\u001b[32mEquationNode\u001b[39m], \u001b[32mEqDistMemo\u001b[39m[\u001b[32mTermState\u001b[39m])] = \u001b[32m\u001b[37m[running]\u001b[39m\u001b[39m"
      ]
     },
     "metadata": {},
     "output_type": "display_data"
    }
   ],
   "source": [
    "lp12.tripleT.runToFuture"
   ]
  },
  {
   "cell_type": "code",
   "execution_count": 46,
   "metadata": {},
   "outputs": [
    {
     "data": {
      "text/html": [
       "<div class=\"jp-RenderedText\">\n",
       "<pre><code><span style=\"color: rgb(0, 187, 187)\"><span class=\"ansi-cyan-fg\">res45</span></span>: <span style=\"color: rgb(0, 187, 0)\"><span class=\"ansi-green-fg\">monix</span></span>.<span style=\"color: rgb(0, 187, 0)\"><span class=\"ansi-green-fg\">execution</span></span>.<span style=\"color: rgb(0, 187, 0)\"><span class=\"ansi-green-fg\">CancelableFuture</span></span>[(<span style=\"color: rgb(0, 187, 0)\"><span class=\"ansi-green-fg\">FiniteDistribution</span></span>[<span style=\"color: rgb(0, 187, 0)\"><span class=\"ansi-green-fg\">Typ</span></span>[<span style=\"color: rgb(0, 187, 0)\"><span class=\"ansi-green-fg\">Term</span></span>]], <span style=\"color: rgb(0, 187, 0)\"><span class=\"ansi-green-fg\">Set</span></span>[<span style=\"color: rgb(0, 187, 0)\"><span class=\"ansi-green-fg\">EquationNode</span></span>], <span style=\"color: rgb(0, 187, 0)\"><span class=\"ansi-green-fg\">EqDistMemo</span></span>[<span style=\"color: rgb(0, 187, 0)\"><span class=\"ansi-green-fg\">TermState</span></span>])] = <span style=\"color: rgb(0, 187, 0)\"><span class=\"ansi-green-fg\"><span style=\"color: yellow\"><span class=\"ansi-yellow-fg\">Success</span></span>(\n",
       "  (\n",
       "    <span style=\"color: yellow\"><span class=\"ansi-yellow-fg\">FiniteDistribution</span></span>(<span style=\"color: yellow\"><span class=\"ansi-yellow-fg\">Vector</span></span>(<span style=\"color: yellow\"><span class=\"ansi-yellow-fg\">Weighted</span></span>(<span style=\"color: rgb(0, 187, 0)\"><span class=\"ansi-green-fg\">A</span></span>, <span style=\"color: rgb(0, 187, 0)\"><span class=\"ansi-green-fg\">0.01</span></span>), <span style=\"color: yellow\"><span class=\"ansi-yellow-fg\">Weighted</span></span>(<span style=\"color: rgb(0, 187, 0)\"><span class=\"ansi-green-fg\">B</span></span>, <span style=\"color: rgb(0, 187, 0)\"><span class=\"ansi-green-fg\">0.99</span></span>))),\n",
       "    <span style=\"color: yellow\"><span class=\"ansi-yellow-fg\">Set</span></span>(\n",
       "      <span style=\"color: yellow\"><span class=\"ansi-yellow-fg\">EquationNode</span></span>(\n",
       "        <span style=\"color: yellow\"><span class=\"ansi-yellow-fg\">FinalVal</span></span>(<span style=\"color: yellow\"><span class=\"ansi-yellow-fg\">Elem</span></span>(<span style=\"color: yellow\"><span class=\"ansi-yellow-fg\">Wrap</span></span>(<span style=\"color: rgb(0, 187, 0)\"><span class=\"ansi-green-fg\">f</span></span>), <span style=\"color: yellow\"><span class=\"ansi-yellow-fg\">AtCoord</span></span>(FuncsWithDomain, <span style=\"color: rgb(0, 187, 0)\"><span class=\"ansi-green-fg\">A</span></span> :: HNil))),\n",
       "        <span style=\"color: yellow\"><span class=\"ansi-yellow-fg\">Product</span></span>(\n",
       "          <span style=\"color: yellow\"><span class=\"ansi-yellow-fg\">Coeff</span></span>(<span style=\"color: yellow\"><span class=\"ansi-yellow-fg\">Init</span></span>(<span style=\"color: yellow\"><span class=\"ansi-yellow-fg\">AtCoord</span></span>(FuncsWithDomain, <span style=\"color: rgb(0, 187, 0)\"><span class=\"ansi-green-fg\">A</span></span> :: HNil))),\n",
       "          <span style=\"color: yellow\"><span class=\"ansi-yellow-fg\">InitialVal</span></span>(<span style=\"color: yellow\"><span class=\"ansi-yellow-fg\">Elem</span></span>(<span style=\"color: yellow\"><span class=\"ansi-yellow-fg\">Wrap</span></span>(<span style=\"color: rgb(0, 187, 0)\"><span class=\"ansi-green-fg\">f</span></span>), <span style=\"color: yellow\"><span class=\"ansi-yellow-fg\">AtCoord</span></span>(FuncsWithDomain, <span style=\"color: rgb(0, 187, 0)\"><span class=\"ansi-green-fg\">A</span></span> :: HNil)))\n",
       "        )\n",
       "      ),\n",
       "      <span style=\"color: yellow\"><span class=\"ansi-yellow-fg\">EquationNode</span></span>(\n",
       "        <span style=\"color: yellow\"><span class=\"ansi-yellow-fg\">FinalVal</span></span>(<span style=\"color: yellow\"><span class=\"ansi-yellow-fg\">Elem</span></span>(<span style=\"color: rgb(0, 187, 0)\"><span class=\"ansi-green-fg\">f(a)</span></span>, Terms)),\n",
       "        <span style=\"color: yellow\"><span class=\"ansi-yellow-fg\">Product</span></span>(\n",
       "          <span style=\"color: yellow\"><span class=\"ansi-yellow-fg\">Product</span></span>(\n",
       "            <span style=\"color: yellow\"><span class=\"ansi-yellow-fg\">Coeff</span></span>(\n",
       "              <span style=\"color: yellow\"><span class=\"ansi-yellow-fg\">BaseThenCondition</span></span>(\n",
       "                <span style=\"color: yellow\"><span class=\"ansi-yellow-fg\">ZipMapOpt</span></span>(UnifApplnOpt, Funcs, Terms, Terms),\n",
       "                <span style=\"color: yellow\"><span class=\"ansi-yellow-fg\">AtCoord</span></span>(FuncsWithDomain, <span style=\"color: rgb(0, 187, 0)\"><span class=\"ansi-green-fg\">A</span></span> :: HNil),\n",
       "                <span style=\"color: yellow\"><span class=\"ansi-yellow-fg\">Restrict</span></span>(<span style=\"color: yellow\"><span class=\"ansi-yellow-fg\">FuncWithDom</span></span>(<span style=\"color: rgb(0, 187, 0)\"><span class=\"ansi-green-fg\">A</span></span>))\n",
       "              )\n",
       "            ),\n",
       "            <span style=\"color: yellow\"><span class=\"ansi-yellow-fg\">FinalVal</span></span>(<span style=\"color: yellow\"><span class=\"ansi-yellow-fg\">Elem</span></span>(<span style=\"color: yellow\"><span class=\"ansi-yellow-fg\">Wrap</span></span>(<span style=\"color: rgb(0, 187, 0)\"><span class=\"ansi-green-fg\">f</span></span>), Funcs))\n",
       "          ),\n",
       "          <span style=\"color: yellow\"><span class=\"ansi-yellow-fg\">FinalVal</span></span>(<span style=\"color: yellow\"><span class=\"ansi-yellow-fg\">Elem</span></span>(<span style=\"color: rgb(0, 187, 0)\"><span class=\"ansi-green-fg\">a</span></span>, Terms))\n",
       "        )\n",
       "      ),\n",
       "      <span style=\"color: yellow\"><span class=\"ansi-yellow-fg\">EquationNode</span></span>(\n",
       "        <span style=\"color: yellow\"><span class=\"ansi-yellow-fg\">FinalVal</span></span>(<span style=\"color: yellow\"><span class=\"ansi-yellow-fg\">Elem</span></span>(<span style=\"color: rgb(0, 187, 0)\"><span class=\"ansi-green-fg\">f(a)</span></span>, Terms)),\n",
       "        <span style=\"color: yellow\"><span class=\"ansi-yellow-fg\">Product</span></span>(\n",
       "          <span style=\"color: yellow\"><span class=\"ansi-yellow-fg\">Product</span></span>(\n",
       "            <span style=\"color: yellow\"><span class=\"ansi-yellow-fg\">Coeff</span></span>(\n",
       "              <span style=\"color: yellow\"><span class=\"ansi-yellow-fg\">BaseThenCondition</span></span>(\n",
       "                <span style=\"color: yellow\"><span class=\"ansi-yellow-fg\">ZipMapOpt</span></span>(UnifApplnOpt, Funcs, Terms, Terms),\n",
       "                <span style=\"color: yellow\"><span class=\"ansi-yellow-fg\">AtCoord</span></span>(FuncsWithDomain, <span style=\"color: rgb(0, 187, 0)\"><span class=\"ansi-green-fg\">(A → B)</span></span> :: HNil),\n",
       "                <span style=\"color: yellow\"><span class=\"ansi-yellow-fg\">Restrict</span></span>(<span style=\"color: yellow\"><span class=\"ansi-yellow-fg\">FuncWithDom</span></span>(<span style=\"color: rgb(0, 187, 0)\"><span class=\"ansi-green-fg\">(A → B)</span></span>))\n",
       "              )\n",
       "            ),\n",
       "            <span style=\"color: yellow\"><span class=\"ansi-yellow-fg\">FinalVal</span></span>(<span style=\"color: yellow\"><span class=\"ansi-yellow-fg\">Elem</span></span>(<span style=\"color: yellow\"><span class=\"ansi-yellow-fg\">Wrap</span></span>(<span style=\"color: rgb(0, 187, 0)\"><span class=\"ansi-green-fg\">f</span></span>), Funcs))\n",
       "...</span></span></code></pre>\n",
       "</div>"
      ],
      "text/plain": [
       "\u001b[36mres45\u001b[39m: \u001b[32mmonix\u001b[39m.\u001b[32mexecution\u001b[39m.\u001b[32mCancelableFuture\u001b[39m[(\u001b[32mFiniteDistribution\u001b[39m[\u001b[32mTyp\u001b[39m[\u001b[32mTerm\u001b[39m]], \u001b[32mSet\u001b[39m[\u001b[32mEquationNode\u001b[39m], \u001b[32mEqDistMemo\u001b[39m[\u001b[32mTermState\u001b[39m])] = \u001b[32m\u001b[33mSuccess\u001b[39m(\n",
       "  (\n",
       "    \u001b[33mFiniteDistribution\u001b[39m(\u001b[33mVector\u001b[39m(\u001b[33mWeighted\u001b[39m(\u001b[32mA\u001b[39m, \u001b[32m0.01\u001b[39m), \u001b[33mWeighted\u001b[39m(\u001b[32mB\u001b[39m, \u001b[32m0.99\u001b[39m))),\n",
       "    \u001b[33mSet\u001b[39m(\n",
       "      \u001b[33mEquationNode\u001b[39m(\n",
       "        \u001b[33mFinalVal\u001b[39m(\u001b[33mElem\u001b[39m(\u001b[33mWrap\u001b[39m(\u001b[32mf\u001b[39m), \u001b[33mAtCoord\u001b[39m(FuncsWithDomain, \u001b[32mA\u001b[39m :: HNil))),\n",
       "        \u001b[33mProduct\u001b[39m(\n",
       "          \u001b[33mCoeff\u001b[39m(\u001b[33mInit\u001b[39m(\u001b[33mAtCoord\u001b[39m(FuncsWithDomain, \u001b[32mA\u001b[39m :: HNil))),\n",
       "          \u001b[33mInitialVal\u001b[39m(\u001b[33mElem\u001b[39m(\u001b[33mWrap\u001b[39m(\u001b[32mf\u001b[39m), \u001b[33mAtCoord\u001b[39m(FuncsWithDomain, \u001b[32mA\u001b[39m :: HNil)))\n",
       "        )\n",
       "      ),\n",
       "      \u001b[33mEquationNode\u001b[39m(\n",
       "        \u001b[33mFinalVal\u001b[39m(\u001b[33mElem\u001b[39m(\u001b[32mf(a)\u001b[39m, Terms)),\n",
       "        \u001b[33mProduct\u001b[39m(\n",
       "          \u001b[33mProduct\u001b[39m(\n",
       "            \u001b[33mCoeff\u001b[39m(\n",
       "              \u001b[33mBaseThenCondition\u001b[39m(\n",
       "                \u001b[33mZipMapOpt\u001b[39m(UnifApplnOpt, Funcs, Terms, Terms),\n",
       "                \u001b[33mAtCoord\u001b[39m(FuncsWithDomain, \u001b[32mA\u001b[39m :: HNil),\n",
       "                \u001b[33mRestrict\u001b[39m(\u001b[33mFuncWithDom\u001b[39m(\u001b[32mA\u001b[39m))\n",
       "              )\n",
       "            ),\n",
       "            \u001b[33mFinalVal\u001b[39m(\u001b[33mElem\u001b[39m(\u001b[33mWrap\u001b[39m(\u001b[32mf\u001b[39m), Funcs))\n",
       "          ),\n",
       "          \u001b[33mFinalVal\u001b[39m(\u001b[33mElem\u001b[39m(\u001b[32ma\u001b[39m, Terms))\n",
       "        )\n",
       "      ),\n",
       "      \u001b[33mEquationNode\u001b[39m(\n",
       "        \u001b[33mFinalVal\u001b[39m(\u001b[33mElem\u001b[39m(\u001b[32mf(a)\u001b[39m, Terms)),\n",
       "        \u001b[33mProduct\u001b[39m(\n",
       "          \u001b[33mProduct\u001b[39m(\n",
       "            \u001b[33mCoeff\u001b[39m(\n",
       "              \u001b[33mBaseThenCondition\u001b[39m(\n",
       "                \u001b[33mZipMapOpt\u001b[39m(UnifApplnOpt, Funcs, Terms, Terms),\n",
       "                \u001b[33mAtCoord\u001b[39m(FuncsWithDomain, \u001b[32m(A → B)\u001b[39m :: HNil),\n",
       "                \u001b[33mRestrict\u001b[39m(\u001b[33mFuncWithDom\u001b[39m(\u001b[32m(A → B)\u001b[39m))\n",
       "              )\n",
       "            ),\n",
       "            \u001b[33mFinalVal\u001b[39m(\u001b[33mElem\u001b[39m(\u001b[33mWrap\u001b[39m(\u001b[32mf\u001b[39m), Funcs))\n",
       "...\u001b[39m"
      ]
     },
     "metadata": {},
     "output_type": "display_data"
    }
   ],
   "source": [
    "lp12.tripleTypT.runToFuture"
   ]
  },
  {
   "cell_type": "code",
   "execution_count": 47,
   "metadata": {},
   "outputs": [
    {
     "data": {
      "text/plain": [
       "\u001b[36mts5\u001b[39m: \u001b[32mTermState\u001b[39m = \u001b[33mTermState\u001b[39m(\n",
       "  \u001b[33mFiniteDistribution\u001b[39m(\n",
       "    \u001b[33mVector\u001b[39m(\n",
       "      \u001b[33mWeighted\u001b[39m(\u001b[32ma\u001b[39m, \u001b[32m0.3333333333333333\u001b[39m),\n",
       "      \u001b[33mWeighted\u001b[39m(\u001b[32mf\u001b[39m, \u001b[32m0.3333333333333333\u001b[39m),\n",
       "      \u001b[33mWeighted\u001b[39m(\u001b[32mf(a)\u001b[39m, \u001b[32m0.3333333333333333\u001b[39m)\n",
       "    )\n",
       "  ),\n",
       "  \u001b[33mFiniteDistribution\u001b[39m(\u001b[33mVector\u001b[39m(\u001b[33mWeighted\u001b[39m(\u001b[32mA\u001b[39m, \u001b[32m0.001\u001b[39m), \u001b[33mWeighted\u001b[39m(\u001b[32mB\u001b[39m, \u001b[32m0.999\u001b[39m))),\n",
       "  \u001b[33mVector\u001b[39m(),\n",
       "  \u001b[33mFiniteDistribution\u001b[39m(\u001b[33mVector\u001b[39m()),\n",
       "  \u001b[33mFiniteDistribution\u001b[39m(\u001b[33mVector\u001b[39m()),\n",
       "  Empty\n",
       ")"
      ]
     },
     "execution_count": 47,
     "metadata": {},
     "output_type": "execute_result"
    }
   ],
   "source": [
    "val ts5 = TermState(FiniteDistribution.unif(a, f, f(a)), FiniteDistribution(A -> 0.001, B -> 0.999))"
   ]
  },
  {
   "cell_type": "code",
   "execution_count": 48,
   "metadata": {},
   "outputs": [
    {
     "data": {
      "text/plain": [
       "\u001b[36mlp13\u001b[39m: \u001b[32mLocalProver\u001b[39m = \u001b[33mLocalProver\u001b[39m(\n",
       "  \u001b[33mTermState\u001b[39m(\n",
       "    \u001b[33mFiniteDistribution\u001b[39m(\n",
       "      \u001b[33mVector\u001b[39m(\n",
       "        \u001b[33mWeighted\u001b[39m(\u001b[32ma\u001b[39m, \u001b[32m0.3333333333333333\u001b[39m),\n",
       "        \u001b[33mWeighted\u001b[39m(\u001b[32mf\u001b[39m, \u001b[32m0.3333333333333333\u001b[39m),\n",
       "        \u001b[33mWeighted\u001b[39m(\u001b[32mf(a)\u001b[39m, \u001b[32m0.3333333333333333\u001b[39m)\n",
       "      )\n",
       "    ),\n",
       "    \u001b[33mFiniteDistribution\u001b[39m(\u001b[33mVector\u001b[39m(\u001b[33mWeighted\u001b[39m(\u001b[32mA\u001b[39m, \u001b[32m0.001\u001b[39m), \u001b[33mWeighted\u001b[39m(\u001b[32mB\u001b[39m, \u001b[32m0.999\u001b[39m))),\n",
       "    \u001b[33mVector\u001b[39m(),\n",
       "    \u001b[33mFiniteDistribution\u001b[39m(\u001b[33mVector\u001b[39m()),\n",
       "    \u001b[33mFiniteDistribution\u001b[39m(\u001b[33mVector\u001b[39m()),\n",
       "    Empty\n",
       "  ),\n",
       "  \u001b[33mTermGenParams\u001b[39m(\n",
       "    \u001b[32m0.1\u001b[39m,\n",
       "    \u001b[32m0.1\u001b[39m,\n",
       "    \u001b[32m0.1\u001b[39m,\n",
       "    \u001b[32m0.0\u001b[39m,\n",
       "    \u001b[32m0.0\u001b[39m,\n",
       "    \u001b[32m0.05\u001b[39m,\n",
       "    \u001b[32m0.05\u001b[39m,\n",
       "    \u001b[32m0.0\u001b[39m,\n",
       "    \u001b[32m0.0\u001b[39m,\n",
       "    \u001b[32m0.0\u001b[39m,\n",
       "    \u001b[32m0.0\u001b[39m,\n",
       "    \u001b[32m0.0\u001b[39m,\n",
       "    \u001b[32m0.3\u001b[39m,\n",
       "    \u001b[32m0.7\u001b[39m,\n",
       "    \u001b[32m0.5\u001b[39m,\n",
       "    \u001b[32m0.0\u001b[39m,\n",
       "    \u001b[32m0.0\u001b[39m,\n",
       "    \u001b[32m0.0\u001b[39m\n",
       "  ),\n",
       "  \u001b[32m1.0E-4\u001b[39m,\n",
       "  12 minutes,\n",
       "  \u001b[32m1.01\u001b[39m,\n",
       "  \u001b[32m1.0\u001b[39m,\n",
       "..."
      ]
     },
     "execution_count": 48,
     "metadata": {},
     "output_type": "execute_result"
    }
   ],
   "source": [
    "val lp13 = LocalProver(ts5, hW = 0.0001, klW= 10).noIsles"
   ]
  },
  {
   "cell_type": "code",
   "execution_count": 49,
   "metadata": {},
   "outputs": [
    {
     "data": {
      "text/html": [
       "<div class=\"jp-RenderedText\">\n",
       "<pre><code><span style=\"color: rgb(0, 187, 187)\"><span class=\"ansi-cyan-fg\">res48</span></span>: <span style=\"color: rgb(0, 187, 0)\"><span class=\"ansi-green-fg\">monix</span></span>.<span style=\"color: rgb(0, 187, 0)\"><span class=\"ansi-green-fg\">execution</span></span>.<span style=\"color: rgb(0, 187, 0)\"><span class=\"ansi-green-fg\">CancelableFuture</span></span>[<span style=\"color: rgb(0, 187, 0)\"><span class=\"ansi-green-fg\">FiniteDistribution</span></span>[<span style=\"color: rgb(0, 187, 0)\"><span class=\"ansi-green-fg\">Term</span></span>]] = <span style=\"color: rgb(0, 187, 0)\"><span class=\"ansi-green-fg\"><style>@keyframes fadein { from { opacity: 0; } to { opacity: 1; } }</style><span style=\"animation: fadein 2s;\"><span style=\"color: yellow\"><span class=\"ansi-yellow-fg\">Success</span></span>(\n",
       "  <span style=\"color: yellow\"><span class=\"ansi-yellow-fg\">FiniteDistribution</span></span>(\n",
       "    <span style=\"color: yellow\"><span class=\"ansi-yellow-fg\">Vector</span></span>(\n",
       "      <span style=\"color: yellow\"><span class=\"ansi-yellow-fg\">Weighted</span></span>(<span style=\"color: rgb(0, 187, 0)\"><span class=\"ansi-green-fg\">f(a)</span></span>, <span style=\"color: rgb(0, 187, 0)\"><span class=\"ansi-green-fg\">0.009133692299872558</span></span>),\n",
       "      <span style=\"color: yellow\"><span class=\"ansi-yellow-fg\">Weighted</span></span>(<span style=\"color: rgb(0, 187, 0)\"><span class=\"ansi-green-fg\">f</span></span>, <span style=\"color: rgb(0, 187, 0)\"><span class=\"ansi-green-fg\">0.2912913884458096</span></span>),\n",
       "      <span style=\"color: yellow\"><span class=\"ansi-yellow-fg\">Weighted</span></span>(<span style=\"color: rgb(0, 187, 0)\"><span class=\"ansi-green-fg\">a</span></span>, <span style=\"color: rgb(0, 187, 0)\"><span class=\"ansi-green-fg\">0.6995749192543178</span></span>)\n",
       "    )\n",
       "  )\n",
       ")</span></span></span></code></pre>\n",
       "</div>"
      ],
      "text/plain": [
       "\u001b[36mres48\u001b[39m: \u001b[32mmonix\u001b[39m.\u001b[32mexecution\u001b[39m.\u001b[32mCancelableFuture\u001b[39m[\u001b[32mFiniteDistribution\u001b[39m[\u001b[32mTerm\u001b[39m]] = \u001b[32m\u001b[33mSuccess\u001b[39m(\n",
       "  \u001b[33mFiniteDistribution\u001b[39m(\n",
       "    \u001b[33mVector\u001b[39m(\n",
       "      \u001b[33mWeighted\u001b[39m(\u001b[32mf(a)\u001b[39m, \u001b[32m0.009133692299872558\u001b[39m),\n",
       "      \u001b[33mWeighted\u001b[39m(\u001b[32mf\u001b[39m, \u001b[32m0.2912913884458096\u001b[39m),\n",
       "      \u001b[33mWeighted\u001b[39m(\u001b[32ma\u001b[39m, \u001b[32m0.6995749192543178\u001b[39m)\n",
       "    )\n",
       "  )\n",
       ")\u001b[39m"
      ]
     },
     "metadata": {},
     "output_type": "display_data"
    }
   ],
   "source": [
    "lp13.tunedGenerators.runToFuture"
   ]
  },
  {
   "cell_type": "code",
   "execution_count": 50,
   "metadata": {},
   "outputs": [
    {
     "data": {
      "text/plain": [
       "\u001b[36mts6\u001b[39m: \u001b[32mTermState\u001b[39m = \u001b[33mTermState\u001b[39m(\n",
       "  \u001b[33mFiniteDistribution\u001b[39m(\n",
       "    \u001b[33mVector\u001b[39m(\n",
       "      \u001b[33mWeighted\u001b[39m(\u001b[32ma\u001b[39m, \u001b[32m0.3333333333333333\u001b[39m),\n",
       "      \u001b[33mWeighted\u001b[39m(\u001b[32mf\u001b[39m, \u001b[32m0.3333333333333333\u001b[39m),\n",
       "      \u001b[33mWeighted\u001b[39m(\u001b[32mf(a)\u001b[39m, \u001b[32m0.3333333333333333\u001b[39m)\n",
       "    )\n",
       "  ),\n",
       "  \u001b[33mFiniteDistribution\u001b[39m(\u001b[33mVector\u001b[39m(\u001b[33mWeighted\u001b[39m(\u001b[32mA\u001b[39m, \u001b[32m1.0E-4\u001b[39m), \u001b[33mWeighted\u001b[39m(\u001b[32mB\u001b[39m, \u001b[32m0.9999\u001b[39m))),\n",
       "  \u001b[33mVector\u001b[39m(),\n",
       "  \u001b[33mFiniteDistribution\u001b[39m(\u001b[33mVector\u001b[39m()),\n",
       "  \u001b[33mFiniteDistribution\u001b[39m(\u001b[33mVector\u001b[39m()),\n",
       "  Empty\n",
       ")\n",
       "\u001b[36mlp14\u001b[39m: \u001b[32mLocalProver\u001b[39m = \u001b[33mLocalProver\u001b[39m(\n",
       "  \u001b[33mTermState\u001b[39m(\n",
       "    \u001b[33mFiniteDistribution\u001b[39m(\n",
       "      \u001b[33mVector\u001b[39m(\n",
       "        \u001b[33mWeighted\u001b[39m(\u001b[32ma\u001b[39m, \u001b[32m0.3333333333333333\u001b[39m),\n",
       "        \u001b[33mWeighted\u001b[39m(\u001b[32mf\u001b[39m, \u001b[32m0.3333333333333333\u001b[39m),\n",
       "        \u001b[33mWeighted\u001b[39m(\u001b[32mf(a)\u001b[39m, \u001b[32m0.3333333333333333\u001b[39m)\n",
       "      )\n",
       "    ),\n",
       "    \u001b[33mFiniteDistribution\u001b[39m(\u001b[33mVector\u001b[39m(\u001b[33mWeighted\u001b[39m(\u001b[32mA\u001b[39m, \u001b[32m1.0E-4\u001b[39m), \u001b[33mWeighted\u001b[39m(\u001b[32mB\u001b[39m, \u001b[32m0.9999\u001b[39m))),\n",
       "    \u001b[33mVector\u001b[39m(),\n",
       "    \u001b[33mFiniteDistribution\u001b[39m(\u001b[33mVector\u001b[39m()),\n",
       "    \u001b[33mFiniteDistribution\u001b[39m(\u001b[33mVector\u001b[39m()),\n",
       "    Empty\n",
       "  ),\n",
       "  \u001b[33mTermGenParams\u001b[39m(\n",
       "    \u001b[32m0.1\u001b[39m,\n",
       "    \u001b[32m0.1\u001b[39m,\n",
       "    \u001b[32m0.1\u001b[39m,\n",
       "    \u001b[32m0.0\u001b[39m,\n",
       "    \u001b[32m0.0\u001b[39m,\n",
       "    \u001b[32m0.05\u001b[39m,\n",
       "    \u001b[32m0.05\u001b[39m,\n",
       "    \u001b[32m0.0\u001b[39m,\n",
       "    \u001b[32m0.0\u001b[39m,\n",
       "    \u001b[32m0.0\u001b[39m,\n",
       "    \u001b[32m0.0\u001b[39m,\n",
       "    \u001b[32m0.0\u001b[39m,\n",
       "    \u001b[32m0.3\u001b[39m,\n",
       "    \u001b[32m0.7\u001b[39m,\n",
       "    \u001b[32m0.5\u001b[39m,\n",
       "    \u001b[32m0.0\u001b[39m,\n",
       "    \u001b[32m0.0\u001b[39m,\n",
       "    \u001b[32m0.0\u001b[39m\n",
       "  ),\n",
       "  \u001b[32m1.0E-4\u001b[39m,\n",
       "  12 minutes,\n",
       "  \u001b[32m1.01\u001b[39m,\n",
       "  \u001b[32m1.0\u001b[39m,\n",
       "..."
      ]
     },
     "execution_count": 50,
     "metadata": {},
     "output_type": "execute_result"
    }
   ],
   "source": [
    "val ts6 = TermState(FiniteDistribution.unif(a, f, f(a)), FiniteDistribution(A -> 0.0001, B -> 0.9999))\n",
    "val lp14 = LocalProver(ts6, hW = 0.0001, klW= 10).noIsles"
   ]
  },
  {
   "cell_type": "code",
   "execution_count": 51,
   "metadata": {},
   "outputs": [
    {
     "data": {
      "text/html": [
       "<div class=\"jp-RenderedText\">\n",
       "<pre><code><span style=\"color: rgb(0, 187, 187)\"><span class=\"ansi-cyan-fg\">res50</span></span>: <span style=\"color: rgb(0, 187, 0)\"><span class=\"ansi-green-fg\">monix</span></span>.<span style=\"color: rgb(0, 187, 0)\"><span class=\"ansi-green-fg\">execution</span></span>.<span style=\"color: rgb(0, 187, 0)\"><span class=\"ansi-green-fg\">CancelableFuture</span></span>[<span style=\"color: rgb(0, 187, 0)\"><span class=\"ansi-green-fg\">FiniteDistribution</span></span>[<span style=\"color: rgb(0, 187, 0)\"><span class=\"ansi-green-fg\">Term</span></span>]] = <span style=\"color: rgb(0, 187, 0)\"><span class=\"ansi-green-fg\"><style>@keyframes fadein { from { opacity: 0; } to { opacity: 1; } }</style><span style=\"animation: fadein 2s;\"><span style=\"color: yellow\"><span class=\"ansi-yellow-fg\">Success</span></span>(\n",
       "  <span style=\"color: yellow\"><span class=\"ansi-yellow-fg\">FiniteDistribution</span></span>(\n",
       "    <span style=\"color: yellow\"><span class=\"ansi-yellow-fg\">Vector</span></span>(\n",
       "      <span style=\"color: yellow\"><span class=\"ansi-yellow-fg\">Weighted</span></span>(<span style=\"color: rgb(0, 187, 0)\"><span class=\"ansi-green-fg\">f(a)</span></span>, <span style=\"color: rgb(0, 187, 0)\"><span class=\"ansi-green-fg\">0.11018771010724608</span></span>),\n",
       "      <span style=\"color: yellow\"><span class=\"ansi-yellow-fg\">Weighted</span></span>(<span style=\"color: rgb(0, 187, 0)\"><span class=\"ansi-green-fg\">f</span></span>, <span style=\"color: rgb(0, 187, 0)\"><span class=\"ansi-green-fg\">0.2803408020718488</span></span>),\n",
       "      <span style=\"color: yellow\"><span class=\"ansi-yellow-fg\">Weighted</span></span>(<span style=\"color: rgb(0, 187, 0)\"><span class=\"ansi-green-fg\">a</span></span>, <span style=\"color: rgb(0, 187, 0)\"><span class=\"ansi-green-fg\">0.6094714878209051</span></span>)\n",
       "    )\n",
       "  )\n",
       ")</span></span></span></code></pre>\n",
       "</div>"
      ],
      "text/plain": [
       "\u001b[36mres50\u001b[39m: \u001b[32mmonix\u001b[39m.\u001b[32mexecution\u001b[39m.\u001b[32mCancelableFuture\u001b[39m[\u001b[32mFiniteDistribution\u001b[39m[\u001b[32mTerm\u001b[39m]] = \u001b[32m\u001b[33mSuccess\u001b[39m(\n",
       "  \u001b[33mFiniteDistribution\u001b[39m(\n",
       "    \u001b[33mVector\u001b[39m(\n",
       "      \u001b[33mWeighted\u001b[39m(\u001b[32mf(a)\u001b[39m, \u001b[32m0.11018771010724608\u001b[39m),\n",
       "      \u001b[33mWeighted\u001b[39m(\u001b[32mf\u001b[39m, \u001b[32m0.2803408020718488\u001b[39m),\n",
       "      \u001b[33mWeighted\u001b[39m(\u001b[32ma\u001b[39m, \u001b[32m0.6094714878209051\u001b[39m)\n",
       "    )\n",
       "  )\n",
       ")\u001b[39m"
      ]
     },
     "metadata": {},
     "output_type": "display_data"
    }
   ],
   "source": [
    "lp14.tunedGenerators.runToFuture"
   ]
  },
  {
   "cell_type": "markdown",
   "metadata": {},
   "source": [
    "## Conclusions\n",
    "\n",
    "After experimentation with the rather simple generation, we find\n",
    "\n",
    "* qualitatively stuff works, so seems to not have bugs\n",
    "* however perhaps because of logarithmic scaling, it takes surprising effort to get changes: specifically to have $f(a)$ in the generating set.\n"
   ]
  },
  {
   "cell_type": "code",
   "execution_count": 52,
   "metadata": {},
   "outputs": [
    {
     "data": {
      "text/html": [
       "<div class=\"jp-RenderedText\">\n",
       "<pre><code><span style=\"color: rgb(0, 187, 187)\"><span class=\"ansi-cyan-fg\">res51</span></span>: <span style=\"color: rgb(0, 187, 0)\"><span class=\"ansi-green-fg\">monix</span></span>.<span style=\"color: rgb(0, 187, 0)\"><span class=\"ansi-green-fg\">execution</span></span>.<span style=\"color: rgb(0, 187, 0)\"><span class=\"ansi-green-fg\">CancelableFuture</span></span>[<span style=\"color: rgb(0, 187, 0)\"><span class=\"ansi-green-fg\">Map</span></span>[<span style=\"color: rgb(0, 187, 0)\"><span class=\"ansi-green-fg\">Expression</span></span>, <span style=\"color: rgb(0, 187, 0)\"><span class=\"ansi-green-fg\">Double</span></span>]] = <span style=\"color: rgb(0, 187, 0)\"><span class=\"ansi-green-fg\"><style>@keyframes fadein { from { opacity: 0; } to { opacity: 1; } }</style><span style=\"animation: fadein 2s;\"><span style=\"color: yellow\"><span class=\"ansi-yellow-fg\">Success</span></span>(\n",
       "  <span style=\"color: yellow\"><span class=\"ansi-yellow-fg\">Map</span></span>(\n",
       "    <span style=\"color: yellow\"><span class=\"ansi-yellow-fg\">Coeff</span></span>(\n",
       "      <span style=\"color: yellow\"><span class=\"ansi-yellow-fg\">BaseThenCondition</span></span>(\n",
       "        <span style=\"color: yellow\"><span class=\"ansi-yellow-fg\">FiberProductMap</span></span>(typeOf(_), FuncsWithDomain, FlipAppn, Terms, Terms),\n",
       "        <span style=\"color: yellow\"><span class=\"ansi-yellow-fg\">AtCoord</span></span>(FuncsWithDomain, <span style=\"color: rgb(0, 187, 0)\"><span class=\"ansi-green-fg\">(A → B)</span></span> :: HNil),\n",
       "        <span style=\"color: yellow\"><span class=\"ansi-yellow-fg\">Restrict</span></span>(<span style=\"color: yellow\"><span class=\"ansi-yellow-fg\">FuncWithDom</span></span>(<span style=\"color: rgb(0, 187, 0)\"><span class=\"ansi-green-fg\">(A → B)</span></span>))\n",
       "      )\n",
       "    ) -&gt; <span style=\"color: rgb(0, 187, 0)\"><span class=\"ansi-green-fg\">0.1</span></span>,\n",
       "    <span style=\"color: yellow\"><span class=\"ansi-yellow-fg\">Coeff</span></span>(\n",
       "      <span style=\"color: yellow\"><span class=\"ansi-yellow-fg\">BaseThenCondition</span></span>(\n",
       "        <span style=\"color: yellow\"><span class=\"ansi-yellow-fg\">FiberProductMap</span></span>(typeOf(_), FuncsWithDomain, FlipAppn, Terms, Terms),\n",
       "        <span style=\"color: yellow\"><span class=\"ansi-yellow-fg\">AtCoord</span></span>(FuncsWithDomain, <span style=\"color: rgb(0, 187, 0)\"><span class=\"ansi-green-fg\">A</span></span> :: HNil),\n",
       "        <span style=\"color: yellow\"><span class=\"ansi-yellow-fg\">Restrict</span></span>(<span style=\"color: yellow\"><span class=\"ansi-yellow-fg\">FuncWithDom</span></span>(<span style=\"color: rgb(0, 187, 0)\"><span class=\"ansi-green-fg\">A</span></span>))\n",
       "      )\n",
       "    ) -&gt; <span style=\"color: rgb(0, 187, 0)\"><span class=\"ansi-green-fg\">0.1</span></span>,\n",
       "    <span style=\"color: yellow\"><span class=\"ansi-yellow-fg\">InitialVal</span></span>(<span style=\"color: yellow\"><span class=\"ansi-yellow-fg\">Elem</span></span>(<span style=\"color: rgb(0, 187, 0)\"><span class=\"ansi-green-fg\">A</span></span>, Typs)) -&gt; <span style=\"color: rgb(0, 187, 0)\"><span class=\"ansi-green-fg\">1.0E-4</span></span>,\n",
       "    <span style=\"color: yellow\"><span class=\"ansi-yellow-fg\">FinalVal</span></span>(<span style=\"color: yellow\"><span class=\"ansi-yellow-fg\">Elem</span></span>(<span style=\"color: rgb(0, 187, 0)\"><span class=\"ansi-green-fg\">A</span></span>, Typs)) -&gt; <span style=\"color: rgb(0, 187, 0)\"><span class=\"ansi-green-fg\">7.500000000000001E-5</span></span>,\n",
       "    <span style=\"color: yellow\"><span class=\"ansi-yellow-fg\">InitialVal</span></span>(<span style=\"color: yellow\"><span class=\"ansi-yellow-fg\">Elem</span></span>(<span style=\"color: rgb(0, 187, 0)\"><span class=\"ansi-green-fg\">B</span></span>, Typs)) -&gt; <span style=\"color: rgb(0, 187, 0)\"><span class=\"ansi-green-fg\">0.9999</span></span>,\n",
       "    <span style=\"color: yellow\"><span class=\"ansi-yellow-fg\">FinalVal</span></span>(<span style=\"color: yellow\"><span class=\"ansi-yellow-fg\">Elem</span></span>(<span style=\"color: rgb(0, 187, 0)\"><span class=\"ansi-green-fg\">B</span></span>, Typs)) -&gt; <span style=\"color: rgb(0, 187, 0)\"><span class=\"ansi-green-fg\">0.749925</span></span>,\n",
       "    <span style=\"color: yellow\"><span class=\"ansi-yellow-fg\">FinalVal</span></span>(<span style=\"color: yellow\"><span class=\"ansi-yellow-fg\">Event</span></span>(Terms, <span style=\"color: yellow\"><span class=\"ansi-yellow-fg\">Filter</span></span>(<span style=\"color: yellow\"><span class=\"ansi-yellow-fg\">WithTyp</span></span>(<span style=\"color: rgb(0, 187, 0)\"><span class=\"ansi-green-fg\">B</span></span>)))) -&gt; <span style=\"color: rgb(0, 187, 0)\"><span class=\"ansi-green-fg\">0.8451889941533142</span></span>,\n",
       "    <span style=\"color: yellow\"><span class=\"ansi-yellow-fg\">InitialVal</span></span>(<span style=\"color: yellow\"><span class=\"ansi-yellow-fg\">Elem</span></span>(<span style=\"color: rgb(0, 187, 0)\"><span class=\"ansi-green-fg\">f(a)</span></span>, Terms)) -&gt; <span style=\"color: rgb(0, 187, 0)\"><span class=\"ansi-green-fg\">0.3333333333333333</span></span>,\n",
       "    <span style=\"color: yellow\"><span class=\"ansi-yellow-fg\">FinalVal</span></span>(<span style=\"color: yellow\"><span class=\"ansi-yellow-fg\">Elem</span></span>(<span style=\"color: rgb(0, 187, 0)\"><span class=\"ansi-green-fg\">f(a)</span></span>, Terms)) -&gt; <span style=\"color: rgb(0, 187, 0)\"><span class=\"ansi-green-fg\">0.5451468330533219</span></span>,\n",
       "    <span style=\"color: yellow\"><span class=\"ansi-yellow-fg\">InitialVal</span></span>(<span style=\"color: yellow\"><span class=\"ansi-yellow-fg\">Elem</span></span>(<span style=\"color: rgb(0, 187, 0)\"><span class=\"ansi-green-fg\">f</span></span>, Terms)) -&gt; <span style=\"color: rgb(0, 187, 0)\"><span class=\"ansi-green-fg\">0.3333333333333333</span></span>,\n",
       "    <span style=\"color: yellow\"><span class=\"ansi-yellow-fg\">FinalVal</span></span>(<span style=\"color: yellow\"><span class=\"ansi-yellow-fg\">Elem</span></span>(<span style=\"color: rgb(0, 187, 0)\"><span class=\"ansi-green-fg\">f</span></span>, Terms)) -&gt; <span style=\"color: rgb(0, 187, 0)\"><span class=\"ansi-green-fg\">0.21666666666666667</span></span>,\n",
       "    <span style=\"color: yellow\"><span class=\"ansi-yellow-fg\">Coeff</span></span>(\n",
       "      <span style=\"color: yellow\"><span class=\"ansi-yellow-fg\">BaseThenCondition</span></span>(\n",
       "        <span style=\"color: yellow\"><span class=\"ansi-yellow-fg\">ZipMapOpt</span></span>(UnifApplnOpt, Funcs, Terms, Terms),\n",
       "        <span style=\"color: yellow\"><span class=\"ansi-yellow-fg\">AtCoord</span></span>(TermsWithTyp, <span style=\"color: rgb(0, 187, 0)\"><span class=\"ansi-green-fg\">A</span></span> :: HNil),\n",
       "        <span style=\"color: yellow\"><span class=\"ansi-yellow-fg\">Filter</span></span>(<span style=\"color: yellow\"><span class=\"ansi-yellow-fg\">WithTyp</span></span>(<span style=\"color: rgb(0, 187, 0)\"><span class=\"ansi-green-fg\">A</span></span>))\n",
       "      )\n",
       "    ) -&gt; <span style=\"color: rgb(0, 187, 0)\"><span class=\"ansi-green-fg\">0.1</span></span>,\n",
       "    <span style=\"color: yellow\"><span class=\"ansi-yellow-fg\">Coeff</span></span>(\n",
       "      <span style=\"color: yellow\"><span class=\"ansi-yellow-fg\">BaseThenCondition</span></span>(\n",
       "        <span style=\"color: yellow\"><span class=\"ansi-yellow-fg\">FiberProductMap</span></span>(typeOf(_), FuncsWithDomain, FlipAppn, Terms, Terms),\n",
       "        <span style=\"color: yellow\"><span class=\"ansi-yellow-fg\">AtCoord</span></span>(TermsWithTyp, <span style=\"color: rgb(0, 187, 0)\"><span class=\"ansi-green-fg\">A</span></span> :: HNil),\n",
       "        <span style=\"color: yellow\"><span class=\"ansi-yellow-fg\">Filter</span></span>(<span style=\"color: yellow\"><span class=\"ansi-yellow-fg\">WithTyp</span></span>(<span style=\"color: rgb(0, 187, 0)\"><span class=\"ansi-green-fg\">A</span></span>))\n",
       "      )\n",
       "    ) -&gt; <span style=\"color: rgb(0, 187, 0)\"><span class=\"ansi-green-fg\">0.1</span></span>,\n",
       "...</span></span></span></code></pre>\n",
       "</div>"
      ],
      "text/plain": [
       "\u001b[36mres51\u001b[39m: \u001b[32mmonix\u001b[39m.\u001b[32mexecution\u001b[39m.\u001b[32mCancelableFuture\u001b[39m[\u001b[32mMap\u001b[39m[\u001b[32mExpression\u001b[39m, \u001b[32mDouble\u001b[39m]] = \u001b[32m\u001b[33mSuccess\u001b[39m(\n",
       "  \u001b[33mMap\u001b[39m(\n",
       "    \u001b[33mCoeff\u001b[39m(\n",
       "      \u001b[33mBaseThenCondition\u001b[39m(\n",
       "        \u001b[33mFiberProductMap\u001b[39m(typeOf(_), FuncsWithDomain, FlipAppn, Terms, Terms),\n",
       "        \u001b[33mAtCoord\u001b[39m(FuncsWithDomain, \u001b[32m(A → B)\u001b[39m :: HNil),\n",
       "        \u001b[33mRestrict\u001b[39m(\u001b[33mFuncWithDom\u001b[39m(\u001b[32m(A → B)\u001b[39m))\n",
       "      )\n",
       "    ) -> \u001b[32m0.1\u001b[39m,\n",
       "    \u001b[33mCoeff\u001b[39m(\n",
       "      \u001b[33mBaseThenCondition\u001b[39m(\n",
       "        \u001b[33mFiberProductMap\u001b[39m(typeOf(_), FuncsWithDomain, FlipAppn, Terms, Terms),\n",
       "        \u001b[33mAtCoord\u001b[39m(FuncsWithDomain, \u001b[32mA\u001b[39m :: HNil),\n",
       "        \u001b[33mRestrict\u001b[39m(\u001b[33mFuncWithDom\u001b[39m(\u001b[32mA\u001b[39m))\n",
       "      )\n",
       "    ) -> \u001b[32m0.1\u001b[39m,\n",
       "    \u001b[33mInitialVal\u001b[39m(\u001b[33mElem\u001b[39m(\u001b[32mA\u001b[39m, Typs)) -> \u001b[32m1.0E-4\u001b[39m,\n",
       "    \u001b[33mFinalVal\u001b[39m(\u001b[33mElem\u001b[39m(\u001b[32mA\u001b[39m, Typs)) -> \u001b[32m7.500000000000001E-5\u001b[39m,\n",
       "    \u001b[33mInitialVal\u001b[39m(\u001b[33mElem\u001b[39m(\u001b[32mB\u001b[39m, Typs)) -> \u001b[32m0.9999\u001b[39m,\n",
       "    \u001b[33mFinalVal\u001b[39m(\u001b[33mElem\u001b[39m(\u001b[32mB\u001b[39m, Typs)) -> \u001b[32m0.749925\u001b[39m,\n",
       "    \u001b[33mFinalVal\u001b[39m(\u001b[33mEvent\u001b[39m(Terms, \u001b[33mFilter\u001b[39m(\u001b[33mWithTyp\u001b[39m(\u001b[32mB\u001b[39m)))) -> \u001b[32m0.8451889941533142\u001b[39m,\n",
       "    \u001b[33mInitialVal\u001b[39m(\u001b[33mElem\u001b[39m(\u001b[32mf(a)\u001b[39m, Terms)) -> \u001b[32m0.3333333333333333\u001b[39m,\n",
       "    \u001b[33mFinalVal\u001b[39m(\u001b[33mElem\u001b[39m(\u001b[32mf(a)\u001b[39m, Terms)) -> \u001b[32m0.5451468330533219\u001b[39m,\n",
       "    \u001b[33mInitialVal\u001b[39m(\u001b[33mElem\u001b[39m(\u001b[32mf\u001b[39m, Terms)) -> \u001b[32m0.3333333333333333\u001b[39m,\n",
       "    \u001b[33mFinalVal\u001b[39m(\u001b[33mElem\u001b[39m(\u001b[32mf\u001b[39m, Terms)) -> \u001b[32m0.21666666666666667\u001b[39m,\n",
       "    \u001b[33mCoeff\u001b[39m(\n",
       "      \u001b[33mBaseThenCondition\u001b[39m(\n",
       "        \u001b[33mZipMapOpt\u001b[39m(UnifApplnOpt, Funcs, Terms, Terms),\n",
       "        \u001b[33mAtCoord\u001b[39m(TermsWithTyp, \u001b[32mA\u001b[39m :: HNil),\n",
       "        \u001b[33mFilter\u001b[39m(\u001b[33mWithTyp\u001b[39m(\u001b[32mA\u001b[39m))\n",
       "      )\n",
       "    ) -> \u001b[32m0.1\u001b[39m,\n",
       "    \u001b[33mCoeff\u001b[39m(\n",
       "      \u001b[33mBaseThenCondition\u001b[39m(\n",
       "        \u001b[33mFiberProductMap\u001b[39m(typeOf(_), FuncsWithDomain, FlipAppn, Terms, Terms),\n",
       "        \u001b[33mAtCoord\u001b[39m(TermsWithTyp, \u001b[32mA\u001b[39m :: HNil),\n",
       "        \u001b[33mFilter\u001b[39m(\u001b[33mWithTyp\u001b[39m(\u001b[32mA\u001b[39m))\n",
       "      )\n",
       "    ) -> \u001b[32m0.1\u001b[39m,\n",
       "...\u001b[39m"
      ]
     },
     "metadata": {},
     "output_type": "display_data"
    }
   ],
   "source": [
    "lp14.expressionEval.map(_.finalDist).runToFuture"
   ]
  },
  {
   "cell_type": "code",
   "execution_count": 53,
   "metadata": {},
   "outputs": [
    {
     "data": {
      "text/html": [
       "<div class=\"jp-RenderedText\">\n",
       "<pre><code><span style=\"color: rgb(0, 187, 0)\"><span class=\"ansi-green-fg\">import </span></span><span style=\"color: rgb(0, 187, 187)\"><span class=\"ansi-cyan-fg\">GeneratorVariables._, Expression._, TermRandomVars._\n",
       "</span></span>\n",
       "<span style=\"color: rgb(0, 187, 187)\"><span class=\"ansi-cyan-fg\">res52_1</span></span>: <span style=\"color: rgb(0, 187, 0)\"><span class=\"ansi-green-fg\">monix</span></span>.<span style=\"color: rgb(0, 187, 0)\"><span class=\"ansi-green-fg\">execution</span></span>.<span style=\"color: rgb(0, 187, 0)\"><span class=\"ansi-green-fg\">CancelableFuture</span></span>[<span style=\"color: rgb(0, 187, 0)\"><span class=\"ansi-green-fg\">Double</span></span>] = <span style=\"color: rgb(0, 187, 0)\"><span class=\"ansi-green-fg\"><span style=\"color: yellow\"><span class=\"ansi-yellow-fg\">Success</span></span>(<span style=\"color: rgb(0, 187, 0)\"><span class=\"ansi-green-fg\">0.5451468330533219</span></span>)</span></span></code></pre>\n",
       "</div>"
      ],
      "text/plain": [
       "\u001b[32mimport \u001b[39m\u001b[36mGeneratorVariables._, Expression._, TermRandomVars._\n",
       "\u001b[39m\n",
       "\u001b[36mres52_1\u001b[39m: \u001b[32mmonix\u001b[39m.\u001b[32mexecution\u001b[39m.\u001b[32mCancelableFuture\u001b[39m[\u001b[32mDouble\u001b[39m] = \u001b[32m\u001b[33mSuccess\u001b[39m(\u001b[32m0.5451468330533219\u001b[39m)\u001b[39m"
      ]
     },
     "metadata": {},
     "output_type": "display_data"
    }
   ],
   "source": [
    "import GeneratorVariables._, Expression._, TermRandomVars._\n",
    "lp14.expressionEval.map(_.finalDist(FinalVal(Elem(f(a), Terms)))).runToFuture"
   ]
  },
  {
   "cell_type": "code",
   "execution_count": 54,
   "metadata": {},
   "outputs": [
    {
     "data": {
      "text/html": [
       "<div class=\"jp-RenderedText\">\n",
       "<pre><code><span style=\"color: rgb(0, 187, 187)\"><span class=\"ansi-cyan-fg\">res53</span></span>: <span style=\"color: rgb(0, 187, 0)\"><span class=\"ansi-green-fg\">monix</span></span>.<span style=\"color: rgb(0, 187, 0)\"><span class=\"ansi-green-fg\">execution</span></span>.<span style=\"color: rgb(0, 187, 0)\"><span class=\"ansi-green-fg\">CancelableFuture</span></span>[<span style=\"color: rgb(0, 187, 0)\"><span class=\"ansi-green-fg\">Expression</span></span>] = <span style=\"color: rgb(0, 187, 0)\"><span class=\"ansi-green-fg\"><style>@keyframes fadein { from { opacity: 0; } to { opacity: 1; } }</style><span style=\"animation: fadein 2s;\"><span style=\"color: yellow\"><span class=\"ansi-yellow-fg\">Success</span></span>(\n",
       "  <span style=\"color: yellow\"><span class=\"ansi-yellow-fg\">Sum</span></span>(\n",
       "    <span style=\"color: yellow\"><span class=\"ansi-yellow-fg\">Product</span></span>(\n",
       "      <span style=\"color: yellow\"><span class=\"ansi-yellow-fg\">Sum</span></span>(\n",
       "        <span style=\"color: yellow\"><span class=\"ansi-yellow-fg\">Sum</span></span>(\n",
       "          <span style=\"color: yellow\"><span class=\"ansi-yellow-fg\">Product</span></span>(\n",
       "            <span style=\"color: yellow\"><span class=\"ansi-yellow-fg\">Product</span></span>(<span style=\"color: yellow\"><span class=\"ansi-yellow-fg\">InitialVal</span></span>(<span style=\"color: yellow\"><span class=\"ansi-yellow-fg\">Elem</span></span>(<span style=\"color: rgb(0, 187, 0)\"><span class=\"ansi-green-fg\">f(a)</span></span>, Terms)), <span style=\"color: yellow\"><span class=\"ansi-yellow-fg\">Literal</span></span>(<span style=\"color: rgb(0, 187, 0)\"><span class=\"ansi-green-fg\">-1.0</span></span>)),\n",
       "            <span style=\"color: yellow\"><span class=\"ansi-yellow-fg\">Log</span></span>(<span style=\"color: yellow\"><span class=\"ansi-yellow-fg\">InitialVal</span></span>(<span style=\"color: yellow\"><span class=\"ansi-yellow-fg\">Elem</span></span>(<span style=\"color: rgb(0, 187, 0)\"><span class=\"ansi-green-fg\">f(a)</span></span>, Terms)))\n",
       "          ),\n",
       "          <span style=\"color: yellow\"><span class=\"ansi-yellow-fg\">Product</span></span>(\n",
       "            <span style=\"color: yellow\"><span class=\"ansi-yellow-fg\">Product</span></span>(<span style=\"color: yellow\"><span class=\"ansi-yellow-fg\">InitialVal</span></span>(<span style=\"color: yellow\"><span class=\"ansi-yellow-fg\">Elem</span></span>(<span style=\"color: rgb(0, 187, 0)\"><span class=\"ansi-green-fg\">f</span></span>, Terms)), <span style=\"color: yellow\"><span class=\"ansi-yellow-fg\">Literal</span></span>(<span style=\"color: rgb(0, 187, 0)\"><span class=\"ansi-green-fg\">-1.0</span></span>)),\n",
       "            <span style=\"color: yellow\"><span class=\"ansi-yellow-fg\">Log</span></span>(<span style=\"color: yellow\"><span class=\"ansi-yellow-fg\">InitialVal</span></span>(<span style=\"color: yellow\"><span class=\"ansi-yellow-fg\">Elem</span></span>(<span style=\"color: rgb(0, 187, 0)\"><span class=\"ansi-green-fg\">f</span></span>, Terms)))\n",
       "          )\n",
       "        ),\n",
       "        <span style=\"color: yellow\"><span class=\"ansi-yellow-fg\">Product</span></span>(\n",
       "          <span style=\"color: yellow\"><span class=\"ansi-yellow-fg\">Product</span></span>(<span style=\"color: yellow\"><span class=\"ansi-yellow-fg\">InitialVal</span></span>(<span style=\"color: yellow\"><span class=\"ansi-yellow-fg\">Elem</span></span>(<span style=\"color: rgb(0, 187, 0)\"><span class=\"ansi-green-fg\">a</span></span>, Terms)), <span style=\"color: yellow\"><span class=\"ansi-yellow-fg\">Literal</span></span>(<span style=\"color: rgb(0, 187, 0)\"><span class=\"ansi-green-fg\">-1.0</span></span>)),\n",
       "          <span style=\"color: yellow\"><span class=\"ansi-yellow-fg\">Log</span></span>(<span style=\"color: yellow\"><span class=\"ansi-yellow-fg\">InitialVal</span></span>(<span style=\"color: yellow\"><span class=\"ansi-yellow-fg\">Elem</span></span>(<span style=\"color: rgb(0, 187, 0)\"><span class=\"ansi-green-fg\">a</span></span>, Terms)))\n",
       "        )\n",
       "      ),\n",
       "      <span style=\"color: yellow\"><span class=\"ansi-yellow-fg\">Literal</span></span>(<span style=\"color: rgb(0, 187, 0)\"><span class=\"ansi-green-fg\">1.0E-4</span></span>)\n",
       "    ),\n",
       "    <span style=\"color: yellow\"><span class=\"ansi-yellow-fg\">Product</span></span>(\n",
       "      <span style=\"color: yellow\"><span class=\"ansi-yellow-fg\">Sum</span></span>(\n",
       "        <span style=\"color: yellow\"><span class=\"ansi-yellow-fg\">Product</span></span>(\n",
       "          <span style=\"color: yellow\"><span class=\"ansi-yellow-fg\">Literal</span></span>(<span style=\"color: rgb(0, 187, 0)\"><span class=\"ansi-green-fg\">1.0000000000000003E-4</span></span>),\n",
       "          <span style=\"color: yellow\"><span class=\"ansi-yellow-fg\">Log</span></span>(\n",
       "            <span style=\"color: yellow\"><span class=\"ansi-yellow-fg\">Quotient</span></span>(<span style=\"color: yellow\"><span class=\"ansi-yellow-fg\">Literal</span></span>(<span style=\"color: rgb(0, 187, 0)\"><span class=\"ansi-green-fg\">1.0000000000000003E-4</span></span>), <span style=\"color: yellow\"><span class=\"ansi-yellow-fg\">FinalVal</span></span>(<span style=\"color: yellow\"><span class=\"ansi-yellow-fg\">Elem</span></span>(<span style=\"color: rgb(0, 187, 0)\"><span class=\"ansi-green-fg\">a</span></span>, Terms)))\n",
       "          )\n",
       "        ),\n",
       "        <span style=\"color: yellow\"><span class=\"ansi-yellow-fg\">Product</span></span>(\n",
       "          <span style=\"color: yellow\"><span class=\"ansi-yellow-fg\">Literal</span></span>(<span style=\"color: rgb(0, 187, 0)\"><span class=\"ansi-green-fg\">0.9999000000000001</span></span>),\n",
       "          <span style=\"color: yellow\"><span class=\"ansi-yellow-fg\">Log</span></span>(\n",
       "            <span style=\"color: yellow\"><span class=\"ansi-yellow-fg\">Quotient</span></span>(<span style=\"color: yellow\"><span class=\"ansi-yellow-fg\">Literal</span></span>(<span style=\"color: rgb(0, 187, 0)\"><span class=\"ansi-green-fg\">0.9999000000000001</span></span>), <span style=\"color: yellow\"><span class=\"ansi-yellow-fg\">FinalVal</span></span>(<span style=\"color: yellow\"><span class=\"ansi-yellow-fg\">Elem</span></span>(<span style=\"color: rgb(0, 187, 0)\"><span class=\"ansi-green-fg\">f(a)</span></span>, Terms)))\n",
       "          )\n",
       "        )\n",
       "      ),\n",
       "      <span style=\"color: yellow\"><span class=\"ansi-yellow-fg\">Literal</span></span>(<span style=\"color: rgb(0, 187, 0)\"><span class=\"ansi-green-fg\">10.0</span></span>)\n",
       "    )\n",
       "  )\n",
       ")</span></span></span></code></pre>\n",
       "</div>"
      ],
      "text/plain": [
       "\u001b[36mres53\u001b[39m: \u001b[32mmonix\u001b[39m.\u001b[32mexecution\u001b[39m.\u001b[32mCancelableFuture\u001b[39m[\u001b[32mExpression\u001b[39m] = \u001b[32m\u001b[33mSuccess\u001b[39m(\n",
       "  \u001b[33mSum\u001b[39m(\n",
       "    \u001b[33mProduct\u001b[39m(\n",
       "      \u001b[33mSum\u001b[39m(\n",
       "        \u001b[33mSum\u001b[39m(\n",
       "          \u001b[33mProduct\u001b[39m(\n",
       "            \u001b[33mProduct\u001b[39m(\u001b[33mInitialVal\u001b[39m(\u001b[33mElem\u001b[39m(\u001b[32mf(a)\u001b[39m, Terms)), \u001b[33mLiteral\u001b[39m(\u001b[32m-1.0\u001b[39m)),\n",
       "            \u001b[33mLog\u001b[39m(\u001b[33mInitialVal\u001b[39m(\u001b[33mElem\u001b[39m(\u001b[32mf(a)\u001b[39m, Terms)))\n",
       "          ),\n",
       "          \u001b[33mProduct\u001b[39m(\n",
       "            \u001b[33mProduct\u001b[39m(\u001b[33mInitialVal\u001b[39m(\u001b[33mElem\u001b[39m(\u001b[32mf\u001b[39m, Terms)), \u001b[33mLiteral\u001b[39m(\u001b[32m-1.0\u001b[39m)),\n",
       "            \u001b[33mLog\u001b[39m(\u001b[33mInitialVal\u001b[39m(\u001b[33mElem\u001b[39m(\u001b[32mf\u001b[39m, Terms)))\n",
       "          )\n",
       "        ),\n",
       "        \u001b[33mProduct\u001b[39m(\n",
       "          \u001b[33mProduct\u001b[39m(\u001b[33mInitialVal\u001b[39m(\u001b[33mElem\u001b[39m(\u001b[32ma\u001b[39m, Terms)), \u001b[33mLiteral\u001b[39m(\u001b[32m-1.0\u001b[39m)),\n",
       "          \u001b[33mLog\u001b[39m(\u001b[33mInitialVal\u001b[39m(\u001b[33mElem\u001b[39m(\u001b[32ma\u001b[39m, Terms)))\n",
       "        )\n",
       "      ),\n",
       "      \u001b[33mLiteral\u001b[39m(\u001b[32m1.0E-4\u001b[39m)\n",
       "    ),\n",
       "    \u001b[33mProduct\u001b[39m(\n",
       "      \u001b[33mSum\u001b[39m(\n",
       "        \u001b[33mProduct\u001b[39m(\n",
       "          \u001b[33mLiteral\u001b[39m(\u001b[32m1.0000000000000003E-4\u001b[39m),\n",
       "          \u001b[33mLog\u001b[39m(\n",
       "            \u001b[33mQuotient\u001b[39m(\u001b[33mLiteral\u001b[39m(\u001b[32m1.0000000000000003E-4\u001b[39m), \u001b[33mFinalVal\u001b[39m(\u001b[33mElem\u001b[39m(\u001b[32ma\u001b[39m, Terms)))\n",
       "          )\n",
       "        ),\n",
       "        \u001b[33mProduct\u001b[39m(\n",
       "          \u001b[33mLiteral\u001b[39m(\u001b[32m0.9999000000000001\u001b[39m),\n",
       "          \u001b[33mLog\u001b[39m(\n",
       "            \u001b[33mQuotient\u001b[39m(\u001b[33mLiteral\u001b[39m(\u001b[32m0.9999000000000001\u001b[39m), \u001b[33mFinalVal\u001b[39m(\u001b[33mElem\u001b[39m(\u001b[32mf(a)\u001b[39m, Terms)))\n",
       "          )\n",
       "        )\n",
       "      ),\n",
       "      \u001b[33mLiteral\u001b[39m(\u001b[32m10.0\u001b[39m)\n",
       "    )\n",
       "  )\n",
       ")\u001b[39m"
      ]
     },
     "metadata": {},
     "output_type": "display_data"
    }
   ],
   "source": [
    "lp14.expressionEval.map(_.entropy(0.0001, 10)).runToFuture"
   ]
  },
  {
   "cell_type": "code",
   "execution_count": 56,
   "metadata": {},
   "outputs": [
    {
     "data": {
      "text/plain": [
       "\u001b[36mepT\u001b[39m: \u001b[32mmonix\u001b[39m.\u001b[32meval\u001b[39m.\u001b[32mTask\u001b[39m[\u001b[32mVector\u001b[39m[\u001b[32mDouble\u001b[39m]] = \u001b[33mFlatMap\u001b[39m(\n",
       "  \u001b[33mMap\u001b[39m(\n",
       "    \u001b[33mAsync\u001b[39m(<function2>, false, true, true),\n",
       "    ammonite.$sess.cmd55$Helper$$Lambda$3730/1927048972@4966d36a,\n",
       "    \u001b[32m0\u001b[39m\n",
       "  ),\n",
       "  ammonite.$sess.cmd55$Helper$$Lambda$3731/1848353081@d29c2ee\n",
       ")"
      ]
     },
     "execution_count": 56,
     "metadata": {},
     "output_type": "execute_result"
    }
   ],
   "source": [
    "val epT = for {\n",
    "    ev <- lp14.expressionEval\n",
    "    q = ev.finalDist\n",
    "    entp <- ev.WithP(q).entropyProjectionTask(lp14.hW, lp14.klW)\n",
    "} yield entp"
   ]
  },
  {
   "cell_type": "code",
   "execution_count": 59,
   "metadata": {},
   "outputs": [
    {
     "data": {
      "text/html": [
       "<div class=\"jp-RenderedText\">\n",
       "<pre><code><span style=\"color: rgb(0, 187, 187)\"><span class=\"ansi-cyan-fg\">epF</span></span>: <span style=\"color: rgb(0, 187, 0)\"><span class=\"ansi-green-fg\">monix</span></span>.<span style=\"color: rgb(0, 187, 0)\"><span class=\"ansi-green-fg\">execution</span></span>.<span style=\"color: rgb(0, 187, 0)\"><span class=\"ansi-green-fg\">CancelableFuture</span></span>[<span style=\"color: rgb(0, 187, 0)\"><span class=\"ansi-green-fg\">Vector</span></span>[<span style=\"color: rgb(0, 187, 0)\"><span class=\"ansi-green-fg\">Double</span></span>]] = <span style=\"color: rgb(0, 187, 0)\"><span class=\"ansi-green-fg\"><span style=\"color: yellow\"><span class=\"ansi-yellow-fg\">Success</span></span>(\n",
       "  <span style=\"color: yellow\"><span class=\"ansi-yellow-fg\">Vector</span></span>(\n",
       "    <span style=\"color: rgb(0, 187, 0)\"><span class=\"ansi-green-fg\">0.0</span></span>,\n",
       "    <span style=\"color: rgb(0, 187, 0)\"><span class=\"ansi-green-fg\">0.0</span></span>,\n",
       "    <span style=\"color: rgb(0, 187, 0)\"><span class=\"ansi-green-fg\">-6.401470818706567E-9</span></span>,\n",
       "    <span style=\"color: rgb(0, 187, 0)\"><span class=\"ansi-green-fg\">-1.600847815954079E-5</span></span>,\n",
       "    <span style=\"color: rgb(0, 187, 0)\"><span class=\"ansi-green-fg\">-0.9516685364522156</span></span>,\n",
       "    <span style=\"color: rgb(0, 187, 0)\"><span class=\"ansi-green-fg\">-0.748338326507673</span></span>,\n",
       "    <span style=\"color: rgb(0, 187, 0)\"><span class=\"ansi-green-fg\">-0.8091061373976427</span></span>,\n",
       "    <span style=\"color: rgb(0, 187, 0)\"><span class=\"ansi-green-fg\">1.081596818622833E-6</span></span>,\n",
       "    <span style=\"color: rgb(0, 187, 0)\"><span class=\"ansi-green-fg\">1.2708762618818288E-6</span></span>,\n",
       "    <span style=\"color: rgb(0, 187, 0)\"><span class=\"ansi-green-fg\">0.0</span></span>,\n",
       "    <span style=\"color: rgb(0, 187, 0)\"><span class=\"ansi-green-fg\">0.0</span></span>,\n",
       "    <span style=\"color: rgb(0, 187, 0)\"><span class=\"ansi-green-fg\">0.0</span></span>,\n",
       "    <span style=\"color: rgb(0, 187, 0)\"><span class=\"ansi-green-fg\">0.0</span></span>,\n",
       "    <span style=\"color: rgb(0, 187, 0)\"><span class=\"ansi-green-fg\">0.0</span></span>,\n",
       "    <span style=\"color: rgb(0, 187, 0)\"><span class=\"ansi-green-fg\">2.222297586595914E-16</span></span>,\n",
       "    <span style=\"color: rgb(0, 187, 0)\"><span class=\"ansi-green-fg\">0.0</span></span>,\n",
       "    <span style=\"color: rgb(0, 187, 0)\"><span class=\"ansi-green-fg\">-0.45789055309033405</span></span>,\n",
       "    <span style=\"color: rgb(0, 187, 0)\"><span class=\"ansi-green-fg\">-0.3896940877364547</span></span>,\n",
       "    <span style=\"color: rgb(0, 187, 0)\"><span class=\"ansi-green-fg\">0.0</span></span>,\n",
       "    <span style=\"color: rgb(0, 187, 0)\"><span class=\"ansi-green-fg\">-0.960177817271385</span></span>,\n",
       "    <span style=\"color: rgb(0, 187, 0)\"><span class=\"ansi-green-fg\">-2.0655501146299438E-9</span></span>\n",
       "  )\n",
       ")</span></span></code></pre>\n",
       "</div>"
      ],
      "text/plain": [
       "\u001b[36mepF\u001b[39m: \u001b[32mmonix\u001b[39m.\u001b[32mexecution\u001b[39m.\u001b[32mCancelableFuture\u001b[39m[\u001b[32mVector\u001b[39m[\u001b[32mDouble\u001b[39m]] = \u001b[32m\u001b[33mSuccess\u001b[39m(\n",
       "  \u001b[33mVector\u001b[39m(\n",
       "    \u001b[32m0.0\u001b[39m,\n",
       "    \u001b[32m0.0\u001b[39m,\n",
       "    \u001b[32m-6.401470818706567E-9\u001b[39m,\n",
       "    \u001b[32m-1.600847815954079E-5\u001b[39m,\n",
       "    \u001b[32m-0.9516685364522156\u001b[39m,\n",
       "    \u001b[32m-0.748338326507673\u001b[39m,\n",
       "    \u001b[32m-0.8091061373976427\u001b[39m,\n",
       "    \u001b[32m1.081596818622833E-6\u001b[39m,\n",
       "    \u001b[32m1.2708762618818288E-6\u001b[39m,\n",
       "    \u001b[32m0.0\u001b[39m,\n",
       "    \u001b[32m0.0\u001b[39m,\n",
       "    \u001b[32m0.0\u001b[39m,\n",
       "    \u001b[32m0.0\u001b[39m,\n",
       "    \u001b[32m0.0\u001b[39m,\n",
       "    \u001b[32m2.222297586595914E-16\u001b[39m,\n",
       "    \u001b[32m0.0\u001b[39m,\n",
       "    \u001b[32m-0.45789055309033405\u001b[39m,\n",
       "    \u001b[32m-0.3896940877364547\u001b[39m,\n",
       "    \u001b[32m0.0\u001b[39m,\n",
       "    \u001b[32m-0.960177817271385\u001b[39m,\n",
       "    \u001b[32m-2.0655501146299438E-9\u001b[39m\n",
       "  )\n",
       ")\u001b[39m"
      ]
     },
     "metadata": {},
     "output_type": "display_data"
    }
   ],
   "source": [
    "val epF = epT.runToFuture"
   ]
  },
  {
   "cell_type": "code",
   "execution_count": 60,
   "metadata": {},
   "outputs": [
    {
     "data": {
      "text/plain": [
       "\u001b[36mentT\u001b[39m: \u001b[32mmonix\u001b[39m.\u001b[32meval\u001b[39m.\u001b[32mTask\u001b[39m[\u001b[32mspire\u001b[39m.\u001b[32mmath\u001b[39m.\u001b[32mJet\u001b[39m[\u001b[32mDouble\u001b[39m]] = \u001b[33mFlatMap\u001b[39m(\n",
       "  \u001b[33mMap\u001b[39m(\n",
       "    \u001b[33mAsync\u001b[39m(<function2>, false, true, true),\n",
       "    ammonite.$sess.cmd59$Helper$$Lambda$3757/374477152@d937b1a,\n",
       "    \u001b[32m0\u001b[39m\n",
       "  ),\n",
       "  ammonite.$sess.cmd59$Helper$$Lambda$3758/1137030304@22abf70c\n",
       ")"
      ]
     },
     "execution_count": 60,
     "metadata": {},
     "output_type": "execute_result"
    }
   ],
   "source": [
    "val entT = for {\n",
    "    ev <- lp14.expressionEval\n",
    "    q = ev.finalDist\n",
    "    der <- ev.WithP(q).jetTask(ev.entropy(lp14.hW, lp14.klW))\n",
    "} yield der"
   ]
  },
  {
   "cell_type": "code",
   "execution_count": 61,
   "metadata": {},
   "outputs": [
    {
     "data": {
      "text/html": [
       "<div class=\"jp-RenderedText\">\n",
       "<pre><code><span style=\"color: rgb(0, 187, 187)\"><span class=\"ansi-cyan-fg\">entF</span></span>: <span style=\"color: rgb(0, 187, 0)\"><span class=\"ansi-green-fg\">monix</span></span>.<span style=\"color: rgb(0, 187, 0)\"><span class=\"ansi-green-fg\">execution</span></span>.<span style=\"color: rgb(0, 187, 0)\"><span class=\"ansi-green-fg\">CancelableFuture</span></span>[<span style=\"color: rgb(0, 187, 0)\"><span class=\"ansi-green-fg\">spire</span></span>.<span style=\"color: rgb(0, 187, 0)\"><span class=\"ansi-green-fg\">math</span></span>.<span style=\"color: rgb(0, 187, 0)\"><span class=\"ansi-green-fg\">Jet</span></span>[<span style=\"color: rgb(0, 187, 0)\"><span class=\"ansi-green-fg\">Double</span></span>]] = <span style=\"color: rgb(0, 187, 0)\"><span class=\"ansi-green-fg\"><style>@keyframes fadein { from { opacity: 0; } to { opacity: 1; } }</style><span style=\"animation: fadein 2s;\"><span style=\"color: yellow\"><span class=\"ansi-yellow-fg\">Success</span></span>(\n",
       "  <span style=\"color: yellow\"><span class=\"ansi-yellow-fg\">Jet</span></span>(\n",
       "    <span style=\"color: rgb(0, 187, 0)\"><span class=\"ansi-green-fg\">6.057823287551792</span></span>,\n",
       "    <span style=\"color: yellow\"><span class=\"ansi-yellow-fg\">Array</span></span>(\n",
       "      <span style=\"color: rgb(0, 187, 0)\"><span class=\"ansi-green-fg\">0.0</span></span>,\n",
       "      <span style=\"color: rgb(0, 187, 0)\"><span class=\"ansi-green-fg\">0.0</span></span>,\n",
       "      <span style=\"color: rgb(0, 187, 0)\"><span class=\"ansi-green-fg\">0.0</span></span>,\n",
       "      <span style=\"color: rgb(0, 187, 0)\"><span class=\"ansi-green-fg\">0.0</span></span>,\n",
       "      <span style=\"color: rgb(0, 187, 0)\"><span class=\"ansi-green-fg\">0.0</span></span>,\n",
       "      <span style=\"color: rgb(0, 187, 0)\"><span class=\"ansi-green-fg\">-4.548076816299835</span></span>,\n",
       "      <span style=\"color: rgb(0, 187, 0)\"><span class=\"ansi-green-fg\">2.1913841926246653E-6</span></span>,\n",
       "      <span style=\"color: rgb(0, 187, 0)\"><span class=\"ansi-green-fg\">0.0</span></span>,\n",
       "      <span style=\"color: rgb(0, 187, 0)\"><span class=\"ansi-green-fg\">2.1913841926246653E-6</span></span>,\n",
       "      <span style=\"color: rgb(0, 187, 0)\"><span class=\"ansi-green-fg\">0.0</span></span>,\n",
       "      <span style=\"color: rgb(0, 187, 0)\"><span class=\"ansi-green-fg\">0.0</span></span>,\n",
       "      <span style=\"color: rgb(0, 187, 0)\"><span class=\"ansi-green-fg\">0.0</span></span>,\n",
       "      <span style=\"color: rgb(0, 187, 0)\"><span class=\"ansi-green-fg\">0.0</span></span>,\n",
       "      <span style=\"color: rgb(0, 187, 0)\"><span class=\"ansi-green-fg\">0.0</span></span>,\n",
       "      <span style=\"color: rgb(0, 187, 0)\"><span class=\"ansi-green-fg\">0.0</span></span>,\n",
       "      <span style=\"color: rgb(0, 187, 0)\"><span class=\"ansi-green-fg\">0.0</span></span>,\n",
       "      <span style=\"color: rgb(0, 187, 0)\"><span class=\"ansi-green-fg\">2.1913841926246653E-6</span></span>,\n",
       "      <span style=\"color: rgb(0, 187, 0)\"><span class=\"ansi-green-fg\">-7.833333333333337E-4</span></span>,\n",
       "      <span style=\"color: rgb(0, 187, 0)\"><span class=\"ansi-green-fg\">0.0</span></span>,\n",
       "      <span style=\"color: rgb(0, 187, 0)\"><span class=\"ansi-green-fg\">0.0</span></span>,\n",
       "      <span style=\"color: rgb(0, 187, 0)\"><span class=\"ansi-green-fg\">0.0</span></span>\n",
       "    )\n",
       "  )\n",
       ")</span></span></span></code></pre>\n",
       "</div>"
      ],
      "text/plain": [
       "\u001b[36mentF\u001b[39m: \u001b[32mmonix\u001b[39m.\u001b[32mexecution\u001b[39m.\u001b[32mCancelableFuture\u001b[39m[\u001b[32mspire\u001b[39m.\u001b[32mmath\u001b[39m.\u001b[32mJet\u001b[39m[\u001b[32mDouble\u001b[39m]] = \u001b[32m\u001b[33mSuccess\u001b[39m(\n",
       "  \u001b[33mJet\u001b[39m(\n",
       "    \u001b[32m6.057823287551792\u001b[39m,\n",
       "    \u001b[33mArray\u001b[39m(\n",
       "      \u001b[32m0.0\u001b[39m,\n",
       "      \u001b[32m0.0\u001b[39m,\n",
       "      \u001b[32m0.0\u001b[39m,\n",
       "      \u001b[32m0.0\u001b[39m,\n",
       "      \u001b[32m0.0\u001b[39m,\n",
       "      \u001b[32m-4.548076816299835\u001b[39m,\n",
       "      \u001b[32m2.1913841926246653E-6\u001b[39m,\n",
       "      \u001b[32m0.0\u001b[39m,\n",
       "      \u001b[32m2.1913841926246653E-6\u001b[39m,\n",
       "      \u001b[32m0.0\u001b[39m,\n",
       "      \u001b[32m0.0\u001b[39m,\n",
       "      \u001b[32m0.0\u001b[39m,\n",
       "      \u001b[32m0.0\u001b[39m,\n",
       "      \u001b[32m0.0\u001b[39m,\n",
       "      \u001b[32m0.0\u001b[39m,\n",
       "      \u001b[32m0.0\u001b[39m,\n",
       "      \u001b[32m2.1913841926246653E-6\u001b[39m,\n",
       "      \u001b[32m-7.833333333333337E-4\u001b[39m,\n",
       "      \u001b[32m0.0\u001b[39m,\n",
       "      \u001b[32m0.0\u001b[39m,\n",
       "      \u001b[32m0.0\u001b[39m\n",
       "    )\n",
       "  )\n",
       ")\u001b[39m"
      ]
     },
     "metadata": {},
     "output_type": "display_data"
    }
   ],
   "source": [
    "val entF = entT.runToFuture"
   ]
  },
  {
   "cell_type": "code",
   "execution_count": 62,
   "metadata": {},
   "outputs": [
    {
     "data": {
      "text/plain": [
       "\u001b[36mvarT\u001b[39m: \u001b[32mmonix\u001b[39m.\u001b[32meval\u001b[39m.\u001b[32mTask\u001b[39m[\u001b[32mVector\u001b[39m[\u001b[32mExpression\u001b[39m]] = \u001b[33mMap\u001b[39m(\n",
       "  \u001b[33mAsync\u001b[39m(<function2>, false, true, true),\n",
       "  scala.Function1$$Lambda$275/1928301845@48647e19,\n",
       "  \u001b[32m1\u001b[39m\n",
       ")"
      ]
     },
     "execution_count": 62,
     "metadata": {},
     "output_type": "execute_result"
    }
   ],
   "source": [
    "val varT = for {\n",
    "    ev <- lp14.expressionEval\n",
    "    vs = ev.vars\n",
    "} yield vs"
   ]
  },
  {
   "cell_type": "code",
   "execution_count": 63,
   "metadata": {},
   "outputs": [
    {
     "data": {
      "text/html": [
       "<div class=\"jp-RenderedText\">\n",
       "<pre><code><span style=\"color: rgb(0, 187, 187)\"><span class=\"ansi-cyan-fg\">varsF</span></span>: <span style=\"color: rgb(0, 187, 0)\"><span class=\"ansi-green-fg\">monix</span></span>.<span style=\"color: rgb(0, 187, 0)\"><span class=\"ansi-green-fg\">execution</span></span>.<span style=\"color: rgb(0, 187, 0)\"><span class=\"ansi-green-fg\">CancelableFuture</span></span>[<span style=\"color: rgb(0, 187, 0)\"><span class=\"ansi-green-fg\">Vector</span></span>[<span style=\"color: rgb(0, 187, 0)\"><span class=\"ansi-green-fg\">Expression</span></span>]] = <span style=\"color: rgb(0, 187, 0)\"><span class=\"ansi-green-fg\"><style>@keyframes fadein { from { opacity: 0; } to { opacity: 1; } }</style><span style=\"animation: fadein 2s;\"><span style=\"color: yellow\"><span class=\"ansi-yellow-fg\">Success</span></span>(\n",
       "  <span style=\"color: yellow\"><span class=\"ansi-yellow-fg\">Vector</span></span>(\n",
       "    <span style=\"color: yellow\"><span class=\"ansi-yellow-fg\">FinalVal</span></span>(<span style=\"color: yellow\"><span class=\"ansi-yellow-fg\">Elem</span></span>(<span style=\"color: rgb(0, 187, 0)\"><span class=\"ansi-green-fg\">A</span></span>, Typs)),\n",
       "    <span style=\"color: yellow\"><span class=\"ansi-yellow-fg\">InitialVal</span></span>(<span style=\"color: yellow\"><span class=\"ansi-yellow-fg\">Elem</span></span>(<span style=\"color: rgb(0, 187, 0)\"><span class=\"ansi-green-fg\">A</span></span>, Typs)),\n",
       "    <span style=\"color: yellow\"><span class=\"ansi-yellow-fg\">FinalVal</span></span>(<span style=\"color: yellow\"><span class=\"ansi-yellow-fg\">Elem</span></span>(<span style=\"color: rgb(0, 187, 0)\"><span class=\"ansi-green-fg\">B</span></span>, Typs)),\n",
       "    <span style=\"color: yellow\"><span class=\"ansi-yellow-fg\">InitialVal</span></span>(<span style=\"color: yellow\"><span class=\"ansi-yellow-fg\">Elem</span></span>(<span style=\"color: rgb(0, 187, 0)\"><span class=\"ansi-green-fg\">B</span></span>, Typs)),\n",
       "    <span style=\"color: yellow\"><span class=\"ansi-yellow-fg\">FinalVal</span></span>(<span style=\"color: yellow\"><span class=\"ansi-yellow-fg\">Event</span></span>(Terms, <span style=\"color: yellow\"><span class=\"ansi-yellow-fg\">Filter</span></span>(<span style=\"color: yellow\"><span class=\"ansi-yellow-fg\">WithTyp</span></span>(<span style=\"color: rgb(0, 187, 0)\"><span class=\"ansi-green-fg\">B</span></span>)))),\n",
       "    <span style=\"color: yellow\"><span class=\"ansi-yellow-fg\">FinalVal</span></span>(<span style=\"color: yellow\"><span class=\"ansi-yellow-fg\">Elem</span></span>(<span style=\"color: rgb(0, 187, 0)\"><span class=\"ansi-green-fg\">f(a)</span></span>, Terms)),\n",
       "    <span style=\"color: yellow\"><span class=\"ansi-yellow-fg\">InitialVal</span></span>(<span style=\"color: yellow\"><span class=\"ansi-yellow-fg\">Elem</span></span>(<span style=\"color: rgb(0, 187, 0)\"><span class=\"ansi-green-fg\">f(a)</span></span>, Terms)),\n",
       "    <span style=\"color: yellow\"><span class=\"ansi-yellow-fg\">FinalVal</span></span>(<span style=\"color: yellow\"><span class=\"ansi-yellow-fg\">Elem</span></span>(<span style=\"color: rgb(0, 187, 0)\"><span class=\"ansi-green-fg\">f</span></span>, Terms)),\n",
       "    <span style=\"color: yellow\"><span class=\"ansi-yellow-fg\">InitialVal</span></span>(<span style=\"color: yellow\"><span class=\"ansi-yellow-fg\">Elem</span></span>(<span style=\"color: rgb(0, 187, 0)\"><span class=\"ansi-green-fg\">f</span></span>, Terms)),\n",
       "    <span style=\"color: yellow\"><span class=\"ansi-yellow-fg\">FinalVal</span></span>(<span style=\"color: yellow\"><span class=\"ansi-yellow-fg\">Elem</span></span>(<span style=\"color: rgb(0, 187, 0)\"><span class=\"ansi-green-fg\">a</span></span>, <span style=\"color: yellow\"><span class=\"ansi-yellow-fg\">AtCoord</span></span>(TermsWithTyp, <span style=\"color: rgb(0, 187, 0)\"><span class=\"ansi-green-fg\">A</span></span> :: HNil))),\n",
       "    <span style=\"color: yellow\"><span class=\"ansi-yellow-fg\">InitialVal</span></span>(<span style=\"color: yellow\"><span class=\"ansi-yellow-fg\">Elem</span></span>(<span style=\"color: rgb(0, 187, 0)\"><span class=\"ansi-green-fg\">a</span></span>, <span style=\"color: yellow\"><span class=\"ansi-yellow-fg\">AtCoord</span></span>(TermsWithTyp, <span style=\"color: rgb(0, 187, 0)\"><span class=\"ansi-green-fg\">A</span></span> :: HNil))),\n",
       "    <span style=\"color: yellow\"><span class=\"ansi-yellow-fg\">FinalVal</span></span>(<span style=\"color: yellow\"><span class=\"ansi-yellow-fg\">Elem</span></span>(<span style=\"color: yellow\"><span class=\"ansi-yellow-fg\">Wrap</span></span>(<span style=\"color: rgb(0, 187, 0)\"><span class=\"ansi-green-fg\">f</span></span>), <span style=\"color: yellow\"><span class=\"ansi-yellow-fg\">AtCoord</span></span>(FuncsWithDomain, <span style=\"color: rgb(0, 187, 0)\"><span class=\"ansi-green-fg\">A</span></span> :: HNil))),\n",
       "    <span style=\"color: yellow\"><span class=\"ansi-yellow-fg\">InitialVal</span></span>(<span style=\"color: yellow\"><span class=\"ansi-yellow-fg\">Elem</span></span>(<span style=\"color: yellow\"><span class=\"ansi-yellow-fg\">Wrap</span></span>(<span style=\"color: rgb(0, 187, 0)\"><span class=\"ansi-green-fg\">f</span></span>), <span style=\"color: yellow\"><span class=\"ansi-yellow-fg\">AtCoord</span></span>(FuncsWithDomain, <span style=\"color: rgb(0, 187, 0)\"><span class=\"ansi-green-fg\">A</span></span> :: HNil))),\n",
       "    <span style=\"color: yellow\"><span class=\"ansi-yellow-fg\">InitialVal</span></span>(<span style=\"color: yellow\"><span class=\"ansi-yellow-fg\">Elem</span></span>(<span style=\"color: yellow\"><span class=\"ansi-yellow-fg\">Wrap</span></span>(<span style=\"color: rgb(0, 187, 0)\"><span class=\"ansi-green-fg\">f</span></span>), Funcs)),\n",
       "    <span style=\"color: yellow\"><span class=\"ansi-yellow-fg\">FinalVal</span></span>(<span style=\"color: yellow\"><span class=\"ansi-yellow-fg\">Elem</span></span>(<span style=\"color: yellow\"><span class=\"ansi-yellow-fg\">Wrap</span></span>(<span style=\"color: rgb(0, 187, 0)\"><span class=\"ansi-green-fg\">f</span></span>), Funcs)),\n",
       "    <span style=\"color: yellow\"><span class=\"ansi-yellow-fg\">FinalVal</span></span>(<span style=\"color: yellow\"><span class=\"ansi-yellow-fg\">Elem</span></span>(<span style=\"color: rgb(0, 187, 0)\"><span class=\"ansi-green-fg\">A</span></span>, TargetTyps)),\n",
       "    <span style=\"color: yellow\"><span class=\"ansi-yellow-fg\">InitialVal</span></span>(<span style=\"color: yellow\"><span class=\"ansi-yellow-fg\">Elem</span></span>(<span style=\"color: rgb(0, 187, 0)\"><span class=\"ansi-green-fg\">a</span></span>, Terms)),\n",
       "    <span style=\"color: yellow\"><span class=\"ansi-yellow-fg\">FinalVal</span></span>(<span style=\"color: yellow\"><span class=\"ansi-yellow-fg\">Elem</span></span>(<span style=\"color: rgb(0, 187, 0)\"><span class=\"ansi-green-fg\">a</span></span>, Terms)),\n",
       "    <span style=\"color: yellow\"><span class=\"ansi-yellow-fg\">InitialVal</span></span>(<span style=\"color: yellow\"><span class=\"ansi-yellow-fg\">Elem</span></span>(<span style=\"color: rgb(0, 187, 0)\"><span class=\"ansi-green-fg\">f(a)</span></span>, <span style=\"color: yellow\"><span class=\"ansi-yellow-fg\">AtCoord</span></span>(TermsWithTyp, <span style=\"color: rgb(0, 187, 0)\"><span class=\"ansi-green-fg\">B</span></span> :: HNil))),\n",
       "    <span style=\"color: yellow\"><span class=\"ansi-yellow-fg\">FinalVal</span></span>(<span style=\"color: yellow\"><span class=\"ansi-yellow-fg\">Elem</span></span>(<span style=\"color: rgb(0, 187, 0)\"><span class=\"ansi-green-fg\">f(a)</span></span>, <span style=\"color: yellow\"><span class=\"ansi-yellow-fg\">AtCoord</span></span>(TermsWithTyp, <span style=\"color: rgb(0, 187, 0)\"><span class=\"ansi-green-fg\">B</span></span> :: HNil))),\n",
       "    <span style=\"color: yellow\"><span class=\"ansi-yellow-fg\">FinalVal</span></span>(<span style=\"color: yellow\"><span class=\"ansi-yellow-fg\">Elem</span></span>(<span style=\"color: rgb(0, 187, 0)\"><span class=\"ansi-green-fg\">B</span></span>, TargetTyps))\n",
       "  )\n",
       ")</span></span></span></code></pre>\n",
       "</div>"
      ],
      "text/plain": [
       "\u001b[36mvarsF\u001b[39m: \u001b[32mmonix\u001b[39m.\u001b[32mexecution\u001b[39m.\u001b[32mCancelableFuture\u001b[39m[\u001b[32mVector\u001b[39m[\u001b[32mExpression\u001b[39m]] = \u001b[32m\u001b[33mSuccess\u001b[39m(\n",
       "  \u001b[33mVector\u001b[39m(\n",
       "    \u001b[33mFinalVal\u001b[39m(\u001b[33mElem\u001b[39m(\u001b[32mA\u001b[39m, Typs)),\n",
       "    \u001b[33mInitialVal\u001b[39m(\u001b[33mElem\u001b[39m(\u001b[32mA\u001b[39m, Typs)),\n",
       "    \u001b[33mFinalVal\u001b[39m(\u001b[33mElem\u001b[39m(\u001b[32mB\u001b[39m, Typs)),\n",
       "    \u001b[33mInitialVal\u001b[39m(\u001b[33mElem\u001b[39m(\u001b[32mB\u001b[39m, Typs)),\n",
       "    \u001b[33mFinalVal\u001b[39m(\u001b[33mEvent\u001b[39m(Terms, \u001b[33mFilter\u001b[39m(\u001b[33mWithTyp\u001b[39m(\u001b[32mB\u001b[39m)))),\n",
       "    \u001b[33mFinalVal\u001b[39m(\u001b[33mElem\u001b[39m(\u001b[32mf(a)\u001b[39m, Terms)),\n",
       "    \u001b[33mInitialVal\u001b[39m(\u001b[33mElem\u001b[39m(\u001b[32mf(a)\u001b[39m, Terms)),\n",
       "    \u001b[33mFinalVal\u001b[39m(\u001b[33mElem\u001b[39m(\u001b[32mf\u001b[39m, Terms)),\n",
       "    \u001b[33mInitialVal\u001b[39m(\u001b[33mElem\u001b[39m(\u001b[32mf\u001b[39m, Terms)),\n",
       "    \u001b[33mFinalVal\u001b[39m(\u001b[33mElem\u001b[39m(\u001b[32ma\u001b[39m, \u001b[33mAtCoord\u001b[39m(TermsWithTyp, \u001b[32mA\u001b[39m :: HNil))),\n",
       "    \u001b[33mInitialVal\u001b[39m(\u001b[33mElem\u001b[39m(\u001b[32ma\u001b[39m, \u001b[33mAtCoord\u001b[39m(TermsWithTyp, \u001b[32mA\u001b[39m :: HNil))),\n",
       "    \u001b[33mFinalVal\u001b[39m(\u001b[33mElem\u001b[39m(\u001b[33mWrap\u001b[39m(\u001b[32mf\u001b[39m), \u001b[33mAtCoord\u001b[39m(FuncsWithDomain, \u001b[32mA\u001b[39m :: HNil))),\n",
       "    \u001b[33mInitialVal\u001b[39m(\u001b[33mElem\u001b[39m(\u001b[33mWrap\u001b[39m(\u001b[32mf\u001b[39m), \u001b[33mAtCoord\u001b[39m(FuncsWithDomain, \u001b[32mA\u001b[39m :: HNil))),\n",
       "    \u001b[33mInitialVal\u001b[39m(\u001b[33mElem\u001b[39m(\u001b[33mWrap\u001b[39m(\u001b[32mf\u001b[39m), Funcs)),\n",
       "    \u001b[33mFinalVal\u001b[39m(\u001b[33mElem\u001b[39m(\u001b[33mWrap\u001b[39m(\u001b[32mf\u001b[39m), Funcs)),\n",
       "    \u001b[33mFinalVal\u001b[39m(\u001b[33mElem\u001b[39m(\u001b[32mA\u001b[39m, TargetTyps)),\n",
       "    \u001b[33mInitialVal\u001b[39m(\u001b[33mElem\u001b[39m(\u001b[32ma\u001b[39m, Terms)),\n",
       "    \u001b[33mFinalVal\u001b[39m(\u001b[33mElem\u001b[39m(\u001b[32ma\u001b[39m, Terms)),\n",
       "    \u001b[33mInitialVal\u001b[39m(\u001b[33mElem\u001b[39m(\u001b[32mf(a)\u001b[39m, \u001b[33mAtCoord\u001b[39m(TermsWithTyp, \u001b[32mB\u001b[39m :: HNil))),\n",
       "    \u001b[33mFinalVal\u001b[39m(\u001b[33mElem\u001b[39m(\u001b[32mf(a)\u001b[39m, \u001b[33mAtCoord\u001b[39m(TermsWithTyp, \u001b[32mB\u001b[39m :: HNil))),\n",
       "    \u001b[33mFinalVal\u001b[39m(\u001b[33mElem\u001b[39m(\u001b[32mB\u001b[39m, TargetTyps))\n",
       "  )\n",
       ")\u001b[39m"
      ]
     },
     "metadata": {},
     "output_type": "display_data"
    }
   ],
   "source": [
    "val varsF = varT.runToFuture"
   ]
  },
  {
   "cell_type": "code",
   "execution_count": 68,
   "metadata": {},
   "outputs": [
    {
     "data": {
      "text/plain": [
       "\u001b[36mklT0\u001b[39m: \u001b[32mmonix\u001b[39m.\u001b[32meval\u001b[39m.\u001b[32mTask\u001b[39m[\u001b[32mVector\u001b[39m[(\u001b[32mDouble\u001b[39m, \u001b[32mExpression\u001b[39m)]] = \u001b[33mFlatMap\u001b[39m(\n",
       "  \u001b[33mMap\u001b[39m(\n",
       "    \u001b[33mAsync\u001b[39m(<function2>, false, true, true),\n",
       "    ammonite.$sess.cmd67$Helper$$Lambda$3819/1270999907@423e2c4c,\n",
       "    \u001b[32m0\u001b[39m\n",
       "  ),\n",
       "  ammonite.$sess.cmd67$Helper$$Lambda$3820/1258644324@1c4c4968\n",
       ")"
      ]
     },
     "execution_count": 68,
     "metadata": {},
     "output_type": "execute_result"
    }
   ],
   "source": [
    "val klT0 = for {\n",
    "    ev <- lp14.expressionEval\n",
    "    q = ev.finalDist\n",
    "    vs = ev.vars\n",
    "    der <- ev.WithP(q).jetTask(ev.entropy(0, 1))\n",
    "} yield der.infinitesimal.toVector.zip(vs)"
   ]
  },
  {
   "cell_type": "code",
   "execution_count": 69,
   "metadata": {},
   "outputs": [
    {
     "data": {
      "text/html": [
       "<div class=\"jp-RenderedText\">\n",
       "<pre><code><span style=\"color: rgb(0, 187, 187)\"><span class=\"ansi-cyan-fg\">klF0</span></span>: <span style=\"color: rgb(0, 187, 0)\"><span class=\"ansi-green-fg\">monix</span></span>.<span style=\"color: rgb(0, 187, 0)\"><span class=\"ansi-green-fg\">execution</span></span>.<span style=\"color: rgb(0, 187, 0)\"><span class=\"ansi-green-fg\">CancelableFuture</span></span>[<span style=\"color: rgb(0, 187, 0)\"><span class=\"ansi-green-fg\">Vector</span></span>[(<span style=\"color: rgb(0, 187, 0)\"><span class=\"ansi-green-fg\">Double</span></span>, <span style=\"color: rgb(0, 187, 0)\"><span class=\"ansi-green-fg\">Expression</span></span>)]] = <span style=\"color: rgb(0, 187, 0)\"><span class=\"ansi-green-fg\"><style>@keyframes fadein { from { opacity: 0; } to { opacity: 1; } }</style><span style=\"animation: fadein 2s;\"><span style=\"color: yellow\"><span class=\"ansi-yellow-fg\">Success</span></span>(\n",
       "  <span style=\"color: yellow\"><span class=\"ansi-yellow-fg\">Vector</span></span>(\n",
       "    (<span style=\"color: rgb(0, 187, 0)\"><span class=\"ansi-green-fg\">0.0</span></span>, <span style=\"color: yellow\"><span class=\"ansi-yellow-fg\">FinalVal</span></span>(<span style=\"color: yellow\"><span class=\"ansi-yellow-fg\">Elem</span></span>(<span style=\"color: rgb(0, 187, 0)\"><span class=\"ansi-green-fg\">A</span></span>, Typs))),\n",
       "    (<span style=\"color: rgb(0, 187, 0)\"><span class=\"ansi-green-fg\">0.0</span></span>, <span style=\"color: yellow\"><span class=\"ansi-yellow-fg\">InitialVal</span></span>(<span style=\"color: yellow\"><span class=\"ansi-yellow-fg\">Elem</span></span>(<span style=\"color: rgb(0, 187, 0)\"><span class=\"ansi-green-fg\">A</span></span>, Typs))),\n",
       "    (<span style=\"color: rgb(0, 187, 0)\"><span class=\"ansi-green-fg\">0.0</span></span>, <span style=\"color: yellow\"><span class=\"ansi-yellow-fg\">FinalVal</span></span>(<span style=\"color: yellow\"><span class=\"ansi-yellow-fg\">Elem</span></span>(<span style=\"color: rgb(0, 187, 0)\"><span class=\"ansi-green-fg\">B</span></span>, Typs))),\n",
       "    (<span style=\"color: rgb(0, 187, 0)\"><span class=\"ansi-green-fg\">0.0</span></span>, <span style=\"color: yellow\"><span class=\"ansi-yellow-fg\">InitialVal</span></span>(<span style=\"color: yellow\"><span class=\"ansi-yellow-fg\">Elem</span></span>(<span style=\"color: rgb(0, 187, 0)\"><span class=\"ansi-green-fg\">B</span></span>, Typs))),\n",
       "    (<span style=\"color: rgb(0, 187, 0)\"><span class=\"ansi-green-fg\">0.0</span></span>, <span style=\"color: yellow\"><span class=\"ansi-yellow-fg\">FinalVal</span></span>(<span style=\"color: yellow\"><span class=\"ansi-yellow-fg\">Event</span></span>(Terms, <span style=\"color: yellow\"><span class=\"ansi-yellow-fg\">Filter</span></span>(<span style=\"color: yellow\"><span class=\"ansi-yellow-fg\">WithTyp</span></span>(<span style=\"color: rgb(0, 187, 0)\"><span class=\"ansi-green-fg\">B</span></span>))))),\n",
       "    (<span style=\"color: rgb(0, 187, 0)\"><span class=\"ansi-green-fg\">-0.4548076816299835</span></span>, <span style=\"color: yellow\"><span class=\"ansi-yellow-fg\">FinalVal</span></span>(<span style=\"color: yellow\"><span class=\"ansi-yellow-fg\">Elem</span></span>(<span style=\"color: rgb(0, 187, 0)\"><span class=\"ansi-green-fg\">f(a)</span></span>, Terms))),\n",
       "    (<span style=\"color: rgb(0, 187, 0)\"><span class=\"ansi-green-fg\">0.0</span></span>, <span style=\"color: yellow\"><span class=\"ansi-yellow-fg\">InitialVal</span></span>(<span style=\"color: yellow\"><span class=\"ansi-yellow-fg\">Elem</span></span>(<span style=\"color: rgb(0, 187, 0)\"><span class=\"ansi-green-fg\">f(a)</span></span>, Terms))),\n",
       "    (<span style=\"color: rgb(0, 187, 0)\"><span class=\"ansi-green-fg\">0.0</span></span>, <span style=\"color: yellow\"><span class=\"ansi-yellow-fg\">FinalVal</span></span>(<span style=\"color: yellow\"><span class=\"ansi-yellow-fg\">Elem</span></span>(<span style=\"color: rgb(0, 187, 0)\"><span class=\"ansi-green-fg\">f</span></span>, Terms))),\n",
       "    (<span style=\"color: rgb(0, 187, 0)\"><span class=\"ansi-green-fg\">0.0</span></span>, <span style=\"color: yellow\"><span class=\"ansi-yellow-fg\">InitialVal</span></span>(<span style=\"color: yellow\"><span class=\"ansi-yellow-fg\">Elem</span></span>(<span style=\"color: rgb(0, 187, 0)\"><span class=\"ansi-green-fg\">f</span></span>, Terms))),\n",
       "    (<span style=\"color: rgb(0, 187, 0)\"><span class=\"ansi-green-fg\">0.0</span></span>, <span style=\"color: yellow\"><span class=\"ansi-yellow-fg\">FinalVal</span></span>(<span style=\"color: yellow\"><span class=\"ansi-yellow-fg\">Elem</span></span>(<span style=\"color: rgb(0, 187, 0)\"><span class=\"ansi-green-fg\">a</span></span>, <span style=\"color: yellow\"><span class=\"ansi-yellow-fg\">AtCoord</span></span>(TermsWithTyp, <span style=\"color: rgb(0, 187, 0)\"><span class=\"ansi-green-fg\">A</span></span> :: HNil)))),\n",
       "    (<span style=\"color: rgb(0, 187, 0)\"><span class=\"ansi-green-fg\">0.0</span></span>, <span style=\"color: yellow\"><span class=\"ansi-yellow-fg\">InitialVal</span></span>(<span style=\"color: yellow\"><span class=\"ansi-yellow-fg\">Elem</span></span>(<span style=\"color: rgb(0, 187, 0)\"><span class=\"ansi-green-fg\">a</span></span>, <span style=\"color: yellow\"><span class=\"ansi-yellow-fg\">AtCoord</span></span>(TermsWithTyp, <span style=\"color: rgb(0, 187, 0)\"><span class=\"ansi-green-fg\">A</span></span> :: HNil)))),\n",
       "    (<span style=\"color: rgb(0, 187, 0)\"><span class=\"ansi-green-fg\">0.0</span></span>, <span style=\"color: yellow\"><span class=\"ansi-yellow-fg\">FinalVal</span></span>(<span style=\"color: yellow\"><span class=\"ansi-yellow-fg\">Elem</span></span>(<span style=\"color: yellow\"><span class=\"ansi-yellow-fg\">Wrap</span></span>(<span style=\"color: rgb(0, 187, 0)\"><span class=\"ansi-green-fg\">f</span></span>), <span style=\"color: yellow\"><span class=\"ansi-yellow-fg\">AtCoord</span></span>(FuncsWithDomain, <span style=\"color: rgb(0, 187, 0)\"><span class=\"ansi-green-fg\">A</span></span> :: HNil)))),\n",
       "    (<span style=\"color: rgb(0, 187, 0)\"><span class=\"ansi-green-fg\">0.0</span></span>, <span style=\"color: yellow\"><span class=\"ansi-yellow-fg\">InitialVal</span></span>(<span style=\"color: yellow\"><span class=\"ansi-yellow-fg\">Elem</span></span>(<span style=\"color: yellow\"><span class=\"ansi-yellow-fg\">Wrap</span></span>(<span style=\"color: rgb(0, 187, 0)\"><span class=\"ansi-green-fg\">f</span></span>), <span style=\"color: yellow\"><span class=\"ansi-yellow-fg\">AtCoord</span></span>(FuncsWithDomain, <span style=\"color: rgb(0, 187, 0)\"><span class=\"ansi-green-fg\">A</span></span> :: HNil)))),\n",
       "    (<span style=\"color: rgb(0, 187, 0)\"><span class=\"ansi-green-fg\">0.0</span></span>, <span style=\"color: yellow\"><span class=\"ansi-yellow-fg\">InitialVal</span></span>(<span style=\"color: yellow\"><span class=\"ansi-yellow-fg\">Elem</span></span>(<span style=\"color: yellow\"><span class=\"ansi-yellow-fg\">Wrap</span></span>(<span style=\"color: rgb(0, 187, 0)\"><span class=\"ansi-green-fg\">f</span></span>), Funcs))),\n",
       "    (<span style=\"color: rgb(0, 187, 0)\"><span class=\"ansi-green-fg\">0.0</span></span>, <span style=\"color: yellow\"><span class=\"ansi-yellow-fg\">FinalVal</span></span>(<span style=\"color: yellow\"><span class=\"ansi-yellow-fg\">Elem</span></span>(<span style=\"color: yellow\"><span class=\"ansi-yellow-fg\">Wrap</span></span>(<span style=\"color: rgb(0, 187, 0)\"><span class=\"ansi-green-fg\">f</span></span>), Funcs))),\n",
       "    (<span style=\"color: rgb(0, 187, 0)\"><span class=\"ansi-green-fg\">0.0</span></span>, <span style=\"color: yellow\"><span class=\"ansi-yellow-fg\">FinalVal</span></span>(<span style=\"color: yellow\"><span class=\"ansi-yellow-fg\">Elem</span></span>(<span style=\"color: rgb(0, 187, 0)\"><span class=\"ansi-green-fg\">A</span></span>, TargetTyps))),\n",
       "    (<span style=\"color: rgb(0, 187, 0)\"><span class=\"ansi-green-fg\">0.0</span></span>, <span style=\"color: yellow\"><span class=\"ansi-yellow-fg\">InitialVal</span></span>(<span style=\"color: yellow\"><span class=\"ansi-yellow-fg\">Elem</span></span>(<span style=\"color: rgb(0, 187, 0)\"><span class=\"ansi-green-fg\">a</span></span>, Terms))),\n",
       "    (<span style=\"color: rgb(0, 187, 0)\"><span class=\"ansi-green-fg\">-7.833333333333337E-5</span></span>, <span style=\"color: yellow\"><span class=\"ansi-yellow-fg\">FinalVal</span></span>(<span style=\"color: yellow\"><span class=\"ansi-yellow-fg\">Elem</span></span>(<span style=\"color: rgb(0, 187, 0)\"><span class=\"ansi-green-fg\">a</span></span>, Terms))),\n",
       "    (<span style=\"color: rgb(0, 187, 0)\"><span class=\"ansi-green-fg\">0.0</span></span>, <span style=\"color: yellow\"><span class=\"ansi-yellow-fg\">InitialVal</span></span>(<span style=\"color: yellow\"><span class=\"ansi-yellow-fg\">Elem</span></span>(<span style=\"color: rgb(0, 187, 0)\"><span class=\"ansi-green-fg\">f(a)</span></span>, <span style=\"color: yellow\"><span class=\"ansi-yellow-fg\">AtCoord</span></span>(TermsWithTyp, <span style=\"color: rgb(0, 187, 0)\"><span class=\"ansi-green-fg\">B</span></span> :: HNil)))),\n",
       "    (<span style=\"color: rgb(0, 187, 0)\"><span class=\"ansi-green-fg\">0.0</span></span>, <span style=\"color: yellow\"><span class=\"ansi-yellow-fg\">FinalVal</span></span>(<span style=\"color: yellow\"><span class=\"ansi-yellow-fg\">Elem</span></span>(<span style=\"color: rgb(0, 187, 0)\"><span class=\"ansi-green-fg\">f(a)</span></span>, <span style=\"color: yellow\"><span class=\"ansi-yellow-fg\">AtCoord</span></span>(TermsWithTyp, <span style=\"color: rgb(0, 187, 0)\"><span class=\"ansi-green-fg\">B</span></span> :: HNil)))),\n",
       "    (<span style=\"color: rgb(0, 187, 0)\"><span class=\"ansi-green-fg\">0.0</span></span>, <span style=\"color: yellow\"><span class=\"ansi-yellow-fg\">FinalVal</span></span>(<span style=\"color: yellow\"><span class=\"ansi-yellow-fg\">Elem</span></span>(<span style=\"color: rgb(0, 187, 0)\"><span class=\"ansi-green-fg\">B</span></span>, TargetTyps)))\n",
       "  )\n",
       ")</span></span></span></code></pre>\n",
       "</div>"
      ],
      "text/plain": [
       "\u001b[36mklF0\u001b[39m: \u001b[32mmonix\u001b[39m.\u001b[32mexecution\u001b[39m.\u001b[32mCancelableFuture\u001b[39m[\u001b[32mVector\u001b[39m[(\u001b[32mDouble\u001b[39m, \u001b[32mExpression\u001b[39m)]] = \u001b[32m\u001b[33mSuccess\u001b[39m(\n",
       "  \u001b[33mVector\u001b[39m(\n",
       "    (\u001b[32m0.0\u001b[39m, \u001b[33mFinalVal\u001b[39m(\u001b[33mElem\u001b[39m(\u001b[32mA\u001b[39m, Typs))),\n",
       "    (\u001b[32m0.0\u001b[39m, \u001b[33mInitialVal\u001b[39m(\u001b[33mElem\u001b[39m(\u001b[32mA\u001b[39m, Typs))),\n",
       "    (\u001b[32m0.0\u001b[39m, \u001b[33mFinalVal\u001b[39m(\u001b[33mElem\u001b[39m(\u001b[32mB\u001b[39m, Typs))),\n",
       "    (\u001b[32m0.0\u001b[39m, \u001b[33mInitialVal\u001b[39m(\u001b[33mElem\u001b[39m(\u001b[32mB\u001b[39m, Typs))),\n",
       "    (\u001b[32m0.0\u001b[39m, \u001b[33mFinalVal\u001b[39m(\u001b[33mEvent\u001b[39m(Terms, \u001b[33mFilter\u001b[39m(\u001b[33mWithTyp\u001b[39m(\u001b[32mB\u001b[39m))))),\n",
       "    (\u001b[32m-0.4548076816299835\u001b[39m, \u001b[33mFinalVal\u001b[39m(\u001b[33mElem\u001b[39m(\u001b[32mf(a)\u001b[39m, Terms))),\n",
       "    (\u001b[32m0.0\u001b[39m, \u001b[33mInitialVal\u001b[39m(\u001b[33mElem\u001b[39m(\u001b[32mf(a)\u001b[39m, Terms))),\n",
       "    (\u001b[32m0.0\u001b[39m, \u001b[33mFinalVal\u001b[39m(\u001b[33mElem\u001b[39m(\u001b[32mf\u001b[39m, Terms))),\n",
       "    (\u001b[32m0.0\u001b[39m, \u001b[33mInitialVal\u001b[39m(\u001b[33mElem\u001b[39m(\u001b[32mf\u001b[39m, Terms))),\n",
       "    (\u001b[32m0.0\u001b[39m, \u001b[33mFinalVal\u001b[39m(\u001b[33mElem\u001b[39m(\u001b[32ma\u001b[39m, \u001b[33mAtCoord\u001b[39m(TermsWithTyp, \u001b[32mA\u001b[39m :: HNil)))),\n",
       "    (\u001b[32m0.0\u001b[39m, \u001b[33mInitialVal\u001b[39m(\u001b[33mElem\u001b[39m(\u001b[32ma\u001b[39m, \u001b[33mAtCoord\u001b[39m(TermsWithTyp, \u001b[32mA\u001b[39m :: HNil)))),\n",
       "    (\u001b[32m0.0\u001b[39m, \u001b[33mFinalVal\u001b[39m(\u001b[33mElem\u001b[39m(\u001b[33mWrap\u001b[39m(\u001b[32mf\u001b[39m), \u001b[33mAtCoord\u001b[39m(FuncsWithDomain, \u001b[32mA\u001b[39m :: HNil)))),\n",
       "    (\u001b[32m0.0\u001b[39m, \u001b[33mInitialVal\u001b[39m(\u001b[33mElem\u001b[39m(\u001b[33mWrap\u001b[39m(\u001b[32mf\u001b[39m), \u001b[33mAtCoord\u001b[39m(FuncsWithDomain, \u001b[32mA\u001b[39m :: HNil)))),\n",
       "    (\u001b[32m0.0\u001b[39m, \u001b[33mInitialVal\u001b[39m(\u001b[33mElem\u001b[39m(\u001b[33mWrap\u001b[39m(\u001b[32mf\u001b[39m), Funcs))),\n",
       "    (\u001b[32m0.0\u001b[39m, \u001b[33mFinalVal\u001b[39m(\u001b[33mElem\u001b[39m(\u001b[33mWrap\u001b[39m(\u001b[32mf\u001b[39m), Funcs))),\n",
       "    (\u001b[32m0.0\u001b[39m, \u001b[33mFinalVal\u001b[39m(\u001b[33mElem\u001b[39m(\u001b[32mA\u001b[39m, TargetTyps))),\n",
       "    (\u001b[32m0.0\u001b[39m, \u001b[33mInitialVal\u001b[39m(\u001b[33mElem\u001b[39m(\u001b[32ma\u001b[39m, Terms))),\n",
       "    (\u001b[32m-7.833333333333337E-5\u001b[39m, \u001b[33mFinalVal\u001b[39m(\u001b[33mElem\u001b[39m(\u001b[32ma\u001b[39m, Terms))),\n",
       "    (\u001b[32m0.0\u001b[39m, \u001b[33mInitialVal\u001b[39m(\u001b[33mElem\u001b[39m(\u001b[32mf(a)\u001b[39m, \u001b[33mAtCoord\u001b[39m(TermsWithTyp, \u001b[32mB\u001b[39m :: HNil)))),\n",
       "    (\u001b[32m0.0\u001b[39m, \u001b[33mFinalVal\u001b[39m(\u001b[33mElem\u001b[39m(\u001b[32mf(a)\u001b[39m, \u001b[33mAtCoord\u001b[39m(TermsWithTyp, \u001b[32mB\u001b[39m :: HNil)))),\n",
       "    (\u001b[32m0.0\u001b[39m, \u001b[33mFinalVal\u001b[39m(\u001b[33mElem\u001b[39m(\u001b[32mB\u001b[39m, TargetTyps)))\n",
       "  )\n",
       ")\u001b[39m"
      ]
     },
     "metadata": {},
     "output_type": "display_data"
    }
   ],
   "source": [
    "val klF0 = klT0.runToFuture"
   ]
  },
  {
   "cell_type": "code",
   "execution_count": 77,
   "metadata": {},
   "outputs": [
    {
     "data": {
      "text/plain": [
       "\u001b[36mentT0\u001b[39m: \u001b[32mmonix\u001b[39m.\u001b[32meval\u001b[39m.\u001b[32mTask\u001b[39m[\u001b[32mVector\u001b[39m[(\u001b[32mDouble\u001b[39m, \u001b[32mExpression\u001b[39m)]] = \u001b[33mFlatMap\u001b[39m(\n",
       "  \u001b[33mMap\u001b[39m(\n",
       "    \u001b[33mAsync\u001b[39m(<function2>, false, true, true),\n",
       "    ammonite.$sess.cmd76$Helper$$Lambda$3887/1263669105@75c4f276,\n",
       "    \u001b[32m0\u001b[39m\n",
       "  ),\n",
       "  ammonite.$sess.cmd76$Helper$$Lambda$3888/1106007152@463b20c7\n",
       ")"
      ]
     },
     "execution_count": 77,
     "metadata": {},
     "output_type": "execute_result"
    }
   ],
   "source": [
    "val entT0 = for {\n",
    "    ev <- lp14.expressionEval\n",
    "    q = ev.finalDist\n",
    "    vs = ev.vars\n",
    "    der <- ev.WithP(q).jetTask(ev.entropy(1, 0))\n",
    "} yield der.infinitesimal.toVector.zip(vs)"
   ]
  },
  {
   "cell_type": "code",
   "execution_count": 78,
   "metadata": {},
   "outputs": [
    {
     "data": {
      "text/html": [
       "<div class=\"jp-RenderedText\">\n",
       "<pre><code><span style=\"color: rgb(0, 187, 187)\"><span class=\"ansi-cyan-fg\">entF0</span></span>: <span style=\"color: rgb(0, 187, 0)\"><span class=\"ansi-green-fg\">monix</span></span>.<span style=\"color: rgb(0, 187, 0)\"><span class=\"ansi-green-fg\">execution</span></span>.<span style=\"color: rgb(0, 187, 0)\"><span class=\"ansi-green-fg\">CancelableFuture</span></span>[<span style=\"color: rgb(0, 187, 0)\"><span class=\"ansi-green-fg\">Vector</span></span>[(<span style=\"color: rgb(0, 187, 0)\"><span class=\"ansi-green-fg\">Double</span></span>, <span style=\"color: rgb(0, 187, 0)\"><span class=\"ansi-green-fg\">Expression</span></span>)]] = <span style=\"color: rgb(0, 187, 0)\"><span class=\"ansi-green-fg\"><style>@keyframes fadein { from { opacity: 0; } to { opacity: 1; } }</style><span style=\"animation: fadein 2s;\"><span style=\"color: yellow\"><span class=\"ansi-yellow-fg\">Success</span></span>(\n",
       "  <span style=\"color: yellow\"><span class=\"ansi-yellow-fg\">Vector</span></span>(\n",
       "    (<span style=\"color: rgb(0, 187, 0)\"><span class=\"ansi-green-fg\">0.0</span></span>, <span style=\"color: yellow\"><span class=\"ansi-yellow-fg\">FinalVal</span></span>(<span style=\"color: yellow\"><span class=\"ansi-yellow-fg\">Elem</span></span>(<span style=\"color: rgb(0, 187, 0)\"><span class=\"ansi-green-fg\">A</span></span>, Typs))),\n",
       "    (<span style=\"color: rgb(0, 187, 0)\"><span class=\"ansi-green-fg\">0.0</span></span>, <span style=\"color: yellow\"><span class=\"ansi-yellow-fg\">InitialVal</span></span>(<span style=\"color: yellow\"><span class=\"ansi-yellow-fg\">Elem</span></span>(<span style=\"color: rgb(0, 187, 0)\"><span class=\"ansi-green-fg\">A</span></span>, Typs))),\n",
       "    (<span style=\"color: rgb(0, 187, 0)\"><span class=\"ansi-green-fg\">0.0</span></span>, <span style=\"color: yellow\"><span class=\"ansi-yellow-fg\">FinalVal</span></span>(<span style=\"color: yellow\"><span class=\"ansi-yellow-fg\">Elem</span></span>(<span style=\"color: rgb(0, 187, 0)\"><span class=\"ansi-green-fg\">B</span></span>, Typs))),\n",
       "    (<span style=\"color: rgb(0, 187, 0)\"><span class=\"ansi-green-fg\">0.0</span></span>, <span style=\"color: yellow\"><span class=\"ansi-yellow-fg\">InitialVal</span></span>(<span style=\"color: yellow\"><span class=\"ansi-yellow-fg\">Elem</span></span>(<span style=\"color: rgb(0, 187, 0)\"><span class=\"ansi-green-fg\">B</span></span>, Typs))),\n",
       "    (<span style=\"color: rgb(0, 187, 0)\"><span class=\"ansi-green-fg\">0.0</span></span>, <span style=\"color: yellow\"><span class=\"ansi-yellow-fg\">FinalVal</span></span>(<span style=\"color: yellow\"><span class=\"ansi-yellow-fg\">Event</span></span>(Terms, <span style=\"color: yellow\"><span class=\"ansi-yellow-fg\">Filter</span></span>(<span style=\"color: yellow\"><span class=\"ansi-yellow-fg\">WithTyp</span></span>(<span style=\"color: rgb(0, 187, 0)\"><span class=\"ansi-green-fg\">B</span></span>))))),\n",
       "    (<span style=\"color: rgb(0, 187, 0)\"><span class=\"ansi-green-fg\">0.0</span></span>, <span style=\"color: yellow\"><span class=\"ansi-yellow-fg\">FinalVal</span></span>(<span style=\"color: yellow\"><span class=\"ansi-yellow-fg\">Elem</span></span>(<span style=\"color: rgb(0, 187, 0)\"><span class=\"ansi-green-fg\">f(a)</span></span>, Terms))),\n",
       "    (<span style=\"color: rgb(0, 187, 0)\"><span class=\"ansi-green-fg\">0.021913841926246652</span></span>, <span style=\"color: yellow\"><span class=\"ansi-yellow-fg\">InitialVal</span></span>(<span style=\"color: yellow\"><span class=\"ansi-yellow-fg\">Elem</span></span>(<span style=\"color: rgb(0, 187, 0)\"><span class=\"ansi-green-fg\">f(a)</span></span>, Terms))),\n",
       "    (<span style=\"color: rgb(0, 187, 0)\"><span class=\"ansi-green-fg\">0.0</span></span>, <span style=\"color: yellow\"><span class=\"ansi-yellow-fg\">FinalVal</span></span>(<span style=\"color: yellow\"><span class=\"ansi-yellow-fg\">Elem</span></span>(<span style=\"color: rgb(0, 187, 0)\"><span class=\"ansi-green-fg\">f</span></span>, Terms))),\n",
       "    (<span style=\"color: rgb(0, 187, 0)\"><span class=\"ansi-green-fg\">0.021913841926246652</span></span>, <span style=\"color: yellow\"><span class=\"ansi-yellow-fg\">InitialVal</span></span>(<span style=\"color: yellow\"><span class=\"ansi-yellow-fg\">Elem</span></span>(<span style=\"color: rgb(0, 187, 0)\"><span class=\"ansi-green-fg\">f</span></span>, Terms))),\n",
       "    (<span style=\"color: rgb(0, 187, 0)\"><span class=\"ansi-green-fg\">0.0</span></span>, <span style=\"color: yellow\"><span class=\"ansi-yellow-fg\">FinalVal</span></span>(<span style=\"color: yellow\"><span class=\"ansi-yellow-fg\">Elem</span></span>(<span style=\"color: rgb(0, 187, 0)\"><span class=\"ansi-green-fg\">a</span></span>, <span style=\"color: yellow\"><span class=\"ansi-yellow-fg\">AtCoord</span></span>(TermsWithTyp, <span style=\"color: rgb(0, 187, 0)\"><span class=\"ansi-green-fg\">A</span></span> :: HNil)))),\n",
       "    (<span style=\"color: rgb(0, 187, 0)\"><span class=\"ansi-green-fg\">0.0</span></span>, <span style=\"color: yellow\"><span class=\"ansi-yellow-fg\">InitialVal</span></span>(<span style=\"color: yellow\"><span class=\"ansi-yellow-fg\">Elem</span></span>(<span style=\"color: rgb(0, 187, 0)\"><span class=\"ansi-green-fg\">a</span></span>, <span style=\"color: yellow\"><span class=\"ansi-yellow-fg\">AtCoord</span></span>(TermsWithTyp, <span style=\"color: rgb(0, 187, 0)\"><span class=\"ansi-green-fg\">A</span></span> :: HNil)))),\n",
       "    (<span style=\"color: rgb(0, 187, 0)\"><span class=\"ansi-green-fg\">0.0</span></span>, <span style=\"color: yellow\"><span class=\"ansi-yellow-fg\">FinalVal</span></span>(<span style=\"color: yellow\"><span class=\"ansi-yellow-fg\">Elem</span></span>(<span style=\"color: yellow\"><span class=\"ansi-yellow-fg\">Wrap</span></span>(<span style=\"color: rgb(0, 187, 0)\"><span class=\"ansi-green-fg\">f</span></span>), <span style=\"color: yellow\"><span class=\"ansi-yellow-fg\">AtCoord</span></span>(FuncsWithDomain, <span style=\"color: rgb(0, 187, 0)\"><span class=\"ansi-green-fg\">A</span></span> :: HNil)))),\n",
       "    (<span style=\"color: rgb(0, 187, 0)\"><span class=\"ansi-green-fg\">0.0</span></span>, <span style=\"color: yellow\"><span class=\"ansi-yellow-fg\">InitialVal</span></span>(<span style=\"color: yellow\"><span class=\"ansi-yellow-fg\">Elem</span></span>(<span style=\"color: yellow\"><span class=\"ansi-yellow-fg\">Wrap</span></span>(<span style=\"color: rgb(0, 187, 0)\"><span class=\"ansi-green-fg\">f</span></span>), <span style=\"color: yellow\"><span class=\"ansi-yellow-fg\">AtCoord</span></span>(FuncsWithDomain, <span style=\"color: rgb(0, 187, 0)\"><span class=\"ansi-green-fg\">A</span></span> :: HNil)))),\n",
       "    (<span style=\"color: rgb(0, 187, 0)\"><span class=\"ansi-green-fg\">0.0</span></span>, <span style=\"color: yellow\"><span class=\"ansi-yellow-fg\">InitialVal</span></span>(<span style=\"color: yellow\"><span class=\"ansi-yellow-fg\">Elem</span></span>(<span style=\"color: yellow\"><span class=\"ansi-yellow-fg\">Wrap</span></span>(<span style=\"color: rgb(0, 187, 0)\"><span class=\"ansi-green-fg\">f</span></span>), Funcs))),\n",
       "    (<span style=\"color: rgb(0, 187, 0)\"><span class=\"ansi-green-fg\">0.0</span></span>, <span style=\"color: yellow\"><span class=\"ansi-yellow-fg\">FinalVal</span></span>(<span style=\"color: yellow\"><span class=\"ansi-yellow-fg\">Elem</span></span>(<span style=\"color: yellow\"><span class=\"ansi-yellow-fg\">Wrap</span></span>(<span style=\"color: rgb(0, 187, 0)\"><span class=\"ansi-green-fg\">f</span></span>), Funcs))),\n",
       "    (<span style=\"color: rgb(0, 187, 0)\"><span class=\"ansi-green-fg\">0.0</span></span>, <span style=\"color: yellow\"><span class=\"ansi-yellow-fg\">FinalVal</span></span>(<span style=\"color: yellow\"><span class=\"ansi-yellow-fg\">Elem</span></span>(<span style=\"color: rgb(0, 187, 0)\"><span class=\"ansi-green-fg\">A</span></span>, TargetTyps))),\n",
       "    (<span style=\"color: rgb(0, 187, 0)\"><span class=\"ansi-green-fg\">0.021913841926246652</span></span>, <span style=\"color: yellow\"><span class=\"ansi-yellow-fg\">InitialVal</span></span>(<span style=\"color: yellow\"><span class=\"ansi-yellow-fg\">Elem</span></span>(<span style=\"color: rgb(0, 187, 0)\"><span class=\"ansi-green-fg\">a</span></span>, Terms))),\n",
       "    (<span style=\"color: rgb(0, 187, 0)\"><span class=\"ansi-green-fg\">0.0</span></span>, <span style=\"color: yellow\"><span class=\"ansi-yellow-fg\">FinalVal</span></span>(<span style=\"color: yellow\"><span class=\"ansi-yellow-fg\">Elem</span></span>(<span style=\"color: rgb(0, 187, 0)\"><span class=\"ansi-green-fg\">a</span></span>, Terms))),\n",
       "    (<span style=\"color: rgb(0, 187, 0)\"><span class=\"ansi-green-fg\">0.0</span></span>, <span style=\"color: yellow\"><span class=\"ansi-yellow-fg\">InitialVal</span></span>(<span style=\"color: yellow\"><span class=\"ansi-yellow-fg\">Elem</span></span>(<span style=\"color: rgb(0, 187, 0)\"><span class=\"ansi-green-fg\">f(a)</span></span>, <span style=\"color: yellow\"><span class=\"ansi-yellow-fg\">AtCoord</span></span>(TermsWithTyp, <span style=\"color: rgb(0, 187, 0)\"><span class=\"ansi-green-fg\">B</span></span> :: HNil)))),\n",
       "    (<span style=\"color: rgb(0, 187, 0)\"><span class=\"ansi-green-fg\">0.0</span></span>, <span style=\"color: yellow\"><span class=\"ansi-yellow-fg\">FinalVal</span></span>(<span style=\"color: yellow\"><span class=\"ansi-yellow-fg\">Elem</span></span>(<span style=\"color: rgb(0, 187, 0)\"><span class=\"ansi-green-fg\">f(a)</span></span>, <span style=\"color: yellow\"><span class=\"ansi-yellow-fg\">AtCoord</span></span>(TermsWithTyp, <span style=\"color: rgb(0, 187, 0)\"><span class=\"ansi-green-fg\">B</span></span> :: HNil)))),\n",
       "    (<span style=\"color: rgb(0, 187, 0)\"><span class=\"ansi-green-fg\">0.0</span></span>, <span style=\"color: yellow\"><span class=\"ansi-yellow-fg\">FinalVal</span></span>(<span style=\"color: yellow\"><span class=\"ansi-yellow-fg\">Elem</span></span>(<span style=\"color: rgb(0, 187, 0)\"><span class=\"ansi-green-fg\">B</span></span>, TargetTyps)))\n",
       "  )\n",
       ")</span></span></span></code></pre>\n",
       "</div>"
      ],
      "text/plain": [
       "\u001b[36mentF0\u001b[39m: \u001b[32mmonix\u001b[39m.\u001b[32mexecution\u001b[39m.\u001b[32mCancelableFuture\u001b[39m[\u001b[32mVector\u001b[39m[(\u001b[32mDouble\u001b[39m, \u001b[32mExpression\u001b[39m)]] = \u001b[32m\u001b[33mSuccess\u001b[39m(\n",
       "  \u001b[33mVector\u001b[39m(\n",
       "    (\u001b[32m0.0\u001b[39m, \u001b[33mFinalVal\u001b[39m(\u001b[33mElem\u001b[39m(\u001b[32mA\u001b[39m, Typs))),\n",
       "    (\u001b[32m0.0\u001b[39m, \u001b[33mInitialVal\u001b[39m(\u001b[33mElem\u001b[39m(\u001b[32mA\u001b[39m, Typs))),\n",
       "    (\u001b[32m0.0\u001b[39m, \u001b[33mFinalVal\u001b[39m(\u001b[33mElem\u001b[39m(\u001b[32mB\u001b[39m, Typs))),\n",
       "    (\u001b[32m0.0\u001b[39m, \u001b[33mInitialVal\u001b[39m(\u001b[33mElem\u001b[39m(\u001b[32mB\u001b[39m, Typs))),\n",
       "    (\u001b[32m0.0\u001b[39m, \u001b[33mFinalVal\u001b[39m(\u001b[33mEvent\u001b[39m(Terms, \u001b[33mFilter\u001b[39m(\u001b[33mWithTyp\u001b[39m(\u001b[32mB\u001b[39m))))),\n",
       "    (\u001b[32m0.0\u001b[39m, \u001b[33mFinalVal\u001b[39m(\u001b[33mElem\u001b[39m(\u001b[32mf(a)\u001b[39m, Terms))),\n",
       "    (\u001b[32m0.021913841926246652\u001b[39m, \u001b[33mInitialVal\u001b[39m(\u001b[33mElem\u001b[39m(\u001b[32mf(a)\u001b[39m, Terms))),\n",
       "    (\u001b[32m0.0\u001b[39m, \u001b[33mFinalVal\u001b[39m(\u001b[33mElem\u001b[39m(\u001b[32mf\u001b[39m, Terms))),\n",
       "    (\u001b[32m0.021913841926246652\u001b[39m, \u001b[33mInitialVal\u001b[39m(\u001b[33mElem\u001b[39m(\u001b[32mf\u001b[39m, Terms))),\n",
       "    (\u001b[32m0.0\u001b[39m, \u001b[33mFinalVal\u001b[39m(\u001b[33mElem\u001b[39m(\u001b[32ma\u001b[39m, \u001b[33mAtCoord\u001b[39m(TermsWithTyp, \u001b[32mA\u001b[39m :: HNil)))),\n",
       "    (\u001b[32m0.0\u001b[39m, \u001b[33mInitialVal\u001b[39m(\u001b[33mElem\u001b[39m(\u001b[32ma\u001b[39m, \u001b[33mAtCoord\u001b[39m(TermsWithTyp, \u001b[32mA\u001b[39m :: HNil)))),\n",
       "    (\u001b[32m0.0\u001b[39m, \u001b[33mFinalVal\u001b[39m(\u001b[33mElem\u001b[39m(\u001b[33mWrap\u001b[39m(\u001b[32mf\u001b[39m), \u001b[33mAtCoord\u001b[39m(FuncsWithDomain, \u001b[32mA\u001b[39m :: HNil)))),\n",
       "    (\u001b[32m0.0\u001b[39m, \u001b[33mInitialVal\u001b[39m(\u001b[33mElem\u001b[39m(\u001b[33mWrap\u001b[39m(\u001b[32mf\u001b[39m), \u001b[33mAtCoord\u001b[39m(FuncsWithDomain, \u001b[32mA\u001b[39m :: HNil)))),\n",
       "    (\u001b[32m0.0\u001b[39m, \u001b[33mInitialVal\u001b[39m(\u001b[33mElem\u001b[39m(\u001b[33mWrap\u001b[39m(\u001b[32mf\u001b[39m), Funcs))),\n",
       "    (\u001b[32m0.0\u001b[39m, \u001b[33mFinalVal\u001b[39m(\u001b[33mElem\u001b[39m(\u001b[33mWrap\u001b[39m(\u001b[32mf\u001b[39m), Funcs))),\n",
       "    (\u001b[32m0.0\u001b[39m, \u001b[33mFinalVal\u001b[39m(\u001b[33mElem\u001b[39m(\u001b[32mA\u001b[39m, TargetTyps))),\n",
       "    (\u001b[32m0.021913841926246652\u001b[39m, \u001b[33mInitialVal\u001b[39m(\u001b[33mElem\u001b[39m(\u001b[32ma\u001b[39m, Terms))),\n",
       "    (\u001b[32m0.0\u001b[39m, \u001b[33mFinalVal\u001b[39m(\u001b[33mElem\u001b[39m(\u001b[32ma\u001b[39m, Terms))),\n",
       "    (\u001b[32m0.0\u001b[39m, \u001b[33mInitialVal\u001b[39m(\u001b[33mElem\u001b[39m(\u001b[32mf(a)\u001b[39m, \u001b[33mAtCoord\u001b[39m(TermsWithTyp, \u001b[32mB\u001b[39m :: HNil)))),\n",
       "    (\u001b[32m0.0\u001b[39m, \u001b[33mFinalVal\u001b[39m(\u001b[33mElem\u001b[39m(\u001b[32mf(a)\u001b[39m, \u001b[33mAtCoord\u001b[39m(TermsWithTyp, \u001b[32mB\u001b[39m :: HNil)))),\n",
       "    (\u001b[32m0.0\u001b[39m, \u001b[33mFinalVal\u001b[39m(\u001b[33mElem\u001b[39m(\u001b[32mB\u001b[39m, TargetTyps)))\n",
       "  )\n",
       ")\u001b[39m"
      ]
     },
     "metadata": {},
     "output_type": "display_data"
    }
   ],
   "source": [
    "val entF0 = entT0.runToFuture"
   ]
  },
  {
   "cell_type": "code",
   "execution_count": 72,
   "metadata": {},
   "outputs": [
    {
     "data": {
      "text/html": [
       "<div class=\"jp-RenderedText\">\n",
       "<pre><code><span style=\"color: rgb(0, 187, 187)\"><span class=\"ansi-cyan-fg\">res71</span></span>: <span style=\"color: rgb(0, 187, 0)\"><span class=\"ansi-green-fg\">monix</span></span>.<span style=\"color: rgb(0, 187, 0)\"><span class=\"ansi-green-fg\">execution</span></span>.<span style=\"color: rgb(0, 187, 0)\"><span class=\"ansi-green-fg\">CancelableFuture</span></span>[<span style=\"color: rgb(0, 187, 0)\"><span class=\"ansi-green-fg\">Expression</span></span>] = <span style=\"color: rgb(0, 187, 0)\"><span class=\"ansi-green-fg\"><span style=\"color: yellow\"><span class=\"ansi-yellow-fg\">Success</span></span>(\n",
       "  <span style=\"color: yellow\"><span class=\"ansi-yellow-fg\">Sum</span></span>(\n",
       "    <span style=\"color: yellow\"><span class=\"ansi-yellow-fg\">Product</span></span>(\n",
       "      <span style=\"color: yellow\"><span class=\"ansi-yellow-fg\">Literal</span></span>(<span style=\"color: rgb(0, 187, 0)\"><span class=\"ansi-green-fg\">1.0000000000000003E-4</span></span>),\n",
       "      <span style=\"color: yellow\"><span class=\"ansi-yellow-fg\">Log</span></span>(<span style=\"color: yellow\"><span class=\"ansi-yellow-fg\">Quotient</span></span>(<span style=\"color: yellow\"><span class=\"ansi-yellow-fg\">Literal</span></span>(<span style=\"color: rgb(0, 187, 0)\"><span class=\"ansi-green-fg\">1.0000000000000003E-4</span></span>), <span style=\"color: yellow\"><span class=\"ansi-yellow-fg\">FinalVal</span></span>(<span style=\"color: yellow\"><span class=\"ansi-yellow-fg\">Elem</span></span>(<span style=\"color: rgb(0, 187, 0)\"><span class=\"ansi-green-fg\">a</span></span>, Terms))))\n",
       "    ),\n",
       "    <span style=\"color: yellow\"><span class=\"ansi-yellow-fg\">Product</span></span>(\n",
       "      <span style=\"color: yellow\"><span class=\"ansi-yellow-fg\">Literal</span></span>(<span style=\"color: rgb(0, 187, 0)\"><span class=\"ansi-green-fg\">0.9999000000000001</span></span>),\n",
       "      <span style=\"color: yellow\"><span class=\"ansi-yellow-fg\">Log</span></span>(<span style=\"color: yellow\"><span class=\"ansi-yellow-fg\">Quotient</span></span>(<span style=\"color: yellow\"><span class=\"ansi-yellow-fg\">Literal</span></span>(<span style=\"color: rgb(0, 187, 0)\"><span class=\"ansi-green-fg\">0.9999000000000001</span></span>), <span style=\"color: yellow\"><span class=\"ansi-yellow-fg\">FinalVal</span></span>(<span style=\"color: yellow\"><span class=\"ansi-yellow-fg\">Elem</span></span>(<span style=\"color: rgb(0, 187, 0)\"><span class=\"ansi-green-fg\">f(a)</span></span>, Terms))))\n",
       "    )\n",
       "  )\n",
       ")</span></span></code></pre>\n",
       "</div>"
      ],
      "text/plain": [
       "\u001b[36mres71\u001b[39m: \u001b[32mmonix\u001b[39m.\u001b[32mexecution\u001b[39m.\u001b[32mCancelableFuture\u001b[39m[\u001b[32mExpression\u001b[39m] = \u001b[32m\u001b[33mSuccess\u001b[39m(\n",
       "  \u001b[33mSum\u001b[39m(\n",
       "    \u001b[33mProduct\u001b[39m(\n",
       "      \u001b[33mLiteral\u001b[39m(\u001b[32m1.0000000000000003E-4\u001b[39m),\n",
       "      \u001b[33mLog\u001b[39m(\u001b[33mQuotient\u001b[39m(\u001b[33mLiteral\u001b[39m(\u001b[32m1.0000000000000003E-4\u001b[39m), \u001b[33mFinalVal\u001b[39m(\u001b[33mElem\u001b[39m(\u001b[32ma\u001b[39m, Terms))))\n",
       "    ),\n",
       "    \u001b[33mProduct\u001b[39m(\n",
       "      \u001b[33mLiteral\u001b[39m(\u001b[32m0.9999000000000001\u001b[39m),\n",
       "      \u001b[33mLog\u001b[39m(\u001b[33mQuotient\u001b[39m(\u001b[33mLiteral\u001b[39m(\u001b[32m0.9999000000000001\u001b[39m), \u001b[33mFinalVal\u001b[39m(\u001b[33mElem\u001b[39m(\u001b[32mf(a)\u001b[39m, Terms))))\n",
       "    )\n",
       "  )\n",
       ")\u001b[39m"
      ]
     },
     "metadata": {},
     "output_type": "display_data"
    }
   ],
   "source": [
    "lp14.expressionEval.map(_.klExp).runToFuture"
   ]
  },
  {
   "cell_type": "code",
   "execution_count": 84,
   "metadata": {},
   "outputs": [
    {
     "data": {
      "text/plain": [
       "\u001b[36mshT\u001b[39m: \u001b[32mmonix\u001b[39m.\u001b[32meval\u001b[39m.\u001b[32mTask\u001b[39m[\u001b[32mVector\u001b[39m[(\u001b[32mExpression\u001b[39m, \u001b[32mDouble\u001b[39m, \u001b[32mDouble\u001b[39m)]] = \u001b[33mFlatMap\u001b[39m(\n",
       "  \u001b[33mMap\u001b[39m(\n",
       "    \u001b[33mAsync\u001b[39m(<function2>, false, true, true),\n",
       "    ammonite.$sess.cmd83$Helper$$Lambda$4028/872933634@29ee3614,\n",
       "    \u001b[32m0\u001b[39m\n",
       "  ),\n",
       "  ammonite.$sess.cmd83$Helper$$Lambda$4029/652523674@2f9bb5e1\n",
       ")"
      ]
     },
     "execution_count": 84,
     "metadata": {},
     "output_type": "execute_result"
    }
   ],
   "source": [
    "val shT = for {\n",
    "    ev <- lp14.expressionEval\n",
    "    q = ev.finalDist\n",
    "    vs = ev.vars\n",
    "    der <- ev.WithP(q).jetTask(ev.entropy(0, 1))\n",
    "    gs = ev.gradShift(q, der.infinitesimal.toVector, 1).toVector.collect{case (k, v) if q(k) != v   => (k, q(k), v)}\n",
    "} yield gs"
   ]
  },
  {
   "cell_type": "code",
   "execution_count": 85,
   "metadata": {},
   "outputs": [
    {
     "data": {
      "text/html": [
       "<div class=\"jp-RenderedText\">\n",
       "<pre><code><span style=\"color: rgb(0, 187, 187)\"><span class=\"ansi-cyan-fg\">shF</span></span>: <span style=\"color: rgb(0, 187, 0)\"><span class=\"ansi-green-fg\">monix</span></span>.<span style=\"color: rgb(0, 187, 0)\"><span class=\"ansi-green-fg\">execution</span></span>.<span style=\"color: rgb(0, 187, 0)\"><span class=\"ansi-green-fg\">CancelableFuture</span></span>[<span style=\"color: rgb(0, 187, 0)\"><span class=\"ansi-green-fg\">Vector</span></span>[(<span style=\"color: rgb(0, 187, 0)\"><span class=\"ansi-green-fg\">Expression</span></span>, <span style=\"color: rgb(0, 187, 0)\"><span class=\"ansi-green-fg\">Double</span></span>, <span style=\"color: rgb(0, 187, 0)\"><span class=\"ansi-green-fg\">Double</span></span>)]] = <span style=\"color: rgb(0, 187, 0)\"><span class=\"ansi-green-fg\"><style>@keyframes fadein { from { opacity: 0; } to { opacity: 1; } }</style><span style=\"animation: fadein 2s;\"><span style=\"color: yellow\"><span class=\"ansi-yellow-fg\">Success</span></span>(\n",
       "  <span style=\"color: yellow\"><span class=\"ansi-yellow-fg\">Vector</span></span>(\n",
       "    (<span style=\"color: yellow\"><span class=\"ansi-yellow-fg\">InitialVal</span></span>(<span style=\"color: yellow\"><span class=\"ansi-yellow-fg\">Elem</span></span>(<span style=\"color: rgb(0, 187, 0)\"><span class=\"ansi-green-fg\">A</span></span>, Typs)), <span style=\"color: rgb(0, 187, 0)\"><span class=\"ansi-green-fg\">1.0E-4</span></span>, <span style=\"color: rgb(0, 187, 0)\"><span class=\"ansi-green-fg\">9.999999999999999E-5</span></span>),\n",
       "    (<span style=\"color: yellow\"><span class=\"ansi-yellow-fg\">FinalVal</span></span>(<span style=\"color: yellow\"><span class=\"ansi-yellow-fg\">Elem</span></span>(<span style=\"color: rgb(0, 187, 0)\"><span class=\"ansi-green-fg\">A</span></span>, Typs)), <span style=\"color: rgb(0, 187, 0)\"><span class=\"ansi-green-fg\">7.500000000000001E-5</span></span>, <span style=\"color: rgb(0, 187, 0)\"><span class=\"ansi-green-fg\">7.499999999999994E-5</span></span>),\n",
       "    (<span style=\"color: yellow\"><span class=\"ansi-yellow-fg\">FinalVal</span></span>(<span style=\"color: yellow\"><span class=\"ansi-yellow-fg\">Elem</span></span>(<span style=\"color: rgb(0, 187, 0)\"><span class=\"ansi-green-fg\">f(a)</span></span>, Terms)), <span style=\"color: rgb(0, 187, 0)\"><span class=\"ansi-green-fg\">0.5451468330533219</span></span>, <span style=\"color: rgb(0, 187, 0)\"><span class=\"ansi-green-fg\">0.6538233924516196</span></span>),\n",
       "    (<span style=\"color: yellow\"><span class=\"ansi-yellow-fg\">FinalVal</span></span>(<span style=\"color: yellow\"><span class=\"ansi-yellow-fg\">Elem</span></span>(<span style=\"color: rgb(0, 187, 0)\"><span class=\"ansi-green-fg\">f</span></span>, Terms)), <span style=\"color: rgb(0, 187, 0)\"><span class=\"ansi-green-fg\">0.21666666666666667</span></span>, <span style=\"color: rgb(0, 187, 0)\"><span class=\"ansi-green-fg\">0.21666666666666662</span></span>),\n",
       "    (\n",
       "      <span style=\"color: yellow\"><span class=\"ansi-yellow-fg\">FinalVal</span></span>(<span style=\"color: yellow\"><span class=\"ansi-yellow-fg\">Elem</span></span>(<span style=\"color: rgb(0, 187, 0)\"><span class=\"ansi-green-fg\">a</span></span>, <span style=\"color: yellow\"><span class=\"ansi-yellow-fg\">AtCoord</span></span>(TermsWithTyp, <span style=\"color: rgb(0, 187, 0)\"><span class=\"ansi-green-fg\">A</span></span> :: HNil))),\n",
       "      <span style=\"color: rgb(0, 187, 0)\"><span class=\"ansi-green-fg\">0.19500000000000003</span></span>,\n",
       "      <span style=\"color: rgb(0, 187, 0)\"><span class=\"ansi-green-fg\">0.195</span></span>\n",
       "    ),\n",
       "    (\n",
       "      <span style=\"color: yellow\"><span class=\"ansi-yellow-fg\">FinalVal</span></span>(<span style=\"color: yellow\"><span class=\"ansi-yellow-fg\">Elem</span></span>(<span style=\"color: rgb(0, 187, 0)\"><span class=\"ansi-green-fg\">A</span></span>, TargetTyps)),\n",
       "      <span style=\"color: rgb(0, 187, 0)\"><span class=\"ansi-green-fg\">2.2500000000000005E-5</span></span>,\n",
       "      <span style=\"color: rgb(0, 187, 0)\"><span class=\"ansi-green-fg\">2.2500000000000015E-5</span></span>\n",
       "    ),\n",
       "    (<span style=\"color: yellow\"><span class=\"ansi-yellow-fg\">FinalVal</span></span>(<span style=\"color: yellow\"><span class=\"ansi-yellow-fg\">Elem</span></span>(<span style=\"color: rgb(0, 187, 0)\"><span class=\"ansi-green-fg\">a</span></span>, Terms)), <span style=\"color: rgb(0, 187, 0)\"><span class=\"ansi-green-fg\">0.21666666666666667</span></span>, <span style=\"color: rgb(0, 187, 0)\"><span class=\"ansi-green-fg\">0.21667996186914693</span></span>),\n",
       "    (<span style=\"color: yellow\"><span class=\"ansi-yellow-fg\">FinalVal</span></span>(<span style=\"color: yellow\"><span class=\"ansi-yellow-fg\">Elem</span></span>(<span style=\"color: rgb(0, 187, 0)\"><span class=\"ansi-green-fg\">B</span></span>, TargetTyps)), <span style=\"color: rgb(0, 187, 0)\"><span class=\"ansi-green-fg\">0.22497750000000002</span></span>, <span style=\"color: rgb(0, 187, 0)\"><span class=\"ansi-green-fg\">0.22497750000000005</span></span>)\n",
       "  )\n",
       ")</span></span></span></code></pre>\n",
       "</div>"
      ],
      "text/plain": [
       "\u001b[36mshF\u001b[39m: \u001b[32mmonix\u001b[39m.\u001b[32mexecution\u001b[39m.\u001b[32mCancelableFuture\u001b[39m[\u001b[32mVector\u001b[39m[(\u001b[32mExpression\u001b[39m, \u001b[32mDouble\u001b[39m, \u001b[32mDouble\u001b[39m)]] = \u001b[32m\u001b[33mSuccess\u001b[39m(\n",
       "  \u001b[33mVector\u001b[39m(\n",
       "    (\u001b[33mInitialVal\u001b[39m(\u001b[33mElem\u001b[39m(\u001b[32mA\u001b[39m, Typs)), \u001b[32m1.0E-4\u001b[39m, \u001b[32m9.999999999999999E-5\u001b[39m),\n",
       "    (\u001b[33mFinalVal\u001b[39m(\u001b[33mElem\u001b[39m(\u001b[32mA\u001b[39m, Typs)), \u001b[32m7.500000000000001E-5\u001b[39m, \u001b[32m7.499999999999994E-5\u001b[39m),\n",
       "    (\u001b[33mFinalVal\u001b[39m(\u001b[33mElem\u001b[39m(\u001b[32mf(a)\u001b[39m, Terms)), \u001b[32m0.5451468330533219\u001b[39m, \u001b[32m0.6538233924516196\u001b[39m),\n",
       "    (\u001b[33mFinalVal\u001b[39m(\u001b[33mElem\u001b[39m(\u001b[32mf\u001b[39m, Terms)), \u001b[32m0.21666666666666667\u001b[39m, \u001b[32m0.21666666666666662\u001b[39m),\n",
       "    (\n",
       "      \u001b[33mFinalVal\u001b[39m(\u001b[33mElem\u001b[39m(\u001b[32ma\u001b[39m, \u001b[33mAtCoord\u001b[39m(TermsWithTyp, \u001b[32mA\u001b[39m :: HNil))),\n",
       "      \u001b[32m0.19500000000000003\u001b[39m,\n",
       "      \u001b[32m0.195\u001b[39m\n",
       "    ),\n",
       "    (\n",
       "      \u001b[33mFinalVal\u001b[39m(\u001b[33mElem\u001b[39m(\u001b[32mA\u001b[39m, TargetTyps)),\n",
       "      \u001b[32m2.2500000000000005E-5\u001b[39m,\n",
       "      \u001b[32m2.2500000000000015E-5\u001b[39m\n",
       "    ),\n",
       "    (\u001b[33mFinalVal\u001b[39m(\u001b[33mElem\u001b[39m(\u001b[32ma\u001b[39m, Terms)), \u001b[32m0.21666666666666667\u001b[39m, \u001b[32m0.21667996186914693\u001b[39m),\n",
       "    (\u001b[33mFinalVal\u001b[39m(\u001b[33mElem\u001b[39m(\u001b[32mB\u001b[39m, TargetTyps)), \u001b[32m0.22497750000000002\u001b[39m, \u001b[32m0.22497750000000005\u001b[39m)\n",
       "  )\n",
       ")\u001b[39m"
      ]
     },
     "metadata": {},
     "output_type": "display_data"
    }
   ],
   "source": [
    "val shF = shT.runToFuture"
   ]
  },
  {
   "cell_type": "markdown",
   "metadata": {},
   "source": [
    "We note that the entropy shift increases the final value of the probability of $f(a)$, as it should be. Next we check directly for the generator iterant, but in this case initially."
   ]
  },
  {
   "cell_type": "code",
   "execution_count": 91,
   "metadata": {},
   "outputs": [
    {
     "data": {
      "text/plain": [
       "\u001b[36mprobT\u001b[39m: \u001b[32mmonix\u001b[39m.\u001b[32meval\u001b[39m.\u001b[32mTask\u001b[39m[\u001b[32mList\u001b[39m[\u001b[32mDouble\u001b[39m]] = \u001b[33mFlatMap\u001b[39m(\n",
       "  \u001b[33mAsync\u001b[39m(<function2>, false, true, true),\n",
       "  ammonite.$sess.cmd90$Helper$$Lambda$4081/1982913167@232b117f\n",
       ")"
      ]
     },
     "execution_count": 91,
     "metadata": {},
     "output_type": "execute_result"
    }
   ],
   "source": [
    "val probT = for {\n",
    "    ev <- lp14.expressionEval\n",
    "    prob <- ev.generatorIterant(0, 1, 0.000001, ev.finalDist).map(_(f(a))).take(20).toListL\n",
    "} yield prob"
   ]
  },
  {
   "cell_type": "code",
   "execution_count": 92,
   "metadata": {},
   "outputs": [
    {
     "data": {
      "text/html": [
       "<div class=\"jp-RenderedText\">\n",
       "<pre><code><span style=\"color: rgb(0, 187, 187)\"><span class=\"ansi-cyan-fg\">probF</span></span>: <span style=\"color: rgb(0, 187, 0)\"><span class=\"ansi-green-fg\">monix</span></span>.<span style=\"color: rgb(0, 187, 0)\"><span class=\"ansi-green-fg\">execution</span></span>.<span style=\"color: rgb(0, 187, 0)\"><span class=\"ansi-green-fg\">CancelableFuture</span></span>[<span style=\"color: rgb(0, 187, 0)\"><span class=\"ansi-green-fg\">List</span></span>[<span style=\"color: rgb(0, 187, 0)\"><span class=\"ansi-green-fg\">Double</span></span>]] = <span style=\"color: rgb(0, 187, 0)\"><span class=\"ansi-green-fg\"><style>@keyframes fadein { from { opacity: 0; } to { opacity: 1; } }</style><span style=\"animation: fadein 2s;\"><span style=\"color: yellow\"><span class=\"ansi-yellow-fg\">Success</span></span>(\n",
       "  <span style=\"color: yellow\"><span class=\"ansi-yellow-fg\">List</span></span>(\n",
       "    <span style=\"color: rgb(0, 187, 0)\"><span class=\"ansi-green-fg\">0.34181842078269037</span></span>,\n",
       "    <span style=\"color: rgb(0, 187, 0)\"><span class=\"ansi-green-fg\">0.3418134918158566</span></span>,\n",
       "    <span style=\"color: rgb(0, 187, 0)\"><span class=\"ansi-green-fg\">0.341808543904923</span></span>,\n",
       "    <span style=\"color: rgb(0, 187, 0)\"><span class=\"ansi-green-fg\">0.3418035960540994</span></span>,\n",
       "    <span style=\"color: rgb(0, 187, 0)\"><span class=\"ansi-green-fg\">0.341798648253904</span></span>,\n",
       "    <span style=\"color: rgb(0, 187, 0)\"><span class=\"ansi-green-fg\">0.3417937005043447</span></span>,\n",
       "    <span style=\"color: rgb(0, 187, 0)\"><span class=\"ansi-green-fg\">0.3417887528054228</span></span>,\n",
       "    <span style=\"color: rgb(0, 187, 0)\"><span class=\"ansi-green-fg\">0.3417838051571398</span></span>,\n",
       "    <span style=\"color: rgb(0, 187, 0)\"><span class=\"ansi-green-fg\">0.34177885755949705</span></span>,\n",
       "    <span style=\"color: rgb(0, 187, 0)\"><span class=\"ansi-green-fg\">0.341773910012496</span></span>,\n",
       "    <span style=\"color: rgb(0, 187, 0)\"><span class=\"ansi-green-fg\">0.3417689625161379</span></span>,\n",
       "    <span style=\"color: rgb(0, 187, 0)\"><span class=\"ansi-green-fg\">0.34176401507042437</span></span>,\n",
       "    <span style=\"color: rgb(0, 187, 0)\"><span class=\"ansi-green-fg\">0.3417590676753567</span></span>,\n",
       "    <span style=\"color: rgb(0, 187, 0)\"><span class=\"ansi-green-fg\">0.3417541203309363</span></span>,\n",
       "    <span style=\"color: rgb(0, 187, 0)\"><span class=\"ansi-green-fg\">0.34174917303716446</span></span>,\n",
       "    <span style=\"color: rgb(0, 187, 0)\"><span class=\"ansi-green-fg\">0.34174422579404273</span></span>,\n",
       "    <span style=\"color: rgb(0, 187, 0)\"><span class=\"ansi-green-fg\">0.3417392786015725</span></span>,\n",
       "    <span style=\"color: rgb(0, 187, 0)\"><span class=\"ansi-green-fg\">0.3417343314597551</span></span>,\n",
       "    <span style=\"color: rgb(0, 187, 0)\"><span class=\"ansi-green-fg\">0.341729384368592</span></span>,\n",
       "    <span style=\"color: rgb(0, 187, 0)\"><span class=\"ansi-green-fg\">0.3417244373280846</span></span>\n",
       "  )\n",
       ")</span></span></span></code></pre>\n",
       "</div>"
      ],
      "text/plain": [
       "\u001b[36mprobF\u001b[39m: \u001b[32mmonix\u001b[39m.\u001b[32mexecution\u001b[39m.\u001b[32mCancelableFuture\u001b[39m[\u001b[32mList\u001b[39m[\u001b[32mDouble\u001b[39m]] = \u001b[32m\u001b[33mSuccess\u001b[39m(\n",
       "  \u001b[33mList\u001b[39m(\n",
       "    \u001b[32m0.34181842078269037\u001b[39m,\n",
       "    \u001b[32m0.3418134918158566\u001b[39m,\n",
       "    \u001b[32m0.341808543904923\u001b[39m,\n",
       "    \u001b[32m0.3418035960540994\u001b[39m,\n",
       "    \u001b[32m0.341798648253904\u001b[39m,\n",
       "    \u001b[32m0.3417937005043447\u001b[39m,\n",
       "    \u001b[32m0.3417887528054228\u001b[39m,\n",
       "    \u001b[32m0.3417838051571398\u001b[39m,\n",
       "    \u001b[32m0.34177885755949705\u001b[39m,\n",
       "    \u001b[32m0.341773910012496\u001b[39m,\n",
       "    \u001b[32m0.3417689625161379\u001b[39m,\n",
       "    \u001b[32m0.34176401507042437\u001b[39m,\n",
       "    \u001b[32m0.3417590676753567\u001b[39m,\n",
       "    \u001b[32m0.3417541203309363\u001b[39m,\n",
       "    \u001b[32m0.34174917303716446\u001b[39m,\n",
       "    \u001b[32m0.34174422579404273\u001b[39m,\n",
       "    \u001b[32m0.3417392786015725\u001b[39m,\n",
       "    \u001b[32m0.3417343314597551\u001b[39m,\n",
       "    \u001b[32m0.341729384368592\u001b[39m,\n",
       "    \u001b[32m0.3417244373280846\u001b[39m\n",
       "  )\n",
       ")\u001b[39m"
      ]
     },
     "metadata": {},
     "output_type": "display_data"
    }
   ],
   "source": [
    "val probF = probT.runToFuture "
   ]
  },
  {
   "cell_type": "code",
   "execution_count": 93,
   "metadata": {},
   "outputs": [
    {
     "data": {
      "text/plain": [
       "\u001b[36mpshT\u001b[39m: \u001b[32mmonix\u001b[39m.\u001b[32meval\u001b[39m.\u001b[32mTask\u001b[39m[\u001b[32mVector\u001b[39m[(\u001b[32mExpression\u001b[39m, \u001b[32mDouble\u001b[39m, \u001b[32mDouble\u001b[39m)]] = \u001b[33mFlatMap\u001b[39m(\n",
       "  \u001b[33mMap\u001b[39m(\n",
       "    \u001b[33mAsync\u001b[39m(<function2>, false, true, true),\n",
       "    ammonite.$sess.cmd92$Helper$$Lambda$4105/831437506@5b27c107,\n",
       "    \u001b[32m0\u001b[39m\n",
       "  ),\n",
       "  ammonite.$sess.cmd92$Helper$$Lambda$4106/255065230@1b95d47e\n",
       ")"
      ]
     },
     "execution_count": 93,
     "metadata": {},
     "output_type": "execute_result"
    }
   ],
   "source": [
    "val pshT = for {\n",
    "    ev <- lp14.expressionEval\n",
    "    q = ev.finalDist\n",
    "    vs = ev.vars\n",
    "    der <- ev.WithP(q).entropyProjectionTask(0, 1)\n",
    "    gs = ev.gradShift(q, der, 1).toVector.collect{case (k, v) if q(k) != v   => (k, q(k), v)}\n",
    "} yield gs"
   ]
  },
  {
   "cell_type": "code",
   "execution_count": 94,
   "metadata": {},
   "outputs": [
    {
     "data": {
      "text/html": [
       "<div class=\"jp-RenderedText\">\n",
       "<pre><code><span style=\"color: rgb(0, 187, 187)\"><span class=\"ansi-cyan-fg\">pshF</span></span>: <span style=\"color: rgb(0, 187, 0)\"><span class=\"ansi-green-fg\">monix</span></span>.<span style=\"color: rgb(0, 187, 0)\"><span class=\"ansi-green-fg\">execution</span></span>.<span style=\"color: rgb(0, 187, 0)\"><span class=\"ansi-green-fg\">CancelableFuture</span></span>[<span style=\"color: rgb(0, 187, 0)\"><span class=\"ansi-green-fg\">Vector</span></span>[(<span style=\"color: rgb(0, 187, 0)\"><span class=\"ansi-green-fg\">Expression</span></span>, <span style=\"color: rgb(0, 187, 0)\"><span class=\"ansi-green-fg\">Double</span></span>, <span style=\"color: rgb(0, 187, 0)\"><span class=\"ansi-green-fg\">Double</span></span>)]] = <span style=\"color: rgb(0, 187, 0)\"><span class=\"ansi-green-fg\"><style>@keyframes fadein { from { opacity: 0; } to { opacity: 1; } }</style><span style=\"animation: fadein 2s;\"><span style=\"color: yellow\"><span class=\"ansi-yellow-fg\">Success</span></span>(\n",
       "  <span style=\"color: yellow\"><span class=\"ansi-yellow-fg\">Vector</span></span>(\n",
       "    (<span style=\"color: yellow\"><span class=\"ansi-yellow-fg\">InitialVal</span></span>(<span style=\"color: yellow\"><span class=\"ansi-yellow-fg\">Elem</span></span>(<span style=\"color: rgb(0, 187, 0)\"><span class=\"ansi-green-fg\">A</span></span>, Typs)), <span style=\"color: rgb(0, 187, 0)\"><span class=\"ansi-green-fg\">1.0E-4</span></span>, <span style=\"color: rgb(0, 187, 0)\"><span class=\"ansi-green-fg\">9.999999999999999E-5</span></span>),\n",
       "    (<span style=\"color: yellow\"><span class=\"ansi-yellow-fg\">FinalVal</span></span>(<span style=\"color: yellow\"><span class=\"ansi-yellow-fg\">Elem</span></span>(<span style=\"color: rgb(0, 187, 0)\"><span class=\"ansi-green-fg\">A</span></span>, Typs)), <span style=\"color: rgb(0, 187, 0)\"><span class=\"ansi-green-fg\">7.500000000000001E-5</span></span>, <span style=\"color: rgb(0, 187, 0)\"><span class=\"ansi-green-fg\">7.499999999999994E-5</span></span>),\n",
       "    (<span style=\"color: yellow\"><span class=\"ansi-yellow-fg\">InitialVal</span></span>(<span style=\"color: yellow\"><span class=\"ansi-yellow-fg\">Elem</span></span>(<span style=\"color: rgb(0, 187, 0)\"><span class=\"ansi-green-fg\">B</span></span>, Typs)), <span style=\"color: rgb(0, 187, 0)\"><span class=\"ansi-green-fg\">0.9999</span></span>, <span style=\"color: rgb(0, 187, 0)\"><span class=\"ansi-green-fg\">0.9999000001600683</span></span>),\n",
       "    (<span style=\"color: yellow\"><span class=\"ansi-yellow-fg\">FinalVal</span></span>(<span style=\"color: yellow\"><span class=\"ansi-yellow-fg\">Elem</span></span>(<span style=\"color: rgb(0, 187, 0)\"><span class=\"ansi-green-fg\">B</span></span>, Typs)), <span style=\"color: rgb(0, 187, 0)\"><span class=\"ansi-green-fg\">0.749925</span></span>, <span style=\"color: rgb(0, 187, 0)\"><span class=\"ansi-green-fg\">0.7499250001200513</span></span>),\n",
       "    (\n",
       "      <span style=\"color: yellow\"><span class=\"ansi-yellow-fg\">FinalVal</span></span>(<span style=\"color: yellow\"><span class=\"ansi-yellow-fg\">Event</span></span>(Terms, <span style=\"color: yellow\"><span class=\"ansi-yellow-fg\">Filter</span></span>(<span style=\"color: yellow\"><span class=\"ansi-yellow-fg\">WithTyp</span></span>(<span style=\"color: rgb(0, 187, 0)\"><span class=\"ansi-green-fg\">B</span></span>)))),\n",
       "      <span style=\"color: rgb(0, 187, 0)\"><span class=\"ansi-green-fg\">0.8451889941533142</span></span>,\n",
       "      <span style=\"color: rgb(0, 187, 0)\"><span class=\"ansi-green-fg\">0.8572362199059654</span></span>\n",
       "    ),\n",
       "    (<span style=\"color: yellow\"><span class=\"ansi-yellow-fg\">InitialVal</span></span>(<span style=\"color: yellow\"><span class=\"ansi-yellow-fg\">Elem</span></span>(<span style=\"color: rgb(0, 187, 0)\"><span class=\"ansi-green-fg\">f(a)</span></span>, Terms)), <span style=\"color: rgb(0, 187, 0)\"><span class=\"ansi-green-fg\">0.3333333333333333</span></span>, <span style=\"color: rgb(0, 187, 0)\"><span class=\"ansi-green-fg\">0.3515491903542607</span></span>),\n",
       "    (<span style=\"color: yellow\"><span class=\"ansi-yellow-fg\">FinalVal</span></span>(<span style=\"color: yellow\"><span class=\"ansi-yellow-fg\">Elem</span></span>(<span style=\"color: rgb(0, 187, 0)\"><span class=\"ansi-green-fg\">f(a)</span></span>, Terms)), <span style=\"color: rgb(0, 187, 0)\"><span class=\"ansi-green-fg\">0.5451468330533219</span></span>, <span style=\"color: rgb(0, 187, 0)\"><span class=\"ansi-green-fg\">0.5636317002920135</span></span>),\n",
       "    (<span style=\"color: yellow\"><span class=\"ansi-yellow-fg\">FinalVal</span></span>(<span style=\"color: yellow\"><span class=\"ansi-yellow-fg\">Elem</span></span>(<span style=\"color: rgb(0, 187, 0)\"><span class=\"ansi-green-fg\">f</span></span>, Terms)), <span style=\"color: rgb(0, 187, 0)\"><span class=\"ansi-green-fg\">0.21666666666666667</span></span>, <span style=\"color: rgb(0, 187, 0)\"><span class=\"ansi-green-fg\">0.21666666666666662</span></span>),\n",
       "    (\n",
       "      <span style=\"color: yellow\"><span class=\"ansi-yellow-fg\">FinalVal</span></span>(<span style=\"color: yellow\"><span class=\"ansi-yellow-fg\">Elem</span></span>(<span style=\"color: rgb(0, 187, 0)\"><span class=\"ansi-green-fg\">a</span></span>, <span style=\"color: yellow\"><span class=\"ansi-yellow-fg\">AtCoord</span></span>(TermsWithTyp, <span style=\"color: rgb(0, 187, 0)\"><span class=\"ansi-green-fg\">A</span></span> :: HNil))),\n",
       "      <span style=\"color: rgb(0, 187, 0)\"><span class=\"ansi-green-fg\">0.19500000000000003</span></span>,\n",
       "      <span style=\"color: rgb(0, 187, 0)\"><span class=\"ansi-green-fg\">0.195</span></span>\n",
       "    ),\n",
       "    (\n",
       "      <span style=\"color: yellow\"><span class=\"ansi-yellow-fg\">FinalVal</span></span>(<span style=\"color: yellow\"><span class=\"ansi-yellow-fg\">Elem</span></span>(<span style=\"color: rgb(0, 187, 0)\"><span class=\"ansi-green-fg\">A</span></span>, TargetTyps)),\n",
       "      <span style=\"color: rgb(0, 187, 0)\"><span class=\"ansi-green-fg\">2.2500000000000005E-5</span></span>,\n",
       "      <span style=\"color: rgb(0, 187, 0)\"><span class=\"ansi-green-fg\">2.2500000000000015E-5</span></span>\n",
       "    ),\n",
       "    (<span style=\"color: yellow\"><span class=\"ansi-yellow-fg\">InitialVal</span></span>(<span style=\"color: yellow\"><span class=\"ansi-yellow-fg\">Elem</span></span>(<span style=\"color: rgb(0, 187, 0)\"><span class=\"ansi-green-fg\">a</span></span>, Terms)), <span style=\"color: rgb(0, 187, 0)\"><span class=\"ansi-green-fg\">0.3333333333333333</span></span>, <span style=\"color: rgb(0, 187, 0)\"><span class=\"ansi-green-fg\">0.34358513334882024</span></span>),\n",
       "    (<span style=\"color: yellow\"><span class=\"ansi-yellow-fg\">FinalVal</span></span>(<span style=\"color: yellow\"><span class=\"ansi-yellow-fg\">Elem</span></span>(<span style=\"color: rgb(0, 187, 0)\"><span class=\"ansi-green-fg\">a</span></span>, Terms)), <span style=\"color: rgb(0, 187, 0)\"><span class=\"ansi-green-fg\">0.21666666666666667</span></span>, <span style=\"color: rgb(0, 187, 0)\"><span class=\"ansi-green-fg\">0.22335363387809662</span></span>),\n",
       "    (\n",
       "      <span style=\"color: yellow\"><span class=\"ansi-yellow-fg\">FinalVal</span></span>(<span style=\"color: yellow\"><span class=\"ansi-yellow-fg\">Elem</span></span>(<span style=\"color: rgb(0, 187, 0)\"><span class=\"ansi-green-fg\">f(a)</span></span>, <span style=\"color: yellow\"><span class=\"ansi-yellow-fg\">AtCoord</span></span>(TermsWithTyp, <span style=\"color: rgb(0, 187, 0)\"><span class=\"ansi-green-fg\">B</span></span> :: HNil))),\n",
       "      <span style=\"color: rgb(0, 187, 0)\"><span class=\"ansi-green-fg\">0.8468645432598687</span></span>,\n",
       "      <span style=\"color: rgb(0, 187, 0)\"><span class=\"ansi-green-fg\">0.8589063147463998</span></span>\n",
       "    ),\n",
       "    (<span style=\"color: yellow\"><span class=\"ansi-yellow-fg\">FinalVal</span></span>(<span style=\"color: yellow\"><span class=\"ansi-yellow-fg\">Elem</span></span>(<span style=\"color: rgb(0, 187, 0)\"><span class=\"ansi-green-fg\">B</span></span>, TargetTyps)), <span style=\"color: rgb(0, 187, 0)\"><span class=\"ansi-green-fg\">0.22497750000000002</span></span>, <span style=\"color: rgb(0, 187, 0)\"><span class=\"ansi-green-fg\">0.22497750003601544</span></span>)\n",
       "  )\n",
       ")</span></span></span></code></pre>\n",
       "</div>"
      ],
      "text/plain": [
       "\u001b[36mpshF\u001b[39m: \u001b[32mmonix\u001b[39m.\u001b[32mexecution\u001b[39m.\u001b[32mCancelableFuture\u001b[39m[\u001b[32mVector\u001b[39m[(\u001b[32mExpression\u001b[39m, \u001b[32mDouble\u001b[39m, \u001b[32mDouble\u001b[39m)]] = \u001b[32m\u001b[33mSuccess\u001b[39m(\n",
       "  \u001b[33mVector\u001b[39m(\n",
       "    (\u001b[33mInitialVal\u001b[39m(\u001b[33mElem\u001b[39m(\u001b[32mA\u001b[39m, Typs)), \u001b[32m1.0E-4\u001b[39m, \u001b[32m9.999999999999999E-5\u001b[39m),\n",
       "    (\u001b[33mFinalVal\u001b[39m(\u001b[33mElem\u001b[39m(\u001b[32mA\u001b[39m, Typs)), \u001b[32m7.500000000000001E-5\u001b[39m, \u001b[32m7.499999999999994E-5\u001b[39m),\n",
       "    (\u001b[33mInitialVal\u001b[39m(\u001b[33mElem\u001b[39m(\u001b[32mB\u001b[39m, Typs)), \u001b[32m0.9999\u001b[39m, \u001b[32m0.9999000001600683\u001b[39m),\n",
       "    (\u001b[33mFinalVal\u001b[39m(\u001b[33mElem\u001b[39m(\u001b[32mB\u001b[39m, Typs)), \u001b[32m0.749925\u001b[39m, \u001b[32m0.7499250001200513\u001b[39m),\n",
       "    (\n",
       "      \u001b[33mFinalVal\u001b[39m(\u001b[33mEvent\u001b[39m(Terms, \u001b[33mFilter\u001b[39m(\u001b[33mWithTyp\u001b[39m(\u001b[32mB\u001b[39m)))),\n",
       "      \u001b[32m0.8451889941533142\u001b[39m,\n",
       "      \u001b[32m0.8572362199059654\u001b[39m\n",
       "    ),\n",
       "    (\u001b[33mInitialVal\u001b[39m(\u001b[33mElem\u001b[39m(\u001b[32mf(a)\u001b[39m, Terms)), \u001b[32m0.3333333333333333\u001b[39m, \u001b[32m0.3515491903542607\u001b[39m),\n",
       "    (\u001b[33mFinalVal\u001b[39m(\u001b[33mElem\u001b[39m(\u001b[32mf(a)\u001b[39m, Terms)), \u001b[32m0.5451468330533219\u001b[39m, \u001b[32m0.5636317002920135\u001b[39m),\n",
       "    (\u001b[33mFinalVal\u001b[39m(\u001b[33mElem\u001b[39m(\u001b[32mf\u001b[39m, Terms)), \u001b[32m0.21666666666666667\u001b[39m, \u001b[32m0.21666666666666662\u001b[39m),\n",
       "    (\n",
       "      \u001b[33mFinalVal\u001b[39m(\u001b[33mElem\u001b[39m(\u001b[32ma\u001b[39m, \u001b[33mAtCoord\u001b[39m(TermsWithTyp, \u001b[32mA\u001b[39m :: HNil))),\n",
       "      \u001b[32m0.19500000000000003\u001b[39m,\n",
       "      \u001b[32m0.195\u001b[39m\n",
       "    ),\n",
       "    (\n",
       "      \u001b[33mFinalVal\u001b[39m(\u001b[33mElem\u001b[39m(\u001b[32mA\u001b[39m, TargetTyps)),\n",
       "      \u001b[32m2.2500000000000005E-5\u001b[39m,\n",
       "      \u001b[32m2.2500000000000015E-5\u001b[39m\n",
       "    ),\n",
       "    (\u001b[33mInitialVal\u001b[39m(\u001b[33mElem\u001b[39m(\u001b[32ma\u001b[39m, Terms)), \u001b[32m0.3333333333333333\u001b[39m, \u001b[32m0.34358513334882024\u001b[39m),\n",
       "    (\u001b[33mFinalVal\u001b[39m(\u001b[33mElem\u001b[39m(\u001b[32ma\u001b[39m, Terms)), \u001b[32m0.21666666666666667\u001b[39m, \u001b[32m0.22335363387809662\u001b[39m),\n",
       "    (\n",
       "      \u001b[33mFinalVal\u001b[39m(\u001b[33mElem\u001b[39m(\u001b[32mf(a)\u001b[39m, \u001b[33mAtCoord\u001b[39m(TermsWithTyp, \u001b[32mB\u001b[39m :: HNil))),\n",
       "      \u001b[32m0.8468645432598687\u001b[39m,\n",
       "      \u001b[32m0.8589063147463998\u001b[39m\n",
       "    ),\n",
       "    (\u001b[33mFinalVal\u001b[39m(\u001b[33mElem\u001b[39m(\u001b[32mB\u001b[39m, TargetTyps)), \u001b[32m0.22497750000000002\u001b[39m, \u001b[32m0.22497750003601544\u001b[39m)\n",
       "  )\n",
       ")\u001b[39m"
      ]
     },
     "metadata": {},
     "output_type": "display_data"
    }
   ],
   "source": [
    "val pshF = pshT.runToFuture"
   ]
  },
  {
   "cell_type": "code",
   "execution_count": 97,
   "metadata": {},
   "outputs": [
    {
     "data": {
      "text/plain": [
       "\u001b[36mprstshT\u001b[39m: \u001b[32mmonix\u001b[39m.\u001b[32meval\u001b[39m.\u001b[32mTask\u001b[39m[\u001b[32mVector\u001b[39m[(\u001b[32mInitialVal\u001b[39m[\u001b[32mAny\u001b[39m], \u001b[32mDouble\u001b[39m, \u001b[32mDouble\u001b[39m)]] = \u001b[33mFlatMap\u001b[39m(\n",
       "  \u001b[33mMap\u001b[39m(\n",
       "    \u001b[33mAsync\u001b[39m(<function2>, false, true, true),\n",
       "    ammonite.$sess.cmd96$Helper$$Lambda$4154/1771170652@20608417,\n",
       "    \u001b[32m0\u001b[39m\n",
       "  ),\n",
       "  ammonite.$sess.cmd96$Helper$$Lambda$4155/1792142115@60fcba35\n",
       ")"
      ]
     },
     "execution_count": 97,
     "metadata": {},
     "output_type": "execute_result"
    }
   ],
   "source": [
    "val prstshT = for {\n",
    "    ev <- lp14.expressionEval\n",
    "    q = ev.finalDist\n",
    "    vs = ev.vars\n",
    "    der <- ev.WithP(q).entropyProjectionTask(0, 1)\n",
    "    gs = ev.stableGradShift(q, der, 1).toVector.collect{case (k @ InitialVal(Elem(_, Terms)), v) if q(k) != v   => (k, q(k), v)}\n",
    "} yield gs"
   ]
  },
  {
   "cell_type": "code",
   "execution_count": 98,
   "metadata": {},
   "outputs": [
    {
     "data": {
      "text/html": [
       "<div class=\"jp-RenderedText\">\n",
       "<pre><code><span style=\"color: rgb(0, 187, 187)\"><span class=\"ansi-cyan-fg\">prstshF</span></span>: <span style=\"color: rgb(0, 187, 0)\"><span class=\"ansi-green-fg\">monix</span></span>.<span style=\"color: rgb(0, 187, 0)\"><span class=\"ansi-green-fg\">execution</span></span>.<span style=\"color: rgb(0, 187, 0)\"><span class=\"ansi-green-fg\">CancelableFuture</span></span>[<span style=\"color: rgb(0, 187, 0)\"><span class=\"ansi-green-fg\">Vector</span></span>[(<span style=\"color: rgb(0, 187, 0)\"><span class=\"ansi-green-fg\">InitialVal</span></span>[<span style=\"color: rgb(0, 187, 0)\"><span class=\"ansi-green-fg\">Any</span></span>], <span style=\"color: rgb(0, 187, 0)\"><span class=\"ansi-green-fg\">Double</span></span>, <span style=\"color: rgb(0, 187, 0)\"><span class=\"ansi-green-fg\">Double</span></span>)]] = <span style=\"color: rgb(0, 187, 0)\"><span class=\"ansi-green-fg\"><span style=\"color: yellow\"><span class=\"ansi-yellow-fg\">Success</span></span>(\n",
       "  <span style=\"color: yellow\"><span class=\"ansi-yellow-fg\">Vector</span></span>(\n",
       "    (<span style=\"color: yellow\"><span class=\"ansi-yellow-fg\">InitialVal</span></span>(<span style=\"color: yellow\"><span class=\"ansi-yellow-fg\">Elem</span></span>(<span style=\"color: rgb(0, 187, 0)\"><span class=\"ansi-green-fg\">f(a)</span></span>, Terms)), <span style=\"color: rgb(0, 187, 0)\"><span class=\"ansi-green-fg\">0.3333333333333333</span></span>, <span style=\"color: rgb(0, 187, 0)\"><span class=\"ansi-green-fg\">0.34181842078269037</span></span>),\n",
       "    (<span style=\"color: yellow\"><span class=\"ansi-yellow-fg\">InitialVal</span></span>(<span style=\"color: yellow\"><span class=\"ansi-yellow-fg\">Elem</span></span>(<span style=\"color: rgb(0, 187, 0)\"><span class=\"ansi-green-fg\">f</span></span>, Terms)), <span style=\"color: rgb(0, 187, 0)\"><span class=\"ansi-green-fg\">0.3333333333333333</span></span>, <span style=\"color: rgb(0, 187, 0)\"><span class=\"ansi-green-fg\">0.3241067728798118</span></span>),\n",
       "    (<span style=\"color: yellow\"><span class=\"ansi-yellow-fg\">InitialVal</span></span>(<span style=\"color: yellow\"><span class=\"ansi-yellow-fg\">Elem</span></span>(<span style=\"color: rgb(0, 187, 0)\"><span class=\"ansi-green-fg\">a</span></span>, Terms)), <span style=\"color: rgb(0, 187, 0)\"><span class=\"ansi-green-fg\">0.3333333333333333</span></span>, <span style=\"color: rgb(0, 187, 0)\"><span class=\"ansi-green-fg\">0.33407480633749786</span></span>)\n",
       "  )\n",
       ")</span></span></code></pre>\n",
       "</div>"
      ],
      "text/plain": [
       "\u001b[36mprstshF\u001b[39m: \u001b[32mmonix\u001b[39m.\u001b[32mexecution\u001b[39m.\u001b[32mCancelableFuture\u001b[39m[\u001b[32mVector\u001b[39m[(\u001b[32mInitialVal\u001b[39m[\u001b[32mAny\u001b[39m], \u001b[32mDouble\u001b[39m, \u001b[32mDouble\u001b[39m)]] = \u001b[32m\u001b[33mSuccess\u001b[39m(\n",
       "  \u001b[33mVector\u001b[39m(\n",
       "    (\u001b[33mInitialVal\u001b[39m(\u001b[33mElem\u001b[39m(\u001b[32mf(a)\u001b[39m, Terms)), \u001b[32m0.3333333333333333\u001b[39m, \u001b[32m0.34181842078269037\u001b[39m),\n",
       "    (\u001b[33mInitialVal\u001b[39m(\u001b[33mElem\u001b[39m(\u001b[32mf\u001b[39m, Terms)), \u001b[32m0.3333333333333333\u001b[39m, \u001b[32m0.3241067728798118\u001b[39m),\n",
       "    (\u001b[33mInitialVal\u001b[39m(\u001b[33mElem\u001b[39m(\u001b[32ma\u001b[39m, Terms)), \u001b[32m0.3333333333333333\u001b[39m, \u001b[32m0.33407480633749786\u001b[39m)\n",
       "  )\n",
       ")\u001b[39m"
      ]
     },
     "metadata": {},
     "output_type": "display_data"
    }
   ],
   "source": [
    "val prstshF = prstshT.runToFuture"
   ]
  },
  {
   "cell_type": "code",
   "execution_count": 99,
   "metadata": {},
   "outputs": [
    {
     "data": {
      "text/plain": [
       "\u001b[32mimport \u001b[39m\u001b[36mExpressionEval._\u001b[39m"
      ]
     },
     "execution_count": 99,
     "metadata": {},
     "output_type": "execute_result"
    }
   ],
   "source": [
    "import ExpressionEval._"
   ]
  },
  {
   "cell_type": "code",
   "execution_count": 100,
   "metadata": {},
   "outputs": [
    {
     "data": {
      "text/plain": [
       "\u001b[36mev14\u001b[39m: \u001b[32mmonix\u001b[39m.\u001b[32meval\u001b[39m.\u001b[32mTask\u001b[39m[\u001b[32mExpressionEval\u001b[39m] = \u001b[33mAsync\u001b[39m(<function2>, false, true, true)"
      ]
     },
     "execution_count": 100,
     "metadata": {},
     "output_type": "execute_result"
    }
   ],
   "source": [
    "val ev14 = lp14.expressionEval"
   ]
  },
  {
   "cell_type": "code",
   "execution_count": 101,
   "metadata": {},
   "outputs": [
    {
     "data": {
      "text/html": [
       "<div class=\"jp-RenderedText\">\n",
       "<pre><code><span style=\"color: rgb(0, 187, 187)\"><span class=\"ansi-cyan-fg\">gT</span></span>: <span style=\"color: rgb(0, 187, 0)\"><span class=\"ansi-green-fg\">monix</span></span>.<span style=\"color: rgb(0, 187, 0)\"><span class=\"ansi-green-fg\">eval</span></span>.<span style=\"color: rgb(0, 187, 0)\"><span class=\"ansi-green-fg\">Task</span></span>[<span style=\"color: rgb(0, 187, 0)\"><span class=\"ansi-green-fg\">FiniteDistribution</span></span>[<span style=\"color: rgb(0, 187, 0)\"><span class=\"ansi-green-fg\">Term</span></span>]] = <span style=\"color: yellow\"><span class=\"ansi-yellow-fg\">Map</span></span>(\n",
       "  <span style=\"color: yellow\"><span class=\"ansi-yellow-fg\">Async</span></span>(&lt;function2&gt;, false, true, true),\n",
       "  ammonite.$sess.cmd100$Helper$$Lambda$4176/1278192073@57f79b6a,\n",
       "  <span style=\"color: rgb(0, 187, 0)\"><span class=\"ansi-green-fg\">0</span></span>\n",
       ")\n",
       "<span style=\"color: rgb(0, 187, 187)\"><span class=\"ansi-cyan-fg\">gF</span></span>: <span style=\"color: rgb(0, 187, 0)\"><span class=\"ansi-green-fg\">monix</span></span>.<span style=\"color: rgb(0, 187, 0)\"><span class=\"ansi-green-fg\">execution</span></span>.<span style=\"color: rgb(0, 187, 0)\"><span class=\"ansi-green-fg\">CancelableFuture</span></span>[<span style=\"color: rgb(0, 187, 0)\"><span class=\"ansi-green-fg\">FiniteDistribution</span></span>[<span style=\"color: rgb(0, 187, 0)\"><span class=\"ansi-green-fg\">Term</span></span>]] = <span style=\"color: rgb(0, 187, 0)\"><span class=\"ansi-green-fg\"><span style=\"color: yellow\"><span class=\"ansi-yellow-fg\">Success</span></span>(\n",
       "  <span style=\"color: yellow\"><span class=\"ansi-yellow-fg\">FiniteDistribution</span></span>(\n",
       "    <span style=\"color: yellow\"><span class=\"ansi-yellow-fg\">Vector</span></span>(\n",
       "      <span style=\"color: yellow\"><span class=\"ansi-yellow-fg\">Weighted</span></span>(<span style=\"color: rgb(0, 187, 0)\"><span class=\"ansi-green-fg\">f(a)</span></span>, <span style=\"color: rgb(0, 187, 0)\"><span class=\"ansi-green-fg\">0.3333333333333333</span></span>),\n",
       "      <span style=\"color: yellow\"><span class=\"ansi-yellow-fg\">Weighted</span></span>(<span style=\"color: rgb(0, 187, 0)\"><span class=\"ansi-green-fg\">f</span></span>, <span style=\"color: rgb(0, 187, 0)\"><span class=\"ansi-green-fg\">0.3333333333333333</span></span>),\n",
       "      <span style=\"color: yellow\"><span class=\"ansi-yellow-fg\">Weighted</span></span>(<span style=\"color: rgb(0, 187, 0)\"><span class=\"ansi-green-fg\">a</span></span>, <span style=\"color: rgb(0, 187, 0)\"><span class=\"ansi-green-fg\">0.3333333333333333</span></span>)\n",
       "    )\n",
       "  )\n",
       ")</span></span></code></pre>\n",
       "</div>"
      ],
      "text/plain": [
       "\u001b[36mgT\u001b[39m: \u001b[32mmonix\u001b[39m.\u001b[32meval\u001b[39m.\u001b[32mTask\u001b[39m[\u001b[32mFiniteDistribution\u001b[39m[\u001b[32mTerm\u001b[39m]] = \u001b[33mMap\u001b[39m(\n",
       "  \u001b[33mAsync\u001b[39m(<function2>, false, true, true),\n",
       "  ammonite.$sess.cmd100$Helper$$Lambda$4176/1278192073@57f79b6a,\n",
       "  \u001b[32m0\u001b[39m\n",
       ")\n",
       "\u001b[36mgF\u001b[39m: \u001b[32mmonix\u001b[39m.\u001b[32mexecution\u001b[39m.\u001b[32mCancelableFuture\u001b[39m[\u001b[32mFiniteDistribution\u001b[39m[\u001b[32mTerm\u001b[39m]] = \u001b[32m\u001b[33mSuccess\u001b[39m(\n",
       "  \u001b[33mFiniteDistribution\u001b[39m(\n",
       "    \u001b[33mVector\u001b[39m(\n",
       "      \u001b[33mWeighted\u001b[39m(\u001b[32mf(a)\u001b[39m, \u001b[32m0.3333333333333333\u001b[39m),\n",
       "      \u001b[33mWeighted\u001b[39m(\u001b[32mf\u001b[39m, \u001b[32m0.3333333333333333\u001b[39m),\n",
       "      \u001b[33mWeighted\u001b[39m(\u001b[32ma\u001b[39m, \u001b[32m0.3333333333333333\u001b[39m)\n",
       "    )\n",
       "  )\n",
       ")\u001b[39m"
      ]
     },
     "metadata": {},
     "output_type": "display_data"
    }
   ],
   "source": [
    "val gT = ev14.map(e => generators(e.finalDist))\n",
    "val gF = gT.runToFuture"
   ]
  },
  {
   "cell_type": "code",
   "execution_count": 113,
   "metadata": {},
   "outputs": [
    {
     "data": {
      "text/plain": [
       "\u001b[36mgT\u001b[39m: \u001b[32mmonix\u001b[39m.\u001b[32meval\u001b[39m.\u001b[32mTask\u001b[39m[\u001b[32mList\u001b[39m[\u001b[32mFiniteDistribution\u001b[39m[\u001b[32mTerm\u001b[39m]]] = \u001b[33mFlatMap\u001b[39m(\n",
       "  \u001b[33mAsync\u001b[39m(<function2>, false, true, true),\n",
       "  ammonite.$sess.cmd112$Helper$$Lambda$4241/1657741802@67d07157\n",
       ")"
      ]
     },
     "execution_count": 113,
     "metadata": {},
     "output_type": "execute_result"
    }
   ],
   "source": [
    "val gT = ev14.flatMap(e => e.generatorIterant(0, 1, 0.000001, e.finalDist).take(20).toListL)"
   ]
  },
  {
   "cell_type": "code",
   "execution_count": 114,
   "metadata": {},
   "outputs": [
    {
     "data": {
      "text/html": [
       "<div class=\"jp-RenderedText\">\n",
       "<pre><code><span style=\"color: rgb(0, 187, 187)\"><span class=\"ansi-cyan-fg\">gF</span></span>: <span style=\"color: rgb(0, 187, 0)\"><span class=\"ansi-green-fg\">monix</span></span>.<span style=\"color: rgb(0, 187, 0)\"><span class=\"ansi-green-fg\">execution</span></span>.<span style=\"color: rgb(0, 187, 0)\"><span class=\"ansi-green-fg\">CancelableFuture</span></span>[<span style=\"color: rgb(0, 187, 0)\"><span class=\"ansi-green-fg\">List</span></span>[<span style=\"color: rgb(0, 187, 0)\"><span class=\"ansi-green-fg\">FiniteDistribution</span></span>[<span style=\"color: rgb(0, 187, 0)\"><span class=\"ansi-green-fg\">Term</span></span>]]] = <span style=\"color: rgb(0, 187, 0)\"><span class=\"ansi-green-fg\"><style>@keyframes fadein { from { opacity: 0; } to { opacity: 1; } }</style><span style=\"animation: fadein 2s;\"><span style=\"color: yellow\"><span class=\"ansi-yellow-fg\">Success</span></span>(\n",
       "  <span style=\"color: yellow\"><span class=\"ansi-yellow-fg\">List</span></span>(\n",
       "    <span style=\"color: yellow\"><span class=\"ansi-yellow-fg\">FiniteDistribution</span></span>(\n",
       "      <span style=\"color: yellow\"><span class=\"ansi-yellow-fg\">Vector</span></span>(\n",
       "        <span style=\"color: yellow\"><span class=\"ansi-yellow-fg\">Weighted</span></span>(<span style=\"color: rgb(0, 187, 0)\"><span class=\"ansi-green-fg\">f(a)</span></span>, <span style=\"color: rgb(0, 187, 0)\"><span class=\"ansi-green-fg\">0.34181842078269037</span></span>),\n",
       "        <span style=\"color: yellow\"><span class=\"ansi-yellow-fg\">Weighted</span></span>(<span style=\"color: rgb(0, 187, 0)\"><span class=\"ansi-green-fg\">f</span></span>, <span style=\"color: rgb(0, 187, 0)\"><span class=\"ansi-green-fg\">0.3241067728798118</span></span>),\n",
       "        <span style=\"color: yellow\"><span class=\"ansi-yellow-fg\">Weighted</span></span>(<span style=\"color: rgb(0, 187, 0)\"><span class=\"ansi-green-fg\">a</span></span>, <span style=\"color: rgb(0, 187, 0)\"><span class=\"ansi-green-fg\">0.33407480633749786</span></span>)\n",
       "      )\n",
       "    ),\n",
       "    <span style=\"color: yellow\"><span class=\"ansi-yellow-fg\">FiniteDistribution</span></span>(\n",
       "      <span style=\"color: yellow\"><span class=\"ansi-yellow-fg\">Vector</span></span>(\n",
       "        <span style=\"color: yellow\"><span class=\"ansi-yellow-fg\">Weighted</span></span>(<span style=\"color: rgb(0, 187, 0)\"><span class=\"ansi-green-fg\">f(a)</span></span>, <span style=\"color: rgb(0, 187, 0)\"><span class=\"ansi-green-fg\">0.3418134918158566</span></span>),\n",
       "        <span style=\"color: yellow\"><span class=\"ansi-yellow-fg\">Weighted</span></span>(<span style=\"color: rgb(0, 187, 0)\"><span class=\"ansi-green-fg\">f</span></span>, <span style=\"color: rgb(0, 187, 0)\"><span class=\"ansi-green-fg\">0.32410737384983895</span></span>),\n",
       "        <span style=\"color: yellow\"><span class=\"ansi-yellow-fg\">Weighted</span></span>(<span style=\"color: rgb(0, 187, 0)\"><span class=\"ansi-green-fg\">a</span></span>, <span style=\"color: rgb(0, 187, 0)\"><span class=\"ansi-green-fg\">0.3340791343343044</span></span>)\n",
       "      )\n",
       "    ),\n",
       "    <span style=\"color: yellow\"><span class=\"ansi-yellow-fg\">FiniteDistribution</span></span>(\n",
       "      <span style=\"color: yellow\"><span class=\"ansi-yellow-fg\">Vector</span></span>(\n",
       "        <span style=\"color: yellow\"><span class=\"ansi-yellow-fg\">Weighted</span></span>(<span style=\"color: rgb(0, 187, 0)\"><span class=\"ansi-green-fg\">f(a)</span></span>, <span style=\"color: rgb(0, 187, 0)\"><span class=\"ansi-green-fg\">0.341808543904923</span></span>),\n",
       "        <span style=\"color: yellow\"><span class=\"ansi-yellow-fg\">Weighted</span></span>(<span style=\"color: rgb(0, 187, 0)\"><span class=\"ansi-green-fg\">f</span></span>, <span style=\"color: rgb(0, 187, 0)\"><span class=\"ansi-green-fg\">0.3241079771296126</span></span>),\n",
       "        <span style=\"color: yellow\"><span class=\"ansi-yellow-fg\">Weighted</span></span>(<span style=\"color: rgb(0, 187, 0)\"><span class=\"ansi-green-fg\">a</span></span>, <span style=\"color: rgb(0, 187, 0)\"><span class=\"ansi-green-fg\">0.3340834789654644</span></span>)\n",
       "      )\n",
       "    ),\n",
       "    <span style=\"color: yellow\"><span class=\"ansi-yellow-fg\">FiniteDistribution</span></span>(\n",
       "      <span style=\"color: yellow\"><span class=\"ansi-yellow-fg\">Vector</span></span>(\n",
       "        <span style=\"color: yellow\"><span class=\"ansi-yellow-fg\">Weighted</span></span>(<span style=\"color: rgb(0, 187, 0)\"><span class=\"ansi-green-fg\">f(a)</span></span>, <span style=\"color: rgb(0, 187, 0)\"><span class=\"ansi-green-fg\">0.3418035960540994</span></span>),\n",
       "        <span style=\"color: yellow\"><span class=\"ansi-yellow-fg\">Weighted</span></span>(<span style=\"color: rgb(0, 187, 0)\"><span class=\"ansi-green-fg\">f</span></span>, <span style=\"color: rgb(0, 187, 0)\"><span class=\"ansi-green-fg\">0.3241085804020573</span></span>),\n",
       "        <span style=\"color: yellow\"><span class=\"ansi-yellow-fg\">Weighted</span></span>(<span style=\"color: rgb(0, 187, 0)\"><span class=\"ansi-green-fg\">a</span></span>, <span style=\"color: rgb(0, 187, 0)\"><span class=\"ansi-green-fg\">0.33408782354384337</span></span>)\n",
       "      )\n",
       "    ),\n",
       "    <span style=\"color: yellow\"><span class=\"ansi-yellow-fg\">FiniteDistribution</span></span>(\n",
       "      <span style=\"color: yellow\"><span class=\"ansi-yellow-fg\">Vector</span></span>(\n",
       "        <span style=\"color: yellow\"><span class=\"ansi-yellow-fg\">Weighted</span></span>(<span style=\"color: rgb(0, 187, 0)\"><span class=\"ansi-green-fg\">f(a)</span></span>, <span style=\"color: rgb(0, 187, 0)\"><span class=\"ansi-green-fg\">0.341798648253904</span></span>),\n",
       "        <span style=\"color: yellow\"><span class=\"ansi-yellow-fg\">Weighted</span></span>(<span style=\"color: rgb(0, 187, 0)\"><span class=\"ansi-green-fg\">f</span></span>, <span style=\"color: rgb(0, 187, 0)\"><span class=\"ansi-green-fg\">0.3241091836683291</span></span>),\n",
       "        <span style=\"color: yellow\"><span class=\"ansi-yellow-fg\">Weighted</span></span>(<span style=\"color: rgb(0, 187, 0)\"><span class=\"ansi-green-fg\">a</span></span>, <span style=\"color: rgb(0, 187, 0)\"><span class=\"ansi-green-fg\">0.33409216807776687</span></span>)\n",
       "      )\n",
       "    ),\n",
       "    <span style=\"color: yellow\"><span class=\"ansi-yellow-fg\">FiniteDistribution</span></span>(\n",
       "      <span style=\"color: yellow\"><span class=\"ansi-yellow-fg\">Vector</span></span>(\n",
       "...</span></span></span></code></pre>\n",
       "</div>"
      ],
      "text/plain": [
       "\u001b[36mgF\u001b[39m: \u001b[32mmonix\u001b[39m.\u001b[32mexecution\u001b[39m.\u001b[32mCancelableFuture\u001b[39m[\u001b[32mList\u001b[39m[\u001b[32mFiniteDistribution\u001b[39m[\u001b[32mTerm\u001b[39m]]] = \u001b[32m\u001b[33mSuccess\u001b[39m(\n",
       "  \u001b[33mList\u001b[39m(\n",
       "    \u001b[33mFiniteDistribution\u001b[39m(\n",
       "      \u001b[33mVector\u001b[39m(\n",
       "        \u001b[33mWeighted\u001b[39m(\u001b[32mf(a)\u001b[39m, \u001b[32m0.34181842078269037\u001b[39m),\n",
       "        \u001b[33mWeighted\u001b[39m(\u001b[32mf\u001b[39m, \u001b[32m0.3241067728798118\u001b[39m),\n",
       "        \u001b[33mWeighted\u001b[39m(\u001b[32ma\u001b[39m, \u001b[32m0.33407480633749786\u001b[39m)\n",
       "      )\n",
       "    ),\n",
       "    \u001b[33mFiniteDistribution\u001b[39m(\n",
       "      \u001b[33mVector\u001b[39m(\n",
       "        \u001b[33mWeighted\u001b[39m(\u001b[32mf(a)\u001b[39m, \u001b[32m0.3418134918158566\u001b[39m),\n",
       "        \u001b[33mWeighted\u001b[39m(\u001b[32mf\u001b[39m, \u001b[32m0.32410737384983895\u001b[39m),\n",
       "        \u001b[33mWeighted\u001b[39m(\u001b[32ma\u001b[39m, \u001b[32m0.3340791343343044\u001b[39m)\n",
       "      )\n",
       "    ),\n",
       "    \u001b[33mFiniteDistribution\u001b[39m(\n",
       "      \u001b[33mVector\u001b[39m(\n",
       "        \u001b[33mWeighted\u001b[39m(\u001b[32mf(a)\u001b[39m, \u001b[32m0.341808543904923\u001b[39m),\n",
       "        \u001b[33mWeighted\u001b[39m(\u001b[32mf\u001b[39m, \u001b[32m0.3241079771296126\u001b[39m),\n",
       "        \u001b[33mWeighted\u001b[39m(\u001b[32ma\u001b[39m, \u001b[32m0.3340834789654644\u001b[39m)\n",
       "      )\n",
       "    ),\n",
       "    \u001b[33mFiniteDistribution\u001b[39m(\n",
       "      \u001b[33mVector\u001b[39m(\n",
       "        \u001b[33mWeighted\u001b[39m(\u001b[32mf(a)\u001b[39m, \u001b[32m0.3418035960540994\u001b[39m),\n",
       "        \u001b[33mWeighted\u001b[39m(\u001b[32mf\u001b[39m, \u001b[32m0.3241085804020573\u001b[39m),\n",
       "        \u001b[33mWeighted\u001b[39m(\u001b[32ma\u001b[39m, \u001b[32m0.33408782354384337\u001b[39m)\n",
       "      )\n",
       "    ),\n",
       "    \u001b[33mFiniteDistribution\u001b[39m(\n",
       "      \u001b[33mVector\u001b[39m(\n",
       "        \u001b[33mWeighted\u001b[39m(\u001b[32mf(a)\u001b[39m, \u001b[32m0.341798648253904\u001b[39m),\n",
       "        \u001b[33mWeighted\u001b[39m(\u001b[32mf\u001b[39m, \u001b[32m0.3241091836683291\u001b[39m),\n",
       "        \u001b[33mWeighted\u001b[39m(\u001b[32ma\u001b[39m, \u001b[32m0.33409216807776687\u001b[39m)\n",
       "      )\n",
       "    ),\n",
       "    \u001b[33mFiniteDistribution\u001b[39m(\n",
       "      \u001b[33mVector\u001b[39m(\n",
       "...\u001b[39m"
      ]
     },
     "metadata": {},
     "output_type": "display_data"
    }
   ],
   "source": [
    "val gF = gT.runToFuture"
   ]
  },
  {
   "cell_type": "markdown",
   "metadata": {},
   "source": [
    "## Debug this:\n",
    "\n",
    "This is not expected behaviour: one would expect the weight of $f(a)$ to rise. Instead it rises for one step and then starts sinking. Should start with a clean notebook and track this down."
   ]
  },
  {
   "cell_type": "code",
   "execution_count": 122,
   "metadata": {},
   "outputs": [
    {
     "data": {
      "text/plain": [
       "\u001b[36mlp0\u001b[39m: \u001b[32mLocalProver\u001b[39m = \u001b[33mLocalProver\u001b[39m(\n",
       "  \u001b[33mTermState\u001b[39m(\n",
       "    \u001b[33mFiniteDistribution\u001b[39m(\n",
       "      \u001b[33mVector\u001b[39m(\n",
       "        \u001b[33mWeighted\u001b[39m(\u001b[32ma\u001b[39m, \u001b[32m0.3333333333333333\u001b[39m),\n",
       "        \u001b[33mWeighted\u001b[39m(\u001b[32mf(a)\u001b[39m, \u001b[32m0.3333333333333333\u001b[39m),\n",
       "        \u001b[33mWeighted\u001b[39m(\u001b[32mf\u001b[39m, \u001b[32m0.3333333333333333\u001b[39m)\n",
       "      )\n",
       "    ),\n",
       "    \u001b[33mFiniteDistribution\u001b[39m(\u001b[33mVector\u001b[39m(\u001b[33mWeighted\u001b[39m(\u001b[32mA\u001b[39m, \u001b[32m0.01\u001b[39m), \u001b[33mWeighted\u001b[39m(\u001b[32mB\u001b[39m, \u001b[32m0.99\u001b[39m))),\n",
       "    \u001b[33mVector\u001b[39m(),\n",
       "    \u001b[33mFiniteDistribution\u001b[39m(\u001b[33mVector\u001b[39m()),\n",
       "    \u001b[33mFiniteDistribution\u001b[39m(\u001b[33mVector\u001b[39m()),\n",
       "    Empty\n",
       "  ),\n",
       "  \u001b[33mTermGenParams\u001b[39m(\n",
       "    \u001b[32m0.1\u001b[39m,\n",
       "    \u001b[32m0.1\u001b[39m,\n",
       "    \u001b[32m0.1\u001b[39m,\n",
       "    \u001b[32m0.0\u001b[39m,\n",
       "    \u001b[32m0.0\u001b[39m,\n",
       "    \u001b[32m0.05\u001b[39m,\n",
       "    \u001b[32m0.05\u001b[39m,\n",
       "    \u001b[32m0.0\u001b[39m,\n",
       "    \u001b[32m0.0\u001b[39m,\n",
       "    \u001b[32m0.0\u001b[39m,\n",
       "    \u001b[32m0.0\u001b[39m,\n",
       "    \u001b[32m0.0\u001b[39m,\n",
       "    \u001b[32m0.3\u001b[39m,\n",
       "    \u001b[32m0.7\u001b[39m,\n",
       "    \u001b[32m0.5\u001b[39m,\n",
       "    \u001b[32m0.0\u001b[39m,\n",
       "    \u001b[32m0.0\u001b[39m,\n",
       "    \u001b[32m0.0\u001b[39m\n",
       "  ),\n",
       "  \u001b[32m1.0E-4\u001b[39m,\n",
       "  12 minutes,\n",
       "  \u001b[32m1.01\u001b[39m,\n",
       "  \u001b[32m1.0\u001b[39m,\n",
       "..."
      ]
     },
     "execution_count": 122,
     "metadata": {},
     "output_type": "execute_result"
    }
   ],
   "source": [
    "val lp0 = LocalProver(TermState(FiniteDistribution.unif(a, f(a), f), FiniteDistribution(A -> 0.01, B -> 0.99)), hW = 0, klW = 10).noIsles"
   ]
  },
  {
   "cell_type": "code",
   "execution_count": 125,
   "metadata": {},
   "outputs": [
    {
     "data": {
      "text/plain": [
       "\u001b[36mgT0\u001b[39m: \u001b[32mmonix\u001b[39m.\u001b[32meval\u001b[39m.\u001b[32mTask\u001b[39m[\u001b[32mList\u001b[39m[(\u001b[32mFiniteDistribution\u001b[39m[\u001b[32mTerm\u001b[39m], \u001b[32mInt\u001b[39m)]] = \u001b[33mFlatMap\u001b[39m(\n",
       "  \u001b[33mAsync\u001b[39m(<function2>, false, true, true),\n",
       "  ammonite.$sess.cmd124$Helper$$Lambda$4309/1555064469@cfdaac4\n",
       ")"
      ]
     },
     "execution_count": 125,
     "metadata": {},
     "output_type": "execute_result"
    }
   ],
   "source": [
    "val gT0 = lp0.expressionEval.flatMap(e => e.generatorIterant(0, 1, 0.000001, e.finalDist).take(100).toListL.map(_.zipWithIndex.filter(_._2 % 15 == 0)) )"
   ]
  },
  {
   "cell_type": "code",
   "execution_count": 126,
   "metadata": {},
   "outputs": [
    {
     "data": {
      "text/html": [
       "<div class=\"jp-RenderedText\">\n",
       "<pre><code><span style=\"color: rgb(0, 187, 187)\"><span class=\"ansi-cyan-fg\">gF0</span></span>: <span style=\"color: rgb(0, 187, 0)\"><span class=\"ansi-green-fg\">monix</span></span>.<span style=\"color: rgb(0, 187, 0)\"><span class=\"ansi-green-fg\">execution</span></span>.<span style=\"color: rgb(0, 187, 0)\"><span class=\"ansi-green-fg\">CancelableFuture</span></span>[<span style=\"color: rgb(0, 187, 0)\"><span class=\"ansi-green-fg\">List</span></span>[(<span style=\"color: rgb(0, 187, 0)\"><span class=\"ansi-green-fg\">FiniteDistribution</span></span>[<span style=\"color: rgb(0, 187, 0)\"><span class=\"ansi-green-fg\">Term</span></span>], <span style=\"color: rgb(0, 187, 0)\"><span class=\"ansi-green-fg\">Int</span></span>)]] = <span style=\"color: rgb(0, 187, 0)\"><span class=\"ansi-green-fg\"><style>@keyframes fadein { from { opacity: 0; } to { opacity: 1; } }</style><span style=\"animation: fadein 2s;\"><span style=\"color: yellow\"><span class=\"ansi-yellow-fg\">Success</span></span>(\n",
       "  <span style=\"color: yellow\"><span class=\"ansi-yellow-fg\">List</span></span>(\n",
       "    (\n",
       "      <span style=\"color: yellow\"><span class=\"ansi-yellow-fg\">FiniteDistribution</span></span>(\n",
       "        <span style=\"color: yellow\"><span class=\"ansi-yellow-fg\">Vector</span></span>(\n",
       "          <span style=\"color: yellow\"><span class=\"ansi-yellow-fg\">Weighted</span></span>(<span style=\"color: rgb(0, 187, 0)\"><span class=\"ansi-green-fg\">f(a)</span></span>, <span style=\"color: rgb(0, 187, 0)\"><span class=\"ansi-green-fg\">0.3412860700619766</span></span>),\n",
       "          <span style=\"color: yellow\"><span class=\"ansi-yellow-fg\">Weighted</span></span>(<span style=\"color: rgb(0, 187, 0)\"><span class=\"ansi-green-fg\">f</span></span>, <span style=\"color: rgb(0, 187, 0)\"><span class=\"ansi-green-fg\">0.32410031980599935</span></span>),\n",
       "          <span style=\"color: yellow\"><span class=\"ansi-yellow-fg\">Weighted</span></span>(<span style=\"color: rgb(0, 187, 0)\"><span class=\"ansi-green-fg\">a</span></span>, <span style=\"color: rgb(0, 187, 0)\"><span class=\"ansi-green-fg\">0.334613610132024</span></span>)\n",
       "        )\n",
       "      ),\n",
       "      <span style=\"color: rgb(0, 187, 0)\"><span class=\"ansi-green-fg\">0</span></span>\n",
       "    ),\n",
       "    (\n",
       "      <span style=\"color: yellow\"><span class=\"ansi-yellow-fg\">FiniteDistribution</span></span>(\n",
       "        <span style=\"color: yellow\"><span class=\"ansi-yellow-fg\">Vector</span></span>(\n",
       "          <span style=\"color: yellow\"><span class=\"ansi-yellow-fg\">Weighted</span></span>(<span style=\"color: rgb(0, 187, 0)\"><span class=\"ansi-green-fg\">f(a)</span></span>, <span style=\"color: rgb(0, 187, 0)\"><span class=\"ansi-green-fg\">0.3339306190134751</span></span>),\n",
       "          <span style=\"color: yellow\"><span class=\"ansi-yellow-fg\">Weighted</span></span>(<span style=\"color: rgb(0, 187, 0)\"><span class=\"ansi-green-fg\">f</span></span>, <span style=\"color: rgb(0, 187, 0)\"><span class=\"ansi-green-fg\">0.3249955986746654</span></span>),\n",
       "          <span style=\"color: yellow\"><span class=\"ansi-yellow-fg\">Weighted</span></span>(<span style=\"color: rgb(0, 187, 0)\"><span class=\"ansi-green-fg\">a</span></span>, <span style=\"color: rgb(0, 187, 0)\"><span class=\"ansi-green-fg\">0.34107378231185953</span></span>)\n",
       "        )\n",
       "      ),\n",
       "      <span style=\"color: rgb(0, 187, 0)\"><span class=\"ansi-green-fg\">15</span></span>\n",
       "    ),\n",
       "    (\n",
       "      <span style=\"color: yellow\"><span class=\"ansi-yellow-fg\">FiniteDistribution</span></span>(\n",
       "        <span style=\"color: yellow\"><span class=\"ansi-yellow-fg\">Vector</span></span>(\n",
       "          <span style=\"color: yellow\"><span class=\"ansi-yellow-fg\">Weighted</span></span>(<span style=\"color: rgb(0, 187, 0)\"><span class=\"ansi-green-fg\">f(a)</span></span>, <span style=\"color: rgb(0, 187, 0)\"><span class=\"ansi-green-fg\">0.32669198377935166</span></span>),\n",
       "          <span style=\"color: yellow\"><span class=\"ansi-yellow-fg\">Weighted</span></span>(<span style=\"color: rgb(0, 187, 0)\"><span class=\"ansi-green-fg\">f</span></span>, <span style=\"color: rgb(0, 187, 0)\"><span class=\"ansi-green-fg\">0.3258766646667746</span></span>),\n",
       "          <span style=\"color: yellow\"><span class=\"ansi-yellow-fg\">Weighted</span></span>(<span style=\"color: rgb(0, 187, 0)\"><span class=\"ansi-green-fg\">a</span></span>, <span style=\"color: rgb(0, 187, 0)\"><span class=\"ansi-green-fg\">0.3474313515538737</span></span>)\n",
       "        )\n",
       "      ),\n",
       "      <span style=\"color: rgb(0, 187, 0)\"><span class=\"ansi-green-fg\">30</span></span>\n",
       "    ),\n",
       "    (\n",
       "      <span style=\"color: yellow\"><span class=\"ansi-yellow-fg\">FiniteDistribution</span></span>(\n",
       "        <span style=\"color: yellow\"><span class=\"ansi-yellow-fg\">Vector</span></span>(\n",
       "          <span style=\"color: yellow\"><span class=\"ansi-yellow-fg\">Weighted</span></span>(<span style=\"color: rgb(0, 187, 0)\"><span class=\"ansi-green-fg\">f(a)</span></span>, <span style=\"color: rgb(0, 187, 0)\"><span class=\"ansi-green-fg\">0.319576042233069</span></span>),\n",
       "          <span style=\"color: yellow\"><span class=\"ansi-yellow-fg\">Weighted</span></span>(<span style=\"color: rgb(0, 187, 0)\"><span class=\"ansi-green-fg\">f</span></span>, <span style=\"color: rgb(0, 187, 0)\"><span class=\"ansi-green-fg\">0.3267428021220995</span></span>),\n",
       "          <span style=\"color: yellow\"><span class=\"ansi-yellow-fg\">Weighted</span></span>(<span style=\"color: rgb(0, 187, 0)\"><span class=\"ansi-green-fg\">a</span></span>, <span style=\"color: rgb(0, 187, 0)\"><span class=\"ansi-green-fg\">0.35368115564483155</span></span>)\n",
       "        )\n",
       "...</span></span></span></code></pre>\n",
       "</div>"
      ],
      "text/plain": [
       "\u001b[36mgF0\u001b[39m: \u001b[32mmonix\u001b[39m.\u001b[32mexecution\u001b[39m.\u001b[32mCancelableFuture\u001b[39m[\u001b[32mList\u001b[39m[(\u001b[32mFiniteDistribution\u001b[39m[\u001b[32mTerm\u001b[39m], \u001b[32mInt\u001b[39m)]] = \u001b[32m\u001b[33mSuccess\u001b[39m(\n",
       "  \u001b[33mList\u001b[39m(\n",
       "    (\n",
       "      \u001b[33mFiniteDistribution\u001b[39m(\n",
       "        \u001b[33mVector\u001b[39m(\n",
       "          \u001b[33mWeighted\u001b[39m(\u001b[32mf(a)\u001b[39m, \u001b[32m0.3412860700619766\u001b[39m),\n",
       "          \u001b[33mWeighted\u001b[39m(\u001b[32mf\u001b[39m, \u001b[32m0.32410031980599935\u001b[39m),\n",
       "          \u001b[33mWeighted\u001b[39m(\u001b[32ma\u001b[39m, \u001b[32m0.334613610132024\u001b[39m)\n",
       "        )\n",
       "      ),\n",
       "      \u001b[32m0\u001b[39m\n",
       "    ),\n",
       "    (\n",
       "      \u001b[33mFiniteDistribution\u001b[39m(\n",
       "        \u001b[33mVector\u001b[39m(\n",
       "          \u001b[33mWeighted\u001b[39m(\u001b[32mf(a)\u001b[39m, \u001b[32m0.3339306190134751\u001b[39m),\n",
       "          \u001b[33mWeighted\u001b[39m(\u001b[32mf\u001b[39m, \u001b[32m0.3249955986746654\u001b[39m),\n",
       "          \u001b[33mWeighted\u001b[39m(\u001b[32ma\u001b[39m, \u001b[32m0.34107378231185953\u001b[39m)\n",
       "        )\n",
       "      ),\n",
       "      \u001b[32m15\u001b[39m\n",
       "    ),\n",
       "    (\n",
       "      \u001b[33mFiniteDistribution\u001b[39m(\n",
       "        \u001b[33mVector\u001b[39m(\n",
       "          \u001b[33mWeighted\u001b[39m(\u001b[32mf(a)\u001b[39m, \u001b[32m0.32669198377935166\u001b[39m),\n",
       "          \u001b[33mWeighted\u001b[39m(\u001b[32mf\u001b[39m, \u001b[32m0.3258766646667746\u001b[39m),\n",
       "          \u001b[33mWeighted\u001b[39m(\u001b[32ma\u001b[39m, \u001b[32m0.3474313515538737\u001b[39m)\n",
       "        )\n",
       "      ),\n",
       "      \u001b[32m30\u001b[39m\n",
       "    ),\n",
       "    (\n",
       "      \u001b[33mFiniteDistribution\u001b[39m(\n",
       "        \u001b[33mVector\u001b[39m(\n",
       "          \u001b[33mWeighted\u001b[39m(\u001b[32mf(a)\u001b[39m, \u001b[32m0.319576042233069\u001b[39m),\n",
       "          \u001b[33mWeighted\u001b[39m(\u001b[32mf\u001b[39m, \u001b[32m0.3267428021220995\u001b[39m),\n",
       "          \u001b[33mWeighted\u001b[39m(\u001b[32ma\u001b[39m, \u001b[32m0.35368115564483155\u001b[39m)\n",
       "        )\n",
       "...\u001b[39m"
      ]
     },
     "metadata": {},
     "output_type": "display_data"
    }
   ],
   "source": [
    "val gF0 = gT0.runToFuture"
   ]
  },
  {
   "cell_type": "markdown",
   "metadata": {},
   "source": [
    "## Correction needed\n",
    "\n",
    "* One can always reduce Kullback-Liebler by increasing all probabilities. Normalizing only partly acts against this.\n",
    "* The best approach is probably to add total probability equations, at least for initial and final values of terms."
   ]
  }
 ],
 "metadata": {
  "kernelspec": {
   "display_name": "Scala",
   "language": "scala",
   "name": "scala"
  },
  "language_info": {
   "codemirror_mode": "text/x-scala",
   "file_extension": ".scala",
   "mimetype": "text/x-scala",
   "name": "scala",
   "nbconvert_exporter": "script",
   "version": "2.12.9"
  }
 },
 "nbformat": 4,
 "nbformat_minor": 2
}
