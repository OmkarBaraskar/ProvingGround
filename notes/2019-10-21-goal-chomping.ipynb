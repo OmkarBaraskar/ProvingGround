{
 "cells": [
  {
   "cell_type": "markdown",
   "metadata": {},
   "source": [
    "## Goal chomping\n",
    "\n",
    "* We run the most basic _strategic_ prover - a _goal chomper_ that keeps trying a succession of goals.\n",
    "* Termination is when a goal fails or all goals are finished.\n",
    "* Proving is only by generation, with the generation including backward reasoning rules.\n",
    "* So far the goal chomper is untested; we test this.\n",
    "* We also test updating displays etc.\n",
    "\n",
    "\n",
    "### The goals and proving.\n",
    "\n",
    "* To generate the goals, we start with just `Type`.\n",
    "* To prove them, we include also `Zero`, `One` and `Star`"
   ]
  },
  {
   "cell_type": "code",
   "execution_count": 1,
   "metadata": {},
   "outputs": [
    {
     "data": {
      "text/plain": [
       "\u001b[32mimport \u001b[39m\u001b[36m$cp.$                                              \n",
       "\u001b[39m\n",
       "\u001b[32mimport \u001b[39m\u001b[36mprovingground._ , interface._, HoTT._, learning._ \n",
       "\u001b[39m"
      ]
     },
     "execution_count": 1,
     "metadata": {},
     "output_type": "execute_result"
    }
   ],
   "source": [
    "import $cp.bin.`provingground-core-jvm-d7193b6a8f.fat.jar`\n",
    "import provingground._ , interface._, HoTT._, learning._ \n",
    "repl.pprinter() = {\n",
    "  val p = repl.pprinter()\n",
    "  p.copy(\n",
    "    additionalHandlers = p.additionalHandlers.orElse {\n",
    "      translation.FansiShow.fansiHandler\n",
    "    }\n",
    "  )\n",
    "}\n"
   ]
  },
  {
   "cell_type": "code",
   "execution_count": 2,
   "metadata": {},
   "outputs": [
    {
     "data": {
      "text/plain": [
       "\u001b[36mterms\u001b[39m: \u001b[32mFiniteDistribution\u001b[39m[\u001b[32mTerm\u001b[39m] = \u001b[33mFiniteDistribution\u001b[39m(\n",
       "  \u001b[33mVector\u001b[39m(\n",
       "    \u001b[33mWeighted\u001b[39m(\u001b[32mUnit\u001b[39m, \u001b[32m0.3333333333333333\u001b[39m),\n",
       "    \u001b[33mWeighted\u001b[39m(\u001b[32mZero\u001b[39m, \u001b[32m0.3333333333333333\u001b[39m),\n",
       "    \u001b[33mWeighted\u001b[39m(\u001b[32mStar\u001b[39m, \u001b[32m0.3333333333333333\u001b[39m)\n",
       "  )\n",
       ")\n",
       "\u001b[36mtyps\u001b[39m: \u001b[32mFiniteDistribution\u001b[39m[\u001b[32mTyp\u001b[39m[\u001b[32mTerm\u001b[39m]] = \u001b[33mFiniteDistribution\u001b[39m(\n",
       "  \u001b[33mVector\u001b[39m(\n",
       "    \u001b[33mWeighted\u001b[39m(\u001b[32m𝒰 \u001b[39m, \u001b[32m0.3333333333333333\u001b[39m),\n",
       "    \u001b[33mWeighted\u001b[39m(\u001b[32mUnit\u001b[39m, \u001b[32m0.3333333333333333\u001b[39m),\n",
       "    \u001b[33mWeighted\u001b[39m(\u001b[32mZero\u001b[39m, \u001b[32m0.3333333333333333\u001b[39m)\n",
       "  )\n",
       ")\n",
       "\u001b[36mts\u001b[39m: \u001b[32mTermState\u001b[39m = \u001b[33mTermState\u001b[39m(\n",
       "  \u001b[33mFiniteDistribution\u001b[39m(\n",
       "    \u001b[33mVector\u001b[39m(\n",
       "      \u001b[33mWeighted\u001b[39m(\u001b[32mUnit\u001b[39m, \u001b[32m0.3333333333333333\u001b[39m),\n",
       "      \u001b[33mWeighted\u001b[39m(\u001b[32mZero\u001b[39m, \u001b[32m0.3333333333333333\u001b[39m),\n",
       "      \u001b[33mWeighted\u001b[39m(\u001b[32mStar\u001b[39m, \u001b[32m0.3333333333333333\u001b[39m)\n",
       "    )\n",
       "  ),\n",
       "  \u001b[33mFiniteDistribution\u001b[39m(\n",
       "    \u001b[33mVector\u001b[39m(\n",
       "      \u001b[33mWeighted\u001b[39m(\u001b[32m𝒰 \u001b[39m, \u001b[32m0.3333333333333333\u001b[39m),\n",
       "      \u001b[33mWeighted\u001b[39m(\u001b[32mUnit\u001b[39m, \u001b[32m0.3333333333333333\u001b[39m),\n",
       "      \u001b[33mWeighted\u001b[39m(\u001b[32mZero\u001b[39m, \u001b[32m0.3333333333333333\u001b[39m)\n",
       "    )\n",
       "  ),\n",
       "  \u001b[33mVector\u001b[39m(),\n",
       "  \u001b[33mFiniteDistribution\u001b[39m(\u001b[33mVector\u001b[39m()),\n",
       "  \u001b[33mFiniteDistribution\u001b[39m(\u001b[33mVector\u001b[39m()),\n",
       "  Empty\n",
       ")\n",
       "\u001b[36mts0\u001b[39m: \u001b[32mTermState\u001b[39m = \u001b[33mTermState\u001b[39m(\n",
       "  \u001b[33mFiniteDistribution\u001b[39m(\u001b[33mVector\u001b[39m()),\n",
       "  \u001b[33mFiniteDistribution\u001b[39m(\u001b[33mVector\u001b[39m(\u001b[33mWeighted\u001b[39m(\u001b[32m𝒰 \u001b[39m, \u001b[32m1.0\u001b[39m))),\n",
       "  \u001b[33mVector\u001b[39m(),\n",
       "  \u001b[33mFiniteDistribution\u001b[39m(\u001b[33mVector\u001b[39m()),\n",
       "  \u001b[33mFiniteDistribution\u001b[39m(\u001b[33mVector\u001b[39m()),\n",
       "  Empty\n",
       ")"
      ]
     },
     "execution_count": 2,
     "metadata": {},
     "output_type": "execute_result"
    }
   ],
   "source": [
    "val terms = FiniteDistribution.unif[Term](Unit, Zero, Star)\n",
    "val typs = FiniteDistribution.unif[Typ[Term]](Type, Unit, Zero)\n",
    "val ts = TermState(terms, typs)\n",
    "val ts0 = TermState(FiniteDistribution(), FiniteDistribution.unif(Type))"
   ]
  },
  {
   "cell_type": "code",
   "execution_count": 3,
   "metadata": {},
   "outputs": [
    {
     "data": {
      "text/plain": [
       "\u001b[32mimport \u001b[39m\u001b[36mmonix.execution.Scheduler.Implicits.global\n",
       "\u001b[39m\n",
       "\u001b[36mlp\u001b[39m: \u001b[32mLocalProver\u001b[39m = \u001b[33mLocalProver\u001b[39m(\n",
       "  \u001b[33mTermState\u001b[39m(\n",
       "    \u001b[33mFiniteDistribution\u001b[39m(\n",
       "      \u001b[33mVector\u001b[39m(\n",
       "        \u001b[33mWeighted\u001b[39m(\u001b[32mUnit\u001b[39m, \u001b[32m0.3333333333333333\u001b[39m),\n",
       "        \u001b[33mWeighted\u001b[39m(\u001b[32mZero\u001b[39m, \u001b[32m0.3333333333333333\u001b[39m),\n",
       "        \u001b[33mWeighted\u001b[39m(\u001b[32mStar\u001b[39m, \u001b[32m0.3333333333333333\u001b[39m)\n",
       "      )\n",
       "    ),\n",
       "    \u001b[33mFiniteDistribution\u001b[39m(\n",
       "      \u001b[33mVector\u001b[39m(\n",
       "        \u001b[33mWeighted\u001b[39m(\u001b[32m𝒰 \u001b[39m, \u001b[32m0.3333333333333333\u001b[39m),\n",
       "        \u001b[33mWeighted\u001b[39m(\u001b[32mUnit\u001b[39m, \u001b[32m0.3333333333333333\u001b[39m),\n",
       "        \u001b[33mWeighted\u001b[39m(\u001b[32mZero\u001b[39m, \u001b[32m0.3333333333333333\u001b[39m)\n",
       "      )\n",
       "    ),\n",
       "    \u001b[33mVector\u001b[39m(),\n",
       "    \u001b[33mFiniteDistribution\u001b[39m(\u001b[33mVector\u001b[39m()),\n",
       "    \u001b[33mFiniteDistribution\u001b[39m(\u001b[33mVector\u001b[39m()),\n",
       "    Empty\n",
       "  ),\n",
       "  \u001b[33mTermGenParams\u001b[39m(\n",
       "    \u001b[32m0.1\u001b[39m,\n",
       "    \u001b[32m0.1\u001b[39m,\n",
       "    \u001b[32m0.1\u001b[39m,\n",
       "    \u001b[32m0.1\u001b[39m,\n",
       "    \u001b[32m0.1\u001b[39m,\n",
       "    \u001b[32m0.05\u001b[39m,\n",
       "    \u001b[32m0.05\u001b[39m,\n",
       "    \u001b[32m0.05\u001b[39m,\n",
       "    \u001b[32m0.0\u001b[39m,\n",
       "    \u001b[32m0.0\u001b[39m,\n",
       "    \u001b[32m0.0\u001b[39m,\n",
       "    \u001b[32m0.0\u001b[39m,\n",
       "    \u001b[32m0.3\u001b[39m,\n",
       "    \u001b[32m0.7\u001b[39m,\n",
       "    \u001b[32m0.5\u001b[39m,\n",
       "    \u001b[32m0.0\u001b[39m,\n",
       "    \u001b[32m0.0\u001b[39m,\n",
       "...\n",
       "\u001b[36mlp0\u001b[39m: \u001b[32mLocalProver\u001b[39m = \u001b[33mLocalProver\u001b[39m(\n",
       "  \u001b[33mTermState\u001b[39m(\n",
       "    \u001b[33mFiniteDistribution\u001b[39m(\u001b[33mVector\u001b[39m()),\n",
       "    \u001b[33mFiniteDistribution\u001b[39m(\u001b[33mVector\u001b[39m(\u001b[33mWeighted\u001b[39m(\u001b[32m𝒰 \u001b[39m, \u001b[32m1.0\u001b[39m))),\n",
       "    \u001b[33mVector\u001b[39m(),\n",
       "    \u001b[33mFiniteDistribution\u001b[39m(\u001b[33mVector\u001b[39m()),\n",
       "    \u001b[33mFiniteDistribution\u001b[39m(\u001b[33mVector\u001b[39m()),\n",
       "    Empty\n",
       "  ),\n",
       "  \u001b[33mTermGenParams\u001b[39m(\n",
       "    \u001b[32m0.1\u001b[39m,\n",
       "    \u001b[32m0.1\u001b[39m,\n",
       "    \u001b[32m0.1\u001b[39m,\n",
       "    \u001b[32m0.1\u001b[39m,\n",
       "    \u001b[32m0.1\u001b[39m,\n",
       "    \u001b[32m0.05\u001b[39m,\n",
       "    \u001b[32m0.05\u001b[39m,\n",
       "    \u001b[32m0.05\u001b[39m,\n",
       "    \u001b[32m0.0\u001b[39m,\n",
       "    \u001b[32m0.0\u001b[39m,\n",
       "    \u001b[32m0.0\u001b[39m,\n",
       "    \u001b[32m0.0\u001b[39m,\n",
       "    \u001b[32m0.3\u001b[39m,\n",
       "    \u001b[32m0.7\u001b[39m,\n",
       "    \u001b[32m0.5\u001b[39m,\n",
       "    \u001b[32m0.0\u001b[39m,\n",
       "    \u001b[32m0.0\u001b[39m,\n",
       "    \u001b[32m0.0\u001b[39m\n",
       "  ),\n",
       "  \u001b[32m1.0E-5\u001b[39m,\n",
       "  12 minutes,\n",
       "  \u001b[32m1.01\u001b[39m,\n",
       "  \u001b[32m1.0\u001b[39m,\n",
       "  \u001b[32m10000\u001b[39m,\n",
       "  \u001b[32m10\u001b[39m,\n",
       "  \u001b[32m1.0\u001b[39m,\n",
       "  \u001b[32m1.0\u001b[39m,\n",
       "  \u001b[32mNone\u001b[39m,\n",
       "  false,\n",
       "..."
      ]
     },
     "execution_count": 3,
     "metadata": {},
     "output_type": "execute_result"
    }
   ],
   "source": [
    "import monix.execution.Scheduler.Implicits.global\n",
    "val lp = LocalProver(ts).sharpen(10)\n",
    "val lp0 = LocalProver(ts0).sharpen(10)"
   ]
  },
  {
   "cell_type": "code",
   "execution_count": 4,
   "metadata": {},
   "outputs": [
    {
     "data": {
      "text/html": [
       "<div class=\"jp-RenderedText\">\n",
       "<pre><code><span style=\"color: rgb(0, 187, 187)\"><span class=\"ansi-cyan-fg\">unknownsT</span></span>: <span style=\"color: rgb(0, 187, 0)\"><span class=\"ansi-green-fg\">monix</span></span>.<span style=\"color: rgb(0, 187, 0)\"><span class=\"ansi-green-fg\">eval</span></span>.<span style=\"color: rgb(0, 187, 0)\"><span class=\"ansi-green-fg\">Task</span></span>[<span style=\"color: rgb(0, 187, 0)\"><span class=\"ansi-green-fg\">Vector</span></span>[<span style=\"color: rgb(0, 187, 0)\"><span class=\"ansi-green-fg\">Typ</span></span>[<span style=\"color: rgb(0, 187, 0)\"><span class=\"ansi-green-fg\">Term</span></span>]]] = <span style=\"color: yellow\"><span class=\"ansi-yellow-fg\">Async</span></span>(\n",
       "  &lt;function2&gt;,\n",
       "  false,\n",
       "  true,\n",
       "  true\n",
       ")\n",
       "<span style=\"color: rgb(0, 187, 187)\"><span class=\"ansi-cyan-fg\">unF</span></span>: <span style=\"color: rgb(0, 187, 0)\"><span class=\"ansi-green-fg\">monix</span></span>.<span style=\"color: rgb(0, 187, 0)\"><span class=\"ansi-green-fg\">execution</span></span>.<span style=\"color: rgb(0, 187, 0)\"><span class=\"ansi-green-fg\">CancelableFuture</span></span>[<span style=\"color: rgb(0, 187, 0)\"><span class=\"ansi-green-fg\">Vector</span></span>[<span style=\"color: rgb(0, 187, 0)\"><span class=\"ansi-green-fg\">Typ</span></span>[<span style=\"color: rgb(0, 187, 0)\"><span class=\"ansi-green-fg\">Term</span></span>]]] = <span style=\"color: rgb(0, 187, 0)\"><span class=\"ansi-green-fg\"><style>@keyframes fadein { from { opacity: 0; } to { opacity: 1; } }</style><span style=\"animation: fadein 2s;\"><span style=\"color: yellow\"><span class=\"ansi-yellow-fg\">Success</span></span>(\n",
       "  <span style=\"color: yellow\"><span class=\"ansi-yellow-fg\">Vector</span></span>(\n",
       "    <span style=\"color: rgb(0, 187, 0)\"><span class=\"ansi-green-fg\">∏(@a : 𝒰 ){ @a }</span></span>,\n",
       "    <span style=\"color: rgb(0, 187, 0)\"><span class=\"ansi-green-fg\">∑(@a : { @a }</span></span>,\n",
       "    <span style=\"color: rgb(0, 187, 0)\"><span class=\"ansi-green-fg\">((𝒰  → 𝒰 ) → 𝒰 )</span></span>,\n",
       "    <span style=\"color: rgb(0, 187, 0)\"><span class=\"ansi-green-fg\">(𝒰 ×𝒰  → 𝒰 )</span></span>,\n",
       "    <span style=\"color: rgb(0, 187, 0)\"><span class=\"ansi-green-fg\">(𝒰  → ∏(@b : 𝒰 ){ @b })</span></span>,\n",
       "    <span style=\"color: rgb(0, 187, 0)\"><span class=\"ansi-green-fg\">(∏(@a : 𝒰 ){ @a } → 𝒰 )</span></span>,\n",
       "    <span style=\"color: rgb(0, 187, 0)\"><span class=\"ansi-green-fg\">(𝒰  → 𝒰 ×𝒰 )</span></span>,\n",
       "    <span style=\"color: rgb(0, 187, 0)\"><span class=\"ansi-green-fg\">∏(@a : 𝒰 ){ (𝒰  → @a) }</span></span>,\n",
       "    <span style=\"color: rgb(0, 187, 0)\"><span class=\"ansi-green-fg\">(∑(@a : { @a } → 𝒰 )</span></span>,\n",
       "    <span style=\"color: rgb(0, 187, 0)\"><span class=\"ansi-green-fg\">∑(@a : { (@a → 𝒰 ) }</span></span>,\n",
       "    <span style=\"color: rgb(0, 187, 0)\"><span class=\"ansi-green-fg\">∏(@a : 𝒰 ){ @a×𝒰  }</span></span>,\n",
       "    <span style=\"color: rgb(0, 187, 0)\"><span class=\"ansi-green-fg\">(𝒰  → ∑(@b : { @b })</span></span>,\n",
       "    <span style=\"color: rgb(0, 187, 0)\"><span class=\"ansi-green-fg\">∑(@a : { (𝒰  → @a) }</span></span>,\n",
       "    <span style=\"color: rgb(0, 187, 0)\"><span class=\"ansi-green-fg\">∏(@a : 𝒰 ){ 𝒰 ×@a }</span></span>,\n",
       "    <span style=\"color: rgb(0, 187, 0)\"><span class=\"ansi-green-fg\">∑(@a : { @a×𝒰  }</span></span>,\n",
       "    <span style=\"color: rgb(0, 187, 0)\"><span class=\"ansi-green-fg\">((𝒰 ×𝒰  → 𝒰 ) → 𝒰 )</span></span>,\n",
       "    <span style=\"color: rgb(0, 187, 0)\"><span class=\"ansi-green-fg\">((𝒰  → 𝒰 )×𝒰  → 𝒰 )</span></span>,\n",
       "    <span style=\"color: rgb(0, 187, 0)\"><span class=\"ansi-green-fg\">∑(@a : { (@a → @a) }</span></span>,\n",
       "    <span style=\"color: rgb(0, 187, 0)\"><span class=\"ansi-green-fg\">∏(@a : 𝒰 ){ @a×@a }</span></span>,\n",
       "    <span style=\"color: rgb(0, 187, 0)\"><span class=\"ansi-green-fg\">((𝒰  → (𝒰  → 𝒰 )) → 𝒰 )</span></span>,\n",
       "    <span style=\"color: rgb(0, 187, 0)\"><span class=\"ansi-green-fg\">((∏(@a : 𝒰 ){ @a } → 𝒰 ) → 𝒰 )</span></span>,\n",
       "    <span style=\"color: rgb(0, 187, 0)\"><span class=\"ansi-green-fg\">∑(@a : { 𝒰 ×@a }</span></span>,\n",
       "    <span style=\"color: rgb(0, 187, 0)\"><span class=\"ansi-green-fg\">((𝒰  → 𝒰 ) → 𝒰 ×𝒰 )</span></span>,\n",
       "    <span style=\"color: rgb(0, 187, 0)\"><span class=\"ansi-green-fg\">(𝒰 ×𝒰 ×𝒰  → 𝒰 )</span></span>,\n",
       "    <span style=\"color: rgb(0, 187, 0)\"><span class=\"ansi-green-fg\">(𝒰 ×(𝒰  → 𝒰 ) → 𝒰 )</span></span>,\n",
       "    <span style=\"color: rgb(0, 187, 0)\"><span class=\"ansi-green-fg\">(∏(@a : 𝒰 ){ @a }×𝒰  → 𝒰 )</span></span>,\n",
       "    <span style=\"color: rgb(0, 187, 0)\"><span class=\"ansi-green-fg\">((∑(@a : { @a } → 𝒰 ) → 𝒰 )</span></span>,\n",
       "    <span style=\"color: rgb(0, 187, 0)\"><span class=\"ansi-green-fg\">((𝒰  → ∏(@b : 𝒰 ){ @b }) → 𝒰 )</span></span>,\n",
       "    <span style=\"color: rgb(0, 187, 0)\"><span class=\"ansi-green-fg\">((𝒰  → 𝒰 ) → ∏(@a : 𝒰 ){ @a })</span></span>,\n",
       "    <span style=\"color: rgb(0, 187, 0)\"><span class=\"ansi-green-fg\">((𝒰  → 𝒰 ×𝒰 ) → 𝒰 )</span></span>,\n",
       "    <span style=\"color: rgb(0, 187, 0)\"><span class=\"ansi-green-fg\">∑(@a : { @a×@a }</span></span>,\n",
       "    <span style=\"color: rgb(0, 187, 0)\"><span class=\"ansi-green-fg\">((((𝒰  → 𝒰 ) → 𝒰 ) → 𝒰 ) → 𝒰 )</span></span>,\n",
       "    <span style=\"color: rgb(0, 187, 0)\"><span class=\"ansi-green-fg\">(∑(@a : { (@a → 𝒰 ) } → 𝒰 )</span></span>,\n",
       "    <span style=\"color: rgb(0, 187, 0)\"><span class=\"ansi-green-fg\">(𝒰 ×∏(@b : 𝒰 ){ @b } → 𝒰 )</span></span>,\n",
       "    <span style=\"color: rgb(0, 187, 0)\"><span class=\"ansi-green-fg\">(𝒰  → (𝒰  → 𝒰 )×𝒰 )</span></span>,\n",
       "    <span style=\"color: rgb(0, 187, 0)\"><span class=\"ansi-green-fg\">(∏(@a : 𝒰 ){ (𝒰  → @a) } → 𝒰 )</span></span>,\n",
       "    <span style=\"color: rgb(0, 187, 0)\"><span class=\"ansi-green-fg\">(𝒰  → (𝒰  → ∏(@c : 𝒰 ){ @c }))</span></span>,\n",
       "...</span></span></span></code></pre>\n",
       "</div>"
      ],
      "text/plain": [
       "\u001b[36munknownsT\u001b[39m: \u001b[32mmonix\u001b[39m.\u001b[32meval\u001b[39m.\u001b[32mTask\u001b[39m[\u001b[32mVector\u001b[39m[\u001b[32mTyp\u001b[39m[\u001b[32mTerm\u001b[39m]]] = \u001b[33mAsync\u001b[39m(\n",
       "  <function2>,\n",
       "  false,\n",
       "  true,\n",
       "  true\n",
       ")\n",
       "\u001b[36munF\u001b[39m: \u001b[32mmonix\u001b[39m.\u001b[32mexecution\u001b[39m.\u001b[32mCancelableFuture\u001b[39m[\u001b[32mVector\u001b[39m[\u001b[32mTyp\u001b[39m[\u001b[32mTerm\u001b[39m]]] = \u001b[32m\u001b[33mSuccess\u001b[39m(\n",
       "  \u001b[33mVector\u001b[39m(\n",
       "    \u001b[32m∏(@a : 𝒰 ){ @a }\u001b[39m,\n",
       "    \u001b[32m∑(@a : { @a }\u001b[39m,\n",
       "    \u001b[32m((𝒰  → 𝒰 ) → 𝒰 )\u001b[39m,\n",
       "    \u001b[32m(𝒰 ×𝒰  → 𝒰 )\u001b[39m,\n",
       "    \u001b[32m(𝒰  → ∏(@b : 𝒰 ){ @b })\u001b[39m,\n",
       "    \u001b[32m(∏(@a : 𝒰 ){ @a } → 𝒰 )\u001b[39m,\n",
       "    \u001b[32m(𝒰  → 𝒰 ×𝒰 )\u001b[39m,\n",
       "    \u001b[32m∏(@a : 𝒰 ){ (𝒰  → @a) }\u001b[39m,\n",
       "    \u001b[32m(∑(@a : { @a } → 𝒰 )\u001b[39m,\n",
       "    \u001b[32m∑(@a : { (@a → 𝒰 ) }\u001b[39m,\n",
       "    \u001b[32m∏(@a : 𝒰 ){ @a×𝒰  }\u001b[39m,\n",
       "    \u001b[32m(𝒰  → ∑(@b : { @b })\u001b[39m,\n",
       "    \u001b[32m∑(@a : { (𝒰  → @a) }\u001b[39m,\n",
       "    \u001b[32m∏(@a : 𝒰 ){ 𝒰 ×@a }\u001b[39m,\n",
       "    \u001b[32m∑(@a : { @a×𝒰  }\u001b[39m,\n",
       "    \u001b[32m((𝒰 ×𝒰  → 𝒰 ) → 𝒰 )\u001b[39m,\n",
       "    \u001b[32m((𝒰  → 𝒰 )×𝒰  → 𝒰 )\u001b[39m,\n",
       "    \u001b[32m∑(@a : { (@a → @a) }\u001b[39m,\n",
       "    \u001b[32m∏(@a : 𝒰 ){ @a×@a }\u001b[39m,\n",
       "    \u001b[32m((𝒰  → (𝒰  → 𝒰 )) → 𝒰 )\u001b[39m,\n",
       "    \u001b[32m((∏(@a : 𝒰 ){ @a } → 𝒰 ) → 𝒰 )\u001b[39m,\n",
       "    \u001b[32m∑(@a : { 𝒰 ×@a }\u001b[39m,\n",
       "    \u001b[32m((𝒰  → 𝒰 ) → 𝒰 ×𝒰 )\u001b[39m,\n",
       "    \u001b[32m(𝒰 ×𝒰 ×𝒰  → 𝒰 )\u001b[39m,\n",
       "    \u001b[32m(𝒰 ×(𝒰  → 𝒰 ) → 𝒰 )\u001b[39m,\n",
       "    \u001b[32m(∏(@a : 𝒰 ){ @a }×𝒰  → 𝒰 )\u001b[39m,\n",
       "    \u001b[32m((∑(@a : { @a } → 𝒰 ) → 𝒰 )\u001b[39m,\n",
       "    \u001b[32m((𝒰  → ∏(@b : 𝒰 ){ @b }) → 𝒰 )\u001b[39m,\n",
       "    \u001b[32m((𝒰  → 𝒰 ) → ∏(@a : 𝒰 ){ @a })\u001b[39m,\n",
       "    \u001b[32m((𝒰  → 𝒰 ×𝒰 ) → 𝒰 )\u001b[39m,\n",
       "    \u001b[32m∑(@a : { @a×@a }\u001b[39m,\n",
       "    \u001b[32m((((𝒰  → 𝒰 ) → 𝒰 ) → 𝒰 ) → 𝒰 )\u001b[39m,\n",
       "    \u001b[32m(∑(@a : { (@a → 𝒰 ) } → 𝒰 )\u001b[39m,\n",
       "    \u001b[32m(𝒰 ×∏(@b : 𝒰 ){ @b } → 𝒰 )\u001b[39m,\n",
       "    \u001b[32m(𝒰  → (𝒰  → 𝒰 )×𝒰 )\u001b[39m,\n",
       "    \u001b[32m(∏(@a : 𝒰 ){ (𝒰  → @a) } → 𝒰 )\u001b[39m,\n",
       "    \u001b[32m(𝒰  → (𝒰  → ∏(@c : 𝒰 ){ @c }))\u001b[39m,\n",
       "...\u001b[39m"
      ]
     },
     "metadata": {},
     "output_type": "display_data"
    }
   ],
   "source": [
    "val unknownsT = lp0.unknownStatements.map(_.entropyVec.map(_.elem)).memoize\n",
    "val unF = unknownsT.runToFuture"
   ]
  },
  {
   "cell_type": "code",
   "execution_count": 5,
   "metadata": {},
   "outputs": [
    {
     "data": {
      "text/plain": [
       "\u001b[32mimport \u001b[39m\u001b[36mStrategicProvers._\u001b[39m"
      ]
     },
     "execution_count": 5,
     "metadata": {},
     "output_type": "execute_result"
    }
   ],
   "source": [
    "import StrategicProvers._"
   ]
  },
  {
   "cell_type": "code",
   "execution_count": 6,
   "metadata": {},
   "outputs": [
    {
     "data": {
      "text/markdown": [
       "## Goal chomping done\n",
       "\n",
       " * chomped: 45"
      ]
     },
     "metadata": {},
     "output_type": "display_data"
    },
    {
     "data": {
      "text/plain": [
       "\u001b[32mimport \u001b[39m\u001b[36malmond.display._\n",
       "\u001b[39m"
      ]
     },
     "execution_count": 6,
     "metadata": {},
     "output_type": "execute_result"
    }
   ],
   "source": [
    "import almond.display._\n",
    "val chompView = Markdown(\"## Results from Goal chomping\\n\")"
   ]
  },
  {
   "cell_type": "code",
   "execution_count": 7,
   "metadata": {},
   "outputs": [
    {
     "data": {
      "text/plain": [
       "\u001b[36mchT\u001b[39m: \u001b[32mmonix\u001b[39m.\u001b[32meval\u001b[39m.\u001b[32mTask\u001b[39m[(\u001b[32mVector\u001b[39m[\u001b[32mSuccesses\u001b[39m], \u001b[32mSet\u001b[39m[\u001b[32mEquationNode\u001b[39m], \u001b[32mVector\u001b[39m[\u001b[32mTyp\u001b[39m[\u001b[32mTerm\u001b[39m]])] = \u001b[33mFlatMap\u001b[39m(\n",
       "  \u001b[33mAsync\u001b[39m(<function2>, false, true, true),\n",
       "  ammonite.$sess.cmd6$Helper$$Lambda$2791/1503415149@3a6de14a\n",
       ")"
      ]
     },
     "execution_count": 7,
     "metadata": {},
     "output_type": "execute_result"
    }
   ],
   "source": [
    "val chT = unknownsT.flatMap(typs => goalChomper(lp, typs)).memoize"
   ]
  },
  {
   "cell_type": "code",
   "execution_count": 8,
   "metadata": {},
   "outputs": [
    {
     "data": {
      "text/html": [
       "<div class=\"jp-RenderedText\">\n",
       "<pre><code><span style=\"color: rgb(0, 187, 187)\"><span class=\"ansi-cyan-fg\">chF</span></span>: <span style=\"color: rgb(0, 187, 0)\"><span class=\"ansi-green-fg\">monix</span></span>.<span style=\"color: rgb(0, 187, 0)\"><span class=\"ansi-green-fg\">execution</span></span>.<span style=\"color: rgb(0, 187, 0)\"><span class=\"ansi-green-fg\">CancelableFuture</span></span>[(<span style=\"color: rgb(0, 187, 0)\"><span class=\"ansi-green-fg\">Vector</span></span>[<span style=\"color: rgb(0, 187, 0)\"><span class=\"ansi-green-fg\">Successes</span></span>], <span style=\"color: rgb(0, 187, 0)\"><span class=\"ansi-green-fg\">Set</span></span>[<span style=\"color: rgb(0, 187, 0)\"><span class=\"ansi-green-fg\">EquationNode</span></span>], <span style=\"color: rgb(0, 187, 0)\"><span class=\"ansi-green-fg\">Vector</span></span>[<span style=\"color: rgb(0, 187, 0)\"><span class=\"ansi-green-fg\">Typ</span></span>[<span style=\"color: rgb(0, 187, 0)\"><span class=\"ansi-green-fg\">Term</span></span>]])] = <span style=\"color: rgb(0, 187, 0)\"><span class=\"ansi-green-fg\"><style>@keyframes fadein { from { opacity: 0; } to { opacity: 1; } }</style><span style=\"animation: fadein 2s;\"><span style=\"color: yellow\"><span class=\"ansi-yellow-fg\">Success</span></span>(\n",
       "  (\n",
       "    <span style=\"color: yellow\"><span class=\"ansi-yellow-fg\">Vector</span></span>(\n",
       "      <span style=\"color: yellow\"><span class=\"ansi-yellow-fg\">Vector</span></span>(\n",
       "        (\n",
       "          <span style=\"color: rgb(0, 187, 0)\"><span class=\"ansi-green-fg\">∑(@a : { (@a → Zero) }</span></span>,\n",
       "          <span style=\"color: rgb(0, 187, 0)\"><span class=\"ansi-green-fg\">0.5</span></span>,\n",
       "          <span style=\"color: yellow\"><span class=\"ansi-yellow-fg\">FiniteDistribution</span></span>(\n",
       "            <span style=\"color: yellow\"><span class=\"ansi-yellow-fg\">Vector</span></span>(\n",
       "              <span style=\"color: yellow\"><span class=\"ansi-yellow-fg\">Weighted</span></span>(<span style=\"color: rgb(0, 187, 0)\"><span class=\"ansi-green-fg\">(Zero , rec_{ Zero ; Zero })</span></span>, <span style=\"color: rgb(0, 187, 0)\"><span class=\"ansi-green-fg\">0.01127994556862484</span></span>),\n",
       "              <span style=\"color: yellow\"><span class=\"ansi-yellow-fg\">Weighted</span></span>(<span style=\"color: rgb(0, 187, 0)\"><span class=\"ansi-green-fg\">(Zero , (@a : Zero) ↦ @a)</span></span>, <span style=\"color: rgb(0, 187, 0)\"><span class=\"ansi-green-fg\">0.00974783102948558</span></span>)\n",
       "            )\n",
       "          )\n",
       "        )\n",
       "      ),\n",
       "      <span style=\"color: yellow\"><span class=\"ansi-yellow-fg\">Vector</span></span>(\n",
       "        (\n",
       "          <span style=\"color: rgb(0, 187, 0)\"><span class=\"ansi-green-fg\">∑(@a : { @a }</span></span>,\n",
       "          <span style=\"color: rgb(0, 187, 0)\"><span class=\"ansi-green-fg\">0.5</span></span>,\n",
       "          <span style=\"color: yellow\"><span class=\"ansi-yellow-fg\">FiniteDistribution</span></span>(\n",
       "            <span style=\"color: yellow\"><span class=\"ansi-yellow-fg\">Vector</span></span>(<span style=\"color: yellow\"><span class=\"ansi-yellow-fg\">Weighted</span></span>(<span style=\"color: rgb(0, 187, 0)\"><span class=\"ansi-green-fg\">(Unit , Star)</span></span>, <span style=\"color: rgb(0, 187, 0)\"><span class=\"ansi-green-fg\">0.01970769689870014</span></span>))\n",
       "          )\n",
       "        )\n",
       "      ),\n",
       "      <span style=\"color: yellow\"><span class=\"ansi-yellow-fg\">Vector</span></span>(\n",
       "        (\n",
       "          <span style=\"color: rgb(0, 187, 0)\"><span class=\"ansi-green-fg\">((𝒰  → 𝒰 ) → 𝒰 )</span></span>,\n",
       "          <span style=\"color: rgb(0, 187, 0)\"><span class=\"ansi-green-fg\">0.5</span></span>,\n",
       "          <span style=\"color: yellow\"><span class=\"ansi-yellow-fg\">FiniteDistribution</span></span>(\n",
       "            <span style=\"color: yellow\"><span class=\"ansi-yellow-fg\">Vector</span></span>(\n",
       "              <span style=\"color: yellow\"><span class=\"ansi-yellow-fg\">Weighted</span></span>(<span style=\"color: rgb(0, 187, 0)\"><span class=\"ansi-green-fg\">(@a : (𝒰  → 𝒰 )) ↦ @a(@a(Zero))</span></span>, <span style=\"color: rgb(0, 187, 0)\"><span class=\"ansi-green-fg\">0.003035898473921898</span></span>),\n",
       "              <span style=\"color: yellow\"><span class=\"ansi-yellow-fg\">Weighted</span></span>(<span style=\"color: rgb(0, 187, 0)\"><span class=\"ansi-green-fg\">(@a : (𝒰  → 𝒰 )) ↦ Zero</span></span>, <span style=\"color: rgb(0, 187, 0)\"><span class=\"ansi-green-fg\">0.004434521334908531</span></span>),\n",
       "              <span style=\"color: yellow\"><span class=\"ansi-yellow-fg\">Weighted</span></span>(<span style=\"color: rgb(0, 187, 0)\"><span class=\"ansi-green-fg\">(@a : (𝒰  → 𝒰 )) ↦ Unit</span></span>, <span style=\"color: rgb(0, 187, 0)\"><span class=\"ansi-green-fg\">0.004434521334908531</span></span>),\n",
       "              <span style=\"color: yellow\"><span class=\"ansi-yellow-fg\">Weighted</span></span>(<span style=\"color: rgb(0, 187, 0)\"><span class=\"ansi-green-fg\">(@a : (𝒰  → 𝒰 )) ↦ @a(Zero)</span></span>, <span style=\"color: rgb(0, 187, 0)\"><span class=\"ansi-green-fg\">0.0030950013985154468</span></span>),\n",
       "              <span style=\"color: yellow\"><span class=\"ansi-yellow-fg\">Weighted</span></span>(<span style=\"color: rgb(0, 187, 0)\"><span class=\"ansi-green-fg\">(@a : (𝒰  → 𝒰 )) ↦ @a(@a(Unit))</span></span>, <span style=\"color: rgb(0, 187, 0)\"><span class=\"ansi-green-fg\">0.003035898473921898</span></span>),\n",
       "              <span style=\"color: yellow\"><span class=\"ansi-yellow-fg\">Weighted</span></span>(<span style=\"color: rgb(0, 187, 0)\"><span class=\"ansi-green-fg\">(@a : (𝒰  → 𝒰 )) ↦ @a(Unit)</span></span>, <span style=\"color: rgb(0, 187, 0)\"><span class=\"ansi-green-fg\">0.0030950013985154468</span></span>)\n",
       "            )\n",
       "          )\n",
       "        )\n",
       "...</span></span></span></code></pre>\n",
       "</div>"
      ],
      "text/plain": [
       "\u001b[36mchF\u001b[39m: \u001b[32mmonix\u001b[39m.\u001b[32mexecution\u001b[39m.\u001b[32mCancelableFuture\u001b[39m[(\u001b[32mVector\u001b[39m[\u001b[32mSuccesses\u001b[39m], \u001b[32mSet\u001b[39m[\u001b[32mEquationNode\u001b[39m], \u001b[32mVector\u001b[39m[\u001b[32mTyp\u001b[39m[\u001b[32mTerm\u001b[39m]])] = \u001b[32m\u001b[33mSuccess\u001b[39m(\n",
       "  (\n",
       "    \u001b[33mVector\u001b[39m(\n",
       "      \u001b[33mVector\u001b[39m(\n",
       "        (\n",
       "          \u001b[32m∑(@a : { (@a → Zero) }\u001b[39m,\n",
       "          \u001b[32m0.5\u001b[39m,\n",
       "          \u001b[33mFiniteDistribution\u001b[39m(\n",
       "            \u001b[33mVector\u001b[39m(\n",
       "              \u001b[33mWeighted\u001b[39m(\u001b[32m(Zero , rec_{ Zero ; Zero })\u001b[39m, \u001b[32m0.01127994556862484\u001b[39m),\n",
       "              \u001b[33mWeighted\u001b[39m(\u001b[32m(Zero , (@a : Zero) ↦ @a)\u001b[39m, \u001b[32m0.00974783102948558\u001b[39m)\n",
       "            )\n",
       "          )\n",
       "        )\n",
       "      ),\n",
       "      \u001b[33mVector\u001b[39m(\n",
       "        (\n",
       "          \u001b[32m∑(@a : { @a }\u001b[39m,\n",
       "          \u001b[32m0.5\u001b[39m,\n",
       "          \u001b[33mFiniteDistribution\u001b[39m(\n",
       "            \u001b[33mVector\u001b[39m(\u001b[33mWeighted\u001b[39m(\u001b[32m(Unit , Star)\u001b[39m, \u001b[32m0.01970769689870014\u001b[39m))\n",
       "          )\n",
       "        )\n",
       "      ),\n",
       "      \u001b[33mVector\u001b[39m(\n",
       "        (\n",
       "          \u001b[32m((𝒰  → 𝒰 ) → 𝒰 )\u001b[39m,\n",
       "          \u001b[32m0.5\u001b[39m,\n",
       "          \u001b[33mFiniteDistribution\u001b[39m(\n",
       "            \u001b[33mVector\u001b[39m(\n",
       "              \u001b[33mWeighted\u001b[39m(\u001b[32m(@a : (𝒰  → 𝒰 )) ↦ @a(@a(Zero))\u001b[39m, \u001b[32m0.003035898473921898\u001b[39m),\n",
       "              \u001b[33mWeighted\u001b[39m(\u001b[32m(@a : (𝒰  → 𝒰 )) ↦ Zero\u001b[39m, \u001b[32m0.004434521334908531\u001b[39m),\n",
       "              \u001b[33mWeighted\u001b[39m(\u001b[32m(@a : (𝒰  → 𝒰 )) ↦ Unit\u001b[39m, \u001b[32m0.004434521334908531\u001b[39m),\n",
       "              \u001b[33mWeighted\u001b[39m(\u001b[32m(@a : (𝒰  → 𝒰 )) ↦ @a(Zero)\u001b[39m, \u001b[32m0.0030950013985154468\u001b[39m),\n",
       "              \u001b[33mWeighted\u001b[39m(\u001b[32m(@a : (𝒰  → 𝒰 )) ↦ @a(@a(Unit))\u001b[39m, \u001b[32m0.003035898473921898\u001b[39m),\n",
       "              \u001b[33mWeighted\u001b[39m(\u001b[32m(@a : (𝒰  → 𝒰 )) ↦ @a(Unit)\u001b[39m, \u001b[32m0.0030950013985154468\u001b[39m)\n",
       "            )\n",
       "          )\n",
       "        )\n",
       "...\u001b[39m"
      ]
     },
     "metadata": {},
     "output_type": "display_data"
    }
   ],
   "source": [
    "val chF = chT.runToFuture"
   ]
  },
  {
   "cell_type": "code",
   "execution_count": 27,
   "metadata": {},
   "outputs": [
    {
     "data": {
      "text/html": [
       "<div class=\"jp-RenderedText\">\n",
       "<pre><code><span style=\"color: rgb(0, 187, 187)\"><span class=\"ansi-cyan-fg\">res26_0</span></span>: <span style=\"color: rgb(0, 187, 0)\"><span class=\"ansi-green-fg\">Option</span></span>[<span style=\"color: rgb(0, 187, 0)\"><span class=\"ansi-green-fg\">Typ</span></span>[<span style=\"color: rgb(0, 187, 0)\"><span class=\"ansi-green-fg\">Term</span></span>]] = <span style=\"color: yellow\"><span class=\"ansi-yellow-fg\">Some</span></span>(<span style=\"color: rgb(0, 187, 0)\"><span class=\"ansi-green-fg\">(𝒰  → ∏(@b : 𝒰 ){ @b }×𝒰 )</span></span>)\n",
       "<span style=\"color: rgb(0, 187, 187)\"><span class=\"ansi-cyan-fg\">res26_1</span></span>: <span style=\"color: rgb(0, 187, 0)\"><span class=\"ansi-green-fg\">Int</span></span> = <span style=\"color: rgb(0, 187, 0)\"><span class=\"ansi-green-fg\">45</span></span>\n",
       "<span style=\"color: rgb(0, 187, 187)\"><span class=\"ansi-cyan-fg\">res26_2</span></span>: <span style=\"color: rgb(0, 187, 0)\"><span class=\"ansi-green-fg\">monix</span></span>.<span style=\"color: rgb(0, 187, 0)\"><span class=\"ansi-green-fg\">execution</span></span>.<span style=\"color: rgb(0, 187, 0)\"><span class=\"ansi-green-fg\">CancelableFuture</span></span>[<span style=\"color: rgb(0, 187, 0)\"><span class=\"ansi-green-fg\">Int</span></span>] = <span style=\"color: rgb(0, 187, 0)\"><span class=\"ansi-green-fg\"><span style=\"color: yellow\"><span class=\"ansi-yellow-fg\">Success</span></span>(<span style=\"color: rgb(0, 187, 0)\"><span class=\"ansi-green-fg\">213</span></span>)</span></span>\n",
       "<span style=\"color: rgb(0, 187, 187)\"><span class=\"ansi-cyan-fg\">res26_3</span></span>: <span style=\"color: rgb(0, 187, 0)\"><span class=\"ansi-green-fg\">collection</span></span>.<span style=\"color: rgb(0, 187, 0)\"><span class=\"ansi-green-fg\">mutable</span></span>.<span style=\"color: rgb(0, 187, 0)\"><span class=\"ansi-green-fg\">ArrayBuffer</span></span>[<span style=\"color: rgb(0, 187, 0)\"><span class=\"ansi-green-fg\">Successes</span></span>] = <span style=\"color: yellow\"><span class=\"ansi-yellow-fg\">ArrayBuffer</span></span>(\n",
       "  <span style=\"color: yellow\"><span class=\"ansi-yellow-fg\">Vector</span></span>(\n",
       "    (\n",
       "      <span style=\"color: rgb(0, 187, 0)\"><span class=\"ansi-green-fg\">∑(@a : { ((@a → 𝒰 ) → 𝒰 ) }</span></span>,\n",
       "      <span style=\"color: rgb(0, 187, 0)\"><span class=\"ansi-green-fg\">0.5</span></span>,\n",
       "      <span style=\"color: yellow\"><span class=\"ansi-yellow-fg\">FiniteDistribution</span></span>(\n",
       "        <span style=\"color: yellow\"><span class=\"ansi-yellow-fg\">Vector</span></span>(\n",
       "          <span style=\"color: yellow\"><span class=\"ansi-yellow-fg\">Weighted</span></span>(<span style=\"color: rgb(0, 187, 0)\"><span class=\"ansi-green-fg\">(Unit , (@a : (Unit → 𝒰 )) ↦ Unit)</span></span>, <span style=\"color: rgb(0, 187, 0)\"><span class=\"ansi-green-fg\">0.0017689974386958546</span></span>),\n",
       "          <span style=\"color: yellow\"><span class=\"ansi-yellow-fg\">Weighted</span></span>(<span style=\"color: rgb(0, 187, 0)\"><span class=\"ansi-green-fg\">(Zero , (@a : (Zero → 𝒰 )) ↦ Unit)</span></span>, <span style=\"color: rgb(0, 187, 0)\"><span class=\"ansi-green-fg\">0.0048710728543803405</span></span>),\n",
       "          <span style=\"color: yellow\"><span class=\"ansi-yellow-fg\">Weighted</span></span>(\n",
       "            <span style=\"color: rgb(0, 187, 0)\"><span class=\"ansi-green-fg\">(Unit , (@a : (Unit → 𝒰 )) ↦ @a(Star))</span></span>,\n",
       "            <span style=\"color: rgb(0, 187, 0)\"><span class=\"ansi-green-fg\">0.0062041508313689705</span></span>\n",
       "          ),\n",
       "          <span style=\"color: yellow\"><span class=\"ansi-yellow-fg\">Weighted</span></span>(<span style=\"color: rgb(0, 187, 0)\"><span class=\"ansi-green-fg\">(Unit , (@a : (Unit → 𝒰 )) ↦ Zero)</span></span>, <span style=\"color: rgb(0, 187, 0)\"><span class=\"ansi-green-fg\">0.0017689974386958546</span></span>),\n",
       "          <span style=\"color: yellow\"><span class=\"ansi-yellow-fg\">Weighted</span></span>(<span style=\"color: rgb(0, 187, 0)\"><span class=\"ansi-green-fg\">(Zero , (@a : (Zero → 𝒰 )) ↦ Zero)</span></span>, <span style=\"color: rgb(0, 187, 0)\"><span class=\"ansi-green-fg\">0.0048710728543803405</span></span>)\n",
       "        )\n",
       "      )\n",
       "    )\n",
       "  ),\n",
       "  <span style=\"color: yellow\"><span class=\"ansi-yellow-fg\">Vector</span></span>(\n",
       "    (\n",
       "      <span style=\"color: rgb(0, 187, 0)\"><span class=\"ansi-green-fg\">∑(@a : { ∑(@a : { (@a(@a) → Zero) } }</span></span>,\n",
       "      <span style=\"color: rgb(0, 187, 0)\"><span class=\"ansi-green-fg\">0.5</span></span>,\n",
       "      <span style=\"color: yellow\"><span class=\"ansi-yellow-fg\">FiniteDistribution</span></span>(\n",
       "        <span style=\"color: yellow\"><span class=\"ansi-yellow-fg\">Vector</span></span>(\n",
       "          <span style=\"color: yellow\"><span class=\"ansi-yellow-fg\">Weighted</span></span>(\n",
       "            <span style=\"color: rgb(0, 187, 0)\"><span class=\"ansi-green-fg\">((@a : 𝒰 ) ↦ @a , (Zero , (@a : Zero) ↦ @a))</span></span>,\n",
       "            <span style=\"color: rgb(0, 187, 0)\"><span class=\"ansi-green-fg\">0.005479956961177879</span></span>\n",
       "          ),\n",
       "          <span style=\"color: yellow\"><span class=\"ansi-yellow-fg\">Weighted</span></span>(\n",
       "            <span style=\"color: rgb(0, 187, 0)\"><span class=\"ansi-green-fg\">((@a : 𝒰 ) ↦ Zero , (Unit , (@a : Zero) ↦ @a))</span></span>,\n",
       "            <span style=\"color: rgb(0, 187, 0)\"><span class=\"ansi-green-fg\">0.0021310943737913968</span></span>\n",
       "          ),\n",
       "          <span style=\"color: yellow\"><span class=\"ansi-yellow-fg\">Weighted</span></span>(\n",
       "            <span style=\"color: rgb(0, 187, 0)\"><span class=\"ansi-green-fg\">((@a : 𝒰 ) ↦ Zero , (Zero , rec_{ Zero ; Zero }))</span></span>,\n",
       "            <span style=\"color: rgb(0, 187, 0)\"><span class=\"ansi-green-fg\">0.0021310943737913968</span></span>\n",
       "          ),\n",
       "          <span style=\"color: yellow\"><span class=\"ansi-yellow-fg\">Weighted</span></span>(\n",
       "            <span style=\"color: rgb(0, 187, 0)\"><span class=\"ansi-green-fg\">((@a : 𝒰 ) ↦ Zero , (Unit , rec_{ Zero ; Zero }))</span></span>,\n",
       "...</code></pre>\n",
       "</div>"
      ],
      "text/plain": [
       "\u001b[36mres26_0\u001b[39m: \u001b[32mOption\u001b[39m[\u001b[32mTyp\u001b[39m[\u001b[32mTerm\u001b[39m]] = \u001b[33mSome\u001b[39m(\u001b[32m(𝒰  → ∏(@b : 𝒰 ){ @b }×𝒰 )\u001b[39m)\n",
       "\u001b[36mres26_1\u001b[39m: \u001b[32mInt\u001b[39m = \u001b[32m45\u001b[39m\n",
       "\u001b[36mres26_2\u001b[39m: \u001b[32mmonix\u001b[39m.\u001b[32mexecution\u001b[39m.\u001b[32mCancelableFuture\u001b[39m[\u001b[32mInt\u001b[39m] = \u001b[32m\u001b[33mSuccess\u001b[39m(\u001b[32m213\u001b[39m)\u001b[39m\n",
       "\u001b[36mres26_3\u001b[39m: \u001b[32mcollection\u001b[39m.\u001b[32mmutable\u001b[39m.\u001b[32mArrayBuffer\u001b[39m[\u001b[32mSuccesses\u001b[39m] = \u001b[33mArrayBuffer\u001b[39m(\n",
       "  \u001b[33mVector\u001b[39m(\n",
       "    (\n",
       "      \u001b[32m∑(@a : { ((@a → 𝒰 ) → 𝒰 ) }\u001b[39m,\n",
       "      \u001b[32m0.5\u001b[39m,\n",
       "      \u001b[33mFiniteDistribution\u001b[39m(\n",
       "        \u001b[33mVector\u001b[39m(\n",
       "          \u001b[33mWeighted\u001b[39m(\u001b[32m(Unit , (@a : (Unit → 𝒰 )) ↦ Unit)\u001b[39m, \u001b[32m0.0017689974386958546\u001b[39m),\n",
       "          \u001b[33mWeighted\u001b[39m(\u001b[32m(Zero , (@a : (Zero → 𝒰 )) ↦ Unit)\u001b[39m, \u001b[32m0.0048710728543803405\u001b[39m),\n",
       "          \u001b[33mWeighted\u001b[39m(\n",
       "            \u001b[32m(Unit , (@a : (Unit → 𝒰 )) ↦ @a(Star))\u001b[39m,\n",
       "            \u001b[32m0.0062041508313689705\u001b[39m\n",
       "          ),\n",
       "          \u001b[33mWeighted\u001b[39m(\u001b[32m(Unit , (@a : (Unit → 𝒰 )) ↦ Zero)\u001b[39m, \u001b[32m0.0017689974386958546\u001b[39m),\n",
       "          \u001b[33mWeighted\u001b[39m(\u001b[32m(Zero , (@a : (Zero → 𝒰 )) ↦ Zero)\u001b[39m, \u001b[32m0.0048710728543803405\u001b[39m)\n",
       "        )\n",
       "      )\n",
       "    )\n",
       "  ),\n",
       "  \u001b[33mVector\u001b[39m(\n",
       "    (\n",
       "      \u001b[32m∑(@a : { ∑(@a : { (@a(@a) → Zero) } }\u001b[39m,\n",
       "      \u001b[32m0.5\u001b[39m,\n",
       "      \u001b[33mFiniteDistribution\u001b[39m(\n",
       "        \u001b[33mVector\u001b[39m(\n",
       "          \u001b[33mWeighted\u001b[39m(\n",
       "            \u001b[32m((@a : 𝒰 ) ↦ @a , (Zero , (@a : Zero) ↦ @a))\u001b[39m,\n",
       "            \u001b[32m0.005479956961177879\u001b[39m\n",
       "          ),\n",
       "          \u001b[33mWeighted\u001b[39m(\n",
       "            \u001b[32m((@a : 𝒰 ) ↦ Zero , (Unit , (@a : Zero) ↦ @a))\u001b[39m,\n",
       "            \u001b[32m0.0021310943737913968\u001b[39m\n",
       "          ),\n",
       "          \u001b[33mWeighted\u001b[39m(\n",
       "            \u001b[32m((@a : 𝒰 ) ↦ Zero , (Zero , rec_{ Zero ; Zero }))\u001b[39m,\n",
       "            \u001b[32m0.0021310943737913968\u001b[39m\n",
       "          ),\n",
       "          \u001b[33mWeighted\u001b[39m(\n",
       "            \u001b[32m((@a : 𝒰 ) ↦ Zero , (Unit , rec_{ Zero ; Zero }))\u001b[39m,\n",
       "..."
      ]
     },
     "metadata": {},
     "output_type": "display_data"
    }
   ],
   "source": [
    "currentGoal\n",
    "successes.size\n",
    "unF.map(_.size)\n",
    "successes.reverse"
   ]
  },
  {
   "cell_type": "code",
   "execution_count": 21,
   "metadata": {},
   "outputs": [],
   "source": [
    "chF.foreach(s => chompView.withContent(s\"## Goal chomping done\\n\\n * chomped: ${successes.size}\").update())"
   ]
  },
  {
   "cell_type": "code",
   "execution_count": 29,
   "metadata": {},
   "outputs": [
    {
     "data": {
      "text/plain": [
       "\u001b[36mres28\u001b[39m: \u001b[32mOption\u001b[39m[\u001b[32mscala\u001b[39m.\u001b[32mutil\u001b[39m.\u001b[32mTry\u001b[39m[(\u001b[32mVector\u001b[39m[\u001b[32mSuccesses\u001b[39m], \u001b[32mSet\u001b[39m[\u001b[32mEquationNode\u001b[39m], \u001b[32mVector\u001b[39m[\u001b[32mTyp\u001b[39m[\u001b[32mTerm\u001b[39m]])]] = \u001b[33mSome\u001b[39m(\n",
       "  \u001b[33mSuccess\u001b[39m(\n",
       "    (\n",
       "      \u001b[33mVector\u001b[39m(\n",
       "        \u001b[33mVector\u001b[39m(\n",
       "          (\n",
       "            \u001b[32m∑(@a : { (@a → Zero) }\u001b[39m,\n",
       "            \u001b[32m0.5\u001b[39m,\n",
       "            \u001b[33mFiniteDistribution\u001b[39m(\n",
       "              \u001b[33mVector\u001b[39m(\n",
       "                \u001b[33mWeighted\u001b[39m(\u001b[32m(Zero , rec_{ Zero ; Zero })\u001b[39m, \u001b[32m0.01127994556862484\u001b[39m),\n",
       "                \u001b[33mWeighted\u001b[39m(\u001b[32m(Zero , (@a : Zero) ↦ @a)\u001b[39m, \u001b[32m0.00974783102948558\u001b[39m)\n",
       "              )\n",
       "            )\n",
       "          )\n",
       "        ),\n",
       "        \u001b[33mVector\u001b[39m(\n",
       "          (\n",
       "            \u001b[32m∑(@a : { @a }\u001b[39m,\n",
       "            \u001b[32m0.5\u001b[39m,\n",
       "            \u001b[33mFiniteDistribution\u001b[39m(\n",
       "              \u001b[33mVector\u001b[39m(\u001b[33mWeighted\u001b[39m(\u001b[32m(Unit , Star)\u001b[39m, \u001b[32m0.01970769689870014\u001b[39m))\n",
       "            )\n",
       "          )\n",
       "        ),\n",
       "        \u001b[33mVector\u001b[39m(\n",
       "          (\n",
       "            \u001b[32m((𝒰  → 𝒰 ) → 𝒰 )\u001b[39m,\n",
       "            \u001b[32m0.5\u001b[39m,\n",
       "            \u001b[33mFiniteDistribution\u001b[39m(\n",
       "              \u001b[33mVector\u001b[39m(\n",
       "                \u001b[33mWeighted\u001b[39m(\n",
       "                  \u001b[32m(@a : (𝒰  → 𝒰 )) ↦ @a(@a(Zero))\u001b[39m,\n",
       "                  \u001b[32m0.003035898473921898\u001b[39m\n",
       "                ),\n",
       "                \u001b[33mWeighted\u001b[39m(\u001b[32m(@a : (𝒰  → 𝒰 )) ↦ Zero\u001b[39m, \u001b[32m0.004434521334908531\u001b[39m),\n",
       "                \u001b[33mWeighted\u001b[39m(\u001b[32m(@a : (𝒰  → 𝒰 )) ↦ Unit\u001b[39m, \u001b[32m0.004434521334908531\u001b[39m),\n",
       "                \u001b[33mWeighted\u001b[39m(\u001b[32m(@a : (𝒰  → 𝒰 )) ↦ @a(Zero)\u001b[39m, \u001b[32m0.0030950013985154468\u001b[39m),\n",
       "..."
      ]
     },
     "execution_count": 29,
     "metadata": {},
     "output_type": "execute_result"
    }
   ],
   "source": [
    "chF.value"
   ]
  },
  {
   "cell_type": "code",
   "execution_count": 30,
   "metadata": {},
   "outputs": [
    {
     "data": {
      "text/html": [
       "<div class=\"jp-RenderedText\">\n",
       "<pre><code><span style=\"color: rgb(0, 187, 187)\"><span class=\"ansi-cyan-fg\">res29</span></span>: <span style=\"color: rgb(0, 187, 0)\"><span class=\"ansi-green-fg\">monix</span></span>.<span style=\"color: rgb(0, 187, 0)\"><span class=\"ansi-green-fg\">execution</span></span>.<span style=\"color: rgb(0, 187, 0)\"><span class=\"ansi-green-fg\">CancelableFuture</span></span>[<span style=\"color: rgb(0, 187, 0)\"><span class=\"ansi-green-fg\">Option</span></span>[<span style=\"color: rgb(0, 187, 0)\"><span class=\"ansi-green-fg\">Typ</span></span>[<span style=\"color: rgb(0, 187, 0)\"><span class=\"ansi-green-fg\">Term</span></span>]]] = <span style=\"color: rgb(0, 187, 0)\"><span class=\"ansi-green-fg\"><span style=\"color: yellow\"><span class=\"ansi-yellow-fg\">Success</span></span>(<span style=\"color: yellow\"><span class=\"ansi-yellow-fg\">Some</span></span>(<span style=\"color: rgb(0, 187, 0)\"><span class=\"ansi-green-fg\">(𝒰  → ∏(@b : 𝒰 ){ @b }×𝒰 )</span></span>))</span></span></code></pre>\n",
       "</div>"
      ],
      "text/plain": [
       "\u001b[36mres29\u001b[39m: \u001b[32mmonix\u001b[39m.\u001b[32mexecution\u001b[39m.\u001b[32mCancelableFuture\u001b[39m[\u001b[32mOption\u001b[39m[\u001b[32mTyp\u001b[39m[\u001b[32mTerm\u001b[39m]]] = \u001b[32m\u001b[33mSuccess\u001b[39m(\u001b[33mSome\u001b[39m(\u001b[32m(𝒰  → ∏(@b : 𝒰 ){ @b }×𝒰 )\u001b[39m))\u001b[39m"
      ]
     },
     "metadata": {},
     "output_type": "display_data"
    }
   ],
   "source": [
    "chF.map(_._3.headOption)"
   ]
  },
  {
   "cell_type": "markdown",
   "metadata": {},
   "source": [
    "## Conclusions\n",
    "\n",
    "* Plenty of goals were chomped until the first failure.\n",
    "* The failure could be avoided by strategic backward reasoning.\n",
    "* Learning would also probably avoid this.\n",
    "* For a better test, we should run a liberal chomper that keeps going till there are no unknowns left, recroding both successes and failures."
   ]
  }
 ],
 "metadata": {
  "kernelspec": {
   "display_name": "Scala",
   "language": "scala",
   "name": "scala"
  },
  "language_info": {
   "codemirror_mode": "text/x-scala",
   "file_extension": ".scala",
   "mimetype": "text/x-scala",
   "name": "scala",
   "nbconvert_exporter": "script",
   "version": "2.12.8"
  }
 },
 "nbformat": 4,
 "nbformat_minor": 2
}
