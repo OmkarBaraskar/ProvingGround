{
 "cells": [
  {
   "cell_type": "markdown",
   "metadata": {},
   "source": [
    "## Testing export and normalization of isles\n",
    "\n",
    "This is a simplified version, by raising cutoffs and sharpening decays.\n",
    "\n",
    "When we have variables such as $A: Type$, $a : A$ and $B: Type$, we test whether we correctly:\n",
    "\n",
    "* export equations, so that variables end up in islands\n",
    "* normalize isle names.\n",
    "\n",
    "This time the test is more refined. Namely,\n",
    "\n",
    "* We generate with the equations after exporting and just $Type$ as the initial distribution.\n",
    "* We check that all terms are independent of the variables.\n",
    "* Generate with equations after normalization.\n",
    "* Make the same tests.\n",
    "* Also test if the distribution after normalization is approximately the same as before."
   ]
  },
  {
   "cell_type": "code",
   "execution_count": 1,
   "metadata": {},
   "outputs": [
    {
     "data": {
      "text/plain": [
       "\u001b[32mimport \u001b[39m\u001b[36m$cp.$                                              \n",
       "\u001b[39m\n",
       "\u001b[32mimport \u001b[39m\u001b[36mprovingground._ , interface._, HoTT._, learning._ \n",
       "\u001b[39m"
      ]
     },
     "execution_count": 1,
     "metadata": {},
     "output_type": "execute_result"
    }
   ],
   "source": [
    "import $cp.bin.`provingground-core-jvm-b17f79ea57.fat.jar`\n",
    "import provingground._ , interface._, HoTT._, learning._ \n",
    "repl.pprinter() = {\n",
    "  val p = repl.pprinter()\n",
    "  p.copy(\n",
    "    additionalHandlers = p.additionalHandlers.orElse {\n",
    "      translation.FansiShow.fansiHandler\n",
    "    }\n",
    "  )\n",
    "}\n"
   ]
  },
  {
   "cell_type": "code",
   "execution_count": 2,
   "metadata": {},
   "outputs": [
    {
     "data": {
      "text/plain": [
       "\u001b[36mA\u001b[39m: \u001b[32mTyp\u001b[39m[\u001b[32mTerm\u001b[39m] = \u001b[32mA\u001b[39m\n",
       "\u001b[36mB\u001b[39m: \u001b[32mTyp\u001b[39m[\u001b[32mTerm\u001b[39m] = \u001b[32mB\u001b[39m\n",
       "\u001b[36ma\u001b[39m: \u001b[32mTerm\u001b[39m = \u001b[32ma\u001b[39m\n",
       "\u001b[36mts\u001b[39m: \u001b[32mTermState\u001b[39m = \u001b[33mTermState\u001b[39m(\n",
       "  \u001b[33mFiniteDistribution\u001b[39m(\u001b[33mVector\u001b[39m(\u001b[33mWeighted\u001b[39m(\u001b[32ma\u001b[39m, \u001b[32m1.0\u001b[39m))),\n",
       "  \u001b[33mFiniteDistribution\u001b[39m(\u001b[33mVector\u001b[39m(\u001b[33mWeighted\u001b[39m(\u001b[32mA\u001b[39m, \u001b[32m0.5\u001b[39m), \u001b[33mWeighted\u001b[39m(\u001b[32mB\u001b[39m, \u001b[32m0.5\u001b[39m))),\n",
       "  \u001b[33mVector\u001b[39m(\u001b[32mA\u001b[39m, \u001b[32mB\u001b[39m, \u001b[32ma\u001b[39m),\n",
       "  \u001b[33mFiniteDistribution\u001b[39m(\u001b[33mVector\u001b[39m()),\n",
       "  \u001b[33mFiniteDistribution\u001b[39m(\u001b[33mVector\u001b[39m()),\n",
       "  \u001b[33mAppendVariable\u001b[39m(\u001b[33mAppendVariable\u001b[39m(\u001b[33mAppendVariable\u001b[39m(Empty, \u001b[32mA\u001b[39m), \u001b[32mB\u001b[39m), \u001b[32ma\u001b[39m)\n",
       ")"
      ]
     },
     "execution_count": 2,
     "metadata": {},
     "output_type": "execute_result"
    }
   ],
   "source": [
    "val A = \"A\" :: Type\n",
    "val B = \"B\" :: Type\n",
    "val a = \"a\" :: A\n",
    "val ts = TermState(FiniteDistribution.unif(a), FiniteDistribution.unif(A, B), vars = Vector(A, B, a), context = Context.Empty.addVariable(A).addVariable(B).addVariable(a))"
   ]
  },
  {
   "cell_type": "code",
   "execution_count": 3,
   "metadata": {},
   "outputs": [
    {
     "data": {
      "text/plain": [
       "\u001b[36mlp\u001b[39m: \u001b[32mLocalProver\u001b[39m = \u001b[33mLocalProver\u001b[39m(\n",
       "  \u001b[33mTermState\u001b[39m(\n",
       "    \u001b[33mFiniteDistribution\u001b[39m(\u001b[33mVector\u001b[39m(\u001b[33mWeighted\u001b[39m(\u001b[32ma\u001b[39m, \u001b[32m1.0\u001b[39m))),\n",
       "    \u001b[33mFiniteDistribution\u001b[39m(\u001b[33mVector\u001b[39m(\u001b[33mWeighted\u001b[39m(\u001b[32mA\u001b[39m, \u001b[32m0.5\u001b[39m), \u001b[33mWeighted\u001b[39m(\u001b[32mB\u001b[39m, \u001b[32m0.5\u001b[39m))),\n",
       "    \u001b[33mVector\u001b[39m(\u001b[32mA\u001b[39m, \u001b[32mB\u001b[39m, \u001b[32ma\u001b[39m),\n",
       "    \u001b[33mFiniteDistribution\u001b[39m(\u001b[33mVector\u001b[39m()),\n",
       "    \u001b[33mFiniteDistribution\u001b[39m(\u001b[33mVector\u001b[39m()),\n",
       "    \u001b[33mAppendVariable\u001b[39m(\u001b[33mAppendVariable\u001b[39m(\u001b[33mAppendVariable\u001b[39m(Empty, \u001b[32mA\u001b[39m), \u001b[32mB\u001b[39m), \u001b[32ma\u001b[39m)\n",
       "  ),\n",
       "  \u001b[33mTermGenParams\u001b[39m(\n",
       "    \u001b[32m0.1\u001b[39m,\n",
       "    \u001b[32m0.1\u001b[39m,\n",
       "    \u001b[32m0.1\u001b[39m,\n",
       "    \u001b[32m0.1\u001b[39m,\n",
       "    \u001b[32m0.1\u001b[39m,\n",
       "    \u001b[32m0.05\u001b[39m,\n",
       "    \u001b[32m0.05\u001b[39m,\n",
       "    \u001b[32m0.05\u001b[39m,\n",
       "    \u001b[32m0.0\u001b[39m,\n",
       "    \u001b[32m0.0\u001b[39m,\n",
       "    \u001b[32m0.0\u001b[39m,\n",
       "    \u001b[32m0.0\u001b[39m,\n",
       "    \u001b[32m0.3\u001b[39m,\n",
       "    \u001b[32m0.7\u001b[39m,\n",
       "    \u001b[32m0.5\u001b[39m,\n",
       "    \u001b[32m0.0\u001b[39m,\n",
       "    \u001b[32m0.0\u001b[39m,\n",
       "    \u001b[32m0.0\u001b[39m,\n",
       "    \u001b[33mOrElse\u001b[39m(\n",
       "      \u001b[33mOrElse\u001b[39m(\u001b[33mOrElse\u001b[39m(\u001b[33mOrElse\u001b[39m(<function1>, <function1>), <function1>), <function1>),\n",
       "      <function1>\n",
       "    )\n",
       "  ),\n",
       "  \u001b[32m1.0E-4\u001b[39m,\n",
       "  \u001b[32mNone\u001b[39m,\n",
       "  12 minutes,\n",
       "  \u001b[32m1.01\u001b[39m,\n",
       "  \u001b[32m1.0\u001b[39m,\n",
       "..."
      ]
     },
     "execution_count": 3,
     "metadata": {},
     "output_type": "execute_result"
    }
   ],
   "source": [
    "val lp = LocalProver(ts)"
   ]
  },
  {
   "cell_type": "code",
   "execution_count": 4,
   "metadata": {},
   "outputs": [
    {
     "data": {
      "text/plain": [
       "\u001b[36mres3_0\u001b[39m: \u001b[32mVector\u001b[39m[\u001b[32mTerm\u001b[39m] = \u001b[33mVector\u001b[39m(\u001b[32mA\u001b[39m, \u001b[32mB\u001b[39m, \u001b[32ma\u001b[39m)\n",
       "\u001b[32mimport \u001b[39m\u001b[36mTermData._\n",
       "\u001b[39m\n",
       "\u001b[36mdatT\u001b[39m: \u001b[32mmonix\u001b[39m.\u001b[32meval\u001b[39m.\u001b[32mTask\u001b[39m[(\u001b[32mTermState\u001b[39m, \u001b[32mSet\u001b[39m[\u001b[32mEquationNode\u001b[39m])] = \u001b[33mFlatMap\u001b[39m(\n",
       "  \u001b[33mAsync\u001b[39m(<function2>, false, true, true),\n",
       "  provingground.learning.TermData$$$Lambda$2565/339281181@523fc4f3\n",
       ")"
      ]
     },
     "execution_count": 4,
     "metadata": {},
     "output_type": "execute_result"
    }
   ],
   "source": [
    "ts.vars\n",
    "import TermData._\n",
    "val datT = termData(lp)"
   ]
  },
  {
   "cell_type": "code",
   "execution_count": 5,
   "metadata": {},
   "outputs": [
    {
     "data": {
      "text/plain": [
       "\u001b[32mimport \u001b[39m\u001b[36mmonix.execution.Scheduler.Implicits.global\n",
       "\u001b[39m\n",
       "\u001b[36mtd\u001b[39m: (\u001b[32mTermState\u001b[39m, \u001b[32mSet\u001b[39m[\u001b[32mEquationNode\u001b[39m]) = (\n",
       "  \u001b[33mTermState\u001b[39m(\n",
       "    \u001b[33mFiniteDistribution\u001b[39m(\n",
       "      \u001b[33mVector\u001b[39m(\n",
       "        \u001b[33mWeighted\u001b[39m(\n",
       "          \u001b[32m(A : 𝒰 ) ↦ (B : 𝒰 ) ↦ (a : A) ↦ ((``@a_1 , @a_2) : A×B) ↦ a\u001b[39m,\n",
       "          \u001b[32m8.675006846432388E-4\u001b[39m\n",
       "        ),\n",
       "        \u001b[33mWeighted\u001b[39m(\n",
       "          \u001b[32m(A : 𝒰 ) ↦ (B : 𝒰 ) ↦ (a : A) ↦ (@a : B) ↦ (@a : B) ↦ @a\u001b[39m,\n",
       "          \u001b[32m0.0010674443639559507\u001b[39m\n",
       "        ),\n",
       "        \u001b[33mWeighted\u001b[39m(\n",
       "          \u001b[32m(A : 𝒰 ) ↦ (B : 𝒰 ) ↦ (a : A) ↦ ((```@a_1 , @a_2) : B×A) ↦ (```@a_1 , @a_2)\u001b[39m,\n",
       "          \u001b[32m3.7178600770424526E-4\u001b[39m\n",
       "        ),\n",
       "        \u001b[33mWeighted\u001b[39m(\n",
       "          \u001b[32m(A : 𝒰 ) ↦ (B : 𝒰 ) ↦ (a : A) ↦ ((``@a_1 , @a_2) : A×A) ↦ (``@a_1 , @a_2)\u001b[39m,\n",
       "          \u001b[32m3.7178600770424526E-4\u001b[39m\n",
       "        ),\n",
       "        \u001b[33mWeighted\u001b[39m(\n",
       "          \u001b[32m(A : 𝒰 ) ↦ (B : 𝒰 ) ↦ (a : A) ↦ (@a : B) ↦ a\u001b[39m,\n",
       "          \u001b[32m0.035508944319399785\u001b[39m\n",
       "        ),\n",
       "        \u001b[33mWeighted\u001b[39m(\n",
       "          \u001b[32m(A : 𝒰 ) ↦ (B : 𝒰 ) ↦ (a : A) ↦ ((`@a_1 , @a_2) : A×A) ↦ a\u001b[39m,\n",
       "          \u001b[32m8.675006846432388E-4\u001b[39m\n",
       "        ),\n",
       "        \u001b[33mWeighted\u001b[39m(\n",
       "          \u001b[32m(A : 𝒰 ) ↦ (B : 𝒰 ) ↦ (a : A) ↦ (@a : (A → A)) ↦ @a\u001b[39m,\n",
       "          \u001b[32m5.872312326815773E-4\u001b[39m\n",
       "        ),\n",
       "        \u001b[33mWeighted\u001b[39m(\n",
       "          \u001b[32m(A : 𝒰 ) ↦ (B : 𝒰 ) ↦ (a : A) ↦ (@a : (B → A)) ↦ @a\u001b[39m,\n",
       "          \u001b[32m6.940005477145914E-4\u001b[39m\n",
       "        ),\n",
       "        \u001b[33mWeighted\u001b[39m(\n",
       "..."
      ]
     },
     "execution_count": 5,
     "metadata": {},
     "output_type": "execute_result"
    }
   ],
   "source": [
    "import monix.execution.Scheduler.Implicits.global\n",
    "val td = datT.runSyncUnsafe()"
   ]
  },
  {
   "cell_type": "code",
   "execution_count": 6,
   "metadata": {},
   "outputs": [
    {
     "data": {
      "text/plain": [
       "\u001b[36mns\u001b[39m: \u001b[32mTermState\u001b[39m = \u001b[33mTermState\u001b[39m(\n",
       "  \u001b[33mFiniteDistribution\u001b[39m(\n",
       "    \u001b[33mVector\u001b[39m(\n",
       "      \u001b[33mWeighted\u001b[39m(\n",
       "        \u001b[32m(A : 𝒰 ) ↦ (B : 𝒰 ) ↦ (a : A) ↦ ((``@a_1 , @a_2) : A×B) ↦ a\u001b[39m,\n",
       "        \u001b[32m8.675006846432388E-4\u001b[39m\n",
       "      ),\n",
       "      \u001b[33mWeighted\u001b[39m(\n",
       "        \u001b[32m(A : 𝒰 ) ↦ (B : 𝒰 ) ↦ (a : A) ↦ (@a : B) ↦ (@a : B) ↦ @a\u001b[39m,\n",
       "        \u001b[32m0.0010674443639559507\u001b[39m\n",
       "      ),\n",
       "      \u001b[33mWeighted\u001b[39m(\n",
       "        \u001b[32m(A : 𝒰 ) ↦ (B : 𝒰 ) ↦ (a : A) ↦ ((```@a_1 , @a_2) : B×A) ↦ (```@a_1 , @a_2)\u001b[39m,\n",
       "        \u001b[32m3.7178600770424526E-4\u001b[39m\n",
       "      ),\n",
       "      \u001b[33mWeighted\u001b[39m(\n",
       "        \u001b[32m(A : 𝒰 ) ↦ (B : 𝒰 ) ↦ (a : A) ↦ ((``@a_1 , @a_2) : A×A) ↦ (``@a_1 , @a_2)\u001b[39m,\n",
       "        \u001b[32m3.7178600770424526E-4\u001b[39m\n",
       "      ),\n",
       "      \u001b[33mWeighted\u001b[39m(\n",
       "        \u001b[32m(A : 𝒰 ) ↦ (B : 𝒰 ) ↦ (a : A) ↦ (@a : B) ↦ a\u001b[39m,\n",
       "        \u001b[32m0.035508944319399785\u001b[39m\n",
       "      ),\n",
       "      \u001b[33mWeighted\u001b[39m(\n",
       "        \u001b[32m(A : 𝒰 ) ↦ (B : 𝒰 ) ↦ (a : A) ↦ ((`@a_1 , @a_2) : A×A) ↦ a\u001b[39m,\n",
       "        \u001b[32m8.675006846432388E-4\u001b[39m\n",
       "      ),\n",
       "      \u001b[33mWeighted\u001b[39m(\n",
       "        \u001b[32m(A : 𝒰 ) ↦ (B : 𝒰 ) ↦ (a : A) ↦ (@a : (A → A)) ↦ @a\u001b[39m,\n",
       "        \u001b[32m5.872312326815773E-4\u001b[39m\n",
       "      ),\n",
       "      \u001b[33mWeighted\u001b[39m(\n",
       "        \u001b[32m(A : 𝒰 ) ↦ (B : 𝒰 ) ↦ (a : A) ↦ (@a : (B → A)) ↦ @a\u001b[39m,\n",
       "        \u001b[32m6.940005477145914E-4\u001b[39m\n",
       "      ),\n",
       "      \u001b[33mWeighted\u001b[39m(\n",
       "        \u001b[32m(A : 𝒰 ) ↦ (B : 𝒰 ) ↦ (a : A) ↦ (@a : (A → B)) ↦ a\u001b[39m,\n",
       "...\n",
       "\u001b[36meqs\u001b[39m: \u001b[32mSet\u001b[39m[\u001b[32mEquationNode\u001b[39m] = \u001b[33mSet\u001b[39m(\n",
       "  \u001b[33mEquationNode\u001b[39m(\n",
       "    \u001b[33mFinalVal\u001b[39m(\n",
       "      \u001b[33mInIsle\u001b[39m(\n",
       "        \u001b[33mInIsle\u001b[39m(\n",
       "          \u001b[33mInIsle\u001b[39m(\n",
       "            \u001b[33mInIsle\u001b[39m(\n",
       "              \u001b[33mElem\u001b[39m(\u001b[32m(@a : B) ↦ @a\u001b[39m, Terms),\n",
       "              \u001b[32m@a\u001b[39m,\n",
       "              \u001b[33mIsland\u001b[39m(Terms, \u001b[33mConstRandVar\u001b[39m(Terms), \u001b[33mAddVar\u001b[39m(\u001b[32mA\u001b[39m), Lambda, EnterIsle)\n",
       "            ),\n",
       "            \u001b[32ma\u001b[39m,\n",
       "            \u001b[33mIsland\u001b[39m(\n",
       "              Typs,\n",
       "              \u001b[33mConstRandVar\u001b[39m(Typs),\n",
       "              provingground.learning.ExpressionEval$$Lambda$2811/973096168@223eea22,\n",
       "              Pi,\n",
       "              EnterIsle\n",
       "            )\n",
       "          ),\n",
       "          \u001b[32mB\u001b[39m,\n",
       "          \u001b[33mIsland\u001b[39m(\n",
       "            Typs,\n",
       "            \u001b[33mConstRandVar\u001b[39m(Typs),\n",
       "            provingground.learning.ExpressionEval$$Lambda$2811/973096168@1a048ff7,\n",
       "            Pi,\n",
       "            EnterIsle\n",
       "          )\n",
       "        ),\n",
       "        \u001b[32mA\u001b[39m,\n",
       "        \u001b[33mIsland\u001b[39m(\n",
       "          Typs,\n",
       "          \u001b[33mConstRandVar\u001b[39m(Typs),\n",
       "          provingground.learning.ExpressionEval$$Lambda$2811/973096168@5c8d4da1,\n",
       "          Pi,\n",
       "          EnterIsle\n",
       "        )\n",
       "..."
      ]
     },
     "execution_count": 6,
     "metadata": {},
     "output_type": "execute_result"
    }
   ],
   "source": [
    "val (ns, eqs) = td"
   ]
  },
  {
   "cell_type": "code",
   "execution_count": 7,
   "metadata": {},
   "outputs": [
    {
     "data": {
      "text/plain": [
       "\u001b[36matoms\u001b[39m: \u001b[32mSet\u001b[39m[\u001b[32mGeneratorVariables\u001b[39m.\u001b[32mVariable\u001b[39m[\u001b[32mAny\u001b[39m]] = \u001b[33mSet\u001b[39m(\n",
       "  \u001b[33mInIsle\u001b[39m(\n",
       "    \u001b[33mInIsle\u001b[39m(\n",
       "      \u001b[33mInIsle\u001b[39m(\n",
       "        \u001b[33mInIsle\u001b[39m(\n",
       "          \u001b[33mElem\u001b[39m(\u001b[32mB\u001b[39m, Typs),\n",
       "          \u001b[32m@a\u001b[39m,\n",
       "          \u001b[33mIsland\u001b[39m(Terms, \u001b[33mConstRandVar\u001b[39m(Terms), \u001b[33mAddVar\u001b[39m(\u001b[32m(B → B)\u001b[39m), Lambda, EnterIsle)\n",
       "        ),\n",
       "        \u001b[32ma\u001b[39m,\n",
       "        \u001b[33mIsland\u001b[39m(\n",
       "          Typs,\n",
       "          \u001b[33mConstRandVar\u001b[39m(Typs),\n",
       "          provingground.learning.ExpressionEval$$Lambda$2811/973096168@223eea22,\n",
       "          Pi,\n",
       "          EnterIsle\n",
       "        )\n",
       "      ),\n",
       "      \u001b[32mB\u001b[39m,\n",
       "      \u001b[33mIsland\u001b[39m(\n",
       "        Typs,\n",
       "        \u001b[33mConstRandVar\u001b[39m(Typs),\n",
       "        provingground.learning.ExpressionEval$$Lambda$2811/973096168@1a048ff7,\n",
       "        Pi,\n",
       "        EnterIsle\n",
       "      )\n",
       "    ),\n",
       "    \u001b[32mA\u001b[39m,\n",
       "    \u001b[33mIsland\u001b[39m(\n",
       "      Terms,\n",
       "      \u001b[33mConstRandVar\u001b[39m(Terms),\n",
       "      provingground.learning.ExpressionEval$$Lambda$2817/1951445643@4022bf60,\n",
       "      Lambda,\n",
       "      EnterIsle\n",
       "    )\n",
       "  ),\n",
       "  \u001b[33mInIsle\u001b[39m(\n",
       "    \u001b[33mInIsle\u001b[39m(\n",
       "      \u001b[33mInIsle\u001b[39m(\n",
       "..."
      ]
     },
     "execution_count": 7,
     "metadata": {},
     "output_type": "execute_result"
    }
   ],
   "source": [
    "val atoms = (eqs.map(_.rhs).flatMap(Expression.varVals(_)) union eqs.map(_.lhs).flatMap(Expression.varVals(_))).map(_.variable)"
   ]
  },
  {
   "cell_type": "code",
   "execution_count": 8,
   "metadata": {},
   "outputs": [
    {
     "data": {
      "text/plain": [
       "\u001b[32mimport \u001b[39m\u001b[36mTermRandomVars._, GeneratorVariables._\n",
       "\u001b[39m\n",
       "\u001b[36melemTerms\u001b[39m: \u001b[32mSet\u001b[39m[\u001b[32mTerm\u001b[39m] = \u001b[33mSet\u001b[39m(\n",
       "  \u001b[32m(A : 𝒰 ) ↦ (B : 𝒰 ) ↦ (a : A) ↦ (@a : A) ↦ (@a : B) ↦ @a\u001b[39m,\n",
       "  \u001b[32m(A : 𝒰 ) ↦ (B : 𝒰 ) ↦ (a : A) ↦ (@a : B) ↦ (@a : A) ↦ @a\u001b[39m,\n",
       "  \u001b[32m(A : 𝒰 ) ↦ (B : 𝒰 ) ↦ (a : A) ↦ (@a : B) ↦ (@a : B) ↦ a\u001b[39m,\n",
       "  \u001b[32m(A : 𝒰 ) ↦ (B : 𝒰 ) ↦ (a : A) ↦ (@a : B) ↦ (@a : B) ↦ @a\u001b[39m,\n",
       "  \u001b[32m(A : 𝒰 ) ↦ (B : 𝒰 ) ↦ (a : A) ↦ (@a : A) ↦ (@a : A) ↦ @a\u001b[39m,\n",
       "  \u001b[32m(A : 𝒰 ) ↦ (B : 𝒰 ) ↦ (a : A) ↦ (@a : A) ↦ (@a : A) ↦ a\u001b[39m,\n",
       "  \u001b[32m(A : 𝒰 ) ↦ (B : 𝒰 ) ↦ (a : A) ↦ (@a : A) ↦ (@a : B) ↦ a\u001b[39m,\n",
       "  \u001b[32m(A : 𝒰 ) ↦ (B : 𝒰 ) ↦ (a : A) ↦ (@a : B) ↦ (@a : A) ↦ a\u001b[39m,\n",
       "  \u001b[32m(A : 𝒰 ) ↦ (B : 𝒰 ) ↦ (a : A) ↦ (@a : B) ↦ (@a : A) ↦ @a\u001b[39m,\n",
       "  \u001b[32m(A : 𝒰 ) ↦ (B : 𝒰 ) ↦ (a : A) ↦ (@a : A) ↦ (@a : B) ↦ @a\u001b[39m,\n",
       "  \u001b[32m(A : 𝒰 ) ↦ (B : 𝒰 ) ↦ (a : A) ↦ (@a : (A → A)) ↦ a\u001b[39m,\n",
       "  \u001b[32m(A : 𝒰 ) ↦ (B : 𝒰 ) ↦ (a : A) ↦ (@a : (B → A)) ↦ a\u001b[39m,\n",
       "  \u001b[32m(A : 𝒰 ) ↦ (B : 𝒰 ) ↦ (a : A) ↦ (@a : (B → B)) ↦ a\u001b[39m,\n",
       "  \u001b[32m(A : 𝒰 ) ↦ (B : 𝒰 ) ↦ (a : A) ↦ (@a : (A → B)) ↦ a\u001b[39m,\n",
       "  \u001b[32m(A : 𝒰 ) ↦ (B : 𝒰 ) ↦ (a : A) ↦ ((``@a_1 , @a_2) : B×A) ↦ a\u001b[39m,\n",
       "  \u001b[32m(A : 𝒰 ) ↦ (B : 𝒰 ) ↦ (a : A) ↦ ((`@a_1 , @a_2) : A×A) ↦ a\u001b[39m,\n",
       "  \u001b[32m(A : 𝒰 ) ↦ (B : 𝒰 ) ↦ (a : A) ↦ ((``@a_1 , @a_2) : A×B) ↦ a\u001b[39m,\n",
       "  \u001b[32m(A : 𝒰 ) ↦ (B : 𝒰 ) ↦ (a : A) ↦ ((`@a_1 , @a_2) : B×B) ↦ a\u001b[39m,\n",
       "  \u001b[32m(A : 𝒰 ) ↦ (B : 𝒰 ) ↦ (a : A) ↦ (@a : B) ↦ a\u001b[39m,\n",
       "  \u001b[32m(A : 𝒰 ) ↦ (B : 𝒰 ) ↦ (a : A) ↦ (@a : B) ↦ @a\u001b[39m,\n",
       "  \u001b[32m(A : 𝒰 ) ↦ (B : 𝒰 ) ↦ (a : A) ↦ (@a : A) ↦ @a\u001b[39m,\n",
       "  \u001b[32m(A : 𝒰 ) ↦ (B : 𝒰 ) ↦ (a : A) ↦ (@a : A) ↦ a\u001b[39m,\n",
       "  \u001b[32m(A : 𝒰 ) ↦ (B : 𝒰 ) ↦ (a : A) ↦ a\u001b[39m,\n",
       "  \u001b[32m(A : 𝒰 ) ↦ (B : 𝒰 ) ↦ (a : A) ↦ (@a : (A → A)) ↦ @a\u001b[39m,\n",
       "  \u001b[32m(A : 𝒰 ) ↦ (B : 𝒰 ) ↦ (a : A) ↦ (@a : (B → A)) ↦ @a\u001b[39m,\n",
       "  \u001b[32m(A : 𝒰 ) ↦ (B : 𝒰 ) ↦ (a : A) ↦ (@a : (A → B)) ↦ @a\u001b[39m,\n",
       "  \u001b[32m(A : 𝒰 ) ↦ (B : 𝒰 ) ↦ (a : A) ↦ (@a : (B → B)) ↦ @a\u001b[39m,\n",
       "  \u001b[32m(A : 𝒰 ) ↦ (B : 𝒰 ) ↦ (a : A) ↦ ((```@a_1 , @a_2) : B×A) ↦ (```@a_1 , @a_2)\u001b[39m,\n",
       "  \u001b[32m(A : 𝒰 ) ↦ (B : 𝒰 ) ↦ (a : A) ↦ ((``@a_1 , @a_2) : B×B) ↦ (``@a_1 , @a_2)\u001b[39m,\n",
       "  \u001b[32m(A : 𝒰 ) ↦ (B : 𝒰 ) ↦ (a : A) ↦ ((```@a_1 , @a_2) : A×B) ↦ (```@a_1 , @a_2)\u001b[39m,\n",
       "  \u001b[32m(A : 𝒰 ) ↦ (B : 𝒰 ) ↦ (a : A) ↦ ((``@a_1 , @a_2) : A×A) ↦ (``@a_1 , @a_2)\u001b[39m\n",
       ")"
      ]
     },
     "execution_count": 8,
     "metadata": {},
     "output_type": "execute_result"
    }
   ],
   "source": [
    "import TermRandomVars._, GeneratorVariables._\n",
    "val elemTerms = atoms.collect{case Elem(t: Term, Terms) => t}"
   ]
  },
  {
   "cell_type": "code",
   "execution_count": 9,
   "metadata": {},
   "outputs": [
    {
     "data": {
      "text/plain": [
       "\u001b[36mres8\u001b[39m: \u001b[32mBoolean\u001b[39m = false"
      ]
     },
     "execution_count": 9,
     "metadata": {},
     "output_type": "execute_result"
    }
   ],
   "source": [
    "elemTerms.exists(_.dependsOn(A))"
   ]
  },
  {
   "cell_type": "markdown",
   "metadata": {},
   "source": [
    "## First check\n",
    "\n",
    "None of the terms depends on the variables"
   ]
  },
  {
   "cell_type": "code",
   "execution_count": 10,
   "metadata": {},
   "outputs": [
    {
     "data": {
      "text/plain": [
       "\u001b[36mres9\u001b[39m: \u001b[32mInt\u001b[39m = \u001b[32m4527\u001b[39m"
      ]
     },
     "execution_count": 10,
     "metadata": {},
     "output_type": "execute_result"
    }
   ],
   "source": [
    "atoms.size"
   ]
  },
  {
   "cell_type": "code",
   "execution_count": 11,
   "metadata": {},
   "outputs": [
    {
     "data": {
      "text/plain": [
       "\u001b[36mnormEqs\u001b[39m: \u001b[32mSet\u001b[39m[\u001b[32mEquationNode\u001b[39m] = \u001b[33mSet\u001b[39m(\n",
       "  \u001b[33mEquationNode\u001b[39m(\n",
       "    \u001b[33mFinalVal\u001b[39m(\n",
       "      \u001b[33mInIsle\u001b[39m(\n",
       "        \u001b[33mInIsle\u001b[39m(\n",
       "          \u001b[33mInIsle\u001b[39m(\n",
       "            \u001b[33mElem\u001b[39m(\u001b[32m@a\u001b[39m, Terms),\n",
       "            \u001b[32m@a\u001b[39m,\n",
       "            \u001b[33mIsland\u001b[39m(\n",
       "              Typs,\n",
       "              provingground.learning.TermRandomVars$$$Lambda$3079/68010752@7e094e58,\n",
       "              \u001b[33mAddVar\u001b[39m(\u001b[32m@a\u001b[39m),\n",
       "              Pi,\n",
       "              EnterIsle\n",
       "            )\n",
       "          ),\n",
       "          \u001b[32m@b\u001b[39m,\n",
       "          \u001b[33mIsland\u001b[39m(\n",
       "            Terms,\n",
       "            provingground.learning.TermRandomVars$$$Lambda$3079/68010752@170773c9,\n",
       "            \u001b[33mAddVar\u001b[39m(\u001b[32m𝒰 \u001b[39m),\n",
       "            Lambda,\n",
       "            EnterIsle\n",
       "          )\n",
       "        ),\n",
       "        \u001b[32m@a\u001b[39m,\n",
       "        \u001b[33mIsland\u001b[39m(\n",
       "          Typs,\n",
       "          provingground.learning.TermRandomVars$$$Lambda$3079/68010752@5dbdcb12,\n",
       "          \u001b[33mAddVar\u001b[39m(\u001b[32m𝒰 \u001b[39m),\n",
       "          Pi,\n",
       "          EnterIsle\n",
       "        )\n",
       "      )\n",
       "    ),\n",
       "    \u001b[33mProduct\u001b[39m(\n",
       "      \u001b[33mProduct\u001b[39m(\n",
       "..."
      ]
     },
     "execution_count": 11,
     "metadata": {},
     "output_type": "execute_result"
    }
   ],
   "source": [
    "val normEqs = eqs.map(eq => TermData.isleNormalize(eq))"
   ]
  },
  {
   "cell_type": "code",
   "execution_count": 12,
   "metadata": {},
   "outputs": [
    {
     "data": {
      "text/plain": [
       "\u001b[36mnormAtoms\u001b[39m: \u001b[32mSet\u001b[39m[\u001b[32mVariable\u001b[39m[\u001b[32mAny\u001b[39m]] = \u001b[33mSet\u001b[39m(\n",
       "  \u001b[33mInIsle\u001b[39m(\n",
       "    \u001b[33mInIsle\u001b[39m(\n",
       "      \u001b[33mInIsle\u001b[39m(\n",
       "        \u001b[33mInIsle\u001b[39m(\n",
       "          \u001b[33mElem\u001b[39m(\u001b[32m(@b → @a)\u001b[39m, Typs),\n",
       "          \u001b[32m@b\u001b[39m,\n",
       "          \u001b[33mIsland\u001b[39m(\n",
       "            Typs,\n",
       "            provingground.learning.TermRandomVars$$$Lambda$3079/68010752@6ede34ac,\n",
       "            \u001b[33mAddVar\u001b[39m(\u001b[32m@a\u001b[39m),\n",
       "            Sigma,\n",
       "            EnterIsle\n",
       "          )\n",
       "        ),\n",
       "        \u001b[32m@a\u001b[39m,\n",
       "        \u001b[33mIsland\u001b[39m(\n",
       "          Terms,\n",
       "          provingground.learning.TermRandomVars$$$Lambda$3079/68010752@4f610e6b,\n",
       "          \u001b[33mAddVar\u001b[39m(\u001b[32m@a\u001b[39m),\n",
       "          Lambda,\n",
       "          EnterIsle\n",
       "        )\n",
       "      ),\n",
       "      \u001b[32m@b\u001b[39m,\n",
       "      \u001b[33mIsland\u001b[39m(\n",
       "        Terms,\n",
       "        provingground.learning.TermRandomVars$$$Lambda$3079/68010752@439fdf6f,\n",
       "        \u001b[33mAddVar\u001b[39m(\u001b[32m𝒰 \u001b[39m),\n",
       "        Lambda,\n",
       "        EnterIsle\n",
       "      )\n",
       "    ),\n",
       "    \u001b[32m@a\u001b[39m,\n",
       "    \u001b[33mIsland\u001b[39m(\n",
       "      Typs,\n",
       "      provingground.learning.TermRandomVars$$$Lambda$3079/68010752@6bb8503e,\n",
       "      \u001b[33mAddVar\u001b[39m(\u001b[32m𝒰 \u001b[39m),\n",
       "..."
      ]
     },
     "execution_count": 12,
     "metadata": {},
     "output_type": "execute_result"
    }
   ],
   "source": [
    "val normAtoms = (normEqs.map(_.rhs).flatMap(Expression.varVals(_)) union normEqs.map(_.lhs).flatMap(Expression.varVals(_))).map(_.variable)"
   ]
  },
  {
   "cell_type": "code",
   "execution_count": 13,
   "metadata": {},
   "outputs": [
    {
     "data": {
      "text/plain": [
       "\u001b[36mnormElemTerms\u001b[39m: \u001b[32mSet\u001b[39m[\u001b[32mTerm\u001b[39m] = \u001b[33mSet\u001b[39m(\n",
       "  \u001b[32m(A : 𝒰 ) ↦ (B : 𝒰 ) ↦ (a : A) ↦ (@a : A) ↦ (@a : A) ↦ a\u001b[39m,\n",
       "  \u001b[32m(A : 𝒰 ) ↦ (B : 𝒰 ) ↦ (a : A) ↦ (@a : B) ↦ (@a : A) ↦ @a\u001b[39m,\n",
       "  \u001b[32m(A : 𝒰 ) ↦ (B : 𝒰 ) ↦ (a : A) ↦ (@a : B) ↦ (@a : B) ↦ @a\u001b[39m,\n",
       "  \u001b[32m(A : 𝒰 ) ↦ (B : 𝒰 ) ↦ (a : A) ↦ (@a : A) ↦ (@a : B) ↦ @a\u001b[39m,\n",
       "  \u001b[32m(A : 𝒰 ) ↦ (B : 𝒰 ) ↦ (a : A) ↦ (@a : B) ↦ (@a : B) ↦ a\u001b[39m,\n",
       "  \u001b[32m(A : 𝒰 ) ↦ (B : 𝒰 ) ↦ (a : A) ↦ (@a : A) ↦ (@a : B) ↦ @a\u001b[39m,\n",
       "  \u001b[32m(A : 𝒰 ) ↦ (B : 𝒰 ) ↦ (a : A) ↦ (@a : B) ↦ (@a : A) ↦ a\u001b[39m,\n",
       "  \u001b[32m(A : 𝒰 ) ↦ (B : 𝒰 ) ↦ (a : A) ↦ (@a : A) ↦ (@a : A) ↦ @a\u001b[39m,\n",
       "  \u001b[32m(A : 𝒰 ) ↦ (B : 𝒰 ) ↦ (a : A) ↦ (@a : A) ↦ (@a : B) ↦ a\u001b[39m,\n",
       "  \u001b[32m(A : 𝒰 ) ↦ (B : 𝒰 ) ↦ (a : A) ↦ (@a : B) ↦ (@a : A) ↦ @a\u001b[39m,\n",
       "  \u001b[32m(A : 𝒰 ) ↦ (B : 𝒰 ) ↦ (a : A) ↦ (@a : (A → B)) ↦ a\u001b[39m,\n",
       "  \u001b[32m(A : 𝒰 ) ↦ (B : 𝒰 ) ↦ (a : A) ↦ (@a : (B → B)) ↦ a\u001b[39m,\n",
       "  \u001b[32m(A : 𝒰 ) ↦ (B : 𝒰 ) ↦ (a : A) ↦ (@a : (A → A)) ↦ a\u001b[39m,\n",
       "  \u001b[32m(A : 𝒰 ) ↦ (B : 𝒰 ) ↦ (a : A) ↦ (@a : (B → A)) ↦ a\u001b[39m,\n",
       "  \u001b[32m(A : 𝒰 ) ↦ (B : 𝒰 ) ↦ (a : A) ↦ ((`@a_1 , @a_2) : A×A) ↦ a\u001b[39m,\n",
       "  \u001b[32m(A : 𝒰 ) ↦ (B : 𝒰 ) ↦ (a : A) ↦ ((`@a_1 , @a_2) : B×B) ↦ a\u001b[39m,\n",
       "  \u001b[32m(A : 𝒰 ) ↦ (B : 𝒰 ) ↦ (a : A) ↦ ((``@a_1 , @a_2) : B×A) ↦ a\u001b[39m,\n",
       "  \u001b[32m(A : 𝒰 ) ↦ (B : 𝒰 ) ↦ (a : A) ↦ ((``@a_1 , @a_2) : A×B) ↦ a\u001b[39m,\n",
       "  \u001b[32m(A : 𝒰 ) ↦ (B : 𝒰 ) ↦ (a : A) ↦ (@a : A) ↦ @a\u001b[39m,\n",
       "  \u001b[32m(A : 𝒰 ) ↦ (B : 𝒰 ) ↦ (a : A) ↦ (@a : A) ↦ a\u001b[39m,\n",
       "  \u001b[32m(A : 𝒰 ) ↦ (B : 𝒰 ) ↦ (a : A) ↦ (@a : B) ↦ @a\u001b[39m,\n",
       "  \u001b[32m(A : 𝒰 ) ↦ (B : 𝒰 ) ↦ (a : A) ↦ (@a : B) ↦ a\u001b[39m,\n",
       "  \u001b[32m(A : 𝒰 ) ↦ (B : 𝒰 ) ↦ (a : A) ↦ a\u001b[39m,\n",
       "  \u001b[32m(A : 𝒰 ) ↦ (B : 𝒰 ) ↦ (a : A) ↦ (@a : (B → A)) ↦ @a\u001b[39m,\n",
       "  \u001b[32m(A : 𝒰 ) ↦ (B : 𝒰 ) ↦ (a : A) ↦ (@a : (B → B)) ↦ @a\u001b[39m,\n",
       "  \u001b[32m(A : 𝒰 ) ↦ (B : 𝒰 ) ↦ (a : A) ↦ (@a : (A → B)) ↦ @a\u001b[39m,\n",
       "  \u001b[32m(A : 𝒰 ) ↦ (B : 𝒰 ) ↦ (a : A) ↦ (@a : (A → A)) ↦ @a\u001b[39m,\n",
       "  \u001b[32m(A : 𝒰 ) ↦ (B : 𝒰 ) ↦ (a : A) ↦ ((``@a_1 , @a_2) : A×A) ↦ (``@a_1 , @a_2)\u001b[39m,\n",
       "  \u001b[32m(A : 𝒰 ) ↦ (B : 𝒰 ) ↦ (a : A) ↦ ((```@a_1 , @a_2) : B×A) ↦ (```@a_1 , @a_2)\u001b[39m,\n",
       "  \u001b[32m(A : 𝒰 ) ↦ (B : 𝒰 ) ↦ (a : A) ↦ ((```@a_1 , @a_2) : A×B) ↦ (```@a_1 , @a_2)\u001b[39m,\n",
       "  \u001b[32m(A : 𝒰 ) ↦ (B : 𝒰 ) ↦ (a : A) ↦ ((``@a_1 , @a_2) : B×B) ↦ (``@a_1 , @a_2)\u001b[39m\n",
       ")"
      ]
     },
     "execution_count": 13,
     "metadata": {},
     "output_type": "execute_result"
    }
   ],
   "source": [
    "val normElemTerms = normAtoms.collect{case Elem(t: Term, Terms) => t}"
   ]
  },
  {
   "cell_type": "code",
   "execution_count": 14,
   "metadata": {},
   "outputs": [
    {
     "data": {
      "text/plain": [
       "\u001b[36mres13\u001b[39m: \u001b[32mBoolean\u001b[39m = true"
      ]
     },
     "execution_count": 14,
     "metadata": {},
     "output_type": "execute_result"
    }
   ],
   "source": [
    "elemTerms == normElemTerms"
   ]
  },
  {
   "cell_type": "markdown",
   "metadata": {},
   "source": [
    "## Next conclusion\n",
    "\n",
    "* terms are generated correctly\n",
    "* however, this does not test deeper generation, for which we must generate with the equations."
   ]
  },
  {
   "cell_type": "code",
   "execution_count": 15,
   "metadata": {},
   "outputs": [
    {
     "data": {
      "text/plain": [
       "\u001b[36mts0\u001b[39m: \u001b[32mTermState\u001b[39m = \u001b[33mTermState\u001b[39m(\n",
       "  \u001b[33mFiniteDistribution\u001b[39m(\u001b[33mVector\u001b[39m()),\n",
       "  \u001b[33mFiniteDistribution\u001b[39m(\u001b[33mVector\u001b[39m(\u001b[33mWeighted\u001b[39m(\u001b[32m𝒰 \u001b[39m, \u001b[32m1.0\u001b[39m))),\n",
       "  \u001b[33mVector\u001b[39m(),\n",
       "  \u001b[33mFiniteDistribution\u001b[39m(\u001b[33mVector\u001b[39m()),\n",
       "  \u001b[33mFiniteDistribution\u001b[39m(\u001b[33mVector\u001b[39m()),\n",
       "  Empty\n",
       ")"
      ]
     },
     "execution_count": 15,
     "metadata": {},
     "output_type": "execute_result"
    }
   ],
   "source": [
    "val ts0 = TermState(FiniteDistribution.empty, FiniteDistribution.unif(Type))"
   ]
  },
  {
   "cell_type": "code",
   "execution_count": 16,
   "metadata": {},
   "outputs": [
    {
     "data": {
      "text/plain": [
       "\u001b[36mev\u001b[39m: \u001b[32mExpressionEval\u001b[39m = provingground.learning.ExpressionEval$$anon$2@3a6afd74"
      ]
     },
     "execution_count": 16,
     "metadata": {},
     "output_type": "execute_result"
    }
   ],
   "source": [
    "val ev = ExpressionEval.fromInitEqs(ts0, Equation.group(eqs), TermGenParams(), decayS = 0.75)"
   ]
  },
  {
   "cell_type": "code",
   "execution_count": 17,
   "metadata": {},
   "outputs": [
    {
     "data": {
      "text/plain": [
       "\u001b[36mtermsEv\u001b[39m: \u001b[32mFiniteDistribution\u001b[39m[\u001b[32mTerm\u001b[39m] = \u001b[33mFiniteDistribution\u001b[39m(\n",
       "  \u001b[33mVector\u001b[39m(\n",
       "    \u001b[33mWeighted\u001b[39m(\n",
       "      \u001b[32m(A : 𝒰 ) ↦ (B : 𝒰 ) ↦ (a : A) ↦ ((```@a_1 , @a_2) : B×A) ↦ (```@a_1 , @a_2)\u001b[39m,\n",
       "      \u001b[32m0.023783361218616697\u001b[39m\n",
       "    ),\n",
       "    \u001b[33mWeighted\u001b[39m(\n",
       "      \u001b[32m(A : 𝒰 ) ↦ (B : 𝒰 ) ↦ (a : A) ↦ ((``@a_1 , @a_2) : A×A) ↦ (``@a_1 , @a_2)\u001b[39m,\n",
       "      \u001b[32m0.023783346929568194\u001b[39m\n",
       "    ),\n",
       "    \u001b[33mWeighted\u001b[39m(\n",
       "      \u001b[32m(A : 𝒰 ) ↦ (B : 𝒰 ) ↦ (a : A) ↦ ((``@a_1 , @a_2) : B×B) ↦ (``@a_1 , @a_2)\u001b[39m,\n",
       "      \u001b[32m0.023786541590912733\u001b[39m\n",
       "    ),\n",
       "    \u001b[33mWeighted\u001b[39m(\n",
       "      \u001b[32m(A : 𝒰 ) ↦ (B : 𝒰 ) ↦ (a : A) ↦ ((```@a_1 , @a_2) : A×B) ↦ (```@a_1 , @a_2)\u001b[39m,\n",
       "      \u001b[32m0.023786520883480558\u001b[39m\n",
       "    ),\n",
       "    \u001b[33mWeighted\u001b[39m(\n",
       "      \u001b[32m(A : 𝒰 ) ↦ (B : 𝒰 ) ↦ (a : A) ↦ (@a : (B → A)) ↦ @a\u001b[39m,\n",
       "      \u001b[32m0.04758154345221369\u001b[39m\n",
       "    ),\n",
       "    \u001b[33mWeighted\u001b[39m(\n",
       "      \u001b[32m(A : 𝒰 ) ↦ (B : 𝒰 ) ↦ (a : A) ↦ (@a : (A → A)) ↦ @a\u001b[39m,\n",
       "      \u001b[32m0.04758142786902684\u001b[39m\n",
       "    ),\n",
       "    \u001b[33mWeighted\u001b[39m(\n",
       "      \u001b[32m(A : 𝒰 ) ↦ (B : 𝒰 ) ↦ (a : A) ↦ (@a : (B → B)) ↦ @a\u001b[39m,\n",
       "      \u001b[32m0.04759436016007325\u001b[39m\n",
       "    ),\n",
       "    \u001b[33mWeighted\u001b[39m(\n",
       "      \u001b[32m(A : 𝒰 ) ↦ (B : 𝒰 ) ↦ (a : A) ↦ (@a : (A → B)) ↦ @a\u001b[39m,\n",
       "      \u001b[32m0.04759419256878797\u001b[39m\n",
       "    ),\n",
       "    \u001b[33mWeighted\u001b[39m(\n",
       "..."
      ]
     },
     "execution_count": 17,
     "metadata": {},
     "output_type": "execute_result"
    }
   ],
   "source": [
    "val termsEv = ev.finalTerms"
   ]
  },
  {
   "cell_type": "code",
   "execution_count": 18,
   "metadata": {},
   "outputs": [
    {
     "data": {
      "text/plain": [
       "\u001b[36mevN\u001b[39m: \u001b[32mExpressionEval\u001b[39m = provingground.learning.ExpressionEval$$anon$2@84900a0"
      ]
     },
     "execution_count": 18,
     "metadata": {},
     "output_type": "execute_result"
    }
   ],
   "source": [
    "val evN = ExpressionEval.fromInitEqs(ts0, Equation.group(normEqs), TermGenParams(), decayS = 0.75)"
   ]
  },
  {
   "cell_type": "code",
   "execution_count": 19,
   "metadata": {},
   "outputs": [
    {
     "data": {
      "text/plain": [
       "\u001b[36mtermsN\u001b[39m: \u001b[32mFiniteDistribution\u001b[39m[\u001b[32mTerm\u001b[39m] = \u001b[33mFiniteDistribution\u001b[39m(\u001b[33mVector\u001b[39m())"
      ]
     },
     "execution_count": 19,
     "metadata": {},
     "output_type": "execute_result"
    }
   ],
   "source": [
    "val termsN = evN.finalTerms"
   ]
  },
  {
   "cell_type": "code",
   "execution_count": 20,
   "metadata": {},
   "outputs": [
    {
     "data": {
      "text/plain": [
       "\u001b[36mres19\u001b[39m: \u001b[32mMap\u001b[39m[\u001b[32mExpression\u001b[39m, \u001b[32mDouble\u001b[39m] = \u001b[33mMap\u001b[39m(\n",
       "  \u001b[33mCoeff\u001b[39m(\n",
       "    \u001b[33mBaseThenCondition\u001b[39m(\n",
       "      \u001b[33mFiberProductMap\u001b[39m(domOf, TermsWithTyp, Appln, TypFamilies, Terms),\n",
       "      Typs,\n",
       "      \u001b[33mRestrict\u001b[39m(TypOpt)\n",
       "    )\n",
       "  ) -> \u001b[32m0.1\u001b[39m,\n",
       "  \u001b[33mIsleScale\u001b[39m(\u001b[32m@a\u001b[39m, \u001b[33mElem\u001b[39m(\u001b[32m@a\u001b[39m, Terms)) -> \u001b[32m0.7\u001b[39m,\n",
       "  \u001b[33mCoeff\u001b[39m(\n",
       "    \u001b[33mBaseThenCondition\u001b[39m(\n",
       "      \u001b[33mFiberProductMap\u001b[39m(typeOf(_), FuncsWithDomain, FlipAppn, Terms, Terms),\n",
       "      \u001b[33mAtCoord\u001b[39m(FuncsWithDomain, \u001b[32mA\u001b[39m :: HNil),\n",
       "      \u001b[33mRestrict\u001b[39m(\u001b[33mFuncWithDom\u001b[39m(\u001b[32mA\u001b[39m))\n",
       "    )\n",
       "  ) -> \u001b[32m0.1\u001b[39m,\n",
       "  \u001b[33mIsleScale\u001b[39m(\u001b[32ma\u001b[39m, \u001b[33mElem\u001b[39m(\u001b[32ma\u001b[39m, \u001b[33mAtCoord\u001b[39m(TermsWithTyp, \u001b[32mA\u001b[39m :: HNil))) -> \u001b[32m0.7\u001b[39m,\n",
       "  \u001b[33mIsleScale\u001b[39m(\u001b[32m@a\u001b[39m, \u001b[33mElem\u001b[39m(\u001b[32mB\u001b[39m, Typs)) -> \u001b[32m0.7\u001b[39m,\n",
       "  \u001b[33mIsleScale\u001b[39m(\u001b[32m@a\u001b[39m, \u001b[33mElem\u001b[39m(\u001b[32mB\u001b[39m, Typs)) -> \u001b[32m0.7\u001b[39m,\n",
       "  \u001b[33mIsleScale\u001b[39m(\u001b[32m@a\u001b[39m, \u001b[33mElem\u001b[39m(\u001b[32mB\u001b[39m, Typs)) -> \u001b[32m0.7\u001b[39m,\n",
       "  \u001b[33mIsleScale\u001b[39m(\u001b[32m@a\u001b[39m, \u001b[33mElem\u001b[39m(\u001b[32mB\u001b[39m, Typs)) -> \u001b[32m0.7\u001b[39m,\n",
       "  \u001b[33mIsleScale\u001b[39m(\u001b[32m@a\u001b[39m, \u001b[33mElem\u001b[39m(\u001b[32mB\u001b[39m, Typs)) -> \u001b[32m0.7\u001b[39m,\n",
       "  \u001b[33mIsleScale\u001b[39m(\u001b[32m@a\u001b[39m, \u001b[33mElem\u001b[39m(\u001b[32mB\u001b[39m, Typs)) -> \u001b[32m0.7\u001b[39m,\n",
       "  \u001b[33mInitialVal\u001b[39m(\u001b[33mElem\u001b[39m(\u001b[33mWrap\u001b[39m(\u001b[32m@a\u001b[39m), Funcs)) -> \u001b[32m0.4285714285714286\u001b[39m,\n",
       "  \u001b[33mInitialVal\u001b[39m(\u001b[33mElem\u001b[39m(\u001b[33mWrap\u001b[39m(\u001b[32m@a\u001b[39m), Funcs)) -> \u001b[32m0.4285714285714286\u001b[39m,\n",
       "  \u001b[33mIsleScale\u001b[39m(\u001b[32m@a\u001b[39m, \u001b[33mElem\u001b[39m(\u001b[32ma\u001b[39m, Terms)) -> \u001b[32m0.7\u001b[39m,\n",
       "  \u001b[33mIsleScale\u001b[39m(\u001b[32m@a\u001b[39m, \u001b[33mElem\u001b[39m(\u001b[32ma\u001b[39m, Terms)) -> \u001b[32m0.7\u001b[39m,\n",
       "  \u001b[33mIsleScale\u001b[39m(\u001b[32m(@a_1 , @a_2)\u001b[39m, \u001b[33mElem\u001b[39m(\u001b[32m(@a_1 , @a_2)\u001b[39m, Terms)) -> \u001b[32m0.7\u001b[39m,\n",
       "  \u001b[33mCoeff\u001b[39m(\n",
       "    \u001b[33mIsland\u001b[39m(\n",
       "      \u001b[33mAtCoord\u001b[39m(FuncsWithDomain, \u001b[32m(A → A)\u001b[39m :: HNil),\n",
       "      \u001b[33mConstRandVar\u001b[39m(Terms),\n",
       "      \u001b[33mAddVar\u001b[39m(\u001b[32m(A → A)\u001b[39m),\n",
       "      Lambda,\n",
       "      EnterIsle\n",
       "    )\n",
       "  ) -> \u001b[32m0.1\u001b[39m,\n",
       "  \u001b[33mCoeff\u001b[39m(\n",
       "    \u001b[33mIsland\u001b[39m(\n",
       "..."
      ]
     },
     "execution_count": 20,
     "metadata": {},
     "output_type": "execute_result"
    }
   ],
   "source": [
    "evN.init"
   ]
  },
  {
   "cell_type": "code",
   "execution_count": 21,
   "metadata": {},
   "outputs": [
    {
     "data": {
      "text/plain": [
       "\u001b[36mres20\u001b[39m: \u001b[32mDouble\u001b[39m = \u001b[32m1.01\u001b[39m"
      ]
     },
     "execution_count": 21,
     "metadata": {},
     "output_type": "execute_result"
    }
   ],
   "source": [
    "evN.maxRatio"
   ]
  },
  {
   "cell_type": "code",
   "execution_count": 22,
   "metadata": {},
   "outputs": [
    {
     "data": {
      "text/plain": [
       "\u001b[36mres21\u001b[39m: \u001b[32mDouble\u001b[39m = \u001b[32m0.75\u001b[39m"
      ]
     },
     "execution_count": 22,
     "metadata": {},
     "output_type": "execute_result"
    }
   ],
   "source": [
    "evN.decay"
   ]
  },
  {
   "cell_type": "code",
   "execution_count": 23,
   "metadata": {},
   "outputs": [
    {
     "data": {
      "text/plain": [
       "\u001b[36mres22\u001b[39m: \u001b[32mSet\u001b[39m[\u001b[32mEquation\u001b[39m] = \u001b[33mSet\u001b[39m(\n",
       "  \u001b[33mEquation\u001b[39m(\n",
       "    \u001b[33mFinalVal\u001b[39m(\n",
       "      \u001b[33mInIsle\u001b[39m(\n",
       "        \u001b[33mInIsle\u001b[39m(\n",
       "          \u001b[33mInIsle\u001b[39m(\n",
       "            \u001b[33mElem\u001b[39m(\u001b[32m@a\u001b[39m, Terms),\n",
       "            \u001b[32m@a\u001b[39m,\n",
       "            \u001b[33mIsland\u001b[39m(\n",
       "              Typs,\n",
       "              provingground.learning.TermRandomVars$$$Lambda$3079/68010752@7e094e58,\n",
       "              \u001b[33mAddVar\u001b[39m(\u001b[32m@a\u001b[39m),\n",
       "              Pi,\n",
       "              EnterIsle\n",
       "            )\n",
       "          ),\n",
       "          \u001b[32m@b\u001b[39m,\n",
       "          \u001b[33mIsland\u001b[39m(\n",
       "            Terms,\n",
       "            provingground.learning.TermRandomVars$$$Lambda$3079/68010752@170773c9,\n",
       "            \u001b[33mAddVar\u001b[39m(\u001b[32m𝒰 \u001b[39m),\n",
       "            Lambda,\n",
       "            EnterIsle\n",
       "          )\n",
       "        ),\n",
       "        \u001b[32m@a\u001b[39m,\n",
       "        \u001b[33mIsland\u001b[39m(\n",
       "          Typs,\n",
       "          provingground.learning.TermRandomVars$$$Lambda$3079/68010752@5dbdcb12,\n",
       "          \u001b[33mAddVar\u001b[39m(\u001b[32m𝒰 \u001b[39m),\n",
       "          Pi,\n",
       "          EnterIsle\n",
       "        )\n",
       "      )\n",
       "    ),\n",
       "    \u001b[33mProduct\u001b[39m(\n",
       "      \u001b[33mProduct\u001b[39m(\n",
       "..."
      ]
     },
     "execution_count": 23,
     "metadata": {},
     "output_type": "execute_result"
    }
   ],
   "source": [
    "evN.equations"
   ]
  },
  {
   "cell_type": "code",
   "execution_count": 24,
   "metadata": {},
   "outputs": [
    {
     "data": {
      "text/plain": [
       "\u001b[32mimport \u001b[39m\u001b[36mExpressionEval._\n",
       "\u001b[39m\n",
       "defined \u001b[32mfunction\u001b[39m \u001b[36mstableMap\u001b[39m"
      ]
     },
     "execution_count": 24,
     "metadata": {},
     "output_type": "execute_result"
    }
   ],
   "source": [
    "import ExpressionEval._"
   ]
  },
  {
   "cell_type": "code",
   "execution_count": 25,
   "metadata": {},
   "outputs": [
    {
     "data": {
      "text/plain": [
       "\u001b[36mnewMap\u001b[39m: \u001b[32mMap\u001b[39m[\u001b[32mExpression\u001b[39m, \u001b[32mDouble\u001b[39m] = \u001b[33mMap\u001b[39m(\n",
       "  \u001b[33mInitialVal\u001b[39m(\n",
       "    \u001b[33mInIsle\u001b[39m(\n",
       "      \u001b[33mInIsle\u001b[39m(\n",
       "        \u001b[33mInIsle\u001b[39m(\n",
       "          \u001b[33mInIsle\u001b[39m(\n",
       "            \u001b[33mElem\u001b[39m(\u001b[32m(@a_1 , @a_2)\u001b[39m, Terms),\n",
       "            \u001b[32m(@a_1 , @a_2)\u001b[39m,\n",
       "            \u001b[33mIsland\u001b[39m(\n",
       "              Terms,\n",
       "              provingground.learning.TermRandomVars$$$Lambda$3079/68010752@7c3d5089,\n",
       "              \u001b[33mAddVar\u001b[39m(\u001b[32m@b×@a\u001b[39m),\n",
       "              Lambda,\n",
       "              EnterIsle\n",
       "            )\n",
       "          ),\n",
       "          \u001b[32m@a\u001b[39m,\n",
       "          \u001b[33mIsland\u001b[39m(\n",
       "            Terms,\n",
       "            provingground.learning.TermRandomVars$$$Lambda$3079/68010752@7726e262,\n",
       "            \u001b[33mAddVar\u001b[39m(\u001b[32m@a\u001b[39m),\n",
       "            Lambda,\n",
       "            EnterIsle\n",
       "          )\n",
       "        ),\n",
       "        \u001b[32m@b\u001b[39m,\n",
       "        \u001b[33mIsland\u001b[39m(\n",
       "          Typs,\n",
       "          provingground.learning.TermRandomVars$$$Lambda$3079/68010752@53e8f4a8,\n",
       "          \u001b[33mAddVar\u001b[39m(\u001b[32m𝒰 \u001b[39m),\n",
       "          Pi,\n",
       "          EnterIsle\n",
       "        )\n",
       "      ),\n",
       "      \u001b[32m@a\u001b[39m,\n",
       "      \u001b[33mIsland\u001b[39m(\n",
       "        Typs,\n",
       "..."
      ]
     },
     "execution_count": 25,
     "metadata": {},
     "output_type": "execute_result"
    }
   ],
   "source": [
    "val newMap = nextMap(evN.init, evN.equations, 0.5)"
   ]
  },
  {
   "cell_type": "code",
   "execution_count": 26,
   "metadata": {},
   "outputs": [
    {
     "data": {
      "text/plain": [
       "\u001b[36mss\u001b[39m: \u001b[32mStream\u001b[39m[\u001b[32mMap\u001b[39m[\u001b[32mExpression\u001b[39m, \u001b[32mDouble\u001b[39m]] = \u001b[32m[Map(Coeff(BaseThenCondition(FiberProductMap(domOf,TermsWithTyp,Appln,TypFamilies,Terms),Typs,Restrict(TypOpt))) -> 0.1, IsleScale(@a,@a ∈ Terms) -> 0.7, Coeff(BaseThenCondition(FiberProductMap(typeOf(_),FuncsWithDomain,FlipAppn,Terms,Terms),AtCoord(FuncsWithDomain,A :: HNil),Restrict(FuncWithDom(A)))) -> 0.1, IsleScale(a,a ∈ AtCoord(TermsWithTyp,A :: HNil)) -> 0.7, IsleScale(@a,B ∈ Typs) -> 0.7, IsleScale(@a,B ∈ Typs) -> 0.7, IsleScale(@a,B ∈ Typs) -> 0.7, IsleScale(@a,B ∈ Typs) -> 0.7, IsleScale(@a,B ∈ Typs) -> 0.7, IsleScale(@a,B ∈ Typs) -> 0.7, P₀(Wrap(@a) ∈ Funcs) -> 0.4285714285714286, P₀(Wrap(@a) ∈ Funcs) -> 0.4285714285714286, IsleScale(@a,a ∈ Terms) -> 0.7, IsleScale(@a,a ∈ Terms) -> 0.7, IsleScale(((@a_1) , (@a_2)),((@a_1) , (@a_2)) ∈ Terms) -> 0.7, Coeff(Island(AtCoord(FuncsWithDomain,(A) → (A) :: HNil),Terms,AddVar,Lambda,EnterIsle)) -> 0.1, Coeff(Island(AtCoord(FuncsWithDomain,(B) → (A) :: HNil),Terms,AddVar,Lambda,EnterIsle)) -> 0.1, Coeff(BaseThenCondition(ZipMapOpt(UnifApplnOpt,TypFamilies,Terms,Terms),TypFamilies,Restrict(TypFamilyOpt))) -> 0.1, IsleScale(((@a_1) , (@a_2)),B ∈ Typs) -> 0.7, Coeff(FlatMap(Typs,provingground.learning.TermGeneratorNodes$$Lambda$2472/1302149935@2f5e646f,Typs)) -> 0.1, P₀(Wrap(@a) ∈ Funcs) -> 0.4285714285714286, P₀(Wrap(@a) ∈ Funcs) -> 0.4285714285714286, IsleScale(A,A ∈ Typs) -> 0.7, Coeff(Island(AtCoord(TermsWithTyp,(B) → (A) :: HNil),AtCoord(TermsWithTyp,A :: HNil),AddVar,Lambda,EnterIsle)) -> 0.485, IsleScale(@a,B ∈ Typs) -> 0.7, Coeff(BaseThenCondition(FlatMap(Typs,LambdaIsle,Terms),Funcs,Restrict(FuncOpt))) -> 0.1, IsleScale(@a,a ∈ Terms) -> 0.7, Coeff(BaseThenCondition(ZipMapOpt(UnifApplnOpt,Funcs,Terms,Terms),AtCoord(TermsWithTyp,A :: HNil),Filter(WithTyp(typ)))) -> 0.1, IsleScale(a,Wrap(@a) ∈ Funcs) -> 0.7, IsleScale(a,Wrap(@a) ∈ Funcs) -> 0.7, Coeff(BaseThenCondition(FiberProductMap(typeOf(_),FuncsWithDomain,FlipAppn,Terms,Terms),AtCoord(TermsWithTyp,A :: HNil),Filter(WithTyp(typ)))) -> 0.1, IsleScale(@a,A ∈ Typs) -> 0.7, IsleScale(((@a_1) , (@a_2)),B ∈ Typs) -> 0.7, Coeff(Init(Typs)) -> 0.6, Coeff(BaseThenCondition(FiberProductMap(domOf,TermsWithTyp,Appln,TypFamilies,Terms),TypFamilies,Restrict(TypFamilyOpt))) -> 0.1, Coeff(Init(Funcs)) -> 0.55, IsleScale(@a,Wrap(@a) ∈ Funcs) -> 0.7, IsleScale(@a,Wrap(@a) ∈ Funcs) -> 0.7, Coeff(Map(Identity,Typs,TypsAndFamilies)) -> 0.5, IsleScale(@a,@a ∈ Terms) -> 0.7, IsleScale(@a,@a ∈ Terms) -> 0.7, Coeff(BaseThenCondition(FiberProductMap(typeOf(_),FuncsWithDomain,FlipAppn,Terms,Terms),TypFamilies,Restrict(TypFamilyOpt))) -> 0.1, Coeff(FiberProductMap(domOf,TermsWithTyp,Appln,Funcs,Terms)) -> 0.1, IsleScale(@a,A ∈ Typs) -> 0.7, IsleScale(@a,A ∈ Typs) -> 0.7, IsleScale(@a,A ∈ Typs) -> 0.7, IsleScale(@a,A ∈ Typs) -> 0.7, IsleScale(@a,A ∈ Typs) -> 0.7, IsleScale(@a,A ∈ Typs) -> 0.7, IsleScale(B,B ∈ Typs) -> 0.7, IsleScale(@a,@a ∈ Terms) -> 0.7, IsleScale(a,a ∈ Terms) -> 0.7, Coeff(Map(Identity,Typs,TargetTyps)) -> 0.30000000000000004, Coeff(BaseThenCondition(ZipFlatMap(TargetTyps,TermsWithTyp,Proj2,Terms),TypFamilies,Restrict(TypFamilyOpt))) -> 0.05, IsleScale(((@a_1) , (@a_\u001b[39m..."
      ]
     },
     "execution_count": 26,
     "metadata": {},
     "output_type": "execute_result"
    }
   ],
   "source": [
    "val ss : Stream[Map[Expression, Double]] = evN.init #:: ss.map(m =>  nextMap(m, evN.equations, 0.5))"
   ]
  },
  {
   "cell_type": "code",
   "execution_count": 27,
   "metadata": {},
   "outputs": [
    {
     "data": {
      "text/plain": [
       "\u001b[36msizes\u001b[39m: \u001b[32mStream\u001b[39m[\u001b[32mInt\u001b[39m] = \u001b[32m[131 ...\u001b[39m"
      ]
     },
     "execution_count": 27,
     "metadata": {},
     "output_type": "execute_result"
    }
   ],
   "source": [
    "val sizes = ss.map(_.keySet.size)"
   ]
  },
  {
   "cell_type": "code",
   "execution_count": 28,
   "metadata": {},
   "outputs": [
    {
     "data": {
      "text/plain": [
       "\u001b[36mres27\u001b[39m: \u001b[32mInt\u001b[39m = \u001b[32m871\u001b[39m"
      ]
     },
     "execution_count": 28,
     "metadata": {},
     "output_type": "execute_result"
    }
   ],
   "source": [
    "sizes(2)"
   ]
  },
  {
   "cell_type": "code",
   "execution_count": 29,
   "metadata": {},
   "outputs": [
    {
     "data": {
      "text/plain": [
       "\u001b[36mres28\u001b[39m: \u001b[32mVector\u001b[39m[\u001b[32mInt\u001b[39m] = \u001b[33mVector\u001b[39m(\n",
       "  \u001b[32m131\u001b[39m,\n",
       "  \u001b[32m871\u001b[39m,\n",
       "  \u001b[32m871\u001b[39m,\n",
       "  \u001b[32m871\u001b[39m,\n",
       "  \u001b[32m871\u001b[39m,\n",
       "  \u001b[32m871\u001b[39m,\n",
       "  \u001b[32m871\u001b[39m,\n",
       "  \u001b[32m871\u001b[39m,\n",
       "  \u001b[32m871\u001b[39m,\n",
       "  \u001b[32m871\u001b[39m,\n",
       "  \u001b[32m871\u001b[39m,\n",
       "  \u001b[32m871\u001b[39m,\n",
       "  \u001b[32m871\u001b[39m,\n",
       "  \u001b[32m871\u001b[39m,\n",
       "  \u001b[32m871\u001b[39m,\n",
       "  \u001b[32m871\u001b[39m,\n",
       "  \u001b[32m871\u001b[39m,\n",
       "  \u001b[32m871\u001b[39m,\n",
       "  \u001b[32m871\u001b[39m,\n",
       "  \u001b[32m871\u001b[39m\n",
       ")"
      ]
     },
     "execution_count": 29,
     "metadata": {},
     "output_type": "execute_result"
    }
   ],
   "source": [
    "sizes.take(20).toVector"
   ]
  },
  {
   "cell_type": "code",
   "execution_count": 30,
   "metadata": {},
   "outputs": [
    {
     "data": {
      "text/plain": [
       "\u001b[36mstable\u001b[39m: \u001b[32mStream\u001b[39m[\u001b[32mBoolean\u001b[39m] = \u001b[32m[false ...\u001b[39m"
      ]
     },
     "execution_count": 30,
     "metadata": {},
     "output_type": "execute_result"
    }
   ],
   "source": [
    "val stable= ss.zip(ss.tail).map{case (m1, m2) => m1.keySet == m2.keySet}"
   ]
  },
  {
   "cell_type": "code",
   "execution_count": 31,
   "metadata": {},
   "outputs": [
    {
     "data": {
      "text/plain": [
       "\u001b[36mres30\u001b[39m: \u001b[32mVector\u001b[39m[\u001b[32mBoolean\u001b[39m] = \u001b[33mVector\u001b[39m(\n",
       "  false,\n",
       "  true,\n",
       "  true,\n",
       "  true,\n",
       "  true,\n",
       "  true,\n",
       "  true,\n",
       "  true,\n",
       "  true,\n",
       "  true,\n",
       "  true,\n",
       "  true,\n",
       "  true,\n",
       "  true,\n",
       "  true,\n",
       "  true,\n",
       "  true,\n",
       "  true,\n",
       "  true,\n",
       "  true\n",
       ")"
      ]
     },
     "execution_count": 31,
     "metadata": {},
     "output_type": "execute_result"
    }
   ],
   "source": [
    "stable.take(20).toVector"
   ]
  },
  {
   "cell_type": "code",
   "execution_count": 32,
   "metadata": {},
   "outputs": [
    {
     "data": {
      "text/plain": [
       "\u001b[36mratios\u001b[39m: \u001b[32mStream\u001b[39m[\u001b[32mDouble\u001b[39m] = \u001b[32m[1.0 ...\u001b[39m"
      ]
     },
     "execution_count": 32,
     "metadata": {},
     "output_type": "execute_result"
    }
   ],
   "source": [
    "val ratios = ss.tail.zip(ss.tail.tail).map{case (m1, m2) => mapRatio(m1, m2)}"
   ]
  },
  {
   "cell_type": "code",
   "execution_count": 33,
   "metadata": {},
   "outputs": [
    {
     "data": {
      "text/plain": [
       "\u001b[36mres32\u001b[39m: \u001b[32mVector\u001b[39m[\u001b[32mDouble\u001b[39m] = \u001b[33mVector\u001b[39m(\n",
       "  \u001b[32m1.0\u001b[39m,\n",
       "  \u001b[32m1.0\u001b[39m,\n",
       "  \u001b[32m1.0\u001b[39m,\n",
       "  \u001b[32m1.0\u001b[39m,\n",
       "  \u001b[32m1.0\u001b[39m,\n",
       "  \u001b[32m1.0\u001b[39m,\n",
       "  \u001b[32m1.0\u001b[39m,\n",
       "  \u001b[32m1.0\u001b[39m,\n",
       "  \u001b[32m1.0\u001b[39m,\n",
       "  \u001b[32m1.0\u001b[39m,\n",
       "  \u001b[32m1.0\u001b[39m,\n",
       "  \u001b[32m1.0\u001b[39m,\n",
       "  \u001b[32m1.0\u001b[39m,\n",
       "  \u001b[32m1.0\u001b[39m,\n",
       "  \u001b[32m1.0\u001b[39m,\n",
       "  \u001b[32m1.0\u001b[39m,\n",
       "  \u001b[32m1.0\u001b[39m,\n",
       "  \u001b[32m1.0\u001b[39m,\n",
       "  \u001b[32m1.0\u001b[39m,\n",
       "  \u001b[32m1.0\u001b[39m\n",
       ")"
      ]
     },
     "execution_count": 33,
     "metadata": {},
     "output_type": "execute_result"
    }
   ],
   "source": [
    "ratios.take(20).toVector"
   ]
  },
  {
   "cell_type": "markdown",
   "metadata": {},
   "source": [
    "## Bug narrowed: we are getting `NaN` in mapRatios"
   ]
  },
  {
   "cell_type": "code",
   "execution_count": 34,
   "metadata": {},
   "outputs": [
    {
     "data": {
      "text/plain": [
       "\u001b[36mzeroes\u001b[39m: \u001b[32mStream\u001b[39m[\u001b[32mMap\u001b[39m[\u001b[32mExpression\u001b[39m, \u001b[32mDouble\u001b[39m]] = \u001b[32m[Map() ...\u001b[39m"
      ]
     },
     "execution_count": 34,
     "metadata": {},
     "output_type": "execute_result"
    }
   ],
   "source": [
    "val zeroes = ss.map(_.filter(_._2 == 0))"
   ]
  },
  {
   "cell_type": "code",
   "execution_count": 35,
   "metadata": {},
   "outputs": [
    {
     "data": {
      "text/plain": [
       "\u001b[36mres34\u001b[39m: \u001b[32mVector\u001b[39m[\u001b[32mMap\u001b[39m[\u001b[32mExpression\u001b[39m, \u001b[32mDouble\u001b[39m]] = \u001b[33mVector\u001b[39m(\n",
       "  \u001b[33mMap\u001b[39m(),\n",
       "  \u001b[33mMap\u001b[39m(),\n",
       "  \u001b[33mMap\u001b[39m(),\n",
       "  \u001b[33mMap\u001b[39m(),\n",
       "  \u001b[33mMap\u001b[39m(),\n",
       "  \u001b[33mMap\u001b[39m(),\n",
       "  \u001b[33mMap\u001b[39m(),\n",
       "  \u001b[33mMap\u001b[39m(),\n",
       "  \u001b[33mMap\u001b[39m(),\n",
       "  \u001b[33mMap\u001b[39m(),\n",
       "  \u001b[33mMap\u001b[39m(),\n",
       "  \u001b[33mMap\u001b[39m(),\n",
       "  \u001b[33mMap\u001b[39m(),\n",
       "  \u001b[33mMap\u001b[39m(),\n",
       "  \u001b[33mMap\u001b[39m(),\n",
       "  \u001b[33mMap\u001b[39m(),\n",
       "  \u001b[33mMap\u001b[39m(),\n",
       "  \u001b[33mMap\u001b[39m(),\n",
       "  \u001b[33mMap\u001b[39m(),\n",
       "  \u001b[33mMap\u001b[39m()\n",
       ")"
      ]
     },
     "execution_count": 35,
     "metadata": {},
     "output_type": "execute_result"
    }
   ],
   "source": [
    "zeroes.take(20).toVector"
   ]
  },
  {
   "cell_type": "code",
   "execution_count": 36,
   "metadata": {},
   "outputs": [
    {
     "data": {
      "text/plain": [
       "\u001b[36mm1\u001b[39m: \u001b[32mMap\u001b[39m[\u001b[32mExpression\u001b[39m, \u001b[32mDouble\u001b[39m] = \u001b[33mMap\u001b[39m(\n",
       "  \u001b[33mInitialVal\u001b[39m(\n",
       "    \u001b[33mInIsle\u001b[39m(\n",
       "      \u001b[33mInIsle\u001b[39m(\n",
       "        \u001b[33mInIsle\u001b[39m(\n",
       "          \u001b[33mInIsle\u001b[39m(\n",
       "            \u001b[33mElem\u001b[39m(\u001b[32m(@a_1 , @a_2)\u001b[39m, Terms),\n",
       "            \u001b[32m(@a_1 , @a_2)\u001b[39m,\n",
       "            \u001b[33mIsland\u001b[39m(\n",
       "              Terms,\n",
       "              provingground.learning.TermRandomVars$$$Lambda$3079/68010752@7c3d5089,\n",
       "              \u001b[33mAddVar\u001b[39m(\u001b[32m@b×@a\u001b[39m),\n",
       "              Lambda,\n",
       "              EnterIsle\n",
       "            )\n",
       "          ),\n",
       "          \u001b[32m@a\u001b[39m,\n",
       "          \u001b[33mIsland\u001b[39m(\n",
       "            Terms,\n",
       "            provingground.learning.TermRandomVars$$$Lambda$3079/68010752@7726e262,\n",
       "            \u001b[33mAddVar\u001b[39m(\u001b[32m@a\u001b[39m),\n",
       "            Lambda,\n",
       "            EnterIsle\n",
       "          )\n",
       "        ),\n",
       "        \u001b[32m@b\u001b[39m,\n",
       "        \u001b[33mIsland\u001b[39m(\n",
       "          Typs,\n",
       "          provingground.learning.TermRandomVars$$$Lambda$3079/68010752@53e8f4a8,\n",
       "          \u001b[33mAddVar\u001b[39m(\u001b[32m𝒰 \u001b[39m),\n",
       "          Pi,\n",
       "          EnterIsle\n",
       "        )\n",
       "      ),\n",
       "      \u001b[32m@a\u001b[39m,\n",
       "      \u001b[33mIsland\u001b[39m(\n",
       "        Typs,\n",
       "...\n",
       "\u001b[36mm2\u001b[39m: \u001b[32mMap\u001b[39m[\u001b[32mExpression\u001b[39m, \u001b[32mDouble\u001b[39m] = \u001b[33mMap\u001b[39m(\n",
       "  \u001b[33mInitialVal\u001b[39m(\n",
       "    \u001b[33mInIsle\u001b[39m(\n",
       "      \u001b[33mInIsle\u001b[39m(\n",
       "        \u001b[33mInIsle\u001b[39m(\n",
       "          \u001b[33mInIsle\u001b[39m(\n",
       "            \u001b[33mElem\u001b[39m(\u001b[32m(@a_1 , @a_2)\u001b[39m, Terms),\n",
       "            \u001b[32m(@a_1 , @a_2)\u001b[39m,\n",
       "            \u001b[33mIsland\u001b[39m(\n",
       "              Terms,\n",
       "              provingground.learning.TermRandomVars$$$Lambda$3079/68010752@7c3d5089,\n",
       "              \u001b[33mAddVar\u001b[39m(\u001b[32m@b×@a\u001b[39m),\n",
       "              Lambda,\n",
       "              EnterIsle\n",
       "            )\n",
       "          ),\n",
       "          \u001b[32m@a\u001b[39m,\n",
       "          \u001b[33mIsland\u001b[39m(\n",
       "            Terms,\n",
       "            provingground.learning.TermRandomVars$$$Lambda$3079/68010752@7726e262,\n",
       "            \u001b[33mAddVar\u001b[39m(\u001b[32m@a\u001b[39m),\n",
       "            Lambda,\n",
       "            EnterIsle\n",
       "          )\n",
       "        ),\n",
       "        \u001b[32m@b\u001b[39m,\n",
       "        \u001b[33mIsland\u001b[39m(\n",
       "          Typs,\n",
       "          provingground.learning.TermRandomVars$$$Lambda$3079/68010752@53e8f4a8,\n",
       "          \u001b[33mAddVar\u001b[39m(\u001b[32m𝒰 \u001b[39m),\n",
       "          Pi,\n",
       "          EnterIsle\n",
       "        )\n",
       "      ),\n",
       "      \u001b[32m@a\u001b[39m,\n",
       "      \u001b[33mIsland\u001b[39m(\n",
       "        Typs,\n",
       "..."
      ]
     },
     "execution_count": 36,
     "metadata": {},
     "output_type": "execute_result"
    }
   ],
   "source": [
    "val m1 = ss(1)\n",
    "val m2 = ss(2)"
   ]
  },
  {
   "cell_type": "code",
   "execution_count": 37,
   "metadata": {},
   "outputs": [
    {
     "data": {
      "text/plain": [
       "\u001b[36mres36\u001b[39m: \u001b[32mDouble\u001b[39m = \u001b[32m1.0\u001b[39m"
      ]
     },
     "execution_count": 37,
     "metadata": {},
     "output_type": "execute_result"
    }
   ],
   "source": [
    "mapRatio(m1, m2)"
   ]
  },
  {
   "cell_type": "code",
   "execution_count": 38,
   "metadata": {},
   "outputs": [
    {
     "data": {
      "text/plain": [
       "\u001b[36mtriple\u001b[39m: \u001b[32mcollection\u001b[39m.\u001b[32mimmutable\u001b[39m.\u001b[32mIterable\u001b[39m[(\u001b[32mExpression\u001b[39m, \u001b[32mDouble\u001b[39m, \u001b[32mDouble\u001b[39m)] = \u001b[33mList\u001b[39m(\n",
       "  (\n",
       "    \u001b[33mInitialVal\u001b[39m(\n",
       "      \u001b[33mInIsle\u001b[39m(\n",
       "        \u001b[33mInIsle\u001b[39m(\n",
       "          \u001b[33mInIsle\u001b[39m(\n",
       "            \u001b[33mInIsle\u001b[39m(\n",
       "              \u001b[33mElem\u001b[39m(\u001b[32m(@a_1 , @a_2)\u001b[39m, Terms),\n",
       "              \u001b[32m(@a_1 , @a_2)\u001b[39m,\n",
       "              \u001b[33mIsland\u001b[39m(\n",
       "                Terms,\n",
       "                provingground.learning.TermRandomVars$$$Lambda$3079/68010752@7c3d5089,\n",
       "                \u001b[33mAddVar\u001b[39m(\u001b[32m@b×@a\u001b[39m),\n",
       "                Lambda,\n",
       "                EnterIsle\n",
       "              )\n",
       "            ),\n",
       "            \u001b[32m@a\u001b[39m,\n",
       "            \u001b[33mIsland\u001b[39m(\n",
       "              Terms,\n",
       "              provingground.learning.TermRandomVars$$$Lambda$3079/68010752@7726e262,\n",
       "              \u001b[33mAddVar\u001b[39m(\u001b[32m@a\u001b[39m),\n",
       "              Lambda,\n",
       "              EnterIsle\n",
       "            )\n",
       "          ),\n",
       "          \u001b[32m@b\u001b[39m,\n",
       "          \u001b[33mIsland\u001b[39m(\n",
       "            Typs,\n",
       "            provingground.learning.TermRandomVars$$$Lambda$3079/68010752@53e8f4a8,\n",
       "            \u001b[33mAddVar\u001b[39m(\u001b[32m𝒰 \u001b[39m),\n",
       "            Pi,\n",
       "            EnterIsle\n",
       "          )\n",
       "        ),\n",
       "        \u001b[32m@a\u001b[39m,\n",
       "..."
      ]
     },
     "execution_count": 38,
     "metadata": {},
     "output_type": "execute_result"
    }
   ],
   "source": [
    "val triple = m1.map{case (k, v) => (k, v, m2(k))}"
   ]
  },
  {
   "cell_type": "code",
   "execution_count": 39,
   "metadata": {},
   "outputs": [
    {
     "data": {
      "text/plain": [
       "\u001b[36mres38\u001b[39m: \u001b[32mcollection\u001b[39m.\u001b[32mimmutable\u001b[39m.\u001b[32mIterable\u001b[39m[(\u001b[32mExpression\u001b[39m, \u001b[32mDouble\u001b[39m, \u001b[32mDouble\u001b[39m)] = \u001b[33mList\u001b[39m()"
      ]
     },
     "execution_count": 39,
     "metadata": {},
     "output_type": "execute_result"
    }
   ],
   "source": [
    "triple.filter(t => t._2 == 0 || t._3 == 0)"
   ]
  },
  {
   "cell_type": "code",
   "execution_count": 40,
   "metadata": {},
   "outputs": [
    {
     "data": {
      "text/plain": [
       "\u001b[36mrt\u001b[39m: \u001b[32mcollection\u001b[39m.\u001b[32mimmutable\u001b[39m.\u001b[32mIterable\u001b[39m[(\u001b[32mDouble\u001b[39m, \u001b[32mDouble\u001b[39m)] = \u001b[33mList\u001b[39m(\n",
       "  (\u001b[32mNaN\u001b[39m, \u001b[32mNaN\u001b[39m),\n",
       "  (\u001b[32m1.0\u001b[39m, \u001b[32m1.0\u001b[39m),\n",
       "  (\u001b[32m1.0\u001b[39m, \u001b[32m1.0\u001b[39m),\n",
       "  (\u001b[32mNaN\u001b[39m, \u001b[32mNaN\u001b[39m),\n",
       "  (\u001b[32m1.0\u001b[39m, \u001b[32m1.0\u001b[39m),\n",
       "  (\u001b[32m1.0\u001b[39m, \u001b[32m1.0\u001b[39m),\n",
       "  (\u001b[32m1.0\u001b[39m, \u001b[32m1.0\u001b[39m),\n",
       "  (\u001b[32m1.0\u001b[39m, \u001b[32m1.0\u001b[39m),\n",
       "  (\u001b[32mNaN\u001b[39m, \u001b[32mNaN\u001b[39m),\n",
       "  (\u001b[32m1.0\u001b[39m, \u001b[32m1.0\u001b[39m),\n",
       "  (\u001b[32m1.0\u001b[39m, \u001b[32m1.0\u001b[39m),\n",
       "  (\u001b[32m1.0\u001b[39m, \u001b[32m1.0\u001b[39m),\n",
       "  (\u001b[32m1.0\u001b[39m, \u001b[32m1.0\u001b[39m),\n",
       "  (\u001b[32m1.0\u001b[39m, \u001b[32m1.0\u001b[39m),\n",
       "  (\u001b[32mNaN\u001b[39m, \u001b[32mNaN\u001b[39m),\n",
       "  (\u001b[32mNaN\u001b[39m, \u001b[32mNaN\u001b[39m),\n",
       "  (\u001b[32m1.0\u001b[39m, \u001b[32m1.0\u001b[39m),\n",
       "  (\u001b[32mNaN\u001b[39m, \u001b[32mNaN\u001b[39m),\n",
       "  (\u001b[32mNaN\u001b[39m, \u001b[32mNaN\u001b[39m),\n",
       "  (\u001b[32m1.0\u001b[39m, \u001b[32m1.0\u001b[39m),\n",
       "  (\u001b[32m1.0\u001b[39m, \u001b[32m1.0\u001b[39m),\n",
       "  (\u001b[32m1.0\u001b[39m, \u001b[32m1.0\u001b[39m),\n",
       "  (\u001b[32mNaN\u001b[39m, \u001b[32mNaN\u001b[39m),\n",
       "  (\u001b[32mNaN\u001b[39m, \u001b[32mNaN\u001b[39m),\n",
       "  (\u001b[32m1.0\u001b[39m, \u001b[32m1.0\u001b[39m),\n",
       "  (\u001b[32m1.0\u001b[39m, \u001b[32m1.0\u001b[39m),\n",
       "  (\u001b[32mNaN\u001b[39m, \u001b[32mNaN\u001b[39m),\n",
       "  (\u001b[32mNaN\u001b[39m, \u001b[32mNaN\u001b[39m),\n",
       "  (\u001b[32m1.0\u001b[39m, \u001b[32m1.0\u001b[39m),\n",
       "  (\u001b[32m1.0\u001b[39m, \u001b[32m1.0\u001b[39m),\n",
       "  (\u001b[32m1.0\u001b[39m, \u001b[32m1.0\u001b[39m),\n",
       "  (\u001b[32mNaN\u001b[39m, \u001b[32mNaN\u001b[39m),\n",
       "  (\u001b[32m1.0\u001b[39m, \u001b[32m1.0\u001b[39m),\n",
       "  (\u001b[32m1.0\u001b[39m, \u001b[32m1.0\u001b[39m),\n",
       "  (\u001b[32mNaN\u001b[39m, \u001b[32mNaN\u001b[39m),\n",
       "  (\u001b[32m1.0\u001b[39m, \u001b[32m1.0\u001b[39m),\n",
       "  (\u001b[32m1.0\u001b[39m, \u001b[32m1.0\u001b[39m),\n",
       "  (\u001b[32m1.0\u001b[39m, \u001b[32m1.0\u001b[39m),\n",
       "..."
      ]
     },
     "execution_count": 40,
     "metadata": {},
     "output_type": "execute_result"
    }
   ],
   "source": [
    "val rt = triple.map(t => (t._2/t._3, t._3/ t._2))"
   ]
  },
  {
   "cell_type": "code",
   "execution_count": 41,
   "metadata": {},
   "outputs": [
    {
     "data": {
      "text/plain": [
       "\u001b[36mres40_0\u001b[39m: \u001b[32mDouble\u001b[39m = \u001b[32m-0.7\u001b[39m\n",
       "\u001b[36mres40_1\u001b[39m: \u001b[32mDouble\u001b[39m = \u001b[32mNaN\u001b[39m"
      ]
     },
     "execution_count": 41,
     "metadata": {},
     "output_type": "execute_result"
    }
   ],
   "source": [
    "triple.head._2\n",
    "triple.head._3"
   ]
  },
  {
   "cell_type": "code",
   "execution_count": 42,
   "metadata": {},
   "outputs": [
    {
     "data": {
      "text/plain": [
       "\u001b[36mres41\u001b[39m: \u001b[32mcollection\u001b[39m.\u001b[32mimmutable\u001b[39m.\u001b[32mIterable\u001b[39m[\u001b[32mDouble\u001b[39m] = \u001b[33mList\u001b[39m(\n",
       "  \u001b[32mNaN\u001b[39m,\n",
       "  \u001b[32m1.0\u001b[39m,\n",
       "  \u001b[32m1.0\u001b[39m,\n",
       "  \u001b[32mNaN\u001b[39m,\n",
       "  \u001b[32m1.0\u001b[39m,\n",
       "  \u001b[32m1.0\u001b[39m,\n",
       "  \u001b[32m1.0\u001b[39m,\n",
       "  \u001b[32m1.0\u001b[39m,\n",
       "  \u001b[32mNaN\u001b[39m,\n",
       "  \u001b[32m1.0\u001b[39m,\n",
       "  \u001b[32m1.0\u001b[39m,\n",
       "  \u001b[32m1.0\u001b[39m,\n",
       "  \u001b[32m1.0\u001b[39m,\n",
       "  \u001b[32m1.0\u001b[39m,\n",
       "  \u001b[32mNaN\u001b[39m,\n",
       "  \u001b[32mNaN\u001b[39m,\n",
       "  \u001b[32m1.0\u001b[39m,\n",
       "  \u001b[32mNaN\u001b[39m,\n",
       "  \u001b[32mNaN\u001b[39m,\n",
       "  \u001b[32m1.0\u001b[39m,\n",
       "  \u001b[32m0.1\u001b[39m,\n",
       "  \u001b[32m1.0\u001b[39m,\n",
       "  \u001b[32mNaN\u001b[39m,\n",
       "  \u001b[32mNaN\u001b[39m,\n",
       "  \u001b[32m1.0\u001b[39m,\n",
       "  \u001b[32m1.0\u001b[39m,\n",
       "  \u001b[32mNaN\u001b[39m,\n",
       "  \u001b[32mNaN\u001b[39m,\n",
       "  \u001b[32m1.0\u001b[39m,\n",
       "  \u001b[32m1.0\u001b[39m,\n",
       "  \u001b[32m1.0\u001b[39m,\n",
       "  \u001b[32mNaN\u001b[39m,\n",
       "  \u001b[32m1.0\u001b[39m,\n",
       "  \u001b[32m0.7\u001b[39m,\n",
       "  \u001b[32mNaN\u001b[39m,\n",
       "  \u001b[32m1.0\u001b[39m,\n",
       "  \u001b[32m1.0\u001b[39m,\n",
       "  \u001b[32m1.0\u001b[39m,\n",
       "..."
      ]
     },
     "execution_count": 42,
     "metadata": {},
     "output_type": "execute_result"
    }
   ],
   "source": [
    "triple.map(_._3)"
   ]
  },
  {
   "cell_type": "code",
   "execution_count": 43,
   "metadata": {},
   "outputs": [
    {
     "data": {
      "text/plain": [
       "\u001b[36mres42\u001b[39m: \u001b[32mcollection\u001b[39m.\u001b[32mimmutable\u001b[39m.\u001b[32mIterable\u001b[39m[(\u001b[32mExpression\u001b[39m, \u001b[32mDouble\u001b[39m, \u001b[32mDouble\u001b[39m)] = \u001b[33mList\u001b[39m(\n",
       "  (\n",
       "    \u001b[33mInitialVal\u001b[39m(\n",
       "      \u001b[33mInIsle\u001b[39m(\n",
       "        \u001b[33mInIsle\u001b[39m(\n",
       "          \u001b[33mInIsle\u001b[39m(\n",
       "            \u001b[33mInIsle\u001b[39m(\n",
       "              \u001b[33mElem\u001b[39m(\u001b[32m(@a_1 , @a_2)\u001b[39m, Terms),\n",
       "              \u001b[32m(@a_1 , @a_2)\u001b[39m,\n",
       "              \u001b[33mIsland\u001b[39m(\n",
       "                Terms,\n",
       "                provingground.learning.TermRandomVars$$$Lambda$3079/68010752@7c3d5089,\n",
       "                \u001b[33mAddVar\u001b[39m(\u001b[32m@b×@a\u001b[39m),\n",
       "                Lambda,\n",
       "                EnterIsle\n",
       "              )\n",
       "            ),\n",
       "            \u001b[32m@a\u001b[39m,\n",
       "            \u001b[33mIsland\u001b[39m(\n",
       "              Terms,\n",
       "              provingground.learning.TermRandomVars$$$Lambda$3079/68010752@7726e262,\n",
       "              \u001b[33mAddVar\u001b[39m(\u001b[32m@a\u001b[39m),\n",
       "              Lambda,\n",
       "              EnterIsle\n",
       "            )\n",
       "          ),\n",
       "          \u001b[32m@b\u001b[39m,\n",
       "          \u001b[33mIsland\u001b[39m(\n",
       "            Typs,\n",
       "            provingground.learning.TermRandomVars$$$Lambda$3079/68010752@53e8f4a8,\n",
       "            \u001b[33mAddVar\u001b[39m(\u001b[32m𝒰 \u001b[39m),\n",
       "            Pi,\n",
       "            EnterIsle\n",
       "          )\n",
       "        ),\n",
       "        \u001b[32m@a\u001b[39m,\n",
       "..."
      ]
     },
     "execution_count": 43,
     "metadata": {},
     "output_type": "execute_result"
    }
   ],
   "source": [
    "triple.filterNot(_._3 < 2)"
   ]
  },
  {
   "cell_type": "code",
   "execution_count": 44,
   "metadata": {},
   "outputs": [
    {
     "data": {
      "text/plain": [
       "\u001b[36mres43\u001b[39m: \u001b[32mSet\u001b[39m[\u001b[32mDouble\u001b[39m] = \u001b[33mSet\u001b[39m(\n",
       "  \u001b[32m0.485\u001b[39m,\n",
       "  \u001b[32m0.16500000000000004\u001b[39m,\n",
       "  \u001b[32m0.3\u001b[39m,\n",
       "  \u001b[32m0.6\u001b[39m,\n",
       "  \u001b[32m1.0\u001b[39m,\n",
       "  \u001b[32m0.7\u001b[39m,\n",
       "  \u001b[32m0.05\u001b[39m,\n",
       "  \u001b[32m-0.7\u001b[39m,\n",
       "  \u001b[32m0.1\u001b[39m,\n",
       "  \u001b[32m0.5\u001b[39m,\n",
       "  \u001b[32m0.55\u001b[39m,\n",
       "  \u001b[32m0.4285714285714286\u001b[39m,\n",
       "  \u001b[32m0.30000000000000004\u001b[39m\n",
       ")"
      ]
     },
     "execution_count": 44,
     "metadata": {},
     "output_type": "execute_result"
    }
   ],
   "source": [
    "m1.values.toSet"
   ]
  },
  {
   "cell_type": "code",
   "execution_count": 45,
   "metadata": {},
   "outputs": [
    {
     "data": {
      "text/plain": [
       "\u001b[36mres44\u001b[39m: \u001b[32mSet\u001b[39m[\u001b[32mDouble\u001b[39m] = \u001b[33mSet\u001b[39m(\n",
       "  \u001b[32m0.485\u001b[39m,\n",
       "  \u001b[32m0.16500000000000004\u001b[39m,\n",
       "  \u001b[32m0.6\u001b[39m,\n",
       "  \u001b[32m0.29999999999999993\u001b[39m,\n",
       "  \u001b[32m1.0\u001b[39m,\n",
       "  \u001b[32m0.7\u001b[39m,\n",
       "  \u001b[32m0.05\u001b[39m,\n",
       "  \u001b[32m0.1\u001b[39m,\n",
       "  \u001b[32mNaN\u001b[39m,\n",
       "  \u001b[32mNaN\u001b[39m,\n",
       "  \u001b[32mNaN\u001b[39m,\n",
       "  \u001b[32mNaN\u001b[39m,\n",
       "  \u001b[32mNaN\u001b[39m,\n",
       "  \u001b[32mNaN\u001b[39m,\n",
       "  \u001b[32mNaN\u001b[39m,\n",
       "  \u001b[32mNaN\u001b[39m,\n",
       "  \u001b[32mNaN\u001b[39m,\n",
       "  \u001b[32mNaN\u001b[39m,\n",
       "  \u001b[32mNaN\u001b[39m,\n",
       "  \u001b[32mNaN\u001b[39m,\n",
       "  \u001b[32mNaN\u001b[39m,\n",
       "  \u001b[32mNaN\u001b[39m,\n",
       "  \u001b[32mNaN\u001b[39m,\n",
       "  \u001b[32mNaN\u001b[39m,\n",
       "  \u001b[32mNaN\u001b[39m,\n",
       "  \u001b[32mNaN\u001b[39m,\n",
       "  \u001b[32mNaN\u001b[39m,\n",
       "  \u001b[32mNaN\u001b[39m,\n",
       "  \u001b[32mNaN\u001b[39m,\n",
       "  \u001b[32mNaN\u001b[39m,\n",
       "  \u001b[32mNaN\u001b[39m,\n",
       "  \u001b[32mNaN\u001b[39m,\n",
       "  \u001b[32mNaN\u001b[39m,\n",
       "  \u001b[32mNaN\u001b[39m,\n",
       "  \u001b[32mNaN\u001b[39m,\n",
       "  \u001b[32mNaN\u001b[39m,\n",
       "  \u001b[32mNaN\u001b[39m,\n",
       "  \u001b[32mNaN\u001b[39m,\n",
       "..."
      ]
     },
     "execution_count": 45,
     "metadata": {},
     "output_type": "execute_result"
    }
   ],
   "source": [
    "m2.values.toSet"
   ]
  },
  {
   "cell_type": "code",
   "execution_count": 46,
   "metadata": {},
   "outputs": [
    {
     "data": {
      "text/plain": [
       "\u001b[36msteps\u001b[39m: \u001b[32mSet\u001b[39m[(\u001b[32mDouble\u001b[39m, \u001b[32mEquationNode\u001b[39m)] = \u001b[33mSet\u001b[39m(\n",
       "  (\n",
       "    \u001b[32m0.0\u001b[39m,\n",
       "    \u001b[33mEquationNode\u001b[39m(\n",
       "      \u001b[33mFinalVal\u001b[39m(\n",
       "        \u001b[33mInIsle\u001b[39m(\n",
       "          \u001b[33mInIsle\u001b[39m(\n",
       "            \u001b[33mInIsle\u001b[39m(\n",
       "              \u001b[33mElem\u001b[39m(\u001b[32m@a\u001b[39m, Typs),\n",
       "              \u001b[32m@a\u001b[39m,\n",
       "              \u001b[33mIsland\u001b[39m(\n",
       "                Terms,\n",
       "                provingground.learning.TermRandomVars$$$Lambda$3079/68010752@41921e1d,\n",
       "                \u001b[33mAddVar\u001b[39m(\u001b[32m@a\u001b[39m),\n",
       "                Lambda,\n",
       "                EnterIsle\n",
       "              )\n",
       "            ),\n",
       "            \u001b[32m@b\u001b[39m,\n",
       "            \u001b[33mIsland\u001b[39m(\n",
       "              Terms,\n",
       "              provingground.learning.TermRandomVars$$$Lambda$3079/68010752@75667428,\n",
       "              \u001b[33mAddVar\u001b[39m(\u001b[32m𝒰 \u001b[39m),\n",
       "              Lambda,\n",
       "              EnterIsle\n",
       "            )\n",
       "          ),\n",
       "          \u001b[32m@a\u001b[39m,\n",
       "          \u001b[33mIsland\u001b[39m(\n",
       "            Typs,\n",
       "            provingground.learning.TermRandomVars$$$Lambda$3079/68010752@4beb28bf,\n",
       "            \u001b[33mAddVar\u001b[39m(\u001b[32m𝒰 \u001b[39m),\n",
       "            Pi,\n",
       "            EnterIsle\n",
       "          )\n",
       "        )\n",
       "..."
      ]
     },
     "execution_count": 46,
     "metadata": {},
     "output_type": "execute_result"
    }
   ],
   "source": [
    "val steps  = normEqs.map(eq => recExp(m1, eq.rhs) -> eq)"
   ]
  },
  {
   "cell_type": "code",
   "execution_count": 47,
   "metadata": {},
   "outputs": [
    {
     "data": {
      "text/plain": [
       "\u001b[36mres46\u001b[39m: \u001b[32mSet\u001b[39m[\u001b[32mDouble\u001b[39m] = \u001b[33mSet\u001b[39m(\u001b[32m0.0\u001b[39m, \u001b[32m0.3\u001b[39m, \u001b[32m1.0\u001b[39m, \u001b[32m-0.7\u001b[39m)"
      ]
     },
     "execution_count": 47,
     "metadata": {},
     "output_type": "execute_result"
    }
   ],
   "source": [
    "steps.map(_._1)"
   ]
  },
  {
   "cell_type": "code",
   "execution_count": 48,
   "metadata": {},
   "outputs": [
    {
     "data": {
      "text/plain": [
       "\u001b[36mneg\u001b[39m: \u001b[32mOption\u001b[39m[(\u001b[32mDouble\u001b[39m, \u001b[32mEquationNode\u001b[39m)] = \u001b[33mSome\u001b[39m(\n",
       "  (\n",
       "    \u001b[32m-0.7\u001b[39m,\n",
       "    \u001b[33mEquationNode\u001b[39m(\n",
       "      \u001b[33mInitialVal\u001b[39m(\n",
       "        \u001b[33mInIsle\u001b[39m(\n",
       "          \u001b[33mInIsle\u001b[39m(\n",
       "            \u001b[33mInIsle\u001b[39m(\n",
       "              \u001b[33mElem\u001b[39m(\u001b[32m@a\u001b[39m, \u001b[33mAtCoord\u001b[39m(TermsWithTyp, \u001b[32m@a\u001b[39m :: HNil)),\n",
       "              \u001b[32m@a\u001b[39m,\n",
       "              \u001b[33mIsland\u001b[39m(\n",
       "                Typs,\n",
       "                provingground.learning.TermRandomVars$$$Lambda$3079/68010752@408e8678,\n",
       "                \u001b[33mAddVar\u001b[39m(\u001b[32m@a\u001b[39m),\n",
       "                Pi,\n",
       "                EnterIsle\n",
       "              )\n",
       "            ),\n",
       "            \u001b[32m@b\u001b[39m,\n",
       "            \u001b[33mIsland\u001b[39m(\n",
       "              Typs,\n",
       "              provingground.learning.TermRandomVars$$$Lambda$3079/68010752@66c9287a,\n",
       "              \u001b[33mAddVar\u001b[39m(\u001b[32m𝒰 \u001b[39m),\n",
       "              Pi,\n",
       "              EnterIsle\n",
       "            )\n",
       "          ),\n",
       "          \u001b[32m@a\u001b[39m,\n",
       "          \u001b[33mIsland\u001b[39m(\n",
       "            Typs,\n",
       "            provingground.learning.TermRandomVars$$$Lambda$3079/68010752@d3fe061,\n",
       "            \u001b[33mAddVar\u001b[39m(\u001b[32m𝒰 \u001b[39m),\n",
       "            Pi,\n",
       "            EnterIsle\n",
       "          )\n",
       "        )\n",
       "..."
      ]
     },
     "execution_count": 48,
     "metadata": {},
     "output_type": "execute_result"
    }
   ],
   "source": [
    "val neg = steps.find(_._1 < 0)"
   ]
  },
  {
   "cell_type": "code",
   "execution_count": 49,
   "metadata": {},
   "outputs": [
    {
     "data": {
      "text/plain": [
       "\u001b[36mres48\u001b[39m: \u001b[32mExpression\u001b[39m = \u001b[33mProduct\u001b[39m(\n",
       "  \u001b[33mIsleScale\u001b[39m(\u001b[32ma\u001b[39m, \u001b[33mElem\u001b[39m(\u001b[32ma\u001b[39m, \u001b[33mAtCoord\u001b[39m(TermsWithTyp, \u001b[32mA\u001b[39m :: HNil))),\n",
       "  \u001b[33mLiteral\u001b[39m(\u001b[32m-1.0\u001b[39m)\n",
       ")"
      ]
     },
     "execution_count": 49,
     "metadata": {},
     "output_type": "execute_result"
    }
   ],
   "source": [
    "neg.get._2.rhs"
   ]
  },
  {
   "cell_type": "code",
   "execution_count": 51,
   "metadata": {},
   "outputs": [
    {
     "data": {
      "text/plain": [
       "\u001b[36msource\u001b[39m: \u001b[32mOption\u001b[39m[\u001b[32mEquationNode\u001b[39m] = \u001b[32mNone\u001b[39m"
      ]
     },
     "execution_count": 51,
     "metadata": {},
     "output_type": "execute_result"
    }
   ],
   "source": [
    "val source = eqs.find(eq => TermData.isleNormalize(eq) == neg.get)"
   ]
  },
  {
   "cell_type": "code",
   "execution_count": 52,
   "metadata": {},
   "outputs": [
    {
     "data": {
      "text/plain": [
       "\u001b[36msource\u001b[39m: \u001b[32mSet\u001b[39m[\u001b[32mEquationNode\u001b[39m] = \u001b[33mSet\u001b[39m()"
      ]
     },
     "execution_count": 52,
     "metadata": {},
     "output_type": "execute_result"
    }
   ],
   "source": [
    "val source = eqs.filter(eq => TermData.isleNormalize(eq).lhs == neg.get._2.lhs)"
   ]
  },
  {
   "cell_type": "code",
   "execution_count": 53,
   "metadata": {},
   "outputs": [
    {
     "data": {
      "text/plain": [
       "\u001b[36mres52\u001b[39m: \u001b[32mBoolean\u001b[39m = true"
      ]
     },
     "execution_count": 53,
     "metadata": {},
     "output_type": "execute_result"
    }
   ],
   "source": [
    "normEqs.contains(neg.get._2)"
   ]
  },
  {
   "cell_type": "code",
   "execution_count": 54,
   "metadata": {},
   "outputs": [
    {
     "data": {
      "text/plain": [
       "\u001b[36mres53\u001b[39m: \u001b[32mBoolean\u001b[39m = false"
      ]
     },
     "execution_count": 54,
     "metadata": {},
     "output_type": "execute_result"
    }
   ],
   "source": [
    "normEqs == eqs.map(eq => TermData.isleNormalize(eq))"
   ]
  },
  {
   "cell_type": "code",
   "execution_count": 55,
   "metadata": {},
   "outputs": [
    {
     "data": {
      "text/plain": [
       "\u001b[36mres54\u001b[39m: \u001b[32mSet\u001b[39m[\u001b[32mEquationNode\u001b[39m] = \u001b[33mSet\u001b[39m(\n",
       "  \u001b[33mEquationNode\u001b[39m(\n",
       "    \u001b[33mFinalVal\u001b[39m(\n",
       "      \u001b[33mInIsle\u001b[39m(\n",
       "        \u001b[33mInIsle\u001b[39m(\n",
       "          \u001b[33mInIsle\u001b[39m(\n",
       "            \u001b[33mElem\u001b[39m(\u001b[32m@a\u001b[39m, Terms),\n",
       "            \u001b[32m@a\u001b[39m,\n",
       "            \u001b[33mIsland\u001b[39m(\n",
       "              Typs,\n",
       "              provingground.learning.TermRandomVars$$$Lambda$3079/68010752@7e094e58,\n",
       "              \u001b[33mAddVar\u001b[39m(\u001b[32m@a\u001b[39m),\n",
       "              Pi,\n",
       "              EnterIsle\n",
       "            )\n",
       "          ),\n",
       "          \u001b[32m@b\u001b[39m,\n",
       "          \u001b[33mIsland\u001b[39m(\n",
       "            Terms,\n",
       "            provingground.learning.TermRandomVars$$$Lambda$3079/68010752@170773c9,\n",
       "            \u001b[33mAddVar\u001b[39m(\u001b[32m𝒰 \u001b[39m),\n",
       "            Lambda,\n",
       "            EnterIsle\n",
       "          )\n",
       "        ),\n",
       "        \u001b[32m@a\u001b[39m,\n",
       "        \u001b[33mIsland\u001b[39m(\n",
       "          Typs,\n",
       "          provingground.learning.TermRandomVars$$$Lambda$3079/68010752@5dbdcb12,\n",
       "          \u001b[33mAddVar\u001b[39m(\u001b[32m𝒰 \u001b[39m),\n",
       "          Pi,\n",
       "          EnterIsle\n",
       "        )\n",
       "      )\n",
       "    ),\n",
       "    \u001b[33mProduct\u001b[39m(\n",
       "      \u001b[33mProduct\u001b[39m(\n",
       "..."
      ]
     },
     "execution_count": 55,
     "metadata": {},
     "output_type": "execute_result"
    }
   ],
   "source": [
    "normEqs -- eqs.map(eq => TermData.isleNormalize(eq))"
   ]
  },
  {
   "cell_type": "code",
   "execution_count": 57,
   "metadata": {},
   "outputs": [
    {
     "data": {
      "text/plain": [
       "\u001b[36mbadEq\u001b[39m: \u001b[32mEquationNode\u001b[39m = \u001b[33mEquationNode\u001b[39m(\n",
       "  \u001b[33mFinalVal\u001b[39m(\n",
       "    \u001b[33mInIsle\u001b[39m(\n",
       "      \u001b[33mInIsle\u001b[39m(\n",
       "        \u001b[33mInIsle\u001b[39m(\n",
       "          \u001b[33mInIsle\u001b[39m(\n",
       "            \u001b[33mElem\u001b[39m(\u001b[32m(@a : B) ↦ @a\u001b[39m, Terms),\n",
       "            \u001b[32m@a\u001b[39m,\n",
       "            \u001b[33mIsland\u001b[39m(Terms, \u001b[33mConstRandVar\u001b[39m(Terms), \u001b[33mAddVar\u001b[39m(\u001b[32mA\u001b[39m), Lambda, EnterIsle)\n",
       "          ),\n",
       "          \u001b[32ma\u001b[39m,\n",
       "          \u001b[33mIsland\u001b[39m(\n",
       "            Typs,\n",
       "            \u001b[33mConstRandVar\u001b[39m(Typs),\n",
       "            provingground.learning.ExpressionEval$$Lambda$2811/973096168@223eea22,\n",
       "            Pi,\n",
       "            EnterIsle\n",
       "          )\n",
       "        ),\n",
       "        \u001b[32mB\u001b[39m,\n",
       "        \u001b[33mIsland\u001b[39m(\n",
       "          Typs,\n",
       "          \u001b[33mConstRandVar\u001b[39m(Typs),\n",
       "          provingground.learning.ExpressionEval$$Lambda$2811/973096168@1a048ff7,\n",
       "          Pi,\n",
       "          EnterIsle\n",
       "        )\n",
       "      ),\n",
       "      \u001b[32mA\u001b[39m,\n",
       "      \u001b[33mIsland\u001b[39m(\n",
       "        Typs,\n",
       "        \u001b[33mConstRandVar\u001b[39m(Typs),\n",
       "        provingground.learning.ExpressionEval$$Lambda$2811/973096168@5c8d4da1,\n",
       "        Pi,\n",
       "        EnterIsle\n",
       "      )\n",
       "    )\n",
       "  ),\n",
       "..."
      ]
     },
     "execution_count": 57,
     "metadata": {},
     "output_type": "execute_result"
    }
   ],
   "source": [
    "val badEq = eqs.find(eq => TermData.isleNormalize(eq) != TermData.isleNormalize(eq)).get"
   ]
  },
  {
   "cell_type": "code",
   "execution_count": 58,
   "metadata": {},
   "outputs": [
    {
     "data": {
      "text/plain": [
       "\u001b[36meq1\u001b[39m: \u001b[32mEquationNode\u001b[39m = \u001b[33mEquationNode\u001b[39m(\n",
       "  \u001b[33mFinalVal\u001b[39m(\n",
       "    \u001b[33mInIsle\u001b[39m(\n",
       "      \u001b[33mInIsle\u001b[39m(\n",
       "        \u001b[33mInIsle\u001b[39m(\n",
       "          \u001b[33mInIsle\u001b[39m(\n",
       "            \u001b[33mElem\u001b[39m(\u001b[32m(@a : @b) ↦ @a\u001b[39m, Terms),\n",
       "            \u001b[32m@b\u001b[39m,\n",
       "            \u001b[33mIsland\u001b[39m(\n",
       "              Terms,\n",
       "              provingground.learning.TermRandomVars$$$Lambda$3079/68010752@26123324,\n",
       "              \u001b[33mAddVar\u001b[39m(\u001b[32m@a\u001b[39m),\n",
       "              Lambda,\n",
       "              EnterIsle\n",
       "            )\n",
       "          ),\n",
       "          \u001b[32m@a\u001b[39m,\n",
       "          \u001b[33mIsland\u001b[39m(\n",
       "            Typs,\n",
       "            provingground.learning.TermRandomVars$$$Lambda$3079/68010752@653d968d,\n",
       "            \u001b[33mAddVar\u001b[39m(\u001b[32m@a\u001b[39m),\n",
       "            Pi,\n",
       "            EnterIsle\n",
       "          )\n",
       "        ),\n",
       "        \u001b[32m@b\u001b[39m,\n",
       "        \u001b[33mIsland\u001b[39m(\n",
       "          Typs,\n",
       "          provingground.learning.TermRandomVars$$$Lambda$3079/68010752@6f8d3f18,\n",
       "          \u001b[33mAddVar\u001b[39m(\u001b[32m𝒰 \u001b[39m),\n",
       "          Pi,\n",
       "          EnterIsle\n",
       "        )\n",
       "      ),\n",
       "      \u001b[32m@a\u001b[39m,\n",
       "      \u001b[33mIsland\u001b[39m(\n",
       "        Typs,\n",
       "..."
      ]
     },
     "execution_count": 58,
     "metadata": {},
     "output_type": "execute_result"
    }
   ],
   "source": [
    "val eq1 = TermData.isleNormalize(badEq)"
   ]
  },
  {
   "cell_type": "code",
   "execution_count": 59,
   "metadata": {},
   "outputs": [
    {
     "data": {
      "text/plain": [
       "\u001b[36meq2\u001b[39m: \u001b[32mEquationNode\u001b[39m = \u001b[33mEquationNode\u001b[39m(\n",
       "  \u001b[33mFinalVal\u001b[39m(\n",
       "    \u001b[33mInIsle\u001b[39m(\n",
       "      \u001b[33mInIsle\u001b[39m(\n",
       "        \u001b[33mInIsle\u001b[39m(\n",
       "          \u001b[33mInIsle\u001b[39m(\n",
       "            \u001b[33mElem\u001b[39m(\u001b[32m(@a : @b) ↦ @a\u001b[39m, Terms),\n",
       "            \u001b[32m@b\u001b[39m,\n",
       "            \u001b[33mIsland\u001b[39m(\n",
       "              Terms,\n",
       "              provingground.learning.TermRandomVars$$$Lambda$3079/68010752@3666a4bd,\n",
       "              \u001b[33mAddVar\u001b[39m(\u001b[32m@a\u001b[39m),\n",
       "              Lambda,\n",
       "              EnterIsle\n",
       "            )\n",
       "          ),\n",
       "          \u001b[32m@a\u001b[39m,\n",
       "          \u001b[33mIsland\u001b[39m(\n",
       "            Typs,\n",
       "            provingground.learning.TermRandomVars$$$Lambda$3079/68010752@5e754e5e,\n",
       "            \u001b[33mAddVar\u001b[39m(\u001b[32m@a\u001b[39m),\n",
       "            Pi,\n",
       "            EnterIsle\n",
       "          )\n",
       "        ),\n",
       "        \u001b[32m@b\u001b[39m,\n",
       "        \u001b[33mIsland\u001b[39m(\n",
       "          Typs,\n",
       "          provingground.learning.TermRandomVars$$$Lambda$3079/68010752@1f913741,\n",
       "          \u001b[33mAddVar\u001b[39m(\u001b[32m𝒰 \u001b[39m),\n",
       "          Pi,\n",
       "          EnterIsle\n",
       "        )\n",
       "      ),\n",
       "      \u001b[32m@a\u001b[39m,\n",
       "      \u001b[33mIsland\u001b[39m(\n",
       "        Typs,\n",
       "..."
      ]
     },
     "execution_count": 59,
     "metadata": {},
     "output_type": "execute_result"
    }
   ],
   "source": [
    "val eq2 = TermData.isleNormalize(badEq)"
   ]
  },
  {
   "cell_type": "code",
   "execution_count": 60,
   "metadata": {},
   "outputs": [
    {
     "data": {
      "text/plain": [
       "\u001b[36mres59\u001b[39m: \u001b[32mBoolean\u001b[39m = false"
      ]
     },
     "execution_count": 60,
     "metadata": {},
     "output_type": "execute_result"
    }
   ],
   "source": [
    "eq1 == eq2"
   ]
  },
  {
   "cell_type": "code",
   "execution_count": 61,
   "metadata": {},
   "outputs": [
    {
     "data": {
      "text/plain": [
       "\u001b[36mres60\u001b[39m: \u001b[32mBoolean\u001b[39m = false"
      ]
     },
     "execution_count": 61,
     "metadata": {},
     "output_type": "execute_result"
    }
   ],
   "source": [
    "eq1.rhs ==eq2.rhs"
   ]
  },
  {
   "cell_type": "code",
   "execution_count": 62,
   "metadata": {},
   "outputs": [
    {
     "data": {
      "text/plain": [
       "\u001b[36mres61\u001b[39m: \u001b[32mExpression\u001b[39m = \u001b[33mProduct\u001b[39m(\n",
       "  \u001b[33mCoeff\u001b[39m(\u001b[33mFlatMap\u001b[39m(Typs, LambdaIsle, Terms)),\n",
       "  \u001b[33mFinalVal\u001b[39m(\n",
       "    \u001b[33mInIsle\u001b[39m(\n",
       "      \u001b[33mInIsle\u001b[39m(\n",
       "        \u001b[33mInIsle\u001b[39m(\n",
       "          \u001b[33mInIsle\u001b[39m(\n",
       "            \u001b[33mInIsle\u001b[39m(\n",
       "              \u001b[33mElem\u001b[39m(\u001b[32m@a\u001b[39m, Terms),\n",
       "              \u001b[32m@a\u001b[39m,\n",
       "              \u001b[33mIsland\u001b[39m(\n",
       "                Terms,\n",
       "                provingground.learning.TermRandomVars$$$Lambda$3079/68010752@27916bb7,\n",
       "                \u001b[33mAddVar\u001b[39m(\u001b[32m@b\u001b[39m),\n",
       "                Lambda,\n",
       "                EnterIsle\n",
       "              )\n",
       "            ),\n",
       "            \u001b[32m@b\u001b[39m,\n",
       "            \u001b[33mIsland\u001b[39m(\n",
       "              Terms,\n",
       "              provingground.learning.TermRandomVars$$$Lambda$3079/68010752@725de5a4,\n",
       "              \u001b[33mAddVar\u001b[39m(\u001b[32m@a\u001b[39m),\n",
       "              Lambda,\n",
       "              EnterIsle\n",
       "            )\n",
       "          ),\n",
       "          \u001b[32m@a\u001b[39m,\n",
       "          \u001b[33mIsland\u001b[39m(\n",
       "            Typs,\n",
       "            provingground.learning.TermRandomVars$$$Lambda$3079/68010752@4205c6b,\n",
       "            \u001b[33mAddVar\u001b[39m(\u001b[32m@a\u001b[39m),\n",
       "            Pi,\n",
       "            EnterIsle\n",
       "          )\n",
       "        ),\n",
       "..."
      ]
     },
     "execution_count": 62,
     "metadata": {},
     "output_type": "execute_result"
    }
   ],
   "source": [
    "eq1.rhs"
   ]
  },
  {
   "cell_type": "code",
   "execution_count": 63,
   "metadata": {},
   "outputs": [
    {
     "data": {
      "text/plain": [
       "\u001b[36mres62\u001b[39m: \u001b[32mBoolean\u001b[39m = false"
      ]
     },
     "execution_count": 63,
     "metadata": {},
     "output_type": "execute_result"
    }
   ],
   "source": [
    "eq1.lhs == eq2.lhs"
   ]
  },
  {
   "cell_type": "code",
   "execution_count": 64,
   "metadata": {},
   "outputs": [
    {
     "data": {
      "text/plain": [
       "\u001b[36mres63\u001b[39m: \u001b[32mExpression\u001b[39m = \u001b[33mFinalVal\u001b[39m(\n",
       "  \u001b[33mInIsle\u001b[39m(\n",
       "    \u001b[33mInIsle\u001b[39m(\n",
       "      \u001b[33mInIsle\u001b[39m(\n",
       "        \u001b[33mInIsle\u001b[39m(\n",
       "          \u001b[33mElem\u001b[39m(\u001b[32m(@a : @b) ↦ @a\u001b[39m, Terms),\n",
       "          \u001b[32m@b\u001b[39m,\n",
       "          \u001b[33mIsland\u001b[39m(\n",
       "            Terms,\n",
       "            provingground.learning.TermRandomVars$$$Lambda$3079/68010752@26123324,\n",
       "            \u001b[33mAddVar\u001b[39m(\u001b[32m@a\u001b[39m),\n",
       "            Lambda,\n",
       "            EnterIsle\n",
       "          )\n",
       "        ),\n",
       "        \u001b[32m@a\u001b[39m,\n",
       "        \u001b[33mIsland\u001b[39m(\n",
       "          Typs,\n",
       "          provingground.learning.TermRandomVars$$$Lambda$3079/68010752@653d968d,\n",
       "          \u001b[33mAddVar\u001b[39m(\u001b[32m@a\u001b[39m),\n",
       "          Pi,\n",
       "          EnterIsle\n",
       "        )\n",
       "      ),\n",
       "      \u001b[32m@b\u001b[39m,\n",
       "      \u001b[33mIsland\u001b[39m(\n",
       "        Typs,\n",
       "        provingground.learning.TermRandomVars$$$Lambda$3079/68010752@6f8d3f18,\n",
       "        \u001b[33mAddVar\u001b[39m(\u001b[32m𝒰 \u001b[39m),\n",
       "        Pi,\n",
       "        EnterIsle\n",
       "      )\n",
       "    ),\n",
       "    \u001b[32m@a\u001b[39m,\n",
       "    \u001b[33mIsland\u001b[39m(\n",
       "      Typs,\n",
       "      provingground.learning.TermRandomVars$$$Lambda$3079/68010752@5f19382c,\n",
       "      \u001b[33mAddVar\u001b[39m(\u001b[32m𝒰 \u001b[39m),\n",
       "..."
      ]
     },
     "execution_count": 64,
     "metadata": {},
     "output_type": "execute_result"
    }
   ],
   "source": [
    "eq1.lhs"
   ]
  },
  {
   "cell_type": "code",
   "execution_count": 65,
   "metadata": {},
   "outputs": [
    {
     "data": {
      "text/plain": [
       "\u001b[36mres64\u001b[39m: \u001b[32mExpression\u001b[39m = \u001b[33mFinalVal\u001b[39m(\n",
       "  \u001b[33mInIsle\u001b[39m(\n",
       "    \u001b[33mInIsle\u001b[39m(\n",
       "      \u001b[33mInIsle\u001b[39m(\n",
       "        \u001b[33mInIsle\u001b[39m(\n",
       "          \u001b[33mElem\u001b[39m(\u001b[32m(@a : @b) ↦ @a\u001b[39m, Terms),\n",
       "          \u001b[32m@b\u001b[39m,\n",
       "          \u001b[33mIsland\u001b[39m(\n",
       "            Terms,\n",
       "            provingground.learning.TermRandomVars$$$Lambda$3079/68010752@3666a4bd,\n",
       "            \u001b[33mAddVar\u001b[39m(\u001b[32m@a\u001b[39m),\n",
       "            Lambda,\n",
       "            EnterIsle\n",
       "          )\n",
       "        ),\n",
       "        \u001b[32m@a\u001b[39m,\n",
       "        \u001b[33mIsland\u001b[39m(\n",
       "          Typs,\n",
       "          provingground.learning.TermRandomVars$$$Lambda$3079/68010752@5e754e5e,\n",
       "          \u001b[33mAddVar\u001b[39m(\u001b[32m@a\u001b[39m),\n",
       "          Pi,\n",
       "          EnterIsle\n",
       "        )\n",
       "      ),\n",
       "      \u001b[32m@b\u001b[39m,\n",
       "      \u001b[33mIsland\u001b[39m(\n",
       "        Typs,\n",
       "        provingground.learning.TermRandomVars$$$Lambda$3079/68010752@1f913741,\n",
       "        \u001b[33mAddVar\u001b[39m(\u001b[32m𝒰 \u001b[39m),\n",
       "        Pi,\n",
       "        EnterIsle\n",
       "      )\n",
       "    ),\n",
       "    \u001b[32m@a\u001b[39m,\n",
       "    \u001b[33mIsland\u001b[39m(\n",
       "      Typs,\n",
       "      provingground.learning.TermRandomVars$$$Lambda$3079/68010752@73b84868,\n",
       "      \u001b[33mAddVar\u001b[39m(\u001b[32m𝒰 \u001b[39m),\n",
       "..."
      ]
     },
     "execution_count": 65,
     "metadata": {},
     "output_type": "execute_result"
    }
   ],
   "source": [
    "eq2.lhs"
   ]
  },
  {
   "cell_type": "markdown",
   "metadata": {},
   "source": [
    "## More narrowing: two applications of the isle normalization are taken as not equal."
   ]
  },
  {
   "cell_type": "code",
   "execution_count": 67,
   "metadata": {},
   "outputs": [
    {
     "data": {
      "text/plain": [
       "\u001b[32mimport \u001b[39m\u001b[36mExpression._\n",
       "\u001b[39m\n",
       "\u001b[36mexp\u001b[39m: \u001b[32mVariable\u001b[39m[\u001b[32mTerm\u001b[39m] = \u001b[33mInIsle\u001b[39m(\n",
       "  \u001b[33mInIsle\u001b[39m(\n",
       "    \u001b[33mInIsle\u001b[39m(\n",
       "      \u001b[33mInIsle\u001b[39m(\n",
       "        \u001b[33mElem\u001b[39m(\u001b[32m(@a : B) ↦ @a\u001b[39m, Terms),\n",
       "        \u001b[32m@a\u001b[39m,\n",
       "        \u001b[33mIsland\u001b[39m(Terms, \u001b[33mConstRandVar\u001b[39m(Terms), \u001b[33mAddVar\u001b[39m(\u001b[32mA\u001b[39m), Lambda, EnterIsle)\n",
       "      ),\n",
       "      \u001b[32ma\u001b[39m,\n",
       "      \u001b[33mIsland\u001b[39m(\n",
       "        Typs,\n",
       "        \u001b[33mConstRandVar\u001b[39m(Typs),\n",
       "        provingground.learning.ExpressionEval$$Lambda$2811/973096168@223eea22,\n",
       "        Pi,\n",
       "        EnterIsle\n",
       "      )\n",
       "    ),\n",
       "    \u001b[32mB\u001b[39m,\n",
       "    \u001b[33mIsland\u001b[39m(\n",
       "      Typs,\n",
       "      \u001b[33mConstRandVar\u001b[39m(Typs),\n",
       "      provingground.learning.ExpressionEval$$Lambda$2811/973096168@1a048ff7,\n",
       "      Pi,\n",
       "      EnterIsle\n",
       "    )\n",
       "  ),\n",
       "  \u001b[32mA\u001b[39m,\n",
       "  \u001b[33mIsland\u001b[39m(\n",
       "    Typs,\n",
       "    \u001b[33mConstRandVar\u001b[39m(Typs),\n",
       "    provingground.learning.ExpressionEval$$Lambda$2811/973096168@5c8d4da1,\n",
       "    Pi,\n",
       "    EnterIsle\n",
       "  )\n",
       ")"
      ]
     },
     "execution_count": 67,
     "metadata": {},
     "output_type": "execute_result"
    }
   ],
   "source": [
    "import Expression._\n",
    "val exp = badEq.lhs.asInstanceOf[FinalVal[Term]].variable"
   ]
  },
  {
   "cell_type": "code",
   "execution_count": 68,
   "metadata": {},
   "outputs": [
    {
     "data": {
      "text/plain": [
       "\u001b[32mimport \u001b[39m\u001b[36mTermRandomVars._\n",
       "\u001b[39m\n",
       "\u001b[36mn1\u001b[39m: \u001b[32mVariable\u001b[39m[\u001b[32mAny\u001b[39m] = \u001b[33mInIsle\u001b[39m(\n",
       "  \u001b[33mInIsle\u001b[39m(\n",
       "    \u001b[33mInIsle\u001b[39m(\n",
       "      \u001b[33mInIsle\u001b[39m(\n",
       "        \u001b[33mElem\u001b[39m(\u001b[32m(@a : @b) ↦ @a\u001b[39m, Terms),\n",
       "        \u001b[32m@b\u001b[39m,\n",
       "        \u001b[33mIsland\u001b[39m(\n",
       "          Terms,\n",
       "          provingground.learning.TermRandomVars$$$Lambda$3079/68010752@3be951c1,\n",
       "          \u001b[33mAddVar\u001b[39m(\u001b[32m@a\u001b[39m),\n",
       "          Lambda,\n",
       "          EnterIsle\n",
       "        )\n",
       "      ),\n",
       "      \u001b[32m@a\u001b[39m,\n",
       "      \u001b[33mIsland\u001b[39m(\n",
       "        Typs,\n",
       "        provingground.learning.TermRandomVars$$$Lambda$3079/68010752@88f2631,\n",
       "        \u001b[33mAddVar\u001b[39m(\u001b[32m@a\u001b[39m),\n",
       "        Pi,\n",
       "        EnterIsle\n",
       "      )\n",
       "    ),\n",
       "    \u001b[32m@b\u001b[39m,\n",
       "    \u001b[33mIsland\u001b[39m(\n",
       "      Typs,\n",
       "      provingground.learning.TermRandomVars$$$Lambda$3079/68010752@56116fc1,\n",
       "      \u001b[33mAddVar\u001b[39m(\u001b[32m𝒰 \u001b[39m),\n",
       "      Pi,\n",
       "      EnterIsle\n",
       "    )\n",
       "  ),\n",
       "  \u001b[32m@a\u001b[39m,\n",
       "  \u001b[33mIsland\u001b[39m(\n",
       "    Typs,\n",
       "    provingground.learning.TermRandomVars$$$Lambda$3079/68010752@4d1b67d3,\n",
       "    \u001b[33mAddVar\u001b[39m(\u001b[32m𝒰 \u001b[39m),\n",
       "    Pi,\n",
       "    EnterIsle\n",
       "..."
      ]
     },
     "execution_count": 68,
     "metadata": {},
     "output_type": "execute_result"
    }
   ],
   "source": [
    "import TermRandomVars._\n",
    "val n1 = isleNormalizeVars(exp, Vector())"
   ]
  },
  {
   "cell_type": "code",
   "execution_count": 69,
   "metadata": {},
   "outputs": [
    {
     "data": {
      "text/plain": [
       "\u001b[36mn2\u001b[39m: \u001b[32mVariable\u001b[39m[\u001b[32mAny\u001b[39m] = \u001b[33mInIsle\u001b[39m(\n",
       "  \u001b[33mInIsle\u001b[39m(\n",
       "    \u001b[33mInIsle\u001b[39m(\n",
       "      \u001b[33mInIsle\u001b[39m(\n",
       "        \u001b[33mElem\u001b[39m(\u001b[32m(@a : @b) ↦ @a\u001b[39m, Terms),\n",
       "        \u001b[32m@b\u001b[39m,\n",
       "        \u001b[33mIsland\u001b[39m(\n",
       "          Terms,\n",
       "          provingground.learning.TermRandomVars$$$Lambda$3079/68010752@77cb7,\n",
       "          \u001b[33mAddVar\u001b[39m(\u001b[32m@a\u001b[39m),\n",
       "          Lambda,\n",
       "          EnterIsle\n",
       "        )\n",
       "      ),\n",
       "      \u001b[32m@a\u001b[39m,\n",
       "      \u001b[33mIsland\u001b[39m(\n",
       "        Typs,\n",
       "        provingground.learning.TermRandomVars$$$Lambda$3079/68010752@67bf7673,\n",
       "        \u001b[33mAddVar\u001b[39m(\u001b[32m@a\u001b[39m),\n",
       "        Pi,\n",
       "        EnterIsle\n",
       "      )\n",
       "    ),\n",
       "    \u001b[32m@b\u001b[39m,\n",
       "    \u001b[33mIsland\u001b[39m(\n",
       "      Typs,\n",
       "      provingground.learning.TermRandomVars$$$Lambda$3079/68010752@5c665cf7,\n",
       "      \u001b[33mAddVar\u001b[39m(\u001b[32m𝒰 \u001b[39m),\n",
       "      Pi,\n",
       "      EnterIsle\n",
       "    )\n",
       "  ),\n",
       "  \u001b[32m@a\u001b[39m,\n",
       "  \u001b[33mIsland\u001b[39m(\n",
       "    Typs,\n",
       "    provingground.learning.TermRandomVars$$$Lambda$3079/68010752@5686714d,\n",
       "    \u001b[33mAddVar\u001b[39m(\u001b[32m𝒰 \u001b[39m),\n",
       "    Pi,\n",
       "    EnterIsle\n",
       "...\n",
       "\u001b[36mres68_1\u001b[39m: \u001b[32mBoolean\u001b[39m = false"
      ]
     },
     "execution_count": 69,
     "metadata": {},
     "output_type": "execute_result"
    }
   ],
   "source": [
    "val n2 = isleNormalizeVars(exp, Vector())\n",
    "n1 == n2"
   ]
  },
  {
   "cell_type": "code",
   "execution_count": 70,
   "metadata": {},
   "outputs": [
    {
     "data": {
      "text/plain": [
       "\u001b[36mi1\u001b[39m: \u001b[32mInIsle\u001b[39m[\u001b[32mTerm\u001b[39m, \u001b[32mTermState\u001b[39m, \u001b[32mTerm\u001b[39m, \u001b[32mTerm\u001b[39m] = \u001b[33mInIsle\u001b[39m(\n",
       "  \u001b[33mInIsle\u001b[39m(\n",
       "    \u001b[33mInIsle\u001b[39m(\n",
       "      \u001b[33mInIsle\u001b[39m(\n",
       "        \u001b[33mElem\u001b[39m(\u001b[32m(@a : @b) ↦ @a\u001b[39m, Terms),\n",
       "        \u001b[32m@b\u001b[39m,\n",
       "        \u001b[33mIsland\u001b[39m(\n",
       "          Terms,\n",
       "          provingground.learning.TermRandomVars$$$Lambda$3079/68010752@3be951c1,\n",
       "          \u001b[33mAddVar\u001b[39m(\u001b[32m@a\u001b[39m),\n",
       "          Lambda,\n",
       "          EnterIsle\n",
       "        )\n",
       "      ),\n",
       "      \u001b[32m@a\u001b[39m,\n",
       "      \u001b[33mIsland\u001b[39m(\n",
       "        Typs,\n",
       "        provingground.learning.TermRandomVars$$$Lambda$3079/68010752@88f2631,\n",
       "        \u001b[33mAddVar\u001b[39m(\u001b[32m@a\u001b[39m),\n",
       "        Pi,\n",
       "        EnterIsle\n",
       "      )\n",
       "    ),\n",
       "    \u001b[32m@b\u001b[39m,\n",
       "    \u001b[33mIsland\u001b[39m(\n",
       "      Typs,\n",
       "      provingground.learning.TermRandomVars$$$Lambda$3079/68010752@56116fc1,\n",
       "      \u001b[33mAddVar\u001b[39m(\u001b[32m𝒰 \u001b[39m),\n",
       "      Pi,\n",
       "      EnterIsle\n",
       "    )\n",
       "  ),\n",
       "  \u001b[32m@a\u001b[39m,\n",
       "  \u001b[33mIsland\u001b[39m(\n",
       "    Typs,\n",
       "    provingground.learning.TermRandomVars$$$Lambda$3079/68010752@4d1b67d3,\n",
       "    \u001b[33mAddVar\u001b[39m(\u001b[32m𝒰 \u001b[39m),\n",
       "    Pi,\n",
       "    EnterIsle\n",
       "..."
      ]
     },
     "execution_count": 70,
     "metadata": {},
     "output_type": "execute_result"
    }
   ],
   "source": [
    "val i1 = n1.asInstanceOf[InIsle[Term, TermState, Term, Term]]"
   ]
  },
  {
   "cell_type": "code",
   "execution_count": 71,
   "metadata": {},
   "outputs": [
    {
     "data": {
      "text/plain": [
       "\u001b[36mi2\u001b[39m: \u001b[32mInIsle\u001b[39m[\u001b[32mTerm\u001b[39m, \u001b[32mTermState\u001b[39m, \u001b[32mTerm\u001b[39m, \u001b[32mTerm\u001b[39m] = \u001b[33mInIsle\u001b[39m(\n",
       "  \u001b[33mInIsle\u001b[39m(\n",
       "    \u001b[33mInIsle\u001b[39m(\n",
       "      \u001b[33mInIsle\u001b[39m(\n",
       "        \u001b[33mElem\u001b[39m(\u001b[32m(@a : @b) ↦ @a\u001b[39m, Terms),\n",
       "        \u001b[32m@b\u001b[39m,\n",
       "        \u001b[33mIsland\u001b[39m(\n",
       "          Terms,\n",
       "          provingground.learning.TermRandomVars$$$Lambda$3079/68010752@77cb7,\n",
       "          \u001b[33mAddVar\u001b[39m(\u001b[32m@a\u001b[39m),\n",
       "          Lambda,\n",
       "          EnterIsle\n",
       "        )\n",
       "      ),\n",
       "      \u001b[32m@a\u001b[39m,\n",
       "      \u001b[33mIsland\u001b[39m(\n",
       "        Typs,\n",
       "        provingground.learning.TermRandomVars$$$Lambda$3079/68010752@67bf7673,\n",
       "        \u001b[33mAddVar\u001b[39m(\u001b[32m@a\u001b[39m),\n",
       "        Pi,\n",
       "        EnterIsle\n",
       "      )\n",
       "    ),\n",
       "    \u001b[32m@b\u001b[39m,\n",
       "    \u001b[33mIsland\u001b[39m(\n",
       "      Typs,\n",
       "      provingground.learning.TermRandomVars$$$Lambda$3079/68010752@5c665cf7,\n",
       "      \u001b[33mAddVar\u001b[39m(\u001b[32m𝒰 \u001b[39m),\n",
       "      Pi,\n",
       "      EnterIsle\n",
       "    )\n",
       "  ),\n",
       "  \u001b[32m@a\u001b[39m,\n",
       "  \u001b[33mIsland\u001b[39m(\n",
       "    Typs,\n",
       "    provingground.learning.TermRandomVars$$$Lambda$3079/68010752@5686714d,\n",
       "    \u001b[33mAddVar\u001b[39m(\u001b[32m𝒰 \u001b[39m),\n",
       "    Pi,\n",
       "    EnterIsle\n",
       "..."
      ]
     },
     "execution_count": 71,
     "metadata": {},
     "output_type": "execute_result"
    }
   ],
   "source": [
    "val i2 = n2.asInstanceOf[InIsle[Term, TermState, Term, Term]]"
   ]
  },
  {
   "cell_type": "code",
   "execution_count": 72,
   "metadata": {},
   "outputs": [
    {
     "data": {
      "text/plain": [
       "\u001b[36mres71\u001b[39m: \u001b[32mBoolean\u001b[39m = true"
      ]
     },
     "execution_count": 72,
     "metadata": {},
     "output_type": "execute_result"
    }
   ],
   "source": [
    "i1.boat == i2.boat"
   ]
  },
  {
   "cell_type": "code",
   "execution_count": 73,
   "metadata": {},
   "outputs": [
    {
     "data": {
      "text/plain": [
       "\u001b[36mres72\u001b[39m: \u001b[32mBoolean\u001b[39m = false"
      ]
     },
     "execution_count": 73,
     "metadata": {},
     "output_type": "execute_result"
    }
   ],
   "source": [
    "i1.isleVar == i2.isleVar"
   ]
  },
  {
   "cell_type": "code",
   "execution_count": 74,
   "metadata": {},
   "outputs": [
    {
     "data": {
      "text/plain": [
       "\u001b[36mres73\u001b[39m: \u001b[32mBoolean\u001b[39m = false"
      ]
     },
     "execution_count": 74,
     "metadata": {},
     "output_type": "execute_result"
    }
   ],
   "source": [
    "i1.isle == i2.isle"
   ]
  },
  {
   "cell_type": "code",
   "execution_count": 75,
   "metadata": {},
   "outputs": [
    {
     "data": {
      "text/plain": [
       "\u001b[36mres74\u001b[39m: \u001b[32mGeneratorNode\u001b[39m.\u001b[32mIsland\u001b[39m[\u001b[32mTerm\u001b[39m, \u001b[32mTermState\u001b[39m, \u001b[32mTerm\u001b[39m, \u001b[32mTerm\u001b[39m] = \u001b[33mIsland\u001b[39m(\n",
       "  Typs,\n",
       "  provingground.learning.TermRandomVars$$$Lambda$3079/68010752@4d1b67d3,\n",
       "  \u001b[33mAddVar\u001b[39m(\u001b[32m𝒰 \u001b[39m),\n",
       "  Pi,\n",
       "  EnterIsle\n",
       ")"
      ]
     },
     "execution_count": 75,
     "metadata": {},
     "output_type": "execute_result"
    }
   ],
   "source": [
    "i1.isle"
   ]
  },
  {
   "cell_type": "code",
   "execution_count": 76,
   "metadata": {},
   "outputs": [
    {
     "data": {
      "text/plain": [
       "\u001b[36mres75\u001b[39m: \u001b[32mGeneratorNode\u001b[39m.\u001b[32mIsland\u001b[39m[\u001b[32mTerm\u001b[39m, \u001b[32mTermState\u001b[39m, \u001b[32mTerm\u001b[39m, \u001b[32mTerm\u001b[39m] = \u001b[33mIsland\u001b[39m(\n",
       "  Typs,\n",
       "  provingground.learning.TermRandomVars$$$Lambda$3079/68010752@5686714d,\n",
       "  \u001b[33mAddVar\u001b[39m(\u001b[32m𝒰 \u001b[39m),\n",
       "  Pi,\n",
       "  EnterIsle\n",
       ")"
      ]
     },
     "execution_count": 76,
     "metadata": {},
     "output_type": "execute_result"
    }
   ],
   "source": [
    "i2.isle"
   ]
  },
  {
   "cell_type": "code",
   "execution_count": 77,
   "metadata": {},
   "outputs": [
    {
     "data": {
      "text/plain": [
       "\u001b[36mres76\u001b[39m: \u001b[32mBoolean\u001b[39m = true"
      ]
     },
     "execution_count": 77,
     "metadata": {},
     "output_type": "execute_result"
    }
   ],
   "source": [
    "i1.isle.initMap == i2.isle.initMap"
   ]
  },
  {
   "cell_type": "code",
   "execution_count": 78,
   "metadata": {},
   "outputs": [
    {
     "data": {
      "text/plain": [
       "\u001b[36mres77\u001b[39m: \u001b[32mBoolean\u001b[39m = true"
      ]
     },
     "execution_count": 78,
     "metadata": {},
     "output_type": "execute_result"
    }
   ],
   "source": [
    "i1.isle.output == i2.isle.output"
   ]
  },
  {
   "cell_type": "code",
   "execution_count": 79,
   "metadata": {},
   "outputs": [
    {
     "data": {
      "text/plain": [
       "\u001b[36mres78\u001b[39m: \u001b[32mBoolean\u001b[39m = false"
      ]
     },
     "execution_count": 79,
     "metadata": {},
     "output_type": "execute_result"
    }
   ],
   "source": [
    "i1.isle.islandOutput == i2.isle.islandOutput"
   ]
  },
  {
   "cell_type": "markdown",
   "metadata": {},
   "source": [
    "## Bug localized\n",
    "\n",
    "* All the island outputs actually did not depend on boats, but were of the form `ContantRandomVar(rv)`\n",
    "* However in `isleSub` these were defined as lambdas.\n",
    "* should match here and correct."
   ]
  }
 ],
 "metadata": {
  "kernelspec": {
   "display_name": "Scala",
   "language": "scala",
   "name": "scala"
  },
  "language_info": {
   "codemirror_mode": "text/x-scala",
   "file_extension": ".scala",
   "mimetype": "text/x-scala",
   "name": "scala",
   "nbconvert_exporter": "script",
   "version": "2.12.8"
  }
 },
 "nbformat": 4,
 "nbformat_minor": 4
}
