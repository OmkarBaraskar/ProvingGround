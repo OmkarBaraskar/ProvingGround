{
 "cells": [
  {
   "cell_type": "markdown",
   "metadata": {},
   "source": [
    "## Testing export and normalization of isles\n",
    "\n",
    "This is after correcting the issue with context variables. There are still a couple of things to test and correct.\n",
    "\n",
    "* No final types in equations\n",
    "* Check if difference in weights after normalizing is due to an error.\n",
    "\n",
    "When we have variables such as $A: Type$, $a : A$ and $B: Type$, we test whether we correctly:\n",
    "\n",
    "* export equations, so that variables end up in islands\n",
    "* normalize isle names.\n",
    "\n",
    "This time the test is more refined. Namely,\n",
    "\n",
    "* We generate with the equations after exporting and just $Type$ as the initial distribution.\n",
    "* We check that all terms are independent of the variables.\n",
    "* Generate with equations after normalization.\n",
    "* Make the same tests.\n",
    "* Also test if the distribution after normalization is approximately the same as before."
   ]
  },
  {
   "cell_type": "code",
   "execution_count": 1,
   "metadata": {},
   "outputs": [
    {
     "data": {
      "text/plain": [
       "\u001b[32mimport \u001b[39m\u001b[36m$cp.$                                              \n",
       "\u001b[39m\n",
       "\u001b[32mimport \u001b[39m\u001b[36mprovingground._ , interface._, HoTT._, learning._ \n",
       "\u001b[39m"
      ]
     },
     "execution_count": 1,
     "metadata": {},
     "output_type": "execute_result"
    }
   ],
   "source": [
    "import $cp.bin.`provingground-core-jvm-294d1cadfc.fat.jar`\n",
    "import provingground._ , interface._, HoTT._, learning._ \n",
    "repl.pprinter() = {\n",
    "  val p = repl.pprinter()\n",
    "  p.copy(\n",
    "    additionalHandlers = p.additionalHandlers.orElse {\n",
    "      translation.FansiShow.fansiHandler\n",
    "    }\n",
    "  )\n",
    "}\n"
   ]
  },
  {
   "cell_type": "code",
   "execution_count": 2,
   "metadata": {},
   "outputs": [
    {
     "data": {
      "text/plain": [
       "\u001b[36mA\u001b[39m: \u001b[32mTyp\u001b[39m[\u001b[32mTerm\u001b[39m] = \u001b[32mA\u001b[39m\n",
       "\u001b[36mB\u001b[39m: \u001b[32mTyp\u001b[39m[\u001b[32mTerm\u001b[39m] = \u001b[32mB\u001b[39m\n",
       "\u001b[36ma\u001b[39m: \u001b[32mTerm\u001b[39m = \u001b[32ma\u001b[39m\n",
       "\u001b[36mts\u001b[39m: \u001b[32mTermState\u001b[39m = \u001b[33mTermState\u001b[39m(\n",
       "  \u001b[33mFiniteDistribution\u001b[39m(\u001b[33mVector\u001b[39m(\u001b[33mWeighted\u001b[39m(\u001b[32ma\u001b[39m, \u001b[32m1.0\u001b[39m))),\n",
       "  \u001b[33mFiniteDistribution\u001b[39m(\u001b[33mVector\u001b[39m(\u001b[33mWeighted\u001b[39m(\u001b[32mA\u001b[39m, \u001b[32m0.5\u001b[39m), \u001b[33mWeighted\u001b[39m(\u001b[32mB\u001b[39m, \u001b[32m0.5\u001b[39m))),\n",
       "  \u001b[33mVector\u001b[39m(\u001b[32mA\u001b[39m, \u001b[32mB\u001b[39m, \u001b[32ma\u001b[39m),\n",
       "  \u001b[33mFiniteDistribution\u001b[39m(\u001b[33mVector\u001b[39m()),\n",
       "  \u001b[33mFiniteDistribution\u001b[39m(\u001b[33mVector\u001b[39m()),\n",
       "  Empty\n",
       ")"
      ]
     },
     "execution_count": 2,
     "metadata": {},
     "output_type": "execute_result"
    }
   ],
   "source": [
    "val A = \"A\" :: Type\n",
    "val B = \"B\" :: Type\n",
    "val a = \"a\" :: A\n",
    "val ts = TermState(FiniteDistribution.unif(a), FiniteDistribution.unif(A, B), vars = Vector(A, B, a))"
   ]
  },
  {
   "cell_type": "code",
   "execution_count": 3,
   "metadata": {},
   "outputs": [
    {
     "data": {
      "text/plain": [
       "\u001b[36mlp\u001b[39m: \u001b[32mLocalProver\u001b[39m = \u001b[33mLocalProver\u001b[39m(\n",
       "  \u001b[33mTermState\u001b[39m(\n",
       "    \u001b[33mFiniteDistribution\u001b[39m(\u001b[33mVector\u001b[39m(\u001b[33mWeighted\u001b[39m(\u001b[32ma\u001b[39m, \u001b[32m1.0\u001b[39m))),\n",
       "    \u001b[33mFiniteDistribution\u001b[39m(\u001b[33mVector\u001b[39m(\u001b[33mWeighted\u001b[39m(\u001b[32mA\u001b[39m, \u001b[32m0.5\u001b[39m), \u001b[33mWeighted\u001b[39m(\u001b[32mB\u001b[39m, \u001b[32m0.5\u001b[39m))),\n",
       "    \u001b[33mVector\u001b[39m(\u001b[32mA\u001b[39m, \u001b[32mB\u001b[39m, \u001b[32ma\u001b[39m),\n",
       "    \u001b[33mFiniteDistribution\u001b[39m(\u001b[33mVector\u001b[39m()),\n",
       "    \u001b[33mFiniteDistribution\u001b[39m(\u001b[33mVector\u001b[39m()),\n",
       "    Empty\n",
       "  ),\n",
       "  \u001b[33mTermGenParams\u001b[39m(\n",
       "    \u001b[32m0.1\u001b[39m,\n",
       "    \u001b[32m0.1\u001b[39m,\n",
       "    \u001b[32m0.1\u001b[39m,\n",
       "    \u001b[32m0.1\u001b[39m,\n",
       "    \u001b[32m0.1\u001b[39m,\n",
       "    \u001b[32m0.05\u001b[39m,\n",
       "    \u001b[32m0.05\u001b[39m,\n",
       "    \u001b[32m0.05\u001b[39m,\n",
       "    \u001b[32m0.0\u001b[39m,\n",
       "    \u001b[32m0.0\u001b[39m,\n",
       "    \u001b[32m0.0\u001b[39m,\n",
       "    \u001b[32m0.0\u001b[39m,\n",
       "    \u001b[32m0.3\u001b[39m,\n",
       "    \u001b[32m0.7\u001b[39m,\n",
       "    \u001b[32m0.5\u001b[39m,\n",
       "    \u001b[32m0.0\u001b[39m,\n",
       "    \u001b[32m0.0\u001b[39m,\n",
       "    \u001b[32m0.0\u001b[39m,\n",
       "    \u001b[33mOrElse\u001b[39m(\n",
       "      \u001b[33mOrElse\u001b[39m(\u001b[33mOrElse\u001b[39m(\u001b[33mOrElse\u001b[39m(<function1>, <function1>), <function1>), <function1>),\n",
       "      <function1>\n",
       "    )\n",
       "  ),\n",
       "  \u001b[32m1.0E-4\u001b[39m,\n",
       "  \u001b[32mNone\u001b[39m,\n",
       "  12 minutes,\n",
       "  \u001b[32m1.01\u001b[39m,\n",
       "  \u001b[32m1.0\u001b[39m,\n",
       "..."
      ]
     },
     "execution_count": 3,
     "metadata": {},
     "output_type": "execute_result"
    }
   ],
   "source": [
    "val lp = LocalProver(ts)"
   ]
  },
  {
   "cell_type": "code",
   "execution_count": 4,
   "metadata": {},
   "outputs": [
    {
     "data": {
      "text/plain": [
       "\u001b[36mres3_0\u001b[39m: \u001b[32mVector\u001b[39m[\u001b[32mTerm\u001b[39m] = \u001b[33mVector\u001b[39m(\u001b[32mA\u001b[39m, \u001b[32mB\u001b[39m, \u001b[32ma\u001b[39m)\n",
       "\u001b[32mimport \u001b[39m\u001b[36mTermData._\n",
       "\u001b[39m\n",
       "\u001b[36mdatT\u001b[39m: \u001b[32mmonix\u001b[39m.\u001b[32meval\u001b[39m.\u001b[32mTask\u001b[39m[(\u001b[32mTermState\u001b[39m, \u001b[32mSet\u001b[39m[\u001b[32mEquationNode\u001b[39m])] = \u001b[33mFlatMap\u001b[39m(\n",
       "  \u001b[33mAsync\u001b[39m(<function2>, false, true, true),\n",
       "  provingground.learning.TermData$$$Lambda$2552/15947442@7b258736\n",
       ")"
      ]
     },
     "execution_count": 4,
     "metadata": {},
     "output_type": "execute_result"
    }
   ],
   "source": [
    "ts.vars\n",
    "import TermData._\n",
    "val datT = termData(lp)"
   ]
  },
  {
   "cell_type": "code",
   "execution_count": 5,
   "metadata": {},
   "outputs": [
    {
     "data": {
      "text/plain": [
       "\u001b[32mimport \u001b[39m\u001b[36mmonix.execution.Scheduler.Implicits.global\n",
       "\u001b[39m\n",
       "\u001b[36mtd\u001b[39m: (\u001b[32mTermState\u001b[39m, \u001b[32mSet\u001b[39m[\u001b[32mEquationNode\u001b[39m]) = (\n",
       "  \u001b[33mTermState\u001b[39m(\n",
       "    \u001b[33mFiniteDistribution\u001b[39m(\n",
       "      \u001b[33mVector\u001b[39m(\n",
       "        \u001b[33mWeighted\u001b[39m(\n",
       "          \u001b[32m(A : 𝒰 ) ↦ (B : 𝒰 ) ↦ (a : A) ↦ ((``@a_1 , @a_2) : A×B) ↦ a\u001b[39m,\n",
       "          \u001b[32m8.671859432529369E-4\u001b[39m\n",
       "        ),\n",
       "        \u001b[33mWeighted\u001b[39m(\u001b[32m(B : 𝒰 ) ↦ (@a : B) ↦ (@b : B) ↦ @b\u001b[39m, \u001b[32m6.25946582994212E-4\u001b[39m),\n",
       "        \u001b[33mWeighted\u001b[39m(\u001b[32m(B : 𝒰 ) ↦ (@a : B) ↦ (@b : B) ↦ @a\u001b[39m, \u001b[32m4.3816260809594835E-4\u001b[39m),\n",
       "        \u001b[33mWeighted\u001b[39m(\n",
       "          \u001b[32m(A : 𝒰 ) ↦ (B : 𝒰 ) ↦ ((```@a_1 , @a_2) : B×A) ↦ (```@a_1 , @a_2)\u001b[39m,\n",
       "          \u001b[32m3.71651118536973E-4\u001b[39m\n",
       "        ),\n",
       "        \u001b[33mWeighted\u001b[39m(\n",
       "          \u001b[32m(A : 𝒰 ) ↦ ((``@a_1 , @a_2) : A×A) ↦ (``@a_1 , @a_2)\u001b[39m,\n",
       "          \u001b[32m3.71651118536973E-4\u001b[39m\n",
       "        ),\n",
       "        \u001b[33mWeighted\u001b[39m(\n",
       "          \u001b[32m(A : 𝒰 ) ↦ (B : 𝒰 ) ↦ (a : A) ↦ (@a : B) ↦ a\u001b[39m,\n",
       "          \u001b[32m0.0384282501336959\u001b[39m\n",
       "        ),\n",
       "        \u001b[33mWeighted\u001b[39m(\n",
       "          \u001b[32m(A : 𝒰 ) ↦ (a : A) ↦ ((`@a_1 , @a_2) : A×A) ↦ a\u001b[39m,\n",
       "          \u001b[32m8.671859432529369E-4\u001b[39m\n",
       "        ),\n",
       "        \u001b[33mWeighted\u001b[39m(\u001b[32m(A : 𝒰 ) ↦ (@a : (A → A)) ↦ @a\u001b[39m, \u001b[32m5.870181769712191E-4\u001b[39m),\n",
       "        \u001b[33mWeighted\u001b[39m(\n",
       "          \u001b[32m(A : 𝒰 ) ↦ (B : 𝒰 ) ↦ (@a : (B → A)) ↦ @a\u001b[39m,\n",
       "          \u001b[32m6.937487546023499E-4\u001b[39m\n",
       "        ),\n",
       "        \u001b[33mWeighted\u001b[39m(\n",
       "          \u001b[32m(A : 𝒰 ) ↦ (B : 𝒰 ) ↦ (a : A) ↦ (@a : (B → B)) ↦ a\u001b[39m,\n",
       "          \u001b[32m0.0016187470940721494\u001b[39m\n",
       "        ),\n",
       "        \u001b[33mWeighted\u001b[39m(\n",
       "          \u001b[32m(A : 𝒰 ) ↦ (B : 𝒰 ) ↦ (a : A) ↦ (@a : (A → B)) ↦ a\u001b[39m,\n",
       "          \u001b[32m0.0013697090795995112\u001b[39m\n",
       "        ),\n",
       "..."
      ]
     },
     "execution_count": 5,
     "metadata": {},
     "output_type": "execute_result"
    }
   ],
   "source": [
    "import monix.execution.Scheduler.Implicits.global\n",
    "val td = datT.runSyncUnsafe()"
   ]
  },
  {
   "cell_type": "code",
   "execution_count": 6,
   "metadata": {},
   "outputs": [
    {
     "data": {
      "text/plain": [
       "\u001b[36mns\u001b[39m: \u001b[32mTermState\u001b[39m = \u001b[33mTermState\u001b[39m(\n",
       "  \u001b[33mFiniteDistribution\u001b[39m(\n",
       "    \u001b[33mVector\u001b[39m(\n",
       "      \u001b[33mWeighted\u001b[39m(\n",
       "        \u001b[32m(A : 𝒰 ) ↦ (B : 𝒰 ) ↦ (a : A) ↦ ((``@a_1 , @a_2) : A×B) ↦ a\u001b[39m,\n",
       "        \u001b[32m8.671859432529369E-4\u001b[39m\n",
       "      ),\n",
       "      \u001b[33mWeighted\u001b[39m(\u001b[32m(B : 𝒰 ) ↦ (@a : B) ↦ (@b : B) ↦ @b\u001b[39m, \u001b[32m6.25946582994212E-4\u001b[39m),\n",
       "      \u001b[33mWeighted\u001b[39m(\u001b[32m(B : 𝒰 ) ↦ (@a : B) ↦ (@b : B) ↦ @a\u001b[39m, \u001b[32m4.3816260809594835E-4\u001b[39m),\n",
       "      \u001b[33mWeighted\u001b[39m(\n",
       "        \u001b[32m(A : 𝒰 ) ↦ (B : 𝒰 ) ↦ ((```@a_1 , @a_2) : B×A) ↦ (```@a_1 , @a_2)\u001b[39m,\n",
       "        \u001b[32m3.71651118536973E-4\u001b[39m\n",
       "      ),\n",
       "      \u001b[33mWeighted\u001b[39m(\n",
       "        \u001b[32m(A : 𝒰 ) ↦ ((``@a_1 , @a_2) : A×A) ↦ (``@a_1 , @a_2)\u001b[39m,\n",
       "        \u001b[32m3.71651118536973E-4\u001b[39m\n",
       "      ),\n",
       "      \u001b[33mWeighted\u001b[39m(\n",
       "        \u001b[32m(A : 𝒰 ) ↦ (B : 𝒰 ) ↦ (a : A) ↦ (@a : B) ↦ a\u001b[39m,\n",
       "        \u001b[32m0.0384282501336959\u001b[39m\n",
       "      ),\n",
       "      \u001b[33mWeighted\u001b[39m(\n",
       "        \u001b[32m(A : 𝒰 ) ↦ (a : A) ↦ ((`@a_1 , @a_2) : A×A) ↦ a\u001b[39m,\n",
       "        \u001b[32m8.671859432529369E-4\u001b[39m\n",
       "      ),\n",
       "      \u001b[33mWeighted\u001b[39m(\u001b[32m(A : 𝒰 ) ↦ (@a : (A → A)) ↦ @a\u001b[39m, \u001b[32m5.870181769712191E-4\u001b[39m),\n",
       "      \u001b[33mWeighted\u001b[39m(\n",
       "        \u001b[32m(A : 𝒰 ) ↦ (B : 𝒰 ) ↦ (@a : (B → A)) ↦ @a\u001b[39m,\n",
       "        \u001b[32m6.937487546023499E-4\u001b[39m\n",
       "      ),\n",
       "      \u001b[33mWeighted\u001b[39m(\n",
       "        \u001b[32m(A : 𝒰 ) ↦ (B : 𝒰 ) ↦ (a : A) ↦ (@a : (B → B)) ↦ a\u001b[39m,\n",
       "        \u001b[32m0.0016187470940721494\u001b[39m\n",
       "      ),\n",
       "      \u001b[33mWeighted\u001b[39m(\n",
       "        \u001b[32m(A : 𝒰 ) ↦ (B : 𝒰 ) ↦ (a : A) ↦ (@a : (A → B)) ↦ a\u001b[39m,\n",
       "        \u001b[32m0.0013697090795995112\u001b[39m\n",
       "      ),\n",
       "      \u001b[33mWeighted\u001b[39m(\u001b[32m(A : 𝒰 ) ↦ (@b : A) ↦ @b\u001b[39m, \u001b[32m0.012675323748495152\u001b[39m),\n",
       "...\n",
       "\u001b[36meqs\u001b[39m: \u001b[32mSet\u001b[39m[\u001b[32mEquationNode\u001b[39m] = \u001b[33mSet\u001b[39m(\n",
       "  \u001b[33mEquationNode\u001b[39m(\n",
       "    \u001b[33mFinalVal\u001b[39m(\n",
       "      \u001b[33mInIsle\u001b[39m(\n",
       "        \u001b[33mInIsle\u001b[39m(\n",
       "          \u001b[33mInIsle\u001b[39m(\n",
       "            \u001b[33mElem\u001b[39m(\u001b[32m((B → B) → B)\u001b[39m, Typs),\n",
       "            \u001b[32ma\u001b[39m,\n",
       "            \u001b[33mIsland\u001b[39m(\n",
       "              Typs,\n",
       "              \u001b[33mConstRandVar\u001b[39m(Typs),\n",
       "              provingground.learning.ExpressionEval$$Lambda$2810/475781992@5e143423,\n",
       "              Pi,\n",
       "              EnterIsle\n",
       "            )\n",
       "          ),\n",
       "          \u001b[32mB\u001b[39m,\n",
       "          \u001b[33mIsland\u001b[39m(\n",
       "            Typs,\n",
       "            \u001b[33mConstRandVar\u001b[39m(Typs),\n",
       "            provingground.learning.ExpressionEval$$Lambda$2810/475781992@3a467786,\n",
       "            Pi,\n",
       "            EnterIsle\n",
       "          )\n",
       "        ),\n",
       "        \u001b[32mA\u001b[39m,\n",
       "        \u001b[33mIsland\u001b[39m(\n",
       "          Typs,\n",
       "          \u001b[33mConstRandVar\u001b[39m(Typs),\n",
       "          provingground.learning.ExpressionEval$$Lambda$2810/475781992@431b2d9b,\n",
       "          Pi,\n",
       "          EnterIsle\n",
       "        )\n",
       "      )\n",
       "    ),\n",
       "    \u001b[33mProduct\u001b[39m(\n",
       "      \u001b[33mProduct\u001b[39m(\n",
       "..."
      ]
     },
     "execution_count": 6,
     "metadata": {},
     "output_type": "execute_result"
    }
   ],
   "source": [
    "val (ns, eqs) = td"
   ]
  },
  {
   "cell_type": "code",
   "execution_count": 7,
   "metadata": {},
   "outputs": [
    {
     "data": {
      "text/plain": [
       "\u001b[36matoms\u001b[39m: \u001b[32mSet\u001b[39m[\u001b[32mGeneratorVariables\u001b[39m.\u001b[32mVariable\u001b[39m[\u001b[32mAny\u001b[39m]] = \u001b[33mSet\u001b[39m(\n",
       "  \u001b[33mInIsle\u001b[39m(\n",
       "    \u001b[33mInIsle\u001b[39m(\n",
       "      \u001b[33mElem\u001b[39m(\u001b[32m(a : A) ↦ A\u001b[39m, Terms),\n",
       "      \u001b[32mB\u001b[39m,\n",
       "      \u001b[33mIsland\u001b[39m(\n",
       "        Typs,\n",
       "        \u001b[33mConstRandVar\u001b[39m(Typs),\n",
       "        provingground.learning.ExpressionEval$$Lambda$2810/475781992@3a467786,\n",
       "        Pi,\n",
       "        EnterIsle\n",
       "      )\n",
       "    ),\n",
       "    \u001b[32mA\u001b[39m,\n",
       "    \u001b[33mIsland\u001b[39m(\n",
       "      Terms,\n",
       "      \u001b[33mConstRandVar\u001b[39m(Terms),\n",
       "      provingground.learning.ExpressionEval$$Lambda$2816/103690594@3df53352,\n",
       "      Lambda,\n",
       "      EnterIsle\n",
       "    )\n",
       "  ),\n",
       "  \u001b[33mInIsle\u001b[39m(\n",
       "    \u001b[33mInIsle\u001b[39m(\n",
       "      \u001b[33mElem\u001b[39m(\u001b[32m(A → B×B×B)\u001b[39m, Typs),\n",
       "      \u001b[32mB\u001b[39m,\n",
       "      \u001b[33mIsland\u001b[39m(\n",
       "        Terms,\n",
       "        \u001b[33mConstRandVar\u001b[39m(Terms),\n",
       "        provingground.learning.ExpressionEval$$Lambda$2816/103690594@775bfcc7,\n",
       "        Lambda,\n",
       "        EnterIsle\n",
       "      )\n",
       "    ),\n",
       "    \u001b[32mA\u001b[39m,\n",
       "    \u001b[33mIsland\u001b[39m(\n",
       "      Typs,\n",
       "      \u001b[33mConstRandVar\u001b[39m(Typs),\n",
       "      provingground.learning.ExpressionEval$$Lambda$2810/475781992@431b2d9b,\n",
       "..."
      ]
     },
     "execution_count": 7,
     "metadata": {},
     "output_type": "execute_result"
    }
   ],
   "source": [
    "val atoms = (eqs.map(_.rhs).flatMap(Expression.varVals(_)) union eqs.map(_.lhs).flatMap(Expression.varVals(_))).map(_.variable)"
   ]
  },
  {
   "cell_type": "code",
   "execution_count": 8,
   "metadata": {},
   "outputs": [
    {
     "data": {
      "text/plain": [
       "\u001b[32mimport \u001b[39m\u001b[36mTermRandomVars._, GeneratorVariables._\n",
       "\u001b[39m\n",
       "\u001b[36melemTerms\u001b[39m: \u001b[32mSet\u001b[39m[\u001b[32mTerm\u001b[39m] = \u001b[33mSet\u001b[39m(\n",
       "  \u001b[32m(A : 𝒰 ) ↦ (B : 𝒰 ) ↦ (a : A) ↦ (@a : A) ↦ (@b : A) ↦ @b\u001b[39m,\n",
       "  \u001b[32m(A : 𝒰 ) ↦ (B : 𝒰 ) ↦ (a : A) ↦ (@a : A) ↦ (@b : A) ↦ @a\u001b[39m,\n",
       "  \u001b[32m(A : 𝒰 ) ↦ (B : 𝒰 ) ↦ (a : A) ↦ (@a : A) ↦ (@b : A) ↦ a\u001b[39m,\n",
       "  \u001b[32m(A : 𝒰 ) ↦ (B : 𝒰 ) ↦ (a : A) ↦ (@a : B) ↦ (@b : B) ↦ @a\u001b[39m,\n",
       "  \u001b[32m(A : 𝒰 ) ↦ (B : 𝒰 ) ↦ (a : A) ↦ (@a : B) ↦ (@b : B) ↦ @b\u001b[39m,\n",
       "  \u001b[32m(A : 𝒰 ) ↦ (B : 𝒰 ) ↦ (a : A) ↦ (@a : A) ↦ (@a : B) ↦ @a\u001b[39m,\n",
       "  \u001b[32m(A : 𝒰 ) ↦ (B : 𝒰 ) ↦ (a : A) ↦ (@a : B) ↦ (@a : A) ↦ @a\u001b[39m,\n",
       "  \u001b[32m(A : 𝒰 ) ↦ (B : 𝒰 ) ↦ (a : A) ↦ (@a : A) ↦ (@a : B) ↦ a\u001b[39m,\n",
       "  \u001b[32m(A : 𝒰 ) ↦ (B : 𝒰 ) ↦ (a : A) ↦ (@a : B) ↦ (@a : A) ↦ a\u001b[39m,\n",
       "  \u001b[32m(A : 𝒰 ) ↦ (B : 𝒰 ) ↦ (a : A) ↦ (@a : A) ↦ (@a : B) ↦ @a\u001b[39m,\n",
       "  \u001b[32m(A : 𝒰 ) ↦ (B : 𝒰 ) ↦ (a : A) ↦ (@a : B) ↦ (@a : A) ↦ @a\u001b[39m,\n",
       "  \u001b[32m(A : 𝒰 ) ↦ (B : 𝒰 ) ↦ (a : A) ↦ (@a : B) ↦ (@b : B) ↦ a\u001b[39m,\n",
       "  \u001b[32m(A : 𝒰 ) ↦ (B : 𝒰 ) ↦ (a : A) ↦ (@a : (B → B)) ↦ a\u001b[39m,\n",
       "  \u001b[32m(A : 𝒰 ) ↦ (B : 𝒰 ) ↦ (a : A) ↦ (@a : (A → B)) ↦ a\u001b[39m,\n",
       "  \u001b[32m(A : 𝒰 ) ↦ (B : 𝒰 ) ↦ (a : A) ↦ (@a : (A → A)) ↦ a\u001b[39m,\n",
       "  \u001b[32m(A : 𝒰 ) ↦ (B : 𝒰 ) ↦ (a : A) ↦ (@a : (B → A)) ↦ a\u001b[39m,\n",
       "  \u001b[32m(A : 𝒰 ) ↦ (B : 𝒰 ) ↦ (a : A) ↦ ((`@a_1 , @a_2) : A×A) ↦ a\u001b[39m,\n",
       "  \u001b[32m(A : 𝒰 ) ↦ (B : 𝒰 ) ↦ (a : A) ↦ ((``@a_1 , @a_2) : A×B) ↦ a\u001b[39m,\n",
       "  \u001b[32m(A : 𝒰 ) ↦ (B : 𝒰 ) ↦ (a : A) ↦ ((``@a_1 , @a_2) : B×A) ↦ a\u001b[39m,\n",
       "  \u001b[32m(A : 𝒰 ) ↦ (B : 𝒰 ) ↦ (a : A) ↦ ((`@a_1 , @a_2) : B×B) ↦ a\u001b[39m,\n",
       "  \u001b[32m(A : 𝒰 ) ↦ (B : 𝒰 ) ↦ (a : A) ↦ (@a : A) ↦ @a\u001b[39m,\n",
       "  \u001b[32m(A : 𝒰 ) ↦ (B : 𝒰 ) ↦ (a : A) ↦ (@a : A) ↦ a\u001b[39m,\n",
       "  \u001b[32m(A : 𝒰 ) ↦ (B : 𝒰 ) ↦ (a : A) ↦ (@a : B) ↦ @a\u001b[39m,\n",
       "  \u001b[32m(A : 𝒰 ) ↦ (B : 𝒰 ) ↦ (a : A) ↦ (@a : B) ↦ a\u001b[39m,\n",
       "  \u001b[32m(A : 𝒰 ) ↦ (B : 𝒰 ) ↦ (a : A) ↦ a\u001b[39m,\n",
       "  \u001b[32m(A : 𝒰 ) ↦ (B : 𝒰 ) ↦ (a : A) ↦ (@a : (A → A)) ↦ @a\u001b[39m,\n",
       "  \u001b[32m(A : 𝒰 ) ↦ (B : 𝒰 ) ↦ (a : A) ↦ (@a : (B → A)) ↦ @a\u001b[39m,\n",
       "  \u001b[32m(A : 𝒰 ) ↦ (B : 𝒰 ) ↦ (a : A) ↦ (@a : (B → B)) ↦ @a\u001b[39m,\n",
       "  \u001b[32m(A : 𝒰 ) ↦ (B : 𝒰 ) ↦ (a : A) ↦ (@a : (A → B)) ↦ @a\u001b[39m,\n",
       "  \u001b[32m(A : 𝒰 ) ↦ (B : 𝒰 ) ↦ (a : A) ↦ ((``@a_1 , @a_2) : B×B) ↦ (``@a_1 , @a_2)\u001b[39m,\n",
       "  \u001b[32m(A : 𝒰 ) ↦ (B : 𝒰 ) ↦ (a : A) ↦ ((```@a_1 , @a_2) : B×A) ↦ (```@a_1 , @a_2)\u001b[39m,\n",
       "  \u001b[32m(A : 𝒰 ) ↦ (B : 𝒰 ) ↦ (a : A) ↦ ((``@a_1 , @a_2) : A×A) ↦ (``@a_1 , @a_2)\u001b[39m,\n",
       "  \u001b[32m(A : 𝒰 ) ↦ (B : 𝒰 ) ↦ (a : A) ↦ ((```@a_1 , @a_2) : A×B) ↦ (```@a_1 , @a_2)\u001b[39m\n",
       ")"
      ]
     },
     "execution_count": 8,
     "metadata": {},
     "output_type": "execute_result"
    }
   ],
   "source": [
    "import TermRandomVars._, GeneratorVariables._\n",
    "val elemTerms = atoms.collect{case Elem(t: Term, Terms) => t}"
   ]
  },
  {
   "cell_type": "code",
   "execution_count": 9,
   "metadata": {},
   "outputs": [
    {
     "data": {
      "text/plain": [
       "\u001b[36mres8\u001b[39m: \u001b[32mBoolean\u001b[39m = false"
      ]
     },
     "execution_count": 9,
     "metadata": {},
     "output_type": "execute_result"
    }
   ],
   "source": [
    "elemTerms.exists(_.dependsOn(A))"
   ]
  },
  {
   "cell_type": "markdown",
   "metadata": {},
   "source": [
    "## First checks\n",
    "\n",
    "* None of the terms depends on the variables\n",
    "* The duplication in generated variables has stopped."
   ]
  },
  {
   "cell_type": "code",
   "execution_count": 10,
   "metadata": {},
   "outputs": [
    {
     "data": {
      "text/plain": [
       "\u001b[36mres9\u001b[39m: \u001b[32mInt\u001b[39m = \u001b[32m4637\u001b[39m"
      ]
     },
     "execution_count": 10,
     "metadata": {},
     "output_type": "execute_result"
    }
   ],
   "source": [
    "atoms.size"
   ]
  },
  {
   "cell_type": "code",
   "execution_count": 11,
   "metadata": {},
   "outputs": [
    {
     "data": {
      "text/plain": [
       "\u001b[36melemTyps\u001b[39m: \u001b[32mSet\u001b[39m[\u001b[32mTyp\u001b[39m[\u001b[32mTerm\u001b[39m]] = \u001b[33mSet\u001b[39m()"
      ]
     },
     "execution_count": 11,
     "metadata": {},
     "output_type": "execute_result"
    }
   ],
   "source": [
    "val elemTyps = atoms.collect{case Elem(t: Typ[Term], Typs) => t}"
   ]
  },
  {
   "cell_type": "code",
   "execution_count": 12,
   "metadata": {},
   "outputs": [
    {
     "data": {
      "text/plain": [
       "\u001b[36mnormEqs\u001b[39m: \u001b[32mSet\u001b[39m[\u001b[32mEquationNode\u001b[39m] = \u001b[33mSet\u001b[39m(\n",
       "  \u001b[33mEquationNode\u001b[39m(\n",
       "    \u001b[33mInitialVal\u001b[39m(\n",
       "      \u001b[33mInIsle\u001b[39m(\n",
       "        \u001b[33mInIsle\u001b[39m(\n",
       "          \u001b[33mInIsle\u001b[39m(\n",
       "            \u001b[33mInIsle\u001b[39m(\n",
       "              \u001b[33mElem\u001b[39m(\u001b[32m@a\u001b[39m, Typs),\n",
       "              \u001b[32m@a\u001b[39m,\n",
       "              \u001b[33mIsland\u001b[39m(\n",
       "                Typs,\n",
       "                \u001b[33mConstRandVar\u001b[39m(Typs),\n",
       "                \u001b[33mAddVar\u001b[39m(\u001b[32m(@b → @a)\u001b[39m),\n",
       "                Sigma,\n",
       "                EnterIsle\n",
       "              )\n",
       "            ),\n",
       "            \u001b[32m@a\u001b[39m,\n",
       "            \u001b[33mIsland\u001b[39m(Typs, \u001b[33mConstRandVar\u001b[39m(Typs), \u001b[33mAddVar\u001b[39m(\u001b[32m@a\u001b[39m), Pi, EnterIsle)\n",
       "          ),\n",
       "          \u001b[32m@b\u001b[39m,\n",
       "          \u001b[33mIsland\u001b[39m(Terms, \u001b[33mConstRandVar\u001b[39m(Terms), \u001b[33mAddVar\u001b[39m(\u001b[32m𝒰 \u001b[39m), Lambda, EnterIsle)\n",
       "        ),\n",
       "        \u001b[32m@a\u001b[39m,\n",
       "        \u001b[33mIsland\u001b[39m(Typs, \u001b[33mConstRandVar\u001b[39m(Typs), \u001b[33mAddVar\u001b[39m(\u001b[32m𝒰 \u001b[39m), Pi, EnterIsle)\n",
       "      )\n",
       "    ),\n",
       "    \u001b[33mProduct\u001b[39m(\n",
       "      \u001b[33mIsleScale\u001b[39m(\u001b[32m@a\u001b[39m, \u001b[33mElem\u001b[39m(\u001b[32mA\u001b[39m, Typs)),\n",
       "      \u001b[33mInitialVal\u001b[39m(\n",
       "        \u001b[33mInIsle\u001b[39m(\n",
       "          \u001b[33mInIsle\u001b[39m(\n",
       "            \u001b[33mInIsle\u001b[39m(\n",
       "              \u001b[33mElem\u001b[39m(\u001b[32m@a\u001b[39m, Typs),\n",
       "              \u001b[32m@a\u001b[39m,\n",
       "              \u001b[33mIsland\u001b[39m(Typs, \u001b[33mConstRandVar\u001b[39m(Typs), \u001b[33mAddVar\u001b[39m(\u001b[32m@a\u001b[39m), Pi, EnterIsle)\n",
       "            ),\n",
       "            \u001b[32m@b\u001b[39m,\n",
       "            \u001b[33mIsland\u001b[39m(Terms, \u001b[33mConstRandVar\u001b[39m(Terms), \u001b[33mAddVar\u001b[39m(\u001b[32m𝒰 \u001b[39m), Lambda, EnterIsle)\n",
       "..."
      ]
     },
     "execution_count": 12,
     "metadata": {},
     "output_type": "execute_result"
    }
   ],
   "source": [
    "val normEqs = eqs.map(eq => TermData.isleNormalize(eq))"
   ]
  },
  {
   "cell_type": "code",
   "execution_count": 13,
   "metadata": {},
   "outputs": [
    {
     "data": {
      "text/plain": [
       "\u001b[36mnormAtoms\u001b[39m: \u001b[32mSet\u001b[39m[\u001b[32mVariable\u001b[39m[\u001b[32mAny\u001b[39m]] = \u001b[33mSet\u001b[39m(\n",
       "  \u001b[33mInIsle\u001b[39m(\n",
       "    \u001b[33mInIsle\u001b[39m(\n",
       "      \u001b[33mInIsle\u001b[39m(\n",
       "        \u001b[33mElem\u001b[39m(\u001b[32m(@a → (@b → @a))\u001b[39m, Typs),\n",
       "        \u001b[32m@a\u001b[39m,\n",
       "        \u001b[33mIsland\u001b[39m(Typs, \u001b[33mConstRandVar\u001b[39m(Typs), \u001b[33mAddVar\u001b[39m(\u001b[32m@a\u001b[39m), Pi, EnterIsle)\n",
       "      ),\n",
       "      \u001b[32m@b\u001b[39m,\n",
       "      \u001b[33mIsland\u001b[39m(Typs, \u001b[33mConstRandVar\u001b[39m(Typs), \u001b[33mAddVar\u001b[39m(\u001b[32m𝒰 \u001b[39m), Pi, EnterIsle)\n",
       "    ),\n",
       "    \u001b[32m@a\u001b[39m,\n",
       "    \u001b[33mIsland\u001b[39m(Typs, \u001b[33mConstRandVar\u001b[39m(Typs), \u001b[33mAddVar\u001b[39m(\u001b[32m𝒰 \u001b[39m), Pi, EnterIsle)\n",
       "  ),\n",
       "  \u001b[33mInIsle\u001b[39m(\n",
       "    \u001b[33mInIsle\u001b[39m(\n",
       "      \u001b[33mInIsle\u001b[39m(\n",
       "        \u001b[33mElem\u001b[39m(\u001b[32m(@a → (@a → @a))\u001b[39m, Typs),\n",
       "        \u001b[32m@a\u001b[39m,\n",
       "        \u001b[33mIsland\u001b[39m(Typs, \u001b[33mConstRandVar\u001b[39m(Typs), \u001b[33mAddVar\u001b[39m(\u001b[32m@a\u001b[39m), Pi, EnterIsle)\n",
       "      ),\n",
       "      \u001b[32m@b\u001b[39m,\n",
       "      \u001b[33mIsland\u001b[39m(Typs, \u001b[33mConstRandVar\u001b[39m(Typs), \u001b[33mAddVar\u001b[39m(\u001b[32m𝒰 \u001b[39m), Pi, EnterIsle)\n",
       "    ),\n",
       "    \u001b[32m@a\u001b[39m,\n",
       "    \u001b[33mIsland\u001b[39m(Typs, \u001b[33mConstRandVar\u001b[39m(Typs), \u001b[33mAddVar\u001b[39m(\u001b[32m𝒰 \u001b[39m), Pi, EnterIsle)\n",
       "  ),\n",
       "  \u001b[33mInIsle\u001b[39m(\n",
       "    \u001b[33mInIsle\u001b[39m(\n",
       "      \u001b[33mInIsle\u001b[39m(\n",
       "        \u001b[33mElem\u001b[39m(\u001b[32m(@b → (@b → @a))\u001b[39m, Typs),\n",
       "        \u001b[32m@a\u001b[39m,\n",
       "        \u001b[33mIsland\u001b[39m(Typs, \u001b[33mConstRandVar\u001b[39m(Typs), \u001b[33mAddVar\u001b[39m(\u001b[32m@a\u001b[39m), Pi, EnterIsle)\n",
       "      ),\n",
       "      \u001b[32m@b\u001b[39m,\n",
       "      \u001b[33mIsland\u001b[39m(Typs, \u001b[33mConstRandVar\u001b[39m(Typs), \u001b[33mAddVar\u001b[39m(\u001b[32m𝒰 \u001b[39m), Pi, EnterIsle)\n",
       "    ),\n",
       "    \u001b[32m@a\u001b[39m,\n",
       "    \u001b[33mIsland\u001b[39m(Typs, \u001b[33mConstRandVar\u001b[39m(Typs), \u001b[33mAddVar\u001b[39m(\u001b[32m𝒰 \u001b[39m), Pi, EnterIsle)\n",
       "..."
      ]
     },
     "execution_count": 13,
     "metadata": {},
     "output_type": "execute_result"
    }
   ],
   "source": [
    "val normAtoms = (normEqs.map(_.rhs).flatMap(Expression.varVals(_)) union normEqs.map(_.lhs).flatMap(Expression.varVals(_))).map(_.variable)"
   ]
  },
  {
   "cell_type": "code",
   "execution_count": 14,
   "metadata": {},
   "outputs": [
    {
     "data": {
      "text/plain": [
       "\u001b[36mnormElemTerms\u001b[39m: \u001b[32mSet\u001b[39m[\u001b[32mTerm\u001b[39m] = \u001b[33mSet\u001b[39m(\n",
       "  \u001b[32m(A : 𝒰 ) ↦ (B : 𝒰 ) ↦ (a : A) ↦ (@a : B) ↦ (@b : B) ↦ @a\u001b[39m,\n",
       "  \u001b[32m(A : 𝒰 ) ↦ (B : 𝒰 ) ↦ (a : A) ↦ (@a : B) ↦ (@b : B) ↦ @b\u001b[39m,\n",
       "  \u001b[32m(A : 𝒰 ) ↦ (B : 𝒰 ) ↦ (a : A) ↦ (@a : A) ↦ (@a : B) ↦ @a\u001b[39m,\n",
       "  \u001b[32m(A : 𝒰 ) ↦ (B : 𝒰 ) ↦ (a : A) ↦ (@a : B) ↦ (@a : A) ↦ @a\u001b[39m,\n",
       "  \u001b[32m(A : 𝒰 ) ↦ (B : 𝒰 ) ↦ (a : A) ↦ (@a : A) ↦ (@a : B) ↦ a\u001b[39m,\n",
       "  \u001b[32m(A : 𝒰 ) ↦ (B : 𝒰 ) ↦ (a : A) ↦ (@a : B) ↦ (@a : A) ↦ a\u001b[39m,\n",
       "  \u001b[32m(A : 𝒰 ) ↦ (B : 𝒰 ) ↦ (a : A) ↦ (@a : A) ↦ (@b : A) ↦ @b\u001b[39m,\n",
       "  \u001b[32m(A : 𝒰 ) ↦ (B : 𝒰 ) ↦ (a : A) ↦ (@a : A) ↦ (@b : A) ↦ @a\u001b[39m,\n",
       "  \u001b[32m(A : 𝒰 ) ↦ (B : 𝒰 ) ↦ (a : A) ↦ (@a : A) ↦ (@b : A) ↦ a\u001b[39m,\n",
       "  \u001b[32m(A : 𝒰 ) ↦ (B : 𝒰 ) ↦ (a : A) ↦ (@a : A) ↦ (@a : B) ↦ @a\u001b[39m,\n",
       "  \u001b[32m(A : 𝒰 ) ↦ (B : 𝒰 ) ↦ (a : A) ↦ (@a : B) ↦ (@a : A) ↦ @a\u001b[39m,\n",
       "  \u001b[32m(A : 𝒰 ) ↦ (B : 𝒰 ) ↦ (a : A) ↦ (@a : B) ↦ (@b : B) ↦ a\u001b[39m,\n",
       "  \u001b[32m(A : 𝒰 ) ↦ (B : 𝒰 ) ↦ (a : A) ↦ (@a : (B → B)) ↦ a\u001b[39m,\n",
       "  \u001b[32m(A : 𝒰 ) ↦ (B : 𝒰 ) ↦ (a : A) ↦ (@a : (A → B)) ↦ a\u001b[39m,\n",
       "  \u001b[32m(A : 𝒰 ) ↦ (B : 𝒰 ) ↦ (a : A) ↦ (@a : (A → A)) ↦ a\u001b[39m,\n",
       "  \u001b[32m(A : 𝒰 ) ↦ (B : 𝒰 ) ↦ (a : A) ↦ (@a : (B → A)) ↦ a\u001b[39m,\n",
       "  \u001b[32m(A : 𝒰 ) ↦ (B : 𝒰 ) ↦ (a : A) ↦ ((`@a_1 , @a_2) : A×A) ↦ a\u001b[39m,\n",
       "  \u001b[32m(A : 𝒰 ) ↦ (B : 𝒰 ) ↦ (a : A) ↦ ((``@a_1 , @a_2) : B×A) ↦ a\u001b[39m,\n",
       "  \u001b[32m(A : 𝒰 ) ↦ (B : 𝒰 ) ↦ (a : A) ↦ ((`@a_1 , @a_2) : B×B) ↦ a\u001b[39m,\n",
       "  \u001b[32m(A : 𝒰 ) ↦ (B : 𝒰 ) ↦ (a : A) ↦ ((``@a_1 , @a_2) : A×B) ↦ a\u001b[39m,\n",
       "  \u001b[32m(A : 𝒰 ) ↦ (B : 𝒰 ) ↦ (a : A) ↦ (@a : A) ↦ @a\u001b[39m,\n",
       "  \u001b[32m(A : 𝒰 ) ↦ (B : 𝒰 ) ↦ (a : A) ↦ (@a : A) ↦ a\u001b[39m,\n",
       "  \u001b[32m(A : 𝒰 ) ↦ (B : 𝒰 ) ↦ (a : A) ↦ (@a : B) ↦ a\u001b[39m,\n",
       "  \u001b[32m(A : 𝒰 ) ↦ (B : 𝒰 ) ↦ (a : A) ↦ (@a : B) ↦ @a\u001b[39m,\n",
       "  \u001b[32m(A : 𝒰 ) ↦ (B : 𝒰 ) ↦ (a : A) ↦ a\u001b[39m,\n",
       "  \u001b[32m(A : 𝒰 ) ↦ (B : 𝒰 ) ↦ (a : A) ↦ (@a : (B → B)) ↦ @a\u001b[39m,\n",
       "  \u001b[32m(A : 𝒰 ) ↦ (B : 𝒰 ) ↦ (a : A) ↦ (@a : (A → B)) ↦ @a\u001b[39m,\n",
       "  \u001b[32m(A : 𝒰 ) ↦ (B : 𝒰 ) ↦ (a : A) ↦ (@a : (A → A)) ↦ @a\u001b[39m,\n",
       "  \u001b[32m(A : 𝒰 ) ↦ (B : 𝒰 ) ↦ (a : A) ↦ (@a : (B → A)) ↦ @a\u001b[39m,\n",
       "  \u001b[32m(A : 𝒰 ) ↦ (B : 𝒰 ) ↦ (a : A) ↦ ((```@a_1 , @a_2) : A×B) ↦ (```@a_1 , @a_2)\u001b[39m,\n",
       "  \u001b[32m(A : 𝒰 ) ↦ (B : 𝒰 ) ↦ (a : A) ↦ ((``@a_1 , @a_2) : B×B) ↦ (``@a_1 , @a_2)\u001b[39m,\n",
       "  \u001b[32m(A : 𝒰 ) ↦ (B : 𝒰 ) ↦ (a : A) ↦ ((``@a_1 , @a_2) : A×A) ↦ (``@a_1 , @a_2)\u001b[39m,\n",
       "  \u001b[32m(A : 𝒰 ) ↦ (B : 𝒰 ) ↦ (a : A) ↦ ((```@a_1 , @a_2) : B×A) ↦ (```@a_1 , @a_2)\u001b[39m\n",
       ")"
      ]
     },
     "execution_count": 14,
     "metadata": {},
     "output_type": "execute_result"
    }
   ],
   "source": [
    "val normElemTerms = normAtoms.collect{case Elem(t: Term, Terms) => t}"
   ]
  },
  {
   "cell_type": "code",
   "execution_count": 15,
   "metadata": {},
   "outputs": [
    {
     "name": "stdout",
     "output_type": "stream",
     "text": [
      "\u001b[33mSet\u001b[39m(\n",
      "  \u001b[33mFinalVal\u001b[39m(\n",
      "    \u001b[33mInIsle\u001b[39m(\n",
      "      \u001b[33mInIsle\u001b[39m(\n",
      "        \u001b[33mInIsle\u001b[39m(\n",
      "          \u001b[33mInIsle\u001b[39m(\n",
      "            \u001b[33mInIsle\u001b[39m(\n",
      "              \u001b[33mElem\u001b[39m(\u001b[32m@a\u001b[39m, Typs),\n",
      "              \u001b[32m@b\u001b[39m,\n",
      "              \u001b[33mIsland\u001b[39m(Typs, \u001b[33mConstRandVar\u001b[39m(Typs), \u001b[33mAddVar\u001b[39m(\u001b[32m@b\u001b[39m), Sigma, EnterIsle)\n",
      "            ),\n",
      "            \u001b[32m@a\u001b[39m,\n",
      "            \u001b[33mIsland\u001b[39m(Typs, \u001b[33mConstRandVar\u001b[39m(Typs), \u001b[33mAddVar\u001b[39m(\u001b[32m@b\u001b[39m), Pi, EnterIsle)\n",
      "          ),\n",
      "          \u001b[32m@a\u001b[39m,\n",
      "          \u001b[33mIsland\u001b[39m(Terms, \u001b[33mConstRandVar\u001b[39m(Terms), \u001b[33mAddVar\u001b[39m(\u001b[32m@a\u001b[39m), Lambda, EnterIsle)\n",
      "        ),\n",
      "        \u001b[32m@b\u001b[39m,\n",
      "        \u001b[33mIsland\u001b[39m(Terms, \u001b[33mConstRandVar\u001b[39m(Terms), \u001b[33mAddVar\u001b[39m(\u001b[32m𝒰 \u001b[39m), Lambda, EnterIsle)\n",
      "      ),\n",
      "      \u001b[32m@a\u001b[39m,\n",
      "      \u001b[33mIsland\u001b[39m(Terms, \u001b[33mConstRandVar\u001b[39m(Terms), \u001b[33mAddVar\u001b[39m(\u001b[32m𝒰 \u001b[39m), Lambda, EnterIsle)\n",
      "    )\n",
      "  ),\n",
      "  \u001b[33mFinalVal\u001b[39m(\n",
      "    \u001b[33mInIsle\u001b[39m(\n",
      "      \u001b[33mInIsle\u001b[39m(\n",
      "        \u001b[33mInIsle\u001b[39m(\n",
      "          \u001b[33mInIsle\u001b[39m(\n",
      "            \u001b[33mElem\u001b[39m(\u001b[32m@b\u001b[39m, Typs),\n",
      "            \u001b[32m@a\u001b[39m,\n",
      "            \u001b[33mIsland\u001b[39m(\n",
      "              TypFamilies,\n",
      "              \u001b[33mConstRandVar\u001b[39m(TypsAndFamilies),\n",
      "              \u001b[33mAddVar\u001b[39m(\u001b[32m(@b → @b)\u001b[39m),\n",
      "              Lambda,\n",
      "              EnterIsle\n",
      "            )\n",
      "          ),\n",
      "          \u001b[32m@a\u001b[39m,\n",
      "          \u001b[33mIsland\u001b[39m(Typs, \u001b[33mConstRandVar\u001b[39m(Typs), \u001b[33mAddVar\u001b[39m(\u001b[32m@a\u001b[39m), Pi, EnterIsle)\n",
      "        ),\n",
      "        \u001b[32m@b\u001b[39m,\n",
      "        \u001b[33mIsland\u001b[39m(Terms, \u001b[33mConstRandVar\u001b[39m(Terms), \u001b[33mAddVar\u001b[39m(\u001b[32m𝒰 \u001b[39m), Lambda, EnterIsle)\n",
      "      ),\n",
      "      \u001b[32m@a\u001b[39m,\n",
      "      \u001b[33mIsland\u001b[39m(Terms, \u001b[33mConstRandVar\u001b[39m(Terms), \u001b[33mAddVar\u001b[39m(\u001b[32m𝒰 \u001b[39m), Lambda, EnterIsle)\n",
      "    )\n",
      "  ),\n",
      "  \u001b[33mFinalVal\u001b[39m(\n",
      "    \u001b[33mInIsle\u001b[39m(\n",
      "      \u001b[33mInIsle\u001b[39m(\n",
      "        \u001b[33mInIsle\u001b[39m(\n",
      "          \u001b[33mInIsle\u001b[39m(\n",
      "            \u001b[33mElem\u001b[39m(\u001b[32m@b\u001b[39m, Typs),\n",
      "            \u001b[32m@a\u001b[39m,\n",
      "            \u001b[33mIsland\u001b[39m(\n",
      "              TypFamilies,\n",
      "              \u001b[33mConstRandVar\u001b[39m(TypsAndFamilies),\n",
      "              \u001b[33mAddVar\u001b[39m(\u001b[32m(@a → @b)\u001b[39m),\n",
      "              Lambda,\n",
      "              EnterIsle\n",
      "            )\n",
      "          ),\n",
      "          \u001b[32m@a\u001b[39m,\n",
      "          \u001b[33mIsland\u001b[39m(Typs, \u001b[33mConstRandVar\u001b[39m(Typs), \u001b[33mAddVar\u001b[39m(\u001b[32m@a\u001b[39m), Pi, EnterIsle)\n",
      "        ),\n",
      "        \u001b[32m@b\u001b[39m,\n",
      "        \u001b[33mIsland\u001b[39m(Terms, \u001b[33mConstRandVar\u001b[39m(Terms), \u001b[33mAddVar\u001b[39m(\u001b[32m𝒰 \u001b[39m), Lambda, EnterIsle)\n",
      "      ),\n",
      "      \u001b[32m@a\u001b[39m,\n",
      "      \u001b[33mIsland\u001b[39m(Terms, \u001b[33mConstRandVar\u001b[39m(Terms), \u001b[33mAddVar\u001b[39m(\u001b[32m𝒰 \u001b[39m), Lambda, EnterIsle)\n",
      "    )\n",
      "  ),\n",
      "  \u001b[33mInitialVal\u001b[39m(\n",
      "    \u001b[33mInIsle\u001b[39m(\n",
      "      \u001b[33mInIsle\u001b[39m(\n",
      "        \u001b[33mInIsle\u001b[39m(\n",
      "          \u001b[33mInIsle\u001b[39m(\n",
      "            \u001b[33mElem\u001b[39m(\u001b[32m@a\u001b[39m, Typs),\n",
      "            \u001b[32m@a\u001b[39m,\n",
      "            \u001b[33mIsland\u001b[39m(\n",
      "              Typs,\n",
      "              \u001b[33mConstRandVar\u001b[39m(Typs),\n",
      "              \u001b[33mAddVar\u001b[39m(\u001b[32m(@b → @a)\u001b[39m),\n",
      "              Sigma,\n",
      "              EnterIsle\n",
      "            )\n",
      "          ),\n",
      "          \u001b[32m@a\u001b[39m,\n",
      "          \u001b[33mIsland\u001b[39m(Typs, \u001b[33mConstRandVar\u001b[39m(Typs), \u001b[33mAddVar\u001b[39m(\u001b[32m@a\u001b[39m), Pi, EnterIsle)\n",
      "        ),\n",
      "        \u001b[32m@b\u001b[39m,\n",
      "        \u001b[33mIsland\u001b[39m(Terms, \u001b[33mConstRandVar\u001b[39m(Terms), \u001b[33mAddVar\u001b[39m(\u001b[32m𝒰 \u001b[39m), Lambda, EnterIsle)\n",
      "      ),\n",
      "      \u001b[32m@a\u001b[39m,\n",
      "      \u001b[33mIsland\u001b[39m(Typs, \u001b[33mConstRandVar\u001b[39m(Typs), \u001b[33mAddVar\u001b[39m(\u001b[32m𝒰 \u001b[39m), Pi, EnterIsle)\n",
      "    )\n",
      "  ),\n",
      "  \u001b[33mInitialVal\u001b[39m(\n",
      "    \u001b[33mInIsle\u001b[39m(\n",
      "      \u001b[33mInIsle\u001b[39m(\n",
      "        \u001b[33mInIsle\u001b[39m(\n",
      "          \u001b[33mInIsle\u001b[39m(\n",
      "            \u001b[33mElem\u001b[39m(\u001b[32m@a\u001b[39m, Typs),\n",
      "            \u001b[32m@a\u001b[39m,\n",
      "            \u001b[33mIsland\u001b[39m(\n",
      "              Typs,\n",
      "              \u001b[33mConstRandVar\u001b[39m(Typs),\n",
      "              \u001b[33mAddVar\u001b[39m(\u001b[32m(@a → @a)\u001b[39m),\n",
      "              Sigma,\n",
      "              EnterIsle\n",
      "            )\n",
      "          ),\n",
      "          \u001b[32m@a\u001b[39m,\n",
      "          \u001b[33mIsland\u001b[39m(Typs, \u001b[33mConstRandVar\u001b[39m(Typs), \u001b[33mAddVar\u001b[39m(\u001b[32m@a\u001b[39m), Pi, EnterIsle)\n",
      "        ),\n",
      "        \u001b[32m@b\u001b[39m,\n",
      "        \u001b[33mIsland\u001b[39m(Terms, \u001b[33mConstRandVar\u001b[39m(Terms), \u001b[33mAddVar\u001b[39m(\u001b[32m𝒰 \u001b[39m), Lambda, EnterIsle)\n",
      "      ),\n",
      "      \u001b[32m@a\u001b[39m,\n",
      "      \u001b[33mIsland\u001b[39m(Typs, \u001b[33mConstRandVar\u001b[39m(Typs), \u001b[33mAddVar\u001b[39m(\u001b[32m𝒰 \u001b[39m), Pi, EnterIsle)\n",
      "    )\n",
      "  ),\n",
      "  \u001b[33mFinalVal\u001b[39m(\n",
      "    \u001b[33mInIsle\u001b[39m(\n",
      "      \u001b[33mInIsle\u001b[39m(\n",
      "        \u001b[33mInIsle\u001b[39m(\n",
      "          \u001b[33mElem\u001b[39m(\u001b[32m(@a : @a) ↦ (@b : @a) ↦ @a\u001b[39m, Terms),\n",
      "          \u001b[32m@a\u001b[39m,\n",
      "          \u001b[33mIsland\u001b[39m(Terms, \u001b[33mConstRandVar\u001b[39m(Terms), \u001b[33mAddVar\u001b[39m(\u001b[32m@a\u001b[39m), Lambda, EnterIsle)\n",
      "        ),\n",
      "        \u001b[32m@b\u001b[39m,\n",
      "        \u001b[33mIsland\u001b[39m(Terms, \u001b[33mConstRandVar\u001b[39m(Terms), \u001b[33mAddVar\u001b[39m(\u001b[32m𝒰 \u001b[39m), Lambda, EnterIsle)\n",
      "      ),\n",
      "      \u001b[32m@a\u001b[39m,\n",
      "      \u001b[33mIsland\u001b[39m(Typs, \u001b[33mConstRandVar\u001b[39m(Typs), \u001b[33mAddVar\u001b[39m(\u001b[32m𝒰 \u001b[39m), Pi, EnterIsle)\n",
      "    )\n",
      "  ),\n",
      "  \u001b[33mFinalVal\u001b[39m(\n",
      "    \u001b[33mInIsle\u001b[39m(\n",
      "      \u001b[33mInIsle\u001b[39m(\n",
      "        \u001b[33mInIsle\u001b[39m(\n",
      "          \u001b[33mElem\u001b[39m(\u001b[32m(@a : @a) ↦ (@b : @a) ↦ @b\u001b[39m, Terms),\n",
      "          \u001b[32m@a\u001b[39m,\n",
      "          \u001b[33mIsland\u001b[39m(Terms, \u001b[33mConstRandVar\u001b[39m(Terms), \u001b[33mAddVar\u001b[39m(\u001b[32m@a\u001b[39m), Lambda, EnterIsle)\n",
      "        ),\n",
      "        \u001b[32m@b\u001b[39m,\n",
      "        \u001b[33mIsland\u001b[39m(Terms, \u001b[33mConstRandVar\u001b[39m(Terms), \u001b[33mAddVar\u001b[39m(\u001b[32m𝒰 \u001b[39m), Lambda, EnterIsle)\n",
      "      ),\n",
      "      \u001b[32m@a\u001b[39m,\n",
      "      \u001b[33mIsland\u001b[39m(Typs, \u001b[33mConstRandVar\u001b[39m(Typs), \u001b[33mAddVar\u001b[39m(\u001b[32m𝒰 \u001b[39m), Pi, EnterIsle)\n",
      "    )\n",
      "  ),\n",
      "  \u001b[33mFinalVal\u001b[39m(\n",
      "    \u001b[33mInIsle\u001b[39m(\n",
      "      \u001b[33mInIsle\u001b[39m(\n",
      "        \u001b[33mInIsle\u001b[39m(\n",
      "          \u001b[33mElem\u001b[39m(\u001b[32m(@a : (@b → @b)) ↦ @a\u001b[39m, Terms),\n",
      "          \u001b[32m@a\u001b[39m,\n",
      "          \u001b[33mIsland\u001b[39m(Terms, \u001b[33mConstRandVar\u001b[39m(Terms), \u001b[33mAddVar\u001b[39m(\u001b[32m@a\u001b[39m), Lambda, EnterIsle)\n",
      "        ),\n",
      "        \u001b[32m@b\u001b[39m,\n",
      "        \u001b[33mIsland\u001b[39m(Terms, \u001b[33mConstRandVar\u001b[39m(Terms), \u001b[33mAddVar\u001b[39m(\u001b[32m𝒰 \u001b[39m), Lambda, EnterIsle)\n",
      "      ),\n",
      "      \u001b[32m@a\u001b[39m,\n",
      "      \u001b[33mIsland\u001b[39m(Typs, \u001b[33mConstRandVar\u001b[39m(Typs), \u001b[33mAddVar\u001b[39m(\u001b[32m𝒰 \u001b[39m), Pi, EnterIsle)\n",
      "    )\n",
      "  ),\n",
      "  \u001b[33mFinalVal\u001b[39m(\n",
      "    \u001b[33mInIsle\u001b[39m(\n",
      "      \u001b[33mInIsle\u001b[39m(\n",
      "        \u001b[33mInIsle\u001b[39m(\n",
      "          \u001b[33mElem\u001b[39m(\u001b[32m(@a : (@a → @b)) ↦ @a\u001b[39m, Terms),\n",
      "          \u001b[32m@a\u001b[39m,\n",
      "          \u001b[33mIsland\u001b[39m(Terms, \u001b[33mConstRandVar\u001b[39m(Terms), \u001b[33mAddVar\u001b[39m(\u001b[32m@a\u001b[39m), Lambda, EnterIsle)\n",
      "        ),\n",
      "        \u001b[32m@b\u001b[39m,\n",
      "        \u001b[33mIsland\u001b[39m(Terms, \u001b[33mConstRandVar\u001b[39m(Terms), \u001b[33mAddVar\u001b[39m(\u001b[32m𝒰 \u001b[39m), Lambda, EnterIsle)\n",
      "      ),\n",
      "      \u001b[32m@a\u001b[39m,\n",
      "      \u001b[33mIsland\u001b[39m(Typs, \u001b[33mConstRandVar\u001b[39m(Typs), \u001b[33mAddVar\u001b[39m(\u001b[32m𝒰 \u001b[39m), Pi, EnterIsle)\n",
      "    )\n",
      "  ),\n",
      "  \u001b[33mInitialVal\u001b[39m(\n",
      "    \u001b[33mInIsle\u001b[39m(\n",
      "      \u001b[33mInIsle\u001b[39m(\n",
      "        \u001b[33mInIsle\u001b[39m(\n",
      "          \u001b[33mInIsle\u001b[39m(\n",
      "            \u001b[33mInIsle\u001b[39m(\n",
      "              \u001b[33mElem\u001b[39m(\u001b[32m@b\u001b[39m, Typs),\n",
      "              \u001b[32m@b\u001b[39m,\n",
      "              \u001b[33mIsland\u001b[39m(Typs, \u001b[33mConstRandVar\u001b[39m(Typs), \u001b[33mAddVar\u001b[39m(\u001b[32m@a\u001b[39m), Sigma, EnterIsle)\n",
      "            ),\n",
      "            \u001b[32m@a\u001b[39m,\n",
      "            \u001b[33mIsland\u001b[39m(Typs, \u001b[33mConstRandVar\u001b[39m(Typs), \u001b[33mAddVar\u001b[39m(\u001b[32m@b\u001b[39m), Sigma, EnterIsle)\n",
      "          ),\n",
      "          \u001b[32m@a\u001b[39m,\n",
      "          \u001b[33mIsland\u001b[39m(Typs, \u001b[33mConstRandVar\u001b[39m(Typs), \u001b[33mAddVar\u001b[39m(\u001b[32m@a\u001b[39m), Pi, EnterIsle)\n",
      "        ),\n",
      "        \u001b[32m@b\u001b[39m,\n",
      "        \u001b[33mIsland\u001b[39m(Terms, \u001b[33mConstRandVar\u001b[39m(Terms), \u001b[33mAddVar\u001b[39m(\u001b[32m𝒰 \u001b[39m), Lambda, EnterIsle)\n",
      "      ),\n",
      "      \u001b[32m@a\u001b[39m,\n",
      "      \u001b[33mIsland\u001b[39m(Terms, \u001b[33mConstRandVar\u001b[39m(Terms), \u001b[33mAddVar\u001b[39m(\u001b[32m𝒰 \u001b[39m), Lambda, EnterIsle)\n",
      "    )\n",
      "  )\n",
      ")\n"
     ]
    }
   ],
   "source": [
    "show(normEqs.take(10).map(_.lhs))"
   ]
  },
  {
   "cell_type": "code",
   "execution_count": 16,
   "metadata": {},
   "outputs": [
    {
     "data": {
      "text/plain": [
       "\u001b[36mres15\u001b[39m: \u001b[32mBoolean\u001b[39m = true"
      ]
     },
     "execution_count": 16,
     "metadata": {},
     "output_type": "execute_result"
    }
   ],
   "source": [
    "elemTerms == normElemTerms"
   ]
  },
  {
   "cell_type": "markdown",
   "metadata": {},
   "source": [
    "## Next conclusion\n",
    "\n",
    "* terms are generated correctly\n",
    "* however, this does not test deeper generation, for which we must generate with the equations."
   ]
  },
  {
   "cell_type": "code",
   "execution_count": 17,
   "metadata": {},
   "outputs": [
    {
     "data": {
      "text/plain": [
       "\u001b[36mts0\u001b[39m: \u001b[32mTermState\u001b[39m = \u001b[33mTermState\u001b[39m(\n",
       "  \u001b[33mFiniteDistribution\u001b[39m(\u001b[33mVector\u001b[39m()),\n",
       "  \u001b[33mFiniteDistribution\u001b[39m(\u001b[33mVector\u001b[39m(\u001b[33mWeighted\u001b[39m(\u001b[32m𝒰 \u001b[39m, \u001b[32m1.0\u001b[39m))),\n",
       "  \u001b[33mVector\u001b[39m(),\n",
       "  \u001b[33mFiniteDistribution\u001b[39m(\u001b[33mVector\u001b[39m()),\n",
       "  \u001b[33mFiniteDistribution\u001b[39m(\u001b[33mVector\u001b[39m()),\n",
       "  Empty\n",
       ")"
      ]
     },
     "execution_count": 17,
     "metadata": {},
     "output_type": "execute_result"
    }
   ],
   "source": [
    "val ts0 = TermState(FiniteDistribution.empty, FiniteDistribution.unif(Type))"
   ]
  },
  {
   "cell_type": "code",
   "execution_count": 18,
   "metadata": {},
   "outputs": [
    {
     "data": {
      "text/plain": [
       "\u001b[36mev\u001b[39m: \u001b[32mExpressionEval\u001b[39m = provingground.learning.ExpressionEval$$anon$2@2941afd9"
      ]
     },
     "execution_count": 18,
     "metadata": {},
     "output_type": "execute_result"
    }
   ],
   "source": [
    "val ev = ExpressionEval.fromInitEqs(ts0, Equation.group(eqs), TermGenParams(), decayS = 0.95)"
   ]
  },
  {
   "cell_type": "code",
   "execution_count": 19,
   "metadata": {},
   "outputs": [
    {
     "data": {
      "text/plain": [
       "\u001b[36mtermsT\u001b[39m: \u001b[32mFiniteDistribution\u001b[39m[\u001b[32mTerm\u001b[39m] = \u001b[33mFiniteDistribution\u001b[39m(\n",
       "  \u001b[33mVector\u001b[39m(\n",
       "    \u001b[33mWeighted\u001b[39m(\n",
       "      \u001b[32m(A : 𝒰 ) ↦ (B : 𝒰 ) ↦ (a : A) ↦ ((```@a_1 , @a_2) : A×B) ↦ (```@a_1 , @a_2)\u001b[39m,\n",
       "      \u001b[32m0.023962625587406663\u001b[39m\n",
       "    ),\n",
       "    \u001b[33mWeighted\u001b[39m(\n",
       "      \u001b[32m(A : 𝒰 ) ↦ (B : 𝒰 ) ↦ (a : A) ↦ ((``@a_1 , @a_2) : B×B) ↦ (``@a_1 , @a_2)\u001b[39m,\n",
       "      \u001b[32m0.023962646594319292\u001b[39m\n",
       "    ),\n",
       "    \u001b[33mWeighted\u001b[39m(\n",
       "      \u001b[32m(A : 𝒰 ) ↦ (B : 𝒰 ) ↦ (a : A) ↦ ((```@a_1 , @a_2) : B×A) ↦ (```@a_1 , @a_2)\u001b[39m,\n",
       "      \u001b[32m0.023959446907723708\u001b[39m\n",
       "    ),\n",
       "    \u001b[33mWeighted\u001b[39m(\n",
       "      \u001b[32m(A : 𝒰 ) ↦ (B : 𝒰 ) ↦ (a : A) ↦ ((``@a_1 , @a_2) : A×A) ↦ (``@a_1 , @a_2)\u001b[39m,\n",
       "      \u001b[32m0.023959432340384276\u001b[39m\n",
       "    ),\n",
       "    \u001b[33mWeighted\u001b[39m(\n",
       "      \u001b[32m(A : 𝒰 ) ↦ (B : 𝒰 ) ↦ (a : A) ↦ (@a : (B → A)) ↦ @a\u001b[39m,\n",
       "      \u001b[32m0.04793389196886914\u001b[39m\n",
       "    ),\n",
       "    \u001b[33mWeighted\u001b[39m(\n",
       "      \u001b[32m(A : 𝒰 ) ↦ (B : 𝒰 ) ↦ (a : A) ↦ (@a : (B → B)) ↦ @a\u001b[39m,\n",
       "      \u001b[32m0.04794678649334244\u001b[39m\n",
       "    ),\n",
       "    \u001b[33mWeighted\u001b[39m(\n",
       "      \u001b[32m(A : 𝒰 ) ↦ (B : 𝒰 ) ↦ (a : A) ↦ (@a : (A → B)) ↦ @a\u001b[39m,\n",
       "      \u001b[32m0.04794661644290413\u001b[39m\n",
       "    ),\n",
       "    \u001b[33mWeighted\u001b[39m(\n",
       "      \u001b[32m(A : 𝒰 ) ↦ (B : 𝒰 ) ↦ (a : A) ↦ (@a : (A → A)) ↦ @a\u001b[39m,\n",
       "      \u001b[32m0.04793377410149417\u001b[39m\n",
       "    ),\n",
       "    \u001b[33mWeighted\u001b[39m(\n",
       "..."
      ]
     },
     "execution_count": 19,
     "metadata": {},
     "output_type": "execute_result"
    }
   ],
   "source": [
    "val termsT = ev.finalTerms"
   ]
  },
  {
   "cell_type": "code",
   "execution_count": 20,
   "metadata": {},
   "outputs": [
    {
     "data": {
      "text/plain": [
       "\u001b[36mevN\u001b[39m: \u001b[32mExpressionEval\u001b[39m = provingground.learning.ExpressionEval$$anon$2@53d5e88c"
      ]
     },
     "execution_count": 20,
     "metadata": {},
     "output_type": "execute_result"
    }
   ],
   "source": [
    "val evN = ExpressionEval.fromInitEqs(ts0, Equation.group(normEqs), TermGenParams(), decayS = 0.95)"
   ]
  },
  {
   "cell_type": "code",
   "execution_count": 21,
   "metadata": {},
   "outputs": [
    {
     "data": {
      "text/plain": [
       "\u001b[36mtermsN\u001b[39m: \u001b[32mFiniteDistribution\u001b[39m[\u001b[32mTerm\u001b[39m] = \u001b[33mFiniteDistribution\u001b[39m(\n",
       "  \u001b[33mVector\u001b[39m(\n",
       "    \u001b[33mWeighted\u001b[39m(\n",
       "      \u001b[32m(A : 𝒰 ) ↦ (B : 𝒰 ) ↦ (a : A) ↦ ((```@a_1 , @a_2) : B×A) ↦ (```@a_1 , @a_2)\u001b[39m,\n",
       "      \u001b[32m0.021400851824832142\u001b[39m\n",
       "    ),\n",
       "    \u001b[33mWeighted\u001b[39m(\n",
       "      \u001b[32m(A : 𝒰 ) ↦ (B : 𝒰 ) ↦ (a : A) ↦ ((``@a_1 , @a_2) : B×B) ↦ (``@a_1 , @a_2)\u001b[39m,\n",
       "      \u001b[32m0.02140371915246402\u001b[39m\n",
       "    ),\n",
       "    \u001b[33mWeighted\u001b[39m(\n",
       "      \u001b[32m(A : 𝒰 ) ↦ (B : 𝒰 ) ↦ (a : A) ↦ ((``@a_1 , @a_2) : A×A) ↦ (``@a_1 , @a_2)\u001b[39m,\n",
       "      \u001b[32m0.021400839225495592\u001b[39m\n",
       "    ),\n",
       "    \u001b[33mWeighted\u001b[39m(\n",
       "      \u001b[32m(A : 𝒰 ) ↦ (B : 𝒰 ) ↦ (a : A) ↦ ((```@a_1 , @a_2) : A×B) ↦ (```@a_1 , @a_2)\u001b[39m,\n",
       "      \u001b[32m0.021403700759429465\u001b[39m\n",
       "    ),\n",
       "    \u001b[33mWeighted\u001b[39m(\n",
       "      \u001b[32m(A : 𝒰 ) ↦ (B : 𝒰 ) ↦ (a : A) ↦ (@a : (A → A)) ↦ @a\u001b[39m,\n",
       "      \u001b[32m0.042814840303911104\u001b[39m\n",
       "    ),\n",
       "    \u001b[33mWeighted\u001b[39m(\n",
       "      \u001b[32m(A : 𝒰 ) ↦ (B : 𝒰 ) ↦ (a : A) ↦ (@a : (A → B)) ↦ @a\u001b[39m,\n",
       "      \u001b[32m0.04282634834944096\u001b[39m\n",
       "    ),\n",
       "    \u001b[33mWeighted\u001b[39m(\n",
       "      \u001b[32m(A : 𝒰 ) ↦ (B : 𝒰 ) ↦ (a : A) ↦ (@a : (B → B)) ↦ @a\u001b[39m,\n",
       "      \u001b[32m0.04282649716482151\u001b[39m\n",
       "    ),\n",
       "    \u001b[33mWeighted\u001b[39m(\n",
       "      \u001b[32m(A : 𝒰 ) ↦ (B : 𝒰 ) ↦ (a : A) ↦ (@a : (B → A)) ↦ @a\u001b[39m,\n",
       "      \u001b[32m0.04281494217902027\u001b[39m\n",
       "    ),\n",
       "    \u001b[33mWeighted\u001b[39m(\n",
       "..."
      ]
     },
     "execution_count": 21,
     "metadata": {},
     "output_type": "execute_result"
    }
   ],
   "source": [
    "val termsN = evN.finalTerms"
   ]
  },
  {
   "cell_type": "code",
   "execution_count": 22,
   "metadata": {},
   "outputs": [
    {
     "data": {
      "text/plain": [
       "\u001b[36mres21\u001b[39m: \u001b[32mBoolean\u001b[39m = true"
      ]
     },
     "execution_count": 22,
     "metadata": {},
     "output_type": "execute_result"
    }
   ],
   "source": [
    "termsT.support == termsN.support"
   ]
  },
  {
   "cell_type": "code",
   "execution_count": 23,
   "metadata": {},
   "outputs": [
    {
     "data": {
      "text/plain": [
       "\u001b[36mres22\u001b[39m: \u001b[32mDouble\u001b[39m = \u001b[32m3.931792873252659\u001b[39m"
      ]
     },
     "execution_count": 23,
     "metadata": {},
     "output_type": "execute_result"
    }
   ],
   "source": [
    "ExpressionEval.mapRatio(termsT.toMap, termsN.toMap)"
   ]
  },
  {
   "cell_type": "code",
   "execution_count": 24,
   "metadata": {},
   "outputs": [
    {
     "data": {
      "text/plain": [
       "\u001b[36mbigT\u001b[39m: \u001b[32mTerm\u001b[39m = \u001b[32m(A : 𝒰 ) ↦ (B : 𝒰 ) ↦ (a : A) ↦ (@a : B) ↦ a\u001b[39m"
      ]
     },
     "execution_count": 24,
     "metadata": {},
     "output_type": "execute_result"
    }
   ],
   "source": [
    "val bigT = termsT.support.maxBy(t => termsT(t) / termsN(t))"
   ]
  },
  {
   "cell_type": "code",
   "execution_count": 25,
   "metadata": {},
   "outputs": [
    {
     "data": {
      "text/plain": [
       "\u001b[36mres24_0\u001b[39m: \u001b[32mDouble\u001b[39m = \u001b[32m0.03557308639905361\u001b[39m\n",
       "\u001b[36mres24_1\u001b[39m: \u001b[32mDouble\u001b[39m = \u001b[32m0.031137651884931093\u001b[39m"
      ]
     },
     "execution_count": 25,
     "metadata": {},
     "output_type": "execute_result"
    }
   ],
   "source": [
    "termsT(bigT)\n",
    "termsN(bigT)"
   ]
  },
  {
   "cell_type": "code",
   "execution_count": 26,
   "metadata": {},
   "outputs": [
    {
     "data": {
      "text/plain": [
       "\u001b[36mbigN\u001b[39m: \u001b[32mTerm\u001b[39m = \u001b[32m(A : 𝒰 ) ↦ (B : 𝒰 ) ↦ (a : A) ↦ (@a : A) ↦ (@b : A) ↦ a\u001b[39m"
      ]
     },
     "execution_count": 26,
     "metadata": {},
     "output_type": "execute_result"
    }
   ],
   "source": [
    "val bigN = termsT.support.maxBy(t => termsN(t) / termsT(t))"
   ]
  },
  {
   "cell_type": "code",
   "execution_count": 27,
   "metadata": {},
   "outputs": [
    {
     "data": {
      "text/plain": [
       "\u001b[36mres26_0\u001b[39m: \u001b[32mDouble\u001b[39m = \u001b[32m0.002398174997951145\u001b[39m\n",
       "\u001b[36mres26_1\u001b[39m: \u001b[32mDouble\u001b[39m = \u001b[32m0.009429127365757023\u001b[39m"
      ]
     },
     "execution_count": 27,
     "metadata": {},
     "output_type": "execute_result"
    }
   ],
   "source": [
    "termsT(bigN)\n",
    "termsN(bigN)"
   ]
  },
  {
   "cell_type": "markdown",
   "metadata": {},
   "source": [
    "## Bug fixes\n",
    "\n",
    "* the crash has stopped\n",
    "* names are now used correctly."
   ]
  },
  {
   "cell_type": "code",
   "execution_count": 28,
   "metadata": {},
   "outputs": [
    {
     "data": {
      "text/plain": [
       "\u001b[36mns\u001b[39m: \u001b[32mTermState\u001b[39m = \u001b[33mTermState\u001b[39m(\n",
       "  \u001b[33mFiniteDistribution\u001b[39m(\n",
       "    \u001b[33mVector\u001b[39m(\n",
       "      \u001b[33mWeighted\u001b[39m(\u001b[32m((@a_1 , @a_2) : A×B) ↦ a\u001b[39m, \u001b[32m8.671859432529369E-4\u001b[39m),\n",
       "      \u001b[33mWeighted\u001b[39m(\u001b[32m(@a : B) ↦ (@b : B) ↦ @b\u001b[39m, \u001b[32m6.25946582994212E-4\u001b[39m),\n",
       "      \u001b[33mWeighted\u001b[39m(\u001b[32m(@a : B) ↦ (@b : B) ↦ @a\u001b[39m, \u001b[32m4.3816260809594835E-4\u001b[39m),\n",
       "      \u001b[33mWeighted\u001b[39m(\u001b[32m((`@a_1 , @a_2) : B×A) ↦ (`@a_1 , @a_2)\u001b[39m, \u001b[32m3.71651118536973E-4\u001b[39m),\n",
       "      \u001b[33mWeighted\u001b[39m(\u001b[32m((`@a_1 , @a_2) : A×A) ↦ (`@a_1 , @a_2)\u001b[39m, \u001b[32m3.71651118536973E-4\u001b[39m),\n",
       "      \u001b[33mWeighted\u001b[39m(\u001b[32m(@a : B) ↦ a\u001b[39m, \u001b[32m0.0384282501336959\u001b[39m),\n",
       "      \u001b[33mWeighted\u001b[39m(\u001b[32m((@a_1 , @a_2) : A×A) ↦ a\u001b[39m, \u001b[32m8.671859432529369E-4\u001b[39m),\n",
       "      \u001b[33mWeighted\u001b[39m(\u001b[32m(@a : (A → A)) ↦ @a\u001b[39m, \u001b[32m5.870181769712191E-4\u001b[39m),\n",
       "      \u001b[33mWeighted\u001b[39m(\u001b[32m(@a : (B → A)) ↦ @a\u001b[39m, \u001b[32m6.937487546023499E-4\u001b[39m),\n",
       "      \u001b[33mWeighted\u001b[39m(\u001b[32m(@a : (B → B)) ↦ a\u001b[39m, \u001b[32m0.0016187470940721494\u001b[39m),\n",
       "      \u001b[33mWeighted\u001b[39m(\u001b[32m(@a : (A → B)) ↦ a\u001b[39m, \u001b[32m0.0013697090795995112\u001b[39m),\n",
       "      \u001b[33mWeighted\u001b[39m(\u001b[32m(@b : A) ↦ @b\u001b[39m, \u001b[32m0.012675323748495152\u001b[39m),\n",
       "      \u001b[33mWeighted\u001b[39m(\u001b[32m(@a : A) ↦ (@b : A) ↦ @b\u001b[39m, \u001b[32m6.588580589777157E-4\u001b[39m),\n",
       "      \u001b[33mWeighted\u001b[39m(\u001b[32m(@a : A) ↦ (@b : A) ↦ @a\u001b[39m, \u001b[32m4.612006412844011E-4\u001b[39m),\n",
       "      \u001b[33mWeighted\u001b[39m(\u001b[32m((`@a_1 , @a_2) : B×B) ↦ (`@a_1 , @a_2)\u001b[39m, \u001b[32m3.71651118536973E-4\u001b[39m),\n",
       "      \u001b[33mWeighted\u001b[39m(\u001b[32m(@a : A) ↦ (@b : A) ↦ a\u001b[39m, \u001b[32m0.0010761348296636024\u001b[39m),\n",
       "      \u001b[33mWeighted\u001b[39m(\u001b[32m(@a : (A → A)) ↦ @a(a)\u001b[39m, \u001b[32m3.557685921037692E-4\u001b[39m),\n",
       "      \u001b[33mWeighted\u001b[39m(\u001b[32m(@a : A) ↦ (@a : B) ↦ @a\u001b[39m, \u001b[32m6.588580589777157E-4\u001b[39m),\n",
       "      \u001b[33mWeighted\u001b[39m(\u001b[32m(@a : B) ↦ (@a : A) ↦ @a\u001b[39m, \u001b[32m4.3816260809594835E-4\u001b[39m),\n",
       "      \u001b[33mWeighted\u001b[39m(\u001b[32ma\u001b[39m, \u001b[32m0.8741931716134901\u001b[39m),\n",
       "      \u001b[33mWeighted\u001b[39m(\u001b[32m(@a : B) ↦ (@b : B) ↦ a\u001b[39m, \u001b[32m0.001022379418890546\u001b[39m),\n",
       "      \u001b[33mWeighted\u001b[39m(\u001b[32m(@a : (A → A)) ↦ a\u001b[39m, \u001b[32m0.0013697090795995112\u001b[39m),\n",
       "      \u001b[33mWeighted\u001b[39m(\u001b[32m(@a : (B → A)) ↦ a\u001b[39m, \u001b[32m0.0016187470940721494\u001b[39m),\n",
       "      \u001b[33mWeighted\u001b[39m(\u001b[32m(@a : (B → B)) ↦ @a\u001b[39m, \u001b[32m6.937487546023499E-4\u001b[39m),\n",
       "      \u001b[33mWeighted\u001b[39m(\u001b[32m(@a : (A → B)) ↦ @a\u001b[39m, \u001b[32m5.870181769712191E-4\u001b[39m),\n",
       "      \u001b[33mWeighted\u001b[39m(\u001b[32m(@a : A) ↦ (@a : B) ↦ a\u001b[39m, \u001b[32m0.0010761348296636024\u001b[39m),\n",
       "      \u001b[33mWeighted\u001b[39m(\u001b[32m(@a : B) ↦ (@a : A) ↦ a\u001b[39m, \u001b[32m0.001022379418890546\u001b[39m),\n",
       "      \u001b[33mWeighted\u001b[39m(\u001b[32m((`@a_1 , @a_2) : A×B) ↦ (`@a_1 , @a_2)\u001b[39m, \u001b[32m3.71651118536973E-4\u001b[39m),\n",
       "      \u001b[33mWeighted\u001b[39m(\u001b[32m(@b : A) ↦ a\u001b[39m, \u001b[32m0.03855347011506094\u001b[39m),\n",
       "      \u001b[33mWeighted\u001b[39m(\u001b[32m(@a : B) ↦ @a\u001b[39m, \u001b[32m0.013379088467587383\u001b[39m),\n",
       "      \u001b[33mWeighted\u001b[39m(\u001b[32m(@a : A) ↦ (@a : B) ↦ @a\u001b[39m, \u001b[32m4.612006412844011E-4\u001b[39m),\n",
       "      \u001b[33mWeighted\u001b[39m(\u001b[32m(@a : B) ↦ (@a : A) ↦ @a\u001b[39m, \u001b[32m6.25946582994212E-4\u001b[39m),\n",
       "      \u001b[33mWeighted\u001b[39m(\u001b[32m((@a_1 , @a_2) : B×A) ↦ a\u001b[39m, \u001b[32m8.671859432529369E-4\u001b[39m),\n",
       "      \u001b[33mWeighted\u001b[39m(\u001b[32m((@a_1 , @a_2) : B×B) ↦ a\u001b[39m, \u001b[32m8.671859432529369E-4\u001b[39m),\n",
       "      \u001b[33mWeighted\u001b[39m(\u001b[32m(@a : (A → B)) ↦ @a(a)\u001b[39m, \u001b[32m3.557685921037692E-4\u001b[39m)\n",
       "    )\n",
       "..."
      ]
     },
     "execution_count": 28,
     "metadata": {},
     "output_type": "execute_result"
    }
   ],
   "source": [
    "val ns = lp.nextState.runSyncUnsafe()"
   ]
  },
  {
   "cell_type": "code",
   "execution_count": 29,
   "metadata": {},
   "outputs": [
    {
     "data": {
      "text/plain": [
       "\u001b[36mx\u001b[39m: \u001b[32mTerm\u001b[39m = \u001b[32m@a\u001b[39m"
      ]
     },
     "execution_count": 29,
     "metadata": {},
     "output_type": "execute_result"
    }
   ],
   "source": [
    "val x = nextVar(A, Vector())"
   ]
  },
  {
   "cell_type": "code",
   "execution_count": 30,
   "metadata": {},
   "outputs": [
    {
     "data": {
      "text/plain": [
       "\u001b[36mctx\u001b[39m: \u001b[32mContext\u001b[39m.\u001b[32mAppendVariable\u001b[39m[\u001b[32mTerm\u001b[39m] = \u001b[33mAppendVariable\u001b[39m(Empty, \u001b[32m@a\u001b[39m)\n",
       "\u001b[36my\u001b[39m: \u001b[32mTerm\u001b[39m = \u001b[32m@b\u001b[39m"
      ]
     },
     "execution_count": 30,
     "metadata": {},
     "output_type": "execute_result"
    }
   ],
   "source": [
    "val ctx = Context.Empty.addVariable(x)\n",
    "val y = nextVar(A, ctx.variables)"
   ]
  },
  {
   "cell_type": "markdown",
   "metadata": {},
   "source": [
    "Even with contexts, variable names are correct. We now investigate type generation."
   ]
  },
  {
   "cell_type": "code",
   "execution_count": 31,
   "metadata": {},
   "outputs": [
    {
     "data": {
      "text/plain": [
       "\u001b[36mres30\u001b[39m: \u001b[32mFiniteDistribution\u001b[39m[\u001b[32mTyp\u001b[39m[\u001b[32mTerm\u001b[39m]] = \u001b[33mFiniteDistribution\u001b[39m(\n",
       "  \u001b[33mVector\u001b[39m(\n",
       "    \u001b[33mWeighted\u001b[39m(\u001b[32mA\u001b[39m, \u001b[32m0.4236958282176533\u001b[39m),\n",
       "    \u001b[33mWeighted\u001b[39m(\u001b[32mB×A\u001b[39m, \u001b[32m0.008376687159819445\u001b[39m),\n",
       "    \u001b[33mWeighted\u001b[39m(\u001b[32mA×A\u001b[39m, \u001b[32m0.008376687159819445\u001b[39m),\n",
       "    \u001b[33mWeighted\u001b[39m(\u001b[32mB×B×B\u001b[39m, \u001b[32m4.3628578957392953E-4\u001b[39m),\n",
       "    \u001b[33mWeighted\u001b[39m(\u001b[32mB×(B → A)\u001b[39m, \u001b[32m6.980572633182873E-4\u001b[39m),\n",
       "    \u001b[33mWeighted\u001b[39m(\u001b[32mB×(A → A)\u001b[39m, \u001b[32m6.980572633182873E-4\u001b[39m),\n",
       "    \u001b[33mWeighted\u001b[39m(\u001b[32m(B → A)×B\u001b[39m, \u001b[32m7.479184964124504E-4\u001b[39m),\n",
       "    \u001b[33mWeighted\u001b[39m(\u001b[32m(A → A)×B\u001b[39m, \u001b[32m7.479184964124504E-4\u001b[39m),\n",
       "    \u001b[33mWeighted\u001b[39m(\u001b[32mB×A×B\u001b[39m, \u001b[32m3.4902863165914364E-4\u001b[39m),\n",
       "    \u001b[33mWeighted\u001b[39m(\u001b[32m(B → B×A)\u001b[39m, \u001b[32m7.456359374203474E-4\u001b[39m),\n",
       "    \u001b[33mWeighted\u001b[39m(\u001b[32m(A → B×A)\u001b[39m, \u001b[32m7.456359374203474E-4\u001b[39m),\n",
       "    \u001b[33mWeighted\u001b[39m(\u001b[32mA×A×A\u001b[39m, \u001b[32m3.4902863165914364E-4\u001b[39m),\n",
       "    \u001b[33mWeighted\u001b[39m(\u001b[32mB×(B → B)\u001b[39m, \u001b[32m6.980572633182873E-4\u001b[39m),\n",
       "    \u001b[33mWeighted\u001b[39m(\u001b[32mB×(A → B)\u001b[39m, \u001b[32m6.980572633182873E-4\u001b[39m),\n",
       "    \u001b[33mWeighted\u001b[39m(\u001b[32m(B → B)×A\u001b[39m, \u001b[32m7.479184964124504E-4\u001b[39m),\n",
       "    \u001b[33mWeighted\u001b[39m(\u001b[32m(A → B)×A\u001b[39m, \u001b[32m7.479184964124504E-4\u001b[39m),\n",
       "    \u001b[33mWeighted\u001b[39m(\u001b[32mB×A×B\u001b[39m, \u001b[32m4.3628578957392953E-4\u001b[39m),\n",
       "    \u001b[33mWeighted\u001b[39m(\u001b[32m(B → B)×B\u001b[39m, \u001b[32m7.479184964124504E-4\u001b[39m),\n",
       "    \u001b[33mWeighted\u001b[39m(\u001b[32m(A → B)×B\u001b[39m, \u001b[32m7.479184964124504E-4\u001b[39m),\n",
       "    \u001b[33mWeighted\u001b[39m(\u001b[32mA×B\u001b[39m, \u001b[32m0.008376687159819445\u001b[39m),\n",
       "    \u001b[33mWeighted\u001b[39m(\u001b[32mB×B×A\u001b[39m, \u001b[32m3.4902863165914364E-4\u001b[39m),\n",
       "    \u001b[33mWeighted\u001b[39m(\u001b[32mA×A×A\u001b[39m, \u001b[32m4.3628578957392953E-4\u001b[39m),\n",
       "    \u001b[33mWeighted\u001b[39m(\u001b[32m(B → B×B)\u001b[39m, \u001b[32m7.456359374203474E-4\u001b[39m),\n",
       "    \u001b[33mWeighted\u001b[39m(\u001b[32m(A → B×B)\u001b[39m, \u001b[32m7.456359374203474E-4\u001b[39m),\n",
       "    \u001b[33mWeighted\u001b[39m(\u001b[32mB\u001b[39m, \u001b[32m0.4236958282176533\u001b[39m),\n",
       "    \u001b[33mWeighted\u001b[39m(\u001b[32m(B → A×B)\u001b[39m, \u001b[32m7.456359374203474E-4\u001b[39m),\n",
       "    \u001b[33mWeighted\u001b[39m(\u001b[32m(A → A×B)\u001b[39m, \u001b[32m7.456359374203474E-4\u001b[39m),\n",
       "    \u001b[33mWeighted\u001b[39m(\u001b[32mA×B×B\u001b[39m, \u001b[32m4.3628578957392953E-4\u001b[39m),\n",
       "    \u001b[33mWeighted\u001b[39m(\u001b[32m(B → (B → A))\u001b[39m, \u001b[32m0.001278233035577738\u001b[39m),\n",
       "    \u001b[33mWeighted\u001b[39m(\u001b[32m(B → (A → A))\u001b[39m, \u001b[32m0.001278233035577738\u001b[39m),\n",
       "    \u001b[33mWeighted\u001b[39m(\u001b[32m(A → (A → A))\u001b[39m, \u001b[32m0.001278233035577738\u001b[39m),\n",
       "    \u001b[33mWeighted\u001b[39m(\u001b[32m(A → (B → A))\u001b[39m, \u001b[32m0.001278233035577738\u001b[39m),\n",
       "    \u001b[33mWeighted\u001b[39m(\u001b[32m(B → B)\u001b[39m, \u001b[32m0.017895262498088333\u001b[39m),\n",
       "    \u001b[33mWeighted\u001b[39m(\u001b[32m(A×B → B)\u001b[39m, \u001b[32m5.877589404665492E-4\u001b[39m),\n",
       "    \u001b[33mWeighted\u001b[39m(\u001b[32m(A×A → B)\u001b[39m, \u001b[32m5.877589404665492E-4\u001b[39m),\n",
       "    \u001b[33mWeighted\u001b[39m(\u001b[32m(A → B)\u001b[39m, \u001b[32m0.017895262498088333\u001b[39m),\n",
       "    \u001b[33mWeighted\u001b[39m(\u001b[32m(B×A → B)\u001b[39m, \u001b[32m5.877589404665492E-4\u001b[39m),\n",
       "..."
      ]
     },
     "execution_count": 31,
     "metadata": {},
     "output_type": "execute_result"
    }
   ],
   "source": [
    "ns.typs"
   ]
  },
  {
   "cell_type": "code",
   "execution_count": 32,
   "metadata": {},
   "outputs": [
    {
     "data": {
      "text/plain": [
       "\u001b[36meq0\u001b[39m: \u001b[32mSet\u001b[39m[\u001b[32mEquation\u001b[39m] = \u001b[33mSet\u001b[39m(\n",
       "  \u001b[33mEquation\u001b[39m(\n",
       "    \u001b[33mInitialVal\u001b[39m(\n",
       "      \u001b[33mInIsle\u001b[39m(\n",
       "        \u001b[33mElem\u001b[39m(\u001b[32mA\u001b[39m, Typs),\n",
       "        \u001b[32m@a\u001b[39m,\n",
       "        \u001b[33mIsland\u001b[39m(Typs, \u001b[33mConstRandVar\u001b[39m(Typs), \u001b[33mAddVar\u001b[39m(\u001b[32m(B → A)\u001b[39m), Sigma, EnterIsle)\n",
       "      )\n",
       "    ),\n",
       "    \u001b[33mProduct\u001b[39m(\u001b[33mIsleScale\u001b[39m(\u001b[32m@a\u001b[39m, \u001b[33mElem\u001b[39m(\u001b[32mA\u001b[39m, Typs)), \u001b[33mInitialVal\u001b[39m(\u001b[33mElem\u001b[39m(\u001b[32mA\u001b[39m, Typs)))\n",
       "  ),\n",
       "  \u001b[33mEquation\u001b[39m(\n",
       "    \u001b[33mInitialVal\u001b[39m(\n",
       "      \u001b[33mInIsle\u001b[39m(\n",
       "        \u001b[33mElem\u001b[39m(\u001b[32mA\u001b[39m, Typs),\n",
       "        \u001b[32m@a\u001b[39m,\n",
       "        \u001b[33mIsland\u001b[39m(Typs, \u001b[33mConstRandVar\u001b[39m(Typs), \u001b[33mAddVar\u001b[39m(\u001b[32m(A → A)\u001b[39m), Sigma, EnterIsle)\n",
       "      )\n",
       "    ),\n",
       "    \u001b[33mProduct\u001b[39m(\u001b[33mIsleScale\u001b[39m(\u001b[32m@a\u001b[39m, \u001b[33mElem\u001b[39m(\u001b[32mA\u001b[39m, Typs)), \u001b[33mInitialVal\u001b[39m(\u001b[33mElem\u001b[39m(\u001b[32mA\u001b[39m, Typs)))\n",
       "  ),\n",
       "  \u001b[33mEquation\u001b[39m(\n",
       "    \u001b[33mFinalVal\u001b[39m(\n",
       "      \u001b[33mInIsle\u001b[39m(\n",
       "        \u001b[33mElem\u001b[39m(\u001b[32m(@a : B) ↦ a\u001b[39m, Terms),\n",
       "        \u001b[32m@a\u001b[39m,\n",
       "        \u001b[33mIsland\u001b[39m(Terms, \u001b[33mConstRandVar\u001b[39m(Terms), \u001b[33mAddVar\u001b[39m(\u001b[32mA\u001b[39m), Lambda, EnterIsle)\n",
       "      )\n",
       "    ),\n",
       "    \u001b[33mSum\u001b[39m(\n",
       "      \u001b[33mSum\u001b[39m(\n",
       "        \u001b[33mSum\u001b[39m(\n",
       "          \u001b[33mProduct\u001b[39m(\n",
       "            \u001b[33mProduct\u001b[39m(\n",
       "              \u001b[33mCoeff\u001b[39m(\n",
       "                \u001b[33mBaseThenCondition\u001b[39m(\n",
       "                  \u001b[33mFlatMap\u001b[39m(Typs, LambdaIsle, Terms),\n",
       "                  Funcs,\n",
       "                  \u001b[33mRestrict\u001b[39m(FuncOpt)\n",
       "..."
      ]
     },
     "execution_count": 32,
     "metadata": {},
     "output_type": "execute_result"
    }
   ],
   "source": [
    "val eq0 = lp.equations.runSyncUnsafe()"
   ]
  },
  {
   "cell_type": "code",
   "execution_count": 33,
   "metadata": {},
   "outputs": [
    {
     "data": {
      "text/plain": [
       "\u001b[32mimport \u001b[39m\u001b[36mExpression._\n",
       "\u001b[39m\n",
       "\u001b[36mvarsEq0\u001b[39m: \u001b[32mSet\u001b[39m[\u001b[32mVariable\u001b[39m[\u001b[32mAny\u001b[39m]] = \u001b[33mSet\u001b[39m(\n",
       "  \u001b[33mInIsle\u001b[39m(\n",
       "    \u001b[33mElem\u001b[39m(\u001b[32m(@b : B) ↦ @a\u001b[39m, Terms),\n",
       "    \u001b[32m@a\u001b[39m,\n",
       "    \u001b[33mIsland\u001b[39m(Terms, \u001b[33mConstRandVar\u001b[39m(Terms), \u001b[33mAddVar\u001b[39m(\u001b[32mB\u001b[39m), Lambda, EnterIsle)\n",
       "  ),\n",
       "  \u001b[33mInIsle\u001b[39m(\n",
       "    \u001b[33mElem\u001b[39m(\u001b[32m(B → B)\u001b[39m, Typs),\n",
       "    \u001b[32m@a\u001b[39m,\n",
       "    \u001b[33mIsland\u001b[39m(Typs, \u001b[33mConstRandVar\u001b[39m(Typs), \u001b[33mAddVar\u001b[39m(\u001b[32mA\u001b[39m), Pi, EnterIsle)\n",
       "  ),\n",
       "  \u001b[33mInIsle\u001b[39m(\n",
       "    \u001b[33mElem\u001b[39m(\u001b[32m(A → B)\u001b[39m, Typs),\n",
       "    \u001b[32m@a\u001b[39m,\n",
       "    \u001b[33mIsland\u001b[39m(Typs, \u001b[33mConstRandVar\u001b[39m(Typs), \u001b[33mAddVar\u001b[39m(\u001b[32mA\u001b[39m), Pi, EnterIsle)\n",
       "  ),\n",
       "  \u001b[33mInIsle\u001b[39m(\n",
       "    \u001b[33mInIsle\u001b[39m(\n",
       "      \u001b[33mElem\u001b[39m(\u001b[32m@a\u001b[39m, Terms),\n",
       "      \u001b[32m@a\u001b[39m,\n",
       "      \u001b[33mIsland\u001b[39m(\n",
       "        \u001b[33mAtCoord\u001b[39m(FuncsWithDomain, \u001b[32mA\u001b[39m :: HNil),\n",
       "        \u001b[33mConstRandVar\u001b[39m(Terms),\n",
       "        \u001b[33mAddVar\u001b[39m(\u001b[32mA\u001b[39m),\n",
       "        Lambda,\n",
       "        EnterIsle\n",
       "      )\n",
       "    ),\n",
       "    \u001b[32m@a\u001b[39m,\n",
       "    \u001b[33mIsland\u001b[39m(Terms, \u001b[33mConstRandVar\u001b[39m(Terms), \u001b[33mAddVar\u001b[39m(\u001b[32mB\u001b[39m), Lambda, EnterIsle)\n",
       "  ),\n",
       "  \u001b[33mElem\u001b[39m(\u001b[32mB×A\u001b[39m, TargetTyps),\n",
       "  \u001b[33mInIsle\u001b[39m(\n",
       "    \u001b[33mElem\u001b[39m(\u001b[32mB\u001b[39m, Typs),\n",
       "    \u001b[32m@a\u001b[39m,\n",
       "    \u001b[33mIsland\u001b[39m(Typs, \u001b[33mConstRandVar\u001b[39m(Typs), \u001b[33mAddVar\u001b[39m(\u001b[32m(A → A)\u001b[39m), Sigma, EnterIsle)\n",
       "  ),\n",
       "  \u001b[33mInIsle\u001b[39m(\n",
       "    \u001b[33mElem\u001b[39m(\u001b[32mB\u001b[39m, Typs),\n",
       "..."
      ]
     },
     "execution_count": 33,
     "metadata": {},
     "output_type": "execute_result"
    }
   ],
   "source": [
    "import Expression._\n",
    "val varsEq0 = eq0.map(_.lhs).flatMap(varVals).map(_.variable)"
   ]
  },
  {
   "cell_type": "code",
   "execution_count": 34,
   "metadata": {},
   "outputs": [
    {
     "data": {
      "text/plain": [
       "\u001b[36melemsEq0\u001b[39m: \u001b[32mSet\u001b[39m[\u001b[32mElem\u001b[39m[\u001b[32mAny\u001b[39m]] = \u001b[33mSet\u001b[39m(\n",
       "  \u001b[33mElem\u001b[39m(\u001b[32mB×A\u001b[39m, TargetTyps),\n",
       "  \u001b[33mElem\u001b[39m(\u001b[32m(A → B×B)\u001b[39m, Typs),\n",
       "  \u001b[33mElem\u001b[39m(\u001b[32m(B → B×B)\u001b[39m, Typs),\n",
       "  \u001b[33mElem\u001b[39m(\u001b[32mB×A×A\u001b[39m, Typs),\n",
       "  \u001b[33mElem\u001b[39m(\u001b[32mA×A\u001b[39m, Typs),\n",
       "  \u001b[33mElem\u001b[39m(\u001b[32m(A → B×A)\u001b[39m, Typs),\n",
       "  \u001b[33mElem\u001b[39m(\u001b[32m(B → B×A)\u001b[39m, Typs),\n",
       "  \u001b[33mElem\u001b[39m(\u001b[32m(@a : B) ↦ @a\u001b[39m, Terms),\n",
       "  \u001b[33mElem\u001b[39m(\u001b[32m(B → B)×B\u001b[39m, Typs),\n",
       "  \u001b[33mElem\u001b[39m(\u001b[32m(A → B)×B\u001b[39m, Typs),\n",
       "  \u001b[33mElem\u001b[39m(\u001b[32m(@a : B) ↦ @a\u001b[39m, \u001b[33mAtCoord\u001b[39m(TermsWithTyp, \u001b[32m(B → B)\u001b[39m :: HNil)),\n",
       "  \u001b[33mElem\u001b[39m(\u001b[32m((`@a_1 , @a_2) : A×A) ↦ (`@a_1 , @a_2)\u001b[39m, Terms),\n",
       "  \u001b[33mElem\u001b[39m(\u001b[32mA×B×A\u001b[39m, Typs),\n",
       "  \u001b[33mElem\u001b[39m(\u001b[32mA×A×B\u001b[39m, Typs),\n",
       "  \u001b[33mElem\u001b[39m(\u001b[32mB\u001b[39m, Terms),\n",
       "  \u001b[33mElem\u001b[39m(\u001b[33mWrap\u001b[39m(\u001b[32m(@a : B) ↦ B\u001b[39m), TypFamilies),\n",
       "  \u001b[33mElem\u001b[39m(\u001b[33mWrap\u001b[39m(\u001b[32m(@a : (B → A)) ↦ a\u001b[39m), \u001b[33mAtCoord\u001b[39m(FuncsWithDomain, \u001b[32m(B → A)\u001b[39m :: HNil)),\n",
       "  \u001b[33mElem\u001b[39m(\u001b[33mWrap\u001b[39m(\u001b[32m(@a : (A → A)) ↦ a\u001b[39m), \u001b[33mAtCoord\u001b[39m(FuncsWithDomain, \u001b[32m(A → A)\u001b[39m :: HNil)),\n",
       "  \u001b[33mElem\u001b[39m(\u001b[32mB×A×B\u001b[39m, Typs),\n",
       "  \u001b[33mElem\u001b[39m(\u001b[32m(@a : (B → A)) ↦ a\u001b[39m, Terms),\n",
       "  \u001b[33mElem\u001b[39m(\u001b[32m(@a : (A → A)) ↦ a\u001b[39m, Terms),\n",
       "  \u001b[33mElem\u001b[39m(\u001b[32m((`@a_1 , @a_2) : B×A) ↦ (`@a_1 , @a_2)\u001b[39m, Terms),\n",
       "  \u001b[33mElem\u001b[39m(\u001b[32m((@a_1 , @a_2) : B×A) ↦ a\u001b[39m, Terms),\n",
       "  \u001b[33mElem\u001b[39m(\u001b[32m(@a : A) ↦ (@b : A) ↦ a\u001b[39m, Terms),\n",
       "  \u001b[33mElem\u001b[39m(\u001b[32m((@a_1 , @a_2) : B×B) ↦ a\u001b[39m, Terms),\n",
       "  \u001b[33mElem\u001b[39m(\u001b[33mWrap\u001b[39m(\u001b[32m(@a : A) ↦ (@b : A) ↦ @b\u001b[39m), \u001b[33mAtCoord\u001b[39m(FuncsWithDomain, \u001b[32mA\u001b[39m :: HNil)),\n",
       "  \u001b[33mElem\u001b[39m(\u001b[32mA×(B → A)\u001b[39m, Typs),\n",
       "  \u001b[33mElem\u001b[39m(\u001b[32mA×(A → A)\u001b[39m, Typs),\n",
       "  \u001b[33mElem\u001b[39m(\u001b[32mB×A\u001b[39m, Typs),\n",
       "  \u001b[33mElem\u001b[39m(\u001b[32m(@a : A) ↦ a\u001b[39m, Terms),\n",
       "  \u001b[33mElem\u001b[39m(\u001b[33mWrap\u001b[39m(\u001b[32m(@a : A) ↦ B\u001b[39m), TypFamilies),\n",
       "  \u001b[33mElem\u001b[39m(\u001b[32m(@a : (A → B)) ↦ @a\u001b[39m, Terms),\n",
       "  \u001b[33mElem\u001b[39m(\u001b[32m(@a : (B → B)) ↦ @a\u001b[39m, Terms),\n",
       "  \u001b[33mElem\u001b[39m(\u001b[32mB×B\u001b[39m, TargetTyps),\n",
       "  \u001b[33mElem\u001b[39m(\u001b[32mA×(A → B)\u001b[39m, Typs),\n",
       "  \u001b[33mElem\u001b[39m(\u001b[32mA×(B → B)\u001b[39m, Typs),\n",
       "  \u001b[33mElem\u001b[39m(\u001b[33mWrap\u001b[39m(\u001b[32m(@a : A) ↦ a\u001b[39m), Funcs),\n",
       "  \u001b[33mElem\u001b[39m(\u001b[32ma\u001b[39m, Terms),\n",
       "..."
      ]
     },
     "execution_count": 34,
     "metadata": {},
     "output_type": "execute_result"
    }
   ],
   "source": [
    "val elemsEq0 = varsEq0.collect{case el  @ Elem(_, _) => el}"
   ]
  },
  {
   "cell_type": "markdown",
   "metadata": {},
   "source": [
    "clearly there are types here."
   ]
  },
  {
   "cell_type": "code",
   "execution_count": 35,
   "metadata": {},
   "outputs": [
    {
     "data": {
      "text/plain": [
       "\u001b[36mres34\u001b[39m: \u001b[32mFiniteDistribution\u001b[39m[\u001b[32mTyp\u001b[39m[\u001b[32mTerm\u001b[39m]] = \u001b[33mFiniteDistribution\u001b[39m(\u001b[33mVector\u001b[39m())"
      ]
     },
     "execution_count": 35,
     "metadata": {},
     "output_type": "execute_result"
    }
   ],
   "source": [
    "ev.finalTyps"
   ]
  },
  {
   "cell_type": "code",
   "execution_count": 36,
   "metadata": {},
   "outputs": [
    {
     "data": {
      "text/plain": [
       "\u001b[36mtypEqs0\u001b[39m: \u001b[32mSet\u001b[39m[\u001b[32mEquation\u001b[39m] = \u001b[33mSet\u001b[39m(\n",
       "  \u001b[33mEquation\u001b[39m(\n",
       "    \u001b[33mFinalVal\u001b[39m(\u001b[33mElem\u001b[39m(\u001b[32mA×B×A\u001b[39m, Typs)),\n",
       "    \u001b[33mSum\u001b[39m(\n",
       "      \u001b[33mProduct\u001b[39m(\n",
       "        \u001b[33mProduct\u001b[39m(\n",
       "          \u001b[33mCoeff\u001b[39m(\n",
       "            \u001b[33mFlatMap\u001b[39m(\n",
       "              Typs,\n",
       "              provingground.learning.TermGeneratorNodes$$Lambda$2460/1589832331@3ae6bebb,\n",
       "              Typs\n",
       "            )\n",
       "          ),\n",
       "          \u001b[33mFinalVal\u001b[39m(\u001b[33mElem\u001b[39m(\u001b[32mA\u001b[39m, Typs))\n",
       "        ),\n",
       "        \u001b[33mFinalVal\u001b[39m(\u001b[33mElem\u001b[39m(\u001b[32mA×B×A\u001b[39m, Typs))\n",
       "      ),\n",
       "      \u001b[33mProduct\u001b[39m(\n",
       "        \u001b[33mCoeff\u001b[39m(\n",
       "          \u001b[33mFlatMap\u001b[39m(\n",
       "            Typs,\n",
       "            provingground.learning.TermGeneratorNodes$$Lambda$2460/1589832331@3ae6bebb,\n",
       "            Typs\n",
       "          )\n",
       "        ),\n",
       "        \u001b[33mFinalVal\u001b[39m(\n",
       "          \u001b[33mInIsle\u001b[39m(\n",
       "            \u001b[33mElem\u001b[39m(\u001b[32mB×A\u001b[39m, Typs),\n",
       "            \u001b[32m@a\u001b[39m,\n",
       "            \u001b[33mIsland\u001b[39m(Typs, \u001b[33mConstRandVar\u001b[39m(Typs), \u001b[33mAddVar\u001b[39m(\u001b[32mA\u001b[39m), Sigma, EnterIsle)\n",
       "          )\n",
       "        )\n",
       "      )\n",
       "    )\n",
       "  ),\n",
       "  \u001b[33mEquation\u001b[39m(\n",
       "    \u001b[33mFinalVal\u001b[39m(\u001b[33mElem\u001b[39m(\u001b[32m(B → B)\u001b[39m, Typs)),\n",
       "..."
      ]
     },
     "execution_count": 36,
     "metadata": {},
     "output_type": "execute_result"
    }
   ],
   "source": [
    "val typEqs0 = eq0.collect{case eq @ Equation(FinalVal(Elem(_, Typs)), _) => eq}"
   ]
  },
  {
   "cell_type": "code",
   "execution_count": 37,
   "metadata": {},
   "outputs": [
    {
     "data": {
      "text/plain": [
       "\u001b[36mev0\u001b[39m: \u001b[32mExpressionEval\u001b[39m = provingground.learning.ExpressionEval$$anon$1@2769e4d7"
      ]
     },
     "execution_count": 37,
     "metadata": {},
     "output_type": "execute_result"
    }
   ],
   "source": [
    "val ev0 = lp.expressionEval.runSyncUnsafe() "
   ]
  },
  {
   "cell_type": "code",
   "execution_count": 38,
   "metadata": {},
   "outputs": [
    {
     "data": {
      "text/plain": [
       "\u001b[36mres37\u001b[39m: \u001b[32mSet\u001b[39m[\u001b[32mEquation\u001b[39m] = \u001b[33mSet\u001b[39m(\n",
       "  \u001b[33mEquation\u001b[39m(\n",
       "    \u001b[33mFinalVal\u001b[39m(\u001b[33mElem\u001b[39m(\u001b[32mA×B×A\u001b[39m, Typs)),\n",
       "    \u001b[33mSum\u001b[39m(\n",
       "      \u001b[33mProduct\u001b[39m(\n",
       "        \u001b[33mProduct\u001b[39m(\n",
       "          \u001b[33mCoeff\u001b[39m(\n",
       "            \u001b[33mFlatMap\u001b[39m(\n",
       "              Typs,\n",
       "              provingground.learning.TermGeneratorNodes$$Lambda$2460/1589832331@3ae6bebb,\n",
       "              Typs\n",
       "            )\n",
       "          ),\n",
       "          \u001b[33mFinalVal\u001b[39m(\u001b[33mElem\u001b[39m(\u001b[32mA\u001b[39m, Typs))\n",
       "        ),\n",
       "        \u001b[33mFinalVal\u001b[39m(\u001b[33mElem\u001b[39m(\u001b[32mA×B×A\u001b[39m, Typs))\n",
       "      ),\n",
       "      \u001b[33mProduct\u001b[39m(\n",
       "        \u001b[33mCoeff\u001b[39m(\n",
       "          \u001b[33mFlatMap\u001b[39m(\n",
       "            Typs,\n",
       "            provingground.learning.TermGeneratorNodes$$Lambda$2460/1589832331@3ae6bebb,\n",
       "            Typs\n",
       "          )\n",
       "        ),\n",
       "        \u001b[33mFinalVal\u001b[39m(\n",
       "          \u001b[33mInIsle\u001b[39m(\n",
       "            \u001b[33mElem\u001b[39m(\u001b[32mB×A\u001b[39m, Typs),\n",
       "            \u001b[32m@a\u001b[39m,\n",
       "            \u001b[33mIsland\u001b[39m(Typs, \u001b[33mConstRandVar\u001b[39m(Typs), \u001b[33mAddVar\u001b[39m(\u001b[32mA\u001b[39m), Sigma, EnterIsle)\n",
       "          )\n",
       "        )\n",
       "      )\n",
       "    )\n",
       "  ),\n",
       "  \u001b[33mEquation\u001b[39m(\n",
       "    \u001b[33mFinalVal\u001b[39m(\u001b[33mElem\u001b[39m(\u001b[32m(B → B)\u001b[39m, Typs)),\n",
       "..."
      ]
     },
     "execution_count": 38,
     "metadata": {},
     "output_type": "execute_result"
    }
   ],
   "source": [
    "ev0.equations.collect{case eq @ Equation(FinalVal(Elem(_, Typs)), _) => eq}"
   ]
  },
  {
   "cell_type": "code",
   "execution_count": 39,
   "metadata": {},
   "outputs": [
    {
     "data": {
      "text/plain": [
       "\u001b[36mres38\u001b[39m: \u001b[32mSet\u001b[39m[\u001b[32mEquation\u001b[39m] = \u001b[33mSet\u001b[39m(\n",
       "  \u001b[33mEquation\u001b[39m(\n",
       "    \u001b[33mFinalVal\u001b[39m(\u001b[33mElem\u001b[39m(\u001b[32m(A → B×B×B)\u001b[39m, Typs)),\n",
       "    \u001b[33mProduct\u001b[39m(\n",
       "      \u001b[33mCoeff\u001b[39m(\n",
       "        \u001b[33mFlatMap\u001b[39m(\n",
       "          Typs,\n",
       "          provingground.learning.TermGeneratorNodes$$Lambda$2459/1429135242@449263fc,\n",
       "          Typs\n",
       "        )\n",
       "      ),\n",
       "      \u001b[33mFinalVal\u001b[39m(\n",
       "        \u001b[33mInIsle\u001b[39m(\n",
       "          \u001b[33mElem\u001b[39m(\u001b[32mB×B×B\u001b[39m, Typs),\n",
       "          \u001b[32ma\u001b[39m,\n",
       "          \u001b[33mIsland\u001b[39m(\n",
       "            Typs,\n",
       "            \u001b[33mConstRandVar\u001b[39m(Typs),\n",
       "            provingground.learning.ExpressionEval$$Lambda$2810/475781992@4557fa2f,\n",
       "            Pi,\n",
       "            EnterIsle\n",
       "          )\n",
       "        )\n",
       "      )\n",
       "    )\n",
       "  ),\n",
       "  \u001b[33mEquation\u001b[39m(\n",
       "    \u001b[33mFinalVal\u001b[39m(\u001b[33mElem\u001b[39m(\u001b[32m(A → B×A×B)\u001b[39m, Typs)),\n",
       "    \u001b[33mProduct\u001b[39m(\n",
       "      \u001b[33mCoeff\u001b[39m(\n",
       "        \u001b[33mFlatMap\u001b[39m(\n",
       "          Typs,\n",
       "          provingground.learning.TermGeneratorNodes$$Lambda$2459/1429135242@449263fc,\n",
       "          Typs\n",
       "        )\n",
       "      ),\n",
       "..."
      ]
     },
     "execution_count": 39,
     "metadata": {},
     "output_type": "execute_result"
    }
   ],
   "source": [
    "ev0.piExportEquations(a).collect{case eq @ Equation(FinalVal(Elem(_, Typs)), _) => eq}"
   ]
  },
  {
   "cell_type": "code",
   "execution_count": 40,
   "metadata": {},
   "outputs": [
    {
     "data": {
      "text/plain": [
       "\u001b[36mres39\u001b[39m: \u001b[32mSet\u001b[39m[\u001b[32mEquation\u001b[39m] = \u001b[33mSet\u001b[39m(\n",
       "  \u001b[33mEquation\u001b[39m(\n",
       "    \u001b[33mFinalVal\u001b[39m(\u001b[33mElem\u001b[39m(\u001b[32m(A → B×A)\u001b[39m, Typs)),\n",
       "    \u001b[33mProduct\u001b[39m(\n",
       "      \u001b[33mCoeff\u001b[39m(\n",
       "        \u001b[33mFlatMap\u001b[39m(\n",
       "          Typs,\n",
       "          provingground.learning.TermGeneratorNodes$$Lambda$2459/1429135242@449263fc,\n",
       "          Typs\n",
       "        )\n",
       "      ),\n",
       "      \u001b[33mFinalVal\u001b[39m(\n",
       "        \u001b[33mInIsle\u001b[39m(\n",
       "          \u001b[33mElem\u001b[39m(\u001b[32mB×A\u001b[39m, Typs),\n",
       "          \u001b[32ma\u001b[39m,\n",
       "          \u001b[33mIsland\u001b[39m(\n",
       "            Typs,\n",
       "            \u001b[33mConstRandVar\u001b[39m(Typs),\n",
       "            provingground.learning.ExpressionEval$$Lambda$2810/475781992@31b80c0b,\n",
       "            Pi,\n",
       "            EnterIsle\n",
       "          )\n",
       "        )\n",
       "      )\n",
       "    )\n",
       "  ),\n",
       "  \u001b[33mEquation\u001b[39m(\n",
       "    \u001b[33mFinalVal\u001b[39m(\u001b[33mElem\u001b[39m(\u001b[32m(A → A×B×A)\u001b[39m, Typs)),\n",
       "    \u001b[33mProduct\u001b[39m(\n",
       "      \u001b[33mCoeff\u001b[39m(\n",
       "        \u001b[33mFlatMap\u001b[39m(\n",
       "          Typs,\n",
       "          provingground.learning.TermGeneratorNodes$$Lambda$2459/1429135242@449263fc,\n",
       "          Typs\n",
       "        )\n",
       "      ),\n",
       "..."
      ]
     },
     "execution_count": 40,
     "metadata": {},
     "output_type": "execute_result"
    }
   ],
   "source": [
    "ev0.relVariable(a).equations.collect{case eq @ Equation(FinalVal(Elem(_, Typs)), _) => eq}"
   ]
  },
  {
   "cell_type": "code",
   "execution_count": 41,
   "metadata": {},
   "outputs": [
    {
     "data": {
      "text/plain": [
       "\u001b[36mres40\u001b[39m: \u001b[32mSet\u001b[39m[\u001b[32mEquation\u001b[39m] = \u001b[33mSet\u001b[39m()"
      ]
     },
     "execution_count": 41,
     "metadata": {},
     "output_type": "execute_result"
    }
   ],
   "source": [
    "ExpressionEval.export(ev0, Vector(A, B, a)).equations.collect{case eq @ Equation(FinalVal(Elem(_, Typs)), _) => eq}"
   ]
  },
  {
   "cell_type": "code",
   "execution_count": 42,
   "metadata": {},
   "outputs": [
    {
     "data": {
      "text/plain": [
       "\u001b[36mres41\u001b[39m: \u001b[32mSet\u001b[39m[\u001b[32mEquation\u001b[39m] = \u001b[33mSet\u001b[39m()"
      ]
     },
     "execution_count": 42,
     "metadata": {},
     "output_type": "execute_result"
    }
   ],
   "source": [
    "ExpressionEval.export(ev0, Vector(B, a)).equations.collect{case eq @ Equation(FinalVal(Elem(_, Typs)), _) => eq}"
   ]
  },
  {
   "cell_type": "code",
   "execution_count": 43,
   "metadata": {},
   "outputs": [
    {
     "data": {
      "text/plain": [
       "\u001b[36mres42\u001b[39m: \u001b[32mSet\u001b[39m[\u001b[32mEquation\u001b[39m] = \u001b[33mSet\u001b[39m(\n",
       "  \u001b[33mEquation\u001b[39m(\n",
       "    \u001b[33mFinalVal\u001b[39m(\u001b[33mElem\u001b[39m(\u001b[32m∏(B : 𝒰 ){ B×A×A }\u001b[39m, Typs)),\n",
       "    \u001b[33mProduct\u001b[39m(\n",
       "      \u001b[33mCoeff\u001b[39m(\n",
       "        \u001b[33mFlatMap\u001b[39m(\n",
       "          Typs,\n",
       "          provingground.learning.TermGeneratorNodes$$Lambda$2459/1429135242@449263fc,\n",
       "          Typs\n",
       "        )\n",
       "      ),\n",
       "      \u001b[33mFinalVal\u001b[39m(\n",
       "        \u001b[33mInIsle\u001b[39m(\n",
       "          \u001b[33mElem\u001b[39m(\u001b[32mB×A×A\u001b[39m, Typs),\n",
       "          \u001b[32mB\u001b[39m,\n",
       "          \u001b[33mIsland\u001b[39m(\n",
       "            Typs,\n",
       "            \u001b[33mConstRandVar\u001b[39m(Typs),\n",
       "            provingground.learning.ExpressionEval$$Lambda$2810/475781992@7e202b84,\n",
       "            Pi,\n",
       "            EnterIsle\n",
       "          )\n",
       "        )\n",
       "      )\n",
       "    )\n",
       "  ),\n",
       "  \u001b[33mEquation\u001b[39m(\n",
       "    \u001b[33mFinalVal\u001b[39m(\u001b[33mElem\u001b[39m(\u001b[32m∏(B : 𝒰 ){ B×B×A }\u001b[39m, Typs)),\n",
       "    \u001b[33mProduct\u001b[39m(\n",
       "      \u001b[33mCoeff\u001b[39m(\n",
       "        \u001b[33mFlatMap\u001b[39m(\n",
       "          Typs,\n",
       "          provingground.learning.TermGeneratorNodes$$Lambda$2459/1429135242@449263fc,\n",
       "          Typs\n",
       "        )\n",
       "      ),\n",
       "..."
      ]
     },
     "execution_count": 43,
     "metadata": {},
     "output_type": "execute_result"
    }
   ],
   "source": [
    "ExpressionEval.export(ev0, Vector(B)).equations.collect{case eq @ Equation(FinalVal(Elem(_, Typs)), _) => eq}"
   ]
  },
  {
   "cell_type": "code",
   "execution_count": 44,
   "metadata": {},
   "outputs": [
    {
     "data": {
      "text/plain": [
       "\u001b[36mres43\u001b[39m: \u001b[32mSet\u001b[39m[\u001b[32mEquation\u001b[39m] = \u001b[33mSet\u001b[39m(\n",
       "  \u001b[33mEquation\u001b[39m(\n",
       "    \u001b[33mFinalVal\u001b[39m(\u001b[33mElem\u001b[39m(\u001b[32m∏(A : 𝒰 ){ ∏(B : 𝒰 ){ A×B } }\u001b[39m, Typs)),\n",
       "    \u001b[33mProduct\u001b[39m(\n",
       "      \u001b[33mCoeff\u001b[39m(\n",
       "        \u001b[33mFlatMap\u001b[39m(\n",
       "          Typs,\n",
       "          provingground.learning.TermGeneratorNodes$$Lambda$2459/1429135242@449263fc,\n",
       "          Typs\n",
       "        )\n",
       "      ),\n",
       "      \u001b[33mFinalVal\u001b[39m(\n",
       "        \u001b[33mInIsle\u001b[39m(\n",
       "          \u001b[33mElem\u001b[39m(\u001b[32m∏(B : 𝒰 ){ A×B }\u001b[39m, Typs),\n",
       "          \u001b[32mA\u001b[39m,\n",
       "          \u001b[33mIsland\u001b[39m(\n",
       "            Typs,\n",
       "            \u001b[33mConstRandVar\u001b[39m(Typs),\n",
       "            provingground.learning.ExpressionEval$$Lambda$2810/475781992@4c4231a8,\n",
       "            Pi,\n",
       "            EnterIsle\n",
       "          )\n",
       "        )\n",
       "      )\n",
       "    )\n",
       "  ),\n",
       "  \u001b[33mEquation\u001b[39m(\n",
       "    \u001b[33mFinalVal\u001b[39m(\u001b[33mElem\u001b[39m(\u001b[32m∏(A : 𝒰 ){ ∏(B : 𝒰 ){ A×B×B } }\u001b[39m, Typs)),\n",
       "    \u001b[33mProduct\u001b[39m(\n",
       "      \u001b[33mCoeff\u001b[39m(\n",
       "        \u001b[33mFlatMap\u001b[39m(\n",
       "          Typs,\n",
       "          provingground.learning.TermGeneratorNodes$$Lambda$2459/1429135242@449263fc,\n",
       "          Typs\n",
       "        )\n",
       "      ),\n",
       "..."
      ]
     },
     "execution_count": 44,
     "metadata": {},
     "output_type": "execute_result"
    }
   ],
   "source": [
    "ExpressionEval.export(ev0, Vector(A, B)).equations.collect{case eq @ Equation(FinalVal(Elem(_, Typs)), _) => eq}"
   ]
  },
  {
   "cell_type": "code",
   "execution_count": 45,
   "metadata": {},
   "outputs": [
    {
     "data": {
      "text/plain": [
       "\u001b[36mres44\u001b[39m: \u001b[32mSet\u001b[39m[\u001b[32mEquation\u001b[39m] = \u001b[33mSet\u001b[39m()"
      ]
     },
     "execution_count": 45,
     "metadata": {},
     "output_type": "execute_result"
    }
   ],
   "source": [
    "ExpressionEval.export(ev0, Vector(A, a)).equations.collect{case eq @ Equation(FinalVal(Elem(_, Typs)), _) => eq}"
   ]
  },
  {
   "cell_type": "code",
   "execution_count": 46,
   "metadata": {},
   "outputs": [
    {
     "data": {
      "text/plain": [
       "\u001b[36mres45\u001b[39m: \u001b[32mSet\u001b[39m[\u001b[32mEquation\u001b[39m] = \u001b[33mSet\u001b[39m(\n",
       "  \u001b[33mEquation\u001b[39m(\n",
       "    \u001b[33mFinalVal\u001b[39m(\u001b[33mElem\u001b[39m(\u001b[32m(A → A×(B → A))\u001b[39m, Typs)),\n",
       "    \u001b[33mProduct\u001b[39m(\n",
       "      \u001b[33mCoeff\u001b[39m(\n",
       "        \u001b[33mFlatMap\u001b[39m(\n",
       "          Typs,\n",
       "          provingground.learning.TermGeneratorNodes$$Lambda$2459/1429135242@449263fc,\n",
       "          Typs\n",
       "        )\n",
       "      ),\n",
       "      \u001b[33mFinalVal\u001b[39m(\n",
       "        \u001b[33mInIsle\u001b[39m(\n",
       "          \u001b[33mElem\u001b[39m(\u001b[32mA×(B → A)\u001b[39m, Typs),\n",
       "          \u001b[32ma\u001b[39m,\n",
       "          \u001b[33mIsland\u001b[39m(\n",
       "            Typs,\n",
       "            \u001b[33mConstRandVar\u001b[39m(Typs),\n",
       "            provingground.learning.ExpressionEval$$Lambda$2810/475781992@33b73c04,\n",
       "            Pi,\n",
       "            EnterIsle\n",
       "          )\n",
       "        )\n",
       "      )\n",
       "    )\n",
       "  ),\n",
       "  \u001b[33mEquation\u001b[39m(\n",
       "    \u001b[33mFinalVal\u001b[39m(\u001b[33mElem\u001b[39m(\u001b[32m(A → A×(A → A))\u001b[39m, Typs)),\n",
       "    \u001b[33mProduct\u001b[39m(\n",
       "      \u001b[33mCoeff\u001b[39m(\n",
       "        \u001b[33mFlatMap\u001b[39m(\n",
       "          Typs,\n",
       "          provingground.learning.TermGeneratorNodes$$Lambda$2459/1429135242@449263fc,\n",
       "          Typs\n",
       "        )\n",
       "      ),\n",
       "..."
      ]
     },
     "execution_count": 46,
     "metadata": {},
     "output_type": "execute_result"
    }
   ],
   "source": [
    "ExpressionEval.export(ev0, Vector(a)).equations.collect{case eq @ Equation(FinalVal(Elem(_, Typs)), _) => eq}"
   ]
  },
  {
   "cell_type": "code",
   "execution_count": 47,
   "metadata": {},
   "outputs": [
    {
     "data": {
      "text/plain": [
       "\u001b[36mev1\u001b[39m: \u001b[32mExpressionEval\u001b[39m = provingground.learning.ExpressionEval$$anon$9@7d5cce46"
      ]
     },
     "execution_count": 47,
     "metadata": {},
     "output_type": "execute_result"
    }
   ],
   "source": [
    "val ev1 = ExpressionEval.export(ev0, Vector(a))"
   ]
  },
  {
   "cell_type": "code",
   "execution_count": 48,
   "metadata": {},
   "outputs": [
    {
     "data": {
      "text/plain": [
       "\u001b[36mres47\u001b[39m: \u001b[32mSet\u001b[39m[\u001b[32mEquation\u001b[39m] = \u001b[33mSet\u001b[39m()"
      ]
     },
     "execution_count": 48,
     "metadata": {},
     "output_type": "execute_result"
    }
   ],
   "source": [
    "ExpressionEval.export(ev1, Vector(B)).equations.collect{case eq @ Equation(FinalVal(Elem(_, Typs)), _) => eq}"
   ]
  },
  {
   "cell_type": "code",
   "execution_count": 49,
   "metadata": {},
   "outputs": [
    {
     "data": {
      "text/plain": [
       "\u001b[36mres48\u001b[39m: \u001b[32mSet\u001b[39m[\u001b[32mEquation\u001b[39m] = \u001b[33mSet\u001b[39m()"
      ]
     },
     "execution_count": 49,
     "metadata": {},
     "output_type": "execute_result"
    }
   ],
   "source": [
    "ev1.piExportEquations(B).collect{case eq @ Equation(FinalVal(Elem(_, Typs)), _) => eq}"
   ]
  },
  {
   "cell_type": "code",
   "execution_count": 50,
   "metadata": {},
   "outputs": [
    {
     "data": {
      "text/plain": [
       "\u001b[36mres49\u001b[39m: \u001b[32mFiniteDistribution\u001b[39m[\u001b[32mTyp\u001b[39m[\u001b[32mTerm\u001b[39m]] = \u001b[33mFiniteDistribution\u001b[39m(\u001b[33mVector\u001b[39m())"
      ]
     },
     "execution_count": 50,
     "metadata": {},
     "output_type": "execute_result"
    }
   ],
   "source": [
    "ev1.finalTyps"
   ]
  },
  {
   "cell_type": "code",
   "execution_count": 51,
   "metadata": {},
   "outputs": [
    {
     "data": {
      "text/plain": [
       "\u001b[36mres50\u001b[39m: \u001b[32mMap\u001b[39m[\u001b[32mExpression\u001b[39m, \u001b[32mDouble\u001b[39m] = \u001b[33mMap\u001b[39m(\n",
       "  \u001b[33mCoeff\u001b[39m(\n",
       "    \u001b[33mBaseThenCondition\u001b[39m(\n",
       "      \u001b[33mFiberProductMap\u001b[39m(domOf, TermsWithTyp, Appln, TypFamilies, Terms),\n",
       "      Typs,\n",
       "      \u001b[33mRestrict\u001b[39m(TypOpt)\n",
       "    )\n",
       "  ) -> \u001b[32m0.1\u001b[39m,\n",
       "  \u001b[33mIsleScale\u001b[39m(\u001b[32m@a\u001b[39m, \u001b[33mElem\u001b[39m(\u001b[32m@a\u001b[39m, Terms)) -> \u001b[32m0.7\u001b[39m,\n",
       "  \u001b[33mCoeff\u001b[39m(\n",
       "    \u001b[33mBaseThenCondition\u001b[39m(\n",
       "      \u001b[33mFiberProductMap\u001b[39m(typeOf(_), FuncsWithDomain, FlipAppn, Terms, Terms),\n",
       "      \u001b[33mAtCoord\u001b[39m(FuncsWithDomain, \u001b[32mA\u001b[39m :: HNil),\n",
       "      \u001b[33mRestrict\u001b[39m(\u001b[33mFuncWithDom\u001b[39m(\u001b[32mA\u001b[39m))\n",
       "    )\n",
       "  ) -> \u001b[32m0.1\u001b[39m,\n",
       "  \u001b[33mIsleScale\u001b[39m(\u001b[32m@a\u001b[39m, \u001b[33mElem\u001b[39m(\u001b[32mB\u001b[39m, Typs)) -> \u001b[32m0.7\u001b[39m,\n",
       "  \u001b[33mIsleScale\u001b[39m(\u001b[32m@a\u001b[39m, \u001b[33mElem\u001b[39m(\u001b[32mB\u001b[39m, Typs)) -> \u001b[32m0.7\u001b[39m,\n",
       "  \u001b[33mIsleScale\u001b[39m(\u001b[32m@a\u001b[39m, \u001b[33mElem\u001b[39m(\u001b[32mB\u001b[39m, Typs)) -> \u001b[32m0.7\u001b[39m,\n",
       "  \u001b[33mIsleScale\u001b[39m(\u001b[32m@a\u001b[39m, \u001b[33mElem\u001b[39m(\u001b[32mB\u001b[39m, Typs)) -> \u001b[32m0.7\u001b[39m,\n",
       "  \u001b[33mIsleScale\u001b[39m(\u001b[32m@a\u001b[39m, \u001b[33mElem\u001b[39m(\u001b[32mB\u001b[39m, Typs)) -> \u001b[32m0.7\u001b[39m,\n",
       "  \u001b[33mIsleScale\u001b[39m(\u001b[32m@a\u001b[39m, \u001b[33mElem\u001b[39m(\u001b[32mB\u001b[39m, Typs)) -> \u001b[32m0.7\u001b[39m,\n",
       "  \u001b[33mInitialVal\u001b[39m(\u001b[33mElem\u001b[39m(\u001b[32mA\u001b[39m, Typs)) -> \u001b[32m0.5\u001b[39m,\n",
       "  \u001b[33mInitialVal\u001b[39m(\u001b[33mElem\u001b[39m(\u001b[33mWrap\u001b[39m(\u001b[32m@a\u001b[39m), Funcs)) -> \u001b[32m0.4285714285714286\u001b[39m,\n",
       "  \u001b[33mInitialVal\u001b[39m(\u001b[33mElem\u001b[39m(\u001b[33mWrap\u001b[39m(\u001b[32m@a\u001b[39m), Funcs)) -> \u001b[32m0.4285714285714286\u001b[39m,\n",
       "  \u001b[33mIsleScale\u001b[39m(\u001b[32m@a\u001b[39m, \u001b[33mElem\u001b[39m(\u001b[32ma\u001b[39m, Terms)) -> \u001b[32m0.7\u001b[39m,\n",
       "  \u001b[33mIsleScale\u001b[39m(\u001b[32m@a\u001b[39m, \u001b[33mElem\u001b[39m(\u001b[32ma\u001b[39m, Terms)) -> \u001b[32m0.7\u001b[39m,\n",
       "  \u001b[33mIsleScale\u001b[39m(\u001b[32m(@a_1 , @a_2)\u001b[39m, \u001b[33mElem\u001b[39m(\u001b[32m(@a_1 , @a_2)\u001b[39m, Terms)) -> \u001b[32m0.7\u001b[39m,\n",
       "  \u001b[33mInitialVal\u001b[39m(\u001b[33mElem\u001b[39m(\u001b[32mB\u001b[39m, Typs)) -> \u001b[32m0.5\u001b[39m,\n",
       "  \u001b[33mIsleScale\u001b[39m(\u001b[32m@b\u001b[39m, \u001b[33mElem\u001b[39m(\u001b[32m@a\u001b[39m, Terms)) -> \u001b[32m0.7\u001b[39m,\n",
       "  \u001b[33mCoeff\u001b[39m(\n",
       "    \u001b[33mIsland\u001b[39m(\n",
       "      \u001b[33mAtCoord\u001b[39m(FuncsWithDomain, \u001b[32m(B → A)\u001b[39m :: HNil),\n",
       "      \u001b[33mConstRandVar\u001b[39m(Terms),\n",
       "      \u001b[33mAddVar\u001b[39m(\u001b[32m(B → A)\u001b[39m),\n",
       "      Lambda,\n",
       "      EnterIsle\n",
       "    )\n",
       "  ) -> \u001b[32m0.1\u001b[39m,\n",
       "..."
      ]
     },
     "execution_count": 51,
     "metadata": {},
     "output_type": "execute_result"
    }
   ],
   "source": [
    "ev0.init"
   ]
  },
  {
   "cell_type": "code",
   "execution_count": 52,
   "metadata": {},
   "outputs": [
    {
     "data": {
      "text/plain": [
       "\u001b[36mres51\u001b[39m: \u001b[32mMap\u001b[39m[\u001b[32mExpression\u001b[39m, \u001b[32mDouble\u001b[39m] = \u001b[33mMap\u001b[39m(\n",
       "  \u001b[33mCoeff\u001b[39m(\n",
       "    \u001b[33mBaseThenCondition\u001b[39m(\n",
       "      \u001b[33mFiberProductMap\u001b[39m(domOf, TermsWithTyp, Appln, TypFamilies, Terms),\n",
       "      Typs,\n",
       "      \u001b[33mRestrict\u001b[39m(TypOpt)\n",
       "    )\n",
       "  ) -> \u001b[32m0.1\u001b[39m,\n",
       "  \u001b[33mIsleScale\u001b[39m(\u001b[32m@a\u001b[39m, \u001b[33mElem\u001b[39m(\u001b[32m@a\u001b[39m, Terms)) -> \u001b[32m0.7\u001b[39m,\n",
       "  \u001b[33mCoeff\u001b[39m(\n",
       "    \u001b[33mBaseThenCondition\u001b[39m(\n",
       "      \u001b[33mFiberProductMap\u001b[39m(typeOf(_), FuncsWithDomain, FlipAppn, Terms, Terms),\n",
       "      \u001b[33mAtCoord\u001b[39m(FuncsWithDomain, \u001b[32mA\u001b[39m :: HNil),\n",
       "      \u001b[33mRestrict\u001b[39m(\u001b[33mFuncWithDom\u001b[39m(\u001b[32mA\u001b[39m))\n",
       "    )\n",
       "  ) -> \u001b[32m0.1\u001b[39m,\n",
       "  \u001b[33mIsleScale\u001b[39m(\u001b[32m@a\u001b[39m, \u001b[33mElem\u001b[39m(\u001b[32mB\u001b[39m, Typs)) -> \u001b[32m0.7\u001b[39m,\n",
       "  \u001b[33mIsleScale\u001b[39m(\u001b[32m@a\u001b[39m, \u001b[33mElem\u001b[39m(\u001b[32mB\u001b[39m, Typs)) -> \u001b[32m0.7\u001b[39m,\n",
       "  \u001b[33mIsleScale\u001b[39m(\u001b[32m@a\u001b[39m, \u001b[33mElem\u001b[39m(\u001b[32mB\u001b[39m, Typs)) -> \u001b[32m0.7\u001b[39m,\n",
       "  \u001b[33mIsleScale\u001b[39m(\u001b[32m@a\u001b[39m, \u001b[33mElem\u001b[39m(\u001b[32mB\u001b[39m, Typs)) -> \u001b[32m0.7\u001b[39m,\n",
       "  \u001b[33mIsleScale\u001b[39m(\u001b[32m@a\u001b[39m, \u001b[33mElem\u001b[39m(\u001b[32mB\u001b[39m, Typs)) -> \u001b[32m0.7\u001b[39m,\n",
       "  \u001b[33mIsleScale\u001b[39m(\u001b[32m@a\u001b[39m, \u001b[33mElem\u001b[39m(\u001b[32mB\u001b[39m, Typs)) -> \u001b[32m0.7\u001b[39m,\n",
       "  \u001b[33mInitialVal\u001b[39m(\u001b[33mElem\u001b[39m(\u001b[32mA\u001b[39m, Typs)) -> \u001b[32m0.5\u001b[39m,\n",
       "  \u001b[33mInitialVal\u001b[39m(\u001b[33mElem\u001b[39m(\u001b[33mWrap\u001b[39m(\u001b[32m@a\u001b[39m), Funcs)) -> \u001b[32m0.4285714285714286\u001b[39m,\n",
       "  \u001b[33mInitialVal\u001b[39m(\u001b[33mElem\u001b[39m(\u001b[33mWrap\u001b[39m(\u001b[32m@a\u001b[39m), Funcs)) -> \u001b[32m0.4285714285714286\u001b[39m,\n",
       "  \u001b[33mIsleScale\u001b[39m(\u001b[32m@a\u001b[39m, \u001b[33mElem\u001b[39m(\u001b[32ma\u001b[39m, Terms)) -> \u001b[32m0.7\u001b[39m,\n",
       "  \u001b[33mIsleScale\u001b[39m(\u001b[32m@a\u001b[39m, \u001b[33mElem\u001b[39m(\u001b[32ma\u001b[39m, Terms)) -> \u001b[32m0.7\u001b[39m,\n",
       "  \u001b[33mIsleScale\u001b[39m(\u001b[32m(@a_1 , @a_2)\u001b[39m, \u001b[33mElem\u001b[39m(\u001b[32m(@a_1 , @a_2)\u001b[39m, Terms)) -> \u001b[32m0.7\u001b[39m,\n",
       "  \u001b[33mInitialVal\u001b[39m(\u001b[33mElem\u001b[39m(\u001b[32mB\u001b[39m, Typs)) -> \u001b[32m0.5\u001b[39m,\n",
       "  \u001b[33mIsleScale\u001b[39m(\u001b[32m@b\u001b[39m, \u001b[33mElem\u001b[39m(\u001b[32m@a\u001b[39m, Terms)) -> \u001b[32m0.7\u001b[39m,\n",
       "  \u001b[33mCoeff\u001b[39m(\n",
       "    \u001b[33mIsland\u001b[39m(\n",
       "      \u001b[33mAtCoord\u001b[39m(FuncsWithDomain, \u001b[32m(B → A)\u001b[39m :: HNil),\n",
       "      \u001b[33mConstRandVar\u001b[39m(Terms),\n",
       "      \u001b[33mAddVar\u001b[39m(\u001b[32m(B → A)\u001b[39m),\n",
       "      Lambda,\n",
       "      EnterIsle\n",
       "    )\n",
       "  ) -> \u001b[32m0.1\u001b[39m,\n",
       "..."
      ]
     },
     "execution_count": 52,
     "metadata": {},
     "output_type": "execute_result"
    }
   ],
   "source": [
    "ev1.init"
   ]
  },
  {
   "cell_type": "code",
   "execution_count": 53,
   "metadata": {},
   "outputs": [
    {
     "data": {
      "text/plain": [
       "\u001b[36mres52\u001b[39m: \u001b[32mSet\u001b[39m[\u001b[32mEquation\u001b[39m] = \u001b[33mSet\u001b[39m()"
      ]
     },
     "execution_count": 53,
     "metadata": {},
     "output_type": "execute_result"
    }
   ],
   "source": [
    "ev1.equations.collect{case eq @ Equation(FinalVal(Elem(A, Typs)), _) => eq}"
   ]
  },
  {
   "cell_type": "code",
   "execution_count": 54,
   "metadata": {},
   "outputs": [
    {
     "data": {
      "text/plain": [
       "\u001b[36mres53\u001b[39m: \u001b[32mSet\u001b[39m[\u001b[32mEquation\u001b[39m] = \u001b[33mSet\u001b[39m(\n",
       "  \u001b[33mEquation\u001b[39m(\n",
       "    \u001b[33mFinalVal\u001b[39m(\u001b[33mElem\u001b[39m(\u001b[32mA\u001b[39m, Typs)),\n",
       "    \u001b[33mSum\u001b[39m(\n",
       "      \u001b[33mSum\u001b[39m(\n",
       "        \u001b[33mSum\u001b[39m(\n",
       "          \u001b[33mQuotient\u001b[39m(\n",
       "            \u001b[33mFinalVal\u001b[39m(\u001b[33mElem\u001b[39m(\u001b[32mA\u001b[39m, Terms)),\n",
       "            \u001b[33mFinalVal\u001b[39m(\u001b[33mEvent\u001b[39m(Terms, \u001b[33mRestrict\u001b[39m(TypOpt)))\n",
       "          ),\n",
       "          \u001b[33mProduct\u001b[39m(\n",
       "            \u001b[33mProduct\u001b[39m(\n",
       "              \u001b[33mCoeff\u001b[39m(\n",
       "                \u001b[33mFlatMap\u001b[39m(\n",
       "                  TypFamilies,\n",
       "                  provingground.learning.TermGeneratorNodes$$Lambda$2461/1728401242@5e1fa44c,\n",
       "                  Typs\n",
       "                )\n",
       "              ),\n",
       "              \u001b[33mFinalVal\u001b[39m(\u001b[33mElem\u001b[39m(\u001b[32ma\u001b[39m, \u001b[33mAtCoord\u001b[39m(TermsWithTyp, \u001b[32mA\u001b[39m :: HNil)))\n",
       "            ),\n",
       "            \u001b[33mFinalVal\u001b[39m(\u001b[33mElem\u001b[39m(\u001b[32mA\u001b[39m, Typs))\n",
       "          )\n",
       "        ),\n",
       "        \u001b[33mProduct\u001b[39m(\u001b[33mCoeff\u001b[39m(\u001b[33mInit\u001b[39m(Typs)), \u001b[33mInitialVal\u001b[39m(\u001b[33mElem\u001b[39m(\u001b[32mA\u001b[39m, Typs)))\n",
       "      ),\n",
       "      \u001b[33mProduct\u001b[39m(\n",
       "        \u001b[33mProduct\u001b[39m(\n",
       "          \u001b[33mCoeff\u001b[39m(\n",
       "            \u001b[33mFlatMap\u001b[39m(\n",
       "              TypFamilies,\n",
       "              provingground.learning.TermGeneratorNodes$$Lambda$2461/1728401242@5e1fa44c,\n",
       "              Typs\n",
       "            )\n",
       "          ),\n",
       "          \u001b[33mFinalVal\u001b[39m(\u001b[33mElem\u001b[39m(\u001b[33mWrap\u001b[39m(\u001b[32m(@a : A) ↦ A\u001b[39m), TypFamilies))\n",
       "        ),\n",
       "..."
      ]
     },
     "execution_count": 54,
     "metadata": {},
     "output_type": "execute_result"
    }
   ],
   "source": [
    "ev0.equations.collect{case eq @ Equation(FinalVal(Elem(A, Typs)), _) => eq}"
   ]
  },
  {
   "cell_type": "code",
   "execution_count": 55,
   "metadata": {},
   "outputs": [
    {
     "data": {
      "text/plain": [
       "\u001b[36mres54\u001b[39m: \u001b[32mBoolean\u001b[39m = false"
      ]
     },
     "execution_count": 55,
     "metadata": {},
     "output_type": "execute_result"
    }
   ],
   "source": [
    "A.dependsOn(a)"
   ]
  },
  {
   "cell_type": "markdown",
   "metadata": {},
   "source": [
    "## Bug diagnosed\n",
    "\n",
    "* There is no equation for `FinalVal(Elem(A, Typs))` once we export by `a`, as all equations are assumed to be in island.\n",
    "* __Correction:__ If an equation is independent of the variable, it is exported as it is.\n",
    "* __However:__ We should not take too long to check independence. We test this."
   ]
  },
  {
   "cell_type": "code",
   "execution_count": 56,
   "metadata": {},
   "outputs": [
    {
     "data": {
      "text/plain": [
       "defined \u001b[32mfunction\u001b[39m \u001b[36mvarDepends\u001b[39m\n",
       "defined \u001b[32mfunction\u001b[39m \u001b[36mequationDepends\u001b[39m"
      ]
     },
     "execution_count": 56,
     "metadata": {},
     "output_type": "execute_result"
    }
   ],
   "source": [
    "def varDepends(t: Term)(v: Variable[_]) : Boolean = \n",
    "    v match {\n",
    "      case Elem(element: Term, randomVar) => element.dependsOn(t)\n",
    "      case Elem(element, randomVar) => false\n",
    "      case Event(base, sort) => false\n",
    "      case InIsle(isleVar, boat, isle) => varDepends(t)(isleVar)\n",
    "      case PairEvent(base1, base2, sort) => false\n",
    "    }\n",
    "\n",
    "  def equationDepends(t: Term)(eq : Equation) : Boolean = {\n",
    "    import Expression.varVals\n",
    "    val genvars = varVals(eq.lhs).map(_.variable) union varVals(eq.lhs).map(_.variable)\n",
    "    genvars.exists(v => varDepends(t)(v))\n",
    "  }"
   ]
  },
  {
   "cell_type": "code",
   "execution_count": 57,
   "metadata": {},
   "outputs": [
    {
     "data": {
      "text/plain": [
       "\u001b[36mres56\u001b[39m: \u001b[32mInt\u001b[39m = \u001b[32m739\u001b[39m"
      ]
     },
     "execution_count": 57,
     "metadata": {},
     "output_type": "execute_result"
    }
   ],
   "source": [
    "ev0.equations.size"
   ]
  },
  {
   "cell_type": "code",
   "execution_count": 58,
   "metadata": {},
   "outputs": [
    {
     "data": {
      "text/plain": [
       "\u001b[36mres57\u001b[39m: \u001b[32mSet\u001b[39m[\u001b[32mBoolean\u001b[39m] = \u001b[33mSet\u001b[39m(false, true)"
      ]
     },
     "execution_count": 58,
     "metadata": {},
     "output_type": "execute_result"
    }
   ],
   "source": [
    "ev0.equations.take(20).map(equationDepends(a))"
   ]
  },
  {
   "cell_type": "code",
   "execution_count": 59,
   "metadata": {},
   "outputs": [
    {
     "data": {
      "text/plain": [
       "\u001b[36mres58\u001b[39m: \u001b[32mSet\u001b[39m[\u001b[32mBoolean\u001b[39m] = \u001b[33mSet\u001b[39m(false, true)"
      ]
     },
     "execution_count": 59,
     "metadata": {},
     "output_type": "execute_result"
    }
   ],
   "source": [
    "ev0.equations.take(100).map(equationDepends(a))"
   ]
  },
  {
   "cell_type": "code",
   "execution_count": 60,
   "metadata": {},
   "outputs": [
    {
     "data": {
      "text/plain": [
       "\u001b[36mindepEqs\u001b[39m: \u001b[32mSet\u001b[39m[\u001b[32mEquation\u001b[39m] = \u001b[33mSet\u001b[39m(\n",
       "  \u001b[33mEquation\u001b[39m(\n",
       "    \u001b[33mInitialVal\u001b[39m(\n",
       "      \u001b[33mInIsle\u001b[39m(\n",
       "        \u001b[33mElem\u001b[39m(\u001b[32mA\u001b[39m, Typs),\n",
       "        \u001b[32m@a\u001b[39m,\n",
       "        \u001b[33mIsland\u001b[39m(Typs, \u001b[33mConstRandVar\u001b[39m(Typs), \u001b[33mAddVar\u001b[39m(\u001b[32m(B → A)\u001b[39m), Sigma, EnterIsle)\n",
       "      )\n",
       "    ),\n",
       "    \u001b[33mProduct\u001b[39m(\u001b[33mIsleScale\u001b[39m(\u001b[32m@a\u001b[39m, \u001b[33mElem\u001b[39m(\u001b[32mA\u001b[39m, Typs)), \u001b[33mInitialVal\u001b[39m(\u001b[33mElem\u001b[39m(\u001b[32mA\u001b[39m, Typs)))\n",
       "  ),\n",
       "  \u001b[33mEquation\u001b[39m(\n",
       "    \u001b[33mInitialVal\u001b[39m(\n",
       "      \u001b[33mInIsle\u001b[39m(\n",
       "        \u001b[33mElem\u001b[39m(\u001b[32mA\u001b[39m, Typs),\n",
       "        \u001b[32m@a\u001b[39m,\n",
       "        \u001b[33mIsland\u001b[39m(Typs, \u001b[33mConstRandVar\u001b[39m(Typs), \u001b[33mAddVar\u001b[39m(\u001b[32m(A → A)\u001b[39m), Sigma, EnterIsle)\n",
       "      )\n",
       "    ),\n",
       "    \u001b[33mProduct\u001b[39m(\u001b[33mIsleScale\u001b[39m(\u001b[32m@a\u001b[39m, \u001b[33mElem\u001b[39m(\u001b[32mA\u001b[39m, Typs)), \u001b[33mInitialVal\u001b[39m(\u001b[33mElem\u001b[39m(\u001b[32mA\u001b[39m, Typs)))\n",
       "  ),\n",
       "  \u001b[33mEquation\u001b[39m(\n",
       "    \u001b[33mFinalVal\u001b[39m(\n",
       "      \u001b[33mInIsle\u001b[39m(\n",
       "        \u001b[33mInIsle\u001b[39m(\n",
       "          \u001b[33mElem\u001b[39m(\u001b[32mB\u001b[39m, Typs),\n",
       "          \u001b[32m@b\u001b[39m,\n",
       "          \u001b[33mIsland\u001b[39m(Terms, \u001b[33mConstRandVar\u001b[39m(Terms), \u001b[33mAddVar\u001b[39m(\u001b[32mA\u001b[39m), Lambda, EnterIsle)\n",
       "        ),\n",
       "        \u001b[32m@a\u001b[39m,\n",
       "        \u001b[33mIsland\u001b[39m(Terms, \u001b[33mConstRandVar\u001b[39m(Terms), \u001b[33mAddVar\u001b[39m(\u001b[32mA\u001b[39m), Lambda, EnterIsle)\n",
       "      )\n",
       "    ),\n",
       "    \u001b[33mProduct\u001b[39m(\n",
       "      \u001b[33mCoeff\u001b[39m(\u001b[33mInit\u001b[39m(Typs)),\n",
       "      \u001b[33mInitialVal\u001b[39m(\n",
       "        \u001b[33mInIsle\u001b[39m(\n",
       "          \u001b[33mInIsle\u001b[39m(\n",
       "            \u001b[33mElem\u001b[39m(\u001b[32mB\u001b[39m, Typs),\n",
       "..."
      ]
     },
     "execution_count": 60,
     "metadata": {},
     "output_type": "execute_result"
    }
   ],
   "source": [
    "val indepEqs= ev0.equations.filterNot(equationDepends(a))"
   ]
  },
  {
   "cell_type": "markdown",
   "metadata": {},
   "source": [
    "This was computed fast. The previous shortcut based attempt made things slow. For safety, we will run the update in a copy of this notebook."
   ]
  }
 ],
 "metadata": {
  "kernelspec": {
   "display_name": "Scala",
   "language": "scala",
   "name": "scala"
  },
  "language_info": {
   "codemirror_mode": "text/x-scala",
   "file_extension": ".scala",
   "mimetype": "text/x-scala",
   "name": "scala",
   "nbconvert_exporter": "script",
   "version": "2.12.8"
  }
 },
 "nbformat": 4,
 "nbformat_minor": 4
}
