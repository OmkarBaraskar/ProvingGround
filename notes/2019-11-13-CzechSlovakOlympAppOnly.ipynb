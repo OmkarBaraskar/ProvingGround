{
 "cells": [
  {
   "cell_type": "markdown",
   "metadata": {},
   "source": [
    "# Exploring the Czech-Slovak Olympiad problem.\n",
    "\n",
    "Our goal is to explore the solution of Achal Kumar. Specifically, we will start with all axioms and the constants $m$ and $n$ and then look for lemmas. The difference from the other notebook is we only use (unified) applications. Recall the problem:\n",
    "\n",
    "Let ⋆ be a binary operation on a nonempty set $M$. That is, every pair $(a,b) \\in  M$ is assigned an element $a$ ⋆$ b$ in $M$. Suppose that ⋆ has the additional property that $(a $ ⋆ $b) $ ⋆$ b= a$ and $a$ ⋆ $(a$ ⋆$ b)= b$ for all $a,b \\in  M$.\n",
    "Show that $a$ ⋆ $b = b$ ⋆ $a$ for all $a,b \\in  M$.\n",
    "\n",
    "We should derive the following lemmas.\n",
    "\n",
    "1. $ m = (m*n)*n $ \n",
    "2. $ n = (m*n)*((m*n)*n) $ \n",
    "3. $ (m*n)*m = (m*n)*((m*n)*n) $\n",
    "4. $ ((m*n)*m))*m = m*n $ \n",
    "5. $ (m*n)*m = n $\n",
    "6. $ ((m*n)*m)*m = n*m $\n",
    "\n",
    "Finally, we should get the desired result.\n",
    "\n",
    "$ m*n  = n*m $"
   ]
  },
  {
   "cell_type": "code",
   "execution_count": 1,
   "metadata": {},
   "outputs": [
    {
     "data": {
      "text/plain": [
       "\u001b[32mimport \u001b[39m\u001b[36m$cp.$                                              \n",
       "\u001b[39m\n",
       "\u001b[32mimport \u001b[39m\u001b[36mprovingground._ , interface._, HoTT._, learning._ \n",
       "\u001b[39m"
      ]
     },
     "execution_count": 1,
     "metadata": {},
     "output_type": "execute_result"
    }
   ],
   "source": [
    "import $cp.bin.`provingground-core-jvm-6b59061b0d.fat.jar`\n",
    "import provingground._ , interface._, HoTT._, learning._ \n",
    "repl.pprinter() = {\n",
    "  val p = repl.pprinter()\n",
    "  p.copy(\n",
    "    additionalHandlers = p.additionalHandlers.orElse {\n",
    "      translation.FansiShow.fansiHandler\n",
    "    }\n",
    "  )\n",
    "}"
   ]
  },
  {
   "cell_type": "code",
   "execution_count": 2,
   "metadata": {},
   "outputs": [
    {
     "data": {
      "text/plain": [
       "\u001b[36mM\u001b[39m: \u001b[32mTyp\u001b[39m[\u001b[32mTerm\u001b[39m] = \u001b[32mM\u001b[39m\n",
       "\u001b[36meqM\u001b[39m: \u001b[32mFunc\u001b[39m[\u001b[32mTerm\u001b[39m, \u001b[32mFunc\u001b[39m[\u001b[32mTerm\u001b[39m, \u001b[32mTyp\u001b[39m[\u001b[32mTerm\u001b[39m]]] = \u001b[32meqM\u001b[39m\n",
       "\u001b[36ma\u001b[39m: \u001b[32mTerm\u001b[39m = \u001b[32ma\u001b[39m\n",
       "\u001b[36mb\u001b[39m: \u001b[32mTerm\u001b[39m = \u001b[32mb\u001b[39m\n",
       "\u001b[36mc\u001b[39m: \u001b[32mTerm\u001b[39m = \u001b[32mc\u001b[39m\n",
       "\u001b[36mm\u001b[39m: \u001b[32mTerm\u001b[39m = \u001b[32mm\u001b[39m\n",
       "\u001b[36mn\u001b[39m: \u001b[32mTerm\u001b[39m = \u001b[32mn\u001b[39m\n",
       "\u001b[36mmul\u001b[39m: \u001b[32mFunc\u001b[39m[\u001b[32mTerm\u001b[39m, \u001b[32mFunc\u001b[39m[\u001b[32mTerm\u001b[39m, \u001b[32mTerm\u001b[39m]] = \u001b[32mmul\u001b[39m\n",
       "\u001b[32mimport \u001b[39m\u001b[36mFineDeducer.unif\u001b[39m"
      ]
     },
     "execution_count": 2,
     "metadata": {},
     "output_type": "execute_result"
    }
   ],
   "source": [
    "val M = \"M\" :: Type\n",
    "\n",
    "val eqM = \"eqM\" :: M ->: M ->: Type\n",
    "\n",
    "val a = \"a\" :: M\n",
    "val b = \"b\" :: M\n",
    "val c = \"c\" :: M\n",
    "\n",
    "val m = \"m\" :: M\n",
    "\n",
    "val n = \"n\" :: M\n",
    "\n",
    "val mul = \"mul\" :: M ->: M ->: M\n",
    "\n",
    "import FineDeducer.unif"
   ]
  },
  {
   "cell_type": "code",
   "execution_count": 3,
   "metadata": {},
   "outputs": [
    {
     "data": {
      "text/plain": [
       "\u001b[36mThm\u001b[39m: \u001b[32mTyp\u001b[39m[\u001b[32mTerm\u001b[39m] = \u001b[32meqM(mul(m)(n))(mul(n)(m))\u001b[39m\n",
       "\u001b[36mLemma1\u001b[39m: \u001b[32mTyp\u001b[39m[\u001b[32mTerm\u001b[39m] = \u001b[32meqM(m)(mul(mul(m)(n))(n))\u001b[39m\n",
       "\u001b[36mLemma2\u001b[39m: \u001b[32mTyp\u001b[39m[\u001b[32mTerm\u001b[39m] = \u001b[32meqM(n)(mul(mul(m)(n))(mul(mul(m)(n))(n)))\u001b[39m\n",
       "\u001b[36mLemma3\u001b[39m: \u001b[32mTyp\u001b[39m[\u001b[32mTerm\u001b[39m] = \u001b[32meqM(mul(mul(m)(n))(m))(mul(mul(m)(n))(mul(mul(m)(n))(n)))\u001b[39m\n",
       "\u001b[36mLemma4\u001b[39m: \u001b[32mTyp\u001b[39m[\u001b[32mTerm\u001b[39m] = \u001b[32meqM(mul(mul(mul(m)(n))(m))(m))(mul(m)(n))\u001b[39m\n",
       "\u001b[36mLemma5\u001b[39m: \u001b[32mTyp\u001b[39m[\u001b[32mTerm\u001b[39m] = \u001b[32meqM(mul(mul(m)(n))(m))(n)\u001b[39m\n",
       "\u001b[36mLemma6\u001b[39m: \u001b[32mTyp\u001b[39m[\u001b[32mTerm\u001b[39m] = \u001b[32meqM(mul(mul(mul(m)(n))(m))(m))(mul(n)(m))\u001b[39m"
      ]
     },
     "execution_count": 3,
     "metadata": {},
     "output_type": "execute_result"
    }
   ],
   "source": [
    "val Thm = eqM(mul(m)(n))(mul(n)(m))\n",
    "\n",
    "val Lemma1 = eqM(m)(mul(mul(m)(n))(n))\n",
    "val Lemma2 = eqM(n)(mul(mul(m)(n))(mul(mul(m)(n))(n)))\n",
    "val Lemma3 = eqM(mul(mul(m)(n))(m))(mul(mul(m)(n))(mul(mul(m)(n))(n)))\n",
    "val Lemma4 = eqM(mul(mul(mul(m)(n))(m))(m))(mul(m)(n))\n",
    "val Lemma5 = eqM(mul(mul(m)(n))(m))(n)\n",
    "val Lemma6 = eqM(mul(mul(mul(m)(n))(m))(m))(mul(n)(m))"
   ]
  },
  {
   "cell_type": "markdown",
   "metadata": {},
   "source": [
    "Note that the above are defined just by using copy-paste (this is why we changed `op` to `mul`). We set up a local prover with all the axioms we use.  "
   ]
  },
  {
   "cell_type": "code",
   "execution_count": 4,
   "metadata": {},
   "outputs": [
    {
     "data": {
      "text/plain": [
       "\u001b[36mfullTerms\u001b[39m: \u001b[32mFiniteDistribution\u001b[39m[\u001b[32mTerm\u001b[39m] = \u001b[33mFiniteDistribution\u001b[39m(\n",
       "  \u001b[33mVector\u001b[39m(\n",
       "    \u001b[33mWeighted\u001b[39m(\u001b[32mm\u001b[39m, \u001b[32m0.04347826086956522\u001b[39m),\n",
       "    \u001b[33mWeighted\u001b[39m(\u001b[32mn\u001b[39m, \u001b[32m0.04347826086956522\u001b[39m),\n",
       "    \u001b[33mWeighted\u001b[39m(\u001b[32mmul\u001b[39m, \u001b[32m0.04347826086956522\u001b[39m),\n",
       "    \u001b[33mWeighted\u001b[39m(\u001b[32meqM\u001b[39m, \u001b[32m0.04347826086956522\u001b[39m),\n",
       "    \u001b[33mWeighted\u001b[39m(\u001b[32maxiom_{eqM(a)(a)}\u001b[39m, \u001b[32m0.04347826086956522\u001b[39m),\n",
       "    \u001b[33mWeighted\u001b[39m(\u001b[32maxiom_{(eqM(a)(b) \\to eqM(b)(a))}\u001b[39m, \u001b[32m0.04347826086956522\u001b[39m),\n",
       "    \u001b[33mWeighted\u001b[39m(\n",
       "      \u001b[32maxiom_{(eqM(a)(b) \\to (eqM(b)(c) \\to eqM(a)(c)))}\u001b[39m,\n",
       "      \u001b[32m0.04347826086956522\u001b[39m\n",
       "    ),\n",
       "    \u001b[33mWeighted\u001b[39m(\u001b[32maxiom_{eqM(mul(mul(a)(b))(b))(a)}\u001b[39m, \u001b[32m0.04347826086956522\u001b[39m),\n",
       "    \u001b[33mWeighted\u001b[39m(\u001b[32maxiom_{eqM(mul(a)(mul(a)(b)))(b)}\u001b[39m, \u001b[32m0.04347826086956522\u001b[39m),\n",
       "    \u001b[33mWeighted\u001b[39m(\n",
       "      \u001b[32maxiom_{(eqM(b)(c) \\to eqM(mul(b)(a))(mul(c)(a)))}\u001b[39m,\n",
       "      \u001b[32m0.04347826086956522\u001b[39m\n",
       "    ),\n",
       "    \u001b[33mWeighted\u001b[39m(\u001b[32meqM\u001b[39m, \u001b[32m0.14130434782608697\u001b[39m),\n",
       "    \u001b[33mWeighted\u001b[39m(\u001b[32mmul\u001b[39m, \u001b[32m0.4239130434782609\u001b[39m)\n",
       "  )\n",
       ")"
      ]
     },
     "execution_count": 4,
     "metadata": {},
     "output_type": "execute_result"
    }
   ],
   "source": [
    "val fullTerms : FiniteDistribution[Term] = (unif(a,b,c)(m,n, mul, eqM)(\n",
    "    eqM(a)(a),\n",
    "    eqM(a)(b) ->: eqM(b)(a),\n",
    "    eqM(a)(b) ->: eqM(b)(c) ->: eqM(a)(c),\n",
    "    eqM(mul(mul(a)(b))(b))(a),\n",
    "    eqM(mul(a)(mul(a)(b)))(b),\n",
    "    eqM(b)(c) ->: eqM(mul(b)(a))(mul(c)(a))\n",
    "  ) * 0.5 ++ (FiniteDistribution.unif(eqM: Term) * 0.125) ++ (FiniteDistribution.unif(mul : Term ) * 0.375)).filter((t) => !Set(a, b, c).contains(t)).normalized()"
   ]
  },
  {
   "cell_type": "code",
   "execution_count": 5,
   "metadata": {},
   "outputs": [
    {
     "data": {
      "text/plain": [
       "\u001b[32mimport \u001b[39m\u001b[36mmonix.execution.Scheduler.Implicits.global\n",
       "\u001b[39m\n",
       "\u001b[36mts\u001b[39m: \u001b[32mTermState\u001b[39m = \u001b[33mTermState\u001b[39m(\n",
       "  \u001b[33mFiniteDistribution\u001b[39m(\n",
       "    \u001b[33mVector\u001b[39m(\n",
       "      \u001b[33mWeighted\u001b[39m(\u001b[32mm\u001b[39m, \u001b[32m0.04347826086956522\u001b[39m),\n",
       "      \u001b[33mWeighted\u001b[39m(\u001b[32mn\u001b[39m, \u001b[32m0.04347826086956522\u001b[39m),\n",
       "      \u001b[33mWeighted\u001b[39m(\u001b[32mmul\u001b[39m, \u001b[32m0.04347826086956522\u001b[39m),\n",
       "      \u001b[33mWeighted\u001b[39m(\u001b[32meqM\u001b[39m, \u001b[32m0.04347826086956522\u001b[39m),\n",
       "      \u001b[33mWeighted\u001b[39m(\u001b[32maxiom_{eqM(a)(a)}\u001b[39m, \u001b[32m0.04347826086956522\u001b[39m),\n",
       "      \u001b[33mWeighted\u001b[39m(\u001b[32maxiom_{(eqM(a)(b) \\to eqM(b)(a))}\u001b[39m, \u001b[32m0.04347826086956522\u001b[39m),\n",
       "      \u001b[33mWeighted\u001b[39m(\n",
       "        \u001b[32maxiom_{(eqM(a)(b) \\to (eqM(b)(c) \\to eqM(a)(c)))}\u001b[39m,\n",
       "        \u001b[32m0.04347826086956522\u001b[39m\n",
       "      ),\n",
       "      \u001b[33mWeighted\u001b[39m(\u001b[32maxiom_{eqM(mul(mul(a)(b))(b))(a)}\u001b[39m, \u001b[32m0.04347826086956522\u001b[39m),\n",
       "      \u001b[33mWeighted\u001b[39m(\u001b[32maxiom_{eqM(mul(a)(mul(a)(b)))(b)}\u001b[39m, \u001b[32m0.04347826086956522\u001b[39m),\n",
       "      \u001b[33mWeighted\u001b[39m(\n",
       "        \u001b[32maxiom_{(eqM(b)(c) \\to eqM(mul(b)(a))(mul(c)(a)))}\u001b[39m,\n",
       "        \u001b[32m0.04347826086956522\u001b[39m\n",
       "      ),\n",
       "      \u001b[33mWeighted\u001b[39m(\u001b[32meqM\u001b[39m, \u001b[32m0.14130434782608697\u001b[39m),\n",
       "      \u001b[33mWeighted\u001b[39m(\u001b[32mmul\u001b[39m, \u001b[32m0.4239130434782609\u001b[39m)\n",
       "    )\n",
       "  ),\n",
       "  \u001b[33mFiniteDistribution\u001b[39m(\n",
       "    \u001b[33mVector\u001b[39m(\n",
       "      \u001b[33mWeighted\u001b[39m(\u001b[32mM\u001b[39m, \u001b[32m0.04347826086956522\u001b[39m),\n",
       "      \u001b[33mWeighted\u001b[39m(\u001b[32mM\u001b[39m, \u001b[32m0.04347826086956522\u001b[39m),\n",
       "      \u001b[33mWeighted\u001b[39m(\u001b[32m(M → (M → M))\u001b[39m, \u001b[32m0.04347826086956522\u001b[39m),\n",
       "      \u001b[33mWeighted\u001b[39m(\u001b[32m(M → (M → 𝒰 ))\u001b[39m, \u001b[32m0.04347826086956522\u001b[39m),\n",
       "      \u001b[33mWeighted\u001b[39m(\u001b[32m∏(a : M){ eqM(a)(a) }\u001b[39m, \u001b[32m0.04347826086956522\u001b[39m),\n",
       "      \u001b[33mWeighted\u001b[39m(\n",
       "        \u001b[32m∏(a : M){ ∏(b : M){ (eqM(a)(b) → eqM(b)(a)) } }\u001b[39m,\n",
       "        \u001b[32m0.04347826086956522\u001b[39m\n",
       "      ),\n",
       "      \u001b[33mWeighted\u001b[39m(\n",
       "        \u001b[32m∏(a : M){ ∏(b : M){ ∏(c : M){ (eqM(a)(b) → (eqM(b)(c) → eqM(a)(c))) } } }\u001b[39m,\n",
       "        \u001b[32m0.04347826086956522\u001b[39m\n",
       "      ),\n",
       "...\n",
       "\u001b[36mlp0\u001b[39m: \u001b[32mLocalProver\u001b[39m = \u001b[33mLocalProver\u001b[39m(\n",
       "  \u001b[33mTermState\u001b[39m(\n",
       "    \u001b[33mFiniteDistribution\u001b[39m(\n",
       "      \u001b[33mVector\u001b[39m(\n",
       "        \u001b[33mWeighted\u001b[39m(\u001b[32mm\u001b[39m, \u001b[32m0.04347826086956522\u001b[39m),\n",
       "        \u001b[33mWeighted\u001b[39m(\u001b[32mn\u001b[39m, \u001b[32m0.04347826086956522\u001b[39m),\n",
       "        \u001b[33mWeighted\u001b[39m(\u001b[32mmul\u001b[39m, \u001b[32m0.04347826086956522\u001b[39m),\n",
       "        \u001b[33mWeighted\u001b[39m(\u001b[32meqM\u001b[39m, \u001b[32m0.04347826086956522\u001b[39m),\n",
       "        \u001b[33mWeighted\u001b[39m(\u001b[32maxiom_{eqM(a)(a)}\u001b[39m, \u001b[32m0.04347826086956522\u001b[39m),\n",
       "        \u001b[33mWeighted\u001b[39m(\u001b[32maxiom_{(eqM(a)(b) \\to eqM(b)(a))}\u001b[39m, \u001b[32m0.04347826086956522\u001b[39m),\n",
       "        \u001b[33mWeighted\u001b[39m(\n",
       "          \u001b[32maxiom_{(eqM(a)(b) \\to (eqM(b)(c) \\to eqM(a)(c)))}\u001b[39m,\n",
       "          \u001b[32m0.04347826086956522\u001b[39m\n",
       "        ),\n",
       "        \u001b[33mWeighted\u001b[39m(\u001b[32maxiom_{eqM(mul(mul(a)(b))(b))(a)}\u001b[39m, \u001b[32m0.04347826086956522\u001b[39m),\n",
       "        \u001b[33mWeighted\u001b[39m(\u001b[32maxiom_{eqM(mul(a)(mul(a)(b)))(b)}\u001b[39m, \u001b[32m0.04347826086956522\u001b[39m),\n",
       "        \u001b[33mWeighted\u001b[39m(\n",
       "          \u001b[32maxiom_{(eqM(b)(c) \\to eqM(mul(b)(a))(mul(c)(a)))}\u001b[39m,\n",
       "          \u001b[32m0.04347826086956522\u001b[39m\n",
       "        ),\n",
       "        \u001b[33mWeighted\u001b[39m(\u001b[32meqM\u001b[39m, \u001b[32m0.14130434782608697\u001b[39m),\n",
       "        \u001b[33mWeighted\u001b[39m(\u001b[32mmul\u001b[39m, \u001b[32m0.4239130434782609\u001b[39m)\n",
       "      )\n",
       "    ),\n",
       "    \u001b[33mFiniteDistribution\u001b[39m(\n",
       "      \u001b[33mVector\u001b[39m(\n",
       "        \u001b[33mWeighted\u001b[39m(\u001b[32mM\u001b[39m, \u001b[32m0.04347826086956522\u001b[39m),\n",
       "        \u001b[33mWeighted\u001b[39m(\u001b[32mM\u001b[39m, \u001b[32m0.04347826086956522\u001b[39m),\n",
       "        \u001b[33mWeighted\u001b[39m(\u001b[32m(M → (M → M))\u001b[39m, \u001b[32m0.04347826086956522\u001b[39m),\n",
       "        \u001b[33mWeighted\u001b[39m(\u001b[32m(M → (M → 𝒰 ))\u001b[39m, \u001b[32m0.04347826086956522\u001b[39m),\n",
       "        \u001b[33mWeighted\u001b[39m(\u001b[32m∏(a : M){ eqM(a)(a) }\u001b[39m, \u001b[32m0.04347826086956522\u001b[39m),\n",
       "        \u001b[33mWeighted\u001b[39m(\n",
       "          \u001b[32m∏(a : M){ ∏(b : M){ (eqM(a)(b) → eqM(b)(a)) } }\u001b[39m,\n",
       "          \u001b[32m0.04347826086956522\u001b[39m\n",
       "        ),\n",
       "        \u001b[33mWeighted\u001b[39m(\n",
       "          \u001b[32m∏(a : M){ ∏(b : M){ ∏(c : M){ (eqM(a)(b) → (eqM(b)(c) → eqM(a)(c))) } } }\u001b[39m,\n",
       "          \u001b[32m0.04347826086956522\u001b[39m\n",
       "...\n",
       "defined \u001b[32mfunction\u001b[39m \u001b[36mlp\u001b[39m"
      ]
     },
     "execution_count": 5,
     "metadata": {},
     "output_type": "execute_result"
    }
   ],
   "source": [
    "import monix.execution.Scheduler.Implicits.global\n",
    "val ts = TermState(fullTerms,fullTerms.map(_.typ))\n",
    "val lp0 = LocalProver(ts, tg = TermGenParams.zero.copy(appW = 0.1, unAppW = 0.1)).addGoals(\n",
    "    Lemma1 -> 0.1, Lemma2 -> 0.1, Lemma3 -> 0.1, Lemma4 -> 0.1, Lemma5 -> 0.1, Lemma6 -> 0.1, Thm -> 0.4)\n",
    "def lp(n: Int) = lp0.sharpen(math.pow(2, n))"
   ]
  },
  {
   "cell_type": "code",
   "execution_count": 6,
   "metadata": {},
   "outputs": [
    {
     "data": {
      "text/plain": [
       "defined \u001b[32mfunction\u001b[39m \u001b[36mnslp\u001b[39m\n",
       "\u001b[36mbT\u001b[39m: \u001b[32mmonix\u001b[39m.\u001b[32meval\u001b[39m.\u001b[32mTask\u001b[39m[\u001b[32mOption\u001b[39m[(\u001b[32mInt\u001b[39m, \u001b[32mTermState\u001b[39m, \u001b[32mLocalProverStep\u001b[39m)]] = \u001b[33mAsync\u001b[39m(\n",
       "  <function2>,\n",
       "  false,\n",
       "  true,\n",
       "  true\n",
       ")"
      ]
     },
     "execution_count": 6,
     "metadata": {},
     "output_type": "execute_result"
    }
   ],
   "source": [
    "def nslp(n: Int) = {\n",
    "    val lpc = lp(n)\n",
    "     lpc.nextState.map{ns => (n, ns, lpc)}\n",
    "}\n",
    "val bT = Utils.bestTask((1 to 30).map(nslp)).memoize"
   ]
  },
  {
   "cell_type": "markdown",
   "metadata": {},
   "source": [
    "We have set up a task that refines up to timeout. We will run this asynchronously, and then use the final state."
   ]
  },
  {
   "cell_type": "code",
   "execution_count": 7,
   "metadata": {},
   "outputs": [
    {
     "data": {
      "text/html": [
       "<div class=\"jp-RenderedText\">\n",
       "<pre><code><span style=\"color: rgb(0, 187, 0)\"><span class=\"ansi-green-fg\">import </span></span><span style=\"color: rgb(0, 187, 187)\"><span class=\"ansi-cyan-fg\">monix.execution.Scheduler.Implicits.global\n",
       "</span></span>\n",
       "<span style=\"color: rgb(0, 187, 187)\"><span class=\"ansi-cyan-fg\">bF</span></span>: <span style=\"color: rgb(0, 187, 0)\"><span class=\"ansi-green-fg\">monix</span></span>.<span style=\"color: rgb(0, 187, 0)\"><span class=\"ansi-green-fg\">execution</span></span>.<span style=\"color: rgb(0, 187, 0)\"><span class=\"ansi-green-fg\">CancelableFuture</span></span>[<span style=\"color: rgb(0, 187, 0)\"><span class=\"ansi-green-fg\">Option</span></span>[(<span style=\"color: rgb(0, 187, 0)\"><span class=\"ansi-green-fg\">Int</span></span>, <span style=\"color: rgb(0, 187, 0)\"><span class=\"ansi-green-fg\">TermState</span></span>, <span style=\"color: rgb(0, 187, 0)\"><span class=\"ansi-green-fg\">LocalProverStep</span></span>)]] = <span style=\"color: rgb(0, 187, 0)\"><span class=\"ansi-green-fg\"><style>@keyframes fadein { from { opacity: 0; } to { opacity: 1; } }</style><span style=\"animation: fadein 2s;\"><span style=\"color: yellow\"><span class=\"ansi-yellow-fg\">Success</span></span>(\n",
       "  <span style=\"color: yellow\"><span class=\"ansi-yellow-fg\">Some</span></span>(\n",
       "    (\n",
       "      <span style=\"color: rgb(0, 187, 0)\"><span class=\"ansi-green-fg\">5</span></span>,\n",
       "      <span style=\"color: yellow\"><span class=\"ansi-yellow-fg\">TermState</span></span>(\n",
       "        <span style=\"color: yellow\"><span class=\"ansi-yellow-fg\">FiniteDistribution</span></span>(\n",
       "          <span style=\"color: yellow\"><span class=\"ansi-yellow-fg\">Vector</span></span>(\n",
       "            <span style=\"color: yellow\"><span class=\"ansi-yellow-fg\">Weighted</span></span>(\n",
       "              <span style=\"color: rgb(0, 187, 0)\"><span class=\"ansi-green-fg\">axiom_{(eqM(b)(c) \\to eqM(mul(b)(a))(mul(c)(a)))}(n)(mul(n)(n))(mul(n)(m))</span></span>,\n",
       "              <span style=\"color: rgb(0, 187, 0)\"><span class=\"ansi-green-fg\">8.264409788608568E-7</span></span>\n",
       "            ),\n",
       "            <span style=\"color: yellow\"><span class=\"ansi-yellow-fg\">Weighted</span></span>(\n",
       "              <span style=\"color: rgb(0, 187, 0)\"><span class=\"ansi-green-fg\">axiom_{eqM(mul(a)(mul(a)(b)))(b)}(m)(mul(n)(m))</span></span>,\n",
       "              <span style=\"color: rgb(0, 187, 0)\"><span class=\"ansi-green-fg\">3.345444650272187E-5</span></span>\n",
       "            ),\n",
       "            <span style=\"color: yellow\"><span class=\"ansi-yellow-fg\">Weighted</span></span>(\n",
       "              <span style=\"color: rgb(0, 187, 0)\"><span class=\"ansi-green-fg\">axiom_{(eqM(a)(b) \\to eqM(b)(a))}(m)(mul(m)(n))</span></span>,\n",
       "              <span style=\"color: rgb(0, 187, 0)\"><span class=\"ansi-green-fg\">3.345444650272187E-5</span></span>\n",
       "            ),\n",
       "            <span style=\"color: yellow\"><span class=\"ansi-yellow-fg\">Weighted</span></span>(<span style=\"color: rgb(0, 187, 0)\"><span class=\"ansi-green-fg\">eqM(mul(n)(mul(n)(n)))</span></span>, <span style=\"color: rgb(0, 187, 0)\"><span class=\"ansi-green-fg\">5.030611799188926E-4</span></span>),\n",
       "            <span style=\"color: yellow\"><span class=\"ansi-yellow-fg\">Weighted</span></span>(\n",
       "              <span style=\"color: rgb(0, 187, 0)\"><span class=\"ansi-green-fg\">axiom_{(eqM(a)(b) \\to eqM(b)(a))}(mul(m)(m))(mul(n)(mul(m)(m)))</span></span>,\n",
       "              <span style=\"color: rgb(0, 187, 0)\"><span class=\"ansi-green-fg\">1.7853468008615246E-6</span></span>\n",
       "            ),\n",
       "            <span style=\"color: yellow\"><span class=\"ansi-yellow-fg\">Weighted</span></span>(\n",
       "              <span style=\"color: rgb(0, 187, 0)\"><span class=\"ansi-green-fg\">axiom_{(eqM(b)(c) \\to eqM(mul(b)(a))(mul(c)(a)))}(m)(mul(m)(m))(mul(n)(mul(m)(n)))</span></span>,\n",
       "              <span style=\"color: rgb(0, 187, 0)\"><span class=\"ansi-green-fg\">2.3432676761307517E-7</span></span>\n",
       "            ),\n",
       "            <span style=\"color: yellow\"><span class=\"ansi-yellow-fg\">Weighted</span></span>(\n",
       "              <span style=\"color: rgb(0, 187, 0)\"><span class=\"ansi-green-fg\">axiom_{(eqM(a)(b) \\to eqM(b)(a))}(mul(m)(mul(n)(m)))</span></span>,\n",
       "              <span style=\"color: rgb(0, 187, 0)\"><span class=\"ansi-green-fg\">1.1836733645150416E-4</span></span>\n",
       "            ),\n",
       "            <span style=\"color: yellow\"><span class=\"ansi-yellow-fg\">Weighted</span></span>(\n",
       "              <span style=\"color: rgb(0, 187, 0)\"><span class=\"ansi-green-fg\">axiom_{(eqM(b)(c) \\to eqM(mul(b)(a))(mul(c)(a)))}(m)(mul(m)(n))(mul(m)(n))</span></span>,\n",
       "              <span style=\"color: rgb(0, 187, 0)\"><span class=\"ansi-green-fg\">8.264409788608568E-7</span></span>\n",
       "            ),\n",
       "...</span></span></span></code></pre>\n",
       "</div>"
      ],
      "text/plain": [
       "\u001b[32mimport \u001b[39m\u001b[36mmonix.execution.Scheduler.Implicits.global\n",
       "\u001b[39m\n",
       "\u001b[36mbF\u001b[39m: \u001b[32mmonix\u001b[39m.\u001b[32mexecution\u001b[39m.\u001b[32mCancelableFuture\u001b[39m[\u001b[32mOption\u001b[39m[(\u001b[32mInt\u001b[39m, \u001b[32mTermState\u001b[39m, \u001b[32mLocalProverStep\u001b[39m)]] = \u001b[32m\u001b[33mSuccess\u001b[39m(\n",
       "  \u001b[33mSome\u001b[39m(\n",
       "    (\n",
       "      \u001b[32m5\u001b[39m,\n",
       "      \u001b[33mTermState\u001b[39m(\n",
       "        \u001b[33mFiniteDistribution\u001b[39m(\n",
       "          \u001b[33mVector\u001b[39m(\n",
       "            \u001b[33mWeighted\u001b[39m(\n",
       "              \u001b[32maxiom_{(eqM(b)(c) \\to eqM(mul(b)(a))(mul(c)(a)))}(n)(mul(n)(n))(mul(n)(m))\u001b[39m,\n",
       "              \u001b[32m8.264409788608568E-7\u001b[39m\n",
       "            ),\n",
       "            \u001b[33mWeighted\u001b[39m(\n",
       "              \u001b[32maxiom_{eqM(mul(a)(mul(a)(b)))(b)}(m)(mul(n)(m))\u001b[39m,\n",
       "              \u001b[32m3.345444650272187E-5\u001b[39m\n",
       "            ),\n",
       "            \u001b[33mWeighted\u001b[39m(\n",
       "              \u001b[32maxiom_{(eqM(a)(b) \\to eqM(b)(a))}(m)(mul(m)(n))\u001b[39m,\n",
       "              \u001b[32m3.345444650272187E-5\u001b[39m\n",
       "            ),\n",
       "            \u001b[33mWeighted\u001b[39m(\u001b[32meqM(mul(n)(mul(n)(n)))\u001b[39m, \u001b[32m5.030611799188926E-4\u001b[39m),\n",
       "            \u001b[33mWeighted\u001b[39m(\n",
       "              \u001b[32maxiom_{(eqM(a)(b) \\to eqM(b)(a))}(mul(m)(m))(mul(n)(mul(m)(m)))\u001b[39m,\n",
       "              \u001b[32m1.7853468008615246E-6\u001b[39m\n",
       "            ),\n",
       "            \u001b[33mWeighted\u001b[39m(\n",
       "              \u001b[32maxiom_{(eqM(b)(c) \\to eqM(mul(b)(a))(mul(c)(a)))}(m)(mul(m)(m))(mul(n)(mul(m)(n)))\u001b[39m,\n",
       "              \u001b[32m2.3432676761307517E-7\u001b[39m\n",
       "            ),\n",
       "            \u001b[33mWeighted\u001b[39m(\n",
       "              \u001b[32maxiom_{(eqM(a)(b) \\to eqM(b)(a))}(mul(m)(mul(n)(m)))\u001b[39m,\n",
       "              \u001b[32m1.1836733645150416E-4\u001b[39m\n",
       "            ),\n",
       "            \u001b[33mWeighted\u001b[39m(\n",
       "              \u001b[32maxiom_{(eqM(b)(c) \\to eqM(mul(b)(a))(mul(c)(a)))}(m)(mul(m)(n))(mul(m)(n))\u001b[39m,\n",
       "              \u001b[32m8.264409788608568E-7\u001b[39m\n",
       "            ),\n",
       "...\u001b[39m"
      ]
     },
     "metadata": {},
     "output_type": "display_data"
    }
   ],
   "source": [
    "import monix.execution.Scheduler.Implicits.global\n",
    "val bF = bT.runToFuture"
   ]
  },
  {
   "cell_type": "code",
   "execution_count": 8,
   "metadata": {},
   "outputs": [
    {
     "data": {
      "text/plain": [
       "\u001b[36max\u001b[39m: \u001b[32mTerm\u001b[39m = \u001b[32maxiom_{eqM(mul(mul(a)(b))(b))(a)}\u001b[39m"
      ]
     },
     "execution_count": 8,
     "metadata": {},
     "output_type": "execute_result"
    }
   ],
   "source": [
    "val ax = fullTerms.support.find(_.typ == a ~>: (b~>: eqM(mul(mul(a)(b))(b))(a))).get"
   ]
  },
  {
   "cell_type": "code",
   "execution_count": 9,
   "metadata": {},
   "outputs": [
    {
     "data": {
      "text/plain": [
       "\u001b[36ml\u001b[39m: \u001b[32mTerm\u001b[39m = \u001b[32maxiom_{eqM(mul(mul(a)(b))(b))(a)}(m)(n)\u001b[39m"
      ]
     },
     "execution_count": 9,
     "metadata": {},
     "output_type": "execute_result"
    }
   ],
   "source": [
    "val l = fold(ax)(m, n)"
   ]
  },
  {
   "cell_type": "markdown",
   "metadata": {},
   "source": [
    "We should look for the above instantiation at least."
   ]
  },
  {
   "cell_type": "code",
   "execution_count": 10,
   "metadata": {},
   "outputs": [
    {
     "data": {
      "text/plain": [
       "\u001b[36mnsT\u001b[39m: \u001b[32mmonix\u001b[39m.\u001b[32meval\u001b[39m.\u001b[32mTask\u001b[39m[\u001b[32mTermState\u001b[39m] = \u001b[33mAsync\u001b[39m(<function2>, false, true, true)\n",
       "\u001b[36mlpT\u001b[39m: \u001b[32mmonix\u001b[39m.\u001b[32meval\u001b[39m.\u001b[32mTask\u001b[39m[\u001b[32mLocalProverStep\u001b[39m] = \u001b[33mAsync\u001b[39m(<function2>, false, true, true)"
      ]
     },
     "execution_count": 10,
     "metadata": {},
     "output_type": "execute_result"
    }
   ],
   "source": [
    "val nsT = bT.map(_.get._2).memoize\n",
    "val lpT = bT.map(_.get._3).memoize"
   ]
  },
  {
   "cell_type": "code",
   "execution_count": 11,
   "metadata": {},
   "outputs": [
    {
     "data": {
      "text/plain": [
       "\u001b[36mlwT\u001b[39m: \u001b[32mmonix\u001b[39m.\u001b[32meval\u001b[39m.\u001b[32mTask\u001b[39m[\u001b[32mDouble\u001b[39m] = \u001b[33mMap\u001b[39m(\n",
       "  \u001b[33mAsync\u001b[39m(<function2>, false, true, true),\n",
       "  ammonite.$sess.cmd10$Helper$$Lambda$2868/632564107@65c137e8,\n",
       "  \u001b[32m0\u001b[39m\n",
       ")"
      ]
     },
     "execution_count": 11,
     "metadata": {},
     "output_type": "execute_result"
    }
   ],
   "source": [
    "val lwT = nsT.map(_.terms(l))"
   ]
  },
  {
   "cell_type": "code",
   "execution_count": null,
   "metadata": {},
   "outputs": [],
   "source": [
    "bF.value"
   ]
  },
  {
   "cell_type": "code",
   "execution_count": 12,
   "metadata": {},
   "outputs": [
    {
     "data": {
      "text/html": [
       "<div class=\"jp-RenderedText\">\n",
       "<pre><code><span style=\"color: rgb(0, 187, 187)\"><span class=\"ansi-cyan-fg\">res11</span></span>: <span style=\"color: rgb(0, 187, 0)\"><span class=\"ansi-green-fg\">monix</span></span>.<span style=\"color: rgb(0, 187, 0)\"><span class=\"ansi-green-fg\">execution</span></span>.<span style=\"color: rgb(0, 187, 0)\"><span class=\"ansi-green-fg\">CancelableFuture</span></span>[<span style=\"color: rgb(0, 187, 0)\"><span class=\"ansi-green-fg\">Vector</span></span>[(<span style=\"color: rgb(0, 187, 0)\"><span class=\"ansi-green-fg\">Typ</span></span>[<span style=\"color: rgb(0, 187, 0)\"><span class=\"ansi-green-fg\">Term</span></span>], <span style=\"color: rgb(0, 187, 0)\"><span class=\"ansi-green-fg\">Double</span></span>, <span style=\"color: rgb(0, 187, 0)\"><span class=\"ansi-green-fg\">FiniteDistribution</span></span>[<span style=\"color: rgb(0, 187, 0)\"><span class=\"ansi-green-fg\">Term</span></span>])]] = <span style=\"color: rgb(0, 187, 0)\"><span class=\"ansi-green-fg\"><style>@keyframes fadein { from { opacity: 0; } to { opacity: 1; } }</style><span style=\"animation: fadein 2s;\"><span style=\"color: yellow\"><span class=\"ansi-yellow-fg\">Success</span></span>(\n",
       "  <span style=\"color: yellow\"><span class=\"ansi-yellow-fg\">Vector</span></span>(\n",
       "    (\n",
       "      <span style=\"color: rgb(0, 187, 0)\"><span class=\"ansi-green-fg\">eqM(m)(mul(mul(m)(n))(n))</span></span>,\n",
       "      <span style=\"color: rgb(0, 187, 0)\"><span class=\"ansi-green-fg\">0.1</span></span>,\n",
       "      <span style=\"color: yellow\"><span class=\"ansi-yellow-fg\">FiniteDistribution</span></span>(\n",
       "        <span style=\"color: yellow\"><span class=\"ansi-yellow-fg\">Vector</span></span>(\n",
       "          <span style=\"color: yellow\"><span class=\"ansi-yellow-fg\">Weighted</span></span>(\n",
       "            <span style=\"color: rgb(0, 187, 0)\"><span class=\"ansi-green-fg\">axiom_{(eqM(a)(b) \\to eqM(b)(a))}(mul(mul(m)(n))(n))(m)(axiom_{eqM(mul(mul(a)(b))(b))(a)}(m)(n))</span></span>,\n",
       "            <span style=\"color: rgb(0, 187, 0)\"><span class=\"ansi-green-fg\">1.308845115550632E-5</span></span>\n",
       "          )\n",
       "        )\n",
       "      )\n",
       "    ),\n",
       "    (\n",
       "      <span style=\"color: rgb(0, 187, 0)\"><span class=\"ansi-green-fg\">eqM(mul(mul(mul(m)(n))(m))(m))(mul(m)(n))</span></span>,\n",
       "      <span style=\"color: rgb(0, 187, 0)\"><span class=\"ansi-green-fg\">0.1</span></span>,\n",
       "      <span style=\"color: yellow\"><span class=\"ansi-yellow-fg\">FiniteDistribution</span></span>(\n",
       "        <span style=\"color: yellow\"><span class=\"ansi-yellow-fg\">Vector</span></span>(\n",
       "          <span style=\"color: yellow\"><span class=\"ansi-yellow-fg\">Weighted</span></span>(\n",
       "            <span style=\"color: rgb(0, 187, 0)\"><span class=\"ansi-green-fg\">axiom_{eqM(mul(mul(a)(b))(b))(a)}(mul(m)(n))(m)</span></span>,\n",
       "            <span style=\"color: rgb(0, 187, 0)\"><span class=\"ansi-green-fg\">5.6391832870776E-5</span></span>\n",
       "          )\n",
       "        )\n",
       "      )\n",
       "    )\n",
       "  )\n",
       ")</span></span></span></code></pre>\n",
       "</div>"
      ],
      "text/plain": [
       "\u001b[36mres11\u001b[39m: \u001b[32mmonix\u001b[39m.\u001b[32mexecution\u001b[39m.\u001b[32mCancelableFuture\u001b[39m[\u001b[32mVector\u001b[39m[(\u001b[32mTyp\u001b[39m[\u001b[32mTerm\u001b[39m], \u001b[32mDouble\u001b[39m, \u001b[32mFiniteDistribution\u001b[39m[\u001b[32mTerm\u001b[39m])]] = \u001b[32m\u001b[33mSuccess\u001b[39m(\n",
       "  \u001b[33mVector\u001b[39m(\n",
       "    (\n",
       "      \u001b[32meqM(m)(mul(mul(m)(n))(n))\u001b[39m,\n",
       "      \u001b[32m0.1\u001b[39m,\n",
       "      \u001b[33mFiniteDistribution\u001b[39m(\n",
       "        \u001b[33mVector\u001b[39m(\n",
       "          \u001b[33mWeighted\u001b[39m(\n",
       "            \u001b[32maxiom_{(eqM(a)(b) \\to eqM(b)(a))}(mul(mul(m)(n))(n))(m)(axiom_{eqM(mul(mul(a)(b))(b))(a)}(m)(n))\u001b[39m,\n",
       "            \u001b[32m1.308845115550632E-5\u001b[39m\n",
       "          )\n",
       "        )\n",
       "      )\n",
       "    ),\n",
       "    (\n",
       "      \u001b[32meqM(mul(mul(mul(m)(n))(m))(m))(mul(m)(n))\u001b[39m,\n",
       "      \u001b[32m0.1\u001b[39m,\n",
       "      \u001b[33mFiniteDistribution\u001b[39m(\n",
       "        \u001b[33mVector\u001b[39m(\n",
       "          \u001b[33mWeighted\u001b[39m(\n",
       "            \u001b[32maxiom_{eqM(mul(mul(a)(b))(b))(a)}(mul(m)(n))(m)\u001b[39m,\n",
       "            \u001b[32m5.6391832870776E-5\u001b[39m\n",
       "          )\n",
       "        )\n",
       "      )\n",
       "    )\n",
       "  )\n",
       ")\u001b[39m"
      ]
     },
     "metadata": {},
     "output_type": "display_data"
    }
   ],
   "source": [
    "nsT.map(_.successes).runToFuture"
   ]
  },
  {
   "cell_type": "markdown",
   "metadata": {},
   "source": [
    "## First result\n",
    "\n",
    "We see that two of the lemmas have been proved:\n",
    "\n",
    "- $m = (m * n) * n$ (Lemma 1)\n",
    "- $((m * n) * m) * m = m * n$ (Lemma 4)\n",
    "\n",
    "Both these are simple instantiations, but they get us started. The basic statement missing in Lemma 2. We should look at all the generated lemmas."
   ]
  },
  {
   "cell_type": "code",
   "execution_count": 13,
   "metadata": {},
   "outputs": [
    {
     "data": {
      "text/plain": [
       "\u001b[36mlemmaT\u001b[39m: \u001b[32mmonix\u001b[39m.\u001b[32meval\u001b[39m.\u001b[32mTask\u001b[39m[\u001b[32mVector\u001b[39m[(\u001b[32mTyp\u001b[39m[\u001b[32mTerm\u001b[39m], \u001b[32mDouble\u001b[39m)]] = \u001b[33mAsync\u001b[39m(\n",
       "  <function2>,\n",
       "  false,\n",
       "  true,\n",
       "  true\n",
       ")"
      ]
     },
     "execution_count": 13,
     "metadata": {},
     "output_type": "execute_result"
    }
   ],
   "source": [
    "val lemmaT = lpT.flatMap(_.lemmas).memoize"
   ]
  },
  {
   "cell_type": "code",
   "execution_count": 14,
   "metadata": {},
   "outputs": [
    {
     "data": {
      "text/html": [
       "<div class=\"jp-RenderedText\">\n",
       "<pre><code><span style=\"color: rgb(0, 187, 187)\"><span class=\"ansi-cyan-fg\">res13</span></span>: <span style=\"color: rgb(0, 187, 0)\"><span class=\"ansi-green-fg\">monix</span></span>.<span style=\"color: rgb(0, 187, 0)\"><span class=\"ansi-green-fg\">execution</span></span>.<span style=\"color: rgb(0, 187, 0)\"><span class=\"ansi-green-fg\">CancelableFuture</span></span>[<span style=\"color: rgb(0, 187, 0)\"><span class=\"ansi-green-fg\">Vector</span></span>[(<span style=\"color: rgb(0, 187, 0)\"><span class=\"ansi-green-fg\">Typ</span></span>[<span style=\"color: rgb(0, 187, 0)\"><span class=\"ansi-green-fg\">Term</span></span>], <span style=\"color: rgb(0, 187, 0)\"><span class=\"ansi-green-fg\">Double</span></span>)]] = <span style=\"color: rgb(0, 187, 0)\"><span class=\"ansi-green-fg\"><style>@keyframes fadein { from { opacity: 0; } to { opacity: 1; } }</style><span style=\"animation: fadein 2s;\"><span style=\"color: yellow\"><span class=\"ansi-yellow-fg\">Success</span></span>(\n",
       "  <span style=\"color: yellow\"><span class=\"ansi-yellow-fg\">Vector</span></span>(\n",
       "    (<span style=\"color: rgb(0, 187, 0)\"><span class=\"ansi-green-fg\">eqM(m)(mul(mul(m)(n))(n))</span></span>, <span style=\"color: rgb(0, 187, 0)\"><span class=\"ansi-green-fg\">0.04053003268998755</span></span>),\n",
       "    (<span style=\"color: rgb(0, 187, 0)\"><span class=\"ansi-green-fg\">eqM(mul(mul(mul(m)(n))(m))(m))(mul(m)(n))</span></span>, <span style=\"color: rgb(0, 187, 0)\"><span class=\"ansi-green-fg\">0.040415961992659885</span></span>),\n",
       "    (<span style=\"color: rgb(0, 187, 0)\"><span class=\"ansi-green-fg\">eqM(n)(mul(m)(mul(m)(n)))</span></span>, <span style=\"color: rgb(0, 187, 0)\"><span class=\"ansi-green-fg\">8.780195600751239E-5</span></span>),\n",
       "    (<span style=\"color: rgb(0, 187, 0)\"><span class=\"ansi-green-fg\">eqM(n)(mul(n)(mul(n)(n)))</span></span>, <span style=\"color: rgb(0, 187, 0)\"><span class=\"ansi-green-fg\">8.780195600751239E-5</span></span>),\n",
       "    (<span style=\"color: rgb(0, 187, 0)\"><span class=\"ansi-green-fg\">eqM(m)(mul(n)(mul(n)(m)))</span></span>, <span style=\"color: rgb(0, 187, 0)\"><span class=\"ansi-green-fg\">8.780195600751239E-5</span></span>),\n",
       "    (<span style=\"color: rgb(0, 187, 0)\"><span class=\"ansi-green-fg\">eqM(m)(mul(m)(mul(m)(m)))</span></span>, <span style=\"color: rgb(0, 187, 0)\"><span class=\"ansi-green-fg\">8.780195600751239E-5</span></span>),\n",
       "    (<span style=\"color: rgb(0, 187, 0)\"><span class=\"ansi-green-fg\">eqM(m)(m)</span></span>, <span style=\"color: rgb(0, 187, 0)\"><span class=\"ansi-green-fg\">2.679306298787548E-5</span></span>),\n",
       "    (<span style=\"color: rgb(0, 187, 0)\"><span class=\"ansi-green-fg\">eqM(n)(n)</span></span>, <span style=\"color: rgb(0, 187, 0)\"><span class=\"ansi-green-fg\">2.679306298787548E-5</span></span>),\n",
       "    (<span style=\"color: rgb(0, 187, 0)\"><span class=\"ansi-green-fg\">eqM(mul(n)(n))(mul(n)(n))</span></span>, <span style=\"color: rgb(0, 187, 0)\"><span class=\"ansi-green-fg\">1.1746987585175379E-5</span></span>),\n",
       "    (<span style=\"color: rgb(0, 187, 0)\"><span class=\"ansi-green-fg\">eqM(mul(m)(m))(mul(m)(m))</span></span>, <span style=\"color: rgb(0, 187, 0)\"><span class=\"ansi-green-fg\">1.1746987585175379E-5</span></span>),\n",
       "    (<span style=\"color: rgb(0, 187, 0)\"><span class=\"ansi-green-fg\">eqM(mul(m)(n))(mul(m)(n))</span></span>, <span style=\"color: rgb(0, 187, 0)\"><span class=\"ansi-green-fg\">1.1746987585175379E-5</span></span>),\n",
       "    (<span style=\"color: rgb(0, 187, 0)\"><span class=\"ansi-green-fg\">eqM(mul(n)(m))(mul(n)(m))</span></span>, <span style=\"color: rgb(0, 187, 0)\"><span class=\"ansi-green-fg\">1.1746987585175379E-5</span></span>)\n",
       "  )\n",
       ")</span></span></span></code></pre>\n",
       "</div>"
      ],
      "text/plain": [
       "\u001b[36mres13\u001b[39m: \u001b[32mmonix\u001b[39m.\u001b[32mexecution\u001b[39m.\u001b[32mCancelableFuture\u001b[39m[\u001b[32mVector\u001b[39m[(\u001b[32mTyp\u001b[39m[\u001b[32mTerm\u001b[39m], \u001b[32mDouble\u001b[39m)]] = \u001b[32m\u001b[33mSuccess\u001b[39m(\n",
       "  \u001b[33mVector\u001b[39m(\n",
       "    (\u001b[32meqM(m)(mul(mul(m)(n))(n))\u001b[39m, \u001b[32m0.04053003268998755\u001b[39m),\n",
       "    (\u001b[32meqM(mul(mul(mul(m)(n))(m))(m))(mul(m)(n))\u001b[39m, \u001b[32m0.040415961992659885\u001b[39m),\n",
       "    (\u001b[32meqM(n)(mul(m)(mul(m)(n)))\u001b[39m, \u001b[32m8.780195600751239E-5\u001b[39m),\n",
       "    (\u001b[32meqM(n)(mul(n)(mul(n)(n)))\u001b[39m, \u001b[32m8.780195600751239E-5\u001b[39m),\n",
       "    (\u001b[32meqM(m)(mul(n)(mul(n)(m)))\u001b[39m, \u001b[32m8.780195600751239E-5\u001b[39m),\n",
       "    (\u001b[32meqM(m)(mul(m)(mul(m)(m)))\u001b[39m, \u001b[32m8.780195600751239E-5\u001b[39m),\n",
       "    (\u001b[32meqM(m)(m)\u001b[39m, \u001b[32m2.679306298787548E-5\u001b[39m),\n",
       "    (\u001b[32meqM(n)(n)\u001b[39m, \u001b[32m2.679306298787548E-5\u001b[39m),\n",
       "    (\u001b[32meqM(mul(n)(n))(mul(n)(n))\u001b[39m, \u001b[32m1.1746987585175379E-5\u001b[39m),\n",
       "    (\u001b[32meqM(mul(m)(m))(mul(m)(m))\u001b[39m, \u001b[32m1.1746987585175379E-5\u001b[39m),\n",
       "    (\u001b[32meqM(mul(m)(n))(mul(m)(n))\u001b[39m, \u001b[32m1.1746987585175379E-5\u001b[39m),\n",
       "    (\u001b[32meqM(mul(n)(m))(mul(n)(m))\u001b[39m, \u001b[32m1.1746987585175379E-5\u001b[39m)\n",
       "  )\n",
       ")\u001b[39m"
      ]
     },
     "metadata": {},
     "output_type": "display_data"
    }
   ],
   "source": [
    "lemmaT.runToFuture"
   ]
  },
  {
   "cell_type": "markdown",
   "metadata": {},
   "source": [
    "__Final remarks:__ Even less was generated when there were fewer generators, which is expected as we went to 5 steps both times."
   ]
  }
 ],
 "metadata": {
  "kernelspec": {
   "display_name": "Scala",
   "language": "scala",
   "name": "scala"
  },
  "language_info": {
   "codemirror_mode": "text/x-scala",
   "file_extension": ".scala",
   "mimetype": "text/x-scala",
   "name": "scala",
   "nbconvert_exporter": "script",
   "version": "2.12.8"
  }
 },
 "nbformat": 4,
 "nbformat_minor": 4
}
