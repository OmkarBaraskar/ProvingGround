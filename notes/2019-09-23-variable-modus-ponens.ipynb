{
 "cells": [
  {
   "cell_type": "markdown",
   "metadata": {},
   "source": [
    "## Variables, Modus Ponens\n",
    "\n",
    "The primary goal is to test exporting an expression evaluator with respect to variables, in particular to obtain Modus ponens. A secondary goal is to test having empty initial term distribution"
   ]
  },
  {
   "cell_type": "code",
   "execution_count": 1,
   "metadata": {},
   "outputs": [
    {
     "data": {
      "text/plain": [
       "\u001b[32mimport \u001b[39m\u001b[36m$cp.$                                              \u001b[39m"
      ]
     },
     "execution_count": 1,
     "metadata": {},
     "output_type": "execute_result"
    }
   ],
   "source": [
    "import $cp.bin.`provingground-core-jvm-13d7adec62.fat.jar`"
   ]
  },
  {
   "cell_type": "code",
   "execution_count": 2,
   "metadata": {},
   "outputs": [
    {
     "data": {
      "text/plain": [
       "\u001b[32mimport \u001b[39m\u001b[36mprovingground._ , interface._, HoTT._, learning._ \n",
       "\u001b[39m"
      ]
     },
     "execution_count": 2,
     "metadata": {},
     "output_type": "execute_result"
    }
   ],
   "source": [
    "import provingground._ , interface._, HoTT._, learning._ \n",
    "repl.pprinter() = {\n",
    "  val p = repl.pprinter()\n",
    "  p.copy(\n",
    "    additionalHandlers = p.additionalHandlers.orElse {\n",
    "      translation.FansiShow.fansiHandler\n",
    "    }\n",
    "  )\n",
    "}"
   ]
  },
  {
   "cell_type": "code",
   "execution_count": 3,
   "metadata": {},
   "outputs": [
    {
     "data": {
      "text/plain": [
       "\u001b[36mA\u001b[39m: \u001b[32mTyp\u001b[39m[\u001b[32mTerm\u001b[39m] = \u001b[32mA\u001b[39m\n",
       "\u001b[36mB\u001b[39m: \u001b[32mTyp\u001b[39m[\u001b[32mTerm\u001b[39m] = \u001b[32mB\u001b[39m\n",
       "\u001b[36mMPAB\u001b[39m: \u001b[32mFuncTyp\u001b[39m[\u001b[32mTerm\u001b[39m, \u001b[32mFunc\u001b[39m[\u001b[32mFunc\u001b[39m[\u001b[32mTerm\u001b[39m, \u001b[32mTerm\u001b[39m], \u001b[32mTerm\u001b[39m]] = \u001b[32m(A → ((A → B) → B))\u001b[39m\n",
       "\u001b[36mMP\u001b[39m: \u001b[32mGenFuncTyp\u001b[39m[\u001b[32mTyp\u001b[39m[\u001b[32mTerm\u001b[39m], \u001b[32mFuncLike\u001b[39m[\u001b[32mTyp\u001b[39m[\u001b[32mTerm\u001b[39m], \u001b[32mFunc\u001b[39m[\u001b[32mTerm\u001b[39m, \u001b[32mFunc\u001b[39m[\u001b[32mFunc\u001b[39m[\u001b[32mTerm\u001b[39m, \u001b[32mTerm\u001b[39m], \u001b[32mTerm\u001b[39m]]]] = \u001b[32m∏(A : 𝒰 ){ ∏(B : 𝒰 ){ (A → ((A → B) → B)) } }\u001b[39m"
      ]
     },
     "execution_count": 3,
     "metadata": {},
     "output_type": "execute_result"
    }
   ],
   "source": [
    "val A = \"A\" :: Type\n",
    "val B = \"B\" :: Type\n",
    "val MPAB = A ->: (A ->: B) ->: B\n",
    "val MP = A ~>: (B ~>: MPAB)"
   ]
  },
  {
   "cell_type": "code",
   "execution_count": 4,
   "metadata": {},
   "outputs": [
    {
     "data": {
      "text/plain": [
       "\u001b[36mlp\u001b[39m: \u001b[32mLocalProver\u001b[39m = \u001b[33mLocalProver\u001b[39m(\n",
       "  \u001b[33mTermState\u001b[39m(\n",
       "    \u001b[33mFiniteDistribution\u001b[39m(\u001b[33mVector\u001b[39m()),\n",
       "    \u001b[33mFiniteDistribution\u001b[39m(\u001b[33mVector\u001b[39m(\u001b[33mWeighted\u001b[39m(\u001b[32mA\u001b[39m, \u001b[32m0.5\u001b[39m), \u001b[33mWeighted\u001b[39m(\u001b[32mB\u001b[39m, \u001b[32m0.5\u001b[39m))),\n",
       "    \u001b[33mVector\u001b[39m(),\n",
       "    \u001b[33mFiniteDistribution\u001b[39m(\u001b[33mVector\u001b[39m()),\n",
       "    \u001b[33mFiniteDistribution\u001b[39m(\u001b[33mVector\u001b[39m()),\n",
       "    Empty\n",
       "  ),\n",
       "  \u001b[33mTermGenParams\u001b[39m(\n",
       "    \u001b[32m0.1\u001b[39m,\n",
       "    \u001b[32m0.1\u001b[39m,\n",
       "    \u001b[32m0.1\u001b[39m,\n",
       "    \u001b[32m0.1\u001b[39m,\n",
       "    \u001b[32m0.1\u001b[39m,\n",
       "    \u001b[32m0.05\u001b[39m,\n",
       "    \u001b[32m0.05\u001b[39m,\n",
       "    \u001b[32m0.05\u001b[39m,\n",
       "    \u001b[32m0.0\u001b[39m,\n",
       "    \u001b[32m0.0\u001b[39m,\n",
       "    \u001b[32m0.0\u001b[39m,\n",
       "    \u001b[32m0.0\u001b[39m,\n",
       "    \u001b[32m0.3\u001b[39m,\n",
       "    \u001b[32m0.7\u001b[39m,\n",
       "    \u001b[32m0.5\u001b[39m,\n",
       "    \u001b[32m0.0\u001b[39m,\n",
       "    \u001b[32m0.0\u001b[39m,\n",
       "    \u001b[32m0.0\u001b[39m\n",
       "  ),\n",
       "  \u001b[32m5.0E-5\u001b[39m,\n",
       "  12 minutes,\n",
       "  \u001b[32m1.01\u001b[39m,\n",
       "  \u001b[32m1.0\u001b[39m,\n",
       "  \u001b[32m10000\u001b[39m,\n",
       "  \u001b[32m10\u001b[39m,\n",
       "  \u001b[32m1.0\u001b[39m,\n",
       "  \u001b[32m1.0\u001b[39m\n",
       ")"
      ]
     },
     "execution_count": 4,
     "metadata": {},
     "output_type": "execute_result"
    }
   ],
   "source": [
    "val lp = LocalProver(TermState(FiniteDistribution(), FiniteDistribution.unif(A, B))).sharpen(2)"
   ]
  },
  {
   "cell_type": "code",
   "execution_count": 5,
   "metadata": {},
   "outputs": [
    {
     "data": {
      "text/plain": [
       "\u001b[32mimport \u001b[39m\u001b[36mmonix.execution.Scheduler.Implicits.global\n",
       "\u001b[39m\n",
       "\u001b[36mnsT\u001b[39m: \u001b[32mmonix\u001b[39m.\u001b[32meval\u001b[39m.\u001b[32mTask\u001b[39m[\u001b[32mTermState\u001b[39m] = \u001b[33mAsync\u001b[39m(<function2>, false, true, true)\n",
       "\u001b[36mnsF\u001b[39m: \u001b[32mmonix\u001b[39m.\u001b[32mexecution\u001b[39m.\u001b[32mCancelableFuture\u001b[39m[\u001b[32mTermState\u001b[39m] = \u001b[32m\u001b[33mSuccess\u001b[39m(\n",
       "  \u001b[33mTermState\u001b[39m(\n",
       "    \u001b[33mFiniteDistribution\u001b[39m(\n",
       "      \u001b[33mVector\u001b[39m(\n",
       "        \u001b[33mWeighted\u001b[39m(\u001b[32m(@a : A) ↦ (@a : (B → A)) ↦ @a\u001b[39m, \u001b[32m5.240528464411918E-4\u001b[39m),\n",
       "        \u001b[33mWeighted\u001b[39m(\u001b[32m(@a : A) ↦ (@a : (A → A)) ↦ @a\u001b[39m, \u001b[32m5.240528464411918E-4\u001b[39m),\n",
       "        \u001b[33mWeighted\u001b[39m(\n",
       "          \u001b[32m((`@a_1 , @a_2) : (A → B)×A) ↦ (`@a_1 , @a_2)\u001b[39m,\n",
       "          \u001b[32m3.679356357927782E-4\u001b[39m\n",
       "        ),\n",
       "        \u001b[33mWeighted\u001b[39m(\n",
       "          \u001b[32m((`@a_1 , @a_2) : (B → B)×A) ↦ (`@a_1 , @a_2)\u001b[39m,\n",
       "          \u001b[32m3.679356357927782E-4\u001b[39m\n",
       "        ),\n",
       "        \u001b[33mWeighted\u001b[39m(\n",
       "          \u001b[32m((`@a_1 , @a_2) : (B → A)×A) ↦ (`@a_1 , @a_2)\u001b[39m,\n",
       "          \u001b[32m3.679356357927782E-4\u001b[39m\n",
       "        ),\n",
       "        \u001b[33mWeighted\u001b[39m(\n",
       "          \u001b[32m((`@a_1 , @a_2) : (A → A)×A) ↦ (`@a_1 , @a_2)\u001b[39m,\n",
       "          \u001b[32m3.679356357927782E-4\u001b[39m\n",
       "        ),\n",
       "        \u001b[33mWeighted\u001b[39m(\u001b[32m(@a : B) ↦ (@a : (A → A)) ↦ @a\u001b[39m, \u001b[32m5.24052846441192E-4\u001b[39m),\n",
       "        \u001b[33mWeighted\u001b[39m(\u001b[32m(@a : B) ↦ (@a : (B → A)) ↦ @a\u001b[39m, \u001b[32m5.24052846441192E-4\u001b[39m),\n",
       "        \u001b[33mWeighted\u001b[39m(\u001b[32m(@a : B) ↦ (@a : B) ↦ @a\u001b[39m, \u001b[32m0.02319914182230953\u001b[39m),\n",
       "        \u001b[33mWeighted\u001b[39m(\u001b[32m(@a : B) ↦ (@b : B) ↦ @a\u001b[39m, \u001b[32m0.009524557356703807\u001b[39m),\n",
       "        \u001b[33mWeighted\u001b[39m(\u001b[32m(@a : (B → B)) ↦ (@a : B) ↦ @a\u001b[39m, \u001b[32m9.946073128244794E-4\u001b[39m),\n",
       "        \u001b[33mWeighted\u001b[39m(\u001b[32m(@a : B) ↦ (@a : (A → B)) ↦ @a\u001b[39m, \u001b[32m3.6683699250883445E-4\u001b[39m),\n",
       "        \u001b[33mWeighted\u001b[39m(\u001b[32m(@a : B) ↦ (@a : (B → B)) ↦ @a\u001b[39m, \u001b[32m3.6683699250883445E-4\u001b[39m),\n",
       "        \u001b[33mWeighted\u001b[39m(\u001b[32m(@a : (A → B)) ↦ (@a : B) ↦ @a\u001b[39m, \u001b[32m9.946073128244794E-4\u001b[39m),\n",
       "        \u001b[33mWeighted\u001b[39m(\u001b[32m(@a : (A → (B → B))) ↦ @a\u001b[39m, \u001b[32m6.30746804216191E-4\u001b[39m),\n",
       "        \u001b[33mWeighted\u001b[39m(\u001b[32m(@a : (A → (A → B))) ↦ @a\u001b[39m, \u001b[32m6.30746804216191E-4\u001b[39m),\n",
       "        \u001b[33mWeighted\u001b[39m(\u001b[32m(@a : (B → (A → B))) ↦ @a\u001b[39m, \u001b[32m6.30746804216191E-4\u001b[39m),\n",
       "        \u001b[33mWeighted\u001b[39m(\u001b[32m(@a : (B → (B → B))) ↦ @a\u001b[39m, \u001b[32m6.30746804216191E-4\u001b[39m),\n",
       "        \u001b[33mWeighted\u001b[39m(\u001b[32m(@a : (A → (A → A))) ↦ @a\u001b[39m, \u001b[32m6.30746804216191E-4\u001b[39m),\n",
       "        \u001b[33mWeighted\u001b[39m(\u001b[32m(@a : (A → (B → A))) ↦ @a\u001b[39m, \u001b[32m6.30746804216191E-4\u001b[39m),\n",
       "        \u001b[33mWeighted\u001b[39m(\u001b[32m(@a : (B → (A → A))) ↦ @a\u001b[39m, \u001b[32m6.30746804216191E-4\u001b[39m),\n",
       "        \u001b[33mWeighted\u001b[39m(\u001b[32m(@a : (B → (B → A))) ↦ @a\u001b[39m, \u001b[32m6.30746804216191E-4\u001b[39m),\n",
       "        \u001b[33mWeighted\u001b[39m(\u001b[32m(@a : (A → A)) ↦ (@a : B) ↦ @a\u001b[39m, \u001b[32m9.946073128244794E-4\u001b[39m),\n",
       "...\u001b[39m"
      ]
     },
     "metadata": {},
     "output_type": "display_data"
    }
   ],
   "source": [
    "import monix.execution.Scheduler.Implicits.global\n",
    "val nsT = lp.nextState\n",
    "val nsF = nsT.runToFuture"
   ]
  },
  {
   "cell_type": "code",
   "execution_count": 6,
   "metadata": {},
   "outputs": [
    {
     "data": {
      "text/plain": [
       "\u001b[36mmpABpF\u001b[39m: \u001b[32mmonix\u001b[39m.\u001b[32mexecution\u001b[39m.\u001b[32mCancelableFuture\u001b[39m[\u001b[32mDouble\u001b[39m] = \u001b[32m\u001b[33mSuccess\u001b[39m(\u001b[32m7.529314129678205E-5\u001b[39m)\u001b[39m"
      ]
     },
     "metadata": {},
     "output_type": "display_data"
    }
   ],
   "source": [
    "val mpABpF = nsT.map(_.typs(MPAB)).runToFuture"
   ]
  },
  {
   "cell_type": "markdown",
   "metadata": {},
   "source": [
    "## Interim conclusion\n",
    "\n",
    "The secondary test was passed, but the variable weight is based on distribution in terms (at least in the current version). So we continue testing with a local prover with terms."
   ]
  },
  {
   "cell_type": "code",
   "execution_count": 7,
   "metadata": {},
   "outputs": [
    {
     "data": {
      "text/plain": [
       "\u001b[36mlp0\u001b[39m: \u001b[32mLocalProver\u001b[39m = \u001b[33mLocalProver\u001b[39m(\n",
       "  \u001b[33mTermState\u001b[39m(\n",
       "    \u001b[33mFiniteDistribution\u001b[39m(\u001b[33mVector\u001b[39m(\u001b[33mWeighted\u001b[39m(\u001b[32mA\u001b[39m, \u001b[32m0.5\u001b[39m), \u001b[33mWeighted\u001b[39m(\u001b[32mB\u001b[39m, \u001b[32m0.5\u001b[39m))),\n",
       "    \u001b[33mFiniteDistribution\u001b[39m(\u001b[33mVector\u001b[39m(\u001b[33mWeighted\u001b[39m(\u001b[32mA\u001b[39m, \u001b[32m0.5\u001b[39m), \u001b[33mWeighted\u001b[39m(\u001b[32mB\u001b[39m, \u001b[32m0.5\u001b[39m))),\n",
       "    \u001b[33mVector\u001b[39m(),\n",
       "    \u001b[33mFiniteDistribution\u001b[39m(\u001b[33mVector\u001b[39m()),\n",
       "    \u001b[33mFiniteDistribution\u001b[39m(\u001b[33mVector\u001b[39m()),\n",
       "    Empty\n",
       "  ),\n",
       "  \u001b[33mTermGenParams\u001b[39m(\n",
       "    \u001b[32m0.1\u001b[39m,\n",
       "    \u001b[32m0.1\u001b[39m,\n",
       "    \u001b[32m0.1\u001b[39m,\n",
       "    \u001b[32m0.1\u001b[39m,\n",
       "    \u001b[32m0.1\u001b[39m,\n",
       "    \u001b[32m0.05\u001b[39m,\n",
       "    \u001b[32m0.05\u001b[39m,\n",
       "    \u001b[32m0.05\u001b[39m,\n",
       "    \u001b[32m0.0\u001b[39m,\n",
       "    \u001b[32m0.0\u001b[39m,\n",
       "    \u001b[32m0.0\u001b[39m,\n",
       "    \u001b[32m0.0\u001b[39m,\n",
       "    \u001b[32m0.3\u001b[39m,\n",
       "    \u001b[32m0.7\u001b[39m,\n",
       "    \u001b[32m0.5\u001b[39m,\n",
       "    \u001b[32m0.0\u001b[39m,\n",
       "    \u001b[32m0.0\u001b[39m,\n",
       "    \u001b[32m0.0\u001b[39m\n",
       "  ),\n",
       "  \u001b[32m5.0E-5\u001b[39m,\n",
       "  12 minutes,\n",
       "  \u001b[32m1.01\u001b[39m,\n",
       "  \u001b[32m1.0\u001b[39m,\n",
       "  \u001b[32m10000\u001b[39m,\n",
       "  \u001b[32m10\u001b[39m,\n",
       "  \u001b[32m1.0\u001b[39m,\n",
       "  \u001b[32m1.0\u001b[39m\n",
       ")"
      ]
     },
     "execution_count": 7,
     "metadata": {},
     "output_type": "execute_result"
    }
   ],
   "source": [
    "val lp0 = LocalProver(TermState(FiniteDistribution.unif(A, B), FiniteDistribution.unif(A, B))).sharpen(2)"
   ]
  },
  {
   "cell_type": "code",
   "execution_count": 8,
   "metadata": {},
   "outputs": [
    {
     "data": {
      "text/plain": [
       "\u001b[36mexpEvT\u001b[39m: \u001b[32mmonix\u001b[39m.\u001b[32meval\u001b[39m.\u001b[32mTask\u001b[39m[\u001b[32mExpressionEval\u001b[39m] = \u001b[33mAsync\u001b[39m(<function2>, false, true, true)"
      ]
     },
     "execution_count": 8,
     "metadata": {},
     "output_type": "execute_result"
    }
   ],
   "source": [
    "val expEvT = lp0.expressionEval"
   ]
  },
  {
   "cell_type": "code",
   "execution_count": 9,
   "metadata": {},
   "outputs": [
    {
     "data": {
      "text/plain": [
       "\u001b[36mouterExpEvT\u001b[39m: \u001b[32mmonix\u001b[39m.\u001b[32meval\u001b[39m.\u001b[32mTask\u001b[39m[\u001b[32mExpressionEval\u001b[39m] = \u001b[33mMap\u001b[39m(\n",
       "  \u001b[33mAsync\u001b[39m(<function2>, false, true, true),\n",
       "  ammonite.$sess.cmd8$Helper$$Lambda$2956/2131709603@3eefc81d,\n",
       "  \u001b[32m0\u001b[39m\n",
       ")"
      ]
     },
     "execution_count": 9,
     "metadata": {},
     "output_type": "execute_result"
    }
   ],
   "source": [
    "val outerExpEvT = expEvT.map{ev => ExpressionEval.export(ev, Vector(A, B))}"
   ]
  },
  {
   "cell_type": "code",
   "execution_count": 10,
   "metadata": {},
   "outputs": [
    {
     "data": {
      "text/plain": [
       "\u001b[36moutTypsT\u001b[39m: \u001b[32mmonix\u001b[39m.\u001b[32meval\u001b[39m.\u001b[32mTask\u001b[39m[\u001b[32mFiniteDistribution\u001b[39m[\u001b[32mTyp\u001b[39m[\u001b[32mTerm\u001b[39m]]] = \u001b[33mMap\u001b[39m(\n",
       "  \u001b[33mAsync\u001b[39m(<function2>, false, true, true),\n",
       "  scala.Function1$$Lambda$645/1406680501@15bc1612,\n",
       "  \u001b[32m1\u001b[39m\n",
       ")\n",
       "\u001b[36moutTypsEF\u001b[39m: \u001b[32mmonix\u001b[39m.\u001b[32mexecution\u001b[39m.\u001b[32mCancelableFuture\u001b[39m[\u001b[32mVector\u001b[39m[\u001b[32mWeighted\u001b[39m[\u001b[32mTyp\u001b[39m[\u001b[32mTerm\u001b[39m]]]] = \u001b[32m\u001b[33mSuccess\u001b[39m(\n",
       "  \u001b[33mVector\u001b[39m(\n",
       "    \u001b[33mWeighted\u001b[39m(\u001b[32m(𝒰  → ∏(B : 𝒰 ){ B })\u001b[39m, \u001b[32m6.489213340290813\u001b[39m),\n",
       "    \u001b[33mWeighted\u001b[39m(\u001b[32m(𝒰  → ∏(B : 𝒰 ){ (B → B) })\u001b[39m, \u001b[32m10.005540662633953\u001b[39m),\n",
       "    \u001b[33mWeighted\u001b[39m(\u001b[32m∏(A : 𝒰 ){ ∏(B : 𝒰 ){ (A → B) } }\u001b[39m, \u001b[32m10.175326468300284\u001b[39m),\n",
       "    \u001b[33mWeighted\u001b[39m(\u001b[32m(𝒰  → ∏(B : 𝒰 ){ ((B → B) → B) })\u001b[39m, \u001b[32m11.203247861423154\u001b[39m),\n",
       "    \u001b[33mWeighted\u001b[39m(\u001b[32m∏(A : 𝒰 ){ ∏(B : 𝒰 ){ ((A → B) → B) } }\u001b[39m, \u001b[32m11.20480622357255\u001b[39m),\n",
       "    \u001b[33mWeighted\u001b[39m(\u001b[32m(𝒰  → ∏(B : 𝒰 ){ (((B → B) → B) → B) })\u001b[39m, \u001b[32m11.21119910791957\u001b[39m),\n",
       "    \u001b[33mWeighted\u001b[39m(\n",
       "      \u001b[32m∏(A : 𝒰 ){ ∏(B : 𝒰 ){ (((A → B) → B) → B) } }\u001b[39m,\n",
       "      \u001b[32m11.211205523337371\u001b[39m\n",
       "    ),\n",
       "    \u001b[33mWeighted\u001b[39m(\u001b[32m(𝒰  → ∏(B : 𝒰 ){ ((B×B → B) → B) })\u001b[39m, \u001b[32m11.211244776916596\u001b[39m),\n",
       "    \u001b[33mWeighted\u001b[39m(\u001b[32m∏(A : 𝒰 ){ ∏(B : 𝒰 ){ ((A×B → B) → B) } }\u001b[39m, \u001b[32m11.2112455186309\u001b[39m),\n",
       "    \u001b[33mWeighted\u001b[39m(\u001b[32m∏(A : 𝒰 ){ ∏(B : 𝒰 ){ ((B×A → B) → B) } }\u001b[39m, \u001b[32m11.211258240609004\u001b[39m),\n",
       "    \u001b[33mWeighted\u001b[39m(\u001b[32m∏(A : 𝒰 ){ ∏(B : 𝒰 ){ ((A×A → B) → B) } }\u001b[39m, \u001b[32m11.211258240609004\u001b[39m),\n",
       "    \u001b[33mWeighted\u001b[39m(\n",
       "      \u001b[32m∏(A : 𝒰 ){ ∏(B : 𝒰 ){ (((A → A) → B) → B) } }\u001b[39m,\n",
       "      \u001b[32m11.211258240609004\u001b[39m\n",
       "    ),\n",
       "    \u001b[33mWeighted\u001b[39m(\n",
       "      \u001b[32m∏(A : 𝒰 ){ ∏(B : 𝒰 ){ (((B → A) → B) → B) } }\u001b[39m,\n",
       "      \u001b[32m11.211258240609004\u001b[39m\n",
       "    ),\n",
       "    \u001b[33mWeighted\u001b[39m(\u001b[32m(𝒰  → ∏(B : 𝒰 ){ (B×B → B) })\u001b[39m, \u001b[32m11.214115785449748\u001b[39m),\n",
       "    \u001b[33mWeighted\u001b[39m(\u001b[32m(𝒰  → ∏(B : 𝒰 ){ ((B → B)×B → B) })\u001b[39m, \u001b[32m11.214279119987127\u001b[39m),\n",
       "    \u001b[33mWeighted\u001b[39m(\u001b[32m∏(A : 𝒰 ){ ∏(B : 𝒰 ){ ((A → B)×B → B) } }\u001b[39m, \u001b[32m11.214280706685622\u001b[39m),\n",
       "    \u001b[33mWeighted\u001b[39m(\u001b[32m∏(A : 𝒰 ){ ∏(B : 𝒰 ){ ((A → A)×B → B) } }\u001b[39m, \u001b[32m11.214293803115382\u001b[39m),\n",
       "    \u001b[33mWeighted\u001b[39m(\u001b[32m∏(A : 𝒰 ){ ∏(B : 𝒰 ){ ((B → A)×B → B) } }\u001b[39m, \u001b[32m11.214293803115382\u001b[39m),\n",
       "    \u001b[33mWeighted\u001b[39m(\u001b[32m∏(A : 𝒰 ){ ∏(B : 𝒰 ){ (A×B → B) } }\u001b[39m, \u001b[32m11.214293803115382\u001b[39m),\n",
       "    \u001b[33mWeighted\u001b[39m(\u001b[32m(𝒰  → ∏(B : 𝒰 ){ ((B → (B → B)) → B) })\u001b[39m, \u001b[32m11.216804871163022\u001b[39m),\n",
       "    \u001b[33mWeighted\u001b[39m(\n",
       "      \u001b[32m∏(A : 𝒰 ){ ∏(B : 𝒰 ){ ((B → (A → B)) → B) } }\u001b[39m,\n",
       "      \u001b[32m11.216848465001458\u001b[39m\n",
       "    ),\n",
       "    \u001b[33mWeighted\u001b[39m(\n",
       "      \u001b[32m∏(A : 𝒰 ){ ∏(B : 𝒰 ){ ((A → (B → B)) → B) } }\u001b[39m,\n",
       "      \u001b[32m11.216861299795132\u001b[39m\n",
       "    ),\n",
       "...\u001b[39m"
      ]
     },
     "metadata": {},
     "output_type": "display_data"
    }
   ],
   "source": [
    "val outTypsT = outerExpEvT.map(_.finalTyps)\n",
    "val outTypsEF = outTypsT.map(_.entropyVec).runToFuture"
   ]
  },
  {
   "cell_type": "code",
   "execution_count": 11,
   "metadata": {},
   "outputs": [
    {
     "data": {
      "text/plain": [
       "\u001b[36mmpWtF\u001b[39m: \u001b[32mmonix\u001b[39m.\u001b[32mexecution\u001b[39m.\u001b[32mCancelableFuture\u001b[39m[\u001b[32mDouble\u001b[39m] = \u001b[32m\u001b[33mSuccess\u001b[39m(\u001b[32m2.9485760403456388E-5\u001b[39m)\u001b[39m"
      ]
     },
     "metadata": {},
     "output_type": "display_data"
    }
   ],
   "source": [
    "val mpWtF = outTypsT.map(_(MP)).runToFuture"
   ]
  },
  {
   "cell_type": "markdown",
   "metadata": {},
   "source": [
    "## Conclusions\n",
    "\n",
    "* We do get Modus Ponens - testing both generation and export.\n",
    "* Further (assuming everything is correct), while we need variables to _discover_ modus ponens, once discovered it has reasonable weight.\n",
    "\n",
    "As a coda, we compare the generated final types with the ones generated by equations."
   ]
  },
  {
   "cell_type": "code",
   "execution_count": 12,
   "metadata": {},
   "outputs": [
    {
     "data": {
      "text/plain": [
       "\u001b[36mgExpEvT\u001b[39m: \u001b[32mmonix\u001b[39m.\u001b[32meval\u001b[39m.\u001b[32mTask\u001b[39m[\u001b[32mExpressionEval\u001b[39m] = \u001b[33mMap\u001b[39m(\n",
       "  \u001b[33mAsync\u001b[39m(<function2>, false, true, true),\n",
       "  ammonite.$sess.cmd11$Helper$$Lambda$3208/818383182@7142bd2a,\n",
       "  \u001b[32m0\u001b[39m\n",
       ")"
      ]
     },
     "execution_count": 12,
     "metadata": {},
     "output_type": "execute_result"
    }
   ],
   "source": [
    "val gExpEvT = lp.expressionEval.map(_.generateTyps)"
   ]
  },
  {
   "cell_type": "code",
   "execution_count": 16,
   "metadata": {},
   "outputs": [
    {
     "data": {
      "text/plain": [
       "\u001b[36mmpABgenF\u001b[39m: \u001b[32mmonix\u001b[39m.\u001b[32mexecution\u001b[39m.\u001b[32mCancelableFuture\u001b[39m[\u001b[32mDouble\u001b[39m] = \u001b[32m\u001b[33mSuccess\u001b[39m(\u001b[32m5.373624304933932E-4\u001b[39m)\u001b[39m"
      ]
     },
     "metadata": {},
     "output_type": "display_data"
    }
   ],
   "source": [
    "val mpABgenF = gExpEvT.map(_.finalTyps.safeNormalized(MPAB)).runToFuture"
   ]
  },
  {
   "cell_type": "code",
   "execution_count": 17,
   "metadata": {},
   "outputs": [
    {
     "data": {
      "text/plain": [
       "\u001b[36meF\u001b[39m: \u001b[32mmonix\u001b[39m.\u001b[32mexecution\u001b[39m.\u001b[32mCancelableFuture\u001b[39m[\u001b[32mVector\u001b[39m[\u001b[32mWeighted\u001b[39m[\u001b[32mTyp\u001b[39m[\u001b[32mTerm\u001b[39m]]]] = \u001b[32m\u001b[33mSuccess\u001b[39m(\n",
       "  \u001b[33mVector\u001b[39m(\n",
       "    \u001b[33mWeighted\u001b[39m(\u001b[32mA\u001b[39m, \u001b[32m1.2479275134435854\u001b[39m),\n",
       "    \u001b[33mWeighted\u001b[39m(\u001b[32mB\u001b[39m, \u001b[32m1.2479275134435854\u001b[39m),\n",
       "    \u001b[33mWeighted\u001b[39m(\u001b[32m(B → B)\u001b[39m, \u001b[32m5.790231427845975\u001b[39m),\n",
       "    \u001b[33mWeighted\u001b[39m(\u001b[32m(A → B)\u001b[39m, \u001b[32m5.790231427845975\u001b[39m),\n",
       "    \u001b[33mWeighted\u001b[39m(\u001b[32m(B → A)\u001b[39m, \u001b[32m5.790231427845975\u001b[39m),\n",
       "    \u001b[33mWeighted\u001b[39m(\u001b[32m(A → A)\u001b[39m, \u001b[32m5.790231427845975\u001b[39m),\n",
       "    \u001b[33mWeighted\u001b[39m(\u001b[32mB×A\u001b[39m, \u001b[32m6.837227203385614\u001b[39m),\n",
       "    \u001b[33mWeighted\u001b[39m(\u001b[32mA×A\u001b[39m, \u001b[32m6.837227203385614\u001b[39m),\n",
       "    \u001b[33mWeighted\u001b[39m(\u001b[32mA×B\u001b[39m, \u001b[32m6.837227203385614\u001b[39m),\n",
       "    \u001b[33mWeighted\u001b[39m(\u001b[32mB×B\u001b[39m, \u001b[32m6.837227203385614\u001b[39m),\n",
       "    \u001b[33mWeighted\u001b[39m(\u001b[32m((A → A) → B)\u001b[39m, \u001b[32m9.915104777452932\u001b[39m),\n",
       "    \u001b[33mWeighted\u001b[39m(\u001b[32m((B → A) → B)\u001b[39m, \u001b[32m9.915104777452932\u001b[39m),\n",
       "    \u001b[33mWeighted\u001b[39m(\u001b[32m((A → B) → B)\u001b[39m, \u001b[32m9.915104777452932\u001b[39m),\n",
       "    \u001b[33mWeighted\u001b[39m(\u001b[32m((B → B) → B)\u001b[39m, \u001b[32m9.915104777452932\u001b[39m),\n",
       "    \u001b[33mWeighted\u001b[39m(\u001b[32m((B → B) → A)\u001b[39m, \u001b[32m9.915104777452932\u001b[39m),\n",
       "    \u001b[33mWeighted\u001b[39m(\u001b[32m((A → B) → A)\u001b[39m, \u001b[32m9.915104777452932\u001b[39m),\n",
       "    \u001b[33mWeighted\u001b[39m(\u001b[32m((B → A) → A)\u001b[39m, \u001b[32m9.915104777452932\u001b[39m),\n",
       "    \u001b[33mWeighted\u001b[39m(\u001b[32m((A → A) → A)\u001b[39m, \u001b[32m9.915104777452932\u001b[39m),\n",
       "    \u001b[33mWeighted\u001b[39m(\u001b[32m(B → (B → A))\u001b[39m, \u001b[32m10.112159522733336\u001b[39m),\n",
       "    \u001b[33mWeighted\u001b[39m(\u001b[32m(B → (A → A))\u001b[39m, \u001b[32m10.112159522733336\u001b[39m),\n",
       "    \u001b[33mWeighted\u001b[39m(\u001b[32m(A → (A → A))\u001b[39m, \u001b[32m10.112159522733336\u001b[39m),\n",
       "    \u001b[33mWeighted\u001b[39m(\u001b[32m(A → (B → A))\u001b[39m, \u001b[32m10.112159522733336\u001b[39m),\n",
       "    \u001b[33mWeighted\u001b[39m(\u001b[32m(B → (B → B))\u001b[39m, \u001b[32m10.112159522733336\u001b[39m),\n",
       "    \u001b[33mWeighted\u001b[39m(\u001b[32m(B → (A → B))\u001b[39m, \u001b[32m10.112159522733336\u001b[39m),\n",
       "    \u001b[33mWeighted\u001b[39m(\u001b[32m(A → (B → B))\u001b[39m, \u001b[32m10.112159522733336\u001b[39m),\n",
       "    \u001b[33mWeighted\u001b[39m(\u001b[32m(A → (A → B))\u001b[39m, \u001b[32m10.112159522733336\u001b[39m),\n",
       "    \u001b[33mWeighted\u001b[39m(\u001b[32m(B → A)×B\u001b[39m, \u001b[32m10.449934694589674\u001b[39m),\n",
       "    \u001b[33mWeighted\u001b[39m(\u001b[32m(A → A)×B\u001b[39m, \u001b[32m10.449934694589674\u001b[39m),\n",
       "    \u001b[33mWeighted\u001b[39m(\u001b[32m(B → B)×A\u001b[39m, \u001b[32m10.449934694589674\u001b[39m),\n",
       "    \u001b[33mWeighted\u001b[39m(\u001b[32m(A → B)×A\u001b[39m, \u001b[32m10.449934694589674\u001b[39m),\n",
       "    \u001b[33mWeighted\u001b[39m(\u001b[32m(A → B)×B\u001b[39m, \u001b[32m10.449934694589674\u001b[39m),\n",
       "    \u001b[33mWeighted\u001b[39m(\u001b[32m(B → B)×B\u001b[39m, \u001b[32m10.449934694589674\u001b[39m),\n",
       "    \u001b[33mWeighted\u001b[39m(\u001b[32m(B → A)×A\u001b[39m, \u001b[32m10.449934694589674\u001b[39m),\n",
       "    \u001b[33mWeighted\u001b[39m(\u001b[32m(A → A)×A\u001b[39m, \u001b[32m10.449934694589674\u001b[39m),\n",
       "    \u001b[33mWeighted\u001b[39m(\u001b[32m(B×B → B)\u001b[39m, \u001b[32m10.470319934780035\u001b[39m),\n",
       "    \u001b[33mWeighted\u001b[39m(\u001b[32m(A×B → B)\u001b[39m, \u001b[32m10.470319934780035\u001b[39m),\n",
       "    \u001b[33mWeighted\u001b[39m(\u001b[32m(B×A → B)\u001b[39m, \u001b[32m10.470319934780035\u001b[39m),\n",
       "...\u001b[39m\n",
       "\u001b[36megF\u001b[39m: \u001b[32mmonix\u001b[39m.\u001b[32mexecution\u001b[39m.\u001b[32mCancelableFuture\u001b[39m[\u001b[32mVector\u001b[39m[\u001b[32mWeighted\u001b[39m[\u001b[32mTyp\u001b[39m[\u001b[32mTerm\u001b[39m]]]] = \u001b[32m\u001b[33mSuccess\u001b[39m(\n",
       "  \u001b[33mVector\u001b[39m(\n",
       "    \u001b[33mWeighted\u001b[39m(\u001b[32mA\u001b[39m, \u001b[32m3.2339300375523696\u001b[39m),\n",
       "    \u001b[33mWeighted\u001b[39m(\u001b[32mB\u001b[39m, \u001b[32m3.2339300375523696\u001b[39m),\n",
       "    \u001b[33mWeighted\u001b[39m(\u001b[32m(B → B)\u001b[39m, \u001b[32m7.024857460643389\u001b[39m),\n",
       "    \u001b[33mWeighted\u001b[39m(\u001b[32m(A → B)\u001b[39m, \u001b[32m7.024857460643389\u001b[39m),\n",
       "    \u001b[33mWeighted\u001b[39m(\u001b[32m(B → A)\u001b[39m, \u001b[32m7.024857460643389\u001b[39m),\n",
       "    \u001b[33mWeighted\u001b[39m(\u001b[32m(A → A)\u001b[39m, \u001b[32m7.024857460643389\u001b[39m),\n",
       "    \u001b[33mWeighted\u001b[39m(\u001b[32m((A → B) → B)\u001b[39m, \u001b[32m7.068324710233895\u001b[39m),\n",
       "    \u001b[33mWeighted\u001b[39m(\u001b[32m((B → B) → B)\u001b[39m, \u001b[32m7.068324710233895\u001b[39m),\n",
       "    \u001b[33mWeighted\u001b[39m(\u001b[32m((B → A) → B)\u001b[39m, \u001b[32m7.068324710233895\u001b[39m),\n",
       "    \u001b[33mWeighted\u001b[39m(\u001b[32m((A → A) → B)\u001b[39m, \u001b[32m7.068324710233895\u001b[39m),\n",
       "    \u001b[33mWeighted\u001b[39m(\u001b[32m((A → B) → A)\u001b[39m, \u001b[32m7.068324710233895\u001b[39m),\n",
       "    \u001b[33mWeighted\u001b[39m(\u001b[32m((B → B) → A)\u001b[39m, \u001b[32m7.068324710233895\u001b[39m),\n",
       "    \u001b[33mWeighted\u001b[39m(\u001b[32m((A → A) → A)\u001b[39m, \u001b[32m7.068324710233895\u001b[39m),\n",
       "    \u001b[33mWeighted\u001b[39m(\u001b[32m((B → A) → A)\u001b[39m, \u001b[32m7.068324710233895\u001b[39m),\n",
       "    \u001b[33mWeighted\u001b[39m(\u001b[32m(((B → A) → B) → B)\u001b[39m, \u001b[32m7.06841774975812\u001b[39m),\n",
       "    \u001b[33mWeighted\u001b[39m(\u001b[32m(((A → A) → B) → B)\u001b[39m, \u001b[32m7.06841774975812\u001b[39m),\n",
       "    \u001b[33mWeighted\u001b[39m(\u001b[32m(((A → B) → B) → B)\u001b[39m, \u001b[32m7.06841774975812\u001b[39m),\n",
       "    \u001b[33mWeighted\u001b[39m(\u001b[32m(((B → B) → B) → B)\u001b[39m, \u001b[32m7.06841774975812\u001b[39m),\n",
       "    \u001b[33mWeighted\u001b[39m(\u001b[32m(((B → A) → A) → B)\u001b[39m, \u001b[32m7.06841774975812\u001b[39m),\n",
       "    \u001b[33mWeighted\u001b[39m(\u001b[32m(((A → A) → A) → B)\u001b[39m, \u001b[32m7.06841774975812\u001b[39m),\n",
       "    \u001b[33mWeighted\u001b[39m(\u001b[32m(((A → B) → A) → B)\u001b[39m, \u001b[32m7.06841774975812\u001b[39m),\n",
       "    \u001b[33mWeighted\u001b[39m(\u001b[32m(((B → B) → A) → B)\u001b[39m, \u001b[32m7.06841774975812\u001b[39m),\n",
       "    \u001b[33mWeighted\u001b[39m(\u001b[32m(((B → A) → B) → A)\u001b[39m, \u001b[32m7.06841774975812\u001b[39m),\n",
       "    \u001b[33mWeighted\u001b[39m(\u001b[32m(((A → A) → B) → A)\u001b[39m, \u001b[32m7.06841774975812\u001b[39m),\n",
       "    \u001b[33mWeighted\u001b[39m(\u001b[32m(((A → B) → B) → A)\u001b[39m, \u001b[32m7.06841774975812\u001b[39m),\n",
       "    \u001b[33mWeighted\u001b[39m(\u001b[32m(((B → B) → B) → A)\u001b[39m, \u001b[32m7.06841774975812\u001b[39m),\n",
       "    \u001b[33mWeighted\u001b[39m(\u001b[32m(((B → B) → A) → A)\u001b[39m, \u001b[32m7.06841774975812\u001b[39m),\n",
       "    \u001b[33mWeighted\u001b[39m(\u001b[32m(((A → B) → A) → A)\u001b[39m, \u001b[32m7.06841774975812\u001b[39m),\n",
       "    \u001b[33mWeighted\u001b[39m(\u001b[32m(((A → A) → A) → A)\u001b[39m, \u001b[32m7.06841774975812\u001b[39m),\n",
       "    \u001b[33mWeighted\u001b[39m(\u001b[32m(((B → A) → A) → A)\u001b[39m, \u001b[32m7.06841774975812\u001b[39m),\n",
       "    \u001b[33mWeighted\u001b[39m(\u001b[32m((A×B → A) → B)\u001b[39m, \u001b[32m7.068421108580578\u001b[39m),\n",
       "    \u001b[33mWeighted\u001b[39m(\u001b[32m((B×A → A) → B)\u001b[39m, \u001b[32m7.068421108580578\u001b[39m),\n",
       "    \u001b[33mWeighted\u001b[39m(\u001b[32m((A×A → A) → B)\u001b[39m, \u001b[32m7.068421108580578\u001b[39m),\n",
       "    \u001b[33mWeighted\u001b[39m(\u001b[32m((B×B → A) → B)\u001b[39m, \u001b[32m7.068421108580578\u001b[39m),\n",
       "    \u001b[33mWeighted\u001b[39m(\u001b[32m((B×B → B) → B)\u001b[39m, \u001b[32m7.068421108580578\u001b[39m),\n",
       "    \u001b[33mWeighted\u001b[39m(\u001b[32m((B×A → B) → B)\u001b[39m, \u001b[32m7.068421108580578\u001b[39m),\n",
       "    \u001b[33mWeighted\u001b[39m(\u001b[32m((A×A → B) → B)\u001b[39m, \u001b[32m7.068421108580578\u001b[39m),\n",
       "...\u001b[39m"
      ]
     },
     "metadata": {},
     "output_type": "display_data"
    }
   ],
   "source": [
    "val eF = nsT.map(_.typs.entropyVec).runToFuture\n",
    "val egF = gExpEvT.map(_.finalTyps.safeNormalized.entropyVec).runToFuture"
   ]
  },
  {
   "cell_type": "markdown",
   "metadata": {},
   "source": [
    "### Additional conclusion\n",
    "\n",
    "There seems to be better distribution if we generate from equations (though we have to be careful to normalize)"
   ]
  }
 ],
 "metadata": {
  "kernelspec": {
   "display_name": "Scala",
   "language": "scala",
   "name": "scala"
  },
  "language_info": {
   "codemirror_mode": "text/x-scala",
   "file_extension": ".scala",
   "mimetype": "text/x-scala",
   "name": "scala",
   "nbconvert_exporter": "script",
   "version": "2.12.8"
  }
 },
 "nbformat": 4,
 "nbformat_minor": 2
}
