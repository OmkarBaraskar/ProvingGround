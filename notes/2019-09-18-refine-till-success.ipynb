{
 "cells": [
  {
   "cell_type": "code",
   "execution_count": 1,
   "metadata": {},
   "outputs": [
    {
     "data": {
      "text/plain": [
       "\u001b[32mimport \u001b[39m\u001b[36m$cp.$                                           \u001b[39m"
      ]
     },
     "execution_count": 1,
     "metadata": {},
     "output_type": "execute_result"
    }
   ],
   "source": [
    "import $cp.bin.`provingground-core-jvm-3d48753.fat.jar`"
   ]
  },
  {
   "cell_type": "code",
   "execution_count": 2,
   "metadata": {},
   "outputs": [
    {
     "data": {
      "text/plain": [
       "\u001b[32mimport \u001b[39m\u001b[36mprovingground._ , interface._, HoTT._, learning._ \n",
       "\u001b[39m"
      ]
     },
     "execution_count": 2,
     "metadata": {},
     "output_type": "execute_result"
    }
   ],
   "source": [
    "import provingground._ , interface._, HoTT._, learning._ \n",
    "repl.pprinter() = {\n",
    "  val p = repl.pprinter()\n",
    "  p.copy(\n",
    "    additionalHandlers = p.additionalHandlers.orElse {\n",
    "      translation.FansiShow.fansiHandler\n",
    "    }\n",
    "  )\n",
    "}"
   ]
  },
  {
   "cell_type": "code",
   "execution_count": 3,
   "metadata": {},
   "outputs": [
    {
     "data": {
      "text/plain": [
       "\u001b[36mA\u001b[39m: \u001b[32mTyp\u001b[39m[\u001b[32mTerm\u001b[39m] = \u001b[32mA\u001b[39m\n",
       "\u001b[36mB\u001b[39m: \u001b[32mTyp\u001b[39m[\u001b[32mTerm\u001b[39m] = \u001b[32mB\u001b[39m\n",
       "\u001b[36mMPAB\u001b[39m: \u001b[32mFuncTyp\u001b[39m[\u001b[32mTerm\u001b[39m, \u001b[32mFunc\u001b[39m[\u001b[32mFunc\u001b[39m[\u001b[32mTerm\u001b[39m, \u001b[32mTerm\u001b[39m], \u001b[32mTerm\u001b[39m]] = \u001b[32m(A → ((A → B) → B))\u001b[39m"
      ]
     },
     "execution_count": 3,
     "metadata": {},
     "output_type": "execute_result"
    }
   ],
   "source": [
    "val A = \"A\" :: Type\n",
    "val B = \"B\" :: Type\n",
    "val MPAB = A ->: (A ->: B) ->: B"
   ]
  },
  {
   "cell_type": "code",
   "execution_count": 4,
   "metadata": {},
   "outputs": [
    {
     "data": {
      "text/plain": [
       "defined \u001b[32mfunction\u001b[39m \u001b[36mlp\u001b[39m"
      ]
     },
     "execution_count": 4,
     "metadata": {},
     "output_type": "execute_result"
    }
   ],
   "source": [
    "def lp(n: Int) = LocalProver(TermState(FiniteDistribution.unif(A, B), FiniteDistribution.unif(A, B))).sharpen(math.pow(2, n))"
   ]
  },
  {
   "cell_type": "code",
   "execution_count": 5,
   "metadata": {},
   "outputs": [
    {
     "data": {
      "text/plain": [
       "defined \u001b[32mfunction\u001b[39m \u001b[36mns\u001b[39m"
      ]
     },
     "execution_count": 5,
     "metadata": {},
     "output_type": "execute_result"
    }
   ],
   "source": [
    "def ns(n: Int) = lp(n).nextState.map{ns => n -> ns}"
   ]
  },
  {
   "cell_type": "code",
   "execution_count": 6,
   "metadata": {},
   "outputs": [
    {
     "data": {
      "text/plain": [
       "\u001b[36mbT\u001b[39m: \u001b[32mmonix\u001b[39m.\u001b[32meval\u001b[39m.\u001b[32mTask\u001b[39m[\u001b[32mOption\u001b[39m[(\u001b[32mInt\u001b[39m, \u001b[32mTermState\u001b[39m)]] = \u001b[33mFlatMap\u001b[39m(\n",
       "  \u001b[33mFlatMap\u001b[39m(\n",
       "    \u001b[33mMap\u001b[39m(\n",
       "      \u001b[33mAsync\u001b[39m(<function2>, false, true, true),\n",
       "      ammonite.$sess.cmd4$Helper$$Lambda$2992/1338910073@2ae5f5c4,\n",
       "      \u001b[32m0\u001b[39m\n",
       "    ),\n",
       "    <function1>\n",
       "  ),\n",
       "  provingground.Utils$$$Lambda$2995/258308422@24541db0\n",
       ")"
      ]
     },
     "execution_count": 6,
     "metadata": {},
     "output_type": "execute_result"
    }
   ],
   "source": [
    "val bT = Utils.bestTask[(Int, TermState)]((1 to 30).map(ns), {case (_, s) => s.typs(MPAB) > 0} )"
   ]
  },
  {
   "cell_type": "code",
   "execution_count": 7,
   "metadata": {},
   "outputs": [
    {
     "data": {
      "text/plain": [
       "\u001b[32mimport \u001b[39m\u001b[36mmonix.execution.Scheduler.Implicits.global\n",
       "\u001b[39m\n",
       "\u001b[36mbF\u001b[39m: \u001b[32mmonix\u001b[39m.\u001b[32mexecution\u001b[39m.\u001b[32mCancelableFuture\u001b[39m[\u001b[32mOption\u001b[39m[(\u001b[32mInt\u001b[39m, \u001b[32mTermState\u001b[39m)]] = \u001b[32m\u001b[33mSuccess\u001b[39m(\n",
       "  \u001b[33mSome\u001b[39m(\n",
       "    (\n",
       "      \u001b[32m1\u001b[39m,\n",
       "      \u001b[33mTermState\u001b[39m(\n",
       "        \u001b[33mFiniteDistribution\u001b[39m(\n",
       "          \u001b[33mVector\u001b[39m(\n",
       "            \u001b[33mWeighted\u001b[39m(\u001b[32m(@a : B) ↦ (@b : B) ↦ A\u001b[39m, \u001b[32m5.282996737933199E-4\u001b[39m),\n",
       "            \u001b[33mWeighted\u001b[39m(\u001b[32m(@a : A) ↦ (@b : A) ↦ A\u001b[39m, \u001b[32m5.282996737933199E-4\u001b[39m),\n",
       "            \u001b[33mWeighted\u001b[39m(\u001b[32mA\u001b[39m, \u001b[32m0.4128465718655667\u001b[39m),\n",
       "            \u001b[33mWeighted\u001b[39m(\u001b[32m((@a_1 , @a_2) : B×A) ↦ B\u001b[39m, \u001b[32m5.480350064350246E-4\u001b[39m),\n",
       "            \u001b[33mWeighted\u001b[39m(\u001b[32m(@a : B) ↦ (@b : B) ↦ @b\u001b[39m, \u001b[32m6.468975597469228E-4\u001b[39m),\n",
       "            \u001b[33mWeighted\u001b[39m(\u001b[32m(@a : B) ↦ (@b : B) ↦ @a\u001b[39m, \u001b[32m4.5282829182284584E-4\u001b[39m),\n",
       "            \u001b[33mWeighted\u001b[39m(\u001b[32m(@a : ((B → B) → B)) ↦ B\u001b[39m, \u001b[32m9.133916773917078E-5\u001b[39m),\n",
       "            \u001b[33mWeighted\u001b[39m(\u001b[32m(@a : ((A → B) → B)) ↦ B\u001b[39m, \u001b[32m9.133916773917078E-5\u001b[39m),\n",
       "            \u001b[33mWeighted\u001b[39m(\u001b[32m(@a : (B → B)) ↦ B\u001b[39m, \u001b[32m9.394885824600418E-4\u001b[39m),\n",
       "            \u001b[33mWeighted\u001b[39m(\u001b[32m(@a : (A → B)) ↦ B\u001b[39m, \u001b[32m9.394885824600418E-4\u001b[39m),\n",
       "            \u001b[33mWeighted\u001b[39m(\u001b[32m(@a : ((A → A) → B)) ↦ B\u001b[39m, \u001b[32m9.133916773917078E-5\u001b[39m),\n",
       "            \u001b[33mWeighted\u001b[39m(\u001b[32m(@a : ((B → A) → B)) ↦ B\u001b[39m, \u001b[32m9.133916773917078E-5\u001b[39m),\n",
       "            \u001b[33mWeighted\u001b[39m(\u001b[32m(@a : (A → (B → B))) ↦ @a\u001b[39m, \u001b[32m6.710632731857444E-5\u001b[39m),\n",
       "            \u001b[33mWeighted\u001b[39m(\u001b[32m(@a : (A → (A → B))) ↦ @a\u001b[39m, \u001b[32m6.710632731857444E-5\u001b[39m),\n",
       "            \u001b[33mWeighted\u001b[39m(\u001b[32m(@a : (B → (A → B))) ↦ @a\u001b[39m, \u001b[32m6.710632731857444E-5\u001b[39m),\n",
       "            \u001b[33mWeighted\u001b[39m(\u001b[32m(@a : (B → (B → B))) ↦ @a\u001b[39m, \u001b[32m6.710632731857444E-5\u001b[39m),\n",
       "            \u001b[33mWeighted\u001b[39m(\u001b[32m(@a : (A → (A → A))) ↦ B\u001b[39m, \u001b[32m7.82907152050035E-5\u001b[39m),\n",
       "            \u001b[33mWeighted\u001b[39m(\u001b[32m(@a : (A → (B → A))) ↦ B\u001b[39m, \u001b[32m7.82907152050035E-5\u001b[39m),\n",
       "            \u001b[33mWeighted\u001b[39m(\u001b[32m(@a : (B → (A → A))) ↦ B\u001b[39m, \u001b[32m7.82907152050035E-5\u001b[39m),\n",
       "            \u001b[33mWeighted\u001b[39m(\u001b[32m(@a : (B → (B → A))) ↦ B\u001b[39m, \u001b[32m7.82907152050035E-5\u001b[39m),\n",
       "            \u001b[33mWeighted\u001b[39m(\u001b[32m((@a_1 , @a_2) : A×A) ↦ B\u001b[39m, \u001b[32m5.480350064350246E-4\u001b[39m),\n",
       "            \u001b[33mWeighted\u001b[39m(\u001b[32m(@a : ((B → A) → A)) ↦ A\u001b[39m, \u001b[32m9.133916773917078E-5\u001b[39m),\n",
       "            \u001b[33mWeighted\u001b[39m(\u001b[32m(@a : ((A → A) → A)) ↦ A\u001b[39m, \u001b[32m9.133916773917078E-5\u001b[39m),\n",
       "            \u001b[33mWeighted\u001b[39m(\u001b[32m(@a : (A → A)) ↦ A\u001b[39m, \u001b[32m9.394885824600418E-4\u001b[39m),\n",
       "            \u001b[33mWeighted\u001b[39m(\u001b[32m(@a : (B → A)) ↦ A\u001b[39m, \u001b[32m9.394885824600418E-4\u001b[39m),\n",
       "            \u001b[33mWeighted\u001b[39m(\u001b[32m(@a : ((A → B) → A)) ↦ A\u001b[39m, \u001b[32m9.133916773917078E-5\u001b[39m),\n",
       "            \u001b[33mWeighted\u001b[39m(\u001b[32m(@a : ((B → B) → A)) ↦ A\u001b[39m, \u001b[32m9.133916773917078E-5\u001b[39m),\n",
       "            \u001b[33mWeighted\u001b[39m(\u001b[32m(@a : A) ↦ (@b : A) ↦ B\u001b[39m, \u001b[32m5.282996737933199E-4\u001b[39m),\n",
       "            \u001b[33mWeighted\u001b[39m(\u001b[32m(@a : (A → (A → A))) ↦ @a\u001b[39m, \u001b[32m6.710632731857444E-5\u001b[39m),\n",
       "            \u001b[33mWeighted\u001b[39m(\u001b[32m(@a : (A → (B → A))) ↦ @a\u001b[39m, \u001b[32m6.710632731857444E-5\u001b[39m),\n",
       "            \u001b[33mWeighted\u001b[39m(\u001b[32m(@a : (B → (A → A))) ↦ @a\u001b[39m, \u001b[32m6.710632731857444E-5\u001b[39m),\n",
       "            \u001b[33mWeighted\u001b[39m(\u001b[32m(@a : (B → (B → A))) ↦ @a\u001b[39m, \u001b[32m6.710632731857444E-5\u001b[39m),\n",
       "...\u001b[39m"
      ]
     },
     "metadata": {},
     "output_type": "display_data"
    }
   ],
   "source": [
    "import monix.execution.Scheduler.Implicits.global\n",
    "val bF = bT.runToFuture"
   ]
  },
  {
   "cell_type": "code",
   "execution_count": 8,
   "metadata": {},
   "outputs": [
    {
     "data": {
      "text/plain": [
       "\u001b[36mres7\u001b[39m: \u001b[32mmonix\u001b[39m.\u001b[32mexecution\u001b[39m.\u001b[32mCancelableFuture\u001b[39m[\u001b[32mDouble\u001b[39m] = \u001b[32m\u001b[33mSuccess\u001b[39m(\u001b[32m7.529314129678205E-5\u001b[39m)\u001b[39m"
      ]
     },
     "metadata": {},
     "output_type": "display_data"
    }
   ],
   "source": [
    "bF.map(_.get._2.typs(MPAB))"
   ]
  },
  {
   "cell_type": "code",
   "execution_count": 9,
   "metadata": {},
   "outputs": [
    {
     "data": {
      "text/plain": [
       "\u001b[36mbT2\u001b[39m: \u001b[32mmonix\u001b[39m.\u001b[32meval\u001b[39m.\u001b[32mTask\u001b[39m[\u001b[32mOption\u001b[39m[(\u001b[32mInt\u001b[39m, \u001b[32mTermState\u001b[39m)]] = \u001b[33mFlatMap\u001b[39m(\n",
       "  \u001b[33mFlatMap\u001b[39m(\n",
       "    \u001b[33mMap\u001b[39m(\n",
       "      \u001b[33mAsync\u001b[39m(<function2>, false, true, true),\n",
       "      ammonite.$sess.cmd4$Helper$$Lambda$2992/1338910073@561b4154,\n",
       "      \u001b[32m0\u001b[39m\n",
       "    ),\n",
       "    <function1>\n",
       "  ),\n",
       "  provingground.Utils$$$Lambda$2995/258308422@2f1e61e0\n",
       ")"
      ]
     },
     "execution_count": 9,
     "metadata": {},
     "output_type": "execute_result"
    }
   ],
   "source": [
    "val bT2 = Utils.bestTask[(Int, TermState)]((-5 to 25).map(ns), {case (_, s) => s.typs(MPAB) > 0} )"
   ]
  },
  {
   "cell_type": "code",
   "execution_count": 10,
   "metadata": {},
   "outputs": [
    {
     "data": {
      "text/plain": [
       "\u001b[36mbF2\u001b[39m: \u001b[32mmonix\u001b[39m.\u001b[32mexecution\u001b[39m.\u001b[32mCancelableFuture\u001b[39m[\u001b[32mOption\u001b[39m[(\u001b[32mInt\u001b[39m, \u001b[32mTermState\u001b[39m)]] = \u001b[32m\u001b[33mSuccess\u001b[39m(\n",
       "  \u001b[33mSome\u001b[39m(\n",
       "    (\n",
       "      \u001b[32m1\u001b[39m,\n",
       "      \u001b[33mTermState\u001b[39m(\n",
       "        \u001b[33mFiniteDistribution\u001b[39m(\n",
       "          \u001b[33mVector\u001b[39m(\n",
       "            \u001b[33mWeighted\u001b[39m(\u001b[32m(@a : B) ↦ (@b : B) ↦ A\u001b[39m, \u001b[32m5.282996737933199E-4\u001b[39m),\n",
       "            \u001b[33mWeighted\u001b[39m(\u001b[32m(@a : A) ↦ (@b : A) ↦ A\u001b[39m, \u001b[32m5.282996737933199E-4\u001b[39m),\n",
       "            \u001b[33mWeighted\u001b[39m(\u001b[32mA\u001b[39m, \u001b[32m0.4128465718655667\u001b[39m),\n",
       "            \u001b[33mWeighted\u001b[39m(\u001b[32m((@a_1 , @a_2) : B×A) ↦ B\u001b[39m, \u001b[32m5.480350064350246E-4\u001b[39m),\n",
       "            \u001b[33mWeighted\u001b[39m(\u001b[32m(@a : B) ↦ (@b : B) ↦ @b\u001b[39m, \u001b[32m6.468975597469228E-4\u001b[39m),\n",
       "            \u001b[33mWeighted\u001b[39m(\u001b[32m(@a : B) ↦ (@b : B) ↦ @a\u001b[39m, \u001b[32m4.5282829182284584E-4\u001b[39m),\n",
       "            \u001b[33mWeighted\u001b[39m(\u001b[32m(@a : ((B → B) → B)) ↦ B\u001b[39m, \u001b[32m9.133916773917078E-5\u001b[39m),\n",
       "            \u001b[33mWeighted\u001b[39m(\u001b[32m(@a : ((A → B) → B)) ↦ B\u001b[39m, \u001b[32m9.133916773917078E-5\u001b[39m),\n",
       "            \u001b[33mWeighted\u001b[39m(\u001b[32m(@a : (B → B)) ↦ B\u001b[39m, \u001b[32m9.394885824600418E-4\u001b[39m),\n",
       "            \u001b[33mWeighted\u001b[39m(\u001b[32m(@a : (A → B)) ↦ B\u001b[39m, \u001b[32m9.394885824600418E-4\u001b[39m),\n",
       "            \u001b[33mWeighted\u001b[39m(\u001b[32m(@a : ((A → A) → B)) ↦ B\u001b[39m, \u001b[32m9.133916773917078E-5\u001b[39m),\n",
       "            \u001b[33mWeighted\u001b[39m(\u001b[32m(@a : ((B → A) → B)) ↦ B\u001b[39m, \u001b[32m9.133916773917078E-5\u001b[39m),\n",
       "            \u001b[33mWeighted\u001b[39m(\u001b[32m(@a : (A → (B → B))) ↦ @a\u001b[39m, \u001b[32m6.710632731857444E-5\u001b[39m),\n",
       "            \u001b[33mWeighted\u001b[39m(\u001b[32m(@a : (A → (A → B))) ↦ @a\u001b[39m, \u001b[32m6.710632731857444E-5\u001b[39m),\n",
       "            \u001b[33mWeighted\u001b[39m(\u001b[32m(@a : (B → (A → B))) ↦ @a\u001b[39m, \u001b[32m6.710632731857444E-5\u001b[39m),\n",
       "            \u001b[33mWeighted\u001b[39m(\u001b[32m(@a : (B → (B → B))) ↦ @a\u001b[39m, \u001b[32m6.710632731857444E-5\u001b[39m),\n",
       "            \u001b[33mWeighted\u001b[39m(\u001b[32m(@a : (A → (A → A))) ↦ B\u001b[39m, \u001b[32m7.82907152050035E-5\u001b[39m),\n",
       "            \u001b[33mWeighted\u001b[39m(\u001b[32m(@a : (A → (B → A))) ↦ B\u001b[39m, \u001b[32m7.82907152050035E-5\u001b[39m),\n",
       "            \u001b[33mWeighted\u001b[39m(\u001b[32m(@a : (B → (A → A))) ↦ B\u001b[39m, \u001b[32m7.82907152050035E-5\u001b[39m),\n",
       "            \u001b[33mWeighted\u001b[39m(\u001b[32m(@a : (B → (B → A))) ↦ B\u001b[39m, \u001b[32m7.82907152050035E-5\u001b[39m),\n",
       "            \u001b[33mWeighted\u001b[39m(\u001b[32m((@a_1 , @a_2) : A×A) ↦ B\u001b[39m, \u001b[32m5.480350064350246E-4\u001b[39m),\n",
       "            \u001b[33mWeighted\u001b[39m(\u001b[32m(@a : ((B → A) → A)) ↦ A\u001b[39m, \u001b[32m9.133916773917078E-5\u001b[39m),\n",
       "            \u001b[33mWeighted\u001b[39m(\u001b[32m(@a : ((A → A) → A)) ↦ A\u001b[39m, \u001b[32m9.133916773917078E-5\u001b[39m),\n",
       "            \u001b[33mWeighted\u001b[39m(\u001b[32m(@a : (A → A)) ↦ A\u001b[39m, \u001b[32m9.394885824600418E-4\u001b[39m),\n",
       "            \u001b[33mWeighted\u001b[39m(\u001b[32m(@a : (B → A)) ↦ A\u001b[39m, \u001b[32m9.394885824600418E-4\u001b[39m),\n",
       "            \u001b[33mWeighted\u001b[39m(\u001b[32m(@a : ((A → B) → A)) ↦ A\u001b[39m, \u001b[32m9.133916773917078E-5\u001b[39m),\n",
       "            \u001b[33mWeighted\u001b[39m(\u001b[32m(@a : ((B → B) → A)) ↦ A\u001b[39m, \u001b[32m9.133916773917078E-5\u001b[39m),\n",
       "            \u001b[33mWeighted\u001b[39m(\u001b[32m(@a : A) ↦ (@b : A) ↦ B\u001b[39m, \u001b[32m5.282996737933199E-4\u001b[39m),\n",
       "            \u001b[33mWeighted\u001b[39m(\u001b[32m(@a : (A → (A → A))) ↦ @a\u001b[39m, \u001b[32m6.710632731857444E-5\u001b[39m),\n",
       "            \u001b[33mWeighted\u001b[39m(\u001b[32m(@a : (A → (B → A))) ↦ @a\u001b[39m, \u001b[32m6.710632731857444E-5\u001b[39m),\n",
       "            \u001b[33mWeighted\u001b[39m(\u001b[32m(@a : (B → (A → A))) ↦ @a\u001b[39m, \u001b[32m6.710632731857444E-5\u001b[39m),\n",
       "            \u001b[33mWeighted\u001b[39m(\u001b[32m(@a : (B → (B → A))) ↦ @a\u001b[39m, \u001b[32m6.710632731857444E-5\u001b[39m),\n",
       "...\u001b[39m"
      ]
     },
     "metadata": {},
     "output_type": "display_data"
    }
   ],
   "source": [
    "val bF2 = bT2.runToFuture"
   ]
  },
  {
   "cell_type": "code",
   "execution_count": null,
   "metadata": {},
   "outputs": [],
   "source": []
  }
 ],
 "metadata": {
  "kernelspec": {
   "display_name": "Scala",
   "language": "scala",
   "name": "scala"
  },
  "language_info": {
   "codemirror_mode": "text/x-scala",
   "file_extension": ".scala",
   "mimetype": "text/x-scala",
   "name": "scala",
   "nbconvert_exporter": "script",
   "version": "2.12.8"
  }
 },
 "nbformat": 4,
 "nbformat_minor": 2
}
